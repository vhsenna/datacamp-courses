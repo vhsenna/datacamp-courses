{
 "cells": [
  {
   "cell_type": "markdown",
   "id": "automated-matrix",
   "metadata": {},
   "source": [
    "## The min-max normalization using .transform()\n",
    "\n",
    "A very common operation is the min-max normalization. It consists in rescaling our value of interest by deducting the minimum value and dividing the result by the difference between the maximum and the minimum value. For example, to rescale student's weight data spanning from 160 pounds to 200 pounds, you subtract 160 from each student's weight and divide the result by 40 (200 - 160).\n",
    "\n",
    "You're going to define and apply the min-max normalization to all the numerical variables in the restaurant data. You will first group the entries by the time the meal took place (Lunch or Dinner) and then apply the normalization to each group separately.\n",
    "\n",
    "Instructions\n",
    "\n",
    "1. Define the min-max normalization using the lambda method.\n",
    "2. Group the data according to the time the meal took place.\n",
    "3. Apply the transformation to the grouped data."
   ]
  },
  {
   "cell_type": "code",
   "execution_count": 3,
   "id": "entire-extraction",
   "metadata": {},
   "outputs": [],
   "source": [
    "# Import pandas\n",
    "import pandas as pd\n",
    "\n",
    "# Import dataset\n",
    "restaurant_data = pd.read_csv('restaurant.csv')"
   ]
  },
  {
   "cell_type": "code",
   "execution_count": 7,
   "id": "labeled-congo",
   "metadata": {},
   "outputs": [
    {
     "data": {
      "text/html": [
       "<div>\n",
       "<style scoped>\n",
       "    .dataframe tbody tr th:only-of-type {\n",
       "        vertical-align: middle;\n",
       "    }\n",
       "\n",
       "    .dataframe tbody tr th {\n",
       "        vertical-align: top;\n",
       "    }\n",
       "\n",
       "    .dataframe thead th {\n",
       "        text-align: right;\n",
       "    }\n",
       "</style>\n",
       "<table border=\"1\" class=\"dataframe\">\n",
       "  <thead>\n",
       "    <tr style=\"text-align: right;\">\n",
       "      <th></th>\n",
       "      <th>total_bill</th>\n",
       "      <th>tip</th>\n",
       "      <th>size</th>\n",
       "    </tr>\n",
       "  </thead>\n",
       "  <tbody>\n",
       "    <tr>\n",
       "      <th>0</th>\n",
       "      <td>0.291579</td>\n",
       "      <td>0.001111</td>\n",
       "      <td>0.2</td>\n",
       "    </tr>\n",
       "    <tr>\n",
       "      <th>1</th>\n",
       "      <td>0.152283</td>\n",
       "      <td>0.073333</td>\n",
       "      <td>0.4</td>\n",
       "    </tr>\n",
       "    <tr>\n",
       "      <th>2</th>\n",
       "      <td>0.375786</td>\n",
       "      <td>0.277778</td>\n",
       "      <td>0.4</td>\n",
       "    </tr>\n",
       "    <tr>\n",
       "      <th>3</th>\n",
       "      <td>0.431713</td>\n",
       "      <td>0.256667</td>\n",
       "      <td>0.2</td>\n",
       "    </tr>\n",
       "    <tr>\n",
       "      <th>4</th>\n",
       "      <td>0.450775</td>\n",
       "      <td>0.290000</td>\n",
       "      <td>0.6</td>\n",
       "    </tr>\n",
       "  </tbody>\n",
       "</table>\n",
       "</div>"
      ],
      "text/plain": [
       "   total_bill       tip  size\n",
       "0    0.291579  0.001111   0.2\n",
       "1    0.152283  0.073333   0.4\n",
       "2    0.375786  0.277778   0.4\n",
       "3    0.431713  0.256667   0.2\n",
       "4    0.450775  0.290000   0.6"
      ]
     },
     "execution_count": 7,
     "metadata": {},
     "output_type": "execute_result"
    }
   ],
   "source": [
    "# Define the min-max transformation\n",
    "min_max_tr = lambda x: (x - x.min()) / (x.max() - x.min())\n",
    "\n",
    "# Group the data according to the time\n",
    "restaurant_grouped = restaurant_data.groupby('time')\n",
    "\n",
    "# Apply the transformation\n",
    "restaurant_min_max_group = restaurant_grouped.transform(min_max_tr)\n",
    "\n",
    "restaurant_min_max_group.head()"
   ]
  },
  {
   "cell_type": "markdown",
   "id": "surprising-homework",
   "metadata": {},
   "source": [
    "## Transforming values to probabilities\n",
    "\n",
    "In this exercise, we will apply a probability distribution function to a pandas DataFrame with group related parameters by transforming the tip variable to probabilities.\n",
    "\n",
    "The transformation will be a exponential transformation. The exponential distribution is defined as\n",
    "\n",
    "![](https://i.imgur.com/XGY1xMB.png)\n",
    "\n",
    "where λ (lambda) is the mean of the group that the observation x belongs to.\n",
    "\n",
    "You're going to apply the exponential distribution transformation to the size of each table in the dataset, after grouping the data according to the time of the day the meal took place. Remember to use each group's mean for the value of λ.\n",
    "\n",
    "In Python, you can use the exponential as `np.exp()` from the NumPy library and the mean value as `.mean()`.\n",
    "\n",
    "Instructions\n",
    "\n",
    "1. Define the exponential distribution transformation `exp_tr`.\n",
    "2. Group the data according to the time the meal took place.\n",
    "3. Apply the transformation to the grouped data."
   ]
  },
  {
   "cell_type": "code",
   "execution_count": 6,
   "id": "static-teaching",
   "metadata": {},
   "outputs": [
    {
     "data": {
      "text/plain": [
       "0    0.135141\n",
       "1    0.017986\n",
       "2    0.000060\n",
       "3    0.000108\n",
       "4    0.000042\n",
       "Name: tip, dtype: float64"
      ]
     },
     "execution_count": 6,
     "metadata": {},
     "output_type": "execute_result"
    }
   ],
   "source": [
    "# Define the exponential transformation\n",
    "exp_tr = lambda x: np.exp(-x.mean()*x) * x.mean()\n",
    "\n",
    "# Group the data according to the time\n",
    "restaurant_grouped = restaurant_data.groupby('time')\n",
    "\n",
    "# Apply the transformation\n",
    "restaurant_exp_group = restaurant_grouped['tip'].transform(exp_tr)\n",
    "\n",
    "restaurant_exp_group.head()"
   ]
  },
  {
   "cell_type": "markdown",
   "id": "requested-intent",
   "metadata": {},
   "source": [
    "## Validation of normalization\n",
    "\n",
    "For this exercise, we will perform a z-score normalization and verify that it was performed correctly.\n",
    "\n",
    "A distinct characteristic of normalized values is that they have a mean equal to zero and standard deviation equal to one.\n",
    "\n",
    "After you apply the normalization transformation, you can group again on the same variable, and then check the mean and the standard deviation of each group.\n",
    "\n",
    "You will apply the normalization transformation to every numeric variable in the `poker_grouped` dataset, which is the `poker_hands` dataset grouped by `Class`.\n",
    "\n",
    "Instructions\n",
    "\n",
    "1. Apply the normalization transformation to the grouped object `poker_grouped`.\n",
    "2. Group `poker_trans` by class and print the mean and standard deviation to validate the normalization was done correctly."
   ]
  },
  {
   "cell_type": "code",
   "execution_count": 10,
   "id": "instrumental-graduate",
   "metadata": {},
   "outputs": [],
   "source": [
    "# Import dataset\n",
    "poker_hands = pd.read_csv('poker_hands.csv')\n",
    "\n",
    "poker_grouped = poker_hands.groupby('Class')"
   ]
  },
  {
   "cell_type": "code",
   "execution_count": 11,
   "id": "reverse-appointment",
   "metadata": {},
   "outputs": [
    {
     "data": {
      "text/html": [
       "<div>\n",
       "<style scoped>\n",
       "    .dataframe tbody tr th:only-of-type {\n",
       "        vertical-align: middle;\n",
       "    }\n",
       "\n",
       "    .dataframe tbody tr th {\n",
       "        vertical-align: top;\n",
       "    }\n",
       "\n",
       "    .dataframe thead th {\n",
       "        text-align: right;\n",
       "    }\n",
       "</style>\n",
       "<table border=\"1\" class=\"dataframe\">\n",
       "  <thead>\n",
       "    <tr style=\"text-align: right;\">\n",
       "      <th></th>\n",
       "      <th>S1</th>\n",
       "      <th>R1</th>\n",
       "      <th>S2</th>\n",
       "      <th>R2</th>\n",
       "      <th>S3</th>\n",
       "      <th>R3</th>\n",
       "      <th>S4</th>\n",
       "      <th>R4</th>\n",
       "      <th>S5</th>\n",
       "      <th>R5</th>\n",
       "    </tr>\n",
       "  </thead>\n",
       "  <tbody>\n",
       "    <tr>\n",
       "      <th>0</th>\n",
       "      <td>-1.380537</td>\n",
       "      <td>0.270364</td>\n",
       "      <td>-1.380537</td>\n",
       "      <td>-0.730297</td>\n",
       "      <td>-1.380537</td>\n",
       "      <td>0.631224</td>\n",
       "      <td>-1.380537</td>\n",
       "      <td>0.350823</td>\n",
       "      <td>-1.380537</td>\n",
       "      <td>-0.724286</td>\n",
       "    </tr>\n",
       "    <tr>\n",
       "      <th>1</th>\n",
       "      <td>-0.613572</td>\n",
       "      <td>0.495666</td>\n",
       "      <td>-0.613572</td>\n",
       "      <td>1.095445</td>\n",
       "      <td>-0.613572</td>\n",
       "      <td>0.039451</td>\n",
       "      <td>-0.613572</td>\n",
       "      <td>0.350823</td>\n",
       "      <td>-0.613572</td>\n",
       "      <td>-0.724286</td>\n",
       "    </tr>\n",
       "    <tr>\n",
       "      <th>2</th>\n",
       "      <td>0.153393</td>\n",
       "      <td>0.720969</td>\n",
       "      <td>0.153393</td>\n",
       "      <td>-0.730297</td>\n",
       "      <td>0.153393</td>\n",
       "      <td>0.631224</td>\n",
       "      <td>0.153393</td>\n",
       "      <td>-1.403293</td>\n",
       "      <td>0.153393</td>\n",
       "      <td>-0.724286</td>\n",
       "    </tr>\n",
       "    <tr>\n",
       "      <th>3</th>\n",
       "      <td>0.920358</td>\n",
       "      <td>0.270364</td>\n",
       "      <td>0.920358</td>\n",
       "      <td>-0.730297</td>\n",
       "      <td>0.920358</td>\n",
       "      <td>-1.735866</td>\n",
       "      <td>0.920358</td>\n",
       "      <td>1.227881</td>\n",
       "      <td>0.920358</td>\n",
       "      <td>1.267500</td>\n",
       "    </tr>\n",
       "    <tr>\n",
       "      <th>4</th>\n",
       "      <td>0.920358</td>\n",
       "      <td>-1.757363</td>\n",
       "      <td>0.920358</td>\n",
       "      <td>1.095445</td>\n",
       "      <td>0.920358</td>\n",
       "      <td>0.433966</td>\n",
       "      <td>0.920358</td>\n",
       "      <td>-0.526235</td>\n",
       "      <td>0.920358</td>\n",
       "      <td>0.905357</td>\n",
       "    </tr>\n",
       "  </tbody>\n",
       "</table>\n",
       "</div>"
      ],
      "text/plain": [
       "         S1        R1        S2        R2        S3        R3        S4  \\\n",
       "0 -1.380537  0.270364 -1.380537 -0.730297 -1.380537  0.631224 -1.380537   \n",
       "1 -0.613572  0.495666 -0.613572  1.095445 -0.613572  0.039451 -0.613572   \n",
       "2  0.153393  0.720969  0.153393 -0.730297  0.153393  0.631224  0.153393   \n",
       "3  0.920358  0.270364  0.920358 -0.730297  0.920358 -1.735866  0.920358   \n",
       "4  0.920358 -1.757363  0.920358  1.095445  0.920358  0.433966  0.920358   \n",
       "\n",
       "         R4        S5        R5  \n",
       "0  0.350823 -1.380537 -0.724286  \n",
       "1  0.350823 -0.613572 -0.724286  \n",
       "2 -1.403293  0.153393 -0.724286  \n",
       "3  1.227881  0.920358  1.267500  \n",
       "4 -0.526235  0.920358  0.905357  "
      ]
     },
     "execution_count": 11,
     "metadata": {},
     "output_type": "execute_result"
    }
   ],
   "source": [
    "zscore = lambda x: (x - x.mean()) / x.std()\n",
    "\n",
    "# Apply the transformation\n",
    "poker_trans = poker_grouped.transform(zscore)\n",
    "\n",
    "poker_trans.head()"
   ]
  },
  {
   "cell_type": "code",
   "execution_count": 13,
   "id": "boring-royalty",
   "metadata": {},
   "outputs": [
    {
     "name": "stdout",
     "output_type": "stream",
     "text": [
      "        S1   R1   S2   R2   S3   R3   S4   R4   S5   R5\n",
      "Class                                                  \n",
      "0     -0.0 -0.0  0.0 -0.0  0.0  0.0  0.0  0.0 -0.0  0.0\n",
      "1      0.0  0.0 -0.0  0.0 -0.0  0.0  0.0  0.0 -0.0  0.0\n",
      "2     -0.0 -0.0  0.0 -0.0 -0.0  0.0  0.0 -0.0 -0.0  0.0\n",
      "3      0.0  0.0  0.0 -0.0 -0.0 -0.0 -0.0 -0.0  0.0 -0.0\n",
      "4     -0.0 -0.0 -0.0 -0.0  0.0 -0.0 -0.0  0.0  0.0  0.0\n",
      "5     -0.0 -0.0 -0.0  0.0 -0.0  0.0 -0.0 -0.0 -0.0  0.0\n",
      "6     -0.0 -0.0 -0.0  0.0  0.0 -0.0  0.0  0.0 -0.0  0.0\n",
      "7      0.0 -0.0 -0.0  0.0 -0.0  0.0  0.0 -0.0 -0.0 -0.0\n",
      "8     -0.0  0.0 -0.0  0.0 -0.0  0.0 -0.0  0.0 -0.0 -0.0\n",
      "9      0.0 -0.0  0.0 -0.0  0.0 -0.0  0.0  0.0  0.0 -0.0 \n",
      "\n",
      "        S1   R1   S2   R2   S3   R3   S4   R4   S5   R5\n",
      "Class                                                  \n",
      "0      1.0  1.0  1.0  1.0  1.0  1.0  1.0  1.0  1.0  1.0\n",
      "1      1.0  1.0  1.0  1.0  1.0  1.0  1.0  1.0  1.0  1.0\n",
      "2      1.0  1.0  1.0  1.0  1.0  1.0  1.0  1.0  1.0  1.0\n",
      "3      1.0  1.0  1.0  1.0  1.0  1.0  1.0  1.0  1.0  1.0\n",
      "4      1.0  1.0  1.0  1.0  1.0  1.0  1.0  1.0  1.0  1.0\n",
      "5      1.0  1.0  1.0  1.0  1.0  1.0  1.0  1.0  1.0  1.0\n",
      "6      1.0  1.0  1.0  1.0  1.0  1.0  1.0  1.0  1.0  1.0\n",
      "7      1.0  1.0  1.0  1.0  1.0  1.0  1.0  1.0  1.0  1.0\n",
      "8      1.0  1.0  1.0  1.0  1.0  1.0  1.0  1.0  1.0  1.0\n",
      "9      1.0  1.0  1.0  1.0  1.0  1.0  1.0  1.0  1.0  1.0\n"
     ]
    }
   ],
   "source": [
    "# Re-group the grouped object\n",
    "poker_regrouped = poker_trans.groupby(poker_hands['Class'])\n",
    "\n",
    "# Print each group's means and standard deviation\n",
    "print(np.round(poker_regrouped.mean(), 3), '\\n')\n",
    "print(poker_regrouped.std())"
   ]
  },
  {
   "cell_type": "markdown",
   "id": "public-great",
   "metadata": {},
   "source": [
    "## When to use transform()?\n",
    "\n",
    "The `.transform()` function applies a function to all members of each group. Which of the following transformations would produce the same results in the whole dataset regardless of groupings?"
   ]
  },
  {
   "cell_type": "markdown",
   "id": "confused-buying",
   "metadata": {},
   "source": [
    "`lambda x: np.random.randint(0,10)`"
   ]
  },
  {
   "cell_type": "markdown",
   "id": "naked-lesson",
   "metadata": {},
   "source": [
    "## Identifying missing values\n",
    "\n",
    "The first step before missing value imputation is to identify if there are missing values in our data, and if so, from which group they arise.\n",
    "\n",
    "For the same `restaurant_data` data you encountered in the lesson, an employee erased by mistake the tips left in 65 tables. The question at stake is how many missing entries came from tables that smokers where present vs tables with no-smokers present.\n",
    "\n",
    "Your task is to group both datasets according to the `smoker` variable, count the number or present values and then calculate the difference.\n",
    "\n",
    "**We're imputing tips to get you to practice the concepts taught in the lesson. From an ethical standpoint, you should not impute financial data in real life, as it could be considered fraud.**\n",
    "\n",
    "Instructions\n",
    "\n",
    "1. Group the data according to smoking status.\n",
    "2. Calculate the number of non-missing values in each group.\n",
    "3. Print the number of missing values in each group."
   ]
  },
  {
   "cell_type": "code",
   "execution_count": 16,
   "id": "sharing-melbourne",
   "metadata": {},
   "outputs": [],
   "source": [
    "# Import dataset\n",
    "restaurant_nan = pd.read_csv('restaurant_nan.csv')"
   ]
  },
  {
   "cell_type": "code",
   "execution_count": 17,
   "id": "realistic-hands",
   "metadata": {},
   "outputs": [
    {
     "data": {
      "text/plain": [
       "smoker\n",
       "No     41\n",
       "Yes    24\n",
       "dtype: int64"
      ]
     },
     "execution_count": 17,
     "metadata": {},
     "output_type": "execute_result"
    }
   ],
   "source": [
    "# Group both objects according to smoke condition\n",
    "restaurant_nan_grouped = restaurant_nan.groupby('smoker')\n",
    "\n",
    "# Store the number of present values\n",
    "restaurant_nan_nval = restaurant_nan_grouped['tip'].count()\n",
    "\n",
    "# Print the group-wise missing entries\n",
    "restaurant_nan_grouped['total_bill'].count() - restaurant_nan_nval"
   ]
  },
  {
   "cell_type": "markdown",
   "id": "broad-gateway",
   "metadata": {},
   "source": [
    "## Missing value imputation\n",
    "\n",
    "As the majority of the real world data contain missing entries, replacing these entries with sensible values can increase the insight you can get from our data.\n",
    "\n",
    "In the restaurant dataset, the \"total_bill\" column has some missing entries, meaning that you have not recorded how much some tables have paid. Your task in this exercise is to replace the missing entries with the **median** value of the amount paid, according to whether the entry was recorded on lunch or dinner (time variable).\n",
    "\n",
    "Instructions\n",
    "\n",
    "1. Define the lambda function that fills missing values with the median.\n",
    "2. Group the data according to the time of each entry.\n",
    "3. Apply and print the pre-defined transformation to impute the missing values in the `restaurant_data` dataset."
   ]
  },
  {
   "cell_type": "code",
   "execution_count": 19,
   "id": "nasty-closer",
   "metadata": {},
   "outputs": [
    {
     "data": {
      "text/html": [
       "<div>\n",
       "<style scoped>\n",
       "    .dataframe tbody tr th:only-of-type {\n",
       "        vertical-align: middle;\n",
       "    }\n",
       "\n",
       "    .dataframe tbody tr th {\n",
       "        vertical-align: top;\n",
       "    }\n",
       "\n",
       "    .dataframe thead th {\n",
       "        text-align: right;\n",
       "    }\n",
       "</style>\n",
       "<table border=\"1\" class=\"dataframe\">\n",
       "  <thead>\n",
       "    <tr style=\"text-align: right;\">\n",
       "      <th></th>\n",
       "      <th>total_bill</th>\n",
       "      <th>tip</th>\n",
       "      <th>size</th>\n",
       "    </tr>\n",
       "  </thead>\n",
       "  <tbody>\n",
       "    <tr>\n",
       "      <th>0</th>\n",
       "      <td>16.99</td>\n",
       "      <td>1.01</td>\n",
       "      <td>2</td>\n",
       "    </tr>\n",
       "    <tr>\n",
       "      <th>1</th>\n",
       "      <td>10.34</td>\n",
       "      <td>1.66</td>\n",
       "      <td>3</td>\n",
       "    </tr>\n",
       "    <tr>\n",
       "      <th>2</th>\n",
       "      <td>21.01</td>\n",
       "      <td>3.50</td>\n",
       "      <td>3</td>\n",
       "    </tr>\n",
       "    <tr>\n",
       "      <th>3</th>\n",
       "      <td>23.68</td>\n",
       "      <td>3.31</td>\n",
       "      <td>2</td>\n",
       "    </tr>\n",
       "    <tr>\n",
       "      <th>4</th>\n",
       "      <td>24.59</td>\n",
       "      <td>3.61</td>\n",
       "      <td>4</td>\n",
       "    </tr>\n",
       "  </tbody>\n",
       "</table>\n",
       "</div>"
      ],
      "text/plain": [
       "   total_bill   tip  size\n",
       "0       16.99  1.01     2\n",
       "1       10.34  1.66     3\n",
       "2       21.01  3.50     3\n",
       "3       23.68  3.31     2\n",
       "4       24.59  3.61     4"
      ]
     },
     "execution_count": 19,
     "metadata": {},
     "output_type": "execute_result"
    }
   ],
   "source": [
    "# Define the lambda function\n",
    "missing_trans = lambda x: x.fillna(x.median())\n",
    "\n",
    "# Group the data according to time\n",
    "restaurant_grouped = restaurant_data.groupby('time')\n",
    "\n",
    "# Apply the transformation\n",
    "restaurant_impute = restaurant_grouped.transform(missing_trans)\n",
    "restaurant_impute.head()"
   ]
  },
  {
   "cell_type": "markdown",
   "id": "turned-holly",
   "metadata": {},
   "source": [
    "## When to use filtration?\n",
    "\n",
    "When applying the `filter()` function on a grouped object, what you **can** use as a criterion for filtering?"
   ]
  },
  {
   "cell_type": "markdown",
   "id": "chief-bunny",
   "metadata": {},
   "source": [
    "- The number of missing values of a feature.\n",
    "- The numerical mean of a feature.\n",
    "- The numerical mean of more than one feature."
   ]
  },
  {
   "cell_type": "markdown",
   "id": "ethical-growth",
   "metadata": {},
   "source": [
    "## Data filtration\n",
    "\n",
    "As you noticed in the video lesson, you may need to filter your data for various reasons.\n",
    "\n",
    "In this exercise, you will use filtering to select a specific part of our DataFrame:\n",
    "\n",
    "- by the number of entries recorded in each day of the week\n",
    "- by the mean amount of money the customers paid to the restaurant each day of the week\n",
    "\n",
    "Instructions\n",
    "\n",
    "1. Create a new DataFrame containing **only** the days when the count of `total_bill` is greater than 40.\n",
    "2. From the `total_bill_40` DataFrame, select only the entries that have a mean `total_bill` greater than $20, grouped by day.\n",
    "3. After applying the `.filter()` operation on `total_bill_20` in Step 2 in the Console, how many entries (rows) does the last DataFrame you created (`total_bill_20`) have?"
   ]
  },
  {
   "cell_type": "code",
   "execution_count": 20,
   "id": "lyric-influence",
   "metadata": {},
   "outputs": [
    {
     "name": "stdout",
     "output_type": "stream",
     "text": [
      "Number of tables where total_bill is greater than $40: 225\n"
     ]
    }
   ],
   "source": [
    "# Filter the days where the count of total_bill is greater than $40\n",
    "total_bill_40 = restaurant_data.groupby('day').filter(lambda x: x['total_bill'].count() > 40)\n",
    "\n",
    "# Print the number of tables where total_bill is greater than $40\n",
    "print('Number of tables where total_bill is greater than $40:', total_bill_40.shape[0])"
   ]
  },
  {
   "cell_type": "code",
   "execution_count": 21,
   "id": "endangered-median",
   "metadata": {},
   "outputs": [
    {
     "name": "stdout",
     "output_type": "stream",
     "text": [
      "Days of the week that have a mean total_bill greater than $20: ['Sun' 'Sat']\n"
     ]
    }
   ],
   "source": [
    "# Select only the entries that have a mean total_bill greater than $20\n",
    "total_bill_20 = total_bill_40.groupby('day').filter(lambda x : x['total_bill'].mean() > 20)\n",
    "\n",
    "# Print days of the week that have a mean total_bill greater than $20\n",
    "print('Days of the week that have a mean total_bill greater than $20:', total_bill_20.day.unique())"
   ]
  },
  {
   "cell_type": "code",
   "execution_count": 23,
   "id": "statewide-hampton",
   "metadata": {},
   "outputs": [
    {
     "data": {
      "text/plain": [
       "(163, 7)"
      ]
     },
     "execution_count": 23,
     "metadata": {},
     "output_type": "execute_result"
    }
   ],
   "source": [
    "total_bill_20.shape"
   ]
  }
 ],
 "metadata": {
  "kernelspec": {
   "display_name": "Python 3",
   "language": "python",
   "name": "python3"
  },
  "language_info": {
   "codemirror_mode": {
    "name": "ipython",
    "version": 3
   },
   "file_extension": ".py",
   "mimetype": "text/x-python",
   "name": "python",
   "nbconvert_exporter": "python",
   "pygments_lexer": "ipython3",
   "version": "3.8.5"
  },
  "toc": {
   "base_numbering": 1,
   "nav_menu": {},
   "number_sections": true,
   "sideBar": true,
   "skip_h1_title": false,
   "title_cell": "Table of Contents",
   "title_sidebar": "Contents",
   "toc_cell": false,
   "toc_position": {},
   "toc_section_display": true,
   "toc_window_display": false
  },
  "varInspector": {
   "cols": {
    "lenName": 16,
    "lenType": 16,
    "lenVar": 40
   },
   "kernels_config": {
    "python": {
     "delete_cmd_postfix": "",
     "delete_cmd_prefix": "del ",
     "library": "var_list.py",
     "varRefreshCmd": "print(var_dic_list())"
    },
    "r": {
     "delete_cmd_postfix": ") ",
     "delete_cmd_prefix": "rm(",
     "library": "var_list.r",
     "varRefreshCmd": "cat(var_dic_list()) "
    }
   },
   "types_to_exclude": [
    "module",
    "function",
    "builtin_function_or_method",
    "instance",
    "_Feature"
   ],
   "window_display": false
  }
 },
 "nbformat": 4,
 "nbformat_minor": 5
}
