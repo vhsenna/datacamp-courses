{
 "cells": [
  {
   "cell_type": "markdown",
   "id": "earned-profit",
   "metadata": {},
   "source": [
    "## Replacing scalar values I\n",
    "\n",
    "In this exercise, we will replace a list of values in our dataset by using the `.replace()` method with another list of desired values.\n",
    "\n",
    "We will apply the functions in the `poker_hands` DataFrame. Remember that in the `poker_hands` DataFrame, each row of columns R1 to R5 represents the rank of each card from a player's poker hand spanning from 1 (Ace) to 13 (King). The Class feature classifies each hand as a category, and the Explanation feature briefly explains each hand.\n",
    "\n",
    "The `poker_hands` DataFrame is already loaded for you, and you can explore the features `Class` and `Explanation`.\n",
    "\n",
    "Instructions\n",
    "\n",
    "1. Replace every hand (row) of the DataFrame listed as Class 1 (One Pair) to -2 and each hand listed as Class 2 (Two Pairs) to -3."
   ]
  },
  {
   "cell_type": "code",
   "execution_count": 2,
   "id": "imposed-volume",
   "metadata": {},
   "outputs": [],
   "source": [
    "# Import pandas\n",
    "import pandas as pd\n",
    "\n",
    "# Import dataset\n",
    "poker_hands = pd.read_csv('poker_hands.csv')"
   ]
  },
  {
   "cell_type": "code",
   "execution_count": 3,
   "id": "superb-makeup",
   "metadata": {},
   "outputs": [
    {
     "name": "stdout",
     "output_type": "stream",
     "text": [
      "       Class      Explanation\n",
      "0          9      Royal flush\n",
      "1          9      Royal flush\n",
      "2          9      Royal flush\n",
      "3          9      Royal flush\n",
      "4          9      Royal flush\n",
      "...      ...              ...\n",
      "25005      0  Nothing in hand\n",
      "25006      0  Nothing in hand\n",
      "25007      0  Nothing in hand\n",
      "25008      0  Nothing in hand\n",
      "25009      0  Nothing in hand\n",
      "\n",
      "[25010 rows x 2 columns]\n"
     ]
    }
   ],
   "source": [
    "# Replace Class 1 to -2 \n",
    "poker_hands['Class'].replace(1, -2, inplace=True)\n",
    "\n",
    "# Replace Class 2 to -3\n",
    "poker_hands['Class'].replace(2, -3, inplace=True)\n",
    "\n",
    "print(poker_hands[['Class', 'Explanation']])"
   ]
  },
  {
   "cell_type": "markdown",
   "id": "conscious-tunnel",
   "metadata": {},
   "source": [
    "## Replace scalar values II\n",
    "\n",
    "As discussed in the video, in a `pandas` DataFrame, it is possible to replace values in a very intuitive way: we locate the position (row and column) in the Dataframe and assign in the new value you want to replace with. In a more `pandas`-ian way, the `.replace()` function is available that performs the same task.\n",
    "\n",
    "You will be using the `names` DataFrame which includes, among others, the most popular names in the US by year, gender and ethnicity.\n",
    "\n",
    "Your task is to replace all the babies that are classified as `FEMALE` to `GIRL` using the following methods:\n",
    "\n",
    "- intuitive scalar replacement\n",
    "- using the `.replace()` function\n",
    "\n",
    "Instructions\n",
    "\n",
    "1. Replace all the babies that are classified as `'FEMALE'` to `'GIRL'` as described above.\n",
    "2. Replace all the babies that are classified as `'FEMALE'` to `'GIRL'` using the `.replace()` function. Set `inplace` to `True` to assign the result back to the original DataFrame.\n",
    "3. Which of the two methods presented in the previous exercises is the most efficient when replacing a scalar value?"
   ]
  },
  {
   "cell_type": "code",
   "execution_count": 6,
   "id": "buried-begin",
   "metadata": {},
   "outputs": [],
   "source": [
    "# Import dataset\n",
    "names = pd.read_csv('names.csv')\n",
    "\n",
    "# Import time\n",
    "import time"
   ]
  },
  {
   "cell_type": "code",
   "execution_count": 8,
   "id": "opened-mentor",
   "metadata": {},
   "outputs": [
    {
     "name": "stdout",
     "output_type": "stream",
     "text": [
      "Time using .loc[]: 0.010024547576904297 sec\n"
     ]
    },
    {
     "name": "stderr",
     "output_type": "stream",
     "text": [
      "/home/victor/.local/lib/python3.8/site-packages/pandas/core/indexing.py:1637: SettingWithCopyWarning: \n",
      "A value is trying to be set on a copy of a slice from a DataFrame\n",
      "\n",
      "See the caveats in the documentation: https://pandas.pydata.org/pandas-docs/stable/user_guide/indexing.html#returning-a-view-versus-a-copy\n",
      "  self._setitem_single_block(indexer, value, name)\n"
     ]
    }
   ],
   "source": [
    "start_time = time.time()\n",
    "\n",
    "# Replace all the entries that has 'FEMALE' as a gender with 'GIRL'\n",
    "names['Gender'].loc[names['Gender'] == 'FEMALE'] = 'GIRL'\n",
    "\n",
    "print(f'Time using .loc[]: {time.time() - start_time} sec')"
   ]
  },
  {
   "cell_type": "code",
   "execution_count": 9,
   "id": "existing-georgia",
   "metadata": {},
   "outputs": [
    {
     "name": "stdout",
     "output_type": "stream",
     "text": [
      "Time using .replace(): 0.002912759780883789 sec\n"
     ]
    }
   ],
   "source": [
    "start_time = time.time()\n",
    "\n",
    "# Replace all the entries that has 'FEMALE' as a gender with 'GIRL'\n",
    "names['Gender'].replace('FEMALE', 'GIRL', inplace=True)\n",
    "\n",
    "print(f'Time using .replace(): {time.time() - start_time} sec')"
   ]
  },
  {
   "cell_type": "markdown",
   "id": "civil-bulgaria",
   "metadata": {},
   "source": [
    "## Replace multiple values I\n",
    "\n",
    "In this exercise, you will apply the `.replace()` function for the task of replacing multiple values with one or more values. You will again use the names dataset which contains, among others, the most popular names in the US by year, gender and Ethnicity.\n",
    "\n",
    "Thus you want to replace all ethnicities classified as **black** or **white** non-hispanics to non-hispanic. Remember, the ethnicities are stated in the dataset as follows: `['BLACK NON HISP', 'BLACK NON HISPANIC', 'WHITE NON HISP' , 'WHITE NON HISPANIC']` and should be replaced to 'NON HISPANIC'.\n",
    "\n",
    "Instructions\n",
    "\n",
    "1. Replace all the ethnicities that are not Hispanic in the dataset to `'NON HISPANIC'` using the `.loc()` indexer.\n",
    "2. Replace all the ethnicities that are not Hispanic in the dataset to `'NON HISPANIC'` using the `.replace()` function."
   ]
  },
  {
   "cell_type": "code",
   "execution_count": 12,
   "id": "unexpected-hungarian",
   "metadata": {},
   "outputs": [
    {
     "name": "stdout",
     "output_type": "stream",
     "text": [
      "Time using .loc[]: 0.015582084655761719 sec\n"
     ]
    },
    {
     "name": "stderr",
     "output_type": "stream",
     "text": [
      "/home/victor/.local/lib/python3.8/site-packages/pandas/core/indexing.py:1637: SettingWithCopyWarning: \n",
      "A value is trying to be set on a copy of a slice from a DataFrame\n",
      "\n",
      "See the caveats in the documentation: https://pandas.pydata.org/pandas-docs/stable/user_guide/indexing.html#returning-a-view-versus-a-copy\n",
      "  self._setitem_single_block(indexer, value, name)\n"
     ]
    }
   ],
   "source": [
    "start_time = time.time()\n",
    "\n",
    "# Replace all non-Hispanic ethnicities with 'NON HISPANIC'\n",
    "names['Ethnicity'].loc[(names['Ethnicity'] == 'BLACK NON HISP') | \n",
    "                       (names['Ethnicity'] == 'BLACK NON HISPANIC') | \n",
    "                       (names['Ethnicity'] == 'WHITE NON HISP') | \n",
    "                       (names['Ethnicity'] == 'WHITE NON HISPANIC')] = 'NON HISPANIC'\n",
    "\n",
    "print(f'Time using .loc[]: {time.time() - start_time} sec')"
   ]
  },
  {
   "cell_type": "code",
   "execution_count": 13,
   "id": "loose-investigation",
   "metadata": {},
   "outputs": [
    {
     "name": "stdout",
     "output_type": "stream",
     "text": [
      "Time using .replace(): 0.0034189224243164062 sec\n"
     ]
    }
   ],
   "source": [
    "start_time = time.time()\n",
    "\n",
    "# Replace all non-Hispanic ethnicities with 'NON HISPANIC'\n",
    "names['Ethnicity'].replace(['BLACK NON HISP', 'BLACK NON HISPANIC', \n",
    "                            'WHITE NON HISP', 'WHITE NON HISPANIC'], 'NON HISPANIC', inplace=True)\n",
    "\n",
    "print(f'Time using .replace(): {time.time() - start_time} sec')"
   ]
  },
  {
   "cell_type": "markdown",
   "id": "little-attribute",
   "metadata": {},
   "source": [
    "## Replace multiple values II\n",
    "\n",
    "As discussed in the video, instead of using the `.replace()` function multiple times to replace multiple values, you can use lists to map the elements you want to replace one to one with those you want to replace them with.\n",
    "\n",
    "As you have seen in our popular names dataset, there are two names for the same ethnicity. We want to standardize the naming of each ethnicity by replacing\n",
    "\n",
    "- `'ASIAN AND PACI'` to `'ASIAN AND PACIFIC ISLANDER'`\n",
    "- `'BLACK NON HISP'` to `'BLACK NON HISPANIC'`\n",
    "- `'WHITE NON HISP'` to `'WHITE NON HISPANIC'`\n",
    "\n",
    "In the DataFrame `names`, you are going to replace all the values on the left by the values on the right.\n",
    "\n",
    "Instructions\n",
    "\n",
    "1. Replace all the ethnicities by their respective alternative, as indicated above."
   ]
  },
  {
   "cell_type": "code",
   "execution_count": 14,
   "id": "progressive-knife",
   "metadata": {},
   "outputs": [
    {
     "name": "stdout",
     "output_type": "stream",
     "text": [
      "Time using .replace(): 0.011382341384887695 sec\n"
     ]
    }
   ],
   "source": [
    "start_time = time.time()\n",
    "\n",
    "# Replace ethnicities as instructed\n",
    "names['Ethnicity'].replace(['ASIAN AND PACI', 'BLACK NON HISP', 'WHITE NON HISP'], \n",
    "                           ['ASIAN AND PACIFIC ISLANDER', 'BLACK NON HISPANIC', 'WHITE NON HISPANIC'], inplace=True)\n",
    "\n",
    "print(f'Time using .replace(): {time.time() - start_time} sec')"
   ]
  },
  {
   "cell_type": "markdown",
   "id": "organic-government",
   "metadata": {},
   "source": [
    "## Replace single values I\n",
    "\n",
    "In this exercise, we will apply the following replacing technique of replacing multiple values using dictionaries on a different dataset.\n",
    "\n",
    "We will apply the functions in the data DataFrame. Each row represents the rank of 5 cards from a playing card deck, spanning from 1 (Ace) to 13 (King) (features R1, R2, R3, R4, R5). The feature 'Class' classifies each row to a category (from 0 to 9) and the feature 'Explanation' gives a brief explanation of what each class represents.\n",
    "\n",
    "The purpose of this exercise is to categorize the two types of flush in the game (`'Royal flush'` and `'Straight flush'`) under the `'Flush'` name.\n",
    "\n",
    "Instructions\n",
    "\n",
    "1. Replace every row of the DataFrame listed as `'Royal flush'` or `'Straight flush'` in the 'Explanation' column to `'Flush'`."
   ]
  },
  {
   "cell_type": "code",
   "execution_count": 24,
   "id": "comparative-letter",
   "metadata": {},
   "outputs": [
    {
     "name": "stdout",
     "output_type": "stream",
     "text": [
      "0    Flush\n",
      "1    Flush\n",
      "2    Flush\n",
      "3    Flush\n",
      "4    Flush\n",
      "Name: Explanation, dtype: object\n"
     ]
    }
   ],
   "source": [
    "# Replace Royal flush or Straight flush to Flush\n",
    "poker_hands.replace({'Royal flush':'Flush', 'Straight flush':'Flush'}, inplace=True)\n",
    "print(poker_hands['Explanation'].head())"
   ]
  },
  {
   "cell_type": "markdown",
   "id": "cathedral-allergy",
   "metadata": {},
   "source": [
    "## Replace single values II\n",
    "\n",
    "For this exercise, we will be using the `names` DataFrame. In this dataset, the column 'Rank' shows the ranking of each name by year. For this exercise, you will use dictionaries to replace the first ranked name of every year as `'FIRST'`, the second name as `'SECOND'` and the third name as `'THIRD'`.\n",
    "\n",
    "You will use dictionaries to replace one single value per key.\n",
    "\n",
    "You can already see the first 5 names of the data, which correspond to the 5 most popular names for all the females belonging to the `'ASIAN AND PACIFIC ISLANDER'` ethnicity in 2011.\n",
    "\n",
    "Instructions\n",
    "\n",
    "1. Replace the ranks, indicated in numbers, by strings, following the pattern given above. Don't hesitate to explore your dataset in the Console after replacing values to see how it changed."
   ]
  },
  {
   "cell_type": "code",
   "execution_count": 28,
   "id": "annual-awareness",
   "metadata": {},
   "outputs": [
    {
     "data": {
      "text/html": [
       "<div>\n",
       "<style scoped>\n",
       "    .dataframe tbody tr th:only-of-type {\n",
       "        vertical-align: middle;\n",
       "    }\n",
       "\n",
       "    .dataframe tbody tr th {\n",
       "        vertical-align: top;\n",
       "    }\n",
       "\n",
       "    .dataframe thead th {\n",
       "        text-align: right;\n",
       "    }\n",
       "</style>\n",
       "<table border=\"1\" class=\"dataframe\">\n",
       "  <thead>\n",
       "    <tr style=\"text-align: right;\">\n",
       "      <th></th>\n",
       "      <th>Year of Birth</th>\n",
       "      <th>Gender</th>\n",
       "      <th>Ethnicity</th>\n",
       "      <th>Child's First Name</th>\n",
       "      <th>Count</th>\n",
       "      <th>Rank</th>\n",
       "    </tr>\n",
       "  </thead>\n",
       "  <tbody>\n",
       "    <tr>\n",
       "      <th>0</th>\n",
       "      <td>2011</td>\n",
       "      <td>GIRL</td>\n",
       "      <td>ASIAN AND PACIFIC ISLANDER</td>\n",
       "      <td>SOPHIA</td>\n",
       "      <td>119</td>\n",
       "      <td>FIRST</td>\n",
       "    </tr>\n",
       "    <tr>\n",
       "      <th>1</th>\n",
       "      <td>2011</td>\n",
       "      <td>GIRL</td>\n",
       "      <td>ASIAN AND PACIFIC ISLANDER</td>\n",
       "      <td>CHLOE</td>\n",
       "      <td>106</td>\n",
       "      <td>SECOND</td>\n",
       "    </tr>\n",
       "    <tr>\n",
       "      <th>2</th>\n",
       "      <td>2011</td>\n",
       "      <td>GIRL</td>\n",
       "      <td>ASIAN AND PACIFIC ISLANDER</td>\n",
       "      <td>EMILY</td>\n",
       "      <td>93</td>\n",
       "      <td>THIRD</td>\n",
       "    </tr>\n",
       "    <tr>\n",
       "      <th>3</th>\n",
       "      <td>2011</td>\n",
       "      <td>GIRL</td>\n",
       "      <td>ASIAN AND PACIFIC ISLANDER</td>\n",
       "      <td>OLIVIA</td>\n",
       "      <td>89</td>\n",
       "      <td>4</td>\n",
       "    </tr>\n",
       "    <tr>\n",
       "      <th>4</th>\n",
       "      <td>2011</td>\n",
       "      <td>GIRL</td>\n",
       "      <td>ASIAN AND PACIFIC ISLANDER</td>\n",
       "      <td>EMMA</td>\n",
       "      <td>75</td>\n",
       "      <td>5</td>\n",
       "    </tr>\n",
       "  </tbody>\n",
       "</table>\n",
       "</div>"
      ],
      "text/plain": [
       "   Year of Birth Gender                   Ethnicity Child's First Name  Count  \\\n",
       "0           2011   GIRL  ASIAN AND PACIFIC ISLANDER             SOPHIA    119   \n",
       "1           2011   GIRL  ASIAN AND PACIFIC ISLANDER              CHLOE    106   \n",
       "2           2011   GIRL  ASIAN AND PACIFIC ISLANDER              EMILY     93   \n",
       "3           2011   GIRL  ASIAN AND PACIFIC ISLANDER             OLIVIA     89   \n",
       "4           2011   GIRL  ASIAN AND PACIFIC ISLANDER               EMMA     75   \n",
       "\n",
       "     Rank  \n",
       "0   FIRST  \n",
       "1  SECOND  \n",
       "2   THIRD  \n",
       "3       4  \n",
       "4       5  "
      ]
     },
     "execution_count": 28,
     "metadata": {},
     "output_type": "execute_result"
    }
   ],
   "source": [
    "# Replace the number rank by a string\n",
    "names['Rank'].replace({1:'FIRST', 2:'SECOND', 3:'THIRD'}, inplace=True)\n",
    "names.head()"
   ]
  },
  {
   "cell_type": "markdown",
   "id": "generic-salmon",
   "metadata": {},
   "source": [
    "## Replace multiple values III\n",
    "\n",
    "As you saw in the video, you can use dictionaries to replace multiple values with just one value, even from multiple columns. To show the usefulness of replacing with dictionaries, you will use the `names` dataset one more time.\n",
    "\n",
    "In this dataset, the column 'Rank' shows which rank each name reached every year. You will change the rank of the first three ranked names of every year to `'MEDAL'` and those from 4th and 5th place to `'ALMOST MEDAL'`.\n",
    "\n",
    "You can already see the first 5 names of the data, which correspond to the 5 most popular names for all the females belonging to the `'ASIAN AND PACIFIC ISLANDER'` ethnicity in 2011.\n",
    "\n",
    "Instructions\n",
    "\n",
    "1. Replace the first three ranked names of every year to `'MEDAL'`.\n",
    "2. Replace the fourth and fifth ranked names of every year to `'ALMOST MEDAL'`."
   ]
  },
  {
   "cell_type": "code",
   "execution_count": 32,
   "id": "distributed-sodium",
   "metadata": {},
   "outputs": [
    {
     "data": {
      "text/html": [
       "<div>\n",
       "<style scoped>\n",
       "    .dataframe tbody tr th:only-of-type {\n",
       "        vertical-align: middle;\n",
       "    }\n",
       "\n",
       "    .dataframe tbody tr th {\n",
       "        vertical-align: top;\n",
       "    }\n",
       "\n",
       "    .dataframe thead th {\n",
       "        text-align: right;\n",
       "    }\n",
       "</style>\n",
       "<table border=\"1\" class=\"dataframe\">\n",
       "  <thead>\n",
       "    <tr style=\"text-align: right;\">\n",
       "      <th></th>\n",
       "      <th>Year of Birth</th>\n",
       "      <th>Gender</th>\n",
       "      <th>Ethnicity</th>\n",
       "      <th>Child's First Name</th>\n",
       "      <th>Count</th>\n",
       "      <th>Rank</th>\n",
       "    </tr>\n",
       "  </thead>\n",
       "  <tbody>\n",
       "    <tr>\n",
       "      <th>0</th>\n",
       "      <td>2011</td>\n",
       "      <td>GIRL</td>\n",
       "      <td>ASIAN AND PACIFIC ISLANDER</td>\n",
       "      <td>SOPHIA</td>\n",
       "      <td>119</td>\n",
       "      <td>MEDAL</td>\n",
       "    </tr>\n",
       "    <tr>\n",
       "      <th>1</th>\n",
       "      <td>2011</td>\n",
       "      <td>GIRL</td>\n",
       "      <td>ASIAN AND PACIFIC ISLANDER</td>\n",
       "      <td>CHLOE</td>\n",
       "      <td>106</td>\n",
       "      <td>MEDAL</td>\n",
       "    </tr>\n",
       "    <tr>\n",
       "      <th>2</th>\n",
       "      <td>2011</td>\n",
       "      <td>GIRL</td>\n",
       "      <td>ASIAN AND PACIFIC ISLANDER</td>\n",
       "      <td>EMILY</td>\n",
       "      <td>93</td>\n",
       "      <td>MEDAL</td>\n",
       "    </tr>\n",
       "    <tr>\n",
       "      <th>3</th>\n",
       "      <td>2011</td>\n",
       "      <td>GIRL</td>\n",
       "      <td>ASIAN AND PACIFIC ISLANDER</td>\n",
       "      <td>OLIVIA</td>\n",
       "      <td>89</td>\n",
       "      <td>ALMOST MEDAL</td>\n",
       "    </tr>\n",
       "    <tr>\n",
       "      <th>4</th>\n",
       "      <td>2011</td>\n",
       "      <td>GIRL</td>\n",
       "      <td>ASIAN AND PACIFIC ISLANDER</td>\n",
       "      <td>EMMA</td>\n",
       "      <td>75</td>\n",
       "      <td>ALMOST MEDAL</td>\n",
       "    </tr>\n",
       "  </tbody>\n",
       "</table>\n",
       "</div>"
      ],
      "text/plain": [
       "   Year of Birth Gender                   Ethnicity Child's First Name  Count  \\\n",
       "0           2011   GIRL  ASIAN AND PACIFIC ISLANDER             SOPHIA    119   \n",
       "1           2011   GIRL  ASIAN AND PACIFIC ISLANDER              CHLOE    106   \n",
       "2           2011   GIRL  ASIAN AND PACIFIC ISLANDER              EMILY     93   \n",
       "3           2011   GIRL  ASIAN AND PACIFIC ISLANDER             OLIVIA     89   \n",
       "4           2011   GIRL  ASIAN AND PACIFIC ISLANDER               EMMA     75   \n",
       "\n",
       "           Rank  \n",
       "0         MEDAL  \n",
       "1         MEDAL  \n",
       "2         MEDAL  \n",
       "3  ALMOST MEDAL  \n",
       "4  ALMOST MEDAL  "
      ]
     },
     "execution_count": 32,
     "metadata": {},
     "output_type": "execute_result"
    }
   ],
   "source": [
    "# Replace the rank of the first three ranked names to 'MEDAL'\n",
    "names.replace({'Rank': {1:'MEDAL', 2:'MEDAL', 3:'MEDAL'}}, inplace=True)\n",
    "\n",
    "# Replace the rank of the 4th and 5th ranked names to 'ALMOST MEDAL'\n",
    "names.replace({'Rank': {4:'ALMOST MEDAL', 5:'ALMOST MEDAL'}}, inplace=True)\n",
    "\n",
    "names.head()"
   ]
  },
  {
   "cell_type": "markdown",
   "id": "senior-analysis",
   "metadata": {},
   "source": [
    "## Most efficient method for scalar replacement\n",
    "\n",
    "If you want to replace a scalar value with another scalar value, which technique is the most efficient??"
   ]
  }
 ],
 "metadata": {
  "kernelspec": {
   "display_name": "Python 3",
   "language": "python",
   "name": "python3"
  },
  "language_info": {
   "codemirror_mode": {
    "name": "ipython",
    "version": 3
   },
   "file_extension": ".py",
   "mimetype": "text/x-python",
   "name": "python",
   "nbconvert_exporter": "python",
   "pygments_lexer": "ipython3",
   "version": "3.8.5"
  },
  "toc": {
   "base_numbering": 1,
   "nav_menu": {},
   "number_sections": true,
   "sideBar": true,
   "skip_h1_title": false,
   "title_cell": "Table of Contents",
   "title_sidebar": "Contents",
   "toc_cell": false,
   "toc_position": {},
   "toc_section_display": true,
   "toc_window_display": false
  },
  "varInspector": {
   "cols": {
    "lenName": 16,
    "lenType": 16,
    "lenVar": 40
   },
   "kernels_config": {
    "python": {
     "delete_cmd_postfix": "",
     "delete_cmd_prefix": "del ",
     "library": "var_list.py",
     "varRefreshCmd": "print(var_dic_list())"
    },
    "r": {
     "delete_cmd_postfix": ") ",
     "delete_cmd_prefix": "rm(",
     "library": "var_list.r",
     "varRefreshCmd": "cat(var_dic_list()) "
    }
   },
   "types_to_exclude": [
    "module",
    "function",
    "builtin_function_or_method",
    "instance",
    "_Feature"
   ],
   "window_display": false
  }
 },
 "nbformat": 4,
 "nbformat_minor": 5
}
