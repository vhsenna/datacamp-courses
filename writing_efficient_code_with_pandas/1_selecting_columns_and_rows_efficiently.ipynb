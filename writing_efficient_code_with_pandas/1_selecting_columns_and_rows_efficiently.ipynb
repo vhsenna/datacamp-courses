{
 "cells": [
  {
   "cell_type": "markdown",
   "id": "secure-brand",
   "metadata": {},
   "source": [
    "## What does time.time() measure?\n",
    "What does the `time.time()` function exactly measure?"
   ]
  },
  {
   "cell_type": "markdown",
   "id": "nominated-dream",
   "metadata": {},
   "source": [
    "The time since a predefined date and time set by the operating system."
   ]
  },
  {
   "cell_type": "markdown",
   "id": "attempted-absolute",
   "metadata": {},
   "source": [
    "## Measuring time I\n",
    "\n",
    "In the lecture slides, you saw how the `time.time()` function can be loaded and used to assess the time required to perform a basic mathematical operation.\n",
    "\n",
    "Now, you will use the same strategy to assess two different methods for solving a similar problem: calculate the sum of squares of all the positive integers from 1 to 1 million (1,000,000).\n",
    "\n",
    "Similar to what you saw in the video, you will compare two methods; one that uses brute force and one more mathematically sophisticated.\n",
    "\n",
    "In the function `formula`, we use the standard formula\n",
    "\n",
    "![formula](https://i.imgur.com/9j3BELw.png) \n",
    "\n",
    "where N=1,000,000.\n",
    "\n",
    "In the function `brute_force` we loop over each number from 1 to 1 million and add it to the result.\n",
    "\n",
    "Instructions\n",
    "\n",
    "1. Calculate the result of the problem using the `formula()` function.\n",
    "2. Print the time required to calculate the result using the `formula()` function.\n",
    "3. Calculate the result of the problem using the `brute_force()` function.\n",
    "4. Print the time required to calculate the result using the `brute_force()` function."
   ]
  },
  {
   "cell_type": "code",
   "execution_count": 1,
   "id": "extended-homeless",
   "metadata": {},
   "outputs": [],
   "source": [
    "# Define functions\n",
    "def brute_force(N):\n",
    "    res = 0\n",
    "    UL = N+1\n",
    "    for i in range(1,UL):\n",
    "        res+=i^2\n",
    "    return res\n",
    "\n",
    "def formula(N):\n",
    "    return N*(N+1)*(2*N+1)/6"
   ]
  },
  {
   "cell_type": "code",
   "execution_count": 4,
   "id": "detected-silence",
   "metadata": {},
   "outputs": [
    {
     "name": "stdout",
     "output_type": "stream",
     "text": [
      "Time using formula: 0.0002453327178955078 sec\n",
      "Time using brute force: 0.0919187068939209 sec\n"
     ]
    }
   ],
   "source": [
    "# Import time\n",
    "import time\n",
    "\n",
    "N = 1000000\n",
    "\n",
    "# Calculate the result of the problem using formula() and print the time required\n",
    "fm_start_time = time.time()\n",
    "first_method = formula(N)\n",
    "print('Time using formula: {} sec'.format(time.time() - fm_start_time))\n",
    "\n",
    "# Calculate the result of the problem using brute_force() and print the time required\n",
    "sm_start_time = time.time()\n",
    "second_method = brute_force(N)\n",
    "print('Time using brute force: {} sec'.format(time.time() - sm_start_time))"
   ]
  },
  {
   "cell_type": "markdown",
   "id": "suburban-feeling",
   "metadata": {},
   "source": [
    "## Measuring time II\n",
    "\n",
    "As we discussed in the lectures, **in the majority of cases**, a list comprehension is faster than a for loop.\n",
    "\n",
    "In this demonstration, you will see a case where a list comprehension and a for loop have so small difference in efficiency that choosing either method will perform this simple task instantly.\n",
    "\n",
    "In the list `words`, there are random words downloaded from the Internet. We are interested to create another list called `listlet` in which we only keep the words that start with the letter `b`.\n",
    "\n",
    "In case you are not familiar with dealing with strings in Python, each string has the `.startswith()` attribute, which returns a True/False statement whether the string starts with a specific letter/phrase or not.\n",
    "\n",
    "Instructions\n",
    " \n",
    "1. Assign the time **before** the execution of the list comprehension\n",
    "2. Assign the time **after** the execution of the list comprehension\n",
    "3. Assign the time **before** the execution of the for loop\n",
    "4. Assign the time **after** the execution of the for loop"
   ]
  },
  {
   "cell_type": "code",
   "execution_count": 22,
   "id": "standing-result",
   "metadata": {},
   "outputs": [],
   "source": [
    "words = ['<html>', '<head><title>404 Not Found</title></head>', '<body>', '<center><h1>404 Not Found</h1></center>', '<hr><center>nginx</center>', '</body>', '</html>']"
   ]
  },
  {
   "cell_type": "code",
   "execution_count": 3,
   "id": "distinguished-questionnaire",
   "metadata": {},
   "outputs": [
    {
     "ename": "NameError",
     "evalue": "name 'time' is not defined",
     "output_type": "error",
     "traceback": [
      "\u001b[0;31m---------------------------------------------------------------------------\u001b[0m",
      "\u001b[0;31mNameError\u001b[0m                                 Traceback (most recent call last)",
      "\u001b[0;32m<ipython-input-3-f4818edfdfc6>\u001b[0m in \u001b[0;36m<module>\u001b[0;34m\u001b[0m\n\u001b[1;32m      1\u001b[0m \u001b[0;31m# Store the time before the execution\u001b[0m\u001b[0;34m\u001b[0m\u001b[0;34m\u001b[0m\u001b[0;34m\u001b[0m\u001b[0m\n\u001b[0;32m----> 2\u001b[0;31m \u001b[0mstart_time\u001b[0m \u001b[0;34m=\u001b[0m \u001b[0mtime\u001b[0m\u001b[0;34m.\u001b[0m\u001b[0mtime\u001b[0m\u001b[0;34m(\u001b[0m\u001b[0;34m)\u001b[0m\u001b[0;34m\u001b[0m\u001b[0;34m\u001b[0m\u001b[0m\n\u001b[0m\u001b[1;32m      3\u001b[0m \u001b[0;34m\u001b[0m\u001b[0m\n\u001b[1;32m      4\u001b[0m \u001b[0;31m# Execute the operation\u001b[0m\u001b[0;34m\u001b[0m\u001b[0;34m\u001b[0m\u001b[0;34m\u001b[0m\u001b[0m\n\u001b[1;32m      5\u001b[0m \u001b[0mletlist\u001b[0m \u001b[0;34m=\u001b[0m \u001b[0;34m[\u001b[0m\u001b[0mwrd\u001b[0m \u001b[0;32mfor\u001b[0m \u001b[0mwrd\u001b[0m \u001b[0;32min\u001b[0m \u001b[0mwords\u001b[0m \u001b[0;32mif\u001b[0m \u001b[0mwrd\u001b[0m\u001b[0;34m.\u001b[0m\u001b[0mstartswith\u001b[0m\u001b[0;34m(\u001b[0m\u001b[0;34m'b'\u001b[0m\u001b[0;34m)\u001b[0m\u001b[0;34m]\u001b[0m\u001b[0;34m\u001b[0m\u001b[0;34m\u001b[0m\u001b[0m\n",
      "\u001b[0;31mNameError\u001b[0m: name 'time' is not defined"
     ]
    }
   ],
   "source": [
    "# Store the time before the execution\n",
    "start_time = time.time()\n",
    "\n",
    "# Execute the operation\n",
    "letlist = [wrd for wrd in words if wrd.startswith('b')]\n",
    "\n",
    "# Store and print the difference between the start and the current time\n",
    "total_time_lc = time.time() - start_time\n",
    "print(f'Time using list comprehension: {total_time_lc} sec')"
   ]
  },
  {
   "cell_type": "code",
   "execution_count": 44,
   "id": "developmental-default",
   "metadata": {},
   "outputs": [
    {
     "name": "stdout",
     "output_type": "stream",
     "text": [
      "Time using for loop: 0.0001385211944580078 sec\n"
     ]
    }
   ],
   "source": [
    "# Store the time before the execution\n",
    "start_time = time.time()\n",
    "\n",
    "# Execute the operation\n",
    "letlist = []\n",
    "for wrd in words:\n",
    "    if wrd.startswith('b'):\n",
    "        letlist.append(wrd)\n",
    "        \n",
    "# Print the difference between the start and the current time\n",
    "total_time_fl = time.time() - start_time\n",
    "print(f'Time using for loop: {total_time_fl} sec')"
   ]
  },
  {
   "cell_type": "markdown",
   "id": "quiet-still",
   "metadata": {},
   "source": [
    "## Row selection: loc[] vs iloc[]\n",
    "\n",
    "A big part of working with DataFrames is to locate specific entries in the dataset. You can locate rows in two ways:\n",
    "\n",
    "- By a specific value of a column (feature).\n",
    "- By the index of the rows (index). In this exercise, we will focus on the second way.\n",
    "\n",
    "If you have previous experience with pandas, you should be familiar with the `.loc` and `.iloc` indexers, which stands for 'location' and 'index location' respectively. In most cases, the indices will be the same as the position of each row in the Dataframe (e.g. the row with index 13 will be the 14th entry).\n",
    "\n",
    "While we can use both functions to perform the same task, we are interested in which is the most efficient in terms of speed.\n",
    "\n",
    "Instructions\n",
    "\n",
    "1. Store the indices of the first 1000 rows in the `row_nums`.\n",
    "2. Use the `.loc[]` indexer to select the first 1000 rows of `poker_hands`, and record the times before and after that operation.\n",
    "3. Print the time it took to select the rows.\n",
    "4. Use the `.iloc[]` indexer with `row_nums` to select the first 1000 rows of the DataFrame `poker_hands`, and print how much time it took (as the difference between the time after the selection and the time before the selection)\n",
    "5. If you need to select specific **rows** of a DataFrame, which function is more efficient, it terms of speed?"
   ]
  },
  {
   "cell_type": "code",
   "execution_count": 48,
   "id": "amino-scenario",
   "metadata": {},
   "outputs": [],
   "source": [
    "# Import pandas\n",
    "import pandas as pd\n",
    "\n",
    "# Import dataset\n",
    "poker_hands = pd.read_csv('poker_hands.csv')"
   ]
  },
  {
   "cell_type": "code",
   "execution_count": 49,
   "id": "abstract-precipitation",
   "metadata": {},
   "outputs": [
    {
     "name": "stdout",
     "output_type": "stream",
     "text": [
      "Time using .loc[]: 0.006368160247802734 sec\n"
     ]
    }
   ],
   "source": [
    "# Define the range of rows to select: row_nums\n",
    "row_nums = range(0, 1000)\n",
    "\n",
    "# Select the rows using .loc[] and row_nums and record the time before and after\n",
    "loc_start_time = time.time()\n",
    "rows = poker_hands.loc[row_nums]\n",
    "loc_end_time = time.time()\n",
    "\n",
    "# Print the time it took to select the rows using .loc[]\n",
    "print(f'Time using .loc[]: {loc_end_time - loc_start_time} sec')"
   ]
  },
  {
   "cell_type": "code",
   "execution_count": 51,
   "id": "unable-continuity",
   "metadata": {},
   "outputs": [
    {
     "name": "stdout",
     "output_type": "stream",
     "text": [
      "Time using .iloc[]: 0.0016894340515136719 sec\n"
     ]
    }
   ],
   "source": [
    "# Select the rows using .iloc[] and row_nums and record the time before and after\n",
    "iloc_start_time = time.time()\n",
    "rows = poker_hands.iloc[row_nums]\n",
    "iloc_end_time = time.time()\n",
    "\n",
    "# Print the time it took to select the rows using .iloc\n",
    "print(f'Time using .iloc[]: {iloc_end_time - iloc_start_time} sec')"
   ]
  },
  {
   "cell_type": "markdown",
   "id": "virgin-republican",
   "metadata": {},
   "source": [
    "## Column selection: .iloc[] vs by name\n",
    "\n",
    "In the previous exercise, you saw how the `.loc[]` and `.iloc[]` functions can be used to locate specific _rows_ of a DataFrame (based on the index). Turns out, the `.iloc[]` function performs a lot faster (~ 2 times) for this task!\n",
    "\n",
    "Another important task is to find the faster function to select the targeted _features (columns)_ of a DataFrame. In this exercise, we will compare the following:\n",
    "\n",
    "- using the index locator `.iloc()`.\n",
    "- using the names of the columns.\n",
    "\n",
    "While we can use both functions to perform the same task, we are interested in which is the most efficient in terms of speed.\n",
    "\n",
    "In this exercise, you will continue working with the poker data which is stored in `poker_hands`. Take a second to examine the structure of this DataFrame by calling `poker_hands.head()` in the console!\n",
    "\n",
    "Instructions\n",
    "\n",
    "1. Use the `.iloc` indexer to select the first, third, fourth, sixth and seventh column (`'S1'`, `'S2'`, `'R2'`, `'R3'`, `'S4'`) of the DataFrame `poker_hands` by their _index_ and find the time it took.\n",
    "2. Select the first, third, fourth, sixth and seventh column (`'S1'`, `'S2'`, `'R2'`, `'R3'`, `'S4'`) of the DataFrame `poker_hands` by their _names_ and time this operation.\n",
    "3. If you need to select a specific **column** (or **columns**) of a DataFrame, which function is more efficient, it terms of speed?"
   ]
  },
  {
   "cell_type": "code",
   "execution_count": 70,
   "id": "powerful-operation",
   "metadata": {},
   "outputs": [
    {
     "name": "stdout",
     "output_type": "stream",
     "text": [
      "Time using .iloc[]: 0.004040956497192383 sec\n"
     ]
    }
   ],
   "source": [
    "# Use .iloc to select the first, fourth, fifth, seventh and eighth column and record the times before and after\n",
    "iloc_start_time = time.time()\n",
    "cols = poker_hands.iloc[:,[0,3,4,6,7]]\n",
    "iloc_end_time = time.time()\n",
    "\n",
    "# Print the time it took\n",
    "print(f'Time using .iloc[]: {iloc_end_time - iloc_start_time} sec')"
   ]
  },
  {
   "cell_type": "code",
   "execution_count": 77,
   "id": "figured-affiliation",
   "metadata": {},
   "outputs": [
    {
     "name": "stdout",
     "output_type": "stream",
     "text": [
      "Time using selection by name: 0.0011959075927734375 sec\n"
     ]
    }
   ],
   "source": [
    "# Use simple column selection to select the first, fourth, fifth, seventh and eighth column and record the times before and after\n",
    "names_start_time = time.time()\n",
    "cols = poker_hands[['S1', 'S2', 'R2', 'R3', 'S4']]\n",
    "names_end_time = time.time()\n",
    "\n",
    "# Print the time it took\n",
    "print(f'Time using selection by name: {names_end_time - names_start_time} sec')"
   ]
  },
  {
   "cell_type": "markdown",
   "id": "independent-spring",
   "metadata": {},
   "source": [
    "## Random row selection\n",
    "\n",
    "In this exercise, you will compare the two methods described for selecting random rows (entries) with replacement in a `pandas` DataFrame:\n",
    "\n",
    "- The built-in `pandas` function `.random()`\n",
    "- The `NumPy` random integer number generator `np.random.randint()`\n",
    "\n",
    "Generally, in the fields of statistics and machine learning, when we need to train an algorithm, we train the algorithm on the 75% of the available data and then test the performance on the remaining 25% of the data.\n",
    "\n",
    "For this exercise, we will randomly sample the 75% percent of all the played poker hands available, using each of the above methods, and check which method is more efficient in terms of speed.\n",
    "\n",
    "Instructions\n",
    "\n",
    "1. Randomly select 75% of the rows of the poker dataset using the `np.random.randint()` method.\n",
    "2. Randomly select 75% of the rows of the poker dataset using the `.sample()` method. Make sure to specify the axis correctly!\n",
    "3. Between `np.random.randint()` and `.sample()`, which one is faster when selecting random rows from a pandas DataFrame?"
   ]
  },
  {
   "cell_type": "code",
   "execution_count": 79,
   "id": "quality-platinum",
   "metadata": {},
   "outputs": [
    {
     "name": "stdout",
     "output_type": "stream",
     "text": [
      "Time using Numpy: 0.0029036998748779297 sec\n"
     ]
    }
   ],
   "source": [
    "# Extract number of rows in dataset\n",
    "N = poker_hands.shape[0]\n",
    "\n",
    "# Select and time the selection of the 75% of the dataset's rows\n",
    "rand_start_time = time.time()\n",
    "poker_hands.iloc[np.random.randint(low=0, high=N, size=int(0.75 * N))]\n",
    "print(f'Time using Numpy: {time.time() - rand_start_time} sec')"
   ]
  },
  {
   "cell_type": "code",
   "execution_count": 82,
   "id": "atlantic-equity",
   "metadata": {},
   "outputs": [
    {
     "name": "stdout",
     "output_type": "stream",
     "text": [
      "Time using .sample: 0.008153915405273438 sec\n"
     ]
    }
   ],
   "source": [
    "# Select and time the selection of the 75% of the dataset's rows using sample()\n",
    "samp_start_time = time.time()\n",
    "poker_hands.sample(int(0.75 * N), axis=0, replace=True)\n",
    "print(f'Time using .sample: {time.time() - samp_start_time} sec')"
   ]
  },
  {
   "cell_type": "markdown",
   "id": "european-blackberry",
   "metadata": {},
   "source": [
    "## Random column selection\n",
    "\n",
    "In the previous exercise, we examined two ways to select random rows from a `pandas` DataFrame. We can use the same functions to randomly select columns in a `pandas` DataFrame.\n",
    "\n",
    "To randomly select 4 columns out of the poker dataset, you will use the following two functions:\n",
    "\n",
    "- The built-in `pandas` function `.random()`\n",
    "- The `NumPy` random integer number generator `np.random.randint()`\n",
    "\n",
    "Instructions\n",
    "\n",
    "1. Randomly select 4 columns from the `poker_hands` dataset using `np.random.randint()`.\n",
    "2. Randomly select 4 columns from the `poker_hands` dataset using the `.sample()` method.\n",
    "3. "
   ]
  },
  {
   "cell_type": "code",
   "execution_count": 85,
   "id": "protecting-wilderness",
   "metadata": {},
   "outputs": [
    {
     "name": "stdout",
     "output_type": "stream",
     "text": [
      "Time using NymPy's random.randint(): 0.002404928207397461 sec\n"
     ]
    }
   ],
   "source": [
    "# Extract number of columns in dataset\n",
    "D = poker_hands.shape[1]\n",
    "\n",
    "# Select and time the selection of 4 of the dataset's columns using NumPy\n",
    "np_start_time = time.time()\n",
    "poker_hands.iloc[:,np.random.randint(low=0, high=D, size=4)]\n",
    "print(f\"Time using NymPy's random.randint(): {time.time() - np_start_time} sec\")"
   ]
  },
  {
   "cell_type": "code",
   "execution_count": 88,
   "id": "medical-coaching",
   "metadata": {},
   "outputs": [
    {
     "name": "stdout",
     "output_type": "stream",
     "text": [
      "Time using panda's .sample(): 0.002951383590698242 sec\n"
     ]
    }
   ],
   "source": [
    "# Select and time the selection of 4 of the dataset's columns using pandas\n",
    "pd_start_time = time.time()\n",
    "poker_hands.sample(4, axis=1)\n",
    "print(f\"Time using panda's .sample(): {time.time() - pd_start_time} sec\")"
   ]
  }
 ],
 "metadata": {
  "kernelspec": {
   "display_name": "Python 3",
   "language": "python",
   "name": "python3"
  },
  "language_info": {
   "codemirror_mode": {
    "name": "ipython",
    "version": 3
   },
   "file_extension": ".py",
   "mimetype": "text/x-python",
   "name": "python",
   "nbconvert_exporter": "python",
   "pygments_lexer": "ipython3",
   "version": "3.8.5"
  },
  "toc": {
   "base_numbering": 1,
   "nav_menu": {},
   "number_sections": true,
   "sideBar": true,
   "skip_h1_title": false,
   "title_cell": "Table of Contents",
   "title_sidebar": "Contents",
   "toc_cell": false,
   "toc_position": {},
   "toc_section_display": true,
   "toc_window_display": false
  },
  "varInspector": {
   "cols": {
    "lenName": 16,
    "lenType": 16,
    "lenVar": 40
   },
   "kernels_config": {
    "python": {
     "delete_cmd_postfix": "",
     "delete_cmd_prefix": "del ",
     "library": "var_list.py",
     "varRefreshCmd": "print(var_dic_list())"
    },
    "r": {
     "delete_cmd_postfix": ") ",
     "delete_cmd_prefix": "rm(",
     "library": "var_list.r",
     "varRefreshCmd": "cat(var_dic_list()) "
    }
   },
   "types_to_exclude": [
    "module",
    "function",
    "builtin_function_or_method",
    "instance",
    "_Feature"
   ],
   "window_display": false
  }
 },
 "nbformat": 4,
 "nbformat_minor": 5
}
