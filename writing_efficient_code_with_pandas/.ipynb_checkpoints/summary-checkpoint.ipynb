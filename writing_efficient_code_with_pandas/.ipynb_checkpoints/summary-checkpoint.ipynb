{
 "cells": [
  {
   "cell_type": "markdown",
   "id": "alone-breakfast",
   "metadata": {},
   "source": [
    "# Writing Efficient Code with pandas\n",
    "\n",
    "- 4 hours\n",
    "- 14 Videos\n",
    "- 45 Exercises\n",
    "\n",
    "## Course Description\n",
    "\n",
    "The ability to efficiently work with big datasets and extract valuable information is an indispensable tool for every aspiring data scientist. When working with a small amount of data, we often don’t realize how slow code execution can be. This course will build on your knowledge of Python and the pandas library and introduce you to efficient built-in pandas functions to perform tasks faster. Pandas’ built-in functions allow you to tackle the simplest tasks, like targeting specific entries and features from the data, to the most complex tasks, like applying functions on groups of entries, much faster than Python's usual methods. By the end of this course, you will be able to apply a function to data based on a feature value, iterate through big datasets rapidly, and manipulate data belonging to different groups efficiently. You will apply these methods on a variety of real-world datasets, such as poker hands or restaurant tips.\n",
    "\n",
    "### 1 Selecting columns and rows efficiently\n",
    "\n",
    "This chapter will give you an overview of why efficient code matters and selecting specific and random rows and columns efficiently.\n",
    "\n",
    "- The need for efficient coding I\n",
    "- What does time.time() measure?\n",
    "- Measuring time I\n",
    "- Measuring time II\n",
    "- Locate rows: .iloc[] and .loc[]\n",
    "- Row selection: loc[] vs iloc[]\n",
    "- Column selection: .iloc[] vs by name\n",
    "- Select random rows\n",
    "- Random row selection\n",
    "- Random column selection\n",
    "\n",
    "### 2 Replacing values in a DataFrame\n",
    "\n",
    "This chapter shows the usage of the replace() function for replacing one or multiple values using lists and dictionaries.\n",
    "\n",
    "- Replace scalar values using .replace()\n",
    "- Replacing scalar values I\n",
    "- Replace scalar values II\n",
    "- Replace values using lists\n",
    "- Replace multiple values I\n",
    "- Replace multiple values II\n",
    "- Replace values using dictionaries\n",
    "- Replace single values I\n",
    "- Replace single values II\n",
    "- Replace multiple values III\n",
    "- Most efficient method for scalar replacement\n",
    "\n",
    "### 3 Efficient iterating\n",
    "\n",
    "This chapter presents different ways of iterating through a Pandas DataFrame and why vectorization is the most efficient way to achieve it.\n",
    "\n",
    "- Looping using the .iterrows() function\n",
    "- Create a generator for a pandas DataFrame\n",
    "- The iterrows() function for looping\n",
    "- Looping using the .apply() function\n",
    "- .apply() function in every cell\n",
    "- .apply() for rows iteration\n",
    "- Vectorization over pandas series\n",
    "- Why vectorization in pandas is so fast?\n",
    "- pandas vectorization in action\n",
    "- Vectorization with NumPy arrays using .values()\n",
    "- Best method of vectorization\n",
    "- Vectorization methods for looping a DataFrame\n",
    "\n",
    "### 4 Data manipulation using .groupby()\n",
    "\n",
    "This chapter describes the groupby() function and how we can use it to transform values in place, replace missing values and apply complex functions group-wise.\n",
    "\n",
    "- Data transformation using .groupby().transform\n",
    "- The min-max normalization using .transform()\n",
    "- Transforming values to probabilities\n",
    "- Validation of normalization\n",
    "- When to use transform()?\n",
    "- Missing value imputation using transform()\n",
    "- Identifying missing values\n",
    "- Missing value imputation\n",
    "- Data filtration using the filter() function\n",
    "- When to use filtration?\n",
    "- Data filtration\n",
    "- Congratulations!"
   ]
  }
 ],
 "metadata": {
  "kernelspec": {
   "display_name": "Python 3",
   "language": "python",
   "name": "python3"
  },
  "language_info": {
   "codemirror_mode": {
    "name": "ipython",
    "version": 3
   },
   "file_extension": ".py",
   "mimetype": "text/x-python",
   "name": "python",
   "nbconvert_exporter": "python",
   "pygments_lexer": "ipython3",
   "version": "3.8.5"
  },
  "toc": {
   "base_numbering": 1,
   "nav_menu": {},
   "number_sections": false,
   "sideBar": true,
   "skip_h1_title": false,
   "title_cell": "Table of Contents",
   "title_sidebar": "Contents",
   "toc_cell": false,
   "toc_position": {},
   "toc_section_display": true,
   "toc_window_display": false
  },
  "varInspector": {
   "cols": {
    "lenName": 16,
    "lenType": 16,
    "lenVar": 40
   },
   "kernels_config": {
    "python": {
     "delete_cmd_postfix": "",
     "delete_cmd_prefix": "del ",
     "library": "var_list.py",
     "varRefreshCmd": "print(var_dic_list())"
    },
    "r": {
     "delete_cmd_postfix": ") ",
     "delete_cmd_prefix": "rm(",
     "library": "var_list.r",
     "varRefreshCmd": "cat(var_dic_list()) "
    }
   },
   "types_to_exclude": [
    "module",
    "function",
    "builtin_function_or_method",
    "instance",
    "_Feature"
   ],
   "window_display": false
  }
 },
 "nbformat": 4,
 "nbformat_minor": 5
}
