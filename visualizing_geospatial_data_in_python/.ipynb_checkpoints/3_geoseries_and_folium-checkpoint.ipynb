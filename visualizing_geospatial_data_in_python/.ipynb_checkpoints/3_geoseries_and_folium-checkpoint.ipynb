{
 "cells": [
  {
   "cell_type": "markdown",
   "id": "treated-ultimate",
   "metadata": {},
   "source": [
    "## Find the area of the Urban Residents neighborhood\n",
    "\n",
    "How big is the Urban Residents neighborhood?\n",
    "\n",
    "Instructions\n",
    "\n",
    "1. Print the urban polygon and notice the units of each longitude/latitude pair.\n",
    "2. Create `urban_poly_3857` by calling `to_crs()` on `urban_polygon` and print the head again. Notice the units of each longitude/latitude pair have changed.\n",
    "3. Print the area of the `urban_poly_3857` geometry. Remember to divide by `10**6` to get kilometers squared."
   ]
  },
  {
   "cell_type": "code",
   "execution_count": 7,
   "id": "third-crest",
   "metadata": {},
   "outputs": [
    {
     "ename": "DriverError",
     "evalue": "'neighborhood_association_boundaries_GIS.geojson' not recognized as a supported file format.",
     "output_type": "error",
     "traceback": [
      "\u001b[0;31m---------------------------------------------------------------------------\u001b[0m",
      "\u001b[0;31mCPLE_OpenFailedError\u001b[0m                      Traceback (most recent call last)",
      "\u001b[0;32mfiona/_shim.pyx\u001b[0m in \u001b[0;36mfiona._shim.gdal_open_vector\u001b[0;34m()\u001b[0m\n",
      "\u001b[0;32mfiona/_err.pyx\u001b[0m in \u001b[0;36mfiona._err.exc_wrap_pointer\u001b[0;34m()\u001b[0m\n",
      "\u001b[0;31mCPLE_OpenFailedError\u001b[0m: 'neighborhood_association_boundaries_GIS.geojson' not recognized as a supported file format.",
      "\nDuring handling of the above exception, another exception occurred:\n",
      "\u001b[0;31mDriverError\u001b[0m                               Traceback (most recent call last)",
      "\u001b[0;32m<ipython-input-7-666961481b52>\u001b[0m in \u001b[0;36m<module>\u001b[0;34m\u001b[0m\n\u001b[1;32m      4\u001b[0m \u001b[0;34m\u001b[0m\u001b[0m\n\u001b[1;32m      5\u001b[0m \u001b[0;31m# Read in neighborhoods\u001b[0m\u001b[0;34m\u001b[0m\u001b[0;34m\u001b[0m\u001b[0;34m\u001b[0m\u001b[0m\n\u001b[0;32m----> 6\u001b[0;31m \u001b[0mneighborhoods\u001b[0m \u001b[0;34m=\u001b[0m \u001b[0mgpd\u001b[0m\u001b[0;34m.\u001b[0m\u001b[0mread_file\u001b[0m\u001b[0;34m(\u001b[0m\u001b[0;34m'neighborhood_association_boundaries_GIS.geojson'\u001b[0m\u001b[0;34m)\u001b[0m\u001b[0;34m\u001b[0m\u001b[0;34m\u001b[0m\u001b[0m\n\u001b[0m\u001b[1;32m      7\u001b[0m \u001b[0;34m\u001b[0m\u001b[0m\n\u001b[1;32m      8\u001b[0m \u001b[0;31m# urban_polygon from neighborhoods\u001b[0m\u001b[0;34m\u001b[0m\u001b[0;34m\u001b[0m\u001b[0;34m\u001b[0m\u001b[0m\n",
      "\u001b[0;32m~/.local/lib/python3.8/site-packages/geopandas/io/file.py\u001b[0m in \u001b[0;36m_read_file\u001b[0;34m(filename, bbox, mask, rows, **kwargs)\u001b[0m\n\u001b[1;32m    158\u001b[0m \u001b[0;34m\u001b[0m\u001b[0m\n\u001b[1;32m    159\u001b[0m     \u001b[0;32mwith\u001b[0m \u001b[0mfiona_env\u001b[0m\u001b[0;34m(\u001b[0m\u001b[0;34m)\u001b[0m\u001b[0;34m:\u001b[0m\u001b[0;34m\u001b[0m\u001b[0;34m\u001b[0m\u001b[0m\n\u001b[0;32m--> 160\u001b[0;31m         \u001b[0;32mwith\u001b[0m \u001b[0mreader\u001b[0m\u001b[0;34m(\u001b[0m\u001b[0mpath_or_bytes\u001b[0m\u001b[0;34m,\u001b[0m \u001b[0;34m**\u001b[0m\u001b[0mkwargs\u001b[0m\u001b[0;34m)\u001b[0m \u001b[0;32mas\u001b[0m \u001b[0mfeatures\u001b[0m\u001b[0;34m:\u001b[0m\u001b[0;34m\u001b[0m\u001b[0;34m\u001b[0m\u001b[0m\n\u001b[0m\u001b[1;32m    161\u001b[0m \u001b[0;34m\u001b[0m\u001b[0m\n\u001b[1;32m    162\u001b[0m             \u001b[0;31m# In a future Fiona release the crs attribute of features will\u001b[0m\u001b[0;34m\u001b[0m\u001b[0;34m\u001b[0m\u001b[0;34m\u001b[0m\u001b[0m\n",
      "\u001b[0;32m~/.local/lib/python3.8/site-packages/fiona/env.py\u001b[0m in \u001b[0;36mwrapper\u001b[0;34m(*args, **kwargs)\u001b[0m\n\u001b[1;32m    398\u001b[0m     \u001b[0;32mdef\u001b[0m \u001b[0mwrapper\u001b[0m\u001b[0;34m(\u001b[0m\u001b[0;34m*\u001b[0m\u001b[0margs\u001b[0m\u001b[0;34m,\u001b[0m \u001b[0;34m**\u001b[0m\u001b[0mkwargs\u001b[0m\u001b[0;34m)\u001b[0m\u001b[0;34m:\u001b[0m\u001b[0;34m\u001b[0m\u001b[0;34m\u001b[0m\u001b[0m\n\u001b[1;32m    399\u001b[0m         \u001b[0;32mif\u001b[0m \u001b[0mlocal\u001b[0m\u001b[0;34m.\u001b[0m\u001b[0m_env\u001b[0m\u001b[0;34m:\u001b[0m\u001b[0;34m\u001b[0m\u001b[0;34m\u001b[0m\u001b[0m\n\u001b[0;32m--> 400\u001b[0;31m             \u001b[0;32mreturn\u001b[0m \u001b[0mf\u001b[0m\u001b[0;34m(\u001b[0m\u001b[0;34m*\u001b[0m\u001b[0margs\u001b[0m\u001b[0;34m,\u001b[0m \u001b[0;34m**\u001b[0m\u001b[0mkwargs\u001b[0m\u001b[0;34m)\u001b[0m\u001b[0;34m\u001b[0m\u001b[0;34m\u001b[0m\u001b[0m\n\u001b[0m\u001b[1;32m    401\u001b[0m         \u001b[0;32melse\u001b[0m\u001b[0;34m:\u001b[0m\u001b[0;34m\u001b[0m\u001b[0;34m\u001b[0m\u001b[0m\n\u001b[1;32m    402\u001b[0m             \u001b[0;32mif\u001b[0m \u001b[0misinstance\u001b[0m\u001b[0;34m(\u001b[0m\u001b[0margs\u001b[0m\u001b[0;34m[\u001b[0m\u001b[0;36m0\u001b[0m\u001b[0;34m]\u001b[0m\u001b[0;34m,\u001b[0m \u001b[0mstr\u001b[0m\u001b[0;34m)\u001b[0m\u001b[0;34m:\u001b[0m\u001b[0;34m\u001b[0m\u001b[0;34m\u001b[0m\u001b[0m\n",
      "\u001b[0;32m~/.local/lib/python3.8/site-packages/fiona/__init__.py\u001b[0m in \u001b[0;36mopen\u001b[0;34m(fp, mode, driver, schema, crs, encoding, layer, vfs, enabled_drivers, crs_wkt, **kwargs)\u001b[0m\n\u001b[1;32m    254\u001b[0m \u001b[0;34m\u001b[0m\u001b[0m\n\u001b[1;32m    255\u001b[0m         \u001b[0;32mif\u001b[0m \u001b[0mmode\u001b[0m \u001b[0;32min\u001b[0m \u001b[0;34m(\u001b[0m\u001b[0;34m'a'\u001b[0m\u001b[0;34m,\u001b[0m \u001b[0;34m'r'\u001b[0m\u001b[0;34m)\u001b[0m\u001b[0;34m:\u001b[0m\u001b[0;34m\u001b[0m\u001b[0;34m\u001b[0m\u001b[0m\n\u001b[0;32m--> 256\u001b[0;31m             c = Collection(path, mode, driver=driver, encoding=encoding,\n\u001b[0m\u001b[1;32m    257\u001b[0m                            layer=layer, enabled_drivers=enabled_drivers, **kwargs)\n\u001b[1;32m    258\u001b[0m         \u001b[0;32melif\u001b[0m \u001b[0mmode\u001b[0m \u001b[0;34m==\u001b[0m \u001b[0;34m'w'\u001b[0m\u001b[0;34m:\u001b[0m\u001b[0;34m\u001b[0m\u001b[0;34m\u001b[0m\u001b[0m\n",
      "\u001b[0;32m~/.local/lib/python3.8/site-packages/fiona/collection.py\u001b[0m in \u001b[0;36m__init__\u001b[0;34m(self, path, mode, driver, schema, crs, encoding, layer, vsi, archive, enabled_drivers, crs_wkt, ignore_fields, ignore_geometry, **kwargs)\u001b[0m\n\u001b[1;32m    160\u001b[0m             \u001b[0;32mif\u001b[0m \u001b[0mself\u001b[0m\u001b[0;34m.\u001b[0m\u001b[0mmode\u001b[0m \u001b[0;34m==\u001b[0m \u001b[0;34m'r'\u001b[0m\u001b[0;34m:\u001b[0m\u001b[0;34m\u001b[0m\u001b[0;34m\u001b[0m\u001b[0m\n\u001b[1;32m    161\u001b[0m                 \u001b[0mself\u001b[0m\u001b[0;34m.\u001b[0m\u001b[0msession\u001b[0m \u001b[0;34m=\u001b[0m \u001b[0mSession\u001b[0m\u001b[0;34m(\u001b[0m\u001b[0;34m)\u001b[0m\u001b[0;34m\u001b[0m\u001b[0;34m\u001b[0m\u001b[0m\n\u001b[0;32m--> 162\u001b[0;31m                 \u001b[0mself\u001b[0m\u001b[0;34m.\u001b[0m\u001b[0msession\u001b[0m\u001b[0;34m.\u001b[0m\u001b[0mstart\u001b[0m\u001b[0;34m(\u001b[0m\u001b[0mself\u001b[0m\u001b[0;34m,\u001b[0m \u001b[0;34m**\u001b[0m\u001b[0mkwargs\u001b[0m\u001b[0;34m)\u001b[0m\u001b[0;34m\u001b[0m\u001b[0;34m\u001b[0m\u001b[0m\n\u001b[0m\u001b[1;32m    163\u001b[0m             \u001b[0;32melif\u001b[0m \u001b[0mself\u001b[0m\u001b[0;34m.\u001b[0m\u001b[0mmode\u001b[0m \u001b[0;32min\u001b[0m \u001b[0;34m(\u001b[0m\u001b[0;34m'a'\u001b[0m\u001b[0;34m,\u001b[0m \u001b[0;34m'w'\u001b[0m\u001b[0;34m)\u001b[0m\u001b[0;34m:\u001b[0m\u001b[0;34m\u001b[0m\u001b[0;34m\u001b[0m\u001b[0m\n\u001b[1;32m    164\u001b[0m                 \u001b[0mself\u001b[0m\u001b[0;34m.\u001b[0m\u001b[0msession\u001b[0m \u001b[0;34m=\u001b[0m \u001b[0mWritingSession\u001b[0m\u001b[0;34m(\u001b[0m\u001b[0;34m)\u001b[0m\u001b[0;34m\u001b[0m\u001b[0;34m\u001b[0m\u001b[0m\n",
      "\u001b[0;32mfiona/ogrext.pyx\u001b[0m in \u001b[0;36mfiona.ogrext.Session.start\u001b[0;34m()\u001b[0m\n",
      "\u001b[0;32mfiona/_shim.pyx\u001b[0m in \u001b[0;36mfiona._shim.gdal_open_vector\u001b[0;34m()\u001b[0m\n",
      "\u001b[0;31mDriverError\u001b[0m: 'neighborhood_association_boundaries_GIS.geojson' not recognized as a supported file format."
     ]
    }
   ],
   "source": [
    "from shapely.geometry import Point\n",
    "import geopandas as gpd\n",
    "import pandas as pd\n",
    "\n",
    "# Read in neighborhoods\n",
    "neighborhoods = gpd.read_file('neighborhood_association_boundaries_GIS.geojson')\n",
    "\n",
    "# urban_polygon from neighborhoods\n",
    "urban_polygon = neighborhoods.loc[neighborhoods.name == \"Urban Residents\"].reset_index()"
   ]
  },
  {
   "cell_type": "code",
   "execution_count": 4,
   "id": "level-collapse",
   "metadata": {},
   "outputs": [
    {
     "ename": "NameError",
     "evalue": "name 'urban_polygon' is not defined",
     "output_type": "error",
     "traceback": [
      "\u001b[0;31m---------------------------------------------------------------------------\u001b[0m",
      "\u001b[0;31mNameError\u001b[0m                                 Traceback (most recent call last)",
      "\u001b[0;32m<ipython-input-4-00d9bad4e8a2>\u001b[0m in \u001b[0;36m<module>\u001b[0;34m\u001b[0m\n\u001b[1;32m      1\u001b[0m \u001b[0;31m# Print the head of the urban polygon\u001b[0m\u001b[0;34m\u001b[0m\u001b[0;34m\u001b[0m\u001b[0;34m\u001b[0m\u001b[0m\n\u001b[0;32m----> 2\u001b[0;31m \u001b[0mprint\u001b[0m\u001b[0;34m(\u001b[0m\u001b[0murban_polygon\u001b[0m\u001b[0;34m.\u001b[0m\u001b[0mhead\u001b[0m\u001b[0;34m(\u001b[0m\u001b[0;34m)\u001b[0m\u001b[0;34m)\u001b[0m\u001b[0;34m\u001b[0m\u001b[0;34m\u001b[0m\u001b[0m\n\u001b[0m\u001b[1;32m      3\u001b[0m \u001b[0;34m\u001b[0m\u001b[0m\n\u001b[1;32m      4\u001b[0m \u001b[0;31m# Create a copy of the urban_polygon using EPSG:3857 and print the head\u001b[0m\u001b[0;34m\u001b[0m\u001b[0;34m\u001b[0m\u001b[0;34m\u001b[0m\u001b[0m\n\u001b[1;32m      5\u001b[0m \u001b[0murban_poly_3857\u001b[0m \u001b[0;34m=\u001b[0m \u001b[0murban_polygon\u001b[0m\u001b[0;34m.\u001b[0m\u001b[0mto_crs\u001b[0m\u001b[0;34m(\u001b[0m\u001b[0mepsg\u001b[0m \u001b[0;34m=\u001b[0m \u001b[0;36m3857\u001b[0m\u001b[0;34m)\u001b[0m\u001b[0;34m\u001b[0m\u001b[0;34m\u001b[0m\u001b[0m\n",
      "\u001b[0;31mNameError\u001b[0m: name 'urban_polygon' is not defined"
     ]
    }
   ],
   "source": [
    "# Print the head of the urban polygon \n",
    "print(urban_polygon.head())\n",
    "\n",
    "# Create a copy of the urban_polygon using EPSG:3857 and print the head\n",
    "urban_poly_3857 = urban_polygon.to_crs(epsg = 3857)\n",
    "print(urban_poly_3857.head())\n",
    "\n",
    "# Print the area of urban_poly_3857 in kilometers squared\n",
    "area = urban_poly_3857.geometry.area / 10**6\n",
    "print(f'The area of the Urban Residents neighborhood is {area[0]} km squared')"
   ]
  },
  {
   "cell_type": "markdown",
   "id": "necessary-samoa",
   "metadata": {},
   "source": [
    "## The center of the Urban Residents neighborhood\n",
    "\n",
    "Now you'll find the center point of the `urban_poly_3857` and plot it over the polygon.\n",
    "\n",
    "Instructions\n",
    "\n",
    "1. Create `downtown_center`, from `urban_poly_3857` using the GeoSeries `centroid` attribute.\n",
    "2. Print the datatype of `downtown_center`.\n",
    "3. Plot `urban_poly_3857` as ax using `lightgreen` for the color.\n",
    "4. Plot the `downtown_center`, setting `ax = ax` and `color = black`. The x-axis ticks are rotated for you. We've included the code to show the plot."
   ]
  },
  {
   "cell_type": "code",
   "execution_count": null,
   "id": "backed-japan",
   "metadata": {},
   "outputs": [],
   "source": [
    "# Create downtown_center from urban_poly_3857\n",
    "downtown_center = urban_poly_3857.geometry.centroid\n",
    "\n",
    "# Print the type of downtown_center \n",
    "print(type(downtown_center))\n",
    "\n",
    "# Plot the urban_poly_3857 as ax and add the center point\n",
    "ax = urban_poly_3857.plot(color = 'lightgreen')\n",
    "downtown_center.plot(ax = ax, color = 'black')\n",
    "plt.xticks(rotation = 45)\n",
    "\n",
    "# Show the plot\n",
    "plt.show()"
   ]
  },
  {
   "cell_type": "markdown",
   "id": "spoken-approach",
   "metadata": {},
   "source": [
    "## Prepare to calculate distances\n",
    "\n",
    "In this exercise you will prepare a GeoDataFrame called `art_dist_meters` with the locations of downtown art converted to meters using EPSG:3857. You will use `art_dist_meters` in the next exercise to calculate the distance of each artwork from the center of the Urban Residents neighborhood in meters.\n",
    "\n",
    "The `art` data is in your workspace, along with `urban_poly_3857` and `center_point`, the center point of the Urban Residents neighborhood. A geometry column called `geometry` that uses degrees has already been created in the `art` DataFrame.\n",
    "\n",
    "Instructions\n",
    "\n",
    "1. Create a GeoDataFrame called `art_dist_meters`, using the `art` DataFrame and the geometry column from `art`. Set `crs = {'init': 'epsg:4326'}` since the geometry is in decimal degrees. Print the first two rows.\n",
    "2. Now explicitly set the coordinate reference system to `EPSG:3857` for `art_dist_meters` by using `to_crs()`. Print the first two rows again.\n",
    "3. Add a column called `center` to `art_dist_meters`, setting it equal to `center_point` for every row ."
   ]
  },
  {
   "cell_type": "code",
   "execution_count": null,
   "id": "thousand-ordinary",
   "metadata": {},
   "outputs": [],
   "source": [
    "# Import pandas\n",
    "import pandas as pd\n",
    "\n",
    "# Import data\n",
    "art = pd.read_csv('public_art.csv')"
   ]
  },
  {
   "cell_type": "code",
   "execution_count": 30,
   "id": "dietary-bikini",
   "metadata": {},
   "outputs": [
    {
     "ename": "NameError",
     "evalue": "name 'art' is not defined",
     "output_type": "error",
     "traceback": [
      "\u001b[0;31m---------------------------------------------------------------------------\u001b[0m",
      "\u001b[0;31mNameError\u001b[0m                                 Traceback (most recent call last)",
      "\u001b[0;32m<ipython-input-30-2ec94874bd59>\u001b[0m in \u001b[0;36m<module>\u001b[0;34m\u001b[0m\n\u001b[1;32m      5\u001b[0m \u001b[0;34m\u001b[0m\u001b[0m\n\u001b[1;32m      6\u001b[0m \u001b[0;31m# Create art_dist_meters using art and the geometry from art\u001b[0m\u001b[0;34m\u001b[0m\u001b[0;34m\u001b[0m\u001b[0;34m\u001b[0m\u001b[0m\n\u001b[0;32m----> 7\u001b[0;31m \u001b[0mart_dist_meters\u001b[0m \u001b[0;34m=\u001b[0m \u001b[0mgpd\u001b[0m\u001b[0;34m.\u001b[0m\u001b[0mGeoDataFrame\u001b[0m\u001b[0;34m(\u001b[0m\u001b[0mart\u001b[0m\u001b[0;34m,\u001b[0m \u001b[0mgeometry\u001b[0m\u001b[0;34m=\u001b[0m\u001b[0mart\u001b[0m\u001b[0;34m.\u001b[0m\u001b[0mgeometry\u001b[0m\u001b[0;34m,\u001b[0m \u001b[0mcrs\u001b[0m\u001b[0;34m=\u001b[0m\u001b[0;34m{\u001b[0m\u001b[0;34m'init'\u001b[0m\u001b[0;34m:\u001b[0m \u001b[0;34m'epsg:4326'\u001b[0m\u001b[0;34m}\u001b[0m\u001b[0;34m)\u001b[0m\u001b[0;34m\u001b[0m\u001b[0;34m\u001b[0m\u001b[0m\n\u001b[0m\u001b[1;32m      8\u001b[0m \u001b[0mprint\u001b[0m\u001b[0;34m(\u001b[0m\u001b[0mart_dist_meters\u001b[0m\u001b[0;34m.\u001b[0m\u001b[0mhead\u001b[0m\u001b[0;34m(\u001b[0m\u001b[0;36m2\u001b[0m\u001b[0;34m)\u001b[0m\u001b[0;34m)\u001b[0m\u001b[0;34m\u001b[0m\u001b[0;34m\u001b[0m\u001b[0m\n\u001b[1;32m      9\u001b[0m \u001b[0;34m\u001b[0m\u001b[0m\n",
      "\u001b[0;31mNameError\u001b[0m: name 'art' is not defined"
     ]
    }
   ],
   "source": [
    "# Import packages\n",
    "from shapely.geometry import Point\n",
    "import geopandas as gpd\n",
    "import pandas as pd\n",
    "\n",
    "# Create art_dist_meters using art and the geometry from art\n",
    "art_dist_meters = gpd.GeoDataFrame(art, geometry=art.geometry, crs={'init': 'epsg:4326'})\n",
    "print(art_dist_meters.head(2))\n",
    "\n",
    "# Set the crs of art_dist_meters to use EPSG:3857\n",
    "art_dist_meters.geometry = art_dist_meters.geometry.to_crs(epsg=3857)\n",
    "print(art_dist_meters.head(2))\n",
    "\n",
    "# Add a column to art_meters, center\n",
    "art_dist_meters['center'] = center_point"
   ]
  },
  {
   "cell_type": "markdown",
   "id": "prospective-puzzle",
   "metadata": {},
   "source": [
    "## Art distances from neighborhood center\n",
    "\n",
    "Now that you have the center point and the art locations in the units we need to calculate distances in meters, it's time to perform that step.\n",
    "\n",
    "Instructions\n",
    "\n",
    "1. Import the package to help with pretty printing.\n",
    "2. Create a dictionary, `art_distances` by iterating through `art_dist_meters`, using `title` as the key and the `distance()` from `center` as the value. Pass `center` as the `other` argument to `GeoSeries.distance()`.\n",
    "3. Pretty print `art_distances` using the `pprint` method of `pprint`."
   ]
  },
  {
   "cell_type": "code",
   "execution_count": null,
   "id": "vietnamese-piano",
   "metadata": {},
   "outputs": [],
   "source": [
    "# Import package for pretty printing\n",
    "import pprint\n",
    "\n",
    "# Build a dictionary of titles and distances for Urban Residents art\n",
    "art_distances = {}\n",
    "for row in art_dist_meters.iterrows():\n",
    "    vals = row[1]\n",
    "    key = vals['title']\n",
    "    ctr = vals['center']\n",
    "    art_distances[key] = vals['geometry'].distance(ctr)\n",
    "\n",
    "# Print the art_distances\n",
    "pprint.pprint(art_distances)"
   ]
  },
  {
   "cell_type": "markdown",
   "id": "unexpected-discrimination",
   "metadata": {},
   "source": [
    "## Create a folium location from the urban centroid\n",
    "\n",
    "In order to construct a folium map of the Urban Residents neighborhood, you need to build a coordinate pair location that is formatted for folium.\n",
    "\n",
    "Instructions\n",
    "\n",
    "1. Print the head of `urban_polygon`, which is in your workspace.\n",
    "2. Store the first occurrence of `center` as `urban_center` and print `urban_center`.\n",
    "3. Create an array from `urban_center` that reverses the order of longitude and latitude. Call this `urban_location`.\n",
    "4. Print `urban_location`."
   ]
  },
  {
   "cell_type": "code",
   "execution_count": null,
   "id": "geographic-vitamin",
   "metadata": {},
   "outputs": [],
   "source": [
    "# Print the head of the urban_polygon\n",
    "print(urban_polygon.head())\n",
    "\n",
    "# Create urban_center from the urban_polygon center\n",
    "urban_center = urban_polygon.center[0]\n",
    "\n",
    "# Print urban_center\n",
    "print(urban_center)\n",
    "\n",
    "# Create array for folium called urban_location\n",
    "urban_location = [urban_center.y, urban_center.x]\n",
    "\n",
    "# Print urban_location\n",
    "print(urban_location)"
   ]
  },
  {
   "cell_type": "markdown",
   "id": "fatal-mumbai",
   "metadata": {},
   "source": [
    "## Create a folium map of downtown Nashville\n",
    "\n",
    "In this exercise you will create a street map of downtown Nashville using folium.\n",
    "\n",
    "Instructions\n",
    "\n",
    "1. Construct a folium map called `downtown_map`. Use the `urban_location` array you created in the previous exercise and set the initial zoom level to 15.\n",
    "2. Display your folium map object with the provided `display` function."
   ]
  },
  {
   "cell_type": "code",
   "execution_count": null,
   "id": "pursuant-difficulty",
   "metadata": {},
   "outputs": [],
   "source": [
    "# Construct a folium map with urban_location\n",
    "downtown_map = folium.Map(location=urban_location, zoom_start=15)\n",
    "\n",
    "# Display the map\n",
    "display(downtown_map)"
   ]
  },
  {
   "cell_type": "markdown",
   "id": "written-forum",
   "metadata": {},
   "source": [
    "## Folium street map of the downtown neighborhood\n",
    "\n",
    "This time you will create the folium map of downtown and add the Urban Residents neighborhood area from `urban_polygon`. The `urban_polygon` has been printed to your console.\n",
    "\n",
    "Instructions\n",
    "\n",
    "1. Create an array called `folium_loc` from `urban_polygon.center`.\n",
    "2. Create a folium map called `downtown_map`. Set the location argument equal to `folium_loc` and initialize the map with a `zoom_start` of 15.\n",
    "3. Pass the geometry from the `urban_polygon` GeoDataFrame to the `folium.GeoJson()` method. Then call `add_to()` on that."
   ]
  },
  {
   "cell_type": "code",
   "execution_count": null,
   "id": "turkish-cooperative",
   "metadata": {},
   "outputs": [],
   "source": [
    "# Create array for called folium_loc from the urban_polygon center point\n",
    "point = urban_polygon.center[0]\n",
    "folium_loc = [point.y, point.x]\n",
    "\n",
    "# Construct a map from folium_loc: downtown_map\n",
    "downtown_map = folium.Map(location=folium_loc, zoom_start=15)\n",
    "\n",
    "# Draw our neighborhood: Urban Residents\n",
    "folium.GeoJson(urban_polygon.geometry).add_to(downtown_map)\n",
    "\n",
    "# Display the map\n",
    "display(downtown_map)"
   ]
  },
  {
   "cell_type": "markdown",
   "id": "supported-acrylic",
   "metadata": {},
   "source": [
    "## Adding markers for the public art\n",
    "\n",
    "Now that you have added the polygon for the Urban Residents neighborhood to your folium street map, it's time to add the locations of the art within the neighborhood. You can do that by creating folium markers. Each marker needs a location assigned. Use `iterrows()` to loop through the data to grab the values you need.\n",
    "\n",
    "Instructions\n",
    "\n",
    "1. First take a look at the tuple returned by `iterrows()` by printing the first and second values.\n",
    "2. Assign the second value of the `iterrows()` tuple to `row_values`. Create a location formatted for `folium`, use it to build a marker, and add it to the `downtown_map`.\n",
    "3. Display the map."
   ]
  },
  {
   "cell_type": "code",
   "execution_count": null,
   "id": "determined-investor",
   "metadata": {},
   "outputs": [],
   "source": [
    "# Iterate through the urban_art and print each part of tuple returned\n",
    "for row in urban_art.iterrows():\n",
    "    print(f'first part: {row[0]}')\n",
    "    print(f'second part: {row[1]}')\n",
    "\n",
    "# Create a location and marker with each iteration for the downtown_map\n",
    "for row in urban_art.iterrows():\n",
    "    row_values = row[1] \n",
    "    location = [row_values['lat'], row_values['lng']]\n",
    "    marker = folium.Marker(location=location)\n",
    "    marker.add_to(downtown_map)\n",
    "\n",
    "# Display the map\n",
    "display(downtown_map)"
   ]
  },
  {
   "cell_type": "markdown",
   "id": "fitting-antenna",
   "metadata": {},
   "source": [
    "## Troubleshooting data issues\n",
    "\n",
    "You will be building popups for the downtown art using the `title` and `desc` columns from the `urban_art` DataFrame. Here, you will inspect those columns to identify and clean up any problematic values.\n",
    "\n",
    "Instructions\n",
    "\n",
    "1. Print and inspect the values in the `title` column of the `urban_art` DataFrame.\n",
    "2. Print and inspect the values in the `desc` column of the `urban_art` DataFrame.\n",
    "3. Use the `fillna()` method to replace the `NaN` values in the `desc` column with empty strings, and use `.str.replace` to replace the apostrophes (') with back-ticks (`).\n",
    "4. Print the descriptions again to verify your work."
   ]
  },
  {
   "cell_type": "code",
   "execution_count": null,
   "id": "environmental-cylinder",
   "metadata": {},
   "outputs": [],
   "source": [
    "# Print the urban_art titles\n",
    "print(urban_art.title)\n",
    "\n",
    "#Print the urban_art descriptions\n",
    "print(urban_art.desc)\n",
    "\n",
    "# Replace Nan and ' values in description\n",
    "urban_art.desc.fillna('', inplace = True)\n",
    "urban_art.desc = urban_art.desc.str.replace(\"'\", \"`\")\n",
    "\n",
    "#Print the urban_art descriptions again\n",
    "print(urban_art.desc)"
   ]
  },
  {
   "cell_type": "markdown",
   "id": "narrative-catering",
   "metadata": {},
   "source": [
    "## A map of downtown art\n",
    "\n",
    "Now you will assign a `popup` to each marker to give information about the artwork at each location. In particular you will assign the art title and description to the `popup` for each marker. You will do so by creating the map object `downtown_map`, then add the popups, and finally use the `display` function to show your map.\n",
    "\n",
    "One warning before you start: you'll need to ensure that all instances of single quotes (`'`) are removed from the pop-up message, otherwise your plot will not render!\n",
    "\n",
    "Instructions\n",
    "\n",
    "1. For each row in `urban_art`, build a `popup` message that includes the title and description for the corresponding artwork.\n",
    "2. Complete the code to replace all instances of single quotes (') with backticks (`) in the popup messages.\n",
    "3. Display the finished map."
   ]
  },
  {
   "cell_type": "code",
   "execution_count": null,
   "id": "superior-generic",
   "metadata": {},
   "outputs": [],
   "source": [
    "# Construct downtown map\n",
    "downtown_map = folium.Map(location = nashville, zoom_start = 15)\n",
    "folium.GeoJson(urban_polygon).add_to(downtown_map)\n",
    "\n",
    "# Create popups inside the loop you built to create the markers\n",
    "for row in urban_art.iterrows():\n",
    "    row_values = row[1] \n",
    "    location = [row_values['lat'], row_values['lng']]\n",
    "    popup = (str(row_values['title']) + ': ' + \n",
    "             str(row_values['desc'])).replace(\"'\", \"`\")\n",
    "    marker = folium.Marker(location = location, popup = popup)\n",
    "    marker.add_to(downtown_map)\n",
    "\n",
    "# Display the map.\n",
    "display(downtown_map)"
   ]
  }
 ],
 "metadata": {
  "kernelspec": {
   "display_name": "Python 3",
   "language": "python",
   "name": "python3"
  },
  "language_info": {
   "codemirror_mode": {
    "name": "ipython",
    "version": 3
   },
   "file_extension": ".py",
   "mimetype": "text/x-python",
   "name": "python",
   "nbconvert_exporter": "python",
   "pygments_lexer": "ipython3",
   "version": "3.8.5"
  },
  "toc": {
   "base_numbering": 1,
   "nav_menu": {},
   "number_sections": false,
   "sideBar": true,
   "skip_h1_title": false,
   "title_cell": "Table of Contents",
   "title_sidebar": "Contents",
   "toc_cell": false,
   "toc_position": {},
   "toc_section_display": true,
   "toc_window_display": false
  },
  "varInspector": {
   "cols": {
    "lenName": 16,
    "lenType": 16,
    "lenVar": 40
   },
   "kernels_config": {
    "python": {
     "delete_cmd_postfix": "",
     "delete_cmd_prefix": "del ",
     "library": "var_list.py",
     "varRefreshCmd": "print(var_dic_list())"
    },
    "r": {
     "delete_cmd_postfix": ") ",
     "delete_cmd_prefix": "rm(",
     "library": "var_list.r",
     "varRefreshCmd": "cat(var_dic_list()) "
    }
   },
   "types_to_exclude": [
    "module",
    "function",
    "builtin_function_or_method",
    "instance",
    "_Feature"
   ],
   "window_display": false
  }
 },
 "nbformat": 4,
 "nbformat_minor": 5
}
