{
 "cells": [
  {
   "cell_type": "markdown",
   "id": "moving-relief",
   "metadata": {},
   "source": [
    "# Visualizing Geospatial Data in Python\n",
    "\n",
    "- 4 hours\n",
    "- 14 Videos\n",
    "- 51 Exercises\n",
    "\n",
    "## Course Description\n",
    "\n",
    "One of the most important tasks of a data scientist is to understand the relationships between their data's physical location and their geographical context. In this course you'll be learning to make attractive visualizations of geospatial data with the GeoPandas package. You will learn to spatially join datasets, linking data to context. Finally you will learn to overlay geospatial data to maps to add even more spatial cues to your work. You will use several datasets from the City of Nashville's open data portal to find out where the chickens are in Nashville, which neighborhood has the most public art, and more!\n",
    "\n",
    "### 1 Building 2-layer maps : combining polygons and scatterplots\n",
    "\n",
    "In this chapter, you will learn how to create a two-layer map by first plotting regions from a shapefile and then plotting location points as a scatterplot.\n",
    "\n",
    "- Introduction\n",
    "- Plotting a scatterplot from longitude and latitude\n",
    "- Styling a scatterplot\n",
    "- Extracting longitude and latitude\n",
    "- Plotting chicken locations\n",
    "- Geometries and shapefiles\n",
    "- Creating a GeoDataFrame & examining the geometry\n",
    "- Plotting shapefile polygons\n",
    "- Scatterplots over polygons\n",
    "- Geometry\n",
    "- Plotting points over polygons - part 1\n",
    "- Plotting points over polygons - part 2\n",
    "\n",
    "### 2 Creating and joining GeoDataFrames\n",
    "\n",
    "You'll work with GeoJSON to create polygonal plots, learn about projections and coordinate reference systems, and get practice spatially joining data in this chapter.\n",
    "\n",
    "- GeoJSON and plotting with geopandas\n",
    "- Working with GeoJSON\n",
    "- Colormaps\n",
    "- Map Nashville neighborhoods\n",
    "- Projections and coordinate reference systems\n",
    "- Changing coordinate reference systems\n",
    "- Construct a GeoDataFrame from a DataFrame\n",
    "- Spatial joins\n",
    "- Spatial join practice\n",
    "- Finding the neighborhood with the most public art\n",
    "- Aggregating points within polygons\n",
    "- Plotting the Urban Residents neighborhood and art\n",
    "\n",
    "### 3 GeoSeries and folium\n",
    "\n",
    "First you will learn to get information about the geometries in your data with three different GeoSeries attributes and methods. Then you will learn to create a street map layer using folium.\n",
    "\n",
    "- GeoSeries attributes and methods I\n",
    "- Find the area of the Urban Residents neighborhood\n",
    "- GeoSeries attributes and methods II\n",
    "- The center of the Urban Residents neighborhood\n",
    "- Prepare to calculate distances\n",
    "- Art distances from neighborhood center\n",
    "- Street maps with folium\n",
    "- Create a folium location from the urban centroid\n",
    "- Create a folium map of downtown Nashville\n",
    "- Folium street map of the downtown neighborhood\n",
    "- Creating markers and popups in folium\n",
    "- Adding markers for the public art\n",
    "- Troubleshooting data issues\n",
    "- A map of downtown art\n",
    "\n",
    "### 4 Creating a choropleth building permit density in Nashville\n",
    "\n",
    "In this chapter, you will learn about a special map called a choropleth. Then you will learn and practice building choropleths using two different packages: geopandas and folium.\n",
    "\n",
    "- What is a choropleth?\n",
    "- Finding counts from a spatial join\n",
    "- Council district areas and permit counts\n",
    "- Calculating a normalized metric\n",
    "- Choropleths with geopandas\n",
    "- Geopandas choropleths\n",
    "- Area in km squared, geometry in decimal degrees\n",
    "- Spatially joining and getting counts\n",
    "- Building a polished Geopandas choropleth\n",
    "- Choropleths with folium\n",
    "- Folium choropleth\n",
    "- Folium choropleth with markers and popups\n",
    "- Closing thoughts"
   ]
  }
 ],
 "metadata": {
  "kernelspec": {
   "display_name": "Python 3",
   "language": "python",
   "name": "python3"
  },
  "language_info": {
   "codemirror_mode": {
    "name": "ipython",
    "version": 3
   },
   "file_extension": ".py",
   "mimetype": "text/x-python",
   "name": "python",
   "nbconvert_exporter": "python",
   "pygments_lexer": "ipython3",
   "version": "3.8.5"
  },
  "toc": {
   "base_numbering": 1,
   "nav_menu": {},
   "number_sections": false,
   "sideBar": true,
   "skip_h1_title": false,
   "title_cell": "Table of Contents",
   "title_sidebar": "Contents",
   "toc_cell": false,
   "toc_position": {},
   "toc_section_display": true,
   "toc_window_display": false
  },
  "varInspector": {
   "cols": {
    "lenName": 16,
    "lenType": 16,
    "lenVar": 40
   },
   "kernels_config": {
    "python": {
     "delete_cmd_postfix": "",
     "delete_cmd_prefix": "del ",
     "library": "var_list.py",
     "varRefreshCmd": "print(var_dic_list())"
    },
    "r": {
     "delete_cmd_postfix": ") ",
     "delete_cmd_prefix": "rm(",
     "library": "var_list.r",
     "varRefreshCmd": "cat(var_dic_list()) "
    }
   },
   "types_to_exclude": [
    "module",
    "function",
    "builtin_function_or_method",
    "instance",
    "_Feature"
   ],
   "window_display": false
  }
 },
 "nbformat": 4,
 "nbformat_minor": 5
}
