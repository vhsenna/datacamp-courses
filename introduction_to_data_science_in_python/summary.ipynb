{
 "cells": [
  {
   "cell_type": "markdown",
   "id": "utility-thompson",
   "metadata": {},
   "source": [
    "# Introduction to Data Science in Python\n",
    "\n",
    "- 4 hours\n",
    "- 13 Videos\n",
    "- 44 Exercises\n",
    "\n",
    "## Course Description\n",
    "\n",
    "Begin your journey into Data Science! Even if you've never written a line of code in your life, you'll be able to follow this course and witness the power of Python to perform Data Science. You'll use data to solve the mystery of Bayes, the kidnapped Golden Retriever, and along the way you'll become familiar with basic Python syntax and popular Data Science modules like Matplotlib (for charts and graphs) and Pandas (for tabular data).\n",
    "\n",
    "### 1 Getting Started in Python\n",
    "\n",
    "Welcome to the wonderful world of Data Analysis in Python! In this chapter, you'll learn the basics of Python syntax, load your first Python modules, and use functions to get a suspect list for the kidnapping of Bayes, DataCamp's prize-winning Golden Retriever.\n",
    "\n",
    "- Dive into Python\n",
    "- Importing Python modules\n",
    "- Correcting a broken import\n",
    "- Creating variables\n",
    "- Creating a float\n",
    "- Creating strings\n",
    "- Correcting string errors\n",
    "- Valid variable names\n",
    "- Fun with functions\n",
    "- Load a DataFrame\n",
    "- Correcting a function error\n",
    "- Snooping for suspects\n",
    "\n",
    "### 2 Loading Data in pandas\n",
    "\n",
    "In this chapter, you'll learn a powerful Python libary: pandas. Pandas lets you read, modify, and search tabular datasets (like spreadsheets and database tables). You'll examine credit card records for the suspects and see if any of them made suspicious purchases.\n",
    "\n",
    "- What is pandas?\n",
    "- Loading a DataFrame\n",
    "- Inspecting a DataFrame\n",
    "- Selecting columns\n",
    "- Two methods for selecting columns\n",
    "- Correcting column selection errors\n",
    "- More column selection mistakes\n",
    "- Selecting rows with logic\n",
    "- Logical testing\n",
    "- Selecting missing puppies\n",
    "- Narrowing the list of suspects\n",
    "\n",
    "### 3 Plotting Data with matplotlib\n",
    "\n",
    "Get ready to visualize your data! You'll create line plots with another Python module: matplotlib. Using line plots, you'll analyze the letter frequencies from the ransom note and several handwriting samples to determine the kidnapper.\n",
    "\n",
    "- Creating line plots\n",
    "- Working hard\n",
    "- Or hardly working?\n",
    "- Adding text to plots\n",
    "- Adding a legend\n",
    "- Adding labels\n",
    "- Adding floating text\n",
    "- Styling graphs\n",
    "- Tracking crime statistics\n",
    "- Playing with styles\n",
    "- Identifying Bayes' kidnapper\n",
    "\n",
    "### 4 Different Types of Plots\n",
    "\n",
    "In this final chapter, you'll learn how to create three new plot types: scatter plots, bar plots, and histograms. You'll use these tools to locate where the kidnapper is hiding and rescue Bayes, the Golden Retriever.\n",
    "\n",
    "- Making a scatter plot\n",
    "- Charting cellphone data\n",
    "- Modifying a scatterplot\n",
    "- Making a bar chart\n",
    "- Build a simple bar chart\n",
    "- Where did the time go?\n",
    "- Making a histogram\n",
    "- Modifying histograms\n",
    "- Heroes with histograms\n",
    "- Recap of the rescue"
   ]
  }
 ],
 "metadata": {
  "kernelspec": {
   "display_name": "Python 3",
   "language": "python",
   "name": "python3"
  },
  "language_info": {
   "codemirror_mode": {
    "name": "ipython",
    "version": 3
   },
   "file_extension": ".py",
   "mimetype": "text/x-python",
   "name": "python",
   "nbconvert_exporter": "python",
   "pygments_lexer": "ipython3",
   "version": "3.8.5"
  },
  "toc": {
   "base_numbering": 1,
   "nav_menu": {},
   "number_sections": false,
   "sideBar": true,
   "skip_h1_title": false,
   "title_cell": "Table of Contents",
   "title_sidebar": "Contents",
   "toc_cell": false,
   "toc_position": {},
   "toc_section_display": true,
   "toc_window_display": false
  },
  "varInspector": {
   "cols": {
    "lenName": 16,
    "lenType": 16,
    "lenVar": 40
   },
   "kernels_config": {
    "python": {
     "delete_cmd_postfix": "",
     "delete_cmd_prefix": "del ",
     "library": "var_list.py",
     "varRefreshCmd": "print(var_dic_list())"
    },
    "r": {
     "delete_cmd_postfix": ") ",
     "delete_cmd_prefix": "rm(",
     "library": "var_list.r",
     "varRefreshCmd": "cat(var_dic_list()) "
    }
   },
   "types_to_exclude": [
    "module",
    "function",
    "builtin_function_or_method",
    "instance",
    "_Feature"
   ],
   "window_display": false
  }
 },
 "nbformat": 4,
 "nbformat_minor": 5
}
