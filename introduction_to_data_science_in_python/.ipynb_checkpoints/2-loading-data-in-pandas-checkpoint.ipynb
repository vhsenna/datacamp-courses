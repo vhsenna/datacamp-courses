{
 "cells": [
  {
   "cell_type": "markdown",
   "metadata": {},
   "source": [
    "## Loading a DataFrame\n",
    "We're still working hard to solve the kidnapping of Bayes, the Golden Retriever. Previously, we used a license plate spotted at the crime scene to narrow the list of suspects to:\n",
    "\n",
    "- Fred Frequentist\n",
    "- Ronald Aylmer Fisher\n",
    "- Gertrude Cox\n",
    "- Kirstine Smith\n",
    "\n",
    "We've obtained credit card records for all four suspects. Perhaps some of them made suspicious purchases before the kidnapping?\n",
    "\n",
    "The records are in a CSV called `\"credit_records.csv\"`.\n",
    "\n",
    "Instructions\n",
    "\n",
    "- Load the CSV `\"credit_records.csv\"` into a DataFrame called `credit_records`.\n",
    "- Display the first five rows of `credit_records` using the `.head()` method."
   ]
  },
  {
   "cell_type": "code",
   "execution_count": 1,
   "metadata": {},
   "outputs": [
    {
     "data": {
      "text/html": [
       "<div>\n",
       "<style scoped>\n",
       "    .dataframe tbody tr th:only-of-type {\n",
       "        vertical-align: middle;\n",
       "    }\n",
       "\n",
       "    .dataframe tbody tr th {\n",
       "        vertical-align: top;\n",
       "    }\n",
       "\n",
       "    .dataframe thead th {\n",
       "        text-align: right;\n",
       "    }\n",
       "</style>\n",
       "<table border=\"1\" class=\"dataframe\">\n",
       "  <thead>\n",
       "    <tr style=\"text-align: right;\">\n",
       "      <th></th>\n",
       "      <th>suspect</th>\n",
       "      <th>location</th>\n",
       "      <th>date</th>\n",
       "      <th>item</th>\n",
       "      <th>price</th>\n",
       "    </tr>\n",
       "  </thead>\n",
       "  <tbody>\n",
       "    <tr>\n",
       "      <th>0</th>\n",
       "      <td>Kirstine Smith</td>\n",
       "      <td>Groceries R Us</td>\n",
       "      <td>January 6, 2018</td>\n",
       "      <td>broccoli</td>\n",
       "      <td>1.25</td>\n",
       "    </tr>\n",
       "    <tr>\n",
       "      <th>1</th>\n",
       "      <td>Gertrude Cox</td>\n",
       "      <td>Petroleum Plaza</td>\n",
       "      <td>January 6, 2018</td>\n",
       "      <td>fizzy drink</td>\n",
       "      <td>1.90</td>\n",
       "    </tr>\n",
       "    <tr>\n",
       "      <th>2</th>\n",
       "      <td>Fred Frequentist</td>\n",
       "      <td>Groceries R Us</td>\n",
       "      <td>January 6, 2018</td>\n",
       "      <td>broccoli</td>\n",
       "      <td>1.25</td>\n",
       "    </tr>\n",
       "    <tr>\n",
       "      <th>3</th>\n",
       "      <td>Gertrude Cox</td>\n",
       "      <td>Groceries R Us</td>\n",
       "      <td>January 12, 2018</td>\n",
       "      <td>broccoli</td>\n",
       "      <td>1.25</td>\n",
       "    </tr>\n",
       "    <tr>\n",
       "      <th>4</th>\n",
       "      <td>Kirstine Smith</td>\n",
       "      <td>Clothing Club</td>\n",
       "      <td>January 9, 2018</td>\n",
       "      <td>shirt</td>\n",
       "      <td>14.25</td>\n",
       "    </tr>\n",
       "  </tbody>\n",
       "</table>\n",
       "</div>"
      ],
      "text/plain": [
       "            suspect         location              date         item  price\n",
       "0    Kirstine Smith   Groceries R Us   January 6, 2018     broccoli   1.25\n",
       "1      Gertrude Cox  Petroleum Plaza   January 6, 2018  fizzy drink   1.90\n",
       "2  Fred Frequentist   Groceries R Us   January 6, 2018     broccoli   1.25\n",
       "3      Gertrude Cox   Groceries R Us  January 12, 2018     broccoli   1.25\n",
       "4    Kirstine Smith    Clothing Club   January 9, 2018        shirt  14.25"
      ]
     },
     "execution_count": 1,
     "metadata": {},
     "output_type": "execute_result"
    }
   ],
   "source": [
    "# Import pandas under the alias pd\n",
    "import pandas as pd\n",
    "\n",
    "# Load the CSV \"credit_records.csv\"\n",
    "credit_records = pd.read_csv('credit_records.csv')\n",
    "\n",
    "# Display the first five rows of credit_records using the .head() method\n",
    "credit_records.head()"
   ]
  },
  {
   "cell_type": "markdown",
   "metadata": {},
   "source": [
    "## Inspecting a DataFrame\n",
    "We've loaded the credit card records of our four suspects into a DataFrame called `credit_records`. Let's learn more about the structure of this DataFrame.\n",
    "\n",
    "The `pandas` module has been imported under the alias `pd`. The DataFrame `credit_records` has already been imported.\n",
    "\n",
    "How many rows are in `credit_records`?\n",
    "\n",
    "Instructions\n",
    "\n",
    "- Use the `.info()` method to inspect the DataFrame `credit_records`\n",
    "- How many rows are in `credit_records`?"
   ]
  },
  {
   "cell_type": "code",
   "execution_count": 2,
   "metadata": {},
   "outputs": [
    {
     "name": "stdout",
     "output_type": "stream",
     "text": [
      "<class 'pandas.core.frame.DataFrame'>\n",
      "RangeIndex: 104 entries, 0 to 103\n",
      "Data columns (total 5 columns):\n",
      " #   Column    Non-Null Count  Dtype  \n",
      "---  ------    --------------  -----  \n",
      " 0   suspect   104 non-null    object \n",
      " 1   location  104 non-null    object \n",
      " 2   date      104 non-null    object \n",
      " 3   item      104 non-null    object \n",
      " 4   price     104 non-null    float64\n",
      "dtypes: float64(1), object(4)\n",
      "memory usage: 4.2+ KB\n"
     ]
    }
   ],
   "source": [
    "# Use .info() to inspect the DataFrame credit_records\n",
    "credit_records.info()"
   ]
  },
  {
   "cell_type": "markdown",
   "metadata": {},
   "source": [
    "## Two methods for selecting columns\n",
    "Once again, we've loaded the credit card records of our four suspects into a DataFrame called `credit_records`. Let's examine the items that they've purchased.\n",
    "\n",
    "The `pandas` module has been imported under the alias `pd`. The DataFrame `credit_records` has already been imported.\n",
    "\n",
    "Instructions\n",
    "\n",
    "- Select the column `item` from `credit_records` using brackets and string notation.\n",
    "- Select the column `item` from `credit_records` using dot notation."
   ]
  },
  {
   "cell_type": "code",
   "execution_count": 3,
   "metadata": {},
   "outputs": [
    {
     "data": {
      "text/html": [
       "<div>\n",
       "<style scoped>\n",
       "    .dataframe tbody tr th:only-of-type {\n",
       "        vertical-align: middle;\n",
       "    }\n",
       "\n",
       "    .dataframe tbody tr th {\n",
       "        vertical-align: top;\n",
       "    }\n",
       "\n",
       "    .dataframe thead th {\n",
       "        text-align: right;\n",
       "    }\n",
       "</style>\n",
       "<table border=\"1\" class=\"dataframe\">\n",
       "  <thead>\n",
       "    <tr style=\"text-align: right;\">\n",
       "      <th></th>\n",
       "      <th>item</th>\n",
       "    </tr>\n",
       "  </thead>\n",
       "  <tbody>\n",
       "    <tr>\n",
       "      <th>0</th>\n",
       "      <td>broccoli</td>\n",
       "    </tr>\n",
       "    <tr>\n",
       "      <th>1</th>\n",
       "      <td>fizzy drink</td>\n",
       "    </tr>\n",
       "    <tr>\n",
       "      <th>2</th>\n",
       "      <td>broccoli</td>\n",
       "    </tr>\n",
       "    <tr>\n",
       "      <th>3</th>\n",
       "      <td>broccoli</td>\n",
       "    </tr>\n",
       "    <tr>\n",
       "      <th>4</th>\n",
       "      <td>shirt</td>\n",
       "    </tr>\n",
       "    <tr>\n",
       "      <th>...</th>\n",
       "      <td>...</td>\n",
       "    </tr>\n",
       "    <tr>\n",
       "      <th>99</th>\n",
       "      <td>shirt</td>\n",
       "    </tr>\n",
       "    <tr>\n",
       "      <th>100</th>\n",
       "      <td>pants</td>\n",
       "    </tr>\n",
       "    <tr>\n",
       "      <th>101</th>\n",
       "      <td>dress</td>\n",
       "    </tr>\n",
       "    <tr>\n",
       "      <th>102</th>\n",
       "      <td>burger</td>\n",
       "    </tr>\n",
       "    <tr>\n",
       "      <th>103</th>\n",
       "      <td>cucumbers</td>\n",
       "    </tr>\n",
       "  </tbody>\n",
       "</table>\n",
       "<p>104 rows × 1 columns</p>\n",
       "</div>"
      ],
      "text/plain": [
       "            item\n",
       "0       broccoli\n",
       "1    fizzy drink\n",
       "2       broccoli\n",
       "3       broccoli\n",
       "4          shirt\n",
       "..           ...\n",
       "99         shirt\n",
       "100        pants\n",
       "101        dress\n",
       "102       burger\n",
       "103    cucumbers\n",
       "\n",
       "[104 rows x 1 columns]"
      ]
     },
     "execution_count": 3,
     "metadata": {},
     "output_type": "execute_result"
    }
   ],
   "source": [
    "# Select the column item from credit_records\n",
    "# Use brackets and string notation\n",
    "items = credit_records[['item']]\n",
    "\n",
    "# Display the results\n",
    "items"
   ]
  },
  {
   "cell_type": "code",
   "execution_count": 4,
   "metadata": {},
   "outputs": [
    {
     "data": {
      "text/plain": [
       "0         broccoli\n",
       "1      fizzy drink\n",
       "2         broccoli\n",
       "3         broccoli\n",
       "4            shirt\n",
       "          ...     \n",
       "99           shirt\n",
       "100          pants\n",
       "101          dress\n",
       "102         burger\n",
       "103      cucumbers\n",
       "Name: item, Length: 104, dtype: object"
      ]
     },
     "execution_count": 4,
     "metadata": {},
     "output_type": "execute_result"
    }
   ],
   "source": [
    "# Select the column item from credit_records\n",
    "# Use dot notation\n",
    "items = credit_records.item\n",
    "\n",
    "# Display the results\n",
    "items"
   ]
  },
  {
   "cell_type": "markdown",
   "metadata": {},
   "source": [
    "## Correcting column selection errors\n",
    "A junior detective tried to access the location columns of `credit_records`, but he made some mistakes. Help correct his code so that we can search for suspicious purchases.\n",
    "\n",
    "In all exercises going forward, `pandas` will be imported as `pd`. The DataFrame `credit_records` has already been imported.\n",
    "\n",
    "Instructions\n",
    "\n",
    "- Correct the code so that it runs without errors."
   ]
  },
  {
   "cell_type": "code",
   "execution_count": 5,
   "metadata": {},
   "outputs": [
    {
     "data": {
      "text/plain": [
       "0       Groceries R Us\n",
       "1      Petroleum Plaza\n",
       "2       Groceries R Us\n",
       "3       Groceries R Us\n",
       "4        Clothing Club\n",
       "            ...       \n",
       "99       Clothing Club\n",
       "100      Clothing Club\n",
       "101      Clothing Club\n",
       "102        Burger Mart\n",
       "103     Groceries R Us\n",
       "Name: location, Length: 104, dtype: object"
      ]
     },
     "execution_count": 5,
     "metadata": {},
     "output_type": "execute_result"
    }
   ],
   "source": [
    "# One or more lines of code contain errors.\n",
    "# Fix the errors so that the code runs.\n",
    "\n",
    "# Select the location column in credit_records\n",
    "location = credit_records['location']\n",
    "\n",
    "# Select the item column in credit_records\n",
    "items = credit_records.item\n",
    "\n",
    "# Display results\n",
    "location"
   ]
  },
  {
   "cell_type": "markdown",
   "metadata": {},
   "source": [
    "## More column selection mistakes\n",
    "Another junior detective is examining a DataFrame of Missing Puppy Reports. He's made some mistakes that cause the code to fail.\n",
    "\n",
    "The DataFrame is called `mpr`.\n",
    "\n",
    "Instructions\n",
    "\n",
    "- Inspect the DataFrame `mpr` using `info()`.\n",
    "- Correct the mistakes in the code so that it runs without errors."
   ]
  },
  {
   "cell_type": "code",
   "execution_count": 7,
   "metadata": {},
   "outputs": [
    {
     "name": "stdout",
     "output_type": "stream",
     "text": [
      "<class 'pandas.core.frame.DataFrame'>\n",
      "RangeIndex: 6 entries, 0 to 5\n",
      "Data columns (total 5 columns):\n",
      " #   Column      Non-Null Count  Dtype \n",
      "---  ------      --------------  ----- \n",
      " 0   Dog Name    6 non-null      object\n",
      " 1   Owner Name  5 non-null      object\n",
      " 2   Dog Breed   6 non-null      object\n",
      " 3   Status      6 non-null      object\n",
      " 4   Age         6 non-null      int64 \n",
      "dtypes: int64(1), object(4)\n",
      "memory usage: 368.0+ bytes\n"
     ]
    }
   ],
   "source": [
    "# Load the CSV \"mpr.csv\"\n",
    "mpr = pd.read_csv('mpr.csv')\n",
    "\n",
    "# Use info() to inspect mpr\n",
    "mpr.info()"
   ]
  },
  {
   "cell_type": "code",
   "execution_count": 8,
   "metadata": {},
   "outputs": [
    {
     "data": {
      "text/html": [
       "<div>\n",
       "<style scoped>\n",
       "    .dataframe tbody tr th:only-of-type {\n",
       "        vertical-align: middle;\n",
       "    }\n",
       "\n",
       "    .dataframe tbody tr th {\n",
       "        vertical-align: top;\n",
       "    }\n",
       "\n",
       "    .dataframe thead th {\n",
       "        text-align: right;\n",
       "    }\n",
       "</style>\n",
       "<table border=\"1\" class=\"dataframe\">\n",
       "  <thead>\n",
       "    <tr style=\"text-align: right;\">\n",
       "      <th></th>\n",
       "      <th>Dog Name</th>\n",
       "    </tr>\n",
       "  </thead>\n",
       "  <tbody>\n",
       "    <tr>\n",
       "      <th>0</th>\n",
       "      <td>Bayes</td>\n",
       "    </tr>\n",
       "    <tr>\n",
       "      <th>1</th>\n",
       "      <td>Sigmoid</td>\n",
       "    </tr>\n",
       "    <tr>\n",
       "      <th>2</th>\n",
       "      <td>Sparky</td>\n",
       "    </tr>\n",
       "    <tr>\n",
       "      <th>3</th>\n",
       "      <td>Theorem</td>\n",
       "    </tr>\n",
       "    <tr>\n",
       "      <th>4</th>\n",
       "      <td>Ned</td>\n",
       "    </tr>\n",
       "    <tr>\n",
       "      <th>5</th>\n",
       "      <td>Benny</td>\n",
       "    </tr>\n",
       "  </tbody>\n",
       "</table>\n",
       "</div>"
      ],
      "text/plain": [
       "  Dog Name\n",
       "0    Bayes\n",
       "1  Sigmoid\n",
       "2   Sparky\n",
       "3  Theorem\n",
       "4      Ned\n",
       "5    Benny"
      ]
     },
     "metadata": {},
     "output_type": "display_data"
    },
    {
     "data": {
      "text/html": [
       "<div>\n",
       "<style scoped>\n",
       "    .dataframe tbody tr th:only-of-type {\n",
       "        vertical-align: middle;\n",
       "    }\n",
       "\n",
       "    .dataframe tbody tr th {\n",
       "        vertical-align: top;\n",
       "    }\n",
       "\n",
       "    .dataframe thead th {\n",
       "        text-align: right;\n",
       "    }\n",
       "</style>\n",
       "<table border=\"1\" class=\"dataframe\">\n",
       "  <thead>\n",
       "    <tr style=\"text-align: right;\">\n",
       "      <th></th>\n",
       "      <th>Status</th>\n",
       "    </tr>\n",
       "  </thead>\n",
       "  <tbody>\n",
       "    <tr>\n",
       "      <th>0</th>\n",
       "      <td>Still Missing</td>\n",
       "    </tr>\n",
       "    <tr>\n",
       "      <th>1</th>\n",
       "      <td>Still Missing</td>\n",
       "    </tr>\n",
       "    <tr>\n",
       "      <th>2</th>\n",
       "      <td>Found</td>\n",
       "    </tr>\n",
       "    <tr>\n",
       "      <th>3</th>\n",
       "      <td>Found</td>\n",
       "    </tr>\n",
       "    <tr>\n",
       "      <th>4</th>\n",
       "      <td>Still Missing</td>\n",
       "    </tr>\n",
       "    <tr>\n",
       "      <th>5</th>\n",
       "      <td>Found</td>\n",
       "    </tr>\n",
       "  </tbody>\n",
       "</table>\n",
       "</div>"
      ],
      "text/plain": [
       "          Status\n",
       "0  Still Missing\n",
       "1  Still Missing\n",
       "2          Found\n",
       "3          Found\n",
       "4  Still Missing\n",
       "5          Found"
      ]
     },
     "metadata": {},
     "output_type": "display_data"
    }
   ],
   "source": [
    "# The following code contains one or more errors\n",
    "# Correct the mistakes in the code so that it runs without errors\n",
    "\n",
    "# Select column \"Dog Name\" from mpr\n",
    "name = mpr[['Dog Name']]\n",
    "\n",
    "# Select column \"Status\" from mpr\n",
    "is_missing = mpr[['Status']]\n",
    "\n",
    "# Display the columns\n",
    "display(name)\n",
    "display(is_missing)"
   ]
  },
  {
   "cell_type": "markdown",
   "metadata": {},
   "source": [
    "## Logical testing\n",
    "Let's practice writing logical statements and displaying the output.\n",
    "\n",
    "Recall that we use the following operators:\n",
    "\n",
    "- `==` tests that two values are equal.\n",
    "- `!=` tests that two values are not equal.\n",
    "- `>` and `<` test that greater than or less than, respectively.\n",
    "- `>=` and `<=` test greater than or equal to or less than or equal to, respectively.\n",
    "\n",
    "Instructiona\n",
    "\n",
    "- The variable `height_inches` represents the height of a suspect. Is `height_inches` greater than `70` inches?\n",
    "- The variable `plate1` represents a license plate number of a suspect. Is it equal to `FRQ123`?\n",
    "- The variable `fur_color` represents the color of Bayes' fur. Check that `fur_color` is _not_ equal to `\"brown\"`."
   ]
  },
  {
   "cell_type": "code",
   "execution_count": 10,
   "metadata": {},
   "outputs": [],
   "source": [
    "height_inches = 65\n",
    "plate1 = 'FRQ123'\n",
    "fur_color = 'blonde'"
   ]
  },
  {
   "cell_type": "code",
   "execution_count": 12,
   "metadata": {},
   "outputs": [
    {
     "name": "stdout",
     "output_type": "stream",
     "text": [
      "False\n",
      "True\n",
      "True\n"
     ]
    }
   ],
   "source": [
    "# Is height_inches greater than 70 inches?\n",
    "print(height_inches > 70)\n",
    "\n",
    "# Is plate1 equal to \"FRQ123\"?\n",
    "print(plate1 == \"FRQ123\")\n",
    "\n",
    "# Is fur_color not equal to \"brown\"?\n",
    "print(fur_color != \"brown\")"
   ]
  },
  {
   "cell_type": "markdown",
   "metadata": {},
   "source": [
    "## Selecting missing puppies\n",
    "Let's return to our DataFrame of missing puppies, which is loaded as `mpr`. Let's select a few different rows to learn more about the other missing dogs.\n",
    "\n",
    "Instructions\n",
    "\n",
    "- Select the dogs where `Age` is greater than `2`.\n",
    "- Select the dogs whose `Status` is equal to `Still Missing`.\n",
    "- Select all dogs whose `Dog Breed` is not equal to `Poodle`."
   ]
  },
  {
   "cell_type": "code",
   "execution_count": 14,
   "metadata": {},
   "outputs": [
    {
     "data": {
      "text/html": [
       "<div>\n",
       "<style scoped>\n",
       "    .dataframe tbody tr th:only-of-type {\n",
       "        vertical-align: middle;\n",
       "    }\n",
       "\n",
       "    .dataframe tbody tr th {\n",
       "        vertical-align: top;\n",
       "    }\n",
       "\n",
       "    .dataframe thead th {\n",
       "        text-align: right;\n",
       "    }\n",
       "</style>\n",
       "<table border=\"1\" class=\"dataframe\">\n",
       "  <thead>\n",
       "    <tr style=\"text-align: right;\">\n",
       "      <th></th>\n",
       "      <th>Dog Name</th>\n",
       "      <th>Owner Name</th>\n",
       "      <th>Dog Breed</th>\n",
       "      <th>Status</th>\n",
       "      <th>Age</th>\n",
       "    </tr>\n",
       "  </thead>\n",
       "  <tbody>\n",
       "    <tr>\n",
       "      <th>2</th>\n",
       "      <td>Sparky</td>\n",
       "      <td>Dr. Apache</td>\n",
       "      <td>Border Collie</td>\n",
       "      <td>Found</td>\n",
       "      <td>3</td>\n",
       "    </tr>\n",
       "    <tr>\n",
       "      <th>3</th>\n",
       "      <td>Theorem</td>\n",
       "      <td>Joseph-Louis Lagrange</td>\n",
       "      <td>French Bulldog</td>\n",
       "      <td>Found</td>\n",
       "      <td>4</td>\n",
       "    </tr>\n",
       "    <tr>\n",
       "      <th>5</th>\n",
       "      <td>Benny</td>\n",
       "      <td>Hillary Green-Lerman</td>\n",
       "      <td>Poodle</td>\n",
       "      <td>Found</td>\n",
       "      <td>3</td>\n",
       "    </tr>\n",
       "  </tbody>\n",
       "</table>\n",
       "</div>"
      ],
      "text/plain": [
       "  Dog Name             Owner Name       Dog Breed Status  Age\n",
       "2   Sparky             Dr. Apache   Border Collie  Found    3\n",
       "3  Theorem  Joseph-Louis Lagrange  French Bulldog  Found    4\n",
       "5    Benny   Hillary Green-Lerman          Poodle  Found    3"
      ]
     },
     "execution_count": 14,
     "metadata": {},
     "output_type": "execute_result"
    }
   ],
   "source": [
    "# Select the dogs where Age is greater than 2\n",
    "greater_than_2 = mpr[mpr['Age'] > 2]\n",
    "greater_than_2"
   ]
  },
  {
   "cell_type": "code",
   "execution_count": 15,
   "metadata": {},
   "outputs": [
    {
     "data": {
      "text/html": [
       "<div>\n",
       "<style scoped>\n",
       "    .dataframe tbody tr th:only-of-type {\n",
       "        vertical-align: middle;\n",
       "    }\n",
       "\n",
       "    .dataframe tbody tr th {\n",
       "        vertical-align: top;\n",
       "    }\n",
       "\n",
       "    .dataframe thead th {\n",
       "        text-align: right;\n",
       "    }\n",
       "</style>\n",
       "<table border=\"1\" class=\"dataframe\">\n",
       "  <thead>\n",
       "    <tr style=\"text-align: right;\">\n",
       "      <th></th>\n",
       "      <th>Dog Name</th>\n",
       "      <th>Owner Name</th>\n",
       "      <th>Dog Breed</th>\n",
       "      <th>Status</th>\n",
       "      <th>Age</th>\n",
       "    </tr>\n",
       "  </thead>\n",
       "  <tbody>\n",
       "    <tr>\n",
       "      <th>0</th>\n",
       "      <td>Bayes</td>\n",
       "      <td>DataCamp</td>\n",
       "      <td>Golden Retriever</td>\n",
       "      <td>Still Missing</td>\n",
       "      <td>1</td>\n",
       "    </tr>\n",
       "    <tr>\n",
       "      <th>1</th>\n",
       "      <td>Sigmoid</td>\n",
       "      <td>NaN</td>\n",
       "      <td>Dachshund</td>\n",
       "      <td>Still Missing</td>\n",
       "      <td>2</td>\n",
       "    </tr>\n",
       "    <tr>\n",
       "      <th>4</th>\n",
       "      <td>Ned</td>\n",
       "      <td>Tim Oliphant</td>\n",
       "      <td>Shih Tzu</td>\n",
       "      <td>Still Missing</td>\n",
       "      <td>2</td>\n",
       "    </tr>\n",
       "  </tbody>\n",
       "</table>\n",
       "</div>"
      ],
      "text/plain": [
       "  Dog Name    Owner Name         Dog Breed         Status  Age\n",
       "0    Bayes      DataCamp  Golden Retriever  Still Missing    1\n",
       "1  Sigmoid           NaN         Dachshund  Still Missing    2\n",
       "4      Ned  Tim Oliphant          Shih Tzu  Still Missing    2"
      ]
     },
     "execution_count": 15,
     "metadata": {},
     "output_type": "execute_result"
    }
   ],
   "source": [
    "# Select the dogs whose Status is equal to Still Missing\n",
    "still_missing = mpr[mpr['Status'] == 'Still Missing']\n",
    "still_missing"
   ]
  },
  {
   "cell_type": "code",
   "execution_count": 16,
   "metadata": {},
   "outputs": [
    {
     "data": {
      "text/html": [
       "<div>\n",
       "<style scoped>\n",
       "    .dataframe tbody tr th:only-of-type {\n",
       "        vertical-align: middle;\n",
       "    }\n",
       "\n",
       "    .dataframe tbody tr th {\n",
       "        vertical-align: top;\n",
       "    }\n",
       "\n",
       "    .dataframe thead th {\n",
       "        text-align: right;\n",
       "    }\n",
       "</style>\n",
       "<table border=\"1\" class=\"dataframe\">\n",
       "  <thead>\n",
       "    <tr style=\"text-align: right;\">\n",
       "      <th></th>\n",
       "      <th>Dog Name</th>\n",
       "      <th>Owner Name</th>\n",
       "      <th>Dog Breed</th>\n",
       "      <th>Status</th>\n",
       "      <th>Age</th>\n",
       "    </tr>\n",
       "  </thead>\n",
       "  <tbody>\n",
       "    <tr>\n",
       "      <th>0</th>\n",
       "      <td>Bayes</td>\n",
       "      <td>DataCamp</td>\n",
       "      <td>Golden Retriever</td>\n",
       "      <td>Still Missing</td>\n",
       "      <td>1</td>\n",
       "    </tr>\n",
       "    <tr>\n",
       "      <th>1</th>\n",
       "      <td>Sigmoid</td>\n",
       "      <td>NaN</td>\n",
       "      <td>Dachshund</td>\n",
       "      <td>Still Missing</td>\n",
       "      <td>2</td>\n",
       "    </tr>\n",
       "    <tr>\n",
       "      <th>2</th>\n",
       "      <td>Sparky</td>\n",
       "      <td>Dr. Apache</td>\n",
       "      <td>Border Collie</td>\n",
       "      <td>Found</td>\n",
       "      <td>3</td>\n",
       "    </tr>\n",
       "    <tr>\n",
       "      <th>3</th>\n",
       "      <td>Theorem</td>\n",
       "      <td>Joseph-Louis Lagrange</td>\n",
       "      <td>French Bulldog</td>\n",
       "      <td>Found</td>\n",
       "      <td>4</td>\n",
       "    </tr>\n",
       "    <tr>\n",
       "      <th>4</th>\n",
       "      <td>Ned</td>\n",
       "      <td>Tim Oliphant</td>\n",
       "      <td>Shih Tzu</td>\n",
       "      <td>Still Missing</td>\n",
       "      <td>2</td>\n",
       "    </tr>\n",
       "  </tbody>\n",
       "</table>\n",
       "</div>"
      ],
      "text/plain": [
       "  Dog Name             Owner Name         Dog Breed         Status  Age\n",
       "0    Bayes               DataCamp  Golden Retriever  Still Missing    1\n",
       "1  Sigmoid                    NaN         Dachshund  Still Missing    2\n",
       "2   Sparky             Dr. Apache     Border Collie          Found    3\n",
       "3  Theorem  Joseph-Louis Lagrange    French Bulldog          Found    4\n",
       "4      Ned           Tim Oliphant          Shih Tzu  Still Missing    2"
      ]
     },
     "execution_count": 16,
     "metadata": {},
     "output_type": "execute_result"
    }
   ],
   "source": [
    "# Select all dogs whose Dog Breed is not equal to Poodle\n",
    "not_poodle = mpr[mpr['Dog Breed'] != 'Poodle']\n",
    "not_poodle"
   ]
  },
  {
   "cell_type": "markdown",
   "metadata": {},
   "source": [
    "## Narrowing the list of suspects\n",
    "In Chapter 1, we found a list of people whose cars matched the description of the one that kidnapped Bayes:\n",
    "\n",
    "- Fred Frequentist\n",
    "- Ronald Aylmer Fisher\n",
    "- Gertrude Cox\n",
    "- Kirstine Smith\n",
    "\n",
    "We'd like to narrow this list down, so we obtained credit card records for each suspect. We'd like to know if any of them recently purchased dog treats to use in the kidnapping. If they did, they would have visited `'Pet Paradise'`.\n",
    "\n",
    "The credit records have been loaded into a DataFrame called `credit_records`.\n",
    "\n",
    "Instructions\n",
    "\n",
    "- Select rows of `credit_records` such that the column `location` is equal to `'Pet Paradise'`.\n",
    "- Which suspects purchased pet supplies before the kidnapping?"
   ]
  },
  {
   "cell_type": "code",
   "execution_count": 17,
   "metadata": {},
   "outputs": [
    {
     "data": {
      "text/html": [
       "<div>\n",
       "<style scoped>\n",
       "    .dataframe tbody tr th:only-of-type {\n",
       "        vertical-align: middle;\n",
       "    }\n",
       "\n",
       "    .dataframe tbody tr th {\n",
       "        vertical-align: top;\n",
       "    }\n",
       "\n",
       "    .dataframe thead th {\n",
       "        text-align: right;\n",
       "    }\n",
       "</style>\n",
       "<table border=\"1\" class=\"dataframe\">\n",
       "  <thead>\n",
       "    <tr style=\"text-align: right;\">\n",
       "      <th></th>\n",
       "      <th>suspect</th>\n",
       "      <th>location</th>\n",
       "      <th>date</th>\n",
       "      <th>item</th>\n",
       "      <th>price</th>\n",
       "    </tr>\n",
       "  </thead>\n",
       "  <tbody>\n",
       "    <tr>\n",
       "      <th>7</th>\n",
       "      <td>Fred Frequentist</td>\n",
       "      <td>Pet Paradise</td>\n",
       "      <td>January 14, 2018</td>\n",
       "      <td>dog treats</td>\n",
       "      <td>8.75</td>\n",
       "    </tr>\n",
       "    <tr>\n",
       "      <th>8</th>\n",
       "      <td>Fred Frequentist</td>\n",
       "      <td>Pet Paradise</td>\n",
       "      <td>January 14, 2018</td>\n",
       "      <td>dog collar</td>\n",
       "      <td>12.25</td>\n",
       "    </tr>\n",
       "    <tr>\n",
       "      <th>27</th>\n",
       "      <td>Gertrude Cox</td>\n",
       "      <td>Pet Paradise</td>\n",
       "      <td>January 13, 2018</td>\n",
       "      <td>dog chew toy</td>\n",
       "      <td>5.95</td>\n",
       "    </tr>\n",
       "    <tr>\n",
       "      <th>28</th>\n",
       "      <td>Gertrude Cox</td>\n",
       "      <td>Pet Paradise</td>\n",
       "      <td>January 13, 2018</td>\n",
       "      <td>dog treats</td>\n",
       "      <td>8.75</td>\n",
       "    </tr>\n",
       "  </tbody>\n",
       "</table>\n",
       "</div>"
      ],
      "text/plain": [
       "             suspect      location              date          item  price\n",
       "7   Fred Frequentist  Pet Paradise  January 14, 2018    dog treats   8.75\n",
       "8   Fred Frequentist  Pet Paradise  January 14, 2018    dog collar  12.25\n",
       "27      Gertrude Cox  Pet Paradise  January 13, 2018  dog chew toy   5.95\n",
       "28      Gertrude Cox  Pet Paradise  January 13, 2018    dog treats   8.75"
      ]
     },
     "execution_count": 17,
     "metadata": {},
     "output_type": "execute_result"
    }
   ],
   "source": [
    "# Select purchases from 'Pet Paradise'\n",
    "purchase = credit_records[credit_records['location'] == 'Pet Paradise']\n",
    "\n",
    "# Display\n",
    "purchase"
   ]
  }
 ],
 "metadata": {
  "kernelspec": {
   "display_name": "Python 3",
   "language": "python",
   "name": "python3"
  },
  "language_info": {
   "codemirror_mode": {
    "name": "ipython",
    "version": 3
   },
   "file_extension": ".py",
   "mimetype": "text/x-python",
   "name": "python",
   "nbconvert_exporter": "python",
   "pygments_lexer": "ipython3",
   "version": "3.8.5"
  },
  "toc": {
   "base_numbering": 1,
   "nav_menu": {},
   "number_sections": true,
   "sideBar": true,
   "skip_h1_title": false,
   "title_cell": "Table of Contents",
   "title_sidebar": "Contents",
   "toc_cell": false,
   "toc_position": {},
   "toc_section_display": true,
   "toc_window_display": false
  },
  "varInspector": {
   "cols": {
    "lenName": 16,
    "lenType": 16,
    "lenVar": 40
   },
   "kernels_config": {
    "python": {
     "delete_cmd_postfix": "",
     "delete_cmd_prefix": "del ",
     "library": "var_list.py",
     "varRefreshCmd": "print(var_dic_list())"
    },
    "r": {
     "delete_cmd_postfix": ") ",
     "delete_cmd_prefix": "rm(",
     "library": "var_list.r",
     "varRefreshCmd": "cat(var_dic_list()) "
    }
   },
   "types_to_exclude": [
    "module",
    "function",
    "builtin_function_or_method",
    "instance",
    "_Feature"
   ],
   "window_display": false
  }
 },
 "nbformat": 4,
 "nbformat_minor": 2
}
