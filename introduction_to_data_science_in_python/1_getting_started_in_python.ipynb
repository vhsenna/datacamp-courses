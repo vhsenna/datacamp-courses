{
 "cells": [
  {
   "cell_type": "markdown",
   "metadata": {},
   "source": [
    "## Importing Python modules\n",
    "\n",
    "Modules (sometimes called _packages_ or _libraries_) help group together related sets of tools in Python. In this exercise, we'll examine two modules that are frequently used by Data Scientists:\n",
    "\n",
    "- `statsmodels`: used in machine learning; usually aliased as `sm`\n",
    "- `seaborn`: a visualization library; usually aliased as `sns`\n",
    "\n",
    "Note that each module has a standard alias, which allows you to access the tools inside of the module without typing as many characters. For example, aliasing lets us shorten `seaborn.scatterplot()` to `sns.scatterplot()`.\n",
    "\n",
    "Instructions\n",
    "\n",
    "1. In the script editor, use an `import` statement to import `statsmodels`.\n",
    "2. Add an `as` statement to alias `statsmodels` to `sm`.\n",
    "3. Add an `as` statement to alias `seaborn` to `sns`."
   ]
  },
  {
   "cell_type": "code",
   "execution_count": 1,
   "metadata": {},
   "outputs": [],
   "source": [
    "# Use an import statement to import statsmodels\n",
    "import statsmodels\n",
    "\n",
    "# Import statsmodels under the alias sm\n",
    "import statsmodels as sm\n",
    "\n",
    "# Use an import statement to import seaborn with alias sns\n",
    "import seaborn as sns"
   ]
  },
  {
   "cell_type": "markdown",
   "metadata": {},
   "source": [
    "## Creating a float\n",
    "\n",
    "Before we start looking for Bayes' kidnapper, we need to fill out a Missing Puppy Report with details of the case. Each piece of information will be stored as a variable.\n",
    "\n",
    "We define a variable using an equals sign (`=`). For instance, we would define the variable `height`:\n",
    "\n",
    "```\n",
    "height = 24\n",
    "```\n",
    "\n",
    "In this exercise, we'll be defining `bayes_age` to be `4.0` months old. The data type for this variable will be _float_, meaning that it is a number.\n",
    "\n",
    "Instructions\n",
    "\n",
    "1. Define a variable called `bayes_age` and set it equal to `4.0`.\n",
    "2. Display the variable `bayes_age`."
   ]
  },
  {
   "cell_type": "code",
   "execution_count": 2,
   "metadata": {},
   "outputs": [
    {
     "data": {
      "text/plain": [
       "4.0"
      ]
     },
     "execution_count": 2,
     "metadata": {},
     "output_type": "execute_result"
    }
   ],
   "source": [
    "# Fill in Bayes' age (4.0)\n",
    "bayes_age = 4.0\n",
    "\n",
    "# Display the variable bayes_age\n",
    "bayes_age"
   ]
  },
  {
   "cell_type": "markdown",
   "metadata": {},
   "source": [
    "## Creating strings\n",
    "\n",
    "Let's continue to fill out the Missing Puppy Report for Bayes. In the previous exercise, we defined `bayes_age`, which was a float, which represents a number.\n",
    "\n",
    "In this exercise, we'll define `favorite_toy` and owner, which will both be strings. A string represents text. A string is surrounded by quotation marks (`'` or `\"`) and can contain letters, numbers, and special characters. It doesn't matter if you use single (`'`) or double (`\"`) quotes, but it's important to be consistent throughout your code.\n",
    "\n",
    "Instructions\n",
    "\n",
    "1. Define a variable called `favorite_toy` whose value is `\"Mr. Squeaky\"`.\n",
    "2. Define a variable called `owner` whose value is `'DataCamp'`.\n",
    "3. Show the values assigned to these variables."
   ]
  },
  {
   "cell_type": "code",
   "execution_count": 3,
   "metadata": {},
   "outputs": [
    {
     "name": "stdout",
     "output_type": "stream",
     "text": [
      "Mr. Squeaky\n",
      "DataCamp\n"
     ]
    }
   ],
   "source": [
    "# Bayes' favorite toy\n",
    "favorite_toy = 'Mr. Squeaky'\n",
    "\n",
    "# Bayes' owner\n",
    "owner = 'DataCamp'\n",
    "\n",
    "# Display variables\n",
    "print(favorite_toy)\n",
    "print(owner)"
   ]
  },
  {
   "cell_type": "markdown",
   "metadata": {},
   "source": [
    "## Correcting string errors\n",
    "\n",
    "It's easy to make errors when you're trying to type strings quickly.\n",
    "\n",
    "- Don't forget to use quotes! Without quotes, you'll get a name error.\n",
    "\n",
    "```\n",
    "owner = DataCamp\n",
    "```\n",
    "\n",
    "- Use the same type of quotation mark. If you start with a single quote, and end with a double quote, you'll get a syntax error.\n",
    "\n",
    "```\n",
    "fur_color = \"blonde\"\n",
    "```\n",
    "\n",
    "Someone at the police station made an error when filling out the final lines of Bayes' Missing Puppy Report. In this exercise, you will correct the errors.\n",
    "\n",
    "Instructions\n",
    "\n",
    "1. Correct the mistakes in the code so that it runs without producing syntax errors."
   ]
  },
  {
   "cell_type": "code",
   "execution_count": null,
   "metadata": {},
   "outputs": [],
   "source": [
    "# One or more of the following lines contains an error\n",
    "# Correct it so that it runs without producing syntax errors\n",
    "\n",
    "# birthday = \"2017-07-14'\n",
    "# case_id = 'DATACAMP!123-456?\n",
    "\n",
    "birthday = '2017-07-14'\n",
    "case_id = 'DATACAMP!123-456?'"
   ]
  },
  {
   "cell_type": "markdown",
   "metadata": {},
   "source": [
    "## Load a DataFrame\n",
    "\n",
    "A ransom note was left at the scene of Bayes' kidnapping. Eventually, we'll want to analyze the frequency with which each letter occurs in the note, to help us identify the kidnapper. For now, we just need to load the data from `ransom.csv` into Python.\n",
    "\n",
    "We'll load the data into a DataFrame, a special _data type_ from the `pandas` module. It represents spreadsheet-like data (something with rows and columns).\n",
    "\n",
    "We can create a DataFrame from a CSV (comma-separated value) file by using the function `pd.read_csv`.\n",
    "\n",
    "Instructions\n",
    "\n",
    "1. Use `pd.read_csv` to load data from a CSV file called `ransom.csv`. This file represents the frequency of each letter in the ransom note for Bayes."
   ]
  },
  {
   "cell_type": "code",
   "execution_count": 4,
   "metadata": {},
   "outputs": [
    {
     "data": {
      "text/html": [
       "<div>\n",
       "<style scoped>\n",
       "    .dataframe tbody tr th:only-of-type {\n",
       "        vertical-align: middle;\n",
       "    }\n",
       "\n",
       "    .dataframe tbody tr th {\n",
       "        vertical-align: top;\n",
       "    }\n",
       "\n",
       "    .dataframe thead th {\n",
       "        text-align: right;\n",
       "    }\n",
       "</style>\n",
       "<table border=\"1\" class=\"dataframe\">\n",
       "  <thead>\n",
       "    <tr style=\"text-align: right;\">\n",
       "      <th></th>\n",
       "      <th>letter</th>\n",
       "      <th>frequency</th>\n",
       "      <th>identity</th>\n",
       "    </tr>\n",
       "    <tr>\n",
       "      <th>letter_index</th>\n",
       "      <th></th>\n",
       "      <th></th>\n",
       "      <th></th>\n",
       "    </tr>\n",
       "  </thead>\n",
       "  <tbody>\n",
       "    <tr>\n",
       "      <th>1</th>\n",
       "      <td>A</td>\n",
       "      <td>7.38</td>\n",
       "      <td>Ransom</td>\n",
       "    </tr>\n",
       "    <tr>\n",
       "      <th>2</th>\n",
       "      <td>B</td>\n",
       "      <td>1.09</td>\n",
       "      <td>Ransom</td>\n",
       "    </tr>\n",
       "    <tr>\n",
       "      <th>3</th>\n",
       "      <td>C</td>\n",
       "      <td>2.46</td>\n",
       "      <td>Ransom</td>\n",
       "    </tr>\n",
       "    <tr>\n",
       "      <th>4</th>\n",
       "      <td>D</td>\n",
       "      <td>4.10</td>\n",
       "      <td>Ransom</td>\n",
       "    </tr>\n",
       "    <tr>\n",
       "      <th>5</th>\n",
       "      <td>E</td>\n",
       "      <td>12.84</td>\n",
       "      <td>Ransom</td>\n",
       "    </tr>\n",
       "    <tr>\n",
       "      <th>6</th>\n",
       "      <td>F</td>\n",
       "      <td>1.37</td>\n",
       "      <td>Ransom</td>\n",
       "    </tr>\n",
       "    <tr>\n",
       "      <th>7</th>\n",
       "      <td>G</td>\n",
       "      <td>1.09</td>\n",
       "      <td>Ransom</td>\n",
       "    </tr>\n",
       "    <tr>\n",
       "      <th>8</th>\n",
       "      <td>H</td>\n",
       "      <td>3.55</td>\n",
       "      <td>Ransom</td>\n",
       "    </tr>\n",
       "    <tr>\n",
       "      <th>9</th>\n",
       "      <td>I</td>\n",
       "      <td>7.65</td>\n",
       "      <td>Ransom</td>\n",
       "    </tr>\n",
       "    <tr>\n",
       "      <th>10</th>\n",
       "      <td>J</td>\n",
       "      <td>0.00</td>\n",
       "      <td>Ransom</td>\n",
       "    </tr>\n",
       "    <tr>\n",
       "      <th>11</th>\n",
       "      <td>K</td>\n",
       "      <td>3.01</td>\n",
       "      <td>Ransom</td>\n",
       "    </tr>\n",
       "    <tr>\n",
       "      <th>12</th>\n",
       "      <td>L</td>\n",
       "      <td>3.28</td>\n",
       "      <td>Ransom</td>\n",
       "    </tr>\n",
       "    <tr>\n",
       "      <th>13</th>\n",
       "      <td>M</td>\n",
       "      <td>2.46</td>\n",
       "      <td>Ransom</td>\n",
       "    </tr>\n",
       "    <tr>\n",
       "      <th>14</th>\n",
       "      <td>N</td>\n",
       "      <td>7.38</td>\n",
       "      <td>Ransom</td>\n",
       "    </tr>\n",
       "    <tr>\n",
       "      <th>15</th>\n",
       "      <td>O</td>\n",
       "      <td>6.83</td>\n",
       "      <td>Ransom</td>\n",
       "    </tr>\n",
       "    <tr>\n",
       "      <th>16</th>\n",
       "      <td>P</td>\n",
       "      <td>7.65</td>\n",
       "      <td>Ransom</td>\n",
       "    </tr>\n",
       "    <tr>\n",
       "      <th>17</th>\n",
       "      <td>Q</td>\n",
       "      <td>0.00</td>\n",
       "      <td>Ransom</td>\n",
       "    </tr>\n",
       "    <tr>\n",
       "      <th>18</th>\n",
       "      <td>R</td>\n",
       "      <td>4.92</td>\n",
       "      <td>Ransom</td>\n",
       "    </tr>\n",
       "    <tr>\n",
       "      <th>19</th>\n",
       "      <td>S</td>\n",
       "      <td>4.10</td>\n",
       "      <td>Ransom</td>\n",
       "    </tr>\n",
       "    <tr>\n",
       "      <th>20</th>\n",
       "      <td>T</td>\n",
       "      <td>6.28</td>\n",
       "      <td>Ransom</td>\n",
       "    </tr>\n",
       "    <tr>\n",
       "      <th>21</th>\n",
       "      <td>U</td>\n",
       "      <td>4.37</td>\n",
       "      <td>Ransom</td>\n",
       "    </tr>\n",
       "    <tr>\n",
       "      <th>22</th>\n",
       "      <td>V</td>\n",
       "      <td>1.09</td>\n",
       "      <td>Ransom</td>\n",
       "    </tr>\n",
       "    <tr>\n",
       "      <th>23</th>\n",
       "      <td>W</td>\n",
       "      <td>2.46</td>\n",
       "      <td>Ransom</td>\n",
       "    </tr>\n",
       "    <tr>\n",
       "      <th>24</th>\n",
       "      <td>X</td>\n",
       "      <td>0.00</td>\n",
       "      <td>Ransom</td>\n",
       "    </tr>\n",
       "    <tr>\n",
       "      <th>25</th>\n",
       "      <td>Y</td>\n",
       "      <td>4.64</td>\n",
       "      <td>Ransom</td>\n",
       "    </tr>\n",
       "    <tr>\n",
       "      <th>26</th>\n",
       "      <td>Z</td>\n",
       "      <td>0.00</td>\n",
       "      <td>Ransom</td>\n",
       "    </tr>\n",
       "  </tbody>\n",
       "</table>\n",
       "</div>"
      ],
      "text/plain": [
       "             letter  frequency identity\n",
       "letter_index                           \n",
       "1                 A       7.38   Ransom\n",
       "2                 B       1.09   Ransom\n",
       "3                 C       2.46   Ransom\n",
       "4                 D       4.10   Ransom\n",
       "5                 E      12.84   Ransom\n",
       "6                 F       1.37   Ransom\n",
       "7                 G       1.09   Ransom\n",
       "8                 H       3.55   Ransom\n",
       "9                 I       7.65   Ransom\n",
       "10                J       0.00   Ransom\n",
       "11                K       3.01   Ransom\n",
       "12                L       3.28   Ransom\n",
       "13                M       2.46   Ransom\n",
       "14                N       7.38   Ransom\n",
       "15                O       6.83   Ransom\n",
       "16                P       7.65   Ransom\n",
       "17                Q       0.00   Ransom\n",
       "18                R       4.92   Ransom\n",
       "19                S       4.10   Ransom\n",
       "20                T       6.28   Ransom\n",
       "21                U       4.37   Ransom\n",
       "22                V       1.09   Ransom\n",
       "23                W       2.46   Ransom\n",
       "24                X       0.00   Ransom\n",
       "25                Y       4.64   Ransom\n",
       "26                Z       0.00   Ransom"
      ]
     },
     "execution_count": 4,
     "metadata": {},
     "output_type": "execute_result"
    }
   ],
   "source": [
    "# Import pandas\n",
    "import pandas as pd\n",
    "\n",
    "# Load the 'ransom.csv' into a DataFrame\n",
    "r = pd.read_csv('ransom.csv', index_col='letter_index')\n",
    "\n",
    "# Display DataFrame\n",
    "r"
   ]
  },
  {
   "cell_type": "markdown",
   "metadata": {},
   "source": [
    "## Correcting a function error\n",
    "\n",
    "The code in the script editor should plot information from the DataFrame that we loaded in the previous exercise.\n",
    "\n",
    "However, there is an error in function syntax. Remember that common function errors include:\n",
    "\n",
    "Forgetting closing parenthesis\n",
    "\n",
    "- Forgetting commas between each argument\n",
    "- Note that all arguments to the functions are correct. The problem is in the function syntax.\n",
    "\n",
    "Instructions\n",
    "\n",
    "1. Correct the code so that it runs without syntax errors"
   ]
  },
  {
   "cell_type": "code",
   "execution_count": 5,
   "metadata": {},
   "outputs": [
    {
     "data": {
      "image/png": "[encoded data removed]",
      "text/plain": [
       "<Figure size 432x288 with 1 Axes>"
      ]
     },
     "metadata": {
      "needs_background": "light"
     },
     "output_type": "display_data"
    }
   ],
   "source": [
    "# Import matplotlib\n",
    "import matplotlib.pyplot as plt\n",
    "\n",
    "# One or more of the following lines contains an error\n",
    "# Correct it so that it runs without producing syntax errors\n",
    "\n",
    "# Plot a graph\n",
    "plt.plot(r['letter'], r['frequency'])\n",
    "\n",
    "# Display the graph\n",
    "plt.show();"
   ]
  },
  {
   "cell_type": "markdown",
   "metadata": {},
   "source": [
    "## Snooping for suspects\n",
    "\n",
    "We need to narrow down the list of suspects for the kidnapping of Bayes. Once we have a list of suspects, we'll ask them for writing samples and compare them to the ransom note.\n",
    "\n",
    "A witness to the crime noticed a green truck leaving the scene of the crime whose license plate began with 'FRQ'. We'll use this information to search for some suspects.\n",
    "\n",
    "As a detective, you have access to a special function called `lookup_plate`.\n",
    "\n",
    "`lookup_plate` accepts one positional argument: A string representing a license plate.\n",
    "\n",
    "Instructions\n",
    "\n",
    "1. Create a variable called `plate` that represents the observed license plate: the first three letters were `FRQ`, but the witness couldn't see the final 4 letters. Use asterisks (`*`) to represent missing letters.\n",
    "2. Call `lookup_plate()` using the variable plate.\n",
    "3. Calling `lookup_plate()` with the license plate `FRQ****` produced too many results. Luckily, `lookup_plate()` also accepts a keyword argument: `color`. Use the color of the car (`'Green'`) to get a smaller list."
   ]
  },
  {
   "cell_type": "code",
   "execution_count": 8,
   "metadata": {},
   "outputs": [],
   "source": [
    "# lookup_plate function\n",
    "def lookup_plate(plate_str, color=None):\n",
    "    if type(plate_str) != str:\n",
    "        print('Error! Please input a string!')\n",
    "        return False\n",
    "    elif len(plate_str) != 7:\n",
    "        print('Error! License plate must have 7 characters. Use a * for missing characters.')\n",
    "        return False\n",
    "    elif plate_str == 'FRQ****':\n",
    "        if color is None:\n",
    "            print('''\n",
    "            Fred Frequentist\n",
    "            John W. Tukey\n",
    "            Ronald Aylmer Fisher\n",
    "            Karl Pearson\n",
    "            Gertrude Cox\n",
    "            Kirstine Smith\n",
    "            ''')\n",
    "            return True\n",
    "        elif color == 'Green':\n",
    "            print('''\n",
    "            Fred Frequentist\n",
    "            Ronald Aylmer Fisher\n",
    "            Gertrude Cox\n",
    "            Kirstine Smith\n",
    "            ''')\n",
    "            return True\n",
    "        else:\n",
    "            print('Error! No cars of that color found!')\n",
    "            return False\n",
    "    elif plate_str == 'EXAMPLE':\n",
    "        print('''\n",
    "        Christopher Eccleston\n",
    "        Matt Smith\n",
    "        David Tenant\n",
    "        Peter Capaldi\n",
    "        Jodie Whittaker\n",
    "        ''')\n",
    "        return True\n",
    "    else:\n",
    "        print('Error! Plate not found!')\n",
    "        return False"
   ]
  },
  {
   "cell_type": "code",
   "execution_count": 9,
   "metadata": {},
   "outputs": [
    {
     "name": "stdout",
     "output_type": "stream",
     "text": [
      "\n",
      "            Fred Frequentist\n",
      "            John W. Tukey\n",
      "            Ronald Aylmer Fisher\n",
      "            Karl Pearson\n",
      "            Gertrude Cox\n",
      "            Kirstine Smith\n",
      "            \n"
     ]
    },
    {
     "data": {
      "text/plain": [
       "True"
      ]
     },
     "execution_count": 9,
     "metadata": {},
     "output_type": "execute_result"
    }
   ],
   "source": [
    "# Define plate to represent a plate beginning with FRQ\n",
    "# Use * to represent the missing four letters\n",
    "plate = 'FRQ****'\n",
    "\n",
    "# Call the function lookup_plate()\n",
    "lookup_plate(plate)"
   ]
  },
  {
   "cell_type": "code",
   "execution_count": 10,
   "metadata": {},
   "outputs": [
    {
     "name": "stdout",
     "output_type": "stream",
     "text": [
      "\n",
      "            Fred Frequentist\n",
      "            Ronald Aylmer Fisher\n",
      "            Gertrude Cox\n",
      "            Kirstine Smith\n",
      "            \n"
     ]
    },
    {
     "data": {
      "text/plain": [
       "True"
      ]
     },
     "execution_count": 10,
     "metadata": {},
     "output_type": "execute_result"
    }
   ],
   "source": [
    "# Call lookup_plate() with the keyword argument for color\n",
    "lookup_plate(plate, color='Green')"
   ]
  }
 ],
 "metadata": {
  "kernelspec": {
   "display_name": "Python 3",
   "language": "python",
   "name": "python3"
  },
  "language_info": {
   "codemirror_mode": {
    "name": "ipython",
    "version": 3
   },
   "file_extension": ".py",
   "mimetype": "text/x-python",
   "name": "python",
   "nbconvert_exporter": "python",
   "pygments_lexer": "ipython3",
   "version": "3.8.5"
  },
  "toc": {
   "base_numbering": 1,
   "nav_menu": {},
   "number_sections": false,
   "sideBar": true,
   "skip_h1_title": false,
   "title_cell": "Table of Contents",
   "title_sidebar": "Contents",
   "toc_cell": false,
   "toc_position": {},
   "toc_section_display": true,
   "toc_window_display": false
  },
  "varInspector": {
   "cols": {
    "lenName": 16,
    "lenType": 16,
    "lenVar": 40
   },
   "kernels_config": {
    "python": {
     "delete_cmd_postfix": "",
     "delete_cmd_prefix": "del ",
     "library": "var_list.py",
     "varRefreshCmd": "print(var_dic_list())"
    },
    "r": {
     "delete_cmd_postfix": ") ",
     "delete_cmd_prefix": "rm(",
     "library": "var_list.r",
     "varRefreshCmd": "cat(var_dic_list()) "
    }
   },
   "types_to_exclude": [
    "module",
    "function",
    "builtin_function_or_method",
    "instance",
    "_Feature"
   ],
   "window_display": false
  }
 },
 "nbformat": 4,
 "nbformat_minor": 2
}
