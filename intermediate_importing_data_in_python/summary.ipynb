{
 "cells": [
  {
   "cell_type": "markdown",
   "id": "becoming-nutrition",
   "metadata": {},
   "source": [
    "# Intermediate Importing Data in Python\n",
    "\n",
    "- 2 hours\n",
    "- 7 Videos\n",
    "- 29 Exercises\n",
    "\n",
    "## Course Description\n",
    "\n",
    "As a data scientist, you will need to clean data, wrangle and munge it, visualize it, build predictive models and interpret these models. Before you can do so, however, you will need to know how to get data into Python. In the prequel to this course, you learned many ways to import data into Python: from flat files such as .txt and .csv; from files native to other software such as Excel spreadsheets, Stata, SAS, and MATLAB files; and from relational databases such as SQLite and PostgreSQL. In this course, you'll extend this knowledge base by learning to import data from the web and by pulling data from Application Programming Interfaces— APIs—such as the Twitter streaming API, which allows us to stream real-time tweets.\n",
    "\n",
    "### 1 Importing data from the Internet\n",
    "\n",
    "The web is a rich source of data from which you can extract various types of insights and findings. In this chapter, you will learn how to get data from the web, whether it is stored in files or in HTML. You'll also learn the basics of scraping and parsing web data.\n",
    "\n",
    "- Importing flat files from the web\n",
    "- Importing flat files from the web: your turn!\n",
    "- Opening and reading flat files from the web\n",
    "- Importing non-flat files from the web\n",
    "- HTTP requests to import files from the web\n",
    "- Performing HTTP requests in Python using urllib\n",
    "- Printing HTTP request results in Python using urllib\n",
    "- Performing HTTP requests in Python using requests\n",
    "- Scraping the web in Python\n",
    "- Parsing HTML with BeautifulSoup\n",
    "- Turning a webpage into data using BeautifulSoup: getting the text\n",
    "- Turning a webpage into data using BeautifulSoup: getting the hyperlinks\n",
    "\n",
    "### 2 Interacting with APIs to import data from the web\n",
    "\n",
    "In this chapter, you will gain a deeper understanding of how to import data from the web. You will learn the basics of extracting data from APIs, gain insight on the importance of APIs, and practice extracting data by diving into the OMDB and Library of Congress APIs.\n",
    "\n",
    "- Introduction to APIs and JSONs\n",
    "- Pop quiz: What exactly is a JSON?\n",
    "- Loading and exploring a JSON\n",
    "- Pop quiz: Exploring your JSON\n",
    "- APIs and interacting with the world wide web\n",
    "- Pop quiz: What's an API?\n",
    "- API requests\n",
    "- JSON–from the web to Python\n",
    "- Checking out the Wikipedia API\n",
    "\n",
    "### 3 Diving deep into the Twitter API\n",
    "\n",
    "In this chapter, you will consolidate your knowledge of interacting with APIs in a deep dive into the Twitter streaming API. You'll learn how to stream real-time Twitter data, and how to analyze and visualize it.\n",
    "\n",
    "- The Twitter API and Authentication\n",
    "- API Authentication\n",
    "- Streaming tweets\n",
    "- Load and explore your Twitter data\n",
    "- Twitter data to DataFrame\n",
    "- A little bit of Twitter text analysis\n",
    "- Plotting your Twitter data\n",
    "- Final Thoughts"
   ]
  }
 ],
 "metadata": {
  "kernelspec": {
   "display_name": "Python 3",
   "language": "python",
   "name": "python3"
  },
  "language_info": {
   "codemirror_mode": {
    "name": "ipython",
    "version": 3
   },
   "file_extension": ".py",
   "mimetype": "text/x-python",
   "name": "python",
   "nbconvert_exporter": "python",
   "pygments_lexer": "ipython3",
   "version": "3.8.5"
  },
  "toc": {
   "base_numbering": 1,
   "nav_menu": {},
   "number_sections": false,
   "sideBar": true,
   "skip_h1_title": false,
   "title_cell": "Table of Contents",
   "title_sidebar": "Contents",
   "toc_cell": false,
   "toc_position": {
    "height": "calc(100% - 180px)",
    "left": "10px",
    "top": "150px",
    "width": "268.188px"
   },
   "toc_section_display": true,
   "toc_window_display": false
  },
  "varInspector": {
   "cols": {
    "lenName": 16,
    "lenType": 16,
    "lenVar": 40
   },
   "kernels_config": {
    "python": {
     "delete_cmd_postfix": "",
     "delete_cmd_prefix": "del ",
     "library": "var_list.py",
     "varRefreshCmd": "print(var_dic_list())"
    },
    "r": {
     "delete_cmd_postfix": ") ",
     "delete_cmd_prefix": "rm(",
     "library": "var_list.r",
     "varRefreshCmd": "cat(var_dic_list()) "
    }
   },
   "types_to_exclude": [
    "module",
    "function",
    "builtin_function_or_method",
    "instance",
    "_Feature"
   ],
   "window_display": false
  }
 },
 "nbformat": 4,
 "nbformat_minor": 5
}
