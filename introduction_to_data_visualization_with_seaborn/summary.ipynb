{
 "cells": [
  {
   "cell_type": "markdown",
   "id": "vertical-trunk",
   "metadata": {},
   "source": [
    "# Introduction to Data Visualization with Seaborn\n",
    "\n",
    "- 4 hours\n",
    "- 14 Videos\n",
    "- 44 Exercises\n",
    "\n",
    "## Course Description\n",
    "\n",
    "Seaborn is a powerful Python library that makes it easy to create informative and attractive visualizations. This course provides an introduction to Seaborn and teaches you how to visualize your data using plots such as scatter plots, box plots, and bar plots. You’ll do this while exploring survey responses about student hobbies and the factors that are associated with academic success. You’ll also learn about some of Seaborn’s advantages as a statistical visualization tool, such as how it automatically calculates confidence intervals. By the end of the course, you will be able to use Seaborn in a variety of situations to explore your data and effectively communicate the results of your data analyses to others.\n",
    "\n",
    "### 1 Introduction to Seaborn\n",
    "\n",
    "What is Seaborn, and when should you use it? In this chapter, you will find out! Plus, you will learn how to create scatter plots and count plots with both lists of data and pandas DataFrames. You will also be introduced to one of the big advantages of using Seaborn - the ability to easily add a third variable to your plots by using color to represent different subgroups.\n",
    "\n",
    "- Introduction to Seaborn\n",
    "- Making a scatter plot with lists\n",
    "- Making a count plot with a list\n",
    "- Using pandas with Seaborn\n",
    "- \"Tidy\" vs. \"untidy\" data\n",
    "- Making a count plot with a DataFrame\n",
    "- Adding a third variable with hue\n",
    "- Hue and scatter plots\n",
    "- Hue and count plots\n",
    "\n",
    "### 2 Visualizing Two Quantitative Variables\n",
    "\n",
    "In this chapter, you will create and customize plots that visualize the relationship between two quantitative variables. To do this, you will use scatter plots and line plots to explore how the level of air pollution in a city changes over the course of a day and how horsepower relates to fuel efficiency in cars. You will also see another big advantage of using Seaborn - the ability to easily create subplots in a single figure!\n",
    "\n",
    "- Introduction to relational plots and subplots\n",
    "- Creating subplots with col and row\n",
    "- Creating two-factor subplots\n",
    "- Customizing scatter plots\n",
    "- Changing the size of scatter plot points\n",
    "- Changing the style of scatter plot points\n",
    "- Introduction to line plots\n",
    "- Interpreting line plots\n",
    "- Visualizing standard deviation with line plots\n",
    "- Plotting subgroups in line plots\n",
    "\n",
    "### 3 Visualizing a Categorical and a Quantitative Variable\n",
    "\n",
    "Categorical variables are present in nearly every dataset, but they are especially prominent in survey data. In this chapter, you will learn how to create and customize categorical plots such as box plots, bar plots, count plots, and point plots. Along the way, you will explore survey data from young people about their interests, students about their study habits, and adult men about their feelings about masculinity.\n",
    "\n",
    "- Count plots and bar plots\n",
    "- Count plots\n",
    "- Bar plots with percentages\n",
    "- Customizing bar plots\n",
    "- Box plots\n",
    "- Create and interpret a box plot\n",
    "- Omitting outliers\n",
    "- Adjusting the whiskers\n",
    "- Point plots\n",
    "- Customizing point plots\n",
    "- Point plots with subgroups\n",
    "\n",
    "### 4 Customizing Seaborn Plots\n",
    "\n",
    "In this final chapter, you will learn how to add informative plot titles and axis labels, which are one of the most important parts of any data visualization! You will also learn how to customize the style of your visualizations in order to more quickly orient your audience to the key takeaways. Then, you will put everything you have learned together for the final exercises of the course!\n",
    "\n",
    "- Changing plot style and color\n",
    "- Changing style and palette\n",
    "- Changing the scale\n",
    "- Using a custom palette\n",
    "- Adding titles and labels: Part 1\n",
    "- FacetGrids vs. AxesSubplots\n",
    "- Adding a title to a FacetGrid object\n",
    "- Adding titles and labels: Part 2\n",
    "- Adding a title and axis labels\n",
    "- Rotating x-tick labels\n",
    "- Putting it all together\n",
    "- Box plot with subgroups\n",
    "- Bar plot with subgroups and subplots\n",
    "- Well done! What's next?"
   ]
  }
 ],
 "metadata": {
  "kernelspec": {
   "display_name": "Python 3",
   "language": "python",
   "name": "python3"
  },
  "language_info": {
   "codemirror_mode": {
    "name": "ipython",
    "version": 3
   },
   "file_extension": ".py",
   "mimetype": "text/x-python",
   "name": "python",
   "nbconvert_exporter": "python",
   "pygments_lexer": "ipython3",
   "version": "3.8.5"
  },
  "toc": {
   "base_numbering": 1,
   "nav_menu": {},
   "number_sections": false,
   "sideBar": true,
   "skip_h1_title": false,
   "title_cell": "Table of Contents",
   "title_sidebar": "Contents",
   "toc_cell": false,
   "toc_position": {},
   "toc_section_display": true,
   "toc_window_display": false
  },
  "varInspector": {
   "cols": {
    "lenName": 16,
    "lenType": 16,
    "lenVar": 40
   },
   "kernels_config": {
    "python": {
     "delete_cmd_postfix": "",
     "delete_cmd_prefix": "del ",
     "library": "var_list.py",
     "varRefreshCmd": "print(var_dic_list())"
    },
    "r": {
     "delete_cmd_postfix": ") ",
     "delete_cmd_prefix": "rm(",
     "library": "var_list.r",
     "varRefreshCmd": "cat(var_dic_list()) "
    }
   },
   "types_to_exclude": [
    "module",
    "function",
    "builtin_function_or_method",
    "instance",
    "_Feature"
   ],
   "window_display": false
  }
 },
 "nbformat": 4,
 "nbformat_minor": 5
}
