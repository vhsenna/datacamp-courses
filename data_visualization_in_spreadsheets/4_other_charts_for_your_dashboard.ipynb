{
 "cells": [
  {
   "cell_type": "markdown",
   "id": "mechanical-thumbnail",
   "metadata": {},
   "source": [
    "## Inserting the VLOOKUP\n",
    "\n",
    "We want to create a histogram to show the distribution of volumes. You will need to start by getting the `Volume` data you want to show on the dashboard.\n",
    "\n",
    "Instructions\n",
    "\n",
    "1. In `F16`, type in the heading \"Volume\".\n",
    "2. In `F17`, enter a formula that uses `VLOOKUP` to look at the date in column `A` and returns the `Volume` for that date from the `ASXTable`.\n",
    "3. Copy the calculation down the column from `F17` to `F26`."
   ]
  },
  {
   "cell_type": "markdown",
   "id": "second-highland",
   "metadata": {},
   "source": [
    "## Creating a histogram on the dashboard\n",
    "\n",
    "Let's get more practice with creating histograms. You will show the volumes of stocks from SM8 Smart Marine Systems. Your data will be plotted at intervals.\n",
    "\n",
    "Instructions\n",
    "\n",
    "1. Select the `Volume` data and create a histogram chart.\n",
    "2. Drag and size your chart underneath your data so it fits nicely in your dashboard."
   ]
  },
  {
   "cell_type": "markdown",
   "id": "diagnostic-institute",
   "metadata": {},
   "source": [
    "## Formatting your histogram\n",
    "\n",
    "Formatting your histogram works similarly to the way it does in all charts. Your task is to format your chart by putting some of your previous skills into practice.\n",
    "\n",
    "Instructions\n",
    "\n",
    "Scroll down to see your histogram and make the following formatting changes:\n",
    "\n",
    "1. Give your histogram the title \"Share Volumes\" and change the color of the series to \"dark green 2\".\n",
    "    1. _Note: when you move your cursor over the various color options, you should be able to see the names of the colors. Make sure you are selecting \"dark green 2\"!_\n",
    "2. Move the legend to the bottom of your chart and include item dividers."
   ]
  },
  {
   "cell_type": "markdown",
   "id": "democratic-harassment",
   "metadata": {},
   "source": [
    "## Changing your dates to text\n",
    "\n",
    "Your task is to format your dates as plain text so the user can plot a candlestick chart to show data from the `Open`, `Close`, `High` and `Low` prices. You will do this in the inserted column, using a formula.\n",
    "\n",
    "Instructions\n",
    "\n",
    "1. Insert a new column so that `column B` is blank.\n",
    "2. Type the heading \"Plain Dates\" in `B16`.\n",
    "3. Enter a formula in `B17` using `text()` to show the date from the the same row in `column A` with the same formatting but as plain text.\n",
    "4. Copy the formula down from `B17` through `B26` and remove the dates that have popped up on your line chart."
   ]
  },
  {
   "cell_type": "markdown",
   "id": "moving-physiology",
   "metadata": {},
   "source": [
    "## Creating the candlestick for the dashboard\n",
    "\n",
    "Now that you have your dates sorted, your next task is to create a candlestick chart on the dashboard to show the Open, High, Low and Close stats over a 10 day period.\n",
    "\n",
    "Instructions\n",
    "\n",
    "1. Select the data from `Plain Dates` to `Close` and create a candlestick chart.\n",
    "2. Size the candlestick chart appropriately on your dashboard, to the right of the histogram."
   ]
  },
  {
   "cell_type": "markdown",
   "id": "individual-order",
   "metadata": {},
   "source": [
    "## Formatting the candlestick\n",
    "\n",
    "As with any other chart, once your candlestick chart is created, you should spend some time formatting it.\n",
    "\n",
    "Instructions\n",
    "\n",
    "1. Change the Chart title to Price Movement.\n",
    "2. Make the chart title text black, size 18 font, and bold."
   ]
  },
  {
   "cell_type": "markdown",
   "id": "insured-hammer",
   "metadata": {},
   "source": [
    "## Creating a scatter chart\n",
    "\n",
    "For the purpose of this exercise, you will create a scatter chart to show the trend of injuries in relation to the number of reported cases of shark attacks. You will take your data from the Shark Attacks Last 100 Yrs dataset.\n",
    "\n",
    "Instructions\n",
    "\n",
    "1. Highlight the `State`, `# Cases` and `Injured` stats and create a scatter chart.\n",
    "2. Paste the chart onto your dashboard, and size it to the right of the Fatalities column chart."
   ]
  },
  {
   "cell_type": "markdown",
   "id": "weird-programming",
   "metadata": {},
   "source": [
    "## Formatting your scatter chart\n",
    "\n",
    "Once your chart is created, as with the other charts on your dashboard, you need to format it and smarten it up.\n",
    "\n",
    "Instructions\n",
    "\n",
    "1. Title your chart 'Cases vs Injuries', and make the font black, size 18, and bold.\n",
    "2. Move your legend to the inside of your chart.\n",
    "3. Change the color of the `Cases` series to black."
   ]
  },
  {
   "cell_type": "markdown",
   "id": "simplified-generator",
   "metadata": {},
   "source": [
    "## Sparklines\n",
    "\n",
    "In this task you will create a sparkline chart within a cell. You will add a line sparkline for the open/close data using the ASX Dataset.\n",
    "\n",
    "Instructions\n",
    "\n",
    "1. Move your histogram chart down so that you can see row 27, and in cell `A27` type the word `Trend`.\n",
    "2. In `C27`, enter a formula that will generate a line sparkline based on the data in range `C17:C26`.\n",
    "3. Do the same for cells `E27` and `F27` (using their respective column data)."
   ]
  },
  {
   "cell_type": "markdown",
   "id": "concerned-belle",
   "metadata": {},
   "source": [
    "## Changing the color of your sparkline\n",
    "\n",
    "In this task we will jazz up the sparklines a bit by adapting the formula to change the color to red.\n",
    "\n",
    "Instructions\n",
    "\n",
    "1. In the blank cell at the end of the `High` data entries, insert a formula to create a red sparkline."
   ]
  },
  {
   "cell_type": "markdown",
   "id": "interesting-producer",
   "metadata": {},
   "source": [
    "## The column sparkline\n",
    "\n",
    "For the next task you will create a column sparkline to show the Volume of shares for the 10 dates selected via the drop-down arrows.\n",
    "\n",
    "Instructions\n",
    "\n",
    "1. Immediately following the last entry for the `Volume` data, insert a `SPARKLINE` formula in `G27` to create a column sparkline and specify that the sparkline color should be blue.\n",
    "2. Remember that within the curly brackets (after specifying the range), you need to specify a `\"charttype\"` of `\"column\"`, and a `\"color\"` of `\"blue\"`."
   ]
  }
 ],
 "metadata": {
  "kernelspec": {
   "display_name": "Python 3",
   "language": "python",
   "name": "python3"
  },
  "language_info": {
   "codemirror_mode": {
    "name": "ipython",
    "version": 3
   },
   "file_extension": ".py",
   "mimetype": "text/x-python",
   "name": "python",
   "nbconvert_exporter": "python",
   "pygments_lexer": "ipython3",
   "version": "3.8.10"
  },
  "toc": {
   "base_numbering": 1,
   "nav_menu": {},
   "number_sections": false,
   "sideBar": true,
   "skip_h1_title": false,
   "title_cell": "Table of Contents",
   "title_sidebar": "Contents",
   "toc_cell": false,
   "toc_position": {},
   "toc_section_display": true,
   "toc_window_display": false
  },
  "varInspector": {
   "cols": {
    "lenName": 16,
    "lenType": 16,
    "lenVar": 40
   },
   "kernels_config": {
    "python": {
     "delete_cmd_postfix": "",
     "delete_cmd_prefix": "del ",
     "library": "var_list.py",
     "varRefreshCmd": "print(var_dic_list())"
    },
    "r": {
     "delete_cmd_postfix": ") ",
     "delete_cmd_prefix": "rm(",
     "library": "var_list.r",
     "varRefreshCmd": "cat(var_dic_list()) "
    }
   },
   "types_to_exclude": [
    "module",
    "function",
    "builtin_function_or_method",
    "instance",
    "_Feature"
   ],
   "window_display": false
  }
 },
 "nbformat": 4,
 "nbformat_minor": 5
}
