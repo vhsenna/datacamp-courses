{
 "cells": [
  {
   "cell_type": "markdown",
   "id": "vanilla-poultry",
   "metadata": {},
   "source": [
    "## Setting up your data\n",
    "\n",
    "In this task, you are going to use data from the ASX for a Company that sells shark repellent systems and prepare it for charting. The first step is to tidy up and format the data.\n",
    "\n",
    "Instructions\n",
    "\n",
    "1. Remove the blank row and standardize your decimal places such that the numbers in columns `B:E` have three decimal places.\n",
    "2. Change the format of the date in `I1` so that it has the same format as the dates in `Column A`.\n",
    "    1. To do so you will need to select 'Format', and then 'Number' from the menu bar (or alternatively, you can use the '123' dropdown menu from the toolbar).\n",
    "    2. Depending on options available to you, you may need to select additional date formats by selecting 'More Formats', and then 'More date and time formats'. This menu will provide you with advanced formatting options.\n",
    "    3. Your new format should have the month, day, and year as an integer, separated by a hyphen!"
   ]
  },
  {
   "cell_type": "markdown",
   "id": "labeled-seller",
   "metadata": {},
   "source": [
    "## Format numbers within your dataset\n",
    "\n",
    "In your next task you will edit the numbers in your dataset so that they are all formatted the same way.\n",
    "\n",
    "Instructions\n",
    "\n",
    "1. Format the numbers in the `Volume` column so that they all include commas to label thousands, but do not contain a decimal place."
   ]
  },
  {
   "cell_type": "markdown",
   "id": "ahead-hearing",
   "metadata": {},
   "source": [
    "## Creating and testing the data validation\n",
    "\n",
    "With your data optimized and your named ranges set up, in this task you will set up a data validation to allow a user to select a date from a list.\n",
    "\n",
    "Instructions\n",
    "\n",
    "1. In Sheet1, enter in the heading 'SM8 Smart Marine Systems ASX' in cell `A15`.\n",
    "2. Starting in `A16` (through to `E16`), enter in the column headings `Date`, `Open`, `High`, `Low` and `Close`.\n",
    "3. In the same sheet, select the cells `A17:A26` and create a data validation using the named range `Dates`.\n",
    "    1. With your cells selected, you can set a new data validation by selecting 'Data' and then 'Data validation' from the menu.\n",
    "    2. Be sure to use the 'List from a range' setting, and provide your named range.\n",
    "    3. Use the data validation settings to also ensure the following text is available for those who need help: 'Select a date from the list to see Opening and Closing prices'."
   ]
  },
  {
   "cell_type": "markdown",
   "id": "promotional-century",
   "metadata": {},
   "source": [
    "## Adding the calculation\n",
    "\n",
    "Your next task is to select the dates you want and then add in a VLOOKUP calculation to look at the date selected and find an exact match for the Open, High, Low, and Close Data from your dataset.\n",
    "\n",
    "Remember that `VLOOKUP()` will take four arguments.\n",
    "\n",
    "1. The search key (in this case, the date in Column A).\n",
    "2. The range of data to search (in this case, the data in the sheet `ASX Data`).\n",
    "3. The column index to retrieve where 1 is the column of your search key, and subsequent columns are those that you are trying to access (i.e. `2`, `3`, `4`, and `5`).\n",
    "4. Whether you want an exact match, which can be specified by providing `FALSE`.\n",
    "\n",
    "Instructions\n",
    "\n",
    "1. Fill in the empty dates in cells `A25` and `A26` with 10-09-17 and 10-10-17 (respectively), using the list provided through the data validation.\n",
    "2. In cell `B17` use `VLOOKUP()` to look for the date in your dataset and show the corresponding Open data. Then, copy the formula down through the rest of the column. _Don't forget to use partial absolution to make it easy to copy your formula to other cells!_\n",
    "3. Repeat the process in cells `C17`, `D17`, and `E17` to look for the figures in the dataset that correspond to the column headings (again, copying the formulas down through the respective columns)."
   ]
  },
  {
   "cell_type": "markdown",
   "id": "satisfactory-beauty",
   "metadata": {},
   "source": [
    "## Creating the line plot\n",
    "\n",
    "Now that you are just showing a snapshot of your data in your Dashboard you can chart it.\n",
    "\n",
    "In this task you will create a line chart from your statistics to show the Open and Close prices for dates selected from the data validation you created earlier.\n",
    "\n",
    "Instructions\n",
    "\n",
    "1. Highlight the `Dates`, `Open`, and `Close` data and create a line chart.\n",
    "2. Resize it so it is to the right of your data."
   ]
  },
  {
   "cell_type": "markdown",
   "id": "dominant-spain",
   "metadata": {},
   "source": [
    "## Chart titles, axis, font, gridlines\n",
    "\n",
    "Now that you have created a line chart, you will want to format it to make it more pleasing to the eye and professional.\n",
    "\n",
    "Instructions\n",
    "\n",
    "1. Change your chart title to `Open vs Close`.\n",
    "2. Add a title to your vertical axis `$AUD`."
   ]
  },
  {
   "cell_type": "markdown",
   "id": "coated-strategy",
   "metadata": {},
   "source": [
    "## Other formatting options\n",
    "\n",
    "It's the little things like legend placement and font sizes that give your charts a bit of polish. In this task you will finish off formatting your chart to ensure maximum efficiency.\n",
    "\n",
    "Instructions\n",
    "\n",
    "1. Move your legend inside the chart area by changing its 'Position' setting and change the font size to 10px."
   ]
  }
 ],
 "metadata": {
  "kernelspec": {
   "display_name": "Python 3",
   "language": "python",
   "name": "python3"
  },
  "language_info": {
   "codemirror_mode": {
    "name": "ipython",
    "version": 3
   },
   "file_extension": ".py",
   "mimetype": "text/x-python",
   "name": "python",
   "nbconvert_exporter": "python",
   "pygments_lexer": "ipython3",
   "version": "3.8.10"
  },
  "toc": {
   "base_numbering": 1,
   "nav_menu": {},
   "number_sections": false,
   "sideBar": true,
   "skip_h1_title": false,
   "title_cell": "Table of Contents",
   "title_sidebar": "Contents",
   "toc_cell": false,
   "toc_position": {},
   "toc_section_display": true,
   "toc_window_display": false
  },
  "varInspector": {
   "cols": {
    "lenName": 16,
    "lenType": 16,
    "lenVar": 40
   },
   "kernels_config": {
    "python": {
     "delete_cmd_postfix": "",
     "delete_cmd_prefix": "del ",
     "library": "var_list.py",
     "varRefreshCmd": "print(var_dic_list())"
    },
    "r": {
     "delete_cmd_postfix": ") ",
     "delete_cmd_prefix": "rm(",
     "library": "var_list.r",
     "varRefreshCmd": "cat(var_dic_list()) "
    }
   },
   "types_to_exclude": [
    "module",
    "function",
    "builtin_function_or_method",
    "instance",
    "_Feature"
   ],
   "window_display": false
  }
 },
 "nbformat": 4,
 "nbformat_minor": 5
}
