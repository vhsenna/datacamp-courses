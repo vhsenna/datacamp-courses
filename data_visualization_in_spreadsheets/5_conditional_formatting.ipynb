{
 "cells": [
  {
   "cell_type": "markdown",
   "id": "valuable-wedding",
   "metadata": {},
   "source": [
    "## Creating a simple rule to highlight cells\n",
    "\n",
    "In this task, you want to highlight volume of shares from the SM8 Smart Marine Systems ASX that exceed 60,000. Using conditional formatting, you can create a rule that will highlight any numbers that are greater than a specified amount.\n",
    "\n",
    "Instructions\n",
    "\n",
    "1. Highlight the `Volume` data in `G17:G26` and add a conditional formatting rule that will format cells \"light yellow 2\" if the value in them is greater than 60,000."
   ]
  },
  {
   "cell_type": "markdown",
   "id": "canadian-albany",
   "metadata": {},
   "source": [
    "## Highlighting cells between a range\n",
    "\n",
    "In this next task, you will create a rule that will highlight cells in the `Close` column if the value in the cell falls between a certain range.\n",
    "\n",
    "Instructions\n",
    "\n",
    "1. Highlight the `Close` data in `F17:F26` and create a rule that bolds the text and sets the font color to 'blue' when the value is **between** 0.040 and 0.050.\n",
    "2. Make sure the background color in the conditional formatting is set to 'white'."
   ]
  },
  {
   "cell_type": "markdown",
   "id": "deluxe-vacation",
   "metadata": {},
   "source": [
    "## Using a custom formula to highlight a row\n",
    "\n",
    "In this task, rather than just highlighting individual cells, you will highlight any rows of your data when the value of the Volume is less than 3,000.\n",
    "\n",
    "To accomplish this, you can use a custom formula in the form of `=$A1<x`, where in this example `A1` is the first cell in the column you want to check, and `x` is the value that you are comparing the cell with.\n",
    "\n",
    "For example, `=$A1<5000` would apply the conditional formatting to all rows where the value in column `A` is less than 5000.\n",
    "\n",
    "Instructions\n",
    "\n",
    "Create a new conditional formatting rule that highlights rows when the value in the `Volume` column is **less** than 3000.\n",
    "\n",
    "1. Highlight all of the data in the range `A17:G26` and create a new conditional format rule, and use the 'Custom formula is' option to specify a formula.\n",
    "2. The formula should use **partial absolution** (i.e. `$G17`) to compare the volume column with the value of interest (in this case, `3000`).\n",
    "3. Set the formatting options below so that the text is \"red\", and **bold** when the condition is fulfilled. The 'Fill color' should be set to 'None'!\n",
    "4. _If you're struggling with your formula, try adapting the example provided above!_"
   ]
  },
  {
   "cell_type": "markdown",
   "id": "departmental-fitness",
   "metadata": {},
   "source": [
    "## Highlighting duplicates\n",
    "\n",
    "For this task, have a go at creating a formula that will highlight the duplicates in the `Low` data.\n",
    "\n",
    "Instructions\n",
    "\n",
    "1. Highlight the `Low` data in `E17:E26` and create a conditional format rule using the 'Custom formula is', entering the formula `=countif($E:$E,E17)>1`.\n",
    "2. Change the formatting such that any duplicated cells are highlighted by changing the 'Fill color' to 'light red 2'."
   ]
  },
  {
   "cell_type": "markdown",
   "id": "stylish-agreement",
   "metadata": {},
   "source": [
    "## Using wildcard characters to highlight dates\n",
    "\n",
    "In this task, you will create a formula using wildcard characters to highlight any dates that are in 2018.\n",
    "\n",
    "Instructions\n",
    "\n",
    "1. Highlight the `Date` values in `A17:A26` and use conditional formatting with a 'Text contains' rule, passing in the value `??-??-18`.\n",
    "2. Set the formatting such that the cell background of any date in 2018 is 'light green 2'."
   ]
  },
  {
   "cell_type": "markdown",
   "id": "peripheral-transfer",
   "metadata": {},
   "source": [
    "## Change a condition in a format\n",
    "\n",
    "Now, you will amend an existing conditional formatting rule by changing the values of the condition.\n",
    "\n",
    "Instructions\n",
    "\n",
    "1. Modify the current rule that formats the `Close` data in `F17:F26` so that the rule bolds the text and formats the font color of cells \"blue\" when the value is between 0.050 and 0.060."
   ]
  }
 ],
 "metadata": {
  "kernelspec": {
   "display_name": "Python 3",
   "language": "python",
   "name": "python3"
  },
  "language_info": {
   "codemirror_mode": {
    "name": "ipython",
    "version": 3
   },
   "file_extension": ".py",
   "mimetype": "text/x-python",
   "name": "python",
   "nbconvert_exporter": "python",
   "pygments_lexer": "ipython3",
   "version": "3.8.10"
  },
  "toc": {
   "base_numbering": 1,
   "nav_menu": {},
   "number_sections": false,
   "sideBar": true,
   "skip_h1_title": false,
   "title_cell": "Table of Contents",
   "title_sidebar": "Contents",
   "toc_cell": false,
   "toc_position": {},
   "toc_section_display": true,
   "toc_window_display": true
  },
  "varInspector": {
   "cols": {
    "lenName": 16,
    "lenType": 16,
    "lenVar": 40
   },
   "kernels_config": {
    "python": {
     "delete_cmd_postfix": "",
     "delete_cmd_prefix": "del ",
     "library": "var_list.py",
     "varRefreshCmd": "print(var_dic_list())"
    },
    "r": {
     "delete_cmd_postfix": ") ",
     "delete_cmd_prefix": "rm(",
     "library": "var_list.r",
     "varRefreshCmd": "cat(var_dic_list()) "
    }
   },
   "types_to_exclude": [
    "module",
    "function",
    "builtin_function_or_method",
    "instance",
    "_Feature"
   ],
   "window_display": false
  }
 },
 "nbformat": 4,
 "nbformat_minor": 5
}
