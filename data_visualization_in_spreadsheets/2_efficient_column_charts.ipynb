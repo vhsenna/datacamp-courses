{
 "cells": [
  {
   "cell_type": "markdown",
   "id": "classified-vitamin",
   "metadata": {},
   "source": [
    "## Creating a column chart for your dashboard\n",
    "\n",
    "In this chapter, you will start to put together your own dashboard.\n",
    "\n",
    "Your first step is to create a basic column chart showing fatalities, injured, and uninjured statistics for the states of Australia over the last 100 years.\n",
    "\n",
    "Instructions\n",
    "\n",
    "1. In `A1` of `Sheet1`, use a formula that refers to the heading in your `Shark Attacks` dataset. This can take the form of `='Sheet Name'!A1`.\n",
    "2. In your `Shark Attacks` dataset, select the `State` column and the `Fatal`, `Injured`, and `Uninjured` statistics, and then create a chart.\n",
    "3. Copy and paste this chart to `Sheet 1` and change the chart to a column chart."
   ]
  },
  {
   "cell_type": "markdown",
   "id": "radio-armor",
   "metadata": {},
   "source": [
    "## Format chart, axis titles and series\n",
    "\n",
    "Your next task is to apply some basic formatting to the same chart to jazz it up a bit and make it a bit more pleasing to the reader's eye.\n",
    "\n",
    "Instructions\n",
    "\n",
    "1. Alter the title of your chart so that it now reads \"Fatal, Injured, and Uninjured Statistics\".\n",
    "2. The color of the title text is now a light grey. Let's change the color to black and make the font **bold**.\n",
    "    1. Double-clicking the chart title will allow you to adapt the text and the formatting options in the Chart Editor to the right.\n",
    "3. While you're at it, change the series colors accordingly: `Fatal`: red, `Injured`: blue, and `Uninjured`: green.\n",
    "    1. You can double-click each series to again open up the Chart Editor, and then select a new color for the series."
   ]
  },
  {
   "cell_type": "markdown",
   "id": "copyrighted-absolute",
   "metadata": {},
   "source": [
    "## Removing a series\n",
    "\n",
    "Taking things a little further, in the next task you will manipulate the look of your chart a bit more and remove the Uninjured statistical data.\n",
    "\n",
    "Instructions\n",
    "\n",
    "1. Remove the `Uninjured` series from your chart."
   ]
  },
  {
   "cell_type": "markdown",
   "id": "devoted-spiritual",
   "metadata": {},
   "source": [
    "## Changing the plotted range\n",
    "\n",
    "It's just as easy to change a range as it is to delete it. For this task, have a go at changing the range of your chart so it now only showcases the top 3 states' fatal statistics.\n",
    "\n",
    "Instructions\n",
    "\n",
    "1. Remove the `Injured` series from your chart so you are **only** plotting the `Fatal` series.\n",
    "2. Change the data range so that you are only plotting the first **three states** with the highest number of fatalities.\n",
    "    1. To do this, you will need to use the chart editor to adjust the existing data ranges `'Shark Attacks'!A1:A9` and `'Shark Attacks'!C1:C9` so that the chart only displays fatalities from `NSW`, `QLD`, and `WA`.\n",
    "3. Finally, change the chart title to 'Top 3 States Number of Fatalities'."
   ]
  },
  {
   "cell_type": "markdown",
   "id": "silver-kingdom",
   "metadata": {},
   "source": [
    "## Using named ranges\n",
    "\n",
    "In this task you are going find an existing range and insert a blank row within the range.\n",
    "\n",
    "Instructions\n",
    "\n",
    "1. Select Data then Named ranges and click on the `SharkStats` Named range to see the highlighted range.\n",
    "2. Insert a blank row after row `2`."
   ]
  },
  {
   "cell_type": "markdown",
   "id": "previous-henry",
   "metadata": {},
   "source": [
    "## Summing using a named range\n",
    "\n",
    "In addition to being a handy way of keeping track of a range of cells, named ranges can also be used in formulas.\n",
    "\n",
    "For example, using the formula `=AVERAGE(Total)` would return the average of the totals contained within the `Total` named range.\n",
    "\n",
    "In this task you will remove a blank row and use the named range `Total` in a formula.\n",
    "\n",
    "Instructions\n",
    "\n",
    "1. Remove the blank row you inserted in the last exercise.\n",
    "2. In `B10`, use the `SUM()` function to aggregate the `Total` named range."
   ]
  },
  {
   "cell_type": "markdown",
   "id": "unique-spanish",
   "metadata": {},
   "source": [
    "## Averaging using a named range\n",
    "\n",
    "In this task you will use a named range within a formula to find an average.\n",
    "\n",
    "Instructions\n",
    "\n",
    "1. In `C11` use the `Fatalities` named range instead of cell references to average the number of fatalities."
   ]
  }
 ],
 "metadata": {
  "kernelspec": {
   "display_name": "Python 3",
   "language": "python",
   "name": "python3"
  },
  "language_info": {
   "codemirror_mode": {
    "name": "ipython",
    "version": 3
   },
   "file_extension": ".py",
   "mimetype": "text/x-python",
   "name": "python",
   "nbconvert_exporter": "python",
   "pygments_lexer": "ipython3",
   "version": "3.8.10"
  },
  "toc": {
   "base_numbering": 1,
   "nav_menu": {},
   "number_sections": false,
   "sideBar": true,
   "skip_h1_title": false,
   "title_cell": "Table of Contents",
   "title_sidebar": "Contents",
   "toc_cell": false,
   "toc_position": {},
   "toc_section_display": true,
   "toc_window_display": false
  },
  "varInspector": {
   "cols": {
    "lenName": 16,
    "lenType": 16,
    "lenVar": 40
   },
   "kernels_config": {
    "python": {
     "delete_cmd_postfix": "",
     "delete_cmd_prefix": "del ",
     "library": "var_list.py",
     "varRefreshCmd": "print(var_dic_list())"
    },
    "r": {
     "delete_cmd_postfix": ") ",
     "delete_cmd_prefix": "rm(",
     "library": "var_list.r",
     "varRefreshCmd": "cat(var_dic_list()) "
    }
   },
   "types_to_exclude": [
    "module",
    "function",
    "builtin_function_or_method",
    "instance",
    "_Feature"
   ],
   "window_display": false
  }
 },
 "nbformat": 4,
 "nbformat_minor": 5
}
