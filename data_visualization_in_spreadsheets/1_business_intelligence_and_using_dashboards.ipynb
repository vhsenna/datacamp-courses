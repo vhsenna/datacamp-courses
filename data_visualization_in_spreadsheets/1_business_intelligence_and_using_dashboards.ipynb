{
 "cells": [
  {
   "cell_type": "markdown",
   "id": "retained-locator",
   "metadata": {},
   "source": [
    "## Using data validation controls view medal tallies\n",
    "\n",
    "In this completed basic dashboard example, you'll find the medal statistics by country taken from the 2016 Olympic Games held in Brazil.\n",
    "\n",
    "You are going to use the data validation controls to view the gold, silver, and bronze medal tallies for `Australia`.\n",
    "\n",
    "Instructions\n",
    "\n",
    "1. Change the country to Australia using the drop-down menu."
   ]
  },
  {
   "cell_type": "markdown",
   "id": "assumed-pregnancy",
   "metadata": {},
   "source": [
    "## Using data validation controls to pick from a list\n",
    "\n",
    "In the dashboard example, you are going to pick sequential numbers from a list to order countries by medal rankings. In this exercise, you will be sorting the countries by total number of medals, but country rank in the Olympics is typically determined by the number of Gold medals per country. Ties are broken using silver medals, and then bronze medals.\n",
    "\n",
    "Instructions\n",
    "\n",
    "1. Change the rank using the drop-down menu so that the ranks are displayed in order for countries 1 through 5."
   ]
  },
  {
   "cell_type": "markdown",
   "id": "cosmetic-graphics",
   "metadata": {},
   "source": [
    "## Using conditional formatting on a dashboard\n",
    "\n",
    "Conditional formatting is another functionality that completed dashboards can contain that allows users to modify the visual display on the dashboard. Here, you will explore the conditional formatting on the same dashboard for the 2016 Olympic Games in Brazil.\n",
    "\n",
    "There is already a conditional formatting rule set that highlights medal counts greater than or equal to 15. Your task is to adapt this rule so that the dashboard only highlights cells **greater than or equal to 25**.\n",
    "\n",
    "Instructions\n",
    "\n",
    "1. Highlight `Gold`, `Silver`, and `Bronze` figures for the 10 countries and adapt the existing 'Conditional formatting' rule (_Value is greater than or equal to 15_) to instead highlight values that are greater than or equal to **25**."
   ]
  },
  {
   "cell_type": "markdown",
   "id": "varying-saturn",
   "metadata": {},
   "source": [
    "## Creating a column chart from your data\n",
    "\n",
    "In the dataset you'll find the medal statistics by country from the 2016 Olympic Games held in Brazil in order of ranking. Let's use the data to create a column chart to show the medal tallies of the first 3 ranked countries.\n",
    "\n",
    "Instructions\n",
    "\n",
    "1. Highlight the `Country`, and then the `Gold`, `Silver`, and `Bronze` medal stats for the first three ranked countries, then create a **column** chart and move it to the right of the data."
   ]
  },
  {
   "cell_type": "markdown",
   "id": "variable-falls",
   "metadata": {},
   "source": [
    "## Setting up your worksheet with formulas of reference\n",
    "\n",
    "In this next task, you will showcase only the data you want to chart using formulas of reference to extract the top 3 countries' medal tallies from the dataset and show them in the dashboard.\n",
    "\n",
    "Instructions\n",
    "\n",
    "1. Create a formula of reference in cell `A1` that shows the contents of `A1` in the `Olympics` sheet.\n",
    "2. Copy the calculation down and across the sheet to show all data for the first 3 ranked countries.\n",
    "3. Make sure column `B` is wide enough to see the entire country name."
   ]
  },
  {
   "cell_type": "markdown",
   "id": "alike-cambridge",
   "metadata": {},
   "source": [
    "## Charting the medal statistics\n",
    "\n",
    "Now that you have only the data you want to chart in this task you will create a column chart and display it underneath your extracted data.\n",
    "\n",
    "Instructions\n",
    "\n",
    "1. Create a column chart showing the `Country`, `Gold`, `Silver`, and `Bronze` stats.\n",
    "2. Position the chart underneath the data."
   ]
  },
  {
   "cell_type": "markdown",
   "id": "broken-grade",
   "metadata": {},
   "source": [
    "## Getting started\n",
    "\n",
    "Setting up your data in the correct way in the beginning will save you lots of time and effort later on. Here, you will set up your data so you have an efficient spreadsheet to work with as you create your dashboard.\n",
    "\n",
    "Instructions\n",
    "\n",
    "1. Remove all rows from the dataset that are empty."
   ]
  },
  {
   "cell_type": "markdown",
   "id": "authentic-vinyl",
   "metadata": {},
   "source": [
    "## Format dates and numbers\n",
    "\n",
    "To make your data clear at a glance, in this task you will apply a little bit of formatting to your data.\n",
    "\n",
    "Instructions\n",
    "\n",
    "1. Format the date so that it shows the day as a number, month in full, and year (e.g. '1 January 2000'). Then widen the column so you can see it all.\n",
    "2. Ensure all numbers have 2 decimal places by highlighting the correct cells, and then using the arrow controls in the toolbar (next to the '123' drop-down menu).\n",
    "3. _Note: to pass this exercise you need to use the **arrow controls** in the toolbar to adjust the decimal places, and not alternative number formatting options._"
   ]
  }
 ],
 "metadata": {
  "kernelspec": {
   "display_name": "Python 3",
   "language": "python",
   "name": "python3"
  },
  "language_info": {
   "codemirror_mode": {
    "name": "ipython",
    "version": 3
   },
   "file_extension": ".py",
   "mimetype": "text/x-python",
   "name": "python",
   "nbconvert_exporter": "python",
   "pygments_lexer": "ipython3",
   "version": "3.8.10"
  },
  "toc": {
   "base_numbering": 1,
   "nav_menu": {},
   "number_sections": false,
   "sideBar": true,
   "skip_h1_title": false,
   "title_cell": "Table of Contents",
   "title_sidebar": "Contents",
   "toc_cell": false,
   "toc_position": {},
   "toc_section_display": true,
   "toc_window_display": false
  },
  "varInspector": {
   "cols": {
    "lenName": 16,
    "lenType": 16,
    "lenVar": 40
   },
   "kernels_config": {
    "python": {
     "delete_cmd_postfix": "",
     "delete_cmd_prefix": "del ",
     "library": "var_list.py",
     "varRefreshCmd": "print(var_dic_list())"
    },
    "r": {
     "delete_cmd_postfix": ") ",
     "delete_cmd_prefix": "rm(",
     "library": "var_list.r",
     "varRefreshCmd": "cat(var_dic_list()) "
    }
   },
   "types_to_exclude": [
    "module",
    "function",
    "builtin_function_or_method",
    "instance",
    "_Feature"
   ],
   "window_display": false
  }
 },
 "nbformat": 4,
 "nbformat_minor": 5
}
