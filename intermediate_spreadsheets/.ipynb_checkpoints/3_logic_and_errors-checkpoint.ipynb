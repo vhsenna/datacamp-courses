{
 "cells": [
  {
   "cell_type": "markdown",
   "id": "medical-wesley",
   "metadata": {},
   "source": [
    "## Logical operations are hard... NOT!\n",
    "\n",
    "In this chapter, you will explore logical operations using [unemployment data from 1972](https://www.rdocumentation.org/packages/Ecdat/topics/Benefits). Each row corresponds to a woman was made unemployed because their seasonal job ended.\n",
    "\n",
    "The simplest logical operation is [`NOT()`](https://support.google.com/docs/answer/3093305), which negates its input. That is, `NOT(TRUE)` is `FALSE` and `NOT(FALSE)` is `TRUE`.\n",
    "\n",
    "Logical operations are useful for filtering datasets: you can keep only the rows where some condition is `TRUE`. Data filtering can be done using [`FILTER()`](https://support.google.com/docs/answer/3093197), which takes two arguments. The first argument is the range of the data that you want to filter, and the second argument is the range of the logical condition to filter on.\n",
    "\n",
    "For example, if the data (not including the header row) is in `A2:E10`, and the final column contains the logical condition to filter on, you would type `=FILTER(A2:E10, E2:E10)`.\n",
    "\n",
    "Instructions\n",
    "\n",
    "1. In column `H`, negate the \"Is non-white?\" column to find women who are white.\n",
    "2. In cell `A28`, define a filter on the whole dataset from `A2` to `H25`, using the values in column `H` as the condition to filter on."
   ]
  },
  {
   "cell_type": "markdown",
   "id": "naughty-monthly",
   "metadata": {},
   "source": [
    "## AND now for something completely different\n",
    "\n",
    "Sometimes you want to know if several logical conditions are _all_ true at the same time. For this you can use the `AND()` function.\n",
    "\n",
    "`AND(TRUE, TRUE, TRUE)` returns `TRUE`, since all the inputs are `TRUE`. `AND(TRUE, FALSE, TRUE)` returns false, since the second input is not `TRUE`.\n",
    "\n",
    "Instructions\n",
    "\n",
    "1. In column `H`, find the women who are married and have kids, but not young kids.\n",
    "2. In cell `A28`, define a filter to return only the rows where column `H` is `TRUE`."
   ]
  },
  {
   "cell_type": "markdown",
   "id": "transparent-marking",
   "metadata": {},
   "source": [
    "## Yea OR nay\n",
    "\n",
    "The third logical operator is [`OR()`](https://support.google.com/docs/answer/7013690). This returns `TRUE` when _any_ of its inputs is `TRUE`.\n",
    "\n",
    "For example, `OR(FALSE, TRUE, FALSE)` returns `TRUE` since the second input is `TRUE`, but `OR(FALSE, FALSE, FALSE)` returns `FALSE` since all its inputs are `FALSE`.\n",
    "\n",
    "Instructions\n",
    "\n",
    "1. In column `H`, find women who are white or have over 12 years of school\n",
    "2. In column `I`, find women who match the previous condition _and_ get unemployment insurance benefits.\n",
    "\n",
    "3. In cell `A28`, define a filter to return only the rows that match conditions in column `I`."
   ]
  },
  {
   "cell_type": "markdown",
   "id": "raised-major",
   "metadata": {},
   "source": [
    "## IF only\n",
    "\n",
    "In [Data Analysis with Spreadsheets](https://www.datacamp.com/courses/data-analysis-with-spreadsheets), you learned how to use `IF()` function. `IF()` takes a logical condition as its first input, so it is often used in conjunction with `NOT()`, `AND()` and `OR()`.\n",
    "\n",
    "To recap, it takes three arguments: the logical condition, a value to return if the condition is met, and a value to return if the condition is not met.\n",
    "\n",
    "One common usage is to make the second and third arguments text values, to convert a logical condition into text status labels: `=IF(logical_condition, \"status 1\", \"status 2\")`.\n",
    "\n",
    "Instructions\n",
    "\n",
    "1. In column `H`, if the woman is married and has kids, set the value to `\"married with kids\"`; otherwise set the value `\"other\"`."
   ]
  },
  {
   "cell_type": "markdown",
   "id": "charitable-chaos",
   "metadata": {},
   "source": [
    "## Lots of IFS\n",
    "\n",
    "If you have more than two categories to generate from your logical conditions, `IF()` becomes unwieldy. It is possible to generate as many categories as you like by nesting `IF()` inside other calls to `IF()`, but the code quickly becomes difficult to understand. Instead, Google Sheets provides a function called [`IFS()`](https://support.google.com/docs/answer/7014145) that lets you test for as many conditions as you like. It takes pairs of arguments as follows:\n",
    "\n",
    "```\n",
    "=IFS(condition1, \"value if condition 1 is TRUE\", \n",
    "     condition2, \"value if condition 2 is TRUE\", ...)\n",
    "```\n",
    "\n",
    "Instructions\n",
    "\n",
    "1. In column `H`, pass six arguments to `IFS()` to calculate the status of kids in each row. If the woman\n",
    "\n",
    "- has young kids, return `\"young\"`.\n",
    "- has no kids, return `\"none\"`.\n",
    "- has kids and does not have young kids, return `\"old\"`."
   ]
  },
  {
   "cell_type": "markdown",
   "id": "sustainable-vertex",
   "metadata": {},
   "source": [
    "## SWITCH it on!\n",
    "\n",
    "Sometimes you may wish to transform your categorical variables: you can use [`SWITCH()`](https://support.google.com/docs/answer/7013690) for this.\n",
    "\n",
    "The formula in cell `I2` shows an example of reversing the \"Kids status\" variable you created to get the \"Has kids?\" values again from column D.\n",
    "\n",
    "```\n",
    "=SWITCH(H2:H25, \"none\", FALSE, \"young\", TRUE, \"old\", TRUE)\n",
    "```\n",
    "\n",
    "The first argument is a range of categorical input cells, then there are pairs of start values and transformed values.\n",
    "\n",
    "Instructions\n",
    "\n",
    "1. In cell `J2`, call `SWITCH()` to return `1` when `Kids status` is `\"none\"`, `2` when `Kids status` is `\"young\"`, and `3` when `Kids status` is `\"old\"`."
   ]
  },
  {
   "cell_type": "markdown",
   "id": "objective-prague",
   "metadata": {},
   "source": [
    "## Blankety blank\n",
    "\n",
    "As you saw in Chapter 1, sometimes you may end up with cells containing no data. For example, if someone refuses to answer a question on a survey, or a sensor failed to pick up a reading, or a store was shut for a holiday.\n",
    "\n",
    "How you deal with these blank cells can have a big effect on your results, so it's important to tread carefully. The first steps are to able to identify whether a cell is blank (using [`ISBLANK()`](https://support.google.com/docs/answer/3093290)), and to count how many blanks that you have.\n",
    "\n",
    "[`COUNTBLANK`](https://support.google.com/docs/answer/3093403) accepts a range of cells, and returns the number of blanks in that range.\n",
    "\n",
    "Some of column `G` has been made blank.\n",
    "\n",
    "Instructions\n",
    "\n",
    "1. In column `H`, determine which cells in column `G` are blank.\n",
    "2. In cell `G26`, calculate the count of blank cells in column `G` of the dataset."
   ]
  },
  {
   "cell_type": "markdown",
   "id": "framed-talent",
   "metadata": {},
   "source": [
    "## Going missing\n",
    "\n",
    "Some calculations involving blank values may give different results to what you might expect. For example, when you pass a blank value into the `AND()` function, it is treated as `TRUE`. This is often unhelpful. To make blanks behave in a sensible way in calculations, you must first convert them to be \"not available\" using [`NA()`](https://support.google.com/docs/answer/3093359). This function takes no inputs, and returns a missing value. To convert a blank value to a missing value, use this pattern.\n",
    "\n",
    "```\n",
    "=IF(ISBLANK(cell), NA(), cell)\n",
    "```\n",
    "\n",
    "Instructions\n",
    "\n",
    "1. In column `H`, use `AND()` to find women who have kids and get benefits.\n",
    "2. In column `I`, convert the blanks in column `G` to missing values.\n",
    "3. In column `J`, again find women who have kids and get benefits, this time using column `I` rather than `G`."
   ]
  },
  {
   "cell_type": "markdown",
   "id": "demographic-wings",
   "metadata": {},
   "source": [
    "## Errors and omissions\n",
    "\n",
    "Technically speaking, the missing value created by `NA()` is a type of error. You can test for errors using [`ISERROR()`](https://support.google.com/docs/answer/3093349). Similar to the other `IS*()` functions that you've seen, it takes a cell address as its input and returns `TRUE` if that cell contains an error and `FALSE` otherwise.\n",
    "\n",
    "Treating missing values as errors is often undesirable since real-world data naturally contains missing values. That's why there is also [`ISERR()`](https://support.google.com/docs/answer/3093348) that returns `TRUE` for all error types except missing values.\n",
    "\n",
    "Instructions\n",
    "\n",
    "1. In column `H`, apply `ISERROR()` to column `F`.\n",
    "2. In column `I`, apply `ISERROR()` to column `G`.\n",
    "3. In column `J`, apply `ISERR()` to column `G`."
   ]
  },
  {
   "cell_type": "markdown",
   "id": "competent-surfing",
   "metadata": {},
   "source": [
    "## What's the problem?\n",
    "\n",
    "There are 7 types of errors used in Google Sheets.\n",
    "\n",
    "```\n",
    "Error     Cause\n",
    "#DIV/0!   Dividing by zero.\n",
    "#VALUE!   Nonsense data in a calculation.\n",
    "#REF!     Referencing a cell that has been deleted.\n",
    "#NAME?    Forgetting to quote a string.\n",
    "#NUM!     Numbers being out of range.\n",
    "#N/A      Missing value.\n",
    "#ERROR!   Syntax problem in a formula.\n",
    "```\n",
    "\n",
    "What errors will these formulas generate?\n",
    "\n",
    "1. `=1 / 0`\n",
    "2. `=SQRT(-1)`\n",
    "3. `=Z1 = value`\n",
    "4. `=1 + \" \"`\n",
    "5. `=SUM(0 1)`"
   ]
  },
  {
   "cell_type": "markdown",
   "id": "working-gentleman",
   "metadata": {},
   "source": [
    "`#DIV/0!`, `#NUM!`, `#NAME?, #VALUE!`, `#ERROR!`."
   ]
  }
 ],
 "metadata": {
  "kernelspec": {
   "display_name": "Python 3",
   "language": "python",
   "name": "python3"
  },
  "language_info": {
   "codemirror_mode": {
    "name": "ipython",
    "version": 3
   },
   "file_extension": ".py",
   "mimetype": "text/x-python",
   "name": "python",
   "nbconvert_exporter": "python",
   "pygments_lexer": "ipython3",
   "version": "3.8.10"
  },
  "toc": {
   "base_numbering": 1,
   "nav_menu": {},
   "number_sections": false,
   "sideBar": true,
   "skip_h1_title": false,
   "title_cell": "Table of Contents",
   "title_sidebar": "Contents",
   "toc_cell": false,
   "toc_position": {},
   "toc_section_display": true,
   "toc_window_display": false
  },
  "varInspector": {
   "cols": {
    "lenName": 16,
    "lenType": 16,
    "lenVar": 40
   },
   "kernels_config": {
    "python": {
     "delete_cmd_postfix": "",
     "delete_cmd_prefix": "del ",
     "library": "var_list.py",
     "varRefreshCmd": "print(var_dic_list())"
    },
    "r": {
     "delete_cmd_postfix": ") ",
     "delete_cmd_prefix": "rm(",
     "library": "var_list.r",
     "varRefreshCmd": "cat(var_dic_list()) "
    }
   },
   "types_to_exclude": [
    "module",
    "function",
    "builtin_function_or_method",
    "instance",
    "_Feature"
   ],
   "window_display": false
  }
 },
 "nbformat": 4,
 "nbformat_minor": 5
}
