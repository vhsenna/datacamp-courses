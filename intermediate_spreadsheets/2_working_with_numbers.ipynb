{
 "cells": [
  {
   "cell_type": "markdown",
   "id": "necessary-burlington",
   "metadata": {},
   "source": [
    "## Logarithmic transformations\n",
    "\n",
    "In this chapter, you'll work with data on asteroids that are [predicted to pass close to the Earth](https://en.wikipedia.org/wiki/List_of_asteroid_close_approaches_to_Earth#Predicted_encounters). It's good to be prepared!\n",
    "\n",
    "Here you'll explore logarithm-transformations of data (\"log\" for short), which can be very useful if the values span several orders of magnitude.\n",
    "\n",
    "- [`LOG10()`](https://support.google.com/docs/answer/3093423) takes a number or cell location, and returns the log, base 10.\n",
    "- [`LN()`](https://support.google.com/docs/answer/3093422) does the same, with Euler's number (\"e\") as the base.\n",
    "\n",
    "Instructions\n",
    "\n",
    "1. In column `H`, rescale the nominal geocentric distance (\"distance from Earth\") in column `C` to astronomical units by dividing by the value in `B14`.\n",
    "2. In column `I`, take a log 10 transformation of these numbers.\n",
    "3. In column `J`, take the natural log of the numbers in column `H`."
   ]
  },
  {
   "cell_type": "markdown",
   "id": "historic-village",
   "metadata": {},
   "source": [
    "## Exponential transformations\n",
    "\n",
    "To undo the logarithmic transformations from the last exercise, you need to perform an exponential transformation.\n",
    "\n",
    "- The \"power of\" operator, [`^`](https://support.google.com/docs/answer/3093603), raises a number to a power. For example, `=10 ^ A1` is the opposite of `=LOG10(A1)`.\n",
    "- [`EXP()`](https://support.google.com/docs/answer/3093411) handles the special case of raising Euler's number to a particular power, and is the opposite of `=LN()`.\n",
    "\n",
    "Instructions\n",
    "\n",
    "1. In column `K`, retrieve the nominal geocentric distance by calculating 10 to the power of the values in column `I`.\n",
    "2. In column `L`, do the same by calculating the natural exponent of the values in column `J`."
   ]
  },
  {
   "cell_type": "markdown",
   "id": "leading-algebra",
   "metadata": {},
   "source": [
    "## Square root transformations\n",
    "\n",
    "There are many more mathematical transformations that you can apply to your data. In fact, it's possible to create very complex transformations by building them step-by-step.\n",
    "\n",
    "Asteroids have roughly elliptical orbit around the sun, as shown in this image.\n",
    "\n",
    "Diagram of an elliptical orbit, with aphelion, perihelion, and semi-axes labelled\n",
    "\n",
    "![](https://i.imgur.com/wv81qG6.png)\n",
    "\n",
    "Using the distance from the center of the ellipse to the aphelion and the perihelion, you can can calculate the area of the orbit.\n",
    "\n",
    "To solve this, you'll need:\n",
    "\n",
    "- [`SQRT()`](https://support.google.com/docs/answer/3093577) calculates the square root of a number.\n",
    "- [`PI()`](https://support.google.com/docs/answer/3093432) returns the mathematical constant.\n",
    "\n",
    "Instructions\n",
    "\n",
    "1. In column `H`, calculate the semi-major axis as the aphelion (column `F`) plus perihelion (column `G`), all divided by two.\n",
    "2. In column `I`, calculate the semi-minor axis as the square-root of the product of the aphelion and the perihelion.\n",
    "3. In column `J`, calculate the area as pi times the semi-major axis (column `H`) times the semi-minor axis (column `I`)."
   ]
  },
  {
   "cell_type": "markdown",
   "id": "moral-powder",
   "metadata": {},
   "source": [
    "## Round and round\n",
    "\n",
    "Often, numbers are easier to read if you limit how precisely they are written. For example, `75` is easier to read than `74.9729526456456`.\n",
    "\n",
    "[`ROUND()`](https://support.google.com/docs/answer/3093440) lets you round numbers to a specified number of decimal places.\n",
    "\n",
    "- `ROUND(A1)` rounds the number in cell `A1` to the nearest whole number.\n",
    "- `ROUND(A1, 3)` rounds it to three decimal places - or, in other words, to the nearest thousand**th**.\n",
    "- `ROUND(A1, -3)` rounds it to the nearest thousand.\n",
    "\n",
    "Instructions\n",
    "\n",
    "1. In column `H`, round the aphelion to the nearest whole number.\n",
    "2. In column `I`, round the perihelion to one decimal place (to the nearest tenth)\n",
    "3. In column `J`, round the upper bound of the size to the nearest hundred."
   ]
  },
  {
   "cell_type": "markdown",
   "id": "independent-pacific",
   "metadata": {},
   "source": [
    "## From floor to ceiling\n",
    "\n",
    "Sometimes you always want to round a value down (towards negative infinity), or always round upwards (towards infinity). You can do this using\n",
    "\n",
    "- [`FLOOR()`](https://support.google.com/docs/answer/3093487), which rounds down, and\n",
    "- [`CEILING()`](https://support.google.com/docs/answer/3093471), which round up.\n",
    "\n",
    "Both functions take a second argument that specifies the multiple to round to. For example, `FLOOR(A1, 0.01)` rounds the number in cell A1 down to the next lowest hundredth. If this argument is omitted, it rounds down to the nearest whole number.\n",
    "\n",
    "Instructions\n",
    "\n",
    "1. In column `H`, round the aphelion down to the nearest whole number.\n",
    "2. In column `I`, round the perihelion up to the next tenth."
   ]
  },
  {
   "cell_type": "markdown",
   "id": "surgical-junior",
   "metadata": {},
   "source": [
    "## Rounding negative numbers\n",
    "\n",
    "`FLOOR()` and `CEILING()` will round negative numbers towards or away from negative infinity. That is, `FLOOR(-1.5)` is `-2` and `CEILING(-1.5)` is `-1`.\n",
    "\n",
    "Sometimes you may wish to round them towards or away from zero.\n",
    "\n",
    "Google Sheets has two related functions called `FLOOR.MATH()` and `CEILING.MATH()`. When given one or two arguments, they behave in the same way as `FLOOR()` and `CEILING()` respectively. However, you can pass a third argument that determined the direction of the rounding: passing a positive number (for example, `1`) to a third argument to make them round in the positive direction - towards zero.\n",
    "\n",
    "That is, `FLOOR.MATH(-1.57, 0.1, 1)` is `-1.5` and `CEILING.MATH(-1.57, 0.1, 1)` is `-1.6`.\n",
    "\n",
    "Instructions\n",
    "\n",
    "1. In column `H`, take the perihelion and subtract the aphelion (column `G` minus column `F`) to create some negative numbers.\n",
    "2. In column `I`, use `FLOOR.MATH()` to round those differences to the next hundredth (0.01) _towards_ zero.\n",
    "3. In column `J`, use `CEILING.MATH()` to round those differences to the next tenth (0.1) _away_ from zero."
   ]
  },
  {
   "cell_type": "markdown",
   "id": "medium-african",
   "metadata": {},
   "source": [
    "## Generating uniform random numbers\n",
    "\n",
    "Many data science tasks involve running simulations. One important step in a simulation is the generation of random numbers. There are two functions available for generating numbers from a uniform distribution. In a continuous uniform distribution, any number within a range is likely to be generated. In a discrete uniform distribution, any one of a finite number of values is equally likely to be generated.\n",
    "\n",
    "- [`RAND()`](https://support.google.com/docs/answer/3093438) generates a random number between 0 and 1 from a continuous uniform distribution. It takes no arguments.\n",
    "- [`RANDBETWEEN()`](https://support.google.com/docs/answer/3093507) lets you specify the lower and upper bounds, and generates a random integer (no fractional part); that is, it samples from a discrete uniform distribution.\n",
    "\n",
    "Instructions\n",
    "\n",
    "1. In column `H`, rows 2 to 12, generate uniform random numbers between 0 and 1.\n",
    "2. In column `I`, generate uniform random numbers between the lower size estimate and the upper size estimate."
   ]
  },
  {
   "cell_type": "markdown",
   "id": "alleged-nothing",
   "metadata": {},
   "source": [
    "## Generating random numbers from other distributions\n",
    "\n",
    "You can generate random numbers from a variety of statistical distributions in addition to the uniform distribution. Unfortunately, it takes a sneaky trick!\n",
    "\n",
    "First, you generate a uniform random number between 0 and 1 using `RAND()`. Then you apply the inverse cumulative distribution function for the distribution you are interested in. Don't worry, it sounds trickier than it is.\n",
    "\n",
    "As an example, to generate random numbers from a normal distribution with mean 3 and standard deviation 2, you would use `=NORMINV(RAND(), 3, 2)`.\n",
    "\n",
    "There are many other inverse cumulative distribution functions available: you can repeat that same code swapping [`FINV()`](https://support.google.com/docs/answer/7014062) for the F distribution, `BETAINV()` for the beta distribution, and so on.\n",
    "\n",
    "Instructions\n",
    "\n",
    "1. In column `H`, generate normally distributed random geocentric distances with the mean taken from column `C` and a standard deviation of 1000.\n",
    "2. In column `I`, generate beta distributed random asteroid sizes.\n",
    "    1. Call `BETAINV()`, passing `RAND()` as the first argument.\n",
    "    2. Set the second and third \"shape\" arguments to 2.\n",
    "    3. Set the fourth and fifth \"bound\" arguments to the asteroid lower and upper size estimates."
   ]
  }
 ],
 "metadata": {
  "kernelspec": {
   "display_name": "Python 3",
   "language": "python",
   "name": "python3"
  },
  "language_info": {
   "codemirror_mode": {
    "name": "ipython",
    "version": 3
   },
   "file_extension": ".py",
   "mimetype": "text/x-python",
   "name": "python",
   "nbconvert_exporter": "python",
   "pygments_lexer": "ipython3",
   "version": "3.8.10"
  },
  "toc": {
   "base_numbering": 1,
   "nav_menu": {},
   "number_sections": false,
   "sideBar": true,
   "skip_h1_title": false,
   "title_cell": "Table of Contents",
   "title_sidebar": "Contents",
   "toc_cell": false,
   "toc_position": {},
   "toc_section_display": true,
   "toc_window_display": false
  },
  "varInspector": {
   "cols": {
    "lenName": 16,
    "lenType": 16,
    "lenVar": 40
   },
   "kernels_config": {
    "python": {
     "delete_cmd_postfix": "",
     "delete_cmd_prefix": "del ",
     "library": "var_list.py",
     "varRefreshCmd": "print(var_dic_list())"
    },
    "r": {
     "delete_cmd_postfix": ") ",
     "delete_cmd_prefix": "rm(",
     "library": "var_list.r",
     "varRefreshCmd": "cat(var_dic_list()) "
    }
   },
   "types_to_exclude": [
    "module",
    "function",
    "builtin_function_or_method",
    "instance",
    "_Feature"
   ],
   "window_display": false
  }
 },
 "nbformat": 4,
 "nbformat_minor": 5
}
