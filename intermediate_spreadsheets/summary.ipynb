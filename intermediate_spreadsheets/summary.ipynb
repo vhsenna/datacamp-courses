{
 "cells": [
  {
   "cell_type": "markdown",
   "id": "spread-bangkok",
   "metadata": {},
   "source": [
    "## Intermediate Spreadsheets\n",
    "\n",
    "- 4 hours\n",
    "- 12 Videos\n",
    "- 48 Exercises\n",
    "\n",
    "## Course Description\n",
    "\n",
    "This course will expand your Google Sheets vocabulary. You'll dive deeper into data types, practice manipulating numeric and logical data, explore missing data and error types, and calculate some summary statistics. As you go, you'll explore datasets on 100m sprint world records, asteroid close encounters, benefit claims, and butterflies.\n",
    "\n",
    "### 1 What's in a cell?\n",
    "\n",
    "In which you learn to interrogate cells to determine the data type of their contents, and to convert between data types.\n",
    "\n",
    "- Data types for data science\n",
    "- What IS*() the data type?\n",
    "- Checking rarer data types\n",
    "- Finding missing data\n",
    "- Dteectnig bdaly tpyed dtaa\n",
    "- Convert or die!\n",
    "- Making numbers while the sun shines\n",
    "- How the 104% live\n",
    "- Converting logical values to numbers\n",
    "- Preaching to the CONVERT()ed\n",
    "\n",
    "### 2 Working with numbers\n",
    "\n",
    "In which you learn to apply log and square root transformations to numbers, round them up and down, and generate random numbers.\n",
    "\n",
    "- Common data transformations\n",
    "- Logarithmic transformations\n",
    "- Exponential transformations\n",
    "- Square root transformations\n",
    "- Rounding and formatting numbers\n",
    "- Round and round\n",
    "- From floor to ceiling\n",
    "- Rounding negative numbers\n",
    "- Generating random numbers\n",
    "- Generating uniform random numbers\n",
    "- Generating random numbers from other distributions\n",
    "\n",
    "### 3 Logic & Errors\n",
    "\n",
    "In which you learn how to work with logical data consisting of TRUE and FALSE values, and how to handle missing values and errors.\n",
    "\n",
    "- Logical operations\n",
    "- Logical operations are hard... NOT!\n",
    "- AND now for something completely different\n",
    "- Yea OR nay\n",
    "- Flow control\n",
    "- IF only\n",
    "- Lots of IFS\n",
    "- SWITCH it on!\n",
    "- Blanks, missing values, & errors\n",
    "- Blankety blank\n",
    "- Going missing\n",
    "- Errors and omissions\n",
    "- What's the problem?\n",
    "\n",
    "### 4 Positional Matching\n",
    "\n",
    "In which you learn about cell addresses, advanced matching, sorting and filtering, and simple imputation.\n",
    "\n",
    "- Cell addresses\n",
    "- Working with cell addresses\n",
    "- From addresses to values\n",
    "- Finding nearby cells with offsets\n",
    "- Local addresses\n",
    "- Lookups & matching\n",
    "- A VLOOKUP refresher\n",
    "- Sorted!\n",
    "- Matching values\n",
    "- Bringing it all together\n",
    "- Advanced filtering\n",
    "- Conditional summary statistics\n",
    "- Simple imputation\n",
    "- Congratulations!"
   ]
  }
 ],
 "metadata": {
  "kernelspec": {
   "display_name": "Python 3",
   "language": "python",
   "name": "python3"
  },
  "language_info": {
   "codemirror_mode": {
    "name": "ipython",
    "version": 3
   },
   "file_extension": ".py",
   "mimetype": "text/x-python",
   "name": "python",
   "nbconvert_exporter": "python",
   "pygments_lexer": "ipython3",
   "version": "3.8.10"
  },
  "toc": {
   "base_numbering": 1,
   "nav_menu": {},
   "number_sections": false,
   "sideBar": true,
   "skip_h1_title": false,
   "title_cell": "Table of Contents",
   "title_sidebar": "Contents",
   "toc_cell": false,
   "toc_position": {},
   "toc_section_display": true,
   "toc_window_display": false
  },
  "varInspector": {
   "cols": {
    "lenName": 16,
    "lenType": 16,
    "lenVar": 40
   },
   "kernels_config": {
    "python": {
     "delete_cmd_postfix": "",
     "delete_cmd_prefix": "del ",
     "library": "var_list.py",
     "varRefreshCmd": "print(var_dic_list())"
    },
    "r": {
     "delete_cmd_postfix": ") ",
     "delete_cmd_prefix": "rm(",
     "library": "var_list.r",
     "varRefreshCmd": "cat(var_dic_list()) "
    }
   },
   "types_to_exclude": [
    "module",
    "function",
    "builtin_function_or_method",
    "instance",
    "_Feature"
   ],
   "window_display": false
  }
 },
 "nbformat": 4,
 "nbformat_minor": 5
}
