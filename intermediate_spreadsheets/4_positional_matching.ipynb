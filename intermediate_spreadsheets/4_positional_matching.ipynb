{
 "cells": [
  {
   "cell_type": "markdown",
   "id": "powerful-silver",
   "metadata": {},
   "source": [
    "## Working with cell addresses\n",
    "\n",
    "The address of a cell in Google sheets can be specified in two ways: either as a letter-number pair like `C5`, or as a pair of numbers like \"row 5, column 3\". Some formulas may be easier to specify on one way or the other, so it's useful to know how to convert from one form to the other and back.\n",
    "\n",
    "- [`ROW()`](https://support.google.com/docs/answer/3093316) and [`COLUMN()`](https://support.google.com/docs/answer/3093373) take addresses in `A1` format and return the number of the row and column respectively.\n",
    "\n",
    "- [`ADDRESS()`](https://support.google.com/docs/answer/3093308) takes numeric row and column inputs and returns the address in `A1` format. It also has an option argument to specify the relativity of the addresses: 1 (the default) returns absolute addresses; 2, 3, and 4 return row absolute, column absolute, and relative addresses respectively.\n",
    "\n",
    "In this chapter you'll be working with Indian butterfly data from [Singh and Pandey](http://ces.iisc.ernet.in/hpg/nvjoshi/statspunedatabook/databook.html).\n",
    "\n",
    "Instructions\n",
    "\n",
    "1. In column `H`, get the row numbers of the `Locality` column.\n",
    "2. In column `I`, get the column numbers of that column.\n",
    "3. In column `J`, convert columns `H` and `I` back to addresses in `$A$1` absolute format.\n",
    "4. In column `K`, convert columns `H` and `I` back to addresses in `A1` relative format."
   ]
  },
  {
   "cell_type": "markdown",
   "id": "inside-press",
   "metadata": {},
   "source": [
    "## From addresses to values\n",
    "\n",
    "A really important use of the cell addresses you made using [`ADDRESS()`](https://support.google.com/docs/answer/3093308) is to get the value stored at that location. To do this, you use the [`INDIRECT()`](https://support.google.com/docs/answer/3093377) function. (The name of the function comes from the computer science concept of _indirection_, where you pass the address of a variable in memory to a function rather than the variable itself.)\n",
    "\n",
    "If the cell `J42` contains the value `99`, then typing `=ADDRESS(42, 10)` in cell `J43` will give that cell a value of `$J$42`. Now the formula `=INDIRECT(\"J43\")` will return the value `99`.\n",
    "\n",
    "Here the dataset includes the addresses you created in the previous exercise.\n",
    "\n",
    "Instructions\n",
    "\n",
    "1. In column `I`, pass the addresses from column `H` to `INDIRECT()` to retrieve the number of `Brush-footed`s."
   ]
  },
  {
   "cell_type": "markdown",
   "id": "original-works",
   "metadata": {},
   "source": [
    "## Finding nearby cells with offsets\n",
    "\n",
    "Sometimes you want to calculate things based upon cells close by to the cell you are providing a calculation in.\n",
    "\n",
    "[`OFFSET()`](https://support.google.com/docs/answer/3093379) retrieves the values in cells offset from the current location by a certain number of rows and columns. It takes two arguments: the number of rows down to move from the current location, and the number of columns to move right.\n",
    "\n",
    "You can also specify `height` and `width` arguments to return a range of cells, which is often useful in combination with a summary statistic function like `SUM()`, `AVERAGE()` or `MAX()`.\n",
    "\n",
    "Instructions\n",
    "\n",
    "1. In cell `I1`, get the count of `Skipper`s in the `Indian Subcontinent` as the value from the cell offset 1 down from `C1`.\n",
    "2. In cell `I2`, again get the count of `Skipper`s in the `Indian Subcontinent`, this time as the value from the cell offset 2 right from `A2`.\n",
    "3. In cell `I3`, get the count of `Skipper`s in `Western Himalaya` as the values from the range of cells **offset** 2 right from `A3`, with height 7, and **sum** them."
   ]
  },
  {
   "cell_type": "markdown",
   "id": "comparable-exhibition",
   "metadata": {},
   "source": [
    "## Local addresses\n",
    "\n",
    "The \"A1\" address system has coordinates that exist over the whole worksheet. If you have a block of data specified somewhere within that worksheet, it can be useful to be able to specify the addresses relative to that block.\n",
    "\n",
    "This can be done with [`INDEX()`](https://support.google.com/docs/answer/3098242), which takes 3 arguments. The first argument is a rectangular range of data, for example `A2:E8`. The second and third arguments are numbers specifying an offset down then right from the top left of that data range. Unlike `OFFSET()`, the numbering starts at 1, so `INDEX(A2:E8, 4, 2)` refers to cell `B5`.\n",
    "\n",
    "Instructions\n",
    "\n",
    "Use the block of data for `North East India + North Myanmar`, from `A11` to `G19` as the reference.\n",
    "\n",
    "1. In cell `I1`, use `INDEX()` to get the number of `Blue`s in `Sikkim`.\n",
    "2. In cell `I2`, get the number of `White-yellow`s in `Mizoram Hills`."
   ]
  },
  {
   "cell_type": "markdown",
   "id": "bottom-musician",
   "metadata": {},
   "source": [
    "## A VLOOKUP refresher\n",
    "\n",
    "In [Data Analysis with Spreadsheets](https://www.datacamp.com/courses/data-analysis-with-spreadsheets) you learned how to use [`VLOOKUP()`](https://support.google.com/docs/answer/3093318). They are important, so let's refresh your memory.\n",
    "\n",
    "`VLOOKUP()` is like `INDEX()` in that it lets you look up values within a data block. It has the advantage that rather than you having to look and find the position of the cell to specify manually, you can specify the value you are looking for, and it automatically finds it. `VLOOKUP()` takes four arguments.\n",
    "\n",
    "- First is the value that you are looking for, usually a string.\n",
    "- Second is the data range, usually specified using absolute coordinates. The first column must contain the lookup values.\n",
    "- Third is the column offset, the same as with `INDEX()`.\n",
    "- Fourth is whether or not the data is sorted by the lookup column. Usually you need to specify `FALSE` here.\n",
    "\n",
    "Instructions\n",
    "\n",
    "Find the same values from the `INDEX()` exercise, now using `VLOOKUP()`. Your data range is from $B$11 to $G$19.\n",
    "\n",
    "1. In cell `I1`, get the number of `Blue`s in `Sikkim`. Call `VLOOKUP()`, passing `\"Sikkim\"`, the data range, an offset of `5`, and `FALSE`.\n",
    "2. In cell `I2`, get the number of `White-Yellow`s in `Mizoram Hills`."
   ]
  },
  {
   "cell_type": "markdown",
   "id": "crude-transparency",
   "metadata": {},
   "source": [
    "## Sorted!\n",
    "\n",
    "It is often easier to make sense of datasets when the rows are ordered in some way, for example, when the values in a column go from smallest to largest (or largest to smallest). You can sort datasets using the [`SORT()`](https://support.google.com/docs/answer/3093150) function.\n",
    "\n",
    "The first argument to `SORT()` is the range of the dataset, not including the header row. The second argument is the number of the column to sort on, starting with 1 as the left-most column. Thirdly, you set the sort direction: pass `TRUE` to sort in ascending order (low to high, or A to Z) and `FALSE` for descending order. If you want to break ties by sorting on further columns, you can pass another column index and another direction for each column that you want to sort with.\n",
    "\n",
    "For example, to sort the dataset in range `$D$2` to `$H$100` by decreasing `F` values then increasing `D` values, you would write `SORT($D$2:$H$100, 3, FALSE, 1, TRUE)`.\n",
    "\n",
    "Instructions\n",
    "\n",
    "1. In cell `I2`, write a command to sort the butterfly dataset by decreasing number of `Skipper`s."
   ]
  },
  {
   "cell_type": "markdown",
   "id": "heard-clock",
   "metadata": {},
   "source": [
    "## Matching values\n",
    "\n",
    "The [`MATCH()`](https://support.google.com/docs/answer/3093378) function let's you find the position of cells that match a particular criterion. It's a little tricky, so bear with this.\n",
    "\n",
    "It works best when the data is already sorted (that's the case we'll consider here). The first argument is the limit value, the second argument is the data range, and the third argument is `1` if the column is sorted in ascending order and `-1` for descending.\n",
    "\n",
    "If a column of data, `A2:A100` was sorted in ascending order, `MATCH(1000, A2:A100, 1)` would find the position of the largest value in `A2:A100` that was less than or equal to `1000`.\n",
    "\n",
    "If `B2:B100` was sorted in descending order, `MATCH(1000, B2:B100, -1)` would find the position of the smallest value in `B2:B100` that was greater than or equal to `1000`.\n",
    "\n",
    "The dataset has been sorted by descending number of `Skipper`s.\n",
    "\n",
    "Instructions\n",
    "\n",
    "1. In cell `I1`, `MATCH()` the position of the smallest number of `Skipper`s greater than or equal to 100. The data range is `C2` to `C45`.\n",
    "2. In cell `I2`, get the `ADDRESS()` of that cell. The row is the match position plus one (for the header row), and it's the third column.\n",
    "3. In cell `I3`, get the value in that cell to find the smallest number of `Skipper`s greater than 100."
   ]
  },
  {
   "cell_type": "markdown",
   "id": "comparable-thermal",
   "metadata": {},
   "source": [
    "## Advanced filtering\n",
    "\n",
    "Time to practice the logical operations and filtering techniques you learned about in Chapter 3.\n",
    "\n",
    "Instructions\n",
    "\n",
    "1. In column `H`, define a logical condition where the count of each butterfly type is greater than 50.\n",
    "2. In cell `I2`, define a filter on the whole dataset (columns `A` to `G`), using the logical condition in column `H`."
   ]
  },
  {
   "cell_type": "markdown",
   "id": "extensive-redhead",
   "metadata": {},
   "source": [
    "## Conditional summary statistics\n",
    "\n",
    "In [Data Analysis with Spreadsheets](https://spreadsheets.datacamp.com/courses/data-analysis-with-spreadsheets), you saw how to use [`COUNTIF()`](https://support.google.com/docs/answer/3093480) to calculate summary statistics. Here's you'll take it one step further using the related [`COUNTIFS()`](https://support.google.com/docs/answer/3256550) function, which lets you pass multiple conditions to it.\n",
    "\n",
    "Arguments to `COUNTIFS()` come in pairs: a range of values to filter on, best given as absolute addresses, and a condition. The condition is text consisting of\n",
    "\n",
    "1. a value to match, or\n",
    "2. a comparison operator (`=`, `<`, `>=`, etc.) and a number.\n",
    "\n",
    "For example, `COUNTIFS(A2:A100, \"DataCamp\", B2:B100, \">10\")` counts the number of values where column `A` matches `\"DataCamp\"` **and** column `B` is greater than `10`.\n",
    "\n",
    "Instructions\n",
    "\n",
    "1. In cell `H2`, get the unique Area values using `UNIQUE()`.\n",
    "2. In column `I`, use `COUNTIF()` to get the count of each Area. Pass the data range from `A2` to `A45` as absolute addresses, and the filter criteria from `H2` to `H9`.\n",
    "3. In column `J`, use `COUNTIFS()` to get the count of each area with more than `20` Swallow-tails. the first two arguments are the same as the previous step, then add a condition for column `D` to be greater than `20`."
   ]
  },
  {
   "cell_type": "markdown",
   "id": "failing-bailey",
   "metadata": {},
   "source": [
    "## Simple imputation\n",
    "\n",
    "If you have missing data, you can use a set of techniques known as _imputation_ to substitute guesses for those values. A very simple form of imputation is to substitute the average of the non-missing values for that group.\n",
    "\n",
    "This technique involves 3 steps: use [`AVERAGEIF()`](https://support.google.com/docs/answer/3256529) to get the group averages, [`VLOOKUP()`](https://support.google.com/docs/answer/3093318) to join these back to the original dataset, and [`ISBLANK()`](https://support.google.com/docs/answer/3093290) to locate missing values.\n",
    "\n",
    "The dataset has been edited so some `Brush-footed` counts are missing.\n",
    "\n",
    "Instructions\n",
    "\n",
    "1. In cell `J2`, get the unique `Area`s.\n",
    "2. In column `K`, rows `2` to `9`, use `AVERAGEIF()` to calculate the average count of `Brush-footed`s by Area. Pass it the area data as absolute addresses, the unique areas, and the `Brush-footed` count data as absolute addresses.\n",
    "3. In column `H`, join the average counts back to the original dataset. `VLOOKUP()` takes 4 arguments. It needs the `Area` from column `A`, the data range of the table you just created (`J2` to `K9`) as absolute addresses, the column in the that table that contains the averages (`2`), and whether or not that table is sorted (`FALSE`).\n",
    "4. In column `I`, `IF()` column `G` is blank, take the value from column `H`, else take the value from column `G`."
   ]
  }
 ],
 "metadata": {
  "kernelspec": {
   "display_name": "Python 3",
   "language": "python",
   "name": "python3"
  },
  "language_info": {
   "codemirror_mode": {
    "name": "ipython",
    "version": 3
   },
   "file_extension": ".py",
   "mimetype": "text/x-python",
   "name": "python",
   "nbconvert_exporter": "python",
   "pygments_lexer": "ipython3",
   "version": "3.8.10"
  },
  "toc": {
   "base_numbering": 1,
   "nav_menu": {},
   "number_sections": false,
   "sideBar": true,
   "skip_h1_title": false,
   "title_cell": "Table of Contents",
   "title_sidebar": "Contents",
   "toc_cell": false,
   "toc_position": {},
   "toc_section_display": true,
   "toc_window_display": true
  },
  "varInspector": {
   "cols": {
    "lenName": 16,
    "lenType": 16,
    "lenVar": 40
   },
   "kernels_config": {
    "python": {
     "delete_cmd_postfix": "",
     "delete_cmd_prefix": "del ",
     "library": "var_list.py",
     "varRefreshCmd": "print(var_dic_list())"
    },
    "r": {
     "delete_cmd_postfix": ") ",
     "delete_cmd_prefix": "rm(",
     "library": "var_list.r",
     "varRefreshCmd": "cat(var_dic_list()) "
    }
   },
   "types_to_exclude": [
    "module",
    "function",
    "builtin_function_or_method",
    "instance",
    "_Feature"
   ],
   "window_display": false
  }
 },
 "nbformat": 4,
 "nbformat_minor": 5
}
