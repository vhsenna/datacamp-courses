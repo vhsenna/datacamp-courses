{
 "cells": [
  {
   "cell_type": "markdown",
   "id": "ranging-harvest",
   "metadata": {},
   "source": [
    "## What IS*() the data type?\n",
    "\n",
    "The values contained in each cell (either the things you typed, or the results of formulas) have a **data type**. Common types include number, text, date and logical.\n",
    "\n",
    "Sometimes it is useful to check what type of data you have in each cell, since it may not be obvious just from looking at it. Google Sheets has a series of functions with names beginning \"IS\" that perform these checks, for example, [`ISTEXT()`](https://support.google.com/docs/answer/3093297) takes a cell address like `B3` as an input, and returns the logical value `TRUE` if the cell contains text, or `FALSE` otherwise.\n",
    "\n",
    "Likewise, [`ISNUMBER()`](https://support.google.com/docs/answer/3093296) checks for numbers in the cell, `ISDATE()` checks for dates, and [`ISLOGICAL()`](https://support.google.com/docs/answer/3093351) checks for logical values.\n",
    "\n",
    "The worksheet shows data taken from Wikipedia regarding [men's 100m sprint world records](https://en.wikipedia.org/wiki/Men%27s_100_metres_world_record_progression#Records_from_1977).\n",
    "\n",
    "Instructions\n",
    "\n",
    "Check the data types of the first row of sprint data. In cell `A21`, there is a formula to check if the value in `A2` is numeric.\n",
    "\n",
    "1. Copy the formula right as far as `G21` by dragging the bottom-right corner of `A21`.\n",
    "2. In cells `A22` to `G22`, check if the values in cells `A2` to `G2` are text by writing formulas that call `ISTEXT()`.\n",
    "3. In `A23` to `G23`, use `ISDATE()` to check if `A2` to `G2` are dates.\n",
    "4. In `A24` to `G24`, use `ISLOGICAL()` to check if `A2` to `G2` are logicals."
   ]
  },
  {
   "cell_type": "markdown",
   "id": "modular-flower",
   "metadata": {},
   "source": [
    "## Checking rarer data types\n",
    "\n",
    "Google Sheets also allows checks for rarer data types beyond number, text, date, and logical. In this exercise you'll use [`ISURL()`](https://support.google.com/docs/answer/3256501) to check for website URLs, and [`ISFORMULA()`](https://support.google.com/docs/answer/6270316) to check for cells that contain formulas.\n",
    "\n",
    "`ISURL()` checks that the text in a cell takes the form of a URL. This includes text that starts with a protocol, like `http://`, `ftp://` and `mailto:`, and guesses at other text like `somewebsite.com`.\n",
    "\n",
    "To make the text into a clickable hyperlink, use `HYPERLINK()`. This takes the address of a cell containing a URL and optionally the address of a cell containing the text to display, for example `HYPERLINK(A1, B1)`.\n",
    "\n",
    "`ISFORMULA()` takes the address of a cell and returns `TRUE` when that cell contains a formula. For blank cells and cells with fixed values, it returns `FALSE`.\n",
    "\n",
    "Instructions\n",
    "\n",
    "The column \"Olympic team site\" contains a URL to the Olympic team for the athlete's nation. In cell `I2`, there is a formula to create a hyperlink to the USA site.\n",
    "\n",
    "1. Copy the formula in `I2` down as far as `I20`.\n",
    "2. In cell `A21`, use `=ISURL(A2)` to check if this is a URL.\n",
    "3. Copy this formula right as far as `I21`.\n",
    "4. On row `22`, use `=ISFORMULA()` to check if the cells from `A2` to `I2` contain formulas."
   ]
  },
  {
   "cell_type": "markdown",
   "id": "immune-distance",
   "metadata": {},
   "source": [
    "## Finding missing data\n",
    "\n",
    "`ISBLANK()` accepts a cell address and returns `TRUE` if that cell is empty. This provides a useful way of checking for missing data.\n",
    "\n",
    "Logical conditions like `ISBLANK()` are useful for filtering datasets: you can keep only the rows where some condition is `TRUE`. Data filtering can be done using [`FILTER()`](https://support.google.com/docs/answer/3093197), which takes two arguments. The first argument is the range of the data that you want to filter, and the second argument is the range containing the logical values to filter on.\n",
    "\n",
    "For example, if the data (not including the header row) is in `A2:E10`, and the final column `E` contains the logical values to filter on, you would type `=FILTER(A2:E10, E2:E10)`.\n",
    "\n",
    "Instructions\n",
    "\n",
    "Some athletes have gone missing! An extra column, \"Athlete Is Blank?\" has been added to the dataset.\n",
    "\n",
    "1. Use the `ISBLANK()` function in column H to determine which values in the dataset have missing athletes.\n",
    "2. In cell `A23`, call `FILTER()` to filter the dataset to show only the rows with missing athletes.\n",
    "    1. Pass the range of all the data from `A2` to `H20` as the first argument.\n",
    "    2. The 2nd argument should be the logical values contained in `H2` to `H20`."
   ]
  },
  {
   "cell_type": "markdown",
   "id": "functional-contact",
   "metadata": {},
   "source": [
    "## Dteectnig bdaly tpyed dtaa\n",
    "\n",
    "One of the sad realities of being a data scientist is that you get handed a lot of awful datasets. If data has been manually entered, then it is really common to have typos, which can give the data the wrong type! You can use the `IS` functions to detect if your data has been correctly entered.\n",
    "\n",
    "`ISDATE()` accepts a cell address and returns `TRUE` if that cell contains a date.\n",
    "\n",
    "Instructions\n",
    "\n",
    "1. In cell `H2`, check if the corresponding Date really is a date.\n",
    "2. Copy the formula down the column."
   ]
  },
  {
   "cell_type": "markdown",
   "id": "another-lloyd",
   "metadata": {},
   "source": [
    "## Making numbers while the sun shines\n",
    "\n",
    "Here, you'll use [`ISNUMBER()`](https://support.google.com/docs/answer/3093296) to find which cells are really numbers, then [`N()`](https://support.google.com/docs/answer/3093357) to convert all values in a column to be numbers.\n",
    "\n",
    "Instructions\n",
    "\n",
    "A wind speed value is not really a number.\n",
    "\n",
    "1. In `H2`, call `ISNUMBER()` to check if cell `B2` is a number.\n",
    "2. Copy the formula down to `H20`.\n",
    "3. In column `I`, use `N()` to convert the values from column `B` to numbers.\n",
    "4. In column `J`, use `ISNUMBER()` to confirm that column `I` contains only numbers."
   ]
  },
  {
   "cell_type": "markdown",
   "id": "taken-enclosure",
   "metadata": {},
   "source": [
    "## How the 104% live\n",
    "\n",
    "Sometimes numbers are more easily comprehended as a percentage. To convert a number to a percent, you call [`TO_PERCENT()`](https://support.google.com/docs/answer/3094284) passing a cell address.\n",
    "\n",
    "This exercise requires the use of absolute cell addresses that don't change when you copy a formula. Recall from [Spreadsheet Basics](https://spreadsheets.datacamp.com/courses/spreadsheet-basics) that you can write an absolute address by prefixing it with dollar signs. For example, `$Z$100` is the absolute equivalent of `Z100`.\n",
    "\n",
    "Instructions\n",
    "\n",
    "1. In `H2`, calculate the time for this record (`A2`) divided by the fastest time (`A20`); the latter written in absolute form.\n",
    "2. Copy the formula down to row 20.\n",
    "3. In column `I`, convert the ratios to percentages using `TO_PERCENT()`."
   ]
  },
  {
   "cell_type": "markdown",
   "id": "plastic-madison",
   "metadata": {},
   "source": [
    "## Converting logical values to numbers\n",
    "\n",
    "In order to calculate on logical values, it is often useful to pretend that `TRUE` is `1` and `FALSE` is `0`. Just as with text, to perform the conversion, you can use the [`N()`](https://support.google.com/docs/answer/3093357) function. This allows you to count the number or proportion of true values.\n",
    "\n",
    "- The `SUM()` of the ones gives you the count of true values.\n",
    "- The `AVERAGE()` of the ones and zeros gives you the proportion of true values.\n",
    "\n",
    "Instructions\n",
    "\n",
    "Count the number of records by cheating sprinters.\n",
    "\n",
    "1. In column `H`, convert the logical values in column `G` to ones and zeroes.\n",
    "2. In `H22`, count the number of cheats by calculating the `SUM()` of `H2` to `H20`.\n",
    "3. In `H23`, count the proportion of cheats by calculating the `AVERAGE()` of `H2` to `H20`."
   ]
  },
  {
   "cell_type": "markdown",
   "id": "solved-swing",
   "metadata": {},
   "source": [
    "## Preaching to the CONVERT()ed\n",
    "\n",
    "[`CONVERT()`](https://support.google.com/docs/answer/6055540), changes the units of a number. For times, you have five choices of unit to switch between, including\n",
    "\n",
    "- `\"sec\"`: seconds\n",
    "- `\"min\"`: minutes\n",
    "\n",
    "For speeds, the units include\n",
    "\n",
    "- `\"m/s\"`: meters per second\n",
    "- `\"mph\"`: miles per hour\n",
    "\n",
    "`CONVERT()` takes three arguments: a number or cell address, the existing unit (in double quotes), and the unit to convert to. For example, `CONVERT(1, \"hr\", \"sec\")` returns 3600.\n",
    "\n",
    "Instructions\n",
    "\n",
    "1. In column `H`, convert the times in column `A` from seconds to minutes.\n",
    "2. In column `I`, convert the wind speeds in column `B` from meters per second to miles per hour."
   ]
  }
 ],
 "metadata": {
  "kernelspec": {
   "display_name": "Python 3",
   "language": "python",
   "name": "python3"
  },
  "language_info": {
   "codemirror_mode": {
    "name": "ipython",
    "version": 3
   },
   "file_extension": ".py",
   "mimetype": "text/x-python",
   "name": "python",
   "nbconvert_exporter": "python",
   "pygments_lexer": "ipython3",
   "version": "3.8.10"
  },
  "toc": {
   "base_numbering": 1,
   "nav_menu": {},
   "number_sections": false,
   "sideBar": true,
   "skip_h1_title": false,
   "title_cell": "Table of Contents",
   "title_sidebar": "Contents",
   "toc_cell": false,
   "toc_position": {},
   "toc_section_display": true,
   "toc_window_display": false
  },
  "varInspector": {
   "cols": {
    "lenName": 16,
    "lenType": 16,
    "lenVar": 40
   },
   "kernels_config": {
    "python": {
     "delete_cmd_postfix": "",
     "delete_cmd_prefix": "del ",
     "library": "var_list.py",
     "varRefreshCmd": "print(var_dic_list())"
    },
    "r": {
     "delete_cmd_postfix": ") ",
     "delete_cmd_prefix": "rm(",
     "library": "var_list.r",
     "varRefreshCmd": "cat(var_dic_list()) "
    }
   },
   "types_to_exclude": [
    "module",
    "function",
    "builtin_function_or_method",
    "instance",
    "_Feature"
   ],
   "window_display": false
  }
 },
 "nbformat": 4,
 "nbformat_minor": 5
}
