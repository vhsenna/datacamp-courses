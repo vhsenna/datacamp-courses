{
 "cells": [
  {
   "cell_type": "markdown",
   "id": "intended-radar",
   "metadata": {},
   "source": [
    "# Writing Functions in Python\n",
    "\n",
    "- 4 hours\n",
    "- 15 Videos\n",
    "- 46 Exercises\n",
    "\n",
    "## Course Description\n",
    "\n",
    "You've done your analysis, built your report, and trained a model. What's next? Well, if you want to deploy your model into production, your code will need to be more reliable than exploratory scripts in a Jupyter notebook. Writing Functions in Python will give you a strong foundation in writing complex and beautiful functions so that you can contribute research and engineering skills to your team. You'll learn useful tricks, like how to write context managers and decorators. You'll also learn best practices around how to write maintainable reusable functions with good documentation. They say that people who can do good research and write high-quality code are unicorns. Take this course and discover the magic!\n",
    "\n",
    "### 1. Best Practices\n",
    "\n",
    "The goal of this course is to transform you into a Python expert, and so the first chapter starts off with best practices when writing functions. We'll cover docstrings and why they matter and how to know when you need to turn a chunk of code into a function. You will also learn the details of how Python passes arguments to functions, as well as some common gotchas that can cause debugging headaches when calling functions.\n",
    "\n",
    "- Docstrings\n",
    "- Crafting a docstring\n",
    "- Retrieving docstrings\n",
    "- Docstrings to the rescue!\n",
    "- DRY and \"Do One Thing\"\n",
    "- Extract a function\n",
    "- Split up a function\n",
    "- Pass by assignment\n",
    "- Mutable or immutable?\n",
    "- Best practice for default arguments\n",
    "\n",
    "### 2. Context Managers\n",
    "\n",
    "If you've ever seen the \"with\" keyword in Python and wondered what its deal was, then this is the chapter for you! Context managers are a convenient way to provide connections in Python and guarantee that those connections get cleaned up when you are done using them. This chapter will show you how to use context managers, as well as how to write your own.\n",
    "\n",
    "- Using context managers\n",
    "- The number of cats\n",
    "- The speed of cats\n",
    "- Writing context managers\n",
    "- The timer() context manager\n",
    "- A read-only open() context manager\n",
    "- Advanced topics\n",
    "- Context manager use cases\n",
    "- Scraping the NASDAQ\n",
    "- Changing the working directory\n",
    "\n",
    "### 3. Decorators\n",
    "\n",
    "Decorators are an extremely powerful concept in Python. They allow you to modify the behavior of a function without changing the code of the function itself. This chapter will lay the foundational concepts needed to thoroughly understand decorators (functions as objects, scope, and closures), and give you a good introduction into how decorators are used and defined. This deep dive into Python internals will set you up to be a superstar Pythonista.\n",
    "\n",
    "- Functions are objects\n",
    "- Building a command line data app\n",
    "- Reviewing your co-worker's code\n",
    "- Returning functions for a math game\n",
    "- Scope\n",
    "- Understanding scope\n",
    "- Modifying variables outside local scope\n",
    "- Closures\n",
    "- Checking for closure\n",
    "- Closures keep your values safe\n",
    "- Decorators\n",
    "- Using decorator syntax\n",
    "- Defining a decorator\n",
    "\n",
    "### 4. More on Decorators\n",
    "\n",
    "Now that you understand how decorators work under the hood, this chapter gives you a bunch of real-world examples of when and how you would write decorators in your own code. You will also learn advanced decorator concepts like how to preserve the metadata of your decorated functions and how to write decorators that take arguments.\n",
    "\n",
    "- Real-world examples\n",
    "- Print the return type\n",
    "- Counter\n",
    "- Decorators and metadata\n",
    "- Preserving docstrings when decorating functions\n",
    "- Measuring decorator overhead\n",
    "- Decorators that take arguments\n",
    "- Run_n_times()\n",
    "- HTML Generator\n",
    "- Timeout(): a real world example\n",
    "- Tag your functions\n",
    "- Check the return type\n",
    "- Great job!"
   ]
  },
  {
   "cell_type": "code",
   "execution_count": null,
   "id": "sharp-niger",
   "metadata": {},
   "outputs": [],
   "source": []
  }
 ],
 "metadata": {
  "kernelspec": {
   "display_name": "Python 3",
   "language": "python",
   "name": "python3"
  },
  "language_info": {
   "codemirror_mode": {
    "name": "ipython",
    "version": 3
   },
   "file_extension": ".py",
   "mimetype": "text/x-python",
   "name": "python",
   "nbconvert_exporter": "python",
   "pygments_lexer": "ipython3",
   "version": "3.8.5"
  },
  "toc": {
   "base_numbering": 1,
   "nav_menu": {},
   "number_sections": false,
   "sideBar": true,
   "skip_h1_title": false,
   "title_cell": "Table of Contents",
   "title_sidebar": "Contents",
   "toc_cell": false,
   "toc_position": {},
   "toc_section_display": true,
   "toc_window_display": false
  },
  "varInspector": {
   "cols": {
    "lenName": 16,
    "lenType": 16,
    "lenVar": 40
   },
   "kernels_config": {
    "python": {
     "delete_cmd_postfix": "",
     "delete_cmd_prefix": "del ",
     "library": "var_list.py",
     "varRefreshCmd": "print(var_dic_list())"
    },
    "r": {
     "delete_cmd_postfix": ") ",
     "delete_cmd_prefix": "rm(",
     "library": "var_list.r",
     "varRefreshCmd": "cat(var_dic_list()) "
    }
   },
   "types_to_exclude": [
    "module",
    "function",
    "builtin_function_or_method",
    "instance",
    "_Feature"
   ],
   "window_display": false
  }
 },
 "nbformat": 4,
 "nbformat_minor": 5
}
