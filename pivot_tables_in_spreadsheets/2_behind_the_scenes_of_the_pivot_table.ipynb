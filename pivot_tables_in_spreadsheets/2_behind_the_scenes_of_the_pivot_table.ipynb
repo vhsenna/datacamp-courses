{
 "cells": [
  {
   "cell_type": "markdown",
   "id": "minus-sensitivity",
   "metadata": {},
   "source": [
    "## What does a pivot table do?\n",
    "\n",
    "Which answer best describes what a pivot table does?"
   ]
  },
  {
   "cell_type": "markdown",
   "id": "obvious-frame",
   "metadata": {},
   "source": [
    "It takes a dataset of any size, and allows you to build custom summaries of the data in an easy-to-manage table"
   ]
  },
  {
   "cell_type": "markdown",
   "id": "animated-divide",
   "metadata": {},
   "source": [
    "## Analyze the pivot table\n",
    "\n",
    "Based on the included Pivot Table which contains rainfall data about 3 cities, which statement is true?"
   ]
  },
  {
   "cell_type": "markdown",
   "id": "excited-moment",
   "metadata": {},
   "source": [
    "Seattle has more rainfall in December, than Washington, DC or New Orleans have in any single month."
   ]
  },
  {
   "cell_type": "markdown",
   "id": "defined-probability",
   "metadata": {},
   "source": [
    "## Analyze the pivot table pt 2\n",
    "\n",
    "Based on the included Pivot Table, What does cell D14 represent?"
   ]
  },
  {
   "cell_type": "markdown",
   "id": "gothic-finish",
   "metadata": {},
   "source": [
    "The total annual rainfall in Phoenix is 10 inches."
   ]
  },
  {
   "cell_type": "markdown",
   "id": "enclosed-impossible",
   "metadata": {},
   "source": [
    "## Selecting filters\n",
    "\n",
    "Now that you know how to create the body and layout of a pivot table, let's start organizing the data.\n",
    "\n",
    "One option is to filter the data. You can do this by selecting a field in the **Filter** section of the pivot table editor.\n",
    "\n",
    "This will then give you the option to filter based on the contents of that field.\n",
    "\n",
    "Instructions\n",
    "\n",
    "1. Click on the **Add** button in the **Filters** section and select `Month`.\n",
    "2. Once the `Month` box appears, you can then click the dropdown box that appears, and select an individual month. This time, select January."
   ]
  },
  {
   "cell_type": "markdown",
   "id": "southwest-ideal",
   "metadata": {},
   "source": [
    "## Filtering by using a string\n",
    "\n",
    "Sometimes you will need to select multiple entries within the Filter, which you can do by clicking each selection individually.\n",
    "\n",
    "However; this can become time-consuming if there are many items to scroll through, such as this example which contains a list of 50 cities.\n",
    "\n",
    "There is a shortcut to save you some time though, as you can type in a text-string, and select all of the entries that contain that string. For instance, if you want to select all of the cities in California, you can type \"Cali\" in the filter, and it will return only those items that contain that string.\n",
    "\n",
    "Instructions\n",
    "\n",
    "1. Click on the **Add** button in the **Filters** section and select `City`.\n",
    "2. Once the `City` box appears, you will need to clear all of the selections, then select only the cities in California."
   ]
  },
  {
   "cell_type": "markdown",
   "id": "facial-politics",
   "metadata": {},
   "source": [
    "## Filtering on min/max values\n",
    "\n",
    "Even though filters are often used to select different groups of items, you can also filter on numerical values as well. In this example you will select the highest and lowest values in order to determine the extreme outliers of the dataset.\n",
    "\n",
    "Instructions\n",
    "\n",
    "1. In the **Filters** section, select the two highest and two lowest values."
   ]
  },
  {
   "cell_type": "markdown",
   "id": "chubby-rally",
   "metadata": {},
   "source": [
    "## Filtering on values\n",
    "\n",
    "Let's try another example. This time you'll need to find the cities that receive the most days of rainfall in a month.\n",
    "\n",
    "Instructions\n",
    "\n",
    "1. In the **Filters** section, select `Days` and then filter it to only show values of 20 or higher."
   ]
  },
  {
   "cell_type": "markdown",
   "id": "premier-rugby",
   "metadata": {},
   "source": [
    "## Building a complete pivot table\n",
    "\n",
    "You have done all of the steps individually, now it's time to put them all together and build a complete Pivot Table from scratch.\n",
    "\n",
    "Build a pivot table that shows the rainfall by month in each city.\n",
    "\n",
    "Instructions\n",
    "\n",
    "1. In the **Rows** section, select `City` and then select `Month`.\n",
    "2. In the **Values** section, select `Millimetres`."
   ]
  },
  {
   "cell_type": "markdown",
   "id": "global-bhutan",
   "metadata": {},
   "source": [
    "## Building a complete pivot table pt 2\n",
    "\n",
    "Let's practice some more.\n",
    "\n",
    "One of the fields in the dataset is the number of days it rained in a given month and city. Build a pivot table that shows the frequency of each value (number of raindays), and how often each value occurred in each month.\n",
    "\n",
    "Instructions\n",
    "\n",
    "1. In the **Rows** section, select `Days`.\n",
    "2. In the **Columns** section, select `Month`.\n",
    "3. In the **Values** section, select `City`."
   ]
  },
  {
   "cell_type": "markdown",
   "id": "fabulous-biography",
   "metadata": {},
   "source": [
    "## Building a complete pivot table pt 3\n",
    "\n",
    "Let's practice some more.\n",
    "\n",
    "Build a Pivot Table that shows the number of days and inches of rain for each city. Create a filter that allows you to filter by month, and filter the table to only show January.\n",
    "\n",
    "Instructions\n",
    "\n",
    "1. In the **Rows** section, select `City`.\n",
    "2. In the **Values** section, select `Days` and `Inches`.\n",
    "3. In the **Filters** section, select `Month` and then choose `January`."
   ]
  }
 ],
 "metadata": {
  "kernelspec": {
   "display_name": "Python 3",
   "language": "python",
   "name": "python3"
  },
  "language_info": {
   "codemirror_mode": {
    "name": "ipython",
    "version": 3
   },
   "file_extension": ".py",
   "mimetype": "text/x-python",
   "name": "python",
   "nbconvert_exporter": "python",
   "pygments_lexer": "ipython3",
   "version": "3.8.10"
  },
  "toc": {
   "base_numbering": 1,
   "nav_menu": {},
   "number_sections": false,
   "sideBar": true,
   "skip_h1_title": false,
   "title_cell": "Table of Contents",
   "title_sidebar": "Contents",
   "toc_cell": false,
   "toc_position": {},
   "toc_section_display": true,
   "toc_window_display": false
  },
  "varInspector": {
   "cols": {
    "lenName": 16,
    "lenType": 16,
    "lenVar": 40
   },
   "kernels_config": {
    "python": {
     "delete_cmd_postfix": "",
     "delete_cmd_prefix": "del ",
     "library": "var_list.py",
     "varRefreshCmd": "print(var_dic_list())"
    },
    "r": {
     "delete_cmd_postfix": ") ",
     "delete_cmd_prefix": "rm(",
     "library": "var_list.r",
     "varRefreshCmd": "cat(var_dic_list()) "
    }
   },
   "types_to_exclude": [
    "module",
    "function",
    "builtin_function_or_method",
    "instance",
    "_Feature"
   ],
   "window_display": false
  }
 },
 "nbformat": 4,
 "nbformat_minor": 5
}
