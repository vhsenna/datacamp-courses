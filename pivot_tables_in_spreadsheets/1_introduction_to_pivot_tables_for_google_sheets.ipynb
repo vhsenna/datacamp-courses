{
 "cells": [
  {
   "cell_type": "markdown",
   "id": "essential-sewing",
   "metadata": {},
   "source": [
    "## Create a pivot table\n",
    "\n",
    "Let's give this a shot! Build a pivot table from the dataset to the right.\n",
    "\n",
    "Instructions\n",
    "\n",
    "1. Click anywhere within the dataset.\n",
    "2. Click on the `Data` tab on the ribbon, and then select `Pivot Table` from the dropdown that appears."
   ]
  },
  {
   "cell_type": "markdown",
   "id": "imposed-majority",
   "metadata": {},
   "source": [
    "## Create a pivot table pt 2\n",
    "\n",
    "Let's try another one. This time there is a missing row and you'll need to select the dataset first.\n",
    "\n",
    "Instructions\n",
    "\n",
    "1. Select the entire dataset, from `A1` through `F11`.\n",
    "2. Then click on `Data` on the ribbon, and choose `Pivot Table`."
   ]
  },
  {
   "cell_type": "markdown",
   "id": "original-purpose",
   "metadata": {},
   "source": [
    "## Create a pivot table pt 3\n",
    "\n",
    "One more. This time the dataset has multiple empty cells randomly dispersed throughout.\n",
    "\n",
    "Instructions\n",
    "\n",
    "1. Click anywhere within the dataset, and create a pivot table.\n",
    "2. Even though there is missing data, there aren't any completely empty rows or columns. So the pivot table should select the full range automatically."
   ]
  },
  {
   "cell_type": "markdown",
   "id": "conceptual-welcome",
   "metadata": {},
   "source": [
    "## Select rows\n",
    "\n",
    "In this exercise, you'll begin to populate our pivot table by selecting the Row Labels. On the right, you'll find the blank pivot table that was created in the previous exercise, containing the Top 10 companies by Revenue for 2017.\n",
    "\n",
    "You will populate the Rows by selecting among the following categories: `Name`, `Headquarters`, and `Industry`.\n",
    "\n",
    "You'll start by selecting a single Row Label, then removing it, then you'll select multiple Row Labels\n",
    "\n",
    "Instructions\n",
    "\n",
    "1. Select **Add** in the pivot table editor next to the **Rows** section, and choose `Name`; this will list the name of each company in the dataset.\n",
    "2. Now click the **X** in the upper right section of the `Name` box in the pivot table editor, this will remove the names.\n",
    "3. Now select **Add** and choose `Headquarters`, select **Add** again, and choose `Industry`."
   ]
  },
  {
   "cell_type": "markdown",
   "id": "approved-aquarium",
   "metadata": {},
   "source": [
    "## Select columns\n",
    "\n",
    "In this exercise, you'll further populate your pivot table by selecting the Column Labels.\n",
    "\n",
    "You will populate the Columns by selecting among the following categories: `Name`, `Headquarters`, and `Industry`.\n",
    "\n",
    "You'll start by selecting a single Column Label, then removing it, then you'll select multiple Column Labels\n",
    "\n",
    "Instructions\n",
    "\n",
    "1. Select **Add** in the pivot table editor next to the **Columns** section, and choose `Industry`; this will list each industry in the dataset.\n",
    "2. Now click the **X** in the upper right section of the `Industry` box in the pivot table editor, this will remove the names.\n",
    "3. Now select **Add** and choose `Year`, select **Add** again, and choose `Headquarters`."
   ]
  },
  {
   "cell_type": "markdown",
   "id": "concerned-reproduction",
   "metadata": {},
   "source": [
    "## Rearrange rows and columns\n",
    "\n",
    "Once you have selected Row and Column Labels, you can further finetune your Pivot Table by rearranging them.\n",
    "\n",
    "To do this, all you need to do is **Click** and **Drag** the Labels, and place them where you want them to go.\n",
    "\n",
    "You can try a few examples now.\n",
    "\n",
    "Instructions\n",
    "\n",
    "1. Drag `Industry` into the **Rows** section, and place it above `Name` in the Pivot Table on the right."
   ]
  },
  {
   "cell_type": "markdown",
   "id": "psychological-venture",
   "metadata": {},
   "source": [
    "## Selecting values\n",
    "\n",
    "The next step is to select the **Values**; which will populate the body of the pivot table.\n",
    "\n",
    "You can click on the `Add` button in the **Values** section in order to choose the field that you want added to the pivot table.\n",
    "\n",
    "The pivot table will then perform a calculation, such as `SUM` or `COUNT` on your selected value, and it will populate the pivot table with the result of that calculation.\n",
    "\n",
    "Instructions\n",
    "\n",
    "1. Select `Profit` in the **Values** section.\n",
    "2. To remove the the value, click the **X** in the top right corner of the `Profit` box.\n",
    "3. Now select `Revenue` in the **Values** section."
   ]
  },
  {
   "cell_type": "markdown",
   "id": "light-rings",
   "metadata": {},
   "source": [
    "## Selecting multiple values\n",
    "\n",
    "You can also select multiple values at the same time in order to see more data at once. The pivot table will then show each value separately.\n",
    "\n",
    "You can rearrange the values using the same **Click** and **Drag** method as before.\n",
    "\n",
    "Instructions\n",
    "\n",
    "1. Select `Profit` in the **Values** section.\n",
    "2. Then select `Revenue` in the **Values** section.\n",
    "3. Now move `Revenue` above `Profit`."
   ]
  },
  {
   "cell_type": "markdown",
   "id": "closed-senate",
   "metadata": {},
   "source": [
    "## Pivot table basics\n",
    "\n",
    "What are the primary selections you will need to make when building your pivot table?"
   ]
  },
  {
   "cell_type": "markdown",
   "id": "violent-mineral",
   "metadata": {},
   "source": [
    "Row Labels, Column Labels, and Values."
   ]
  }
 ],
 "metadata": {
  "kernelspec": {
   "display_name": "Python 3",
   "language": "python",
   "name": "python3"
  },
  "language_info": {
   "codemirror_mode": {
    "name": "ipython",
    "version": 3
   },
   "file_extension": ".py",
   "mimetype": "text/x-python",
   "name": "python",
   "nbconvert_exporter": "python",
   "pygments_lexer": "ipython3",
   "version": "3.8.10"
  },
  "toc": {
   "base_numbering": 1,
   "nav_menu": {},
   "number_sections": false,
   "sideBar": true,
   "skip_h1_title": false,
   "title_cell": "Table of Contents",
   "title_sidebar": "Contents",
   "toc_cell": false,
   "toc_position": {},
   "toc_section_display": true,
   "toc_window_display": false
  },
  "varInspector": {
   "cols": {
    "lenName": 16,
    "lenType": 16,
    "lenVar": 40
   },
   "kernels_config": {
    "python": {
     "delete_cmd_postfix": "",
     "delete_cmd_prefix": "del ",
     "library": "var_list.py",
     "varRefreshCmd": "print(var_dic_list())"
    },
    "r": {
     "delete_cmd_postfix": ") ",
     "delete_cmd_prefix": "rm(",
     "library": "var_list.r",
     "varRefreshCmd": "cat(var_dic_list()) "
    }
   },
   "types_to_exclude": [
    "module",
    "function",
    "builtin_function_or_method",
    "instance",
    "_Feature"
   ],
   "window_display": false
  }
 },
 "nbformat": 4,
 "nbformat_minor": 5
}
