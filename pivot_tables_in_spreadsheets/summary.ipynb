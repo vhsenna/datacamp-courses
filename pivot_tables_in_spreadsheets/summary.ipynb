{
 "cells": [
  {
   "cell_type": "markdown",
   "id": "convertible-future",
   "metadata": {},
   "source": [
    "# Pivot Tables in Spreadsheets\n",
    "\n",
    "- 4 hours\n",
    "- 13 Videos\n",
    "- 54 Exercises\n",
    "\n",
    "## Course Description\n",
    "\n",
    "Working with large quantities of data in spreadsheets can be difficult and time-consuming. Have you ever wished there was a quick and efficient way to organize and evaluate your data within seconds? Pivot Tables are your answer! In this course we will explore the world of Pivot Tables within Google Sheets, and learn how to quickly organize thousands of datapoints with just a few clicks of the mouse. We will analyze the Average rainfall across multiple US cities, the Top 10 of the Fortune Global 500, and a selection of Films released between 2010 and 2016. You will learn techniques such as sorting, subtotaling, and filtering your data using these real world examples. By the end of the course, you will be able to create your own custom pivot tables with datasets of any size!\n",
    "\n",
    "### 1 Introduction to Pivot Tables for Google Sheets\n",
    "\n",
    "This chapter will discuss what a pivot table is, how it works, and will lead you through the steps of creating and setting up your first pivot table.\n",
    "\n",
    "- Introduction to pivot tables\n",
    "- Create a pivot table\n",
    "- Create a pivot table pt 2\n",
    "- Create a pivot table pt 3\n",
    "- Pivot table rows and columns\n",
    "- Select rows\n",
    "- Select columns\n",
    "- Rearrange rows and columns\n",
    "- Pivot table values\n",
    "- Selecting values\n",
    "- Selecting multiple values\n",
    "- Pivot table basics\n",
    "\n",
    "### 2 Behind the Scenes of the Pivot Table\n",
    "\n",
    "This chapter discuss how a pivot table works, and how it deals with the underlying data.\n",
    "\n",
    "- How a pivot table works\n",
    "- What does a pivot table do?\n",
    "- Analyze the pivot table\n",
    "- Analyze the pivot table pt 2\n",
    "- Using filters in a pivot table\n",
    "- Selecting filters\n",
    "- Filtering by using a string\n",
    "- Filtering on min/max values\n",
    "- Filtering on values\n",
    "- Putting all the pieces together\n",
    "- Building a complete pivot table\n",
    "- Building a complete pivot table pt 2\n",
    "- Building a complete pivot table pt 3\n",
    "\n",
    "### 3 Advanced Options\n",
    "\n",
    "This chapter will discuss more advanced options that will help you to get the most of your pivot tables.\n",
    "\n",
    "- Changing the calculation of values\n",
    "- Counting text values\n",
    "- Counting numerical values\n",
    "- Minimum and maximum values\n",
    "- Average and median\n",
    "- Calculated fields\n",
    "- What can be done with a calculated field\n",
    "- Create a calculated field\n",
    "- Create a calculated field pt 2\n",
    "- Create a calculated field pt 3\n",
    "- Data as percentages, drilling down, & grouping\n",
    "- Percentage of grand total\n",
    "- Percentage of rows\n",
    "- What does drilling down do?\n",
    "- Grouping rows\n",
    "\n",
    "### 4 Editing Data and Troubleshooting\n",
    "\n",
    "This chapter will walk you through modifying data in a pivot table, and troubleshooting various issues you may encounter.\n",
    "\n",
    "- Adding or Changing Data\n",
    "- Changing the source data\n",
    "- Correct the dataset\n",
    "- Correcting Inconsistent Source Data\n",
    "- Find and correct the error in the data\n",
    "- Adding data\n",
    "- Troubleshooting and Errors\n",
    "- Finding Missing Data in a Dataset\n",
    "- Find missing data within this dataset\n",
    "- Best Practices and Recommendations\n",
    "- Types of Categories\n",
    "- Select the Measurements\n",
    "- Alternatives to Pivot Tables\n",
    "- Final Thoughts"
   ]
  }
 ],
 "metadata": {
  "kernelspec": {
   "display_name": "Python 3",
   "language": "python",
   "name": "python3"
  },
  "language_info": {
   "codemirror_mode": {
    "name": "ipython",
    "version": 3
   },
   "file_extension": ".py",
   "mimetype": "text/x-python",
   "name": "python",
   "nbconvert_exporter": "python",
   "pygments_lexer": "ipython3",
   "version": "3.8.10"
  },
  "toc": {
   "base_numbering": 1,
   "nav_menu": {},
   "number_sections": false,
   "sideBar": true,
   "skip_h1_title": false,
   "title_cell": "Table of Contents",
   "title_sidebar": "Contents",
   "toc_cell": false,
   "toc_position": {},
   "toc_section_display": true,
   "toc_window_display": false
  },
  "varInspector": {
   "cols": {
    "lenName": 16,
    "lenType": 16,
    "lenVar": 40
   },
   "kernels_config": {
    "python": {
     "delete_cmd_postfix": "",
     "delete_cmd_prefix": "del ",
     "library": "var_list.py",
     "varRefreshCmd": "print(var_dic_list())"
    },
    "r": {
     "delete_cmd_postfix": ") ",
     "delete_cmd_prefix": "rm(",
     "library": "var_list.r",
     "varRefreshCmd": "cat(var_dic_list()) "
    }
   },
   "types_to_exclude": [
    "module",
    "function",
    "builtin_function_or_method",
    "instance",
    "_Feature"
   ],
   "window_display": false
  }
 },
 "nbformat": 4,
 "nbformat_minor": 5
}
