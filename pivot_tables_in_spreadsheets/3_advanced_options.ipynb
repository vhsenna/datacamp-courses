{
 "cells": [
  {
   "cell_type": "markdown",
   "id": "right-huntington",
   "metadata": {},
   "source": [
    "## Counting text values\n",
    "\n",
    "You just saw several ways to count data in a pivot table. In this example you will need to count how many films were released in each year.\n",
    "\n",
    "In order to do this, you'll need to use the following fields: `Release Year` and `Title`.\n",
    "\n",
    "Instructions\n",
    "\n",
    "1. Add `Release Year` to the **Rows** section to list all of the years.\n",
    "2. Add `Title` to the **Values** section, and select the proper counting method."
   ]
  },
  {
   "cell_type": "markdown",
   "id": "dried-class",
   "metadata": {},
   "source": [
    "## Counting numerical values\n",
    "\n",
    "Let's try another example. This time we want to count how many films of each language made any amount of Gross Revenue.\n",
    "\n",
    "You'll need to find a way to distinguish the films by language, and then count how many have a numerical value for Gross Revenue.\n",
    "\n",
    "Instructions\n",
    "\n",
    "1. Add `Language` to the **Rows** section to list all of the languages.\n",
    "2. Add `Gross` to the **Values** section, and select the proper counting method. Several methods may work, but in this case we want to use the method that counts numerical values."
   ]
  },
  {
   "cell_type": "markdown",
   "id": "greenhouse-domestic",
   "metadata": {},
   "source": [
    "## Minimum and maximum values\n",
    "\n",
    "In this example, you'll need to find the Minimum and Maximum Budgets for films in each country.\n",
    "\n",
    "You'll need to add `Budget` to the **Values** section twice, with the first one showing the minimum value, and the second one showing the maximum value.\n",
    "\n",
    "Instructions\n",
    "\n",
    "1. Add `Country` to the **Rows** section to list all of the countries.\n",
    "2. Add `Budget` to the **Values** section twice, and select the proper calculations. Make sure that the minimum value appears first, followed by the maximum value."
   ]
  },
  {
   "cell_type": "markdown",
   "id": "compressed-rating",
   "metadata": {},
   "source": [
    "## Average and median\n",
    "\n",
    "In this example, you'll need to find the Average and Median values for Gross Revenue each year.\n",
    "\n",
    "You'll need to add `Gross` to the **Values** section twice, with the first one showing the average value, and the second one showing the median value.\n",
    "\n",
    "Instructions\n",
    "\n",
    "1. Add `Release Year` to the **Rows** section to list all of the years.\n",
    "2. Add `Gross` to the **Values** section twice, and select the proper calculations."
   ]
  },
  {
   "cell_type": "markdown",
   "id": "brutal-spirit",
   "metadata": {},
   "source": [
    "## What can be done with a calculated field\n",
    "\n",
    "Which answer best describes what a Calculated Field does?"
   ]
  },
  {
   "cell_type": "markdown",
   "id": "saving-deposit",
   "metadata": {},
   "source": [
    "It allows you to add additional fields to your pivot table, by performing simple mathematical functions on the existing data."
   ]
  },
  {
   "cell_type": "markdown",
   "id": "difficult-patch",
   "metadata": {},
   "source": [
    "## Create a calculated field\n",
    "\n",
    "In this example, you'll need to calculate the profit by year. The pivot table is already partially built, showing the Gross Revenue and Budget for each year. You'll need to add the calculated field.\n",
    "\n",
    "Instructions\n",
    "\n",
    "1. Create a Calculated Field that will calculate the Profit for each year; `Gross` minus `Budget`."
   ]
  },
  {
   "cell_type": "markdown",
   "id": "corrected-yesterday",
   "metadata": {},
   "source": [
    "## Create a calculated field pt 2\n",
    "\n",
    "There have been budget cuts! In this exercise we are going to look at the ten films with the highest total budgets, and we need to cut them in half!\n",
    "\n",
    "Instructions\n",
    "\n",
    "1. Create a Calculated Field that will calculate the Revised Budget for each film. The formula should be `Budget/2`."
   ]
  },
  {
   "cell_type": "markdown",
   "id": "acoustic-destiny",
   "metadata": {},
   "source": [
    "## Create a calculated field pt 3\n",
    "\n",
    "This pivot table lists the top ten grossing films in the dataset. What would happen if the studios that produced these films decided to donate 1% of Gross Revenues to charity? Let's calculate how much that would amount to. Create a calculated field that shows 1% of Gross Revenue for each of these films.\n",
    "\n",
    "Instructions\n",
    "\n",
    "1. Create a Calculated Field that will calculate the charitable contribution for each film. The formula should be `Gross*1%`."
   ]
  },
  {
   "cell_type": "markdown",
   "id": "enormous-guitar",
   "metadata": {},
   "source": [
    "## Percentage of grand total\n",
    "\n",
    "Let's calculate the percentage of Gross Revenue that is earned by each rating.\n",
    "\n",
    "Instructions\n",
    "\n",
    "1. Add `Gross` to the **Values** section a second time, and modify it so that it shows the data as a percentage of the grand total. You may also need to change the number formatting afterwards, to show the values as percentages."
   ]
  },
  {
   "cell_type": "markdown",
   "id": "through-moore",
   "metadata": {},
   "source": [
    "## Percentage of rows\n",
    "\n",
    "Let's look at a selection of films released in various languages over several years. You'll need to calculate the percentage of Gross Revenue that can be attributed to a certain language in each year. For instance, in 2010 there were films released in French, Hindi, and Spanish, totalling \\\\$30M of Gross Revenue. What percentage of that \\\\$30M can be attributed to each language.\n",
    "\n",
    "You will not need to add any additional fields to the pivot table editor for this exercise.\n",
    "\n",
    "Instructions\n",
    "\n",
    "1. Modify the options for `Gross` so that the data in the pivot table is shown as percentages for each year. (Each year should add up to 100%). You may need to change the number format to show the data as percentages."
   ]
  },
  {
   "cell_type": "markdown",
   "id": "republican-setting",
   "metadata": {},
   "source": [
    "## What does drilling down do?\n",
    "\n",
    "If you were to double-click on cell `B4` what would happen?"
   ]
  },
  {
   "cell_type": "markdown",
   "id": "intimate-rhythm",
   "metadata": {},
   "source": [
    "A new tab would open which contains a sub-selection of the original dataset which corresponds to the number you double-clicked."
   ]
  },
  {
   "cell_type": "markdown",
   "id": "radical-revelation",
   "metadata": {},
   "source": [
    "## Grouping rows\n",
    "\n",
    "In this example you are going to be looking at the Budgets for every film within the dataset. You'll need to determine how many films fell into specific ranges of budgets. For instance, how many had a budget of \\\\$0 - \\\\$50 Million; how many had a budget of \\\\$50 - \\\\$100 Million, and so on.\n",
    "\n",
    "Instructions\n",
    "\n",
    "1. Create a Group Rule using an interval of 50,000,000. You can leave the Min and Max at their default settings.\n",
    "2. This is one option that is not found in the pivot table editor; instead, you'll need to right-click somewhere."
   ]
  }
 ],
 "metadata": {
  "kernelspec": {
   "display_name": "Python 3",
   "language": "python",
   "name": "python3"
  },
  "language_info": {
   "codemirror_mode": {
    "name": "ipython",
    "version": 3
   },
   "file_extension": ".py",
   "mimetype": "text/x-python",
   "name": "python",
   "nbconvert_exporter": "python",
   "pygments_lexer": "ipython3",
   "version": "3.8.10"
  },
  "toc": {
   "base_numbering": 1,
   "nav_menu": {},
   "number_sections": false,
   "sideBar": true,
   "skip_h1_title": false,
   "title_cell": "Table of Contents",
   "title_sidebar": "Contents",
   "toc_cell": false,
   "toc_position": {},
   "toc_section_display": true,
   "toc_window_display": false
  },
  "varInspector": {
   "cols": {
    "lenName": 16,
    "lenType": 16,
    "lenVar": 40
   },
   "kernels_config": {
    "python": {
     "delete_cmd_postfix": "",
     "delete_cmd_prefix": "del ",
     "library": "var_list.py",
     "varRefreshCmd": "print(var_dic_list())"
    },
    "r": {
     "delete_cmd_postfix": ") ",
     "delete_cmd_prefix": "rm(",
     "library": "var_list.r",
     "varRefreshCmd": "cat(var_dic_list()) "
    }
   },
   "types_to_exclude": [
    "module",
    "function",
    "builtin_function_or_method",
    "instance",
    "_Feature"
   ],
   "window_display": false
  }
 },
 "nbformat": 4,
 "nbformat_minor": 5
}
