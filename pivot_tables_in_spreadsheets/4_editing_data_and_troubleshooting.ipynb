{
 "cells": [
  {
   "cell_type": "markdown",
   "id": "laden-database",
   "metadata": {},
   "source": [
    "## Changing the source data\n",
    "\n",
    "This pivot table has an error in the data. One of the entries in the Data Source has been listed as **2020** by mistake.\n",
    "\n",
    "Which of the solutions below will correct the pivot table?"
   ]
  },
  {
   "cell_type": "markdown",
   "id": "auburn-description",
   "metadata": {},
   "source": [
    "Go to the Data Source tab, and modify cell `A7` so that it reads **2017**."
   ]
  },
  {
   "cell_type": "markdown",
   "id": "taken-knight",
   "metadata": {},
   "source": [
    "## Correct the dataset\n",
    "\n",
    "This dataset has inconsistent labels. One of the countries was listed as \"United States\", instead of \"USA\". Let's fix it.\n",
    "\n",
    "Instructions\n",
    "\n",
    "1. Find the inconsistent entry of \"United States\"\n",
    "2. Change it to \"USA\" so that it will be consistent with the other entries"
   ]
  },
  {
   "cell_type": "markdown",
   "id": "verified-windows",
   "metadata": {},
   "source": [
    "## Correcting Inconsistent Source Data\n",
    "\n",
    "This pivot table has some data that is classified incorrectly. The pivot table shows a category for _Automotive_ and another category for _Automobiles_. This is an error, as both categories should be combined into one.\n",
    "\n",
    "Which of the solutions below will correct the pivot table?"
   ]
  },
  {
   "cell_type": "markdown",
   "id": "involved-marker",
   "metadata": {},
   "source": [
    "Go to the Data Source tab, and use `Ctrl+F` to find where Automobiles is listed. Change this cell to Automotive."
   ]
  },
  {
   "cell_type": "markdown",
   "id": "central-community",
   "metadata": {},
   "source": [
    "## Find and correct the error in the data\n",
    "\n",
    "This dataset has numbers that are formatted as text. This is illustrated by the fact that the `SUM` formula in cell `D13` shows Zero.\n",
    "\n",
    "Instructions\n",
    "\n",
    "1. Change the numbers to the correct number format."
   ]
  },
  {
   "cell_type": "markdown",
   "id": "eight-trace",
   "metadata": {},
   "source": [
    "## Adding data\n",
    "\n",
    "This pivot table is missing some data. Exxon Mobil is blank for 2015. Let's add this data to our pivot table.\n",
    "\n",
    "Which of the solutions below will correct the pivot table?"
   ]
  },
  {
   "cell_type": "markdown",
   "id": "concerned-ensemble",
   "metadata": {},
   "source": [
    "Go to the Data Source tab and find the missing data in row 34. **Copy & Paste** this data into row 31. Then go back to the Pivot Table Editor, and update the **source** to show `'Data Source'!A1:F31`."
   ]
  },
  {
   "cell_type": "markdown",
   "id": "latest-omaha",
   "metadata": {},
   "source": [
    "## Finding Missing Data in a Dataset\n",
    "\n",
    "If you suspect that your dataset may have missing data, what is one possible way to check to see if this is the case?"
   ]
  },
  {
   "cell_type": "markdown",
   "id": "wooden-scale",
   "metadata": {},
   "source": [
    "Use the `COUNTA` formula in a row below your dataset, and see if all of the columns have the same number of entries."
   ]
  },
  {
   "cell_type": "markdown",
   "id": "shared-affiliate",
   "metadata": {},
   "source": [
    "## Find missing data within this dataset\n",
    "\n",
    "This dataset has one blank cell. You'll need to find the blank cell to determine if this is acceptable or not.\n",
    "\n",
    "One way to find the blank cell, is to use the **COUNTA** formula. That formula has been added to Column A already. You'll need to **Copy & Paste** this formula across all of the columns in order to identify which column is missing data.\n",
    "\n",
    "Instructions\n",
    "\n",
    "1. **Copy** the COUNTA formula in cell `A33`, and **Paste** it across `B33` through `F33`.\n",
    "2. Use this to find the column with the discrepancy. Once you locate the blank cell, you can fill it in with the correct value, which is **24.1**."
   ]
  },
  {
   "cell_type": "markdown",
   "id": "monthly-groove",
   "metadata": {},
   "source": [
    "## Types of Categories\n",
    "\n",
    "The two primary types of fields in a dataset are **Descriptions** and **Measurements**. Which of the following are examples of Descriptions?"
   ]
  },
  {
   "cell_type": "markdown",
   "id": "fleet-mechanism",
   "metadata": {},
   "source": [
    "Location, Year, Category."
   ]
  },
  {
   "cell_type": "markdown",
   "id": "inclusive-duncan",
   "metadata": {},
   "source": [
    "## Select the Measurements\n",
    "\n",
    "This pivot table already has some Descriptions selected for the Row and Column Labels. Now select the Measurements. Remember, Measurements are the fields which you would like to perform mathematical calculations on.\n",
    "\n",
    "Instructions\n",
    "\n",
    "1. Add all of the Measurement categories to the Values section of the Pivot Table Editor.\n",
    "2. Add them in the order in which they are listed."
   ]
  },
  {
   "cell_type": "markdown",
   "id": "latin-plain",
   "metadata": {},
   "source": [
    "## Alternatives to Pivot Tables\n",
    "\n",
    "Pivot Tables may not always be the best solution. If you have a small dataset, which of the following may be a good alternative for you to consider?"
   ]
  },
  {
   "cell_type": "markdown",
   "id": "backed-crack",
   "metadata": {},
   "source": [
    "Sorting, Filtering, Subtotaling."
   ]
  },
  {
   "cell_type": "code",
   "execution_count": null,
   "id": "monthly-windows",
   "metadata": {},
   "outputs": [],
   "source": []
  }
 ],
 "metadata": {
  "kernelspec": {
   "display_name": "Python 3",
   "language": "python",
   "name": "python3"
  },
  "language_info": {
   "codemirror_mode": {
    "name": "ipython",
    "version": 3
   },
   "file_extension": ".py",
   "mimetype": "text/x-python",
   "name": "python",
   "nbconvert_exporter": "python",
   "pygments_lexer": "ipython3",
   "version": "3.8.10"
  },
  "toc": {
   "base_numbering": 1,
   "nav_menu": {},
   "number_sections": false,
   "sideBar": true,
   "skip_h1_title": false,
   "title_cell": "Table of Contents",
   "title_sidebar": "Contents",
   "toc_cell": false,
   "toc_position": {},
   "toc_section_display": true,
   "toc_window_display": false
  },
  "varInspector": {
   "cols": {
    "lenName": 16,
    "lenType": 16,
    "lenVar": 40
   },
   "kernels_config": {
    "python": {
     "delete_cmd_postfix": "",
     "delete_cmd_prefix": "del ",
     "library": "var_list.py",
     "varRefreshCmd": "print(var_dic_list())"
    },
    "r": {
     "delete_cmd_postfix": ") ",
     "delete_cmd_prefix": "rm(",
     "library": "var_list.r",
     "varRefreshCmd": "cat(var_dic_list()) "
    }
   },
   "types_to_exclude": [
    "module",
    "function",
    "builtin_function_or_method",
    "instance",
    "_Feature"
   ],
   "window_display": false
  }
 },
 "nbformat": 4,
 "nbformat_minor": 5
}
