{
 "cells": [
  {
   "cell_type": "markdown",
   "id": "fiscal-lithuania",
   "metadata": {},
   "source": [
    "# Improving Your Data Visualizations in Python\n",
    "\n",
    "- 4 hours\n",
    "- 15 Videos\n",
    "- 54 Exercises\n",
    "\n",
    "## Course Description\n",
    "\n",
    "Great data visualization is the cornerstone of impactful data science. Visualization helps you to both find insight in your data and share those insights with your audience. Everyone learns how to make a basic scatter plot or bar chart on their journey to becoming a data scientist, but the true potential of data visualization is realized when you take a step back and think about what, why, and how you are visualizing your data. In this course you will learn how to construct compelling and attractive visualizations that help you communicate the results of your analyses efficiently and effectively. We will cover comparing data, the ins and outs of color, showing uncertainty, and how to build the right visualization for your given audience through the investigation of a datasets on air pollution around the US and farmer's markets. We will finish the course by examining open-access farmers market data to build a polished and impactful visual report.\n",
    "\n",
    "### 1 Highlighting your data\n",
    "\n",
    "How do you show all of your data while making sure that viewers don't miss an important point or points? Here we discuss how to guide your viewer through the data with color-based highlights and text. We also introduce a dataset on common pollutant values across the United States.\n",
    "\n",
    "- Highlighting data\n",
    "- Hardcoding a highlight\n",
    "- Programmatically creating a highlight\n",
    "- Comparing groups\n",
    "- Comparing with two KDEs\n",
    "- Improving your KDEs\n",
    "- Beeswarms\n",
    "- Annotations\n",
    "- A basic text annotation\n",
    "- Arrow annotations\n",
    "- Combining annotations and color\n",
    "\n",
    "### 2 Using color in your visualizations\n",
    "\n",
    "Color is a powerful tool for encoded values in data visualization. However, with this power comes danger. In this chapter, we talk about how to choose an appropriate color palette for your visualization based upon the type of data it is showing.\n",
    "\n",
    "- Color in visualizations\n",
    "- Getting rid of unnecessary color\n",
    "- Fixing Seaborn's bar charts\n",
    "- Continuous color palettes\n",
    "- Making a custom continuous palette\n",
    "- Customizing a diverging palette heatmap\n",
    "- Adjusting your palette according to context\n",
    "- Categorical palettes\n",
    "- Using a custom categorical palette\n",
    "- Dealing with too many categories\n",
    "- Coloring ordinal categories\n",
    "- Choosing the right variable to encode with color\n",
    "\n",
    "### 3 Showing uncertainty\n",
    "\n",
    "Uncertainty occurs everywhere in data science, but it's frequently left out of visualizations where it should be included. Here, we review what a confidence interval is and how to visualize them for both single estimates and continuous functions. Additionally, we discuss the bootstrap resampling technique for assessing uncertainty and how to visualize it properly.\n",
    "\n",
    "- Point estimate intervals\n",
    "- Basic confidence intervals\n",
    "- Annotating confidence intervals\n",
    "- Confidence bands\n",
    "- Making a confidence band\n",
    "- Separating a lot of bands\n",
    "- Cleaning up bands for overlaps\n",
    "- Beyond 95%\n",
    "- 90, 95, and 99% intervals\n",
    "- 90 and 95% bands\n",
    "- Using band thickness instead of coloring\n",
    "- Visualizing the bootstrap\n",
    "- The bootstrap histogram\n",
    "- Bootstrapped regressions\n",
    "- Lots of bootstraps with beeswarms\n",
    "\n",
    "### 4 Visualization in the data science workflow\n",
    "\n",
    "Often visualization is taught in isolation, with best practices only discussed in a general way. In reality, you will need to bend the rules for different scenarios. From messy exploratory visualizations to polishing the font sizes of your final product; in this chapter, we dive into how to optimize your visualizations at each step of a data science workflow.\n",
    "\n",
    "- First explorations\n",
    "- Looking at the farmers market data\n",
    "- Scatter matrix of numeric columns\n",
    "- Digging in with basic transforms\n",
    "- Exploring the patterns\n",
    "- Is latitude related to months open?\n",
    "- What state is the most market-friendly?\n",
    "- Popularity of goods sold by state\n",
    "- Making your visualizations efficient\n",
    "- Stacking to find trends\n",
    "- Using a plot as a legend\n",
    "- Tweaking your plots\n",
    "- Cleaning up the background\n",
    "- Remixing a plot\n",
    "- Enhancing legibility\n",
    "- Congrats!"
   ]
  }
 ],
 "metadata": {
  "kernelspec": {
   "display_name": "Python 3",
   "language": "python",
   "name": "python3"
  },
  "language_info": {
   "codemirror_mode": {
    "name": "ipython",
    "version": 3
   },
   "file_extension": ".py",
   "mimetype": "text/x-python",
   "name": "python",
   "nbconvert_exporter": "python",
   "pygments_lexer": "ipython3",
   "version": "3.8.5"
  },
  "toc": {
   "base_numbering": 1,
   "nav_menu": {},
   "number_sections": false,
   "sideBar": true,
   "skip_h1_title": false,
   "title_cell": "Table of Contents",
   "title_sidebar": "Contents",
   "toc_cell": false,
   "toc_position": {},
   "toc_section_display": true,
   "toc_window_display": false
  },
  "varInspector": {
   "cols": {
    "lenName": 16,
    "lenType": 16,
    "lenVar": 40
   },
   "kernels_config": {
    "python": {
     "delete_cmd_postfix": "",
     "delete_cmd_prefix": "del ",
     "library": "var_list.py",
     "varRefreshCmd": "print(var_dic_list())"
    },
    "r": {
     "delete_cmd_postfix": ") ",
     "delete_cmd_prefix": "rm(",
     "library": "var_list.r",
     "varRefreshCmd": "cat(var_dic_list()) "
    }
   },
   "types_to_exclude": [
    "module",
    "function",
    "builtin_function_or_method",
    "instance",
    "_Feature"
   ],
   "window_display": false
  }
 },
 "nbformat": 4,
 "nbformat_minor": 5
}
