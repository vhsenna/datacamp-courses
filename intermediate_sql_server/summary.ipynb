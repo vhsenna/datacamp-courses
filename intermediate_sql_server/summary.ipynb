{
 "cells": [
  {
   "cell_type": "markdown",
   "id": "extra-interface",
   "metadata": {},
   "source": [
    "# Intermediate SQL Server\n",
    "\n",
    "- 4 hours\n",
    "- 14 Videos\n",
    "- 47 Exercises\n",
    "\n",
    "## Course Description\n",
    "\n",
    "A majority of data is stored in databases and knowing the necessary tools needed to analyze and clean data directly in databases is indispensable. This course focuses on T-SQL, the version of SQL used in Microsoft SQL Server, needed for data analysis. You will learn several concepts in this course such as dealing with missing data, working with dates, and calculating summary statistics using advanced queries. After completing this course, you will have the skills needed to analyze data and provide insights quickly and easily.\n",
    "\n",
    "### 1 Summarizing Data\n",
    "\n",
    "One of the first steps in data analysis is examining data through aggregations. This chapter explores how to create aggregations in SQL Server, a common first step in data exploration. You will also clean missing data and categorize data into bins with CASE statements.\n",
    "\n",
    "- Data analysis with aggregations\n",
    "- Creating aggregations\n",
    "- Creating grouped aggregations\n",
    "- Dealing with missing data\n",
    "- Removing missing values\n",
    "- Imputing missing values (I)\n",
    "- Imputing missing values (II)\n",
    "- Binning data with CASE\n",
    "- Using CASE statements\n",
    "- Creating several groups with CASE\n",
    "\n",
    "### 2 Math Functions\n",
    "\n",
    "This chapter explores essential math operations such as rounding numbers, calculating squares and square roots, and counting records. You will also work with dates in this chapter!\n",
    "\n",
    "- Counting and totals\n",
    "- Calculating the total\n",
    "- Counting the number of rows\n",
    "- Dates\n",
    "- Which date function should you use?\n",
    "- Counting the number of days between dates\n",
    "- Adding days to a date\n",
    "- Rounding and truncating\n",
    "- Rounding numbers\n",
    "- Truncating numbers\n",
    "- More math functions\n",
    "- Calculating the absolute value\n",
    "- Calculating squares and square roots\n",
    "\n",
    "### 3 Processing Data in SQL Server\n",
    "\n",
    "In this chapter, you will create variables and write while loops to process data. You will also write complex queries by using derived tables and common table expressions.\n",
    "\n",
    "- WHILE loops\n",
    "- Creating and using variables\n",
    "- Creating a WHILE loop\n",
    "- Derived tables\n",
    "- Queries with derived tables (I)\n",
    "- Queries with derived tables (II)\n",
    "- Common Table Expressions\n",
    "- CTE syntax\n",
    "- Creating CTEs (I)\n",
    "- Creating CTEs (II)\n",
    "\n",
    "### 4 Window Functions\n",
    "\n",
    "In the final chapter of this course, you will work with partitions of data and window functions to calculate several summary stats and see how easy it is to create running totals and compute the mode of numeric columns.\n",
    "\n",
    "- Window functions in T-SQL\n",
    "- Window functions with aggregations (I)\n",
    "- Window functions with aggregations (II)\n",
    "- Common window functions\n",
    "- Do you know window functions?\n",
    "- First value in a window\n",
    "- Previous and next values\n",
    "- Increasing window complexity\n",
    "- Creating running totals\n",
    "- Assigning row numbers\n",
    "- Using windows for statistical functions\n",
    "- Calculating standard deviation\n",
    "- Calculating mode (I)\n",
    "- Calculating mode (II)"
   ]
  }
 ],
 "metadata": {
  "kernelspec": {
   "display_name": "Python 3",
   "language": "python",
   "name": "python3"
  },
  "language_info": {
   "codemirror_mode": {
    "name": "ipython",
    "version": 3
   },
   "file_extension": ".py",
   "mimetype": "text/x-python",
   "name": "python",
   "nbconvert_exporter": "python",
   "pygments_lexer": "ipython3",
   "version": "3.8.10"
  },
  "toc": {
   "base_numbering": 1,
   "nav_menu": {},
   "number_sections": false,
   "sideBar": true,
   "skip_h1_title": false,
   "title_cell": "Table of Contents",
   "title_sidebar": "Contents",
   "toc_cell": false,
   "toc_position": {},
   "toc_section_display": true,
   "toc_window_display": false
  },
  "varInspector": {
   "cols": {
    "lenName": 16,
    "lenType": 16,
    "lenVar": 40
   },
   "kernels_config": {
    "python": {
     "delete_cmd_postfix": "",
     "delete_cmd_prefix": "del ",
     "library": "var_list.py",
     "varRefreshCmd": "print(var_dic_list())"
    },
    "r": {
     "delete_cmd_postfix": ") ",
     "delete_cmd_prefix": "rm(",
     "library": "var_list.r",
     "varRefreshCmd": "cat(var_dic_list()) "
    }
   },
   "types_to_exclude": [
    "module",
    "function",
    "builtin_function_or_method",
    "instance",
    "_Feature"
   ],
   "window_display": false
  }
 },
 "nbformat": 4,
 "nbformat_minor": 5
}
