{
 "cells": [
  {
   "cell_type": "markdown",
   "id": "rational-supplier",
   "metadata": {},
   "source": [
    "## Calculating the total\n",
    "\n",
    "In this chapter, you will use the shipments data. The `Shipments` table has several columns such as:\n",
    "\n",
    "- `MixDesc`: the concrete type\n",
    "- `Quantity`: the amount of concrete shipped\n",
    "\n",
    "In this exercise, your objective is to calculate the total quantity for each type of concrete used.\n",
    "\n",
    "Instructions\n",
    "\n",
    "1. Write a T-SQL query which will return the sum of the `Quantity` column as `Total` for each type of `MixDesc`."
   ]
  },
  {
   "cell_type": "code",
   "execution_count": null,
   "id": "mexican-trailer",
   "metadata": {},
   "outputs": [],
   "source": [
    "-- Write a query that returns an aggregation \n",
    "SELECT MixDesc,\n",
    "       SUM(Quantity) AS Total\n",
    "FROM Shipments\n",
    "-- Group by the relevant column\n",
    "GROUP BY MixDesc;\n",
    "\n",
    "# MixDesc                             Total\n",
    "# \".40W/C 24\"\" SPD 5000PSI W/FIBER\"   26.533899307250977\n",
    "# \"1.0 SACK CLSM 3/8\"\"\"               114.50430229306221\n",
    "# \"2500 PSI 1/2\"\" NATURAL\"            27.127500534057617\n",
    "# ..."
   ]
  },
  {
   "cell_type": "markdown",
   "id": "australian-assembly",
   "metadata": {},
   "source": [
    "## Counting the number of rows\n",
    "\n",
    "In this exercise, you will calculate the number of orders for each concrete type. Since each row represents one order, all you need to is count the number of rows for each type of `MixDesc`.\n",
    "\n",
    "Instructions\n",
    "\n",
    "1. Create a query that returns the number of rows for each type of `MixDesc`."
   ]
  },
  {
   "cell_type": "code",
   "execution_count": null,
   "id": "detailed-hybrid",
   "metadata": {},
   "outputs": [],
   "source": [
    "-- Count the number of rows by MixDesc\n",
    "SELECT MixDesc,\n",
    "       COUNT(*)\n",
    "FROM Shipments\n",
    "GROUP BY MixDesc;\n",
    "\n",
    "# MixDesc\n",
    "# \".40W/C 24\"\" SPD 5000PSI W/FIBER\"   1\n",
    "# \"1.0 SACK CLSM 3/8\"\"\"               6\n",
    "# \"2500 PSI 1/2\"\" NATURAL\"            1\n",
    "# ..."
   ]
  },
  {
   "cell_type": "markdown",
   "id": "outer-childhood",
   "metadata": {},
   "source": [
    "## Which date function should you use?\n",
    "\n",
    "Suppose you want to calculate the number of years between two different dates, `DateOne` and `DateTwo`. Which SQL statement would you use to perform that calculation?"
   ]
  },
  {
   "cell_type": "markdown",
   "id": "streaming-request",
   "metadata": {},
   "source": [
    "`SELECT DATEDIFF(YYYY, DateOne, DateTwo)`"
   ]
  },
  {
   "cell_type": "markdown",
   "id": "commercial-cooperation",
   "metadata": {},
   "source": [
    "## Counting the number of days between dates\n",
    "\n",
    "In this exercise, you will calculate the difference between the order date and ship date.\n",
    "\n",
    "Instructions\n",
    "\n",
    "1. Write a query that returns the number of days between `OrderDate` and `ShipDate`."
   ]
  },
  {
   "cell_type": "code",
   "execution_count": null,
   "id": "express-egypt",
   "metadata": {},
   "outputs": [],
   "source": [
    "-- Return the difference in OrderDate and ShipDate\n",
    "SELECT OrderDate, ShipDate, \n",
    "       DATEDIFF(DD, OrderDate, ShipDate) AS Duration\n",
    "FROM Shipments;\n",
    "\n",
    "# OrderDate             ShipDate              Duration\n",
    "# 2017-09-27 06:50:26   2017-09-28 08:50:26   1\n",
    "# 2016-06-23 08:48:19   2016-06-24 10:48:19   1\n",
    "# 2016-06-16 09:05:09   2016-06-16 15:05:09   0\n",
    "# ..."
   ]
  },
  {
   "cell_type": "markdown",
   "id": "british-render",
   "metadata": {},
   "source": [
    "## Adding days to a date\n",
    "\n",
    "In this exercise, you will calculate the approximate delivery date of an order based on `ShipDate`.\n",
    "\n",
    "Instructions\n",
    "\n",
    "1. Write a query that returns the approximate delivery date as five days after the `ShipDate`."
   ]
  },
  {
   "cell_type": "code",
   "execution_count": null,
   "id": "laughing-layer",
   "metadata": {},
   "outputs": [],
   "source": [
    "-- Return the DeliveryDate as 5 days after the ShipDate\n",
    "SELECT OrderDate, \n",
    "       DATEADD(DD, 5, ShipDate) AS DeliveryDate\n",
    "FROM Shipments;\n",
    "\n",
    "# OrderDate             DeliveryDate\n",
    "# 2017-09-27 06:50:26   2017-10-03 08:50:26\n",
    "# 2016-06-23 08:48:19   2016-06-29 10:48:19\n",
    "# 2016-06-16 09:05:09   2016-06-21 15:05:09\n",
    "# ..."
   ]
  },
  {
   "cell_type": "markdown",
   "id": "featured-draft",
   "metadata": {},
   "source": [
    "## Rounding numbers\n",
    "\n",
    "Sometimes, you only care about the whole dollar amount and want to ignore the decimal values of the cost. In this exercise, you will round the cost to the nearest dollar.\n",
    "\n",
    "Instructions\n",
    "\n",
    "1. Write a SQL query to round the values in the `Cost` column to the nearest whole number."
   ]
  },
  {
   "cell_type": "code",
   "execution_count": null,
   "id": "recognized-pathology",
   "metadata": {},
   "outputs": [],
   "source": [
    "-- Round Cost to the nearest dollar\n",
    "SELECT Cost, \n",
    "       ROUND(Cost, 0) AS RoundedCost\n",
    "FROM Shipments;\n",
    "\n",
    "# Cost      RoundedCost\n",
    "# 11.2480   11.0000\n",
    "# 10.3976   10.0000\n",
    "# 13.2444   13.0000\n",
    "# ..."
   ]
  },
  {
   "cell_type": "markdown",
   "id": "clinical-radius",
   "metadata": {},
   "source": [
    "## Truncating numbers\n",
    "\n",
    "Since rounding can sometimes be misleading, i.e., `$16.8` becomes `$17` while `$16.4` remains `$16`, you may want to truncate the values after the decimal instead of rounding them. When you truncate the numbers, both `$16.8` and `$16.4` remain `$16`. In this exercise, you will do just that, truncate the `Cost` column to a whole number.\n",
    "\n",
    "Instructions\n",
    "\n",
    "1. Write a SQL query to truncate the values in the `Cost` column to the nearest whole number."
   ]
  },
  {
   "cell_type": "code",
   "execution_count": null,
   "id": "logical-employee",
   "metadata": {},
   "outputs": [],
   "source": [
    "-- Truncate cost to whole number\n",
    "SELECT Cost, \n",
    "       ROUND(Cost, 0, 1) AS TruncateCost\n",
    "FROM Shipments;\n",
    "\n",
    "# Cost      TruncateCost\n",
    "# 11.2480   11.0000\n",
    "# 10.3976   10.0000\n",
    "# 13.2444   13.0000\n",
    "# ..."
   ]
  },
  {
   "cell_type": "markdown",
   "id": "recognized-thompson",
   "metadata": {},
   "source": [
    "## Calculating the absolute value\n",
    "\n",
    "The `Shipments` table contains some bad data. There was a problem with the scales, and the weights show up as negative numbers. In this exercise, you will write a query to convert all negative weights to positive weights.\n",
    "\n",
    "Instructions\n",
    "\n",
    "1. Write a query that converts all the negative values in the `DeliveryWeight` column to positive values."
   ]
  },
  {
   "cell_type": "code",
   "execution_count": null,
   "id": "hollywood-belly",
   "metadata": {},
   "outputs": [],
   "source": [
    "-- Return the absolute value of DeliveryWeight\n",
    "SELECT DeliveryWeight,\n",
    "       ABS(DeliveryWeight) AS AbsoluteValue\n",
    "FROM Shipments;\n",
    "\n",
    "# DeliveryWeight      AbsoluteValue\n",
    "# 3848.800048828125   3848.800048828125\n",
    "# 3848.800048828125   3848.800048828125\n",
    "# 3855.800048828125   3855.800048828125\n",
    "# ..."
   ]
  },
  {
   "cell_type": "markdown",
   "id": "heated-current",
   "metadata": {},
   "source": [
    "## Calculating squares and square roots\n",
    "\n",
    "It's time for you to practice calculating squares and square roots of columns.\n",
    "\n",
    "Instructions\n",
    "\n",
    "1. Write a query that calculates the square and square root of the `WeightValue` column."
   ]
  },
  {
   "cell_type": "code",
   "execution_count": null,
   "id": "democratic-eight",
   "metadata": {},
   "outputs": [],
   "source": [
    "-- Return the square and square root of WeightValue\n",
    "SELECT WeightValue, \n",
    "       SQUARE(WeightValue) AS WeightSquare, \n",
    "       SQRT(WeightValue) AS WeightSqrt\n",
    "FROM Shipments;\n",
    "\n",
    "# WeightValue          WeightSquare        WeightSqrt\n",
    "# 2.1969099044799805   4.826413128402237   1.4821976603948546\n",
    "# 2.1969099044799805   4.826413128402237   1.4821976603948546\n",
    "# 2.198899984359741    4.83516114121727    1.482868835858297\n",
    "# ..."
   ]
  }
 ],
 "metadata": {
  "kernelspec": {
   "display_name": "Python 3",
   "language": "python",
   "name": "python3"
  },
  "language_info": {
   "codemirror_mode": {
    "name": "ipython",
    "version": 3
   },
   "file_extension": ".py",
   "mimetype": "text/x-python",
   "name": "python",
   "nbconvert_exporter": "python",
   "pygments_lexer": "ipython3",
   "version": "3.8.10"
  },
  "toc": {
   "base_numbering": 1,
   "nav_menu": {},
   "number_sections": false,
   "sideBar": true,
   "skip_h1_title": false,
   "title_cell": "Table of Contents",
   "title_sidebar": "Contents",
   "toc_cell": false,
   "toc_position": {},
   "toc_section_display": true,
   "toc_window_display": false
  },
  "varInspector": {
   "cols": {
    "lenName": 16,
    "lenType": 16,
    "lenVar": 40
   },
   "kernels_config": {
    "python": {
     "delete_cmd_postfix": "",
     "delete_cmd_prefix": "del ",
     "library": "var_list.py",
     "varRefreshCmd": "print(var_dic_list())"
    },
    "r": {
     "delete_cmd_postfix": ") ",
     "delete_cmd_prefix": "rm(",
     "library": "var_list.r",
     "varRefreshCmd": "cat(var_dic_list()) "
    }
   },
   "types_to_exclude": [
    "module",
    "function",
    "builtin_function_or_method",
    "instance",
    "_Feature"
   ],
   "window_display": false
  }
 },
 "nbformat": 4,
 "nbformat_minor": 5
}
