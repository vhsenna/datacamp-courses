{
 "cells": [
  {
   "cell_type": "markdown",
   "id": "exterior-bracket",
   "metadata": {},
   "source": [
    "## Creating and using variables\n",
    "\n",
    "In T-SQL, to create a variable you use the `DECLARE` statement. The variables must have an at sign (`@`) as their first character. Like most things in T-SQL, variables are not case sensitive. To assign a value to a variable, you can either use the keyword `SET` or a `SELECT` statement, then the variable name followed by an equal sign and a value.\n",
    "\n",
    "Instructions\n",
    "\n",
    "1. \n",
    "    1. Create an integer variable named `counter`.\n",
    "    2. Assign the value 20 to this variable.\n",
    "2. Increment the variable `counter` by 1 and assign it back to `counter`."
   ]
  },
  {
   "cell_type": "code",
   "execution_count": null,
   "id": "round-archive",
   "metadata": {},
   "outputs": [],
   "source": [
    "-- Declare the variable (a SQL Command, the var name, the datatype)\n",
    "DECLARE @counter INT\n",
    "-- Set the counter to 20\n",
    "SET @counter = 20\n",
    "-- Select the counter\n",
    "SELECT @counter;\n",
    "\n",
    "# 20"
   ]
  },
  {
   "cell_type": "code",
   "execution_count": null,
   "id": "ruled-museum",
   "metadata": {},
   "outputs": [],
   "source": [
    "-- Declare the variable (a SQL Command, the var name, the datatype)\n",
    "DECLARE @counter INT \n",
    "-- Set the counter to 20\n",
    "SET @counter = 20\n",
    "-- Select and increment the counter by one \n",
    "SET @counter = @counter + 1\n",
    "-- Print the variable\n",
    "SELECT @counter;\n",
    "\n",
    "# 21"
   ]
  },
  {
   "cell_type": "markdown",
   "id": "directed-privilege",
   "metadata": {},
   "source": [
    "## Creating a WHILE loop\n",
    "\n",
    "In this exercise, you will use the variable you created in the previous exercise you write a `WHILE` loop. Recall that structure:\n",
    "\n",
    "```\n",
    "WHILE some_condition \n",
    "\n",
    "BEGIN \n",
    "    -- Perform some operation here\n",
    "END\n",
    "```\n",
    "\n",
    "Instructions\n",
    "\n",
    "1. Write a `WHILE` loop that increments `counter` by 1 until `counter` is less than 30."
   ]
  },
  {
   "cell_type": "code",
   "execution_count": null,
   "id": "descending-richards",
   "metadata": {},
   "outputs": [],
   "source": [
    "DECLARE @counter INT \n",
    "SET @counter = 20\n",
    "-- Create a loop\n",
    "WHILE @counter < 30\n",
    "-- Loop code starting point\n",
    "BEGIN\n",
    "    SELECT @counter = @counter + 1\n",
    "-- Loop finish\n",
    "END\n",
    "-- Check the value of the variable\n",
    "SELECT @counter;\n",
    "\n",
    "# 30"
   ]
  },
  {
   "cell_type": "markdown",
   "id": "dominican-request",
   "metadata": {},
   "source": [
    "## Queries with derived tables (I)\n",
    "\n",
    "The focus of this lesson is _derived tables_. You can use derived tables when you want to break down a complex query into smaller steps. A derived table is a query which is used in the place of a table. Derived tables are a great solution if you want to create intermediate calculations that need to be used in a larger query.\n",
    "\n",
    "In this exercise, you will calculate the maximum value of the blood glucose level for each record by age.\n",
    "\n",
    "Instructions\n",
    "\n",
    "1. Return `MaxGlucose` from the derived table.\n",
    "2. Join the derived table to the main query on `Age`."
   ]
  },
  {
   "cell_type": "code",
   "execution_count": null,
   "id": "civic-wagon",
   "metadata": {},
   "outputs": [],
   "source": [
    "SELECT a.RecordId, \n",
    "       a.Age,\n",
    "       a.BloodGlucoseRandom, \n",
    "-- Select maximum glucose value (use colname from derived table)    \n",
    "       b.MaxGlucose\n",
    "FROM Kidney AS a\n",
    "-- Join to derived table\n",
    "JOIN (SELECT Age, MAX(BloodGlucoseRandom) AS MaxGlucose \n",
    "      FROM Kidney\n",
    "      GROUP BY Age) AS b\n",
    "-- Join on Age\n",
    "ON a.Age = b.Age;\n",
    "\n",
    "# RecordId   Age   BloodGlucoseRandom   MaxGlucose\n",
    "# 29         0     93                   220\n",
    "# 71         0     129                  220\n",
    "# 109        0     0                    220\n",
    "# ..."
   ]
  },
  {
   "cell_type": "markdown",
   "id": "generic-modern",
   "metadata": {},
   "source": [
    "## Queries with derived tables (II)\n",
    "\n",
    "In this exercise, you will create a derived table to return all patient records with the highest `BloodPressure` at their `Age` level.\n",
    "\n",
    "Instructions\n",
    "\n",
    "1. Create a derived table\n",
    "    1. returning `Age` and `MaxBloodPressure`; the latter is the maximum of `BloodPressure`.\n",
    "    2. is taken from the `kidney` table.\n",
    "    2. is grouped by `Age`.\n",
    "2. Join the derived table to the main query on\n",
    "    1. blood pressure equal to max blood pressure.\n",
    "    2. age."
   ]
  },
  {
   "cell_type": "code",
   "execution_count": null,
   "id": "clean-communist",
   "metadata": {},
   "outputs": [],
   "source": [
    "SELECT *\n",
    "FROM Kidney AS a\n",
    "-- JOIN and create the derived table\n",
    "JOIN (SELECT Age, \n",
    "             MAX(BloodPressure) AS MaxBloodPressure \n",
    "      FROM Kidney\n",
    "      GROUP BY Age) AS b\n",
    "-- JOIN on BloodPressure equal to MaxBloodPressure\n",
    "ON a.BloodPressure = b.MaxBloodPressure\n",
    "-- Join on Age\n",
    "AND a.Age = b.Age;\n",
    "\n",
    "# Age   BloodPressure   SpecificGravity      Albumin   Sugar   RedBloodCells   PusCell   PusCellClumps   Bacteria     BloodGlucoseRandom   BloodUrea   SerumCreatinine      Sodium   Potassium           Hemoglobin          PackedCellVolume   WhiteBloodCellCount   RedBloodCellCount    Hypertension   DiabetesMellitus   CoronaryArteryDisease   Appetite   PedalEdema   Anemia   Class   RecordID   Age   MaxBloodPressure\n",
    "# 90    90              1.024999976158142    1         0       null            normal    notpresent      notpresent   139                  89          3                    140      4.099999904632568   12                  37                 7900                  3.9000000953674316   yes            yes                null                    good       no           no       ckd     187        90    90\n",
    "# 83    70              1.0199999809265137   3         0       normal          normal    notpresent      notpresent   102                  60          2.5999999046325684   115      5.699999809265137   8.699999809265137   26                 12800                 3.0999999046325684   yes            null               null                    poor       no           yes      ckd     159        83    70\n",
    "# 82    80              1.0099999904632568   2         2       normal          null      notpresent      notpresent   140                  70          3.4000000953674316   136      4.199999809265137   13                  40                 9800                  4.199999809265137    yes            yes                null                    good       no           no       ckd     38         82    80\n",
    "# ..."
   ]
  },
  {
   "cell_type": "markdown",
   "id": "continued-restoration",
   "metadata": {},
   "source": [
    "## CTE syntax\n",
    "\n",
    "Select all the T-SQL keywords used to create a Common table expression.\n",
    "\n",
    "1. `DEALLOCATE`\n",
    "2. `OPEN`\n",
    "3. `AS`\n",
    "4. `WITH`\n",
    "5. `CTE`"
   ]
  },
  {
   "cell_type": "markdown",
   "id": "musical-cambridge",
   "metadata": {},
   "source": [
    "3 and 4."
   ]
  },
  {
   "cell_type": "markdown",
   "id": "entire-likelihood",
   "metadata": {},
   "source": [
    "## Creating CTEs (I)\n",
    "\n",
    "A Common table expression or CTE is used to create a table that can later be used with a query. To create a CTE, you will always use the `WITH` keyword followed by the CTE name and the name of the columns the CTE contains. The CTE will also include the definition of the table enclosed within the `AS()`.\n",
    "\n",
    "In this exercise, you will use a CTE to return all the ages with the maximum `BloodGlucoseRandom` in the table.\n",
    "\n",
    "Instructions\n",
    "\n",
    "1. Create a CTE `BloodGlucoseRandom` that returns one column (`MaxGlucose`) which contains the maximum `BloodGlucoseRandom` in the table.\n",
    "2. Join the CTE to the main table (`Kidney`) on `BloodGlucoseRandom` and `MaxGlucose`."
   ]
  },
  {
   "cell_type": "code",
   "execution_count": null,
   "id": "younger-detroit",
   "metadata": {},
   "outputs": [],
   "source": [
    "-- Specify the keyowrds to create the CTE\n",
    "WITH BloodGlucoseRandom (MaxGlucose) \n",
    "AS (SELECT MAX(BloodGlucoseRandom) AS MaxGlucose\n",
    "    FROM Kidney)\n",
    "\n",
    "SELECT a.Age, \n",
    "       b.MaxGlucose\n",
    "FROM Kidney AS a\n",
    "-- Join the CTE on blood glucose equal to max blood glucose\n",
    "JOIN BloodGlucoseRandom AS b\n",
    "ON a.BloodGlucoseRandom = b.MaxGlucose;\n",
    "\n",
    "# Age   MaxGlucose\n",
    "# 50    490\n",
    "# 60    490"
   ]
  },
  {
   "cell_type": "markdown",
   "id": "joint-youth",
   "metadata": {},
   "source": [
    "## Creating CTEs (II)\n",
    "\n",
    "In this exercise, you will use a CTE to return all the information regarding the patient(s) with the maximum `BloodPressure`.\n",
    "\n",
    "Instructions\n",
    "\n",
    "1. Create a CTE `BloodPressure` that returns one column (`MaxBloodPressure`) which contains the maximum `BloodPressure` in the table.\n",
    "2. Join this CTE (using an alias `b`) to the main table (`Kidney`) to return information about patients with the maximum `BloodPressure`."
   ]
  },
  {
   "cell_type": "code",
   "execution_count": null,
   "id": "brown-devil",
   "metadata": {},
   "outputs": [],
   "source": [
    "-- Create the CTE\n",
    "WITH BloodPressure (MaxBloodPressure) \n",
    "AS (SELECT MAX(BloodPressure) AS MaxBloodPressure \n",
    "    FROM Kidney)\n",
    "\n",
    "SELECT *\n",
    "FROM Kidney AS a\n",
    "-- Join the CTE  \n",
    "JOIN BloodPressure AS b\n",
    "ON a.BloodPressure = b.MaxBloodPressure\n",
    "\n",
    "# Age   BloodPressure   SpecificGravity   Albumin   Sugar   RedBloodCells   PusCell    PusCellClumps   Bacteria     BloodGlucoseRandom   BloodUrea   SerumCreatinine      Sodium   Potassium            Hemoglobin           PackedCellVolume   WhiteBloodCellCount   RedBloodCellCount   Hypertension   DiabetesMellitus   CoronaryArteryDisease   Appetite   PedalEdema   Anemia   Class   RecordID   MaxBloodPressure\n",
    "# 56    180             null              0         4       null            abnormal   notpresent      notpresent   298                  24          1.2000000476837158   139      3.9000000953674316   11.199999809265137   32                 10400                 4.199999809265137   yes            yes                null                    poor       yes          no       ckd     96         180"
   ]
  }
 ],
 "metadata": {
  "kernelspec": {
   "display_name": "Python 3",
   "language": "python",
   "name": "python3"
  },
  "language_info": {
   "codemirror_mode": {
    "name": "ipython",
    "version": 3
   },
   "file_extension": ".py",
   "mimetype": "text/x-python",
   "name": "python",
   "nbconvert_exporter": "python",
   "pygments_lexer": "ipython3",
   "version": "3.8.10"
  },
  "toc": {
   "base_numbering": 1,
   "nav_menu": {},
   "number_sections": false,
   "sideBar": true,
   "skip_h1_title": false,
   "title_cell": "Table of Contents",
   "title_sidebar": "Contents",
   "toc_cell": false,
   "toc_position": {},
   "toc_section_display": true,
   "toc_window_display": false
  },
  "varInspector": {
   "cols": {
    "lenName": 16,
    "lenType": 16,
    "lenVar": 40
   },
   "kernels_config": {
    "python": {
     "delete_cmd_postfix": "",
     "delete_cmd_prefix": "del ",
     "library": "var_list.py",
     "varRefreshCmd": "print(var_dic_list())"
    },
    "r": {
     "delete_cmd_postfix": ") ",
     "delete_cmd_prefix": "rm(",
     "library": "var_list.r",
     "varRefreshCmd": "cat(var_dic_list()) "
    }
   },
   "types_to_exclude": [
    "module",
    "function",
    "builtin_function_or_method",
    "instance",
    "_Feature"
   ],
   "window_display": false
  }
 },
 "nbformat": 4,
 "nbformat_minor": 5
}
