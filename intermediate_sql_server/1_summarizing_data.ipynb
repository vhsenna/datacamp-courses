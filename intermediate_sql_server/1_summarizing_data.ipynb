{
 "cells": [
  {
   "cell_type": "markdown",
   "id": "referenced-missile",
   "metadata": {},
   "source": [
    "## Creating aggregations\n",
    "\n",
    "This chapter uses data gathered by the National UFO Reporting Center. The data is contained in the `Incidents` table and in this lesson, you will be aggregating values in the `DurationSeconds` column.\n",
    "\n",
    "Instructions\n",
    "\n",
    "1. Write a T-SQL query which will return the average, minimum, and maximum values of the `DurationSeconds` column."
   ]
  },
  {
   "cell_type": "code",
   "execution_count": null,
   "id": "floppy-semester",
   "metadata": {},
   "outputs": [],
   "source": [
    "-- Calculate the average, minimum and maximum\n",
    "SELECT AVG(DurationSeconds) AS Average, \n",
    "       MIN(DurationSeconds) AS Minimum, \n",
    "       MAX(DurationSeconds) AS Maximum\n",
    "FROM Incidents;\n",
    "\n",
    "# Average             Minimum               Maximum\n",
    "# 5592.875782703282   0.07999999821186066   10526400"
   ]
  },
  {
   "cell_type": "markdown",
   "id": "lasting-literature",
   "metadata": {},
   "source": [
    "## Creating grouped aggregations\n",
    "\n",
    "You can calculate statistics for each group using `GROUP BY`. For example, you can calculate the maximum value for each state using the following query:\n",
    "\n",
    "```\n",
    "SELECT State, \n",
    "       MAX(DurationSeconds)\n",
    "FROM Incidents\n",
    "GROUP BY State\n",
    "```\n",
    "\n",
    "To filter even further, for example, to find the values for states where the maximum value is greater than 10, you can use the `HAVING` clause.\n",
    "\n",
    "Instructions\n",
    "\n",
    "1. Write a T-SQL query to calculate the average, minimum, and maximum values of the `DurationSeconds` column grouped by `Shape`. _You need to select an additional column. What is it?_\n",
    "2. Update the query to return only the records where the minimum of `DurationSeconds` column is greater than 1."
   ]
  },
  {
   "cell_type": "code",
   "execution_count": null,
   "id": "blocked-swedish",
   "metadata": {},
   "outputs": [],
   "source": [
    "-- Calculate the aggregations by Shape\n",
    "SELECT Shape,\n",
    "       AVG(DurationSeconds) AS Average, \n",
    "       MIN(DurationSeconds) AS Minimum, \n",
    "       MAX(DurationSeconds) AS Maximum\n",
    "FROM Incidents\n",
    "GROUP BY Shape;\n",
    "\n",
    "# Shape     Average              Minimum   Maximum\n",
    "# unknown   2053.769722814499    1         259200\n",
    "# disk      1445.3135593220338   1         253800\n",
    "# sphere    903.3034398034398    1         46800\n",
    "# ..."
   ]
  },
  {
   "cell_type": "code",
   "execution_count": null,
   "id": "joined-covering",
   "metadata": {},
   "outputs": [],
   "source": [
    "-- Calculate the aggregations by Shape\n",
    "SELECT Shape,\n",
    "       AVG(DurationSeconds) AS Average, \n",
    "       MIN(DurationSeconds) AS Minimum, \n",
    "       MAX(DurationSeconds) AS Maximum\n",
    "FROM Incidents\n",
    "GROUP BY Shape\n",
    "-- Return records where minimum of DurationSeconds is greater than 1\n",
    "HAVING MIN(DurationSeconds) > 1;\n",
    "\n",
    "# Shape       Average              Minimum   Maximum\n",
    "# chevron     1100.59375           2         21600\n",
    "# rectangle   969.6132075471698    4         28800\n",
    "# changing    3191.6744186046512   2         172800\n",
    "# ..."
   ]
  },
  {
   "cell_type": "markdown",
   "id": "alpine-glass",
   "metadata": {},
   "source": [
    "## Removing missing values\n",
    "\n",
    "There are a number of different techniques you can use to fix missing data in T-SQL and in this exercise, you will focus on returning rows with non-missing values. For example, to return all rows with non-missing `SHAPE` values, you can use:\n",
    "\n",
    "```\n",
    "SELECT *  \n",
    "FROM Incidents\n",
    "WHERE Shape IS NOT NULL\n",
    "```\n",
    "\n",
    "Instructions\n",
    "\n",
    "1. Write a T-SQL query which returns only the `IncidentDateTime` and `IncidentState` columns where `IncidentState` is not missing."
   ]
  },
  {
   "cell_type": "code",
   "execution_count": null,
   "id": "exclusive-knowing",
   "metadata": {},
   "outputs": [],
   "source": [
    "-- Return the specified columns\n",
    "SELECT IncidentDateTime,\n",
    "       IncidentState\n",
    "FROM Incidents\n",
    "-- Exclude all the missing values from IncidentState  \n",
    "WHERE IncidentState IS NOT NULL;\n",
    "\n",
    "# IncidentDateTime      IncidentState\n",
    "# 2005-10-31 18:00:00   ny\n",
    "# 2005-10-31 18:30:00   nj\n",
    "# 2005-10-31 19:00:00   md\n",
    "# ..."
   ]
  },
  {
   "cell_type": "markdown",
   "id": "tough-flesh",
   "metadata": {},
   "source": [
    "## Imputing missing values (I)\n",
    "\n",
    "In the previous exercise, you looked at the non-missing values in the `IncidentState` column. But what if you want to replace the missing values with another value instead of omitting them? You can do this using the `ISNULL()` function. Here we replace all the missing values in the `Shape` column using the word `'Saucer'`:\n",
    "\n",
    "```\n",
    "SELECT  Shape, \n",
    "        ISNULL(Shape, 'Saucer') AS Shape2\n",
    "FROM Incidents\n",
    "```\n",
    "\n",
    "You can also use `ISNULL()` to replace values from a different column instead of a specified word.\n",
    "\n",
    "Instructions\n",
    "\n",
    "1. Write a T-SQL query which only returns rows where `IncidentState` _is missing_.\n",
    "2. Replace all the missing values in the `IncidentState` column with the values in the `City` column and name this new column `Location`."
   ]
  },
  {
   "cell_type": "code",
   "execution_count": null,
   "id": "foster-distance",
   "metadata": {},
   "outputs": [],
   "source": [
    "-- Check the IncidentState column for missing values and replace them with the City column\n",
    "SELECT IncidentState, \n",
    "       ISNULL(IncidentState, City) AS Location\n",
    "FROM Incidents\n",
    "-- Filter to only return missing values from IncidentState\n",
    "WHERE IncidentState IS NULL;\n",
    "\n",
    "# IncidentState   Location\n",
    "# null            aust\n",
    "# null            ivan\n",
    "# null            tuni\n",
    "# ..."
   ]
  },
  {
   "cell_type": "markdown",
   "id": "advanced-prairie",
   "metadata": {},
   "source": [
    "## Imputing missing values (II)\n",
    "\n",
    "What if you want to replace missing values in one column with another and want to check the replacement column to make sure it doesn't have any missing values? To do that you need to use the `COALESCE` statement.\n",
    "\n",
    "```\n",
    "SELECT Shape, \n",
    "       City, \n",
    "       COALESCE(Shape, City, 'Unknown') as NewShape\n",
    "FROM Incidents\n",
    "\n",
    "Shape      City     NewShape\n",
    "NULL       Orb      Orb\n",
    "Triangle   Toledo   Triangle\n",
    "NULL       NULL     Unknown\n",
    "\n",
    "```\n",
    "\n",
    "Instructions\n",
    "\n",
    "1. Replace missing values in `Country` with the first non-missing value from `IncidentState` or `City`, in that order. Name the new column `Location`."
   ]
  },
  {
   "cell_type": "code",
   "execution_count": null,
   "id": "portuguese-friendship",
   "metadata": {},
   "outputs": [],
   "source": [
    "-- Replace missing values \n",
    "SELECT Country, \n",
    "       COALESCE(Country, IncidentState, City) AS Location\n",
    "FROM Incidents\n",
    "WHERE Country IS NULL;\n",
    "\n",
    "# Country   Location\n",
    "# null      australia\n",
    "# null      ivanka pri dunaji (slovakia)\n",
    "# null      tunisia (in-flight; over ocean)\n",
    "# ..."
   ]
  },
  {
   "cell_type": "markdown",
   "id": "technical-nicaragua",
   "metadata": {},
   "source": [
    "## Using CASE statements\n",
    "\n",
    "In this exercise, you will use a `CASE` statement to create a new column which specifies whether the `Country` is USA or International.\n",
    "\n",
    "Instructions\n",
    "\n",
    "1. Create a new column, `SourceCountry`, defined from these cases:\n",
    "    1. When `Country` is `'us'` then it takes the value `'USA'`.\n",
    "    2. Otherwise it takes the value `'International'`."
   ]
  },
  {
   "cell_type": "code",
   "execution_count": null,
   "id": "interim-resolution",
   "metadata": {},
   "outputs": [],
   "source": [
    "SELECT Country, \n",
    "CASE WHEN Country = 'us' THEN 'USA'\n",
    "ELSE 'International'\n",
    "END AS SourceCountry\n",
    "FROM Incidents;\n",
    "\n",
    "# Country   SourceCountry\n",
    "# us        USA\n",
    "# us        USA\n",
    "# us        USA\n",
    "# ..."
   ]
  },
  {
   "cell_type": "markdown",
   "id": "controlled-wednesday",
   "metadata": {},
   "source": [
    "## Creating several groups with CASE\n",
    "\n",
    "In this exercise, you will write a `CASE` statement to group the values in the `DurationSeconds` into 5 groups based on the following ranges:\n",
    "\n",
    "```\n",
    "DurationSeconds        SecondGroup\n",
    "<= 120                 1\n",
    "> 120 and <= 600       2\n",
    "> 600 and <= 1200      3\n",
    "> 1201 and <= 5000     4\n",
    "For all other values   5\n",
    "```\n",
    "\n",
    "Instructions\n",
    "\n",
    "1. Create a new column, `SecondGroup`, that uses the values in the `DurationSeconds` column based on the ranges mentioned above."
   ]
  },
  {
   "cell_type": "code",
   "execution_count": null,
   "id": "touched-visitor",
   "metadata": {},
   "outputs": [],
   "source": [
    "-- Complete the syntax for cutting the duration into different cases\n",
    "SELECT DurationSeconds, \n",
    "-- Start with the 2 TSQL keywords, and after the condition a TSQL word and a value\n",
    "CASE WHEN (DurationSeconds <= 120) THEN 1\n",
    "-- The pattern repeats with the same keyword and after the condition the same word and next value\n",
    "     WHEN (DurationSeconds > 120 AND DurationSeconds <= 600) THEN 2\n",
    "-- Use the same syntax here\n",
    "     WHEN (DurationSeconds > 601 AND DurationSeconds <= 1200) THEN 3\n",
    "-- Use the same syntax here\n",
    "     WHEN (DurationSeconds > 1201 AND DurationSeconds <= 5000) THEN 4\n",
    "-- Specify a value\n",
    "     ELSE 5 \n",
    "     END AS SecondGroup   \n",
    "FROM Incidents;\n",
    "\n",
    "# DurationSeconds   SecondGroup\n",
    "# 37800             5\n",
    "# 5                 1\n",
    "# 5                 1\n",
    "# ..."
   ]
  }
 ],
 "metadata": {
  "kernelspec": {
   "display_name": "Python 3",
   "language": "python",
   "name": "python3"
  },
  "language_info": {
   "codemirror_mode": {
    "name": "ipython",
    "version": 3
   },
   "file_extension": ".py",
   "mimetype": "text/x-python",
   "name": "python",
   "nbconvert_exporter": "python",
   "pygments_lexer": "ipython3",
   "version": "3.8.10"
  },
  "toc": {
   "base_numbering": 1,
   "nav_menu": {},
   "number_sections": false,
   "sideBar": true,
   "skip_h1_title": false,
   "title_cell": "Table of Contents",
   "title_sidebar": "Contents",
   "toc_cell": false,
   "toc_position": {},
   "toc_section_display": true,
   "toc_window_display": false
  },
  "varInspector": {
   "cols": {
    "lenName": 16,
    "lenType": 16,
    "lenVar": 40
   },
   "kernels_config": {
    "python": {
     "delete_cmd_postfix": "",
     "delete_cmd_prefix": "del ",
     "library": "var_list.py",
     "varRefreshCmd": "print(var_dic_list())"
    },
    "r": {
     "delete_cmd_postfix": ") ",
     "delete_cmd_prefix": "rm(",
     "library": "var_list.r",
     "varRefreshCmd": "cat(var_dic_list()) "
    }
   },
   "types_to_exclude": [
    "module",
    "function",
    "builtin_function_or_method",
    "instance",
    "_Feature"
   ],
   "window_display": false
  }
 },
 "nbformat": 4,
 "nbformat_minor": 5
}
