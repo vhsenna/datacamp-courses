{
 "cells": [
  {
   "cell_type": "markdown",
   "id": "marine-danish",
   "metadata": {},
   "source": [
    "## Window functions with aggregations (I)\n",
    "\n",
    "To familiarize yourself with the window functions, you will work with the `Orders` table in this chapter. Recall that using `OVER()`, you can create a window for the entire table. To create partitions using a specific column, you need to use `OVER()` along with `PARTITION BY`.\n",
    "\n",
    "Instructions\n",
    "\n",
    "1. Write a T-SQL query that returns the sum of `OrderPrice` by creating partitions for each `TerritoryName`."
   ]
  },
  {
   "cell_type": "code",
   "execution_count": null,
   "id": "elect-transformation",
   "metadata": {},
   "outputs": [],
   "source": [
    "SELECT OrderID, \n",
    "       TerritoryName, \n",
    "       -- Total price for each partition\n",
    "       SUM(OrderPrice) \n",
    "       -- Create the window and partitions\n",
    "       OVER(PARTITION BY TerritoryName) AS TotalPrice\n",
    "FROM Orders;\n",
    "\n",
    "# OrderID   TerritoryName   TotalPrice\n",
    "# 43706     Australia       1469\n",
    "# 43722     Australia       1469\n",
    "# 43729     Australia       1469\n",
    "# 47622     Australia       1469\n",
    "# 47722     Australia       1469\n",
    "# 48577     Australia       1469\n",
    "# 48611     Australia       1469\n",
    "# 50342     Australia       1469\n",
    "# 50365     Australia       1469\n",
    "# 51331     Australia       1469\n",
    "# 51398     Australia       1469\n",
    "# 53543     Australia       1469\n",
    "# 53578     Australia       1469\n",
    "# 53576     Canada          2573\n",
    "# ..."
   ]
  },
  {
   "cell_type": "markdown",
   "id": "removable-asthma",
   "metadata": {},
   "source": [
    "## Window functions with aggregations (II)\n",
    "\n",
    "In the last exercise, you calculated the sum of all orders for each territory. In this exercise, you will calculate the number of orders in each territory.\n",
    "\n",
    "Instructions\n",
    "\n",
    "1. Count the number of rows in each partition.\n",
    "2. Partition the table by `TerritoryName`."
   ]
  },
  {
   "cell_type": "code",
   "execution_count": null,
   "id": "foreign-behavior",
   "metadata": {},
   "outputs": [],
   "source": [
    "SELECT OrderID, \n",
    "       TerritoryName, \n",
    "       -- Number of rows per partition\n",
    "       COUNT(*) \n",
    "       -- Create the window and partitions\n",
    "       OVER(PARTITION BY TerritoryName) AS TotalOrders\n",
    "FROM Orders;\n",
    "\n",
    "# OrderID   TerritoryName   TotalOrders\n",
    "# 43706     Australia       13\n",
    "# 43722     Australia       13\n",
    "# 43729     Australia       13\n",
    "# 47622     Australia       13\n",
    "# 47722     Australia       13\n",
    "# 48577     Australia       13\n",
    "# 48611     Australia       13\n",
    "# 50342     Australia       13\n",
    "# 50365     Australia       13\n",
    "# 51331     Australia       13\n",
    "# 51398     Australia       13\n",
    "# 53543     Australia       13\n",
    "# 53578     Australia       13\n",
    "# 53576     Canada          37\n",
    "# ..."
   ]
  },
  {
   "cell_type": "markdown",
   "id": "variable-advance",
   "metadata": {},
   "source": [
    "## Do you know window functions?\n",
    "\n",
    "Which of the following statements is _incorrect_ regarding window queries?"
   ]
  },
  {
   "cell_type": "markdown",
   "id": "ceramic-parallel",
   "metadata": {},
   "source": [
    "The standard aggregations like `SUM()`, `AVG()`, and `COUNT()` require `ORDER BY` in the `OVER()` clause."
   ]
  },
  {
   "cell_type": "markdown",
   "id": "alike-parallel",
   "metadata": {},
   "source": [
    "## First value in a window\n",
    "\n",
    "Suppose you want to figure out the first `OrderDate` in each territory or the last one. How would you do that? You can use the window functions `FIRST_VALUE()` and `LAST_VALUE()`, respectively! Here are the steps:\n",
    "\n",
    "- First, create partitions for each territory.\n",
    "- Then, order by `OrderDate`.\n",
    "- Finally, use the `FIRST_VALUE()` and/or `LAST_VALUE()` functions as per your requirement.\n",
    "\n",
    "Instructions\n",
    "\n",
    "1. Write a T-SQL query that returns the first `OrderDate` by creating partitions for each `TerritoryName`."
   ]
  },
  {
   "cell_type": "code",
   "execution_count": null,
   "id": "national-control",
   "metadata": {},
   "outputs": [],
   "source": [
    "SELECT TerritoryName, \n",
    "       OrderDate, \n",
    "       -- Select the first value in each partition\n",
    "       FIRST_VALUE(OrderDate) \n",
    "       -- Create the partitions and arrange the rows\n",
    "       OVER(PARTITION BY TerritoryName ORDER BY OrderDate) AS FirstOrder\n",
    "FROM Orders;\n",
    "\n",
    "# TerritoryName   OrderDate             FirstOrder\n",
    "# Australia       2015-02-23 09:00:00   2015-02-23 09:00:00\n",
    "# Australia       2015-02-23 11:00:00   2015-02-23 09:00:00\n",
    "# Australia       2015-02-23 12:00:00   2015-02-23 09:00:00\n",
    "# Australia       2015-04-23 02:00:00   2015-02-23 09:00:00\n",
    "# Australia       2015-04-24 02:00:00   2015-02-23 09:00:00\n",
    "# Australia       2015-05-06 03:00:00   2015-02-23 09:00:00\n",
    "# Australia       2015-05-07 05:00:00   2015-02-23 09:00:00\n",
    "# Australia       2015-06-03 03:00:00   2015-02-23 09:00:00\n",
    "# Australia       2015-06-03 05:00:00   2015-02-23 09:00:00\n",
    "# Australia       2015-06-17 07:00:00   2015-02-23 09:00:00\n",
    "# Australia       2015-06-18 04:00:00   2015-02-23 09:00:00\n",
    "# Australia       2015-07-21 03:00:00   2015-02-23 09:00:00\n",
    "# Australia       2015-07-21 12:00:00   2015-02-23 09:00:00\n",
    "# Canada          2015-01-01 13:00:00   2015-01-01 13:00:00\n",
    "# ..."
   ]
  },
  {
   "cell_type": "markdown",
   "id": "collectible-petite",
   "metadata": {},
   "source": [
    "## Previous and next values\n",
    "\n",
    "What if you want to shift the values in a column by one row up or down? You can use the exact same steps as in the previous exercise but with two new functions, `LEAD()`, for the next value, and `LAG()`, for the previous value. So you follow these steps:\n",
    "\n",
    "- First, create partitions\n",
    "- Then, order by a certain column\n",
    "- Finally, use the `LEAD()` and/or `LAG()` functions as per your requirement\n",
    "\n",
    "Instructions\n",
    "\n",
    "1. Write a T-SQL query that for each territory:\n",
    "    1. Shifts the values in `OrderDate` one row down. Call this column `PreviousOrder`.\n",
    "    2. Shifts the values in `OrderDate` one row up. Call this column `NextOrder`. _You will need to PARTITION BY the territory._"
   ]
  },
  {
   "cell_type": "code",
   "execution_count": null,
   "id": "graphic-pressing",
   "metadata": {},
   "outputs": [],
   "source": [
    "SELECT TerritoryName,\n",
    "       OrderDate, \n",
    "       -- Specify the previous OrderDate in the window\n",
    "       LAG(OrderDate) \n",
    "       -- Over the window, partition by territory & order by order date\n",
    "       OVER(PARTITION BY TerritoryName ORDER BY OrderDate) AS PreviousOrder,\n",
    "       -- Specify the next OrderDate in the window\n",
    "       LEAD(OrderDate) \n",
    "       -- Create the partitions and arrange the rows\n",
    "       OVER(PARTITION BY TerritoryName ORDER BY OrderDate) AS NextOrder\n",
    "FROM Orders;\n",
    "\n",
    "# TerritoryName   OrderDate             PreviousOrder         NextOrder\n",
    "# Australia       2015-02-23 09:00:00   null                  2015-02-23 11:00:00\n",
    "# Australia       2015-02-23 11:00:00   2015-02-23 09:00:00   2015-02-23 12:00:00\n",
    "# Australia       2015-02-23 12:00:00   2015-02-23 11:00:00   2015-04-23 02:00:00\n",
    "# ..."
   ]
  },
  {
   "cell_type": "markdown",
   "id": "adjacent-thomas",
   "metadata": {},
   "source": [
    "## Creating running totals\n",
    "\n",
    "You usually don't have to use `ORDER BY` when using aggregations, but if you want to create running totals, you _should_ arrange your rows! In this exercise, you will create a running total of `OrderPrice`.\n",
    "\n",
    "Instructions\n",
    "\n",
    "1. Create the window, partition by `TerritoryName` and order by `OrderDate` to calculate a running total of `OrderPrice`."
   ]
  },
  {
   "cell_type": "code",
   "execution_count": null,
   "id": "polished-keyboard",
   "metadata": {},
   "outputs": [],
   "source": [
    "SELECT TerritoryName,\n",
    "       OrderDate, \n",
    "       -- Create a running total\n",
    "       SUM(OrderPrice) \n",
    "       -- Create the partitions and arrange the rows\n",
    "       OVER(PARTITION BY TerritoryName ORDER BY OrderDate) AS TerritoryTotal\n",
    "FROM Orders;\n",
    "\n",
    "# TerritoryName   OrderDate             TerritoryTotal\n",
    "# Australia       2015-02-23 09:00:00   48\n",
    "# Australia       2015-02-23 11:00:00   83\n",
    "# Australia       2015-02-23 12:00:00   313\n",
    "# ..."
   ]
  },
  {
   "cell_type": "markdown",
   "id": "intermediate-privacy",
   "metadata": {},
   "source": [
    "## Assigning row numbers\n",
    "\n",
    "Records in T-SQL are inherently unordered. Although in certain situations, you may want to assign row numbers for reference. In this exercise, you will do just that.\n",
    "\n",
    "Instructions\n",
    "\n",
    "1. Write a T-SQL query that assigns row numbers to all records partitioned by `TerritoryName` and ordered by `OrderDate`."
   ]
  },
  {
   "cell_type": "code",
   "execution_count": null,
   "id": "agricultural-charles",
   "metadata": {},
   "outputs": [],
   "source": [
    "SELECT TerritoryName,\n",
    "       OrderDate, \n",
    "       -- Assign a row number\n",
    "       ROW_NUMBER() \n",
    "       -- Create the partitions and arrange the rows\n",
    "       OVER(PARTITION BY TerritoryName ORDER BY OrderDate) AS OrderCount\n",
    "FROM Orders;\n",
    "\n",
    "# TerritoryName   OrderDate             OrderCount\n",
    "# Australia       2015-02-23 09:00:00   1\n",
    "# Australia       2015-02-23 11:00:00   2\n",
    "# Australia       2015-02-23 12:00:00   3\n",
    "# ..."
   ]
  },
  {
   "cell_type": "markdown",
   "id": "statistical-columbia",
   "metadata": {},
   "source": [
    "## Calculating standard deviation\n",
    "\n",
    "Calculating the standard deviation is quite common when dealing with numeric columns. In this exercise, you will calculate the _running standard deviation_, similar to the running total you calculated in the previous lesson.\n",
    "\n",
    "Instructions\n",
    "\n",
    "1. Create the window, partition by `TerritoryName` and order by `OrderDate` to calculate a running standard deviation of `OrderPrice`."
   ]
  },
  {
   "cell_type": "code",
   "execution_count": null,
   "id": "direct-needle",
   "metadata": {},
   "outputs": [],
   "source": [
    "SELECT OrderDate,\n",
    "       TerritoryName, \n",
    "       -- Calculate the standard deviation\n",
    "       STDEV(OrderPrice) \n",
    "       OVER(PARTITION BY TerritoryName ORDER BY OrderDate) AS StdDevPrice\n",
    "FROM Orders;\n",
    "\n",
    "# OrderDate             TerritoryName   StdDevPrice\n",
    "# 2015-02-23 09:00:00   Australia       null\n",
    "# 2015-02-23 11:00:00   Australia       9.192388155425117\n",
    "# 2015-02-23 12:00:00   Australia       109.02446208687908\n",
    "# ..."
   ]
  },
  {
   "cell_type": "markdown",
   "id": "canadian-opening",
   "metadata": {},
   "source": [
    "## Calculating mode (I)\n",
    "\n",
    "Unfortunately, there is no function to calculate the _mode_, the most recurring value in a column. To calculate the mode:\n",
    "\n",
    "- First, create a CTE containing an ordered count of values using `ROW_NUMBER()`.\n",
    "- Write a query using the CTE to pick the value with the highest row number.\n",
    "\n",
    "In this exercise, you will write the CTE needed to calculate the mode of `OrderPrice`.\n",
    "\n",
    "Instructions\n",
    "\n",
    "1. Create a CTE `ModePrice` that returns two columns (`OrderPrice` and `UnitPriceFrequency`).\n",
    "2. Write a query that returns all rows in this CTE."
   ]
  },
  {
   "cell_type": "code",
   "execution_count": null,
   "id": "confused-discovery",
   "metadata": {},
   "outputs": [],
   "source": [
    "-- Create a CTE Called ModePrice which contains two columns\n",
    "WITH ModePrice (OrderPrice, \n",
    "                UnitPriceFrequency) AS(SELECT OrderPrice,\n",
    "                                       ROW_NUMBER()\n",
    "                                       OVER(PARTITION BY OrderPrice ORDER BY OrderPrice) AS UnitPriceFrequency\n",
    "                                       FROM Orders)\n",
    "-- Select everything from the CTE\n",
    "SELECT * \n",
    "FROM ModePrice;\n",
    "\n",
    "# OrderPrice          UnitPriceFrequency\n",
    "# 3.5                 1\n",
    "# 3.5                 2\n",
    "# 3.700000047683716   1\n",
    "# ..."
   ]
  },
  {
   "cell_type": "markdown",
   "id": "independent-shuttle",
   "metadata": {},
   "source": [
    "## Calculating mode (II)\n",
    "\n",
    "In the last exercise, you created a CTE which assigned row numbers to each unique value in `OrderPrice`. All you need to do now is to find the `OrderPrice` with the highest row number.\n",
    "\n",
    "Instructions\n",
    "\n",
    "1. Use the CTE `ModePrice` to return the value of `OrderPrice` with the highest row number."
   ]
  },
  {
   "cell_type": "code",
   "execution_count": null,
   "id": "offshore-cancer",
   "metadata": {},
   "outputs": [],
   "source": [
    "-- CTE from the previous exercise\n",
    "WITH ModePrice (OrderPrice,\n",
    "                UnitPriceFrequency) AS (SELECT OrderPrice,\n",
    "                                        ROW_NUMBER() \n",
    "                                        OVER (PARTITION BY OrderPrice ORDER BY OrderPrice) AS UnitPriceFrequency\n",
    "                                        FROM Orders)\n",
    "-- Select the order price from the CTE\n",
    "SELECT OrderPrice AS ModeOrderPrice\n",
    "FROM ModePrice\n",
    "-- Select the maximum UnitPriceFrequency from the CTE\n",
    "WHERE UnitPriceFrequency IN (SELECT MAX(UnitPriceFrequency) \n",
    "                             From ModePrice);\n",
    "\n",
    "# ModeOrderPrice\n",
    "# 32"
   ]
  }
 ],
 "metadata": {
  "kernelspec": {
   "display_name": "Python 3",
   "language": "python",
   "name": "python3"
  },
  "language_info": {
   "codemirror_mode": {
    "name": "ipython",
    "version": 3
   },
   "file_extension": ".py",
   "mimetype": "text/x-python",
   "name": "python",
   "nbconvert_exporter": "python",
   "pygments_lexer": "ipython3",
   "version": "3.8.10"
  },
  "toc": {
   "base_numbering": 1,
   "nav_menu": {},
   "number_sections": false,
   "sideBar": true,
   "skip_h1_title": false,
   "title_cell": "Table of Contents",
   "title_sidebar": "Contents",
   "toc_cell": false,
   "toc_position": {},
   "toc_section_display": true,
   "toc_window_display": false
  },
  "varInspector": {
   "cols": {
    "lenName": 16,
    "lenType": 16,
    "lenVar": 40
   },
   "kernels_config": {
    "python": {
     "delete_cmd_postfix": "",
     "delete_cmd_prefix": "del ",
     "library": "var_list.py",
     "varRefreshCmd": "print(var_dic_list())"
    },
    "r": {
     "delete_cmd_postfix": ") ",
     "delete_cmd_prefix": "rm(",
     "library": "var_list.r",
     "varRefreshCmd": "cat(var_dic_list()) "
    }
   },
   "types_to_exclude": [
    "module",
    "function",
    "builtin_function_or_method",
    "instance",
    "_Feature"
   ],
   "window_display": false
  }
 },
 "nbformat": 4,
 "nbformat_minor": 5
}
