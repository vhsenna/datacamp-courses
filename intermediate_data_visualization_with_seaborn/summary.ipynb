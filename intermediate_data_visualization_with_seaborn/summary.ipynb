{
 "cells": [
  {
   "cell_type": "markdown",
   "id": "likely-function",
   "metadata": {},
   "source": [
    "## Intermediate Data Visualization with Seaborn\n",
    "\n",
    "- 4 hours\n",
    "- 13 Videos\n",
    "- 50 Exercises\n",
    "\n",
    "Do you want to make beautiful, informative visualizations with ease? If so, then you must learn seaborn! Seaborn is a visualization library that is an essential part of the python data science toolkit. In this course, you will learn how to use seaborn's sophisticated visualization tools to analyze multiple real world datasets including the American Housing Survey, college tuition data, and guests from the popular television series, The Daily Show. Following this course, you will be able to use seaborn functions to visualize your data in several different formats and customize seaborn plots for your unique needs.\n",
    "\n",
    "### 1 Seaborn Introduction\n",
    "\n",
    "Introduction to the Seaborn library and where it fits in the Python visualization landscape.\n",
    "\n",
    "- Introduction to Seaborn\n",
    "- Seaborn foundation\n",
    "- Reading a csv file\n",
    "- Comparing a histogram and distplot\n",
    "- Using the distribution plot\n",
    "- Plot a histogram\n",
    "- Rug plot and kde shading\n",
    "- Interpreting the results\n",
    "- Regression Plots in Seaborn\n",
    "- Create a regression plot\n",
    "- Plotting multiple variables\n",
    "- Facetting multiple regressions\n",
    "\n",
    "### 2 Customizing Seaborn Plots\n",
    "\n",
    "Overview of functions for customizing the display of Seaborn plots.\n",
    "\n",
    "- Using Seaborn Styles\n",
    "- Setting the default style\n",
    "- Comparing styles\n",
    "- Removing spines\n",
    "- Colors in Seaborn\n",
    "- Matplotlib color codes\n",
    "- Using default palettes\n",
    "- Color Palettes\n",
    "- Creating Custom Palettes\n",
    "- Customizing with matplotlib\n",
    "- Using matplotlib axes\n",
    "- Additional plot customizations\n",
    "- Adding annotations\n",
    "- Multiple plots\n",
    "\n",
    "### 3 Additional Plot Types\n",
    "\n",
    "Overview of more complex plot types included in Seaborn.\n",
    "\n",
    "- Categorical Plot Types\n",
    "- stripplot() and swarmplot()\n",
    "- boxplots, violinplots and lvplots\n",
    "- barplots, pointplots and countplots\n",
    "- Regression Plots\n",
    "- Regression and residual plots\n",
    "- Regression plot parameters\n",
    "- Binning data\n",
    "- Matrix plots\n",
    "- Creating heatmaps\n",
    "- Customizing heatmaps\n",
    "\n",
    "### 4 Creating Plots on Data Aware Grids\n",
    "\n",
    "Using Seaborn to draw multiple plots in a single figure.\n",
    "\n",
    "- Using FacetGrid, factorplot and lmplot\n",
    "- Building a FacetGrid\n",
    "- Using a factorplot\n",
    "- Using a lmplot\n",
    "- Using PairGrid and pairplot\n",
    "- Building a PairGrid\n",
    "- Using a pairplot\n",
    "- Additional pairplots\n",
    "- Using JointGrid and jointplot\n",
    "- Building a JointGrid and jointplot\n",
    "- Jointplots and regression\n",
    "- Complex jointplots\n",
    "- Selecting Seaborn Plots"
   ]
  }
 ],
 "metadata": {
  "kernelspec": {
   "display_name": "Python 3",
   "language": "python",
   "name": "python3"
  },
  "language_info": {
   "codemirror_mode": {
    "name": "ipython",
    "version": 3
   },
   "file_extension": ".py",
   "mimetype": "text/x-python",
   "name": "python",
   "nbconvert_exporter": "python",
   "pygments_lexer": "ipython3",
   "version": "3.8.5"
  },
  "toc": {
   "base_numbering": 1,
   "nav_menu": {},
   "number_sections": false,
   "sideBar": true,
   "skip_h1_title": false,
   "title_cell": "Table of Contents",
   "title_sidebar": "Contents",
   "toc_cell": false,
   "toc_position": {},
   "toc_section_display": true,
   "toc_window_display": false
  },
  "varInspector": {
   "cols": {
    "lenName": 16,
    "lenType": 16,
    "lenVar": 40
   },
   "kernels_config": {
    "python": {
     "delete_cmd_postfix": "",
     "delete_cmd_prefix": "del ",
     "library": "var_list.py",
     "varRefreshCmd": "print(var_dic_list())"
    },
    "r": {
     "delete_cmd_postfix": ") ",
     "delete_cmd_prefix": "rm(",
     "library": "var_list.r",
     "varRefreshCmd": "cat(var_dic_list()) "
    }
   },
   "types_to_exclude": [
    "module",
    "function",
    "builtin_function_or_method",
    "instance",
    "_Feature"
   ],
   "window_display": false
  }
 },
 "nbformat": 4,
 "nbformat_minor": 5
}
