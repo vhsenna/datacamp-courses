{
 "cells": [
  {
   "cell_type": "markdown",
   "id": "emerging-mistress",
   "metadata": {},
   "source": [
    "## Using %timeit: your turn!\n",
    "\n",
    "You'd like to create a list of integers from 0 to 50 using the `range()` function. However, you are unsure whether using list comprehension or unpacking the _range object_ into a list is faster. Let's use `%timeit` to find the best implementation.\n",
    "\n",
    "For your convenience, a reference table of time orders of magnitude is provided below (faster at the top).\n",
    "\n",
    "```\n",
    "symbol     name           unit (s)\n",
    "----------------------------------\n",
    "ns         nanosecond     10-9\n",
    "µs (us)    microsecond    10-6\n",
    "ms         millisecond    10-3\n",
    "s          second         100\n",
    "```\n",
    "\n",
    "Instructions\n",
    "\n",
    "1. Use list comprehension and `range()` to create a list of integers from 0 to 50 called `nums_list_comp`.\n",
    "2. Use `range()` to create a list of integers from 0 to 50 and unpack its contents into a list called `nums_unpack`.\n",
    "3. Use `%timeit` to compare the runtimes for creating a list of integers from 0 to 50 using list comprehension vs. unpacking the _range object_. Don't include the `print()` statements when timing. Which method was faster?"
   ]
  },
  {
   "cell_type": "code",
   "execution_count": 1,
   "id": "promotional-binding",
   "metadata": {},
   "outputs": [
    {
     "name": "stdout",
     "output_type": "stream",
     "text": [
      "[0, 1, 2, 3, 4, 5, 6, 7, 8, 9, 10, 11, 12, 13, 14, 15, 16, 17, 18, 19, 20, 21, 22, 23, 24, 25, 26, 27, 28, 29, 30, 31, 32, 33, 34, 35, 36, 37, 38, 39, 40, 41, 42, 43, 44, 45, 46, 47, 48, 49, 50]\n",
      "[0, 1, 2, 3, 4, 5, 6, 7, 8, 9, 10, 11, 12, 13, 14, 15, 16, 17, 18, 19, 20, 21, 22, 23, 24, 25, 26, 27, 28, 29, 30, 31, 32, 33, 34, 35, 36, 37, 38, 39, 40, 41, 42, 43, 44, 45, 46, 47, 48, 49, 50]\n"
     ]
    }
   ],
   "source": [
    "# Create a list of integers (0-50) using list comprehension\n",
    "nums_list_comp = [num for num in range(51)]\n",
    "print(nums_list_comp)\n",
    "\n",
    "# Create a list of integers (0-50) by unpacking range\n",
    "nums_unpack = [*range(51)]\n",
    "print(nums_unpack)"
   ]
  },
  {
   "cell_type": "markdown",
   "id": "automatic-girlfriend",
   "metadata": {},
   "source": [
    "## Using %timeit: specifying number of runs and loops\n",
    "\n",
    "A list of 480 superheroes has been loaded into your session (called `heroes`). You'd like to analyze the runtime for converting this `heroes` list into a set. Instead of relying on the default settings for `%timeit`, you'd like to only use 5 runs and 25 loops per each run.\n",
    "\n",
    "What is the correct syntax when using `%timeit` and only using 5 runs with 25 loops per each run?"
   ]
  },
  {
   "cell_type": "code",
   "execution_count": 2,
   "id": "based-philip",
   "metadata": {},
   "outputs": [
    {
     "name": "stdout",
     "output_type": "stream",
     "text": [
      "10.3 µs ± 765 ns per loop (mean ± std. dev. of 5 runs, 25 loops each)\n"
     ]
    }
   ],
   "source": [
    "# List\n",
    "heroes = ['A-Bomb', 'Abe Sapien', 'Abin Sur', 'Abomination', 'Absorbing Man', 'Adam Strange', 'Agent 13', 'Agent Bob', 'Agent Zero', 'Air-Walker', 'Ajax', 'Alan Scott', 'Alfred Pennyworth', 'Alien', 'Amazo', 'Ammo', 'Angel', 'Angel Dust', 'Angel Salvadore', 'Animal Man', 'Annihilus', 'Ant-Man', 'Ant-Man II', 'Anti-Venom', 'Apocalypse', 'Aqualad', 'Aquaman', 'Arachne', 'Archangel', 'Arclight', 'Ardina', 'Ares', 'Ariel', 'Armor', 'Atlas', 'Atom', 'Atom Girl', 'Atom II', 'Aurora', 'Azazel', 'Bane', 'Banshee', 'Bantam', 'Batgirl', 'Batgirl IV', 'Batgirl VI', 'Batman', 'Batman II', 'Battlestar', 'Beak', 'Beast', 'Beast Boy', 'Beta Ray Bill', 'Big Barda', 'Big Man', 'Binary', 'Bishop', 'Bizarro', 'Black Adam', 'Black Bolt', 'Black Canary', 'Black Cat', 'Black Knight III', 'Black Lightning', 'Black Mamba', 'Black Manta', 'Black Panther', 'Black Widow', 'Black Widow II', 'Blackout', 'Blackwing', 'Blackwulf', 'Blade', 'Bling!', 'Blink', 'Blizzard II', 'Blob', 'Bloodaxe', 'Blue Beetle II', 'Boom-Boom', 'Booster Gold', 'Box III', 'Brainiac', 'Brainiac 5', 'Brother Voodoo', 'Buffy', 'Bullseye', 'Bumblebee', 'Cable', 'Callisto', 'Cannonball', 'Captain America', 'Captain Atom', 'Captain Britain', 'Captain Mar-vell', 'Captain Marvel', 'Captain Marvel II', 'Carnage', 'Cat', 'Catwoman', 'Cecilia Reyes', 'Century', 'Chamber', 'Changeling', 'Cheetah', 'Cheetah II', 'Cheetah III', 'Chromos', 'Citizen Steel', 'Cloak', 'Clock King', 'Colossus', 'Copycat', 'Corsair', 'Cottonmouth', 'Crimson Dynamo', 'Crystal', 'Cyborg', 'Cyclops', 'Cypher', 'Dagger', 'Daredevil', 'Darkhawk', 'Darkseid', 'Darkstar', 'Darth Vader', 'Dash', 'Dazzler', 'Deadman', 'Deadpool', 'Deadshot', 'Deathlok', 'Deathstroke', 'Demogoblin', 'Destroyer', 'Diamondback', 'Doc Samson', 'Doctor Doom', 'Doctor Doom II', 'Doctor Fate', 'Doctor Octopus', 'Doctor Strange', 'Domino', 'Donna Troy', 'Doomsday', 'Doppelganger', 'Drax the Destroyer', 'Elastigirl', 'Electro', 'Elektra', 'Elongated Man', 'Emma Frost', 'Enchantress', 'Etrigan', 'Evil Deadpool', 'Evilhawk', 'Exodus', 'Fabian Cortez', 'Falcon', 'Feral', 'Fin Fang Foom', 'Firebird', 'Firelord', 'Firestar', 'Firestorm', 'Flash', 'Flash II', 'Flash III', 'Flash IV', 'Forge', 'Franklin Richards', 'Franklin Storm', 'Frenzy', 'Frigga', 'Galactus', 'Gambit', 'Gamora', 'Genesis', 'Ghost Rider', 'Giganta', 'Gladiator', 'Goblin Queen', 'Goku', 'Goliath IV', 'Gorilla Grodd', 'Granny Goodness', 'Gravity', 'Green Arrow', 'Green Goblin', 'Green Goblin II', 'Green Goblin III', 'Green Goblin IV', 'Groot', 'Guy Gardner', 'Hal Jordan', 'Han Solo', 'Harley Quinn', 'Havok', 'Hawk', 'Hawkeye', 'Hawkeye II', 'Hawkgirl', 'Hawkman', 'Hawkwoman', 'Hawkwoman III', 'Heat Wave', 'Hela', 'Hellboy', 'Hellcat', 'Hellstorm', 'Hercules', 'Hobgoblin', 'Hope Summers', 'Howard the Duck', 'Hulk', 'Human Torch', 'Huntress', 'Husk', 'Hybrid', 'Hydro-Man', 'Hyperion', 'Iceman', 'Impulse', 'Ink', 'Invisible Woman', 'Iron Fist', 'Iron Man', 'Jack of Hearts', 'Jack-Jack', 'James T. Kirk', 'Jean Grey', 'Jennifer Kale', 'Jessica Jones', 'Jigsaw', 'John Stewart', 'John Wraith', 'Joker', 'Jolt', 'Jubilee', 'Juggernaut', 'Justice', 'Kang', 'Karate Kid', 'Killer Croc', 'Kilowog', 'Kingpin', 'Klaw', 'Kraven II', 'Kraven the Hunter', 'Krypto', 'Kyle Rayner', 'Lady Deathstrike', 'Leader', 'Legion', 'Lex Luthor', 'Light Lass', 'Lightning Lad', 'Lightning Lord', 'Living Brain', 'Lizard', 'Lobo', 'Loki', 'Longshot', 'Luke Cage', 'Luke Skywalker', 'Mach-IV', 'Machine Man', 'Magneto', 'Man-Thing', 'Man-Wolf', 'Mandarin', 'Mantis', 'Martian Manhunter', 'Marvel Girl', 'Master Brood', 'Maverick', 'Maxima', 'Medusa', 'Meltdown', 'Mephisto', 'Mera', 'Metallo', 'Metamorpho', 'Metron', 'Micro Lad', 'Mimic', 'Miss Martian', 'Mister Fantastic', 'Mister Freeze', 'Mister Sinister', 'Mockingbird', 'MODOK', 'Molten Man', 'Monarch', 'Moon Knight', 'Moonstone', 'Morlun', 'Morph', 'Moses Magnum', 'Mr Immortal', 'Mr Incredible', 'Ms Marvel II', 'Multiple Man', 'Mysterio', 'Mystique', 'Namor', 'Namora', 'Namorita', 'Naruto Uzumaki', 'Nebula', 'Nick Fury', 'Nightcrawler', 'Nightwing', 'Northstar', 'Nova', 'Odin', 'Omega Red', 'Omniscient', 'One Punch Man', 'Onslaught', 'Oracle', 'Paul Blart', 'Penance II', 'Penguin', 'Phantom Girl', 'Phoenix', 'Plantman', 'Plastic Man', 'Plastique', 'Poison Ivy', 'Polaris', 'Power Girl', 'Predator', 'Professor X', 'Professor Zoom', 'Psylocke', 'Punisher', 'Purple Man', 'Pyro', 'Question', 'Quicksilver', 'Quill', \"Ra's Al Ghul\", 'Raven', 'Ray', 'Razor-Fist II', 'Red Arrow', 'Red Hood', 'Red Hulk', 'Red Robin', 'Red Skull', 'Red Tornado', 'Rhino', 'Rick Flag', 'Ripcord', 'Robin', 'Robin II', 'Robin III', 'Robin V', 'Rocket Raccoon', 'Rogue', 'Ronin', 'Rorschach', 'Sabretooth', 'Sage', 'Sandman', 'Sasquatch', 'Scarecrow', 'Scarlet Spider', 'Scarlet Spider II', 'Scarlet Witch', 'Scorpion', 'Sentry', 'Shadow King', 'Shadow Lass', 'Shadowcat', 'Shang-Chi', 'Shatterstar', 'She-Hulk', 'She-Thing', 'Shocker', 'Shriek', 'Sif', 'Silver Surfer', 'Silverclaw', 'Sinestro', 'Siren', 'Siryn', 'Skaar', 'Snowbird', 'Solomon Grundy', 'Songbird', 'Space Ghost', 'Spawn', 'Spider-Girl', 'Spider-Gwen', 'Spider-Man', 'Spider-Woman', 'Spider-Woman III', 'Spider-Woman IV', 'Spock', 'Spyke', 'Star-Lord', 'Starfire', 'Stargirl', 'Static', 'Steel', 'Steppenwolf', 'Storm', 'Sunspot', 'Superboy', 'Superboy-Prime', 'Supergirl', 'Superman', 'Swarm', 'Synch', 'T-1000', 'Taskmaster', 'Tempest', 'Thanos', 'The Comedian', 'Thing', 'Thor', 'Thor Girl', 'Thunderbird', 'Thunderbird III', 'Thunderstrike', 'Thundra', 'Tiger Shark', 'Tigra', 'Tinkerer', 'Toad', 'Toxin', 'Trickster', 'Triplicate Girl', 'Triton', 'Two-Face', 'Ultragirl', 'Ultron', 'Utgard-Loki', 'Vagabond', 'Valerie Hart', 'Valkyrie', 'Vanisher', 'Vegeta', 'Venom', 'Venom II', 'Venom III', 'Vertigo II', 'Vibe', 'Vindicator', 'Violet Parr', 'Vision', 'Vision II', 'Vixen', 'Vulture', 'Walrus', 'War Machine', 'Warbird', 'Warlock', 'Warp', 'Warpath', 'Wasp', 'White Queen', 'Winter Soldier', 'Wiz Kid', 'Wolfsbane', 'Wolverine', 'Wonder Girl', 'Wonder Man', 'Wonder Woman', 'Wyatt Wingfoot', 'X-23', 'X-Man', 'Yellow Claw', 'Yellowjacket', 'Yellowjacket II', 'Yoda', 'Zatanna', 'Zoom']\n",
    "\n",
    "%timeit -r5 -n25 set(heroes)"
   ]
  },
  {
   "cell_type": "markdown",
   "id": "orange-philadelphia",
   "metadata": {},
   "source": [
    "## Using %timeit: formal name or literal syntax\n",
    "\n",
    "Python allows you to create data structures using **either** a _formal name_ or a _literal syntax_. In this exercise, you'll explore how using a _literal syntax_ for creating a data structure can speed up runtimes.\n",
    "\n",
    "```\n",
    "data structure    formal name    literal syntax\n",
    "-----------------------------------------------\n",
    "list              list()         []\n",
    "dictionary        dict()         {}\n",
    "tuple             tuple()        ()\n",
    "```\n",
    "\n",
    "Instructions\n",
    "\n",
    "1. Create an empty list called `formal_list` using the formal name (`list()`).\n",
    "2. Create an empty list called `literal_list` using the literal syntax (`[]`).\n",
    "3. Print out the type of `formal_list` and `literal_list` to show that both naming conventions create a list.\n",
    "4. Use `%timeit` to compare runtimes between creating a list using the formal name (`list()`) and the literal syntax (`[]`). Don't include the `print()` statements when timing. Which naming convention is faster?"
   ]
  },
  {
   "cell_type": "code",
   "execution_count": 3,
   "id": "british-diagnosis",
   "metadata": {},
   "outputs": [
    {
     "name": "stdout",
     "output_type": "stream",
     "text": [
      "[]\n",
      "[]\n"
     ]
    }
   ],
   "source": [
    "# Create a list using the formal name\n",
    "formal_list = list()\n",
    "print(formal_list)\n",
    "\n",
    "# Create a list using the literal syntax\n",
    "literal_list = []\n",
    "print(literal_list)"
   ]
  },
  {
   "cell_type": "code",
   "execution_count": 7,
   "id": "responsible-calgary",
   "metadata": {},
   "outputs": [
    {
     "name": "stdout",
     "output_type": "stream",
     "text": [
      "<class 'list'>\n",
      "<class 'list'>\n"
     ]
    }
   ],
   "source": [
    "# Print out the type of formal_list\n",
    "print(type(list()))\n",
    "\n",
    "# Print out the type of literal_list\n",
    "print(type([]))"
   ]
  },
  {
   "cell_type": "code",
   "execution_count": 8,
   "id": "severe-brunei",
   "metadata": {},
   "outputs": [
    {
     "name": "stdout",
     "output_type": "stream",
     "text": [
      "55.2 ns ± 1.4 ns per loop (mean ± std. dev. of 7 runs, 10000000 loops each)\n",
      "20.2 ns ± 1.26 ns per loop (mean ± std. dev. of 7 runs, 100000000 loops each)\n"
     ]
    }
   ],
   "source": [
    "%timeit formal_list = list()\n",
    "%timeit literal_list = []"
   ]
  },
  {
   "cell_type": "markdown",
   "id": "electrical-friend",
   "metadata": {},
   "source": [
    "## Using cell magic mode (%%timeit)\n",
    "\n",
    "From here on out, you'll be working with a superheroes dataset. For this exercise, a list of each hero's weight in kilograms (called `wts`) is loaded into your session. You'd like to convert these weights into pounds.\n",
    "\n",
    "You could accomplish this using the below for loop:\n",
    "\n",
    "```\n",
    "hero_wts_lbs = []\n",
    "for wt in wts:\n",
    "    hero_wts_lbs.append(wt * 2.20462)\n",
    "```\n",
    "\n",
    "Or you could use a `numpy` array to accomplish this task:\n",
    "\n",
    "```\n",
    "wts_np = np.array(wts)\n",
    "hero_wts_lbs_np = wts_np * 2.20462\n",
    "```\n",
    "\n",
    "Use `%%timeit` to compare runtimes between these two approaches. Make sure to press `ENTER` after the magic command to add a new line before writing the code you wish to time. After you've finished coding, answer the following question: Which of the above techniques is faster?"
   ]
  },
  {
   "cell_type": "code",
   "execution_count": 15,
   "id": "possible-machine",
   "metadata": {},
   "outputs": [],
   "source": [
    "# List\n",
    "wts = [441.0, 65.0, 90.0, 441.0, 122.0, 88.0, 61.0, 81.0, 104.0, 108.0, 90.0, 90.0, 72.0, 169.0, 173.0, 101.0, 68.0, 57.0, 54.0, 83.0, 90.0, 122.0, 86.0, 358.0, 135.0, 106.0, 146.0, 63.0, 68.0, 57.0, 98.0, 270.0, 59.0, 50.0, 101.0, 68.0, 54.0, 81.0, 63.0, 67.0, 180.0, 77.0, 54.0, 57.0, 52.0, 61.0, 95.0, 79.0, 133.0, 63.0, 181.0, 68.0, 216.0, 135.0, 71.0, 54.0, 124.0, 155.0, 113.0, 95.0, 58.0, 54.0, 86.0, 90.0, 52.0, 92.0, 90.0, 59.0, 61.0, 104.0, 86.0, 88.0, 97.0, 68.0, 56.0, 77.0, 230.0, 495.0, 86.0, 55.0, 97.0, 110.0, 135.0, 61.0, 99.0, 52.0, 90.0, 59.0, 158.0, 74.0, 81.0, 108.0, 90.0, 116.0, 108.0, 74.0, 74.0, 86.0, 61.0, 61.0, 62.0, 97.0, 63.0, 81.0, 50.0, 55.0, 54.0, 86.0, 170.0, 70.0, 78.0, 225.0, 67.0, 79.0, 99.0, 104.0, 50.0, 173.0, 88.0, 68.0, 52.0, 90.0, 81.0, 817.0, 56.0, 135.0, 27.0, 52.0, 90.0, 95.0, 91.0, 178.0, 101.0, 95.0, 383.0, 90.0, 171.0, 187.0, 132.0, 89.0, 110.0, 81.0, 54.0, 63.0, 412.0, 104.0, 306.0, 56.0, 74.0, 59.0, 80.0, 65.0, 57.0, 203.0, 95.0, 106.0, 88.0, 96.0, 108.0, 50.0, 18.0, 56.0, 99.0, 56.0, 91.0, 81.0, 88.0, 86.0, 52.0, 81.0, 45.0, 92.0, 104.0, 167.0, 16.0, 81.0, 77.0, 86.0, 99.0, 630.0, 268.0, 50.0, 62.0, 90.0, 270.0, 115.0, 79.0, 88.0, 83.0, 77.0, 88.0, 79.0, 4.0, 95.0, 90.0, 79.0, 63.0, 79.0, 89.0, 104.0, 57.0, 61.0, 88.0, 54.0, 65.0, 81.0, 225.0, 158.0, 61.0, 81.0, 146.0, 83.0, 48.0, 18.0, 630.0, 77.0, 59.0, 58.0, 77.0, 119.0, 207.0, 65.0, 65.0, 81.0, 54.0, 79.0, 191.0, 79.0, 14.0, 77.0, 52.0, 55.0, 56.0, 113.0, 90.0, 88.0, 86.0, 49.0, 52.0, 855.0, 81.0, 104.0, 72.0, 356.0, 324.0, 203.0, 97.0, 99.0, 106.0, 18.0, 79.0, 58.0, 63.0, 59.0, 95.0, 54.0, 65.0, 95.0, 360.0, 230.0, 288.0, 236.0, 36.0, 191.0, 77.0, 79.0, 383.0, 86.0, 225.0, 90.0, 97.0, 52.0, 135.0, 56.0, 81.0, 110.0, 72.0, 59.0, 54.0, 140.0, 72.0, 90.0, 90.0, 86.0, 77.0, 101.0, 61.0, 81.0, 86.0, 128.0, 61.0, 338.0, 248.0, 90.0, 101.0, 59.0, 79.0, 79.0, 72.0, 70.0, 158.0, 61.0, 70.0, 79.0, 54.0, 125.0, 85.0, 101.0, 54.0, 83.0, 99.0, 88.0, 79.0, 83.0, 86.0, 293.0, 191.0, 65.0, 69.0, 405.0, 59.0, 117.0, 89.0, 79.0, 54.0, 52.0, 87.0, 80.0, 55.0, 50.0, 52.0, 81.0, 234.0, 86.0, 81.0, 70.0, 90.0, 74.0, 68.0, 83.0, 79.0, 56.0, 97.0, 50.0, 70.0, 117.0, 83.0, 81.0, 630.0, 56.0, 108.0, 146.0, 320.0, 85.0, 72.0, 79.0, 101.0, 56.0, 38.0, 25.0, 54.0, 104.0, 63.0, 171.0, 61.0, 203.0, 900.0, 63.0, 74.0, 113.0, 59.0, 310.0, 87.0, 149.0, 54.0, 50.0, 79.0, 88.0, 315.0, 153.0, 79.0, 52.0, 191.0, 101.0, 50.0, 92.0, 72.0, 52.0, 180.0, 49.0, 437.0, 65.0, 113.0, 405.0, 54.0, 56.0, 74.0, 59.0, 55.0, 58.0, 81.0, 83.0, 79.0, 71.0, 62.0, 63.0, 131.0, 91.0, 57.0, 77.0, 68.0, 77.0, 54.0, 101.0, 47.0, 74.0, 146.0, 99.0, 54.0, 443.0, 101.0, 225.0, 288.0, 143.0, 101.0, 74.0, 288.0, 158.0, 203.0, 81.0, 54.0, 76.0, 97.0, 81.0, 59.0, 86.0, 82.0, 105.0, 331.0, 58.0, 54.0, 56.0, 214.0, 79.0, 73.0, 117.0, 50.0, 334.0, 52.0, 71.0, 54.0, 41.0, 135.0, 135.0, 63.0, 79.0, 162.0, 95.0, 54.0, 108.0, 67.0, 158.0, 50.0, 65.0, 117.0, 39.0, 473.0, 135.0, 51.0, 171.0, 74.0, 117.0, 50.0, 61.0, 95.0, 83.0, 52.0, 17.0, 57.0, 81.0]"
   ]
  },
  {
   "cell_type": "code",
   "execution_count": 16,
   "id": "immune-medicine",
   "metadata": {},
   "outputs": [
    {
     "name": "stdout",
     "output_type": "stream",
     "text": [
      "27.2 µs ± 2.39 µs per loop (mean ± std. dev. of 7 runs, 10000 loops each)\n"
     ]
    }
   ],
   "source": [
    "%%timeit\n",
    "hero_wts_lbs = []\n",
    "for wt in wts:\n",
    "    hero_wts_lbs.append(wt * 2.20462)"
   ]
  },
  {
   "cell_type": "code",
   "execution_count": 17,
   "id": "athletic-netherlands",
   "metadata": {},
   "outputs": [
    {
     "name": "stdout",
     "output_type": "stream",
     "text": [
      "23.6 µs ± 4.88 µs per loop (mean ± std. dev. of 7 runs, 10000 loops each)\n"
     ]
    }
   ],
   "source": [
    "%%timeit\n",
    "wts_np = np.array(wts)\n",
    "hero_wts_lbs_np = wts_np * 2.20462"
   ]
  },
  {
   "cell_type": "markdown",
   "id": "growing-petite",
   "metadata": {},
   "source": [
    "## Pop quiz: steps for using %lprun\n",
    "\n",
    "Below is the `convert_units()` function, which converts the heights and weights of our favorite superheroes from metric units to Imperial units.\n",
    "\n",
    "```\n",
    "def convert_units(heroes, heights, weights):\n",
    "    new_hts = [ht * 0.39370  for ht in heights]\n",
    "    new_wts = [wt * 2.20462  for wt in weights]\n",
    "    hero_data = {}\n",
    "    for i,hero in enumerate(heroes):\n",
    "        hero_data[hero] = (new_hts[i], new_wts[i])\n",
    "    return hero_data\n",
    "```\n",
    "\n",
    "Suppose you have a list of superheroes (named `heroes`) along with each hero's height (in centimeters) and weight (in kilograms) loaded as NumPy arrays (named `hts` and `wts` respectively).\n",
    "\n",
    "What are the necessary steps you need to take in order to profile the `convert_units()` function acting on your superheroes data if you'd like to see line-by-line runtimes?"
   ]
  },
  {
   "cell_type": "markdown",
   "id": "thick-table",
   "metadata": {},
   "source": [
    "Use `%load_ext line_profiler` to load the `line_profiler`.\n",
    "\n",
    "Use `%lprun -f convert_units convert_units(heroes, hts, wts)` to get line-by-line runtimes."
   ]
  },
  {
   "cell_type": "markdown",
   "id": "bizarre-nutrition",
   "metadata": {},
   "source": [
    "## Using %lprun: spot bottlenecks\n",
    "\n",
    "Profiling a function allows you to dig deeper into the function's source code and potentially spot bottlenecks. When you see certain lines of code taking up the majority of the function's runtime, it is an indication that you may want to deploy a different, more efficient technique.\n",
    "\n",
    "Lets dig deeper into the `convert_units()` function.\n",
    "\n",
    "```\n",
    "def convert_units(heroes, heights, weights):\n",
    "    new_hts = [ht * 0.39370  for ht in heights]\n",
    "    new_wts = [wt * 2.20462  for wt in weights]\n",
    "    hero_data = {}\n",
    "    for i,hero in enumerate(heroes):\n",
    "        hero_data[hero] = (new_hts[i], new_wts[i])\n",
    "    return hero_data\n",
    "```\n",
    "\n",
    "Instructions\n",
    "\n",
    "1. Load the `line_profiler` package. Then, use `%lprun` to profile the `convert_units()` function acting on your superheroes data. Remember to use the special syntax for working with `%lprun` (you'll have to provide a `-f` flag specifying the function you'd like to profile).\n",
    "2. The `convert_units()` function, `heroes` list, `hts` array, and `wts` array have been loaded into your session. After you've finished coding, answer the following question: What percentage of time is spent on the `new_hts` list comprehension line of code relative to the total amount of time spent in the `convert_units()` function?"
   ]
  },
  {
   "cell_type": "code",
   "execution_count": 30,
   "id": "adolescent-twenty",
   "metadata": {},
   "outputs": [],
   "source": [
    "# List\n",
    "hts = [203, 191, 185, 203, 193, 185, 173, 178, 191, 188, 193, 180, 178, 244, 257, 188, 183, 165, 163, 183, 180, 211, 183, 229, 213, 178, 185, 175, 183, 173, 193, 185, 165, 163, 183, 178, 168, 183, 180, 183, 203, 183, 165, 170, 165, 168, 188, 178, 198, 175, 180, 173, 201, 188, 165, 180, 198, 191, 191, 188, 165, 178, 183, 185, 170, 188, 183, 170, 170, 191, 185, 188, 188, 168, 165, 175, 178, 218, 183, 165, 196, 193, 198, 170, 183, 157, 183, 170, 203, 175, 183, 188, 193, 198, 188, 180, 175, 185, 173, 175, 170, 201, 175, 180, 163, 170, 175, 185, 183, 226, 178, 226, 183, 191, 183, 180, 168, 198, 191, 175, 165, 183, 185, 267, 168, 198, 122, 173, 183, 188, 185, 193, 193, 185, 188, 193, 198, 201, 201, 188, 175, 188, 173, 175, 244, 196, 193, 168, 180, 175, 185, 178, 168, 193, 188, 191, 183, 196, 188, 175, 975, 165, 193, 173, 188, 180, 183, 183, 157, 183, 142, 188, 211, 180, 876, 185, 183, 185, 188, 62.5, 198, 168, 175, 183, 198, 178, 178, 188, 180, 178, 183, 178, 701, 188, 188, 183, 170, 183, 185, 191, 165, 175, 185, 175, 170, 180, 213, 259, 173, 185, 196, 180, 168, 79, 244, 178, 180, 170, 175, 188, 183, 173, 170, 180, 168, 180, 198, 155, 71, 178, 168, 168, 170, 188, 185, 183, 196, 165, 165, 287, 178, 191, 173, 244, 234, 201, 188, 191, 183, 64, 180, 175, 178, 175, 188, 165, 155, 191, 198, 203, 229, 193, 188, 198, 168, 180, 183, 188, 213, 188, 188, 168, 201, 170, 183, 193, 180, 180, 165, 198, 175, 196, 185, 185, 183, 188, 178, 185, 183, 196, 175, 366, 196, 193, 188, 180, 188, 178, 175, 188, 201, 173, 180, 180, 178, 188, 180, 168, 168, 185, 185, 175, 178, 180, 185, 206, 211, 180, 175, 305, 178, 170, 183, 157, 168, 168, 183, 185, 168, 168, 170, 180, 213, 183, 180, 180, 183, 180, 178, 188, 183, 163, 193, 165, 178, 191, 180, 183, 213, 165, 188, 185, 196, 185, 180, 178, 183, 165, 137, 122, 173, 191, 168, 198, 170, 185, 305, 183, 178, 193, 170, 211, 188, 185, 173, 168, 178, 191, 201, 183, 175, 173, 188, 193, 157, 201, 175, 168, 198, 178, 279, 165, 188, 211, 170, 165, 178, 178, 173, 178, 185, 183, 188, 193, 165, 170, 201, 183, 180, 173, 170, 180, 165, 191, 196, 180, 183, 188, 163, 201, 188, 183, 198, 175, 185, 175, 198, 218, 185, 178, 163, 175, 188, 183, 168, 188, 183, 168, 206, 15.2, 168, 175, 191, 165, 168, 191, 175, 229, 168, 178, 165, 137, 191, 191, 175, 180, 183, 185, 180, 188, 173, 218, 163, 178, 175, 140, 366, 160, 165, 188, 183, 196, 155, 175, 188, 183, 165, 66, 170, 185]\n",
    "\n",
    "# Define function\n",
    "def convert_units(heroes, heights, weights):\n",
    "\n",
    "    new_hts = [ht * 0.39370 for ht in heights]\n",
    "    new_wts = [wt * 2.20462 for wt in weights]\n",
    "\n",
    "    hero_data = {}\n",
    "\n",
    "    for i,hero in enumerate(heroes):\n",
    "        hero_data[hero] = (new_hts[i], new_wts[i])\n",
    "\n",
    "    return hero_data"
   ]
  },
  {
   "cell_type": "code",
   "execution_count": 24,
   "id": "atlantic-tourist",
   "metadata": {},
   "outputs": [],
   "source": [
    "%load_ext line_profiler\n",
    "%lprun -f convert_units convert_units(heroes, hts, wts)"
   ]
  },
  {
   "cell_type": "markdown",
   "id": "average-retail",
   "metadata": {},
   "source": [
    "## Using %lprun: fix the bottleneck\n",
    "\n",
    "In the previous exercise, you profiled the `convert_units()` function and saw that the `new_hts` list comprehension could be a potential bottleneck. Did you notice that the `new_wts` list comprehension also accounted for a similar percentage of the runtime? This is an indication that you may want to create the `new_hts` and `new_wts` objects using a different technique.\n",
    "\n",
    "Since the height and weight of each hero is stored in a `numpy` array, you can use array broadcasting rather than list comprehension to convert the heights and weights. This has been implemented in the below function:\n",
    "\n",
    "```\n",
    "def convert_units_broadcast(heroes, heights, weights):\n",
    "    # Array broadcasting instead of list comprehension\n",
    "    new_hts = heights * 0.39370\n",
    "    new_wts = weights * 2.20462\n",
    "    hero_data = {}\n",
    "    for i,hero in enumerate(heroes):\n",
    "        hero_data[hero] = (new_hts[i], new_wts[i])\n",
    "    return hero_data\n",
    "```\n",
    "\n",
    "Instructions\n",
    "\n",
    "1. Load the `line_profiler` package. Then, use `%lprun` to profile the `convert_units_broadcast()` function acting on your superheroes data. The `convert_units_broadcast()` function, `heroes` list, `hts` array, and `wts` array have been loaded into your session. After you've finished coding, answer the following question: What percentage of time is spent on the `new_hts` array broadcasting line of code relative to the total amount of time spent in the `convert_units_broadcast()` function?"
   ]
  },
  {
   "cell_type": "code",
   "execution_count": 25,
   "id": "growing-marble",
   "metadata": {},
   "outputs": [],
   "source": [
    "# Define function\n",
    "def convert_units_broadcast(heroes, heights, weights):\n",
    "\n",
    "    # Array broadcasting instead of list comprehension\n",
    "    new_hts = heights * 0.39370\n",
    "    new_wts = weights * 2.20462\n",
    "\n",
    "    hero_data = {}\n",
    "\n",
    "    for i,hero in enumerate(heroes):\n",
    "        hero_data[hero] = (new_hts[i], new_wts[i])\n",
    "\n",
    "    return hero_data"
   ]
  },
  {
   "cell_type": "code",
   "execution_count": 28,
   "id": "confidential-amino",
   "metadata": {},
   "outputs": [
    {
     "name": "stdout",
     "output_type": "stream",
     "text": [
      "The line_profiler extension is already loaded. To reload it, use:\n",
      "  %reload_ext line_profiler\n"
     ]
    },
    {
     "ename": "TypeError",
     "evalue": "can't multiply sequence by non-int of type 'float'",
     "output_type": "error",
     "traceback": [
      "\u001b[0;31m---------------------------------------------------------------------------\u001b[0m",
      "\u001b[0;31mTypeError\u001b[0m                                 Traceback (most recent call last)",
      "\u001b[0;32m<ipython-input-28-f49a24fe1a7a>\u001b[0m in \u001b[0;36m<module>\u001b[0;34m\u001b[0m\n\u001b[1;32m      1\u001b[0m \u001b[0mget_ipython\u001b[0m\u001b[0;34m(\u001b[0m\u001b[0;34m)\u001b[0m\u001b[0;34m.\u001b[0m\u001b[0mrun_line_magic\u001b[0m\u001b[0;34m(\u001b[0m\u001b[0;34m'load_ext'\u001b[0m\u001b[0;34m,\u001b[0m \u001b[0;34m'line_profiler'\u001b[0m\u001b[0;34m)\u001b[0m\u001b[0;34m\u001b[0m\u001b[0;34m\u001b[0m\u001b[0m\n\u001b[0;32m----> 2\u001b[0;31m \u001b[0mget_ipython\u001b[0m\u001b[0;34m(\u001b[0m\u001b[0;34m)\u001b[0m\u001b[0;34m.\u001b[0m\u001b[0mrun_line_magic\u001b[0m\u001b[0;34m(\u001b[0m\u001b[0;34m'lprun'\u001b[0m\u001b[0;34m,\u001b[0m \u001b[0;34m'-f convert_units_broadcast convert_units_broadcast(heroes, hts, wts)'\u001b[0m\u001b[0;34m)\u001b[0m\u001b[0;34m\u001b[0m\u001b[0;34m\u001b[0m\u001b[0m\n\u001b[0m",
      "\u001b[0;32m~/.local/lib/python3.8/site-packages/IPython/core/interactiveshell.py\u001b[0m in \u001b[0;36mrun_line_magic\u001b[0;34m(self, magic_name, line, _stack_depth)\u001b[0m\n\u001b[1;32m   2325\u001b[0m                 \u001b[0mkwargs\u001b[0m\u001b[0;34m[\u001b[0m\u001b[0;34m'local_ns'\u001b[0m\u001b[0;34m]\u001b[0m \u001b[0;34m=\u001b[0m \u001b[0mself\u001b[0m\u001b[0;34m.\u001b[0m\u001b[0mget_local_scope\u001b[0m\u001b[0;34m(\u001b[0m\u001b[0mstack_depth\u001b[0m\u001b[0;34m)\u001b[0m\u001b[0;34m\u001b[0m\u001b[0;34m\u001b[0m\u001b[0m\n\u001b[1;32m   2326\u001b[0m             \u001b[0;32mwith\u001b[0m \u001b[0mself\u001b[0m\u001b[0;34m.\u001b[0m\u001b[0mbuiltin_trap\u001b[0m\u001b[0;34m:\u001b[0m\u001b[0;34m\u001b[0m\u001b[0;34m\u001b[0m\u001b[0m\n\u001b[0;32m-> 2327\u001b[0;31m                 \u001b[0mresult\u001b[0m \u001b[0;34m=\u001b[0m \u001b[0mfn\u001b[0m\u001b[0;34m(\u001b[0m\u001b[0;34m*\u001b[0m\u001b[0margs\u001b[0m\u001b[0;34m,\u001b[0m \u001b[0;34m**\u001b[0m\u001b[0mkwargs\u001b[0m\u001b[0;34m)\u001b[0m\u001b[0;34m\u001b[0m\u001b[0;34m\u001b[0m\u001b[0m\n\u001b[0m\u001b[1;32m   2328\u001b[0m             \u001b[0;32mreturn\u001b[0m \u001b[0mresult\u001b[0m\u001b[0;34m\u001b[0m\u001b[0;34m\u001b[0m\u001b[0m\n\u001b[1;32m   2329\u001b[0m \u001b[0;34m\u001b[0m\u001b[0m\n",
      "\u001b[0;32m<decorator-gen-117>\u001b[0m in \u001b[0;36mlprun\u001b[0;34m(self, parameter_s)\u001b[0m\n",
      "\u001b[0;32m~/.local/lib/python3.8/site-packages/IPython/core/magic.py\u001b[0m in \u001b[0;36m<lambda>\u001b[0;34m(f, *a, **k)\u001b[0m\n\u001b[1;32m    185\u001b[0m     \u001b[0;31m# but it's overkill for just that one bit of state.\u001b[0m\u001b[0;34m\u001b[0m\u001b[0;34m\u001b[0m\u001b[0;34m\u001b[0m\u001b[0m\n\u001b[1;32m    186\u001b[0m     \u001b[0;32mdef\u001b[0m \u001b[0mmagic_deco\u001b[0m\u001b[0;34m(\u001b[0m\u001b[0marg\u001b[0m\u001b[0;34m)\u001b[0m\u001b[0;34m:\u001b[0m\u001b[0;34m\u001b[0m\u001b[0;34m\u001b[0m\u001b[0m\n\u001b[0;32m--> 187\u001b[0;31m         \u001b[0mcall\u001b[0m \u001b[0;34m=\u001b[0m \u001b[0;32mlambda\u001b[0m \u001b[0mf\u001b[0m\u001b[0;34m,\u001b[0m \u001b[0;34m*\u001b[0m\u001b[0ma\u001b[0m\u001b[0;34m,\u001b[0m \u001b[0;34m**\u001b[0m\u001b[0mk\u001b[0m\u001b[0;34m:\u001b[0m \u001b[0mf\u001b[0m\u001b[0;34m(\u001b[0m\u001b[0;34m*\u001b[0m\u001b[0ma\u001b[0m\u001b[0;34m,\u001b[0m \u001b[0;34m**\u001b[0m\u001b[0mk\u001b[0m\u001b[0;34m)\u001b[0m\u001b[0;34m\u001b[0m\u001b[0;34m\u001b[0m\u001b[0m\n\u001b[0m\u001b[1;32m    188\u001b[0m \u001b[0;34m\u001b[0m\u001b[0m\n\u001b[1;32m    189\u001b[0m         \u001b[0;32mif\u001b[0m \u001b[0mcallable\u001b[0m\u001b[0;34m(\u001b[0m\u001b[0marg\u001b[0m\u001b[0;34m)\u001b[0m\u001b[0;34m:\u001b[0m\u001b[0;34m\u001b[0m\u001b[0;34m\u001b[0m\u001b[0m\n",
      "\u001b[0;32m~/.local/lib/python3.8/site-packages/line_profiler/line_profiler.py\u001b[0m in \u001b[0;36mlprun\u001b[0;34m(self, parameter_s)\u001b[0m\n\u001b[1;32m    361\u001b[0m         \u001b[0;32mtry\u001b[0m\u001b[0;34m:\u001b[0m\u001b[0;34m\u001b[0m\u001b[0;34m\u001b[0m\u001b[0m\n\u001b[1;32m    362\u001b[0m             \u001b[0;32mtry\u001b[0m\u001b[0;34m:\u001b[0m\u001b[0;34m\u001b[0m\u001b[0;34m\u001b[0m\u001b[0m\n\u001b[0;32m--> 363\u001b[0;31m                 \u001b[0mprofile\u001b[0m\u001b[0;34m.\u001b[0m\u001b[0mrunctx\u001b[0m\u001b[0;34m(\u001b[0m\u001b[0marg_str\u001b[0m\u001b[0;34m,\u001b[0m \u001b[0mglobal_ns\u001b[0m\u001b[0;34m,\u001b[0m \u001b[0mlocal_ns\u001b[0m\u001b[0;34m)\u001b[0m\u001b[0;34m\u001b[0m\u001b[0;34m\u001b[0m\u001b[0m\n\u001b[0m\u001b[1;32m    364\u001b[0m                 \u001b[0mmessage\u001b[0m \u001b[0;34m=\u001b[0m \u001b[0;34m''\u001b[0m\u001b[0;34m\u001b[0m\u001b[0;34m\u001b[0m\u001b[0m\n\u001b[1;32m    365\u001b[0m             \u001b[0;32mexcept\u001b[0m \u001b[0mSystemExit\u001b[0m\u001b[0;34m:\u001b[0m\u001b[0;34m\u001b[0m\u001b[0;34m\u001b[0m\u001b[0m\n",
      "\u001b[0;32m~/.local/lib/python3.8/site-packages/line_profiler/line_profiler.py\u001b[0m in \u001b[0;36mrunctx\u001b[0;34m(self, cmd, globals, locals)\u001b[0m\n\u001b[1;32m    156\u001b[0m         \u001b[0mself\u001b[0m\u001b[0;34m.\u001b[0m\u001b[0menable_by_count\u001b[0m\u001b[0;34m(\u001b[0m\u001b[0;34m)\u001b[0m\u001b[0;34m\u001b[0m\u001b[0;34m\u001b[0m\u001b[0m\n\u001b[1;32m    157\u001b[0m         \u001b[0;32mtry\u001b[0m\u001b[0;34m:\u001b[0m\u001b[0;34m\u001b[0m\u001b[0;34m\u001b[0m\u001b[0m\n\u001b[0;32m--> 158\u001b[0;31m             \u001b[0mexec_\u001b[0m\u001b[0;34m(\u001b[0m\u001b[0mcmd\u001b[0m\u001b[0;34m,\u001b[0m \u001b[0mglobals\u001b[0m\u001b[0;34m,\u001b[0m \u001b[0mlocals\u001b[0m\u001b[0;34m)\u001b[0m\u001b[0;34m\u001b[0m\u001b[0;34m\u001b[0m\u001b[0m\n\u001b[0m\u001b[1;32m    159\u001b[0m         \u001b[0;32mfinally\u001b[0m\u001b[0;34m:\u001b[0m\u001b[0;34m\u001b[0m\u001b[0;34m\u001b[0m\u001b[0m\n\u001b[1;32m    160\u001b[0m             \u001b[0mself\u001b[0m\u001b[0;34m.\u001b[0m\u001b[0mdisable_by_count\u001b[0m\u001b[0;34m(\u001b[0m\u001b[0;34m)\u001b[0m\u001b[0;34m\u001b[0m\u001b[0;34m\u001b[0m\u001b[0m\n",
      "\u001b[0;32m<string>\u001b[0m in \u001b[0;36m<module>\u001b[0;34m\u001b[0m\n",
      "\u001b[0;32m<ipython-input-25-097b3089decf>\u001b[0m in \u001b[0;36mconvert_units_broadcast\u001b[0;34m(heroes, heights, weights)\u001b[0m\n\u001b[1;32m      2\u001b[0m \u001b[0;34m\u001b[0m\u001b[0m\n\u001b[1;32m      3\u001b[0m     \u001b[0;31m# Array broadcasting instead of list comprehension\u001b[0m\u001b[0;34m\u001b[0m\u001b[0;34m\u001b[0m\u001b[0;34m\u001b[0m\u001b[0m\n\u001b[0;32m----> 4\u001b[0;31m     \u001b[0mnew_hts\u001b[0m \u001b[0;34m=\u001b[0m \u001b[0mheights\u001b[0m \u001b[0;34m*\u001b[0m \u001b[0;36m0.39370\u001b[0m\u001b[0;34m\u001b[0m\u001b[0;34m\u001b[0m\u001b[0m\n\u001b[0m\u001b[1;32m      5\u001b[0m     \u001b[0mnew_wts\u001b[0m \u001b[0;34m=\u001b[0m \u001b[0mweights\u001b[0m \u001b[0;34m*\u001b[0m \u001b[0;36m2.20462\u001b[0m\u001b[0;34m\u001b[0m\u001b[0;34m\u001b[0m\u001b[0m\n\u001b[1;32m      6\u001b[0m \u001b[0;34m\u001b[0m\u001b[0m\n",
      "\u001b[0;31mTypeError\u001b[0m: can't multiply sequence by non-int of type 'float'"
     ]
    }
   ],
   "source": [
    "%load_ext line_profiler\n",
    "%lprun -f convert_units_broadcast convert_units_broadcast(heroes, hts, wts)"
   ]
  },
  {
   "cell_type": "markdown",
   "id": "rocky-level",
   "metadata": {},
   "source": [
    "## Pop quiz: steps for using %mprun\n",
    "\n",
    "Suppose you have a list of superheroes (named `heroes`) along with each hero's height (in centimeters) and weight (in kilograms) loaded as NumPy arrays (named `hts` and `wts`, respectively). You also have a `convert_units()` function saved in a file titled `hero_funcs.py`.\n",
    "\n",
    "What are the necessary steps you need to take in order to profile the `convert_units()` function acting on your superheroes data if you'd like to see the line-by-line memory consumption of `convert_units()`?"
   ]
  },
  {
   "cell_type": "markdown",
   "id": "confident-quality",
   "metadata": {},
   "source": [
    "Use the command `from hero_funcs import convert_units` to load the function you'd like to profile.\n",
    "\n",
    "Use `%load_ext memory_profiler` to load the `memory_profiler` within your IPython session.\n",
    "\n",
    "Use `%mprun -f convert_units convert_units(heroes, hts, wts)` to get line-by-line memory allocations."
   ]
  },
  {
   "cell_type": "markdown",
   "id": "binding-remove",
   "metadata": {},
   "source": [
    "## Using %mprun: Hero BMI\n",
    "\n",
    "You'd like to calculate the body mass index (BMI) for a selected sample of heroes. BMI can be calculated using the below formula:\n",
    "\n",
    "`BMI = mass(kg) / height(m)^2`\n",
    "\n",
    "A random sample of 25,000 superheroes has been loaded into your session as an array called `sample_indices`. This sample is a list of _indices_ that corresponds to each superhero's index selected from the _heroes_ list.\n",
    "\n",
    "A function named `calc_bmi_lists` has also been created and saved to a file titled `bmi_lists.py`. For convenience, it is displayed below:\n",
    "\n",
    "```\n",
    "def calc_bmi_lists(sample_indices, hts, wts):\n",
    "    # Gather sample heights and weights as lists\n",
    "    s_hts = [hts[i] for i in sample_indices]\n",
    "    s_wts = [wts[i] for i in sample_indices]\n",
    "    # Convert heights from cm to m and square with list comprehension\n",
    "    s_hts_m_sqr = [(ht / 100) ** 2 for ht in s_hts]\n",
    "    # Calculate BMIs as a list with list comprehension\n",
    "    bmis = [s_wts[i] / s_hts_m_sqr[i] for i in range(len(sample_indices))]\n",
    "    return bmis\n",
    "```\n",
    "\n",
    "Notice that this function performs all necessary calculations using **list comprehension** (hence the name `calc_bmi_lists()`). Dig deeper into this function and analyze the memory footprint for performing your calculations using **lists**:\n",
    "\n",
    "- Load the `memory_profiler` package into your IPython session.\n",
    "- Import `calc_bmi_lists` from `bmi_lists`.\n",
    "- Once you've completed the above steps, use `%mprun` to profile the `calc_bmi_lists()` function acting on your superheroes data. The `hts` array and `wts` array have already been loaded into your session.\n",
    "\n",
    "After you've finished coding, answer the following question:\n",
    "\n",
    "How much memory do the list comprehension lines of code consume in the `calc_bmi_lists()` function? (i.e., what is the total sum of the `Increment` column for these four lines of code?)"
   ]
  },
  {
   "cell_type": "markdown",
   "id": "green-catering",
   "metadata": {},
   "source": [
    "## Using %mprun: Hero BMI 2.0\n",
    "\n",
    "Let's see if using a different approach to calculate the BMIs can save some memory. If you remember, each hero's height and weight is stored in a `numpy` array. That means you can use NumPy's handy array indexing capabilities and broadcasting to perform your calculations. A function named `calc_bmi_arrays` has been created and saved to a file titled `bmi_arrays.py`. For convenience, it is displayed below:\n",
    "\n",
    "```\n",
    "def calc_bmi_arrays(sample_indices, hts, wts):\n",
    "    # Gather sample heights and weights as arrays\n",
    "    s_hts = hts[sample_indices]\n",
    "    s_wts = wts[sample_indices]\n",
    "    # Convert heights from cm to m and square with broadcasting\n",
    "    s_hts_m_sqr = (s_hts / 100) ** 2\n",
    "    # Calculate BMIs as an array using broadcasting\n",
    "    bmis = s_wts / s_hts_m_sqr\n",
    "    return bmis\n",
    "```\n",
    "\n",
    "Notice that this function performs all necessary calculations using **arrays**.\n",
    "\n",
    "Let's see if this updated array approach decreases your memory footprint:\n",
    "\n",
    "- Load the `memory_profiler` package into your IPython session.\n",
    "- Import `calc_bmi_arrays` from `bmi_arrays`.\n",
    "- Once you've completed the above steps, use `%mprun` to profile the `calc_bmi_arrays()` function acting on your superheroes data. The `sample_indices` array, `hts` array, and `wts` array have been loaded into your session.\n",
    "\n",
    "After you've finished coding, answer the following question:\n",
    "\n",
    "How much memory do the array indexing and broadcasting lines of code consume in the `calc_bmi_array()` function? (i.e., what is the total sum of the `Increment` column for these four lines of code?)"
   ]
  },
  {
   "cell_type": "markdown",
   "id": "beneficial-nightlife",
   "metadata": {},
   "source": [
    "## Bringing it all together: Star Wars profiling\n",
    "\n",
    "A list of 480 superheroes has been loaded into your session (called `heroes`) as well as a list of each hero's corresponding publisher (called `publishers`).\n",
    "\n",
    "You'd like to filter the `heroes` list based on a hero's specific publisher, but are unsure which of the below functions is more efficient.\n",
    "\n",
    "```\n",
    "def get_publisher_heroes(heroes, publishers, desired_publisher):\n",
    "    desired_heroes = []\n",
    "    for i,pub in enumerate(publishers):\n",
    "        if pub == desired_publisher:\n",
    "            desired_heroes.append(heroes[i])\n",
    "    return desired_heroes\n",
    "```\n",
    "\n",
    "```\n",
    "def get_publisher_heroes_np(heroes, publishers, desired_publisher):\n",
    "    heroes_np = np.array(heroes)\n",
    "    pubs_np = np.array(publishers)\n",
    "    desired_heroes = heroes_np[pubs_np == desired_publisher]\n",
    "    return desired_heroes\n",
    "```\n",
    "\n",
    "Instructions\n",
    "\n",
    "1. Use the `get_publisher_heroes()` function and the `get_publisher_heroes_np()` function to collect heroes from the Star Wars universe. The `desired_publisher` for Star Wars is `'George Lucas'`.\n",
    "2. Within your IPython console, load the `line_profiler` and use `%lprun` to profile the two functions for line-by-line runtime. When using `%lprun`, use each function to gather the Star Wars heroes as you did in the previous step. After you've finished profiling, answer the following question: Which function has the fastest runtime?\n",
    "3. Within your IPython console, load the `memory_profiler` and use `%mprun` to profile the two functions for line-by-line memory consumption. The `get_publisher_heroes()` function and `get_publisher_heroes_np()` function have been saved within a file titled `hero_funcs.py` (i.e., you can import both functions from `hero_funcs`). When using `%mprun`, use each function to gather the Star Wars heroes as you did in the previous step. After you've finished profiling, answer the following question: Which function uses the least amount of memory?\n",
    "4. Based on your runtime profiling and memory allocation profiling, which function would you choose to gather Star Wars heroes?"
   ]
  },
  {
   "cell_type": "code",
   "execution_count": 33,
   "id": "rocky-guitar",
   "metadata": {},
   "outputs": [],
   "source": [
    "# List\n",
    "heroes = ['A-Bomb', 'Abe Sapien', 'Abin Sur', 'Abomination', 'Absorbing Man', 'Adam Strange', 'Agent 13', 'Agent Bob', 'Agent Zero', 'Air-Walker', 'Ajax', 'Alan Scott', 'Alfred Pennyworth', 'Alien', 'Amazo', 'Ammo', 'Angel', 'Angel Dust', 'Angel Salvadore', 'Animal Man', 'Annihilus', 'Ant-Man', 'Ant-Man II', 'Anti-Venom', 'Apocalypse', 'Aqualad', 'Aquaman', 'Arachne', 'Archangel', 'Arclight', 'Ardina', 'Ares', 'Ariel', 'Armor', 'Atlas', 'Atom', 'Atom Girl', 'Atom II', 'Aurora', 'Azazel', 'Bane', 'Banshee', 'Bantam', 'Batgirl', 'Batgirl IV', 'Batgirl VI', 'Batman', 'Batman II', 'Battlestar', 'Beak', 'Beast', 'Beast Boy', 'Beta Ray Bill', 'Big Barda', 'Big Man', 'Binary', 'Bishop', 'Bizarro', 'Black Adam', 'Black Bolt', 'Black Canary', 'Black Cat', 'Black Knight III', 'Black Lightning', 'Black Mamba', 'Black Manta', 'Black Panther', 'Black Widow', 'Black Widow II', 'Blackout', 'Blackwing', 'Blackwulf', 'Blade', 'Bling!', 'Blink', 'Blizzard II', 'Blob', 'Bloodaxe', 'Blue Beetle II', 'Boom-Boom', 'Booster Gold', 'Box III', 'Brainiac', 'Brainiac 5', 'Brother Voodoo', 'Buffy', 'Bullseye', 'Bumblebee', 'Cable', 'Callisto', 'Cannonball', 'Captain America', 'Captain Atom', 'Captain Britain', 'Captain Mar-vell', 'Captain Marvel', 'Captain Marvel II', 'Carnage', 'Cat', 'Catwoman', 'Cecilia Reyes', 'Century', 'Chamber', 'Changeling', 'Cheetah', 'Cheetah II', 'Cheetah III', 'Chromos', 'Citizen Steel', 'Cloak', 'Clock King', 'Colossus', 'Copycat', 'Corsair', 'Cottonmouth', 'Crimson Dynamo', 'Crystal', 'Cyborg', 'Cyclops', 'Cypher', 'Dagger', 'Daredevil', 'Darkhawk', 'Darkseid', 'Darkstar', 'Darth Vader', 'Dash', 'Dazzler', 'Deadman', 'Deadpool', 'Deadshot', 'Deathlok', 'Deathstroke', 'Demogoblin', 'Destroyer', 'Diamondback', 'Doc Samson', 'Doctor Doom', 'Doctor Doom II', 'Doctor Fate', 'Doctor Octopus', 'Doctor Strange', 'Domino', 'Donna Troy', 'Doomsday', 'Doppelganger', 'Drax the Destroyer', 'Elastigirl', 'Electro', 'Elektra', 'Elongated Man', 'Emma Frost', 'Enchantress', 'Etrigan', 'Evil Deadpool', 'Evilhawk', 'Exodus', 'Fabian Cortez', 'Falcon', 'Feral', 'Fin Fang Foom', 'Firebird', 'Firelord', 'Firestar', 'Firestorm', 'Flash', 'Flash II', 'Flash III', 'Flash IV', 'Forge', 'Franklin Richards', 'Franklin Storm', 'Frenzy', 'Frigga', 'Galactus', 'Gambit', 'Gamora', 'Genesis', 'Ghost Rider', 'Giganta', 'Gladiator', 'Goblin Queen', 'Goku', 'Goliath IV', 'Gorilla Grodd', 'Granny Goodness', 'Gravity', 'Green Arrow', 'Green Goblin', 'Green Goblin II', 'Green Goblin III', 'Green Goblin IV', 'Groot', 'Guy Gardner', 'Hal Jordan', 'Han Solo', 'Harley Quinn', 'Havok', 'Hawk', 'Hawkeye', 'Hawkeye II', 'Hawkgirl', 'Hawkman', 'Hawkwoman', 'Hawkwoman III', 'Heat Wave', 'Hela', 'Hellboy', 'Hellcat', 'Hellstorm', 'Hercules', 'Hobgoblin', 'Hope Summers', 'Howard the Duck', 'Hulk', 'Human Torch', 'Huntress', 'Husk', 'Hybrid', 'Hydro-Man', 'Hyperion', 'Iceman', 'Impulse', 'Ink', 'Invisible Woman', 'Iron Fist', 'Iron Man', 'Jack of Hearts', 'Jack-Jack', 'James T. Kirk', 'Jean Grey', 'Jennifer Kale', 'Jessica Jones', 'Jigsaw', 'John Stewart', 'John Wraith', 'Joker', 'Jolt', 'Jubilee', 'Juggernaut', 'Justice', 'Kang', 'Karate Kid', 'Killer Croc', 'Kilowog', 'Kingpin', 'Klaw', 'Kraven II', 'Kraven the Hunter', 'Krypto', 'Kyle Rayner', 'Lady Deathstrike', 'Leader', 'Legion', 'Lex Luthor', 'Light Lass', 'Lightning Lad', 'Lightning Lord', 'Living Brain', 'Lizard', 'Lobo', 'Loki', 'Longshot', 'Luke Cage', 'Luke Skywalker', 'Mach-IV', 'Machine Man', 'Magneto', 'Man-Thing', 'Man-Wolf', 'Mandarin', 'Mantis', 'Martian Manhunter', 'Marvel Girl', 'Master Brood', 'Maverick', 'Maxima', 'Medusa', 'Meltdown', 'Mephisto', 'Mera', 'Metallo', 'Metamorpho', 'Metron', 'Micro Lad', 'Mimic', 'Miss Martian', 'Mister Fantastic', 'Mister Freeze', 'Mister Sinister', 'Mockingbird', 'MODOK', 'Molten Man', 'Monarch', 'Moon Knight', 'Moonstone', 'Morlun', 'Morph', 'Moses Magnum', 'Mr Immortal', 'Mr Incredible', 'Ms Marvel II', 'Multiple Man', 'Mysterio', 'Mystique', 'Namor', 'Namora', 'Namorita', 'Naruto Uzumaki', 'Nebula', 'Nick Fury', 'Nightcrawler', 'Nightwing', 'Northstar', 'Nova', 'Odin', 'Omega Red', 'Omniscient', 'One Punch Man', 'Onslaught', 'Oracle', 'Paul Blart', 'Penance II', 'Penguin', 'Phantom Girl', 'Phoenix', 'Plantman', 'Plastic Man', 'Plastique', 'Poison Ivy', 'Polaris', 'Power Girl', 'Predator', 'Professor X', 'Professor Zoom', 'Psylocke', 'Punisher', 'Purple Man', 'Pyro', 'Question', 'Quicksilver', 'Quill', \"Ra's Al Ghul\", 'Raven', 'Ray', 'Razor-Fist II', 'Red Arrow', 'Red Hood', 'Red Hulk', 'Red Robin', 'Red Skull', 'Red Tornado', 'Rhino', 'Rick Flag', 'Ripcord', 'Robin', 'Robin II', 'Robin III', 'Robin V', 'Rocket Raccoon', 'Rogue', 'Ronin', 'Rorschach', 'Sabretooth', 'Sage', 'Sandman', 'Sasquatch', 'Scarecrow', 'Scarlet Spider', 'Scarlet Spider II', 'Scarlet Witch', 'Scorpion', 'Sentry', 'Shadow King', 'Shadow Lass', 'Shadowcat', 'Shang-Chi', 'Shatterstar', 'She-Hulk', 'She-Thing', 'Shocker', 'Shriek', 'Sif', 'Silver Surfer', 'Silverclaw', 'Sinestro', 'Siren', 'Siryn', 'Skaar', 'Snowbird', 'Solomon Grundy', 'Songbird', 'Space Ghost', 'Spawn', 'Spider-Girl', 'Spider-Gwen', 'Spider-Man', 'Spider-Woman', 'Spider-Woman III', 'Spider-Woman IV', 'Spock', 'Spyke', 'Star-Lord', 'Starfire', 'Stargirl', 'Static', 'Steel', 'Steppenwolf', 'Storm', 'Sunspot', 'Superboy', 'Superboy-Prime', 'Supergirl', 'Superman', 'Swarm', 'Synch', 'T-1000', 'Taskmaster', 'Tempest', 'Thanos', 'The Comedian', 'Thing', 'Thor', 'Thor Girl', 'Thunderbird', 'Thunderbird III', 'Thunderstrike', 'Thundra', 'Tiger Shark', 'Tigra', 'Tinkerer', 'Toad', 'Toxin', 'Trickster', 'Triplicate Girl', 'Triton', 'Two-Face', 'Ultragirl', 'Ultron', 'Utgard-Loki', 'Vagabond', 'Valerie Hart', 'Valkyrie', 'Vanisher', 'Vegeta', 'Venom', 'Venom II', 'Venom III', 'Vertigo II', 'Vibe', 'Vindicator', 'Violet Parr', 'Vision', 'Vision II', 'Vixen', 'Vulture', 'Walrus', 'War Machine', 'Warbird', 'Warlock', 'Warp', 'Warpath', 'Wasp', 'White Queen', 'Winter Soldier', 'Wiz Kid', 'Wolfsbane', 'Wolverine', 'Wonder Girl', 'Wonder Man', 'Wonder Woman', 'Wyatt Wingfoot', 'X-23', 'X-Man', 'Yellow Claw', 'Yellowjacket', 'Yellowjacket II', 'Yoda', 'Zatanna', 'Zoom']\n",
    "publishers = ['Marvel Comics', 'Dark Horse Comics', 'DC Comics', 'Marvel Comics', 'Marvel Comics', 'DC Comics', 'Marvel Comics', 'Marvel Comics', 'Marvel Comics', 'Marvel Comics', 'Marvel Comics', 'DC Comics', 'DC Comics', 'Dark Horse Comics', 'DC Comics', 'Marvel Comics', 'Marvel Comics', 'Marvel Comics', 'Marvel Comics', 'DC Comics', 'Marvel Comics', 'Marvel Comics', 'Marvel Comics', 'Marvel Comics', 'Marvel Comics', 'DC Comics', 'DC Comics', 'Marvel Comics', 'Marvel Comics', 'Marvel Comics', 'Marvel Comics', 'Marvel Comics', 'Marvel Comics', 'Marvel Comics', 'Marvel Comics', 'DC Comics', 'DC Comics', 'DC Comics', 'Marvel Comics', 'Marvel Comics', 'DC Comics', 'Marvel Comics', 'Marvel Comics', 'DC Comics', 'DC Comics', 'DC Comics', 'DC Comics', 'DC Comics', 'Marvel Comics', 'Marvel Comics', 'Marvel Comics', 'DC Comics', 'Marvel Comics', 'DC Comics', 'Marvel Comics', 'Marvel Comics', 'Marvel Comics', 'DC Comics', 'DC Comics', 'Marvel Comics', 'DC Comics', 'Marvel Comics', 'Marvel Comics', 'DC Comics', 'Marvel Comics', 'DC Comics', 'Marvel Comics', 'Marvel Comics', 'Marvel Comics', 'Marvel Comics', 'Marvel Comics', 'Marvel Comics', 'Marvel Comics', 'Marvel Comics', 'Marvel Comics', 'Marvel Comics', 'Marvel Comics', 'Marvel Comics', 'DC Comics', 'Marvel Comics', 'DC Comics', 'Marvel Comics', 'DC Comics', 'DC Comics', 'Marvel Comics', 'Dark Horse Comics', 'Marvel Comics', 'DC Comics', 'Marvel Comics', 'Marvel Comics', 'Marvel Comics', 'Marvel Comics', 'DC Comics', 'Marvel Comics', 'Marvel Comics', 'Marvel Comics', 'DC Comics', 'Marvel Comics', 'Marvel Comics', 'DC Comics', 'Marvel Comics', 'Marvel Comics', 'Marvel Comics', 'Marvel Comics', 'DC Comics', 'DC Comics', 'DC Comics', 'Team Epic TV', 'DC Comics', 'Marvel Comics', 'DC Comics', 'Marvel Comics', 'Marvel Comics', 'Marvel Comics', 'Marvel Comics', 'Marvel Comics', 'Marvel Comics', 'DC Comics', 'Marvel Comics', 'Marvel Comics', 'Marvel Comics', 'Marvel Comics', 'Marvel Comics', 'DC Comics', 'Marvel Comics', 'George Lucas', 'Dark Horse Comics', 'Marvel Comics', 'DC Comics', 'Marvel Comics', 'DC Comics', 'Marvel Comics', 'DC Comics', 'Marvel Comics', 'Marvel Comics', 'Marvel Comics', 'Marvel Comics', 'Marvel Comics', 'Marvel Comics', 'DC Comics', 'Marvel Comics', 'Marvel Comics', 'Marvel Comics', 'DC Comics', 'DC Comics', 'Marvel Comics', 'Marvel Comics', 'Dark Horse Comics', 'Marvel Comics', 'Marvel Comics', 'DC Comics', 'Marvel Comics', 'DC Comics', 'DC Comics', 'Marvel Comics', 'Marvel Comics', 'Marvel Comics', 'Marvel Comics', 'Marvel Comics', 'Marvel Comics', 'Marvel Comics', 'Marvel Comics', 'Marvel Comics', 'Marvel Comics', 'DC Comics', 'DC Comics', 'DC Comics', 'DC Comics', 'DC Comics', 'Marvel Comics', 'Marvel Comics', 'Marvel Comics', 'Marvel Comics', 'Marvel Comics', 'Marvel Comics', 'Marvel Comics', 'Marvel Comics', 'Marvel Comics', 'Marvel Comics', 'DC Comics', 'Marvel Comics', 'Marvel Comics', 'Shueisha', 'Marvel Comics', 'DC Comics', 'DC Comics', 'Marvel Comics', 'DC Comics', 'Marvel Comics', 'Marvel Comics', 'Marvel Comics', 'Marvel Comics', 'Marvel Comics', 'DC Comics', 'DC Comics', 'George Lucas', 'DC Comics', 'Marvel Comics', 'DC Comics', 'Marvel Comics', 'Marvel Comics', 'DC Comics', 'DC Comics', 'DC Comics', 'DC Comics', 'DC Comics', 'Marvel Comics', 'Dark Horse Comics', 'Marvel Comics', 'Marvel Comics', 'Marvel Comics', 'Marvel Comics', 'Marvel Comics', 'Marvel Comics', 'Marvel Comics', 'Marvel Comics', 'DC Comics', 'Marvel Comics', 'Marvel Comics', 'Marvel Comics', 'Marvel Comics', 'Marvel Comics', 'DC Comics', 'Marvel Comics', 'Marvel Comics', 'Marvel Comics', 'Marvel Comics', 'Marvel Comics', 'Dark Horse Comics', 'Star Trek', 'Marvel Comics', 'Marvel Comics', 'Marvel Comics', 'Marvel Comics', 'DC Comics', 'Marvel Comics', 'DC Comics', 'Marvel Comics', 'Marvel Comics', 'Marvel Comics', 'Marvel Comics', 'Marvel Comics', 'DC Comics', 'DC Comics', 'DC Comics', 'Marvel Comics', 'Marvel Comics', 'Marvel Comics', 'Marvel Comics', 'DC Comics', 'DC Comics', 'Marvel Comics', 'Marvel Comics', 'Marvel Comics', 'DC Comics', 'DC Comics', 'DC Comics', 'DC Comics', 'Marvel Comics', 'Marvel Comics', 'DC Comics', 'Marvel Comics', 'Marvel Comics', 'Marvel Comics', 'George Lucas', 'Marvel Comics', 'Marvel Comics', 'Marvel Comics', 'Marvel Comics', 'Marvel Comics', 'Marvel Comics', 'Marvel Comics', 'DC Comics', 'Marvel Comics', 'Team Epic TV', 'Marvel Comics', 'DC Comics', 'Marvel Comics', 'Marvel Comics', 'Marvel Comics', 'DC Comics', 'DC Comics', 'DC Comics', 'DC Comics', 'DC Comics', 'Marvel Comics', 'DC Comics', 'Marvel Comics', 'DC Comics', 'Marvel Comics', 'Marvel Comics', 'Marvel Comics', 'Marvel Comics', 'DC Comics', 'Marvel Comics', 'Marvel Comics', 'Marvel Comics', 'Marvel Comics', 'Marvel Comics', 'Marvel Comics', 'Dark Horse Comics', 'Marvel Comics', 'Marvel Comics', 'Marvel Comics', 'Marvel Comics', 'Marvel Comics', 'Marvel Comics', 'Marvel Comics', 'Shueisha', 'Marvel Comics', 'Marvel Comics', 'Marvel Comics', 'DC Comics', 'Marvel Comics', 'Marvel Comics', 'Marvel Comics', 'Marvel Comics', 'Team Epic TV', 'Shueisha', 'Marvel Comics', 'DC Comics', 'Sony Pictures', 'Marvel Comics', 'DC Comics', 'DC Comics', 'Marvel Comics', 'Marvel Comics', 'DC Comics', 'DC Comics', 'DC Comics', 'Marvel Comics', 'DC Comics', 'Dark Horse Comics', 'Marvel Comics', 'DC Comics', 'Marvel Comics', 'Marvel Comics', 'Marvel Comics', 'Marvel Comics', 'DC Comics', 'Marvel Comics', 'Marvel Comics', 'DC Comics', 'DC Comics', 'DC Comics', 'Marvel Comics', 'DC Comics', 'DC Comics', 'Marvel Comics', 'DC Comics', 'Marvel Comics', 'DC Comics', 'Marvel Comics', 'DC Comics', 'Marvel Comics', 'DC Comics', 'DC Comics', 'DC Comics', 'DC Comics', 'Marvel Comics', 'Marvel Comics', 'Marvel Comics', 'DC Comics', 'Marvel Comics', 'Marvel Comics', 'Marvel Comics', 'Marvel Comics', 'DC Comics', 'Marvel Comics', 'Marvel Comics', 'Marvel Comics', 'Marvel Comics', 'Marvel Comics', 'Marvel Comics', 'DC Comics', 'Marvel Comics', 'Marvel Comics', 'Marvel Comics', 'Marvel Comics', 'Marvel Comics', 'Marvel Comics', 'Marvel Comics', 'Marvel Comics', 'Marvel Comics', 'Marvel Comics', 'DC Comics', 'DC Comics', 'Marvel Comics', 'Marvel Comics', 'Marvel Comics', 'DC Comics', 'Marvel Comics', 'DC Comics', 'Image Comics', 'Marvel Comics', 'Marvel Comics', 'Marvel Comics', 'Marvel Comics', 'Marvel Comics', 'Marvel Comics', 'Star Trek', 'Marvel Comics', 'Marvel Comics', 'DC Comics', 'DC Comics', 'DC Comics', 'DC Comics', 'DC Comics', 'Marvel Comics', 'Marvel Comics', 'DC Comics', 'DC Comics', 'DC Comics', 'DC Comics', 'Marvel Comics', 'Marvel Comics', 'Dark Horse Comics', 'Marvel Comics', 'Marvel Comics', 'Marvel Comics', 'DC Comics', 'Marvel Comics', 'Marvel Comics', 'Marvel Comics', 'Marvel Comics', 'Marvel Comics', 'Marvel Comics', 'Marvel Comics', 'Marvel Comics', 'Marvel Comics', 'Marvel Comics', 'Marvel Comics', 'Marvel Comics', 'DC Comics', 'DC Comics', 'Marvel Comics', 'DC Comics', 'Marvel Comics', 'Marvel Comics', 'Marvel Comics', 'Marvel Comics', 'Team Epic TV', 'Marvel Comics', 'Marvel Comics', 'Shueisha', 'Marvel Comics', 'Marvel Comics', 'Marvel Comics', 'Marvel Comics', 'DC Comics', 'Marvel Comics', 'Dark Horse Comics', 'Marvel Comics', 'Marvel Comics', 'DC Comics', 'Marvel Comics', 'Marvel Comics', 'Marvel Comics', 'Marvel Comics', 'Marvel Comics', 'DC Comics', 'Marvel Comics', 'Marvel Comics', 'Marvel Comics', 'Marvel Comics', 'Marvel Comics', 'Marvel Comics', 'Marvel Comics', 'DC Comics', 'Marvel Comics', 'DC Comics', 'Marvel Comics', 'Marvel Comics', 'Marvel Comics', 'Marvel Comics', 'Marvel Comics', 'Marvel Comics', 'George Lucas', 'DC Comics', 'DC Comics']\n",
    "\n",
    "# Define function\n",
    "def get_publisher_heroes(heroes, publishers, desired_publisher):\n",
    "    desired_heroes = []\n",
    "    for i,pub in enumerate(publishers):\n",
    "        if pub == desired_publisher:\n",
    "            desired_heroes.append(heroes[i])\n",
    "    return desired_heroes\n",
    "\n",
    "def get_publisher_heroes_np(heroes, publishers, desired_publisher):\n",
    "    heroes_np = np.array(heroes)\n",
    "    pubs_np = np.array(publishers)\n",
    "    desired_heroes = heroes_np[pubs_np == desired_publisher]\n",
    "    return desired_heroes"
   ]
  },
  {
   "cell_type": "code",
   "execution_count": 34,
   "id": "automatic-season",
   "metadata": {},
   "outputs": [
    {
     "name": "stdout",
     "output_type": "stream",
     "text": [
      "['Darth Vader', 'Han Solo', 'Luke Skywalker', 'Yoda']\n",
      "<class 'list'>\n",
      "['Darth Vader' 'Han Solo' 'Luke Skywalker' 'Yoda']\n",
      "<class 'numpy.ndarray'>\n"
     ]
    }
   ],
   "source": [
    "# Use get_publisher_heroes() to gather Star Wars heroes\n",
    "star_wars_heroes = get_publisher_heroes(heroes, publishers, 'George Lucas')\n",
    "\n",
    "print(star_wars_heroes)\n",
    "print(type(star_wars_heroes))\n",
    "\n",
    "# Use get_publisher_heroes_np() to gather Star Wars heroes\n",
    "star_wars_heroes_np = get_publisher_heroes_np(heroes, publishers, 'George Lucas')\n",
    "\n",
    "print(star_wars_heroes_np)\n",
    "print(type(star_wars_heroes_np))"
   ]
  }
 ],
 "metadata": {
  "kernelspec": {
   "display_name": "Python 3",
   "language": "python",
   "name": "python3"
  },
  "language_info": {
   "codemirror_mode": {
    "name": "ipython",
    "version": 3
   },
   "file_extension": ".py",
   "mimetype": "text/x-python",
   "name": "python",
   "nbconvert_exporter": "python",
   "pygments_lexer": "ipython3",
   "version": "3.8.5"
  },
  "toc": {
   "base_numbering": 1,
   "nav_menu": {},
   "number_sections": true,
   "sideBar": true,
   "skip_h1_title": false,
   "title_cell": "Table of Contents",
   "title_sidebar": "Contents",
   "toc_cell": false,
   "toc_position": {},
   "toc_section_display": true,
   "toc_window_display": false
  },
  "varInspector": {
   "cols": {
    "lenName": 16,
    "lenType": 16,
    "lenVar": 40
   },
   "kernels_config": {
    "python": {
     "delete_cmd_postfix": "",
     "delete_cmd_prefix": "del ",
     "library": "var_list.py",
     "varRefreshCmd": "print(var_dic_list())"
    },
    "r": {
     "delete_cmd_postfix": ") ",
     "delete_cmd_prefix": "rm(",
     "library": "var_list.r",
     "varRefreshCmd": "cat(var_dic_list()) "
    }
   },
   "types_to_exclude": [
    "module",
    "function",
    "builtin_function_or_method",
    "instance",
    "_Feature"
   ],
   "window_display": false
  }
 },
 "nbformat": 4,
 "nbformat_minor": 5
}
