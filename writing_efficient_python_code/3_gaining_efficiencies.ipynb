{
 "cells": [
  {
   "cell_type": "markdown",
   "id": "electoral-overhead",
   "metadata": {},
   "source": [
    "## Combining Pokémon names and types\n",
    "\n",
    "Three lists have been loaded into your session from a dataset that contains 720 Pokémon:\n",
    "\n",
    "- The `names` list contains the names of each Pokémon.\n",
    "- The `primary_types` list contains the corresponding **primary** type of each Pokémon.\n",
    "- The `secondary_types` list contains the corresponding **secondary** type of each Pokémon (`nan` if the Pokémon has only one type).\n",
    "\n",
    "We want to combine each Pokémon's name and types together so that you easily see a description of each Pokémon. Practice using `zip()` to accomplish this task.\n",
    "\n",
    "Instructions\n",
    "\n",
    "1. Combine the `names` list and the `primary_types` list into a new list object (called `names_type1`).\n",
    "2. Combine `names`, `primary_types`, and `secondary_types` (in that order) using `zip()` and unpack the _zip object_ into a new list.\n",
    "3. Use `zip()` to combine the **first five items** from the `names` list and the **first three items** from the `primary_types` list."
   ]
  },
  {
   "cell_type": "code",
   "execution_count": 5,
   "id": "ceramic-happiness",
   "metadata": {},
   "outputs": [],
   "source": [
    "# List\n",
    "names = ['Abomasnow', 'Abra', 'Absol', 'Accelgor', 'Aerodactyl', 'Aggron', 'Aipom', 'Alakazam', 'Alomomola', 'Altaria', 'Amaura', 'Ambipom', 'Amoonguss', 'Ampharos', 'Anorith', 'Arbok', 'Arcanine', 'Arceus', 'Archen', 'Archeops', 'Ariados', 'Armaldo', 'Aromatisse', 'Aron', 'Articuno', 'Audino', 'Aurorus', 'Avalugg', 'Axew', 'Azelf', 'Azumarill', 'Azurill', 'Bagon', 'Baltoy', 'Banette', 'Barbaracle', 'Barboach', 'Basculin', 'Bastiodon', 'Bayleef', 'Beartic', 'Beautifly', 'Beedrill', 'Beheeyem', 'Beldum', 'Bellossom', 'Bellsprout', 'Bergmite', 'Bibarel', 'Bidoof', 'Binacle', 'Bisharp', 'Blastoise', 'Blaziken', 'Blissey', 'Blitzle', 'Boldore', 'Bonsly', 'Bouffalant', 'Braixen', 'Braviary', 'Breloom', 'Bronzong', 'Bronzor', 'Budew', 'Buizel', 'Bulbasaur', 'Buneary', 'Bunnelby', 'Burmy', 'Butterfree', 'Cacnea', 'Cacturne', 'Camerupt', 'Carbink', 'Carnivine', 'Carracosta', 'Carvanha', 'Cascoon', 'Castform', 'Caterpie', 'Celebi', 'Chandelure', 'Chansey', 'Charizard', 'Charmander', 'Charmeleon', 'Chatot', 'Cherrim', 'Cherubi', 'Chesnaught', 'Chespin', 'Chikorita', 'Chimchar', 'Chimecho', 'Chinchou', 'Chingling', 'Cinccino', 'Clamperl', 'Clauncher', 'Clawitzer', 'Claydol', 'Clefable', 'Clefairy', 'Cleffa', 'Cloyster', 'Cobalion', 'Cofagrigus', 'Combee', 'Combusken', 'Conkeldurr', 'Corphish', 'Corsola', 'Cottonee', 'Cradily', 'Cranidos', 'Crawdaunt', 'Cresselia', 'Croagunk', 'Crobat', 'Croconaw', 'Crustle', 'Cryogonal', 'Cubchoo', 'Cubone', 'Cyndaquil', 'Darkrai', 'DarmanitanStandard Mode', 'DarmanitanZen Mode', 'Darumaka', 'Dedenne', 'Deerling', 'Deino', 'Delcatty', 'Delibird', 'Delphox', 'Dewgong', 'Dewott', 'Dialga', 'Diancie', 'Diggersby', 'Diglett', 'Ditto', 'Dodrio', 'Doduo', 'Donphan', 'Doublade', 'Dragalge', 'Dragonair', 'Dragonite', 'Drapion', 'Dratini', 'Drifblim', 'Drifloon', 'Drilbur', 'Drowzee', 'Druddigon', 'Ducklett', 'Dugtrio', 'Dunsparce', 'Duosion', 'Durant', 'Dusclops', 'Dusknoir', 'Duskull', 'Dustox', 'Dwebble', 'Eelektrik', 'Eelektross', 'Eevee', 'Ekans', 'Electabuzz', 'Electivire', 'Electrike', 'Electrode', 'Elekid', 'Elgyem', 'Emboar', 'Emolga', 'Empoleon', 'Entei', 'Escavalier', 'Espeon', 'Espurr', 'Excadrill', 'Exeggcute', 'Exeggutor', 'Exploud', \"Farfetch'd\", 'Fearow', 'Feebas', 'Fennekin', 'Feraligatr', 'Ferroseed', 'Ferrothorn', 'Finneon', 'Flaaffy', 'Flabébé', 'Flareon', 'Fletchinder', 'Fletchling', 'Floatzel', 'Floette', 'Florges', 'Flygon', 'Foongus', 'Forretress', 'Fraxure', 'Frillish', 'Froakie', 'Frogadier', 'Froslass', 'Furfrou', 'Furret', 'Gabite', 'Gallade', 'Galvantula', 'Garbodor', 'Garchomp', 'Gardevoir', 'Gastly', 'Gastrodon', 'Genesect', 'Gengar', 'Geodude', 'Gible', 'Gigalith', 'Girafarig', 'Glaceon', 'Glalie', 'Glameow', 'Gligar', 'Gliscor', 'Gloom', 'Gogoat', 'Golbat', 'Goldeen', 'Golduck', 'Golem', 'Golett', 'Golurk', 'Goodra', 'Goomy', 'Gorebyss', 'Gothita', 'Gothitelle', 'Gothorita', 'Granbull', 'Graveler', 'Greninja', 'Grimer', 'Grotle', 'Groudon', 'GroudonPrimal Groudon', 'Grovyle', 'Growlithe', 'Grumpig', 'Gulpin', 'Gurdurr', 'Gyarados', 'Happiny', 'Hariyama', 'Haunter', 'Hawlucha', 'Haxorus', 'Heatmor', 'Heatran', 'Heliolisk', 'Helioptile', 'Heracross', 'Herdier', 'Hippopotas', 'Hippowdon', 'Hitmonchan', 'Hitmonlee', 'Hitmontop', 'Ho-oh', 'Honchkrow', 'Honedge', 'Hoothoot', 'Hoppip', 'Horsea', 'Houndoom', 'Houndour', 'Huntail', 'Hydreigon', 'Hypno', 'Igglybuff', 'Illumise', 'Infernape', 'Inkay', 'Ivysaur', 'Jellicent', 'Jigglypuff', 'Jirachi', 'Jolteon', 'Joltik', 'Jumpluff', 'Jynx', 'Kabuto', 'Kabutops', 'Kadabra', 'Kakuna', 'Kangaskhan', 'Karrablast', 'Kecleon', 'Kingdra', 'Kingler', 'Kirlia', 'Klang', 'Klefki', 'Klink', 'Klinklang', 'Koffing', 'Krabby', 'Kricketot', 'Kricketune', 'Krokorok', 'Krookodile', 'Kyogre', 'KyogrePrimal Kyogre', 'Kyurem', 'KyuremBlack Kyurem', 'KyuremWhite Kyurem', 'Lairon', 'Lampent', 'Lanturn', 'Lapras', 'Larvesta', 'Larvitar', 'Latias', 'Latios', 'Leafeon', 'Leavanny', 'Ledian', 'Ledyba', 'Lickilicky', 'Lickitung', 'Liepard', 'Lileep', 'Lilligant', 'Lillipup', 'Linoone', 'Litleo', 'Litwick', 'Lombre', 'Lopunny', 'Lotad', 'Loudred', 'Lucario', 'Ludicolo', 'Lugia', 'Lumineon', 'Lunatone', 'Luvdisc', 'Luxio', 'Luxray', 'Machamp', 'Machoke', 'Machop', 'Magby', 'Magcargo', 'Magikarp', 'Magmar', 'Magmortar', 'Magnemite', 'Magneton', 'Magnezone', 'Makuhita', 'Malamar', 'Mamoswine', 'Manaphy', 'Mandibuzz', 'Manectric', 'Mankey', 'Mantine', 'Mantyke', 'Maractus', 'Mareep', 'Marill', 'Marowak', 'Marshtomp', 'Masquerain', 'Mawile', 'Medicham', 'Meditite', 'MeowsticFemale', 'MeowsticMale', 'Meowth', 'Mesprit', 'Metagross', 'Metang', 'Metapod', 'Mew', 'Mewtwo', 'Mienfoo', 'Mienshao', 'Mightyena', 'Milotic', 'Miltank', 'Mime Jr.', 'Minccino', 'Minun', 'Misdreavus', 'Mismagius', 'Moltres', 'Monferno', 'Mothim', 'Mr. Mime', 'Mudkip', 'Muk', 'Munchlax', 'Munna', 'Murkrow', 'Musharna', 'Natu', 'Nidoking', 'Nidoqueen', 'Nidoran♀', 'Nidoran♂', 'Nidorina', 'Nidorino', 'Nincada', 'Ninetales', 'Ninjask', 'Noctowl', 'Noibat', 'Noivern', 'Nosepass', 'Numel', 'Nuzleaf', 'Octillery', 'Oddish', 'Omanyte', 'Omastar', 'Onix', 'Oshawott', 'Pachirisu', 'Palkia', 'Palpitoad', 'Pancham', 'Pangoro', 'Panpour', 'Pansage', 'Pansear', 'Paras', 'Parasect', 'Patrat', 'Pawniard', 'Pelipper', 'Persian', 'Petilil', 'Phanpy', 'Phantump', 'Phione', 'Pichu', 'Pidgeot', 'Pidgeotto', 'Pidgey', 'Pidove', 'Pignite', 'Pikachu', 'Piloswine', 'Pineco', 'Pinsir', 'Piplup', 'Plusle', 'Politoed', 'Poliwag', 'Poliwhirl', 'Poliwrath', 'Ponyta', 'Poochyena', 'Porygon', 'Porygon-Z', 'Porygon2', 'Primeape', 'Prinplup', 'Probopass', 'Psyduck', 'Pupitar', 'Purrloin', 'Purugly', 'Pyroar', 'Quagsire', 'Quilava', 'Quilladin', 'Qwilfish', 'Raichu', 'Raikou', 'Ralts', 'Rampardos', 'Rapidash', 'Raticate', 'Rattata', 'Rayquaza', 'Regice', 'Regigigas', 'Regirock', 'Registeel', 'Relicanth', 'Remoraid', 'Reshiram', 'Reuniclus', 'Rhydon', 'Rhyhorn', 'Rhyperior', 'Riolu', 'Roggenrola', 'Roselia', 'Roserade', 'Rotom', 'RotomFan Rotom', 'RotomFrost Rotom', 'RotomHeat Rotom', 'RotomMow Rotom', 'RotomWash Rotom', 'Rufflet', 'Sableye', 'Salamence', 'Samurott', 'Sandile', 'Sandshrew', 'Sandslash', 'Sawk', 'Sawsbuck', 'Scatterbug', 'Sceptile', 'Scizor', 'Scolipede', 'Scrafty', 'Scraggy', 'Scyther', 'Seadra', 'Seaking', 'Sealeo', 'Seedot', 'Seel', 'Seismitoad', 'Sentret', 'Serperior', 'Servine', 'Seviper', 'Sewaddle', 'Sharpedo', 'Shedinja', 'Shelgon', 'Shellder', 'Shellos', 'Shelmet', 'Shieldon', 'Shiftry', 'Shinx', 'Shroomish', 'Shuckle', 'Shuppet', 'Sigilyph', 'Silcoon', 'Simipour', 'Simisage', 'Simisear', 'Skarmory', 'Skiddo', 'Skiploom', 'Skitty', 'Skorupi', 'Skrelp', 'Skuntank', 'Slaking', 'Slakoth', 'Sliggoo', 'Slowbro', 'Slowking', 'Slowpoke', 'Slugma', 'Slurpuff', 'Smeargle', 'Smoochum', 'Sneasel', 'Snivy', 'Snorlax', 'Snorunt', 'Snover', 'Snubbull', 'Solosis', 'Solrock', 'Spearow', 'Spewpa', 'Spheal', 'Spinarak', 'Spinda', 'Spiritomb', 'Spoink', 'Spritzee', 'Squirtle', 'Stantler', 'Staraptor', 'Staravia', 'Starly', 'Starmie', 'Staryu', 'Steelix', 'Stoutland', 'Stunfisk', 'Stunky', 'Sudowoodo', 'Suicune', 'Sunflora', 'Sunkern', 'Surskit', 'Swablu', 'Swadloon', 'Swalot', 'Swampert', 'Swanna', 'Swellow', 'Swinub', 'Swirlix', 'Swoobat', 'Sylveon', 'Taillow', 'Talonflame', 'Tangela', 'Tangrowth', 'Tauros', 'Teddiursa', 'Tentacool', 'Tentacruel', 'Tepig', 'Terrakion', 'Throh', 'Timburr', 'Tirtouga', 'Togekiss', 'Togepi', 'Togetic', 'Torchic', 'Torkoal', 'Torterra', 'Totodile', 'Toxicroak', 'Tranquill', 'Trapinch', 'Treecko', 'Trevenant', 'Tropius', 'Trubbish', 'Turtwig', 'Tympole', 'Tynamo', 'Typhlosion', 'Tyranitar', 'Tyrantrum', 'Tyrogue', 'Tyrunt', 'Umbreon', 'Unfezant', 'Unown', 'Ursaring', 'Uxie', 'Vanillish', 'Vanillite', 'Vanilluxe', 'Vaporeon', 'Venipede', 'Venomoth', 'Venonat', 'Venusaur', 'Vespiquen', 'Vibrava', 'Victini', 'Victreebel', 'Vigoroth', 'Vileplume', 'Virizion', 'Vivillon', 'Volbeat', 'Volcanion', 'Volcarona', 'Voltorb', 'Vullaby', 'Vulpix', 'Wailmer', 'Wailord', 'Walrein', 'Wartortle', 'Watchog', 'Weavile', 'Weedle', 'Weepinbell', 'Weezing', 'Whimsicott', 'Whirlipede', 'Whiscash', 'Whismur', 'Wigglytuff', 'Wingull', 'Wobbuffet', 'Woobat', 'Wooper', 'WormadamPlant Cloak', 'WormadamSandy Cloak', 'WormadamTrash Cloak', 'Wurmple', 'Wynaut', 'Xatu', 'Xerneas', 'Yamask', 'Yanma', 'Yanmega', 'Yveltal', 'Zangoose', 'Zapdos', 'Zebstrika', 'Zekrom', 'Zigzagoon', 'Zoroark', 'Zorua', 'Zubat', 'Zweilous']\n",
    "primary_types = ['Grass', 'Psychic', 'Dark', 'Bug', 'Rock', 'Steel', 'Normal', 'Psychic', 'Water', 'Dragon', 'Rock', 'Normal', 'Grass', 'Electric', 'Rock', 'Poison', 'Fire', 'Normal', 'Rock', 'Rock', 'Bug', 'Rock', 'Fairy', 'Steel', 'Ice', 'Normal', 'Rock', 'Ice', 'Dragon', 'Psychic', 'Water', 'Normal', 'Dragon', 'Ground', 'Ghost', 'Rock', 'Water', 'Water', 'Rock', 'Grass', 'Ice', 'Bug', 'Bug', 'Psychic', 'Steel', 'Grass', 'Grass', 'Ice', 'Normal', 'Normal', 'Rock', 'Dark', 'Water', 'Fire', 'Normal', 'Electric', 'Rock', 'Rock', 'Normal', 'Fire', 'Normal', 'Grass', 'Steel', 'Steel', 'Grass', 'Water', 'Grass', 'Normal', 'Normal', 'Bug', 'Bug', 'Grass', 'Grass', 'Fire', 'Rock', 'Grass', 'Water', 'Water', 'Bug', 'Normal', 'Bug', 'Psychic', 'Ghost', 'Normal', 'Fire', 'Fire', 'Fire', 'Normal', 'Grass', 'Grass', 'Grass', 'Grass', 'Grass', 'Fire', 'Psychic', 'Water', 'Psychic', 'Normal', 'Water', 'Water', 'Water', 'Ground', 'Fairy', 'Fairy', 'Fairy', 'Water', 'Steel', 'Ghost', 'Bug', 'Fire', 'Fighting', 'Water', 'Water', 'Grass', 'Rock', 'Rock', 'Water', 'Psychic', 'Poison', 'Poison', 'Water', 'Bug', 'Ice', 'Ice', 'Ground', 'Fire', 'Dark', 'Fire', 'Fire', 'Fire', 'Electric', 'Normal', 'Dark', 'Normal', 'Ice', 'Fire', 'Water', 'Water', 'Steel', 'Rock', 'Normal', 'Ground', 'Normal', 'Normal', 'Normal', 'Ground', 'Steel', 'Poison', 'Dragon', 'Dragon', 'Poison', 'Dragon', 'Ghost', 'Ghost', 'Ground', 'Psychic', 'Dragon', 'Water', 'Ground', 'Normal', 'Psychic', 'Bug', 'Ghost', 'Ghost', 'Ghost', 'Bug', 'Bug', 'Electric', 'Electric', 'Normal', 'Poison', 'Electric', 'Electric', 'Electric', 'Electric', 'Electric', 'Psychic', 'Fire', 'Electric', 'Water', 'Fire', 'Bug', 'Psychic', 'Psychic', 'Ground', 'Grass', 'Grass', 'Normal', 'Normal', 'Normal', 'Water', 'Fire', 'Water', 'Grass', 'Grass', 'Water', 'Electric', 'Fairy', 'Fire', 'Fire', 'Normal', 'Water', 'Fairy', 'Fairy', 'Ground', 'Grass', 'Bug', 'Dragon', 'Water', 'Water', 'Water', 'Ice', 'Normal', 'Normal', 'Dragon', 'Psychic', 'Bug', 'Poison', 'Dragon', 'Psychic', 'Ghost', 'Water', 'Bug', 'Ghost', 'Rock', 'Dragon', 'Rock', 'Normal', 'Ice', 'Ice', 'Normal', 'Ground', 'Ground', 'Grass', 'Grass', 'Poison', 'Water', 'Water', 'Rock', 'Ground', 'Ground', 'Dragon', 'Dragon', 'Water', 'Psychic', 'Psychic', 'Psychic', 'Fairy', 'Rock', 'Water', 'Poison', 'Grass', 'Ground', 'Ground', 'Grass', 'Fire', 'Psychic', 'Poison', 'Fighting', 'Water', 'Normal', 'Fighting', 'Ghost', 'Fighting', 'Dragon', 'Fire', 'Fire', 'Electric', 'Electric', 'Bug', 'Normal', 'Ground', 'Ground', 'Fighting', 'Fighting', 'Fighting', 'Fire', 'Dark', 'Steel', 'Normal', 'Grass', 'Water', 'Dark', 'Dark', 'Water', 'Dark', 'Psychic', 'Normal', 'Bug', 'Fire', 'Dark', 'Grass', 'Water', 'Normal', 'Steel', 'Electric', 'Bug', 'Grass', 'Ice', 'Rock', 'Rock', 'Psychic', 'Bug', 'Normal', 'Bug', 'Normal', 'Water', 'Water', 'Psychic', 'Steel', 'Steel', 'Steel', 'Steel', 'Poison', 'Water', 'Bug', 'Bug', 'Ground', 'Ground', 'Water', 'Water', 'Dragon', 'Dragon', 'Dragon', 'Steel', 'Ghost', 'Water', 'Water', 'Bug', 'Rock', 'Dragon', 'Dragon', 'Grass', 'Bug', 'Bug', 'Bug', 'Normal', 'Normal', 'Dark', 'Rock', 'Grass', 'Normal', 'Normal', 'Fire', 'Ghost', 'Water', 'Normal', 'Water', 'Normal', 'Fighting', 'Water', 'Psychic', 'Water', 'Rock', 'Water', 'Electric', 'Electric', 'Fighting', 'Fighting', 'Fighting', 'Fire', 'Fire', 'Water', 'Fire', 'Fire', 'Electric', 'Electric', 'Electric', 'Fighting', 'Dark', 'Ice', 'Water', 'Dark', 'Electric', 'Fighting', 'Water', 'Water', 'Grass', 'Electric', 'Water', 'Ground', 'Water', 'Bug', 'Steel', 'Fighting', 'Fighting', 'Psychic', 'Psychic', 'Normal', 'Psychic', 'Steel', 'Steel', 'Bug', 'Psychic', 'Psychic', 'Fighting', 'Fighting', 'Dark', 'Water', 'Normal', 'Psychic', 'Normal', 'Electric', 'Ghost', 'Ghost', 'Fire', 'Fire', 'Bug', 'Psychic', 'Water', 'Poison', 'Normal', 'Psychic', 'Dark', 'Psychic', 'Psychic', 'Poison', 'Poison', 'Poison', 'Poison', 'Poison', 'Poison', 'Bug', 'Fire', 'Bug', 'Normal', 'Flying', 'Flying', 'Rock', 'Fire', 'Grass', 'Water', 'Grass', 'Rock', 'Rock', 'Rock', 'Water', 'Electric', 'Water', 'Water', 'Fighting', 'Fighting', 'Water', 'Grass', 'Fire', 'Bug', 'Bug', 'Normal', 'Dark', 'Water', 'Normal', 'Grass', 'Ground', 'Ghost', 'Water', 'Electric', 'Normal', 'Normal', 'Normal', 'Normal', 'Fire', 'Electric', 'Ice', 'Bug', 'Bug', 'Water', 'Electric', 'Water', 'Water', 'Water', 'Water', 'Fire', 'Dark', 'Normal', 'Normal', 'Normal', 'Fighting', 'Water', 'Rock', 'Water', 'Rock', 'Dark', 'Normal', 'Fire', 'Water', 'Fire', 'Grass', 'Water', 'Electric', 'Electric', 'Psychic', 'Rock', 'Fire', 'Normal', 'Normal', 'Dragon', 'Ice', 'Normal', 'Rock', 'Steel', 'Water', 'Water', 'Dragon', 'Psychic', 'Ground', 'Ground', 'Ground', 'Fighting', 'Rock', 'Grass', 'Grass', 'Electric', 'Electric', 'Electric', 'Electric', 'Electric', 'Electric', 'Normal', 'Dark', 'Dragon', 'Water', 'Ground', 'Ground', 'Ground', 'Fighting', 'Normal', 'Bug', 'Grass', 'Bug', 'Bug', 'Dark', 'Dark', 'Bug', 'Water', 'Water', 'Ice', 'Grass', 'Water', 'Water', 'Normal', 'Grass', 'Grass', 'Poison', 'Bug', 'Water', 'Bug', 'Dragon', 'Water', 'Water', 'Bug', 'Rock', 'Grass', 'Electric', 'Grass', 'Bug', 'Ghost', 'Psychic', 'Bug', 'Water', 'Grass', 'Fire', 'Steel', 'Grass', 'Grass', 'Normal', 'Poison', 'Poison', 'Poison', 'Normal', 'Normal', 'Dragon', 'Water', 'Water', 'Water', 'Fire', 'Fairy', 'Normal', 'Ice', 'Dark', 'Grass', 'Normal', 'Ice', 'Grass', 'Fairy', 'Psychic', 'Rock', 'Normal', 'Bug', 'Ice', 'Bug', 'Normal', 'Ghost', 'Psychic', 'Fairy', 'Water', 'Normal', 'Normal', 'Normal', 'Normal', 'Water', 'Water', 'Steel', 'Normal', 'Ground', 'Poison', 'Rock', 'Water', 'Grass', 'Grass', 'Bug', 'Normal', 'Bug', 'Poison', 'Water', 'Water', 'Normal', 'Ice', 'Fairy', 'Psychic', 'Fairy', 'Normal', 'Fire', 'Grass', 'Grass', 'Normal', 'Normal', 'Water', 'Water', 'Fire', 'Rock', 'Fighting', 'Fighting', 'Water', 'Fairy', 'Fairy', 'Fairy', 'Fire', 'Fire', 'Grass', 'Water', 'Poison', 'Normal', 'Ground', 'Grass', 'Ghost', 'Grass', 'Poison', 'Grass', 'Water', 'Electric', 'Fire', 'Rock', 'Rock', 'Fighting', 'Rock', 'Dark', 'Normal', 'Psychic', 'Normal', 'Psychic', 'Ice', 'Ice', 'Ice', 'Water', 'Bug', 'Bug', 'Bug', 'Grass', 'Bug', 'Ground', 'Psychic', 'Grass', 'Normal', 'Grass', 'Grass', 'Bug', 'Bug', 'Fire', 'Bug', 'Electric', 'Dark', 'Fire', 'Water', 'Water', 'Ice', 'Water', 'Normal', 'Dark', 'Bug', 'Grass', 'Poison', 'Grass', 'Bug', 'Water', 'Normal', 'Normal', 'Water', 'Psychic', 'Psychic', 'Water', 'Bug', 'Bug', 'Bug', 'Bug', 'Psychic', 'Psychic', 'Fairy', 'Ghost', 'Bug', 'Bug', 'Dark', 'Normal', 'Electric', 'Electric', 'Dragon', 'Normal', 'Dark', 'Dark', 'Poison', 'Dark']\n",
    "secondary_types = ['Ice', 'nan', 'nan', 'nan', 'Flying', 'Rock', 'nan', 'nan', 'nan', 'Flying', 'Ice', 'nan', 'Poison', 'nan', 'Bug', 'nan', 'nan', 'nan', 'Flying', 'Flying', 'Poison', 'Bug', 'nan', 'Rock', 'Flying', 'nan', 'Ice', 'nan', 'nan', 'nan', 'Fairy', 'Fairy', 'nan', 'Psychic', 'nan', 'Water', 'Ground', 'nan', 'Steel', 'nan', 'nan', 'Flying', 'Poison', 'nan', 'Psychic', 'nan', 'Poison', 'nan', 'Water', 'nan', 'Water', 'Steel', 'nan', 'Fighting', 'nan', 'nan', 'nan', 'nan', 'nan', 'nan', 'Flying', 'Fighting', 'Psychic', 'Psychic', 'Poison', 'nan', 'Poison', 'nan', 'nan', 'nan', 'Flying', 'nan', 'Dark', 'Ground', 'Fairy', 'nan', 'Rock', 'Dark', 'nan', 'nan', 'nan', 'Grass', 'Fire', 'nan', 'Flying', 'nan', 'nan', 'Flying', 'nan', 'nan', 'Fighting', 'nan', 'nan', 'nan', 'nan', 'Electric', 'nan', 'nan', 'nan', 'nan', 'nan', 'Psychic', 'nan', 'nan', 'nan', 'Ice', 'Fighting', 'nan', 'Flying', 'Fighting', 'nan', 'nan', 'Rock', 'Fairy', 'Grass', 'nan', 'Dark', 'nan', 'Fighting', 'Flying', 'nan', 'Rock', 'nan', 'nan', 'nan', 'nan', 'nan', 'nan', 'Psychic', 'nan', 'Fairy', 'Grass', 'Dragon', 'nan', 'Flying', 'Psychic', 'Ice', 'nan', 'Dragon', 'Fairy', 'Ground', 'nan', 'nan', 'Flying', 'Flying', 'nan', 'Ghost', 'Dragon', 'nan', 'Flying', 'Dark', 'nan', 'Flying', 'Flying', 'nan', 'nan', 'nan', 'Flying', 'nan', 'nan', 'nan', 'Steel', 'nan', 'nan', 'nan', 'Poison', 'Rock', 'nan', 'nan', 'nan', 'nan', 'nan', 'nan', 'nan', 'nan', 'nan', 'nan', 'Fighting', 'Flying', 'Steel', 'nan', 'Steel', 'nan', 'nan', 'Steel', 'Psychic', 'Psychic', 'nan', 'Flying', 'Flying', 'nan', 'nan', 'nan', 'Steel', 'Steel', 'nan', 'nan', 'nan', 'nan', 'Flying', 'Flying', 'nan', 'nan', 'nan', 'Dragon', 'Poison', 'Steel', 'nan', 'Ghost', 'nan', 'nan', 'Ghost', 'nan', 'nan', 'Ground', 'Fighting', 'Electric', 'nan', 'Ground', 'Fairy', 'Poison', 'Ground', 'Steel', 'Poison', 'Ground', 'Ground', 'nan', 'Psychic', 'nan', 'nan', 'nan', 'Flying', 'Flying', 'Poison', 'nan', 'Flying', 'nan', 'nan', 'Ground', 'Ghost', 'Ghost', 'nan', 'nan', 'nan', 'nan', 'nan', 'nan', 'nan', 'Ground', 'Dark', 'nan', 'nan', 'nan', 'Fire', 'nan', 'nan', 'nan', 'nan', 'nan', 'Flying', 'nan', 'nan', 'Poison', 'Flying', 'nan', 'nan', 'Steel', 'Normal', 'Normal', 'Fighting', 'nan', 'nan', 'nan', 'nan', 'nan', 'nan', 'Flying', 'Flying', 'Ghost', 'Flying', 'Flying', 'nan', 'Fire', 'Fire', 'nan', 'Dragon', 'nan', 'Fairy', 'nan', 'Fighting', 'Psychic', 'Poison', 'Ghost', 'Fairy', 'Psychic', 'nan', 'Electric', 'Flying', 'Psychic', 'Water', 'Water', 'nan', 'Poison', 'nan', 'nan', 'nan', 'Dragon', 'nan', 'Fairy', 'nan', 'Fairy', 'nan', 'nan', 'nan', 'nan', 'nan', 'nan', 'Dark', 'Dark', 'nan', 'nan', 'Ice', 'Ice', 'Ice', 'Rock', 'Fire', 'Electric', 'Ice', 'Fire', 'Ground', 'Psychic', 'Psychic', 'nan', 'Grass', 'Flying', 'Flying', 'nan', 'nan', 'nan', 'Grass', 'nan', 'nan', 'nan', 'Normal', 'Fire', 'Grass', 'nan', 'Grass', 'nan', 'Steel', 'Grass', 'Flying', 'nan', 'Psychic', 'nan', 'nan', 'nan', 'nan', 'nan', 'nan', 'nan', 'Rock', 'nan', 'nan', 'nan', 'Steel', 'Steel', 'Steel', 'nan', 'Psychic', 'Ground', 'nan', 'Flying', 'nan', 'nan', 'Flying', 'Flying', 'nan', 'nan', 'Fairy', 'nan', 'Ground', 'Flying', 'Fairy', 'Psychic', 'Psychic', 'nan', 'nan', 'nan', 'nan', 'Psychic', 'Psychic', 'nan', 'nan', 'nan', 'nan', 'nan', 'nan', 'nan', 'nan', 'Fairy', 'nan', 'nan', 'nan', 'nan', 'Flying', 'Fighting', 'Flying', 'Fairy', 'nan', 'nan', 'nan', 'nan', 'Flying', 'nan', 'Flying', 'Ground', 'Ground', 'nan', 'nan', 'nan', 'nan', 'Ground', 'nan', 'Flying', 'Flying', 'Dragon', 'Dragon', 'nan', 'Ground', 'Dark', 'nan', 'Poison', 'Water', 'Water', 'Ground', 'nan', 'nan', 'Dragon', 'Ground', 'nan', 'Dark', 'nan', 'nan', 'nan', 'Grass', 'Grass', 'nan', 'Steel', 'Flying', 'nan', 'nan', 'nan', 'Grass', 'nan', 'nan', 'Flying', 'Flying', 'Flying', 'Flying', 'Fighting', 'nan', 'Ground', 'nan', 'nan', 'nan', 'nan', 'nan', 'nan', 'nan', 'Fighting', 'nan', 'nan', 'nan', 'nan', 'nan', 'nan', 'nan', 'Steel', 'nan', 'Ground', 'nan', 'nan', 'Normal', 'Ground', 'nan', 'nan', 'Poison', 'nan', 'nan', 'Fairy', 'nan', 'nan', 'nan', 'nan', 'Flying', 'nan', 'nan', 'nan', 'nan', 'Rock', 'nan', 'Fire', 'nan', 'Rock', 'Rock', 'Rock', 'nan', 'nan', 'Poison', 'Poison', 'Ghost', 'Flying', 'Ice', 'Fire', 'Grass', 'Water', 'Flying', 'Ghost', 'Flying', 'nan', 'Dark', 'nan', 'nan', 'nan', 'Grass', 'nan', 'nan', 'Steel', 'Poison', 'Fighting', 'Fighting', 'Flying', 'nan', 'nan', 'Water', 'nan', 'nan', 'Ground', 'nan', 'nan', 'nan', 'nan', 'Grass', 'Dark', 'Ghost', 'nan', 'nan', 'nan', 'nan', 'Steel', 'Dark', 'nan', 'nan', 'Rock', 'nan', 'Flying', 'nan', 'nan', 'nan', 'nan', 'Flying', 'nan', 'Flying', 'nan', 'Bug', 'Water', 'Dark', 'nan', 'nan', 'nan', 'Psychic', 'Psychic', 'Psychic', 'nan', 'nan', 'nan', 'Psychic', 'Ice', 'nan', 'nan', 'nan', 'Ice', 'nan', 'nan', 'Psychic', 'Flying', 'nan', 'Water', 'Poison', 'nan', 'Dark', 'nan', 'nan', 'nan', 'nan', 'Flying', 'Flying', 'Flying', 'Psychic', 'nan', 'Ground', 'nan', 'Electric', 'Dark', 'nan', 'nan', 'nan', 'nan', 'Water', 'Flying', 'Grass', 'nan', 'Ground', 'Flying', 'Flying', 'Ground', 'nan', 'Flying', 'nan', 'Flying', 'Flying', 'nan', 'nan', 'nan', 'nan', 'Poison', 'Poison', 'nan', 'Fighting', 'nan', 'nan', 'Rock', 'Flying', 'nan', 'Flying', 'nan', 'nan', 'Ground', 'nan', 'Fighting', 'Flying', 'nan', 'nan', 'Grass', 'Flying', 'nan', 'nan', 'nan', 'nan', 'nan', 'Dark', 'Dragon', 'nan', 'Dragon', 'nan', 'Flying', 'nan', 'nan', 'nan', 'nan', 'nan', 'nan', 'nan', 'Poison', 'Poison', 'Poison', 'Poison', 'Flying', 'Dragon', 'Fire', 'Poison', 'nan', 'Poison', 'Fighting', 'Flying', 'nan', 'Water', 'Fire', 'nan', 'Flying', 'nan', 'nan', 'nan', 'Water', 'nan', 'nan', 'Ice', 'Poison', 'Poison', 'nan', 'Fairy', 'Poison', 'Ground', 'nan', 'Fairy', 'Flying', 'nan', 'Flying', 'Ground', 'Grass', 'Ground', 'Steel', 'nan', 'nan', 'Flying', 'nan', 'nan', 'Flying', 'Flying', 'Flying', 'nan', 'Flying', 'nan', 'Electric', 'nan', 'nan', 'nan', 'Flying', 'Dragon']"
   ]
  },
  {
   "cell_type": "code",
   "execution_count": 6,
   "id": "short-filling",
   "metadata": {
    "scrolled": true
   },
   "outputs": [
    {
     "name": "stdout",
     "output_type": "stream",
     "text": [
      "('Abomasnow', 'Grass')\n",
      "('Abra', 'Psychic')\n",
      "('Absol', 'Dark')\n",
      "('Accelgor', 'Bug')\n",
      "('Aerodactyl', 'Rock')\n"
     ]
    }
   ],
   "source": [
    "# Combine names and primary_types\n",
    "names_type1 = [*zip(names, primary_types)]\n",
    "\n",
    "print(*names_type1[:5], sep='\\n')"
   ]
  },
  {
   "cell_type": "code",
   "execution_count": 10,
   "id": "right-director",
   "metadata": {},
   "outputs": [
    {
     "name": "stdout",
     "output_type": "stream",
     "text": [
      "('Abomasnow', 'Grass', 'Ice')\n",
      "('Abra', 'Psychic', 'nan')\n",
      "('Absol', 'Dark', 'nan')\n",
      "('Accelgor', 'Bug', 'nan')\n",
      "('Aerodactyl', 'Rock', 'Flying')\n"
     ]
    }
   ],
   "source": [
    "# Combine all three lists together\n",
    "names_types = [*zip(names, primary_types, secondary_types)]\n",
    "\n",
    "print(*names_types[:5], sep='\\n')"
   ]
  },
  {
   "cell_type": "code",
   "execution_count": 12,
   "id": "vanilla-future",
   "metadata": {},
   "outputs": [
    {
     "name": "stdout",
     "output_type": "stream",
     "text": [
      "('Abomasnow', 'Grass')\n",
      "('Abra', 'Psychic')\n",
      "('Absol', 'Dark')\n"
     ]
    }
   ],
   "source": [
    "# Combine five items from names and three items from primary_types\n",
    "differing_lengths = [*zip(names[:5], primary_types[:3])]\n",
    "\n",
    "print(*differing_lengths, sep='\\n')"
   ]
  },
  {
   "cell_type": "markdown",
   "id": "interior-cable",
   "metadata": {},
   "source": [
    "## Counting Pokémon from a sample\n",
    "\n",
    "A sample of 500 Pokémon has been generated, and three lists from this sample have been loaded into your session:\n",
    "\n",
    "- The `names` list contains the names of each Pokémon in the sample.\n",
    "- The `primary_types` list containing the corresponding **primary** type of each Pokémon in the sample.\n",
    "- The `generations` list contains the corresponding **generation** of each Pokémon in the sample.\n",
    "\n",
    "You want to quickly gather a few counts from these lists to better understand the sample that was generated. Use `Counter` from the `collections` module to explore what types of Pokémon are in your sample, what generations they come from, and how many Pokémon have a name that starts with a specific letter.\n",
    "\n",
    "`Counter` has already been imported into your session for convenience.\n",
    "\n",
    "Instructions\n",
    "\n",
    "1. Collect the count of each primary type from the sample.\n",
    "2. Collect the count of each generation from the sample.\n",
    "3. Use list comprehension to collect the first letter of each Pokémon in the `names` list. Save this as `starting_letters`.\n",
    "4. Collect the count of starting letters from the `starting_letters` list. Save this as `starting_letters_count`."
   ]
  },
  {
   "cell_type": "code",
   "execution_count": 13,
   "id": "simple-edward",
   "metadata": {},
   "outputs": [],
   "source": [
    "# List\n",
    "names = ['Seel', 'Nidorino', 'Fearow', 'Vanilluxe', 'Relicanth', 'Karrablast', 'Exeggutor', 'Diggersby', 'Mew', 'Flabébé', 'Archen', 'Cryogonal', 'Cherubi', 'Barbaracle', 'Jirachi', 'Lopunny', 'Sentret', 'Heatmor', 'Bellossom', 'Drilbur', 'Gallade', 'Ivysaur', 'Sandslash', 'Aipom', 'Scatterbug', 'Carracosta', 'Frillish', 'Honedge', 'Gogoat', 'Kangaskhan', 'Hippowdon', 'Lillipup', 'Braixen', 'Wooper', 'Helioptile', 'Geodude', 'Claydol', 'Furret', 'Burmy', 'Clefairy', 'Sandile', 'Walrein', 'Throh', 'Leavanny', 'Gengar', 'Solosis', 'Eelektross', 'Foongus', 'Ferroseed', 'Sylveon', 'Marowak', 'Wailord', 'Chimchar', 'Tyrunt', 'Golem', 'Mamoswine', 'Elgyem', 'Metagross', 'Panpour', 'Cinccino', 'Gloom', 'Chatot', 'Onix', 'Dodrio', 'Chandelure', 'Florges', 'Lilligant', 'Graveler', 'Raichu', 'Sylveon', 'Minccino', 'Scolipede', 'Cresselia', 'Delphox', 'Wigglytuff', 'Seadra', 'Shellos', 'Lampent', 'Infernape', 'Sawsbuck', 'Delphox', 'Delibird', 'Slaking', 'Stunfisk', 'Spritzee', 'Lillipup', 'Sharpedo', 'Gallade', 'Beheeyem', 'Charmander', 'Krookodile', 'Braixen', 'Bellsprout', 'Snorlax', 'Swinub', 'Hariyama', 'Numel', 'Gardevoir', 'Mismagius', 'WormadamTrash Cloak', 'Dugtrio', 'Wailmer', 'Diggersby', 'Castform', 'Bisharp', 'Lileep', 'Eelektross', 'Zigzagoon', 'Tropius', 'Venomoth', 'Vibrava', 'MeowsticFemale', 'Shieldon', 'Floatzel', 'Carnivine', 'Servine', 'Swalot', 'Finneon', 'Magnezone', 'Combusken', 'DarmanitanStandard Mode', 'Cryogonal', 'Wynaut', 'Emboar', 'Hippopotas', 'Krabby', 'Tentacruel', 'Ludicolo', 'Bisharp', 'Claydol', 'Corsola', 'Shelmet', 'Bastiodon', 'Snorunt', 'Yanma', 'Lumineon', 'Treecko', 'Zekrom', 'Azurill', 'Golduck', 'Phanpy', 'WormadamSandy Cloak', 'Aron', 'Panpour', 'Illumise', 'Zekrom', 'Shinx', 'Kabutops', 'Delibird', 'Carnivine', 'Beautifly', 'Klang', 'Patrat', 'Exeggutor', 'RotomWash Rotom', 'Dragalge', 'Kirlia', 'Dedenne', 'Electrike', 'Cherrim', 'Venomoth', 'Scolipede', 'Swirlix', 'Primeape', 'Simipour', 'Skuntank', 'Glameow', 'Clamperl', 'Swablu', 'Cofagrigus', 'Hoppip', 'Torchic', 'Psyduck', 'Helioptile', 'Larvesta', 'Wigglytuff', 'Mandibuzz', 'Empoleon', 'Shelgon', 'Spewpa', 'Charizard', 'Clamperl', 'Seedot', 'Spritzee', 'Darkrai', 'Electrike', 'Virizion', 'Yanmega', 'Girafarig', 'Cranidos', 'Croagunk', 'Nidoking', 'Pupitar', 'Tympole', 'Flareon', 'Lairon', 'Frogadier', 'Mime Jr.', 'Magnemite', 'Clefable', 'Gloom', 'Exeggcute', 'Bayleef', 'Staravia', 'Rattata', 'Golem', 'Gible', 'Kricketune', 'Seismitoad', 'Slakoth', 'Dragonair', 'Skuntank', 'Munna', 'Cacturne', 'Magmortar', 'Golbat', 'Shroomish', 'Leafeon', 'Ledian', 'Cinccino', 'Armaldo', 'Froslass', 'Seadra', 'Slowbro', 'Nidorino', 'KyuremBlack Kyurem', 'Venomoth', 'Carnivine', 'Abomasnow', 'Zangoose', 'Honchkrow', 'Banette', 'Panpour', 'Beldum', 'Ampharos', 'Wynaut', 'Medicham', 'Seviper', 'Blissey', 'Azelf', \"Farfetch'd\", 'Relicanth', 'WormadamPlant Cloak', 'Sneasel', 'Fletchling', 'Larvesta', 'Cleffa', 'Mienfoo', 'Panpour', 'Arcanine', 'Hitmonchan', 'Tangela', 'Escavalier', 'Lumineon', 'Kingdra', 'Lickilicky', 'Noctowl', 'Blissey', 'Zekrom', 'Amoonguss', 'Carracosta', 'Staravia', 'Pineco', 'Swampert', 'Jirachi', 'Swanna', 'Drifblim', 'Roggenrola', 'Inkay', 'Electrike', 'Cubone', 'Crobat', 'Prinplup', 'Spinarak', 'Lilligant', 'Poliwhirl', 'Vespiquen', 'Loudred', 'Grimer', 'Kadabra', 'Caterpie', 'Machop', 'Slakoth', 'Foongus', 'Exeggcute', 'Gulpin', 'Delcatty', 'GroudonPrimal Groudon', 'Delcatty', 'Shelmet', 'Granbull', 'Shelmet', 'Bronzong', 'Tyranitar', 'Azumarill', 'Numel', 'Pyroar', 'Mantyke', 'Chikorita', 'Articuno', 'Umbreon', 'Musharna', 'Jellicent', 'Spheal', 'Kadabra', 'Nosepass', 'Cobalion', 'Ducklett', 'Tirtouga', 'Accelgor', 'Fletchling', 'KyuremWhite Kyurem', 'Slowbro', 'Zebstrika', 'Dugtrio', 'Stoutland', 'Shelmet', 'Dragonair', 'Hawlucha', 'RotomFrost Rotom', 'Gardevoir', 'Primeape', 'Swirlix', 'Gothita', 'Krabby', 'Chimchar', 'Aurorus', 'Mandibuzz', 'Nidoqueen', 'Delibird', 'Fraxure', 'Pidove', 'Altaria', 'Oddish', 'Blitzle', 'Ducklett', 'Ralts', 'Baltoy', 'Jirachi', 'Avalugg', 'Clefable', 'Gurdurr', 'Seel', 'Baltoy', 'Vigoroth', 'Stunky', 'Klinklang', 'Luvdisc', 'Mew', 'Sandshrew', 'Koffing', 'Pancham', 'Kirlia', 'Jirachi', 'Probopass', 'Tympole', 'Spoink', 'Basculin', 'Drifblim', 'Duosion', 'Primeape', 'Shelmet', 'Whirlipede', 'Roselia', 'Rufflet', 'Avalugg', 'Druddigon', 'Luxray', 'Eelektrik', 'Chespin', 'Clefable', 'Graveler', 'Chatot', 'Psyduck', 'Makuhita', 'Piplup', 'Pinsir', 'Lopunny', 'Tauros', 'Grimer', 'Eelektross', 'Turtwig', 'Darkrai', 'Emboar', 'Cobalion', 'Talonflame', 'Nidorino', 'Dragonair', 'Larvitar', 'WormadamSandy Cloak', 'Wobbuffet', 'Maractus', 'Teddiursa', 'Leavanny', 'Lampent', 'Yveltal', 'Primeape', 'Plusle', 'Altaria', 'Zweilous', 'Bunnelby', 'Riolu', 'Manectric', 'Lunatone', 'Wigglytuff', 'Bouffalant', 'Leavanny', 'Cyndaquil', 'Clamperl', 'Minccino', 'Groudon', 'Scatterbug', 'Torkoal', 'Scolipede', 'Slowking', 'Rapidash', 'Ledian', 'Cofagrigus', 'Ledian', 'Mawile', 'Sealeo', 'Lickitung', 'Sharpedo', 'Kabutops', 'Beedrill', 'Spiritomb', 'Dusclops', 'Venomoth', 'Nuzleaf', 'Gothita', 'Onix', 'Aron', 'Trevenant', 'Electivire', 'Blitzle', 'Feraligatr', 'Donphan', 'Skrelp', 'Ursaring', 'Hitmontop', 'Hydreigon', 'Spritzee', 'Jumpluff', 'Arbok', 'Taillow', 'Gurdurr', 'Dustox', 'Zangoose', 'Sawsbuck', 'Volcarona', 'Simipour', 'Shedinja', 'Mienfoo', 'Wobbuffet', 'Mantine', 'Croagunk', 'Bronzor', 'Meditite', 'Elgyem', 'Hawlucha', 'Dratini', 'WormadamTrash Cloak', 'Moltres', 'Mr. Mime', 'Roserade', 'Dunsparce', 'Skitty', 'Skuntank', 'Joltik', 'Slowking', 'Rhyperior', 'Beautifly', 'Kyogre', 'Gallade', 'Azurill', 'Aggron', 'Solrock', 'Salamence', 'Weepinbell', 'Skiploom', 'Marshtomp', 'Mienshao', 'Krookodile', 'Xerneas', 'Staraptor', 'Shiftry', 'Eelektross', 'Dewott', 'Throh', 'Barbaracle', 'Ninetales', 'Sudowoodo', 'Nosepass', 'Staryu', 'Snivy', 'Hawlucha', 'Suicune', 'Weedle', 'Nincada', 'Simisage']\n",
    "primary_types = ['Water', 'Poison', 'Normal', 'Ice', 'Water', 'Bug', 'Grass', 'Normal', 'Psychic', 'Fairy', 'Rock', 'Ice', 'Grass', 'Rock', 'Steel', 'Normal', 'Normal', 'Fire', 'Grass', 'Ground', 'Psychic', 'Grass', 'Ground', 'Normal', 'Bug', 'Water', 'Water', 'Steel', 'Grass', 'Normal', 'Ground', 'Normal', 'Fire', 'Water', 'Electric', 'Rock', 'Ground', 'Normal', 'Bug', 'Fairy', 'Ground', 'Ice', 'Fighting', 'Bug', 'Ghost', 'Psychic', 'Electric', 'Grass', 'Grass', 'Fairy', 'Ground', 'Water', 'Fire', 'Rock', 'Rock', 'Ice', 'Psychic', 'Steel', 'Water', 'Normal', 'Grass', 'Normal', 'Rock', 'Normal', 'Ghost', 'Fairy', 'Grass', 'Rock', 'Electric', 'Fairy', 'Normal', 'Bug', 'Psychic', 'Fire', 'Normal', 'Water', 'Water', 'Ghost', 'Fire', 'Normal', 'Fire', 'Ice', 'Normal', 'Ground', 'Fairy', 'Normal', 'Water', 'Psychic', 'Psychic', 'Fire', 'Ground', 'Fire', 'Grass', 'Normal', 'Ice', 'Fighting', 'Fire', 'Psychic', 'Ghost', 'Bug', 'Ground', 'Water', 'Normal', 'Normal', 'Dark', 'Rock', 'Electric', 'Normal', 'Grass', 'Bug', 'Ground', 'Psychic', 'Rock', 'Water', 'Grass', 'Grass', 'Poison', 'Water', 'Electric', 'Fire', 'Fire', 'Ice', 'Psychic', 'Fire', 'Ground', 'Water', 'Water', 'Water', 'Dark', 'Ground', 'Water', 'Bug', 'Rock', 'Ice', 'Bug', 'Water', 'Grass', 'Dragon', 'Normal', 'Water', 'Ground', 'Bug', 'Steel', 'Water', 'Bug', 'Dragon', 'Electric', 'Rock', 'Ice', 'Grass', 'Bug', 'Steel', 'Normal', 'Grass', 'Electric', 'Poison', 'Psychic', 'Electric', 'Electric', 'Grass', 'Bug', 'Bug', 'Fairy', 'Fighting', 'Water', 'Poison', 'Normal', 'Water', 'Normal', 'Ghost', 'Grass', 'Fire', 'Water', 'Electric', 'Bug', 'Normal', 'Dark', 'Water', 'Dragon', 'Bug', 'Fire', 'Water', 'Grass', 'Fairy', 'Dark', 'Electric', 'Grass', 'Bug', 'Normal', 'Rock', 'Poison', 'Poison', 'Rock', 'Water', 'Fire', 'Steel', 'Water', 'Psychic', 'Electric', 'Fairy', 'Grass', 'Grass', 'Grass', 'Normal', 'Normal', 'Rock', 'Dragon', 'Bug', 'Water', 'Normal', 'Dragon', 'Poison', 'Psychic', 'Grass', 'Fire', 'Poison', 'Grass', 'Grass', 'Bug', 'Normal', 'Rock', 'Ice', 'Water', 'Water', 'Poison', 'Dragon', 'Bug', 'Grass', 'Grass', 'Normal', 'Dark', 'Ghost', 'Water', 'Steel', 'Electric', 'Psychic', 'Fighting', 'Poison', 'Normal', 'Psychic', 'Normal', 'Water', 'Bug', 'Dark', 'Normal', 'Bug', 'Fairy', 'Fighting', 'Water', 'Fire', 'Fighting', 'Grass', 'Bug', 'Water', 'Water', 'Normal', 'Normal', 'Normal', 'Dragon', 'Grass', 'Water', 'Normal', 'Bug', 'Water', 'Steel', 'Water', 'Ghost', 'Rock', 'Dark', 'Electric', 'Ground', 'Poison', 'Water', 'Bug', 'Grass', 'Water', 'Bug', 'Normal', 'Poison', 'Psychic', 'Bug', 'Fighting', 'Normal', 'Grass', 'Grass', 'Poison', 'Normal', 'Ground', 'Normal', 'Bug', 'Fairy', 'Bug', 'Steel', 'Rock', 'Water', 'Fire', 'Fire', 'Water', 'Grass', 'Ice', 'Dark', 'Psychic', 'Water', 'Ice', 'Psychic', 'Rock', 'Steel', 'Water', 'Water', 'Bug', 'Normal', 'Dragon', 'Water', 'Electric', 'Ground', 'Normal', 'Bug', 'Dragon', 'Fighting', 'Electric', 'Psychic', 'Fighting', 'Fairy', 'Psychic', 'Water', 'Fire', 'Rock', 'Dark', 'Poison', 'Ice', 'Dragon', 'Normal', 'Dragon', 'Grass', 'Electric', 'Water', 'Psychic', 'Ground', 'Steel', 'Ice', 'Fairy', 'Fighting', 'Water', 'Ground', 'Normal', 'Poison', 'Steel', 'Water', 'Psychic', 'Ground', 'Poison', 'Fighting', 'Psychic', 'Steel', 'Rock', 'Water', 'Psychic', 'Water', 'Ghost', 'Psychic', 'Fighting', 'Bug', 'Bug', 'Grass', 'Normal', 'Ice', 'Dragon', 'Electric', 'Electric', 'Grass', 'Fairy', 'Rock', 'Normal', 'Water', 'Fighting', 'Water', 'Bug', 'Normal', 'Normal', 'Poison', 'Electric', 'Grass', 'Dark', 'Fire', 'Steel', 'Fire', 'Poison', 'Dragon', 'Rock', 'Bug', 'Psychic', 'Grass', 'Normal', 'Bug', 'Ghost', 'Dark', 'Fighting', 'Electric', 'Dragon', 'Dark', 'Normal', 'Fighting', 'Electric', 'Rock', 'Normal', 'Normal', 'Bug', 'Fire', 'Water', 'Normal', 'Ground', 'Bug', 'Fire', 'Bug', 'Water', 'Fire', 'Bug', 'Ghost', 'Bug', 'Steel', 'Ice', 'Normal', 'Water', 'Rock', 'Bug', 'Ghost', 'Ghost', 'Bug', 'Grass', 'Psychic', 'Rock', 'Steel', 'Ghost', 'Electric', 'Electric', 'Water', 'Ground', 'Poison', 'Normal', 'Fighting', 'Dark', 'Fairy', 'Grass', 'Poison', 'Normal', 'Fighting', 'Bug', 'Normal', 'Normal', 'Bug', 'Water', 'Bug', 'Fighting', 'Psychic', 'Water', 'Poison', 'Steel', 'Fighting', 'Psychic', 'Fighting', 'Dragon', 'Bug', 'Fire', 'Psychic', 'Grass', 'Normal', 'Normal', 'Poison', 'Bug', 'Water', 'Ground', 'Bug', 'Water', 'Psychic', 'Normal', 'Steel', 'Rock', 'Dragon', 'Grass', 'Grass', 'Water', 'Fighting', 'Ground', 'Fairy', 'Normal', 'Grass', 'Electric', 'Water', 'Fighting', 'Rock', 'Fire', 'Rock', 'Rock', 'Water', 'Grass', 'Fighting', 'Water', 'Bug', 'Bug', 'Grass']\n",
    "generations = [1, 1, 1, 5, 3, 5, 1, 6, 1, 6, 5, 5, 4, 6, 3, 4, 2, 5, 2, 5, 4, 1, 1, 2, 6, 5, 5, 6, 6, 1, 4, 5, 6, 2, 6, 1, 3, 2, 4, 1, 5, 3, 5, 5, 1, 5, 5, 5, 5, 6, 1, 3, 4, 6, 1, 4, 5, 3, 5, 5, 1, 4, 1, 1, 5, 6, 5, 1, 1, 6, 5, 5, 4, 6, 1, 1, 4, 5, 4, 5, 6, 2, 3, 5, 6, 5, 3, 4, 5, 1, 5, 6, 1, 1, 2, 3, 3, 3, 4, 4, 1, 3, 6, 3, 5, 3, 5, 3, 3, 1, 3, 6, 4, 4, 4, 5, 3, 4, 4, 3, 5, 5, 3, 5, 4, 1, 1, 3, 5, 3, 2, 5, 4, 3, 2, 4, 3, 5, 3, 1, 2, 4, 3, 5, 3, 5, 4, 1, 2, 4, 3, 5, 5, 1, 4, 6, 3, 6, 3, 4, 1, 5, 6, 1, 5, 4, 4, 3, 3, 5, 2, 3, 1, 6, 5, 1, 5, 4, 3, 6, 1, 3, 3, 6, 4, 3, 5, 4, 2, 4, 4, 1, 2, 5, 1, 3, 6, 4, 1, 1, 1, 1, 2, 4, 1, 1, 4, 4, 5, 3, 1, 4, 5, 3, 4, 1, 3, 4, 2, 5, 3, 4, 1, 1, 1, 5, 1, 4, 4, 3, 4, 3, 5, 3, 2, 3, 3, 3, 2, 4, 1, 3, 4, 2, 6, 5, 2, 5, 5, 1, 1, 1, 5, 4, 2, 4, 2, 2, 5, 5, 5, 4, 2, 3, 3, 5, 4, 5, 6, 3, 1, 2, 4, 2, 5, 1, 4, 3, 1, 1, 1, 1, 3, 5, 1, 3, 3, 3, 3, 5, 2, 5, 4, 2, 2, 3, 6, 4, 2, 1, 2, 5, 5, 3, 1, 3, 5, 5, 5, 5, 6, 5, 1, 5, 1, 5, 5, 1, 6, 4, 3, 1, 6, 5, 1, 4, 6, 5, 1, 2, 5, 5, 3, 1, 5, 5, 3, 3, 3, 6, 1, 5, 1, 3, 3, 4, 5, 3, 1, 1, 1, 6, 3, 3, 4, 5, 3, 5, 4, 5, 1, 5, 5, 3, 5, 6, 5, 4, 5, 6, 1, 1, 4, 1, 3, 4, 1, 4, 1, 1, 5, 4, 4, 5, 5, 6, 1, 1, 2, 4, 2, 5, 2, 5, 5, 6, 1, 3, 3, 5, 6, 4, 3, 3, 1, 5, 5, 2, 3, 5, 3, 6, 3, 5, 2, 1, 2, 5, 2, 3, 3, 1, 3, 1, 1, 4, 3, 1, 3, 5, 1, 3, 6, 4, 5, 2, 2, 6, 2, 2, 5, 6, 2, 1, 3, 5, 3, 3, 5, 5, 5, 3, 5, 2, 2, 4, 4, 3, 5, 6, 1, 4, 1, 1, 4, 2, 3, 4, 5, 2, 4, 3, 3, 4, 3, 3, 3, 3, 1, 2, 3, 5, 5, 6, 4, 3, 5, 5, 5, 6, 1, 2, 3, 1, 5, 6, 2, 1, 3, 5]"
   ]
  },
  {
   "cell_type": "code",
   "execution_count": 14,
   "id": "discrete-pendant",
   "metadata": {},
   "outputs": [],
   "source": [
    "from collections import Counter"
   ]
  },
  {
   "cell_type": "code",
   "execution_count": 15,
   "id": "secure-coupon",
   "metadata": {},
   "outputs": [
    {
     "name": "stdout",
     "output_type": "stream",
     "text": [
      "Counter({'Water': 66, 'Normal': 64, 'Bug': 51, 'Grass': 47, 'Psychic': 31, 'Rock': 29, 'Fire': 27, 'Electric': 25, 'Ground': 23, 'Fighting': 23, 'Poison': 22, 'Steel': 18, 'Ice': 16, 'Fairy': 16, 'Dragon': 16, 'Ghost': 13, 'Dark': 13}) \n",
      "\n",
      "Counter({5: 122, 3: 103, 1: 99, 4: 78, 2: 51, 6: 47}) \n",
      "\n",
      "Counter({'S': 83, 'C': 46, 'D': 33, 'M': 32, 'L': 29, 'G': 29, 'B': 28, 'P': 23, 'A': 22, 'K': 20, 'E': 19, 'W': 19, 'T': 19, 'F': 18, 'H': 15, 'R': 14, 'N': 13, 'V': 10, 'Z': 8, 'J': 7, 'I': 4, 'O': 3, 'Y': 3, 'U': 2, 'X': 1})\n"
     ]
    }
   ],
   "source": [
    "# Collect the count of primary types\n",
    "type_count = Counter(primary_types)\n",
    "print(type_count, '\\n')\n",
    "\n",
    "# Collect the count of generations\n",
    "gen_count = Counter(generations)\n",
    "print(gen_count, '\\n')\n",
    "\n",
    "# Use list comprehension to get each Pokémon's starting letter\n",
    "starting_letters = [name[0] for name in names]\n",
    "\n",
    "# Collect the count of Pokémon for each starting_letter\n",
    "starting_letters_count = Counter(starting_letters)\n",
    "print(starting_letters_count)"
   ]
  },
  {
   "cell_type": "markdown",
   "id": "saving-partnership",
   "metadata": {},
   "source": [
    "## Combinations of Pokémon\n",
    "\n",
    "Ash, a Pokémon trainer, encounters a group of five Pokémon. These Pokémon have been loaded into a list within your session (called `pokemon`).\n",
    "\n",
    "Ash would like to try to catch some of these Pokémon, but his Pokédex can only store **two** Pokémon at a time. Let's use `combinations` from the `itertools` module to see what the possible pairs of Pokémon are that Ash could catch.\n",
    "\n",
    "Instructions\n",
    "\n",
    "1. Import `combinations` from `itertools`.\n",
    "2. Create a _combinations object_ called `combos_obj` that contains all possible pairs of Pokémon from the `pokemon` list. A pair has `2` Pokémon.\n",
    "3. Unpack `combos_obj` into a list called `combos_2`.\n",
    "4. Ash upgraded his Pokédex so that it can now store **four** Pokémon. Use `combinations` to collect all possible combinations of `4` different Pokémon. Save these combinations directly into a list called `combos_4` using the star character (`*`)."
   ]
  },
  {
   "cell_type": "code",
   "execution_count": 16,
   "id": "ancient-stocks",
   "metadata": {},
   "outputs": [],
   "source": [
    "# List\n",
    "pokemon = ['Geodude', 'Cubone', 'Lickitung', 'Persian', 'Diglett']"
   ]
  },
  {
   "cell_type": "code",
   "execution_count": 19,
   "id": "transsexual-spain",
   "metadata": {},
   "outputs": [
    {
     "name": "stdout",
     "output_type": "stream",
     "text": [
      "<class 'itertools.combinations'> \n",
      "\n",
      "[('Geodude', 'Cubone'), ('Geodude', 'Lickitung'), ('Geodude', 'Persian'), ('Geodude', 'Diglett'), ('Cubone', 'Lickitung'), ('Cubone', 'Persian'), ('Cubone', 'Diglett'), ('Lickitung', 'Persian'), ('Lickitung', 'Diglett'), ('Persian', 'Diglett')] \n",
      "\n",
      "[('Geodude', 'Cubone', 'Lickitung', 'Persian'), ('Geodude', 'Cubone', 'Lickitung', 'Diglett'), ('Geodude', 'Cubone', 'Persian', 'Diglett'), ('Geodude', 'Lickitung', 'Persian', 'Diglett'), ('Cubone', 'Lickitung', 'Persian', 'Diglett')]\n"
     ]
    }
   ],
   "source": [
    "# Import combinations from itertools\n",
    "from itertools import combinations\n",
    "\n",
    "# Create a combination object with pairs of Pokémon\n",
    "combos_obj = combinations(pokemon, 2)\n",
    "print(type(combos_obj), '\\n')\n",
    "\n",
    "# Convert combos_obj to a list by unpacking\n",
    "combos_2 = [*combos_obj]\n",
    "print(combos_2, '\\n')\n",
    "\n",
    "# Collect all possible combinations of 4 Pokémon directly into a list\n",
    "combos_4 = [*combinations(pokemon, 4)]\n",
    "print(combos_4)"
   ]
  },
  {
   "cell_type": "markdown",
   "id": "together-hunger",
   "metadata": {},
   "source": [
    "## Comparing Pokédexes\n",
    "\n",
    "Two Pokémon trainers, Ash and Misty, would like to compare their individual collections of Pokémon. Let's see what Pokémon they have in common and what Pokémon Ash has that Misty does not.\n",
    "\n",
    "Both Ash and Misty's Pokédex (their collection of Pokémon) have been loaded into your session as lists called `ash_pokedex` and `misty_pokedex`. They have been printed into the console for your convenience.\n",
    "\n",
    "Instructions\n",
    "\n",
    "1. Convert both lists (`ash_pokedex` and `misty_pokedex`) to sets called `ash_set` and `misty_set` respectively.\n",
    "2. Find the Pokémon that both Ash and Misty have in common using a set method.\n",
    "3. Find the Pokémon that are within Ash's Pokédex but **are not** within Misty's Pokédex with a set method.\n",
    "4. Use a set method to find the Pokémon that are unique to **either** Ash or Misty (i.e., the Pokémon that exist in **exactly one** of the Pokédexes but not both)."
   ]
  },
  {
   "cell_type": "code",
   "execution_count": 20,
   "id": "heard-switch",
   "metadata": {},
   "outputs": [],
   "source": [
    "# List\n",
    "ash_pokedex = ['Pikachu', 'Bulbasaur', 'Koffing', 'Spearow', 'Vulpix', 'Wigglytuff', 'Zubat', 'Rattata', 'Psyduck', 'Squirtle']\n",
    "misty_pokedex = ['Krabby', 'Horsea', 'Slowbro', 'Tentacool', 'Vaporeon', 'Magikarp', 'Poliwag', 'Starmie', 'Psyduck', 'Squirtle']"
   ]
  },
  {
   "cell_type": "code",
   "execution_count": 26,
   "id": "remarkable-steps",
   "metadata": {},
   "outputs": [
    {
     "name": "stdout",
     "output_type": "stream",
     "text": [
      "{'Psyduck', 'Squirtle'} \n",
      "\n",
      "{'Wigglytuff', 'Spearow', 'Rattata', 'Koffing', 'Vulpix', 'Bulbasaur', 'Pikachu', 'Zubat'} \n",
      "\n",
      "{'Wigglytuff', 'Vaporeon', 'Horsea', 'Spearow', 'Krabby', 'Tentacool', 'Rattata', 'Koffing', 'Starmie', 'Vulpix', 'Slowbro', 'Magikarp', 'Poliwag', 'Bulbasaur', 'Pikachu', 'Zubat'} \n",
      "\n"
     ]
    }
   ],
   "source": [
    "# Convert both lists to sets\n",
    "ash_set = set(ash_pokedex)\n",
    "misty_set = set(misty_pokedex)\n",
    "\n",
    "# Find the Pokémon that exist in both sets\n",
    "both = ash_set.intersection(misty_set)\n",
    "print(both, '\\n')\n",
    "\n",
    "# Find the Pokémon that Ash has and Misty does not have\n",
    "ash_only = ash_set.difference(misty_set)\n",
    "print(ash_only, '\\n')\n",
    "\n",
    "# Find the Pokémon that are in only one set (not both)\n",
    "unique_to_set = ash_set.symmetric_difference(misty_set)\n",
    "print(unique_to_set, '\\n')"
   ]
  },
  {
   "cell_type": "markdown",
   "id": "fatty-infrared",
   "metadata": {},
   "source": [
    "## Searching for Pokémon\n",
    "\n",
    "Two Pokémon trainers, Ash and Brock, have a collection of ten Pokémon each. Each trainer's Pokédex (their collection of Pokémon) has been loaded into your session as lists called `ash_pokedex` and `brock_pokedex` respectively.\n",
    "\n",
    "You'd like to see if certain Pokémon are members of either Ash or Brock's Pokédex.\n",
    "\n",
    "Let's compare using a `set` versus using a `list` when performing this membership testing.\n",
    "\n",
    "Instructions\n",
    "\n",
    "1. Convert Brock's Pokédex list (`brock_pokedex`) to a set called `brock_pokedex_set`.\n",
    "2. Check if `'Psyduck'` is in Ash's Pokédex list (`ash_pokedex`) and if `'Psyduck'` is in Brock's Pokédex **set** (`brock_pokedex_set`).\n",
    "3. Check if `'Machop'` is in Ash's Pokédex list (`ash_pokedex`) and if `'Machop'` is in Brock's Pokédex **set** (`brock_pokedex_set`).\n",
    "4. Within your IPython console, use `%timeit` to compare membership testing for `'Psyduck'` in `ash_pokedex`, `'Psyduck'` in `brock_pokedex_set`, `'Machop'` in `ash_pokedex`, and `'Machop'` in `brock_pokedex_set` (a total of **four** different timings). Don't include the `print()` function. Only time the commands that you wrote **inside** the `print()` function in the previous steps. Which membership testing was faster?"
   ]
  },
  {
   "cell_type": "code",
   "execution_count": 27,
   "id": "cloudy-budget",
   "metadata": {},
   "outputs": [],
   "source": [
    "# List\n",
    "ash_pokedex = ['Pikachu', 'Bulbasaur', 'Koffing', 'Spearow', 'Vulpix', 'Wigglytuff', 'Zubat', 'Rattata', 'Psyduck', 'Squirtle']\n",
    "brock_pokedex = ['Onix', 'Geodude', 'Zubat', 'Golem', 'Vulpix', 'Tauros', 'Kabutops', 'Omastar', 'Machop', 'Dugtrio']"
   ]
  },
  {
   "cell_type": "code",
   "execution_count": 34,
   "id": "approved-palmer",
   "metadata": {},
   "outputs": [
    {
     "name": "stdout",
     "output_type": "stream",
     "text": [
      "{'Machop', 'Golem', 'Kabutops', 'Onix', 'Vulpix', 'Omastar', 'Tauros', 'Geodude', 'Dugtrio', 'Zubat'} \n",
      "\n",
      "True\n",
      "False \n",
      "\n",
      "False\n",
      "True \n",
      "\n",
      "104 ns ± 1.22 ns per loop (mean ± std. dev. of 7 runs, 10000000 loops each)\n",
      "26.4 ns ± 0.128 ns per loop (mean ± std. dev. of 7 runs, 10000000 loops each)\n",
      "106 ns ± 1.7 ns per loop (mean ± std. dev. of 7 runs, 10000000 loops each)\n",
      "27.8 ns ± 0.19 ns per loop (mean ± std. dev. of 7 runs, 10000000 loops each)\n"
     ]
    }
   ],
   "source": [
    "# Convert Brock's Pokédex to a set\n",
    "brock_pokedex_set = set(brock_pokedex)\n",
    "print(brock_pokedex_set, '\\n')\n",
    "\n",
    "# Check if Psyduck is in Ash's list and Brock's set\n",
    "print('Psyduck' in ash_pokedex)\n",
    "print('Psyduck' in brock_pokedex_set, '\\n')\n",
    "\n",
    "# Check if Machop is in Ash's list and Brock's set\n",
    "print('Machop' in ash_pokedex)\n",
    "print('Machop' in brock_pokedex_set, '\\n')\n",
    "\n",
    "%timeit 'Psyduck' in ash_pokedex\n",
    "%timeit 'Psyduck' in brock_pokedex_set\n",
    "%timeit 'Machop' in ash_pokedex\n",
    "%timeit 'Machop' in brock_pokedex_set"
   ]
  },
  {
   "cell_type": "markdown",
   "id": "injured-little",
   "metadata": {},
   "source": [
    "## Gathering unique Pokémon\n",
    "\n",
    "A sample of 500 Pokémon has been created **with replacement** (meaning a Pokémon could be selected more than once and duplicates exist within the sample).\n",
    "\n",
    "Three lists have been loaded into your session:\n",
    "\n",
    "- The `names` list contains the names of each Pokémon in the sample.\n",
    "- The `primary_types` list containing the corresponding **primary** type of each Pokémon in the sample.\n",
    "- The `generations` list contains the corresponding **generation** of each Pokémon in the sample.\n",
    "\n",
    "The below function was written to gather unique values from each list:\n",
    "\n",
    "```\n",
    "def find_unique_items(data):\n",
    "    uniques = []\n",
    "    for item in data:\n",
    "        if item not in uniques:\n",
    "            uniques.append(item)\n",
    "    return uniques\n",
    "```\n",
    "\n",
    "Let's compare the above function to using the `set` data type for collecting unique items.\n",
    "\n",
    "Instructions\n",
    "\n",
    "1. Use the provided function to collect the unique Pokémon in the `names` list. Save this as `uniq_names_func`.\n",
    "2. Use a `set` data type to collect the unique Pokémon in the `names` list. Save this as `uniq_names_set`.\n",
    "3. Within your IPython console, use `%timeit` to compare the `find_unique_items()` function with using a `set` data type to collect unique Pokémon character names in `names`. Which membership testing was faster?\n",
    "4. Use the most efficient approach for gathering unique items to collect the unique Pokémon types (from the `primary_types` list) and Pokémon generations (from the `generations` list)."
   ]
  },
  {
   "cell_type": "code",
   "execution_count": 1,
   "id": "unauthorized-borough",
   "metadata": {},
   "outputs": [],
   "source": [
    "# List\n",
    "names = ['Forretress', 'WormadamSandy Cloak', 'Croagunk', 'Mime Jr.', 'Camerupt', 'Alomomola', 'Munchlax', 'Tauros', 'Victini', 'Salamence', 'Flygon', 'Cottonee', 'Pachirisu', 'Caterpie', 'Avalugg', 'Beldum', 'Foongus', 'Zigzagoon', 'Buizel', 'Octillery', 'Seviper', 'Charmeleon', 'Torkoal', 'Doublade', 'Grovyle', 'Maractus', 'Tynamo', 'Magikarp', 'Beautifly', 'Parasect', 'Frogadier', 'Clefairy', 'Doduo', 'Aggron', 'Conkeldurr', 'Volbeat', 'Whimsicott', 'Sentret', 'Lairon', 'Jirachi', 'Cloyster', 'Dragalge', 'Hitmonlee', 'Gothitelle', 'Delphox', 'Magmortar', 'Talonflame', 'Victini', 'Feebas', 'Rampardos', 'Marowak', 'Pelipper', 'Espurr', 'MeowsticMale', 'Stunfisk', 'Cascoon', 'Metang', 'Scizor', 'Chimecho', 'Anorith', 'Heatmor', 'Shieldon', 'Doduo', 'Mesprit', 'Nidoran♀', 'Wartortle', 'Wooper', 'Mr. Mime', 'Mightyena', 'Mankey', 'Golbat', 'Azurill', 'Bagon', 'Leafeon', 'Electivire', 'Milotic', 'Elekid', 'Chimecho', 'Delphox', 'Gabite', 'Scizor', 'Budew', 'Haxorus', 'Porygon-Z', 'Beldum', 'Torterra', 'Volcanion', 'Chimecho', 'Pidove', 'Entei', 'WormadamPlant Cloak', 'Azelf', 'Galvantula', 'Tirtouga', 'Gible', 'Primeape', 'Zweilous', 'Shellder', 'Ho-oh', 'Emboar', 'Rotom', 'Solosis', 'Vigoroth', 'Frogadier', 'Ampharos', 'Gastly', 'Riolu', 'Doublade', 'Kirlia', 'Lickitung', 'Aromatisse', 'Mandibuzz', 'Happiny', 'Chandelure', 'Gorebyss', 'Barboach', 'Eevee', 'Ho-oh', 'Duosion', 'Sewaddle', 'Hippopotas', 'Seaking', 'Butterfree', 'Mew', 'Bronzor', 'Suicune', 'Herdier', 'Xerneas', 'Mareep', 'Slakoth', 'Uxie', 'Samurott', 'Dewgong', 'Togekiss', 'Pichu', 'Vanillish', 'Zapdos', 'Floette', 'Fletchling', 'Vigoroth', 'Umbreon', 'Conkeldurr', 'Phantump', 'Shellder', 'WormadamTrash Cloak', 'Rampardos', 'Electabuzz', 'Clawitzer', 'Dedenne', 'Regigigas', 'Xatu', 'Wartortle', 'Growlithe', 'Gulpin', 'Weezing', 'Starly', 'Scraggy', 'Skrelp', 'Wynaut', 'Carvanha', 'Solrock', 'Heatmor', 'KyogrePrimal Kyogre', 'Swinub', 'Mothim', 'Eelektrik', 'Yanma', 'Piplup', 'Chespin', 'Shellos', 'Cradily', 'Chatot', 'Burmy', 'Groudon', 'Inkay', 'Azumarill', 'Spinarak', 'Surskit', 'Azelf', 'Chandelure', 'Ariados', 'Gloom', 'Toxicroak', 'Teddiursa', 'Forretress', 'Onix', 'Musharna', 'Carbink', 'Phantump', 'Ledyba', 'Escavalier', 'Misdreavus', 'Nuzleaf', 'Drilbur', 'Staravia', 'Garbodor', 'Slakoth', 'Glalie', 'Minccino', 'Cottonee', 'Feraligatr', 'Munna', 'Ditto', 'Feraligatr', 'Igglybuff', 'Electrike', 'Tropius', 'Muk', 'Froslass', 'Huntail', 'Pidove', 'Shellder', 'Regice', 'Sealeo', 'Chinchou', 'Absol', 'Skrelp', 'Volcarona', 'Minun', 'Magnezone', 'Feraligatr', 'Marowak', 'Mantine', 'Shelmet', 'Abra', 'Musharna', 'Chespin', 'Victreebel', 'Sudowoodo', 'Grotle', 'Hawlucha', 'Ivysaur', 'Mew', 'Hawlucha', 'Porygon', 'Qwilfish', 'Skrelp', 'Natu', 'Clefable', 'Anorith', 'RotomWash Rotom', 'Swoobat', 'Floette', 'Corsola', 'Marowak', 'Glalie', 'Buneary', 'Zweilous', 'Arceus', 'Ponyta', 'Sandslash', 'Dugtrio', 'Kingler', 'Breloom', 'Lilligant', 'Entei', 'Carbink', 'Audino', 'Dewott', 'Golem', 'Victreebel', 'Shiftry', 'Swirlix', 'Caterpie', 'Krabby', 'Nosepass', 'Roggenrola', 'Gligar', 'Sceptile', 'Sunflora', 'Leavanny', 'Froakie', 'Girafarig', 'Exeggcute', 'Simipour', 'Archeops', 'Kadabra', 'Chikorita', 'Chansey', 'Onix', 'Cottonee', 'Muk', 'Chimecho', 'Victini', 'Gastrodon', 'Cradily', 'Exeggcute', 'Celebi', 'Eelektross', 'Sliggoo', 'Haunter', 'Bouffalant', 'Crobat', 'Solrock', 'Whismur', 'Sudowoodo', 'Durant', 'Articuno', 'Minun', 'Rhyperior', 'Ho-oh', 'Electrode', 'Lombre', 'Mesprit', 'Goodra', 'Numel', 'Castform', 'Drifblim', 'Bastiodon', 'Helioptile', 'Aggron', 'Scolipede', 'Sandslash', 'Cherrim', 'Mantyke', 'Golduck', 'Wingull', 'Froslass', 'Seismitoad', 'Manaphy', 'Jynx', 'Gallade', 'Karrablast', 'Rampardos', 'Haxorus', 'Sandshrew', 'Bayleef', 'Ludicolo', 'Blitzle', 'Venonat', 'Chingling', 'Flygon', 'Raticate', 'Espeon', 'Lileep', 'Durant', 'Surskit', 'Wynaut', 'Slowking', 'Abomasnow', 'Larvesta', 'Registeel', 'Hoppip', 'Drilbur', 'Aggron', 'Murkrow', 'Fennekin', 'Archen', 'Klink', 'Pignite', 'Golduck', 'Sableye', 'Wartortle', 'Sliggoo', 'Trapinch', 'Vanilluxe', 'Gengar', 'Carracosta', 'Espurr', 'Golett', 'Tropius', 'Weepinbell', 'Krabby', 'Talonflame', 'Hippopotas', 'Simisear', 'Slowbro', 'Manectric', 'Lugia', 'Gligar', 'Claydol', 'Tangela', 'Duskull', 'Buneary', 'Altaria', 'Cryogonal', 'Elekid', 'Toxicroak', 'Zapdos', 'Ralts', 'KyogrePrimal Kyogre', \"Farfetch'd\", 'Duskull', 'Mesprit', 'Mightyena', 'Manaphy', 'Zebstrika', 'Vileplume', 'Smeargle', 'Ludicolo', 'Numel', 'Snover', 'Totodile', 'Reuniclus', 'Panpour', 'Pyroar', 'Qwilfish', 'Manaphy', 'Tyranitar', 'Kyurem', 'Honchkrow', 'Tympole', 'Azurill', 'Pikachu', 'Forretress', 'Marshtomp', 'Persian', 'Gigalith', 'Clamperl', 'Poliwag', 'Reuniclus', 'Kricketot', 'Exeggcute', 'Infernape', 'Chingling', 'Gulpin', 'Yveltal', 'Porygon-Z', 'Cascoon', 'Donphan', 'Duosion', 'Natu', 'Lombre', 'Phantump', 'Spheal', 'Corsola', 'Bastiodon', 'Spritzee', 'Nincada', 'Beheeyem', 'Quagsire', 'Combusken', 'Vespiquen', 'DarmanitanStandard Mode', 'Scizor', 'Swanna', 'Pidgeotto', 'Cradily', 'Blissey', 'Clefable', 'Numel', 'Virizion', 'Chesnaught', 'Yamask', 'Burmy', 'Butterfree', 'Garchomp', 'Masquerain', 'Ursaring', 'Servine', 'Infernape', 'Ludicolo', 'Gastrodon', 'Ducklett', 'Bergmite', 'Espurr', 'Moltres', 'Butterfree', 'Arcanine', 'Chansey', 'Chespin', 'Snover', 'Shroomish', 'Mightyena', 'Swoobat', 'Grumpig', 'Bellsprout', 'Cyndaquil', 'Gabite', 'Bibarel', 'Zorua', 'WormadamPlant Cloak', 'Roggenrola', 'Arcanine', 'Slakoth', 'Dewott', 'Scizor', 'Crawdaunt', 'Fearow', 'Buizel', 'Tentacruel', 'Azumarill', 'Espeon', 'Watchog', 'Staravia', 'Amaura', 'Exeggutor', 'Gible', 'Marowak', 'Ekans', 'Bastiodon', 'Shelgon', 'Roserade', 'Scrafty', 'Machamp', 'Shuppet', 'Mawile', 'Boldore', 'Krookodile', 'Sudowoodo']\n",
    "primary_types = ['Bug', 'Bug', 'Poison', 'Psychic', 'Fire', 'Water', 'Normal', 'Normal', 'Psychic', 'Dragon', 'Ground', 'Grass', 'Electric', 'Bug', 'Ice', 'Steel', 'Grass', 'Normal', 'Water', 'Water', 'Poison', 'Fire', 'Fire', 'Steel', 'Grass', 'Grass', 'Electric', 'Water', 'Bug', 'Bug', 'Water', 'Fairy', 'Normal', 'Steel', 'Fighting', 'Bug', 'Grass', 'Normal', 'Steel', 'Steel', 'Water', 'Poison', 'Fighting', 'Psychic', 'Fire', 'Fire', 'Fire', 'Psychic', 'Water', 'Rock', 'Ground', 'Water', 'Psychic', 'Psychic', 'Ground', 'Bug', 'Steel', 'Bug', 'Psychic', 'Rock', 'Fire', 'Rock', 'Normal', 'Psychic', 'Poison', 'Water', 'Water', 'Psychic', 'Dark', 'Fighting', 'Poison', 'Normal', 'Dragon', 'Grass', 'Electric', 'Water', 'Electric', 'Psychic', 'Fire', 'Dragon', 'Bug', 'Grass', 'Dragon', 'Normal', 'Steel', 'Grass', 'Fire', 'Psychic', 'Normal', 'Fire', 'Bug', 'Psychic', 'Bug', 'Water', 'Dragon', 'Fighting', 'Dark', 'Water', 'Fire', 'Fire', 'Electric', 'Psychic', 'Normal', 'Water', 'Electric', 'Ghost', 'Fighting', 'Steel', 'Psychic', 'Normal', 'Fairy', 'Dark', 'Normal', 'Ghost', 'Water', 'Water', 'Normal', 'Fire', 'Psychic', 'Bug', 'Ground', 'Water', 'Bug', 'Psychic', 'Steel', 'Water', 'Normal', 'Fairy', 'Electric', 'Normal', 'Psychic', 'Water', 'Water', 'Fairy', 'Electric', 'Ice', 'Electric', 'Fairy', 'Normal', 'Normal', 'Dark', 'Fighting', 'Ghost', 'Water', 'Bug', 'Rock', 'Electric', 'Water', 'Electric', 'Normal', 'Psychic', 'Water', 'Fire', 'Poison', 'Poison', 'Normal', 'Dark', 'Poison', 'Psychic', 'Water', 'Rock', 'Fire', 'Water', 'Ice', 'Bug', 'Electric', 'Bug', 'Water', 'Grass', 'Water', 'Rock', 'Normal', 'Bug', 'Ground', 'Dark', 'Water', 'Bug', 'Bug', 'Psychic', 'Ghost', 'Bug', 'Grass', 'Poison', 'Normal', 'Bug', 'Rock', 'Psychic', 'Rock', 'Ghost', 'Bug', 'Bug', 'Ghost', 'Grass', 'Ground', 'Normal', 'Poison', 'Normal', 'Ice', 'Normal', 'Grass', 'Water', 'Psychic', 'Normal', 'Water', 'Normal', 'Electric', 'Grass', 'Poison', 'Ice', 'Water', 'Normal', 'Water', 'Ice', 'Ice', 'Water', 'Dark', 'Poison', 'Bug', 'Electric', 'Electric', 'Water', 'Ground', 'Water', 'Bug', 'Psychic', 'Psychic', 'Grass', 'Grass', 'Rock', 'Grass', 'Fighting', 'Grass', 'Psychic', 'Fighting', 'Normal', 'Water', 'Poison', 'Psychic', 'Fairy', 'Rock', 'Electric', 'Psychic', 'Fairy', 'Water', 'Ground', 'Ice', 'Normal', 'Dark', 'Normal', 'Fire', 'Ground', 'Ground', 'Water', 'Grass', 'Grass', 'Fire', 'Rock', 'Normal', 'Water', 'Rock', 'Grass', 'Grass', 'Fairy', 'Bug', 'Water', 'Rock', 'Rock', 'Ground', 'Grass', 'Grass', 'Bug', 'Water', 'Normal', 'Grass', 'Water', 'Rock', 'Psychic', 'Grass', 'Normal', 'Rock', 'Grass', 'Poison', 'Psychic', 'Psychic', 'Water', 'Rock', 'Grass', 'Psychic', 'Electric', 'Dragon', 'Ghost', 'Normal', 'Poison', 'Rock', 'Normal', 'Rock', 'Bug', 'Ice', 'Electric', 'Ground', 'Fire', 'Electric', 'Water', 'Psychic', 'Dragon', 'Fire', 'Normal', 'Ghost', 'Rock', 'Electric', 'Steel', 'Bug', 'Ground', 'Grass', 'Water', 'Water', 'Water', 'Ice', 'Water', 'Water', 'Ice', 'Psychic', 'Bug', 'Rock', 'Dragon', 'Ground', 'Grass', 'Water', 'Electric', 'Bug', 'Psychic', 'Ground', 'Normal', 'Psychic', 'Rock', 'Bug', 'Bug', 'Psychic', 'Water', 'Grass', 'Bug', 'Steel', 'Grass', 'Ground', 'Steel', 'Dark', 'Fire', 'Rock', 'Steel', 'Fire', 'Water', 'Dark', 'Water', 'Dragon', 'Ground', 'Ice', 'Ghost', 'Water', 'Psychic', 'Ground', 'Grass', 'Grass', 'Water', 'Fire', 'Ground', 'Fire', 'Water', 'Electric', 'Psychic', 'Ground', 'Ground', 'Grass', 'Ghost', 'Normal', 'Dragon', 'Ice', 'Electric', 'Poison', 'Electric', 'Psychic', 'Water', 'Normal', 'Ghost', 'Psychic', 'Dark', 'Water', 'Electric', 'Grass', 'Normal', 'Water', 'Fire', 'Grass', 'Water', 'Psychic', 'Water', 'Fire', 'Water', 'Water', 'Rock', 'Dragon', 'Dark', 'Water', 'Normal', 'Electric', 'Bug', 'Water', 'Normal', 'Rock', 'Water', 'Water', 'Psychic', 'Bug', 'Grass', 'Fire', 'Psychic', 'Poison', 'Dark', 'Normal', 'Bug', 'Ground', 'Psychic', 'Psychic', 'Water', 'Ghost', 'Ice', 'Water', 'Rock', 'Fairy', 'Bug', 'Psychic', 'Water', 'Fire', 'Bug', 'Fire', 'Bug', 'Water', 'Normal', 'Rock', 'Normal', 'Fairy', 'Fire', 'Grass', 'Grass', 'Ghost', 'Bug', 'Bug', 'Dragon', 'Bug', 'Normal', 'Grass', 'Fire', 'Water', 'Water', 'Water', 'Ice', 'Psychic', 'Fire', 'Bug', 'Fire', 'Normal', 'Grass', 'Grass', 'Grass', 'Dark', 'Psychic', 'Psychic', 'Grass', 'Fire', 'Dragon', 'Normal', 'Dark', 'Bug', 'Rock', 'Fire', 'Normal', 'Water', 'Bug', 'Water', 'Normal', 'Water', 'Water', 'Water', 'Psychic', 'Normal', 'Normal', 'Rock', 'Grass', 'Dragon', 'Ground', 'Poison', 'Rock', 'Dragon', 'Grass', 'Dark', 'Fighting', 'Ghost', 'Steel', 'Rock', 'Ground', 'Rock']\n",
    "generations = [2, 4, 4, 4, 3, 5, 4, 1, 5, 3, 3, 5, 4, 1, 6, 3, 5, 3, 4, 2, 3, 1, 3, 6, 3, 5, 5, 1, 3, 1, 6, 1, 1, 3, 5, 3, 5, 2, 3, 3, 1, 6, 1, 5, 6, 4, 6, 5, 3, 4, 1, 3, 6, 6, 5, 3, 3, 2, 3, 3, 5, 4, 1, 4, 1, 1, 2, 1, 3, 1, 1, 3, 3, 4, 4, 3, 2, 3, 6, 4, 2, 4, 5, 4, 3, 4, 6, 3, 5, 2, 4, 4, 5, 5, 4, 1, 5, 1, 2, 5, 4, 5, 3, 6, 2, 1, 4, 6, 3, 1, 6, 5, 4, 5, 3, 3, 1, 2, 5, 5, 4, 1, 1, 1, 4, 2, 5, 6, 2, 3, 4, 5, 1, 4, 2, 5, 1, 6, 6, 3, 2, 5, 6, 1, 4, 4, 1, 6, 6, 4, 2, 1, 1, 3, 1, 4, 5, 6, 3, 3, 3, 5, 3, 2, 4, 5, 2, 4, 6, 4, 3, 4, 4, 3, 6, 2, 2, 3, 4, 5, 2, 1, 4, 2, 2, 1, 5, 6, 6, 2, 5, 2, 3, 5, 4, 5, 3, 3, 5, 5, 2, 5, 1, 2, 2, 3, 3, 1, 4, 3, 5, 1, 3, 3, 2, 3, 6, 5, 3, 4, 2, 1, 2, 5, 1, 5, 6, 1, 2, 4, 6, 1, 1, 6, 1, 2, 6, 2, 1, 3, 4, 5, 6, 2, 1, 3, 4, 5, 4, 1, 1, 1, 1, 3, 5, 2, 6, 5, 5, 1, 1, 3, 6, 1, 1, 3, 5, 2, 3, 2, 5, 6, 2, 1, 5, 5, 1, 2, 1, 1, 5, 1, 3, 5, 4, 3, 1, 2, 5, 6, 1, 5, 2, 3, 3, 2, 5, 1, 3, 4, 2, 1, 3, 4, 6, 3, 3, 4, 4, 6, 3, 5, 1, 4, 4, 1, 3, 4, 5, 4, 1, 4, 5, 4, 5, 1, 2, 3, 5, 1, 4, 3, 1, 2, 3, 5, 3, 3, 2, 4, 5, 3, 2, 5, 3, 2, 6, 5, 5, 5, 1, 3, 1, 6, 3, 5, 1, 5, 6, 5, 3, 1, 1, 6, 4, 5, 1, 3, 2, 2, 3, 1, 3, 4, 3, 5, 2, 4, 1, 3, 3, 1, 3, 4, 3, 4, 5, 1, 2, 3, 3, 4, 2, 5, 5, 6, 2, 4, 2, 5, 4, 5, 3, 1, 2, 3, 1, 5, 3, 1, 5, 4, 1, 4, 4, 3, 6, 4, 3, 2, 5, 2, 3, 6, 3, 2, 4, 6, 3, 5, 2, 3, 4, 5, 2, 5, 1, 3, 2, 1, 3, 5, 6, 5, 4, 1, 4, 3, 2, 5, 4, 3, 4, 5, 6, 6, 1, 1, 1, 1, 6, 4, 3, 3, 5, 3, 1, 2, 4, 4, 5, 4, 5, 1, 3, 5, 2, 3, 1, 4, 1, 2, 2, 5, 4, 6, 1, 4, 1, 1, 4, 3, 4, 5, 1, 3, 3, 5, 5, 2]\n",
    "\n",
    "# Define function\n",
    "def find_unique_items(data):\n",
    "    uniques = []\n",
    "    for item in data:\n",
    "        if item not in uniques:\n",
    "            uniques.append(item)\n",
    "    return uniques"
   ]
  },
  {
   "cell_type": "code",
   "execution_count": 44,
   "id": "fifteen-neighbor",
   "metadata": {},
   "outputs": [
    {
     "name": "stdout",
     "output_type": "stream",
     "text": [
      "368 \n",
      "\n",
      "368\n",
      "True \n",
      "\n",
      "7.2 µs ± 211 ns per loop (mean ± std. dev. of 7 runs, 100000 loops each)\n",
      "785 µs ± 5.82 µs per loop (mean ± std. dev. of 7 runs, 1000 loops each)\n",
      "\n",
      "\n",
      "{'Grass', 'Steel', 'Water', 'Fire', 'Bug', 'Ice', 'Fairy', 'Electric', 'Ground', 'Rock', 'Normal', 'Dragon', 'Fighting', 'Poison', 'Psychic', 'Ghost', 'Dark'}\n",
      "{1, 2, 3, 4, 5, 6}\n"
     ]
    }
   ],
   "source": [
    "# Use the provided function to collect unique Pokémon names\n",
    "uniq_names_func = set(names)\n",
    "print(len(uniq_names_func), '\\n')\n",
    "\n",
    "# Convert the names list to a set to collect unique Pokémon names\n",
    "uniq_names_set = set(names)\n",
    "print(len(uniq_names_set))\n",
    "\n",
    "# Check that both unique collections are equivalent\n",
    "print(sorted(uniq_names_func) == sorted(uniq_names_set), '\\n')\n",
    "\n",
    "%timeit uniq_names_func = set(names)\n",
    "%timeit find_unique_items(names)\n",
    "print('\\n')\n",
    "\n",
    "# Use the best approach to collect unique primary types and generations\n",
    "uniq_types = set(primary_types) \n",
    "uniq_gens = set(generations)\n",
    "print(uniq_types, uniq_gens, sep='\\n') "
   ]
  },
  {
   "cell_type": "markdown",
   "id": "catholic-medicare",
   "metadata": {},
   "source": [
    "## Gathering Pokémon without a loop\n",
    "\n",
    "A list containing 720 Pokémon has been loaded into your session as `poke_names`. Another list containing each Pokémon's corresponding generation has been loaded as `poke_gens`.\n",
    "\n",
    "A for loop has been created to filter the Pokémon that belong to generation one or two, and collect the number of letters in each Pokémon's name:\n",
    "\n",
    "```\n",
    "gen1_gen2_name_lengths_loop = []\n",
    "\n",
    "for name,gen in zip(poke_names, poke_gens):\n",
    "    if gen < 3:\n",
    "        name_length = len(name)\n",
    "        poke_tuple = (name, name_length)\n",
    "        gen1_gen2_name_lengths_loop.append(poke_tuple)\n",
    "```\n",
    "\n",
    "Instructions\n",
    "\n",
    "1. Eliminate the above for loop using list comprehension and the `map()` function:\n",
    "    - Use list comprehension to collect each Pokémon that belongs to generation 1 or generation 2. Save this as `gen1_gen2_pokemon`.\n",
    "    - Use the `map()` function to collect the number of letters in each Pokémon's name within the `gen1_gen2_pokemon` list. Save this _map object_ as `name_lengths_map`.\n",
    "    - Combine `gen1_gen2_pokemon` and `name_length_map` into a list called `gen1_gen2_name_lengths`."
   ]
  },
  {
   "cell_type": "code",
   "execution_count": 53,
   "id": "august-divorce",
   "metadata": {},
   "outputs": [],
   "source": [
    "# List\n",
    "poke_names = ['Abomasnow', 'Abra', 'Absol', 'Accelgor', 'Aerodactyl', 'Aggron', 'Aipom', 'Alakazam', 'Alomomola', 'Altaria', 'Amaura', 'Ambipom', 'Amoonguss', 'Ampharos', 'Anorith', 'Arbok', 'Arcanine', 'Arceus', 'Archen', 'Archeops', 'Ariados', 'Armaldo', 'Aromatisse', 'Aron', 'Articuno', 'Audino', 'Aurorus', 'Avalugg', 'Axew', 'Azelf', 'Azumarill', 'Azurill', 'Bagon', 'Baltoy', 'Banette', 'Barbaracle', 'Barboach', 'Basculin', 'Bastiodon', 'Bayleef', 'Beartic', 'Beautifly', 'Beedrill', 'Beheeyem', 'Beldum', 'Bellossom', 'Bellsprout', 'Bergmite', 'Bibarel', 'Bidoof', 'Binacle', 'Bisharp', 'Blastoise', 'Blaziken', 'Blissey', 'Blitzle', 'Boldore', 'Bonsly', 'Bouffalant', 'Braixen', 'Braviary', 'Breloom', 'Bronzong', 'Bronzor', 'Budew', 'Buizel', 'Bulbasaur', 'Buneary', 'Bunnelby', 'Burmy', 'Butterfree', 'Cacnea', 'Cacturne', 'Camerupt', 'Carbink', 'Carnivine', 'Carracosta', 'Carvanha', 'Cascoon', 'Castform', 'Caterpie', 'Celebi', 'Chandelure', 'Chansey', 'Charizard', 'Charmander', 'Charmeleon', 'Chatot', 'Cherrim', 'Cherubi', 'Chesnaught', 'Chespin', 'Chikorita', 'Chimchar', 'Chimecho', 'Chinchou', 'Chingling', 'Cinccino', 'Clamperl', 'Clauncher', 'Clawitzer', 'Claydol', 'Clefable', 'Clefairy', 'Cleffa', 'Cloyster', 'Cobalion', 'Cofagrigus', 'Combee', 'Combusken', 'Conkeldurr', 'Corphish', 'Corsola', 'Cottonee', 'Cradily', 'Cranidos', 'Crawdaunt', 'Cresselia', 'Croagunk', 'Crobat', 'Croconaw', 'Crustle', 'Cryogonal', 'Cubchoo', 'Cubone', 'Cyndaquil', 'Darkrai', 'DarmanitanStandard Mode', 'DarmanitanZen Mode', 'Darumaka', 'Dedenne', 'Deerling', 'Deino', 'Delcatty', 'Delibird', 'Delphox', 'Dewgong', 'Dewott', 'Dialga', 'Diancie', 'Diggersby', 'Diglett', 'Ditto', 'Dodrio', 'Doduo', 'Donphan', 'Doublade', 'Dragalge', 'Dragonair', 'Dragonite', 'Drapion', 'Dratini', 'Drifblim', 'Drifloon', 'Drilbur', 'Drowzee', 'Druddigon', 'Ducklett', 'Dugtrio', 'Dunsparce', 'Duosion', 'Durant', 'Dusclops', 'Dusknoir', 'Duskull', 'Dustox', 'Dwebble', 'Eelektrik', 'Eelektross', 'Eevee', 'Ekans', 'Electabuzz', 'Electivire', 'Electrike', 'Electrode', 'Elekid', 'Elgyem', 'Emboar', 'Emolga', 'Empoleon', 'Entei', 'Escavalier', 'Espeon', 'Espurr', 'Excadrill', 'Exeggcute', 'Exeggutor', 'Exploud', \"Farfetch'd\", 'Fearow', 'Feebas', 'Fennekin', 'Feraligatr', 'Ferroseed', 'Ferrothorn', 'Finneon', 'Flaaffy', 'Flabébé', 'Flareon', 'Fletchinder', 'Fletchling', 'Floatzel', 'Floette', 'Florges', 'Flygon', 'Foongus', 'Forretress', 'Fraxure', 'Frillish', 'Froakie', 'Frogadier', 'Froslass', 'Furfrou', 'Furret', 'Gabite', 'Gallade', 'Galvantula', 'Garbodor', 'Garchomp', 'Gardevoir', 'Gastly', 'Gastrodon', 'Genesect', 'Gengar', 'Geodude', 'Gible', 'Gigalith', 'Girafarig', 'Glaceon', 'Glalie', 'Glameow', 'Gligar', 'Gliscor', 'Gloom', 'Gogoat', 'Golbat', 'Goldeen', 'Golduck', 'Golem', 'Golett', 'Golurk', 'Goodra', 'Goomy', 'Gorebyss', 'Gothita', 'Gothitelle', 'Gothorita', 'Granbull', 'Graveler', 'Greninja', 'Grimer', 'Grotle', 'Groudon', 'GroudonPrimal Groudon', 'Grovyle', 'Growlithe', 'Grumpig', 'Gulpin', 'Gurdurr', 'Gyarados', 'Happiny', 'Hariyama', 'Haunter', 'Hawlucha', 'Haxorus', 'Heatmor', 'Heatran', 'Heliolisk', 'Helioptile', 'Heracross', 'Herdier', 'Hippopotas', 'Hippowdon', 'Hitmonchan', 'Hitmonlee', 'Hitmontop', 'Ho-oh', 'Honchkrow', 'Honedge', 'Hoothoot', 'Hoppip', 'Horsea', 'Houndoom', 'Houndour', 'Huntail', 'Hydreigon', 'Hypno', 'Igglybuff', 'Illumise', 'Infernape', 'Inkay', 'Ivysaur', 'Jellicent', 'Jigglypuff', 'Jirachi', 'Jolteon', 'Joltik', 'Jumpluff', 'Jynx', 'Kabuto', 'Kabutops', 'Kadabra', 'Kakuna', 'Kangaskhan', 'Karrablast', 'Kecleon', 'Kingdra', 'Kingler', 'Kirlia', 'Klang', 'Klefki', 'Klink', 'Klinklang', 'Koffing', 'Krabby', 'Kricketot', 'Kricketune', 'Krokorok', 'Krookodile', 'Kyogre', 'KyogrePrimal Kyogre', 'Kyurem', 'KyuremBlack Kyurem', 'KyuremWhite Kyurem', 'Lairon', 'Lampent', 'Lanturn', 'Lapras', 'Larvesta', 'Larvitar', 'Latias', 'Latios', 'Leafeon', 'Leavanny', 'Ledian', 'Ledyba', 'Lickilicky', 'Lickitung', 'Liepard', 'Lileep', 'Lilligant', 'Lillipup', 'Linoone', 'Litleo', 'Litwick', 'Lombre', 'Lopunny', 'Lotad', 'Loudred', 'Lucario', 'Ludicolo', 'Lugia', 'Lumineon', 'Lunatone', 'Luvdisc', 'Luxio', 'Luxray', 'Machamp', 'Machoke', 'Machop', 'Magby', 'Magcargo', 'Magikarp', 'Magmar', 'Magmortar', 'Magnemite', 'Magneton', 'Magnezone', 'Makuhita', 'Malamar', 'Mamoswine', 'Manaphy', 'Mandibuzz', 'Manectric', 'Mankey', 'Mantine', 'Mantyke', 'Maractus', 'Mareep', 'Marill', 'Marowak', 'Marshtomp', 'Masquerain', 'Mawile', 'Medicham', 'Meditite', 'MeowsticFemale', 'MeowsticMale', 'Meowth', 'Mesprit', 'Metagross', 'Metang', 'Metapod', 'Mew', 'Mewtwo', 'Mienfoo', 'Mienshao', 'Mightyena', 'Milotic', 'Miltank', 'Mime Jr.', 'Minccino', 'Minun', 'Misdreavus', 'Mismagius', 'Moltres', 'Monferno', 'Mothim', 'Mr. Mime', 'Mudkip', 'Muk', 'Munchlax', 'Munna', 'Murkrow', 'Musharna', 'Natu', 'Nidoking', 'Nidoqueen', 'Nidoran♀', 'Nidoran♂', 'Nidorina', 'Nidorino', 'Nincada', 'Ninetales', 'Ninjask', 'Noctowl', 'Noibat', 'Noivern', 'Nosepass', 'Numel', 'Nuzleaf', 'Octillery', 'Oddish', 'Omanyte', 'Omastar', 'Onix', 'Oshawott', 'Pachirisu', 'Palkia', 'Palpitoad', 'Pancham', 'Pangoro', 'Panpour', 'Pansage', 'Pansear', 'Paras', 'Parasect', 'Patrat', 'Pawniard', 'Pelipper', 'Persian', 'Petilil', 'Phanpy', 'Phantump', 'Phione', 'Pichu', 'Pidgeot', 'Pidgeotto', 'Pidgey', 'Pidove', 'Pignite', 'Pikachu', 'Piloswine', 'Pineco', 'Pinsir', 'Piplup', 'Plusle', 'Politoed', 'Poliwag', 'Poliwhirl', 'Poliwrath', 'Ponyta', 'Poochyena', 'Porygon', 'Porygon-Z', 'Porygon2', 'Primeape', 'Prinplup', 'Probopass', 'Psyduck', 'Pupitar', 'Purrloin', 'Purugly', 'Pyroar', 'Quagsire', 'Quilava', 'Quilladin', 'Qwilfish', 'Raichu', 'Raikou', 'Ralts', 'Rampardos', 'Rapidash', 'Raticate', 'Rattata', 'Rayquaza', 'Regice', 'Regigigas', 'Regirock', 'Registeel', 'Relicanth', 'Remoraid', 'Reshiram', 'Reuniclus', 'Rhydon', 'Rhyhorn', 'Rhyperior', 'Riolu', 'Roggenrola', 'Roselia', 'Roserade', 'Rotom', 'RotomFan Rotom', 'RotomFrost Rotom', 'RotomHeat Rotom', 'RotomMow Rotom', 'RotomWash Rotom', 'Rufflet', 'Sableye', 'Salamence', 'Samurott', 'Sandile', 'Sandshrew', 'Sandslash', 'Sawk', 'Sawsbuck', 'Scatterbug', 'Sceptile', 'Scizor', 'Scolipede', 'Scrafty', 'Scraggy', 'Scyther', 'Seadra', 'Seaking', 'Sealeo', 'Seedot', 'Seel', 'Seismitoad', 'Sentret', 'Serperior', 'Servine', 'Seviper', 'Sewaddle', 'Sharpedo', 'Shedinja', 'Shelgon', 'Shellder', 'Shellos', 'Shelmet', 'Shieldon', 'Shiftry', 'Shinx', 'Shroomish', 'Shuckle', 'Shuppet', 'Sigilyph', 'Silcoon', 'Simipour', 'Simisage', 'Simisear', 'Skarmory', 'Skiddo', 'Skiploom', 'Skitty', 'Skorupi', 'Skrelp', 'Skuntank', 'Slaking', 'Slakoth', 'Sliggoo', 'Slowbro', 'Slowking', 'Slowpoke', 'Slugma', 'Slurpuff', 'Smeargle', 'Smoochum', 'Sneasel', 'Snivy', 'Snorlax', 'Snorunt', 'Snover', 'Snubbull', 'Solosis', 'Solrock', 'Spearow', 'Spewpa', 'Spheal', 'Spinarak', 'Spinda', 'Spiritomb', 'Spoink', 'Spritzee', 'Squirtle', 'Stantler', 'Staraptor', 'Staravia', 'Starly', 'Starmie', 'Staryu', 'Steelix', 'Stoutland', 'Stunfisk', 'Stunky', 'Sudowoodo', 'Suicune', 'Sunflora', 'Sunkern', 'Surskit', 'Swablu', 'Swadloon', 'Swalot', 'Swampert', 'Swanna', 'Swellow', 'Swinub', 'Swirlix', 'Swoobat', 'Sylveon', 'Taillow', 'Talonflame', 'Tangela', 'Tangrowth', 'Tauros', 'Teddiursa', 'Tentacool', 'Tentacruel', 'Tepig', 'Terrakion', 'Throh', 'Timburr', 'Tirtouga', 'Togekiss', 'Togepi', 'Togetic', 'Torchic', 'Torkoal', 'Torterra', 'Totodile', 'Toxicroak', 'Tranquill', 'Trapinch', 'Treecko', 'Trevenant', 'Tropius', 'Trubbish', 'Turtwig', 'Tympole', 'Tynamo', 'Typhlosion', 'Tyranitar', 'Tyrantrum', 'Tyrogue', 'Tyrunt', 'Umbreon', 'Unfezant', 'Unown', 'Ursaring', 'Uxie', 'Vanillish', 'Vanillite', 'Vanilluxe', 'Vaporeon', 'Venipede', 'Venomoth', 'Venonat', 'Venusaur', 'Vespiquen', 'Vibrava', 'Victini', 'Victreebel', 'Vigoroth', 'Vileplume', 'Virizion', 'Vivillon', 'Volbeat', 'Volcanion', 'Volcarona', 'Voltorb', 'Vullaby', 'Vulpix', 'Wailmer', 'Wailord', 'Walrein', 'Wartortle', 'Watchog', 'Weavile', 'Weedle', 'Weepinbell', 'Weezing', 'Whimsicott', 'Whirlipede', 'Whiscash', 'Whismur', 'Wigglytuff', 'Wingull', 'Wobbuffet', 'Woobat', 'Wooper', 'WormadamPlant Cloak', 'WormadamSandy Cloak', 'WormadamTrash Cloak', 'Wurmple', 'Wynaut', 'Xatu', 'Xerneas', 'Yamask', 'Yanma', 'Yanmega', 'Yveltal', 'Zangoose', 'Zapdos', 'Zebstrika', 'Zekrom', 'Zigzagoon', 'Zoroark', 'Zorua', 'Zubat', 'Zweilous']\n",
    "poke_gens = [4, 1, 3, 5, 1, 3, 2, 1, 5, 3, 6, 4, 5, 2, 3, 1, 1, 4, 5, 5, 2, 3, 6, 3, 1, 5, 6, 6, 5, 4, 2, 3, 3, 3, 3, 6, 3, 5, 4, 2, 5, 3, 1, 5, 3, 2, 1, 6, 4, 4, 6, 5, 1, 3, 2, 5, 5, 4, 5, 6, 5, 3, 4, 4, 4, 4, 1, 4, 6, 4, 1, 3, 3, 3, 6, 4, 5, 3, 3, 3, 1, 2, 5, 1, 1, 1, 1, 4, 4, 4, 6, 6, 2, 4, 3, 2, 4, 5, 3, 6, 6, 3, 1, 1, 2, 1, 5, 5, 4, 3, 5, 3, 2, 5, 3, 4, 3, 4, 4, 2, 2, 5, 5, 5, 1, 2, 4, 5, 5, 5, 6, 5, 5, 3, 2, 6, 1, 5, 4, 6, 6, 1, 1, 1, 1, 2, 6, 6, 1, 1, 4, 1, 4, 4, 5, 1, 5, 5, 1, 2, 5, 5, 3, 4, 3, 3, 5, 5, 5, 1, 1, 1, 4, 3, 1, 2, 5, 5, 5, 4, 2, 5, 2, 6, 5, 1, 1, 3, 1, 1, 3, 6, 2, 5, 5, 4, 2, 6, 1, 6, 6, 4, 6, 6, 3, 5, 2, 5, 5, 6, 6, 4, 6, 2, 4, 4, 5, 5, 4, 3, 1, 4, 5, 1, 1, 4, 5, 2, 4, 3, 4, 2, 4, 1, 6, 1, 1, 1, 1, 5, 5, 6, 6, 3, 5, 5, 5, 2, 1, 6, 1, 4, 3, 3, 3, 1, 3, 3, 5, 1, 4, 3, 1, 6, 5, 5, 4, 6, 6, 2, 5, 4, 4, 1, 1, 2, 2, 4, 6, 2, 2, 1, 2, 2, 3, 5, 1, 2, 3, 4, 6, 1, 5, 1, 3, 1, 5, 2, 1, 1, 1, 1, 1, 1, 5, 3, 2, 1, 3, 5, 6, 5, 5, 1, 1, 4, 4, 5, 5, 3, 3, 5, 5, 5, 3, 5, 2, 1, 5, 2, 3, 3, 4, 5, 2, 2, 4, 1, 5, 3, 5, 5, 3, 6, 5, 3, 4, 3, 3, 4, 3, 2, 4, 3, 3, 4, 4, 1, 1, 1, 2, 2, 1, 1, 4, 1, 1, 4, 3, 6, 4, 4, 5, 3, 1, 2, 4, 5, 2, 2, 1, 3, 3, 3, 3, 3, 6, 6, 1, 4, 3, 3, 1, 1, 1, 5, 5, 3, 3, 2, 4, 5, 3, 2, 4, 1, 4, 4, 1, 3, 1, 4, 5, 2, 5, 2, 1, 1, 1, 1, 1, 1, 3, 1, 3, 2, 6, 6, 3, 3, 3, 2, 1, 1, 1, 1, 5, 4, 4, 5, 6, 6, 5, 5, 5, 1, 1, 5, 5, 3, 1, 5, 2, 6, 4, 2, 1, 1, 1, 5, 5, 1, 2, 2, 1, 4, 3, 2, 1, 1, 1, 1, 3, 1, 4, 2, 1, 4, 4, 1, 2, 5, 4, 6, 2, 2, 6, 2, 1, 2, 3, 4, 1, 1, 1, 3, 3, 4, 3, 3, 3, 2, 5, 5, 1, 1, 4, 4, 5, 3, 4, 4, 4, 4, 4, 4, 4, 5, 3, 3, 5, 5, 1, 1, 5, 5, 6, 3, 2, 5, 5, 5, 1, 1, 1, 3, 3, 1, 5, 2, 5, 5, 3, 5, 3, 3, 3, 1, 4, 5, 4, 3, 4, 3, 2, 3, 5, 3, 5, 5, 5, 2, 6, 2, 3, 4, 6, 4, 3, 3, 6, 1, 2, 1, 2, 6, 2, 2, 2, 5, 1, 3, 4, 2, 5, 3, 1, 6, 3, 2, 3, 4, 3, 6, 1, 2, 4, 4, 4, 1, 1, 2, 5, 5, 4, 2, 2, 2, 2, 3, 3, 5, 3, 3, 5, 3, 2, 6, 5, 6, 3, 6, 1, 4, 1, 2, 1, 1, 5, 5, 5, 5, 5, 4, 2, 2, 3, 3, 4, 2, 4, 5, 3, 3, 6, 3, 5, 4, 5, 5, 2, 2, 6, 2, 6, 2, 5, 2, 2, 4, 5, 5, 5, 1, 5, 1, 1, 1, 4, 3, 5, 1, 3, 1, 5, 6, 3, 6, 5, 1, 5, 1, 3, 3, 3, 1, 5, 4, 1, 1, 1, 5, 5, 3, 3, 1, 3, 2, 5, 2, 4, 4, 4, 3, 3, 2, 6, 5, 2, 4, 6, 3, 1, 5, 5, 3, 5, 5, 1, 5]\n",
    "\n",
    "# Define function\n",
    "gen1_gen2_name_lengths_loop = []\n",
    "for name,gen in zip(poke_names, poke_gens):\n",
    "    if gen < 3:\n",
    "        name_length = len(name)\n",
    "        poke_tuple = (name, name_length)\n",
    "        gen1_gen2_name_lengths_loop.append(poke_tuple)"
   ]
  },
  {
   "cell_type": "code",
   "execution_count": 54,
   "id": "damaged-taylor",
   "metadata": {},
   "outputs": [
    {
     "name": "stdout",
     "output_type": "stream",
     "text": [
      "[('Abra', 4), ('Aerodactyl', 10), ('Aipom', 5), ('Alakazam', 8), ('Ampharos', 8)]\n",
      "[('Abra', 4), ('Aerodactyl', 10), ('Aipom', 5), ('Alakazam', 8), ('Ampharos', 8)]\n"
     ]
    }
   ],
   "source": [
    "# Collect Pokémon that belong to generation 1 or generation 2\n",
    "gen1_gen2_pokemon = [name for name, gen in zip(poke_names, poke_gens) if gen < 3]\n",
    "\n",
    "# Create a map object that stores the name lengths\n",
    "name_lengths_map = [*map(len, gen1_gen2_pokemon)]\n",
    "\n",
    "# Combine gen1_gen2_pokemon and name_lengths_map into a list\n",
    "gen1_gen2_name_lengths = [*zip(gen1_gen2_pokemon, name_lengths_map)]\n",
    "\n",
    "print(gen1_gen2_name_lengths_loop[:5])\n",
    "print(gen1_gen2_name_lengths[:5])"
   ]
  },
  {
   "cell_type": "markdown",
   "id": "injured-treatment",
   "metadata": {},
   "source": [
    "## Pokémon totals and averages without a loop\n",
    "\n",
    "A list of 720 Pokémon has been loaded into your session called `names`. Each Pokémon's corresponding statistics has been loaded as a NumPy array called `stats`. Each row of stats corresponds to a Pokémon in `names` and each column represents an individual Pokémon stat (`HP`, `Attack`, `Defense`, `Special Attack`, `Special Defense`, and `Speed` respectively.)\n",
    "\n",
    "You want to gather each Pokémon's total stat value (i.e., the sum of each row in `stats`) and each Pokémon's average stat value (i.e., the mean of each row in `stats`) so that you find the strongest Pokémon.\n",
    "\n",
    "The below for loop was written to collect these values:\n",
    "\n",
    "```\n",
    "poke_list = []\n",
    "for pokemon,row in zip(names, stats):\n",
    "    total_stats = np.sum(row)\n",
    "    avg_stats = np.mean(row)\n",
    "    poke_list.append((pokemon, total_stats, avg_stats))\n",
    "```\n",
    "\n",
    "Instructions\n",
    "\n",
    "1. Replace the above for loop using NumPy:\n",
    "    - Create a total stats array (`total_stats_np`) using the `.sum()` method and specifying the correct axis.\n",
    "    - Create an average stats array (`avg_stats_np`) using the `.mean()` method and specifying the correct axis.\n",
    "    - Create a final output list (`poke_list_np`) by combining the `names` list, the `total_stats_np` array, and the `avg_stats_np` array."
   ]
  },
  {
   "cell_type": "code",
   "execution_count": 62,
   "id": "processed-destination",
   "metadata": {},
   "outputs": [],
   "source": [
    "# List\n",
    "names = ['Abomasnow', 'Abra', 'Absol', 'Accelgor', 'Aerodactyl', 'Aggron', 'Aipom', 'Alakazam', 'Alomomola', 'Altaria', 'Amaura', 'Ambipom', 'Amoonguss', 'Ampharos', 'Anorith', 'Arbok', 'Arcanine', 'Arceus', 'Archen', 'Archeops', 'Ariados', 'Armaldo', 'Aromatisse', 'Aron', 'Articuno', 'Audino', 'Aurorus', 'Avalugg', 'Axew', 'Azelf', 'Azumarill', 'Azurill', 'Bagon', 'Baltoy', 'Banette', 'Barbaracle', 'Barboach', 'Basculin', 'Bastiodon', 'Bayleef', 'Beartic', 'Beautifly', 'Beedrill', 'Beheeyem', 'Beldum', 'Bellossom', 'Bellsprout', 'Bergmite', 'Bibarel', 'Bidoof', 'Binacle', 'Bisharp', 'Blastoise', 'Blaziken', 'Blissey', 'Blitzle', 'Boldore', 'Bonsly', 'Bouffalant', 'Braixen', 'Braviary', 'Breloom', 'Bronzong', 'Bronzor', 'Budew', 'Buizel', 'Bulbasaur', 'Buneary', 'Bunnelby', 'Burmy', 'Butterfree', 'Cacnea', 'Cacturne', 'Camerupt', 'Carbink', 'Carnivine', 'Carracosta', 'Carvanha', 'Cascoon', 'Castform', 'Caterpie', 'Celebi', 'Chandelure', 'Chansey', 'Charizard', 'Charmander', 'Charmeleon', 'Chatot', 'Cherrim', 'Cherubi', 'Chesnaught', 'Chespin', 'Chikorita', 'Chimchar', 'Chimecho', 'Chinchou', 'Chingling', 'Cinccino', 'Clamperl', 'Clauncher', 'Clawitzer', 'Claydol', 'Clefable', 'Clefairy', 'Cleffa', 'Cloyster', 'Cobalion', 'Cofagrigus', 'Combee', 'Combusken', 'Conkeldurr', 'Corphish', 'Corsola', 'Cottonee', 'Cradily', 'Cranidos', 'Crawdaunt', 'Cresselia', 'Croagunk', 'Crobat', 'Croconaw', 'Crustle', 'Cryogonal', 'Cubchoo', 'Cubone', 'Cyndaquil', 'Darkrai', 'DarmanitanStandard Mode', 'DarmanitanZen Mode', 'Darumaka', 'Dedenne', 'Deerling', 'Deino', 'Delcatty', 'Delibird', 'Delphox', 'Dewgong', 'Dewott', 'Dialga', 'Diancie', 'Diggersby', 'Diglett', 'Ditto', 'Dodrio', 'Doduo', 'Donphan', 'Doublade', 'Dragalge', 'Dragonair', 'Dragonite', 'Drapion', 'Dratini', 'Drifblim', 'Drifloon', 'Drilbur', 'Drowzee', 'Druddigon', 'Ducklett', 'Dugtrio', 'Dunsparce', 'Duosion', 'Durant', 'Dusclops', 'Dusknoir', 'Duskull', 'Dustox', 'Dwebble', 'Eelektrik', 'Eelektross', 'Eevee', 'Ekans', 'Electabuzz', 'Electivire', 'Electrike', 'Electrode', 'Elekid', 'Elgyem', 'Emboar', 'Emolga', 'Empoleon', 'Entei', 'Escavalier', 'Espeon', 'Espurr', 'Excadrill', 'Exeggcute', 'Exeggutor', 'Exploud', \"Farfetch'd\", 'Fearow', 'Feebas', 'Fennekin', 'Feraligatr', 'Ferroseed', 'Ferrothorn', 'Finneon', 'Flaaffy', 'Flabébé', 'Flareon', 'Fletchinder', 'Fletchling', 'Floatzel', 'Floette', 'Florges', 'Flygon', 'Foongus', 'Forretress', 'Fraxure', 'Frillish', 'Froakie', 'Frogadier', 'Froslass', 'Furfrou', 'Furret', 'Gabite', 'Gallade', 'Galvantula', 'Garbodor', 'Garchomp', 'Gardevoir', 'Gastly', 'Gastrodon', 'Genesect', 'Gengar', 'Geodude', 'Gible', 'Gigalith', 'Girafarig', 'Glaceon', 'Glalie', 'Glameow', 'Gligar', 'Gliscor', 'Gloom', 'Gogoat', 'Golbat', 'Goldeen', 'Golduck', 'Golem', 'Golett', 'Golurk', 'Goodra', 'Goomy', 'Gorebyss', 'Gothita', 'Gothitelle', 'Gothorita', 'Granbull', 'Graveler', 'Greninja', 'Grimer', 'Grotle', 'Groudon', 'GroudonPrimal Groudon', 'Grovyle', 'Growlithe', 'Grumpig', 'Gulpin', 'Gurdurr', 'Gyarados', 'Happiny', 'Hariyama', 'Haunter', 'Hawlucha', 'Haxorus', 'Heatmor', 'Heatran', 'Heliolisk', 'Helioptile', 'Heracross', 'Herdier', 'Hippopotas', 'Hippowdon', 'Hitmonchan', 'Hitmonlee', 'Hitmontop', 'Ho-oh', 'Honchkrow', 'Honedge', 'Hoothoot', 'Hoppip', 'Horsea', 'Houndoom', 'Houndour', 'Huntail', 'Hydreigon', 'Hypno', 'Igglybuff', 'Illumise', 'Infernape', 'Inkay', 'Ivysaur', 'Jellicent', 'Jigglypuff', 'Jirachi', 'Jolteon', 'Joltik', 'Jumpluff', 'Jynx', 'Kabuto', 'Kabutops', 'Kadabra', 'Kakuna', 'Kangaskhan', 'Karrablast', 'Kecleon', 'Kingdra', 'Kingler', 'Kirlia', 'Klang', 'Klefki', 'Klink', 'Klinklang', 'Koffing', 'Krabby', 'Kricketot', 'Kricketune', 'Krokorok', 'Krookodile', 'Kyogre', 'KyogrePrimal Kyogre', 'Kyurem', 'KyuremBlack Kyurem', 'KyuremWhite Kyurem', 'Lairon', 'Lampent', 'Lanturn', 'Lapras', 'Larvesta', 'Larvitar', 'Latias', 'Latios', 'Leafeon', 'Leavanny', 'Ledian', 'Ledyba', 'Lickilicky', 'Lickitung', 'Liepard', 'Lileep', 'Lilligant', 'Lillipup', 'Linoone', 'Litleo', 'Litwick', 'Lombre', 'Lopunny', 'Lotad', 'Loudred', 'Lucario', 'Ludicolo', 'Lugia', 'Lumineon', 'Lunatone', 'Luvdisc', 'Luxio', 'Luxray', 'Machamp', 'Machoke', 'Machop', 'Magby', 'Magcargo', 'Magikarp', 'Magmar', 'Magmortar', 'Magnemite', 'Magneton', 'Magnezone', 'Makuhita', 'Malamar', 'Mamoswine', 'Manaphy', 'Mandibuzz', 'Manectric', 'Mankey', 'Mantine', 'Mantyke', 'Maractus', 'Mareep', 'Marill', 'Marowak', 'Marshtomp', 'Masquerain', 'Mawile', 'Medicham', 'Meditite', 'MeowsticFemale', 'MeowsticMale', 'Meowth', 'Mesprit', 'Metagross', 'Metang', 'Metapod', 'Mew', 'Mewtwo', 'Mienfoo', 'Mienshao', 'Mightyena', 'Milotic', 'Miltank', 'Mime Jr.', 'Minccino', 'Minun', 'Misdreavus', 'Mismagius', 'Moltres', 'Monferno', 'Mothim', 'Mr. Mime', 'Mudkip', 'Muk', 'Munchlax', 'Munna', 'Murkrow', 'Musharna', 'Natu', 'Nidoking', 'Nidoqueen', 'Nidoran♀', 'Nidoran♂', 'Nidorina', 'Nidorino', 'Nincada', 'Ninetales', 'Ninjask', 'Noctowl', 'Noibat', 'Noivern', 'Nosepass', 'Numel', 'Nuzleaf', 'Octillery', 'Oddish', 'Omanyte', 'Omastar', 'Onix', 'Oshawott', 'Pachirisu', 'Palkia', 'Palpitoad', 'Pancham', 'Pangoro', 'Panpour', 'Pansage', 'Pansear', 'Paras', 'Parasect', 'Patrat', 'Pawniard', 'Pelipper', 'Persian', 'Petilil', 'Phanpy', 'Phantump', 'Phione', 'Pichu', 'Pidgeot', 'Pidgeotto', 'Pidgey', 'Pidove', 'Pignite', 'Pikachu', 'Piloswine', 'Pineco', 'Pinsir', 'Piplup', 'Plusle', 'Politoed', 'Poliwag', 'Poliwhirl', 'Poliwrath', 'Ponyta', 'Poochyena', 'Porygon', 'Porygon-Z', 'Porygon2', 'Primeape', 'Prinplup', 'Probopass', 'Psyduck', 'Pupitar', 'Purrloin', 'Purugly', 'Pyroar', 'Quagsire', 'Quilava', 'Quilladin', 'Qwilfish', 'Raichu', 'Raikou', 'Ralts', 'Rampardos', 'Rapidash', 'Raticate', 'Rattata', 'Rayquaza', 'Regice', 'Regigigas', 'Regirock', 'Registeel', 'Relicanth', 'Remoraid', 'Reshiram', 'Reuniclus', 'Rhydon', 'Rhyhorn', 'Rhyperior', 'Riolu', 'Roggenrola', 'Roselia', 'Roserade', 'Rotom', 'RotomFan Rotom', 'RotomFrost Rotom', 'RotomHeat Rotom', 'RotomMow Rotom', 'RotomWash Rotom', 'Rufflet', 'Sableye', 'Salamence', 'Samurott', 'Sandile', 'Sandshrew', 'Sandslash', 'Sawk', 'Sawsbuck', 'Scatterbug', 'Sceptile', 'Scizor', 'Scolipede', 'Scrafty', 'Scraggy', 'Scyther', 'Seadra', 'Seaking', 'Sealeo', 'Seedot', 'Seel', 'Seismitoad', 'Sentret', 'Serperior', 'Servine', 'Seviper', 'Sewaddle', 'Sharpedo', 'Shedinja', 'Shelgon', 'Shellder', 'Shellos', 'Shelmet', 'Shieldon', 'Shiftry', 'Shinx', 'Shroomish', 'Shuckle', 'Shuppet', 'Sigilyph', 'Silcoon', 'Simipour', 'Simisage', 'Simisear', 'Skarmory', 'Skiddo', 'Skiploom', 'Skitty', 'Skorupi', 'Skrelp', 'Skuntank', 'Slaking', 'Slakoth', 'Sliggoo', 'Slowbro', 'Slowking', 'Slowpoke', 'Slugma', 'Slurpuff', 'Smeargle', 'Smoochum', 'Sneasel', 'Snivy', 'Snorlax', 'Snorunt', 'Snover', 'Snubbull', 'Solosis', 'Solrock', 'Spearow', 'Spewpa', 'Spheal', 'Spinarak', 'Spinda', 'Spiritomb', 'Spoink', 'Spritzee', 'Squirtle', 'Stantler', 'Staraptor', 'Staravia', 'Starly', 'Starmie', 'Staryu', 'Steelix', 'Stoutland', 'Stunfisk', 'Stunky', 'Sudowoodo', 'Suicune', 'Sunflora', 'Sunkern', 'Surskit', 'Swablu', 'Swadloon', 'Swalot', 'Swampert', 'Swanna', 'Swellow', 'Swinub', 'Swirlix', 'Swoobat', 'Sylveon', 'Taillow', 'Talonflame', 'Tangela', 'Tangrowth', 'Tauros', 'Teddiursa', 'Tentacool', 'Tentacruel', 'Tepig', 'Terrakion', 'Throh', 'Timburr', 'Tirtouga', 'Togekiss', 'Togepi', 'Togetic', 'Torchic', 'Torkoal', 'Torterra', 'Totodile', 'Toxicroak', 'Tranquill', 'Trapinch', 'Treecko', 'Trevenant', 'Tropius', 'Trubbish', 'Turtwig', 'Tympole', 'Tynamo', 'Typhlosion', 'Tyranitar', 'Tyrantrum', 'Tyrogue', 'Tyrunt', 'Umbreon', 'Unfezant', 'Unown', 'Ursaring', 'Uxie', 'Vanillish', 'Vanillite', 'Vanilluxe', 'Vaporeon', 'Venipede', 'Venomoth', 'Venonat', 'Venusaur', 'Vespiquen', 'Vibrava', 'Victini', 'Victreebel', 'Vigoroth', 'Vileplume', 'Virizion', 'Vivillon', 'Volbeat', 'Volcanion', 'Volcarona', 'Voltorb', 'Vullaby', 'Vulpix', 'Wailmer', 'Wailord', 'Walrein', 'Wartortle', 'Watchog', 'Weavile', 'Weedle', 'Weepinbell', 'Weezing', 'Whimsicott', 'Whirlipede', 'Whiscash', 'Whismur', 'Wigglytuff', 'Wingull', 'Wobbuffet', 'Woobat', 'Wooper', 'WormadamPlant Cloak', 'WormadamSandy Cloak', 'WormadamTrash Cloak', 'Wurmple', 'Wynaut', 'Xatu', 'Xerneas', 'Yamask', 'Yanma', 'Yanmega', 'Yveltal', 'Zangoose', 'Zapdos', 'Zebstrika', 'Zekrom', 'Zigzagoon', 'Zoroark', 'Zorua', 'Zubat', 'Zweilous']\n",
    "stats = [[90, 92, 75, 92, 85, 60], [25, 20, 15, 105, 55, 90], [65, 130, 60, 75, 60, 75], [80, 70, 40, 100, 60, 145], [80, 105, 65, 60, 75, 130], [70, 110, 180, 60, 60, 50],[55, 70, 55, 40, 55, 85], [55, 50, 45, 135, 95, 120], [165, 75, 80, 40, 45, 65], [75, 70, 90, 70, 105, 80], [77, 59, 50, 67, 63, 46], [75, 100, 66, 60, 66, 115], [114, 85, 70, 85, 80, 30], [90, 75, 85, 115, 90, 55], [45, 95, 50, 40, 50, 75], [60, 85, 69, 65, 79, 80], [90, 110, 80, 100, 80, 95], [120, 120, 120, 120, 120, 120], [55, 112, 45, 74, 45, 70], [75, 140, 65, 112, 65, 110], [70, 90, 70, 60, 60, 40], [75, 125, 100, 70, 80, 45], [101, 72, 72, 99, 89, 29], [50, 70, 100, 40, 40, 30],[90, 85, 100, 95, 125, 85], [103, 60, 86, 60, 86, 50], [123, 77, 72, 99, 92, 58], [95, 117, 184, 44, 46, 28], [46, 87, 60, 30, 40, 57], [75, 125, 70, 125, 70, 115], [100, 50, 80, 60, 80, 50], [50, 20, 40, 20, 40, 20], [45, 75, 60, 40, 30, 50], [40, 40, 55, 40, 70, 55], [64, 115, 65, 83, 63, 65], [72, 105, 115, 54, 86, 68], [50, 48, 43, 46, 41, 60], [70, 92, 65, 80, 55, 98], [60, 52, 168, 47, 138, 30], [60, 62, 80, 63, 80, 60], [95, 110, 80, 70, 80, 50], [60, 70, 50, 100, 50, 65], [65, 90, 40, 45, 80, 75], [75, 75, 75, 125, 95, 40], [40, 55, 80, 35, 60, 30], [75, 80, 95, 90, 100, 50], [50, 75, 35, 70, 30, 40], [55, 69, 85, 32, 35, 28], [79, 85, 60, 55, 60, 71], [59, 45, 40, 35, 40, 31], [42, 52, 67, 39, 56, 50], [65, 125, 100, 60, 70, 70], [79, 83, 100, 85, 105, 78], [80, 120, 70, 110, 70, 80], [255, 10, 10, 75, 135, 55], [45, 60, 32, 50, 32, 76], [70, 105, 105, 50, 40, 20], [50, 80, 95, 10, 45, 10], [95, 110, 95, 40, 95, 55], [59, 59, 58, 90, 70, 73], [100, 123, 75, 57, 75, 80], [60, 130, 80, 60, 60, 70], [67, 89, 116, 79, 116, 33], [57, 24, 86, 24, 86, 23], [40, 30, 35, 50, 70, 55], [55, 65, 35, 60, 30, 85], [45, 49, 49, 65, 65, 45], [55, 66, 44, 44, 56, 85], [38, 36, 38, 32, 36, 57], [40, 29, 45, 29, 45, 36], [60, 45, 50, 90, 80, 70], [50, 85, 40, 85, 40, 35], [70, 115, 60, 115, 60, 55], [70, 100, 70, 105, 75, 40], [50, 50, 150, 50, 150, 50], [74, 100, 72, 90, 72, 46], [74, 108, 133, 83, 65, 32], [45, 90, 20, 65, 20, 65], [50, 35, 55, 25, 25, 15], [70, 70, 70, 70, 70, 70], [45, 30, 35, 20, 20, 45], [100, 100, 100, 100, 100, 100], [60, 55, 90, 145, 90, 80], [250, 5, 5, 35, 105, 50], [78, 84, 78, 109, 85, 100], [39, 52, 43, 60, 50, 65], [58, 64, 58, 80, 65, 80], [76, 65, 45, 92, 42, 91], [70, 60, 70, 87, 78, 85], [45, 35, 45, 62, 53, 35], [88, 107, 122, 74, 75, 64], [56, 61, 65, 48, 45, 38], [45, 49, 65, 49, 65, 45], [44, 58, 44, 58, 44, 61], [65, 50, 70, 95, 80, 65], [75, 38, 38, 56, 56, 67], [45, 30, 50, 65, 50, 45], [75, 95, 60, 65, 60,115], [35, 64, 85, 74, 55, 32], [50, 53, 62, 58, 63, 44], [71, 73, 88, 120, 89, 59], [60, 70, 105, 70, 120, 75], [95, 70, 73, 95, 90, 60], [70, 45, 48, 60, 65, 35], [50, 25, 28, 45, 55, 15], [50, 95, 180, 85, 45, 70], [91, 90, 129, 90, 72, 108], [58, 50, 145, 95, 105, 30], [30, 30, 42, 30, 42, 70], [60, 85, 60, 85, 60, 55], [105, 140, 95, 55, 65, 45], [43, 80, 65, 50, 35, 35], [55, 55, 85, 65, 85, 35], [40, 27, 60, 37, 50, 66], [86, 81, 97, 81, 107, 43], [67, 125, 40, 30, 30, 58], [63, 120, 85, 90, 55, 55], [120, 70, 120, 75, 130, 85], [48, 61, 40, 61, 40, 50], [85, 90, 80, 70, 80, 130], [65, 80, 80, 59, 63, 58], [70, 95, 125, 65, 75, 45], [70, 50, 30, 95, 135, 105], [55, 70, 40, 60, 40, 40], [50, 50, 95, 40, 50, 35], [39, 52, 43, 60, 50, 65], [70, 90, 90, 135, 90, 125], [105, 140, 55, 30, 55, 95], [105, 30, 105, 140, 105, 55], [70, 90, 45, 15, 45, 50], [67, 58, 57, 81, 67, 101], [60, 60, 50, 40, 50, 75], [52, 65, 50, 45, 50, 38], [70, 65, 65, 55, 55, 70], [45, 55, 45, 65, 45, 75], [75, 69, 72, 114, 100, 104], [90, 70, 80, 70, 95, 70], [75, 75, 60, 83, 60, 60], [100, 120, 120, 150, 100, 90], [50, 100, 150, 100, 150, 50], [85, 56, 77, 50, 77, 78], [10, 55, 25, 35, 45, 95], [48, 48, 48, 48, 48, 48], [60, 110, 70, 60, 60, 100], [35, 85, 45, 35, 35, 75], [90, 120, 120, 60, 60, 50], [59, 110, 150, 45, 49, 35], [65, 75, 90, 97, 123, 44], [61, 84, 65, 70, 70, 70], [91, 134, 95, 100, 100, 80], [70, 90, 110, 60, 75, 95], [41, 64, 45, 50, 50, 50], [150, 80, 44, 90, 54, 80], [90, 50, 34, 60, 44, 70], [60, 85, 40, 30, 45, 68], [60, 48, 45, 43, 90, 42], [77, 120, 90, 60, 90, 48], [62, 44, 50, 44, 50, 55], [35, 80, 50, 50, 70, 120], [100, 70, 70, 65, 65, 45], [65, 40, 50, 125, 60, 30], [58, 109, 112, 48, 48, 109], [40, 70, 130, 60, 130, 25], [45, 100, 135, 65, 135, 45], [20, 40, 90, 30, 90, 25], [60, 50, 70, 50, 90, 65], [50, 65, 85, 35, 35, 55], [65, 85, 70, 75, 70, 40], [85, 115, 80, 105, 80, 50], [55, 55, 50, 45, 65, 55], [35, 60, 44, 40, 54, 55], [65, 83, 57, 95, 85, 105], [75, 123, 67, 95, 85, 95], [40, 45, 40, 65, 40, 65], [60, 50, 70, 80, 80, 140], [45, 63, 37, 65, 55, 95], [55, 55, 55, 85, 55, 30], [110, 123, 65, 100, 65, 65], [55, 75, 60, 75, 60, 103], [84, 86, 88, 111, 101, 60], [115, 115, 85, 90, 75, 100], [70, 135, 105, 60, 105, 20], [65, 65, 60, 130, 95, 110], [62, 48, 54, 63, 60, 68], [110, 135, 60, 50, 65, 88], [60, 40, 80, 60, 45, 40], [95, 95, 85, 125, 65, 55], [104, 91, 63, 91, 73, 68], [52, 65, 55, 58, 62, 60], [65, 90, 65, 61, 61, 100], [20, 15, 20, 10, 55, 80], [40, 45, 40, 62, 60, 60], [85, 105, 100, 79, 83, 78], [44, 50, 91, 24, 86, 10], [74, 94, 131, 54, 116, 20], [49, 49, 56, 49, 61, 66], [70, 55, 55, 80, 60, 45], [44, 38, 39, 61, 79, 42], [65, 130, 60, 95, 110, 65], [62, 73, 55, 56, 52, 84], [45, 50, 43, 40, 38, 62], [85, 105, 55, 85, 50, 115], [54, 45, 47, 75, 98, 52], [78, 65, 68, 112, 154, 75], [80, 100, 80, 80, 80, 100], [69, 55, 45, 55, 55, 15], [75, 90, 140, 60, 60, 40], [66, 117, 70, 40, 50, 67], [55, 40, 50, 65, 85, 40], [41, 56, 40, 62, 44, 71], [54, 63, 52, 83, 56, 97], [70, 80, 70, 80, 70, 110], [75, 80, 60, 65, 90, 102], [85, 76, 64, 45, 55, 90], [68, 90, 65, 50, 55, 82], [68, 125, 65, 65, 115, 80], [70, 77, 60, 97, 60, 108], [80, 95, 82, 60, 82, 75], [108, 130, 95, 80, 85, 102], [68, 65, 65, 125, 115, 80], [30, 35, 30, 100, 35, 80], [111, 83, 68, 92, 82, 39], [71, 120, 95, 120, 95, 99], [60, 65, 60, 130, 75, 110], [40, 80, 100, 30, 30, 20], [58, 70, 45, 40, 45, 42], [85, 135, 130, 60, 80, 25], [70, 80, 65, 90, 65, 85], [65, 60, 110, 130, 95, 65], [80, 80, 80, 80, 80, 80], [49, 55, 42, 42, 37, 85], [65, 75, 105, 35, 65, 85], [75, 95, 125, 45, 75, 95], [60, 65, 70, 85, 75, 40], [123, 100, 62, 97, 81, 68], [75, 80, 70, 65, 75, 90], [45, 67, 60, 35, 50, 63], [80, 82, 78, 95, 80, 85], [80, 120, 130, 55, 65, 45], [59, 74, 50, 35, 50, 35], [89, 124, 80, 55, 80, 55], [90, 100, 70, 110, 150, 80], [45, 50, 35, 55, 75, 40], [55, 84, 105, 114, 75, 52], [45, 30, 50, 55, 65, 45], [70, 55, 95, 95, 110, 65], [60, 45, 70, 75, 85, 55], [90, 120, 75, 60, 60, 45], [55, 95, 115, 45, 45, 35], [72, 95, 67, 103, 71, 122], [80, 80, 50, 40, 50, 25], [75, 89, 85, 55, 65, 36], [100, 150, 140, 100, 90, 90], [100, 180, 160, 150, 90, 90], [50, 65, 45, 85, 65, 95], [55, 70, 45, 70, 50, 60], [80, 45, 65, 90, 110, 80], [70, 43, 53, 43, 53, 40], [85, 105, 85, 40, 50, 40], [95, 125, 79, 60, 100, 81], [100, 5, 5, 15, 65, 30], [144, 120, 60, 40, 60, 50], [45, 50, 45, 115, 55, 95], [78, 92, 75, 74, 63, 118], [76, 147, 90, 60, 70, 97], [85, 97, 66, 105, 66, 65], [91, 90, 106, 130, 106, 77], [62, 55, 52, 109, 94, 109], [44, 38, 33, 61, 43, 70], [80, 125, 75, 40, 95, 85], [65, 80, 65, 35, 65, 60], [68, 72, 78, 38, 42, 32], [108, 112, 118, 68, 72, 47], [50, 105, 79, 35, 110, 76], [50, 120, 53, 35, 110, 87], [50, 95, 95, 35, 110, 70], [106, 130, 90, 110, 154, 90], [100, 125, 52, 105, 52, 71], [45, 80, 100, 35, 37, 28], [60, 30, 30, 36, 56, 50], [35, 35, 40, 35, 55, 50], [30, 40, 70, 70, 25, 60], [75, 90, 50, 110, 80, 95], [45, 60, 30, 80, 50, 65], [55, 104, 105, 94, 75, 52], [92, 105, 90, 125, 90, 98], [85, 73, 70, 73, 115, 67], [90, 30, 15, 40, 20, 15], [65, 47, 55, 73, 75, 85], [76, 104, 71, 104, 71, 108], [53, 54, 53, 37, 46, 45], [60, 62, 63, 80, 80, 60], [100, 60, 70, 85, 105, 60], [115, 45, 20, 45, 25, 20], [100, 100, 100, 100, 100, 100], [65, 65, 60, 110, 95, 130], [50, 47, 50, 57, 50, 65], [75, 55, 70, 55, 95, 110], [65, 50, 35, 115, 95, 95], [30, 80, 90, 55, 45, 55], [60, 115, 105, 65, 70, 80], [40, 35, 30, 120, 70, 105], [45, 25, 50, 25, 25, 35], [105, 95, 80, 40, 80, 90], [50, 75, 45, 40, 45, 60], [60, 90, 70, 60, 120, 40], [75, 95, 95, 95, 95, 85], [55, 130, 115, 50, 50, 75], [38, 35, 35, 65, 55, 50], [60, 80, 95, 70, 85, 50], [57, 80, 91, 80, 87, 75], [40, 55, 70, 45, 60, 30], [60, 100, 115, 70, 85, 90], [40, 65, 95, 60, 45, 35], [30, 105, 90, 25, 25, 50], [37, 25, 41, 25, 41, 25], [77, 85, 51, 55, 51, 65], [60, 82, 45, 45, 45, 74], [95, 117, 80, 65, 70, 92], [100, 100, 90, 150, 140, 90], [100, 150, 90, 180, 160, 90], [125, 130, 90, 130, 90, 95], [125, 170, 100, 120, 90, 95], [125, 120, 90, 170, 100, 95], [60, 90, 140, 50, 50, 40], [60, 40, 60, 95, 60, 55], [125, 58, 58, 76, 76, 67], [130, 85, 80, 85, 95, 60], [55, 85, 55, 50, 55, 60], [50, 64, 50, 45, 50, 41], [80, 80, 90, 110, 130, 110], [80, 90, 80, 130, 110, 110], [65, 110, 130, 60, 65, 95], [75, 103, 80, 70, 80, 92], [55, 35, 50, 55, 110, 85], [40, 20, 30, 40, 80, 55], [110, 85, 95, 80, 95, 50], [90, 55, 75, 60, 75, 30], [64, 88, 50, 88, 50, 106], [66, 41, 77, 61, 87, 23], [70, 60, 75, 110, 75, 90], [45, 60, 45, 25, 45, 55], [78, 70, 61, 50, 61, 100], [62, 50, 58, 73, 54, 72], [50, 30, 55, 65, 55, 20], [60, 50, 50, 60, 70, 50], [65, 76, 84, 54, 96, 105], [40, 30, 30, 40, 50, 30], [84, 71, 43, 71, 43, 48], [70, 110, 70, 115, 70, 90], [80, 70, 70, 90, 100, 70], [106, 90, 130, 90, 154, 110], [69, 69, 76, 69, 86, 91], [70, 55, 65, 95, 85, 70], [43, 30, 55, 40, 65, 97], [60, 85, 49, 60, 49, 60], [80, 120, 79, 95, 79, 70], [90, 130, 80, 65, 85, 55], [80, 100, 70, 50, 60, 45], [70, 80, 50, 35, 35, 35], [45, 75, 37, 70, 55, 83], [50, 50, 120, 80, 80, 30], [20, 10, 55, 15, 20, 80], [65, 95, 57, 100, 85, 93], [75, 95, 67, 125, 95, 83], [25, 35, 70, 95, 55, 45], [50, 60, 95, 120, 70, 70], [70, 70, 115, 130, 90, 60], [72, 60, 30, 20, 30, 25], [86, 92, 88, 68, 75, 73], [110, 130, 80, 70, 60, 80], [100, 100, 100, 100, 100, 100], [110, 65, 105, 55, 95, 80], [70, 75, 60, 105, 60, 105], [40, 80, 35, 35, 45, 70], [65, 40, 70, 80, 140, 70], [45, 20, 50, 60, 120, 50], [75, 86, 67, 106, 67, 60], [55, 40, 40, 65, 45, 35], [70, 20, 50, 20, 50, 40], [60, 80, 110, 50, 80, 45], [70, 85, 70, 60, 70, 50], [70, 60, 62, 80, 82, 60], [50, 85, 85, 55, 55, 50], [60, 60, 75, 60, 75, 80], [30, 40, 55, 40, 55, 60], [74, 48, 76, 83, 81, 104], [74, 48, 76, 83, 81, 104], [40, 45, 35, 40, 40, 90], [80, 105, 105, 105, 105, 80], [80, 135, 130, 95, 90, 70], [60, 75, 100, 55, 80, 50], [50, 20, 55, 25, 25, 30], [100, 100, 100, 100, 100, 100], [106, 110, 90, 154, 90, 130], [45, 85, 50, 55, 50, 65], [65, 125, 60, 95, 60, 105], [70, 90, 70, 60, 60, 70], [95, 60, 79, 100, 125, 81], [95, 80, 105, 40, 70, 100], [20, 25, 45, 70, 90, 60], [55, 50, 40, 40, 40, 75], [60, 40, 50, 75, 85, 95], [60, 60, 60, 85, 85, 85], [60, 60, 60, 105, 105, 105], [90, 100, 90, 125, 85, 90], [64, 78, 52, 78, 52, 81], [70, 94, 50, 94, 50, 66], [40, 45, 65, 100, 120, 90], [50, 70, 50, 50, 50, 40], [105, 105, 75, 65, 100, 50], [135, 85, 40, 40, 85, 5], [76, 25, 45, 67, 55, 24], [60, 85, 42, 85, 42, 91], [116, 55, 85, 107, 95, 29], [40, 50, 45, 70, 45, 70], [81, 102, 77, 85, 75, 85], [90, 92, 87, 75, 85, 76], [55, 47, 52, 40, 40, 41], [46, 57, 40, 40, 40, 50], [70, 62, 67, 55, 55, 56], [61, 72, 57, 55, 55, 65], [31, 45, 90, 30, 30, 40], [73, 76, 75, 81, 100, 100], [61, 90, 45, 50, 50, 160], [100, 50, 50, 76, 96, 70], [40, 30, 35, 45, 40, 55], [85, 70, 80, 97, 80, 123], [30, 45, 135, 45, 90, 30], [60, 60, 40, 65, 45, 35], [70, 70, 40, 60, 40, 60], [75, 105, 75, 105, 75, 45], [45, 50, 55, 75, 65, 30], [35, 40, 100, 90, 55, 35], [70, 60, 125, 115, 70, 55], [35, 45, 160, 30, 45, 70], [55, 55, 45, 63, 45, 45], [60, 45, 70, 45, 90, 95], [90, 120, 100, 150, 120, 100], [75, 65, 55, 65, 55, 69], [67, 82, 62, 46, 48, 43], [95, 124, 78, 69, 71, 58], [50, 53, 48, 53, 48, 64], [50, 53, 48, 53, 48, 64], [50, 53, 48, 53, 48, 64], [35, 70, 55, 45, 55, 25], [60, 95, 80, 60, 80, 30], [45, 55, 39, 35, 39, 42], [45, 85, 70, 40, 40, 60], [60, 50, 100, 85, 70, 65], [65, 70, 60, 65, 65, 115], [45, 35, 50, 70, 50, 30], [90, 60, 60, 40, 40, 40], [43, 70, 48, 50, 60, 38], [80, 80, 80, 80, 80, 80], [20, 40, 15, 35, 35, 60], [83, 80, 75, 70, 70, 101], [63, 60, 55, 50, 50, 71], [40, 45, 40, 35, 35, 56], [50, 55, 50, 36, 30, 43], [90, 93, 55, 70, 55, 55], [35, 55, 40, 50, 50, 90], [100, 100, 80, 60, 60, 50], [50, 65, 90, 35, 35, 15], [65, 125, 100, 55, 70, 85], [53, 51, 53, 61, 56, 40], [60, 50, 40, 85, 75, 95], [90, 75, 75, 90, 100, 70], [40, 50, 40, 40, 40, 90], [65, 65, 65, 50, 50, 90], [90, 95, 95, 70, 90, 70], [50, 85, 55, 65, 65, 90], [35, 55, 35, 30, 30, 35], [65, 60, 70, 85, 75, 40], [85, 80, 70, 135, 75, 90], [85, 80, 90, 105, 95, 60], [65, 105, 60, 60, 70, 95], [64, 66, 68, 81, 76, 50], [60, 55, 145, 75, 150, 40], [50, 52, 48, 65, 50, 55], [70, 84, 70, 65, 70, 51], [41, 50, 37, 50, 37, 66], [71, 82, 64, 64, 59, 112], [86, 68, 72, 109, 66, 106], [95, 85, 85, 65, 65, 35], [58, 64, 58, 80, 65, 80], [61, 78, 95, 56, 58, 57], [65, 95, 75, 55, 55, 85], [60, 90, 55, 90, 80, 110], [90, 85, 75, 115, 100, 115], [28, 25, 25, 45, 35, 40], [97, 165, 60, 65, 50, 58], [65, 100, 70, 80, 80, 105], [55, 81, 60, 50, 70, 97], [30, 56, 35, 25, 35, 72], [105, 150, 90, 150, 90, 95], [80, 50, 100, 100, 200, 50], [110, 160, 110, 80, 110, 100], [80, 100, 200, 50, 100, 50], [80, 75, 150, 75, 150, 50], [100, 90, 130, 45, 65, 55], [35, 65, 35, 65, 35, 65], [100, 120, 100, 150, 120, 90], [110, 65, 75, 125, 85, 30], [105, 130, 120, 45, 45, 40], [80, 85, 95, 30, 30, 25], [115, 140, 130, 55, 55, 40], [40, 70, 40, 35, 40, 60], [55, 75, 85, 25, 25, 15], [50, 60, 45, 100, 80, 65], [60, 70, 65, 125, 105, 90], [50, 50, 77, 95, 77, 91], [50, 65, 107, 105, 107, 86], [50, 65, 107, 105, 107, 86], [50, 65, 107, 105, 107, 86], [50, 65, 107, 105, 107, 86], [50, 65, 107, 105, 107, 86], [70, 83, 50, 37, 50, 60], [50, 75, 75, 65, 65, 50], [95, 135, 80, 110, 80, 100], [95, 100, 85, 108, 70, 70], [50, 72, 35, 35, 35, 65], [50, 75, 85, 20, 30, 40], [75, 100, 110, 45, 55, 65], [75, 125, 75, 30, 75, 85], [80, 100, 70, 60, 70, 95], [38, 35, 40, 27, 25, 35], [70, 85, 65, 105, 85, 120], [70, 130, 100, 55, 80, 65], [60, 100, 89, 55, 69, 112], [65, 90, 115, 45, 115, 58], [50, 75, 70, 35, 70, 48], [70, 110, 80, 55, 80, 105], [55, 65, 95, 95, 45, 85], [80, 92, 65, 65, 80, 68], [90, 60, 70, 75, 70, 45], [40, 40, 50, 30, 30, 30], [65, 45, 55, 45, 70, 45], [105, 95, 75, 85, 75, 74], [35, 46, 34, 35, 45, 20], [75, 75, 95, 75, 95, 113], [60, 60, 75, 60, 75, 83], [73, 100, 60, 100, 60, 65], [45, 53, 70, 40, 60, 42], [70, 120, 40, 95, 40, 95], [1, 90, 45, 30, 30, 40], [65, 95, 100, 60, 50, 50], [30, 65, 100, 45, 25, 40], [76, 48, 48, 57, 62, 34], [50, 40, 85, 40, 65, 25], [30, 42, 118, 42, 88, 30], [90, 100, 60, 90, 60, 80], [45, 65, 34, 40, 34, 45], [60, 40, 60, 40, 60, 35], [20, 10, 230, 10, 230, 5], [44, 75, 35, 63, 33, 45], [72, 58, 80, 103, 80, 97], [50, 35, 55, 25, 25, 15], [75, 98, 63, 98, 63, 101], [75, 98, 63, 98, 63, 101], [75, 98, 63, 98, 63, 101], [65, 80, 140, 40, 70, 70], [66, 65, 48, 62, 57, 52], [55, 45, 50, 45, 65, 80], [50, 45, 45, 35, 35, 50], [40, 50, 90, 30, 55, 65], [50, 60, 60, 60, 60, 30], [103, 93, 67, 71, 61, 84], [150, 160, 100, 95, 65, 100], [60, 60, 60, 35, 35, 30], [68, 75, 53, 83, 113, 60], [95, 75, 110, 100, 80, 30], [95, 75, 80, 100, 110, 30], [90, 65, 65, 40, 40, 15], [40, 40, 40, 70, 40, 20], [82, 80, 86, 85, 75, 72], [55, 20, 35, 20, 45, 75], [45, 30, 15, 85, 65, 65], [55, 95, 55, 35, 75, 115], [45, 45, 55, 45, 55, 63], [160, 110, 65, 65, 110, 30], [50, 50, 50, 50, 50, 50], [60, 62, 50, 62, 60, 40], [60, 80, 50, 40, 40, 30], [45, 30, 40, 105, 50, 20], [70, 95, 85, 55, 65, 70], [40, 60, 30, 31, 31, 70], [45, 22, 60, 27, 30, 29], [70, 40, 50, 55, 50, 25], [40, 60, 40, 40, 40, 30], [60, 60, 60, 60, 60, 60], [50, 92, 108, 92, 108, 35], [60, 25, 35, 70, 80, 60], [78, 52, 60, 63, 65, 23], [44, 48, 65, 50, 64, 43], [73, 95, 62, 85, 65, 85], [85, 120, 70, 50, 60, 100], [55, 75, 50, 40, 40, 80], [40, 55, 30, 30, 30, 60], [60, 75, 85, 100, 85, 115], [30, 45, 55, 70, 55, 85], [75, 85, 200, 55, 65, 30], [85, 110, 90, 45, 90, 80], [109, 66, 84, 81, 99, 32], [63, 63, 47, 41, 41, 74], [70, 100, 115, 30, 65, 30], [100, 75, 115, 90, 115, 85], [75, 75, 55, 105, 85, 30], [30, 30, 30, 30, 30, 30], [40, 30, 32, 50, 52, 65], [45, 40, 60, 40, 75, 50], [55, 63, 90, 50, 80, 42], [100, 73, 83, 73, 83, 55], [100, 110, 90, 85, 90, 60], [75, 87, 63, 87, 63, 98], [60, 85, 60, 50, 50, 125], [50, 50, 40, 30, 30, 50], [62, 48, 66, 59, 57, 49], [67, 57, 55, 77, 55, 114], [95, 65, 65, 110, 130, 60], [40, 55, 30, 30, 30, 85], [78, 81, 71, 74, 69, 126], [65, 55, 115, 100, 40, 60], [100, 100, 125, 110, 50, 50], [75, 100, 95, 40, 70, 110], [60, 80, 50, 50, 50, 40], [40, 40, 35, 50, 100, 70], [80, 70, 65, 80, 120, 100], [65, 63, 45, 45, 45, 45], [91, 129, 90, 72, 90, 108], [120, 100, 85, 30, 85, 45], [75, 80, 55, 25, 35, 35], [54, 78, 103, 53, 45, 22], [85, 50, 95, 120, 115, 80], [35, 20, 65, 40, 65, 20], [55, 40, 85, 80, 105, 40], [45, 60, 40, 70, 50, 45], [70, 85, 140, 85, 70, 20], [95, 109, 105, 75, 85, 56], [50, 65, 64, 44, 48, 43], [83, 106, 65, 86, 65, 85], [62, 77, 62, 50, 42, 65], [45, 100, 45, 45, 45, 10], [40, 45, 35, 65, 55, 70], [85, 110, 76, 65, 82, 56], [99, 68, 83, 72, 87, 51], [50, 50, 62, 40, 62, 65], [55, 68, 64, 45, 55, 31], [50, 50, 40, 50, 40, 64], [35, 55, 40, 45, 40, 60], [78, 84, 78, 109, 85, 100], [100, 134, 110, 95, 100, 61], [82, 121, 119, 69, 59, 71], [35, 35, 35, 35, 35, 35], [58, 89, 77, 45, 45, 48], [95, 65, 110, 60, 130, 65], [80, 115, 80, 65, 55, 93], [48, 72, 48, 72, 48, 48], [90, 130, 75, 75, 75, 55], [75, 75, 130, 75, 130, 95], [51, 65, 65, 80, 75, 59], [36, 50, 50, 65, 60, 44], [71, 95, 85, 110, 95, 79], [130, 65, 60, 110, 95, 65], [30, 45, 59, 30, 39, 57], [70, 65, 60, 90, 75, 90], [60, 55, 50, 40, 55, 45], [80, 82, 83, 100, 100, 80], [70, 80, 102, 80, 102, 40], [50, 70, 50, 50, 50, 70], [100, 100, 100, 100, 100, 100], [80, 105, 65, 100, 70, 70], [80, 80, 80, 55, 55, 90], [75, 80, 85, 110, 90, 50], [91, 90, 72, 90, 129, 108], [80, 52, 50, 90, 50, 89], [65, 73, 55, 47, 75, 85], [80, 110, 120, 130, 90, 70], [85, 60, 65, 135, 105, 100], [40, 30, 50, 55, 55, 100], [70, 55, 75, 45, 65, 60], [38, 41, 40, 50, 65, 65], [130, 70, 35, 70, 35, 60], [170, 90, 45, 90, 45, 60], [110, 80, 90, 95, 90, 65], [59, 63, 80, 65, 80, 58], [60, 85, 69, 60, 69, 77], [70, 120, 65, 45, 85, 125], [40, 35, 30, 20, 20, 50], [65, 90, 50, 85, 45, 55], [65, 90, 120, 85, 70, 60], [60, 67, 85, 77, 75, 116], [40, 55, 99, 40, 79, 47], [110, 78, 73, 76, 71, 60], [64, 51, 23, 51, 23, 28], [140, 70, 45, 85, 50, 45], [40, 30, 30, 55, 30, 85], [190, 33, 58, 33, 58, 33], [55, 45, 43, 55, 43, 72], [55, 45, 45, 25, 25, 15], [60, 59, 85, 79, 105, 36], [60, 79, 105, 59, 85, 36], [60, 69, 95, 69, 95, 36], [45, 45, 35, 20, 30, 20], [95, 23, 48, 23, 48, 23], [65, 75, 70, 95, 70, 95], [126, 131, 95, 131, 98, 99], [38, 30, 85, 55, 65, 30], [65, 65, 45, 75, 45, 95], [86, 76, 86, 116, 56, 95], [126, 131, 95, 131, 98, 99], [73, 115, 60, 60, 60, 90], [90, 90, 85, 125, 90, 100], [75, 100, 63, 80, 63, 116], [100, 150, 120, 120, 100, 90], [38, 30, 41, 30, 41, 60], [60, 105, 60, 120, 60, 105], [40, 65, 40, 80, 40, 65], [40, 45, 35, 30, 40, 55], [72, 85, 70, 65, 70, 58]]"
   ]
  },
  {
   "cell_type": "code",
   "execution_count": 63,
   "id": "involved-magic",
   "metadata": {},
   "outputs": [
    {
     "name": "stdout",
     "output_type": "stream",
     "text": [
      "True \n",
      "\n",
      "[('Abomasnow', 494, 82.33333333333333), ('Abra', 310, 51.666666666666664), ('Absol', 465, 77.5)]\n",
      "[('Abomasnow', 494, 82.33333333333333), ('Abra', 310, 51.666666666666664), ('Absol', 465, 77.5)] \n",
      "\n",
      "3 strongest Pokémon:\n",
      "[('GroudonPrimal Groudon', 770, 128.33333333333334), ('KyogrePrimal Kyogre', 770, 128.33333333333334), ('Arceus', 720, 120.0)]\n"
     ]
    }
   ],
   "source": [
    "stats2 = np.array(stats)\n",
    "\n",
    "# Create a total stats array\n",
    "total_stats_np = stats2.sum(axis=1)\n",
    "\n",
    "# Create an average stats array\n",
    "avg_stats_np = stats2.mean(axis=1)\n",
    "\n",
    "# Combine names, total_stats_np, and avg_stats_np into a list\n",
    "poke_list_np = [*zip(names, total_stats_np, avg_stats_np)]\n",
    "\n",
    "print(poke_list_np == poke_list, '\\n')\n",
    "print(poke_list_np[:3])\n",
    "print(poke_list[:3], '\\n')\n",
    "top_3 = sorted(poke_list_np, key=lambda x: x[1], reverse=True)[:3]\n",
    "print('3 strongest Pokémon:\\n{}'.format(top_3))"
   ]
  },
  {
   "cell_type": "markdown",
   "id": "bizarre-apollo",
   "metadata": {},
   "source": [
    "## One-time calculation loop\n",
    "\n",
    "A list of integers that represents each Pokémon's generation has been loaded into your session called `generations`. You'd like to gather the counts of each generation and determine what percentage each generation accounts for out of the total count of integers.\n",
    "\n",
    "The below loop was written to accomplish this task:\n",
    "\n",
    "```\n",
    "for gen, count in gen_counts.items():\n",
    "    total_count = len(generations)\n",
    "    gen_percent = round(count / total_count * 100, 2)\n",
    "    print('generation {}: count = {:3} percentage = {}'.format(gen, count, gen_percent))\n",
    "```\n",
    "\n",
    "Let's make this loop more efficient by moving a one-time calculation outside the loop.\n",
    "\n",
    "Instructions\n",
    "\n",
    "1. Import `Counter` from the `collections` module.\n",
    "2. Use `Counter()` to collect the count of each generation from the `generations` list. Save this as `gen_counts`.\n",
    "3. Write a better for loop that places a **one-time** calculation outside (above) the loop. Use the exact same syntax as the original for loop (simply copy and paste the one-time calculation above the loop)."
   ]
  },
  {
   "cell_type": "code",
   "execution_count": 64,
   "id": "continuing-consortium",
   "metadata": {},
   "outputs": [],
   "source": [
    "# List\n",
    "generations = [4, 1, 3, 5, 1, 3, 2, 1, 5, 3, 6, 4, 5, 2, 3, 1, 1, 4, 5, 5, 2, 3, 6, 3, 1, 5, 6, 6, 5, 4, 2, 3, 3, 3, 3, 6, 3, 5, 4, 2, 5, 3, 1, 5, 3, 2, 1, 6, 4, 4, 6, 5, 1, 3, 2, 5, 5, 4, 5, 6, 5, 3, 4, 4, 4, 4, 1, 4, 6, 4, 1, 3, 3, 3, 6, 4, 5, 3, 3, 3, 1, 2, 5, 1, 1, 1, 1, 4, 4, 4, 6, 6, 2, 4, 3, 2, 4, 5, 3, 6, 6, 3, 1, 1, 2, 1, 5, 5, 4, 3, 5, 3, 2, 5, 3, 4, 3, 4, 4, 2, 2, 5, 5, 5, 1, 2, 4, 5, 5, 5, 6, 5, 5, 3, 2, 6, 1, 5, 4, 6, 6, 1, 1, 1, 1, 2, 6, 6, 1, 1, 4, 1, 4, 4, 5, 1, 5, 5, 1, 2, 5, 5, 3, 4, 3, 3, 5, 5, 5, 1, 1, 1, 4, 3, 1, 2, 5, 5, 5, 4, 2, 5, 2, 6, 5, 1, 1, 3, 1, 1, 3, 6, 2, 5, 5, 4, 2, 6, 1, 6, 6, 4, 6, 6, 3, 5, 2, 5, 5, 6, 6, 4, 6, 2, 4, 4, 5, 5, 4, 3, 1, 4, 5, 1, 1, 4, 5, 2, 4, 3, 4, 2, 4, 1, 6, 1, 1, 1, 1, 5, 5, 6, 6, 3, 5, 5, 5, 2, 1, 6, 1, 4, 3, 3, 3, 1, 3, 3, 5, 1, 4, 3, 1, 6, 5, 5, 4, 6, 6, 2, 5, 4, 4, 1, 1, 2, 2, 4, 6, 2, 2, 1, 2, 2, 3, 5, 1, 2, 3, 4, 6, 1, 5, 1, 3, 1, 5, 2, 1, 1, 1, 1, 1, 1, 5, 3, 2, 1, 3, 5, 6, 5, 5, 1, 1, 4, 4, 5, 5, 3, 3, 5, 5, 5, 3, 5, 2, 1, 5, 2, 3, 3, 4, 5, 2, 2, 4, 1, 5, 3, 5, 5, 3, 6, 5, 3, 4, 3, 3, 4, 3, 2, 4, 3, 3, 4, 4, 1, 1, 1, 2, 2, 1, 1, 4, 1, 1, 4, 3, 6, 4, 4, 5, 3, 1, 2, 4, 5, 2, 2, 1, 3, 3, 3, 3, 3, 6, 6, 1, 4, 3, 3, 1, 1, 1, 5, 5, 3, 3, 2, 4, 5, 3, 2, 4, 1, 4, 4, 1, 3, 1, 4, 5, 2, 5, 2, 1, 1, 1, 1, 1, 1, 3, 1, 3, 2, 6, 6, 3, 3, 3, 2, 1, 1, 1, 1, 5, 4, 4, 5, 6, 6, 5, 5, 5, 1, 1, 5, 5, 3, 1, 5, 2, 6, 4, 2, 1, 1, 1, 5, 5, 1, 2, 2, 1, 4, 3, 2, 1, 1, 1, 1, 3, 1, 4, 2, 1, 4, 4, 1, 2, 5, 4, 6, 2, 2, 6, 2, 1, 2, 3, 4, 1, 1, 1, 3, 3, 4, 3, 3, 3, 2, 5, 5, 1, 1, 4, 4, 5, 3, 4, 4, 4, 4, 4, 4, 4, 5, 3, 3, 5, 5, 1, 1, 5, 5, 6, 3, 2, 5, 5, 5, 1, 1, 1, 3, 3, 1, 5, 2, 5, 5, 3, 5, 3, 3, 3, 1, 4, 5, 4, 3, 4, 3, 2, 3, 5, 3, 5, 5, 5, 2, 6, 2, 3, 4, 6, 4, 3, 3, 6, 1, 2, 1, 2, 6, 2, 2, 2, 5, 1, 3, 4, 2, 5, 3, 1, 6, 3, 2, 3, 4, 3, 6, 1, 2, 4, 4, 4, 1, 1, 2, 5, 5, 4, 2, 2, 2, 2, 3, 3, 5, 3, 3, 5, 3, 2, 6, 5, 6, 3, 6, 1, 4, 1, 2, 1, 1, 5, 5, 5, 5, 5, 4, 2, 2, 3, 3, 4, 2, 4, 5, 3, 3, 6, 3, 5, 4, 5, 5, 2, 2, 6, 2, 6, 2, 5, 2, 2, 4, 5, 5, 5, 1, 5, 1, 1, 1, 4, 3, 5, 1, 3, 1, 5, 6, 3, 6, 5, 1, 5, 1, 3, 3, 3, 1, 5, 4, 1, 1, 1, 5, 5, 3, 3, 1, 3, 2, 5, 2, 4, 4, 4, 3, 3, 2, 6, 5, 2, 4, 6, 3, 1, 5, 5, 3, 5, 5, 1, 5]"
   ]
  },
  {
   "cell_type": "code",
   "execution_count": 65,
   "id": "cathedral-madness",
   "metadata": {},
   "outputs": [
    {
     "name": "stdout",
     "output_type": "stream",
     "text": [
      "generation 4: count = 112 percentage = 15.56\n",
      "generation 1: count = 151 percentage = 20.97\n",
      "generation 3: count = 136 percentage = 18.89\n",
      "generation 5: count = 154 percentage = 21.39\n",
      "generation 2: count =  99 percentage = 13.75\n",
      "generation 6: count =  68 percentage = 9.44\n"
     ]
    }
   ],
   "source": [
    "# Import Counter\n",
    "from collections import Counter\n",
    "\n",
    "# Collect the count of each generation\n",
    "gen_counts = Counter(generations)\n",
    "\n",
    "# Improve for loop by moving one calculation above the loop\n",
    "total_count = len(generations)\n",
    "\n",
    "for gen,count in gen_counts.items():\n",
    "    gen_percent = round(count / total_count * 100, 2)\n",
    "    print('generation {}: count = {:3} percentage = {}'.format(gen, count, gen_percent))"
   ]
  },
  {
   "cell_type": "markdown",
   "id": "emerging-pakistan",
   "metadata": {},
   "source": [
    "## Holistic conversion loop\n",
    "\n",
    "A list of all possible Pokémon types has been loaded into your session as `pokemon_types`. It's been printed in the console for convenience.\n",
    "\n",
    "You'd like to gather all the possible pairs of Pokémon types. You want to store each of these pairs in an individual list with an enumerated index as the first element of each list. This allows you to see the total number of possible pairs and provides an indexed label for each pair.\n",
    "\n",
    "The below loop was written to accomplish this task:\n",
    "\n",
    "```\n",
    "enumerated_pairs = []\n",
    "\n",
    "for i,pair in enumerate(possible_pairs, 1):\n",
    "    enumerated_pair_tuple = (i,) + pair\n",
    "    enumerated_pair_list = list(enumerated_pair_tuple)\n",
    "    enumerated_pairs.append(enumerated_pair_list)\n",
    "```\n",
    "\n",
    "Let's make this loop more efficient using a holistic conversion.\n",
    "\n",
    "Instructions\n",
    "\n",
    "1. `combinations` from the `itertools` module has been loaded into your session. Use it to create a list called `possible_pairs` that contains all possible pairs of Pokémon types (each pair has `2` Pokémon types).\n",
    "2. Create an empty list called `enumerated_tuples` above the for loop.\n",
    "3. Within the for loop, append each `enumerated_pair_tuple` to the empty list you created in the above step.\n",
    "4. Use a built-in function to convert each tuple in `enumerated_tuples` to a list."
   ]
  },
  {
   "cell_type": "code",
   "execution_count": 67,
   "id": "apparent-oxide",
   "metadata": {},
   "outputs": [],
   "source": [
    "# List \n",
    "pokemon_types = ['Bug', 'Dark', 'Dragon', 'Electric', 'Fairy', 'Fighting', 'Fire', 'Flying', 'Ghost', 'Grass', 'Ground', 'Ice', 'Normal', 'Poison', 'Psychic', 'Rock', 'Steel', 'Water']"
   ]
  },
  {
   "cell_type": "code",
   "execution_count": 2,
   "id": "cellular-hundred",
   "metadata": {},
   "outputs": [
    {
     "ename": "NameError",
     "evalue": "name 'combinations' is not defined",
     "output_type": "error",
     "traceback": [
      "\u001b[0;31m---------------------------------------------------------------------------\u001b[0m",
      "\u001b[0;31mNameError\u001b[0m                                 Traceback (most recent call last)",
      "\u001b[0;32m<ipython-input-2-1e73d3f90732>\u001b[0m in \u001b[0;36m<module>\u001b[0;34m\u001b[0m\n\u001b[1;32m      1\u001b[0m \u001b[0;31m# Collect all possible pairs using combinations()\u001b[0m\u001b[0;34m\u001b[0m\u001b[0;34m\u001b[0m\u001b[0;34m\u001b[0m\u001b[0m\n\u001b[0;32m----> 2\u001b[0;31m \u001b[0mpossible_pairs\u001b[0m \u001b[0;34m=\u001b[0m \u001b[0;34m[\u001b[0m\u001b[0;34m*\u001b[0m\u001b[0mcombinations\u001b[0m\u001b[0;34m(\u001b[0m\u001b[0mpokemon_types\u001b[0m\u001b[0;34m,\u001b[0m \u001b[0;36m2\u001b[0m\u001b[0;34m)\u001b[0m\u001b[0;34m]\u001b[0m\u001b[0;34m\u001b[0m\u001b[0;34m\u001b[0m\u001b[0m\n\u001b[0m\u001b[1;32m      3\u001b[0m \u001b[0;34m\u001b[0m\u001b[0m\n\u001b[1;32m      4\u001b[0m \u001b[0;31m# Create an empty list called enumerated_tuples\u001b[0m\u001b[0;34m\u001b[0m\u001b[0;34m\u001b[0m\u001b[0;34m\u001b[0m\u001b[0m\n\u001b[1;32m      5\u001b[0m \u001b[0menumerated_tuples\u001b[0m \u001b[0;34m=\u001b[0m \u001b[0;34m[\u001b[0m\u001b[0;34m]\u001b[0m\u001b[0;34m\u001b[0m\u001b[0;34m\u001b[0m\u001b[0m\n",
      "\u001b[0;31mNameError\u001b[0m: name 'combinations' is not defined"
     ]
    }
   ],
   "source": [
    "# Collect all possible pairs using combinations()\n",
    "possible_pairs = [*combinations(pokemon_types, 2)]\n",
    "\n",
    "# Create an empty list called enumerated_tuples\n",
    "enumerated_tuples = []\n",
    "\n",
    "# Add a line to append each enumerated_pair_tuple to the empty list above\n",
    "for i,pair in enumerate(possible_pairs, 1):\n",
    "    enumerated_pair_tuple = (i,) + pair\n",
    "    enumerated_tuples.append(enumerated_pair_tuple)\n",
    "\n",
    "# Convert all tuples in enumerated_tuples to a list\n",
    "enumerated_pairs = [*map(list, enumerated_tuples)]\n",
    "print(enumerated_pairs)"
   ]
  },
  {
   "cell_type": "markdown",
   "id": "unnecessary-league",
   "metadata": {},
   "source": [
    "## Bringing it all together: Pokémon z-scores\n",
    "\n",
    "A list of 720 Pokémon has been loaded into your session as `names`. Each Pokémon's corresponding Health Points is stored in a NumPy array called `hps`. You want to analyze the Health Points using the [z-score](https://en.wikipedia.org/wiki/Standard_score) to see how many standard deviations each Pokémon's HP is from the mean of all HPs.\n",
    "\n",
    "The below code was written to calculate the HP z-score for each Pokémon and gather the Pokémon with the highest HPs based on their z-scores:\n",
    "\n",
    "```\n",
    "poke_zscores = []\n",
    "for name,hp in zip(names, hps):\n",
    "    hp_avg = hps.mean()\n",
    "    hp_std = hps.std()\n",
    "    z_score = (hp - hp_avg)/hp_std\n",
    "    poke_zscores.append((name, hp, z_score))\n",
    "```\n",
    "\n",
    "```\n",
    "highest_hp_pokemon = []\n",
    "for name,hp,zscore in poke_zscores:\n",
    "    if zscore > 2:\n",
    "        highest_hp_pokemon.append((name, hp, zscore))\n",
    "```\n",
    "\n",
    "Instructions\n",
    "\n",
    "1. Use NumPy to eliminate the for loop used to create the z-scores.\n",
    "2. Then, combine the `names`, `hps`, and `z_scores` objects together into a list called `poke_zscores2`.\n",
    "3. Use list comprehension to replace the for loop used to collect Pokémon with the highest HPs based on their z-score.\n",
    "4. Use `%%timeit` (_cell magic mode_) within your IPython console to compare the runtimes between the original code blocks and the new code you developed using NumPy and list comprehension. **Don't include the `print()` statements when timing**. You should include **ten lines of code** when timing the original code blocks and **five lines of code** when timing the new code you developed. You may need to press `ENTER` after entering `%%timeit` to get to a new line within your IPython console. Which approach was the faster?"
   ]
  },
  {
   "cell_type": "code",
   "execution_count": 72,
   "id": "disturbed-pizza",
   "metadata": {},
   "outputs": [],
   "source": [
    "# List\n",
    "names = ['Abomasnow', 'Abra', 'Absol', 'Accelgor', 'Aerodactyl', 'Aggron', 'Aipom', 'Alakazam', 'Alomomola', 'Altaria', 'Amaura', 'Ambipom', 'Amoonguss', 'Ampharos', 'Anorith', 'Arbok', 'Arcanine', 'Arceus', 'Archen', 'Archeops', 'Ariados', 'Armaldo', 'Aromatisse', 'Aron', 'Articuno', 'Audino', 'Aurorus', 'Avalugg', 'Axew', 'Azelf', 'Azumarill', 'Azurill', 'Bagon', 'Baltoy', 'Banette', 'Barbaracle', 'Barboach', 'Basculin', 'Bastiodon', 'Bayleef', 'Beartic', 'Beautifly', 'Beedrill', 'Beheeyem', 'Beldum', 'Bellossom', 'Bellsprout', 'Bergmite', 'Bibarel', 'Bidoof', 'Binacle', 'Bisharp', 'Blastoise', 'Blaziken', 'Blissey', 'Blitzle', 'Boldore', 'Bonsly', 'Bouffalant', 'Braixen', 'Braviary', 'Breloom', 'Bronzong', 'Bronzor', 'Budew', 'Buizel', 'Bulbasaur', 'Buneary', 'Bunnelby', 'Burmy', 'Butterfree', 'Cacnea', 'Cacturne', 'Camerupt', 'Carbink', 'Carnivine', 'Carracosta', 'Carvanha', 'Cascoon', 'Castform', 'Caterpie', 'Celebi', 'Chandelure', 'Chansey', 'Charizard', 'Charmander', 'Charmeleon', 'Chatot', 'Cherrim', 'Cherubi', 'Chesnaught', 'Chespin', 'Chikorita', 'Chimchar', 'Chimecho', 'Chinchou', 'Chingling', 'Cinccino', 'Clamperl', 'Clauncher', 'Clawitzer', 'Claydol', 'Clefable', 'Clefairy', 'Cleffa', 'Cloyster', 'Cobalion', 'Cofagrigus', 'Combee', 'Combusken', 'Conkeldurr', 'Corphish', 'Corsola', 'Cottonee', 'Cradily', 'Cranidos', 'Crawdaunt', 'Cresselia', 'Croagunk', 'Crobat', 'Croconaw', 'Crustle', 'Cryogonal', 'Cubchoo', 'Cubone', 'Cyndaquil', 'Darkrai', 'DarmanitanStandard Mode', 'DarmanitanZen Mode', 'Darumaka', 'Dedenne', 'Deerling', 'Deino', 'Delcatty', 'Delibird', 'Delphox', 'Dewgong', 'Dewott', 'Dialga', 'Diancie', 'Diggersby', 'Diglett', 'Ditto', 'Dodrio', 'Doduo', 'Donphan', 'Doublade', 'Dragalge', 'Dragonair', 'Dragonite', 'Drapion', 'Dratini', 'Drifblim', 'Drifloon', 'Drilbur', 'Drowzee', 'Druddigon', 'Ducklett', 'Dugtrio', 'Dunsparce', 'Duosion', 'Durant', 'Dusclops', 'Dusknoir', 'Duskull', 'Dustox', 'Dwebble', 'Eelektrik', 'Eelektross', 'Eevee', 'Ekans', 'Electabuzz', 'Electivire', 'Electrike', 'Electrode', 'Elekid', 'Elgyem', 'Emboar', 'Emolga', 'Empoleon', 'Entei', 'Escavalier', 'Espeon', 'Espurr', 'Excadrill', 'Exeggcute', 'Exeggutor', 'Exploud', \"Farfetch'd\", 'Fearow', 'Feebas', 'Fennekin', 'Feraligatr', 'Ferroseed', 'Ferrothorn', 'Finneon', 'Flaaffy', 'Flabébé', 'Flareon', 'Fletchinder', 'Fletchling', 'Floatzel', 'Floette', 'Florges', 'Flygon', 'Foongus', 'Forretress', 'Fraxure', 'Frillish', 'Froakie', 'Frogadier', 'Froslass', 'Furfrou', 'Furret', 'Gabite', 'Gallade', 'Galvantula', 'Garbodor', 'Garchomp', 'Gardevoir', 'Gastly', 'Gastrodon', 'Genesect', 'Gengar', 'Geodude', 'Gible', 'Gigalith', 'Girafarig', 'Glaceon', 'Glalie', 'Glameow', 'Gligar', 'Gliscor', 'Gloom', 'Gogoat', 'Golbat', 'Goldeen', 'Golduck', 'Golem', 'Golett', 'Golurk', 'Goodra', 'Goomy', 'Gorebyss', 'Gothita', 'Gothitelle', 'Gothorita', 'Granbull', 'Graveler', 'Greninja', 'Grimer', 'Grotle', 'Groudon', 'GroudonPrimal Groudon', 'Grovyle', 'Growlithe', 'Grumpig', 'Gulpin', 'Gurdurr', 'Gyarados', 'Happiny', 'Hariyama', 'Haunter', 'Hawlucha', 'Haxorus', 'Heatmor', 'Heatran', 'Heliolisk', 'Helioptile', 'Heracross', 'Herdier', 'Hippopotas', 'Hippowdon', 'Hitmonchan', 'Hitmonlee', 'Hitmontop', 'Ho-oh', 'Honchkrow', 'Honedge', 'Hoothoot', 'Hoppip', 'Horsea', 'Houndoom', 'Houndour', 'Huntail', 'Hydreigon', 'Hypno', 'Igglybuff', 'Illumise', 'Infernape', 'Inkay', 'Ivysaur', 'Jellicent', 'Jigglypuff', 'Jirachi', 'Jolteon', 'Joltik', 'Jumpluff', 'Jynx', 'Kabuto', 'Kabutops', 'Kadabra', 'Kakuna', 'Kangaskhan', 'Karrablast', 'Kecleon', 'Kingdra', 'Kingler', 'Kirlia', 'Klang', 'Klefki', 'Klink', 'Klinklang', 'Koffing', 'Krabby', 'Kricketot', 'Kricketune', 'Krokorok', 'Krookodile', 'Kyogre', 'KyogrePrimal Kyogre', 'Kyurem', 'KyuremBlack Kyurem', 'KyuremWhite Kyurem', 'Lairon', 'Lampent', 'Lanturn', 'Lapras', 'Larvesta', 'Larvitar', 'Latias', 'Latios', 'Leafeon', 'Leavanny', 'Ledian', 'Ledyba', 'Lickilicky', 'Lickitung', 'Liepard', 'Lileep', 'Lilligant', 'Lillipup', 'Linoone', 'Litleo', 'Litwick', 'Lombre', 'Lopunny', 'Lotad', 'Loudred', 'Lucario', 'Ludicolo', 'Lugia', 'Lumineon', 'Lunatone', 'Luvdisc', 'Luxio', 'Luxray', 'Machamp', 'Machoke', 'Machop', 'Magby', 'Magcargo', 'Magikarp', 'Magmar', 'Magmortar', 'Magnemite', 'Magneton', 'Magnezone', 'Makuhita', 'Malamar', 'Mamoswine', 'Manaphy', 'Mandibuzz', 'Manectric', 'Mankey', 'Mantine', 'Mantyke', 'Maractus', 'Mareep', 'Marill', 'Marowak', 'Marshtomp', 'Masquerain', 'Mawile', 'Medicham', 'Meditite', 'MeowsticFemale', 'MeowsticMale', 'Meowth', 'Mesprit', 'Metagross', 'Metang', 'Metapod', 'Mew', 'Mewtwo', 'Mienfoo', 'Mienshao', 'Mightyena', 'Milotic', 'Miltank', 'Mime Jr.', 'Minccino', 'Minun', 'Misdreavus', 'Mismagius', 'Moltres', 'Monferno', 'Mothim', 'Mr. Mime', 'Mudkip', 'Muk', 'Munchlax', 'Munna', 'Murkrow', 'Musharna', 'Natu', 'Nidoking', 'Nidoqueen', 'Nidoran♀', 'Nidoran♂', 'Nidorina', 'Nidorino', 'Nincada', 'Ninetales', 'Ninjask', 'Noctowl', 'Noibat', 'Noivern', 'Nosepass', 'Numel', 'Nuzleaf', 'Octillery', 'Oddish', 'Omanyte', 'Omastar', 'Onix', 'Oshawott', 'Pachirisu', 'Palkia', 'Palpitoad', 'Pancham', 'Pangoro', 'Panpour', 'Pansage', 'Pansear', 'Paras', 'Parasect', 'Patrat', 'Pawniard', 'Pelipper', 'Persian', 'Petilil', 'Phanpy', 'Phantump', 'Phione', 'Pichu', 'Pidgeot', 'Pidgeotto', 'Pidgey', 'Pidove', 'Pignite', 'Pikachu', 'Piloswine', 'Pineco', 'Pinsir', 'Piplup', 'Plusle', 'Politoed', 'Poliwag', 'Poliwhirl', 'Poliwrath', 'Ponyta', 'Poochyena', 'Porygon', 'Porygon-Z', 'Porygon2', 'Primeape', 'Prinplup', 'Probopass', 'Psyduck', 'Pupitar', 'Purrloin', 'Purugly', 'Pyroar', 'Quagsire', 'Quilava', 'Quilladin', 'Qwilfish', 'Raichu', 'Raikou', 'Ralts', 'Rampardos', 'Rapidash', 'Raticate', 'Rattata', 'Rayquaza', 'Regice', 'Regigigas', 'Regirock', 'Registeel', 'Relicanth', 'Remoraid', 'Reshiram', 'Reuniclus', 'Rhydon', 'Rhyhorn', 'Rhyperior', 'Riolu', 'Roggenrola', 'Roselia', 'Roserade', 'Rotom', 'RotomFan Rotom', 'RotomFrost Rotom', 'RotomHeat Rotom', 'RotomMow Rotom', 'RotomWash Rotom', 'Rufflet', 'Sableye', 'Salamence', 'Samurott', 'Sandile', 'Sandshrew', 'Sandslash', 'Sawk', 'Sawsbuck', 'Scatterbug', 'Sceptile', 'Scizor', 'Scolipede', 'Scrafty', 'Scraggy', 'Scyther', 'Seadra', 'Seaking', 'Sealeo', 'Seedot', 'Seel', 'Seismitoad', 'Sentret', 'Serperior', 'Servine', 'Seviper', 'Sewaddle', 'Sharpedo', 'Shedinja', 'Shelgon', 'Shellder', 'Shellos', 'Shelmet', 'Shieldon', 'Shiftry', 'Shinx', 'Shroomish', 'Shuckle', 'Shuppet', 'Sigilyph', 'Silcoon', 'Simipour', 'Simisage', 'Simisear', 'Skarmory', 'Skiddo', 'Skiploom', 'Skitty', 'Skorupi', 'Skrelp', 'Skuntank', 'Slaking', 'Slakoth', 'Sliggoo', 'Slowbro', 'Slowking', 'Slowpoke', 'Slugma', 'Slurpuff', 'Smeargle', 'Smoochum', 'Sneasel', 'Snivy', 'Snorlax', 'Snorunt', 'Snover', 'Snubbull', 'Solosis', 'Solrock', 'Spearow', 'Spewpa', 'Spheal', 'Spinarak', 'Spinda', 'Spiritomb', 'Spoink', 'Spritzee', 'Squirtle', 'Stantler', 'Staraptor', 'Staravia', 'Starly', 'Starmie', 'Staryu', 'Steelix', 'Stoutland', 'Stunfisk', 'Stunky', 'Sudowoodo', 'Suicune', 'Sunflora', 'Sunkern', 'Surskit', 'Swablu', 'Swadloon', 'Swalot', 'Swampert', 'Swanna', 'Swellow', 'Swinub', 'Swirlix', 'Swoobat', 'Sylveon', 'Taillow', 'Talonflame', 'Tangela', 'Tangrowth', 'Tauros', 'Teddiursa', 'Tentacool', 'Tentacruel', 'Tepig', 'Terrakion', 'Throh', 'Timburr', 'Tirtouga', 'Togekiss', 'Togepi', 'Togetic', 'Torchic', 'Torkoal', 'Torterra', 'Totodile', 'Toxicroak', 'Tranquill', 'Trapinch', 'Treecko', 'Trevenant', 'Tropius', 'Trubbish', 'Turtwig', 'Tympole', 'Tynamo', 'Typhlosion', 'Tyranitar', 'Tyrantrum', 'Tyrogue', 'Tyrunt', 'Umbreon', 'Unfezant', 'Unown', 'Ursaring', 'Uxie', 'Vanillish', 'Vanillite', 'Vanilluxe', 'Vaporeon', 'Venipede', 'Venomoth', 'Venonat', 'Venusaur', 'Vespiquen', 'Vibrava', 'Victini', 'Victreebel', 'Vigoroth', 'Vileplume', 'Virizion', 'Vivillon', 'Volbeat', 'Volcanion', 'Volcarona', 'Voltorb', 'Vullaby', 'Vulpix', 'Wailmer', 'Wailord', 'Walrein', 'Wartortle', 'Watchog', 'Weavile', 'Weedle', 'Weepinbell', 'Weezing', 'Whimsicott', 'Whirlipede', 'Whiscash', 'Whismur', 'Wigglytuff', 'Wingull', 'Wobbuffet', 'Woobat', 'Wooper', 'WormadamPlant Cloak', 'WormadamSandy Cloak', 'WormadamTrash Cloak', 'Wurmple', 'Wynaut', 'Xatu', 'Xerneas', 'Yamask', 'Yanma', 'Yanmega', 'Yveltal', 'Zangoose', 'Zapdos', 'Zebstrika', 'Zekrom', 'Zigzagoon', 'Zoroark', 'Zorua', 'Zubat', 'Zweilous']\n",
    "hps = np.array([80, 60, 131, 62, 71, 109, 45, 53, 73, 60, 37, 63, 59, 84, 25, 50, 98, 116, 29, 85, 43, 46, 46, 57, 94, 87, 70, 59, 68, 65, 89, 52, 68, 66, 67, 75, 73, 103, 66, 109, 60, 56, 71, 77, 75, 102, 98, 81, 60, 66, 105, 74, 34, 50, 53, 98, 65, 127, 85, 71, 57, 93, 62, 47, 83, 69, 99, 66, 1, 89, 20, 108, 115, 57, 38, 32, 91, 63, 53, 62, 122, 77, 87, 88, 95, 96, 50, 63, 49, 50, 98, 55, 66, 50, 53, 89, 57, 56, 81, 81, 89, 73, 23, 85, 81, 95, 46, 133, 36, 87, 69, 56, 89, 61, 8, 38, 80, 126, 30, 68, 106, 84, 59, 32, 22, 49, 59, 10, 24, 76, 58, 49, 58, 47, 92, 111, 122, 87, 88, 106, 113, 106, 100, 52, 27, 91, 66, 67, 45, 35, 104, 80, 41, 78, 76, 82, 126, 67, 35, 69, 52, 82, 74, 77, 54, 79, 55, 82, 60, 39, 81, 50, 106, 80, 80, 71, 67, 7, 100, 47, 93, 52, 65, 62, 41, 64, 81, 58, 36, 53, 75, 98, 90, 76, 43, 92, 69, 62, 92, 84, 81, 38, 52, 24, 73, 69, 92, 74, 59, 123, 42, 34, 52, 82, 59, 57, 39, 106, 52, 40, 65, 47, 62, 103, 57, 67, 59, 63, 89, 82, 59, 44, 65, 90, 68, 65, 22, 94, 30, 35, 59, 69, 69, 48, 60, 53, 21, 62, 50, 79, 64, 93, 86, 91, 99, 86, 64, 103, 44, 67, 90, 61, 87, 47, 54, 82, 87, 99, 66, 76, 84, 80, 35, 54, 105, 36, 84, 57, 94, 48, 69, 16, 67, 96, 29, 99, 50, 67, 1, 96, 46, 54, 35, 43, 98, 55, 91, 64, 77, 55, 79, 135, 85, 81, 56, 94, 103, 24, 33, 123, 79, 72, 83, 97, 89, 62, 122, 69, 46, 54, 65, 58, 63, 76, 1, 48, 93, 83, 51, 52, 98, 62, 55, 116, 59, 86, 67, 70, 44, 47, 101, 39, 75, 37, 62, 67, 26, 98, 63, 100, 44, 92, 129, 74, 52, 81, 72, 63, 65, 53, 79, 58, 46, 89, 64, 137, 62, 50, 54, 78, 50, 36, 111, 36, 107, 72, 41, 111, 63, 42, 70, 101, 86, 90, 114, 74, 78, 62, 31, 64, 110, 24, 103, 75, 45, 70, 114, 53, 89, 97, 45, 85, 82, 56, 86, 59, 53, 36, 78, 57, 54, 39, 33, 48, 87, 47, 106, 79, 72, 37, 119, 31, 82, 112, 63, 51, 68, 92, 103, 84, 41, 51, 73, 35, 62, 126, 41, 98, 44, 59, 66, 29, 66, 102, 87, 86, 47, 64, 73, 86, 103, 42, 112, 61, 62, 37, 66, 62, 36, 61, 71, 58, 88, 42, 91, 63, 78, 21, 72, 67, 92, 38, 103, 40, 102, 83, 49, 124, 37, 64, 74, 82, 74, 89, 80, 69, 44, 59, 92, 38, 71, 15, 50, 26, 100, 21, 62, 87, 84, 88, 96, 80, 90, 67, 68, 23, 73, 101, 49, 38, 71, 98, 99, 29, 80, 51, 75, 10, 92, 58, 74, 64, 42, 82, 56, 50, 85, 66, 50, 92, 53, 67, 87, 93, 99, 111, 69, 48, 111, 104, 60, 86, 58, 28, 95, 77, 71, 112, 105, 52, 40, 19, 68, 58, 78, 69, 51, 58, 28, 100, 54, 84, 51, 70, 84, 61, 47, 128, 63, 83, 66, 48, 102, 78, 77, 9, 76, 90, 76, 64, 99, 75, 83, 95, 94, 34, 77, 49, 16, 76, 23, 56, 3, 42, 56, 68, 54, 44, 45, 108, 56, 66, 117, 23, 15, 42, 58, 39, 67, 66, 28, 72, 31, 86, 74, 125, 89, 63, 77, 72, 49, 31, 96, 107, 56, 61, 56, 94, 99, 46, 59, 54, 74, 88, 96, 61, 43, 82, 83, 59, 72, 77, 91, 70, 81, 73, 43, 86, 71, 95, 38, 50, 77, 24, 65, 57, 57, 62, 11, 69, 70, 95, 106, 77, 92, 6, 82, 97, 91, 74, 59, 59, 69, 79, 83, 66, 36, 115, 46, 1, 105, 94, 73, 93, 80, 47, 71, 36, 51, 46, 72, 96, 52, 80, 13, 41, 82, 93, 93, 96, 26, 55, 2, 64, 74, 59, 44, 79, 82, 72, 53, 69, 70, 75, 84, 68, 31, 61, 78, 57])\n",
    "\n",
    "# Define function\n",
    "poke_zscores = []\n",
    "for name,hp in zip(names, hps):\n",
    "    hp_avg = hps.mean()\n",
    "    hp_std = hps.std()\n",
    "    z_score = (hp - hp_avg)/hp_std\n",
    "    poke_zscores.append((name, hp, z_score))"
   ]
  },
  {
   "cell_type": "code",
   "execution_count": 81,
   "id": "greatest-summit",
   "metadata": {},
   "outputs": [
    {
     "name": "stdout",
     "output_type": "stream",
     "text": [
      "('Abomasnow', 80, 0.46797638117739043)\n",
      "('Abra', 60, -0.3271693284337512)\n",
      "('Absol', 131, 2.4955979406858013)\n",
      "\n",
      "\n",
      "('Absol', 131, 2.4955979406858013)\n",
      "('Bonsly', 127, 2.3365687987635733)\n",
      "('Caterpie', 122, 2.137782371360788)\n",
      "('Cofagrigus', 133, 2.575112511646916)\n",
      "('Cresselia', 126, 2.296811513283016)\n",
      "('Dewgong', 122, 2.137782371360788)\n",
      "('Druddigon', 126, 2.296811513283016)\n",
      "('Froakie', 123, 2.1775396568413448)\n",
      "('Kadabra', 135, 2.65462708260803)\n",
      "('Klang', 123, 2.1775396568413448)\n",
      "('Kricketune', 122, 2.137782371360788)\n",
      "('Lumineon', 129, 2.4160833697246873)\n",
      "('Magnemite', 137, 2.734141653569144)\n",
      "('Nidorina', 119, 2.0185105149191167)\n",
      "('Onix', 126, 2.296811513283016)\n",
      "('Prinplup', 124, 2.217296942321902)\n",
      "('Skuntank', 128, 2.3763260842441305)\n",
      "('Swellow', 125, 2.2570542278024592)\n"
     ]
    }
   ],
   "source": [
    "# Calculate the total HP avg and total HP standard deviation\n",
    "hp_avg = hps.mean()\n",
    "hp_std = hps.std()\n",
    "\n",
    "# Use NumPy to eliminate the previous for loop\n",
    "z_scores = (hps - hp_avg)/hp_std\n",
    "\n",
    "# Combine names, hps, and z_scores\n",
    "poke_zscores2 = [*zip(names, hps, z_scores)]\n",
    "print(*poke_zscores2[:3], sep='\\n')\n",
    "print('\\n')\n",
    "\n",
    "# Use list comprehension with the same logic as the highest_hp_pokemon code block\n",
    "highest_hp_pokemon = [(name, hp, zscore) for name, hp, zscore in poke_zscores2 if zscore > 2]\n",
    "print(*highest_hp_pokemon, sep='\\n')"
   ]
  },
  {
   "cell_type": "code",
   "execution_count": 83,
   "id": "senior-container",
   "metadata": {},
   "outputs": [
    {
     "name": "stdout",
     "output_type": "stream",
     "text": [
      "24 ms ± 1.75 ms per loop (mean ± std. dev. of 7 runs, 10 loops each)\n"
     ]
    }
   ],
   "source": [
    "%%timeit poke_zscores = []\n",
    "for name,hp in zip(names, hps):\n",
    "    hp_avg = hps.mean()\n",
    "    hp_std = hps.std()\n",
    "    z_score = (hp - hp_avg)/hp_std\n",
    "    poke_zscores.append((name, hp, z_score))"
   ]
  },
  {
   "cell_type": "code",
   "execution_count": 84,
   "id": "continued-difference",
   "metadata": {},
   "outputs": [
    {
     "name": "stdout",
     "output_type": "stream",
     "text": [
      "71.6 µs ± 12.1 µs per loop (mean ± std. dev. of 7 runs, 10000 loops each)\n"
     ]
    }
   ],
   "source": [
    "%timeit poke_zscores2 = [*zip(names, hps, z_scores)]"
   ]
  }
 ],
 "metadata": {
  "kernelspec": {
   "display_name": "Python 3",
   "language": "python",
   "name": "python3"
  },
  "language_info": {
   "codemirror_mode": {
    "name": "ipython",
    "version": 3
   },
   "file_extension": ".py",
   "mimetype": "text/x-python",
   "name": "python",
   "nbconvert_exporter": "python",
   "pygments_lexer": "ipython3",
   "version": "3.8.5"
  },
  "toc": {
   "base_numbering": 1,
   "nav_menu": {},
   "number_sections": true,
   "sideBar": true,
   "skip_h1_title": false,
   "title_cell": "Table of Contents",
   "title_sidebar": "Contents",
   "toc_cell": false,
   "toc_position": {},
   "toc_section_display": true,
   "toc_window_display": false
  },
  "varInspector": {
   "cols": {
    "lenName": 16,
    "lenType": 16,
    "lenVar": 40
   },
   "kernels_config": {
    "python": {
     "delete_cmd_postfix": "",
     "delete_cmd_prefix": "del ",
     "library": "var_list.py",
     "varRefreshCmd": "print(var_dic_list())"
    },
    "r": {
     "delete_cmd_postfix": ") ",
     "delete_cmd_prefix": "rm(",
     "library": "var_list.r",
     "varRefreshCmd": "cat(var_dic_list()) "
    }
   },
   "position": {
    "height": "450px",
    "left": "1003px",
    "right": "20px",
    "top": "120px",
    "width": "318px"
   },
   "types_to_exclude": [
    "module",
    "function",
    "builtin_function_or_method",
    "instance",
    "_Feature"
   ],
   "window_display": false
  }
 },
 "nbformat": 4,
 "nbformat_minor": 5
}
