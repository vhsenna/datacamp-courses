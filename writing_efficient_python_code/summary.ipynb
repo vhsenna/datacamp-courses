{
 "cells": [
  {
   "cell_type": "markdown",
   "id": "heavy-archive",
   "metadata": {},
   "source": [
    "# Writing Efficient Python Code\n",
    "\n",
    "- 4 hours\n",
    "- 15 Videos\n",
    "- 53 Exercises\n",
    "\n",
    "## Course Description\n",
    "\n",
    "As a Data Scientist, the majority of your time should be spent gleaning actionable insights from data -- not waiting for your code to finish running. Writing efficient Python code can help reduce runtime and save computational resources, ultimately freeing you up to do the things you love as a Data Scientist. In this course, you'll learn how to use Python's built-in data structures, functions, and modules to write cleaner, faster, and more efficient code. We'll explore how to time and profile code in order to find bottlenecks. Then, you'll practice eliminating these bottlenecks, and other bad design patterns, using Python's Standard Library, NumPy, and pandas. After completing this course, you'll have the necessary tools to start writing efficient Python code!\n",
    "\n",
    "### 1 Foundations for efficiencies\n",
    "\n",
    "In this chapter, you'll learn what it means to write efficient Python code. You'll explore Python's Standard Library, learn about NumPy arrays, and practice using some of Python's built-in tools. This chapter builds a foundation for the concepts covered ahead.\n",
    "\n",
    "- Welcome!\n",
    "- Pop quiz: what is efficient\n",
    "- A taste of things to come\n",
    "- Zen of Python\n",
    "- Building with built-ins\n",
    "- Built-in practice: range()\n",
    "- Built-in practice: enumerate()\n",
    "- Built-in practice: map()\n",
    "- The power of NumPy arrays\n",
    "- Practice with NumPy arrays\n",
    "- Bringing it all together: Festivus!\n",
    "\n",
    "### 2 Timing and profiling code\n",
    "\n",
    "In this chapter, you will learn how to gather and compare runtimes between different coding approaches. You'll practice using the line_profiler and memory_profiler packages to profile your code base and spot bottlenecks. Then, you'll put your learnings to practice by replacing these bottlenecks with efficient Python code.\n",
    "\n",
    "- Examining runtime\n",
    "- Using %timeit: your turn!\n",
    "- Using %timeit: specifying number of runs and loops\n",
    "- Using %timeit: formal name or literal syntax\n",
    "- Using cell magic mode (%%timeit)\n",
    "- Code profiling for runtime\n",
    "- Pop quiz: steps for using %lprun\n",
    "- Using %lprun: spot bottlenecks\n",
    "- Using %lprun: fix the bottleneck\n",
    "- Code profiling for memory usage\n",
    "- Pop quiz: steps for using %mprun\n",
    "- Using %mprun: Hero BMI\n",
    "- Using %mprun: Hero BMI 2.0\n",
    "- Bringing it all together: Star Wars profiling\n",
    "\n",
    "### 3 Gaining efficiencies\n",
    "\n",
    "This chapter covers more complex efficiency tips and tricks. You'll learn a few useful built-in modules for writing efficient code and practice using set theory. You'll then learn about looping patterns in Python and how to make them more efficient.\n",
    "\n",
    "- Efficiently combining, counting, and iterating\n",
    "- Combining Pokémon names and types\n",
    "- Counting Pokémon from a sample\n",
    "- Combinations of Pokémon\n",
    "- Set theory\n",
    "- Comparing Pokédexes\n",
    "- Searching for Pokémon\n",
    "- Gathering unique Pokémon\n",
    "- Eliminating loops\n",
    "- Gathering Pokémon without a loop\n",
    "- Pokémon totals and averages without a loop\n",
    "- Writing better loops\n",
    "- One-time calculation loop\n",
    "- Holistic conversion loop\n",
    "- Bringing it all together: Pokémon z-scores\n",
    "\n",
    "### 4 Basic pandas optimizations\n",
    "\n",
    "This chapter offers a brief introduction on how to efficiently work with pandas DataFrames. You'll learn the various options you have for iterating over a DataFrame. Then, you'll learn how to efficiently apply functions to data stored in a DataFrame.\n",
    "\n",
    "- Intro to pandas DataFrame iteration\n",
    "- Iterating with .iterrows()\n",
    "- Run differentials with .iterrows()\n",
    "- Another iterator method: .itertuples()\n",
    "- Iterating with .itertuples()\n",
    "- Run differentials with .itertuples()\n",
    "- pandas alternative to looping\n",
    "- Analyzing baseball stats with .apply()\n",
    "- Settle a debate with .apply()\n",
    "- Optimal pandas iterating\n",
    "- Replacing .iloc with underlying arrays\n",
    "- Bringing it all together: Predict win percentage\n",
    "- Congratulations!"
   ]
  },
  {
   "cell_type": "code",
   "execution_count": null,
   "id": "current-passing",
   "metadata": {},
   "outputs": [],
   "source": []
  }
 ],
 "metadata": {
  "kernelspec": {
   "display_name": "Python 3",
   "language": "python",
   "name": "python3"
  },
  "language_info": {
   "codemirror_mode": {
    "name": "ipython",
    "version": 3
   },
   "file_extension": ".py",
   "mimetype": "text/x-python",
   "name": "python",
   "nbconvert_exporter": "python",
   "pygments_lexer": "ipython3",
   "version": "3.8.5"
  },
  "toc": {
   "base_numbering": 1,
   "nav_menu": {},
   "number_sections": false,
   "sideBar": true,
   "skip_h1_title": false,
   "title_cell": "Table of Contents",
   "title_sidebar": "Contents",
   "toc_cell": false,
   "toc_position": {},
   "toc_section_display": true,
   "toc_window_display": false
  },
  "varInspector": {
   "cols": {
    "lenName": 16,
    "lenType": 16,
    "lenVar": 40
   },
   "kernels_config": {
    "python": {
     "delete_cmd_postfix": "",
     "delete_cmd_prefix": "del ",
     "library": "var_list.py",
     "varRefreshCmd": "print(var_dic_list())"
    },
    "r": {
     "delete_cmd_postfix": ") ",
     "delete_cmd_prefix": "rm(",
     "library": "var_list.r",
     "varRefreshCmd": "cat(var_dic_list()) "
    }
   },
   "types_to_exclude": [
    "module",
    "function",
    "builtin_function_or_method",
    "instance",
    "_Feature"
   ],
   "window_display": false
  }
 },
 "nbformat": 4,
 "nbformat_minor": 5
}
