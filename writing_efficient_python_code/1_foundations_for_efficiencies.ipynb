{
 "cells": [
  {
   "cell_type": "markdown",
   "id": "sacred-diana",
   "metadata": {},
   "source": [
    "## Pop quiz: what is efficient\n",
    "\n",
    "In the context of this course, what is meant by _efficient Python code_?"
   ]
  },
  {
   "cell_type": "markdown",
   "id": "motivated-punishment",
   "metadata": {},
   "source": [
    "Code that executes quickly for the task at hand, minimizes the memory footprint and follows Python's coding style principles."
   ]
  },
  {
   "cell_type": "markdown",
   "id": "cosmetic-disclosure",
   "metadata": {},
   "source": [
    "## A taste of things to come\n",
    "\n",
    "In this exercise, you'll explore both the _Non-Pythonic_ and _Pythonic_ ways of looping over a list.\n",
    "\n",
    "```\n",
    "names = ['Jerry', 'Kramer', 'Elaine', 'George', 'Newman']\n",
    "```\n",
    "\n",
    "Suppose you wanted to collect the names in the above list that have six letters or more. In other programming languages, the typical approach is to create an index variable (`i`), use `i` to iterate over the list, and use an `if` statement to collect the names with six letters or more:\n",
    "\n",
    "```\n",
    "i = 0\n",
    "new_list= []\n",
    "while i < len(names):\n",
    "    if len(names[i]) >= 6:\n",
    "        new_list.append(names[i])\n",
    "    i += 1\n",
    "```\n",
    "\n",
    "Let's explore some more _Pythonic_ ways of doing this.\n",
    "\n",
    "Instructions\n",
    "\n",
    "1. Print the list, `new_list`, that was created using a _Non-Pythonic_ approach.\n",
    "2. A more _Pythonic_ approach would loop over the contents of `names`, rather than using an index variable. Print `better_list`.\n",
    "3. The best _Pythonic_ way of doing this is by using list comprehension. Print `best_list`."
   ]
  },
  {
   "cell_type": "code",
   "execution_count": 2,
   "id": "funded-settle",
   "metadata": {},
   "outputs": [],
   "source": [
    "names = ['Jerry', 'Kramer', 'Elaine', 'George', 'Newman']"
   ]
  },
  {
   "cell_type": "code",
   "execution_count": 3,
   "id": "graduate-mozambique",
   "metadata": {},
   "outputs": [
    {
     "name": "stdout",
     "output_type": "stream",
     "text": [
      "['Kramer', 'Elaine', 'George', 'Newman']\n"
     ]
    }
   ],
   "source": [
    "# Print the list created using the Non-Pythonic approach\n",
    "i = 0\n",
    "new_list = []\n",
    "while i < len(names):\n",
    "    if len(names[i]) >= 6:\n",
    "        new_list.append(names[i])\n",
    "    i += 1\n",
    "print(new_list)"
   ]
  },
  {
   "cell_type": "code",
   "execution_count": 4,
   "id": "saved-india",
   "metadata": {},
   "outputs": [
    {
     "name": "stdout",
     "output_type": "stream",
     "text": [
      "['Kramer', 'Elaine', 'George', 'Newman']\n"
     ]
    }
   ],
   "source": [
    "# Print the list created by looping over the contents of names\n",
    "better_list = []\n",
    "for name in names:\n",
    "    if len(name) >= 6:\n",
    "        better_list.append(name)\n",
    "print(better_list)"
   ]
  },
  {
   "cell_type": "code",
   "execution_count": 5,
   "id": "acute-revision",
   "metadata": {},
   "outputs": [
    {
     "name": "stdout",
     "output_type": "stream",
     "text": [
      "['Kramer', 'Elaine', 'George', 'Newman']\n"
     ]
    }
   ],
   "source": [
    "# Print the list created by using list comprehension\n",
    "best_list = [name for name in names if len(name) >= 6]\n",
    "print(best_list)"
   ]
  },
  {
   "cell_type": "markdown",
   "id": "educational-conditioning",
   "metadata": {},
   "source": [
    "## Zen of Python\n",
    "\n",
    "In the video, we covered the _Zen of Python_ written by Tim Peters, which lists 19 idioms that serve as guiding principles for any Pythonista. Python has hundreds of _Python Enhancement Proposals_, commonly referred to as _PEPs_. The _Zen of Python_ is one of these _PEPs_ and is documented as [PEP20](https://www.python.org/dev/peps/pep-0020/).\n",
    "\n",
    "One little Easter Egg in Python is the ability to print the _Zen of Python_ using the command `import this`. Let's take a look at one of the idioms listed in these guiding principles.\n",
    "\n",
    "Type and run the command `import this` and answer the following question:\n",
    "\n",
    "What is the 7th idiom of the _Zen of Python_?"
   ]
  },
  {
   "cell_type": "code",
   "execution_count": 6,
   "id": "nuclear-marine",
   "metadata": {},
   "outputs": [
    {
     "name": "stdout",
     "output_type": "stream",
     "text": [
      "The Zen of Python, by Tim Peters\n",
      "\n",
      "Beautiful is better than ugly.\n",
      "Explicit is better than implicit.\n",
      "Simple is better than complex.\n",
      "Complex is better than complicated.\n",
      "Flat is better than nested.\n",
      "Sparse is better than dense.\n",
      "Readability counts.\n",
      "Special cases aren't special enough to break the rules.\n",
      "Although practicality beats purity.\n",
      "Errors should never pass silently.\n",
      "Unless explicitly silenced.\n",
      "In the face of ambiguity, refuse the temptation to guess.\n",
      "There should be one-- and preferably only one --obvious way to do it.\n",
      "Although that way may not be obvious at first unless you're Dutch.\n",
      "Now is better than never.\n",
      "Although never is often better than *right* now.\n",
      "If the implementation is hard to explain, it's a bad idea.\n",
      "If the implementation is easy to explain, it may be a good idea.\n",
      "Namespaces are one honking great idea -- let's do more of those!\n"
     ]
    }
   ],
   "source": [
    "import this"
   ]
  },
  {
   "cell_type": "markdown",
   "id": "exclusive-shepherd",
   "metadata": {},
   "source": [
    "## Built-in practice: range()\n",
    "\n",
    "In this exercise, you will practice using Python's built-in function `range()`. Remember that you can use `range()` in a few different ways:\n",
    "\n",
    "1) Create a sequence of numbers from 0 to a stop value (which is _exclusive_). This is useful when you want to create a simple sequence of numbers starting at zero:\n",
    "\n",
    "```\n",
    "range(stop)\n",
    "\n",
    "# Example\n",
    "list(range(11))\n",
    "\n",
    "[0, 1, 2, 3, 4, 5, 6, 7, 8, 9, 10]\n",
    "```\n",
    "\n",
    "2) Create a sequence of numbers from a start value to a stop value (which is _exclusive_) with a step size. This is useful when you want to create a sequence of numbers that increments by some value other than one. For example, a list of even numbers:\n",
    "\n",
    "```\n",
    "range(start, stop, step)\n",
    "\n",
    "# Example\n",
    "list(range(2,11,2))\n",
    "\n",
    "[2, 4, 6, 8, 10]\n",
    "```\n",
    "\n",
    "Instructions\n",
    "\n",
    "1. Create a _range object_ that starts at zero and ends at five. Only use a `stop` argument.\n",
    "2. Convert the `nums` variable into a list called `nums_list`.\n",
    "3. Create a new list called `nums_list2` that starts at **one**, ends at **eleven**, and increments by **two** by unpacking a _range object_ using the star character (`*`)."
   ]
  },
  {
   "cell_type": "code",
   "execution_count": 19,
   "id": "presidential-gallery",
   "metadata": {},
   "outputs": [
    {
     "data": {
      "text/plain": [
       "range"
      ]
     },
     "metadata": {},
     "output_type": "display_data"
    },
    {
     "data": {
      "text/plain": [
       "[0, 1, 2, 3, 4, 5]"
      ]
     },
     "metadata": {},
     "output_type": "display_data"
    },
    {
     "data": {
      "text/plain": [
       "[1, 3, 5, 7, 9, 11]"
      ]
     },
     "metadata": {},
     "output_type": "display_data"
    }
   ],
   "source": [
    "# Create a range object that goes from 0 to 5\n",
    "nums = range(6)\n",
    "display(type(nums))\n",
    "\n",
    "# Convert nums to a list\n",
    "nums_list = list(nums)\n",
    "display(nums_list)\n",
    "\n",
    "# Create a new list of odd numbers from 1 to 11 by unpacking a range object\n",
    "nums_list2 = [*range(1, 12, 2)]\n",
    "display(nums_list2)"
   ]
  },
  {
   "cell_type": "markdown",
   "id": "cardiac-entry",
   "metadata": {},
   "source": [
    "## Built-in practice: enumerate()\n",
    "\n",
    "In this exercise, you'll practice using Python's built-in function `enumerate()`. This function is useful for obtaining an indexed list. For example, suppose you had a list of people that arrived at a party you are hosting. The list is ordered by arrival (Jerry was the first to arrive, followed by Kramer, etc.):\n",
    "\n",
    "```\n",
    "names = ['Jerry', 'Kramer', 'Elaine', 'George', 'Newman']\n",
    "```\n",
    "\n",
    "If you wanted to attach an index representing a person's arrival order, you `could` use the following for loop:\n",
    "\n",
    "```\n",
    "indexed_names = []\n",
    "for i in range(len(names)):\n",
    "    index_name = (i, names[i])\n",
    "    indexed_names.append(index_name)\n",
    "\n",
    "[(0,'Jerry'),(1,'Kramer'),(2,'Elaine'),(3,'George'),(4,'Newman')]\n",
    "```\n",
    "\n",
    "But, that's not the most efficient solution. Let's explore how to use `enumerate()` to make this more efficient.\n",
    "\n",
    "Instructions\n",
    "\n",
    "1. Instead of using `for i in range(len(names))`, update the for loop to use `i` as the index variable and `name` as the iterator variable and use `enumerate()`.\n",
    "2. Rewrite the previous for loop using `enumerate()` and list comprehension to create a new list, `indexed_names_comp`.\n",
    "3. Create another list (`indexed_names_unpack`) by using the star character (`*`) to unpack the enumerate object created from using `enumerate()` on `names`. This time, **start the index for** `enumerate()` **at one instead of zero**."
   ]
  },
  {
   "cell_type": "code",
   "execution_count": 23,
   "id": "apparent-indiana",
   "metadata": {},
   "outputs": [
    {
     "name": "stdout",
     "output_type": "stream",
     "text": [
      "[(0, 'Jerry'), (1, 'Kramer'), (2, 'Elaine'), (3, 'George'), (4, 'Newman')]\n",
      "[(0, 'Jerry'), (1, 'Kramer'), (2, 'Elaine'), (3, 'George'), (4, 'Newman')]\n",
      "[(0, 'Jerry'), (1, 'Kramer'), (2, 'Elaine'), (3, 'George'), (4, 'Newman')]\n"
     ]
    }
   ],
   "source": [
    "# Rewrite the for loop to use enumerate\n",
    "indexed_names = []\n",
    "for i, name in enumerate(names):\n",
    "    index_name = (i, name)\n",
    "    indexed_names.append(index_name) \n",
    "print(indexed_names)\n",
    "\n",
    "# Rewrite the above for loop using list comprehension\n",
    "indexed_names_comp = [(i, name) for i, name in enumerate(names)]\n",
    "print(indexed_names_comp)\n",
    "\n",
    "# Unpack an enumerate object with a starting index of one\n",
    "indexed_names_unpack = [*enumerate(names, 0)]\n",
    "print(indexed_names_unpack)"
   ]
  },
  {
   "cell_type": "markdown",
   "id": "identified-february",
   "metadata": {},
   "source": [
    "## Built-in practice: map()\n",
    "\n",
    "In this exercise, you'll practice using Python's built-in `map()` function to apply a function to every element of an object. Let's look at a list of party guests:\n",
    "\n",
    "```\n",
    "names = ['Jerry', 'Kramer', 'Elaine', 'George', 'Newman']\n",
    "```\n",
    "\n",
    "Suppose you wanted to create a new list (called `names_uppercase`) that converted all the letters in each name to uppercase. you could accomplish this with the below for loop:\n",
    "\n",
    "```\n",
    "names_uppercase = []\n",
    "\n",
    "for name in names:\n",
    "  names_uppercase.append(name.upper())\n",
    "\n",
    "['JERRY', 'KRAMER', 'ELAINE', 'GEORGE', 'NEWMAN']\n",
    "```\n",
    "\n",
    "Let's explore using the `map()` function to do this more efficiently in one line of code.\n",
    "\n",
    "Instructions\n",
    "\n",
    "1. Use `map()` and the method `str.upper()` to convert each name in the list `names` to uppercase. Save this to the variable `names_map`.\n",
    "2. Print the data type of `names_map`.\n",
    "3. Unpack the contents of `names_map` into a list called `names_uppercase` using the star character (`*`).\n",
    "4. Print `names_uppercase` and observe its contents."
   ]
  },
  {
   "cell_type": "code",
   "execution_count": 27,
   "id": "distinguished-robinson",
   "metadata": {},
   "outputs": [
    {
     "name": "stdout",
     "output_type": "stream",
     "text": [
      "<class 'map'>\n",
      "['JERRY', 'KRAMER', 'ELAINE', 'GEORGE', 'NEWMAN']\n"
     ]
    }
   ],
   "source": [
    "# Use map to apply str.upper to each element in names\n",
    "names_map  = map(str.upper, names)\n",
    "\n",
    "# Print the type of the names_map\n",
    "print(type(names_map))\n",
    "\n",
    "# Unpack names_map into a list\n",
    "names_uppercase = [*names_map]\n",
    "\n",
    "# Print the list created above\n",
    "print(names_uppercase)"
   ]
  },
  {
   "cell_type": "markdown",
   "id": "round-ready",
   "metadata": {},
   "source": [
    "## Practice with NumPy arrays\n",
    "\n",
    "Let's practice slicing `numpy` arrays and using NumPy's broadcasting concept. Remember, broadcasting refers to a `numpy` array's ability to vectorize operations, so they are performed on all elements of an object at once.\n",
    "\n",
    "A two-dimensional `numpy` array has been loaded into your session (called `nums`) and printed into the console for your convenience. `numpy` has been imported into your session as `np`.\n",
    "\n",
    "Instructions\n",
    "\n",
    "1. Print the second row of `nums`.\n",
    "2. Print the items of `nums` that are greater than six.\n",
    "3. Create `nums_dbl` that doubles each number in `nums`.\n",
    "4. Replace the third column in `nums` with a new column that adds `1` to each item in the original column.\n",
    "5. When compared to a list object, what are two advantages of using a `numpy` array?"
   ]
  },
  {
   "cell_type": "code",
   "execution_count": 31,
   "id": "willing-stopping",
   "metadata": {},
   "outputs": [],
   "source": [
    "# Import numpy\n",
    "import numpy as np\n",
    "\n",
    "nums = np.array([[ 1,  2,  3,  4,  5],\n",
    "                 [ 6,  7,  8,  9, 10]])"
   ]
  },
  {
   "cell_type": "code",
   "execution_count": 32,
   "id": "thirty-execution",
   "metadata": {},
   "outputs": [
    {
     "data": {
      "text/plain": [
       "array([ 6,  7,  8,  9, 10])"
      ]
     },
     "metadata": {},
     "output_type": "display_data"
    },
    {
     "data": {
      "text/plain": [
       "array([ 7,  8,  9, 10])"
      ]
     },
     "metadata": {},
     "output_type": "display_data"
    },
    {
     "data": {
      "text/plain": [
       "array([[ 2,  4,  6,  8, 10],\n",
       "       [12, 14, 16, 18, 20]])"
      ]
     },
     "metadata": {},
     "output_type": "display_data"
    },
    {
     "data": {
      "text/plain": [
       "array([[ 1,  2,  4,  4,  5],\n",
       "       [ 6,  7,  9,  9, 10]])"
      ]
     },
     "metadata": {},
     "output_type": "display_data"
    }
   ],
   "source": [
    "# Print second row of nums\n",
    "display(nums[1,:])\n",
    "\n",
    "# Print all elements of nums that are greater than six\n",
    "display(nums[nums > 6])\n",
    "\n",
    "# Double every element of nums\n",
    "nums_dbl = nums * 2\n",
    "display(nums_dbl)\n",
    "\n",
    "# Replace the third column of nums\n",
    "nums[:,2] = nums[:,2] + 1\n",
    "display(nums)"
   ]
  },
  {
   "cell_type": "markdown",
   "id": "incorporate-korea",
   "metadata": {},
   "source": [
    "## Bringing it all together: Festivus!\n",
    "\n",
    "In this exercise, you will be throwing a party—a Festivus if you will!\n",
    "\n",
    "You have a list of guests (the `names` list). Each guest, for whatever reason, has decided to show up to the party in 10-minute increments. For example, Jerry shows up to Festivus 10 minutes into the party's start time, Kramer shows up 20 minutes into the party, and so on and so forth.\n",
    "\n",
    "We want to write a few simple lines of code, using the built-ins we have covered, to welcome each of your guests and let them know how many minutes late they are to your party. Note that `numpy` has been imported into your session as `np` and the `names` list has been loaded as well.\n",
    "\n",
    "Let's welcome your guests!\n",
    "\n",
    "Instructions\n",
    "\n",
    "1. Use `range()` to create a list of arrival times (10 through 50 incremented by 10). Create the list `arrival_times` by unpacking the _range object_.\n",
    "2. You realize your clock is three minutes fast. Convert the `arrival_times` list into a `numpy` array (called `arrival_times_np`) and use NumPy broadcasting to subtract three minutes from each arrival time.\n",
    "3. Use list comprehension with `enumerate()` to pair each guest in the `names` list to their updated arrival time in the `new_times` array. You'll need to use the index variable created from using `enumerate()` on `new_times` to index the `names` list.\n",
    "4. A function named `welcome_guest()` has been pre-loaded into your session. Use `map()` to apply this function to each element of the `guest_arrivals` list and save it as the variable `welcome_map`."
   ]
  },
  {
   "cell_type": "code",
   "execution_count": 49,
   "id": "charming-shuttle",
   "metadata": {},
   "outputs": [
    {
     "data": {
      "text/plain": [
       "[10, 20, 30, 40, 50]"
      ]
     },
     "metadata": {},
     "output_type": "display_data"
    },
    {
     "data": {
      "text/plain": [
       "array([ 7, 17, 27, 37, 47])"
      ]
     },
     "metadata": {},
     "output_type": "display_data"
    },
    {
     "data": {
      "text/plain": [
       "[('Jerry', 7), ('Kramer', 17), ('Elaine', 27), ('George', 37), ('Newman', 47)]"
      ]
     },
     "metadata": {},
     "output_type": "display_data"
    },
    {
     "name": "stdout",
     "output_type": "stream",
     "text": [
      "Welcome to Festivus Jerry... You're 7 min late.\n",
      "Welcome to Festivus Kramer... You're 17 min late.\n",
      "Welcome to Festivus Elaine... You're 27 min late.\n",
      "Welcome to Festivus George... You're 37 min late.\n",
      "Welcome to Festivus Newman... You're 47 min late.\n"
     ]
    }
   ],
   "source": [
    "# Create a list of arrival times\n",
    "arrival_times = [*range(10, 60, 10)]\n",
    "display(arrival_times)\n",
    "\n",
    "# Convert arrival_times to an array and update the times\n",
    "arrival_times_np = np.array(arrival_times)\n",
    "new_times = arrival_times_np - 3\n",
    "display(new_times)\n",
    "\n",
    "# Use list comprehension and enumerate to pair guests to new times\n",
    "guest_arrivals = [(names[i], time) for i, time in enumerate(new_times)]\n",
    "display(guest_arrivals)\n",
    "\n",
    "# Map the welcome_guest function to each (guest,time) pair\n",
    "def welcome_guest(guest_and_time):\n",
    "    guest = guest_and_time[0]\n",
    "    arrival_time = guest_and_time[1]\n",
    "    welcome_string = \"Welcome to Festivus {}... You're {} min late.\".format(guest,arrival_time)\n",
    "    return welcome_string\n",
    "\n",
    "welcome_map = map(welcome_guest, guest_arrivals)\n",
    "guest_welcomes = [*welcome_map]\n",
    "print(*guest_welcomes, sep='\\n')"
   ]
  }
 ],
 "metadata": {
  "kernelspec": {
   "display_name": "Python 3",
   "language": "python",
   "name": "python3"
  },
  "language_info": {
   "codemirror_mode": {
    "name": "ipython",
    "version": 3
   },
   "file_extension": ".py",
   "mimetype": "text/x-python",
   "name": "python",
   "nbconvert_exporter": "python",
   "pygments_lexer": "ipython3",
   "version": "3.8.5"
  },
  "toc": {
   "base_numbering": 1,
   "nav_menu": {},
   "number_sections": true,
   "sideBar": true,
   "skip_h1_title": false,
   "title_cell": "Table of Contents",
   "title_sidebar": "Contents",
   "toc_cell": false,
   "toc_position": {},
   "toc_section_display": true,
   "toc_window_display": false
  },
  "varInspector": {
   "cols": {
    "lenName": 16,
    "lenType": 16,
    "lenVar": 40
   },
   "kernels_config": {
    "python": {
     "delete_cmd_postfix": "",
     "delete_cmd_prefix": "del ",
     "library": "var_list.py",
     "varRefreshCmd": "print(var_dic_list())"
    },
    "r": {
     "delete_cmd_postfix": ") ",
     "delete_cmd_prefix": "rm(",
     "library": "var_list.r",
     "varRefreshCmd": "cat(var_dic_list()) "
    }
   },
   "types_to_exclude": [
    "module",
    "function",
    "builtin_function_or_method",
    "instance",
    "_Feature"
   ],
   "window_display": false
  }
 },
 "nbformat": 4,
 "nbformat_minor": 5
}
