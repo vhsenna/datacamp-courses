{
 "cells": [
  {
   "cell_type": "markdown",
   "id": "executive-workplace",
   "metadata": {},
   "source": [
    "# Joining Data with pandas\n",
    "\n",
    "- 4 hours\n",
    "- 15 Videos\n",
    "- 52 Exercises\n",
    "\n",
    "## Course Description\n",
    "\n",
    "Being able to combine and work with multiple datasets is an essential skill for any aspiring Data Scientist. Pandas is a crucial cornerstone of the Python data science ecosystem, with Stack Overflow recording 5 million views for pandas questions. Learn to handle multiple DataFrames by combining, organizing, joining, and reshaping them using pandas. You'll work with datasets from the World Bank and the City Of Chicago. You will finish the course with a solid skillset for data-joining in pandas.\n",
    "\n",
    "### 1 Data Merging Basics\n",
    "\n",
    "Learn how you can merge disparate data using inner joins. By combining information from multiple sources you’ll uncover compelling insights that may have previously been hidden. You’ll also learn how the relationship between those sources, such as one-to-one or one-to-many, can affect your result.\n",
    "\n",
    "- Inner join\n",
    "- What column to merge on?\n",
    "- Your first inner join\n",
    "- Inner joins and number of rows returned\n",
    "- One-to-many relationships\n",
    "- One-to-many classification\n",
    "- One-to-many merge\n",
    "- Merging multiple DataFrames\n",
    "- Total riders in a month\n",
    "- Three table merge\n",
    "- One-to-many merge with multiple tables\n",
    "\n",
    "## 2 Merging Tables With Different Join Types\n",
    "\n",
    "Take your knowledge of joins to the next level. In this chapter, you’ll work with TMDb movie data as you learn about left, right, and outer joins. You’ll also discover how to merge a table to itself and merge on a DataFrame index.\n",
    "\n",
    "- Left join\n",
    "- Counting missing rows with left join\n",
    "- Enriching a dataset\n",
    "- How many rows with a left join?\n",
    "- Other joins\n",
    "- Right join to find unique movies\n",
    "- Popular genres with right join\n",
    "- Using outer join to select actors\n",
    "- Merging a table to itself\n",
    "- Self join\n",
    "- How does pandas handle self joins?\n",
    "- Merging on indexes\n",
    "- Index merge for movie ratings\n",
    "- Do sequels earn more?\n",
    "\n",
    "### 3 Advanced Merging and Concatenating\n",
    "\n",
    "In this chapter, you’ll leverage powerful filtering techniques, including semi-joins and anti-joins. You’ll also learn how to glue DataFrames by vertically combining and using the pandas.concat function to create new datasets. Finally, because data is rarely clean, you’ll also learn how to validate your newly combined data structures.\n",
    "\n",
    "- Filtering joins\n",
    "- Steps of a semi-join\n",
    "- Performing an anti-join\n",
    "- Performing a semi-join\n",
    "- Concatenate DataFrames together vertically\n",
    "- Concatenation basics\n",
    "- Concatenating with keys\n",
    "- Using the append method\n",
    "- Verifying integrity\n",
    "- Validating a merge\n",
    "- Concatenate and merge to find common songs\n",
    "\n",
    "### 4 Merging Ordered and Time-Series Data\n",
    "\n",
    "In this final chapter, you’ll step up a gear and learn to apply pandas' specialized methods for merging time-series and ordered data together with real-world financial and economic data from the city of Chicago. You’ll also learn how to query resulting tables using a SQL-style format, and unpivot data using the melt method.\n",
    "\n",
    "- Using merge_ordered()\n",
    "- Correlation between GDP and S&P500\n",
    "- Phillips curve using merge_ordered()\n",
    "- merge_ordered() caution, multiple columns\n",
    "- Using merge_asof()\n",
    "- Using merge_asof() to study stocks\n",
    "- Using merge_asof() to create dataset\n",
    "- merge_asof() and merge_ordered() differences\n",
    "- Selecting data with .query()\n",
    "- Explore financials with .query()\n",
    "- Subsetting rows with .query()\n",
    "- Reshaping data with .melt()\n",
    "- Select the right .melt() arguments\n",
    "- Using .melt() to reshape government data\n",
    "- Using .melt() for stocks vs bond performance\n",
    "- Course wrap-up"
   ]
  }
 ],
 "metadata": {
  "kernelspec": {
   "display_name": "Python 3",
   "language": "python",
   "name": "python3"
  },
  "language_info": {
   "codemirror_mode": {
    "name": "ipython",
    "version": 3
   },
   "file_extension": ".py",
   "mimetype": "text/x-python",
   "name": "python",
   "nbconvert_exporter": "python",
   "pygments_lexer": "ipython3",
   "version": "3.8.5"
  },
  "toc": {
   "base_numbering": 1,
   "nav_menu": {},
   "number_sections": false,
   "sideBar": true,
   "skip_h1_title": false,
   "title_cell": "Table of Contents",
   "title_sidebar": "Contents",
   "toc_cell": false,
   "toc_position": {},
   "toc_section_display": true,
   "toc_window_display": false
  },
  "varInspector": {
   "cols": {
    "lenName": 16,
    "lenType": 16,
    "lenVar": 40
   },
   "kernels_config": {
    "python": {
     "delete_cmd_postfix": "",
     "delete_cmd_prefix": "del ",
     "library": "var_list.py",
     "varRefreshCmd": "print(var_dic_list())"
    },
    "r": {
     "delete_cmd_postfix": ") ",
     "delete_cmd_prefix": "rm(",
     "library": "var_list.r",
     "varRefreshCmd": "cat(var_dic_list()) "
    }
   },
   "types_to_exclude": [
    "module",
    "function",
    "builtin_function_or_method",
    "instance",
    "_Feature"
   ],
   "window_display": false
  }
 },
 "nbformat": 4,
 "nbformat_minor": 5
}
