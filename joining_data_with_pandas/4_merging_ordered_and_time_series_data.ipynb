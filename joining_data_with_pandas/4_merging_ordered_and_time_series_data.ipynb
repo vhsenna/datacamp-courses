{
 "metadata": {
  "language_info": {
   "codemirror_mode": {
    "name": "ipython",
    "version": 3
   },
   "file_extension": ".py",
   "mimetype": "text/x-python",
   "name": "python",
   "nbconvert_exporter": "python",
   "pygments_lexer": "ipython3",
   "version": "3.9.2-final"
  },
  "orig_nbformat": 2,
  "kernelspec": {
   "name": "python3",
   "display_name": "Python 3",
   "language": "python"
  }
 },
 "nbformat": 4,
 "nbformat_minor": 2,
 "cells": [
  {
   "cell_type": "code",
   "execution_count": 19,
   "metadata": {},
   "outputs": [],
   "source": [
    "import pandas as pd\n",
    "import matplotlib.pyplot as plt"
   ]
  },
  {
   "source": [
    "## Correlation between GDP and S&P500\n",
    "In this exercise, you want to analyze stock returns from the S&P 500. You believe there may be a relationship between the returns of the S&P 500 and the GDP of the US. Merge the different datasets together to compute the correlation.\n",
    "\n",
    "Two tables have been provided for you, named `sp500`, and `gdp`.\n",
    "\n",
    "Instructions\n",
    "\n",
    "- Use `merge_ordered()` to merge `gdp` and `sp500` using a left join on `year` and `date`. Save the results as `gdp_sp500`.\n",
    "- Print `gdp_sp500` and look at the returns for the year 2018.\n",
    "- Use `merge_ordered()`, again similar to before, to merge `gdp` and `sp500` use the function's ability to interpolate missing data to forward fill the missing value for returns, assigning this table to the variable `gdp_sp500`.\n",
    "- Subset the `gdp_sp500` table, select the `gdp` and `returns` columns, and save as `gdp_returns`.\n",
    "- Print the correlation matrix of the `gdp_returns` table."
   ],
   "cell_type": "markdown",
   "metadata": {}
  },
  {
   "cell_type": "code",
   "execution_count": 6,
   "metadata": {},
   "outputs": [],
   "source": [
    "# Import the DataFrames\n",
    "sp500 = pd.read_csv('SP500.csv')\n",
    "gdp = pd.read_csv('gdp.csv')"
   ]
  },
  {
   "cell_type": "code",
   "execution_count": 7,
   "metadata": {},
   "outputs": [
    {
     "output_type": "execute_result",
     "data": {
      "text/plain": [
       "   Unnamed: 0 country code  year           gdp    date  returns\n",
       "0           3          USA  2010  1.499210e+13  2010.0    12.78\n",
       "1           7          USA  2011  1.554260e+13  2011.0     0.00\n",
       "2          11          USA  2012  1.619700e+13  2012.0    13.41\n",
       "3          15          USA  2012  1.619700e+13  2012.0    13.41\n",
       "4          19          USA  2013  1.678480e+13  2013.0    29.60\n",
       "5          23          USA  2014  1.752170e+13  2014.0    11.39\n",
       "6          27          USA  2015  1.821930e+13  2015.0    -0.73\n",
       "7          31          USA  2016  1.870720e+13  2016.0     9.54\n",
       "8          35          USA  2017  1.948540e+13  2017.0    19.42\n",
       "9          39          USA  2018  2.049410e+13     NaN      NaN"
      ],
      "text/html": "<div>\n<style scoped>\n    .dataframe tbody tr th:only-of-type {\n        vertical-align: middle;\n    }\n\n    .dataframe tbody tr th {\n        vertical-align: top;\n    }\n\n    .dataframe thead th {\n        text-align: right;\n    }\n</style>\n<table border=\"1\" class=\"dataframe\">\n  <thead>\n    <tr style=\"text-align: right;\">\n      <th></th>\n      <th>Unnamed: 0</th>\n      <th>country code</th>\n      <th>year</th>\n      <th>gdp</th>\n      <th>date</th>\n      <th>returns</th>\n    </tr>\n  </thead>\n  <tbody>\n    <tr>\n      <th>0</th>\n      <td>3</td>\n      <td>USA</td>\n      <td>2010</td>\n      <td>1.499210e+13</td>\n      <td>2010.0</td>\n      <td>12.78</td>\n    </tr>\n    <tr>\n      <th>1</th>\n      <td>7</td>\n      <td>USA</td>\n      <td>2011</td>\n      <td>1.554260e+13</td>\n      <td>2011.0</td>\n      <td>0.00</td>\n    </tr>\n    <tr>\n      <th>2</th>\n      <td>11</td>\n      <td>USA</td>\n      <td>2012</td>\n      <td>1.619700e+13</td>\n      <td>2012.0</td>\n      <td>13.41</td>\n    </tr>\n    <tr>\n      <th>3</th>\n      <td>15</td>\n      <td>USA</td>\n      <td>2012</td>\n      <td>1.619700e+13</td>\n      <td>2012.0</td>\n      <td>13.41</td>\n    </tr>\n    <tr>\n      <th>4</th>\n      <td>19</td>\n      <td>USA</td>\n      <td>2013</td>\n      <td>1.678480e+13</td>\n      <td>2013.0</td>\n      <td>29.60</td>\n    </tr>\n    <tr>\n      <th>5</th>\n      <td>23</td>\n      <td>USA</td>\n      <td>2014</td>\n      <td>1.752170e+13</td>\n      <td>2014.0</td>\n      <td>11.39</td>\n    </tr>\n    <tr>\n      <th>6</th>\n      <td>27</td>\n      <td>USA</td>\n      <td>2015</td>\n      <td>1.821930e+13</td>\n      <td>2015.0</td>\n      <td>-0.73</td>\n    </tr>\n    <tr>\n      <th>7</th>\n      <td>31</td>\n      <td>USA</td>\n      <td>2016</td>\n      <td>1.870720e+13</td>\n      <td>2016.0</td>\n      <td>9.54</td>\n    </tr>\n    <tr>\n      <th>8</th>\n      <td>35</td>\n      <td>USA</td>\n      <td>2017</td>\n      <td>1.948540e+13</td>\n      <td>2017.0</td>\n      <td>19.42</td>\n    </tr>\n    <tr>\n      <th>9</th>\n      <td>39</td>\n      <td>USA</td>\n      <td>2018</td>\n      <td>2.049410e+13</td>\n      <td>NaN</td>\n      <td>NaN</td>\n    </tr>\n  </tbody>\n</table>\n</div>"
     },
     "metadata": {},
     "execution_count": 7
    }
   ],
   "source": [
    "# Use merge_ordered() to merge gdp and sp500 on year and date\n",
    "gdp_sp500 = pd.merge_ordered(gdp, sp500, left_on='year', right_on='date', \n",
    "                             how='left')\n",
    "\n",
    "# Print gdp_sp500\n",
    "gdp_sp500"
   ]
  },
  {
   "cell_type": "code",
   "execution_count": 8,
   "metadata": {},
   "outputs": [
    {
     "output_type": "execute_result",
     "data": {
      "text/plain": [
       "   Unnamed: 0 country code  year           gdp  date  returns\n",
       "0           3          USA  2010  1.499210e+13  2010    12.78\n",
       "1           7          USA  2011  1.554260e+13  2011     0.00\n",
       "2          11          USA  2012  1.619700e+13  2012    13.41\n",
       "3          15          USA  2012  1.619700e+13  2012    13.41\n",
       "4          19          USA  2013  1.678480e+13  2013    29.60\n",
       "5          23          USA  2014  1.752170e+13  2014    11.39\n",
       "6          27          USA  2015  1.821930e+13  2015    -0.73\n",
       "7          31          USA  2016  1.870720e+13  2016     9.54\n",
       "8          35          USA  2017  1.948540e+13  2017    19.42\n",
       "9          39          USA  2018  2.049410e+13  2017    19.42"
      ],
      "text/html": "<div>\n<style scoped>\n    .dataframe tbody tr th:only-of-type {\n        vertical-align: middle;\n    }\n\n    .dataframe tbody tr th {\n        vertical-align: top;\n    }\n\n    .dataframe thead th {\n        text-align: right;\n    }\n</style>\n<table border=\"1\" class=\"dataframe\">\n  <thead>\n    <tr style=\"text-align: right;\">\n      <th></th>\n      <th>Unnamed: 0</th>\n      <th>country code</th>\n      <th>year</th>\n      <th>gdp</th>\n      <th>date</th>\n      <th>returns</th>\n    </tr>\n  </thead>\n  <tbody>\n    <tr>\n      <th>0</th>\n      <td>3</td>\n      <td>USA</td>\n      <td>2010</td>\n      <td>1.499210e+13</td>\n      <td>2010</td>\n      <td>12.78</td>\n    </tr>\n    <tr>\n      <th>1</th>\n      <td>7</td>\n      <td>USA</td>\n      <td>2011</td>\n      <td>1.554260e+13</td>\n      <td>2011</td>\n      <td>0.00</td>\n    </tr>\n    <tr>\n      <th>2</th>\n      <td>11</td>\n      <td>USA</td>\n      <td>2012</td>\n      <td>1.619700e+13</td>\n      <td>2012</td>\n      <td>13.41</td>\n    </tr>\n    <tr>\n      <th>3</th>\n      <td>15</td>\n      <td>USA</td>\n      <td>2012</td>\n      <td>1.619700e+13</td>\n      <td>2012</td>\n      <td>13.41</td>\n    </tr>\n    <tr>\n      <th>4</th>\n      <td>19</td>\n      <td>USA</td>\n      <td>2013</td>\n      <td>1.678480e+13</td>\n      <td>2013</td>\n      <td>29.60</td>\n    </tr>\n    <tr>\n      <th>5</th>\n      <td>23</td>\n      <td>USA</td>\n      <td>2014</td>\n      <td>1.752170e+13</td>\n      <td>2014</td>\n      <td>11.39</td>\n    </tr>\n    <tr>\n      <th>6</th>\n      <td>27</td>\n      <td>USA</td>\n      <td>2015</td>\n      <td>1.821930e+13</td>\n      <td>2015</td>\n      <td>-0.73</td>\n    </tr>\n    <tr>\n      <th>7</th>\n      <td>31</td>\n      <td>USA</td>\n      <td>2016</td>\n      <td>1.870720e+13</td>\n      <td>2016</td>\n      <td>9.54</td>\n    </tr>\n    <tr>\n      <th>8</th>\n      <td>35</td>\n      <td>USA</td>\n      <td>2017</td>\n      <td>1.948540e+13</td>\n      <td>2017</td>\n      <td>19.42</td>\n    </tr>\n    <tr>\n      <th>9</th>\n      <td>39</td>\n      <td>USA</td>\n      <td>2018</td>\n      <td>2.049410e+13</td>\n      <td>2017</td>\n      <td>19.42</td>\n    </tr>\n  </tbody>\n</table>\n</div>"
     },
     "metadata": {},
     "execution_count": 8
    }
   ],
   "source": [
    "# Use merge_ordered() to merge gdp and sp500, interpolate missing value\n",
    "gdp_sp500 = pd.merge_ordered(gdp, sp500, left_on='year', right_on='date', \n",
    "                             how='left',  fill_method='ffill')\n",
    "\n",
    "# Print gdp_sp500\n",
    "gdp_sp500"
   ]
  },
  {
   "cell_type": "code",
   "execution_count": 9,
   "metadata": {},
   "outputs": [
    {
     "output_type": "execute_result",
     "data": {
      "text/plain": [
       "              gdp   returns\n",
       "gdp      1.000000  0.212173\n",
       "returns  0.212173  1.000000"
      ],
      "text/html": "<div>\n<style scoped>\n    .dataframe tbody tr th:only-of-type {\n        vertical-align: middle;\n    }\n\n    .dataframe tbody tr th {\n        vertical-align: top;\n    }\n\n    .dataframe thead th {\n        text-align: right;\n    }\n</style>\n<table border=\"1\" class=\"dataframe\">\n  <thead>\n    <tr style=\"text-align: right;\">\n      <th></th>\n      <th>gdp</th>\n      <th>returns</th>\n    </tr>\n  </thead>\n  <tbody>\n    <tr>\n      <th>gdp</th>\n      <td>1.000000</td>\n      <td>0.212173</td>\n    </tr>\n    <tr>\n      <th>returns</th>\n      <td>0.212173</td>\n      <td>1.000000</td>\n    </tr>\n  </tbody>\n</table>\n</div>"
     },
     "metadata": {},
     "execution_count": 9
    }
   ],
   "source": [
    "# Use merge_ordered() to merge gdp and sp500, interpolate missing value\n",
    "gdp_sp500 = pd.merge_ordered(gdp, sp500, left_on='year', right_on='date', \n",
    "                             how='left',  fill_method='ffill')\n",
    "\n",
    "# Subset the gdp and returns columns\n",
    "gdp_returns = gdp_sp500[['gdp','returns']]\n",
    "\n",
    "# Print gdp_returns correlation\n",
    "gdp_returns.corr()"
   ]
  },
  {
   "source": [
    "## Phillips curve using merge_ordered()\n",
    "There is an economic theory developed by A. W. Phillips which states that inflation and unemployment have an inverse relationship. The theory claims that with economic growth comes inflation, which in turn should lead to more jobs and less unemployment.\n",
    "\n",
    "You will take two tables of data from the U.S. Bureau of Labor Statistics, containing unemployment and inflation data over different periods, and create a Phillips curve. The tables have different frequencies. One table has a data entry every six months, while the other has a data entry every month. You will need to use the entries where you have data within both tables.\n",
    "\n",
    "The tables `unemployment` and `inflation` have been loaded for you.\n",
    "\n",
    "Instructions\n",
    "\n",
    "- Use `merge_ordered()` to merge the `inflation` and `unemployment` tables on `date` with an inner join, and save the results as `inflation_unemploy`.\n",
    "- Print the `inflation_unemploy` variable.\n",
    "- Using `inflation_unemploy`, create a scatter plot with `unemployment_rate` on the horizontal axis and `cpi` (inflation) on the vertical axis."
   ],
   "cell_type": "markdown",
   "metadata": {}
  },
  {
   "cell_type": "code",
   "execution_count": 10,
   "metadata": {},
   "outputs": [],
   "source": [
    "# Import the DataFrames\n",
    "unemployment = pd.read_csv('unemployment.csv')\n",
    "inflation = pd.read_csv('inflation.csv')"
   ]
  },
  {
   "cell_type": "code",
   "execution_count": 13,
   "metadata": {},
   "outputs": [
    {
     "output_type": "display_data",
     "data": {
      "text/plain": "<Figure size 432x288 with 1 Axes>",
      "image/svg+xml": "<?xml version=\"1.0\" encoding=\"utf-8\" standalone=\"no\"?>\n<!DOCTYPE svg PUBLIC \"-//W3C//DTD SVG 1.1//EN\"\n  \"http://www.w3.org/Graphics/SVG/1.1/DTD/svg11.dtd\">\n<!-- Created with matplotlib (https://matplotlib.org/) -->\n<svg height=\"262.474375pt\" version=\"1.1\" viewBox=\"0 0 398.50625 262.474375\" width=\"398.50625pt\" xmlns=\"http://www.w3.org/2000/svg\" xmlns:xlink=\"http://www.w3.org/1999/xlink\">\n <defs>\n  <style type=\"text/css\">\n*{stroke-linecap:butt;stroke-linejoin:round;}\n  </style>\n </defs>\n <g id=\"figure_1\">\n  <g id=\"patch_1\">\n   <path d=\"M 0 262.474375 \nL 398.50625 262.474375 \nL 398.50625 0 \nL 0 0 \nz\n\" style=\"fill:none;\"/>\n  </g>\n  <g id=\"axes_1\">\n   <g id=\"patch_2\">\n    <path d=\"M 56.50625 224.64 \nL 391.30625 224.64 \nL 391.30625 7.2 \nL 56.50625 7.2 \nz\n\" style=\"fill:#ffffff;\"/>\n   </g>\n   <g id=\"PathCollection_1\">\n    <defs>\n     <path d=\"M 0 2.236068 \nC 0.593012 2.236068 1.161816 2.000462 1.581139 1.581139 \nC 2.000462 1.161816 2.236068 0.593012 2.236068 0 \nC 2.236068 -0.593012 2.000462 -1.161816 1.581139 -1.581139 \nC 1.161816 -2.000462 0.593012 -2.236068 0 -2.236068 \nC -0.593012 -2.236068 -1.161816 -2.000462 -1.581139 -1.581139 \nC -2.000462 -1.161816 -2.236068 -0.593012 -2.236068 0 \nC -2.236068 0.593012 -2.000462 1.161816 -1.581139 1.581139 \nC -1.161816 2.000462 -0.593012 2.236068 0 2.236068 \nz\n\" id=\"m8bf8349733\" style=\"stroke:#1f77b4;\"/>\n    </defs>\n    <g clip-path=\"url(#pf0384e3315)\">\n     <use style=\"fill:#1f77b4;stroke:#1f77b4;\" x=\"375.33889\" xlink:href=\"#m8bf8349733\" y=\"207.777641\"/>\n     <use style=\"fill:#1f77b4;stroke:#1f77b4;\" x=\"308.035494\" xlink:href=\"#m8bf8349733\" y=\"184.410346\"/>\n     <use style=\"fill:#1f77b4;stroke:#1f77b4;\" x=\"251.949331\" xlink:href=\"#m8bf8349733\" y=\"214.632689\"/>\n     <use style=\"fill:#1f77b4;stroke:#1f77b4;\" x=\"218.297634\" xlink:href=\"#m8bf8349733\" y=\"178.962387\"/>\n     <use style=\"fill:#1f77b4;stroke:#1f77b4;\" x=\"184.645936\" xlink:href=\"#m8bf8349733\" y=\"177.170454\"/>\n     <use style=\"fill:#1f77b4;stroke:#1f77b4;\" x=\"173.428703\" xlink:href=\"#m8bf8349733\" y=\"149.100837\"/>\n     <use style=\"fill:#1f77b4;stroke:#1f77b4;\" x=\"150.994238\" xlink:href=\"#m8bf8349733\" y=\"105.649455\"/>\n     <use style=\"fill:#1f77b4;stroke:#1f77b4;\" x=\"106.125308\" xlink:href=\"#m8bf8349733\" y=\"100.814842\"/>\n     <use style=\"fill:#1f77b4;stroke:#1f77b4;\" x=\"83.690843\" xlink:href=\"#m8bf8349733\" y=\"44.266711\"/>\n     <use style=\"fill:#1f77b4;stroke:#1f77b4;\" x=\"72.47361\" xlink:href=\"#m8bf8349733\" y=\"17.207311\"/>\n    </g>\n   </g>\n   <g id=\"matplotlib.axis_1\">\n    <g id=\"xtick_1\">\n     <g id=\"line2d_1\">\n      <defs>\n       <path d=\"M 0 0 \nL 0 3.5 \n\" id=\"m6658630ad6\" style=\"stroke:#000000;stroke-width:0.8;\"/>\n      </defs>\n      <g>\n       <use style=\"stroke:#000000;stroke-width:0.8;\" x=\"72.47361\" xlink:href=\"#m6658630ad6\" y=\"224.64\"/>\n      </g>\n     </g>\n     <g id=\"text_1\">\n      <!-- 4.0 -->\n      <defs>\n       <path d=\"M 37.796875 64.3125 \nL 12.890625 25.390625 \nL 37.796875 25.390625 \nz\nM 35.203125 72.90625 \nL 47.609375 72.90625 \nL 47.609375 25.390625 \nL 58.015625 25.390625 \nL 58.015625 17.1875 \nL 47.609375 17.1875 \nL 47.609375 0 \nL 37.796875 0 \nL 37.796875 17.1875 \nL 4.890625 17.1875 \nL 4.890625 26.703125 \nz\n\" id=\"DejaVuSans-52\"/>\n       <path d=\"M 10.6875 12.40625 \nL 21 12.40625 \nL 21 0 \nL 10.6875 0 \nz\n\" id=\"DejaVuSans-46\"/>\n       <path d=\"M 31.78125 66.40625 \nQ 24.171875 66.40625 20.328125 58.90625 \nQ 16.5 51.421875 16.5 36.375 \nQ 16.5 21.390625 20.328125 13.890625 \nQ 24.171875 6.390625 31.78125 6.390625 \nQ 39.453125 6.390625 43.28125 13.890625 \nQ 47.125 21.390625 47.125 36.375 \nQ 47.125 51.421875 43.28125 58.90625 \nQ 39.453125 66.40625 31.78125 66.40625 \nz\nM 31.78125 74.21875 \nQ 44.046875 74.21875 50.515625 64.515625 \nQ 56.984375 54.828125 56.984375 36.375 \nQ 56.984375 17.96875 50.515625 8.265625 \nQ 44.046875 -1.421875 31.78125 -1.421875 \nQ 19.53125 -1.421875 13.0625 8.265625 \nQ 6.59375 17.96875 6.59375 36.375 \nQ 6.59375 54.828125 13.0625 64.515625 \nQ 19.53125 74.21875 31.78125 74.21875 \nz\n\" id=\"DejaVuSans-48\"/>\n      </defs>\n      <g transform=\"translate(64.522048 239.238438)scale(0.1 -0.1)\">\n       <use xlink:href=\"#DejaVuSans-52\"/>\n       <use x=\"63.623047\" xlink:href=\"#DejaVuSans-46\"/>\n       <use x=\"95.410156\" xlink:href=\"#DejaVuSans-48\"/>\n      </g>\n     </g>\n    </g>\n    <g id=\"xtick_2\">\n     <g id=\"line2d_2\">\n      <g>\n       <use style=\"stroke:#000000;stroke-width:0.8;\" x=\"128.559773\" xlink:href=\"#m6658630ad6\" y=\"224.64\"/>\n      </g>\n     </g>\n     <g id=\"text_2\">\n      <!-- 4.5 -->\n      <defs>\n       <path d=\"M 10.796875 72.90625 \nL 49.515625 72.90625 \nL 49.515625 64.59375 \nL 19.828125 64.59375 \nL 19.828125 46.734375 \nQ 21.96875 47.46875 24.109375 47.828125 \nQ 26.265625 48.1875 28.421875 48.1875 \nQ 40.625 48.1875 47.75 41.5 \nQ 54.890625 34.8125 54.890625 23.390625 \nQ 54.890625 11.625 47.5625 5.09375 \nQ 40.234375 -1.421875 26.90625 -1.421875 \nQ 22.3125 -1.421875 17.546875 -0.640625 \nQ 12.796875 0.140625 7.71875 1.703125 \nL 7.71875 11.625 \nQ 12.109375 9.234375 16.796875 8.0625 \nQ 21.484375 6.890625 26.703125 6.890625 \nQ 35.15625 6.890625 40.078125 11.328125 \nQ 45.015625 15.765625 45.015625 23.390625 \nQ 45.015625 31 40.078125 35.4375 \nQ 35.15625 39.890625 26.703125 39.890625 \nQ 22.75 39.890625 18.8125 39.015625 \nQ 14.890625 38.140625 10.796875 36.28125 \nz\n\" id=\"DejaVuSans-53\"/>\n      </defs>\n      <g transform=\"translate(120.608211 239.238438)scale(0.1 -0.1)\">\n       <use xlink:href=\"#DejaVuSans-52\"/>\n       <use x=\"63.623047\" xlink:href=\"#DejaVuSans-46\"/>\n       <use x=\"95.410156\" xlink:href=\"#DejaVuSans-53\"/>\n      </g>\n     </g>\n    </g>\n    <g id=\"xtick_3\">\n     <g id=\"line2d_3\">\n      <g>\n       <use style=\"stroke:#000000;stroke-width:0.8;\" x=\"184.645936\" xlink:href=\"#m6658630ad6\" y=\"224.64\"/>\n      </g>\n     </g>\n     <g id=\"text_3\">\n      <!-- 5.0 -->\n      <g transform=\"translate(176.694373 239.238438)scale(0.1 -0.1)\">\n       <use xlink:href=\"#DejaVuSans-53\"/>\n       <use x=\"63.623047\" xlink:href=\"#DejaVuSans-46\"/>\n       <use x=\"95.410156\" xlink:href=\"#DejaVuSans-48\"/>\n      </g>\n     </g>\n    </g>\n    <g id=\"xtick_4\">\n     <g id=\"line2d_4\">\n      <g>\n       <use style=\"stroke:#000000;stroke-width:0.8;\" x=\"240.732099\" xlink:href=\"#m6658630ad6\" y=\"224.64\"/>\n      </g>\n     </g>\n     <g id=\"text_4\">\n      <!-- 5.5 -->\n      <g transform=\"translate(232.780536 239.238438)scale(0.1 -0.1)\">\n       <use xlink:href=\"#DejaVuSans-53\"/>\n       <use x=\"63.623047\" xlink:href=\"#DejaVuSans-46\"/>\n       <use x=\"95.410156\" xlink:href=\"#DejaVuSans-53\"/>\n      </g>\n     </g>\n    </g>\n    <g id=\"xtick_5\">\n     <g id=\"line2d_5\">\n      <g>\n       <use style=\"stroke:#000000;stroke-width:0.8;\" x=\"296.818262\" xlink:href=\"#m6658630ad6\" y=\"224.64\"/>\n      </g>\n     </g>\n     <g id=\"text_5\">\n      <!-- 6.0 -->\n      <defs>\n       <path d=\"M 33.015625 40.375 \nQ 26.375 40.375 22.484375 35.828125 \nQ 18.609375 31.296875 18.609375 23.390625 \nQ 18.609375 15.53125 22.484375 10.953125 \nQ 26.375 6.390625 33.015625 6.390625 \nQ 39.65625 6.390625 43.53125 10.953125 \nQ 47.40625 15.53125 47.40625 23.390625 \nQ 47.40625 31.296875 43.53125 35.828125 \nQ 39.65625 40.375 33.015625 40.375 \nz\nM 52.59375 71.296875 \nL 52.59375 62.3125 \nQ 48.875 64.0625 45.09375 64.984375 \nQ 41.3125 65.921875 37.59375 65.921875 \nQ 27.828125 65.921875 22.671875 59.328125 \nQ 17.53125 52.734375 16.796875 39.40625 \nQ 19.671875 43.65625 24.015625 45.921875 \nQ 28.375 48.1875 33.59375 48.1875 \nQ 44.578125 48.1875 50.953125 41.515625 \nQ 57.328125 34.859375 57.328125 23.390625 \nQ 57.328125 12.15625 50.6875 5.359375 \nQ 44.046875 -1.421875 33.015625 -1.421875 \nQ 20.359375 -1.421875 13.671875 8.265625 \nQ 6.984375 17.96875 6.984375 36.375 \nQ 6.984375 53.65625 15.1875 63.9375 \nQ 23.390625 74.21875 37.203125 74.21875 \nQ 40.921875 74.21875 44.703125 73.484375 \nQ 48.484375 72.75 52.59375 71.296875 \nz\n\" id=\"DejaVuSans-54\"/>\n      </defs>\n      <g transform=\"translate(288.866699 239.238438)scale(0.1 -0.1)\">\n       <use xlink:href=\"#DejaVuSans-54\"/>\n       <use x=\"63.623047\" xlink:href=\"#DejaVuSans-46\"/>\n       <use x=\"95.410156\" xlink:href=\"#DejaVuSans-48\"/>\n      </g>\n     </g>\n    </g>\n    <g id=\"xtick_6\">\n     <g id=\"line2d_6\">\n      <g>\n       <use style=\"stroke:#000000;stroke-width:0.8;\" x=\"352.904425\" xlink:href=\"#m6658630ad6\" y=\"224.64\"/>\n      </g>\n     </g>\n     <g id=\"text_6\">\n      <!-- 6.5 -->\n      <g transform=\"translate(344.952862 239.238438)scale(0.1 -0.1)\">\n       <use xlink:href=\"#DejaVuSans-54\"/>\n       <use x=\"63.623047\" xlink:href=\"#DejaVuSans-46\"/>\n       <use x=\"95.410156\" xlink:href=\"#DejaVuSans-53\"/>\n      </g>\n     </g>\n    </g>\n    <g id=\"text_7\">\n     <!-- unemployment_rate -->\n     <defs>\n      <path d=\"M 8.5 21.578125 \nL 8.5 54.6875 \nL 17.484375 54.6875 \nL 17.484375 21.921875 \nQ 17.484375 14.15625 20.5 10.265625 \nQ 23.53125 6.390625 29.59375 6.390625 \nQ 36.859375 6.390625 41.078125 11.03125 \nQ 45.3125 15.671875 45.3125 23.6875 \nL 45.3125 54.6875 \nL 54.296875 54.6875 \nL 54.296875 0 \nL 45.3125 0 \nL 45.3125 8.40625 \nQ 42.046875 3.421875 37.71875 1 \nQ 33.40625 -1.421875 27.6875 -1.421875 \nQ 18.265625 -1.421875 13.375 4.4375 \nQ 8.5 10.296875 8.5 21.578125 \nz\nM 31.109375 56 \nz\n\" id=\"DejaVuSans-117\"/>\n      <path d=\"M 54.890625 33.015625 \nL 54.890625 0 \nL 45.90625 0 \nL 45.90625 32.71875 \nQ 45.90625 40.484375 42.875 44.328125 \nQ 39.84375 48.1875 33.796875 48.1875 \nQ 26.515625 48.1875 22.3125 43.546875 \nQ 18.109375 38.921875 18.109375 30.90625 \nL 18.109375 0 \nL 9.078125 0 \nL 9.078125 54.6875 \nL 18.109375 54.6875 \nL 18.109375 46.1875 \nQ 21.34375 51.125 25.703125 53.5625 \nQ 30.078125 56 35.796875 56 \nQ 45.21875 56 50.046875 50.171875 \nQ 54.890625 44.34375 54.890625 33.015625 \nz\n\" id=\"DejaVuSans-110\"/>\n      <path d=\"M 56.203125 29.59375 \nL 56.203125 25.203125 \nL 14.890625 25.203125 \nQ 15.484375 15.921875 20.484375 11.0625 \nQ 25.484375 6.203125 34.421875 6.203125 \nQ 39.59375 6.203125 44.453125 7.46875 \nQ 49.3125 8.734375 54.109375 11.28125 \nL 54.109375 2.78125 \nQ 49.265625 0.734375 44.1875 -0.34375 \nQ 39.109375 -1.421875 33.890625 -1.421875 \nQ 20.796875 -1.421875 13.15625 6.1875 \nQ 5.515625 13.8125 5.515625 26.8125 \nQ 5.515625 40.234375 12.765625 48.109375 \nQ 20.015625 56 32.328125 56 \nQ 43.359375 56 49.78125 48.890625 \nQ 56.203125 41.796875 56.203125 29.59375 \nz\nM 47.21875 32.234375 \nQ 47.125 39.59375 43.09375 43.984375 \nQ 39.0625 48.390625 32.421875 48.390625 \nQ 24.90625 48.390625 20.390625 44.140625 \nQ 15.875 39.890625 15.1875 32.171875 \nz\n\" id=\"DejaVuSans-101\"/>\n      <path d=\"M 52 44.1875 \nQ 55.375 50.25 60.0625 53.125 \nQ 64.75 56 71.09375 56 \nQ 79.640625 56 84.28125 50.015625 \nQ 88.921875 44.046875 88.921875 33.015625 \nL 88.921875 0 \nL 79.890625 0 \nL 79.890625 32.71875 \nQ 79.890625 40.578125 77.09375 44.375 \nQ 74.3125 48.1875 68.609375 48.1875 \nQ 61.625 48.1875 57.5625 43.546875 \nQ 53.515625 38.921875 53.515625 30.90625 \nL 53.515625 0 \nL 44.484375 0 \nL 44.484375 32.71875 \nQ 44.484375 40.625 41.703125 44.40625 \nQ 38.921875 48.1875 33.109375 48.1875 \nQ 26.21875 48.1875 22.15625 43.53125 \nQ 18.109375 38.875 18.109375 30.90625 \nL 18.109375 0 \nL 9.078125 0 \nL 9.078125 54.6875 \nL 18.109375 54.6875 \nL 18.109375 46.1875 \nQ 21.1875 51.21875 25.484375 53.609375 \nQ 29.78125 56 35.6875 56 \nQ 41.65625 56 45.828125 52.96875 \nQ 50 49.953125 52 44.1875 \nz\n\" id=\"DejaVuSans-109\"/>\n      <path d=\"M 18.109375 8.203125 \nL 18.109375 -20.796875 \nL 9.078125 -20.796875 \nL 9.078125 54.6875 \nL 18.109375 54.6875 \nL 18.109375 46.390625 \nQ 20.953125 51.265625 25.265625 53.625 \nQ 29.59375 56 35.59375 56 \nQ 45.5625 56 51.78125 48.09375 \nQ 58.015625 40.1875 58.015625 27.296875 \nQ 58.015625 14.40625 51.78125 6.484375 \nQ 45.5625 -1.421875 35.59375 -1.421875 \nQ 29.59375 -1.421875 25.265625 0.953125 \nQ 20.953125 3.328125 18.109375 8.203125 \nz\nM 48.6875 27.296875 \nQ 48.6875 37.203125 44.609375 42.84375 \nQ 40.53125 48.484375 33.40625 48.484375 \nQ 26.265625 48.484375 22.1875 42.84375 \nQ 18.109375 37.203125 18.109375 27.296875 \nQ 18.109375 17.390625 22.1875 11.75 \nQ 26.265625 6.109375 33.40625 6.109375 \nQ 40.53125 6.109375 44.609375 11.75 \nQ 48.6875 17.390625 48.6875 27.296875 \nz\n\" id=\"DejaVuSans-112\"/>\n      <path d=\"M 9.421875 75.984375 \nL 18.40625 75.984375 \nL 18.40625 0 \nL 9.421875 0 \nz\n\" id=\"DejaVuSans-108\"/>\n      <path d=\"M 30.609375 48.390625 \nQ 23.390625 48.390625 19.1875 42.75 \nQ 14.984375 37.109375 14.984375 27.296875 \nQ 14.984375 17.484375 19.15625 11.84375 \nQ 23.34375 6.203125 30.609375 6.203125 \nQ 37.796875 6.203125 41.984375 11.859375 \nQ 46.1875 17.53125 46.1875 27.296875 \nQ 46.1875 37.015625 41.984375 42.703125 \nQ 37.796875 48.390625 30.609375 48.390625 \nz\nM 30.609375 56 \nQ 42.328125 56 49.015625 48.375 \nQ 55.71875 40.765625 55.71875 27.296875 \nQ 55.71875 13.875 49.015625 6.21875 \nQ 42.328125 -1.421875 30.609375 -1.421875 \nQ 18.84375 -1.421875 12.171875 6.21875 \nQ 5.515625 13.875 5.515625 27.296875 \nQ 5.515625 40.765625 12.171875 48.375 \nQ 18.84375 56 30.609375 56 \nz\n\" id=\"DejaVuSans-111\"/>\n      <path d=\"M 32.171875 -5.078125 \nQ 28.375 -14.84375 24.75 -17.8125 \nQ 21.140625 -20.796875 15.09375 -20.796875 \nL 7.90625 -20.796875 \nL 7.90625 -13.28125 \nL 13.1875 -13.28125 \nQ 16.890625 -13.28125 18.9375 -11.515625 \nQ 21 -9.765625 23.484375 -3.21875 \nL 25.09375 0.875 \nL 2.984375 54.6875 \nL 12.5 54.6875 \nL 29.59375 11.921875 \nL 46.6875 54.6875 \nL 56.203125 54.6875 \nz\n\" id=\"DejaVuSans-121\"/>\n      <path d=\"M 18.3125 70.21875 \nL 18.3125 54.6875 \nL 36.8125 54.6875 \nL 36.8125 47.703125 \nL 18.3125 47.703125 \nL 18.3125 18.015625 \nQ 18.3125 11.328125 20.140625 9.421875 \nQ 21.96875 7.515625 27.59375 7.515625 \nL 36.8125 7.515625 \nL 36.8125 0 \nL 27.59375 0 \nQ 17.1875 0 13.234375 3.875 \nQ 9.28125 7.765625 9.28125 18.015625 \nL 9.28125 47.703125 \nL 2.6875 47.703125 \nL 2.6875 54.6875 \nL 9.28125 54.6875 \nL 9.28125 70.21875 \nz\n\" id=\"DejaVuSans-116\"/>\n      <path d=\"M 50.984375 -16.609375 \nL 50.984375 -23.578125 \nL -0.984375 -23.578125 \nL -0.984375 -16.609375 \nz\n\" id=\"DejaVuSans-95\"/>\n      <path d=\"M 41.109375 46.296875 \nQ 39.59375 47.171875 37.8125 47.578125 \nQ 36.03125 48 33.890625 48 \nQ 26.265625 48 22.1875 43.046875 \nQ 18.109375 38.09375 18.109375 28.8125 \nL 18.109375 0 \nL 9.078125 0 \nL 9.078125 54.6875 \nL 18.109375 54.6875 \nL 18.109375 46.1875 \nQ 20.953125 51.171875 25.484375 53.578125 \nQ 30.03125 56 36.53125 56 \nQ 37.453125 56 38.578125 55.875 \nQ 39.703125 55.765625 41.0625 55.515625 \nz\n\" id=\"DejaVuSans-114\"/>\n      <path d=\"M 34.28125 27.484375 \nQ 23.390625 27.484375 19.1875 25 \nQ 14.984375 22.515625 14.984375 16.5 \nQ 14.984375 11.71875 18.140625 8.90625 \nQ 21.296875 6.109375 26.703125 6.109375 \nQ 34.1875 6.109375 38.703125 11.40625 \nQ 43.21875 16.703125 43.21875 25.484375 \nL 43.21875 27.484375 \nz\nM 52.203125 31.203125 \nL 52.203125 0 \nL 43.21875 0 \nL 43.21875 8.296875 \nQ 40.140625 3.328125 35.546875 0.953125 \nQ 30.953125 -1.421875 24.3125 -1.421875 \nQ 15.921875 -1.421875 10.953125 3.296875 \nQ 6 8.015625 6 15.921875 \nQ 6 25.140625 12.171875 29.828125 \nQ 18.359375 34.515625 30.609375 34.515625 \nL 43.21875 34.515625 \nL 43.21875 35.40625 \nQ 43.21875 41.609375 39.140625 45 \nQ 35.0625 48.390625 27.6875 48.390625 \nQ 23 48.390625 18.546875 47.265625 \nQ 14.109375 46.140625 10.015625 43.890625 \nL 10.015625 52.203125 \nQ 14.9375 54.109375 19.578125 55.046875 \nQ 24.21875 56 28.609375 56 \nQ 40.484375 56 46.34375 49.84375 \nQ 52.203125 43.703125 52.203125 31.203125 \nz\n\" id=\"DejaVuSans-97\"/>\n     </defs>\n     <g transform=\"translate(173.307813 252.916563)scale(0.1 -0.1)\">\n      <use xlink:href=\"#DejaVuSans-117\"/>\n      <use x=\"63.378906\" xlink:href=\"#DejaVuSans-110\"/>\n      <use x=\"126.757812\" xlink:href=\"#DejaVuSans-101\"/>\n      <use x=\"188.28125\" xlink:href=\"#DejaVuSans-109\"/>\n      <use x=\"285.693359\" xlink:href=\"#DejaVuSans-112\"/>\n      <use x=\"349.169922\" xlink:href=\"#DejaVuSans-108\"/>\n      <use x=\"376.953125\" xlink:href=\"#DejaVuSans-111\"/>\n      <use x=\"438.134766\" xlink:href=\"#DejaVuSans-121\"/>\n      <use x=\"497.314453\" xlink:href=\"#DejaVuSans-109\"/>\n      <use x=\"594.726562\" xlink:href=\"#DejaVuSans-101\"/>\n      <use x=\"656.25\" xlink:href=\"#DejaVuSans-110\"/>\n      <use x=\"719.628906\" xlink:href=\"#DejaVuSans-116\"/>\n      <use x=\"758.837891\" xlink:href=\"#DejaVuSans-95\"/>\n      <use x=\"808.837891\" xlink:href=\"#DejaVuSans-114\"/>\n      <use x=\"849.951172\" xlink:href=\"#DejaVuSans-97\"/>\n      <use x=\"911.230469\" xlink:href=\"#DejaVuSans-116\"/>\n      <use x=\"950.439453\" xlink:href=\"#DejaVuSans-101\"/>\n     </g>\n    </g>\n   </g>\n   <g id=\"matplotlib.axis_2\">\n    <g id=\"ytick_1\">\n     <g id=\"line2d_7\">\n      <defs>\n       <path d=\"M 0 0 \nL -3.5 0 \n\" id=\"mc85f1d26c4\" style=\"stroke:#000000;stroke-width:0.8;\"/>\n      </defs>\n      <g>\n       <use style=\"stroke:#000000;stroke-width:0.8;\" x=\"56.50625\" xlink:href=\"#mc85f1d26c4\" y=\"211.241244\"/>\n      </g>\n     </g>\n     <g id=\"text_8\">\n      <!-- 235.0 -->\n      <defs>\n       <path d=\"M 19.1875 8.296875 \nL 53.609375 8.296875 \nL 53.609375 0 \nL 7.328125 0 \nL 7.328125 8.296875 \nQ 12.9375 14.109375 22.625 23.890625 \nQ 32.328125 33.6875 34.8125 36.53125 \nQ 39.546875 41.84375 41.421875 45.53125 \nQ 43.3125 49.21875 43.3125 52.78125 \nQ 43.3125 58.59375 39.234375 62.25 \nQ 35.15625 65.921875 28.609375 65.921875 \nQ 23.96875 65.921875 18.8125 64.3125 \nQ 13.671875 62.703125 7.8125 59.421875 \nL 7.8125 69.390625 \nQ 13.765625 71.78125 18.9375 73 \nQ 24.125 74.21875 28.421875 74.21875 \nQ 39.75 74.21875 46.484375 68.546875 \nQ 53.21875 62.890625 53.21875 53.421875 \nQ 53.21875 48.921875 51.53125 44.890625 \nQ 49.859375 40.875 45.40625 35.40625 \nQ 44.1875 33.984375 37.640625 27.21875 \nQ 31.109375 20.453125 19.1875 8.296875 \nz\n\" id=\"DejaVuSans-50\"/>\n       <path d=\"M 40.578125 39.3125 \nQ 47.65625 37.796875 51.625 33 \nQ 55.609375 28.21875 55.609375 21.1875 \nQ 55.609375 10.40625 48.1875 4.484375 \nQ 40.765625 -1.421875 27.09375 -1.421875 \nQ 22.515625 -1.421875 17.65625 -0.515625 \nQ 12.796875 0.390625 7.625 2.203125 \nL 7.625 11.71875 \nQ 11.71875 9.328125 16.59375 8.109375 \nQ 21.484375 6.890625 26.8125 6.890625 \nQ 36.078125 6.890625 40.9375 10.546875 \nQ 45.796875 14.203125 45.796875 21.1875 \nQ 45.796875 27.640625 41.28125 31.265625 \nQ 36.765625 34.90625 28.71875 34.90625 \nL 20.21875 34.90625 \nL 20.21875 43.015625 \nL 29.109375 43.015625 \nQ 36.375 43.015625 40.234375 45.921875 \nQ 44.09375 48.828125 44.09375 54.296875 \nQ 44.09375 59.90625 40.109375 62.90625 \nQ 36.140625 65.921875 28.71875 65.921875 \nQ 24.65625 65.921875 20.015625 65.03125 \nQ 15.375 64.15625 9.8125 62.3125 \nL 9.8125 71.09375 \nQ 15.4375 72.65625 20.34375 73.4375 \nQ 25.25 74.21875 29.59375 74.21875 \nQ 40.828125 74.21875 47.359375 69.109375 \nQ 53.90625 64.015625 53.90625 55.328125 \nQ 53.90625 49.265625 50.4375 45.09375 \nQ 46.96875 40.921875 40.578125 39.3125 \nz\n\" id=\"DejaVuSans-51\"/>\n      </defs>\n      <g transform=\"translate(20.878125 215.040463)scale(0.1 -0.1)\">\n       <use xlink:href=\"#DejaVuSans-50\"/>\n       <use x=\"63.623047\" xlink:href=\"#DejaVuSans-51\"/>\n       <use x=\"127.246094\" xlink:href=\"#DejaVuSans-53\"/>\n       <use x=\"190.869141\" xlink:href=\"#DejaVuSans-46\"/>\n       <use x=\"222.65625\" xlink:href=\"#DejaVuSans-48\"/>\n      </g>\n     </g>\n    </g>\n    <g id=\"ytick_2\">\n     <g id=\"line2d_8\">\n      <g>\n       <use style=\"stroke:#000000;stroke-width:0.8;\" x=\"56.50625\" xlink:href=\"#mc85f1d26c4\" y=\"181.175245\"/>\n      </g>\n     </g>\n     <g id=\"text_9\">\n      <!-- 237.5 -->\n      <defs>\n       <path d=\"M 8.203125 72.90625 \nL 55.078125 72.90625 \nL 55.078125 68.703125 \nL 28.609375 0 \nL 18.3125 0 \nL 43.21875 64.59375 \nL 8.203125 64.59375 \nz\n\" id=\"DejaVuSans-55\"/>\n      </defs>\n      <g transform=\"translate(20.878125 184.974464)scale(0.1 -0.1)\">\n       <use xlink:href=\"#DejaVuSans-50\"/>\n       <use x=\"63.623047\" xlink:href=\"#DejaVuSans-51\"/>\n       <use x=\"127.246094\" xlink:href=\"#DejaVuSans-55\"/>\n       <use x=\"190.869141\" xlink:href=\"#DejaVuSans-46\"/>\n       <use x=\"222.65625\" xlink:href=\"#DejaVuSans-53\"/>\n      </g>\n     </g>\n    </g>\n    <g id=\"ytick_3\">\n     <g id=\"line2d_9\">\n      <g>\n       <use style=\"stroke:#000000;stroke-width:0.8;\" x=\"56.50625\" xlink:href=\"#mc85f1d26c4\" y=\"151.109246\"/>\n      </g>\n     </g>\n     <g id=\"text_10\">\n      <!-- 240.0 -->\n      <g transform=\"translate(20.878125 154.908464)scale(0.1 -0.1)\">\n       <use xlink:href=\"#DejaVuSans-50\"/>\n       <use x=\"63.623047\" xlink:href=\"#DejaVuSans-52\"/>\n       <use x=\"127.246094\" xlink:href=\"#DejaVuSans-48\"/>\n       <use x=\"190.869141\" xlink:href=\"#DejaVuSans-46\"/>\n       <use x=\"222.65625\" xlink:href=\"#DejaVuSans-48\"/>\n      </g>\n     </g>\n    </g>\n    <g id=\"ytick_4\">\n     <g id=\"line2d_10\">\n      <g>\n       <use style=\"stroke:#000000;stroke-width:0.8;\" x=\"56.50625\" xlink:href=\"#mc85f1d26c4\" y=\"121.043246\"/>\n      </g>\n     </g>\n     <g id=\"text_11\">\n      <!-- 242.5 -->\n      <g transform=\"translate(20.878125 124.842465)scale(0.1 -0.1)\">\n       <use xlink:href=\"#DejaVuSans-50\"/>\n       <use x=\"63.623047\" xlink:href=\"#DejaVuSans-52\"/>\n       <use x=\"127.246094\" xlink:href=\"#DejaVuSans-50\"/>\n       <use x=\"190.869141\" xlink:href=\"#DejaVuSans-46\"/>\n       <use x=\"222.65625\" xlink:href=\"#DejaVuSans-53\"/>\n      </g>\n     </g>\n    </g>\n    <g id=\"ytick_5\">\n     <g id=\"line2d_11\">\n      <g>\n       <use style=\"stroke:#000000;stroke-width:0.8;\" x=\"56.50625\" xlink:href=\"#mc85f1d26c4\" y=\"90.977247\"/>\n      </g>\n     </g>\n     <g id=\"text_12\">\n      <!-- 245.0 -->\n      <g transform=\"translate(20.878125 94.776466)scale(0.1 -0.1)\">\n       <use xlink:href=\"#DejaVuSans-50\"/>\n       <use x=\"63.623047\" xlink:href=\"#DejaVuSans-52\"/>\n       <use x=\"127.246094\" xlink:href=\"#DejaVuSans-53\"/>\n       <use x=\"190.869141\" xlink:href=\"#DejaVuSans-46\"/>\n       <use x=\"222.65625\" xlink:href=\"#DejaVuSans-48\"/>\n      </g>\n     </g>\n    </g>\n    <g id=\"ytick_6\">\n     <g id=\"line2d_12\">\n      <g>\n       <use style=\"stroke:#000000;stroke-width:0.8;\" x=\"56.50625\" xlink:href=\"#mc85f1d26c4\" y=\"60.911248\"/>\n      </g>\n     </g>\n     <g id=\"text_13\">\n      <!-- 247.5 -->\n      <g transform=\"translate(20.878125 64.710466)scale(0.1 -0.1)\">\n       <use xlink:href=\"#DejaVuSans-50\"/>\n       <use x=\"63.623047\" xlink:href=\"#DejaVuSans-52\"/>\n       <use x=\"127.246094\" xlink:href=\"#DejaVuSans-55\"/>\n       <use x=\"190.869141\" xlink:href=\"#DejaVuSans-46\"/>\n       <use x=\"222.65625\" xlink:href=\"#DejaVuSans-53\"/>\n      </g>\n     </g>\n    </g>\n    <g id=\"ytick_7\">\n     <g id=\"line2d_13\">\n      <g>\n       <use style=\"stroke:#000000;stroke-width:0.8;\" x=\"56.50625\" xlink:href=\"#mc85f1d26c4\" y=\"30.845248\"/>\n      </g>\n     </g>\n     <g id=\"text_14\">\n      <!-- 250.0 -->\n      <g transform=\"translate(20.878125 34.644467)scale(0.1 -0.1)\">\n       <use xlink:href=\"#DejaVuSans-50\"/>\n       <use x=\"63.623047\" xlink:href=\"#DejaVuSans-53\"/>\n       <use x=\"127.246094\" xlink:href=\"#DejaVuSans-48\"/>\n       <use x=\"190.869141\" xlink:href=\"#DejaVuSans-46\"/>\n       <use x=\"222.65625\" xlink:href=\"#DejaVuSans-48\"/>\n      </g>\n     </g>\n    </g>\n    <g id=\"text_15\">\n     <!-- cpi -->\n     <defs>\n      <path d=\"M 48.78125 52.59375 \nL 48.78125 44.1875 \nQ 44.96875 46.296875 41.140625 47.34375 \nQ 37.3125 48.390625 33.40625 48.390625 \nQ 24.65625 48.390625 19.8125 42.84375 \nQ 14.984375 37.3125 14.984375 27.296875 \nQ 14.984375 17.28125 19.8125 11.734375 \nQ 24.65625 6.203125 33.40625 6.203125 \nQ 37.3125 6.203125 41.140625 7.25 \nQ 44.96875 8.296875 48.78125 10.40625 \nL 48.78125 2.09375 \nQ 45.015625 0.34375 40.984375 -0.53125 \nQ 36.96875 -1.421875 32.421875 -1.421875 \nQ 20.0625 -1.421875 12.78125 6.34375 \nQ 5.515625 14.109375 5.515625 27.296875 \nQ 5.515625 40.671875 12.859375 48.328125 \nQ 20.21875 56 33.015625 56 \nQ 37.15625 56 41.109375 55.140625 \nQ 45.0625 54.296875 48.78125 52.59375 \nz\n\" id=\"DejaVuSans-99\"/>\n      <path d=\"M 9.421875 54.6875 \nL 18.40625 54.6875 \nL 18.40625 0 \nL 9.421875 0 \nz\nM 9.421875 75.984375 \nL 18.40625 75.984375 \nL 18.40625 64.59375 \nL 9.421875 64.59375 \nz\n\" id=\"DejaVuSans-105\"/>\n     </defs>\n     <g transform=\"translate(14.798438 123.2325)rotate(-90)scale(0.1 -0.1)\">\n      <use xlink:href=\"#DejaVuSans-99\"/>\n      <use x=\"54.980469\" xlink:href=\"#DejaVuSans-112\"/>\n      <use x=\"118.457031\" xlink:href=\"#DejaVuSans-105\"/>\n     </g>\n    </g>\n   </g>\n   <g id=\"patch_3\">\n    <path d=\"M 56.50625 224.64 \nL 56.50625 7.2 \n\" style=\"fill:none;stroke:#000000;stroke-linecap:square;stroke-linejoin:miter;stroke-width:0.8;\"/>\n   </g>\n   <g id=\"patch_4\">\n    <path d=\"M 391.30625 224.64 \nL 391.30625 7.2 \n\" style=\"fill:none;stroke:#000000;stroke-linecap:square;stroke-linejoin:miter;stroke-width:0.8;\"/>\n   </g>\n   <g id=\"patch_5\">\n    <path d=\"M 56.50625 224.64 \nL 391.30625 224.64 \n\" style=\"fill:none;stroke:#000000;stroke-linecap:square;stroke-linejoin:miter;stroke-width:0.8;\"/>\n   </g>\n   <g id=\"patch_6\">\n    <path d=\"M 56.50625 7.2 \nL 391.30625 7.2 \n\" style=\"fill:none;stroke:#000000;stroke-linecap:square;stroke-linejoin:miter;stroke-width:0.8;\"/>\n   </g>\n  </g>\n </g>\n <defs>\n  <clipPath id=\"pf0384e3315\">\n   <rect height=\"217.44\" width=\"334.8\" x=\"56.50625\" y=\"7.2\"/>\n  </clipPath>\n </defs>\n</svg>\n",
      "image/png": "[encoded data removed]"
     },
     "metadata": {
      "needs_background": "light"
     }
    }
   ],
   "source": [
    "# Use merge_ordered() to merge inflation, unemployment with inner join\n",
    "inflation_unemploy = pd.merge_ordered(inflation, unemployment, \n",
    "                                      on='date', how='inner')\n",
    "\n",
    "# Print inflation_unemploy \n",
    "inflation_unemploy\n",
    "\n",
    "# Plot a scatter plot of unemployment_rate vs cpi of inflation_unemploy\n",
    "inflation_unemploy.plot(kind='scatter', x='unemployment_rate', y='cpi')\n",
    "plt.show()"
   ]
  },
  {
   "source": [
    "## merge_ordered() caution, multiple columns\n",
    "When using `merge_ordered()` to merge on multiple columns, the order is important when you combine it with the forward fill feature. The function sorts the merge on columns in the order provided. In this exercise, we will merge GDP and population data from the World Bank for the Australia and Sweden, reversing the order of the merge on columns. The frequency of the series are different, the GDP values are quarterly, and the population is yearly. Use the forward fill feature to fill in the missing data. Depending on the order provided, the fill forward will use unintended data to fill in the missing values.\n",
    "\n",
    "The tables `wb_gdp` and `wb_pop` have been loaded.\n",
    "\n",
    "Instructions\n",
    "\n",
    "- Use `merge_ordered()` on `gdp` and `pop`, merging on columns `date` and `country` with the fill feature, save to `ctry_date`.\n",
    "- Perform the same merge of `gdp` and `pop`, but join on `country` and `date` (**reverse of step 1**) with the fill feature, saving this as `date_ctry`."
   ],
   "cell_type": "markdown",
   "metadata": {}
  },
  {
   "cell_type": "code",
   "execution_count": 14,
   "metadata": {},
   "outputs": [],
   "source": [
    "gdp = pd.read_csv('wb_gdp.csv')\n",
    "pop = pd.read_csv('wb_pop.csv')"
   ]
  },
  {
   "cell_type": "code",
   "execution_count": 15,
   "metadata": {},
   "outputs": [
    {
     "output_type": "execute_result",
     "data": {
      "text/plain": [
       "    Unnamed: 0_x        date    country           gdp  series_code_x  \\\n",
       "0              0  1990-01-01  Australia  158051.13240  NYGDPMKTPSAKD   \n",
       "1             16  1990-01-01     Sweden   79837.84599  NYGDPMKTPSAKD   \n",
       "2              1  1990-04-01  Australia  158263.58160  NYGDPMKTPSAKD   \n",
       "3             17  1990-04-01     Sweden   80582.28597  NYGDPMKTPSAKD   \n",
       "4              2  1990-07-01  Australia  157329.27900  NYGDPMKTPSAKD   \n",
       "5             18  1990-07-01     Sweden   79974.36017  NYGDPMKTPSAKD   \n",
       "6              3  1990-09-01  Australia  158240.67810  NYGDPMKTPSAKD   \n",
       "7             19  1990-09-01     Sweden   80106.49738  NYGDPMKTPSAKD   \n",
       "8              4  1991-01-01  Australia  156195.95350  NYGDPMKTPSAKD   \n",
       "9             20  1991-01-01     Sweden   79524.24192  NYGDPMKTPSAKD   \n",
       "10             5  1991-04-01  Australia  155989.03270  NYGDPMKTPSAKD   \n",
       "11            21  1991-04-01     Sweden   79073.05901  NYGDPMKTPSAKD   \n",
       "12             6  1991-07-01  Australia  156635.85760  NYGDPMKTPSAKD   \n",
       "13            22  1991-07-01     Sweden   79084.77036  NYGDPMKTPSAKD   \n",
       "14             7  1991-09-01  Australia  156744.05660  NYGDPMKTPSAKD   \n",
       "15            23  1991-09-01     Sweden   79740.60625  NYGDPMKTPSAKD   \n",
       "16             8  1992-01-01  Australia  157916.08110  NYGDPMKTPSAKD   \n",
       "17            24  1992-01-01     Sweden   79390.92175  NYGDPMKTPSAKD   \n",
       "18             9  1992-04-01  Australia  159047.82710  NYGDPMKTPSAKD   \n",
       "19            25  1992-04-01     Sweden   79060.28298  NYGDPMKTPSAKD   \n",
       "20            10  1992-07-01  Australia  160658.17600  NYGDPMKTPSAKD   \n",
       "21            26  1992-07-01     Sweden   78904.60477  NYGDPMKTPSAKD   \n",
       "22            11  1992-09-01  Australia  163960.22070  NYGDPMKTPSAKD   \n",
       "23            27  1992-09-01     Sweden   76996.83684  NYGDPMKTPSAKD   \n",
       "24            12  1993-01-01  Australia  165097.49510  NYGDPMKTPSAKD   \n",
       "25            28  1993-01-01     Sweden   75783.58777  NYGDPMKTPSAKD   \n",
       "26            13  1993-04-01  Australia  166027.05900  NYGDPMKTPSAKD   \n",
       "27            29  1993-04-01     Sweden   76708.54823  NYGDPMKTPSAKD   \n",
       "28            14  1993-07-01  Australia  166203.17860  NYGDPMKTPSAKD   \n",
       "29            30  1993-07-01     Sweden   77662.01816  NYGDPMKTPSAKD   \n",
       "30            15  1993-09-01  Australia  169279.34790  NYGDPMKTPSAKD   \n",
       "31            31  1993-09-01     Sweden   77703.30364  NYGDPMKTPSAKD   \n",
       "\n",
       "    Unnamed: 0_y       pop series_code_y  \n",
       "0              0  17065100   SP.POP.TOTL  \n",
       "1              4   8558835   SP.POP.TOTL  \n",
       "2              4   8558835   SP.POP.TOTL  \n",
       "3              4   8558835   SP.POP.TOTL  \n",
       "4              4   8558835   SP.POP.TOTL  \n",
       "5              4   8558835   SP.POP.TOTL  \n",
       "6              4   8558835   SP.POP.TOTL  \n",
       "7              4   8558835   SP.POP.TOTL  \n",
       "8              1  17284000   SP.POP.TOTL  \n",
       "9              5   8617375   SP.POP.TOTL  \n",
       "10             5   8617375   SP.POP.TOTL  \n",
       "11             5   8617375   SP.POP.TOTL  \n",
       "12             5   8617375   SP.POP.TOTL  \n",
       "13             5   8617375   SP.POP.TOTL  \n",
       "14             5   8617375   SP.POP.TOTL  \n",
       "15             5   8617375   SP.POP.TOTL  \n",
       "16             2  17495000   SP.POP.TOTL  \n",
       "17             6   8668067   SP.POP.TOTL  \n",
       "18             6   8668067   SP.POP.TOTL  \n",
       "19             6   8668067   SP.POP.TOTL  \n",
       "20             6   8668067   SP.POP.TOTL  \n",
       "21             6   8668067   SP.POP.TOTL  \n",
       "22             6   8668067   SP.POP.TOTL  \n",
       "23             6   8668067   SP.POP.TOTL  \n",
       "24             3  17667000   SP.POP.TOTL  \n",
       "25             7   8718561   SP.POP.TOTL  \n",
       "26             7   8718561   SP.POP.TOTL  \n",
       "27             7   8718561   SP.POP.TOTL  \n",
       "28             7   8718561   SP.POP.TOTL  \n",
       "29             7   8718561   SP.POP.TOTL  \n",
       "30             7   8718561   SP.POP.TOTL  \n",
       "31             7   8718561   SP.POP.TOTL  "
      ],
      "text/html": "<div>\n<style scoped>\n    .dataframe tbody tr th:only-of-type {\n        vertical-align: middle;\n    }\n\n    .dataframe tbody tr th {\n        vertical-align: top;\n    }\n\n    .dataframe thead th {\n        text-align: right;\n    }\n</style>\n<table border=\"1\" class=\"dataframe\">\n  <thead>\n    <tr style=\"text-align: right;\">\n      <th></th>\n      <th>Unnamed: 0_x</th>\n      <th>date</th>\n      <th>country</th>\n      <th>gdp</th>\n      <th>series_code_x</th>\n      <th>Unnamed: 0_y</th>\n      <th>pop</th>\n      <th>series_code_y</th>\n    </tr>\n  </thead>\n  <tbody>\n    <tr>\n      <th>0</th>\n      <td>0</td>\n      <td>1990-01-01</td>\n      <td>Australia</td>\n      <td>158051.13240</td>\n      <td>NYGDPMKTPSAKD</td>\n      <td>0</td>\n      <td>17065100</td>\n      <td>SP.POP.TOTL</td>\n    </tr>\n    <tr>\n      <th>1</th>\n      <td>16</td>\n      <td>1990-01-01</td>\n      <td>Sweden</td>\n      <td>79837.84599</td>\n      <td>NYGDPMKTPSAKD</td>\n      <td>4</td>\n      <td>8558835</td>\n      <td>SP.POP.TOTL</td>\n    </tr>\n    <tr>\n      <th>2</th>\n      <td>1</td>\n      <td>1990-04-01</td>\n      <td>Australia</td>\n      <td>158263.58160</td>\n      <td>NYGDPMKTPSAKD</td>\n      <td>4</td>\n      <td>8558835</td>\n      <td>SP.POP.TOTL</td>\n    </tr>\n    <tr>\n      <th>3</th>\n      <td>17</td>\n      <td>1990-04-01</td>\n      <td>Sweden</td>\n      <td>80582.28597</td>\n      <td>NYGDPMKTPSAKD</td>\n      <td>4</td>\n      <td>8558835</td>\n      <td>SP.POP.TOTL</td>\n    </tr>\n    <tr>\n      <th>4</th>\n      <td>2</td>\n      <td>1990-07-01</td>\n      <td>Australia</td>\n      <td>157329.27900</td>\n      <td>NYGDPMKTPSAKD</td>\n      <td>4</td>\n      <td>8558835</td>\n      <td>SP.POP.TOTL</td>\n    </tr>\n    <tr>\n      <th>5</th>\n      <td>18</td>\n      <td>1990-07-01</td>\n      <td>Sweden</td>\n      <td>79974.36017</td>\n      <td>NYGDPMKTPSAKD</td>\n      <td>4</td>\n      <td>8558835</td>\n      <td>SP.POP.TOTL</td>\n    </tr>\n    <tr>\n      <th>6</th>\n      <td>3</td>\n      <td>1990-09-01</td>\n      <td>Australia</td>\n      <td>158240.67810</td>\n      <td>NYGDPMKTPSAKD</td>\n      <td>4</td>\n      <td>8558835</td>\n      <td>SP.POP.TOTL</td>\n    </tr>\n    <tr>\n      <th>7</th>\n      <td>19</td>\n      <td>1990-09-01</td>\n      <td>Sweden</td>\n      <td>80106.49738</td>\n      <td>NYGDPMKTPSAKD</td>\n      <td>4</td>\n      <td>8558835</td>\n      <td>SP.POP.TOTL</td>\n    </tr>\n    <tr>\n      <th>8</th>\n      <td>4</td>\n      <td>1991-01-01</td>\n      <td>Australia</td>\n      <td>156195.95350</td>\n      <td>NYGDPMKTPSAKD</td>\n      <td>1</td>\n      <td>17284000</td>\n      <td>SP.POP.TOTL</td>\n    </tr>\n    <tr>\n      <th>9</th>\n      <td>20</td>\n      <td>1991-01-01</td>\n      <td>Sweden</td>\n      <td>79524.24192</td>\n      <td>NYGDPMKTPSAKD</td>\n      <td>5</td>\n      <td>8617375</td>\n      <td>SP.POP.TOTL</td>\n    </tr>\n    <tr>\n      <th>10</th>\n      <td>5</td>\n      <td>1991-04-01</td>\n      <td>Australia</td>\n      <td>155989.03270</td>\n      <td>NYGDPMKTPSAKD</td>\n      <td>5</td>\n      <td>8617375</td>\n      <td>SP.POP.TOTL</td>\n    </tr>\n    <tr>\n      <th>11</th>\n      <td>21</td>\n      <td>1991-04-01</td>\n      <td>Sweden</td>\n      <td>79073.05901</td>\n      <td>NYGDPMKTPSAKD</td>\n      <td>5</td>\n      <td>8617375</td>\n      <td>SP.POP.TOTL</td>\n    </tr>\n    <tr>\n      <th>12</th>\n      <td>6</td>\n      <td>1991-07-01</td>\n      <td>Australia</td>\n      <td>156635.85760</td>\n      <td>NYGDPMKTPSAKD</td>\n      <td>5</td>\n      <td>8617375</td>\n      <td>SP.POP.TOTL</td>\n    </tr>\n    <tr>\n      <th>13</th>\n      <td>22</td>\n      <td>1991-07-01</td>\n      <td>Sweden</td>\n      <td>79084.77036</td>\n      <td>NYGDPMKTPSAKD</td>\n      <td>5</td>\n      <td>8617375</td>\n      <td>SP.POP.TOTL</td>\n    </tr>\n    <tr>\n      <th>14</th>\n      <td>7</td>\n      <td>1991-09-01</td>\n      <td>Australia</td>\n      <td>156744.05660</td>\n      <td>NYGDPMKTPSAKD</td>\n      <td>5</td>\n      <td>8617375</td>\n      <td>SP.POP.TOTL</td>\n    </tr>\n    <tr>\n      <th>15</th>\n      <td>23</td>\n      <td>1991-09-01</td>\n      <td>Sweden</td>\n      <td>79740.60625</td>\n      <td>NYGDPMKTPSAKD</td>\n      <td>5</td>\n      <td>8617375</td>\n      <td>SP.POP.TOTL</td>\n    </tr>\n    <tr>\n      <th>16</th>\n      <td>8</td>\n      <td>1992-01-01</td>\n      <td>Australia</td>\n      <td>157916.08110</td>\n      <td>NYGDPMKTPSAKD</td>\n      <td>2</td>\n      <td>17495000</td>\n      <td>SP.POP.TOTL</td>\n    </tr>\n    <tr>\n      <th>17</th>\n      <td>24</td>\n      <td>1992-01-01</td>\n      <td>Sweden</td>\n      <td>79390.92175</td>\n      <td>NYGDPMKTPSAKD</td>\n      <td>6</td>\n      <td>8668067</td>\n      <td>SP.POP.TOTL</td>\n    </tr>\n    <tr>\n      <th>18</th>\n      <td>9</td>\n      <td>1992-04-01</td>\n      <td>Australia</td>\n      <td>159047.82710</td>\n      <td>NYGDPMKTPSAKD</td>\n      <td>6</td>\n      <td>8668067</td>\n      <td>SP.POP.TOTL</td>\n    </tr>\n    <tr>\n      <th>19</th>\n      <td>25</td>\n      <td>1992-04-01</td>\n      <td>Sweden</td>\n      <td>79060.28298</td>\n      <td>NYGDPMKTPSAKD</td>\n      <td>6</td>\n      <td>8668067</td>\n      <td>SP.POP.TOTL</td>\n    </tr>\n    <tr>\n      <th>20</th>\n      <td>10</td>\n      <td>1992-07-01</td>\n      <td>Australia</td>\n      <td>160658.17600</td>\n      <td>NYGDPMKTPSAKD</td>\n      <td>6</td>\n      <td>8668067</td>\n      <td>SP.POP.TOTL</td>\n    </tr>\n    <tr>\n      <th>21</th>\n      <td>26</td>\n      <td>1992-07-01</td>\n      <td>Sweden</td>\n      <td>78904.60477</td>\n      <td>NYGDPMKTPSAKD</td>\n      <td>6</td>\n      <td>8668067</td>\n      <td>SP.POP.TOTL</td>\n    </tr>\n    <tr>\n      <th>22</th>\n      <td>11</td>\n      <td>1992-09-01</td>\n      <td>Australia</td>\n      <td>163960.22070</td>\n      <td>NYGDPMKTPSAKD</td>\n      <td>6</td>\n      <td>8668067</td>\n      <td>SP.POP.TOTL</td>\n    </tr>\n    <tr>\n      <th>23</th>\n      <td>27</td>\n      <td>1992-09-01</td>\n      <td>Sweden</td>\n      <td>76996.83684</td>\n      <td>NYGDPMKTPSAKD</td>\n      <td>6</td>\n      <td>8668067</td>\n      <td>SP.POP.TOTL</td>\n    </tr>\n    <tr>\n      <th>24</th>\n      <td>12</td>\n      <td>1993-01-01</td>\n      <td>Australia</td>\n      <td>165097.49510</td>\n      <td>NYGDPMKTPSAKD</td>\n      <td>3</td>\n      <td>17667000</td>\n      <td>SP.POP.TOTL</td>\n    </tr>\n    <tr>\n      <th>25</th>\n      <td>28</td>\n      <td>1993-01-01</td>\n      <td>Sweden</td>\n      <td>75783.58777</td>\n      <td>NYGDPMKTPSAKD</td>\n      <td>7</td>\n      <td>8718561</td>\n      <td>SP.POP.TOTL</td>\n    </tr>\n    <tr>\n      <th>26</th>\n      <td>13</td>\n      <td>1993-04-01</td>\n      <td>Australia</td>\n      <td>166027.05900</td>\n      <td>NYGDPMKTPSAKD</td>\n      <td>7</td>\n      <td>8718561</td>\n      <td>SP.POP.TOTL</td>\n    </tr>\n    <tr>\n      <th>27</th>\n      <td>29</td>\n      <td>1993-04-01</td>\n      <td>Sweden</td>\n      <td>76708.54823</td>\n      <td>NYGDPMKTPSAKD</td>\n      <td>7</td>\n      <td>8718561</td>\n      <td>SP.POP.TOTL</td>\n    </tr>\n    <tr>\n      <th>28</th>\n      <td>14</td>\n      <td>1993-07-01</td>\n      <td>Australia</td>\n      <td>166203.17860</td>\n      <td>NYGDPMKTPSAKD</td>\n      <td>7</td>\n      <td>8718561</td>\n      <td>SP.POP.TOTL</td>\n    </tr>\n    <tr>\n      <th>29</th>\n      <td>30</td>\n      <td>1993-07-01</td>\n      <td>Sweden</td>\n      <td>77662.01816</td>\n      <td>NYGDPMKTPSAKD</td>\n      <td>7</td>\n      <td>8718561</td>\n      <td>SP.POP.TOTL</td>\n    </tr>\n    <tr>\n      <th>30</th>\n      <td>15</td>\n      <td>1993-09-01</td>\n      <td>Australia</td>\n      <td>169279.34790</td>\n      <td>NYGDPMKTPSAKD</td>\n      <td>7</td>\n      <td>8718561</td>\n      <td>SP.POP.TOTL</td>\n    </tr>\n    <tr>\n      <th>31</th>\n      <td>31</td>\n      <td>1993-09-01</td>\n      <td>Sweden</td>\n      <td>77703.30364</td>\n      <td>NYGDPMKTPSAKD</td>\n      <td>7</td>\n      <td>8718561</td>\n      <td>SP.POP.TOTL</td>\n    </tr>\n  </tbody>\n</table>\n</div>"
     },
     "metadata": {},
     "execution_count": 15
    }
   ],
   "source": [
    "# Merge gdp and pop on date and country with fill and notice rows 2 and 3\n",
    "ctry_date = pd.merge_ordered(gdp, pop, on=['date','country'], \n",
    "                             fill_method='ffill')\n",
    "\n",
    "# Print ctry_date\n",
    "ctry_date"
   ]
  },
  {
   "cell_type": "code",
   "execution_count": 16,
   "metadata": {},
   "outputs": [
    {
     "output_type": "execute_result",
     "data": {
      "text/plain": [
       "    Unnamed: 0_x        date    country           gdp  series_code_x  \\\n",
       "0              0  1990-01-01  Australia  158051.13240  NYGDPMKTPSAKD   \n",
       "1              1  1990-04-01  Australia  158263.58160  NYGDPMKTPSAKD   \n",
       "2              2  1990-07-01  Australia  157329.27900  NYGDPMKTPSAKD   \n",
       "3              3  1990-09-01  Australia  158240.67810  NYGDPMKTPSAKD   \n",
       "4              4  1991-01-01  Australia  156195.95350  NYGDPMKTPSAKD   \n",
       "5              5  1991-04-01  Australia  155989.03270  NYGDPMKTPSAKD   \n",
       "6              6  1991-07-01  Australia  156635.85760  NYGDPMKTPSAKD   \n",
       "7              7  1991-09-01  Australia  156744.05660  NYGDPMKTPSAKD   \n",
       "8              8  1992-01-01  Australia  157916.08110  NYGDPMKTPSAKD   \n",
       "9              9  1992-04-01  Australia  159047.82710  NYGDPMKTPSAKD   \n",
       "10            10  1992-07-01  Australia  160658.17600  NYGDPMKTPSAKD   \n",
       "11            11  1992-09-01  Australia  163960.22070  NYGDPMKTPSAKD   \n",
       "12            12  1993-01-01  Australia  165097.49510  NYGDPMKTPSAKD   \n",
       "13            13  1993-04-01  Australia  166027.05900  NYGDPMKTPSAKD   \n",
       "14            14  1993-07-01  Australia  166203.17860  NYGDPMKTPSAKD   \n",
       "15            15  1993-09-01  Australia  169279.34790  NYGDPMKTPSAKD   \n",
       "16            16  1990-01-01     Sweden   79837.84599  NYGDPMKTPSAKD   \n",
       "17            17  1990-04-01     Sweden   80582.28597  NYGDPMKTPSAKD   \n",
       "18            18  1990-07-01     Sweden   79974.36017  NYGDPMKTPSAKD   \n",
       "19            19  1990-09-01     Sweden   80106.49738  NYGDPMKTPSAKD   \n",
       "20            20  1991-01-01     Sweden   79524.24192  NYGDPMKTPSAKD   \n",
       "21            21  1991-04-01     Sweden   79073.05901  NYGDPMKTPSAKD   \n",
       "22            22  1991-07-01     Sweden   79084.77036  NYGDPMKTPSAKD   \n",
       "23            23  1991-09-01     Sweden   79740.60625  NYGDPMKTPSAKD   \n",
       "24            24  1992-01-01     Sweden   79390.92175  NYGDPMKTPSAKD   \n",
       "25            25  1992-04-01     Sweden   79060.28298  NYGDPMKTPSAKD   \n",
       "26            26  1992-07-01     Sweden   78904.60477  NYGDPMKTPSAKD   \n",
       "27            27  1992-09-01     Sweden   76996.83684  NYGDPMKTPSAKD   \n",
       "28            28  1993-01-01     Sweden   75783.58777  NYGDPMKTPSAKD   \n",
       "29            29  1993-04-01     Sweden   76708.54823  NYGDPMKTPSAKD   \n",
       "30            30  1993-07-01     Sweden   77662.01816  NYGDPMKTPSAKD   \n",
       "31            31  1993-09-01     Sweden   77703.30364  NYGDPMKTPSAKD   \n",
       "\n",
       "    Unnamed: 0_y       pop series_code_y  \n",
       "0              0  17065100   SP.POP.TOTL  \n",
       "1              0  17065100   SP.POP.TOTL  \n",
       "2              0  17065100   SP.POP.TOTL  \n",
       "3              0  17065100   SP.POP.TOTL  \n",
       "4              1  17284000   SP.POP.TOTL  \n",
       "5              1  17284000   SP.POP.TOTL  \n",
       "6              1  17284000   SP.POP.TOTL  \n",
       "7              1  17284000   SP.POP.TOTL  \n",
       "8              2  17495000   SP.POP.TOTL  \n",
       "9              2  17495000   SP.POP.TOTL  \n",
       "10             2  17495000   SP.POP.TOTL  \n",
       "11             2  17495000   SP.POP.TOTL  \n",
       "12             3  17667000   SP.POP.TOTL  \n",
       "13             3  17667000   SP.POP.TOTL  \n",
       "14             3  17667000   SP.POP.TOTL  \n",
       "15             3  17667000   SP.POP.TOTL  \n",
       "16             4   8558835   SP.POP.TOTL  \n",
       "17             4   8558835   SP.POP.TOTL  \n",
       "18             4   8558835   SP.POP.TOTL  \n",
       "19             4   8558835   SP.POP.TOTL  \n",
       "20             5   8617375   SP.POP.TOTL  \n",
       "21             5   8617375   SP.POP.TOTL  \n",
       "22             5   8617375   SP.POP.TOTL  \n",
       "23             5   8617375   SP.POP.TOTL  \n",
       "24             6   8668067   SP.POP.TOTL  \n",
       "25             6   8668067   SP.POP.TOTL  \n",
       "26             6   8668067   SP.POP.TOTL  \n",
       "27             6   8668067   SP.POP.TOTL  \n",
       "28             7   8718561   SP.POP.TOTL  \n",
       "29             7   8718561   SP.POP.TOTL  \n",
       "30             7   8718561   SP.POP.TOTL  \n",
       "31             7   8718561   SP.POP.TOTL  "
      ],
      "text/html": "<div>\n<style scoped>\n    .dataframe tbody tr th:only-of-type {\n        vertical-align: middle;\n    }\n\n    .dataframe tbody tr th {\n        vertical-align: top;\n    }\n\n    .dataframe thead th {\n        text-align: right;\n    }\n</style>\n<table border=\"1\" class=\"dataframe\">\n  <thead>\n    <tr style=\"text-align: right;\">\n      <th></th>\n      <th>Unnamed: 0_x</th>\n      <th>date</th>\n      <th>country</th>\n      <th>gdp</th>\n      <th>series_code_x</th>\n      <th>Unnamed: 0_y</th>\n      <th>pop</th>\n      <th>series_code_y</th>\n    </tr>\n  </thead>\n  <tbody>\n    <tr>\n      <th>0</th>\n      <td>0</td>\n      <td>1990-01-01</td>\n      <td>Australia</td>\n      <td>158051.13240</td>\n      <td>NYGDPMKTPSAKD</td>\n      <td>0</td>\n      <td>17065100</td>\n      <td>SP.POP.TOTL</td>\n    </tr>\n    <tr>\n      <th>1</th>\n      <td>1</td>\n      <td>1990-04-01</td>\n      <td>Australia</td>\n      <td>158263.58160</td>\n      <td>NYGDPMKTPSAKD</td>\n      <td>0</td>\n      <td>17065100</td>\n      <td>SP.POP.TOTL</td>\n    </tr>\n    <tr>\n      <th>2</th>\n      <td>2</td>\n      <td>1990-07-01</td>\n      <td>Australia</td>\n      <td>157329.27900</td>\n      <td>NYGDPMKTPSAKD</td>\n      <td>0</td>\n      <td>17065100</td>\n      <td>SP.POP.TOTL</td>\n    </tr>\n    <tr>\n      <th>3</th>\n      <td>3</td>\n      <td>1990-09-01</td>\n      <td>Australia</td>\n      <td>158240.67810</td>\n      <td>NYGDPMKTPSAKD</td>\n      <td>0</td>\n      <td>17065100</td>\n      <td>SP.POP.TOTL</td>\n    </tr>\n    <tr>\n      <th>4</th>\n      <td>4</td>\n      <td>1991-01-01</td>\n      <td>Australia</td>\n      <td>156195.95350</td>\n      <td>NYGDPMKTPSAKD</td>\n      <td>1</td>\n      <td>17284000</td>\n      <td>SP.POP.TOTL</td>\n    </tr>\n    <tr>\n      <th>5</th>\n      <td>5</td>\n      <td>1991-04-01</td>\n      <td>Australia</td>\n      <td>155989.03270</td>\n      <td>NYGDPMKTPSAKD</td>\n      <td>1</td>\n      <td>17284000</td>\n      <td>SP.POP.TOTL</td>\n    </tr>\n    <tr>\n      <th>6</th>\n      <td>6</td>\n      <td>1991-07-01</td>\n      <td>Australia</td>\n      <td>156635.85760</td>\n      <td>NYGDPMKTPSAKD</td>\n      <td>1</td>\n      <td>17284000</td>\n      <td>SP.POP.TOTL</td>\n    </tr>\n    <tr>\n      <th>7</th>\n      <td>7</td>\n      <td>1991-09-01</td>\n      <td>Australia</td>\n      <td>156744.05660</td>\n      <td>NYGDPMKTPSAKD</td>\n      <td>1</td>\n      <td>17284000</td>\n      <td>SP.POP.TOTL</td>\n    </tr>\n    <tr>\n      <th>8</th>\n      <td>8</td>\n      <td>1992-01-01</td>\n      <td>Australia</td>\n      <td>157916.08110</td>\n      <td>NYGDPMKTPSAKD</td>\n      <td>2</td>\n      <td>17495000</td>\n      <td>SP.POP.TOTL</td>\n    </tr>\n    <tr>\n      <th>9</th>\n      <td>9</td>\n      <td>1992-04-01</td>\n      <td>Australia</td>\n      <td>159047.82710</td>\n      <td>NYGDPMKTPSAKD</td>\n      <td>2</td>\n      <td>17495000</td>\n      <td>SP.POP.TOTL</td>\n    </tr>\n    <tr>\n      <th>10</th>\n      <td>10</td>\n      <td>1992-07-01</td>\n      <td>Australia</td>\n      <td>160658.17600</td>\n      <td>NYGDPMKTPSAKD</td>\n      <td>2</td>\n      <td>17495000</td>\n      <td>SP.POP.TOTL</td>\n    </tr>\n    <tr>\n      <th>11</th>\n      <td>11</td>\n      <td>1992-09-01</td>\n      <td>Australia</td>\n      <td>163960.22070</td>\n      <td>NYGDPMKTPSAKD</td>\n      <td>2</td>\n      <td>17495000</td>\n      <td>SP.POP.TOTL</td>\n    </tr>\n    <tr>\n      <th>12</th>\n      <td>12</td>\n      <td>1993-01-01</td>\n      <td>Australia</td>\n      <td>165097.49510</td>\n      <td>NYGDPMKTPSAKD</td>\n      <td>3</td>\n      <td>17667000</td>\n      <td>SP.POP.TOTL</td>\n    </tr>\n    <tr>\n      <th>13</th>\n      <td>13</td>\n      <td>1993-04-01</td>\n      <td>Australia</td>\n      <td>166027.05900</td>\n      <td>NYGDPMKTPSAKD</td>\n      <td>3</td>\n      <td>17667000</td>\n      <td>SP.POP.TOTL</td>\n    </tr>\n    <tr>\n      <th>14</th>\n      <td>14</td>\n      <td>1993-07-01</td>\n      <td>Australia</td>\n      <td>166203.17860</td>\n      <td>NYGDPMKTPSAKD</td>\n      <td>3</td>\n      <td>17667000</td>\n      <td>SP.POP.TOTL</td>\n    </tr>\n    <tr>\n      <th>15</th>\n      <td>15</td>\n      <td>1993-09-01</td>\n      <td>Australia</td>\n      <td>169279.34790</td>\n      <td>NYGDPMKTPSAKD</td>\n      <td>3</td>\n      <td>17667000</td>\n      <td>SP.POP.TOTL</td>\n    </tr>\n    <tr>\n      <th>16</th>\n      <td>16</td>\n      <td>1990-01-01</td>\n      <td>Sweden</td>\n      <td>79837.84599</td>\n      <td>NYGDPMKTPSAKD</td>\n      <td>4</td>\n      <td>8558835</td>\n      <td>SP.POP.TOTL</td>\n    </tr>\n    <tr>\n      <th>17</th>\n      <td>17</td>\n      <td>1990-04-01</td>\n      <td>Sweden</td>\n      <td>80582.28597</td>\n      <td>NYGDPMKTPSAKD</td>\n      <td>4</td>\n      <td>8558835</td>\n      <td>SP.POP.TOTL</td>\n    </tr>\n    <tr>\n      <th>18</th>\n      <td>18</td>\n      <td>1990-07-01</td>\n      <td>Sweden</td>\n      <td>79974.36017</td>\n      <td>NYGDPMKTPSAKD</td>\n      <td>4</td>\n      <td>8558835</td>\n      <td>SP.POP.TOTL</td>\n    </tr>\n    <tr>\n      <th>19</th>\n      <td>19</td>\n      <td>1990-09-01</td>\n      <td>Sweden</td>\n      <td>80106.49738</td>\n      <td>NYGDPMKTPSAKD</td>\n      <td>4</td>\n      <td>8558835</td>\n      <td>SP.POP.TOTL</td>\n    </tr>\n    <tr>\n      <th>20</th>\n      <td>20</td>\n      <td>1991-01-01</td>\n      <td>Sweden</td>\n      <td>79524.24192</td>\n      <td>NYGDPMKTPSAKD</td>\n      <td>5</td>\n      <td>8617375</td>\n      <td>SP.POP.TOTL</td>\n    </tr>\n    <tr>\n      <th>21</th>\n      <td>21</td>\n      <td>1991-04-01</td>\n      <td>Sweden</td>\n      <td>79073.05901</td>\n      <td>NYGDPMKTPSAKD</td>\n      <td>5</td>\n      <td>8617375</td>\n      <td>SP.POP.TOTL</td>\n    </tr>\n    <tr>\n      <th>22</th>\n      <td>22</td>\n      <td>1991-07-01</td>\n      <td>Sweden</td>\n      <td>79084.77036</td>\n      <td>NYGDPMKTPSAKD</td>\n      <td>5</td>\n      <td>8617375</td>\n      <td>SP.POP.TOTL</td>\n    </tr>\n    <tr>\n      <th>23</th>\n      <td>23</td>\n      <td>1991-09-01</td>\n      <td>Sweden</td>\n      <td>79740.60625</td>\n      <td>NYGDPMKTPSAKD</td>\n      <td>5</td>\n      <td>8617375</td>\n      <td>SP.POP.TOTL</td>\n    </tr>\n    <tr>\n      <th>24</th>\n      <td>24</td>\n      <td>1992-01-01</td>\n      <td>Sweden</td>\n      <td>79390.92175</td>\n      <td>NYGDPMKTPSAKD</td>\n      <td>6</td>\n      <td>8668067</td>\n      <td>SP.POP.TOTL</td>\n    </tr>\n    <tr>\n      <th>25</th>\n      <td>25</td>\n      <td>1992-04-01</td>\n      <td>Sweden</td>\n      <td>79060.28298</td>\n      <td>NYGDPMKTPSAKD</td>\n      <td>6</td>\n      <td>8668067</td>\n      <td>SP.POP.TOTL</td>\n    </tr>\n    <tr>\n      <th>26</th>\n      <td>26</td>\n      <td>1992-07-01</td>\n      <td>Sweden</td>\n      <td>78904.60477</td>\n      <td>NYGDPMKTPSAKD</td>\n      <td>6</td>\n      <td>8668067</td>\n      <td>SP.POP.TOTL</td>\n    </tr>\n    <tr>\n      <th>27</th>\n      <td>27</td>\n      <td>1992-09-01</td>\n      <td>Sweden</td>\n      <td>76996.83684</td>\n      <td>NYGDPMKTPSAKD</td>\n      <td>6</td>\n      <td>8668067</td>\n      <td>SP.POP.TOTL</td>\n    </tr>\n    <tr>\n      <th>28</th>\n      <td>28</td>\n      <td>1993-01-01</td>\n      <td>Sweden</td>\n      <td>75783.58777</td>\n      <td>NYGDPMKTPSAKD</td>\n      <td>7</td>\n      <td>8718561</td>\n      <td>SP.POP.TOTL</td>\n    </tr>\n    <tr>\n      <th>29</th>\n      <td>29</td>\n      <td>1993-04-01</td>\n      <td>Sweden</td>\n      <td>76708.54823</td>\n      <td>NYGDPMKTPSAKD</td>\n      <td>7</td>\n      <td>8718561</td>\n      <td>SP.POP.TOTL</td>\n    </tr>\n    <tr>\n      <th>30</th>\n      <td>30</td>\n      <td>1993-07-01</td>\n      <td>Sweden</td>\n      <td>77662.01816</td>\n      <td>NYGDPMKTPSAKD</td>\n      <td>7</td>\n      <td>8718561</td>\n      <td>SP.POP.TOTL</td>\n    </tr>\n    <tr>\n      <th>31</th>\n      <td>31</td>\n      <td>1993-09-01</td>\n      <td>Sweden</td>\n      <td>77703.30364</td>\n      <td>NYGDPMKTPSAKD</td>\n      <td>7</td>\n      <td>8718561</td>\n      <td>SP.POP.TOTL</td>\n    </tr>\n  </tbody>\n</table>\n</div>"
     },
     "metadata": {},
     "execution_count": 16
    }
   ],
   "source": [
    "# Merge gdp and pop on country and date with fill\n",
    "date_ctry = pd.merge_ordered(gdp, pop, on=['country','date'], \n",
    "                             fill_method='ffill')\n",
    "\n",
    "# Print date_ctry\n",
    "date_ctry"
   ]
  },
  {
   "source": [
    "## Using merge_asof() to study stocks\n",
    "You have a feed of stock market prices that you record. You attempt to track the price every five minutes. Still, due to some network latency, the prices you record are roughly every 5 minutes. You pull your price logs for three banks, JP Morgan (JPM), Wells Fargo (WFC), and Bank Of America (BAC). You want to know how the price change of the two other banks compare to JP Morgan. Therefore, you will need to merge these three logs into one table. Afterward, you will use the `pandas` `.diff()` method to compute the price change over time. Finally, plot the price changes so you can review your analysis.\n",
    "\n",
    "The three log files have been loaded for you as tables named `jpm`, `wells`, and `bac`.\n",
    "\n",
    "Instructions\n",
    "\n",
    "- Use `merge_asof()` to merge `jpm` (left table) and `wells` together on the `date_time` column, where the rows with the **nearest** times are matched, and with `suffixes=('', '_wells')`. Save to `jpm_wells`.\n",
    "- Use `merge_asof()` to merge `jpm_wells` (left table) and `bac` together on the `date_time` column, where the rows with the closest times are matched, and with `suffixes=('_jpm', '_bac')`. Save to `jpm_wells_bac`.\n",
    "- Using `price_diffs`, create a line plot of the close price of JPM, WFC, and BAC only."
   ],
   "cell_type": "markdown",
   "metadata": {}
  },
  {
   "cell_type": "code",
   "execution_count": 21,
   "metadata": {},
   "outputs": [],
   "source": [
    "# Import the DataFrames\n",
    "jpm = pd.read_csv('jpm.csv')\n",
    "wells = pd.read_csv('wells.csv')\n",
    "bac = pd.read_csv('bac.csv')"
   ]
  },
  {
   "cell_type": "code",
   "execution_count": 29,
   "metadata": {},
   "outputs": [
    {
     "output_type": "error",
     "ename": "TypeError",
     "evalue": "No matching signature found",
     "traceback": [
      "\u001b[0;31m---------------------------------------------------------------------------\u001b[0m",
      "\u001b[0;31mTypeError\u001b[0m                                 Traceback (most recent call last)",
      "\u001b[0;32m<ipython-input-29-3727661d45a2>\u001b[0m in \u001b[0;36m<module>\u001b[0;34m\u001b[0m\n\u001b[1;32m      1\u001b[0m \u001b[0;31m# Use merge_asof() to merge jpm and wells\u001b[0m\u001b[0;34m\u001b[0m\u001b[0;34m\u001b[0m\u001b[0;34m\u001b[0m\u001b[0m\n\u001b[0;32m----> 2\u001b[0;31m \u001b[0mjpm_wells\u001b[0m \u001b[0;34m=\u001b[0m \u001b[0mpd\u001b[0m\u001b[0;34m.\u001b[0m\u001b[0mmerge_asof\u001b[0m\u001b[0;34m(\u001b[0m\u001b[0mjpm\u001b[0m\u001b[0;34m,\u001b[0m \u001b[0mwells\u001b[0m\u001b[0;34m,\u001b[0m \u001b[0mon\u001b[0m\u001b[0;34m=\u001b[0m\u001b[0;34m'date_time'\u001b[0m\u001b[0;34m,\u001b[0m \u001b[0msuffixes\u001b[0m\u001b[0;34m=\u001b[0m\u001b[0;34m(\u001b[0m\u001b[0;34m''\u001b[0m\u001b[0;34m,\u001b[0m \u001b[0;34m'_wells'\u001b[0m\u001b[0;34m)\u001b[0m\u001b[0;34m,\u001b[0m \u001b[0mdirection\u001b[0m\u001b[0;34m=\u001b[0m\u001b[0;34m'nearest'\u001b[0m\u001b[0;34m)\u001b[0m\u001b[0;34m\u001b[0m\u001b[0;34m\u001b[0m\u001b[0m\n\u001b[0m\u001b[1;32m      3\u001b[0m \u001b[0;34m\u001b[0m\u001b[0m\n\u001b[1;32m      4\u001b[0m \u001b[0;31m# Use merge_asof() to merge jpm_wells and bac\u001b[0m\u001b[0;34m\u001b[0m\u001b[0;34m\u001b[0m\u001b[0;34m\u001b[0m\u001b[0m\n\u001b[1;32m      5\u001b[0m \u001b[0mjpm_wells_bac\u001b[0m \u001b[0;34m=\u001b[0m \u001b[0mpd\u001b[0m\u001b[0;34m.\u001b[0m\u001b[0mmerge_asof\u001b[0m\u001b[0;34m(\u001b[0m\u001b[0mjpm_wells\u001b[0m\u001b[0;34m,\u001b[0m \u001b[0mbac\u001b[0m\u001b[0;34m,\u001b[0m \u001b[0mon\u001b[0m\u001b[0;34m=\u001b[0m\u001b[0;34m'date_time'\u001b[0m\u001b[0;34m,\u001b[0m \u001b[0msuffixes\u001b[0m\u001b[0;34m=\u001b[0m\u001b[0;34m(\u001b[0m\u001b[0;34m'_jpm'\u001b[0m\u001b[0;34m,\u001b[0m \u001b[0;34m'_bac'\u001b[0m\u001b[0;34m)\u001b[0m\u001b[0;34m,\u001b[0m \u001b[0mdirection\u001b[0m\u001b[0;34m=\u001b[0m\u001b[0;34m'nearest'\u001b[0m\u001b[0;34m)\u001b[0m\u001b[0;34m\u001b[0m\u001b[0;34m\u001b[0m\u001b[0m\n",
      "\u001b[0;32m~/.local/lib/python3.8/site-packages/pandas/core/reshape/merge.py\u001b[0m in \u001b[0;36mmerge_asof\u001b[0;34m(left, right, on, left_on, right_on, left_index, right_index, by, left_by, right_by, suffixes, tolerance, allow_exact_matches, direction)\u001b[0m\n\u001b[1;32m    566\u001b[0m         \u001b[0mdirection\u001b[0m\u001b[0;34m=\u001b[0m\u001b[0mdirection\u001b[0m\u001b[0;34m,\u001b[0m\u001b[0;34m\u001b[0m\u001b[0;34m\u001b[0m\u001b[0m\n\u001b[1;32m    567\u001b[0m     )\n\u001b[0;32m--> 568\u001b[0;31m     \u001b[0;32mreturn\u001b[0m \u001b[0mop\u001b[0m\u001b[0;34m.\u001b[0m\u001b[0mget_result\u001b[0m\u001b[0;34m(\u001b[0m\u001b[0;34m)\u001b[0m\u001b[0;34m\u001b[0m\u001b[0;34m\u001b[0m\u001b[0m\n\u001b[0m\u001b[1;32m    569\u001b[0m \u001b[0;34m\u001b[0m\u001b[0m\n\u001b[1;32m    570\u001b[0m \u001b[0;34m\u001b[0m\u001b[0m\n",
      "\u001b[0;32m~/.local/lib/python3.8/site-packages/pandas/core/reshape/merge.py\u001b[0m in \u001b[0;36mget_result\u001b[0;34m(self)\u001b[0m\n\u001b[1;32m   1572\u001b[0m \u001b[0;34m\u001b[0m\u001b[0m\n\u001b[1;32m   1573\u001b[0m     \u001b[0;32mdef\u001b[0m \u001b[0mget_result\u001b[0m\u001b[0;34m(\u001b[0m\u001b[0mself\u001b[0m\u001b[0;34m)\u001b[0m\u001b[0;34m:\u001b[0m\u001b[0;34m\u001b[0m\u001b[0;34m\u001b[0m\u001b[0m\n\u001b[0;32m-> 1574\u001b[0;31m         \u001b[0mjoin_index\u001b[0m\u001b[0;34m,\u001b[0m \u001b[0mleft_indexer\u001b[0m\u001b[0;34m,\u001b[0m \u001b[0mright_indexer\u001b[0m \u001b[0;34m=\u001b[0m \u001b[0mself\u001b[0m\u001b[0;34m.\u001b[0m\u001b[0m_get_join_info\u001b[0m\u001b[0;34m(\u001b[0m\u001b[0;34m)\u001b[0m\u001b[0;34m\u001b[0m\u001b[0;34m\u001b[0m\u001b[0m\n\u001b[0m\u001b[1;32m   1575\u001b[0m \u001b[0;34m\u001b[0m\u001b[0m\n\u001b[1;32m   1576\u001b[0m         llabels, rlabels = _items_overlap_with_suffix(\n",
      "\u001b[0;32m~/.local/lib/python3.8/site-packages/pandas/core/reshape/merge.py\u001b[0m in \u001b[0;36m_get_join_info\u001b[0;34m(self)\u001b[0m\n\u001b[1;32m    907\u001b[0m             )\n\u001b[1;32m    908\u001b[0m         \u001b[0;32melse\u001b[0m\u001b[0;34m:\u001b[0m\u001b[0;34m\u001b[0m\u001b[0;34m\u001b[0m\u001b[0m\n\u001b[0;32m--> 909\u001b[0;31m             \u001b[0;34m(\u001b[0m\u001b[0mleft_indexer\u001b[0m\u001b[0;34m,\u001b[0m \u001b[0mright_indexer\u001b[0m\u001b[0;34m)\u001b[0m \u001b[0;34m=\u001b[0m \u001b[0mself\u001b[0m\u001b[0;34m.\u001b[0m\u001b[0m_get_join_indexers\u001b[0m\u001b[0;34m(\u001b[0m\u001b[0;34m)\u001b[0m\u001b[0;34m\u001b[0m\u001b[0;34m\u001b[0m\u001b[0m\n\u001b[0m\u001b[1;32m    910\u001b[0m \u001b[0;34m\u001b[0m\u001b[0m\n\u001b[1;32m    911\u001b[0m             \u001b[0;32mif\u001b[0m \u001b[0mself\u001b[0m\u001b[0;34m.\u001b[0m\u001b[0mright_index\u001b[0m\u001b[0;34m:\u001b[0m\u001b[0;34m\u001b[0m\u001b[0;34m\u001b[0m\u001b[0m\n",
      "\u001b[0;32m~/.local/lib/python3.8/site-packages/pandas/core/reshape/merge.py\u001b[0m in \u001b[0;36m_get_join_indexers\u001b[0;34m(self)\u001b[0m\n\u001b[1;32m   1878\u001b[0m             \u001b[0;31m# choose appropriate function by type\u001b[0m\u001b[0;34m\u001b[0m\u001b[0;34m\u001b[0m\u001b[0;34m\u001b[0m\u001b[0m\n\u001b[1;32m   1879\u001b[0m             \u001b[0mfunc\u001b[0m \u001b[0;34m=\u001b[0m \u001b[0m_asof_function\u001b[0m\u001b[0;34m(\u001b[0m\u001b[0mself\u001b[0m\u001b[0;34m.\u001b[0m\u001b[0mdirection\u001b[0m\u001b[0;34m)\u001b[0m\u001b[0;34m\u001b[0m\u001b[0;34m\u001b[0m\u001b[0m\n\u001b[0;32m-> 1880\u001b[0;31m             \u001b[0;32mreturn\u001b[0m \u001b[0mfunc\u001b[0m\u001b[0;34m(\u001b[0m\u001b[0mleft_values\u001b[0m\u001b[0;34m,\u001b[0m \u001b[0mright_values\u001b[0m\u001b[0;34m,\u001b[0m \u001b[0mself\u001b[0m\u001b[0;34m.\u001b[0m\u001b[0mallow_exact_matches\u001b[0m\u001b[0;34m,\u001b[0m \u001b[0mtolerance\u001b[0m\u001b[0;34m)\u001b[0m\u001b[0;34m\u001b[0m\u001b[0;34m\u001b[0m\u001b[0m\n\u001b[0m\u001b[1;32m   1881\u001b[0m \u001b[0;34m\u001b[0m\u001b[0m\n\u001b[1;32m   1882\u001b[0m \u001b[0;34m\u001b[0m\u001b[0m\n",
      "\u001b[0;32mpandas/_libs/join.pyx\u001b[0m in \u001b[0;36mpandas._libs.join.__pyx_fused_cpdef\u001b[0;34m()\u001b[0m\n",
      "\u001b[0;31mTypeError\u001b[0m: No matching signature found"
     ]
    }
   ],
   "source": [
    "# Use merge_asof() to merge jpm and wells\n",
    "jpm_wells = pd.merge_asof(jpm, wells, on='date_time', suffixes=('', '_wells'), direction='nearest')\n",
    "\n",
    "# Use merge_asof() to merge jpm_wells and bac\n",
    "jpm_wells_bac = pd.merge_asof(jpm_wells, bac, on='date_time', suffixes=('_jpm', '_bac'), direction='nearest')\n",
    "\n",
    "# Compute price diff\n",
    "price_diffs = jpm_wells_bac.diff()\n",
    "\n",
    "# Plot the price diff of the close of jpm, wells and bac only\n",
    "price_diffs.plot(y=['close_jpm','close_wells','close_bac'])\n",
    "plt.show()"
   ]
  },
  {
   "source": [
    "## Using merge_asof() to create dataset\n",
    "The `merge_asof()` function can be used to create datasets where you have a table of start and stop dates, and you want to use them to create a flag in another table. You have been given `gdp`, which is a table of quarterly GDP values of the US during the 1980s. Additionally, the table `recession` has been given to you. It holds the starting date of every US recession since 1980, and the date when the recession was declared to be over. Use `merge_asof()` to merge the tables and create a status flag if a quarter was during a recession. Finally, to check your work, plot the data in a bar chart.\n",
    "\n",
    "The tables `gdp_80s` and `recession` have been loaded for you.\n",
    "\n",
    "Instructions\n",
    "\n",
    "- Using `merge_asof()`, merge `gdp` and `recession` on date, with `gdp` as the left table. Save to the variable `gdp_recession`.\n",
    "- Create a `list` using a list comprehension and a conditional expression, named `is_recession`, where for each row if the `gdp_recession['econ_status']` value is equal to 'recession' then enter `'r'` else `'g'`.\n",
    "- Using `gdp_recession`, plot a bar chart of `gdp` versus `date`, setting the `color` argument equal to `is_recession`."
   ],
   "cell_type": "markdown",
   "metadata": {}
  },
  {
   "cell_type": "code",
   "execution_count": 34,
   "metadata": {},
   "outputs": [],
   "source": [
    "# Import the DataFrames\n",
    "gdp_80s = pd.read_csv('gdp_80s.csv')\n",
    "recession = pd.read_csv('recession.csv')"
   ]
  },
  {
   "cell_type": "code",
   "execution_count": 36,
   "metadata": {},
   "outputs": [
    {
     "output_type": "error",
     "ename": "ValueError",
     "evalue": "left keys must be sorted",
     "traceback": [
      "\u001b[0;31m---------------------------------------------------------------------------\u001b[0m",
      "\u001b[0;31mValueError\u001b[0m                                Traceback (most recent call last)",
      "\u001b[0;32m<ipython-input-36-ce36d83bcb10>\u001b[0m in \u001b[0;36m<module>\u001b[0;34m\u001b[0m\n\u001b[1;32m      1\u001b[0m \u001b[0;31m# Merge gdp and recession on date using merge_asof()\u001b[0m\u001b[0;34m\u001b[0m\u001b[0;34m\u001b[0m\u001b[0;34m\u001b[0m\u001b[0m\n\u001b[0;32m----> 2\u001b[0;31m \u001b[0mgdp_recession\u001b[0m \u001b[0;34m=\u001b[0m \u001b[0mpd\u001b[0m\u001b[0;34m.\u001b[0m\u001b[0mmerge_asof\u001b[0m\u001b[0;34m(\u001b[0m\u001b[0mgdp\u001b[0m\u001b[0;34m,\u001b[0m \u001b[0mrecession\u001b[0m\u001b[0;34m,\u001b[0m \u001b[0mon\u001b[0m\u001b[0;34m=\u001b[0m\u001b[0;34m'date'\u001b[0m\u001b[0;34m)\u001b[0m\u001b[0;34m\u001b[0m\u001b[0;34m\u001b[0m\u001b[0m\n\u001b[0m\u001b[1;32m      3\u001b[0m \u001b[0;34m\u001b[0m\u001b[0m\n\u001b[1;32m      4\u001b[0m \u001b[0;31m# Create a list based on the row value of gdp_recession['econ_status']\u001b[0m\u001b[0;34m\u001b[0m\u001b[0;34m\u001b[0m\u001b[0;34m\u001b[0m\u001b[0m\n\u001b[1;32m      5\u001b[0m \u001b[0;31m#is_recession = ['r' if s=='recession' else 'g' for s in gdp_recession['econ_status']]\u001b[0m\u001b[0;34m\u001b[0m\u001b[0;34m\u001b[0m\u001b[0;34m\u001b[0m\u001b[0m\n",
      "\u001b[0;32m~/.local/lib/python3.8/site-packages/pandas/core/reshape/merge.py\u001b[0m in \u001b[0;36mmerge_asof\u001b[0;34m(left, right, on, left_on, right_on, left_index, right_index, by, left_by, right_by, suffixes, tolerance, allow_exact_matches, direction)\u001b[0m\n\u001b[1;32m    566\u001b[0m         \u001b[0mdirection\u001b[0m\u001b[0;34m=\u001b[0m\u001b[0mdirection\u001b[0m\u001b[0;34m,\u001b[0m\u001b[0;34m\u001b[0m\u001b[0;34m\u001b[0m\u001b[0m\n\u001b[1;32m    567\u001b[0m     )\n\u001b[0;32m--> 568\u001b[0;31m     \u001b[0;32mreturn\u001b[0m \u001b[0mop\u001b[0m\u001b[0;34m.\u001b[0m\u001b[0mget_result\u001b[0m\u001b[0;34m(\u001b[0m\u001b[0;34m)\u001b[0m\u001b[0;34m\u001b[0m\u001b[0;34m\u001b[0m\u001b[0m\n\u001b[0m\u001b[1;32m    569\u001b[0m \u001b[0;34m\u001b[0m\u001b[0m\n\u001b[1;32m    570\u001b[0m \u001b[0;34m\u001b[0m\u001b[0m\n",
      "\u001b[0;32m~/.local/lib/python3.8/site-packages/pandas/core/reshape/merge.py\u001b[0m in \u001b[0;36mget_result\u001b[0;34m(self)\u001b[0m\n\u001b[1;32m   1572\u001b[0m \u001b[0;34m\u001b[0m\u001b[0m\n\u001b[1;32m   1573\u001b[0m     \u001b[0;32mdef\u001b[0m \u001b[0mget_result\u001b[0m\u001b[0;34m(\u001b[0m\u001b[0mself\u001b[0m\u001b[0;34m)\u001b[0m\u001b[0;34m:\u001b[0m\u001b[0;34m\u001b[0m\u001b[0;34m\u001b[0m\u001b[0m\n\u001b[0;32m-> 1574\u001b[0;31m         \u001b[0mjoin_index\u001b[0m\u001b[0;34m,\u001b[0m \u001b[0mleft_indexer\u001b[0m\u001b[0;34m,\u001b[0m \u001b[0mright_indexer\u001b[0m \u001b[0;34m=\u001b[0m \u001b[0mself\u001b[0m\u001b[0;34m.\u001b[0m\u001b[0m_get_join_info\u001b[0m\u001b[0;34m(\u001b[0m\u001b[0;34m)\u001b[0m\u001b[0;34m\u001b[0m\u001b[0;34m\u001b[0m\u001b[0m\n\u001b[0m\u001b[1;32m   1575\u001b[0m \u001b[0;34m\u001b[0m\u001b[0m\n\u001b[1;32m   1576\u001b[0m         llabels, rlabels = _items_overlap_with_suffix(\n",
      "\u001b[0;32m~/.local/lib/python3.8/site-packages/pandas/core/reshape/merge.py\u001b[0m in \u001b[0;36m_get_join_info\u001b[0;34m(self)\u001b[0m\n\u001b[1;32m    907\u001b[0m             )\n\u001b[1;32m    908\u001b[0m         \u001b[0;32melse\u001b[0m\u001b[0;34m:\u001b[0m\u001b[0;34m\u001b[0m\u001b[0;34m\u001b[0m\u001b[0m\n\u001b[0;32m--> 909\u001b[0;31m             \u001b[0;34m(\u001b[0m\u001b[0mleft_indexer\u001b[0m\u001b[0;34m,\u001b[0m \u001b[0mright_indexer\u001b[0m\u001b[0;34m)\u001b[0m \u001b[0;34m=\u001b[0m \u001b[0mself\u001b[0m\u001b[0;34m.\u001b[0m\u001b[0m_get_join_indexers\u001b[0m\u001b[0;34m(\u001b[0m\u001b[0;34m)\u001b[0m\u001b[0;34m\u001b[0m\u001b[0;34m\u001b[0m\u001b[0m\n\u001b[0m\u001b[1;32m    910\u001b[0m \u001b[0;34m\u001b[0m\u001b[0m\n\u001b[1;32m    911\u001b[0m             \u001b[0;32mif\u001b[0m \u001b[0mself\u001b[0m\u001b[0;34m.\u001b[0m\u001b[0mright_index\u001b[0m\u001b[0;34m:\u001b[0m\u001b[0;34m\u001b[0m\u001b[0;34m\u001b[0m\u001b[0m\n",
      "\u001b[0;32m~/.local/lib/python3.8/site-packages/pandas/core/reshape/merge.py\u001b[0m in \u001b[0;36m_get_join_indexers\u001b[0;34m(self)\u001b[0m\n\u001b[1;32m   1824\u001b[0m                 \u001b[0;32mraise\u001b[0m \u001b[0mValueError\u001b[0m\u001b[0;34m(\u001b[0m\u001b[0;34mf\"Merge keys contain null values on {side} side\"\u001b[0m\u001b[0;34m)\u001b[0m\u001b[0;34m\u001b[0m\u001b[0;34m\u001b[0m\u001b[0m\n\u001b[1;32m   1825\u001b[0m             \u001b[0;32melse\u001b[0m\u001b[0;34m:\u001b[0m\u001b[0;34m\u001b[0m\u001b[0;34m\u001b[0m\u001b[0m\n\u001b[0;32m-> 1826\u001b[0;31m                 \u001b[0;32mraise\u001b[0m \u001b[0mValueError\u001b[0m\u001b[0;34m(\u001b[0m\u001b[0;34mf\"{side} keys must be sorted\"\u001b[0m\u001b[0;34m)\u001b[0m\u001b[0;34m\u001b[0m\u001b[0;34m\u001b[0m\u001b[0m\n\u001b[0m\u001b[1;32m   1827\u001b[0m \u001b[0;34m\u001b[0m\u001b[0m\n\u001b[1;32m   1828\u001b[0m         \u001b[0;32mif\u001b[0m \u001b[0;32mnot\u001b[0m \u001b[0mIndex\u001b[0m\u001b[0;34m(\u001b[0m\u001b[0mright_values\u001b[0m\u001b[0;34m)\u001b[0m\u001b[0;34m.\u001b[0m\u001b[0mis_monotonic\u001b[0m\u001b[0;34m:\u001b[0m\u001b[0;34m\u001b[0m\u001b[0;34m\u001b[0m\u001b[0m\n",
      "\u001b[0;31mValueError\u001b[0m: left keys must be sorted"
     ]
    }
   ],
   "source": [
    "# Merge gdp and recession on date using merge_asof()\n",
    "gdp_recession = pd.merge_asof(gdp, recession, on='date')\n",
    "\n",
    "# Create a list based on the row value of gdp_recession['econ_status']\n",
    "#is_recession = ['r' if s=='recession' else 'g' for s in gdp_recession['econ_status']]\n",
    "\n",
    "# Plot a bar chart of gdp_recession\n",
    "#gdp_recession.plot(kind='bar', y='gdp', x='date', color=is_recession, rot=90)\n",
    "#plt.show()"
   ]
  },
  {
   "source": [
    "## merge_asof() and merge_ordered() differences\n",
    "The `merge_asof()` and `merge_ordered()` functions are similar in the type of merge they perform and the input arguments they use. In this exercise, think about how the functions are different.\n",
    "\n",
    "Instructions\n",
    "\n",
    "- Drag and drop the statement into the appropriate box for either the `merge_asof()` function, the `merge_ordered()` function, or both if it applies to both functions."
   ],
   "cell_type": "markdown",
   "metadata": {}
  },
  {
   "source": [
    "merge_asof()\n",
    "- Has an argument that can be set to `forward` to select the first row in the right table whose key column is greater than or equal to the left's.\n",
    "- It can be used to do fuzzy matching of dates between tables.\n",
    "- After matching two tables, if there are missing values at the top of the table from the right table, this function can fill them in.\n",
    "\n",
    "both\n",
    "- This function can set the suffix for overlapping column names.\n",
    "- This function can be used when working with ordered or time-series data.\n",
    "\n",
    ".merge_ordered\n",
    "- It allows for a right join during the merge.\n",
    "- If it cannot match the rows of the tables exactly, it can use forward fill to interpolate the missing data."
   ],
   "cell_type": "markdown",
   "metadata": {}
  },
  {
   "source": [
    "## Explore financials with .query()\n",
    "You have been given a table of financial data from some popular social network companies called `social_fin`. All of the values are in thousands of US dollars.\n",
    "\n",
    "Use the `.query()` method and the console to explore `social_fin` and select the True statement."
   ],
   "cell_type": "markdown",
   "metadata": {}
  },
  {
   "cell_type": "code",
   "execution_count": 39,
   "metadata": {},
   "outputs": [],
   "source": [
    "# Import the DataFrame\n",
    "social_fin = pd.read_csv('social_fin.csv')"
   ]
  },
  {
   "source": [
    "R:\n",
    "There are 6 rows where the net income has a negative value."
   ],
   "cell_type": "markdown",
   "metadata": {}
  },
  {
   "source": [
    "## Subsetting rows with .query()\n",
    "In this exercise, you will revisit GDP and population data for Australia and Sweden from the World Bank and expand on it using the `.query()` method. You'll merge the two tables and compute the GDP per capita. Afterwards, you'll use the `.query()` method to sub-select the rows and create a plot. Recall that you will need to merge on multiple columns in the proper order.\n",
    "\n",
    "The tables `wb_gdp` and `wb_pop` have been loaded for you.\n",
    "\n",
    "Instructions\n",
    "\n",
    "- Use `merge_ordered()` on `wb_gdp` and `wb_pop` on columns `country` and `date` with the fill feature, save to `gdp_pop` and print.\n",
    "- Add a column named `gdp_per_capita` to `gdp_pop` that divides `gdp` by `pop`.\n",
    "- Pivot `gdp_pop` so `values='gdp_per_capita'`, `index='date'`, and `columns='country'`, save as `gdp_pivot`.\n",
    "- Use `.query()` to select rows from `gdp_pivot` where `date` is greater than equal to `1991-01-01`. Save as `recent_gdp_pop`."
   ],
   "cell_type": "markdown",
   "metadata": {}
  },
  {
   "cell_type": "code",
   "execution_count": 40,
   "metadata": {},
   "outputs": [],
   "source": [
    "# Import the DataFrame\n",
    "wb_gdp = pd.read_csv('wb_gdp.csv')\n",
    "wb_pop = pd.read_csv('wb_pop.csv')"
   ]
  },
  {
   "cell_type": "code",
   "execution_count": 41,
   "metadata": {},
   "outputs": [],
   "source": [
    "# Merge gdp and pop on date and country with fill\n",
    "gdp_pop = pd.merge_ordered(wb_gdp, wb_pop, on=['country','date'], fill_method='ffill')"
   ]
  },
  {
   "cell_type": "code",
   "execution_count": 42,
   "metadata": {},
   "outputs": [],
   "source": [
    "# Add a column named gdp_per_capita to gdp_pop that divides the gdp by pop\n",
    "gdp_pop['gdp_per_capita'] = gdp_pop['gdp'] / gdp_pop['pop']"
   ]
  },
  {
   "cell_type": "code",
   "execution_count": 43,
   "metadata": {},
   "outputs": [],
   "source": [
    "# Pivot table of gdp_per_capita, where index is date and columns is country\n",
    "gdp_pivot = gdp_pop.pivot_table('gdp_per_capita', 'date', 'country')"
   ]
  },
  {
   "cell_type": "code",
   "execution_count": 44,
   "metadata": {},
   "outputs": [
    {
     "output_type": "display_data",
     "data": {
      "text/plain": "<Figure size 432x288 with 1 Axes>",
      "image/svg+xml": "<?xml version=\"1.0\" encoding=\"utf-8\" standalone=\"no\"?>\n<!DOCTYPE svg PUBLIC \"-//W3C//DTD SVG 1.1//EN\"\n  \"http://www.w3.org/Graphics/SVG/1.1/DTD/svg11.dtd\">\n<!-- Created with matplotlib (https://matplotlib.org/) -->\n<svg height=\"310.63375pt\" version=\"1.1\" viewBox=\"0 0 391.190625 310.63375\" width=\"391.190625pt\" xmlns=\"http://www.w3.org/2000/svg\" xmlns:xlink=\"http://www.w3.org/1999/xlink\">\n <defs>\n  <style type=\"text/css\">\n*{stroke-linecap:butt;stroke-linejoin:round;}\n  </style>\n </defs>\n <g id=\"figure_1\">\n  <g id=\"patch_1\">\n   <path d=\"M 0 310.63375 \nL 391.190625 310.63375 \nL 391.190625 0 \nL 0 0 \nz\n\" style=\"fill:none;\"/>\n  </g>\n  <g id=\"axes_1\">\n   <g id=\"patch_2\">\n    <path d=\"M 49.190625 224.64 \nL 383.990625 224.64 \nL 383.990625 7.2 \nL 49.190625 7.2 \nz\n\" style=\"fill:#ffffff;\"/>\n   </g>\n   <g id=\"matplotlib.axis_1\">\n    <g id=\"xtick_1\">\n     <g id=\"line2d_1\">\n      <defs>\n       <path d=\"M 0 0 \nL 0 3.5 \n\" id=\"m2eb77bc66a\" style=\"stroke:#000000;stroke-width:0.8;\"/>\n      </defs>\n      <g>\n       <use style=\"stroke:#000000;stroke-width:0.8;\" x=\"64.408807\" xlink:href=\"#m2eb77bc66a\" y=\"224.64\"/>\n      </g>\n     </g>\n     <g id=\"text_1\">\n      <!-- 1991-01-01 -->\n      <defs>\n       <path d=\"M 12.40625 8.296875 \nL 28.515625 8.296875 \nL 28.515625 63.921875 \nL 10.984375 60.40625 \nL 10.984375 69.390625 \nL 28.421875 72.90625 \nL 38.28125 72.90625 \nL 38.28125 8.296875 \nL 54.390625 8.296875 \nL 54.390625 0 \nL 12.40625 0 \nz\n\" id=\"DejaVuSans-49\"/>\n       <path d=\"M 10.984375 1.515625 \nL 10.984375 10.5 \nQ 14.703125 8.734375 18.5 7.8125 \nQ 22.3125 6.890625 25.984375 6.890625 \nQ 35.75 6.890625 40.890625 13.453125 \nQ 46.046875 20.015625 46.78125 33.40625 \nQ 43.953125 29.203125 39.59375 26.953125 \nQ 35.25 24.703125 29.984375 24.703125 \nQ 19.046875 24.703125 12.671875 31.3125 \nQ 6.296875 37.9375 6.296875 49.421875 \nQ 6.296875 60.640625 12.9375 67.421875 \nQ 19.578125 74.21875 30.609375 74.21875 \nQ 43.265625 74.21875 49.921875 64.515625 \nQ 56.59375 54.828125 56.59375 36.375 \nQ 56.59375 19.140625 48.40625 8.859375 \nQ 40.234375 -1.421875 26.421875 -1.421875 \nQ 22.703125 -1.421875 18.890625 -0.6875 \nQ 15.09375 0.046875 10.984375 1.515625 \nz\nM 30.609375 32.421875 \nQ 37.25 32.421875 41.125 36.953125 \nQ 45.015625 41.5 45.015625 49.421875 \nQ 45.015625 57.28125 41.125 61.84375 \nQ 37.25 66.40625 30.609375 66.40625 \nQ 23.96875 66.40625 20.09375 61.84375 \nQ 16.21875 57.28125 16.21875 49.421875 \nQ 16.21875 41.5 20.09375 36.953125 \nQ 23.96875 32.421875 30.609375 32.421875 \nz\n\" id=\"DejaVuSans-57\"/>\n       <path d=\"M 4.890625 31.390625 \nL 31.203125 31.390625 \nL 31.203125 23.390625 \nL 4.890625 23.390625 \nz\n\" id=\"DejaVuSans-45\"/>\n       <path d=\"M 31.78125 66.40625 \nQ 24.171875 66.40625 20.328125 58.90625 \nQ 16.5 51.421875 16.5 36.375 \nQ 16.5 21.390625 20.328125 13.890625 \nQ 24.171875 6.390625 31.78125 6.390625 \nQ 39.453125 6.390625 43.28125 13.890625 \nQ 47.125 21.390625 47.125 36.375 \nQ 47.125 51.421875 43.28125 58.90625 \nQ 39.453125 66.40625 31.78125 66.40625 \nz\nM 31.78125 74.21875 \nQ 44.046875 74.21875 50.515625 64.515625 \nQ 56.984375 54.828125 56.984375 36.375 \nQ 56.984375 17.96875 50.515625 8.265625 \nQ 44.046875 -1.421875 31.78125 -1.421875 \nQ 19.53125 -1.421875 13.0625 8.265625 \nQ 6.59375 17.96875 6.59375 36.375 \nQ 6.59375 54.828125 13.0625 64.515625 \nQ 19.53125 74.21875 31.78125 74.21875 \nz\n\" id=\"DejaVuSans-48\"/>\n      </defs>\n      <g transform=\"translate(67.168182 289.755625)rotate(-90)scale(0.1 -0.1)\">\n       <use xlink:href=\"#DejaVuSans-49\"/>\n       <use x=\"63.623047\" xlink:href=\"#DejaVuSans-57\"/>\n       <use x=\"127.246094\" xlink:href=\"#DejaVuSans-57\"/>\n       <use x=\"190.869141\" xlink:href=\"#DejaVuSans-49\"/>\n       <use x=\"254.492188\" xlink:href=\"#DejaVuSans-45\"/>\n       <use x=\"290.576172\" xlink:href=\"#DejaVuSans-48\"/>\n       <use x=\"354.199219\" xlink:href=\"#DejaVuSans-49\"/>\n       <use x=\"417.822266\" xlink:href=\"#DejaVuSans-45\"/>\n       <use x=\"453.90625\" xlink:href=\"#DejaVuSans-48\"/>\n       <use x=\"517.529297\" xlink:href=\"#DejaVuSans-49\"/>\n      </g>\n     </g>\n    </g>\n    <g id=\"xtick_2\">\n     <g id=\"line2d_2\">\n      <g>\n       <use style=\"stroke:#000000;stroke-width:0.8;\" x=\"119.74765\" xlink:href=\"#m2eb77bc66a\" y=\"224.64\"/>\n      </g>\n     </g>\n     <g id=\"text_2\">\n      <!-- 1991-07-01 -->\n      <defs>\n       <path d=\"M 8.203125 72.90625 \nL 55.078125 72.90625 \nL 55.078125 68.703125 \nL 28.609375 0 \nL 18.3125 0 \nL 43.21875 64.59375 \nL 8.203125 64.59375 \nz\n\" id=\"DejaVuSans-55\"/>\n      </defs>\n      <g transform=\"translate(122.507025 289.755625)rotate(-90)scale(0.1 -0.1)\">\n       <use xlink:href=\"#DejaVuSans-49\"/>\n       <use x=\"63.623047\" xlink:href=\"#DejaVuSans-57\"/>\n       <use x=\"127.246094\" xlink:href=\"#DejaVuSans-57\"/>\n       <use x=\"190.869141\" xlink:href=\"#DejaVuSans-49\"/>\n       <use x=\"254.492188\" xlink:href=\"#DejaVuSans-45\"/>\n       <use x=\"290.576172\" xlink:href=\"#DejaVuSans-48\"/>\n       <use x=\"354.199219\" xlink:href=\"#DejaVuSans-55\"/>\n       <use x=\"417.822266\" xlink:href=\"#DejaVuSans-45\"/>\n       <use x=\"453.90625\" xlink:href=\"#DejaVuSans-48\"/>\n       <use x=\"517.529297\" xlink:href=\"#DejaVuSans-49\"/>\n      </g>\n     </g>\n    </g>\n    <g id=\"xtick_3\">\n     <g id=\"line2d_3\">\n      <g>\n       <use style=\"stroke:#000000;stroke-width:0.8;\" x=\"175.086493\" xlink:href=\"#m2eb77bc66a\" y=\"224.64\"/>\n      </g>\n     </g>\n     <g id=\"text_3\">\n      <!-- 1992-01-01 -->\n      <defs>\n       <path d=\"M 19.1875 8.296875 \nL 53.609375 8.296875 \nL 53.609375 0 \nL 7.328125 0 \nL 7.328125 8.296875 \nQ 12.9375 14.109375 22.625 23.890625 \nQ 32.328125 33.6875 34.8125 36.53125 \nQ 39.546875 41.84375 41.421875 45.53125 \nQ 43.3125 49.21875 43.3125 52.78125 \nQ 43.3125 58.59375 39.234375 62.25 \nQ 35.15625 65.921875 28.609375 65.921875 \nQ 23.96875 65.921875 18.8125 64.3125 \nQ 13.671875 62.703125 7.8125 59.421875 \nL 7.8125 69.390625 \nQ 13.765625 71.78125 18.9375 73 \nQ 24.125 74.21875 28.421875 74.21875 \nQ 39.75 74.21875 46.484375 68.546875 \nQ 53.21875 62.890625 53.21875 53.421875 \nQ 53.21875 48.921875 51.53125 44.890625 \nQ 49.859375 40.875 45.40625 35.40625 \nQ 44.1875 33.984375 37.640625 27.21875 \nQ 31.109375 20.453125 19.1875 8.296875 \nz\n\" id=\"DejaVuSans-50\"/>\n      </defs>\n      <g transform=\"translate(177.845868 289.755625)rotate(-90)scale(0.1 -0.1)\">\n       <use xlink:href=\"#DejaVuSans-49\"/>\n       <use x=\"63.623047\" xlink:href=\"#DejaVuSans-57\"/>\n       <use x=\"127.246094\" xlink:href=\"#DejaVuSans-57\"/>\n       <use x=\"190.869141\" xlink:href=\"#DejaVuSans-50\"/>\n       <use x=\"254.492188\" xlink:href=\"#DejaVuSans-45\"/>\n       <use x=\"290.576172\" xlink:href=\"#DejaVuSans-48\"/>\n       <use x=\"354.199219\" xlink:href=\"#DejaVuSans-49\"/>\n       <use x=\"417.822266\" xlink:href=\"#DejaVuSans-45\"/>\n       <use x=\"453.90625\" xlink:href=\"#DejaVuSans-48\"/>\n       <use x=\"517.529297\" xlink:href=\"#DejaVuSans-49\"/>\n      </g>\n     </g>\n    </g>\n    <g id=\"xtick_4\">\n     <g id=\"line2d_4\">\n      <g>\n       <use style=\"stroke:#000000;stroke-width:0.8;\" x=\"230.425336\" xlink:href=\"#m2eb77bc66a\" y=\"224.64\"/>\n      </g>\n     </g>\n     <g id=\"text_4\">\n      <!-- 1992-07-01 -->\n      <g transform=\"translate(233.184711 289.755625)rotate(-90)scale(0.1 -0.1)\">\n       <use xlink:href=\"#DejaVuSans-49\"/>\n       <use x=\"63.623047\" xlink:href=\"#DejaVuSans-57\"/>\n       <use x=\"127.246094\" xlink:href=\"#DejaVuSans-57\"/>\n       <use x=\"190.869141\" xlink:href=\"#DejaVuSans-50\"/>\n       <use x=\"254.492188\" xlink:href=\"#DejaVuSans-45\"/>\n       <use x=\"290.576172\" xlink:href=\"#DejaVuSans-48\"/>\n       <use x=\"354.199219\" xlink:href=\"#DejaVuSans-55\"/>\n       <use x=\"417.822266\" xlink:href=\"#DejaVuSans-45\"/>\n       <use x=\"453.90625\" xlink:href=\"#DejaVuSans-48\"/>\n       <use x=\"517.529297\" xlink:href=\"#DejaVuSans-49\"/>\n      </g>\n     </g>\n    </g>\n    <g id=\"xtick_5\">\n     <g id=\"line2d_5\">\n      <g>\n       <use style=\"stroke:#000000;stroke-width:0.8;\" x=\"285.764179\" xlink:href=\"#m2eb77bc66a\" y=\"224.64\"/>\n      </g>\n     </g>\n     <g id=\"text_5\">\n      <!-- 1993-01-01 -->\n      <defs>\n       <path d=\"M 40.578125 39.3125 \nQ 47.65625 37.796875 51.625 33 \nQ 55.609375 28.21875 55.609375 21.1875 \nQ 55.609375 10.40625 48.1875 4.484375 \nQ 40.765625 -1.421875 27.09375 -1.421875 \nQ 22.515625 -1.421875 17.65625 -0.515625 \nQ 12.796875 0.390625 7.625 2.203125 \nL 7.625 11.71875 \nQ 11.71875 9.328125 16.59375 8.109375 \nQ 21.484375 6.890625 26.8125 6.890625 \nQ 36.078125 6.890625 40.9375 10.546875 \nQ 45.796875 14.203125 45.796875 21.1875 \nQ 45.796875 27.640625 41.28125 31.265625 \nQ 36.765625 34.90625 28.71875 34.90625 \nL 20.21875 34.90625 \nL 20.21875 43.015625 \nL 29.109375 43.015625 \nQ 36.375 43.015625 40.234375 45.921875 \nQ 44.09375 48.828125 44.09375 54.296875 \nQ 44.09375 59.90625 40.109375 62.90625 \nQ 36.140625 65.921875 28.71875 65.921875 \nQ 24.65625 65.921875 20.015625 65.03125 \nQ 15.375 64.15625 9.8125 62.3125 \nL 9.8125 71.09375 \nQ 15.4375 72.65625 20.34375 73.4375 \nQ 25.25 74.21875 29.59375 74.21875 \nQ 40.828125 74.21875 47.359375 69.109375 \nQ 53.90625 64.015625 53.90625 55.328125 \nQ 53.90625 49.265625 50.4375 45.09375 \nQ 46.96875 40.921875 40.578125 39.3125 \nz\n\" id=\"DejaVuSans-51\"/>\n      </defs>\n      <g transform=\"translate(288.523554 289.755625)rotate(-90)scale(0.1 -0.1)\">\n       <use xlink:href=\"#DejaVuSans-49\"/>\n       <use x=\"63.623047\" xlink:href=\"#DejaVuSans-57\"/>\n       <use x=\"127.246094\" xlink:href=\"#DejaVuSans-57\"/>\n       <use x=\"190.869141\" xlink:href=\"#DejaVuSans-51\"/>\n       <use x=\"254.492188\" xlink:href=\"#DejaVuSans-45\"/>\n       <use x=\"290.576172\" xlink:href=\"#DejaVuSans-48\"/>\n       <use x=\"354.199219\" xlink:href=\"#DejaVuSans-49\"/>\n       <use x=\"417.822266\" xlink:href=\"#DejaVuSans-45\"/>\n       <use x=\"453.90625\" xlink:href=\"#DejaVuSans-48\"/>\n       <use x=\"517.529297\" xlink:href=\"#DejaVuSans-49\"/>\n      </g>\n     </g>\n    </g>\n    <g id=\"xtick_6\">\n     <g id=\"line2d_6\">\n      <g>\n       <use style=\"stroke:#000000;stroke-width:0.8;\" x=\"341.103022\" xlink:href=\"#m2eb77bc66a\" y=\"224.64\"/>\n      </g>\n     </g>\n     <g id=\"text_6\">\n      <!-- 1993-07-01 -->\n      <g transform=\"translate(343.862397 289.755625)rotate(-90)scale(0.1 -0.1)\">\n       <use xlink:href=\"#DejaVuSans-49\"/>\n       <use x=\"63.623047\" xlink:href=\"#DejaVuSans-57\"/>\n       <use x=\"127.246094\" xlink:href=\"#DejaVuSans-57\"/>\n       <use x=\"190.869141\" xlink:href=\"#DejaVuSans-51\"/>\n       <use x=\"254.492188\" xlink:href=\"#DejaVuSans-45\"/>\n       <use x=\"290.576172\" xlink:href=\"#DejaVuSans-48\"/>\n       <use x=\"354.199219\" xlink:href=\"#DejaVuSans-55\"/>\n       <use x=\"417.822266\" xlink:href=\"#DejaVuSans-45\"/>\n       <use x=\"453.90625\" xlink:href=\"#DejaVuSans-48\"/>\n       <use x=\"517.529297\" xlink:href=\"#DejaVuSans-49\"/>\n      </g>\n     </g>\n    </g>\n    <g id=\"text_7\">\n     <!-- date -->\n     <defs>\n      <path d=\"M 45.40625 46.390625 \nL 45.40625 75.984375 \nL 54.390625 75.984375 \nL 54.390625 0 \nL 45.40625 0 \nL 45.40625 8.203125 \nQ 42.578125 3.328125 38.25 0.953125 \nQ 33.9375 -1.421875 27.875 -1.421875 \nQ 17.96875 -1.421875 11.734375 6.484375 \nQ 5.515625 14.40625 5.515625 27.296875 \nQ 5.515625 40.1875 11.734375 48.09375 \nQ 17.96875 56 27.875 56 \nQ 33.9375 56 38.25 53.625 \nQ 42.578125 51.265625 45.40625 46.390625 \nz\nM 14.796875 27.296875 \nQ 14.796875 17.390625 18.875 11.75 \nQ 22.953125 6.109375 30.078125 6.109375 \nQ 37.203125 6.109375 41.296875 11.75 \nQ 45.40625 17.390625 45.40625 27.296875 \nQ 45.40625 37.203125 41.296875 42.84375 \nQ 37.203125 48.484375 30.078125 48.484375 \nQ 22.953125 48.484375 18.875 42.84375 \nQ 14.796875 37.203125 14.796875 27.296875 \nz\n\" id=\"DejaVuSans-100\"/>\n      <path d=\"M 34.28125 27.484375 \nQ 23.390625 27.484375 19.1875 25 \nQ 14.984375 22.515625 14.984375 16.5 \nQ 14.984375 11.71875 18.140625 8.90625 \nQ 21.296875 6.109375 26.703125 6.109375 \nQ 34.1875 6.109375 38.703125 11.40625 \nQ 43.21875 16.703125 43.21875 25.484375 \nL 43.21875 27.484375 \nz\nM 52.203125 31.203125 \nL 52.203125 0 \nL 43.21875 0 \nL 43.21875 8.296875 \nQ 40.140625 3.328125 35.546875 0.953125 \nQ 30.953125 -1.421875 24.3125 -1.421875 \nQ 15.921875 -1.421875 10.953125 3.296875 \nQ 6 8.015625 6 15.921875 \nQ 6 25.140625 12.171875 29.828125 \nQ 18.359375 34.515625 30.609375 34.515625 \nL 43.21875 34.515625 \nL 43.21875 35.40625 \nQ 43.21875 41.609375 39.140625 45 \nQ 35.0625 48.390625 27.6875 48.390625 \nQ 23 48.390625 18.546875 47.265625 \nQ 14.109375 46.140625 10.015625 43.890625 \nL 10.015625 52.203125 \nQ 14.9375 54.109375 19.578125 55.046875 \nQ 24.21875 56 28.609375 56 \nQ 40.484375 56 46.34375 49.84375 \nQ 52.203125 43.703125 52.203125 31.203125 \nz\n\" id=\"DejaVuSans-97\"/>\n      <path d=\"M 18.3125 70.21875 \nL 18.3125 54.6875 \nL 36.8125 54.6875 \nL 36.8125 47.703125 \nL 18.3125 47.703125 \nL 18.3125 18.015625 \nQ 18.3125 11.328125 20.140625 9.421875 \nQ 21.96875 7.515625 27.59375 7.515625 \nL 36.8125 7.515625 \nL 36.8125 0 \nL 27.59375 0 \nQ 17.1875 0 13.234375 3.875 \nQ 9.28125 7.765625 9.28125 18.015625 \nL 9.28125 47.703125 \nL 2.6875 47.703125 \nL 2.6875 54.6875 \nL 9.28125 54.6875 \nL 9.28125 70.21875 \nz\n\" id=\"DejaVuSans-116\"/>\n      <path d=\"M 56.203125 29.59375 \nL 56.203125 25.203125 \nL 14.890625 25.203125 \nQ 15.484375 15.921875 20.484375 11.0625 \nQ 25.484375 6.203125 34.421875 6.203125 \nQ 39.59375 6.203125 44.453125 7.46875 \nQ 49.3125 8.734375 54.109375 11.28125 \nL 54.109375 2.78125 \nQ 49.265625 0.734375 44.1875 -0.34375 \nQ 39.109375 -1.421875 33.890625 -1.421875 \nQ 20.796875 -1.421875 13.15625 6.1875 \nQ 5.515625 13.8125 5.515625 26.8125 \nQ 5.515625 40.234375 12.765625 48.109375 \nQ 20.015625 56 32.328125 56 \nQ 43.359375 56 49.78125 48.890625 \nQ 56.203125 41.796875 56.203125 29.59375 \nz\nM 47.21875 32.234375 \nQ 47.125 39.59375 43.09375 43.984375 \nQ 39.0625 48.390625 32.421875 48.390625 \nQ 24.90625 48.390625 20.390625 44.140625 \nQ 15.875 39.890625 15.1875 32.171875 \nz\n\" id=\"DejaVuSans-101\"/>\n     </defs>\n     <g transform=\"translate(205.315625 301.354062)scale(0.1 -0.1)\">\n      <use xlink:href=\"#DejaVuSans-100\"/>\n      <use x=\"63.476562\" xlink:href=\"#DejaVuSans-97\"/>\n      <use x=\"124.755859\" xlink:href=\"#DejaVuSans-116\"/>\n      <use x=\"163.964844\" xlink:href=\"#DejaVuSans-101\"/>\n     </g>\n    </g>\n   </g>\n   <g id=\"matplotlib.axis_2\">\n    <g id=\"ytick_1\">\n     <g id=\"line2d_7\">\n      <defs>\n       <path d=\"M 0 0 \nL -3.5 0 \n\" id=\"mff3965d6f1\" style=\"stroke:#000000;stroke-width:0.8;\"/>\n      </defs>\n      <g>\n       <use style=\"stroke:#000000;stroke-width:0.8;\" x=\"49.190625\" xlink:href=\"#mff3965d6f1\" y=\"190.801747\"/>\n      </g>\n     </g>\n     <g id=\"text_8\">\n      <!-- 0.0088 -->\n      <defs>\n       <path d=\"M 10.6875 12.40625 \nL 21 12.40625 \nL 21 0 \nL 10.6875 0 \nz\n\" id=\"DejaVuSans-46\"/>\n       <path d=\"M 31.78125 34.625 \nQ 24.75 34.625 20.71875 30.859375 \nQ 16.703125 27.09375 16.703125 20.515625 \nQ 16.703125 13.921875 20.71875 10.15625 \nQ 24.75 6.390625 31.78125 6.390625 \nQ 38.8125 6.390625 42.859375 10.171875 \nQ 46.921875 13.96875 46.921875 20.515625 \nQ 46.921875 27.09375 42.890625 30.859375 \nQ 38.875 34.625 31.78125 34.625 \nz\nM 21.921875 38.8125 \nQ 15.578125 40.375 12.03125 44.71875 \nQ 8.5 49.078125 8.5 55.328125 \nQ 8.5 64.0625 14.71875 69.140625 \nQ 20.953125 74.21875 31.78125 74.21875 \nQ 42.671875 74.21875 48.875 69.140625 \nQ 55.078125 64.0625 55.078125 55.328125 \nQ 55.078125 49.078125 51.53125 44.71875 \nQ 48 40.375 41.703125 38.8125 \nQ 48.828125 37.15625 52.796875 32.3125 \nQ 56.78125 27.484375 56.78125 20.515625 \nQ 56.78125 9.90625 50.3125 4.234375 \nQ 43.84375 -1.421875 31.78125 -1.421875 \nQ 19.734375 -1.421875 13.25 4.234375 \nQ 6.78125 9.90625 6.78125 20.515625 \nQ 6.78125 27.484375 10.78125 32.3125 \nQ 14.796875 37.15625 21.921875 38.8125 \nz\nM 18.3125 54.390625 \nQ 18.3125 48.734375 21.84375 45.5625 \nQ 25.390625 42.390625 31.78125 42.390625 \nQ 38.140625 42.390625 41.71875 45.5625 \nQ 45.3125 48.734375 45.3125 54.390625 \nQ 45.3125 60.0625 41.71875 63.234375 \nQ 38.140625 66.40625 31.78125 66.40625 \nQ 25.390625 66.40625 21.84375 63.234375 \nQ 18.3125 60.0625 18.3125 54.390625 \nz\n\" id=\"DejaVuSans-56\"/>\n      </defs>\n      <g transform=\"translate(7.2 194.600965)scale(0.1 -0.1)\">\n       <use xlink:href=\"#DejaVuSans-48\"/>\n       <use x=\"63.623047\" xlink:href=\"#DejaVuSans-46\"/>\n       <use x=\"95.410156\" xlink:href=\"#DejaVuSans-48\"/>\n       <use x=\"159.033203\" xlink:href=\"#DejaVuSans-48\"/>\n       <use x=\"222.65625\" xlink:href=\"#DejaVuSans-56\"/>\n       <use x=\"286.279297\" xlink:href=\"#DejaVuSans-56\"/>\n      </g>\n     </g>\n    </g>\n    <g id=\"ytick_2\">\n     <g id=\"line2d_8\">\n      <g>\n       <use style=\"stroke:#000000;stroke-width:0.8;\" x=\"49.190625\" xlink:href=\"#mff3965d6f1\" y=\"146.353754\"/>\n      </g>\n     </g>\n     <g id=\"text_9\">\n      <!-- 0.0090 -->\n      <g transform=\"translate(7.2 150.152973)scale(0.1 -0.1)\">\n       <use xlink:href=\"#DejaVuSans-48\"/>\n       <use x=\"63.623047\" xlink:href=\"#DejaVuSans-46\"/>\n       <use x=\"95.410156\" xlink:href=\"#DejaVuSans-48\"/>\n       <use x=\"159.033203\" xlink:href=\"#DejaVuSans-48\"/>\n       <use x=\"222.65625\" xlink:href=\"#DejaVuSans-57\"/>\n       <use x=\"286.279297\" xlink:href=\"#DejaVuSans-48\"/>\n      </g>\n     </g>\n    </g>\n    <g id=\"ytick_3\">\n     <g id=\"line2d_9\">\n      <g>\n       <use style=\"stroke:#000000;stroke-width:0.8;\" x=\"49.190625\" xlink:href=\"#mff3965d6f1\" y=\"101.905762\"/>\n      </g>\n     </g>\n     <g id=\"text_10\">\n      <!-- 0.0092 -->\n      <g transform=\"translate(7.2 105.70498)scale(0.1 -0.1)\">\n       <use xlink:href=\"#DejaVuSans-48\"/>\n       <use x=\"63.623047\" xlink:href=\"#DejaVuSans-46\"/>\n       <use x=\"95.410156\" xlink:href=\"#DejaVuSans-48\"/>\n       <use x=\"159.033203\" xlink:href=\"#DejaVuSans-48\"/>\n       <use x=\"222.65625\" xlink:href=\"#DejaVuSans-57\"/>\n       <use x=\"286.279297\" xlink:href=\"#DejaVuSans-50\"/>\n      </g>\n     </g>\n    </g>\n    <g id=\"ytick_4\">\n     <g id=\"line2d_10\">\n      <g>\n       <use style=\"stroke:#000000;stroke-width:0.8;\" x=\"49.190625\" xlink:href=\"#mff3965d6f1\" y=\"57.457769\"/>\n      </g>\n     </g>\n     <g id=\"text_11\">\n      <!-- 0.0094 -->\n      <defs>\n       <path d=\"M 37.796875 64.3125 \nL 12.890625 25.390625 \nL 37.796875 25.390625 \nz\nM 35.203125 72.90625 \nL 47.609375 72.90625 \nL 47.609375 25.390625 \nL 58.015625 25.390625 \nL 58.015625 17.1875 \nL 47.609375 17.1875 \nL 47.609375 0 \nL 37.796875 0 \nL 37.796875 17.1875 \nL 4.890625 17.1875 \nL 4.890625 26.703125 \nz\n\" id=\"DejaVuSans-52\"/>\n      </defs>\n      <g transform=\"translate(7.2 61.256988)scale(0.1 -0.1)\">\n       <use xlink:href=\"#DejaVuSans-48\"/>\n       <use x=\"63.623047\" xlink:href=\"#DejaVuSans-46\"/>\n       <use x=\"95.410156\" xlink:href=\"#DejaVuSans-48\"/>\n       <use x=\"159.033203\" xlink:href=\"#DejaVuSans-48\"/>\n       <use x=\"222.65625\" xlink:href=\"#DejaVuSans-57\"/>\n       <use x=\"286.279297\" xlink:href=\"#DejaVuSans-52\"/>\n      </g>\n     </g>\n    </g>\n    <g id=\"ytick_5\">\n     <g id=\"line2d_11\">\n      <g>\n       <use style=\"stroke:#000000;stroke-width:0.8;\" x=\"49.190625\" xlink:href=\"#mff3965d6f1\" y=\"13.009777\"/>\n      </g>\n     </g>\n     <g id=\"text_12\">\n      <!-- 0.0096 -->\n      <defs>\n       <path d=\"M 33.015625 40.375 \nQ 26.375 40.375 22.484375 35.828125 \nQ 18.609375 31.296875 18.609375 23.390625 \nQ 18.609375 15.53125 22.484375 10.953125 \nQ 26.375 6.390625 33.015625 6.390625 \nQ 39.65625 6.390625 43.53125 10.953125 \nQ 47.40625 15.53125 47.40625 23.390625 \nQ 47.40625 31.296875 43.53125 35.828125 \nQ 39.65625 40.375 33.015625 40.375 \nz\nM 52.59375 71.296875 \nL 52.59375 62.3125 \nQ 48.875 64.0625 45.09375 64.984375 \nQ 41.3125 65.921875 37.59375 65.921875 \nQ 27.828125 65.921875 22.671875 59.328125 \nQ 17.53125 52.734375 16.796875 39.40625 \nQ 19.671875 43.65625 24.015625 45.921875 \nQ 28.375 48.1875 33.59375 48.1875 \nQ 44.578125 48.1875 50.953125 41.515625 \nQ 57.328125 34.859375 57.328125 23.390625 \nQ 57.328125 12.15625 50.6875 5.359375 \nQ 44.046875 -1.421875 33.015625 -1.421875 \nQ 20.359375 -1.421875 13.671875 8.265625 \nQ 6.984375 17.96875 6.984375 36.375 \nQ 6.984375 53.65625 15.1875 63.9375 \nQ 23.390625 74.21875 37.203125 74.21875 \nQ 40.921875 74.21875 44.703125 73.484375 \nQ 48.484375 72.75 52.59375 71.296875 \nz\n\" id=\"DejaVuSans-54\"/>\n      </defs>\n      <g transform=\"translate(7.2 16.808995)scale(0.1 -0.1)\">\n       <use xlink:href=\"#DejaVuSans-48\"/>\n       <use x=\"63.623047\" xlink:href=\"#DejaVuSans-46\"/>\n       <use x=\"95.410156\" xlink:href=\"#DejaVuSans-48\"/>\n       <use x=\"159.033203\" xlink:href=\"#DejaVuSans-48\"/>\n       <use x=\"222.65625\" xlink:href=\"#DejaVuSans-57\"/>\n       <use x=\"286.279297\" xlink:href=\"#DejaVuSans-54\"/>\n      </g>\n     </g>\n    </g>\n   </g>\n   <g id=\"line2d_12\">\n    <path clip-path=\"url(#p6cee46673f)\" d=\"M 64.408807 138.125147 \nL 92.078228 140.785762 \nL 119.74765 132.468802 \nL 147.417071 131.077565 \nL 175.086493 140.496615 \nL 202.755914 126.119983 \nL 230.425336 105.66363 \nL 258.094757 63.717572 \nL 285.764179 69.688765 \nL 313.4336 57.995425 \nL 341.103022 55.779949 \nL 368.772443 17.083636 \n\" style=\"fill:none;stroke:#1f77b4;stroke-linecap:square;stroke-width:1.5;\"/>\n   </g>\n   <g id=\"line2d_13\">\n    <path clip-path=\"url(#p6cee46673f)\" d=\"M 64.408807 95.602955 \nL 92.078228 107.23885 \nL 119.74765 106.936817 \nL 147.417071 90.022972 \nL 175.086493 111.015136 \nL 202.755914 119.492361 \nL 230.425336 123.483783 \nL 258.094757 172.396912 \nL 285.764179 214.756364 \nL 313.4336 191.178714 \nL 341.103022 166.874345 \nL 368.772443 165.82196 \n\" style=\"fill:none;stroke:#ff7f0e;stroke-linecap:square;stroke-width:1.5;\"/>\n   </g>\n   <g id=\"patch_3\">\n    <path d=\"M 49.190625 224.64 \nL 49.190625 7.2 \n\" style=\"fill:none;stroke:#000000;stroke-linecap:square;stroke-linejoin:miter;stroke-width:0.8;\"/>\n   </g>\n   <g id=\"patch_4\">\n    <path d=\"M 383.990625 224.64 \nL 383.990625 7.2 \n\" style=\"fill:none;stroke:#000000;stroke-linecap:square;stroke-linejoin:miter;stroke-width:0.8;\"/>\n   </g>\n   <g id=\"patch_5\">\n    <path d=\"M 49.190625 224.64 \nL 383.990625 224.64 \n\" style=\"fill:none;stroke:#000000;stroke-linecap:square;stroke-linejoin:miter;stroke-width:0.8;\"/>\n   </g>\n   <g id=\"patch_6\">\n    <path d=\"M 49.190625 7.2 \nL 383.990625 7.2 \n\" style=\"fill:none;stroke:#000000;stroke-linecap:square;stroke-linejoin:miter;stroke-width:0.8;\"/>\n   </g>\n   <g id=\"legend_1\">\n    <g id=\"patch_7\">\n     <path d=\"M 56.190625 59.234375 \nL 132.421875 59.234375 \nQ 134.421875 59.234375 134.421875 57.234375 \nL 134.421875 14.2 \nQ 134.421875 12.2 132.421875 12.2 \nL 56.190625 12.2 \nQ 54.190625 12.2 54.190625 14.2 \nL 54.190625 57.234375 \nQ 54.190625 59.234375 56.190625 59.234375 \nz\n\" style=\"fill:#ffffff;opacity:0.8;stroke:#cccccc;stroke-linejoin:miter;\"/>\n    </g>\n    <g id=\"text_13\">\n     <!-- country -->\n     <defs>\n      <path d=\"M 48.78125 52.59375 \nL 48.78125 44.1875 \nQ 44.96875 46.296875 41.140625 47.34375 \nQ 37.3125 48.390625 33.40625 48.390625 \nQ 24.65625 48.390625 19.8125 42.84375 \nQ 14.984375 37.3125 14.984375 27.296875 \nQ 14.984375 17.28125 19.8125 11.734375 \nQ 24.65625 6.203125 33.40625 6.203125 \nQ 37.3125 6.203125 41.140625 7.25 \nQ 44.96875 8.296875 48.78125 10.40625 \nL 48.78125 2.09375 \nQ 45.015625 0.34375 40.984375 -0.53125 \nQ 36.96875 -1.421875 32.421875 -1.421875 \nQ 20.0625 -1.421875 12.78125 6.34375 \nQ 5.515625 14.109375 5.515625 27.296875 \nQ 5.515625 40.671875 12.859375 48.328125 \nQ 20.21875 56 33.015625 56 \nQ 37.15625 56 41.109375 55.140625 \nQ 45.0625 54.296875 48.78125 52.59375 \nz\n\" id=\"DejaVuSans-99\"/>\n      <path d=\"M 30.609375 48.390625 \nQ 23.390625 48.390625 19.1875 42.75 \nQ 14.984375 37.109375 14.984375 27.296875 \nQ 14.984375 17.484375 19.15625 11.84375 \nQ 23.34375 6.203125 30.609375 6.203125 \nQ 37.796875 6.203125 41.984375 11.859375 \nQ 46.1875 17.53125 46.1875 27.296875 \nQ 46.1875 37.015625 41.984375 42.703125 \nQ 37.796875 48.390625 30.609375 48.390625 \nz\nM 30.609375 56 \nQ 42.328125 56 49.015625 48.375 \nQ 55.71875 40.765625 55.71875 27.296875 \nQ 55.71875 13.875 49.015625 6.21875 \nQ 42.328125 -1.421875 30.609375 -1.421875 \nQ 18.84375 -1.421875 12.171875 6.21875 \nQ 5.515625 13.875 5.515625 27.296875 \nQ 5.515625 40.765625 12.171875 48.375 \nQ 18.84375 56 30.609375 56 \nz\n\" id=\"DejaVuSans-111\"/>\n      <path d=\"M 8.5 21.578125 \nL 8.5 54.6875 \nL 17.484375 54.6875 \nL 17.484375 21.921875 \nQ 17.484375 14.15625 20.5 10.265625 \nQ 23.53125 6.390625 29.59375 6.390625 \nQ 36.859375 6.390625 41.078125 11.03125 \nQ 45.3125 15.671875 45.3125 23.6875 \nL 45.3125 54.6875 \nL 54.296875 54.6875 \nL 54.296875 0 \nL 45.3125 0 \nL 45.3125 8.40625 \nQ 42.046875 3.421875 37.71875 1 \nQ 33.40625 -1.421875 27.6875 -1.421875 \nQ 18.265625 -1.421875 13.375 4.4375 \nQ 8.5 10.296875 8.5 21.578125 \nz\nM 31.109375 56 \nz\n\" id=\"DejaVuSans-117\"/>\n      <path d=\"M 54.890625 33.015625 \nL 54.890625 0 \nL 45.90625 0 \nL 45.90625 32.71875 \nQ 45.90625 40.484375 42.875 44.328125 \nQ 39.84375 48.1875 33.796875 48.1875 \nQ 26.515625 48.1875 22.3125 43.546875 \nQ 18.109375 38.921875 18.109375 30.90625 \nL 18.109375 0 \nL 9.078125 0 \nL 9.078125 54.6875 \nL 18.109375 54.6875 \nL 18.109375 46.1875 \nQ 21.34375 51.125 25.703125 53.5625 \nQ 30.078125 56 35.796875 56 \nQ 45.21875 56 50.046875 50.171875 \nQ 54.890625 44.34375 54.890625 33.015625 \nz\n\" id=\"DejaVuSans-110\"/>\n      <path d=\"M 41.109375 46.296875 \nQ 39.59375 47.171875 37.8125 47.578125 \nQ 36.03125 48 33.890625 48 \nQ 26.265625 48 22.1875 43.046875 \nQ 18.109375 38.09375 18.109375 28.8125 \nL 18.109375 0 \nL 9.078125 0 \nL 9.078125 54.6875 \nL 18.109375 54.6875 \nL 18.109375 46.1875 \nQ 20.953125 51.171875 25.484375 53.578125 \nQ 30.03125 56 36.53125 56 \nQ 37.453125 56 38.578125 55.875 \nQ 39.703125 55.765625 41.0625 55.515625 \nz\n\" id=\"DejaVuSans-114\"/>\n      <path d=\"M 32.171875 -5.078125 \nQ 28.375 -14.84375 24.75 -17.8125 \nQ 21.140625 -20.796875 15.09375 -20.796875 \nL 7.90625 -20.796875 \nL 7.90625 -13.28125 \nL 13.1875 -13.28125 \nQ 16.890625 -13.28125 18.9375 -11.515625 \nQ 21 -9.765625 23.484375 -3.21875 \nL 25.09375 0.875 \nL 2.984375 54.6875 \nL 12.5 54.6875 \nL 29.59375 11.921875 \nL 46.6875 54.6875 \nL 56.203125 54.6875 \nz\n\" id=\"DejaVuSans-121\"/>\n     </defs>\n     <g transform=\"translate(75.185156 23.798437)scale(0.1 -0.1)\">\n      <use xlink:href=\"#DejaVuSans-99\"/>\n      <use x=\"54.980469\" xlink:href=\"#DejaVuSans-111\"/>\n      <use x=\"116.162109\" xlink:href=\"#DejaVuSans-117\"/>\n      <use x=\"179.541016\" xlink:href=\"#DejaVuSans-110\"/>\n      <use x=\"242.919922\" xlink:href=\"#DejaVuSans-116\"/>\n      <use x=\"282.128906\" xlink:href=\"#DejaVuSans-114\"/>\n      <use x=\"323.242188\" xlink:href=\"#DejaVuSans-121\"/>\n     </g>\n    </g>\n    <g id=\"line2d_14\">\n     <path d=\"M 58.190625 34.976562 \nL 78.190625 34.976562 \n\" style=\"fill:none;stroke:#1f77b4;stroke-linecap:square;stroke-width:1.5;\"/>\n    </g>\n    <g id=\"line2d_15\"/>\n    <g id=\"text_14\">\n     <!-- Australia -->\n     <defs>\n      <path d=\"M 34.1875 63.1875 \nL 20.796875 26.90625 \nL 47.609375 26.90625 \nz\nM 28.609375 72.90625 \nL 39.796875 72.90625 \nL 67.578125 0 \nL 57.328125 0 \nL 50.6875 18.703125 \nL 17.828125 18.703125 \nL 11.1875 0 \nL 0.78125 0 \nz\n\" id=\"DejaVuSans-65\"/>\n      <path d=\"M 44.28125 53.078125 \nL 44.28125 44.578125 \nQ 40.484375 46.53125 36.375 47.5 \nQ 32.28125 48.484375 27.875 48.484375 \nQ 21.1875 48.484375 17.84375 46.4375 \nQ 14.5 44.390625 14.5 40.28125 \nQ 14.5 37.15625 16.890625 35.375 \nQ 19.28125 33.59375 26.515625 31.984375 \nL 29.59375 31.296875 \nQ 39.15625 29.25 43.1875 25.515625 \nQ 47.21875 21.78125 47.21875 15.09375 \nQ 47.21875 7.46875 41.1875 3.015625 \nQ 35.15625 -1.421875 24.609375 -1.421875 \nQ 20.21875 -1.421875 15.453125 -0.5625 \nQ 10.6875 0.296875 5.421875 2 \nL 5.421875 11.28125 \nQ 10.40625 8.6875 15.234375 7.390625 \nQ 20.0625 6.109375 24.8125 6.109375 \nQ 31.15625 6.109375 34.5625 8.28125 \nQ 37.984375 10.453125 37.984375 14.40625 \nQ 37.984375 18.0625 35.515625 20.015625 \nQ 33.0625 21.96875 24.703125 23.78125 \nL 21.578125 24.515625 \nQ 13.234375 26.265625 9.515625 29.90625 \nQ 5.8125 33.546875 5.8125 39.890625 \nQ 5.8125 47.609375 11.28125 51.796875 \nQ 16.75 56 26.8125 56 \nQ 31.78125 56 36.171875 55.265625 \nQ 40.578125 54.546875 44.28125 53.078125 \nz\n\" id=\"DejaVuSans-115\"/>\n      <path d=\"M 9.421875 75.984375 \nL 18.40625 75.984375 \nL 18.40625 0 \nL 9.421875 0 \nz\n\" id=\"DejaVuSans-108\"/>\n      <path d=\"M 9.421875 54.6875 \nL 18.40625 54.6875 \nL 18.40625 0 \nL 9.421875 0 \nz\nM 9.421875 75.984375 \nL 18.40625 75.984375 \nL 18.40625 64.59375 \nL 9.421875 64.59375 \nz\n\" id=\"DejaVuSans-105\"/>\n     </defs>\n     <g transform=\"translate(86.190625 38.476562)scale(0.1 -0.1)\">\n      <use xlink:href=\"#DejaVuSans-65\"/>\n      <use x=\"68.408203\" xlink:href=\"#DejaVuSans-117\"/>\n      <use x=\"131.787109\" xlink:href=\"#DejaVuSans-115\"/>\n      <use x=\"183.886719\" xlink:href=\"#DejaVuSans-116\"/>\n      <use x=\"223.095703\" xlink:href=\"#DejaVuSans-114\"/>\n      <use x=\"264.208984\" xlink:href=\"#DejaVuSans-97\"/>\n      <use x=\"325.488281\" xlink:href=\"#DejaVuSans-108\"/>\n      <use x=\"353.271484\" xlink:href=\"#DejaVuSans-105\"/>\n      <use x=\"381.054688\" xlink:href=\"#DejaVuSans-97\"/>\n     </g>\n    </g>\n    <g id=\"line2d_16\">\n     <path d=\"M 58.190625 49.654688 \nL 78.190625 49.654688 \n\" style=\"fill:none;stroke:#ff7f0e;stroke-linecap:square;stroke-width:1.5;\"/>\n    </g>\n    <g id=\"line2d_17\"/>\n    <g id=\"text_15\">\n     <!-- Sweden -->\n     <defs>\n      <path d=\"M 53.515625 70.515625 \nL 53.515625 60.890625 \nQ 47.90625 63.578125 42.921875 64.890625 \nQ 37.9375 66.21875 33.296875 66.21875 \nQ 25.25 66.21875 20.875 63.09375 \nQ 16.5 59.96875 16.5 54.203125 \nQ 16.5 49.359375 19.40625 46.890625 \nQ 22.3125 44.4375 30.421875 42.921875 \nL 36.375 41.703125 \nQ 47.40625 39.59375 52.65625 34.296875 \nQ 57.90625 29 57.90625 20.125 \nQ 57.90625 9.515625 50.796875 4.046875 \nQ 43.703125 -1.421875 29.984375 -1.421875 \nQ 24.8125 -1.421875 18.96875 -0.25 \nQ 13.140625 0.921875 6.890625 3.21875 \nL 6.890625 13.375 \nQ 12.890625 10.015625 18.65625 8.296875 \nQ 24.421875 6.59375 29.984375 6.59375 \nQ 38.421875 6.59375 43.015625 9.90625 \nQ 47.609375 13.234375 47.609375 19.390625 \nQ 47.609375 24.75 44.3125 27.78125 \nQ 41.015625 30.8125 33.5 32.328125 \nL 27.484375 33.5 \nQ 16.453125 35.6875 11.515625 40.375 \nQ 6.59375 45.0625 6.59375 53.421875 \nQ 6.59375 63.09375 13.40625 68.65625 \nQ 20.21875 74.21875 32.171875 74.21875 \nQ 37.3125 74.21875 42.625 73.28125 \nQ 47.953125 72.359375 53.515625 70.515625 \nz\n\" id=\"DejaVuSans-83\"/>\n      <path d=\"M 4.203125 54.6875 \nL 13.1875 54.6875 \nL 24.421875 12.015625 \nL 35.59375 54.6875 \nL 46.1875 54.6875 \nL 57.421875 12.015625 \nL 68.609375 54.6875 \nL 77.59375 54.6875 \nL 63.28125 0 \nL 52.6875 0 \nL 40.921875 44.828125 \nL 29.109375 0 \nL 18.5 0 \nz\n\" id=\"DejaVuSans-119\"/>\n     </defs>\n     <g transform=\"translate(86.190625 53.154688)scale(0.1 -0.1)\">\n      <use xlink:href=\"#DejaVuSans-83\"/>\n      <use x=\"63.476562\" xlink:href=\"#DejaVuSans-119\"/>\n      <use x=\"145.263672\" xlink:href=\"#DejaVuSans-101\"/>\n      <use x=\"206.787109\" xlink:href=\"#DejaVuSans-100\"/>\n      <use x=\"270.263672\" xlink:href=\"#DejaVuSans-101\"/>\n      <use x=\"331.787109\" xlink:href=\"#DejaVuSans-110\"/>\n     </g>\n    </g>\n   </g>\n  </g>\n </g>\n <defs>\n  <clipPath id=\"p6cee46673f\">\n   <rect height=\"217.44\" width=\"334.8\" x=\"49.190625\" y=\"7.2\"/>\n  </clipPath>\n </defs>\n</svg>\n",
      "image/png": "[encoded data removed]"
     },
     "metadata": {
      "needs_background": "light"
     }
    }
   ],
   "source": [
    "# Select dates equal to or greater than 1991-01-01\n",
    "recent_gdp_pop = gdp_pivot.query('date >= \"1991-01-01\"')\n",
    "\n",
    "# Plot recent_gdp_pop\n",
    "recent_gdp_pop.plot(rot=90)\n",
    "plt.show()"
   ]
  },
  {
   "source": [
    "## Select the right .melt() arguments\n",
    "You are given a table named `inflation_bcfi`. Chose the option to get the **same** output as the table below.\n",
    "```\n",
    "   country    indicator  year  annual\n",
    "0   Brazil  Inflation %  2017    3.45\n",
    "1   Canada  Inflation %  2017    1.60\n",
    "2   France  Inflation %  2017    1.03\n",
    "3    India  Inflation %  2017    2.49\n",
    "4   Brazil  Inflation %  2018    3.66\n",
    "5   Canada  Inflation %  2018    2.27\n",
    "6   France  Inflation %  2018    1.85\n",
    "7    India  Inflation %  2018    4.86\n",
    "8   Brazil  Inflation %  2019    3.73\n",
    "9   Canada  Inflation %  2019    1.95\n",
    "10  France  Inflation %  2019    1.11\n",
    "11   India  Inflation %  2019    7.66\n",
    "```"
   ],
   "cell_type": "markdown",
   "metadata": {}
  },
  {
   "cell_type": "code",
   "execution_count": 45,
   "metadata": {},
   "outputs": [],
   "source": [
    "# Import the DatFrame\n",
    "inflation_bcfi = pd.read_csv('inflation_bcfi.csv')"
   ]
  },
  {
   "cell_type": "code",
   "execution_count": 47,
   "metadata": {},
   "outputs": [
    {
     "output_type": "execute_result",
     "data": {
      "text/plain": [
       "   country    indicator        year  annual\n",
       "0   Brazil  Inflation %  Unnamed: 0    0.00\n",
       "1   Canada  Inflation %  Unnamed: 0    1.00\n",
       "2   France  Inflation %  Unnamed: 0    2.00\n",
       "3    India  Inflation %  Unnamed: 0    3.00\n",
       "4   Brazil  Inflation %        2017    3.45\n",
       "5   Canada  Inflation %        2017    1.60\n",
       "6   France  Inflation %        2017    1.03\n",
       "7    India  Inflation %        2017    2.49\n",
       "8   Brazil  Inflation %        2018    3.66\n",
       "9   Canada  Inflation %        2018    2.27\n",
       "10  France  Inflation %        2018    1.85\n",
       "11   India  Inflation %        2018    4.86\n",
       "12  Brazil  Inflation %        2019    3.73\n",
       "13  Canada  Inflation %        2019    1.95\n",
       "14  France  Inflation %        2019    1.11\n",
       "15   India  Inflation %        2019    7.66"
      ],
      "text/html": "<div>\n<style scoped>\n    .dataframe tbody tr th:only-of-type {\n        vertical-align: middle;\n    }\n\n    .dataframe tbody tr th {\n        vertical-align: top;\n    }\n\n    .dataframe thead th {\n        text-align: right;\n    }\n</style>\n<table border=\"1\" class=\"dataframe\">\n  <thead>\n    <tr style=\"text-align: right;\">\n      <th></th>\n      <th>country</th>\n      <th>indicator</th>\n      <th>year</th>\n      <th>annual</th>\n    </tr>\n  </thead>\n  <tbody>\n    <tr>\n      <th>0</th>\n      <td>Brazil</td>\n      <td>Inflation %</td>\n      <td>Unnamed: 0</td>\n      <td>0.00</td>\n    </tr>\n    <tr>\n      <th>1</th>\n      <td>Canada</td>\n      <td>Inflation %</td>\n      <td>Unnamed: 0</td>\n      <td>1.00</td>\n    </tr>\n    <tr>\n      <th>2</th>\n      <td>France</td>\n      <td>Inflation %</td>\n      <td>Unnamed: 0</td>\n      <td>2.00</td>\n    </tr>\n    <tr>\n      <th>3</th>\n      <td>India</td>\n      <td>Inflation %</td>\n      <td>Unnamed: 0</td>\n      <td>3.00</td>\n    </tr>\n    <tr>\n      <th>4</th>\n      <td>Brazil</td>\n      <td>Inflation %</td>\n      <td>2017</td>\n      <td>3.45</td>\n    </tr>\n    <tr>\n      <th>5</th>\n      <td>Canada</td>\n      <td>Inflation %</td>\n      <td>2017</td>\n      <td>1.60</td>\n    </tr>\n    <tr>\n      <th>6</th>\n      <td>France</td>\n      <td>Inflation %</td>\n      <td>2017</td>\n      <td>1.03</td>\n    </tr>\n    <tr>\n      <th>7</th>\n      <td>India</td>\n      <td>Inflation %</td>\n      <td>2017</td>\n      <td>2.49</td>\n    </tr>\n    <tr>\n      <th>8</th>\n      <td>Brazil</td>\n      <td>Inflation %</td>\n      <td>2018</td>\n      <td>3.66</td>\n    </tr>\n    <tr>\n      <th>9</th>\n      <td>Canada</td>\n      <td>Inflation %</td>\n      <td>2018</td>\n      <td>2.27</td>\n    </tr>\n    <tr>\n      <th>10</th>\n      <td>France</td>\n      <td>Inflation %</td>\n      <td>2018</td>\n      <td>1.85</td>\n    </tr>\n    <tr>\n      <th>11</th>\n      <td>India</td>\n      <td>Inflation %</td>\n      <td>2018</td>\n      <td>4.86</td>\n    </tr>\n    <tr>\n      <th>12</th>\n      <td>Brazil</td>\n      <td>Inflation %</td>\n      <td>2019</td>\n      <td>3.73</td>\n    </tr>\n    <tr>\n      <th>13</th>\n      <td>Canada</td>\n      <td>Inflation %</td>\n      <td>2019</td>\n      <td>1.95</td>\n    </tr>\n    <tr>\n      <th>14</th>\n      <td>France</td>\n      <td>Inflation %</td>\n      <td>2019</td>\n      <td>1.11</td>\n    </tr>\n    <tr>\n      <th>15</th>\n      <td>India</td>\n      <td>Inflation %</td>\n      <td>2019</td>\n      <td>7.66</td>\n    </tr>\n  </tbody>\n</table>\n</div>"
     },
     "metadata": {},
     "execution_count": 47
    }
   ],
   "source": [
    "inflation_bcfi.melt(id_vars=['country','indicator'], var_name='year', value_name='annual')"
   ]
  },
  {
   "source": [
    "## Using .melt() to reshape government data\n",
    "The US Bureau of Labor Statistics (BLS) often provides data series in an easy-to-read format - it has a separate column for each month, and each year is a different row. Unfortunately, this wide format makes it difficult to plot this information over time. In this exercise, you will reshape a table of US unemployment rate data from the BLS into a form you can plot using `.melt()`. You will need to add a date column to the table and sort by it to plot the data correctly.\n",
    "\n",
    "The unemployment rate data has been loaded for you in a table called `ur_wide`. You are encouraged to view the table in the console before beginning the exercise.\n",
    "\n",
    "Instructions\n",
    "\n",
    "- Use `.melt()` to unpivot all of the columns of `ur_wide` except `year` and ensure that the columns with the months and values are named `month` and `unempl_rate`, respectively. Save the result as `ur_tall`.\n",
    "- Add a column to `ur_tall` named `date` which combines the `year` and `month` columns as year-month format into a larger string, and converts it to a date data type.\n",
    "- Sort `ur_tall` by date and save as `ur_sorted`.\n",
    "- Using `ur_sorted`, plot `unempl_rate` on the y-axis and `date` on the x-axis."
   ],
   "cell_type": "markdown",
   "metadata": {}
  },
  {
   "cell_type": "code",
   "execution_count": 48,
   "metadata": {},
   "outputs": [],
   "source": [
    "# Import the DataFrame\n",
    "ur_wide = pd.read_csv('ur_wide.csv')"
   ]
  },
  {
   "cell_type": "code",
   "execution_count": 49,
   "metadata": {},
   "outputs": [
    {
     "output_type": "error",
     "ename": "TypeError",
     "evalue": "can only concatenate str (not \"int\") to str",
     "traceback": [
      "\u001b[0;31m---------------------------------------------------------------------------\u001b[0m",
      "\u001b[0;31mTypeError\u001b[0m                                 Traceback (most recent call last)",
      "\u001b[0;32m~/.local/lib/python3.8/site-packages/pandas/core/ops/array_ops.py\u001b[0m in \u001b[0;36m_na_arithmetic_op\u001b[0;34m(left, right, op, is_cmp)\u001b[0m\n\u001b[1;32m    141\u001b[0m     \u001b[0;32mtry\u001b[0m\u001b[0;34m:\u001b[0m\u001b[0;34m\u001b[0m\u001b[0;34m\u001b[0m\u001b[0m\n\u001b[0;32m--> 142\u001b[0;31m         \u001b[0mresult\u001b[0m \u001b[0;34m=\u001b[0m \u001b[0mexpressions\u001b[0m\u001b[0;34m.\u001b[0m\u001b[0mevaluate\u001b[0m\u001b[0;34m(\u001b[0m\u001b[0mop\u001b[0m\u001b[0;34m,\u001b[0m \u001b[0mleft\u001b[0m\u001b[0;34m,\u001b[0m \u001b[0mright\u001b[0m\u001b[0;34m)\u001b[0m\u001b[0;34m\u001b[0m\u001b[0;34m\u001b[0m\u001b[0m\n\u001b[0m\u001b[1;32m    143\u001b[0m     \u001b[0;32mexcept\u001b[0m \u001b[0mTypeError\u001b[0m\u001b[0;34m:\u001b[0m\u001b[0;34m\u001b[0m\u001b[0;34m\u001b[0m\u001b[0m\n",
      "\u001b[0;32m~/.local/lib/python3.8/site-packages/pandas/core/computation/expressions.py\u001b[0m in \u001b[0;36mevaluate\u001b[0;34m(op, a, b, use_numexpr)\u001b[0m\n\u001b[1;32m    234\u001b[0m             \u001b[0;31m# error: \"None\" not callable\u001b[0m\u001b[0;34m\u001b[0m\u001b[0;34m\u001b[0m\u001b[0;34m\u001b[0m\u001b[0m\n\u001b[0;32m--> 235\u001b[0;31m             \u001b[0;32mreturn\u001b[0m \u001b[0m_evaluate\u001b[0m\u001b[0;34m(\u001b[0m\u001b[0mop\u001b[0m\u001b[0;34m,\u001b[0m \u001b[0mop_str\u001b[0m\u001b[0;34m,\u001b[0m \u001b[0ma\u001b[0m\u001b[0;34m,\u001b[0m \u001b[0mb\u001b[0m\u001b[0;34m)\u001b[0m  \u001b[0;31m# type: ignore[misc]\u001b[0m\u001b[0;34m\u001b[0m\u001b[0;34m\u001b[0m\u001b[0m\n\u001b[0m\u001b[1;32m    236\u001b[0m     \u001b[0;32mreturn\u001b[0m \u001b[0m_evaluate_standard\u001b[0m\u001b[0;34m(\u001b[0m\u001b[0mop\u001b[0m\u001b[0;34m,\u001b[0m \u001b[0mop_str\u001b[0m\u001b[0;34m,\u001b[0m \u001b[0ma\u001b[0m\u001b[0;34m,\u001b[0m \u001b[0mb\u001b[0m\u001b[0;34m)\u001b[0m\u001b[0;34m\u001b[0m\u001b[0;34m\u001b[0m\u001b[0m\n",
      "\u001b[0;32m~/.local/lib/python3.8/site-packages/pandas/core/computation/expressions.py\u001b[0m in \u001b[0;36m_evaluate_numexpr\u001b[0;34m(op, op_str, a, b)\u001b[0m\n\u001b[1;32m    119\u001b[0m     \u001b[0;32mif\u001b[0m \u001b[0mresult\u001b[0m \u001b[0;32mis\u001b[0m \u001b[0;32mNone\u001b[0m\u001b[0;34m:\u001b[0m\u001b[0;34m\u001b[0m\u001b[0;34m\u001b[0m\u001b[0m\n\u001b[0;32m--> 120\u001b[0;31m         \u001b[0mresult\u001b[0m \u001b[0;34m=\u001b[0m \u001b[0m_evaluate_standard\u001b[0m\u001b[0;34m(\u001b[0m\u001b[0mop\u001b[0m\u001b[0;34m,\u001b[0m \u001b[0mop_str\u001b[0m\u001b[0;34m,\u001b[0m \u001b[0ma\u001b[0m\u001b[0;34m,\u001b[0m \u001b[0mb\u001b[0m\u001b[0;34m)\u001b[0m\u001b[0;34m\u001b[0m\u001b[0;34m\u001b[0m\u001b[0m\n\u001b[0m\u001b[1;32m    121\u001b[0m \u001b[0;34m\u001b[0m\u001b[0m\n",
      "\u001b[0;32m~/.local/lib/python3.8/site-packages/pandas/core/computation/expressions.py\u001b[0m in \u001b[0;36m_evaluate_standard\u001b[0;34m(op, op_str, a, b)\u001b[0m\n\u001b[1;32m     68\u001b[0m     \u001b[0;32mwith\u001b[0m \u001b[0mnp\u001b[0m\u001b[0;34m.\u001b[0m\u001b[0merrstate\u001b[0m\u001b[0;34m(\u001b[0m\u001b[0mall\u001b[0m\u001b[0;34m=\u001b[0m\u001b[0;34m\"ignore\"\u001b[0m\u001b[0;34m)\u001b[0m\u001b[0;34m:\u001b[0m\u001b[0;34m\u001b[0m\u001b[0;34m\u001b[0m\u001b[0m\n\u001b[0;32m---> 69\u001b[0;31m         \u001b[0;32mreturn\u001b[0m \u001b[0mop\u001b[0m\u001b[0;34m(\u001b[0m\u001b[0ma\u001b[0m\u001b[0;34m,\u001b[0m \u001b[0mb\u001b[0m\u001b[0;34m)\u001b[0m\u001b[0;34m\u001b[0m\u001b[0;34m\u001b[0m\u001b[0m\n\u001b[0m\u001b[1;32m     70\u001b[0m \u001b[0;34m\u001b[0m\u001b[0m\n",
      "\u001b[0;31mTypeError\u001b[0m: can only concatenate str (not \"int\") to str",
      "\nDuring handling of the above exception, another exception occurred:\n",
      "\u001b[0;31mTypeError\u001b[0m                                 Traceback (most recent call last)",
      "\u001b[0;32m<ipython-input-49-bac3e2bb6438>\u001b[0m in \u001b[0;36m<module>\u001b[0;34m\u001b[0m\n\u001b[1;32m      4\u001b[0m \u001b[0;34m\u001b[0m\u001b[0m\n\u001b[1;32m      5\u001b[0m \u001b[0;31m# Create a date column using the month and year columns of ur_tall\u001b[0m\u001b[0;34m\u001b[0m\u001b[0;34m\u001b[0m\u001b[0;34m\u001b[0m\u001b[0m\n\u001b[0;32m----> 6\u001b[0;31m \u001b[0mur_tall\u001b[0m\u001b[0;34m[\u001b[0m\u001b[0;34m'date'\u001b[0m\u001b[0;34m]\u001b[0m \u001b[0;34m=\u001b[0m \u001b[0mpd\u001b[0m\u001b[0;34m.\u001b[0m\u001b[0mto_datetime\u001b[0m\u001b[0;34m(\u001b[0m\u001b[0mur_tall\u001b[0m\u001b[0;34m[\u001b[0m\u001b[0;34m'month'\u001b[0m\u001b[0;34m]\u001b[0m \u001b[0;34m+\u001b[0m \u001b[0;34m'-'\u001b[0m \u001b[0;34m+\u001b[0m \u001b[0mur_tall\u001b[0m\u001b[0;34m[\u001b[0m\u001b[0;34m'year'\u001b[0m\u001b[0;34m]\u001b[0m\u001b[0;34m)\u001b[0m\u001b[0;34m\u001b[0m\u001b[0;34m\u001b[0m\u001b[0m\n\u001b[0m\u001b[1;32m      7\u001b[0m \u001b[0;34m\u001b[0m\u001b[0m\n\u001b[1;32m      8\u001b[0m \u001b[0;31m# Sort ur_tall by date in ascending order\u001b[0m\u001b[0;34m\u001b[0m\u001b[0;34m\u001b[0m\u001b[0;34m\u001b[0m\u001b[0m\n",
      "\u001b[0;32m~/.local/lib/python3.8/site-packages/pandas/core/ops/common.py\u001b[0m in \u001b[0;36mnew_method\u001b[0;34m(self, other)\u001b[0m\n\u001b[1;32m     63\u001b[0m         \u001b[0mother\u001b[0m \u001b[0;34m=\u001b[0m \u001b[0mitem_from_zerodim\u001b[0m\u001b[0;34m(\u001b[0m\u001b[0mother\u001b[0m\u001b[0;34m)\u001b[0m\u001b[0;34m\u001b[0m\u001b[0;34m\u001b[0m\u001b[0m\n\u001b[1;32m     64\u001b[0m \u001b[0;34m\u001b[0m\u001b[0m\n\u001b[0;32m---> 65\u001b[0;31m         \u001b[0;32mreturn\u001b[0m \u001b[0mmethod\u001b[0m\u001b[0;34m(\u001b[0m\u001b[0mself\u001b[0m\u001b[0;34m,\u001b[0m \u001b[0mother\u001b[0m\u001b[0;34m)\u001b[0m\u001b[0;34m\u001b[0m\u001b[0;34m\u001b[0m\u001b[0m\n\u001b[0m\u001b[1;32m     66\u001b[0m \u001b[0;34m\u001b[0m\u001b[0m\n\u001b[1;32m     67\u001b[0m     \u001b[0;32mreturn\u001b[0m \u001b[0mnew_method\u001b[0m\u001b[0;34m\u001b[0m\u001b[0;34m\u001b[0m\u001b[0m\n",
      "\u001b[0;32m~/.local/lib/python3.8/site-packages/pandas/core/arraylike.py\u001b[0m in \u001b[0;36m__add__\u001b[0;34m(self, other)\u001b[0m\n\u001b[1;32m     87\u001b[0m     \u001b[0;34m@\u001b[0m\u001b[0munpack_zerodim_and_defer\u001b[0m\u001b[0;34m(\u001b[0m\u001b[0;34m\"__add__\"\u001b[0m\u001b[0;34m)\u001b[0m\u001b[0;34m\u001b[0m\u001b[0;34m\u001b[0m\u001b[0m\n\u001b[1;32m     88\u001b[0m     \u001b[0;32mdef\u001b[0m \u001b[0m__add__\u001b[0m\u001b[0;34m(\u001b[0m\u001b[0mself\u001b[0m\u001b[0;34m,\u001b[0m \u001b[0mother\u001b[0m\u001b[0;34m)\u001b[0m\u001b[0;34m:\u001b[0m\u001b[0;34m\u001b[0m\u001b[0;34m\u001b[0m\u001b[0m\n\u001b[0;32m---> 89\u001b[0;31m         \u001b[0;32mreturn\u001b[0m \u001b[0mself\u001b[0m\u001b[0;34m.\u001b[0m\u001b[0m_arith_method\u001b[0m\u001b[0;34m(\u001b[0m\u001b[0mother\u001b[0m\u001b[0;34m,\u001b[0m \u001b[0moperator\u001b[0m\u001b[0;34m.\u001b[0m\u001b[0madd\u001b[0m\u001b[0;34m)\u001b[0m\u001b[0;34m\u001b[0m\u001b[0;34m\u001b[0m\u001b[0m\n\u001b[0m\u001b[1;32m     90\u001b[0m \u001b[0;34m\u001b[0m\u001b[0m\n\u001b[1;32m     91\u001b[0m     \u001b[0;34m@\u001b[0m\u001b[0munpack_zerodim_and_defer\u001b[0m\u001b[0;34m(\u001b[0m\u001b[0;34m\"__radd__\"\u001b[0m\u001b[0;34m)\u001b[0m\u001b[0;34m\u001b[0m\u001b[0;34m\u001b[0m\u001b[0m\n",
      "\u001b[0;32m~/.local/lib/python3.8/site-packages/pandas/core/series.py\u001b[0m in \u001b[0;36m_arith_method\u001b[0;34m(self, other, op)\u001b[0m\n\u001b[1;32m   4993\u001b[0m         \u001b[0mlvalues\u001b[0m \u001b[0;34m=\u001b[0m \u001b[0mextract_array\u001b[0m\u001b[0;34m(\u001b[0m\u001b[0mself\u001b[0m\u001b[0;34m,\u001b[0m \u001b[0mextract_numpy\u001b[0m\u001b[0;34m=\u001b[0m\u001b[0;32mTrue\u001b[0m\u001b[0;34m)\u001b[0m\u001b[0;34m\u001b[0m\u001b[0;34m\u001b[0m\u001b[0m\n\u001b[1;32m   4994\u001b[0m         \u001b[0mrvalues\u001b[0m \u001b[0;34m=\u001b[0m \u001b[0mextract_array\u001b[0m\u001b[0;34m(\u001b[0m\u001b[0mother\u001b[0m\u001b[0;34m,\u001b[0m \u001b[0mextract_numpy\u001b[0m\u001b[0;34m=\u001b[0m\u001b[0;32mTrue\u001b[0m\u001b[0;34m)\u001b[0m\u001b[0;34m\u001b[0m\u001b[0;34m\u001b[0m\u001b[0m\n\u001b[0;32m-> 4995\u001b[0;31m         \u001b[0mresult\u001b[0m \u001b[0;34m=\u001b[0m \u001b[0mops\u001b[0m\u001b[0;34m.\u001b[0m\u001b[0marithmetic_op\u001b[0m\u001b[0;34m(\u001b[0m\u001b[0mlvalues\u001b[0m\u001b[0;34m,\u001b[0m \u001b[0mrvalues\u001b[0m\u001b[0;34m,\u001b[0m \u001b[0mop\u001b[0m\u001b[0;34m)\u001b[0m\u001b[0;34m\u001b[0m\u001b[0;34m\u001b[0m\u001b[0m\n\u001b[0m\u001b[1;32m   4996\u001b[0m \u001b[0;34m\u001b[0m\u001b[0m\n\u001b[1;32m   4997\u001b[0m         \u001b[0;32mreturn\u001b[0m \u001b[0mself\u001b[0m\u001b[0;34m.\u001b[0m\u001b[0m_construct_result\u001b[0m\u001b[0;34m(\u001b[0m\u001b[0mresult\u001b[0m\u001b[0;34m,\u001b[0m \u001b[0mname\u001b[0m\u001b[0;34m=\u001b[0m\u001b[0mres_name\u001b[0m\u001b[0;34m)\u001b[0m\u001b[0;34m\u001b[0m\u001b[0;34m\u001b[0m\u001b[0m\n",
      "\u001b[0;32m~/.local/lib/python3.8/site-packages/pandas/core/ops/array_ops.py\u001b[0m in \u001b[0;36marithmetic_op\u001b[0;34m(left, right, op)\u001b[0m\n\u001b[1;32m    187\u001b[0m     \u001b[0;32melse\u001b[0m\u001b[0;34m:\u001b[0m\u001b[0;34m\u001b[0m\u001b[0;34m\u001b[0m\u001b[0m\n\u001b[1;32m    188\u001b[0m         \u001b[0;32mwith\u001b[0m \u001b[0mnp\u001b[0m\u001b[0;34m.\u001b[0m\u001b[0merrstate\u001b[0m\u001b[0;34m(\u001b[0m\u001b[0mall\u001b[0m\u001b[0;34m=\u001b[0m\u001b[0;34m\"ignore\"\u001b[0m\u001b[0;34m)\u001b[0m\u001b[0;34m:\u001b[0m\u001b[0;34m\u001b[0m\u001b[0;34m\u001b[0m\u001b[0m\n\u001b[0;32m--> 189\u001b[0;31m             \u001b[0mres_values\u001b[0m \u001b[0;34m=\u001b[0m \u001b[0m_na_arithmetic_op\u001b[0m\u001b[0;34m(\u001b[0m\u001b[0mlvalues\u001b[0m\u001b[0;34m,\u001b[0m \u001b[0mrvalues\u001b[0m\u001b[0;34m,\u001b[0m \u001b[0mop\u001b[0m\u001b[0;34m)\u001b[0m\u001b[0;34m\u001b[0m\u001b[0;34m\u001b[0m\u001b[0m\n\u001b[0m\u001b[1;32m    190\u001b[0m \u001b[0;34m\u001b[0m\u001b[0m\n\u001b[1;32m    191\u001b[0m     \u001b[0;32mreturn\u001b[0m \u001b[0mres_values\u001b[0m\u001b[0;34m\u001b[0m\u001b[0;34m\u001b[0m\u001b[0m\n",
      "\u001b[0;32m~/.local/lib/python3.8/site-packages/pandas/core/ops/array_ops.py\u001b[0m in \u001b[0;36m_na_arithmetic_op\u001b[0;34m(left, right, op, is_cmp)\u001b[0m\n\u001b[1;32m    147\u001b[0m             \u001b[0;31m#  will handle complex numbers incorrectly, see GH#32047\u001b[0m\u001b[0;34m\u001b[0m\u001b[0;34m\u001b[0m\u001b[0;34m\u001b[0m\u001b[0m\n\u001b[1;32m    148\u001b[0m             \u001b[0;32mraise\u001b[0m\u001b[0;34m\u001b[0m\u001b[0;34m\u001b[0m\u001b[0m\n\u001b[0;32m--> 149\u001b[0;31m         \u001b[0mresult\u001b[0m \u001b[0;34m=\u001b[0m \u001b[0m_masked_arith_op\u001b[0m\u001b[0;34m(\u001b[0m\u001b[0mleft\u001b[0m\u001b[0;34m,\u001b[0m \u001b[0mright\u001b[0m\u001b[0;34m,\u001b[0m \u001b[0mop\u001b[0m\u001b[0;34m)\u001b[0m\u001b[0;34m\u001b[0m\u001b[0;34m\u001b[0m\u001b[0m\n\u001b[0m\u001b[1;32m    150\u001b[0m \u001b[0;34m\u001b[0m\u001b[0m\n\u001b[1;32m    151\u001b[0m     \u001b[0;32mif\u001b[0m \u001b[0mis_cmp\u001b[0m \u001b[0;32mand\u001b[0m \u001b[0;34m(\u001b[0m\u001b[0mis_scalar\u001b[0m\u001b[0;34m(\u001b[0m\u001b[0mresult\u001b[0m\u001b[0;34m)\u001b[0m \u001b[0;32mor\u001b[0m \u001b[0mresult\u001b[0m \u001b[0;32mis\u001b[0m \u001b[0mNotImplemented\u001b[0m\u001b[0;34m)\u001b[0m\u001b[0;34m:\u001b[0m\u001b[0;34m\u001b[0m\u001b[0;34m\u001b[0m\u001b[0m\n",
      "\u001b[0;32m~/.local/lib/python3.8/site-packages/pandas/core/ops/array_ops.py\u001b[0m in \u001b[0;36m_masked_arith_op\u001b[0;34m(x, y, op)\u001b[0m\n\u001b[1;32m     89\u001b[0m         \u001b[0;32mif\u001b[0m \u001b[0mmask\u001b[0m\u001b[0;34m.\u001b[0m\u001b[0many\u001b[0m\u001b[0;34m(\u001b[0m\u001b[0;34m)\u001b[0m\u001b[0;34m:\u001b[0m\u001b[0;34m\u001b[0m\u001b[0;34m\u001b[0m\u001b[0m\n\u001b[1;32m     90\u001b[0m             \u001b[0;32mwith\u001b[0m \u001b[0mnp\u001b[0m\u001b[0;34m.\u001b[0m\u001b[0merrstate\u001b[0m\u001b[0;34m(\u001b[0m\u001b[0mall\u001b[0m\u001b[0;34m=\u001b[0m\u001b[0;34m\"ignore\"\u001b[0m\u001b[0;34m)\u001b[0m\u001b[0;34m:\u001b[0m\u001b[0;34m\u001b[0m\u001b[0;34m\u001b[0m\u001b[0m\n\u001b[0;32m---> 91\u001b[0;31m                 \u001b[0mresult\u001b[0m\u001b[0;34m[\u001b[0m\u001b[0mmask\u001b[0m\u001b[0;34m]\u001b[0m \u001b[0;34m=\u001b[0m \u001b[0mop\u001b[0m\u001b[0;34m(\u001b[0m\u001b[0mxrav\u001b[0m\u001b[0;34m[\u001b[0m\u001b[0mmask\u001b[0m\u001b[0;34m]\u001b[0m\u001b[0;34m,\u001b[0m \u001b[0myrav\u001b[0m\u001b[0;34m[\u001b[0m\u001b[0mmask\u001b[0m\u001b[0;34m]\u001b[0m\u001b[0;34m)\u001b[0m\u001b[0;34m\u001b[0m\u001b[0;34m\u001b[0m\u001b[0m\n\u001b[0m\u001b[1;32m     92\u001b[0m \u001b[0;34m\u001b[0m\u001b[0m\n\u001b[1;32m     93\u001b[0m     \u001b[0;32melse\u001b[0m\u001b[0;34m:\u001b[0m\u001b[0;34m\u001b[0m\u001b[0;34m\u001b[0m\u001b[0m\n",
      "\u001b[0;31mTypeError\u001b[0m: can only concatenate str (not \"int\") to str"
     ]
    }
   ],
   "source": [
    "# Unpivot everything besides the year column\n",
    "ur_tall = ur_wide.melt(id_vars=['year'], var_name='month', \n",
    "                       value_name='unempl_rate')\n",
    "\n",
    "# Create a date column using the month and year columns of ur_tall\n",
    "ur_tall['date'] = pd.to_datetime(ur_tall['month'] + '-' + ur_tall['year'])\n",
    "\n",
    "# Sort ur_tall by date in ascending order\n",
    "ur_sorted = ur_tall.sort_values('date')\n",
    "\n",
    "# Plot the unempl_rate by date\n",
    "ur_sorted.plot(x='date', y='unempl_rate')\n",
    "plt.show()"
   ]
  },
  {
   "source": [
    "## Using .melt() for stocks vs bond performance\n",
    "It is widespread knowledge that the price of bonds is inversely related to the price of stocks. In this last exercise, you'll review many of the topics in this chapter to confirm this. You have been given a table of percent change of the US 10-year treasury bond price. It is in a wide format where there is a separate column for each year. You will need to use the `.melt()` method to reshape this table.\n",
    "\n",
    "Additionally, you will use the `.query()` method to filter out unneeded data. You will merge this table with a table of the percent change of the Dow Jones Industrial stock index price. Finally, you will plot data.\n",
    "\n",
    "The tables `ten_yr` and `dji` have been loaded for you.\n",
    "\n",
    "Instructions\n",
    "\n",
    "- Use `.melt()` on `ten_yr` to unpivot everything except the `metric` column, setting `var_name='date'` and `value_name='close'`. Save the result to `bond_perc`.\n",
    "- Using the `.query()` method, select only those rows were `metric` equals 'close', and save to `bond_perc_close`.\n",
    "- Use `merge_ordered()` to merge `dji` (left table) and `bond_perc_close` on `date` with an inner join, and set `suffixes` equal to `('_dow', '_bond')`. Save the result to `dow_bond`.\n",
    "- Using `dow_bond`, plot only the Dow and bond values."
   ],
   "cell_type": "markdown",
   "metadata": {}
  },
  {
   "cell_type": "code",
   "execution_count": null,
   "metadata": {},
   "outputs": [],
   "source": [
    "# Import the DataFrames\n",
    "ten_yr = pd.read_csv('ten_yr.csv')\n",
    "dji = pd.read_csv('dji.csv')"
   ]
  },
  {
   "cell_type": "code",
   "execution_count": null,
   "metadata": {},
   "outputs": [],
   "source": [
    "# Use melt on ten_yr, unpivot everything besides the metric column\n",
    "bond_perc = ten_yr.melt(id_vars='metric', var_name='date', value_name='close')\n",
    "\n",
    "# Use query on bond_perc to select only the rows where metric=close\n",
    "bond_perc_close = bond_perc.query('metric == \"close\"')\n",
    "\n",
    "# Merge (ordered) dji and bond_perc_close on date with an inner join\n",
    "dow_bond = pd.merge_ordered(dji, bond_perc_close, on='date', \n",
    "                            suffixes=('_dow', '_bond'), how='inner')\n",
    "\n",
    "# Plot only the close_dow and close_bond columns\n",
    "dow_bond.plot(y=['close_dow', 'close_bond'], x='date', rot=90)\n",
    "plt.show()"
   ]
  }
 ]
}