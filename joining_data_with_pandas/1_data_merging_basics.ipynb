{
 "metadata": {
  "language_info": {
   "codemirror_mode": {
    "name": "ipython",
    "version": 3
   },
   "file_extension": ".py",
   "mimetype": "text/x-python",
   "name": "python",
   "nbconvert_exporter": "python",
   "pygments_lexer": "ipython3",
   "version": "3.8.5-final"
  },
  "orig_nbformat": 2,
  "kernelspec": {
   "name": "python3",
   "display_name": "Python 3",
   "language": "python"
  }
 },
 "nbformat": 4,
 "nbformat_minor": 2,
 "cells": [
  {
   "cell_type": "code",
   "execution_count": 30,
   "metadata": {},
   "outputs": [],
   "source": [
    "import pandas as pd"
   ]
  },
  {
   "source": [
    "## What column to merge on?\n",
    "Chicago provides a list of taxicab owners and vehicles licensed to operate within the city, for public safety. Your goal is to merge two tables together. One table is called `taxi_owners`, with info about the taxi cab company owners, and one is called `taxi_veh`, with info about each taxi cab vehicle. Both the `taxi_owners` and `taxi_veh` tables have been loaded for you and you can explore them in the console.\n",
    "\n",
    "Choose the column you would use to merge the two tables on using the `.merge()` method."
   ],
   "cell_type": "markdown",
   "metadata": {}
  },
  {
   "cell_type": "code",
   "execution_count": 32,
   "metadata": {},
   "outputs": [],
   "source": [
    "# Import taxi_owners .pkl file\n",
    "taxi_owners = pd.read_pickle('taxi_owners.pkl')\n",
    "\n",
    "# Import taxi_veh .pkl file\n",
    "taxi_veh = pd.read_pickle('taxi_veh.pkl')"
   ]
  },
  {
   "cell_type": "code",
   "execution_count": 33,
   "metadata": {},
   "outputs": [
    {
     "output_type": "display_data",
     "data": {
      "text/plain": "     rid   vid           owner                 address    zip\n0  T6285  6285  AGEAN TAXI LLC     4536 N. ELSTON AVE.  60630\n1  T4862  4862    MANGIB CORP.  5717 N. WASHTENAW AVE.  60659\n2  T1495  1495   FUNRIDE, INC.     3351 W. ADDISON ST.  60618\n3  T4231  4231    ALQUSH CORP.   6611 N. CAMPBELL AVE.  60645\n4  T5971  5971  EUNIFFORD INC.     3351 W. ADDISON ST.  60618",
      "text/html": "<div>\n<style scoped>\n    .dataframe tbody tr th:only-of-type {\n        vertical-align: middle;\n    }\n\n    .dataframe tbody tr th {\n        vertical-align: top;\n    }\n\n    .dataframe thead th {\n        text-align: right;\n    }\n</style>\n<table border=\"1\" class=\"dataframe\">\n  <thead>\n    <tr style=\"text-align: right;\">\n      <th></th>\n      <th>rid</th>\n      <th>vid</th>\n      <th>owner</th>\n      <th>address</th>\n      <th>zip</th>\n    </tr>\n  </thead>\n  <tbody>\n    <tr>\n      <th>0</th>\n      <td>T6285</td>\n      <td>6285</td>\n      <td>AGEAN TAXI LLC</td>\n      <td>4536 N. ELSTON AVE.</td>\n      <td>60630</td>\n    </tr>\n    <tr>\n      <th>1</th>\n      <td>T4862</td>\n      <td>4862</td>\n      <td>MANGIB CORP.</td>\n      <td>5717 N. WASHTENAW AVE.</td>\n      <td>60659</td>\n    </tr>\n    <tr>\n      <th>2</th>\n      <td>T1495</td>\n      <td>1495</td>\n      <td>FUNRIDE, INC.</td>\n      <td>3351 W. ADDISON ST.</td>\n      <td>60618</td>\n    </tr>\n    <tr>\n      <th>3</th>\n      <td>T4231</td>\n      <td>4231</td>\n      <td>ALQUSH CORP.</td>\n      <td>6611 N. CAMPBELL AVE.</td>\n      <td>60645</td>\n    </tr>\n    <tr>\n      <th>4</th>\n      <td>T5971</td>\n      <td>5971</td>\n      <td>EUNIFFORD INC.</td>\n      <td>3351 W. ADDISON ST.</td>\n      <td>60618</td>\n    </tr>\n  </tbody>\n</table>\n</div>"
     },
     "metadata": {}
    },
    {
     "output_type": "display_data",
     "data": {
      "text/plain": "    vid    make   model  year fuel_type                owner\n0  2767  TOYOTA   CAMRY  2013    HYBRID       SEYED M. BADRI\n1  1411  TOYOTA    RAV4  2017    HYBRID          DESZY CORP.\n2  6500  NISSAN  SENTRA  2019  GASOLINE       AGAPH CAB CORP\n3  2746  TOYOTA   CAMRY  2013    HYBRID  MIDWEST CAB CO, INC\n4  5922  TOYOTA   CAMRY  2013    HYBRID       SUMETTI CAB CO",
      "text/html": "<div>\n<style scoped>\n    .dataframe tbody tr th:only-of-type {\n        vertical-align: middle;\n    }\n\n    .dataframe tbody tr th {\n        vertical-align: top;\n    }\n\n    .dataframe thead th {\n        text-align: right;\n    }\n</style>\n<table border=\"1\" class=\"dataframe\">\n  <thead>\n    <tr style=\"text-align: right;\">\n      <th></th>\n      <th>vid</th>\n      <th>make</th>\n      <th>model</th>\n      <th>year</th>\n      <th>fuel_type</th>\n      <th>owner</th>\n    </tr>\n  </thead>\n  <tbody>\n    <tr>\n      <th>0</th>\n      <td>2767</td>\n      <td>TOYOTA</td>\n      <td>CAMRY</td>\n      <td>2013</td>\n      <td>HYBRID</td>\n      <td>SEYED M. BADRI</td>\n    </tr>\n    <tr>\n      <th>1</th>\n      <td>1411</td>\n      <td>TOYOTA</td>\n      <td>RAV4</td>\n      <td>2017</td>\n      <td>HYBRID</td>\n      <td>DESZY CORP.</td>\n    </tr>\n    <tr>\n      <th>2</th>\n      <td>6500</td>\n      <td>NISSAN</td>\n      <td>SENTRA</td>\n      <td>2019</td>\n      <td>GASOLINE</td>\n      <td>AGAPH CAB CORP</td>\n    </tr>\n    <tr>\n      <th>3</th>\n      <td>2746</td>\n      <td>TOYOTA</td>\n      <td>CAMRY</td>\n      <td>2013</td>\n      <td>HYBRID</td>\n      <td>MIDWEST CAB CO, INC</td>\n    </tr>\n    <tr>\n      <th>4</th>\n      <td>5922</td>\n      <td>TOYOTA</td>\n      <td>CAMRY</td>\n      <td>2013</td>\n      <td>HYBRID</td>\n      <td>SUMETTI CAB CO</td>\n    </tr>\n  </tbody>\n</table>\n</div>"
     },
     "metadata": {}
    }
   ],
   "source": [
    "display(taxi_owners.head())\n",
    "display(taxi_veh.head())"
   ]
  },
  {
   "cell_type": "code",
   "execution_count": null,
   "metadata": {},
   "outputs": [],
   "source": [
    "# R:\n",
    "on='vid'"
   ]
  },
  {
   "source": [
    "## Your first inner join\n",
    "You have been tasked with figuring out what the most popular types of fuel used in Chicago taxis are. To complete the analysis, you need to merge the `taxi_owners` and `taxi_veh` tables together on the `vid` column. You can then use the merged table along with the `.value_counts()` method to find the most common `fuel_type`.\n",
    "\n",
    "Instructions\n",
    "\n",
    "- Merge `taxi_owners` with `taxi_veh` on the column `vid`, and save the result to `taxi_own_veh`.\n",
    "- Set the left and right table suffixes for overlapping columns of the merge to `_own` and `_veh`, respectively.\n",
    "- Select the `fuel_type` column from `taxi_own_veh` and print the `value_counts()` to find the most popular `fuel_types` used."
   ],
   "cell_type": "markdown",
   "metadata": {}
  },
  {
   "cell_type": "code",
   "execution_count": 9,
   "metadata": {},
   "outputs": [
    {
     "output_type": "display_data",
     "data": {
      "text/plain": "Index(['rid', 'vid', 'owner_x', 'address', 'zip', 'make', 'model', 'year',\n       'fuel_type', 'owner_y'],\n      dtype='object')"
     },
     "metadata": {}
    },
    {
     "output_type": "display_data",
     "data": {
      "text/plain": "     rid   vid         owner_x                 address    zip    make   model  \\\n0  T6285  6285  AGEAN TAXI LLC     4536 N. ELSTON AVE.  60630  NISSAN  ALTIMA   \n1  T4862  4862    MANGIB CORP.  5717 N. WASHTENAW AVE.  60659   HONDA     CRV   \n2  T1495  1495   FUNRIDE, INC.     3351 W. ADDISON ST.  60618  TOYOTA  SIENNA   \n3  T4231  4231    ALQUSH CORP.   6611 N. CAMPBELL AVE.  60645  TOYOTA   CAMRY   \n4  T5971  5971  EUNIFFORD INC.     3351 W. ADDISON ST.  60618  TOYOTA  SIENNA   \n\n   year fuel_type         owner_y  \n0  2011    HYBRID  AGEAN TAXI LLC  \n1  2014  GASOLINE    MANGIB CORP.  \n2  2015  GASOLINE   FUNRIDE, INC.  \n3  2014    HYBRID    ALQUSH CORP.  \n4  2015  GASOLINE  EUNIFFORD INC.  ",
      "text/html": "<div>\n<style scoped>\n    .dataframe tbody tr th:only-of-type {\n        vertical-align: middle;\n    }\n\n    .dataframe tbody tr th {\n        vertical-align: top;\n    }\n\n    .dataframe thead th {\n        text-align: right;\n    }\n</style>\n<table border=\"1\" class=\"dataframe\">\n  <thead>\n    <tr style=\"text-align: right;\">\n      <th></th>\n      <th>rid</th>\n      <th>vid</th>\n      <th>owner_x</th>\n      <th>address</th>\n      <th>zip</th>\n      <th>make</th>\n      <th>model</th>\n      <th>year</th>\n      <th>fuel_type</th>\n      <th>owner_y</th>\n    </tr>\n  </thead>\n  <tbody>\n    <tr>\n      <th>0</th>\n      <td>T6285</td>\n      <td>6285</td>\n      <td>AGEAN TAXI LLC</td>\n      <td>4536 N. ELSTON AVE.</td>\n      <td>60630</td>\n      <td>NISSAN</td>\n      <td>ALTIMA</td>\n      <td>2011</td>\n      <td>HYBRID</td>\n      <td>AGEAN TAXI LLC</td>\n    </tr>\n    <tr>\n      <th>1</th>\n      <td>T4862</td>\n      <td>4862</td>\n      <td>MANGIB CORP.</td>\n      <td>5717 N. WASHTENAW AVE.</td>\n      <td>60659</td>\n      <td>HONDA</td>\n      <td>CRV</td>\n      <td>2014</td>\n      <td>GASOLINE</td>\n      <td>MANGIB CORP.</td>\n    </tr>\n    <tr>\n      <th>2</th>\n      <td>T1495</td>\n      <td>1495</td>\n      <td>FUNRIDE, INC.</td>\n      <td>3351 W. ADDISON ST.</td>\n      <td>60618</td>\n      <td>TOYOTA</td>\n      <td>SIENNA</td>\n      <td>2015</td>\n      <td>GASOLINE</td>\n      <td>FUNRIDE, INC.</td>\n    </tr>\n    <tr>\n      <th>3</th>\n      <td>T4231</td>\n      <td>4231</td>\n      <td>ALQUSH CORP.</td>\n      <td>6611 N. CAMPBELL AVE.</td>\n      <td>60645</td>\n      <td>TOYOTA</td>\n      <td>CAMRY</td>\n      <td>2014</td>\n      <td>HYBRID</td>\n      <td>ALQUSH CORP.</td>\n    </tr>\n    <tr>\n      <th>4</th>\n      <td>T5971</td>\n      <td>5971</td>\n      <td>EUNIFFORD INC.</td>\n      <td>3351 W. ADDISON ST.</td>\n      <td>60618</td>\n      <td>TOYOTA</td>\n      <td>SIENNA</td>\n      <td>2015</td>\n      <td>GASOLINE</td>\n      <td>EUNIFFORD INC.</td>\n    </tr>\n  </tbody>\n</table>\n</div>"
     },
     "metadata": {}
    }
   ],
   "source": [
    "# Merge the taxi_owners and taxi_veh tables\n",
    "taxi_own_veh = taxi_owners.merge(taxi_veh, on='vid')\n",
    "\n",
    "# Print the column names of the taxi_own_veh\n",
    "display(taxi_own_veh.columns)\n",
    "\n",
    "display(taxi_own_veh.head())"
   ]
  },
  {
   "cell_type": "code",
   "execution_count": 10,
   "metadata": {},
   "outputs": [
    {
     "output_type": "display_data",
     "data": {
      "text/plain": "Index(['rid', 'vid', 'owner_own', 'address', 'zip', 'make', 'model', 'year',\n       'fuel_type', 'owner_veh'],\n      dtype='object')"
     },
     "metadata": {}
    },
    {
     "output_type": "display_data",
     "data": {
      "text/plain": "     rid   vid       owner_own                 address    zip    make   model  \\\n0  T6285  6285  AGEAN TAXI LLC     4536 N. ELSTON AVE.  60630  NISSAN  ALTIMA   \n1  T4862  4862    MANGIB CORP.  5717 N. WASHTENAW AVE.  60659   HONDA     CRV   \n2  T1495  1495   FUNRIDE, INC.     3351 W. ADDISON ST.  60618  TOYOTA  SIENNA   \n3  T4231  4231    ALQUSH CORP.   6611 N. CAMPBELL AVE.  60645  TOYOTA   CAMRY   \n4  T5971  5971  EUNIFFORD INC.     3351 W. ADDISON ST.  60618  TOYOTA  SIENNA   \n\n   year fuel_type       owner_veh  \n0  2011    HYBRID  AGEAN TAXI LLC  \n1  2014  GASOLINE    MANGIB CORP.  \n2  2015  GASOLINE   FUNRIDE, INC.  \n3  2014    HYBRID    ALQUSH CORP.  \n4  2015  GASOLINE  EUNIFFORD INC.  ",
      "text/html": "<div>\n<style scoped>\n    .dataframe tbody tr th:only-of-type {\n        vertical-align: middle;\n    }\n\n    .dataframe tbody tr th {\n        vertical-align: top;\n    }\n\n    .dataframe thead th {\n        text-align: right;\n    }\n</style>\n<table border=\"1\" class=\"dataframe\">\n  <thead>\n    <tr style=\"text-align: right;\">\n      <th></th>\n      <th>rid</th>\n      <th>vid</th>\n      <th>owner_own</th>\n      <th>address</th>\n      <th>zip</th>\n      <th>make</th>\n      <th>model</th>\n      <th>year</th>\n      <th>fuel_type</th>\n      <th>owner_veh</th>\n    </tr>\n  </thead>\n  <tbody>\n    <tr>\n      <th>0</th>\n      <td>T6285</td>\n      <td>6285</td>\n      <td>AGEAN TAXI LLC</td>\n      <td>4536 N. ELSTON AVE.</td>\n      <td>60630</td>\n      <td>NISSAN</td>\n      <td>ALTIMA</td>\n      <td>2011</td>\n      <td>HYBRID</td>\n      <td>AGEAN TAXI LLC</td>\n    </tr>\n    <tr>\n      <th>1</th>\n      <td>T4862</td>\n      <td>4862</td>\n      <td>MANGIB CORP.</td>\n      <td>5717 N. WASHTENAW AVE.</td>\n      <td>60659</td>\n      <td>HONDA</td>\n      <td>CRV</td>\n      <td>2014</td>\n      <td>GASOLINE</td>\n      <td>MANGIB CORP.</td>\n    </tr>\n    <tr>\n      <th>2</th>\n      <td>T1495</td>\n      <td>1495</td>\n      <td>FUNRIDE, INC.</td>\n      <td>3351 W. ADDISON ST.</td>\n      <td>60618</td>\n      <td>TOYOTA</td>\n      <td>SIENNA</td>\n      <td>2015</td>\n      <td>GASOLINE</td>\n      <td>FUNRIDE, INC.</td>\n    </tr>\n    <tr>\n      <th>3</th>\n      <td>T4231</td>\n      <td>4231</td>\n      <td>ALQUSH CORP.</td>\n      <td>6611 N. CAMPBELL AVE.</td>\n      <td>60645</td>\n      <td>TOYOTA</td>\n      <td>CAMRY</td>\n      <td>2014</td>\n      <td>HYBRID</td>\n      <td>ALQUSH CORP.</td>\n    </tr>\n    <tr>\n      <th>4</th>\n      <td>T5971</td>\n      <td>5971</td>\n      <td>EUNIFFORD INC.</td>\n      <td>3351 W. ADDISON ST.</td>\n      <td>60618</td>\n      <td>TOYOTA</td>\n      <td>SIENNA</td>\n      <td>2015</td>\n      <td>GASOLINE</td>\n      <td>EUNIFFORD INC.</td>\n    </tr>\n  </tbody>\n</table>\n</div>"
     },
     "metadata": {}
    }
   ],
   "source": [
    "# Merge the taxi_owners and taxi_veh tables setting a suffix\n",
    "taxi_own_veh = taxi_owners.merge(taxi_veh, on='vid', suffixes=('_own','_veh'))\n",
    "\n",
    "# Print the column names of taxi_own_veh\n",
    "display(taxi_own_veh.columns)\n",
    "\n",
    "display(taxi_own_veh.head())"
   ]
  },
  {
   "cell_type": "code",
   "execution_count": 11,
   "metadata": {},
   "outputs": [
    {
     "output_type": "execute_result",
     "data": {
      "text/plain": [
       "HYBRID                    2792\n",
       "GASOLINE                   611\n",
       "FLEX FUEL                   89\n",
       "COMPRESSED NATURAL GAS      27\n",
       "Name: fuel_type, dtype: int64"
      ]
     },
     "metadata": {},
     "execution_count": 11
    }
   ],
   "source": [
    "# Merge the taxi_owners and taxi_veh tables setting a suffix\n",
    "taxi_own_veh = taxi_owners.merge(taxi_veh, on='vid', suffixes=('_own','_veh'))\n",
    "\n",
    "# Print the value_counts to find the most popular fuel_type\n",
    "taxi_own_veh['fuel_type'].value_counts()"
   ]
  },
  {
   "source": [
    "## Inner joins and number of rows returned\n",
    "All of the merges you have studied to this point are called inner joins. It is necessary to understand that inner joins only return the rows with matching values in both tables. You will explore this further by reviewing the merge between the `wards` and `census` tables, then comparing it to merges of copies of these tables that are slightly altered, named `wards_altered`, and `census_altered`. The first row of the `wards` column has been changed in the altered tables. You will examine how this affects the merge between them. The tables have been loaded for you.\n",
    "\n",
    "For this exercise, it is important to know that the wards and census tables start with **50** rows.\n",
    "\n",
    "Instructions\n",
    "\n",
    "- Merge `wards` and `census` on the `ward` column and save the result to `wards_census`.\n",
    "- Merge the `wards_altered` and `census` tables on the `ward` column, and notice the difference in returned rows.\n",
    "- Merge the `wards` and `census_altered` tables on the `ward` column, and notice the difference in returned rows."
   ],
   "cell_type": "markdown",
   "metadata": {}
  },
  {
   "cell_type": "code",
   "execution_count": 15,
   "metadata": {},
   "outputs": [],
   "source": [
    "# Import wards .pkl file\n",
    "wards = pd.read_pickle('wards.pkl')\n",
    "\n",
    "# Import census .pkl file\n",
    "census = pd.read_pickle('census.pkl')"
   ]
  },
  {
   "cell_type": "code",
   "execution_count": 19,
   "metadata": {},
   "outputs": [
    {
     "output_type": "display_data",
     "data": {
      "text/plain": "  ward            alderman                          address    zip\n0    1  Proco \"Joe\" Moreno        2058 NORTH WESTERN AVENUE  60647\n1    2       Brian Hopkins       1400 NORTH  ASHLAND AVENUE  60622\n2    3          Pat Dowell          5046 SOUTH STATE STREET  60609\n3    4    William D. Burns  435 EAST 35TH STREET, 1ST FLOOR  60616\n4    5  Leslie A. Hairston            2325 EAST 71ST STREET  60649",
      "text/html": "<div>\n<style scoped>\n    .dataframe tbody tr th:only-of-type {\n        vertical-align: middle;\n    }\n\n    .dataframe tbody tr th {\n        vertical-align: top;\n    }\n\n    .dataframe thead th {\n        text-align: right;\n    }\n</style>\n<table border=\"1\" class=\"dataframe\">\n  <thead>\n    <tr style=\"text-align: right;\">\n      <th></th>\n      <th>ward</th>\n      <th>alderman</th>\n      <th>address</th>\n      <th>zip</th>\n    </tr>\n  </thead>\n  <tbody>\n    <tr>\n      <th>0</th>\n      <td>1</td>\n      <td>Proco \"Joe\" Moreno</td>\n      <td>2058 NORTH WESTERN AVENUE</td>\n      <td>60647</td>\n    </tr>\n    <tr>\n      <th>1</th>\n      <td>2</td>\n      <td>Brian Hopkins</td>\n      <td>1400 NORTH  ASHLAND AVENUE</td>\n      <td>60622</td>\n    </tr>\n    <tr>\n      <th>2</th>\n      <td>3</td>\n      <td>Pat Dowell</td>\n      <td>5046 SOUTH STATE STREET</td>\n      <td>60609</td>\n    </tr>\n    <tr>\n      <th>3</th>\n      <td>4</td>\n      <td>William D. Burns</td>\n      <td>435 EAST 35TH STREET, 1ST FLOOR</td>\n      <td>60616</td>\n    </tr>\n    <tr>\n      <th>4</th>\n      <td>5</td>\n      <td>Leslie A. Hairston</td>\n      <td>2325 EAST 71ST STREET</td>\n      <td>60649</td>\n    </tr>\n  </tbody>\n</table>\n</div>"
     },
     "metadata": {}
    },
    {
     "output_type": "display_data",
     "data": {
      "text/plain": "  ward  pop_2000  pop_2010 change                                  address  \\\n0    1     52951     56149     6%              2765 WEST SAINT MARY STREET   \n1    2     54361     55805     3%                 WM WASTE MANAGEMENT 1500   \n2    3     40385     53039    31%                      17 EAST 38TH STREET   \n3    4     51953     54589     5%  31ST ST HARBOR BUILDING LAKEFRONT TRAIL   \n4    5     55302     51455    -7%  JACKSON PARK LAGOON SOUTH CORNELL DRIVE   \n\n     zip  \n0  60647  \n1  60622  \n2  60653  \n3  60653  \n4  60637  ",
      "text/html": "<div>\n<style scoped>\n    .dataframe tbody tr th:only-of-type {\n        vertical-align: middle;\n    }\n\n    .dataframe tbody tr th {\n        vertical-align: top;\n    }\n\n    .dataframe thead th {\n        text-align: right;\n    }\n</style>\n<table border=\"1\" class=\"dataframe\">\n  <thead>\n    <tr style=\"text-align: right;\">\n      <th></th>\n      <th>ward</th>\n      <th>pop_2000</th>\n      <th>pop_2010</th>\n      <th>change</th>\n      <th>address</th>\n      <th>zip</th>\n    </tr>\n  </thead>\n  <tbody>\n    <tr>\n      <th>0</th>\n      <td>1</td>\n      <td>52951</td>\n      <td>56149</td>\n      <td>6%</td>\n      <td>2765 WEST SAINT MARY STREET</td>\n      <td>60647</td>\n    </tr>\n    <tr>\n      <th>1</th>\n      <td>2</td>\n      <td>54361</td>\n      <td>55805</td>\n      <td>3%</td>\n      <td>WM WASTE MANAGEMENT 1500</td>\n      <td>60622</td>\n    </tr>\n    <tr>\n      <th>2</th>\n      <td>3</td>\n      <td>40385</td>\n      <td>53039</td>\n      <td>31%</td>\n      <td>17 EAST 38TH STREET</td>\n      <td>60653</td>\n    </tr>\n    <tr>\n      <th>3</th>\n      <td>4</td>\n      <td>51953</td>\n      <td>54589</td>\n      <td>5%</td>\n      <td>31ST ST HARBOR BUILDING LAKEFRONT TRAIL</td>\n      <td>60653</td>\n    </tr>\n    <tr>\n      <th>4</th>\n      <td>5</td>\n      <td>55302</td>\n      <td>51455</td>\n      <td>-7%</td>\n      <td>JACKSON PARK LAGOON SOUTH CORNELL DRIVE</td>\n      <td>60637</td>\n    </tr>\n  </tbody>\n</table>\n</div>"
     },
     "metadata": {}
    }
   ],
   "source": [
    "display(wards.head())\n",
    "display(census.head())"
   ]
  },
  {
   "cell_type": "code",
   "execution_count": 21,
   "metadata": {},
   "outputs": [
    {
     "output_type": "stream",
     "name": "stdout",
     "text": [
      "wards_census table shape: (50, 9)\n"
     ]
    },
    {
     "output_type": "display_data",
     "data": {
      "text/plain": "  ward            alderman                        address_x  zip_x  pop_2000  \\\n0    1  Proco \"Joe\" Moreno        2058 NORTH WESTERN AVENUE  60647     52951   \n1    2       Brian Hopkins       1400 NORTH  ASHLAND AVENUE  60622     54361   \n2    3          Pat Dowell          5046 SOUTH STATE STREET  60609     40385   \n3    4    William D. Burns  435 EAST 35TH STREET, 1ST FLOOR  60616     51953   \n4    5  Leslie A. Hairston            2325 EAST 71ST STREET  60649     55302   \n\n   pop_2010 change                                address_y  zip_y  \n0     56149     6%              2765 WEST SAINT MARY STREET  60647  \n1     55805     3%                 WM WASTE MANAGEMENT 1500  60622  \n2     53039    31%                      17 EAST 38TH STREET  60653  \n3     54589     5%  31ST ST HARBOR BUILDING LAKEFRONT TRAIL  60653  \n4     51455    -7%  JACKSON PARK LAGOON SOUTH CORNELL DRIVE  60637  ",
      "text/html": "<div>\n<style scoped>\n    .dataframe tbody tr th:only-of-type {\n        vertical-align: middle;\n    }\n\n    .dataframe tbody tr th {\n        vertical-align: top;\n    }\n\n    .dataframe thead th {\n        text-align: right;\n    }\n</style>\n<table border=\"1\" class=\"dataframe\">\n  <thead>\n    <tr style=\"text-align: right;\">\n      <th></th>\n      <th>ward</th>\n      <th>alderman</th>\n      <th>address_x</th>\n      <th>zip_x</th>\n      <th>pop_2000</th>\n      <th>pop_2010</th>\n      <th>change</th>\n      <th>address_y</th>\n      <th>zip_y</th>\n    </tr>\n  </thead>\n  <tbody>\n    <tr>\n      <th>0</th>\n      <td>1</td>\n      <td>Proco \"Joe\" Moreno</td>\n      <td>2058 NORTH WESTERN AVENUE</td>\n      <td>60647</td>\n      <td>52951</td>\n      <td>56149</td>\n      <td>6%</td>\n      <td>2765 WEST SAINT MARY STREET</td>\n      <td>60647</td>\n    </tr>\n    <tr>\n      <th>1</th>\n      <td>2</td>\n      <td>Brian Hopkins</td>\n      <td>1400 NORTH  ASHLAND AVENUE</td>\n      <td>60622</td>\n      <td>54361</td>\n      <td>55805</td>\n      <td>3%</td>\n      <td>WM WASTE MANAGEMENT 1500</td>\n      <td>60622</td>\n    </tr>\n    <tr>\n      <th>2</th>\n      <td>3</td>\n      <td>Pat Dowell</td>\n      <td>5046 SOUTH STATE STREET</td>\n      <td>60609</td>\n      <td>40385</td>\n      <td>53039</td>\n      <td>31%</td>\n      <td>17 EAST 38TH STREET</td>\n      <td>60653</td>\n    </tr>\n    <tr>\n      <th>3</th>\n      <td>4</td>\n      <td>William D. Burns</td>\n      <td>435 EAST 35TH STREET, 1ST FLOOR</td>\n      <td>60616</td>\n      <td>51953</td>\n      <td>54589</td>\n      <td>5%</td>\n      <td>31ST ST HARBOR BUILDING LAKEFRONT TRAIL</td>\n      <td>60653</td>\n    </tr>\n    <tr>\n      <th>4</th>\n      <td>5</td>\n      <td>Leslie A. Hairston</td>\n      <td>2325 EAST 71ST STREET</td>\n      <td>60649</td>\n      <td>55302</td>\n      <td>51455</td>\n      <td>-7%</td>\n      <td>JACKSON PARK LAGOON SOUTH CORNELL DRIVE</td>\n      <td>60637</td>\n    </tr>\n  </tbody>\n</table>\n</div>"
     },
     "metadata": {}
    }
   ],
   "source": [
    "# Merge the wards and census tables on the ward column\n",
    "wards_census = wards.merge(census, on='ward')\n",
    "\n",
    "# Print the shape of wards_census\n",
    "print('wards_census table shape:', wards_census.shape)\n",
    "\n",
    "display(wards_census.head())"
   ]
  },
  {
   "source": [
    "# Print the first few rows of the wards_altered table to view the change \n",
    "print(wards_altered[['ward']].head())\n",
    "\n",
    "# Merge the wards_altered and census tables on the ward column\n",
    "wards_altered_census = wards.merge(census, on='ward')\n",
    "\n",
    "# Print the shape of wards_altered_census\n",
    "print('wards_altered_census table shape:', wards_altered_census.shape)"
   ],
   "cell_type": "code",
   "metadata": {},
   "execution_count": null,
   "outputs": []
  },
  {
   "cell_type": "code",
   "execution_count": null,
   "metadata": {},
   "outputs": [],
   "source": [
    "# Print the first few rows of the wards_altered table to view the change \n",
    "print(wards_altered[['ward']].head())\n",
    "\n",
    "# Merge the wards_altered and census tables on the ward column\n",
    "wards_altered_census = wards_altered.merge(census, on='ward')\n",
    "\n",
    "# Print the shape of wards_altered_census\n",
    "print('wards_altered_census table shape:', wards_altered_census.shape)"
   ]
  },
  {
   "cell_type": "code",
   "execution_count": null,
   "metadata": {},
   "outputs": [],
   "source": [
    "# Print the first few rows of the census_altered table to view the change \n",
    "print(census_altered[['ward']].head())\n",
    "\n",
    "# Merge the wards and census_altered tables on the ward column\n",
    "wards_census_altered = wards.merge(census_altered, on='ward')\n",
    "\n",
    "# Print the shape of wards_census_altered\n",
    "print('wards_census_altered table shape:', wards_census_altered.shape)"
   ]
  },
  {
   "source": [
    "## One-to-many classification\n",
    "Understanding the difference between a one-to-one and one-to-many relationship is a useful skill. In this exercise, consider a set of tables from an e-commerce website. The hypothetical tables are the following:\n",
    "\n",
    "- A `customer` table with information about each customer\n",
    "- A `cust_tax_info` table with customers unique tax IDs\n",
    "- An `orders` table with information about each order\n",
    "- A `products` table with details about each unique product sold\n",
    "- An `inventory` table with information on how much total inventory is available to sell for each product\n",
    "\n",
    "Instructions\n",
    "\n",
    "- Select the relationship type that is most appropriate for the relationship between the different tables: **One-to-one**, or **One-to-many**."
   ],
   "cell_type": "markdown",
   "metadata": {}
  },
  {
   "source": [
    "**One-to-one**\n",
    "\n",
    "- The relationship between `products` and `inventory`.\n",
    "- The relationship between `customer` and `cust_tax_info`."
   ],
   "cell_type": "markdown",
   "metadata": {}
  },
  {
   "source": [
    "**One-to-many**\n",
    "\n",
    "- The relationship between the `products` and `orders`.\n",
    "- The relationship between the `customers` and `orders`."
   ],
   "cell_type": "markdown",
   "metadata": {}
  },
  {
   "source": [],
   "cell_type": "markdown",
   "metadata": {}
  },
  {
   "source": [
    "## One-to-many merge\n",
    "A business may have one or multiple owners. In this exercise, you will continue to gain experience with one-to-many merges by merging a table of business owners, called `owners`, to the `licenses` table. Recall from the video lesson, with a one-to-many relationship, a row in the left table may be repeated if it is related to multiple rows in the right table. In this lesson, you will explore this further by finding out what is the most common business owner title. (i.e., secretary, CEO, or vice president)\n",
    "\n",
    "Instructions\n",
    "\n",
    "- Starting with the `licenses` table on the left, merge it to the `owners` table on the column `account`, and save the results to a variable named `licenses_owners`.\n",
    "- Group `licenses_owners` by `title` and count the number of accounts for each title. Save the result as `counted_df`.\n",
    "- Sort `counted_df` by the number of **accounts** in **descending order**, and save this as a variable named `sorted_df`.\n",
    "- Use the `.head()` method to print the first few rows of the `sorted_df`."
   ],
   "cell_type": "markdown",
   "metadata": {}
  },
  {
   "source": [
    "# Import licenses .pkl file\n",
    "licenses = pd.read_pickle('licenses.pkl')\n",
    "\n",
    "# Import owners .pkl file\n",
    "owners = pd.read_pickle('owners.pkl')\n",
    "\n",
    "display(licenses.head())\n",
    "display(owners.head())"
   ],
   "cell_type": "code",
   "metadata": {},
   "execution_count": 57,
   "outputs": [
    {
     "output_type": "display_data",
     "data": {
      "text/plain": "  account ward  aid                   business               address    zip\n0  307071    3  743       REGGIE'S BAR & GRILL       2105 S STATE ST  60616\n1      10   10  829                 HONEYBEERS   13200 S HOUSTON AVE  60633\n2   10002   14  775                CELINA DELI     5089 S ARCHER AVE  60632\n3   10005   12  NaN  KRAFT FOODS NORTH AMERICA        2005 W 43RD ST  60609\n4   10044   44  638  NEYBOUR'S TAVERN & GRILLE  3651 N SOUTHPORT AVE  60613",
      "text/html": "<div>\n<style scoped>\n    .dataframe tbody tr th:only-of-type {\n        vertical-align: middle;\n    }\n\n    .dataframe tbody tr th {\n        vertical-align: top;\n    }\n\n    .dataframe thead th {\n        text-align: right;\n    }\n</style>\n<table border=\"1\" class=\"dataframe\">\n  <thead>\n    <tr style=\"text-align: right;\">\n      <th></th>\n      <th>account</th>\n      <th>ward</th>\n      <th>aid</th>\n      <th>business</th>\n      <th>address</th>\n      <th>zip</th>\n    </tr>\n  </thead>\n  <tbody>\n    <tr>\n      <th>0</th>\n      <td>307071</td>\n      <td>3</td>\n      <td>743</td>\n      <td>REGGIE'S BAR &amp; GRILL</td>\n      <td>2105 S STATE ST</td>\n      <td>60616</td>\n    </tr>\n    <tr>\n      <th>1</th>\n      <td>10</td>\n      <td>10</td>\n      <td>829</td>\n      <td>HONEYBEERS</td>\n      <td>13200 S HOUSTON AVE</td>\n      <td>60633</td>\n    </tr>\n    <tr>\n      <th>2</th>\n      <td>10002</td>\n      <td>14</td>\n      <td>775</td>\n      <td>CELINA DELI</td>\n      <td>5089 S ARCHER AVE</td>\n      <td>60632</td>\n    </tr>\n    <tr>\n      <th>3</th>\n      <td>10005</td>\n      <td>12</td>\n      <td>NaN</td>\n      <td>KRAFT FOODS NORTH AMERICA</td>\n      <td>2005 W 43RD ST</td>\n      <td>60609</td>\n    </tr>\n    <tr>\n      <th>4</th>\n      <td>10044</td>\n      <td>44</td>\n      <td>638</td>\n      <td>NEYBOUR'S TAVERN &amp; GRILLE</td>\n      <td>3651 N SOUTHPORT AVE</td>\n      <td>60613</td>\n    </tr>\n  </tbody>\n</table>\n</div>"
     },
     "metadata": {}
    },
    {
     "output_type": "display_data",
     "data": {
      "text/plain": "  account first_name  last_name      title\n0      10      PEARL    SHERMAN  PRESIDENT\n1      10      PEARL    SHERMAN  SECRETARY\n2   10002     WALTER     MROZEK    PARTNER\n3   10002     CELINA     BYRDAK    PARTNER\n4   10005      IRENE  ROSENFELD  PRESIDENT",
      "text/html": "<div>\n<style scoped>\n    .dataframe tbody tr th:only-of-type {\n        vertical-align: middle;\n    }\n\n    .dataframe tbody tr th {\n        vertical-align: top;\n    }\n\n    .dataframe thead th {\n        text-align: right;\n    }\n</style>\n<table border=\"1\" class=\"dataframe\">\n  <thead>\n    <tr style=\"text-align: right;\">\n      <th></th>\n      <th>account</th>\n      <th>first_name</th>\n      <th>last_name</th>\n      <th>title</th>\n    </tr>\n  </thead>\n  <tbody>\n    <tr>\n      <th>0</th>\n      <td>10</td>\n      <td>PEARL</td>\n      <td>SHERMAN</td>\n      <td>PRESIDENT</td>\n    </tr>\n    <tr>\n      <th>1</th>\n      <td>10</td>\n      <td>PEARL</td>\n      <td>SHERMAN</td>\n      <td>SECRETARY</td>\n    </tr>\n    <tr>\n      <th>2</th>\n      <td>10002</td>\n      <td>WALTER</td>\n      <td>MROZEK</td>\n      <td>PARTNER</td>\n    </tr>\n    <tr>\n      <th>3</th>\n      <td>10002</td>\n      <td>CELINA</td>\n      <td>BYRDAK</td>\n      <td>PARTNER</td>\n    </tr>\n    <tr>\n      <th>4</th>\n      <td>10005</td>\n      <td>IRENE</td>\n      <td>ROSENFELD</td>\n      <td>PRESIDENT</td>\n    </tr>\n  </tbody>\n</table>\n</div>"
     },
     "metadata": {}
    }
   ]
  },
  {
   "cell_type": "code",
   "execution_count": 59,
   "metadata": {},
   "outputs": [
    {
     "output_type": "execute_result",
     "data": {
      "text/plain": [
       "                 account\n",
       "title                   \n",
       "PRESIDENT           6259\n",
       "SECRETARY           5205\n",
       "SOLE PROPRIETOR     1658\n",
       "OTHER               1200\n",
       "VICE PRESIDENT       970"
      ],
      "text/html": "<div>\n<style scoped>\n    .dataframe tbody tr th:only-of-type {\n        vertical-align: middle;\n    }\n\n    .dataframe tbody tr th {\n        vertical-align: top;\n    }\n\n    .dataframe thead th {\n        text-align: right;\n    }\n</style>\n<table border=\"1\" class=\"dataframe\">\n  <thead>\n    <tr style=\"text-align: right;\">\n      <th></th>\n      <th>account</th>\n    </tr>\n    <tr>\n      <th>title</th>\n      <th></th>\n    </tr>\n  </thead>\n  <tbody>\n    <tr>\n      <th>PRESIDENT</th>\n      <td>6259</td>\n    </tr>\n    <tr>\n      <th>SECRETARY</th>\n      <td>5205</td>\n    </tr>\n    <tr>\n      <th>SOLE PROPRIETOR</th>\n      <td>1658</td>\n    </tr>\n    <tr>\n      <th>OTHER</th>\n      <td>1200</td>\n    </tr>\n    <tr>\n      <th>VICE PRESIDENT</th>\n      <td>970</td>\n    </tr>\n  </tbody>\n</table>\n</div>"
     },
     "metadata": {},
     "execution_count": 59
    }
   ],
   "source": [
    "# Merge the licenses and owners table on account\n",
    "licenses_owners = licenses.merge(owners, on='account')\n",
    "\n",
    "# Group the results by title then count the number of accounts\n",
    "counted_df = licenses_owners.groupby('title').agg({'account':'count'})\n",
    "\n",
    "# Sort the counted_df in descending order\n",
    "sorted_df = counted_df.sort_values('account', ascending=False)\n",
    "\n",
    "# Use .head() method to print the first few rows of sorted_df\n",
    "sorted_df.head()"
   ]
  },
  {
   "source": [
    "## Total riders in a month\n",
    "Your goal is to find the total number of rides provided to passengers passing through the Wilson station (`station_name == 'Wilson'`) when riding Chicago's public transportation system on weekdays (`day_type == 'Weekday'`) in July (`month == 7`). Luckily, Chicago provides this detailed data, but it is in three different tables. You will work on merging these tables together to answer the question. This data is different from the business related data you have seen so far, but all the information you need to answer the question is below.\n",
    "\n",
    "The `cal`, `ridership`, and `stations` DataFrames have been loaded for you. The relationship between the tables can be seen below.\n",
    "\n",
    "`cal`\n",
    "- **year**\n",
    "- **month**\n",
    "- **day**\n",
    "- day_type\n",
    "\n",
    "`ridership`\n",
    "- **station_id**\n",
    "- **year**\n",
    "- **month**\n",
    "- **day**\n",
    "- rides\n",
    "\n",
    "`stations`\n",
    "- **station_id**\n",
    "- station_name\n",
    "- location\n",
    "\n",
    "Instructions\n",
    "\n",
    "- Merge the `ridership` and `cal` tables together, starting with the `ridership` table on the left and save the result to the variable `ridership_cal`. If you code takes too long to run, your merge conditions might be incorrect.\n",
    "- Extend the previous merge to three tables by also merging the `stations` table.\n",
    "- Create a variable called `filter_criteria` to select the appropriate rows from the merged table so that you can sum the `rides` column."
   ],
   "cell_type": "markdown",
   "metadata": {}
  },
  {
   "cell_type": "code",
   "execution_count": 62,
   "metadata": {},
   "outputs": [],
   "source": [
    "# Import the DataFrames\n",
    "cal = pd.read_pickle('cta_calendar.pkl')\n",
    "ridership = pd.read_pickle('cta_ridership.pkl')\n",
    "stations = pd.read_pickle('stations.pkl')"
   ]
  },
  {
   "cell_type": "code",
   "execution_count": 63,
   "metadata": {},
   "outputs": [],
   "source": [
    "# Merge the ridership and cal tables\n",
    "ridership_cal = ridership.merge(cal, on=['year', 'month', 'day'])"
   ]
  },
  {
   "cell_type": "code",
   "execution_count": 64,
   "metadata": {},
   "outputs": [],
   "source": [
    "# Merge the ridership, cal, and stations tables\n",
    "ridership_cal_stations = ridership.merge(cal, on=['year','month','day']) \\\n",
    "            \t\t\t\t      .merge(stations, on='station_id')"
   ]
  },
  {
   "cell_type": "code",
   "execution_count": 65,
   "metadata": {},
   "outputs": [
    {
     "output_type": "execute_result",
     "data": {
      "text/plain": [
       "140005"
      ]
     },
     "metadata": {},
     "execution_count": 65
    }
   ],
   "source": [
    "# Create a filter to filter ridership_cal_stations\n",
    "filter_criteria = ((ridership_cal_stations['month'] == 7) \n",
    "                 & (ridership_cal_stations['day_type'] == 'Weekday') \n",
    "                 & (ridership_cal_stations['station_name'] == 'Wilson'))\n",
    "\n",
    "# Use .loc and the filter to select for rides\n",
    "ridership_cal_stations.loc[filter_criteria, 'rides'].sum()"
   ]
  },
  {
   "source": [
    "## Three table merge\n",
    "To solidify the concept of a three DataFrame merge, practice another exercise. A reasonable extension of our review of Chicago business data would include looking at demographics information about the neighborhoods where the businesses are. A table with the median income by zip code has been provided to you. You will merge the `licenses` and `wards` tables with this new income-by-zip-code table called `zip_demo`.\n",
    "\n",
    "The `licenses`, `wards`, and `zip_demo` DataFrames have been loaded for you.\n",
    "\n",
    "Instructions\n",
    "\n",
    "- Starting with the `licenses` table, merge to it the `zip_demo` table on the `zip` column. Then merge the resulting table to the `wards` table on the `ward` column. Save result of the three merged tables to a variable named `licenses_zip_ward`.\n",
    "- Group the results of the three merged tables by the column `alderman` and find the median `income`."
   ],
   "cell_type": "markdown",
   "metadata": {}
  },
  {
   "cell_type": "code",
   "execution_count": 66,
   "metadata": {},
   "outputs": [],
   "source": [
    "# Import the DataFrames\n",
    "licenses = pd.read_pickle('licenses.pkl')\n",
    "wards = pd.read_pickle('wards.pkl')\n",
    "zip_demo = pd.read_pickle('zip_demo.pkl')"
   ]
  },
  {
   "cell_type": "code",
   "execution_count": 67,
   "metadata": {},
   "outputs": [
    {
     "output_type": "stream",
     "name": "stdout",
     "text": [
      "                           income\nalderman                         \nAmeya Pawar                 66246\nAnthony A. Beale            38206\nAnthony V. Napolitano       82226\nAriel E. Reyboras           41307\nBrendan Reilly             110215\nBrian Hopkins               87143\nCarlos Ramirez-Rosa         66246\nCarrie M. Austin            38206\nChris Taliaferro            55566\nDaniel \"Danny\" Solis        41226\nDavid H. Moore              33304\nDeborah Mell                66246\nDebra L. Silverstein        50554\nDerrick G. Curtis           65770\nEdward M. Burke             42335\nEmma M. Mitts               36283\nGeorge Cardenas             33959\nGilbert Villegas            41307\nGregory I. Mitchell         24941\nHarry Osterman              45442\nHoward B. Brookins, Jr.     33304\nJames Cappleman             79565\nJason C. Ervin              41226\nJoe Moore                   39163\nJohn S. Arena               70122\nLeslie A. Hairston          28024\nMargaret Laurino            70122\nMarty Quinn                 67045\nMatthew J. O'Shea           59488\nMichael R. Zalewski         42335\nMichael Scott, Jr.          31445\nMichelle A. Harris          32558\nMichelle Smith             100116\nMilagros \"Milly\" Santiago   41307\nNicholas Sposato            62223\nPat Dowell                  46340\nPatrick Daley Thompson      41226\nPatrick J. O'Connor         50554\nProco \"Joe\" Moreno          87143\nRaymond A. Lopez            33959\nRicardo Munoz               31445\nRoberto Maldonado           68223\nRoderick T. Sawyer          32558\nScott Waguespack            68223\nSusan Sadlowski Garza       38417\nTom Tunney                  88708\nToni L. Foulkes             27573\nWalter Burnett, Jr.         87143\nWilliam D. Burns           107811\nWillie B. Cochran           28024\n"
     ]
    }
   ],
   "source": [
    "# Merge licenses and zip_demo, on zip; and merge the wards on ward\n",
    "licenses_zip_ward = licenses.merge(zip_demo, on='zip') \\\n",
    "            \t\t\t    .merge(wards, on='ward')\n",
    "\n",
    "# Print the results by alderman and show median income\n",
    "print(licenses_zip_ward.groupby('alderman').agg({'income':'median'}))"
   ]
  },
  {
   "source": [
    "## One-to-many merge with multiple tables\n",
    "In this exercise, assume that you are looking to start a business in the city of Chicago. Your perfect idea is to start a company that uses goats to mow the lawn for other businesses. However, you have to choose a location in the city to put your goat farm. You need a location with a great deal of space and relatively few businesses and people around to avoid complaints about the smell. You will need to merge three tables to help you choose your location. The `land_use` table has info on the percentage of vacant land by city ward. The `census` table has population by ward, and the `licenses` table lists businesses by ward.\n",
    "\n",
    "The `land_use`, `census`, and `licenses` tables have been loaded for you.\n",
    "\n",
    "Instructions\n",
    "\n",
    "- Merge `land_use` and `census` on the `ward` column. Merge the result of this with `licenses` on the `ward` column, using the suffix `_cen` for the left table and `_lic` for the right table. Save this to the variable `land_cen_lic`.\n",
    "- Group `land_cen_lic` by `ward`, `pop_2010` (the population in 2010), and `vacant`, then count the number of `accounts`. Save the results to `pop_vac_lic`.\n",
    "- Sort `pop_vac_lic` by `vacant`, `account`, and `pop_2010` in descending, ascending, and ascending order respectively. Save it as `sorted_pop_vac_lic`."
   ],
   "cell_type": "markdown",
   "metadata": {}
  },
  {
   "cell_type": "code",
   "execution_count": 68,
   "metadata": {},
   "outputs": [],
   "source": [
    "# Import the DataFrames\n",
    "land_use = pd.read_pickle('land_use.pkl')\n",
    "census = pd.read_pickle('census.pkl')\n",
    "licenses = pd.read_pickle('licenses.pkl')"
   ]
  },
  {
   "cell_type": "code",
   "execution_count": 69,
   "metadata": {},
   "outputs": [],
   "source": [
    "# Merge land_use and census and merge result with licenses including suffixes\n",
    "land_cen_lic = land_use.merge(census, on='ward') \\\n",
    "                       .merge(licenses, on='ward', suffixes=('_cen', '_lic'))"
   ]
  },
  {
   "cell_type": "code",
   "execution_count": 71,
   "metadata": {},
   "outputs": [],
   "source": [
    "# Group by ward, pop_2010, and vacant, then count the # of accounts\n",
    "pop_vac_lic = land_cen_lic.groupby(['ward', 'pop_2010', 'vacant'], as_index=False).agg({'account':'count'})"
   ]
  },
  {
   "cell_type": "code",
   "execution_count": 75,
   "metadata": {},
   "outputs": [
    {
     "output_type": "execute_result",
     "data": {
      "text/plain": [
       "   ward  pop_2010  vacant  account\n",
       "47    7     51581      19       80\n",
       "12   20     52372      15      123\n",
       "1    10     51535      14      130\n",
       "16   24     54909      13       98\n",
       "7    16     51954      13      156"
      ],
      "text/html": "<div>\n<style scoped>\n    .dataframe tbody tr th:only-of-type {\n        vertical-align: middle;\n    }\n\n    .dataframe tbody tr th {\n        vertical-align: top;\n    }\n\n    .dataframe thead th {\n        text-align: right;\n    }\n</style>\n<table border=\"1\" class=\"dataframe\">\n  <thead>\n    <tr style=\"text-align: right;\">\n      <th></th>\n      <th>ward</th>\n      <th>pop_2010</th>\n      <th>vacant</th>\n      <th>account</th>\n    </tr>\n  </thead>\n  <tbody>\n    <tr>\n      <th>47</th>\n      <td>7</td>\n      <td>51581</td>\n      <td>19</td>\n      <td>80</td>\n    </tr>\n    <tr>\n      <th>12</th>\n      <td>20</td>\n      <td>52372</td>\n      <td>15</td>\n      <td>123</td>\n    </tr>\n    <tr>\n      <th>1</th>\n      <td>10</td>\n      <td>51535</td>\n      <td>14</td>\n      <td>130</td>\n    </tr>\n    <tr>\n      <th>16</th>\n      <td>24</td>\n      <td>54909</td>\n      <td>13</td>\n      <td>98</td>\n    </tr>\n    <tr>\n      <th>7</th>\n      <td>16</td>\n      <td>51954</td>\n      <td>13</td>\n      <td>156</td>\n    </tr>\n  </tbody>\n</table>\n</div>"
     },
     "metadata": {},
     "execution_count": 75
    }
   ],
   "source": [
    "# Sort pop_vac_lic and print the results\n",
    "sorted_pop_vac_lic = pop_vac_lic.sort_values(['vacant', 'account', 'pop_2010'], ascending=[False, True, True])\n",
    "\n",
    "# Print the top few rows of sorted_pop_vac_lic\n",
    "sorted_pop_vac_lic.head()"
   ]
  }
 ]
}