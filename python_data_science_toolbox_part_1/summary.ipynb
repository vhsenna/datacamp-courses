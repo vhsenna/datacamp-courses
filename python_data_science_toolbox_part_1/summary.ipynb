{
 "cells": [
  {
   "cell_type": "markdown",
   "id": "demographic-contractor",
   "metadata": {},
   "source": [
    "# Python Data Science Toolbox (Part 1)\n",
    "\n",
    "- 3 hours\n",
    "- 12 Videos\n",
    "- 46 Exercises\n",
    "\n",
    "## Course Description\n",
    "\n",
    "It's time to push forward and develop your Python chops even further. There are tons of fantastic functions in Python and its library ecosystem. However, as a data scientist, you'll constantly need to write your own functions to solve problems that are dictated by your data. You will learn the art of function writing in this first Python Data Science Toolbox course. You'll come out of this course being able to write your very own custom functions, complete with multiple parameters and multiple return values, along with default arguments and variable-length arguments. You'll gain insight into scoping in Python and be able to write lambda functions and handle errors in your function writing practice. And you'll wrap up each chapter by using your new skills to write functions that analyze Twitter DataFrames.\n",
    "\n",
    "### 1 Writing your own functions\n",
    "\n",
    "In this chapter, you'll learn how to write simple functions, as well as functions that accept multiple arguments and return multiple values. You'll also have the opportunity to apply these new skills to questions commonly encountered by data scientists.\n",
    "\n",
    "- User-defined functions\n",
    "- Strings in Python\n",
    "- Recapping built-in functions\n",
    "- Write a simple function\n",
    "- Single-parameter functions\n",
    "- Functions that return single values\n",
    "- Multiple parameters and return values\n",
    "- Functions with multiple parameters\n",
    "- A brief introduction to tuples\n",
    "- Functions that return multiple values\n",
    "- Bringing it all together\n",
    "- Bringing it all together (1)\n",
    "- Bringing it all together (2)\n",
    "- Congratulations!\n",
    "\n",
    "### 2 Default arguments, variable-length arguments and scope\n",
    "\n",
    "In this chapter, you'll learn to write functions with default arguments so that the user doesn't always need to specify them, and variable-length arguments so they can pass an arbitrary number of arguments on to your functions. You'll also learn about the essential concept of scope.\n",
    "\n",
    "- Scope and user-defined functions\n",
    "- Pop quiz on understanding scope\n",
    "- The keyword global\n",
    "- Python's built-in scope\n",
    "- Nested functions\n",
    "- Nested Functions I\n",
    "- Nested Functions II\n",
    "- The keyword nonlocal and nested functions\n",
    "- Default and flexible arguments\n",
    "- Functions with one default argument\n",
    "- Functions with multiple default arguments\n",
    "- Functions with variable-length arguments (*args)\n",
    "- Functions with variable-length keyword arguments (**kwargs)\n",
    "- Bringing it all together\n",
    "- Bringing it all together (1)\n",
    "- Bringing it all together (2)\n",
    "\n",
    "### 3 Lambda functions and error-handling\n",
    "\n",
    "Learn about lambda functions, which allow you to write functions quickly and on the fly. You'll also practice handling errors in your functions, which is an essential skill. Then, apply your new skills to answer data science questions.\n",
    "\n",
    "- Lambda functions\n",
    "- Pop quiz on lambda functions\n",
    "- Writing a lambda function you already know\n",
    "- Map() and lambda functions\n",
    "- Filter() and lambda functions\n",
    "- Reduce() and lambda functions\n",
    "- Introduction to error handling\n",
    "- Pop quiz about errors\n",
    "- Error handling with try-except\n",
    "- Error handling by raising an error\n",
    "- Bringing it all together\n",
    "- Bringing it all together (1)\n",
    "- Bringing it all together (2)\n",
    "- Bringing it all together (3)\n",
    "- Bringing it all together: testing your error handling skills\n",
    "- Congratulations!"
   ]
  }
 ],
 "metadata": {
  "kernelspec": {
   "display_name": "Python 3",
   "language": "python",
   "name": "python3"
  },
  "language_info": {
   "codemirror_mode": {
    "name": "ipython",
    "version": 3
   },
   "file_extension": ".py",
   "mimetype": "text/x-python",
   "name": "python",
   "nbconvert_exporter": "python",
   "pygments_lexer": "ipython3",
   "version": "3.8.5"
  },
  "toc": {
   "base_numbering": 1,
   "nav_menu": {},
   "number_sections": false,
   "sideBar": true,
   "skip_h1_title": false,
   "title_cell": "Table of Contents",
   "title_sidebar": "Contents",
   "toc_cell": false,
   "toc_position": {},
   "toc_section_display": true,
   "toc_window_display": false
  },
  "varInspector": {
   "cols": {
    "lenName": 16,
    "lenType": 16,
    "lenVar": 40
   },
   "kernels_config": {
    "python": {
     "delete_cmd_postfix": "",
     "delete_cmd_prefix": "del ",
     "library": "var_list.py",
     "varRefreshCmd": "print(var_dic_list())"
    },
    "r": {
     "delete_cmd_postfix": ") ",
     "delete_cmd_prefix": "rm(",
     "library": "var_list.r",
     "varRefreshCmd": "cat(var_dic_list()) "
    }
   },
   "types_to_exclude": [
    "module",
    "function",
    "builtin_function_or_method",
    "instance",
    "_Feature"
   ],
   "window_display": false
  }
 },
 "nbformat": 4,
 "nbformat_minor": 5
}
