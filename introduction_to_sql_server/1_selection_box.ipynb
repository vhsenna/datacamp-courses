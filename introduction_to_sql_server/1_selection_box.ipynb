{
 "cells": [
  {
   "cell_type": "markdown",
   "id": "turkish-shift",
   "metadata": {},
   "source": [
    "## Simple selections\n",
    "\n",
    "It's time to begin writing your own queries! In this first coding exercise, you will use `SELECT` statements to retrieve columns from a database table. You'll be working with the `eurovision table`, which contains data relating to individual country performance at the [Eurovision Song Contest](https://en.wikipedia.org/wiki/Eurovision_Song_Contest) from 1998 to 2012.\n",
    "\n",
    "After selecting columns, you'll also practice renaming columns, and limiting the number of rows returned.\n",
    "\n",
    "Instructions\n",
    "\n",
    "1. `SELECT` the `country` column `FROM` the `eurovision` table.\n",
    "2. Amend your query to return the `points` column instead of the `country` column.\n",
    "3. Use `TOP` to change the existing query so that only the first `50` rows are returned.\n",
    "4. Return a list of unique countries using `DISTINCT`. Give the results an alias of `unique_country`."
   ]
  },
  {
   "cell_type": "code",
   "execution_count": null,
   "id": "still-director",
   "metadata": {},
   "outputs": [],
   "source": [
    "-- SELECT the country column FROM the eurovision table\n",
    "SELECT country\n",
    "FROM eurovision;\n",
    "\n",
    "# country\n",
    "# Israel\n",
    "# France\n",
    "# Sweden\n",
    "# Croatia\n",
    "# Portugal\n",
    "# ..."
   ]
  },
  {
   "cell_type": "code",
   "execution_count": null,
   "id": "passive-sessions",
   "metadata": {},
   "outputs": [],
   "source": [
    "-- Select the points column\n",
    "SELECT points\n",
    "FROM eurovision;\n",
    "\n",
    "# points\n",
    "# 53\n",
    "# 107\n",
    "# 33\n",
    "# 45\n",
    "# 57\n",
    "# ..."
   ]
  },
  {
   "cell_type": "code",
   "execution_count": null,
   "id": "painted-thumb",
   "metadata": {},
   "outputs": [],
   "source": [
    "-- Limit the number of rows returned\n",
    "SELECT TOP(50) points \n",
    "FROM eurovision;\n",
    "\n",
    "# points\n",
    "# 53\n",
    "# 107\n",
    "# 33\n",
    "# 45\n",
    "# 57\n",
    "# ..."
   ]
  },
  {
   "cell_type": "code",
   "execution_count": null,
   "id": "convenient-lingerie",
   "metadata": {},
   "outputs": [],
   "source": [
    "-- Return unique countries and use an alias\n",
    "SELECT DISTINCT country AS unique_country \n",
    "FROM eurovision;\n",
    "\n",
    "# unique_country\n",
    "# Albania\n",
    "# Andorra\n",
    "# Armenia\n",
    "# Austria\n",
    "# Azerbaijan\n",
    "# ..."
   ]
  },
  {
   "cell_type": "markdown",
   "id": "civic-depth",
   "metadata": {},
   "source": [
    "## More selections\n",
    "\n",
    "Now that you've practiced how to select one column at a time, it's time to practice selecting more than one column. You'll continue working with the `eurovision` table.\n",
    "\n",
    "Instructions\n",
    "\n",
    "1. `SELECT` the `country` and `event_year` columns from the `eurovision` table.\n",
    "2. Use a shortcut to amend the current query, returning ALL rows from ALL columns in the table.\n",
    "3. This time, restrict the rows to the first half using 'PERCENT', using the same shortcut as before to return all columns."
   ]
  },
  {
   "cell_type": "code",
   "execution_count": null,
   "id": "dirty-measure",
   "metadata": {},
   "outputs": [],
   "source": [
    "-- Select country and event_year from eurovision\n",
    "SELECT country,\n",
    "       event_year\n",
    "FROM eurovision;\n",
    "\n",
    "# country    event_year\n",
    "# Israel     2009\n",
    "# France     2009\n",
    "# Sweden     2009\n",
    "# Croatia    2009\n",
    "# Portugal   2009\n",
    "# ..."
   ]
  },
  {
   "cell_type": "code",
   "execution_count": null,
   "id": "generic-advertising",
   "metadata": {},
   "outputs": [],
   "source": [
    "-- Amend the code to select all rows and columns\n",
    "SELECT *\n",
    "FROM eurovision;\n",
    "\n",
    "# euro_id   event_year   country    gender   group_type   place   points   host_country   host_region   is_final   sf_number   song_in_english\n",
    "# 1         2009         Israel     Female   Group        16      53       Away           Away          1          null        1\n",
    "# 2         2009         France     Female   Solo         8       107      Away           Away          1          null        0\n",
    "# 3         2009         Sweden     Female   Solo         21      33       Away           Away          1          null        1\n",
    "# 4         2009         Croatia    Both     Group        18      45       Away           Away          1          null        0\n",
    "# 5         2009         Portugal   Both     Group        15      57       Away           Away          1          null        0\n",
    "# ..."
   ]
  },
  {
   "cell_type": "code",
   "execution_count": null,
   "id": "stylish-production",
   "metadata": {},
   "outputs": [],
   "source": [
    "-- Return all columns, restricting the percent of rows returned\n",
    "SELECT TOP (50) PERCENT * \n",
    "FROM eurovision;\n",
    "\n",
    "# euro_id   event_year   country    gender   group_type   place   points   host_country   host_region   is_final   sf_number   song_in_english\n",
    "# 1         2009         Israel     Female   Group        16      53       Away           Away          1          null        1\n",
    "# 2         2009         France     Female   Solo         8       107      Away           Away          1          null        0\n",
    "# 3         2009         Sweden     Female   Solo         21      33       Away           Away          1          null        1\n",
    "# 4         2009         Croatia    Both     Group        18      45       Away           Away          1          null        0\n",
    "# 5         2009         Portugal   Both     Group        15      57       Away           Away          1          null        0\n",
    "# ..."
   ]
  },
  {
   "cell_type": "markdown",
   "id": "advanced-wireless",
   "metadata": {},
   "source": [
    "## Order by\n",
    "\n",
    "In this exercise, you'll practice the use of `ORDER BY` using the `grid` dataset. It's loaded and waiting for you! It contains a subset of wider publicly available information on US power outages.\n",
    "\n",
    "Some of the main columns include:\n",
    "\n",
    "- `description`: The reason/ cause of the outage.\n",
    "- `nerc_region`: The North American Electricity Reliability Corporation was formed to ensure the reliability of the grid and comprises several regional entities).\n",
    "- `demand_loss_mw`: How much energy was not transmitted/consumed during the outage.\n",
    "\n",
    "Instructions\n",
    "\n",
    "1. Select `description` and `event_date` from `grid`. Your query should return the first 5 rows, ordered by `event_date`.\n",
    "2. Modify your code based on the comments provided on the right."
   ]
  },
  {
   "cell_type": "code",
   "execution_count": null,
   "id": "current-refrigerator",
   "metadata": {},
   "outputs": [],
   "source": [
    "-- Select the first 5 rows from the specified columns\n",
    "SELECT TOP(5) description, \n",
    "              event_date \n",
    "FROM grid \n",
    "-- Order your results by the event_date column\n",
    "ORDER BY event_date;\n",
    "\n",
    "# description                     event_date\n",
    "# Electrical Fault at Generator   2011-01-11\n",
    "# Winter Storm                    2011-01-12\n",
    "# Firm System Load Shed           2011-01-13\n",
    "# Vandalism                       2011-01-18\n",
    "# Vandalism                       2011-01-23"
   ]
  },
  {
   "cell_type": "code",
   "execution_count": null,
   "id": "enabling-coaching",
   "metadata": {},
   "outputs": [],
   "source": [
    "-- Select the top 20 rows from description, nerc_region and event_date\n",
    "SELECT TOP (20) description,\n",
    "               nerc_region,\n",
    "               event_date\n",
    "FROM grid \n",
    "-- Order by nerc_region, affected_customers & event_date\n",
    "-- Event_date should be in descending order\n",
    "ORDER BY nerc_region,\n",
    "         affected_customers,\n",
    "         event_date DESC;\n",
    "\n",
    "# description                                               nerc_region   event_date\n",
    "# Suspected Physical Attack                                 ERCOT         2014-06-12\n",
    "# Fuel Supply Emergency  Coal                               ERCOT         2014-06-06\n",
    "# Physical Attack  Vandalism                                ERCOT         2014-06-03\n",
    "# Suspected Physical Attack                                 FRCC          2013-03-18\n",
    "# Load Shed of 100+ MW Under Emergency Operational Policy   FRCC          2013-06-17\n",
    "# ..."
   ]
  },
  {
   "cell_type": "markdown",
   "id": "threatened-engagement",
   "metadata": {},
   "source": [
    "## Where\n",
    "\n",
    "You won't usually want to retrieve _every_ row in your database. You'll have specific information you need in order to answer questions from your boss or colleagues.\n",
    "\n",
    "The `WHERE` clause is essential for selecting, updating (and deleting!) data from your tables. You'll continue working with the `grid` dataset for this exercise.\n",
    "\n",
    "Instructions\n",
    "\n",
    "1. Select the `description` and `event_year` columns.\n",
    "2. Return rows `WHERE` the description is `'Vandalism'`."
   ]
  },
  {
   "cell_type": "code",
   "execution_count": null,
   "id": "dress-carnival",
   "metadata": {},
   "outputs": [],
   "source": [
    "-- Select description and event_year\n",
    "SELECT description,\n",
    "       event_year \n",
    "FROM grid \n",
    "-- Filter the results\n",
    "WHERE description = 'Vandalism';\n",
    "\n",
    "# description   event_year\n",
    "# Vandalism     2014\n",
    "# Vandalism     2013\n",
    "# Vandalism     2013\n",
    "# Vandalism     2013\n",
    "# Vandalism     2013\n",
    "# ..."
   ]
  },
  {
   "cell_type": "markdown",
   "id": "meaningful-diagram",
   "metadata": {},
   "source": [
    "## Where again\n",
    "\n",
    "When filtering strings, you need to wrap your value in 'single quotes', as you did in the previous exercise. You don't need to do this for numeric values, but you DO need to use single quotes for date columns.\n",
    "\n",
    "In this course, dates are always represented in the `YYYY-MM-DD` format (Year-Month-Day), which is the default in Microsoft SQL Server.\n",
    "\n",
    "Instructions\n",
    "\n",
    "1. Select the `nerc_region` and `demand_loss_mw` columns, limiting the results to those where `affected_customers` is greater than or equal to 500000 (500,000)\n",
    "2. Update your code to select `description` and `affected_customers`, returning records where the `event_date` was the 22nd December, 2013.\n",
    "3. Limit the results to those where the `affected_customers` is `BETWEEN` `50000` and `150000`, and order in descending order of `event_date`."
   ]
  },
  {
   "cell_type": "code",
   "execution_count": null,
   "id": "recent-organizer",
   "metadata": {},
   "outputs": [],
   "source": [
    "-- Select nerc_region and demand_loss_mw\n",
    "SELECT nerc_region,\n",
    "       demand_loss_mw\n",
    "FROM grid \n",
    "-- Retrieve rows where affected_customers is >= 500000  (500,000)\n",
    "WHERE affected_customers >= 500000;\n",
    "\n",
    "# nerc_region   demand_loss_mw\n",
    "# WECC          3900\n",
    "# WECC          3300\n",
    "# WECC          9750\n",
    "# RFC           null\n",
    "# SERC          4545\n",
    "# ..."
   ]
  },
  {
   "cell_type": "code",
   "execution_count": null,
   "id": "conscious-teddy",
   "metadata": {},
   "outputs": [],
   "source": [
    "-- Select description and affected_customers\n",
    "SELECT description, \n",
    "       affected_customers \n",
    "FROM grid \n",
    "-- Retrieve rows where the event_date was the 22nd December, 2013    \n",
    "WHERE event_date = '2013-12-22';\n",
    "\n",
    "# description               affected_customers\n",
    "# Severe Weather  IceSnow   59000\n",
    "# Severe Weather  IceSnow   50000\n",
    "# Severe Weather  IceSnow   140735"
   ]
  },
  {
   "cell_type": "code",
   "execution_count": null,
   "id": "matched-camera",
   "metadata": {},
   "outputs": [],
   "source": [
    "-- Select description, affected_customers and event date\n",
    "SELECT description, \n",
    "       affected_customers,\n",
    "       event_date\n",
    "FROM grid \n",
    "-- The affected_customers column should be >= 50000 and <=150000   \n",
    "WHERE affected_customers BETWEEN 50000 AND 150000 \n",
    "-- Define the order\n",
    "ORDER BY event_date DESC;\n",
    "\n",
    "# description                     affected_customers   event_date\n",
    "# Severe Weather  Thunderstorms   127000               2014-06-30\n",
    "# Severe Weather  Thunderstorms   120000               2014-06-30\n",
    "# Severe Weather  Thunderstorms   138802               2014-06-18\n",
    "# Severe Weather  Thunderstorms   55951                2014-06-15\n",
    "# Severe Weather  Thunderstorms   66383                2014-06-10\n",
    "# ..."
   ]
  },
  {
   "cell_type": "markdown",
   "id": "defensive-hacker",
   "metadata": {},
   "source": [
    "## Working with NULL values\n",
    "\n",
    "A NULL value could mean 'zero' - if something doesn't happen, it can't be logged in a table. However, NULL can also mean 'unknown' or 'missing'. So consider if it is appropriate to replace them in your results. NULL values provide feedback on data quality. If you have NULL values, and you didn't expect to have any, then you have an issue with either how data is captured or how it's entered in the database.\n",
    "\n",
    "In this exercise, you'll practice filtering for NULL values, excluding them from results, and replacing them with alternative values.\n",
    "\n",
    "Instructions\n",
    "\n",
    "1. Use a shortcut to select all columns from `grid`. Then filter the results to only include rows where `demand_loss_mw` is unknown or missing.\n",
    "2. Adapt your code to return rows where `demand_loss_mw` is not unknown or missing."
   ]
  },
  {
   "cell_type": "code",
   "execution_count": null,
   "id": "headed-pharmacy",
   "metadata": {},
   "outputs": [],
   "source": [
    "-- Retrieve all columns\n",
    "SELECT * \n",
    "FROM grid \n",
    "-- Return only rows where demand_loss_mw is missing or unknown  \n",
    "WHERE demand_loss_mw IS NULL;\n",
    "\n",
    "# grid_id   description                     event_year   event_date   restore_date   nerc_region   demand_loss_mw   affected_customers\n",
    "# 1         Severe Weather  Thunderstorms   2014         2014-06-30   2014-07-01     RFC           null             127000\n",
    "# 3         Fuel Supply Emergency  Coal     2014         2014-06-27   null           MRO           null             null\n",
    "# 4         Physical Attack  Vandalism      2014         2014-06-24   2014-06-24     SERC          null             null\n",
    "# 5         Physical Attack  Vandalism      2014         2014-06-19   2014-06-19     SERC          null             null\n",
    "# 6         Physical Attack  Vandalism      2014         2014-06-18   2014-06-18     WECC          null             null\n",
    "# ..."
   ]
  },
  {
   "cell_type": "code",
   "execution_count": null,
   "id": "adolescent-jackson",
   "metadata": {},
   "outputs": [],
   "source": [
    "-- Retrieve all columns\n",
    "SELECT * \n",
    "FROM grid \n",
    "-- Return rows where demand_loss_mw is not missing or unknown   \n",
    "WHERE demand_loss_mw IS NOT NULL;\n",
    "\n",
    "# grid_id   description                                             event_year   event_date   restore_date   nerc_region   demand_loss_mw   affected_customers\n",
    "# 2         Severe Weather  Thunderstorms                           2014         2014-06-30   2014-07-01     MRO           424              120000\n",
    "# 14        Severe Weather  Thunderstorms                           2014         2014-06-07   2014-06-08     SERC          217              65000\n",
    "# 16        Severe Weather  Thunderstorms                           2014         2014-06-05   2014-06-07     SERC          494              38500\n",
    "# 18        Electrical System Islanding                             2014         2014-06-03   2014-06-03     WECC          338              null\n",
    "# 24        Public Appeal to Reduce Electricity Usage  Wild Fires   2014         2014-05-16   2014-05-16     WECC          3900             1400000\n",
    "# ..."
   ]
  },
  {
   "cell_type": "markdown",
   "id": "appreciated-juvenile",
   "metadata": {},
   "source": [
    "## Exploring classic rock songs\n",
    "\n",
    "It's time to rock and roll! In this set of exercises, you'll use the `songlist` table, which contains songs featured on the playlists of 25 classic rock radio stations.\n",
    "\n",
    "First, let's get familiar with the data.\n",
    "\n",
    "Instructions\n",
    "\n",
    "1. Retrieve the `song`, `artist`, and `release_year` columns from the `songlist` table.\n",
    "2. Make sure there are no `NULL` values in the `release_year` column.\n",
    "3. Order the results by `artist` and `release_year`."
   ]
  },
  {
   "cell_type": "code",
   "execution_count": null,
   "id": "charitable-buyer",
   "metadata": {},
   "outputs": [],
   "source": [
    "-- Retrieve the song, artist and release_year columns\n",
    "SELECT song,\n",
    "       artist,\n",
    "       release_year \n",
    "FROM songlist\n",
    "\n",
    "# song                    artist           release_year\n",
    "# Keep On Loving You      REO Speedwagon   1980\n",
    "# Keep Pushin  1977       REO Speedwagon   null\n",
    "# Like You Do             REO Speedwagon   null\n",
    "# Ridin the Storm Out     REO Speedwagon   null\n",
    "# Roll With the Changes   REO Speedwagon   null\n",
    "# ..."
   ]
  },
  {
   "cell_type": "code",
   "execution_count": null,
   "id": "coated-framework",
   "metadata": {},
   "outputs": [],
   "source": [
    "-- Retrieve the song, artist and release_year columns\n",
    "SELECT song, \n",
    "       artist, \n",
    "       release_year \n",
    "FROM songlist \n",
    "-- Ensure there are no missing or unknown values in the release_year column\n",
    "WHERE release_year IS NOT NULL\n",
    "\n",
    "# song                 artist             release_year\n",
    "# Keep On Loving You   REO Speedwagon     1980\n",
    "# Take It on the Run   REO Speedwagon     1981\n",
    "# Jessies Girl         Rick Springfield   1981\n",
    "# Back Off Boogaloo    Ringo Starr        1972\n",
    "# Early 1970 [*]       Ringo Starr        1971\n",
    "# ..."
   ]
  },
  {
   "cell_type": "code",
   "execution_count": null,
   "id": "southern-coordinator",
   "metadata": {},
   "outputs": [],
   "source": [
    "-- Retrieve the song, artist and release_year columns\n",
    "SELECT song, \n",
    "       artist, \n",
    "       release_year \n",
    "FROM songlist \n",
    "-- Ensure there are no missing or unknown values in the release_year column\n",
    "WHERE release_year IS NOT NULL \n",
    "-- Arrange the results by the artist and release_year columns\n",
    "ORDER BY artist,\n",
    "         release_year;\n",
    "    \n",
    "# song                    artist         release_year\n",
    "# Rockin Into the Night   .38 Special    1980\n",
    "# Hold On Loosely         .38 Special    1981\n",
    "# Caught Up in You        .38 Special    1982\n",
    "# Art For Arts Sake       10cc           1975\n",
    "# Kryptonite              3 Doors Down   2000\n",
    "# ..."
   ]
  },
  {
   "cell_type": "markdown",
   "id": "electoral-anderson",
   "metadata": {},
   "source": [
    "## Exploring classic rock songs - AND/OR\n",
    "\n",
    "Having familiarized yourself with the `songlist` table, you'll now extend your `WHERE` clause from the previous exercise.\n",
    "\n",
    "Instructions\n",
    "\n",
    "1. Extend the `WHERE` clause so that the results are those with a `release_year` greater than or equal to `1980` and less than or equal to `1990`.\n",
    "2. Update your query to use an `OR` instead of an `AND`."
   ]
  },
  {
   "cell_type": "code",
   "execution_count": null,
   "id": "adjustable-friday",
   "metadata": {},
   "outputs": [],
   "source": [
    "SELECT song, \n",
    "       artist, \n",
    "       release_year\n",
    "FROM songlist \n",
    "-- Retrieve records greater than and including 1980\n",
    "WHERE release_year >= 1980 AND \n",
    "-- Also retrieve records up to and including 1990\n",
    "      release_year <= 1990 \n",
    "ORDER BY artist, \n",
    "         release_year;\n",
    "\n",
    "# song                    artist        release_year\n",
    "# Rockin Into the Night   .38 Special   1980\n",
    "# Hold On Loosely         .38 Special   1981\n",
    "# Caught Up in You        .38 Special   1982\n",
    "# Take On Me              a-ha          1985\n",
    "# Back In Black           AC/DC         1980\n",
    "# ..."
   ]
  },
  {
   "cell_type": "code",
   "execution_count": null,
   "id": "elegant-cassette",
   "metadata": {},
   "outputs": [],
   "source": [
    "SELECT song, \n",
    "       artist, \n",
    "       release_year\n",
    "FROM songlist \n",
    "-- Retrieve records greater than and including 1980\n",
    "WHERE release_year >= 1980 OR \n",
    "-- Also retrieve records up to and including 1990\n",
    "      release_year <= 1990 \n",
    "ORDER BY artist, \n",
    "         release_year;\n",
    "    \n",
    "# song                    artist        release_year\n",
    "# Rockin Into the Night   .38 Special   1980\n",
    "# Hold On Loosely         .38 Special    1981\n",
    "# Caught Up in You        .38 Special    1982\n",
    "# Art For Arts Sake       10cc           1975\n",
    "# Kryptonite              3 Doors Down   2000\n",
    "# ..."
   ]
  },
  {
   "cell_type": "markdown",
   "id": "filled-trainer",
   "metadata": {},
   "source": [
    "## Using parentheses in your queries\n",
    "\n",
    "You can use parentheses to make the intention of your code clearer. This becomes very important when using AND and OR clauses, to ensure your queries return the exact subsets you need.\n",
    "\n",
    "Instructions\n",
    "\n",
    "1. Select all artists beginning with `B` who released tracks in `1986`, but also retrieve any records where the `release_year` is greater than `1990`."
   ]
  },
  {
   "cell_type": "code",
   "execution_count": null,
   "id": "varied-prior",
   "metadata": {},
   "outputs": [],
   "source": [
    "SELECT artist, \n",
    "       release_year, \n",
    "       song \n",
    "FROM songlist \n",
    "-- Choose the correct artist and specify the release year\n",
    "WHERE (artist LIKE 'B%' AND release_year = 1986) OR\n",
    "-- Or return all songs released after 1990\n",
    "      release_year > 1990 \n",
    "-- Order the results\n",
    "ORDER BY release_year, \n",
    "         artist, \n",
    "         song;\n",
    "        \n",
    "# artist         release_year   song\n",
    "# Beastie Boys   1986           (You Gotta) Fight for Your Right (To Party)\n",
    "# Beastie Boys   1986           No Sleep Till Brooklyn\n",
    "# Bon Jovi       1986           Livin On A Prayer\n",
    "# Bon Jovi       1986           Wanted Dead or Alive\n",
    "# Bon Jovi       1986           You Give Love A Bad Name\n",
    "# ..."
   ]
  }
 ],
 "metadata": {
  "kernelspec": {
   "display_name": "Python 3",
   "language": "python",
   "name": "python3"
  },
  "language_info": {
   "codemirror_mode": {
    "name": "ipython",
    "version": 3
   },
   "file_extension": ".py",
   "mimetype": "text/x-python",
   "name": "python",
   "nbconvert_exporter": "python",
   "pygments_lexer": "ipython3",
   "version": "3.8.10"
  },
  "toc": {
   "base_numbering": 1,
   "nav_menu": {},
   "number_sections": false,
   "sideBar": true,
   "skip_h1_title": false,
   "title_cell": "Table of Contents",
   "title_sidebar": "Contents",
   "toc_cell": false,
   "toc_position": {},
   "toc_section_display": true,
   "toc_window_display": false
  },
  "varInspector": {
   "cols": {
    "lenName": 16,
    "lenType": 16,
    "lenVar": 40
   },
   "kernels_config": {
    "python": {
     "delete_cmd_postfix": "",
     "delete_cmd_prefix": "del ",
     "library": "var_list.py",
     "varRefreshCmd": "print(var_dic_list())"
    },
    "r": {
     "delete_cmd_postfix": ") ",
     "delete_cmd_prefix": "rm(",
     "library": "var_list.r",
     "varRefreshCmd": "cat(var_dic_list()) "
    }
   },
   "types_to_exclude": [
    "module",
    "function",
    "builtin_function_or_method",
    "instance",
    "_Feature"
   ],
   "window_display": false
  }
 },
 "nbformat": 4,
 "nbformat_minor": 5
}
