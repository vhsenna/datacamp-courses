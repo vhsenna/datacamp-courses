{
 "cells": [
  {
   "cell_type": "markdown",
   "id": "progressive-ready",
   "metadata": {},
   "source": [
    "# Introduction to SQL Server\n",
    "\n",
    "- 4 hours\n",
    "- 13 Videos\n",
    "- 46 Exercises\n",
    "\n",
    "## Course Description\n",
    "\n",
    "SQL is an essential skill for data scientists, and Microsoft SQL Server is one of the world's most popular database systems. In this course, you'll start with simple SELECT statements, and refine these queries with ORDER BY and WHERE clauses. You'll learn how to group and aggregate your results, and also how to work with strings. You'll also cover the most common way to join tables, how to create tables, and inserting and updating data. You'll mainly work with the Chinook digital media database, representing sales of various artists and tracks. The music theme continues with the classic rock and Eurovision datasets, while we also look at trends in power outages in the US. Overall, you'll become proficient in the most common data manipulation tasks in SQL Server and build a solid foundation for the upcoming T-SQL courses here on DataCamp!\n",
    "\n",
    "### 1 SELECTion Box\n",
    "\n",
    "Hit the ground running by learning the basics of SELECT statements to retrieve data from one or more columns. You'll also learn how to apply filters to both numeric and text data, and sort the results.\n",
    "\n",
    "- Welcome\n",
    "- Simple selections\n",
    "- More selections\n",
    "- Ordering and filtering\n",
    "- Order by\n",
    "- Where\n",
    "- Where again\n",
    "- Working with NULL values\n",
    "- WHERE the wild things are\n",
    "- Exploring classic rock songs\n",
    "- Exploring classic rock songs - AND/OR\n",
    "- Using parentheses in your queries\n",
    "\n",
    "### 2 Groups, strings, and counting things\n",
    "\n",
    "Herein, you'll learn how to use important SQL Server aggregate functions such as SUM, COUNT, MIN, MAX, and AVG. Following that, you'll learn how to manipulate text fields. To round out the chapter, you'll power up your queries using GROUP BY and HAVING, which will enable you to perform more meaningful aggregations.\n",
    "\n",
    "- Aggregating Data\n",
    "- Summing\n",
    "- Counting\n",
    "- MIN, MAX and AVG\n",
    "- Strings\n",
    "- LEN'gth of a string\n",
    "- Left and right\n",
    "- Stuck in the middle with you\n",
    "- Grouping and Having\n",
    "- GROUP BY\n",
    "- Having\n",
    "- Grouping together\n",
    "\n",
    "### 3 Joining tables\n",
    "\n",
    "This chapter covers the basics of joining tables, using INNER, LEFT, and RIGHT joins, so that you can confidently retrieve data from multiple sources.\n",
    "\n",
    "- Joining tables\n",
    "- Inner Joins - a perfect match\n",
    "- Inner Joins (II)\n",
    "- Inner Join (III) - Join 3 tables\n",
    "- LEFT & RIGHT JOIN\n",
    "- LEFT join\n",
    "- RIGHT JOIN\n",
    "- UNION & UNION ALL\n",
    "- UNION ALL Check\n",
    "- Join the UNION\n",
    "\n",
    "### 4 You've got the power\n",
    "\n",
    "In this final chapter, you'll get really hands on! You've worked with existing tables, but in this chapter, you'll get to CREATE and INSERT data into them. You'll also UPDATE existing records and practice DELETE statements in a safe environment. This chapter ensures the course gives you a thorough introduction to the key aspects of working with data in SQL Server.\n",
    "\n",
    "- Creator\n",
    "- CRUD operations\n",
    "- Create tables\n",
    "- Insert, Update, Delete\n",
    "- Insert\n",
    "- Update\n",
    "- Delete\n",
    "- Declare yourself\n",
    "- DECLARE and SET a variable\n",
    "- Declare multiple variables\n",
    "- Ultimate Power\n",
    "- Congratulations!"
   ]
  }
 ],
 "metadata": {
  "kernelspec": {
   "display_name": "Python 3",
   "language": "python",
   "name": "python3"
  },
  "language_info": {
   "codemirror_mode": {
    "name": "ipython",
    "version": 3
   },
   "file_extension": ".py",
   "mimetype": "text/x-python",
   "name": "python",
   "nbconvert_exporter": "python",
   "pygments_lexer": "ipython3",
   "version": "3.8.10"
  },
  "toc": {
   "base_numbering": 1,
   "nav_menu": {},
   "number_sections": false,
   "sideBar": true,
   "skip_h1_title": false,
   "title_cell": "Table of Contents",
   "title_sidebar": "Contents",
   "toc_cell": false,
   "toc_position": {},
   "toc_section_display": true,
   "toc_window_display": false
  },
  "varInspector": {
   "cols": {
    "lenName": 16,
    "lenType": 16,
    "lenVar": 40
   },
   "kernels_config": {
    "python": {
     "delete_cmd_postfix": "",
     "delete_cmd_prefix": "del ",
     "library": "var_list.py",
     "varRefreshCmd": "print(var_dic_list())"
    },
    "r": {
     "delete_cmd_postfix": ") ",
     "delete_cmd_prefix": "rm(",
     "library": "var_list.r",
     "varRefreshCmd": "cat(var_dic_list()) "
    }
   },
   "types_to_exclude": [
    "module",
    "function",
    "builtin_function_or_method",
    "instance",
    "_Feature"
   ],
   "window_display": false
  }
 },
 "nbformat": 4,
 "nbformat_minor": 5
}
