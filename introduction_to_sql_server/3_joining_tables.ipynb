{
 "cells": [
  {
   "cell_type": "markdown",
   "id": "comfortable-consent",
   "metadata": {},
   "source": [
    "## Inner Joins - a perfect match\n",
    "\n",
    "Let's use the `Chinook` database, which consists of tables related to an online store, to understand how inner joins work. The `album` table lists albums by multiple artists. The `track` table lists individual songs, each with a unique identifier, but also, an `album_id` column that links each track to an album.\n",
    "\n",
    "Let's find the tracks that belong to each album.\n",
    "\n",
    "Instructions\n",
    "\n",
    "1. Perform an inner join between `album` and `track` using the `album_id` column."
   ]
  },
  {
   "cell_type": "code",
   "execution_count": null,
   "id": "greek-parent",
   "metadata": {},
   "outputs": [],
   "source": [
    "SELECT track_id,\n",
    "       name AS track_name,\n",
    "       title AS album_title\n",
    "FROM track\n",
    "-- Complete the join type and the common joining column\n",
    "INNER JOIN album on track.album_id = album.album_id;\n",
    "\n",
    "# track_id   track_name                                album_title\n",
    "# 1          For Those About To Rock (We Salute You)   For Those About To Rock We Salute You\n",
    "# 2          Balls to the Wall                         Balls to the Wall\n",
    "# 3          Fast As a Shark                           Restless and Wild\n",
    "# ..."
   ]
  },
  {
   "cell_type": "markdown",
   "id": "organized-steel",
   "metadata": {},
   "source": [
    "## Inner Joins (II)\n",
    "\n",
    "Here, you'll continue to practice your INNER JOIN skills. We'll use the `album` table as last time, but will join it to a new table - `artist` - which consists of two columns: `artist_id` and `name`.\n",
    "\n",
    "Instructions\n",
    "\n",
    "1. Select the `album_id` and `title` columns from `album` (the main source table name).\n",
    "2. Select the `name` column from `artist` and alias it as `artist`.\n",
    "3. Identify a common column between the `album` and `artist` tables and perform an inner join."
   ]
  },
  {
   "cell_type": "code",
   "execution_count": null,
   "id": "homeless-buying",
   "metadata": {},
   "outputs": [],
   "source": [
    "-- Select album_id and title from album, and name from artist\n",
    "SELECT album_id,\n",
    "       title,\n",
    "       name AS artist\n",
    "-- Enter the main source table name\n",
    "FROM album\n",
    "-- Perform the inner join\n",
    "INNER JOIN artist on album.artist_id = artist.artist_id;\n",
    "\n",
    "# album_id   title                                   artist\n",
    "# 1          For Those About To Rock We Salute You   AC/DC\n",
    "# 2          Balls to the Wall                       Accept\n",
    "# 3          Restless and Wild                       Accept\n",
    "# ..."
   ]
  },
  {
   "cell_type": "markdown",
   "id": "dirty-specialist",
   "metadata": {},
   "source": [
    "## Inner Join (III) - Join 3 tables\n",
    "\n",
    "We've seen how to join 2 tables together - `album` with `track`, and `album` with `artist`. In this exercise, you'll join all three tables to pull together a more complete result set. You'll continue using `INNER JOIN`, but you need to specify more than one.\n",
    "\n",
    "Here, note that because both `track` and `artist` contain a `name` column, you need to qualify where you are selecting the columns by prefixing the column name with the relevant table name.\n",
    "\n",
    "Instructions\n",
    "\n",
    "1. Qualify the `name` column by specifying the correct table prefix in both cases.\n",
    "2. Complete both `INNER JOIN` clauses to join `album` with `track`, and `artist` with `album`."
   ]
  },
  {
   "cell_type": "code",
   "execution_count": null,
   "id": "modular-proof",
   "metadata": {},
   "outputs": [],
   "source": [
    "SELECT track_id,\n",
    "       -- Enter the correct table name prefix when retrieving the name column from the track table\n",
    "       track.name AS track_name,\n",
    "       title AS album_title,\n",
    "       -- Enter the correct table name prefix when retrieving the name column from the artist table\n",
    "       artist.name AS artist_name\n",
    "FROM track\n",
    "-- Complete the matching columns to join album with track, and artist with album\n",
    "INNER JOIN album ON track.album_id = album.album_id \n",
    "INNER JOIN artist ON album.artist_id = artist.artist_id;\n",
    "\n",
    "# track_id   track_name                                album_title                             artist_name\n",
    "# 1          For Those About To Rock (We Salute You)   For Those About To Rock We Salute You   AC/DC\n",
    "# 2          Balls to the Wall                         Balls to the Wall                       Accept\n",
    "# 3          Fast As a Shark                           Restless and Wild                       Accept\n",
    "# ..."
   ]
  },
  {
   "cell_type": "markdown",
   "id": "female-firmware",
   "metadata": {},
   "source": [
    "## LEFT join\n",
    "\n",
    "An `INNER JOIN` shows you exact matches. What about when you want to compare all the values in one table with another, to see which rows match? That's when you can use a `LEFT JOIN`.\n",
    "\n",
    "A `LEFT JOIN` will return ALL rows in the first table, and any matching rows in the right table. If there aren't any matches in the right table for a particular row, then a NULL is returned. This quickly lets you assess the gaps in your data, and how many you have.\n",
    "\n",
    "Instructions\n",
    "\n",
    "1. Complete the LEFT JOIN, returning all rows from the specified columns from `invoiceline` and any matches from `invoice`."
   ]
  },
  {
   "cell_type": "code",
   "execution_count": null,
   "id": "scheduled-confidentiality",
   "metadata": {},
   "outputs": [],
   "source": [
    "SELECT invoiceline_id,\n",
    "       unit_price, \n",
    "       quantity,\n",
    "       billing_state\n",
    "-- Specify the source table\n",
    "FROM invoiceline\n",
    "-- Complete the join to the invoice table\n",
    "LEFT JOIN invoice\n",
    "ON invoiceline.invoice_id = invoice.invoice_id;\n",
    "\n",
    "# invoiceline_id   unit_price   quantity   billing_state\n",
    "# 1                0.99         1          NULL\n",
    "# 2                0.99         1          NULL\n",
    "# 3                0.99         1          NULL\n",
    "# ..."
   ]
  },
  {
   "cell_type": "markdown",
   "id": "swiss-theme",
   "metadata": {},
   "source": [
    "## RIGHT JOIN\n",
    "\n",
    "Let's now try some RIGHT joins. A RIGHT join will return all rows from the right hand table, plus any matches from the left hand side table.\n",
    "\n",
    "In addition to performing a RIGHT join, you'll also learn how to avoid problems when different tables have the same column names, by fully qualifying the column in your select statement. Remember, we do this by prefixing the column name with the table name.\n",
    "\n",
    "For this exercise, we'll return to the Chinook database from earlier in the chapter.\n",
    "\n",
    "Instructions\n",
    "\n",
    "1. `SELECT` the fully qualified column names `album_id` from `album` and `name` from `artist`. Then, join the tables so that only matching rows are returned (non-matches should be discarded).\n",
    "2. To complete the query, join the `album` table to the `track` table using the relevant fully qualified `album_id` column. The album table is on the left-hand side of the join, and the additional join should return all matches or NULLs."
   ]
  },
  {
   "cell_type": "code",
   "execution_count": null,
   "id": "interracial-timing",
   "metadata": {},
   "outputs": [],
   "source": [
    "-- SELECT the fully qualified album_id column from the album table\n",
    "SELECT album_id,\n",
    "       title,\n",
    "       album.artist_id,\n",
    "       -- SELECT the fully qualified name column from the artist table\n",
    "       name AS artist\n",
    "FROM album\n",
    "-- Perform a join to return only rows that match from both tables\n",
    "INNER JOIN artist ON album.artist_id = artist.artist_id\n",
    "WHERE album.album_id IN (213, 214)\n",
    "\n",
    "# album_id   title                                                                      artist_id   artist\n",
    "# 213        Pure Cult: The Best Of The Cult (For Rockers Ravers Lovers & Sinners) UK   139         The Cult\n",
    "# 214        The Doors                                                                  140         The Doors"
   ]
  },
  {
   "cell_type": "code",
   "execution_count": null,
   "id": "genuine-group",
   "metadata": {},
   "outputs": [],
   "source": [
    "SELECT album.album_id,\n",
    "       title,\n",
    "       album.artist_id,\n",
    "       artist.name as artist\n",
    "FROM album\n",
    "INNER JOIN artist ON album.artist_id = artist.artist_id\n",
    "-- Perform the correct join type to return matches or NULLS from the track table\n",
    "RIGHT JOIN track on album.album_id = track.album_id\n",
    "WHERE album.album_id IN (213, 214)\n",
    "\n",
    "# album_id   title                                                                      artist_id   artist\n",
    "# 213        Pure Cult: The Best Of The Cult (For Rockers Ravers Lovers & Sinners) UK   139         The Cult\n",
    "# 213        Pure Cult: The Best Of The Cult (For Rockers Ravers Lovers & Sinners) UK   139         The Cult\n",
    "# 213        Pure Cult: The Best Of The Cult (For Rockers Ravers Lovers & Sinners) UK   139         The Cult\n",
    "# ..."
   ]
  },
  {
   "cell_type": "markdown",
   "id": "packed-letter",
   "metadata": {},
   "source": [
    "## UNION ALL Check\n",
    "\n",
    "Which of the following options correctly describes what happens when 2 queries are combined with `UNION ALL`?"
   ]
  },
  {
   "cell_type": "markdown",
   "id": "electrical-orchestra",
   "metadata": {},
   "source": [
    "All rows from both queries are returned, including duplicates."
   ]
  },
  {
   "cell_type": "markdown",
   "id": "magnetic-season",
   "metadata": {},
   "source": [
    "## Join the UNION\n",
    "\n",
    "You can write 2 or more `SELECT` statements and combine the results using `UNION`. For example, you may have two different tables with similar column types. If you wanted to combine these into one set of results, you'd use `UNION`. You'll see how to do this using the `artist` and `album` tables. In this exercise, you'll `SELECT` two common columns, add a `description`, then a `Source` column so you can tell which table the columns originated from.\n",
    "\n",
    "Instructions\n",
    "\n",
    "1. Make the first selection from the `album` table. Then join the results by providing the relevant keyword and selecting from the `artist` table."
   ]
  },
  {
   "cell_type": "code",
   "execution_count": null,
   "id": "technical-leeds",
   "metadata": {},
   "outputs": [],
   "source": [
    "SELECT album_id AS ID,\n",
    "       title AS description,\n",
    "       'Album' AS Source\n",
    "       -- Complete the FROM statement\n",
    "FROM album\n",
    "-- Combine the result set using the relevant keyword\n",
    "UNION\n",
    "SELECT artist_id AS ID,\n",
    "       name AS description,\n",
    "       'Artist' AS Source\n",
    "-- Complete the FROM statement\n",
    "FROM artist;\n",
    "\n",
    "# ID   description                             Source\n",
    "# 1    AC/DC                                   Artist\n",
    "# 1    For Those About To Rock We Salute You   Album\n",
    "# 2    Accept                                  Artist\n",
    "# ..."
   ]
  }
 ],
 "metadata": {
  "kernelspec": {
   "display_name": "Python 3",
   "language": "python",
   "name": "python3"
  },
  "language_info": {
   "codemirror_mode": {
    "name": "ipython",
    "version": 3
   },
   "file_extension": ".py",
   "mimetype": "text/x-python",
   "name": "python",
   "nbconvert_exporter": "python",
   "pygments_lexer": "ipython3",
   "version": "3.8.10"
  },
  "toc": {
   "base_numbering": 1,
   "nav_menu": {},
   "number_sections": false,
   "sideBar": true,
   "skip_h1_title": false,
   "title_cell": "Table of Contents",
   "title_sidebar": "Contents",
   "toc_cell": false,
   "toc_position": {},
   "toc_section_display": true,
   "toc_window_display": false
  },
  "varInspector": {
   "cols": {
    "lenName": 16,
    "lenType": 16,
    "lenVar": 40
   },
   "kernels_config": {
    "python": {
     "delete_cmd_postfix": "",
     "delete_cmd_prefix": "del ",
     "library": "var_list.py",
     "varRefreshCmd": "print(var_dic_list())"
    },
    "r": {
     "delete_cmd_postfix": ") ",
     "delete_cmd_prefix": "rm(",
     "library": "var_list.r",
     "varRefreshCmd": "cat(var_dic_list()) "
    }
   },
   "types_to_exclude": [
    "module",
    "function",
    "builtin_function_or_method",
    "instance",
    "_Feature"
   ],
   "window_display": false
  }
 },
 "nbformat": 4,
 "nbformat_minor": 5
}
