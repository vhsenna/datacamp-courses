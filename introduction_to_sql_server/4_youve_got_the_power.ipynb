{
 "cells": [
  {
   "cell_type": "markdown",
   "id": "proper-radiation",
   "metadata": {},
   "source": [
    "## CRUD operations\n",
    "\n",
    "When we talk about 'CRUD' operations on the records of a database, what do we mean - what do those letters stand for?"
   ]
  },
  {
   "cell_type": "markdown",
   "id": "grave-flight",
   "metadata": {},
   "source": [
    "Create, Read, Update, Delete."
   ]
  },
  {
   "cell_type": "markdown",
   "id": "specific-enclosure",
   "metadata": {},
   "source": [
    "## Create tables\n",
    "\n",
    "Say you want to create a table to consolidate some useful track information into one table. This will consist of the track name, the artist, and the album the track came from. You also want to store the track length in a different format to how it is currently stored in the track table. How can you go about doing this? Using `CREATE TABLE`. Recall the example from the video:\n",
    "\n",
    "```\n",
    "CREATE TABLE test_table(\n",
    "    test_date DATE, \n",
    "    test_name VARCHAR(20), \n",
    "    test_int INT)\n",
    "```\n",
    "\n",
    "Let's get started!\n",
    "\n",
    "Instructions\n",
    "\n",
    "1. Create a table named `'results'` with 3 `VARCHAR` columns called `track`, `artist`, and `album`, with lengths `200`, `120`, and `160`, respectively.\n",
    "2. Create one integer column called `track_length_mins`.\n",
    "3. `SELECT` all the columns from your new table. No rows will be returned, but you can confirm that the table has been created."
   ]
  },
  {
   "cell_type": "code",
   "execution_count": null,
   "id": "literary-wedding",
   "metadata": {},
   "outputs": [],
   "source": [
    "-- Create the table\n",
    "CREATE TABLE results(\n",
    "    -- Create track column\n",
    "    track VARCHAR(200),\n",
    "    -- Create artist column\n",
    "    artist VARCHAR(120),\n",
    "    -- Create album column\n",
    "    album VARCHAR(160));"
   ]
  },
  {
   "cell_type": "code",
   "execution_count": null,
   "id": "frank-mainstream",
   "metadata": {},
   "outputs": [],
   "source": [
    "-- Create the table\n",
    "CREATE TABLE results(\n",
    "    -- Create track column\n",
    "    track VARCHAR(200),\n",
    "    -- Create artist column\n",
    "    artist VARCHAR(120),\n",
    "    -- Create album column\n",
    "    album VARCHAR(160),\n",
    "    -- Create track_length_mins\n",
    "    track_length_mins INT);"
   ]
  },
  {
   "cell_type": "code",
   "execution_count": null,
   "id": "federal-spectacular",
   "metadata": {},
   "outputs": [],
   "source": [
    "-- Select all columns from the table\n",
    "SELECT track,\n",
    "       artist, \n",
    "       album, \n",
    "       track_length_mins \n",
    "FROM results;\n",
    "\n",
    "# track   artist   album   track_length_mins"
   ]
  },
  {
   "cell_type": "markdown",
   "id": "global-replacement",
   "metadata": {},
   "source": [
    "## Insert\n",
    "\n",
    "This exercise consists of two parts: In the first, you'll create a new table very similar to the one you created in the previous interactive exercise. After that, you'll insert some data and retrieve it.\n",
    "\n",
    "You'll continue working with the Chinook database here.\n",
    "\n",
    "Instructions\n",
    "\n",
    "1. Create a table called `tracks` with 2 `VARCHAR` columns named `track` and `album`, and one integer column named `track_length_mins`. Then, select all columns from the new table using the `*` notation.\n",
    "2. Insert the track `'Basket Case'`, from the album `'Dookie'`, with a track length of `3`, into the appropriate columns."
   ]
  },
  {
   "cell_type": "code",
   "execution_count": null,
   "id": "democratic-attitude",
   "metadata": {},
   "outputs": [],
   "source": [
    "-- Create the table\n",
    "CREATE TABLE tracks(\n",
    "    -- Create track column\n",
    "    track VARCHAR(200),\n",
    "    -- Create album column\n",
    "    album VARCHAR(160),\n",
    "    -- Create track_length_mins column\n",
    "    track_length_mins INT);\n",
    "-- Select all columns from the new table\n",
    "SELECT * \n",
    "FROM tracks;\n",
    "\n",
    "# track   album   track_length_mins"
   ]
  },
  {
   "cell_type": "code",
   "execution_count": null,
   "id": "valuable-penetration",
   "metadata": {},
   "outputs": [],
   "source": [
    "-- Create the table\n",
    "CREATE TABLE tracks(\n",
    "  -- Create track column\n",
    "  track VARCHAR(200), \n",
    "  -- Create album column\n",
    "  album VARCHAR(160), \n",
    "  -- Create track_length_mins column\n",
    "  track_length_mins INT);\n",
    "-- Complete the statement to enter the data to the table         \n",
    "INSERT INTO tracks\n",
    "-- Specify the destination columns\n",
    "(track, album, track_length_mins)\n",
    "-- Insert the appropriate values for track, album and track length\n",
    "VALUES ('Basket Case', 'Dookie', 3);\n",
    "-- Select all columns from the new table\n",
    "SELECT *\n",
    "FROM tracks;\n",
    "\n",
    "# track         album    track_length_mins\n",
    "# Basket Case   Dookie   3"
   ]
  },
  {
   "cell_type": "markdown",
   "id": "dynamic-parameter",
   "metadata": {},
   "source": [
    "## Update\n",
    "\n",
    "You may sometimes have to update the rows in a table. For example, in the `album` table, there is a row with a very long album title, and you may want to shorten it.\n",
    "\n",
    "You don't want to delete the record - you just want to update it in place. To do this, you need to specify the `album_id` to ensure that only the desired row is updated and all others are not modified.\n",
    "\n",
    "Instructions\n",
    "\n",
    "1. Select the `title` column from the `album` table where the `album_id` is `213`.\n",
    "2. That's a very long album title, isn't it? Use an `UPDATE` statement to modify the `title` to `'Pure Cult: The Best Of The Cult'`.\n",
    "3. Check to see whether or not the album title was shortened!"
   ]
  },
  {
   "cell_type": "code",
   "execution_count": null,
   "id": "outdoor-michael",
   "metadata": {},
   "outputs": [],
   "source": [
    "-- Select the album\n",
    "SELECT title \n",
    "FROM album \n",
    "WHERE album_id = 213;\n",
    "\n",
    "# title\n",
    "# Pure Cult: The Best Of The Cult (For Rockers Ravers Lovers & Sinners) UK"
   ]
  },
  {
   "cell_type": "code",
   "execution_count": null,
   "id": "operating-square",
   "metadata": {},
   "outputs": [],
   "source": [
    "-- Run the query\n",
    "SELECT title \n",
    "FROM album \n",
    "WHERE album_id = 213;\n",
    "-- UPDATE the album table\n",
    "UPDATE album\n",
    "-- SET the new title    \n",
    "SET title = 'Pure Cult: The Best Of The Cult'\n",
    "WHERE album_id = 213;"
   ]
  },
  {
   "cell_type": "code",
   "execution_count": null,
   "id": "fourth-merchandise",
   "metadata": {},
   "outputs": [],
   "source": [
    "-- Select the album\n",
    "SELECT title \n",
    "FROM album \n",
    "WHERE album_id = 213;\n",
    "-- UPDATE the title of the album\n",
    "UPDATE album \n",
    "SET title = 'Pure Cult: The Best Of The Cult' \n",
    "WHERE album_id = 213;\n",
    "-- Run the query again\n",
    "SELECT title \n",
    "FROM album\n",
    "WHERE album_id = 213;\n",
    "\n",
    "# title\n",
    "# Pure Cult: The Best Of The Cult"
   ]
  },
  {
   "cell_type": "markdown",
   "id": "australian-outdoors",
   "metadata": {},
   "source": [
    "## Delete\n",
    "\n",
    "You may not have permissions to delete from your database, but it is safe to practice it here in this course!\n",
    "\n",
    "Remember - there is no confirmation before deleting. When you execute the statement, the record(s) are deleted immediately. Always ensure you test with a `SELECT` and `WHERE` in a separate query to ensure you are selecting and deleting the correct records. If you forget so specify a `WHERE` condition, you will delete ALL rows from the table.\n",
    "\n",
    "Instructions\n",
    "\n",
    "1. Check the query and view the existing data.\n",
    "2. `DELETE` the record from `album` where `album_id` is `1` and then check."
   ]
  },
  {
   "cell_type": "code",
   "execution_count": null,
   "id": "capable-justice",
   "metadata": {},
   "outputs": [],
   "source": [
    "-- Run the query\n",
    "SELECT * \n",
    "FROM album\n",
    "\n",
    "# album_id   title                                   artist_id\n",
    "# 1          For Those About To Rock We Salute You   1\n",
    "# 2          Balls to the Wall                       2\n",
    "# 3          Restless and Wild                       2\n",
    "# ..."
   ]
  },
  {
   "cell_type": "code",
   "execution_count": null,
   "id": "dynamic-adrian",
   "metadata": {},
   "outputs": [],
   "source": [
    "-- Run the query\n",
    "SELECT * \n",
    "FROM album \n",
    "-- DELETE the record\n",
    "DELETE FROM album \n",
    "WHERE album_id = 1\n",
    "  -- Run the query again\n",
    "SELECT * \n",
    "FROM album;\n",
    "\n",
    "# album_id   title               artist_id\n",
    "# 2          Balls to the Wall   2\n",
    "# 3          Restless and Wild   2\n",
    "# 4          Let There Be Rock   1\n",
    "# ..."
   ]
  },
  {
   "cell_type": "markdown",
   "id": "unknown-petersburg",
   "metadata": {},
   "source": [
    "## DECLARE and SET a variable\n",
    "\n",
    "Using variables makes it easy to run a query multiple times, with different values, without having to scroll down and amend the `WHERE` clause each time. You can quickly update the variable at the top of the query instead. This also helps provide greater security, but that is out of scope of this course.\n",
    "\n",
    "Let's go back to the now very familiar `grid` table for this exercise, and use it to practice extracting data according to your newly defined variable.\n",
    "\n",
    "Instructions\n",
    "\n",
    "1. `DECLARE` the variable `@region`, which has a data type of `VARCHAR` and length of `10`.\n",
    "2. `SET` your newly defined variable to `'RFC'`.\n",
    "3. Check the results!"
   ]
  },
  {
   "cell_type": "code",
   "execution_count": null,
   "id": "deluxe-narrative",
   "metadata": {},
   "outputs": [],
   "source": [
    "-- Declare the variable @region, and specify the data type of the variable\n",
    "DECLARE @region VARCHAR(10)\n",
    "\n",
    "-- Update the variable value\n",
    "SET @region = 'RFC'\n",
    "\n",
    "SELECT description,\n",
    "       nerc_region,\n",
    "       demand_loss_mw,\n",
    "       affected_customers\n",
    "FROM grid\n",
    "WHERE nerc_region = @region;\n",
    "\n",
    "# description                     nerc_region   demand_loss_mw   affected_customers\n",
    "# Severe Weather  Thunderstorms   RFC           null             127000\n",
    "# Severe Weather  Thunderstorms   RFC           null             138802\n",
    "# Severe Weather  Thunderstorms   RFC           null             66383\n",
    "# ..."
   ]
  },
  {
   "cell_type": "markdown",
   "id": "advised-juvenile",
   "metadata": {},
   "source": [
    "## Declare multiple variables\n",
    "\n",
    "You've seen how to `DECLARE` and `SET` set 1 variable. Now, you'll `DECLARE` and `SET` multiple variables. There is already one variable declared, however you need to overwrite this and declare 3 new ones. The `WHERE` clause will also need to be modified to return results between a range of dates.\n",
    "\n",
    "Instructions\n",
    "\n",
    "1. Declare a new variable called `@start` of type `DATE`.\n",
    "2. Declare a new variable called `@stop` of type `DATE`.\n",
    "3. Declare a new variable called `@affected` of type `INT`.\n",
    "4. Retrieve all rows where `event_date` is `BETWEEN` `@start` and `@stop` and `affected_customers` is greater than or equal to `@affected`."
   ]
  },
  {
   "cell_type": "code",
   "execution_count": null,
   "id": "wound-japan",
   "metadata": {},
   "outputs": [],
   "source": [
    "-- Declare @start\n",
    "DECLARE @start DATE\n",
    "\n",
    "-- SET @start to '2014-01-24'\n",
    "SET @start = '2014-01-24'"
   ]
  },
  {
   "cell_type": "code",
   "execution_count": null,
   "id": "willing-training",
   "metadata": {},
   "outputs": [],
   "source": [
    "-- Declare @stop\n",
    "DECLARE @stop DATE\n",
    "\n",
    "-- SET @stop to '2014-07-02'\n",
    "SET @stop = '2014-07-02'"
   ]
  },
  {
   "cell_type": "code",
   "execution_count": null,
   "id": "dramatic-hayes",
   "metadata": {},
   "outputs": [],
   "source": [
    "-- Declare @affected\n",
    "DECLARE @affected INT\n",
    "\n",
    "-- Set @affected to 5000\n",
    "SET @affected = 5000"
   ]
  },
  {
   "cell_type": "code",
   "execution_count": null,
   "id": "tracked-newfoundland",
   "metadata": {},
   "outputs": [],
   "source": [
    "SELECT description,\n",
    "       nerc_region,\n",
    "       demand_loss_mw,\n",
    "       affected_customers\n",
    "FROM grid\n",
    "-- Specify the date range of the event_date and the value for @affected\n",
    "WHERE event_date BETWEEN @start AND @stop\n",
    "AND affected_customers >= @affected;\n",
    "\n",
    "# description                     nerc_region   demand_loss_mw   affected_customers\n",
    "# Severe Weather  Thunderstorms   RFC           null             127000\n",
    "# Severe Weather  Thunderstorms   MRO           424              120000\n",
    "# Severe Weather  Thunderstorms   RFC           null             138802\n",
    "# ..."
   ]
  },
  {
   "cell_type": "markdown",
   "id": "earned-swift",
   "metadata": {},
   "source": [
    "## Ultimate Power\n",
    "\n",
    "Sometimes you might want to 'save' the results of a query so you can do some more work with the data. You can do that by creating a temporary table that remains in the database until SQL Server is restarted. In this final exercise, you'll select the longest track from every album and add that into a temporary table which you'll create as part of the query.\n",
    "\n",
    "Instructions\n",
    "\n",
    "1. Create a temporary table called `maxtracks`. Make sure the table name starts with `#`.\n",
    "2. Join `album` to `artist` using `artist_id`, and `track` to `album` using `album_id`.\n",
    "3. Run the final `SELECT` statement to retrieve all the columns from your new table."
   ]
  },
  {
   "cell_type": "code",
   "execution_count": null,
   "id": "amber-murray",
   "metadata": {},
   "outputs": [],
   "source": [
    "SELECT  album.title AS album_title,\n",
    "        artist.name as artist,\n",
    "        MAX(track.milliseconds / (1000 * 60) % 60 ) AS max_track_length_mins\n",
    "-- Name the temp table #maxtracks\n",
    "INTO #maxtracks\n",
    "FROM album\n",
    "-- Join album to artist using artist_id\n",
    "INNER JOIN artist ON album.artist_id = artist.artist_id\n",
    "-- Join track to album using album_id\n",
    "INNER JOIN track ON track.album_id = album.album_id\n",
    "GROUP BY artist.artist_id, album.title, artist.name,album.album_id\n",
    "-- Run the final SELECT query to retrieve the results from the temporary table\n",
    "SELECT album_title, \n",
    "       artist,\n",
    "       max_track_length_mins\n",
    "FROM  #maxtracks\n",
    "ORDER BY max_track_length_mins DESC, artist;\n",
    "\n",
    "# album_title                               artist                           max_track_length_mins\n",
    "# Battlestar Galactica (Classic) Season 1   Battlestar Galactica (Classic)   49\n",
    "# Battlestar Galactica Season 3             Battlestar Galactica             47\n",
    "# Lost Season 2                             Lost                             47\n",
    "# ..."
   ]
  }
 ],
 "metadata": {
  "kernelspec": {
   "display_name": "Python 3",
   "language": "python",
   "name": "python3"
  },
  "language_info": {
   "codemirror_mode": {
    "name": "ipython",
    "version": 3
   },
   "file_extension": ".py",
   "mimetype": "text/x-python",
   "name": "python",
   "nbconvert_exporter": "python",
   "pygments_lexer": "ipython3",
   "version": "3.8.10"
  },
  "toc": {
   "base_numbering": 1,
   "nav_menu": {},
   "number_sections": false,
   "sideBar": true,
   "skip_h1_title": false,
   "title_cell": "Table of Contents",
   "title_sidebar": "Contents",
   "toc_cell": false,
   "toc_position": {},
   "toc_section_display": true,
   "toc_window_display": false
  },
  "varInspector": {
   "cols": {
    "lenName": 16,
    "lenType": 16,
    "lenVar": 40
   },
   "kernels_config": {
    "python": {
     "delete_cmd_postfix": "",
     "delete_cmd_prefix": "del ",
     "library": "var_list.py",
     "varRefreshCmd": "print(var_dic_list())"
    },
    "r": {
     "delete_cmd_postfix": ") ",
     "delete_cmd_prefix": "rm(",
     "library": "var_list.r",
     "varRefreshCmd": "cat(var_dic_list()) "
    }
   },
   "types_to_exclude": [
    "module",
    "function",
    "builtin_function_or_method",
    "instance",
    "_Feature"
   ],
   "window_display": false
  }
 },
 "nbformat": 4,
 "nbformat_minor": 5
}
