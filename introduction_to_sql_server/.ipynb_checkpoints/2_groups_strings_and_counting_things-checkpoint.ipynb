{
 "cells": [
  {
   "cell_type": "markdown",
   "id": "comfortable-opinion",
   "metadata": {},
   "source": [
    "## Summing\n",
    "\n",
    "Summing and counting are key ways of aggregating data, regardless of whether you are using a database, manipulating a spreadsheet, or using a programming language such as Python or R. Let's see how to do it in T-SQL using the `grid` table from Chapter 1.\n",
    "\n",
    "You'll start by obtaining overall sums, focusing specifically on the [`'MRO'`](https://en.wikipedia.org/wiki/Midwest_Reliability_Organization) region.\n",
    "\n",
    "![](https://i.imgur.com/fe63BFh.png)\n",
    "\n",
    "Instructions\n",
    "\n",
    "1. Obtain a grand total of the `demand_loss_mw` column by using the `SUM` function, and alias the result as `MRO_demand_loss`.\n",
    "2. Only retrieve rows `WHERE` `demand_loss_mw` is _not_ `NULL` **and** `nerc_region` is `'MRO'`."
   ]
  },
  {
   "cell_type": "code",
   "execution_count": null,
   "id": "racial-horse",
   "metadata": {},
   "outputs": [],
   "source": [
    "-- Sum the demand_loss_mw column\n",
    "SELECT SUM(demand_loss_mw) AS MRO_demand_loss \n",
    "FROM grid \n",
    "-- demand_loss_mw should not contain NULL values and nerc_region should be 'MRO'\n",
    "WHERE demand_loss_mw IS NOT NULL AND\n",
    "      nerc_region = 'MRO';\n",
    "    \n",
    "# MRO_demand_loss\n",
    "# 916"
   ]
  },
  {
   "cell_type": "markdown",
   "id": "native-vehicle",
   "metadata": {},
   "source": [
    "## Counting\n",
    "\n",
    "Having explored the `'MRO'` region, let's now explore the [`'RFC'`](https://en.wikipedia.org/wiki/ReliabilityFirst) region in more detail while learning how to use the `COUNT` aggregate function.\n",
    "\n",
    "![](https://i.imgur.com/fe63BFh.png)\n",
    "\n",
    "Instructions\n",
    "\n",
    "1. Return the `COUNT` of the `grid_id` column, aliasing the result as `grid_total`.\n",
    "2. Make the count more meaningful by restricting it to records where the `nerc_region` is `'RFC'`. Name the result `RFC_count`."
   ]
  },
  {
   "cell_type": "code",
   "execution_count": null,
   "id": "psychological-vertex",
   "metadata": {},
   "outputs": [],
   "source": [
    "-- Obtain a count of 'grid_id'\n",
    "SELECT COUNT(grid_id) AS grid_total \n",
    "FROM grid;\n",
    "\n",
    "# grid_total\n",
    "# 806"
   ]
  },
  {
   "cell_type": "code",
   "execution_count": null,
   "id": "composed-integer",
   "metadata": {},
   "outputs": [],
   "source": [
    "-- Obtain a count of 'grid_id'\n",
    "SELECT COUNT(grid_id) AS RFC_count\n",
    "FROM grid\n",
    "-- Restrict to rows where the nerc_region is 'RFC'\n",
    "WHERE nerc_region = 'RFC';\n",
    "\n",
    "# RFC_count\n",
    "# 246"
   ]
  },
  {
   "cell_type": "markdown",
   "id": "refined-blood",
   "metadata": {},
   "source": [
    "## MIN, MAX and AVG\n",
    "\n",
    "Along with summing and counting, you'll frequently need to find the minimum, maximum, and average of column values. Thankfully, T-SQL has functions you can use to make the task easier!\n",
    "\n",
    "Instructions\n",
    "\n",
    "1. Find the minimum value from the `affected_customers` column, but only for rows where `demand_loss_mw` has a value. Name the result `min_affected_customers`.\n",
    "2. Amend the query to return the maximum value from the same column, this time aliasing as `max_affected_customers`.\n",
    "3. Return the average value from the `affected_customers` column, this time aliasing as `avg_affected_customers`."
   ]
  },
  {
   "cell_type": "code",
   "execution_count": null,
   "id": "fuzzy-processing",
   "metadata": {},
   "outputs": [],
   "source": [
    "-- Find the minimum number of affected customers\n",
    "SELECT MIN(affected_customers) AS min_affected_customers \n",
    "FROM grid\n",
    "-- Only retrieve rows where demand_loss_mw has a value\n",
    "WHERE demand_loss_mw IS NOT NULL;\n",
    "\n",
    "# min_affected_customers\n",
    "# 0"
   ]
  },
  {
   "cell_type": "code",
   "execution_count": null,
   "id": "starting-premises",
   "metadata": {},
   "outputs": [],
   "source": [
    "-- Find the maximum number of affected customers\n",
    "SELECT MAX(affected_customers) AS max_affected_customers \n",
    "FROM grid\n",
    "-- Only retrieve rows where demand_loss_mw has a value\n",
    "WHERE demand_loss_mw IS NOT NULL;\n",
    "\n",
    "# max_affected_customers\n",
    "# 4645572"
   ]
  },
  {
   "cell_type": "code",
   "execution_count": null,
   "id": "royal-latvia",
   "metadata": {},
   "outputs": [],
   "source": [
    "-- Find the average number of affected customers\n",
    "SELECT AVG(affected_customers) AS avg_affected_customers \n",
    "FROM grid\n",
    "-- Only retrieve rows where demand_loss_mw has a value\n",
    "WHERE demand_loss_mw IS NOT NULL;\n",
    "\n",
    "# avg_affected_customers\n",
    "# 128240"
   ]
  },
  {
   "cell_type": "markdown",
   "id": "alike-jackson",
   "metadata": {},
   "source": [
    "## LEN'gth of a string\n",
    "\n",
    "Knowing the length of a string is key to being able to manipulate it further using other functions, so what better way to start the lesson?\n",
    "\n",
    "Instructions\n",
    "\n",
    "1. Retrieve the length of the `description` column, returning the results as `description_length`."
   ]
  },
  {
   "cell_type": "code",
   "execution_count": null,
   "id": "seasonal-cooper",
   "metadata": {},
   "outputs": [],
   "source": [
    "-- Calculate the length of the description column\n",
    "SELECT LEN(description) AS description_length \n",
    "FROM grid;\n",
    "\n",
    "# description_length\n",
    "# 29\n",
    "# 29\n",
    "# 27\n",
    "# ..."
   ]
  },
  {
   "cell_type": "markdown",
   "id": "monthly-athens",
   "metadata": {},
   "source": [
    "## Left and right\n",
    "We can retrieve portions of a string from either the start of the string, using `LEFT`, or working back from the end of the string, using `RIGHT`.\n",
    "\n",
    "Instructions\n",
    "\n",
    "1. Retrieve the first `25` characters from the `description` column in the grid table. Name the results `first_25_left`.\n",
    "2. Amend the query to retrieve the _last_ 25 characters from the description. Name the results `last_25_right`."
   ]
  },
  {
   "cell_type": "code",
   "execution_count": null,
   "id": "complimentary-bulletin",
   "metadata": {},
   "outputs": [],
   "source": [
    "-- Select the first 25 characters from the left of the description column\n",
    "SELECT LEFT(description, 25) AS first_25_left \n",
    "FROM grid;\n",
    "\n",
    "# first_25_left\n",
    "# Severe Weather  Thunderst\n",
    "# Severe Weather  Thunderst\n",
    "# Fuel Supply Emergency  Co\n",
    "# ..."
   ]
  },
  {
   "cell_type": "code",
   "execution_count": null,
   "id": "incident-trading",
   "metadata": {},
   "outputs": [],
   "source": [
    "-- Amend the query to select 25 characters from the  right of the description column\n",
    "SELECT RIGHT(description, 25) AS last_25_right\n",
    "FROM grid;\n",
    "\n",
    "# last_25_right\n",
    "# re Weather  Thunderstorms\n",
    "# re Weather  Thunderstorms\n",
    "# el Supply Emergency  Coal\n",
    "# ..."
   ]
  },
  {
   "cell_type": "markdown",
   "id": "oriental-juvenile",
   "metadata": {},
   "source": [
    "## Stuck in the middle with you\n",
    "\n",
    "You might be fortunate, and find that the interesting parts of your strings are at either end. However, chances are, you'll want to retrieve characters from somewhere around the middle. Let's see how to use `RIGHT`, `LEN`, `CHARINDEX` and `SUBSTRING` to extract the interior portion of a text string. The `description` column can contain multiple reasons for power outages in each row. We want to extract any additional causes of outage whenever `Weather` appears in the description column.\n",
    "\n",
    "Instructions\n",
    "\n",
    "1. You can use `CHARINDEX` to find a specific character or pattern within a column. Edit the query to return the `CHARINDEX` of the string `'Weather'` whenever it appears within the `description` column.\n",
    "2. We now know where `'Weather'` begins in the description column. But where does it end? We could manually count the number of characters, but, for longer strings, this is more work, especially when we can also find the length with `LEN`.\n",
    "3. Now we use `SUBSTRING` to return everything after `Weather` for the first ten rows. The start index here is `15`, because the `CHARINDEX` for each row is 8, and the `LEN` of `Weather` is 7."
   ]
  },
  {
   "cell_type": "code",
   "execution_count": null,
   "id": "celtic-maintenance",
   "metadata": {},
   "outputs": [],
   "source": [
    "-- Complete the query to find `Weather` within the description column\n",
    "SELECT description, \n",
    "       CHARINDEX('Weather', description) \n",
    "FROM grid\n",
    "WHERE description LIKE '%Weather%';\n",
    "\n",
    "# description\n",
    "# Severe Weather  Thunderstorms   8\n",
    "# Severe Weather  Thunderstorms   8\n",
    "# Severe Weather  Thunderstorms   8\n",
    "# ..."
   ]
  },
  {
   "cell_type": "code",
   "execution_count": null,
   "id": "stunning-coffee",
   "metadata": {},
   "outputs": [],
   "source": [
    "-- Complete the query to find the length of `Weather'\n",
    "SELECT description, \n",
    "       CHARINDEX('Weather', description) AS start_of_string,\n",
    "       LEN('Weather') AS length_of_string \n",
    "FROM grid\n",
    "WHERE description LIKE '%Weather%';\n",
    "\n",
    "# description                     start_of_string   length_of_string\n",
    "# Severe Weather  Thunderstorms   8                 7\n",
    "# Severe Weather  Thunderstorms   8                 7\n",
    "# Severe Weather  Thunderstorms   8                 7\n",
    "# ..."
   ]
  },
  {
   "cell_type": "code",
   "execution_count": null,
   "id": "united-peninsula",
   "metadata": {},
   "outputs": [],
   "source": [
    "-- Complete the substring function to begin extracting from the correct character in the description column\n",
    "SELECT TOP(10) description, \n",
    "       CHARINDEX('Weather', description) AS start_of_string, \n",
    "       LEN('Weather') AS length_of_string, \n",
    "       SUBSTRING(description,  15, \n",
    "                 LEN(description)) AS additional_description \n",
    "FROM grid\n",
    "WHERE description LIKE '%Weather%';\n",
    "\n",
    "# description                     start_of_string   length_of_string   additional_description\n",
    "# Severe Weather  Thunderstorms   8                 7                  Thunderstorms\n",
    "# Severe Weather  Thunderstorms   8                 7                  Thunderstorms\n",
    "# Severe Weather  Thunderstorms   8                 7                  Thunderstorms\n",
    "# ..."
   ]
  },
  {
   "cell_type": "markdown",
   "id": "fewer-sacramento",
   "metadata": {},
   "source": [
    "## GROUP BY\n",
    "\n",
    "In an earlier exercise, you wrote a separate `WHERE` query to determine the amount of demand lost for a specific region. We wouldn't want to have to write individual queries for **every** region. Fortunately,you don't have to write individual queries for **every** region. With `GROUP BY`, you can obtain a sum of all the unique values for your chosen column, all at once.\n",
    "\n",
    "You'll return to the `grid` table here and calculate the total lost demand for all regions.\n",
    "\n",
    "Instructions\n",
    "\n",
    "1. Select `nerc_region` and the sum of `demand_loss_mw` for each region.\n",
    "2. Exclude values where `demand_loss_mw` is NULL.\n",
    "3. Group the results by `nerc_region`.\n",
    "4. Arrange in descending order of `demand_loss`."
   ]
  },
  {
   "cell_type": "code",
   "execution_count": null,
   "id": "arbitrary-rapid",
   "metadata": {},
   "outputs": [],
   "source": [
    "-- Select the region column\n",
    "SELECT nerc_region,\n",
    "       -- Sum the demand_loss_mw column\n",
    "       SUM(demand_loss_mw) AS demand_loss\n",
    "FROM grid\n",
    "-- Exclude NULL values of demand_loss\n",
    "WHERE demand_loss_mw IS NOT NULL\n",
    "-- Group the results by nerc_region\n",
    "GROUP BY nerc_region\n",
    "-- Order the results in descending order of demand_loss\n",
    "ORDER BY demand_loss DESC;\n",
    "\n",
    "# nerc_region   demand_loss\n",
    "# WECC          72019\n",
    "# SERC          51737\n",
    "# RFC           31037\n",
    "# ..."
   ]
  },
  {
   "cell_type": "markdown",
   "id": "practical-access",
   "metadata": {},
   "source": [
    "## Having\n",
    "\n",
    "`WHERE` is used to filter rows before any grouping occurs. Once you have performed a grouping operation, you may want to further restrict the number of rows returned. This is a job for `HAVING`. In this exercise, you will modify an existing query to use `HAVING`, so that only those results with a sum of over `10000` are returned.\n",
    "\n",
    "Instructions\n",
    "\n",
    "1. Modify the provided query to remove the `WHERE` clause.\n",
    "2. Replace it with a `HAVING` clause so that only results with a total `demand_loss_mw` of greater than `10000` are returned."
   ]
  },
  {
   "cell_type": "code",
   "execution_count": null,
   "id": "technical-manchester",
   "metadata": {},
   "outputs": [],
   "source": [
    "SELECT nerc_region, \n",
    "       SUM(demand_loss_mw) AS demand_loss \n",
    "FROM grid \n",
    "-- Remove the WHERE clause\n",
    "WHERE demand_loss_mw IS NOT NULL\n",
    "GROUP BY nerc_region \n",
    "-- Enter a new HAVING clause so that the sum of demand_loss_mw is greater than 10000\n",
    "HAVING SUM(demand_loss_mw) > 10000 \n",
    "ORDER BY demand_loss DESC;\n",
    "\n",
    "# nerc_region   demand_loss\n",
    "# WECC          72019\n",
    "# SERC          51737\n",
    "# RFC           31037"
   ]
  },
  {
   "cell_type": "markdown",
   "id": "current-adrian",
   "metadata": {},
   "source": [
    "## Grouping together\n",
    "\n",
    "In this final exercise, you will combine `GROUP BY` with aggregate functions such as `MIN` that you've seen earlier in this chapter.\n",
    "\n",
    "To conclude this chapter, we'll return to the `eurovision` table from the first chapter.\n",
    "\n",
    "Instructions\n",
    "\n",
    "1. Use `MIN` and `MAX` to retrieve the minimum and maximum values for the `place` and `points` columns respectively.\n",
    "2. Let's obtain more insight from our results by adding a `GROUP BY` clause. Group the results by `country`.\n",
    "3. The previous query results did not identify the country. Let's amend the query, returning the count of entries per country and the country column. Complete the aggregate section by finding the average `place` for each country.\n",
    "4. Finally, our results are skewed by countries who only have one entry. Apply a filter so we only return rows where the `country_count` is greater than 5. Then arrange by `avg_place` in ascending order, and `avg_points` in descending order."
   ]
  },
  {
   "cell_type": "code",
   "execution_count": null,
   "id": "turkish-midnight",
   "metadata": {},
   "outputs": [],
   "source": [
    "-- Retrieve the minimum and maximum place values\n",
    "SELECT MIN(place) AS min_place, \n",
    "       MAX(place) AS max_place, \n",
    "       -- Retrieve the minimum and maximum points values\n",
    "       MIN(points) AS min_points, \n",
    "       MAX(points) AS max_points \n",
    "FROM eurovision;\n",
    "\n",
    "# min_place   max_place   min_points   max_points\n",
    "# 1           28          0            387"
   ]
  },
  {
   "cell_type": "code",
   "execution_count": null,
   "id": "enabling-private",
   "metadata": {},
   "outputs": [],
   "source": [
    "-- Retrieve the minimum and maximum place values\n",
    "SELECT MIN(place) AS min_place, \n",
    "       MAX(place) AS max_place, \n",
    "       -- Retrieve the minimum and maximum points values\n",
    "       MIN(points) AS min_points, \n",
    "       MAX(points) AS max_points \n",
    "FROM eurovision\n",
    "-- Group by country\n",
    "GROUP BY country;\n",
    "\n",
    "# min_place   max_place   min_points   max_points\n",
    "# 2           17          43           167\n",
    "# 12          23          8            80\n",
    "# 2           12          54           198\n",
    "# ..."
   ]
  },
  {
   "cell_type": "code",
   "execution_count": null,
   "id": "liberal-thumb",
   "metadata": {},
   "outputs": [],
   "source": [
    "-- Obtain a count for each country\n",
    "SELECT COUNT(country) AS country_count, \n",
    "       -- Retrieve the country column\n",
    "       country, \n",
    "       -- Return the average of the Place column \n",
    "       AVG(place) AS average_place, \n",
    "       AVG(points) AS avg_points, \n",
    "       MIN(points) AS min_points, \n",
    "       MAX(points) AS max_points \n",
    "FROM eurovision \n",
    "GROUP BY country;\n",
    "\n",
    "# country_count   country   average_place   avg_points   min_points   max_points\n",
    "# 14              Albania   10              81           43           167\n",
    "# 6               Andorra   17              26           8            80\n",
    "# 10              Armenia   6               122          54           198\n",
    "# ..."
   ]
  },
  {
   "cell_type": "code",
   "execution_count": null,
   "id": "second-device",
   "metadata": {},
   "outputs": [],
   "source": [
    "SELECT country, \n",
    "       COUNT (country) AS country_count, \n",
    "       AVG (place) AS avg_place, \n",
    "       AVG (points) AS avg_points, \n",
    "       MIN (points) AS min_points, \n",
    "       MAX (points) AS max_points \n",
    "FROM eurovision \n",
    "GROUP BY country \n",
    "-- The country column should only contain those with a count greater than 5\n",
    "HAVING COUNT(country) > 5 \n",
    "-- Arrange columns in the correct order\n",
    "ORDER BY avg_place, \n",
    "         avg_points DESC;\n",
    "    \n",
    "# country      country_count   avg_place   avg_points   min_points   max_points\n",
    "# Azerbaijan   9               3           150          96           221\n",
    "# Serbia       10              6           145          60           298\n",
    "# Russia       18              6           134          37           266\n",
    "# ..."
   ]
  }
 ],
 "metadata": {
  "kernelspec": {
   "display_name": "Python 3",
   "language": "python",
   "name": "python3"
  },
  "language_info": {
   "codemirror_mode": {
    "name": "ipython",
    "version": 3
   },
   "file_extension": ".py",
   "mimetype": "text/x-python",
   "name": "python",
   "nbconvert_exporter": "python",
   "pygments_lexer": "ipython3",
   "version": "3.8.10"
  },
  "toc": {
   "base_numbering": 1,
   "nav_menu": {},
   "number_sections": false,
   "sideBar": true,
   "skip_h1_title": false,
   "title_cell": "Table of Contents",
   "title_sidebar": "Contents",
   "toc_cell": false,
   "toc_position": {},
   "toc_section_display": true,
   "toc_window_display": false
  },
  "varInspector": {
   "cols": {
    "lenName": 16,
    "lenType": 16,
    "lenVar": 40
   },
   "kernels_config": {
    "python": {
     "delete_cmd_postfix": "",
     "delete_cmd_prefix": "del ",
     "library": "var_list.py",
     "varRefreshCmd": "print(var_dic_list())"
    },
    "r": {
     "delete_cmd_postfix": ") ",
     "delete_cmd_prefix": "rm(",
     "library": "var_list.r",
     "varRefreshCmd": "cat(var_dic_list()) "
    }
   },
   "types_to_exclude": [
    "module",
    "function",
    "builtin_function_or_method",
    "instance",
    "_Feature"
   ],
   "window_display": false
  }
 },
 "nbformat": 4,
 "nbformat_minor": 5
}
