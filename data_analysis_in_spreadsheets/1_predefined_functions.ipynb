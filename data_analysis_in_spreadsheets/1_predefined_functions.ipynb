{
 "cells": [
  {
   "cell_type": "markdown",
   "id": "healthy-castle",
   "metadata": {},
   "source": [
    "## First function - ROUND\n",
    "\n",
    "Functions perform calculations on your data. For example, the `ROUND` function calculates the rounded value of its input.\n",
    "\n",
    "A function typically has some input values and one output value. What happens in the middle is handled by _Google Sheets_, you don't really have to worry about that. The input of a function is also called its **arguments**.\n",
    "\n",
    "Let's look at the `ROUND` function:\n",
    "\n",
    "- [`ROUND(value)`](https://support.google.com/docs/answer/3093440): rounds the number you give as input, `value`.\n",
    "For example, a cell that contains `=ROUND(7.27)` would evaluate to `7`:\n",
    "\n",
    "![](https://i.imgur.com/Mc3dJPD.png)\n",
    "\n",
    "The data you see on your right is the monthly revenue stream of a museum's gift shop in a small town. For each month, you'll see the total amount of money they made in that month.\n",
    "\n",
    "Instructions\n",
    "\n",
    "1. In `C2`, fill in a formula that rounds the value in `B2` to the nearest integer. Don't forget to start the formula with a `=`. You should use the `ROUND` function discussed before, and pass it the reference as an argument.\n",
    "2. Copy the value of `C2` down to `C13`. You can do so by dragging your mouse from the lower right corner of `C2` to `C13`. The values in `C2:C13` should all be filled in and contain the rounded values of `B2:B13`."
   ]
  },
  {
   "cell_type": "markdown",
   "id": "substantial-solid",
   "metadata": {},
   "source": [
    "## Function composition - SQRT\n",
    "\n",
    "In this exercise, you're going to use the output of one function as input to another function. _Google Sheets_ will first evaluate the innermost function, and use the result as an argument for the outer function. Combining functions like this is called **function composition**.\n",
    "\n",
    "For example, you can use the `SQRT` function (explained below) in a `ROUND` function as such: `=ROUND(SQRT(5.0625))`. First, `SQRT(5.0625)` will be evaluated to `2.25` and used as an input in `ROUND`. The final output will be the result of `=ROUND(2.25)`, which is `2`. The following illustration can clarify:\n",
    "\n",
    "![](https://i.imgur.com/FXVKy7e.png)\n",
    "\n",
    "In this exercise, you'll use the following function in combination with the `ROUND` function:\n",
    "\n",
    "- [`SQRT(value)`](https://support.google.com/docs/answer/3093577): the square root of a value.\n",
    "\n",
    "Instructions\n",
    "\n",
    "1. In `C2:C13`, fill in the `SQRT` of the values in `B`. You can start with `C2` and copy the values downward.\n",
    "2. In `D2:D13`, fill in the rounded values of `C`.\n",
    "3. Note that you needed **2 columns** to find the rounded square root. In `E2:E13`, fill in the rounded square root of the values in `B`, by using function composition. This way you only use **1 column**. The values should be the same as in `D2:D12`."
   ]
  },
  {
   "cell_type": "markdown",
   "id": "prescription-cancer",
   "metadata": {},
   "source": [
    "## Functions and ranges - MIN, MAX\n",
    "\n",
    "Some functions in _Google Sheets_ accept ranges as arguments. A little refresher here: ranges are rectangular groups of cells, identified by 2 cell addresses separated by a colon (e.g. `A1:B2`).\n",
    "\n",
    "For example, you could calculate the maximum value in range by using the `MAX` function. It will look for the maximum value within the range.\n",
    "\n",
    "You'll be using the following functions in this exercise: `MIN` and `MAX`. Arguments can be ranges, where every value in the range is checked (e.g. `=MAX(A1:A7)`):\n",
    "\n",
    "- [`MIN(value1, [value2, ...])`](https://support.google.com/docs/answer/3094017): searches for the minimum value in its arguments.\n",
    "- [`MAX(value1, [value2, ...])`](https://support.google.com/docs/answer/3094013): searches for the maximum value in its arguments.\n",
    "\n",
    "`MAX` and `MIN` could also be used with multiple arguments: for example `MAX(1, 5, 2)` or even `MIN(A1:A7, B7:D7)`.\n",
    "\n",
    "Instructions\n",
    "\n",
    "1. In `B15`, calculate the minimum value in `B2:B13`. Use the `MIN` function, which can be used with ranges. Don't forget to start your formula with `=`.\n",
    "2. In `B16`, calculate the maximum value in `B2:B13`. Use the `MAX` function, which also accepts ranges as arguments."
   ]
  },
  {
   "cell_type": "markdown",
   "id": "invalid-output",
   "metadata": {},
   "source": [
    "## Selecting ranges - SUM, AVERAGE, MEDIAN\n",
    "\n",
    "In this exercise, you'll learn how to use ranges as arguments using the mouse. When writing a function, after you have written the opening parentheses (`(`), you can navigate your mouse to select the desired range. The value of the range will be filled in automatically and the closing parentheses (`)`) is autocompleted, as illustrated below:\n",
    "\n",
    "![](https://i.ibb.co/M7B5ygK/35282366-96458ce4-0055-11e8-9541-f1c0bab3a30d.gif)\n",
    "\n",
    "You'll be using the following functions in this exercise, each can have ranges as arguments:\n",
    "\n",
    "- [`SUM(value1, [value2, ...])`](https://support.google.com/docs/answer/3093669): calculates the sum of all its arguments.\n",
    "- [`AVERAGE(value1, [value2, ...])`](https://support.google.com/docs/answer/3093615): calculates the average of all its arguments.\n",
    "- [`MEDIAN(value1, [value2, ...])`](https://support.google.com/docs/answer/3094025): calculates the median of all its arguments.\n",
    "\n",
    "In the function documentation, you'll see arguments between square brackets (`[`) sometimes. It means these are optional.\n",
    "\n",
    "Instructions\n",
    "\n",
    "1. Use `SUM` in `B17` to calculate the sum of the values in `B2:B13`. Using the trick illustrated above will speed up the process.\n",
    "2. Use `AVERAGE` in `B18` to calculate the average of the values in `B2:B13`.\n",
    "3. Use `MEDIAN` in `B19` to calculate the median of the values in `B2:B13`."
   ]
  },
  {
   "cell_type": "markdown",
   "id": "stretch-summary",
   "metadata": {},
   "source": [
    "## Multiple arguments - RANK\n",
    "\n",
    "Until now, you've always used functions with a single argument. In this exercise, you'll be using multiple arguments in the `RANK` function.\n",
    "\n",
    "`RANK` gives you an idea how a value compares to other values in a range. For example, in our example, it can be used to find out which were the top 5 months in terms of revenue. Specifically:\n",
    "\n",
    "- [`RANK(value, data)`](https://support.google.com/docs/answer/3094098): evaluates to the rank of `value` in a range, `data`.\n",
    "\n",
    "For example, if `A1:A3` contains the values: `3`, `1`, `2`, then `=RANK(A1, $A$1:$A$3)` will evaluate to `1`, since it's the highest number. Notice the absolute reference here, which you typically want to use with `RANK`.\n",
    "\n",
    "Instructions\n",
    "\n",
    "1. In `C2`, find out the rank of `B2` in the following range: `B2:B13`.\n",
    "2. Make `B2:B13` an absolute reference in `C2`. You can do this by hand, or by selecting the range and hitting `F4`.\n",
    "3. Copy the value of `C2` down to `C13` to get the ranks of all sales. This will only work if you followed the second instruction correctly."
   ]
  },
  {
   "cell_type": "markdown",
   "id": "substantial-event",
   "metadata": {},
   "source": [
    "## Even more arguments - RANK\n",
    "\n",
    "In this exercise, you're going to use the `RANK` function again. This time, use the third argument, `is_ascending`, to get the rank of the `value` where the `data` list is considered in an ascending order.\n",
    "\n",
    "Here's some information on `RANK` as a refresher: \n",
    "\n",
    "- [`RANK(value, data, [is_ascending])`](https://support.google.com/docs/answer/3094098): when `is_ascending` is `1`, the rank is considered in an ascending order of the data. It defaults to `0`, meaning the rank will be considered in a descending list of `data`. See the table below for an example.\n",
    "\n",
    "```\n",
    "A\t   Column B (is_ascending = 0)   Column C (is_ascending = 1)\n",
    "3510   3                             1\n",
    "9730   1                             3\n",
    "6450   2                             2\n",
    "```\n",
    "\n",
    "In **Column B**, by default `RANK()` evaluates `3510` as `3` (as it is the third highest value in the range). However it is ranked `1` in **Column C** by specifying `is_ascending` as `1`. Note that `is_ascending` is an unnamed argument, meaning that you can simply pass in `1` after the range. For example, the formula for the first value in **Column C** would be: `=RANK(A2, $A$2:$A$4, 1)`.\n",
    "\n",
    "You're going to use an ascending rank to find the **worst** months in terms of revenue.\n",
    "\n",
    "Instructions\n",
    "\n",
    "1. In `C2`, fill in the rank of `B2` in `B2:B13`, considered in an ascending order. _Don't forget to use an absolute reference as you did in the previous exercise!_\n",
    "2. Copy the value of `C2` until `C13`.\n",
    "3. Fill in `D2:D13`, checking whether the rank in column `C` is smaller than or equal to `2`, to find the worst 2 months. You can use the comparison operator: `... <= ...` (fill in the dots).\n",
    "    1. Your output should contain `TRUE` or `FALSE` based on the comparison in each cell."
   ]
  },
  {
   "cell_type": "markdown",
   "id": "official-temperature",
   "metadata": {},
   "source": [
    "## String manipulation - LEFT, RIGHT\n",
    "\n",
    "In the previous exercises, you saw some functions to handle numeric data. Let's look at some functions that are used to work with plain text, also called a [string](https://support.google.com/docs/answer/7570448). The functions in this exercise can be used to manipulate strings.\n",
    "\n",
    "Have a look at the following functions:\n",
    "\n",
    "- [`LEFT(string, [number_of_characters])`](https://support.google.com/docs/answer/3094079): selects the leftmost part of a `string`. The number of characters selected is defined in the optional argument `number_of_characters`, and defaults to `1`.\n",
    "- [`RIGHT(string, [number_of_characters])`](https://support.google.com/docs/answer/3094087): selects the rightmost part of a `string`. The number of characters selected is defined in the optional argument `number_of_characters`, and defaults to `1`.\n",
    "\n",
    "The data you'll work with is the 10 most lucrative movies in the [domestic box office data of 2017](http://www.boxofficemojo.com/yearly/chart/?yr=2017).\n",
    "\n",
    "Instructions\n",
    "\n",
    "1. You need to be able to identify each movie using a maximum of 4 characters, so you create a new column: movie id. In `E2:E11`, try to take the last 4 characters of the movies in `A`. Use `RIGHT` here. Does the result make a lot of sense?\n",
    "2. In `F2:F11`, try to take the first 4 characters of the movies in `A`. Use `LEFT` here. This seems to make a bit more sense."
   ]
  },
  {
   "cell_type": "markdown",
   "id": "radio-wagner",
   "metadata": {},
   "source": [
    "## String information - LEN, SEARCH\n",
    "\n",
    "In this exercise, you'll learn some functions that are used to gather some information about strings.\n",
    "\n",
    "You'll be using the following two new functions:\n",
    "\n",
    "- [`LEN(text)`](https://support.google.com/docs/answer/3094081): evaluates to the number of characters of `text`. E.g. `=LEN(\"Cell\")` would evaluate to `4`.\n",
    "- [`SEARCH(search_for, text_to_search)`](https://support.google.com/docs/answer/3094154): searches for `search_for` in `text_to_search`:\n",
    "    - `search_for`: the string to look for.\n",
    "    - `text_to_search`: the string to look in.\n",
    "\n",
    "`SEARCH` evaluates to a number, the location in the string where `search_for` appears, with `1` being the first character. E.g. `=SEARCH(\"e\", \"test test\")` would evaluate to `2`, because the first `\"e\"` appears as the second character.\n",
    "\n",
    "Instructions\n",
    "\n",
    "You are going to combine `LEN` and `SEARCH` to retrieve the surnames of the directors.\n",
    "\n",
    "1. In `E2:E11`, find the number of characters in the directors' names using `LEN`.\n",
    "2. In `F2:F11`, find the position of the space in the directors' names using `SEARCH`.\n",
    "3. In `G2:G11`, find the number of characters in the directors' surnames by subtracting the values in `F` from the values in `E`.\n",
    "4. In `H2:H11`, retrieve the directors' surnames using `RIGHT` and the number of characters in `G`."
   ]
  },
  {
   "cell_type": "markdown",
   "id": "terminal-result",
   "metadata": {},
   "source": [
    "## Combining strings - CONCATENATE\n",
    "\n",
    "In the last exercise on string functions, you'll see how to combine strings using the `CONCATENATE` function:\n",
    "\n",
    "- [`CONCATENATE(string1, [string2, ...])`](): combines one or more strings into a single string. E.g. `=CONCATENATE(\"foo\", \" \", \"bar\")` evaluates to `foo bar`.\n",
    "\n",
    "Instructions\n",
    "\n",
    "In `E`, you can see a formula that selects the Last name of the director's name in `C`.\n",
    "\n",
    "1. In `F2:F11`, fill in the first character of the first name of the directors. For example, `F2` should contain `R`. Use `LEFT` to achieve this.\n",
    "2. In `G2:G11`, the values should evaluate to the surname and the first character of the first name, with some punctuation. For example `G2` should evaluate to `Johnson R.`. Use `CONCATENATE` to achieve this."
   ]
  },
  {
   "cell_type": "markdown",
   "id": "logical-karma",
   "metadata": {},
   "source": [
    "## Date functions - WEEKDAY\n",
    "\n",
    "Some functions are used to get specific information or do operations on dates. One example of such a function is `WEEKDAY`:\n",
    "\n",
    "- [`WEEKDAY(date, [type])`](): evaluates to the day of the week of a `date`. `type` is `1`, `2` or `3`.\n",
    "    - `type = 1`: Sunday is day `1` and Saturday is day `7` (default).\n",
    "    - `type = 2`: Monday is day `1` and Sunday is day `7`.\n",
    "    - `type = 3`: Monday is day `0` and Sunday is day `6`.\n",
    "\n",
    "For example, using `=WEEKDAY(A1, 2)` (where `A1` contains the date `2019-01-01`) would evaluate to `2`, because January 1st 2019 fell on a Tuesday and setting `type` to `2` sets Monday at `1`.\n",
    "\n",
    "Instructions\n",
    "\n",
    "1. From `E2:E11`, use `WEEKDAY()` to figure out the weekday of the release date in `B2:B11`.\n",
    "    1. Set `type` so that Monday would evaluate to `0`.\n",
    "2. The values in `F2:F11` should be `TRUE` when the value in column `E` is a Wednesday, `FALSE` otherwise.\n",
    "    1. Use the comparison operator: `= ... = ...` (fill in the dots).\n",
    "    2. Use the information above to determine what number Wednesday evaluates to when using `type = 2`.\n",
    "3. The values in `G2:G11` should be `TRUE` when the value in column `E` is a Friday, `FALSE` otherwise. Use a similar approach to the previous step."
   ]
  },
  {
   "cell_type": "markdown",
   "id": "described-spare",
   "metadata": {},
   "source": [
    "## Comparing dates\n",
    "\n",
    "Sometimes you might need to compare certain dates to each other, or to the current date. There are some useful functions for that in _Google Sheets_ as well:\n",
    "\n",
    "- [`DATEDIF(start_date, end_date, unit)`](https://support.google.com/docs/answer/6055612): calculates the time difference between two dates. The difference will be calculated between `start_date` and `end_date`. The `end_date` must take place after the `start_date`. A third argument here is the `unit`, this can be:\n",
    "    - `\"Y\"`: the number of years between two dates.\n",
    "    - `\"M\"`: the number of months between two dates.\n",
    "    - `\"D\"`: the number of days between two dates.\n",
    "    - A full list can be found [here](https://support.google.com/docs/answer/6055612).\n",
    "- [`NOW()`](https://support.google.com/docs/answer/3092981): a function without arguments, evaluates to the current time.\n",
    "\n",
    "For example, `=DATEDIF(\"2018-01-01\", \"2018-01-03\", \"D\")` would evaluate to `2`.\n",
    "\n",
    "Instructions\n",
    "\n",
    "1. In `E2:E11`, fill in how many days back the release of each movie took place. Use `DATEDIF` and `NOW`.\n",
    "2. In `F2:F11`, fill in how many months back the release of each movie took place. Again, use `DATEDIF` and `NOW`, but now with slightly different arguments."
   ]
  },
  {
   "cell_type": "markdown",
   "id": "underlying-monday",
   "metadata": {},
   "source": [
    "## Combining functions\n",
    "\n",
    "In this last exercise of the chapter, you'll be combining a function you learned in the first part of the chapter with some of the more recent functions you learned.\n",
    "\n",
    "As a refresher, here's some information that might be useful for this exercise:\n",
    "\n",
    "- [`DATEDIF(start_date, end_date, unit)`](https://support.google.com/docs/answer/6055612): evaluates to amount of units between the `start_date` and `end_date`. A critical argument here is the `unit`, this can be:\n",
    "    - `\"Y\"`: the number of years between two dates.\n",
    "    - `\"M\"`: the number of months between two dates.\n",
    "    - `\"D\"`: the number of days between two dates.\n",
    "    - A full list can be found [here](https://support.google.com/docs/answer/6055612).\n",
    "- [`SUM(value1, [value2, ...])`](https://support.google.com/docs/answer/3094017): calculates the sum of all its arguments.\n",
    "\n",
    "Now, you're going to calculate the average gross these movies make per day, per movie.\n",
    "\n",
    "Instructions\n",
    "\n",
    "1. Calculate the difference, in days, between the closing date and the release date in `F2:F7`. Use `DATEDIF`.\n",
    "2. Calculate the total amount of days in `F8`.\n",
    "3. Calculate the sum of all gross amounts made by the movies in `D8`.\n",
    "4. In `D9`, divide the total gross by the total amount of days: the average amount of money a movie makes at the box office in one day.\n",
    "\n",
    "**Note**: you would've gotten the same result if you'd take the [weighted average](https://en.wikipedia.org/wiki/Weighted_arithmetic_mean) of each movie's daily gross, weighted by the proportion of days."
   ]
  }
 ],
 "metadata": {
  "kernelspec": {
   "display_name": "Python 3",
   "language": "python",
   "name": "python3"
  },
  "language_info": {
   "codemirror_mode": {
    "name": "ipython",
    "version": 3
   },
   "file_extension": ".py",
   "mimetype": "text/x-python",
   "name": "python",
   "nbconvert_exporter": "python",
   "pygments_lexer": "ipython3",
   "version": "3.8.10"
  },
  "toc": {
   "base_numbering": 1,
   "nav_menu": {},
   "number_sections": false,
   "sideBar": true,
   "skip_h1_title": false,
   "title_cell": "Table of Contents",
   "title_sidebar": "Contents",
   "toc_cell": false,
   "toc_position": {},
   "toc_section_display": true,
   "toc_window_display": false
  },
  "varInspector": {
   "cols": {
    "lenName": 16,
    "lenType": 16,
    "lenVar": 40
   },
   "kernels_config": {
    "python": {
     "delete_cmd_postfix": "",
     "delete_cmd_prefix": "del ",
     "library": "var_list.py",
     "varRefreshCmd": "print(var_dic_list())"
    },
    "r": {
     "delete_cmd_postfix": ") ",
     "delete_cmd_prefix": "rm(",
     "library": "var_list.r",
     "varRefreshCmd": "cat(var_dic_list()) "
    }
   },
   "types_to_exclude": [
    "module",
    "function",
    "builtin_function_or_method",
    "instance",
    "_Feature"
   ],
   "window_display": false
  }
 },
 "nbformat": 4,
 "nbformat_minor": 5
}
