{
 "cells": [
  {
   "cell_type": "markdown",
   "id": "nuclear-tackle",
   "metadata": {},
   "source": [
    "# Data Analysis in Spreadsheets\n",
    "\n",
    "- 3 hours\n",
    "- 0 Videos\n",
    "- 27 Exercises\n",
    "\n",
    "## Course Description\n",
    "\n",
    "This course will dig deeper into some of the core functionality of Google Sheets. There's a whole bunch of predefined functions we'll cover, like SUM() and AVERAGE(), and VLOOKUP(). We'll apply these techniques to do some analysis on your grades in school, look at performance statistics within a company, track monthly sales, and look at some real geographical information about the countries of the world.\n",
    "\n",
    "### 1 Predefined functions\n",
    "\n",
    "This chapter introduces a very useful feature in Google Sheets: predefined functions. You'll use these functions to solve complex problems without having to worry about specific calculations. We’ll cover a lot of predefined functions, including functions for numbers, functions for strings, and functions for dates.\n",
    "\n",
    "- First function - ROUND\n",
    "- Function composition - SQRT\n",
    "- Functions and ranges - MIN, MAX\n",
    "- Selecting ranges - SUM, AVERAGE, MEDIAN\n",
    "- Multiple arguments - RANK\n",
    "- Even more arguments - RANK\n",
    "- String manipulation - LEFT, RIGHT\n",
    "- String information - LEN, SEARCH\n",
    "- Combining strings - CONCATENATE\n",
    "- Date functions - WEEKDAY\n",
    "- Comparing dates\n",
    "- Combining functions\n",
    "\n",
    "### 2 Conditional functions and lookups\n",
    "\n",
    "In the last chapter of the course, you'll master more advanced functions like IF() and VLOOKUP(). Conditional and lookup functions won’t seem so scary after you completed this chapter.\n",
    "\n",
    "- Performance statistics\n",
    "- Flow control - IF\n",
    "- Nested logical functions - IF\n",
    "- Combining logical values - OR, WEEKDAY\n",
    "- Conditional counting - COUNTIF\n",
    "- Conditional aggregation - COUNTIF\n",
    "- Conditional sum - SUMIF\n",
    "- Conditional average - AVERAGEIF\n",
    "- Advanced conditions - AVERAGEIF\n",
    "- Filters - FILTER, DATEVALUE, MEDIAN\n",
    "- Grades in class\n",
    "- Automating the lookup - VLOOKUP\n",
    "- More about lookup - VLOOKUP\n",
    "- Horizontal lookup - HLOOKUP\n",
    "- Weighted average - SUMPRODUCT, HLOOKUP"
   ]
  }
 ],
 "metadata": {
  "kernelspec": {
   "display_name": "Python 3",
   "language": "python",
   "name": "python3"
  },
  "language_info": {
   "codemirror_mode": {
    "name": "ipython",
    "version": 3
   },
   "file_extension": ".py",
   "mimetype": "text/x-python",
   "name": "python",
   "nbconvert_exporter": "python",
   "pygments_lexer": "ipython3",
   "version": "3.8.10"
  },
  "toc": {
   "base_numbering": 1,
   "nav_menu": {},
   "number_sections": false,
   "sideBar": true,
   "skip_h1_title": false,
   "title_cell": "Table of Contents",
   "title_sidebar": "Contents",
   "toc_cell": false,
   "toc_position": {},
   "toc_section_display": true,
   "toc_window_display": false
  },
  "varInspector": {
   "cols": {
    "lenName": 16,
    "lenType": 16,
    "lenVar": 40
   },
   "kernels_config": {
    "python": {
     "delete_cmd_postfix": "",
     "delete_cmd_prefix": "del ",
     "library": "var_list.py",
     "varRefreshCmd": "print(var_dic_list())"
    },
    "r": {
     "delete_cmd_postfix": ") ",
     "delete_cmd_prefix": "rm(",
     "library": "var_list.r",
     "varRefreshCmd": "cat(var_dic_list()) "
    }
   },
   "types_to_exclude": [
    "module",
    "function",
    "builtin_function_or_method",
    "instance",
    "_Feature"
   ],
   "window_display": false
  }
 },
 "nbformat": 4,
 "nbformat_minor": 5
}
