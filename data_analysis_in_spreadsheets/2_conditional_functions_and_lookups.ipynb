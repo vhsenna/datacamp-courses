{
 "cells": [
  {
   "cell_type": "markdown",
   "id": "configured-stomach",
   "metadata": {},
   "source": [
    "## Performance statistics\n",
    "\n",
    "You work in a fashion company with 100 employees. You want to start tracking the effectiveness of your tailors and decide to keep track of their performance for the month January of 2018.\n",
    "\n",
    "To the right, you can see an example sheet of the performance metrics for a tailor called _Vivienne V. Versace_. There are some tables with the employee and product information and a performance table.\n",
    "\n",
    "Finally, there's a bigger table, which contains the performance metrics:\n",
    "\n",
    "- _Finished_: the amount of finished products that day.\n",
    "- _Output_: the combined value of those finished products.\n",
    "- _Cost_: the cost to produce those products.\n",
    "- _Net_: the difference between output and cost.\n",
    "- _Performance_: the performance of the employee, `bad`, `acceptable` or `good`.\n",
    "\n",
    "Let's get to work.\n",
    "\n",
    "Instructions\n",
    "\n",
    "1. In `D10`, fill in the hourly wage of this employee, which is `$40`.\n",
    "2. In `D11`, fill in the weekend rate for this employee. It's equal to `200%`, meaning the employee will make two times as much on the weekends. In our case, the employee would make `$80` an hour in the weekends.\n",
    "3. Fill in the output in `F14:F44`: amount of finished products times the value in `I5`."
   ]
  },
  {
   "cell_type": "markdown",
   "id": "enabling-macro",
   "metadata": {},
   "source": [
    "## Flow control - IF\n",
    "\n",
    "Throughout the previous chapters, there have been several occasions where you had to use **logical** values: `TRUE` or `FALSE`. Now here's where they get really useful: **flow control functions**.\n",
    "\n",
    "These are functions that use a certain logical value as one of their arguments and evaluate according to that value. One will be specifically important in this exercise:\n",
    "\n",
    "- [`IF(logical_expression, value_if_true, value_if_false)`](https://support.google.com/docs/answer/3093364): depending on the `logical_expression`, return `value_if_true` when its result is `TRUE`, return `value_if_false` otherwise.\n",
    "\n",
    "For example, `=IF(TRUE, 2, -2)` would evaluate to `2`.\n",
    "\n",
    "Instructions\n",
    "\n",
    "1. You're going to use `G14:I44` to gradually calculate the total cost for each day:\n",
    "    1. In `G14:G44`, calculate the product cost: the values in `E` times `I4`. Be sure to use an absolute reference.\n",
    "    2. In `H14:H44`, calculate the wage cost: the values in `D` times `$D$10`, multiplied by `200%` if it's weekend. A little help: `= ___ * $D$10 * IF(___, $D$11, 1)`.\n",
    "    3. In `I14:I44`, calculate the total cost: the product cost plus the wage cost."
   ]
  },
  {
   "cell_type": "markdown",
   "id": "handmade-jonathan",
   "metadata": {},
   "source": [
    "## Nested logical functions - IF\n",
    "\n",
    "We've merged the cost you calculated in the previous exercise into one column, `G`, to win some space. Now, it's time to dig deeper, you're going to use a nested if statement.\n",
    "\n",
    "To understand this, you can think of `IF` functions as parts of a [decision tree](https://en.wikipedia.org/wiki/Decision_tree). In each splitting of the tree, you follow a path depending on the value of a _logical expression_. If the expression is `TRUE`, you follow one branch, if it is `FALSE` you follow the other. When you nest `IF` statements, you're just following along the branches of the decision tree. Visually this looks as follows:\n",
    "\n",
    "![](https://i.imgur.com/rC7et1D.png)\n",
    "\n",
    "This image illustrates a decision tree where if _Net_ is smaller than `0`, it evaluates to `\"bad\"`, if it is bigger than `150`, evaluates to `\"good\"` and if it is in between, evaluates to `\"acceptable\"`.\n",
    "\n",
    "Instructions\n",
    "\n",
    "1. Fill in the net income in `H14:H44`: the output minus the cost.\n",
    "2. Use the logic that is shown in the image above to fill in `I14:I44`. In words: if the net cost is less than 0, performance should be `\"bad\"`. Otherwise if the net cost is less than 150 the performance should be `\"acceptable\"`. Otherwise the performance should be `\"good\"`.\n",
    "A little help: `IF(H14 < ___, ___, IF(H14 < ___, \"acceptable\", ___))`."
   ]
  },
  {
   "cell_type": "markdown",
   "id": "executed-partnership",
   "metadata": {},
   "source": [
    "## Combining logical values - OR, WEEKDAY\n",
    "\n",
    "It's time to revise a column you previously left untouched: weekend. The value is either `TRUE` or `FALSE`. Right now, all the values are filled in manually, it's [hard coded](https://en.wikipedia.org/wiki/Hard_coding). We can do better using the following formulas:\n",
    "\n",
    "- [`OR(logical_expression1, [logical_expression2, ...])`](https://support.google.com/docs/answer/3093306): this is the logical operator that returns `TRUE` if one of the expressions is `TRUE` and `FALSE` if and only if all of them are `FALSE`.\n",
    "    - For example, we can determine whether a cell (e.g. `A2`) is equal to `21` or `22` by using the following formula: `=OR(A2 = 21, A2 = 22)`.\n",
    "\n",
    "\n",
    "- [`WEEKDAY(date, [type])`](https://support.google.com/docs/answer/3092985): evaluates to the day of the week of a `date`. `type` is `1`, `2` or `3`.\n",
    "    - `type = 1`: Sunday is day `1` and Saturday is day `7` (default).\n",
    "    - `type = 2`: Monday is day `1` and Sunday is day `7`.\n",
    "    - `type = 3`: Monday is day `0` and Sunday is day `6`.\n",
    "\n",
    "_To help get you started, a logical expression to test whether a date in cell `B2` fell on a Monday could look like this:_ `WEEKDAY(B2) = 2`.\n",
    "\n",
    "Instructions\n",
    "\n",
    "1. Have a look at the values in column `C`, they're currently just values. No formulas.\n",
    "2. Change the value in `C14` by a formula using the day in `B14`. A weekend day is Saturday or Sunday.\n",
    "    1. Your formula should contain **two** logical expressions that test for weekend days.\n",
    "3. Copy your result of `C14` to `C44`, overwriting all manually entered logical values."
   ]
  },
  {
   "cell_type": "markdown",
   "id": "frozen-guide",
   "metadata": {},
   "source": [
    "## Conditional counting - COUNTIF\n",
    "\n",
    "Finally, you'll need to fill in the frequency table in `I8:I10`. You can do this by using the following function in _Google Sheets_:\n",
    "\n",
    "- [`COUNTIF(range, criterion)`]: count the number of times the `criterion` is met in the specified `range`.\n",
    "    - `range`: the source data that is used. Typically, you'll need to use an absolute reference for this one.\n",
    "    - `criterion`: a pattern to check for. It can be as simple as a string you want to match on. For example: `\"good\"`. You'll see more complex criterions in later exercises.\n",
    "\n",
    "For example: if `A1:A3` contains `\"good\"`, `\"bad\"`, `\"bad\"`, then `=COUNTIF(A1:A3, \"bad\")` evaluates to `2`.\n",
    "\n",
    "Instructions\n",
    "\n",
    "1. In `I8`, fill in the number of times the word `\"good\"` appears in `I14:I44`. Don't use `\"good\"` directly, but rather use a reference to `H8`. Make sure to use an absolute reference in the first argument. A little help: `___($I$14:$I$44, ___)`.\n",
    "2. If you used an absolute reference in the previous instruction, you can simply copy the value in `I8` to `I10` to find the frequencies of `\"acceptable\"` and `\"bad\"`."
   ]
  },
  {
   "cell_type": "markdown",
   "id": "commercial-locking",
   "metadata": {},
   "source": [
    "## Conditional aggregation - COUNTIF\n",
    "\n",
    "Let's dive a bit deeper into the world of **conditional aggregation** functions. These functions can be used to calculate summary statistics for each category of data, like `COUNTIF`.\n",
    "\n",
    "The data you'll be working with is a set of payments for dinner, gas, and drinks that four friends made to you in 2017.\n",
    "\n",
    "A refresher:\n",
    "\n",
    "- [`COUNTIF(range, criterion)`](https://support.google.com/docs/answer/3093480): count the number of times the `criterion` is met in the specified `range`.\n",
    "    - `range`: the source data that is used. Typically, you'll need to use an absolute reference for this one.\n",
    "    - `criterion`: a pattern to check for. It can be as simple as a string you want to match on, e.g. `\"Dylan\"`. You'll see more complex criterions in later exercises.\n",
    "\n",
    "For example if `A1:A3` holds `\"Arun\"`, `\"Dylan\"`, `\"Dylan\"`, then `=COUNTIF(A1:A3, \"Dylan\")` evaluates to `2`.\n",
    "\n",
    "Instructions\n",
    "\n",
    "1. In `H3:H6`, fill in the number of times you received a payment from each person. Use `COUNTIF` with an absolute reference to `$C$3:$C$26`. Instead of using strings directly, use references to the values in `G`.\n",
    "2. In `H9:H11`, fill in the number of times you received a payment for each event. Use `COUNTIF` again, and use references correctly so you can copy the values."
   ]
  },
  {
   "cell_type": "markdown",
   "id": "through-advocacy",
   "metadata": {},
   "source": [
    "## Conditional sum - SUMIF\n",
    "\n",
    "Things get a bit more complex when the range to check the criterion on is not the same as the range we want the statistics for.\n",
    "\n",
    "This can be the case for `SUMIF`:\n",
    "\n",
    "- [`SUMIF(range, criterion, sum_range)`](https://support.google.com/docs/answer/3093583): evaluates to the conditional sum across a range.\n",
    "    - `range`: the range on which the `criterion` will be checked.\n",
    "    - `criterion`: the pattern that will be checked, e.g. `\"Dylan\"`.\n",
    "    - `sum_range`: the range of values that will be summed up.\n",
    "\n",
    "For example if `A1:A3` holds `\"Arun\"`, `\"Dylan\"`, `\"Dylan\"` and `B1:B3` has `3`, `4`, `8`, then `=SUMIF(A1:A3, \"Dylan\", B1:B3)` evaluates to `12`.\n",
    "\n",
    "Instructions\n",
    "\n",
    "1. In `I3:I6`, fill in the sum of the payments from each person. Use `SUMIF` with an absolute reference to `$C$3:$C$26`. Instead of using strings directly, use references to the values in `G`. For the last argument, use an absolute reference to the payments: `$D$3:$D$26`.\n",
    "2. In `I9:I11`, fill in the sum of the payments for each event. Use `SUMIF` again, and use references correctly so you can copy the values."
   ]
  },
  {
   "cell_type": "markdown",
   "id": "broadband-illness",
   "metadata": {},
   "source": [
    "## Conditional average - AVERAGEIF\n",
    "\n",
    "Another interesting statistic you can calculate grouped per all the categories is the average.\n",
    "\n",
    "You're going to be using `AVERAGEIF`:\n",
    "\n",
    "- [`AVERAGEIF(range, criterion, average_range)`](https://support.google.com/docs/answer/3256529): evaluates to the conditional average across a range.\n",
    "    - `range`: the range on which the `criterion` will be checked.\n",
    "    - `criterion`: the pattern that will be checked, e.g. `\"Dylan\"`.\n",
    "    - `average_range`: the range of values that will be summed up.\n",
    "\n",
    "For example if `A1:A3` holds `\"Arun\"`, `\"Dylan\"`, `\"Dylan\"` and `B1:B3` has `3`, `4`, `8`, then `=AVERAGEIF(A1:A3, \"Dylan\", B1:B3)` evaluates to `6`.\n",
    "\n",
    "Instructions\n",
    "\n",
    "1. In `J3:J6`, fill in the average of the payments from each person. Use `AVERAGEIF` with an absolute reference to `$C$3:$C$26`. Instead of using strings directly, use references to the values in `G`. For the last argument, use an absolute reference to the payments: `$D$3:$D$26`.\n",
    "2. In `J9:J11`, fill in the average of the payments for each event. Use `AVERAGEIF` again, and use references correctly so you can copy the values."
   ]
  },
  {
   "cell_type": "markdown",
   "id": "wrapped-guinea",
   "metadata": {},
   "source": [
    "## Advanced conditions - AVERAGEIF\n",
    "\n",
    "Up until now, the condition was always an equality check on certain ranges. However, as specified in the [documentation](https://support.google.com/docs/answer/3256529), the `criterion` argument can be a bit more advanced:\n",
    "\n",
    "- Equals: `1` or `\"= 1\"`\n",
    "- Greater than: `\"> 1\"`\n",
    "- Greater than or equal to: `\">= 1\"`\n",
    "- Less than: `\"< 1\"`\n",
    "- Less than or equal to: `\"<= 1\"`\n",
    "- Not equal to: `\"<> 1\"`\n",
    "\n",
    "Note that this is very similar to the comparison operators you saw earlier.\n",
    "\n",
    "As a refresher, here's the signature of the `AVERAGEIF` function:\n",
    "\n",
    "- [`AVERAGEIF(range, criterion, average_range)`](https://support.google.com/docs/answer/3256529): evaluates to the conditional average across a range.\n",
    "    - `range`: the range on which the `criterion` will be checked.\n",
    "    - `criterion`: the pattern that will be checked, e.g. `\"Dylan\"`.\n",
    "    - `average_range`: the range of values that will be summed up.\n",
    "\n",
    "Instructions\n",
    "\n",
    "1. In `H14`, fill in the average amount of the payments you received in the first half of the year. You can say that this the period before or on the first of July, 2017 -- or `\"<= 2017-07-01\"`. Make sure you pass the correct `range` for the condition.\n",
    "2. In `H15`, fill in the average amount of the payments you received in the second half of the year, or strictly after the first of July, 2017."
   ]
  },
  {
   "cell_type": "markdown",
   "id": "artistic-porcelain",
   "metadata": {},
   "source": [
    "## Filters - FILTER, DATEVALUE, MEDIAN\n",
    "\n",
    "Finally, you'll have to find the conditional median on a range. However, there's no such function as `MEDIANIF`, so you'll have to find a way to generalize what you've learned previously.\n",
    "\n",
    "You can do so using a **filter**. A filter will take a range, apply a condition to all values of it and evaluate to the range of values where the condition passed. Specifically, you'll be using the following:\n",
    "\n",
    "- [`FILTER(range, condition1, [condition2, ...])`](https://support.google.com/docs/answer/3093197): evaluates to a filtered version of `range`, based on the passed conditions. `condition1` here is substantially different from the `criterion` argument you're used to. `condition1` is not a string, but rather a range of logical values, for example `A1:A5 > 5`.\n",
    "    - For example, if we wanted to calculate the average amount spent on dinners, we could use the following formula: `=AVERAGE(FILTER(D3:D26, E3:E26 = \"Dinner\"))`. Here, we filter the range of amount spent (`D3:D26`) based on whether the range `E3:E26` contains the word \"Dinner\". We then take the average of this filtered range.\n",
    "\n",
    "\n",
    "- [`DATEVALUE(date_string)`](https://support.google.com/docs/answer/3093039): evaluates to the date object of a `date_string`.\n",
    "\n",
    "Instructions\n",
    "\n",
    "Fill in the corresponding median amount spent for the first and second half of 2017 in cells `I14` and `I15` using the following steps:\n",
    "\n",
    "1. Use `DATEVALUE` to get the date as a number, use `\"2017-07-01\"` as the middle of the year: `DATEVALUE(\"2017-07-01\")`.\n",
    "2. This is required for logical comparisons with dates. `B3:B26 <= <previous_result>`.\n",
    "3. `FILTER` reduces a range to the values where the condition is true. `FILTER(<previous_result>)`.\n",
    "4. `MEDIAN` calculates the median: `MEDIAN(<previous_result>)`.\n",
    "\n",
    "You should end up with a formula looking like: `MEDIAN(FILTER(D3:D26, ___ <= DATEVALUE(___)))` in `I14`. Switch the comparison operator for `I15`."
   ]
  },
  {
   "cell_type": "markdown",
   "id": "united-faith",
   "metadata": {},
   "source": [
    "## Grades in class\n",
    "\n",
    "In the last group of exercises in this course, you'll be learning about the concept of **lookup** in _Google Sheets_. Lookups work similarly to how you'd look up phone numbers in a phonebook.\n",
    "\n",
    "You'll see some exact definitions later, first let's have a look at the data. You'll be working with some grades that a university student achieved on her courses. She asked you to do some analysis. She gave you three tables:\n",
    "\n",
    "- The actual grades are at the top. These are given in [GPA](https://en.wikipedia.org/wiki/Grading_(education)). There are some empty columns which you'll fill in throughout the exercises.\n",
    "- In the middle, there's a table with some specifics on the courses.\n",
    "- On the bottom, there's a lookup table to convert GPA to a letter grade (cf. [Wikipedia](https://en.wikipedia.org/wiki/Grading_systems_by_country#United_States))\n",
    "\n",
    "Instructions\n",
    "\n",
    "1. In `D3`, find the row in the middle table associated with the course with code `MA101`. Fill in the credits you find for that course. No need to use formulas now, just manual work.\n",
    "2. Repeat the process for `D4:D6`. Without using a formula, this is a lot of manual work indeed so we don't want you to fill the whole table."
   ]
  },
  {
   "cell_type": "markdown",
   "id": "alive-marathon",
   "metadata": {},
   "source": [
    "## Automating the lookup - VLOOKUP\n",
    "\n",
    "Introducing `VLOOKUP`:\n",
    "\n",
    "- [`VLOOKUP(search_key, range, index, is_sorted)`](https://support.google.com/docs/answer/3093318): look for a match in the leftmost column of a lookup table and return the value in a certain column:\n",
    "    - `search_key`: the value to search for.\n",
    "    - `range`: the lookup table, **without the headers**. You typically use an absolute reference for this.\n",
    "    - `index`: the column number of the value to be returned, where the first column in range is numbered 1.\n",
    "    - `is_sorted`: should be `FALSE` for now.\n",
    "    \n",
    "You can compare it to the process of looking through a phone book. The `search_key` would be the name of the person you want the phone number of. The `range` is the data in the book, with the names in the leftmost column. Finally, the `index` is the number of the column where you find what you need, the phone number.\n",
    "\n",
    "Instructions\n",
    "\n",
    "1. In `D3`, use a `VLOOKUP` formula where you look up the credits in the middle table for the code in `C3` (which will serve as your `search_key`).\n",
    "    1. In your second argument, use an absolute reference for the lookup table, and **do not include the headers**. _Note that you want to specify the entire range of the table (i.e. multiple columns)._\n",
    "    2. The third argument, `index`, is the number of the column where we find credits, the **second** column.\n",
    "    3. The last argument is always `FALSE`, for now.\n",
    "2. If you used an absolute reference in the previous step, you can copy the value of `D3` until `D10`."
   ]
  },
  {
   "cell_type": "markdown",
   "id": "metallic-arctic",
   "metadata": {},
   "source": [
    "## More about lookup - VLOOKUP\n",
    "\n",
    "Let's talk a bit more about `VLOOKUP`:\n",
    "\n",
    "- [`VLOOKUP(search_key, range, index, is_sorted)`](https://support.google.com/docs/answer/3093318): The `index` argument is probably the most difficult to grasp. The confusing part here is that _Google Sheets_ normally uses letters to define columns. However, `index` actually refers to the number of the column, relative to the `range` you defined. E.g. the leftmost column in the range would be defined with index `1`, the third column would have index `3`.\n",
    "\n",
    "An example, `A` has: `\"ML101\"`, `\"CP101\"` and `B` has: `3`, `6`. Then `=VLOOKUP(\"CP101\", $A$1:$B$2, 2, FALSE)` evaluates to `6`.\n",
    "\n",
    "Instructions\n",
    "\n",
    "1. You'll have to fill in `B3:B10` using the class names described in the lookup table below. First, fill in `B3`: use the class code in `C3` to look up the class name in `$B$15:$D$26`. Notice how the class names are in the 3rd column of the lookup table. Remember, the last argument of `VLOOKUP` is always `FALSE` for now.\n",
    "2. If you used an absolute reference correctly in the previous step, you can copy the value of `B3` until `B10`."
   ]
  },
  {
   "cell_type": "markdown",
   "id": "prerequisite-annual",
   "metadata": {},
   "source": [
    "## Horizontal lookup - HLOOKUP\n",
    "\n",
    "Although way less common, it can be useful to do a lookup through horizontally organized data. Introducing `HLOOKUP`:\n",
    "\n",
    "- [`HLOOKUP(search_key, range, index, is_sorted)`](https://support.google.com/docs/answer/3093375): similar to `VLOOKUP` but in a horizontal fashion. The key will be looked for in the uppermost row, and `index` now refers to the row number.\n",
    "\n",
    "    You're now going to use the last argument, `is_sorted`. If set to `TRUE` (default), the function assumes that the values in `range` are sorted. When this is the case, the match doesn't have to be exact, but `HLOOKUP` will look for the closest match less than or equal to `search_key`. If `search_key` is `FALSE`, an exact match is required.\n",
    "\n",
    "For example, `=HLOOKUP(0.57, $C$29:$H$30, 2, TRUE)` would evaluate to `E` in the given spreadsheet, as the closest match less than or equal to `0.57` is `0.33`.\n",
    "\n",
    "Instructions\n",
    "\n",
    "1. Fill in `F3`, the letter grade you achieved on Algebra. Use the bottom table and `HLOOKUP` to figure out which grade applies for your GPA. Notice how this time, the lookup doesn't need to match exactly so use the `is_sorted` argument wisely. A little help: `HLOOKUP(E3, ___, ___)`.\n",
    "2. Now that you've found the value for `F3`, if you used absolute references correctly you can now copy the value downwards to `F10` to find all of your grades."
   ]
  },
  {
   "cell_type": "markdown",
   "id": "honest-iraqi",
   "metadata": {},
   "source": [
    "## Weighted average - SUMPRODUCT, HLOOKUP\n",
    "\n",
    "In this last exercise, you'll calculate an average GPA and grade. To do so, the following function might come in handy:\n",
    "\n",
    "- [`SUMPRODUCT(array1, [array2, ...])`](https://support.google.com/docs/answer/3094294): figure out the sum of products of 2 or more ranges of equal size.\n",
    "\n",
    "E.g. `SUMPRODUCT(A1:A3, B1:B3)` evaluates to the result of `(A1 * B1) + (A2 * B2) + (A3 * B3)`. In mathematics, this operation is called the [dot product](https://en.wikipedia.org/wiki/Dot_product).\n",
    "\n",
    "In addition, you will again need to use `HLOOKUP` to calculate your grade:\n",
    "\n",
    "- [`HLOOKUP(search_key, range, index, is_sorted)`](https://support.google.com/docs/answer/3093375).\n",
    "\n",
    "Instructions\n",
    "\n",
    "1. In `D11`, calculate the sum of the credits from each course.\n",
    "2. In cells `G3:G10`, calculate the product of the values in `D` and `E`.\n",
    "3. Calculate the sum of these values in `G11` and divide this sum by the total amount of credits (`D11`).\n",
    "4. In `E11`, use `SUMPRODUCT` with `D3:D10` and `E3:E10`, and then divide by the total amount of credits (`D11`) to find the same result as `G11` (_much simpler!_).\n",
    "5. Find the grade corresponding to your weighted average GPA in `F11` by using the result in `E11` and an `HLOOKUP`. _You can use the existing `HLOOKUP` in cell `F10` and simply copy the value down into cell `F11`!_"
   ]
  }
 ],
 "metadata": {
  "kernelspec": {
   "display_name": "Python 3",
   "language": "python",
   "name": "python3"
  },
  "language_info": {
   "codemirror_mode": {
    "name": "ipython",
    "version": 3
   },
   "file_extension": ".py",
   "mimetype": "text/x-python",
   "name": "python",
   "nbconvert_exporter": "python",
   "pygments_lexer": "ipython3",
   "version": "3.8.10"
  },
  "toc": {
   "base_numbering": 1,
   "nav_menu": {},
   "number_sections": false,
   "sideBar": true,
   "skip_h1_title": false,
   "title_cell": "Table of Contents",
   "title_sidebar": "Contents",
   "toc_cell": false,
   "toc_position": {},
   "toc_section_display": true,
   "toc_window_display": false
  },
  "varInspector": {
   "cols": {
    "lenName": 16,
    "lenType": 16,
    "lenVar": 40
   },
   "kernels_config": {
    "python": {
     "delete_cmd_postfix": "",
     "delete_cmd_prefix": "del ",
     "library": "var_list.py",
     "varRefreshCmd": "print(var_dic_list())"
    },
    "r": {
     "delete_cmd_postfix": ") ",
     "delete_cmd_prefix": "rm(",
     "library": "var_list.r",
     "varRefreshCmd": "cat(var_dic_list()) "
    }
   },
   "types_to_exclude": [
    "module",
    "function",
    "builtin_function_or_method",
    "instance",
    "_Feature"
   ],
   "window_display": false
  }
 },
 "nbformat": 4,
 "nbformat_minor": 5
}
