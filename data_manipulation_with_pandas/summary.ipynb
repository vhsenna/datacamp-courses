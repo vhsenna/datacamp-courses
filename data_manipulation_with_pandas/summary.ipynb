{
 "cells": [
  {
   "cell_type": "markdown",
   "id": "prepared-immunology",
   "metadata": {},
   "source": [
    "# Data Manipulation with pandas\n",
    "\n",
    "- 4 hours\n",
    "- 15 Videos\n",
    "- 56 Exercises\n",
    "\n",
    "## Course Description\n",
    "\n",
    "pandas is the world's most popular Python library, used for everything from data manipulation to data analysis. In this course, you'll learn how to manipulate DataFrames, as you extract, filter, and transform real-world datasets for analysis. Using pandas you’ll explore all the core data science concepts. Using real-world data, including Walmart sales figures and global temperature time series, you’ll learn how to import, clean, calculate statistics, and create visualizations—using pandas to add to the power of Python!\n",
    "\n",
    "### 1 Transforming Data\n",
    "\n",
    "Let’s master the pandas basics. Learn how to inspect DataFrames and perform fundamental manipulations, including sorting rows, subsetting, and adding new columns.\n",
    "\n",
    "- Introducing DataFrames\n",
    "- Inspecting a DataFrame\n",
    "- Parts of a DataFrame\n",
    "- Sorting and subsetting\n",
    "- Sorting rows\n",
    "- Subsetting columns\n",
    "- Subsetting rows\n",
    "- Subsetting rows by categorical variables\n",
    "- New columns\n",
    "- Adding new columns\n",
    "- Combo-attack!\n",
    "\n",
    "### 2 Aggregating Data\n",
    "\n",
    "In this chapter, you’ll calculate summary statistics on DataFrame columns, and master grouped summary statistics and pivot tables.\n",
    "\n",
    "- Summary statistics\n",
    "- Mean and median\n",
    "- Summarizing dates\n",
    "- Efficient summaries\n",
    "- Cumulative statistics\n",
    "- Counting\n",
    "- Dropping duplicates\n",
    "- Counting categorical variables\n",
    "- Grouped summary statistics\n",
    "- What percent of sales occurred at each store type?\n",
    "- Calculations with .groupby()\n",
    "- Multiple grouped summaries\n",
    "- Pivot tables\n",
    "- Pivoting on one variable\n",
    "- Fill in missing values and sum values with pivot tables\n",
    "\n",
    "### 3 Slicing and Indexing\n",
    "\n",
    "Indexes are supercharged row and column names. Learn how they can be combined with slicing for powerful DataFrame subsetting.\n",
    "\n",
    "- Explicit indexes\n",
    "- Setting and removing indexes\n",
    "- Subsetting with .loc[]\n",
    "- Setting multi-level indexes\n",
    "- Sorting by index values\n",
    "- Slicing and subsetting with .loc and .iloc\n",
    "- Slicing index values\n",
    "- Slicing in both directions\n",
    "- Slicing time series\n",
    "- Subsetting by row/column number\n",
    "- Working with pivot tables\n",
    "- Pivot temperature by city and year\n",
    "- Subsetting pivot tables\n",
    "- Calculating on a pivot table\n",
    "\n",
    "### 4 Creating and Visualizing DataFrames\n",
    "\n",
    "Learn to visualize the contents of your DataFrames, handle missing data values, and import data from and export data to CSV files.\n",
    "\n",
    "- Visualizing your data\n",
    "- Which avocado size is most popular?\n",
    "- Changes in sales over time\n",
    "- Avocado supply and demand\n",
    "- Price of conventional vs. organic avocados\n",
    "- Missing values\n",
    "- Finding missing values\n",
    "- Removing missing values\n",
    "- Replacing missing values\n",
    "- Creating DataFrames\n",
    "- List of dictionaries\n",
    "- Dictionary of lists\n",
    "- Reading and writing CSVs\n",
    "- CSV to DataFrame\n",
    "- DataFrame to CSV\n",
    "- Wrap-up"
   ]
  }
 ],
 "metadata": {
  "kernelspec": {
   "display_name": "Python 3",
   "language": "python",
   "name": "python3"
  },
  "language_info": {
   "codemirror_mode": {
    "name": "ipython",
    "version": 3
   },
   "file_extension": ".py",
   "mimetype": "text/x-python",
   "name": "python",
   "nbconvert_exporter": "python",
   "pygments_lexer": "ipython3",
   "version": "3.8.5"
  },
  "toc": {
   "base_numbering": 1,
   "nav_menu": {},
   "number_sections": false,
   "sideBar": true,
   "skip_h1_title": false,
   "title_cell": "Table of Contents",
   "title_sidebar": "Contents",
   "toc_cell": false,
   "toc_position": {},
   "toc_section_display": true,
   "toc_window_display": false
  },
  "varInspector": {
   "cols": {
    "lenName": 16,
    "lenType": 16,
    "lenVar": 40
   },
   "kernels_config": {
    "python": {
     "delete_cmd_postfix": "",
     "delete_cmd_prefix": "del ",
     "library": "var_list.py",
     "varRefreshCmd": "print(var_dic_list())"
    },
    "r": {
     "delete_cmd_postfix": ") ",
     "delete_cmd_prefix": "rm(",
     "library": "var_list.r",
     "varRefreshCmd": "cat(var_dic_list()) "
    }
   },
   "types_to_exclude": [
    "module",
    "function",
    "builtin_function_or_method",
    "instance",
    "_Feature"
   ],
   "window_display": false
  }
 },
 "nbformat": 4,
 "nbformat_minor": 5
}
