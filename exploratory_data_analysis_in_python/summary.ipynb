{
 "cells": [
  {
   "cell_type": "markdown",
   "id": "cordless-stick",
   "metadata": {},
   "source": [
    "# Exploratory Data Analysis in Python\n",
    "\n",
    "- 4 hours\n",
    "- 16 Videos\n",
    "- 52 Exercises\n",
    "\n",
    "## Course Description\n",
    "\n",
    "How do we get from data to answers? Exploratory data analysis is a process for exploring datasets, answering questions, and visualizing results. This course presents the tools you need to clean and validate data, to visualize distributions and relationships between variables, and to use regression models to predict and explain. You'll explore data related to demographics and health, including the National Survey of Family Growth and the General Social Survey. But the methods you learn apply to all areas of science, engineering, and business. You'll use Pandas, a powerful library for working with data, and other core Python libraries including NumPy and SciPy, StatsModels for regression, and Matplotlib for visualization. With these tools and skills, you will be prepared to work with real data, make discoveries, and present compelling results.\n",
    "\n",
    "### 1 Read, clean, and validate\n",
    "\n",
    "The first step of almost any data project is to read the data, check for errors and special cases, and prepare data for analysis. This is exactly what you'll do in this chapter, while working with a dataset obtained from the National Survey of Family Growth.\n",
    "\n",
    "- DataFrames and Series\n",
    "- Read the codebook\n",
    "- Exploring the NSFG data\n",
    "- Clean and Validate\n",
    "- Validate a variable\n",
    "- Clean a variable\n",
    "- Compute a variable\n",
    "- Filter and visualize\n",
    "- Make a histogram\n",
    "- Compute birth weight\n",
    "- Filter\n",
    "\n",
    "### 2 Distributions\n",
    "\n",
    "In the first chapter, having cleaned and validated your data, you began exploring it by using histograms to visualize distributions. In this chapter, you'll learn how to represent distributions using Probability Mass Functions (PMFs) and Cumulative Distribution Functions (CDFs). You'll learn when to use each of them, and why, while working with a new dataset obtained from the General Social Survey.\n",
    "\n",
    "- Probability mass functions\n",
    "- Make a PMF\n",
    "- Plot a PMF\n",
    "- Cumulative distribution functions\n",
    "- Make a CDF\n",
    "- Compute IQR\n",
    "- Plot a CDF\n",
    "- Comparing distributions\n",
    "- Distribution of education\n",
    "- Extract education levels\n",
    "- Plot income CDFs\n",
    "- Modeling distributions\n",
    "- Distribution of income\n",
    "- Comparing CDFs\n",
    "- Comparing PDFs\n",
    "\n",
    "### 3 Relationships\n",
    "\n",
    "Up until this point, you've only looked at one variable at a time. In this chapter, you'll explore relationships between variables two at a time, using scatter plots and other visualizations to extract insights from a new dataset obtained from the Behavioral Risk Factor Surveillance Survey (BRFSS). You'll also learn how to quantify those relationships using correlation and simple regression.\n",
    "\n",
    "- Exploring relationships\n",
    "- PMF of age\n",
    "- Scatter plot\n",
    "- Jittering\n",
    "- Visualizing relationships\n",
    "- Height and weight\n",
    "- Distribution of income\n",
    "- Income and height\n",
    "- Correlation\n",
    "- Computing correlations\n",
    "- Interpreting correlations\n",
    "- Simple regression\n",
    "- Income and vegetables\n",
    "- Fit a line\n",
    "\n",
    "### 4 Multivariate Thinking\n",
    "\n",
    "Explore multivariate relationships using multiple regression to describe non-linear relationships and logistic regression to explain and predict binary variables.\n",
    "\n",
    "- Limits of simple regression\n",
    "- Regression and causation\n",
    "- Using StatsModels\n",
    "- Multiple regression\n",
    "- Plot income and education\n",
    "- Non-linear model of education\n",
    "- Visualizing regression results\n",
    "- Making predictions\n",
    "- Visualizing predictions\n",
    "- Logistic regression\n",
    "- Predicting a binary variable\n",
    "- Next steps"
   ]
  }
 ],
 "metadata": {
  "kernelspec": {
   "display_name": "Python 3",
   "language": "python",
   "name": "python3"
  },
  "language_info": {
   "codemirror_mode": {
    "name": "ipython",
    "version": 3
   },
   "file_extension": ".py",
   "mimetype": "text/x-python",
   "name": "python",
   "nbconvert_exporter": "python",
   "pygments_lexer": "ipython3",
   "version": "3.8.5"
  },
  "toc": {
   "base_numbering": 1,
   "nav_menu": {},
   "number_sections": false,
   "sideBar": true,
   "skip_h1_title": false,
   "title_cell": "Table of Contents",
   "title_sidebar": "Contents",
   "toc_cell": false,
   "toc_position": {},
   "toc_section_display": true,
   "toc_window_display": false
  },
  "varInspector": {
   "cols": {
    "lenName": 16,
    "lenType": 16,
    "lenVar": 40
   },
   "kernels_config": {
    "python": {
     "delete_cmd_postfix": "",
     "delete_cmd_prefix": "del ",
     "library": "var_list.py",
     "varRefreshCmd": "print(var_dic_list())"
    },
    "r": {
     "delete_cmd_postfix": ") ",
     "delete_cmd_prefix": "rm(",
     "library": "var_list.r",
     "varRefreshCmd": "cat(var_dic_list()) "
    }
   },
   "types_to_exclude": [
    "module",
    "function",
    "builtin_function_or_method",
    "instance",
    "_Feature"
   ],
   "window_display": false
  }
 },
 "nbformat": 4,
 "nbformat_minor": 5
}
