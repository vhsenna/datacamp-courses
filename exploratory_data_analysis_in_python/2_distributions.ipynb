{
 "cells": [
  {
   "cell_type": "markdown",
   "id": "closed-membership",
   "metadata": {},
   "source": [
    "## Make a PMF\n",
    "\n",
    "The GSS dataset has been pre-loaded for you into a DataFrame called `gss`. You can explore it in the IPython Shell to get familiar with it.\n",
    "\n",
    "In this exercise, you'll focus on one variable in this dataset, `'year'`, which represents the year each respondent was interviewed.\n",
    "\n",
    "The `Pmf` class you saw in the video has already been created for you. You can access it outside of DataCamp via the [`empiricaldist`](https://pypi.org/project/empiricaldist/) library.\n",
    "\n",
    "Instructions\n",
    "\n",
    "1. Make a PMF for `year` with `normalize=False` and display the result.\n",
    "2. How many respondents were interviewed in 2016?"
   ]
  },
  {
   "cell_type": "code",
   "execution_count": 31,
   "id": "listed-momentum",
   "metadata": {},
   "outputs": [],
   "source": [
    "import pandas as pd\n",
    "from empiricaldist import Pmf\n",
    "\n",
    "gss = pd.read_hdf('General_Social_Survey_GSS.hdf5')"
   ]
  },
  {
   "cell_type": "code",
   "execution_count": 52,
   "id": "marked-active",
   "metadata": {},
   "outputs": [
    {
     "data": {
      "text/html": [
       "<div>\n",
       "<style scoped>\n",
       "    .dataframe tbody tr th:only-of-type {\n",
       "        vertical-align: middle;\n",
       "    }\n",
       "\n",
       "    .dataframe tbody tr th {\n",
       "        vertical-align: top;\n",
       "    }\n",
       "\n",
       "    .dataframe thead th {\n",
       "        text-align: right;\n",
       "    }\n",
       "</style>\n",
       "<table border=\"1\" class=\"dataframe\">\n",
       "  <thead>\n",
       "    <tr style=\"text-align: right;\">\n",
       "      <th></th>\n",
       "      <th>probs</th>\n",
       "    </tr>\n",
       "  </thead>\n",
       "  <tbody>\n",
       "    <tr>\n",
       "      <th>1972</th>\n",
       "      <td>1613</td>\n",
       "    </tr>\n",
       "    <tr>\n",
       "      <th>1973</th>\n",
       "      <td>1504</td>\n",
       "    </tr>\n",
       "    <tr>\n",
       "      <th>1974</th>\n",
       "      <td>1484</td>\n",
       "    </tr>\n",
       "    <tr>\n",
       "      <th>1975</th>\n",
       "      <td>1490</td>\n",
       "    </tr>\n",
       "    <tr>\n",
       "      <th>1976</th>\n",
       "      <td>1499</td>\n",
       "    </tr>\n",
       "    <tr>\n",
       "      <th>1977</th>\n",
       "      <td>1530</td>\n",
       "    </tr>\n",
       "    <tr>\n",
       "      <th>1978</th>\n",
       "      <td>1532</td>\n",
       "    </tr>\n",
       "    <tr>\n",
       "      <th>1980</th>\n",
       "      <td>1468</td>\n",
       "    </tr>\n",
       "    <tr>\n",
       "      <th>1982</th>\n",
       "      <td>1860</td>\n",
       "    </tr>\n",
       "    <tr>\n",
       "      <th>1983</th>\n",
       "      <td>1599</td>\n",
       "    </tr>\n",
       "    <tr>\n",
       "      <th>1984</th>\n",
       "      <td>1473</td>\n",
       "    </tr>\n",
       "    <tr>\n",
       "      <th>1985</th>\n",
       "      <td>1534</td>\n",
       "    </tr>\n",
       "    <tr>\n",
       "      <th>1986</th>\n",
       "      <td>1470</td>\n",
       "    </tr>\n",
       "    <tr>\n",
       "      <th>1987</th>\n",
       "      <td>1819</td>\n",
       "    </tr>\n",
       "    <tr>\n",
       "      <th>1988</th>\n",
       "      <td>1481</td>\n",
       "    </tr>\n",
       "    <tr>\n",
       "      <th>1989</th>\n",
       "      <td>1537</td>\n",
       "    </tr>\n",
       "    <tr>\n",
       "      <th>1990</th>\n",
       "      <td>1372</td>\n",
       "    </tr>\n",
       "    <tr>\n",
       "      <th>1991</th>\n",
       "      <td>1517</td>\n",
       "    </tr>\n",
       "    <tr>\n",
       "      <th>1993</th>\n",
       "      <td>1606</td>\n",
       "    </tr>\n",
       "    <tr>\n",
       "      <th>1994</th>\n",
       "      <td>2992</td>\n",
       "    </tr>\n",
       "    <tr>\n",
       "      <th>1996</th>\n",
       "      <td>2904</td>\n",
       "    </tr>\n",
       "    <tr>\n",
       "      <th>1998</th>\n",
       "      <td>2832</td>\n",
       "    </tr>\n",
       "    <tr>\n",
       "      <th>2000</th>\n",
       "      <td>2817</td>\n",
       "    </tr>\n",
       "    <tr>\n",
       "      <th>2002</th>\n",
       "      <td>2765</td>\n",
       "    </tr>\n",
       "    <tr>\n",
       "      <th>2004</th>\n",
       "      <td>2812</td>\n",
       "    </tr>\n",
       "    <tr>\n",
       "      <th>2006</th>\n",
       "      <td>4510</td>\n",
       "    </tr>\n",
       "    <tr>\n",
       "      <th>2008</th>\n",
       "      <td>2023</td>\n",
       "    </tr>\n",
       "    <tr>\n",
       "      <th>2010</th>\n",
       "      <td>2044</td>\n",
       "    </tr>\n",
       "    <tr>\n",
       "      <th>2012</th>\n",
       "      <td>1974</td>\n",
       "    </tr>\n",
       "    <tr>\n",
       "      <th>2014</th>\n",
       "      <td>2538</td>\n",
       "    </tr>\n",
       "    <tr>\n",
       "      <th>2016</th>\n",
       "      <td>2867</td>\n",
       "    </tr>\n",
       "  </tbody>\n",
       "</table>\n",
       "</div>"
      ],
      "text/plain": [
       "1972    1613\n",
       "1973    1504\n",
       "1974    1484\n",
       "1975    1490\n",
       "1976    1499\n",
       "1977    1530\n",
       "1978    1532\n",
       "1980    1468\n",
       "1982    1860\n",
       "1983    1599\n",
       "1984    1473\n",
       "1985    1534\n",
       "1986    1470\n",
       "1987    1819\n",
       "1988    1481\n",
       "1989    1537\n",
       "1990    1372\n",
       "1991    1517\n",
       "1993    1606\n",
       "1994    2992\n",
       "1996    2904\n",
       "1998    2832\n",
       "2000    2817\n",
       "2002    2765\n",
       "2004    2812\n",
       "2006    4510\n",
       "2008    2023\n",
       "2010    2044\n",
       "2012    1974\n",
       "2014    2538\n",
       "2016    2867\n",
       "Name: , dtype: int64"
      ]
     },
     "execution_count": 52,
     "metadata": {},
     "output_type": "execute_result"
    }
   ],
   "source": [
    "# Compute the PMF for year\n",
    "# pmf_year = Pmf(gss['year'], normalize=False)\n",
    "pmf_year = Pmf.from_seq(gss['year'], normalize=False)\n",
    "\n",
    "# Print the result\n",
    "pmf_year"
   ]
  },
  {
   "cell_type": "markdown",
   "id": "developed-asset",
   "metadata": {},
   "source": [
    "2867."
   ]
  },
  {
   "cell_type": "markdown",
   "id": "practical-evening",
   "metadata": {},
   "source": [
    "## Plot a PMF\n",
    "\n",
    "Now let's plot a PMF for the age of the respondents in the GSS dataset. The variable `'age'` contains respondents' age in years.\n",
    "\n",
    "Instructions\n",
    "\n",
    "1. Select the `'age'` column from the `gss` DataFrame and store the result in `age`.\n",
    "2. Make a normalized PMF of `age`. Store the result in `pmf_age`.\n",
    "3. Plot `pmf_age` as a bar chart."
   ]
  },
  {
   "cell_type": "code",
   "execution_count": 48,
   "id": "basic-greeting",
   "metadata": {},
   "outputs": [],
   "source": [
    "import matplotlib.pyplot as plt\n",
    "\n",
    "plt.rcParams['figure.figsize'] = [15, 10]"
   ]
  },
  {
   "cell_type": "code",
   "execution_count": 50,
   "id": "amended-greenhouse",
   "metadata": {},
   "outputs": [
    {
     "data": {
      "image/png": "[encoded data removed]",
      "text/plain": [
       "<Figure size 1080x720 with 1 Axes>"
      ]
     },
     "metadata": {
      "needs_background": "light"
     },
     "output_type": "display_data"
    }
   ],
   "source": [
    "# Select the age column\n",
    "age = gss['age']\n",
    "\n",
    "# Make a PMF of age\n",
    "# pmf_age = Pmf(age)\n",
    "pmf_age = Pmf.from_seq(age)\n",
    "\n",
    "# Plot the PMF\n",
    "pmf_age.bar()\n",
    "\n",
    "# Label the axes\n",
    "plt.xlabel('Age')\n",
    "plt.ylabel('PMF')\n",
    "plt.xticks(rotation=90)\n",
    "plt.show()"
   ]
  },
  {
   "cell_type": "markdown",
   "id": "phantom-brazilian",
   "metadata": {},
   "source": [
    "## Make a CDF\n",
    "\n",
    "In this exercise, you'll make a CDF and use it to determine the fraction of respondents in the GSS dataset who are OLDER than 30.\n",
    "\n",
    "The GSS dataset has been preloaded for you into a DataFrame called `gss`.\n",
    "\n",
    "As with the `Pmf` class from the previous lesson, the `Cdf` class you just saw in the video has been created for you, and you can access it outside of DataCamp via the [`empiricaldist`](https://pypi.org/project/empiricaldist/) library.\n",
    "\n",
    "Instructions\n",
    "\n",
    "1. Select the `'age'` column. Store the result in `age`.\n",
    "2. Compute the CDF of `age`. Store the result in `cdf_age`.\n",
    "3. Calculate the CDF of `30`.\n",
    "4. What fraction of the respondents in the GSS dataset are OLDER than 30?"
   ]
  },
  {
   "cell_type": "code",
   "execution_count": 53,
   "id": "complimentary-toner",
   "metadata": {},
   "outputs": [],
   "source": [
    "from empiricaldist import Cdf"
   ]
  },
  {
   "cell_type": "code",
   "execution_count": 54,
   "id": "civic-principle",
   "metadata": {},
   "outputs": [
    {
     "data": {
      "text/plain": [
       "array(0.25391371)"
      ]
     },
     "execution_count": 54,
     "metadata": {},
     "output_type": "execute_result"
    }
   ],
   "source": [
    "# Select the age column\n",
    "age = gss['age']\n",
    "\n",
    "# Compute the CDF of age\n",
    "# cdf_age = Cdf(age)\n",
    "cdf_age = Cdf.from_seq(age)\n",
    "\n",
    "# Calculate the CDF of 30\n",
    "cdf_age(30)"
   ]
  },
  {
   "cell_type": "markdown",
   "id": "median-revelation",
   "metadata": {},
   "source": [
    "Approximately 75%."
   ]
  },
  {
   "cell_type": "markdown",
   "id": "another-danger",
   "metadata": {},
   "source": [
    "## Compute IQR\n",
    "\n",
    "Recall from the video that the interquartile range (IQR) is the difference between the 75th and 25th percentiles. It is a measure of variability that is robust in the presence of errors or extreme values.\n",
    "\n",
    "In this exercise, you'll compute the interquartile range of income in the GSS dataset. Income is stored in the `'realinc'` column, and the CDF of income has already been computed and stored in `cdf_income`.\n",
    "\n",
    "Instructions\n",
    "\n",
    "1. Calculate the 75th percentile of income and store it in `percentile_75th`.\n",
    "2. Calculate the 25th percentile of income and store it in `percentile_25th`.\n",
    "3. Calculate the interquartile range of income. Store the result in `iqr`.\n",
    "4. What is the interquartile range (IQR) of income in the GSS datset?"
   ]
  },
  {
   "cell_type": "code",
   "execution_count": 61,
   "id": "moderate-playing",
   "metadata": {},
   "outputs": [],
   "source": [
    "income = gss['realinc']\n",
    "cdf_income = Cdf.from_seq(income)"
   ]
  },
  {
   "cell_type": "code",
   "execution_count": 62,
   "id": "competent-insert",
   "metadata": {},
   "outputs": [
    {
     "data": {
      "text/plain": [
       "29676.0"
      ]
     },
     "execution_count": 62,
     "metadata": {},
     "output_type": "execute_result"
    }
   ],
   "source": [
    "# Calculate the 75th percentile \n",
    "percentile_75th = cdf_income.inverse(0.75)\n",
    "\n",
    "# Calculate the 25th percentile\n",
    "percentile_25th = cdf_income.inverse(0.25)\n",
    "\n",
    "# Calculate the interquartile range\n",
    "iqr = percentile_75th - percentile_25th\n",
    "\n",
    "# Print the interquartile range\n",
    "iqr"
   ]
  },
  {
   "cell_type": "markdown",
   "id": "educated-captain",
   "metadata": {},
   "source": [
    "Approximately 29676."
   ]
  },
  {
   "cell_type": "markdown",
   "id": "another-simulation",
   "metadata": {},
   "source": [
    "## Plot a CDF\n",
    "\n",
    "The distribution of income in almost every country is long-tailed; that is, there are a small number of people with very high incomes.\n",
    "\n",
    "In the GSS dataset, the variable `'realinc'` represents total household income, converted to 1986 dollars. We can get a sense of the shape of this distribution by plotting the CDF.\n",
    "\n",
    "Instructions\n",
    "\n",
    "1. Select `'realinc'` from the `gss` dataset.\n",
    "2. Make a Cdf object called `cdf_income`.\n",
    "3. Create a plot of `cdf_income` using `.plot()`."
   ]
  },
  {
   "cell_type": "code",
   "execution_count": 89,
   "id": "greek-waters",
   "metadata": {},
   "outputs": [],
   "source": [
    "plt.rcParams['figure.figsize'] = [10, 5]"
   ]
  },
  {
   "cell_type": "code",
   "execution_count": 90,
   "id": "silent-regression",
   "metadata": {},
   "outputs": [
    {
     "data": {
      "image/png": "[encoded data removed]",
      "text/plain": [
       "<Figure size 720x360 with 1 Axes>"
      ]
     },
     "metadata": {
      "needs_background": "light"
     },
     "output_type": "display_data"
    }
   ],
   "source": [
    "# Select realinc\n",
    "income = gss['realinc']\n",
    "\n",
    "# Make the CDF\n",
    "# cdf_income = Cdf(income)\n",
    "cdf_income = Cdf.from_seq(income)\n",
    "\n",
    "# Plot it\n",
    "cdf_income.plot()\n",
    "\n",
    "# Label the axes\n",
    "plt.xlabel('Income (1986 USD)')\n",
    "plt.ylabel('CDF')\n",
    "plt.show()"
   ]
  },
  {
   "cell_type": "markdown",
   "id": "incoming-summer",
   "metadata": {},
   "source": [
    "## Distribution of education\n",
    "\n",
    "Let's begin comparing incomes for different levels of education in the GSS dataset, which has been pre-loaded for you into a DataFrame called `gss`. The variable `educ` represents the respondent's years of education.\n",
    "\n",
    "What fraction of respondents report that they have 12 years of education or fewer?"
   ]
  },
  {
   "cell_type": "code",
   "execution_count": 81,
   "id": "dependent-candle",
   "metadata": {},
   "outputs": [
    {
     "data": {
      "text/html": [
       "<div>\n",
       "<style scoped>\n",
       "    .dataframe tbody tr th:only-of-type {\n",
       "        vertical-align: middle;\n",
       "    }\n",
       "\n",
       "    .dataframe tbody tr th {\n",
       "        vertical-align: top;\n",
       "    }\n",
       "\n",
       "    .dataframe thead th {\n",
       "        text-align: right;\n",
       "    }\n",
       "</style>\n",
       "<table border=\"1\" class=\"dataframe\">\n",
       "  <thead>\n",
       "    <tr style=\"text-align: right;\">\n",
       "      <th></th>\n",
       "      <th>probs</th>\n",
       "    </tr>\n",
       "  </thead>\n",
       "  <tbody>\n",
       "    <tr>\n",
       "      <th>0.0</th>\n",
       "      <td>0.002311</td>\n",
       "    </tr>\n",
       "    <tr>\n",
       "      <th>1.0</th>\n",
       "      <td>0.002921</td>\n",
       "    </tr>\n",
       "    <tr>\n",
       "      <th>2.0</th>\n",
       "      <td>0.005345</td>\n",
       "    </tr>\n",
       "    <tr>\n",
       "      <th>3.0</th>\n",
       "      <td>0.009293</td>\n",
       "    </tr>\n",
       "    <tr>\n",
       "      <th>4.0</th>\n",
       "      <td>0.013948</td>\n",
       "    </tr>\n",
       "    <tr>\n",
       "      <th>5.0</th>\n",
       "      <td>0.020031</td>\n",
       "    </tr>\n",
       "    <tr>\n",
       "      <th>6.0</th>\n",
       "      <td>0.033545</td>\n",
       "    </tr>\n",
       "    <tr>\n",
       "      <th>7.0</th>\n",
       "      <td>0.047348</td>\n",
       "    </tr>\n",
       "    <tr>\n",
       "      <th>8.0</th>\n",
       "      <td>0.086206</td>\n",
       "    </tr>\n",
       "    <tr>\n",
       "      <th>9.0</th>\n",
       "      <td>0.117713</td>\n",
       "    </tr>\n",
       "    <tr>\n",
       "      <th>10.0</th>\n",
       "      <td>0.162959</td>\n",
       "    </tr>\n",
       "    <tr>\n",
       "      <th>11.0</th>\n",
       "      <td>0.224978</td>\n",
       "    </tr>\n",
       "    <tr>\n",
       "      <th>12.0</th>\n",
       "      <td>0.532261</td>\n",
       "    </tr>\n",
       "    <tr>\n",
       "      <th>13.0</th>\n",
       "      <td>0.619013</td>\n",
       "    </tr>\n",
       "    <tr>\n",
       "      <th>14.0</th>\n",
       "      <td>0.731045</td>\n",
       "    </tr>\n",
       "    <tr>\n",
       "      <th>15.0</th>\n",
       "      <td>0.776563</td>\n",
       "    </tr>\n",
       "    <tr>\n",
       "      <th>16.0</th>\n",
       "      <td>0.904212</td>\n",
       "    </tr>\n",
       "    <tr>\n",
       "      <th>17.0</th>\n",
       "      <td>0.932958</td>\n",
       "    </tr>\n",
       "    <tr>\n",
       "      <th>18.0</th>\n",
       "      <td>0.966808</td>\n",
       "    </tr>\n",
       "    <tr>\n",
       "      <th>19.0</th>\n",
       "      <td>0.979231</td>\n",
       "    </tr>\n",
       "    <tr>\n",
       "      <th>20.0</th>\n",
       "      <td>1.000000</td>\n",
       "    </tr>\n",
       "  </tbody>\n",
       "</table>\n",
       "</div>"
      ],
      "text/plain": [
       "0.0     0.002311\n",
       "1.0     0.002921\n",
       "2.0     0.005345\n",
       "3.0     0.009293\n",
       "4.0     0.013948\n",
       "5.0     0.020031\n",
       "6.0     0.033545\n",
       "7.0     0.047348\n",
       "8.0     0.086206\n",
       "9.0     0.117713\n",
       "10.0    0.162959\n",
       "11.0    0.224978\n",
       "12.0    0.532261\n",
       "13.0    0.619013\n",
       "14.0    0.731045\n",
       "15.0    0.776563\n",
       "16.0    0.904212\n",
       "17.0    0.932958\n",
       "18.0    0.966808\n",
       "19.0    0.979231\n",
       "20.0    1.000000\n",
       "Name: , dtype: float64"
      ]
     },
     "execution_count": 81,
     "metadata": {},
     "output_type": "execute_result"
    }
   ],
   "source": [
    "educ = gss['educ']\n",
    "cdf_educ = Cdf.from_seq(educ)\n",
    "cdf_educ"
   ]
  },
  {
   "cell_type": "markdown",
   "id": "domestic-robinson",
   "metadata": {},
   "source": [
    "Approximately 53%."
   ]
  },
  {
   "cell_type": "markdown",
   "id": "aboriginal-swimming",
   "metadata": {},
   "source": [
    "## Extract education levels\n",
    "\n",
    "Let's create Boolean Series to identify respondents with different levels of education.\n",
    "\n",
    "In the U.S, 12 years of education usually means the respondent has completed high school (secondary education). A respondent with 14 years of education has probably completed an associate degree (two years of college); someone with 16 years has probably completed a bachelor's degree (four years of college).\n",
    "\n",
    "Instructions\n",
    "\n",
    "1. Complete the line that identifies respondents with associate degrees, that is, people with 14 or more years of education but less than 16.\n",
    "2. Complete the line that identifies respondents with 12 or fewer years of education.\n",
    "3. Confirm that the mean of `high` is the fraction we computed in the previous exercise, about 53%."
   ]
  },
  {
   "cell_type": "code",
   "execution_count": 82,
   "id": "universal-clause",
   "metadata": {},
   "outputs": [
    {
     "data": {
      "text/plain": [
       "0.5308807991547402"
      ]
     },
     "execution_count": 82,
     "metadata": {},
     "output_type": "execute_result"
    }
   ],
   "source": [
    "# Select educ\n",
    "educ = gss['educ']\n",
    "\n",
    "# Bachelor's degree\n",
    "bach = (educ >= 16)\n",
    "\n",
    "# Associate degree\n",
    "assc = (educ >= 14) & (educ < 16)\n",
    "\n",
    "# High school\n",
    "high = (educ <= 12)\n",
    "high.mean()"
   ]
  },
  {
   "cell_type": "markdown",
   "id": "perfect-lighting",
   "metadata": {},
   "source": [
    "## Plot income CDFs\n",
    "\n",
    "Let's now see what the distribution of income looks like for people with different education levels. You can do this by plotting the CDFs. Recall how Allen plotted the income CDFs of respondents interviewed before and after 1995:\n",
    "\n",
    "```\n",
    "Cdf(income[pre95]).plot(label='Before 1995')\n",
    "Cdf(income[~pre95]).plot(label='After 1995')\n",
    "```\n",
    "\n",
    "You can assume that Boolean Series have been defined, as in the previous exercise, to identify respondents with different education levels: `high`, `assc`, and `bach`.\n",
    "\n",
    "Instructions\n",
    "\n",
    "1. Fill in the missing lines of code to plot the CDFs."
   ]
  },
  {
   "cell_type": "code",
   "execution_count": 91,
   "id": "english-pacific",
   "metadata": {},
   "outputs": [
    {
     "data": {
      "image/png": "[encoded data removed]",
      "text/plain": [
       "<Figure size 720x360 with 1 Axes>"
      ]
     },
     "metadata": {
      "needs_background": "light"
     },
     "output_type": "display_data"
    }
   ],
   "source": [
    "income = gss['realinc']\n",
    "\n",
    "# Plot the CDFs\n",
    "# Cdf(income[high]).plot(label='High school')\n",
    "# Cdf(income[assc]).plot(label='Associate')\n",
    "# Cdf(income[bach]).plot(label='Bachelor')\n",
    "Cdf.from_seq(income[high]).plot(label='High school')\n",
    "Cdf.from_seq(income[assc]).plot(label='Associate')\n",
    "Cdf.from_seq(income[bach]).plot(label='Bachelor')\n",
    "\n",
    "# Label the axes\n",
    "plt.xlabel('Income (1986 USD)')\n",
    "plt.ylabel('CDF')\n",
    "plt.legend()\n",
    "plt.show()"
   ]
  },
  {
   "cell_type": "code",
   "execution_count": 100,
   "id": "parallel-checklist",
   "metadata": {},
   "outputs": [
    {
     "data": {
      "image/png": "[encoded data removed]",
      "text/plain": [
       "<Figure size 720x360 with 1 Axes>"
      ]
     },
     "metadata": {
      "needs_background": "light"
     },
     "output_type": "display_data"
    }
   ],
   "source": [
    "import numpy as np\n",
    "import random\n",
    "\n",
    "sample = np.random.normal(size=100000)\n",
    "Cdf.from_seq(sample).plot();"
   ]
  },
  {
   "cell_type": "markdown",
   "id": "uniform-wings",
   "metadata": {},
   "source": [
    "## Distribution of income\n",
    "\n",
    "In many datasets, the distribution of income is approximately lognormal, which means that the logarithms of the incomes fit a normal distribution. We'll see whether that's true for the GSS data. As a first step, you'll compute the mean and standard deviation of the log of incomes using NumPy's `np.log10()` function.\n",
    "\n",
    "Then, you'll use the computed mean and standard deviation to make a `norm` object using the [`scipy.stats.norm()`](https://docs.scipy.org/doc/scipy/reference/generated/scipy.stats.norm.html) function.\n",
    "\n",
    "Instructions\n",
    "\n",
    "1. Extract `'realinc'` from `gss` and compute its logarithm using `np.log10()`.\n",
    "2. Compute the mean and standard deviation of the result.\n",
    "3. Make a `norm` object by passing the computed mean and standard deviation to `norm()`."
   ]
  },
  {
   "cell_type": "code",
   "execution_count": 101,
   "id": "square-investor",
   "metadata": {},
   "outputs": [],
   "source": [
    "import numpy as np"
   ]
  },
  {
   "cell_type": "code",
   "execution_count": 102,
   "id": "pending-promotion",
   "metadata": {},
   "outputs": [
    {
     "name": "stdout",
     "output_type": "stream",
     "text": [
      "4.371148677934171 0.4290082383271385\n"
     ]
    }
   ],
   "source": [
    "# Extract realinc and compute its log\n",
    "income = gss['realinc']\n",
    "log_income = np.log10(income)\n",
    "\n",
    "# Compute mean and standard deviation\n",
    "mean = log_income.mean()\n",
    "std = log_income.std()\n",
    "print(mean, std)\n",
    "\n",
    "# Make a norm object\n",
    "from scipy.stats import norm\n",
    "dist = norm(mean, std)"
   ]
  },
  {
   "cell_type": "markdown",
   "id": "enormous-width",
   "metadata": {},
   "source": [
    "## Comparing CDFs\n",
    "\n",
    "To see whether the distribution of income is well modeled by a lognormal distribution, we'll compare the CDF of the logarithm of the data to a normal distribution with the same mean and standard deviation. These variables from the previous exercise are available for use:\n",
    "\n",
    "```\n",
    "# Extract realinc and compute its log\n",
    "log_income = np.log10(gss['realinc'])\n",
    "\n",
    "# Compute mean and standard deviation\n",
    "mean, std = log_income.mean(), log_income.std()\n",
    "\n",
    "# Make a norm object\n",
    "from scipy.stats import norm\n",
    "dist = norm(mean, std)\n",
    "```\n",
    "\n",
    "`dist` is a `scipy.stats.norm` object with the same mean and standard deviation as the data. It provides `.cdf()`, which evaluates the normal cumulative distribution function.\n",
    "\n",
    "Be careful with capitalization: `Cdf()`, with an uppercase `C`, creates `Cdf` objects. `dist.cdf()`, with a lowercase `c`, evaluates the normal cumulative distribution function.\n",
    "\n",
    "Instructions\n",
    "\n",
    "1. Evaluate the normal cumulative distribution function using `dist.cdf`.\n",
    "2. Use the `Cdf()` function to compute the CDF of `log_income`.\n",
    "3. Plot the result."
   ]
  },
  {
   "cell_type": "code",
   "execution_count": 104,
   "id": "helpful-sullivan",
   "metadata": {},
   "outputs": [
    {
     "data": {
      "image/png": "[encoded data removed]",
      "text/plain": [
       "<Figure size 720x360 with 1 Axes>"
      ]
     },
     "metadata": {
      "needs_background": "light"
     },
     "output_type": "display_data"
    }
   ],
   "source": [
    "# Evaluate the model CDF\n",
    "xs = np.linspace(2, 5.5)\n",
    "ys = dist.cdf(xs)\n",
    "\n",
    "# Plot the model CDF\n",
    "plt.clf()\n",
    "plt.plot(xs, ys, color='gray')\n",
    "\n",
    "# Create and plot the Cdf of log_income\n",
    "# Cdf(log_income).plot()\n",
    "Cdf.from_seq(log_income).plot()\n",
    "   \n",
    "# Label the axes\n",
    "plt.xlabel('log10 of realinc')\n",
    "plt.ylabel('CDF')\n",
    "plt.show()"
   ]
  },
  {
   "cell_type": "markdown",
   "id": "detailed-tonight",
   "metadata": {},
   "source": [
    "## Comparing PDFs\n",
    "\n",
    "In the previous exercise, we used CDFs to see if the distribution of income is lognormal. We can make the same comparison using a PDF and KDE. That's what you'll do in this exercise!\n",
    "\n",
    "As before, the `norm` object `dist` is available in your workspace:\n",
    "\n",
    "```\n",
    "from scipy.stats import norm\n",
    "dist = norm(mean, std)\n",
    "```\n",
    "\n",
    "Just as all `norm` objects have a `.cdf()` method, they also have a `.pdf()` method.\n",
    "\n",
    "To create a KDE plot, you can use Seaborn's [`kdeplot()`](https://seaborn.pydata.org/generated/seaborn.kdeplot.html) function. To learn more about this function and Seaborn, you can check out DataCamp's [Data Visualization with Seaborn](https://www.datacamp.com/courses/data-visualization-with-seaborn) course. Here, Seaborn has been imported for you as sns.\n",
    "\n",
    "Instructions\n",
    "\n",
    "1. Evaluate the normal PDF using `dist`, which is a `norm` object with the same mean and standard deviation as the data.\n",
    "2. Make a KDE plot of the logarithms of the incomes, using `log_income`, which is a Series object."
   ]
  },
  {
   "cell_type": "code",
   "execution_count": 106,
   "id": "breeding-gazette",
   "metadata": {},
   "outputs": [],
   "source": [
    "import seaborn as sns"
   ]
  },
  {
   "cell_type": "code",
   "execution_count": 107,
   "id": "wrapped-columbia",
   "metadata": {},
   "outputs": [
    {
     "data": {
      "image/png": "[encoded data removed]",
      "text/plain": [
       "<Figure size 720x360 with 1 Axes>"
      ]
     },
     "metadata": {
      "needs_background": "light"
     },
     "output_type": "display_data"
    }
   ],
   "source": [
    "# Evaluate the normal PDF\n",
    "xs = np.linspace(2, 5.5)\n",
    "ys = dist.pdf(xs)\n",
    "\n",
    "# Plot the model PDF\n",
    "plt.clf()\n",
    "plt.plot(xs, ys, color='gray')\n",
    "\n",
    "# Plot the data KDE\n",
    "sns.kdeplot(log_income)\n",
    "    \n",
    "# Label the axes\n",
    "plt.xlabel('log10 of realinc')\n",
    "plt.ylabel('PDF')\n",
    "plt.show()"
   ]
  }
 ],
 "metadata": {
  "kernelspec": {
   "display_name": "Python 3",
   "language": "python",
   "name": "python3"
  },
  "language_info": {
   "codemirror_mode": {
    "name": "ipython",
    "version": 3
   },
   "file_extension": ".py",
   "mimetype": "text/x-python",
   "name": "python",
   "nbconvert_exporter": "python",
   "pygments_lexer": "ipython3",
   "version": "3.8.5"
  },
  "toc": {
   "base_numbering": 1,
   "nav_menu": {},
   "number_sections": false,
   "sideBar": true,
   "skip_h1_title": false,
   "title_cell": "Table of Contents",
   "title_sidebar": "Contents",
   "toc_cell": false,
   "toc_position": {},
   "toc_section_display": true,
   "toc_window_display": false
  },
  "varInspector": {
   "cols": {
    "lenName": 16,
    "lenType": 16,
    "lenVar": 40
   },
   "kernels_config": {
    "python": {
     "delete_cmd_postfix": "",
     "delete_cmd_prefix": "del ",
     "library": "var_list.py",
     "varRefreshCmd": "print(var_dic_list())"
    },
    "r": {
     "delete_cmd_postfix": ") ",
     "delete_cmd_prefix": "rm(",
     "library": "var_list.r",
     "varRefreshCmd": "cat(var_dic_list()) "
    }
   },
   "types_to_exclude": [
    "module",
    "function",
    "builtin_function_or_method",
    "instance",
    "_Feature"
   ],
   "window_display": false
  }
 },
 "nbformat": 4,
 "nbformat_minor": 5
}
