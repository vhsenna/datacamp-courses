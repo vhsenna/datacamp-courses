{
 "cells": [
  {
   "cell_type": "markdown",
   "id": "canadian-rwanda",
   "metadata": {},
   "source": [
    "## Don't be average!\n",
    "\n",
    "One of the most frequently used descriptive statistics is the mean, which is often just referred to as just the average. It is a useful statistic to compute when you are exploring a new dataset, such as this one, which lists Barack Obama's approval ratings in 2016.\n",
    "\n",
    "Your job in this exercise is to _manually_ compute the mean approval rating.\n",
    "\n",
    "Instructions\n",
    "\n",
    "1. In cell `D2`, calculate the `SUM()` of Barack Obama's approval rating for 2016.\n",
    "2. `COUNT()` the number of observations in the data range `A1:A13`.\n",
    "3. Divide the sum by the count to calculate the monthly mean average."
   ]
  },
  {
   "cell_type": "markdown",
   "id": "silent-david",
   "metadata": {},
   "source": [
    "## Presidential approval rating averages\n",
    "\n",
    "Manually calculating the mean is straightforward enough when you have a small dataset, however in this age of big data, you don't want to be calculating means manually, especially when you're working with multiple columns, like in this exercise!\n",
    "\n",
    "Your job here is to calculate the yearly average approval rating **throughout** Barack Obama's presidency.\n",
    "\n",
    "Instructions\n",
    "\n",
    "1. In cell `B14`, use the `AVERAGE()` function to calculate the 2009 mean rating by passing in the range `B2:B13`.\n",
    "2. To get all annual mean ratings, drag and fill in the formula from `B14` across to `I14`."
   ]
  },
  {
   "cell_type": "markdown",
   "id": "anticipated-builder",
   "metadata": {},
   "source": [
    "## Difference between median and mean\n",
    "\n",
    "On the right is Amazon's quarterly revenue from their first year - 1996 - and a more recent year - 2017. Let's compare the mean and the median revenue between the two quarters to see how the data is distributed. The median is more robust to outliers, unlike the mean. So if your dataset has a lot of outliers, the mean will be pulled in the direction of the outliers.\n",
    "\n",
    "Recall that for an odd number of observations, a median is the middle value in the data. With an even number of observations, the median is the _mean_ of the two middle values. To manually calculate a median, the data needs to be sorted (unlike if you are using the `MEDIAN()` function). This data is naturally ascending, so no sorting is necessary.\n",
    "\n",
    "Instructions\n",
    "\n",
    "1. In cell `G2`, calculate the `AVERAGE()` for the middle observations, `D5` and `D6`.\n",
    "2. Now use `MEDIAN()` in `H2` passing in all revenue amounts, `D2:D9`.\n",
    "3. In cell `I2`, calculate the `AVERAGE()` of `D2:D9`. How different is it from the median?"
   ]
  },
  {
   "cell_type": "markdown",
   "id": "fifth-adrian",
   "metadata": {},
   "source": [
    "## Modal madness\n",
    "\n",
    "In this exercise you'll work with a medical dataset to practice calculating modes. Remember that a mode is the most frequent value that occurs in a sample. If every value is unique, then there is no mode, and if there is a tie, then the sample can have 2+ modes.\n",
    "\n",
    "Let's see how the mode compares to the median and mean here!\n",
    "\n",
    "Instructions\n",
    "\n",
    "1. In cells `F2` and `G2`, calculate the mean number of lab procedures and mean number of lab medications.\n",
    "2. In cells `F3` and `G3`, calculate the median number of lab procedures and median number of lab medications.\n",
    "3. In cells `F4` and `F4`, calculate the modes of the two columns."
   ]
  },
  {
   "cell_type": "markdown",
   "id": "ethical-fault",
   "metadata": {},
   "source": [
    "## Train variation\n",
    "\n",
    "Time to work with US monthly train ridership data! Let's begin by exploring the variation in monthly train ridership. To understand a dataset beyond averages, the variance is an extremely useful statistic. As the name suggests, it gives a sense for the _variation_ that exists in the data. That is, how far from the mean each point is.\n",
    "\n",
    "As a reminder, to calculate the variance of a population:\n",
    "\n",
    "1. Calculate the mean of the entire dataset.\n",
    "2. Subtract each value from the mean.\n",
    "3. Square the differences to ensure positive and negative values don't cancel each other out.\n",
    "4. Take the average of the squared differences.\n",
    "\n",
    "To fully understand variance, in this exercise you will first follow the above steps to calculate the variance manually and then use the [`VARP()`](https://support.google.com/docs/answer/3094113?hl=en) function to automatically calculate variance.\n",
    "\n",
    "Instructions\n",
    "\n",
    "1. In cell `D2`, calculate the difference between `B2` and the mean train ridership (`AVERAGE($B$2:$B$160)`). Do the same for the rest of the column.\n",
    "2. In column E, square each of the differences in column D using `^2`.\n",
    "3. Calculate the variance by calculating the mean of `E2:E160` in `F2`.\n",
    "4. Use `VARP()` on `B2:B160` to concisely calculate the variance."
   ]
  },
  {
   "cell_type": "markdown",
   "id": "understood-problem",
   "metadata": {},
   "source": [
    "## Calculating standard deviations\n",
    "\n",
    "There is a lot of seasonal variability in the train data. To better understand this, you will now calculate the standard deviation to understand how \"spread out\" the data is from the mean average.\n",
    "\n",
    "To calculate the standard deviation:\n",
    "\n",
    "1. Calculate the variance of the data.\n",
    "2. Take the `SQRT()`, or square root, of the variance.\n",
    "\n",
    "Building on the variance, you will first manually calculate the standard deviation before defaulting to the formula [`STDEVP()`](https://support.google.com/docs/answer/3094105?hl=en).\n",
    "\n",
    "Instructions\n",
    "\n",
    "1. In cell `D2`, calculate the variance of the data using `VARP()`.\n",
    "2. In cell `E2`, calculate the square root of the variance.\n",
    "3. Finally, in cell `F2`, use `STDEVP()` to automatically calculate the standard deviation."
   ]
  },
  {
   "cell_type": "markdown",
   "id": "sitting-newsletter",
   "metadata": {},
   "source": [
    "## Playing quarters\n",
    "\n",
    "So far, you have an understanding of the variance and standard deviation in the train data.\n",
    "You'll now refine this understanding by calculating the 4 quartiles. Quartiles divide a population into four parts.\n",
    "\n",
    "The [`QUARTILE()`](https://support.google.com/docs/answer/3094041?hl=en) function accepts an array of values followed by an integer `1` to `4` to declare the specific quartile.\n",
    "\n",
    "- Quartile 4: The maximum value in the data.\n",
    "- Quartile 3: 75% of the data is less than the third quartile.\n",
    "- Quartile 2: The median of the data.\n",
    "- Quartile 1: The smallest values 25% of the data.\n",
    "\n",
    "A useful statistic computed from the quartiles is the \"interquartile range\" (IQR), which lies between the Q1 and Q3 and represents the middle 50% of the data.\n",
    "\n",
    "Instructions\n",
    "\n",
    "1. Use the `QUARTILE()` function to calculate the first, second, third, and fourth quartiles in the respective cells."
   ]
  },
  {
   "cell_type": "markdown",
   "id": "honest-census",
   "metadata": {},
   "source": [
    "## Comparing z-scores\n",
    "\n",
    "To illustrate the utility of z-scores, let's now look at some housing data, in which the two columns - Bedrooms and Square Feet - are measured very differently.\n",
    "\n",
    "The z-scores for the \"Bedroom\" column have already been calculated for you. In this exercise, you will calculate z-scores for the \"Square Feet\" column using the [`STANDARDIZE()`](https://support.google.com/docs/answer/3094102?hl=en) function. After that, you will use `SUM()` and `AVERAGE()` to compare how the distributions are now on the same scale.\n",
    "\n",
    "As a reminder, the z-score measures how far a value is from the mean using standard deviations.\n",
    "\n",
    "Instructions\n",
    "\n",
    "1. In cell `I2`, using `STANDARDIZE()`, pass in the Square Feet of `B2`, then the mean at `$E$3` and finally the `STDEVP()` in `$F$3`. Drag this formula all the way down to get the entire vector. Remember those `$` signs!\n",
    "2. In cells `L2` and `L3`, use `SUM()` to add up the standardized values in columns `H` and `I`, respectively.\n",
    "3. In cells `M2` and `M3`, calculate the mean of the standardized values in columns `H` and `I`. Compare the results of the scaled columns."
   ]
  },
  {
   "cell_type": "markdown",
   "id": "individual-account",
   "metadata": {},
   "source": [
    "## Exploring eBay auctions\n",
    "\n",
    "It's time to finish up Chapter 1 by applying your newfound statistical skills to some eBay auction data! This dataset is a sample of 150 auctions which you will apply statistical functions to.\n",
    "\n",
    "Let's say you want to start selling on eBay and need to know what types of auctions are popular. The goal here is to identify what items you should start selling and what your average revenue would be. As a seller, you are most interested in the \"Close Price\" column.\n",
    "\n",
    "Instructions\n",
    "\n",
    "1. In cell `J3`, calculate the average closing price.\n",
    "2. In cell `J6`, calculate the median closing price.\n",
    "3. In cell `J9`, calculate the most frequently occuring closing price.\n",
    "4. In cell `J12`, calculate the _population_ standard deviation of the closing price column using `STDEVP()`."
   ]
  }
 ],
 "metadata": {
  "kernelspec": {
   "display_name": "Python 3",
   "language": "python",
   "name": "python3"
  },
  "language_info": {
   "codemirror_mode": {
    "name": "ipython",
    "version": 3
   },
   "file_extension": ".py",
   "mimetype": "text/x-python",
   "name": "python",
   "nbconvert_exporter": "python",
   "pygments_lexer": "ipython3",
   "version": "3.8.10"
  },
  "toc": {
   "base_numbering": 1,
   "nav_menu": {},
   "number_sections": false,
   "sideBar": true,
   "skip_h1_title": false,
   "title_cell": "Table of Contents",
   "title_sidebar": "Contents",
   "toc_cell": false,
   "toc_position": {},
   "toc_section_display": true,
   "toc_window_display": false
  },
  "varInspector": {
   "cols": {
    "lenName": 16,
    "lenType": 16,
    "lenVar": 40
   },
   "kernels_config": {
    "python": {
     "delete_cmd_postfix": "",
     "delete_cmd_prefix": "del ",
     "library": "var_list.py",
     "varRefreshCmd": "print(var_dic_list())"
    },
    "r": {
     "delete_cmd_postfix": ") ",
     "delete_cmd_prefix": "rm(",
     "library": "var_list.r",
     "varRefreshCmd": "cat(var_dic_list()) "
    }
   },
   "types_to_exclude": [
    "module",
    "function",
    "builtin_function_or_method",
    "instance",
    "_Feature"
   ],
   "window_display": false
  }
 },
 "nbformat": 4,
 "nbformat_minor": 5
}
