{
 "cells": [
  {
   "cell_type": "markdown",
   "id": "macro-horse",
   "metadata": {},
   "source": [
    "# Introduction to Statistics in Spreadsheets\n",
    "\n",
    "- 4 hours\n",
    "- 15 Videos\n",
    "- 51 Exercises\n",
    "\n",
    "## Course Description\n",
    "\n",
    "Statistics is the science that deals with the collection, analysis, and interpretation of data. Having a solid foundation in statistics will help you effectively work with your data to test hypotheses and uncover insights that can help solve your problems. This course is designed to give you that foundation in statistics. Using Spreadsheets functions, you'll dive into averages, distributions, hypothesis testing, and conclude the course by applying your newfound knowledge in a case study. Along the way, you'll work with a variety of datasets ranging from eBay auctions to train ridership to historical presidential approval ratings. Enjoy!\n",
    "\n",
    "### 1 Getting To Know Your Data\n",
    "\n",
    "Begin your journey by learning why and how to summarize your data using statistics such as the mean, median, and mode. While working with a variety of datasets ranging from Amazon revenue to U.S Presidential ratings, you'll learn about the differences between each of these fundamental statistics and most importantly, when to use each.\n",
    "\n",
    "- Welcome to the course!\n",
    "- Don't be average!\n",
    "- Presidential approval rating averages\n",
    "- Difference between median and mean\n",
    "- Modal madness\n",
    "- How far from average?\n",
    "- Train variation\n",
    "- Calculating standard deviations\n",
    "- Playing quarters\n",
    "- Standardizing data\n",
    "- Comparing z-scores\n",
    "- Exploring eBay auctions\n",
    "\n",
    "### 2 Statistical Data Visualization\n",
    "\n",
    "Data visualization is one of the most important parts of any data science workflow. It leads to a deeper understanding of your dataset which in turn allows you to more effectively communicate results to stakeholders. In this chapter, you'll learn how to visualize your data in Spreadsheets using statistical plots such as the histogram, scatter plot, and bar plot.\n",
    "\n",
    "- Visualizing Distributions\n",
    "- \"Normal\" views of money\n",
    "- Visualizing customer longevity\n",
    "- Visualizing customer donations\n",
    "- Is the data \"normally\" distributed?\n",
    "- Visualizing Correlations\n",
    "- Correlation between price and quantity sold\n",
    "- Correlation between seller rating and closing price\n",
    "- Adding a trend line\n",
    "- Bar charts\n",
    "- Bar chart of competitive counts\n",
    "- Visualizing categories\n",
    "\n",
    "### 3 Statistical Hypothesis Testing\n",
    "\n",
    "This chapter introduces you to statistical hypothesis testing. You'll learn how to construct a hypothesis, test it using different statistical tests, and properly interpret the results.\n",
    "\n",
    "- Central to Stats: Sampling!\n",
    "- Sampling in Spreadsheets\n",
    "- Does sampling size matter?\n",
    "- Central Limit Theorem in action\n",
    "- Hypothesis Testing\n",
    "- Comparing samples with a t-test\n",
    "- Paired t-test\n",
    "- Hypothesis Testing with the Z-test\n",
    "- Performing a Z-test\n",
    "- What changes in a two-tailed test?\n",
    "- Hypothesis Testing with the Chi-squared test\n",
    "- Performing a chi-squared test\n",
    "- Are bank loans getting worse?\n",
    "\n",
    "### 4 Case Study: Dating Profile Analysis\n",
    "\n",
    "The final stretch! Apply all of your newfound statistical knowledge and solidify everything you have learned by working through a case study consisting of online dating profile data.\n",
    "\n",
    "- Dating Data!\n",
    "- Understanding the distribution of ages\n",
    "- What's the drinking age?\n",
    "- Profile login behavior\n",
    "- Visuals & Distributions\n",
    "- Visualizing logins\n",
    "- How old do users look?\n",
    "- Tipping the scale to positive correlation\n",
    "- Investigating age and volunteering\n",
    "- More complex relationships\n",
    "- Are gender and number of roommates independent?\n",
    "- Getting old and rich\n",
    "- Multiple relationships!\n",
    "- Congratulations!"
   ]
  }
 ],
 "metadata": {
  "kernelspec": {
   "display_name": "Python 3",
   "language": "python",
   "name": "python3"
  },
  "language_info": {
   "codemirror_mode": {
    "name": "ipython",
    "version": 3
   },
   "file_extension": ".py",
   "mimetype": "text/x-python",
   "name": "python",
   "nbconvert_exporter": "python",
   "pygments_lexer": "ipython3",
   "version": "3.8.10"
  },
  "toc": {
   "base_numbering": 1,
   "nav_menu": {},
   "number_sections": false,
   "sideBar": true,
   "skip_h1_title": false,
   "title_cell": "Table of Contents",
   "title_sidebar": "Contents",
   "toc_cell": false,
   "toc_position": {},
   "toc_section_display": true,
   "toc_window_display": false
  },
  "varInspector": {
   "cols": {
    "lenName": 16,
    "lenType": 16,
    "lenVar": 40
   },
   "kernels_config": {
    "python": {
     "delete_cmd_postfix": "",
     "delete_cmd_prefix": "del ",
     "library": "var_list.py",
     "varRefreshCmd": "print(var_dic_list())"
    },
    "r": {
     "delete_cmd_postfix": ") ",
     "delete_cmd_prefix": "rm(",
     "library": "var_list.r",
     "varRefreshCmd": "cat(var_dic_list()) "
    }
   },
   "types_to_exclude": [
    "module",
    "function",
    "builtin_function_or_method",
    "instance",
    "_Feature"
   ],
   "window_display": false
  }
 },
 "nbformat": 4,
 "nbformat_minor": 5
}
