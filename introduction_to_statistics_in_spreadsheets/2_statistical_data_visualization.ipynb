{
 "cells": [
  {
   "cell_type": "markdown",
   "id": "champion-detector",
   "metadata": {},
   "source": [
    "## \"Normal\" views of money\n",
    "\n",
    "In this set of exercises, you'll work with this sample of US accounts. The first column is a unique account identifier, and the second contains the amount of savings that account has.\n",
    "\n",
    "It is helpful to visualize distributions using a histogram. A histogram buckets each observation into a \"bin\". It reduces information, just like an average, but not down to a single value. Instead, the count of observations in each bin is represented in a histogram. Keep in mind when making a histogram that it's best to have more than 20 observations. Furthermore, if you are working with samples of data, you will want a random sample to prevent biased results.\n",
    "\n",
    "Let's now take a look at what the savings distribution is and how it compares to the descriptive statistics that have already been calculated for you.\n",
    "\n",
    "Instructions\n",
    "\n",
    "1. In the highlighted region between `H1` and `K1`, insert a histogram to visualize the savings column (`B2:B101`)."
   ]
  },
  {
   "cell_type": "markdown",
   "id": "derived-commercial",
   "metadata": {},
   "source": [
    "## Visualizing customer longevity\n",
    "\n",
    "Now that you see that savings has a peak with roughly equal \"tails\" to the left and right, let's explore another variable in the data: \"Retention\". The bank measures \"retention\" of each customer, which measures how long a customer stays with the company. This measure can be one aspect of a healthy bank because there is a lot of cost associated with acquiring and setting up new accounts.\n",
    "\n",
    "When you made the savings histogram the peak was centered around ~1400. This sample data ranges from 1 to 65 months so the peak will be different, and you should note how the \"tails\" look in this visual. Additionally, review the mean and mode to see if they are as close to each other as the previous exercise.\n",
    "\n",
    "Instructions\n",
    "\n",
    "1. In cell `F1`, calculate the mean retention.\n",
    "2. In cell `F2`, calculate the median retention and compare it to the mean. What do you expect the histogram to look like as a result?\n",
    "3. Insert a histogram in the highlighted region to view the tails of the data."
   ]
  },
  {
   "cell_type": "markdown",
   "id": "narrow-married",
   "metadata": {},
   "source": [
    "## Visualizing customer donations\n",
    "\n",
    "Some banks will buy third party information to help with marketing. For example, some non-profit donations are publicly available. A bank can market to these likely affluent customers for additional banking services. This sample data has the household identifier joined to example third party data for public donations.\n",
    "\n",
    "In this exercise, you will focus on the mode and standard deviation. Since the data is expected to be a proxy for affluence with most people not making donations, these descriptive statistics can aid you in understanding the distribution before you create another histogram.\n",
    "\n",
    "Instructions\n",
    "\n",
    "1. In cell `F3`, calculate the mode.\n",
    "2. In cell `F4`, calculate the standard deviation using `STDEV()`.\n",
    "3. Visualize this new distribution in a histogram to see the shape and how the \"tails\" of the histogram behave."
   ]
  },
  {
   "cell_type": "markdown",
   "id": "interim-monte",
   "metadata": {},
   "source": [
    "## Is the data \"normally\" distributed?\n",
    "\n",
    "Let's revisit the savings data. Earlier, you noted that the mean and median savings values were almost equal. The savings histogram was also roughly symmetrical and resembled a bell curve.\n",
    "\n",
    "Now you want to use statistics to verify if the distribution is approximately symmetrical or **\"normally distributed\"**. To do so, you will calculate the skew and kurtosis.\n",
    "\n",
    "- Kurtosis: Calculated using `KURT()`. Measures how the tails behave. It identifies how values are concentrated around the mean and how they trail away from it in the tails.\n",
    "- Skew: Calculated using `SKEW()`. Measures how symmetrical the distribution is. 0 means the distribution is exactly symmetrical. Values above or below 0 indicate that there are more values above or below the mean.\n",
    "\n",
    "Instructions\n",
    "\n",
    "1. In cells `F5` and `F6`, calculate the skew and kurtosis of the savings data."
   ]
  },
  {
   "cell_type": "markdown",
   "id": "circular-logging",
   "metadata": {},
   "source": [
    "## Correlation between price and quantity sold\n",
    "\n",
    "This data represents 100 online auctions selling multiple collectible items in each listing. Is there a correlation between price and quantity sold? Let's find out!\n",
    "\n",
    "Recall that correlation, which you can calculate using `CORREL()`, ranges between `-1` and `1`.\n",
    "\n",
    "- 0 correlation means there is no relationship between variables.\n",
    "- Positive correlation indicate that as one variable increases, the other also increases.\n",
    "- Negative correlation values signify that as one variable increases, the other decreases.\n",
    "\n",
    "Here you will create a scatter plot (also known as a \"scatter chart\" or \"XY graph\") to visually represent the correlation. Do you think the price of an item has a positive or negative correlation to the total quantity sold? What do you expect the scatterplot pattern to look like? Let's find out in this exercise!\n",
    "\n",
    "Instructions\n",
    "\n",
    "1. In cell `D2`, calculate the correlation between \"Open Price\" (`B2:B101`) and \"Quantity Sold\" (`A2:A101`).\n",
    "2. Insert a scatter plot where the X variable is \"Open Price\" and Y variable is \"Quantity Sold\". Will they be positively or negatively correlated?"
   ]
  },
  {
   "cell_type": "markdown",
   "id": "alternative-millennium",
   "metadata": {},
   "source": [
    "## Correlation between seller rating and closing price\n",
    "\n",
    "Now you will explore the correlation between the seller's _rating_ and the auction closing price. Common sense would lead you to believe that the higher ratings a seller has, the higher the closing price. If this were the case you would see a \"positive\" correlation, both acting similarly.\n",
    "\n",
    "Remember that \"correlation is not causation\"! You may suspect that higher ratings improves trust thereby _causing_ prices to edge higher. However, other factors could really be the _cause_. Perhaps sellers with higher ratings are allowed to sell more expensive products. In which case the _real_ cause is the expensive products, not trust. Thus be careful when exploring correlation & drawing conclusions.\n",
    "\n",
    "Instructions\n",
    "\n",
    "1. In `D2`, calculate the correlation between \"Seller Rating\" and \"Close Price\".\n",
    "2. Insert a scatter (XY) plot at `F1`, with \"Seller Rating\" on the x-axis."
   ]
  },
  {
   "cell_type": "markdown",
   "id": "neutral-contest",
   "metadata": {},
   "source": [
    "## Adding a trend line\n",
    "\n",
    "Earlier, you saw how a high opening price has a _negative_ correlation with the number of collectibles sold. The resulting scatterplot has a distinct pattern sloping down.\n",
    "\n",
    "You then visualized the positive correlation between \"Seller Rating\" and \"Close Price\" as shown here. Let's now take this further by calculating the slope, intercept, and adding a trend line to better explore the relationship between the two columns.\n",
    "\n",
    "Spreadsheets have 3 formulas for calculating the y-intercept and slope given two variables.\n",
    "\n",
    "- [`SLOPE()`](https://support.google.com/docs/answer/3094048?hl=en) - will return the slope of a trend line or linear regression representing the linear change in one unit to another.\n",
    "- [`INTERCEPT()`](https://support.google.com/docs/answer/3093632?hl=en) - returns the value where the trendline will intersect the y-axis.\n",
    "- [`LINEST()`](https://support.google.com/docs/answer/3094249?hl=en) - calculates both the slope & the intercept of two variables using the least-squares method.\n",
    "\n",
    "Instructions\n",
    "\n",
    "1. In cell `D5`, calculate the `SLOPE()` of \"Close Price\" (`B2:B101`) and \"Seller Rating\" (`A2:A101`).\n",
    "2. Similarly, calculate the `INTERCEPT()` in `E5`.\n",
    "3. In cell `D9`, pass in `B2:B101` and `A2:A101` to `LINEST()`. It will return a values in `D9` and `E9`.\n",
    "4. Customize the scatter chart _series_ with a _trendline_ by clicking the checkbox."
   ]
  },
  {
   "cell_type": "markdown",
   "id": "future-closing",
   "metadata": {},
   "source": [
    "## Bar chart of competitive counts\n",
    "\n",
    "So far you've examined numeric data. What should you do to learn about categorical data? This sheet contains 150 online auctions with non-numeric data. One method to explore this type of variable is with a bar chart, also called a \"column chart\".\n",
    "\n",
    "Here, the `COUNTIF()` function has been to used to count the number of \"1\"s and \"0\"s. In DataCamp's [Pivot Tables in Spreadsheets](https://www.datacamp.com/courses/pivot-tables-with-spreadsheets) course, you can learn efficient ways like this to count data.\n",
    "\n",
    "Your job in this exercise is to create two types of bar charts: stacked, and side-by-side. The difference is subtle but helps your audience in different ways.\n",
    "\n",
    "- Stacked: helps you focus on the proportion of the total that is a particular class. You will visually understand the amount of the total that represents competitive online auctions.\n",
    "- Side-by-side: lets the audience understand the values in relation to each other. You will visually interpret how similar each class values are.\n",
    "\n",
    "Instructions\n",
    "\n",
    "1. Insert a column chart referencing `D2:E2` in cell `G1`.\n",
    "2. Create another visual of the same data at `G10`, this time selecting \"Stacked column chart\"."
   ]
  },
  {
   "cell_type": "markdown",
   "id": "foreign-lincoln",
   "metadata": {},
   "source": [
    "## Visualizing categories\n",
    "\n",
    "We've added other categories to the data: `Toys/Hobbies` and `Collectibles`.\n",
    "\n",
    "Notice that this `Category` column has no numeric information. This is because they are attributes of the auctions. They are distinct classes or factors. You can learn a lot about your sample descriptive statistics by better exploring these factors. For example, in patient data, gender could impact the average weight. Understanding if you have more \"Females\" would help you understand if the weight is possibly impacted.\n",
    "\n",
    "In this new auction sample, closing price averages have been compared across categories. Are categories impacting this descriptive statistic? Time to find out!\n",
    "\n",
    "Instructions\n",
    "\n",
    "1. Highlight cells `K5` through `M8` and insert a column chart. How do different categories sell?"
   ]
  }
 ],
 "metadata": {
  "kernelspec": {
   "display_name": "Python 3",
   "language": "python",
   "name": "python3"
  },
  "language_info": {
   "codemirror_mode": {
    "name": "ipython",
    "version": 3
   },
   "file_extension": ".py",
   "mimetype": "text/x-python",
   "name": "python",
   "nbconvert_exporter": "python",
   "pygments_lexer": "ipython3",
   "version": "3.8.10"
  },
  "toc": {
   "base_numbering": 1,
   "nav_menu": {},
   "number_sections": false,
   "sideBar": true,
   "skip_h1_title": false,
   "title_cell": "Table of Contents",
   "title_sidebar": "Contents",
   "toc_cell": false,
   "toc_position": {},
   "toc_section_display": true,
   "toc_window_display": false
  },
  "varInspector": {
   "cols": {
    "lenName": 16,
    "lenType": 16,
    "lenVar": 40
   },
   "kernels_config": {
    "python": {
     "delete_cmd_postfix": "",
     "delete_cmd_prefix": "del ",
     "library": "var_list.py",
     "varRefreshCmd": "print(var_dic_list())"
    },
    "r": {
     "delete_cmd_postfix": ") ",
     "delete_cmd_prefix": "rm(",
     "library": "var_list.r",
     "varRefreshCmd": "cat(var_dic_list()) "
    }
   },
   "types_to_exclude": [
    "module",
    "function",
    "builtin_function_or_method",
    "instance",
    "_Feature"
   ],
   "window_display": false
  }
 },
 "nbformat": 4,
 "nbformat_minor": 5
}
