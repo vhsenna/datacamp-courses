{
 "cells": [
  {
   "cell_type": "markdown",
   "id": "systematic-header",
   "metadata": {},
   "source": [
    "## Understanding the distribution of ages\n",
    "\n",
    "As an analyst at a social networking site trying to match like minded singles, you decide to first explore profile ages. This is a basic profile attribute but this alone is often an important factor in relationships.\n",
    "\n",
    "While you might expect that most people searching for love will tend to be younger, you should verify this by using statistics to better understand the distribution of ages.\n",
    "\n",
    "Instructions\n",
    "\n",
    "1. In `D2`, calculate the mean age.\n",
    "2. In `E2`, identify the maximum age among all sampled user profiles.\n",
    "3. In `F2`, calculate the minimum age."
   ]
  },
  {
   "cell_type": "markdown",
   "id": "veterinary-niagara",
   "metadata": {},
   "source": [
    "## What's the drinking age?\n",
    "\n",
    "Now you want to add more data to your descriptive stats. In profiles, users report how often they drink alcohol in a week so you add it to your sample. Drinking behaviour can be important in relationships so obtaning additional summary statistics could help you learn more about profiles.\n",
    "\n",
    "You'll revisit the [`COUNTIF()`](https://support.google.com/docs/answer/3093480?hl=en) function you saw in an earlier exercise. Recall that this is like `COUNT()`, except it only counts an observation if a certain condition is met. For example, `COUNTIF(C2:C10, 1)` would only count observations between `C2` and `C10` if those observations were equal to `1`. Here, you'll use this to count the number of non-drinkers.\n",
    "\n",
    "Instructions\n",
    "\n",
    "1. In `E2`, calculate the median number of drinks per week.\n",
    "2. In `F2`, calculate the mode of the \"Drinks per week\" column.\n",
    "3. In `G2`, use `COUNTIF()` to calculate the number of non-drinkers - that is, rows where \"Drinks per week\" is `0`."
   ]
  },
  {
   "cell_type": "markdown",
   "id": "empirical-chest",
   "metadata": {},
   "source": [
    "## Profile login behavior\n",
    "\n",
    "You suspect that people login about once a day. However, after they are in a relationship the hours since last login will likely grow dramatically. After all, people in a relationship have no incentive to continue to look for love! Let’s check.\n",
    "\n",
    "This data measures how many hours have passed since the user last logged in. The mode, 2nd quartile, and mean have already been calculated. Notice that the mean is vastly different. So, you need to calculate the variance, standard deviation, and maximum to understand the spread of the data. You also want to analyze the z-score of the maximum value.\n",
    "\n",
    "Remember, a z-score is the number of standard deviations from the mean and is calculated by subtracting the mean from the data point (in this case, the maximum), and dividing by the standard deviation.\n",
    "\n",
    "Instructions\n",
    "\n",
    "1. Using `VAR()`, calculate the variance of the \"Hours since last login\" column.\n",
    "2. In `I2`, use `STDEV()` to calculate the standard deviation of the login data.\n",
    "3. In `J2`, calculate the maximum value in the \"Hours since last login\" column.\n",
    "4. Calculate the z-score in `K2` by subtracting `F2` from `J2` and dividing by `I2`."
   ]
  },
  {
   "cell_type": "markdown",
   "id": "united-diamond",
   "metadata": {},
   "source": [
    "## Visualizing logins\n",
    "\n",
    "Earlier you calculated descriptive statistics for the profile logins. Now you will plot them to confirm the sample's distribution.\n",
    "\n",
    "The mode and 2nd quartile are similar yet the other descriptive statistics are much larger. Considering 50% of the data is less than 45 hours since the last login, you think this data must be \"non-normal\" or skewed in some way. **Skewed** distributions mean the values are not evenly spread out on either side of the mean.\n",
    "\n",
    "This data must have some outliers _skewing_ the mean away from the modal average and second quartile. Let's verify this using a histogram. Remember, a histogram is a series of rectangles whose size is proportional to the frequency of records in the bin or interval. It’s not the same as a bar chart!\n",
    "\n",
    "Instructions\n",
    "\n",
    "1. In the highlighted region beginning at `G1`, insert a histogram with `B2:B501` as the data range."
   ]
  },
  {
   "cell_type": "markdown",
   "id": "hourly-offer",
   "metadata": {},
   "source": [
    "## How old do users look?\n",
    "\n",
    "Let's revisit the age variable with a to compare the age distribution with the histogram from the previous exercise.\n",
    "\n",
    "For hours since last login, recall that the mode and 2nd quartile were similar, yet the other descriptive statistics were much larger. In contrast, the age variable's descriptive stats are closer together. How do you think this will change the way a histogram of age will look?\n",
    "\n",
    "As a business analyst with a strong foundation in statistics, you know the age data should look more \"normal\". A _normal_ distribution will have a symmetric and \"bell-shaped\" silouette. There shouldn't be outliers or a _skew_ like you saw in the last exercise. Let's check it out.\n",
    "\n",
    "Instructions\n",
    "\n",
    "1. Insert a histogram of age in the highlighted region."
   ]
  },
  {
   "cell_type": "markdown",
   "id": "abandoned-orbit",
   "metadata": {},
   "source": [
    "## Investigating age and volunteering\n",
    "\n",
    "Earlier you observed a strong correlation between age & annual religious observation. Another interesting field which could indicate a profile's moral values is the number of volunteer hours annually. In each profile a user can add information regarding their annual estimated hours spent volunteering.\n",
    "\n",
    "In addition to corrlation you decide to plot a scatter plot. If there is a correlation between `age` & `volunteer_hrs`, you should be able to observe a trend sloping upward or downward. If the correlation is low, you could surmise that people volunteer at similar rates regardless of their `age`.\n",
    "\n",
    "Instructions\n",
    "\n",
    "1. In `G2` calculate the `correl` Then compare with church visits' correlation `0.61`.\n",
    "2. Highlight `B1:C501` to select the fields for the chart.\n",
    "3. Using the navigation bar, `insert` a `Chart`.\n",
    "4. Select `Scatter` from the `Chart type` dropdown."
   ]
  },
  {
   "cell_type": "markdown",
   "id": "incredible-juvenile",
   "metadata": {},
   "source": [
    "## Are gender and number of roommates independent?\n",
    "\n",
    "As it turns out, the dating website also has information on gender and the number of roommates each profile has, so let's \"pivot\" for a moment and explore whether the two are independent using a chi-squared independence test.\n",
    "\n",
    "Although you believe age and roommates could be related, you suspect that gender has no impact on the number of roommates.\n",
    "\n",
    "On the right is a frequency pivot table from 200 profiles. Check out DataCamp’s [Pivot Tables in Spreadsheets](https://www.datacamp.com/courses/pivot-tables-with-spreadsheets) learn all about pivot tables. Your hypotheses:\n",
    "\n",
    "```\n",
    "H0: The `roommates` & `gender` variables are independent\n",
    "H1: The `roommates` & `gender`  variables are not independent\n",
    "```\n",
    "\n",
    "Assume a `0.05` p-value cutoff. As a refresher, if the p-value result is less than the significance level (0.05), you can reject the null hypothesis.\n",
    "\n",
    "Instructions\n",
    "\n",
    "1. In `K2`, conduct a chi-squared test by passing in the observed range `B3:C7` and then the expected range `'G3:H7'` to get the p-value.\n",
    "2. Enter `REJECT` or `FAIL TO REJECT` demonstrating your interpretation of the test."
   ]
  },
  {
   "cell_type": "markdown",
   "id": "powered-terrorist",
   "metadata": {},
   "source": [
    "## Getting old and rich\n",
    "\n",
    "As a business analyst asked to examine user profiles, you started by getting descriptive stats. Next, you plotted frequencies and scatterplots to learn about important relationships.\n",
    "\n",
    "Going a level deeper, you now want to calculate the **exact** relationship between age and income. Explicitly calculating the incremental relation between these important matching variables will help the marketers in your company complete user personas and gain a specific picture of many of the profile attributes.\n",
    "\n",
    "In review, the `CORREL()` function accepts an X column and a Y column for comparison. In our analysis, x = age and y = income.\n",
    "\n",
    "Instructions\n",
    "\n",
    "1. In `F2`, find the correlation between income and age.\n",
    "2. Calculate a best fit line with `LINEST()` in cell `G2` for income and age.\n",
    "3. In cell `E2`, calculate the \"fit\" of the linest function using \"intercept\" + (\"age\" * \"slope\") referring to the appropriate cells."
   ]
  },
  {
   "cell_type": "markdown",
   "id": "alike-choir",
   "metadata": {},
   "source": [
    "## Multiple relationships!\n",
    "\n",
    "Using the `LINEST()` function, you explored how one variable related to another. This is a univariate linear regression with a y-intercept and one coefficient. The single coefficient along with the y-intercept demonstrates how the _dependent-y_ variable changes with one unit measure change in the single _independent-x_ variable.\n",
    "\n",
    "Since you are concerned with many dimensions of a profile and the users' overall site activity, you need multiple linear regression, in which there are many X variable coefficients impacting Y.\n",
    "\n",
    "This equation calculates the estimated outcome of your multiple linear regression, where you're interested in how the hours since last login is affected by age, income, and hours volunteered.\n",
    "\n",
    "```\n",
    "Hours since last login = (age_coeff * age) + (income_coeff * income) + (volunteer_coeff * volunteerHrs) + y-intercept\n",
    "```\n",
    "\n",
    "Your job is to calculate the coefficients for age, income, and hours volunteered, and then use the above formula to calculate the estimate. Go for it!\n",
    "\n",
    "Instructions\n",
    "\n",
    "1. In `G2`, calculate the coefficients using `LINEST()`. First pass in the Y variables range `B2:B201`, and then include the X-variable _array_ `C2:E201`.\n",
    "2. Following the multiple linear regression equation, calculate the first observation's estimate in cell `K2`. Compare it with the actual value in `B2`."
   ]
  }
 ],
 "metadata": {
  "kernelspec": {
   "display_name": "Python 3",
   "language": "python",
   "name": "python3"
  },
  "language_info": {
   "codemirror_mode": {
    "name": "ipython",
    "version": 3
   },
   "file_extension": ".py",
   "mimetype": "text/x-python",
   "name": "python",
   "nbconvert_exporter": "python",
   "pygments_lexer": "ipython3",
   "version": "3.8.10"
  },
  "toc": {
   "base_numbering": 1,
   "nav_menu": {},
   "number_sections": false,
   "sideBar": true,
   "skip_h1_title": false,
   "title_cell": "Table of Contents",
   "title_sidebar": "Contents",
   "toc_cell": false,
   "toc_position": {},
   "toc_section_display": true,
   "toc_window_display": true
  },
  "varInspector": {
   "cols": {
    "lenName": 16,
    "lenType": 16,
    "lenVar": 40
   },
   "kernels_config": {
    "python": {
     "delete_cmd_postfix": "",
     "delete_cmd_prefix": "del ",
     "library": "var_list.py",
     "varRefreshCmd": "print(var_dic_list())"
    },
    "r": {
     "delete_cmd_postfix": ") ",
     "delete_cmd_prefix": "rm(",
     "library": "var_list.r",
     "varRefreshCmd": "cat(var_dic_list()) "
    }
   },
   "types_to_exclude": [
    "module",
    "function",
    "builtin_function_or_method",
    "instance",
    "_Feature"
   ],
   "window_display": false
  }
 },
 "nbformat": 4,
 "nbformat_minor": 5
}
