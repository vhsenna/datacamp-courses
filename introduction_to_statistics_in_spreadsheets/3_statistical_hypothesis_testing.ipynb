{
 "cells": [
  {
   "cell_type": "markdown",
   "id": "proof-generic",
   "metadata": {},
   "source": [
    "## Sampling in Spreadsheets\n",
    "\n",
    "Thus far, you've calculated statistics with all the data presented. Usually, it's more practical to create a _sample_ from among a _population_.\n",
    "\n",
    "- Population: An _entire_ collection of observations or events.\n",
    "- Sample: A _subset_ from a population meant to represent the population.\n",
    "\n",
    "There are many ways to sample data. Sampling choices affect the statistics and as a result, what you learn about the data population. A popular method for sampling is to do it randomly.\n",
    "\n",
    "This data has an extra column of randomly generated numbers that was created with the `RAND()` function, which can be empty and returns numbers between 0 and 1. Once the second column has been created, sort the data array by the randomly created column. Then when constructing visuals or stats based on the sample, you can control the cell range. In this exercise you will randomly sample 20 observations of monthly US airline passenger miles, and then create a histogram of this sample to understand the distribution.\n",
    "\n",
    "Instructions\n",
    "\n",
    "1. In cell `E2`, calculate the mean of the first 20 observations.\n",
    "2. In cell `F2`, calculate the standard deviation of the same 20 observations.\n",
    "3. Insert a histogram of `A2:A21` in the highlighted region. Examine how \"normal\" this visual looks."
   ]
  },
  {
   "cell_type": "markdown",
   "id": "damaged-fault",
   "metadata": {},
   "source": [
    "## Does sampling size matter?\n",
    "\n",
    "Let's now double the sample size to 40. Many analytics professionals believe a sample size of 30 or more is large enough to get trustworthy descriptive stats.\n",
    "\n",
    "This works if the original population distribution is roughly bell-shaped.\n",
    "\n",
    "Instructions\n",
    "\n",
    "1. In `E3`, calculate the mean of the first 40 samples.\n",
    "2. In `F3`, calculate the standard deviation of the first 40 samples.\n",
    "3. Create a histogram of the first 40 samples."
   ]
  },
  {
   "cell_type": "markdown",
   "id": "accredited-forum",
   "metadata": {},
   "source": [
    "## Central Limit Theorem in action\n",
    "\n",
    "You've seen how increasing the sample size changes both the statistics as well as the histogram. Now you will calculate the statistics of the entire population and observe the central limit theorem in action.\n",
    "\n",
    "As a reminder, here's the definition:\n",
    "\n",
    "> If a sample size from an independent, random variable is **large enough**, then the sampling distribution will be normal or nearly normal.\n",
    "\n",
    "\"Large enough\" is vague. The sample size is impacted by:\n",
    "\n",
    "- How accurate you need to be. Since a sample is a representation, the resulting stats will be approximate. If you need a high degree of certainty, you will need more samples to more closely resemble the population.\n",
    "- The more closely the population follows a normal distribution, the fewer sample points will be required.\n",
    "\n",
    "Instructions\n",
    "\n",
    "1. In cells `E4` and `F4`, compute the mean and standard deviation of the entire population.\n",
    "2. Create a histogram of the entire population."
   ]
  },
  {
   "cell_type": "markdown",
   "id": "lesbian-plaintiff",
   "metadata": {},
   "source": [
    "## Comparing samples with a t-test\n",
    "\n",
    "How can you be sure a sample is the same or different compared to a population or other sample? As you just learned sample independence can be tested with a [T.TEST()](https://support.google.com/docs/answer/6055837?hl=en)!\n",
    "\n",
    "```\n",
    "T.TEST(range1, range2, tails, type)\n",
    "```\n",
    "\n",
    "In this exercise you are examining data from a farm. Prior to introducing a new fertilizer, 10 plant heights were measured. After the new fertilizer was used _another_ 10 plants were measured. You will perform a t-test to understand if the plant heights in the samples are in fact different. This is a two-tailed test because the heights are either above _or_ below the original sample, \"tails\" to either side of the original distribution. The type is `2` because the samples are not from the same subjects _but_ they have the same variance. Had they been the same plants before and after fertilizer treatment, it would be a \"paired\" t-test which is type `1`.\n",
    "\n",
    "Instructions\n",
    "\n",
    "1. In `E7`, use `T.TEST()` to get a p-value for the two samples.\n",
    "2. Type `REJECT` in `E8` if the p-value is less than `0.05`. If not, type `FAIL TO REJECT`."
   ]
  },
  {
   "cell_type": "markdown",
   "id": "frequent-graham",
   "metadata": {},
   "source": [
    "## Paired t-test\n",
    "\n",
    "Now you are looking at driver data. Most research suggests drivers perform better in the morning versus in the afternoon. The researcher here measured 10 drivers in the morning and again the _same_ drivers in the evening. The milliseconds response time is the time needed to apply the brakes after seeing a prompt in the simulator. You need to perform a t-test to see if this data supports the research that drivers do indeed perform better in the morning.\n",
    "\n",
    "Remember the parameters of the `T.TEST()` function. Think about if this test has two tails or is measuring the difference in one direction. Also think about what it means for both samples to be from the same people. These will affect the values you pass to `T.TEST()`.\n",
    "\n",
    "Instructions\n",
    "\n",
    "1. In `E7` calculate the p-value using a t-test.\n",
    "2. Type `REJECT` in `E8` if the p-value is less than `0.05`. Otherwise type `FAIL TO REJECT`."
   ]
  },
  {
   "cell_type": "markdown",
   "id": "backed-major",
   "metadata": {},
   "source": [
    "## Performing a Z-test\n",
    "\n",
    "When you have over 30 observations, you should use a [`Z.TEST()`](https://support.google.com/docs/answer/3094067?hl=en) over a `T.TEST()` to compare means. Listed to your right is some salary data of U.S Government workers. Your job is to conduct a hypothesis test using the Z-test.\n",
    "\n",
    "Here you want to know if the sample average salary is _less than_ or _equal to_ the government's published average. Are you going to compare one or two tails of the distribution? The `<=` operator is exploring a _single_ direction away from the value. Thus, this is a one-tailed test.\n",
    "\n",
    "A Z-test accepts the data range followed by the population's mean - in this case, the government's published average salary. You can also add the population's standard deviation as a third parameter. If you don't, `Z.TEST()` will use the sample's standard deviation.\n",
    "\n",
    "Instructions\n",
    "\n",
    "1. In `D9`, calculate the p-value using `Z.TEST()`. Use the entire data range followed by the population mean.\n",
    "2. The result in `D9` is for a one-tailed test. With a cutoff of `0.05`, determine is you should `REJECT` or `FAIL TO REJECT` `H0`."
   ]
  },
  {
   "cell_type": "markdown",
   "id": "affected-grove",
   "metadata": {},
   "source": [
    "## What changes in a two-tailed test?\n",
    "\n",
    "In the previous exercise, you rejected the null hypothesis. Suppose you set up the experiment differently _before_ making this decision. Would that affect the outcome even if the data is the same?\n",
    "\n",
    "Let's pretend you didn't know the outcome of the last exercise. Now you want to determine if the sample worker salary is **equal** to the population's. The NULL hypothesis operator changes to `=`.\n",
    "This means you are testing whether the sample average is statistically _above_ or _below_ the average. As a result, the experiement is testing in 2 directions from the mean, so it's a two-tailed test.\n",
    "\n",
    "If you have a two-tailed test you must multiple the `Z.TEST()` results by 2.\n",
    "\n",
    "Instructions\n",
    "\n",
    "1. In `D9` once again perform a `Z.TEST()`.\n",
    "2. In `D10`, multiply the result by 2 to account for the second tail.\n",
    "3. Determine the result of the hypothesis test in `D11` as `REJECT` of `FAIL TO REJECT`."
   ]
  },
  {
   "cell_type": "markdown",
   "id": "subject-tiger",
   "metadata": {},
   "source": [
    "## Performing a chi-squared test\n",
    "\n",
    "In science and other disciplines, it's important to know if the variation you observe in your data is due to chance or is actually stemming from another source.\n",
    "\n",
    "One way to understand this is with a chi-squared test, which you can conduct in Spreadsheets using the [`CHITEST()`](https://support.google.com/docs/answer/7004263?hl=en) function.\n",
    "\n",
    "This function accepts two ranges. The first represents the observations, and the second represents the _expected_ values.\n",
    "In this case, both ranges must have the same `COUNT()` or the formula will fail. The formula returns the p-value you will use to determine whether or not to reject the null hypothesis.\n",
    "\n",
    "```\n",
    "CHITEST(observedRange, expectedRange)\n",
    "```\n",
    "\n",
    "In this exercise you are reviewing a call center agent's call times. The agent has a higher average call time than the expected call time for all other agents. Let's see if this agent's specific call times are due to chance, i.e. random call variation, or because the agent needs more training to speed up.\n",
    "\n",
    "Instructions\n",
    "\n",
    "1. In `E8`, use `CHITEST()` with the appropriate ranges to calculate the p-value.\n",
    "2. Either `REJECT` or `FAIL TO REJECT` the Null Hypothesis based on the value in `E8`."
   ]
  },
  {
   "cell_type": "markdown",
   "id": "streaming-roller",
   "metadata": {},
   "source": [
    "## Are bank loans getting worse?\n",
    "\n",
    "The previous `CHITEST()` experiment had equal expected probabilities. However, it is often the case that there are multiple states of an experiment, referred to as _degrees of freedom_.\n",
    "Furthermore, not all experiment outcomes are equal - some may be more or less likely.\n",
    "\n",
    "In this exercise, a senior vice president at a bank believes the loans of the bank are getting worse. A loan can have these states:\n",
    "\n",
    "- **Current**: in good standing\n",
    "- **Grace Period**: the loan hasn't made a payment but is late by less than 30 days\n",
    "- **Late 30-60**: the loan is past due 30-60 days\n",
    "- **Late 60-90**: the loan is past due 60+ days\n",
    "- **Collections**: the loan was sent to collections to recieve _any_ payment\n",
    "- **Charged Off**: the loan has no value\n",
    "\n",
    "You decide to test this hypothesis against the bank's expected distribution for these states. For example, the bank expects 80% of loans to be current each month. A chi-squared test comparing the observed loan frequencies with expected will help you determine if the VP's estimation is correct.\n",
    "\n",
    "Instructions\n",
    "\n",
    "1. Perform a chi-squared test in `G9`.\n",
    "2. Either `REJECT` or `FAIL TO REJECT` the null hypothesis based on the p-value in `G9`."
   ]
  }
 ],
 "metadata": {
  "kernelspec": {
   "display_name": "Python 3",
   "language": "python",
   "name": "python3"
  },
  "language_info": {
   "codemirror_mode": {
    "name": "ipython",
    "version": 3
   },
   "file_extension": ".py",
   "mimetype": "text/x-python",
   "name": "python",
   "nbconvert_exporter": "python",
   "pygments_lexer": "ipython3",
   "version": "3.8.10"
  },
  "toc": {
   "base_numbering": 1,
   "nav_menu": {},
   "number_sections": false,
   "sideBar": true,
   "skip_h1_title": false,
   "title_cell": "Table of Contents",
   "title_sidebar": "Contents",
   "toc_cell": false,
   "toc_position": {},
   "toc_section_display": true,
   "toc_window_display": true
  },
  "varInspector": {
   "cols": {
    "lenName": 16,
    "lenType": 16,
    "lenVar": 40
   },
   "kernels_config": {
    "python": {
     "delete_cmd_postfix": "",
     "delete_cmd_prefix": "del ",
     "library": "var_list.py",
     "varRefreshCmd": "print(var_dic_list())"
    },
    "r": {
     "delete_cmd_postfix": ") ",
     "delete_cmd_prefix": "rm(",
     "library": "var_list.r",
     "varRefreshCmd": "cat(var_dic_list()) "
    }
   },
   "types_to_exclude": [
    "module",
    "function",
    "builtin_function_or_method",
    "instance",
    "_Feature"
   ],
   "window_display": false
  }
 },
 "nbformat": 4,
 "nbformat_minor": 5
}
