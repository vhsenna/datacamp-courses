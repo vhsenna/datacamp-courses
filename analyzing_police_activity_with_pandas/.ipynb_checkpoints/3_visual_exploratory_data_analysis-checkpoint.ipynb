{
 "cells": [
  {
   "cell_type": "markdown",
   "id": "exotic-cambodia",
   "metadata": {},
   "source": [
    "## Calculating the hourly arrest rate\n",
    "\n",
    "When a police officer stops a driver, a small percentage of those stops ends in an arrest. This is known as the arrest rate. In this exercise, you'll find out whether the arrest rate varies by time of day.\n",
    "\n",
    "First, you'll calculate the arrest rate across all stops in the `ri` DataFrame. Then, you'll calculate the hourly arrest rate by using the `hour` attribute of the index. The `hour` ranges from 0 to 23, in which:\n",
    "\n",
    "- 0 = midnight\n",
    "- 12 = noon\n",
    "- 23 = 11 PM\n",
    "\n",
    "Instructions\n",
    "\n",
    "1. Take the mean of the `is_arrested` column to calculate the overall arrest rate.\n",
    "2. Group by the `hour` attribute of the DataFrame index to calculate the hourly arrest rate.\n",
    "3. Save the hourly arrest rate Series as a new object, `hourly_arrest_rate`."
   ]
  },
  {
   "cell_type": "code",
   "execution_count": 7,
   "id": "western-packet",
   "metadata": {},
   "outputs": [],
   "source": [
    "# Import pandas\n",
    "import pandas as pd\n",
    "\n",
    "# Import dataset\n",
    "ri = pd.read_csv('police.csv')\n",
    "\n",
    "### Fix dataset (check 1_preparing_the_data_for_analysis)\n",
    "\n",
    "# Concatenate 'stop_date' and 'stop_time' (separated by a space)\n",
    "ri['stop_datetime'] = pd.to_datetime(ri['stop_date'].str.cat(ri['stop_time'], sep=' '))\n",
    "\n",
    "# Set stop_datetime as index\n",
    "ri.set_index('stop_datetime', inplace=True)\n",
    "\n",
    "# Drop the 'county_name' and 'state' columns\n",
    "ri.drop(['county_name', 'state'], axis='columns', inplace=True)\n",
    "\n",
    "# Drop all rows that are missing 'driver_gender'\n",
    "ri.dropna(subset=['driver_gender'], inplace=True)\n",
    "\n",
    "# Drop all rows that are missing 'is_arrested'\n",
    "ri.dropna(subset=['driver_gender'], inplace=True)\n",
    "\n",
    "# Change the data type of 'is_arrested' to 'bool'\n",
    "ri['is_arrested'] = ri['is_arrested'].astype(bool)"
   ]
  },
  {
   "cell_type": "code",
   "execution_count": 8,
   "id": "composite-philadelphia",
   "metadata": {},
   "outputs": [
    {
     "data": {
      "text/plain": [
       "0.0355690117407784"
      ]
     },
     "execution_count": 8,
     "metadata": {},
     "output_type": "execute_result"
    }
   ],
   "source": [
    "# Calculate the overall arrest rate\n",
    "ri['is_arrested'].mean()"
   ]
  },
  {
   "cell_type": "code",
   "execution_count": 9,
   "id": "provincial-number",
   "metadata": {},
   "outputs": [
    {
     "data": {
      "text/plain": [
       "stop_datetime\n",
       "0     0.051431\n",
       "1     0.064932\n",
       "2     0.060798\n",
       "3     0.060549\n",
       "4     0.048000\n",
       "5     0.042781\n",
       "6     0.013813\n",
       "7     0.013032\n",
       "8     0.021854\n",
       "9     0.025206\n",
       "10    0.028213\n",
       "11    0.028897\n",
       "12    0.037399\n",
       "13    0.030776\n",
       "14    0.030605\n",
       "15    0.030679\n",
       "16    0.035281\n",
       "17    0.040619\n",
       "18    0.038204\n",
       "19    0.032245\n",
       "20    0.038107\n",
       "21    0.064541\n",
       "22    0.048666\n",
       "23    0.047592\n",
       "Name: is_arrested, dtype: float64"
      ]
     },
     "execution_count": 9,
     "metadata": {},
     "output_type": "execute_result"
    }
   ],
   "source": [
    "# Calculate the hourly arrest rate\n",
    "ri.groupby(ri.index.hour).is_arrested.mean()"
   ]
  },
  {
   "cell_type": "code",
   "execution_count": 10,
   "id": "corporate-massachusetts",
   "metadata": {},
   "outputs": [],
   "source": [
    "# Save the hourly arrest rate\n",
    "hourly_arrest_rate = ri.groupby(ri.index.hour).is_arrested.mean()"
   ]
  },
  {
   "cell_type": "markdown",
   "id": "forty-reading",
   "metadata": {},
   "source": [
    "## Plotting the hourly arrest rate\n",
    "\n",
    "In this exercise, you'll create a line plot from the `hourly_arrest_rate` object. A line plot is appropriate in this case because you're showing how a quantity changes over time.\n",
    "\n",
    "This plot should help you to spot some trends that may not have been obvious when examining the raw numbers!\n",
    "\n",
    "Instructions\n",
    "\n",
    "1. Import `matplotlib.pyplot` using the alias `plt`.\n",
    "2. Create a line plot of `hourly_arrest_rate` using the `.plot()` method.\n",
    "3. Label the x-axis as `'Hour'`, label the y-axis as `'Arrest Rate'`, and title the plot `'Arrest Rate by Time of Day'`.\n",
    "4. Display the plot using the `.show()` function."
   ]
  },
  {
   "cell_type": "code",
   "execution_count": 11,
   "id": "parallel-lafayette",
   "metadata": {},
   "outputs": [
    {
     "data": {
      "image/png": "[encoded data removed]",
      "text/plain": [
       "<Figure size 432x288 with 1 Axes>"
      ]
     },
     "metadata": {
      "needs_background": "light"
     },
     "output_type": "display_data"
    }
   ],
   "source": [
    "# Import matplotlib.pyplot as plt\n",
    "import matplotlib.pyplot as plt\n",
    "\n",
    "# Create a line plot of 'hourly_arrest_rate'\n",
    "hourly_arrest_rate.plot()\n",
    "\n",
    "# Add the xlabel, ylabel, and title\n",
    "plt.xlabel('Hour')\n",
    "plt.ylabel('Arrest Rate')\n",
    "plt.title('Arrest Rate by Time of Day')\n",
    "\n",
    "# Display the plot\n",
    "plt.show()"
   ]
  },
  {
   "cell_type": "markdown",
   "id": "connected-panel",
   "metadata": {},
   "source": [
    "## Plotting drug-related stops\n",
    "\n",
    "In a small portion of traffic stops, drugs are found in the vehicle during a search. In this exercise, you'll assess whether these drug-related stops are becoming more common over time.\n",
    "\n",
    "The Boolean column `drugs_related_stop` indicates whether drugs were found during a given stop. You'll calculate the annual drug rate by resampling this column, and then you'll use a line plot to visualize how the rate has changed over time.\n",
    "\n",
    "Instructions\n",
    "\n",
    "1. Calculate the annual rate of drug-related stops by resampling the `drugs_related_stop` column (on the `'A'` frequency) and taking the mean.\n",
    "2. Save the annual drug rate Series as a new object, `annual_drug_rate`.\n",
    "3. Create a line plot of `annual_drug_rate` using the `.plot()` method.\n",
    "4. Display the plot using the `.show()` function."
   ]
  },
  {
   "cell_type": "code",
   "execution_count": 16,
   "id": "incredible-premises",
   "metadata": {
    "scrolled": true
   },
   "outputs": [
    {
     "name": "stdout",
     "output_type": "stream",
     "text": [
      "stop_datetime\n",
      "2005-12-31    0.006501\n",
      "2006-12-31    0.007258\n",
      "2007-12-31    0.007970\n",
      "2008-12-31    0.007505\n",
      "2009-12-31    0.009889\n",
      "2010-12-31    0.010081\n",
      "2011-12-31    0.009731\n",
      "2012-12-31    0.009921\n",
      "2013-12-31    0.013094\n",
      "2014-12-31    0.013826\n",
      "2015-12-31    0.012266\n",
      "Freq: A-DEC, Name: drugs_related_stop, dtype: float64\n"
     ]
    }
   ],
   "source": [
    "# Calculate the annual rate of drug-related stops\n",
    "print(ri['drugs_related_stop'].resample('A').mean())\n",
    "\n",
    "# Save the annual rate of drug-related stops\n",
    "annual_drug_rate = ri['drugs_related_stop'].resample('A').mean()"
   ]
  },
  {
   "cell_type": "code",
   "execution_count": 17,
   "id": "wanted-questionnaire",
   "metadata": {},
   "outputs": [
    {
     "data": {
      "image/png": "[encoded data removed]",
      "text/plain": [
       "<Figure size 432x288 with 1 Axes>"
      ]
     },
     "metadata": {
      "needs_background": "light"
     },
     "output_type": "display_data"
    }
   ],
   "source": [
    "# Create a line plot of 'annual_drug_rate'\n",
    "annual_drug_rate.plot()\n",
    "\n",
    "# Display the plot\n",
    "plt.show();"
   ]
  },
  {
   "cell_type": "markdown",
   "id": "national-playlist",
   "metadata": {},
   "source": [
    "## Comparing drug and search rates\n",
    "\n",
    "As you saw in the last exercise, the rate of drug-related stops increased significantly between 2005 and 2015. You might hypothesize that the rate of vehicle searches was also increasing, which would have led to an increase in drug-related stops even if more drivers were not carrying drugs.\n",
    "\n",
    "You can test this hypothesis by calculating the annual search rate, and then plotting it against the annual drug rate. If the hypothesis is true, then you'll see both rates increasing over time.\n",
    "\n",
    "Instructions\n",
    "\n",
    "1. Calculate the annual search rate by resampling the `search_conducted` column, and save the result as `annual_search_rate`.\n",
    "2. Concatenate `annual_drug_rate` and `annual_search_rate` along the columns axis, and save the result as `annual`.\n",
    "3. Create subplots of the drug and search rates from the `annual` DataFrame.\n",
    "4. Display the subplots."
   ]
  },
  {
   "cell_type": "code",
   "execution_count": 19,
   "id": "prompt-audio",
   "metadata": {
    "scrolled": true
   },
   "outputs": [
    {
     "data": {
      "image/png": "[encoded data removed]",
      "text/plain": [
       "<Figure size 432x288 with 2 Axes>"
      ]
     },
     "metadata": {
      "needs_background": "light"
     },
     "output_type": "display_data"
    }
   ],
   "source": [
    "# Calculate and save the annual search rate\n",
    "annual_search_rate = ri['search_conducted'].resample('A').mean()\n",
    "\n",
    "# Concatenate 'annual_drug_rate' and 'annual_search_rate'\n",
    "annual = pd.concat([annual_drug_rate, annual_search_rate], axis='columns')\n",
    "\n",
    "# Create subplots from 'annual'\n",
    "annual.plot(subplots=True)\n",
    "\n",
    "# Display the subplots\n",
    "plt.show();"
   ]
  },
  {
   "cell_type": "markdown",
   "id": "falling-spending",
   "metadata": {},
   "source": [
    "## Tallying violations by district\n",
    "\n",
    "The state of Rhode Island is broken into six police districts, also known as zones. How do the zones compare in terms of what violations are caught by police?\n",
    "\n",
    "In this exercise, you'll create a frequency table to determine how many violations of each type took place in each of the six zones. Then, you'll filter the table to focus on the \"K\" zones, which you'll examine further in the next exercise.\n",
    "\n",
    "Instructions\n",
    "\n",
    "1. Create a frequency table from the `ri` DataFrame's `district` and `violation` columns using the `pd.crosstab()` function.\n",
    "2. Save the frequency table as a new object, `all_zones`.\n",
    "3. Select rows `'Zone K1'` through `'Zone K3'` from `all_zones` using the `.loc[]` accessor.\n",
    "4. Save the smaller table as a new object, `k_zones`."
   ]
  },
  {
   "cell_type": "code",
   "execution_count": 24,
   "id": "dirty-table",
   "metadata": {},
   "outputs": [
    {
     "name": "stdout",
     "output_type": "stream",
     "text": [
      "violation  Equipment  Moving violation  Other  Registration/plates  Seat belt  \\\n",
      "district                                                                        \n",
      "Zone K1          672              1254    290                  120          0   \n",
      "Zone K2         2061              2962    942                  768        481   \n",
      "Zone K3         2302              2898    705                  695        638   \n",
      "Zone X1          296               671    143                   38         74   \n",
      "Zone X3         2049              3086    769                  671        820   \n",
      "Zone X4         3541              5353   1560                 1411        843   \n",
      "\n",
      "violation  Speeding  \n",
      "district             \n",
      "Zone K1        5960  \n",
      "Zone K2       10448  \n",
      "Zone K3       12322  \n",
      "Zone X1        1119  \n",
      "Zone X3        8779  \n",
      "Zone X4        9795  \n"
     ]
    }
   ],
   "source": [
    "# Create a frequency table of districts and violations\n",
    "print(pd.crosstab(ri['district'], ri['violation']))\n",
    "\n",
    "# Save the frequency table as 'all_zones'\n",
    "all_zones = pd.crosstab(ri['district'], ri['violation'])"
   ]
  },
  {
   "cell_type": "code",
   "execution_count": 25,
   "id": "current-penny",
   "metadata": {},
   "outputs": [
    {
     "name": "stdout",
     "output_type": "stream",
     "text": [
      "violation  Equipment  Moving violation  Other  Registration/plates  Seat belt  \\\n",
      "district                                                                        \n",
      "Zone K1          672              1254    290                  120          0   \n",
      "Zone K2         2061              2962    942                  768        481   \n",
      "Zone K3         2302              2898    705                  695        638   \n",
      "\n",
      "violation  Speeding  \n",
      "district             \n",
      "Zone K1        5960  \n",
      "Zone K2       10448  \n",
      "Zone K3       12322  \n"
     ]
    }
   ],
   "source": [
    "# Select rows 'Zone K1' through 'Zone K3'\n",
    "print(all_zones.loc['Zone K1': 'Zone K3'])\n",
    "\n",
    "# Save the smaller table as 'k_zones'\n",
    "k_zones = all_zones.loc['Zone K1': 'Zone K3']"
   ]
  },
  {
   "cell_type": "markdown",
   "id": "underlying-reflection",
   "metadata": {},
   "source": [
    "## Plotting violations by district\n",
    "\n",
    "Now that you've created a frequency table focused on the \"K\" zones, you'll visualize the data to help you compare what violations are being caught in each zone.\n",
    "\n",
    "First you'll create a bar plot, which is an appropriate plot type since you're comparing categorical data. Then you'll create a stacked bar plot in order to get a slightly different look at the data. Which plot do you find to be more insightful?\n",
    "\n",
    "Instructions\n",
    "\n",
    "1. Create a bar plot of `k_zones`.\n",
    "2. Display the plot and examine it. What do you notice about each of the zones?\n",
    "3. Create a stacked bar plot of `k_zones`.\n",
    "4. Display the plot and examine it. Do you notice anything different about the data than you did previously?"
   ]
  },
  {
   "cell_type": "code",
   "execution_count": 31,
   "id": "first-people",
   "metadata": {
    "scrolled": true
   },
   "outputs": [
    {
     "data": {
      "image/png": "[encoded data removed]",
      "text/plain": [
       "<Figure size 432x288 with 1 Axes>"
      ]
     },
     "metadata": {
      "needs_background": "light"
     },
     "output_type": "display_data"
    }
   ],
   "source": [
    "# Create a bar plot of 'k_zones'\n",
    "k_zones.plot(kind='bar')\n",
    "\n",
    "# Display the plot\n",
    "plt.show()"
   ]
  },
  {
   "cell_type": "code",
   "execution_count": 34,
   "id": "played-radiation",
   "metadata": {},
   "outputs": [
    {
     "data": {
      "image/png": "[encoded data removed]",
      "text/plain": [
       "<Figure size 432x288 with 1 Axes>"
      ]
     },
     "metadata": {
      "needs_background": "light"
     },
     "output_type": "display_data"
    }
   ],
   "source": [
    "# Create a stacked bar plot of 'k_zones'\n",
    "k_zones.plot(kind='bar', stacked=True)\n",
    "\n",
    "# Display the plot\n",
    "plt.show()"
   ]
  },
  {
   "cell_type": "markdown",
   "id": "russian-aaron",
   "metadata": {},
   "source": [
    "## Converting stop durations to numbers\n",
    "\n",
    "In the traffic stops dataset, the `stop_duration` column tells you approximately how long the driver was detained by the officer. Unfortunately, the durations are stored as strings, such as `'0-15 Min'`. How can you make this data easier to analyze?\n",
    "\n",
    "In this exercise, you'll convert the stop durations to integers. Because the precise durations are not available, you'll have to estimate the numbers using reasonable values:\n",
    "\n",
    "- Convert `'0-15 Min'` to `8`\n",
    "- Convert `'16-30 Min'` to `23`\n",
    "- Convert `'30+ Min'` to `45`\n",
    "\n",
    "Instructions\n",
    "\n",
    "1. Print the `unique values` in the `stop_duration` column. (This has been done for you.)\n",
    "2. Create a dictionary called `mapping` that maps the `stop_duration` strings to the integers specified above.\n",
    "3. Convert the `stop_duration` strings to integers using the `mapping`, and store the results in a new column called `stop_minutes`.\n",
    "4. Print the unique values in the `stop_minutes` column, to verify that the durations were properly converted to integers."
   ]
  },
  {
   "cell_type": "code",
   "execution_count": 37,
   "id": "numerical-heath",
   "metadata": {},
   "outputs": [
    {
     "name": "stdout",
     "output_type": "stream",
     "text": [
      "['0-15 Min' '16-30 Min' '30+ Min']\n",
      "[ 8 23 45]\n"
     ]
    }
   ],
   "source": [
    "# Print the unique values in 'stop_duration'\n",
    "print(ri['stop_duration'].unique())\n",
    "\n",
    "# Create a dictionary that maps strings to integers\n",
    "mapping = {'0-15 Min': 8, '16-30 Min': 23, '30+ Min': 45}\n",
    "\n",
    "# Convert the 'stop_duration' strings to integers using the 'mapping'\n",
    "ri['stop_minutes'] = ri['stop_duration'].map(mapping)\n",
    "\n",
    "# Print the unique values in 'stop_minutes'\n",
    "print(ri['stop_minutes'].unique())"
   ]
  },
  {
   "cell_type": "markdown",
   "id": "terminal-description",
   "metadata": {},
   "source": [
    "## Plotting stop length\n",
    "\n",
    "If you were stopped for a particular violation, how long might you expect to be detained?\n",
    "\n",
    "In this exercise, you'll visualize the average length of time drivers are stopped for each type of violation. Rather than using the `violation` column in this exercise, you'll use `violation_raw` since it contains more detailed descriptions of the violations.\n",
    "\n",
    "Instructions\n",
    "\n",
    "1. For each value in the `ri` DataFrame's `violation_raw` column, calculate the mean number of `stop_minutes` that a driver is detained.\n",
    "2. Save the resulting Series as a new object, `stop_length`.\n",
    "3. Sort `stop_length` by its values, and then visualize it using a horizontal bar plot.\n",
    "4. Display the plot."
   ]
  },
  {
   "cell_type": "code",
   "execution_count": 43,
   "id": "gothic-jerusalem",
   "metadata": {},
   "outputs": [
    {
     "name": "stdout",
     "output_type": "stream",
     "text": [
      "violation_raw\n",
      "APB                                 17.967033\n",
      "Call for Service                    22.124371\n",
      "Equipment/Inspection Violation      11.445655\n",
      "Motorist Assist/Courtesy            17.741463\n",
      "Other Traffic Violation             13.844490\n",
      "Registration Violation              13.736970\n",
      "Seatbelt Violation                   9.662815\n",
      "Special Detail/Directed Patrol      15.123632\n",
      "Speeding                            10.581562\n",
      "Suspicious Person                   14.910714\n",
      "Violation of City/Town Ordinance    13.254144\n",
      "Warrant                             24.055556\n",
      "Name: stop_minutes, dtype: float64\n"
     ]
    },
    {
     "data": {
      "image/png": "[encoded data removed]",
      "text/plain": [
       "<Figure size 432x288 with 1 Axes>"
      ]
     },
     "metadata": {
      "needs_background": "light"
     },
     "output_type": "display_data"
    }
   ],
   "source": [
    "# Calculate the mean 'stop_minutes' for each value in 'violation_raw'\n",
    "print(ri.groupby('violation_raw')['stop_minutes'].mean())\n",
    "\n",
    "# Save the resulting Series as 'stop_length'\n",
    "stop_length = ri.groupby('violation_raw')['stop_minutes'].mean()\n",
    "\n",
    "# Sort 'stop_length' by its values and create a horizontal bar plot\n",
    "stop_length.sort_values().plot(kind='barh')\n",
    "\n",
    "# Display the plot\n",
    "plt.show()"
   ]
  }
 ],
 "metadata": {
  "kernelspec": {
   "display_name": "Python 3",
   "language": "python",
   "name": "python3"
  },
  "language_info": {
   "codemirror_mode": {
    "name": "ipython",
    "version": 3
   },
   "file_extension": ".py",
   "mimetype": "text/x-python",
   "name": "python",
   "nbconvert_exporter": "python",
   "pygments_lexer": "ipython3",
   "version": "3.8.5"
  },
  "toc": {
   "base_numbering": 1,
   "nav_menu": {},
   "number_sections": true,
   "sideBar": true,
   "skip_h1_title": false,
   "title_cell": "Table of Contents",
   "title_sidebar": "Contents",
   "toc_cell": false,
   "toc_position": {},
   "toc_section_display": true,
   "toc_window_display": false
  },
  "varInspector": {
   "cols": {
    "lenName": 16,
    "lenType": 16,
    "lenVar": 40
   },
   "kernels_config": {
    "python": {
     "delete_cmd_postfix": "",
     "delete_cmd_prefix": "del ",
     "library": "var_list.py",
     "varRefreshCmd": "print(var_dic_list())"
    },
    "r": {
     "delete_cmd_postfix": ") ",
     "delete_cmd_prefix": "rm(",
     "library": "var_list.r",
     "varRefreshCmd": "cat(var_dic_list()) "
    }
   },
   "types_to_exclude": [
    "module",
    "function",
    "builtin_function_or_method",
    "instance",
    "_Feature"
   ],
   "window_display": false
  }
 },
 "nbformat": 4,
 "nbformat_minor": 5
}
