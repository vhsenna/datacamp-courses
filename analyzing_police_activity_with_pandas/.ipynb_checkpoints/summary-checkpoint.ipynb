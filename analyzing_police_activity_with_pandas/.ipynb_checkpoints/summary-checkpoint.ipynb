{
 "cells": [
  {
   "cell_type": "markdown",
   "id": "dominant-brick",
   "metadata": {},
   "source": [
    "# Analyzing Police Activity with pandas\n",
    "\n",
    "- 4 hours\n",
    "- 16 Videos\n",
    "- 50 Exercises\n",
    "\n",
    "## Course Description\n",
    "\n",
    "Now that you have learned the foundations of pandas, this course will give you the chance to apply that knowledge by answering interesting questions about a real dataset! You will explore the Stanford Open Policing Project dataset and analyze the impact of gender on police behavior. During the course, you will gain more practice cleaning messy data, creating visualizations, combining and reshaping datasets, and manipulating time series data. Analyzing Police Activity with pandas will give you valuable experience analyzing a dataset from start to finish, preparing you for your data science career!\n",
    "\n",
    "### 1 Preparing the data for analysis\n",
    "\n",
    "Before beginning your analysis, it is critical that you first examine and clean the dataset, to make working with it a more efficient process. In this chapter, you will practice fixing data types, handling missing values, and dropping columns and rows while learning about the Stanford Open Policing Project dataset.\n",
    "\n",
    "- Stanford Open Policing Project dataset\n",
    "- Examining the dataset\n",
    "- Dropping columns\n",
    "- Dropping rows\n",
    "- Using proper data types\n",
    "- Finding an incorrect data type\n",
    "- Fixing a data type\n",
    "- Creating a DatetimeIndex\n",
    "- Combining object columns\n",
    "- Setting the index\n",
    "\n",
    "### 2 Exploring the relationship between gender and policing\n",
    "\n",
    "Does the gender of a driver have an impact on police behavior during a traffic stop? In this chapter, you will explore that question while practicing filtering, grouping, method chaining, Boolean math, string methods, and more!\n",
    "\n",
    "- Do the genders commit different violations?\n",
    "- Examining traffic violations\n",
    "- Comparing violations by gender\n",
    "- Does gender affect who gets a ticket for speeding?\n",
    "- Filtering by multiple conditions\n",
    "- Comparing speeding outcomes by gender\n",
    "- Does gender affect whose vehicle is searched?\n",
    "- Calculating the search rate\n",
    "- Comparing search rates by gender\n",
    "- Adding a second factor to the analysis\n",
    "- Does gender affect who is frisked during a search?\n",
    "- Counting protective frisks\n",
    "- Comparing frisk rates by gender\n",
    "\n",
    "### 3 Visual exploratory data analysis\n",
    "\n",
    "Are you more likely to get arrested at a certain time of day? Are drug-related stops on the rise? In this chapter, you will answer these and other questions by analyzing the dataset visually, since plots can help you to understand trends in a way that examining the raw data cannot.\n",
    "\n",
    "- Does time of day affect arrest rate?\n",
    "- Calculating the hourly arrest rate\n",
    "- Plotting the hourly arrest rate\n",
    "- Are drug-related stops on the rise?\n",
    "- Plotting drug-related stops\n",
    "- Comparing drug and search rates\n",
    "- What violations are caught in each district?\n",
    "- Tallying violations by district\n",
    "- Plotting violations by district\n",
    "- How long might you be stopped for a violation?\n",
    "- Converting stop durations to numbers\n",
    "- Plotting stop length\n",
    "\n",
    "### 4 Analyzing the effect of weather on policing\n",
    "\n",
    "In this chapter, you will use a second dataset to explore the impact of weather conditions on police behavior during traffic stops. You will practice merging and reshaping datasets, assessing whether a data source is trustworthy, working with categorical data, and other advanced skills.\n",
    "\n",
    "- Exploring the weather dataset\n",
    "- Plotting the temperature\n",
    "- Plotting the temperature difference\n",
    "- Categorizing the weather\n",
    "- Counting bad weather conditions\n",
    "- Rating the weather conditions\n",
    "- Changing the data type to category\n",
    "- Merging datasets\n",
    "- Preparing the DataFrames\n",
    "- Merging the DataFrames\n",
    "- Does weather affect the arrest rate?\n",
    "- Comparing arrest rates by weather rating\n",
    "- Selecting from a multi-indexed Series\n",
    "- Reshaping the arrest rate data\n",
    "- Conclusion"
   ]
  }
 ],
 "metadata": {
  "kernelspec": {
   "display_name": "Python 3",
   "language": "python",
   "name": "python3"
  },
  "language_info": {
   "codemirror_mode": {
    "name": "ipython",
    "version": 3
   },
   "file_extension": ".py",
   "mimetype": "text/x-python",
   "name": "python",
   "nbconvert_exporter": "python",
   "pygments_lexer": "ipython3",
   "version": "3.8.5"
  },
  "toc": {
   "base_numbering": 1,
   "nav_menu": {},
   "number_sections": false,
   "sideBar": true,
   "skip_h1_title": false,
   "title_cell": "Table of Contents",
   "title_sidebar": "Contents",
   "toc_cell": false,
   "toc_position": {},
   "toc_section_display": true,
   "toc_window_display": true
  },
  "varInspector": {
   "cols": {
    "lenName": 16,
    "lenType": 16,
    "lenVar": 40
   },
   "kernels_config": {
    "python": {
     "delete_cmd_postfix": "",
     "delete_cmd_prefix": "del ",
     "library": "var_list.py",
     "varRefreshCmd": "print(var_dic_list())"
    },
    "r": {
     "delete_cmd_postfix": ") ",
     "delete_cmd_prefix": "rm(",
     "library": "var_list.r",
     "varRefreshCmd": "cat(var_dic_list()) "
    }
   },
   "types_to_exclude": [
    "module",
    "function",
    "builtin_function_or_method",
    "instance",
    "_Feature"
   ],
   "window_display": false
  }
 },
 "nbformat": 4,
 "nbformat_minor": 5
}
