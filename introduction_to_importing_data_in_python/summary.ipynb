{
 "cells": [
  {
   "cell_type": "markdown",
   "id": "accredited-silly",
   "metadata": {},
   "source": [
    "# Introduction to Importing Data in Python\n",
    "\n",
    "- 3 hours\n",
    "- 15 Videos\n",
    "- 54 Exercises\n",
    "\n",
    "## Course Description\n",
    "\n",
    "As a data scientist, you will need to clean data, wrangle and munge it, visualize it, build predictive models, and interpret these models. Before you can do so, however, you will need to know how to get data into Python. In this course, you'll learn the many ways to import data into Python: from flat files such as .txt and .csv; from files native to other software such as Excel spreadsheets, Stata, SAS, and MATLAB files; and from relational databases such as SQLite and PostgreSQL.\n",
    "\n",
    "### 1 Introduction and flat files\n",
    "\n",
    "In this chapter, you'll learn how to import data into Python from all types of flat files, which are a simple and prevalent form of data storage. You've previously learned how to use NumPy and pandas—you will learn how to use these packages to import flat files and customize your imports.\n",
    "\n",
    "- Welcome to the course!\n",
    "- Exploring your working directory\n",
    "- Importing entire text files\n",
    "- Importing text files line by line\n",
    "- The importance of flat files in data science\n",
    "- Pop quiz: examples of flat files\n",
    "- Pop quiz: what exactly are flat files?\n",
    "- Why we like flat files and the Zen of Python\n",
    "- Importing flat files using NumPy\n",
    "- Using NumPy to import flat files\n",
    "- Customizing your NumPy import\n",
    "- Importing different datatypes\n",
    "- Working with mixed datatypes (1)\n",
    "- Working with mixed datatypes (2)\n",
    "- Importing flat files using pandas\n",
    "- Using pandas to import flat files as DataFrames (1)\n",
    "- Using pandas to import flat files as DataFrames (2)\n",
    "- Customizing your pandas import\n",
    "- Final thoughts on data import\n",
    "\n",
    "### 2 Importing data from other file types\n",
    "\n",
    "You've learned how to import flat files, but there are many other file types you will potentially have to work with as a data scientist. In this chapter, you'll learn how to import data into Python from a wide array of important file types. These include pickled files, Excel spreadsheets, SAS and Stata files, HDF5 files, a file type for storing large quantities of numerical data, and MATLAB files.\n",
    "\n",
    "- Introduction to other file types\n",
    "- Not so flat any more\n",
    "- Loading a pickled file\n",
    "- Listing sheets in Excel files\n",
    "- Importing sheets from Excel files\n",
    "- Customizing your spreadsheet import\n",
    "- Importing SAS/Stata files using pandas\n",
    "- How to import SAS7BDAT\n",
    "- Importing SAS files\n",
    "- Using read_stata to import Stata files\n",
    "- Importing Stata files\n",
    "- Importing HDF5 files\n",
    "- Using File to import HDF5 files\n",
    "- Using h5py to import HDF5 files\n",
    "- Extracting data from your HDF5 file\n",
    "- Importing MATLAB files\n",
    "- Loading .mat files\n",
    "- The structure of .mat in Python\n",
    "\n",
    "### 3 Working with relational databases in Python\n",
    "\n",
    "In this chapter, you'll learn how to extract meaningful data from relational databases, an essential skill for any data scientist. You will learn about relational models, how to create SQL queries, how to filter and order your SQL records, and how to perform advanced queries by joining database tables.\n",
    "\n",
    "- Introduction to relational databases\n",
    "- Pop quiz: The relational model\n",
    "- Creating a database engine in Python\n",
    "- Creating a database engine\n",
    "- What are the tables in the database?\n",
    "- Querying relational databases in Python\n",
    "- The Hello World of SQL Queries!\n",
    "- Customizing the Hello World of SQL Queries\n",
    "- Filtering your database records using SQL's WHERE\n",
    "- Ordering your SQL records with ORDER BY\n",
    "- Querying relational databases directly with pandas\n",
    "- Pandas and The Hello World of SQL Queries!\n",
    "- Pandas for more complex querying\n",
    "- Advanced querying: exploiting table relationships\n",
    "- The power of SQL lies in relationships between tables: INNER JOIN\n",
    "- Filtering your INNER JOIN\n",
    "- Final Thoughts"
   ]
  }
 ],
 "metadata": {
  "kernelspec": {
   "display_name": "Python 3",
   "language": "python",
   "name": "python3"
  },
  "language_info": {
   "codemirror_mode": {
    "name": "ipython",
    "version": 3
   },
   "file_extension": ".py",
   "mimetype": "text/x-python",
   "name": "python",
   "nbconvert_exporter": "python",
   "pygments_lexer": "ipython3",
   "version": "3.8.5"
  },
  "toc": {
   "base_numbering": 1,
   "nav_menu": {},
   "number_sections": false,
   "sideBar": true,
   "skip_h1_title": false,
   "title_cell": "Table of Contents",
   "title_sidebar": "Contents",
   "toc_cell": false,
   "toc_position": {},
   "toc_section_display": true,
   "toc_window_display": false
  },
  "varInspector": {
   "cols": {
    "lenName": 16,
    "lenType": 16,
    "lenVar": 40
   },
   "kernels_config": {
    "python": {
     "delete_cmd_postfix": "",
     "delete_cmd_prefix": "del ",
     "library": "var_list.py",
     "varRefreshCmd": "print(var_dic_list())"
    },
    "r": {
     "delete_cmd_postfix": ") ",
     "delete_cmd_prefix": "rm(",
     "library": "var_list.r",
     "varRefreshCmd": "cat(var_dic_list()) "
    }
   },
   "types_to_exclude": [
    "module",
    "function",
    "builtin_function_or_method",
    "instance",
    "_Feature"
   ],
   "window_display": false
  }
 },
 "nbformat": 4,
 "nbformat_minor": 5
}
