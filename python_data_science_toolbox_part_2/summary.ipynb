{
 "cells": [
  {
   "cell_type": "markdown",
   "id": "vanilla-leone",
   "metadata": {},
   "source": [
    "# Python Data Science Toolbox (Part 2)\n",
    "\n",
    "- 4 hours\n",
    "- 12 Videos\n",
    "- 46 Exercises\n",
    "\n",
    "## Course Description\n",
    "\n",
    "In this second Python Data Science Toolbox course, you'll continue to build your Python data science skills. First, you'll learn about iterators, objects you have already encountered in the context of for loops. You'll then learn about list comprehensions, which are extremely handy tools for all data scientists working in Python. You'll end the course by working through a case study in which you'll apply all the techniques you learned in both parts of this course.\n",
    "\n",
    "### 1 Using iterators in PythonLand\n",
    "\n",
    "You'll learn all about iterators and iterables, which you have already worked with when writing for loops. You'll learn some handy functions that will allow you to effectively work with iterators. And you’ll finish the chapter with a use case that is pertinent to the world of data science and dealing with large amounts of data—in this case, data from Twitter that you will load in chunks using iterators.\n",
    "\n",
    "- Introduction to iterators\n",
    "- Iterators vs Iterables\n",
    "- Iterating over iterables (1)\n",
    "- Iterating over iterables (2)\n",
    "- Iterators as function arguments\n",
    "- Playing with iterators\n",
    "- Using enumerate\n",
    "- Using zip\n",
    "- Using * and zip to 'unzip'\n",
    "- Using iterators to load large files into memory\n",
    "- Processing large amounts of Twitter data\n",
    "- Extracting information for large amounts of Twitter data\n",
    "- Congratulations!\n",
    "\n",
    "### 2 List comprehensions and generators\n",
    "\n",
    "In this chapter, you'll build on your knowledge of iterators and be introduced to list comprehensions, which allow you to create complicated lists—and lists of lists—in one line of code! List comprehensions can dramatically simplify your code and make it more efficient, and will become a vital part of your Python data science toolbox. You'll then learn about generators, which are extremely helpful when working with large sequences of data that you may not want to store in memory, but instead generate on the fly.\n",
    "\n",
    "- List comprehensions\n",
    "- Write a basic list comprehension\n",
    "- List comprehension over iterables\n",
    "- Writing list comprehensions\n",
    "- Nested list comprehensions\n",
    "- Advanced comprehensions\n",
    "- Using conditionals in comprehensions (1)\n",
    "- Using conditionals in comprehensions (2)\n",
    "- Dict comprehensions\n",
    "- Introduction to generator expressions\n",
    "- List comprehensions vs generators\n",
    "- Write your own generator expressions\n",
    "- Changing the output in generator expressions\n",
    "- Build a generator\n",
    "- Wrapping up comprehensions and generators.\n",
    "- List comprehensions for time-stamped data\n",
    "- Conditional list comprehensions for time-stamped data\n",
    "\n",
    "### 3 Bringing it all together!\n",
    "\n",
    "This chapter will allow you to apply your newly acquired skills toward wrangling and extracting meaningful information from a real-world dataset—the World Bank's World Development Indicators. You'll have the chance to write your own functions and list comprehensions as you work with iterators and generators to solidify your Python data science chops.\n",
    "\n",
    "- Welcome to the case study!\n",
    "- Dictionaries for data science\n",
    "- Writing a function to help you\n",
    "- Using a list comprehension\n",
    "- Turning this all into a DataFrame\n",
    "- Using Python generators for streaming data\n",
    "- Processing data in chunks (1)\n",
    "- Writing a generator to load data in chunks (2)\n",
    "- Writing a generator to load data in chunks (3)\n",
    "- Using pandas' read_csv iterator for streaming data\n",
    "- Writing an iterator to load data in chunks (1)\n",
    "- Writing an iterator to load data in chunks (2)\n",
    "- Writing an iterator to load data in chunks (3)\n",
    "- Writing an iterator to load data in chunks (4)\n",
    "- Writing an iterator to load data in chunks (5)\n",
    "- Final thoughts"
   ]
  }
 ],
 "metadata": {
  "kernelspec": {
   "display_name": "Python 3",
   "language": "python",
   "name": "python3"
  },
  "language_info": {
   "codemirror_mode": {
    "name": "ipython",
    "version": 3
   },
   "file_extension": ".py",
   "mimetype": "text/x-python",
   "name": "python",
   "nbconvert_exporter": "python",
   "pygments_lexer": "ipython3",
   "version": "3.8.5"
  },
  "toc": {
   "base_numbering": 1,
   "nav_menu": {},
   "number_sections": false,
   "sideBar": true,
   "skip_h1_title": false,
   "title_cell": "Table of Contents",
   "title_sidebar": "Contents",
   "toc_cell": false,
   "toc_position": {},
   "toc_section_display": true,
   "toc_window_display": false
  },
  "varInspector": {
   "cols": {
    "lenName": 16,
    "lenType": 16,
    "lenVar": 40
   },
   "kernels_config": {
    "python": {
     "delete_cmd_postfix": "",
     "delete_cmd_prefix": "del ",
     "library": "var_list.py",
     "varRefreshCmd": "print(var_dic_list())"
    },
    "r": {
     "delete_cmd_postfix": ") ",
     "delete_cmd_prefix": "rm(",
     "library": "var_list.r",
     "varRefreshCmd": "cat(var_dic_list()) "
    }
   },
   "types_to_exclude": [
    "module",
    "function",
    "builtin_function_or_method",
    "instance",
    "_Feature"
   ],
   "window_display": false
  }
 },
 "nbformat": 4,
 "nbformat_minor": 5
}
