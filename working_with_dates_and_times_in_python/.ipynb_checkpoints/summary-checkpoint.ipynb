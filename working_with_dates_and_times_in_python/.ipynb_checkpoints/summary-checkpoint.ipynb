{
 "cells": [
  {
   "cell_type": "markdown",
   "id": "behind-disaster",
   "metadata": {},
   "source": [
    "# Working with Dates and Times in Python\n",
    "\n",
    "- 4 hours\n",
    "- 14 Videos\n",
    "- 48 Exercises\n",
    "\n",
    "## Course Description\n",
    "\n",
    "You'll probably never have a time machine, but how about a machine for analyzing time? As soon as time enters any analysis, things can get weird. It's easy to get tripped up on day and month boundaries, time zones, daylight saving time, and all sorts of other things that can confuse the unprepared. If you're going to do any kind of analysis involving time, you’ll want to use Python to sort it out. Working with data sets on hurricanes and bike trips, we’ll cover counting events, figuring out how much time has elapsed between events and plotting data over time. You'll work in both standard Python and in Pandas, and we'll touch on the dateutil library, the only timezone library endorsed by the official Python documentation. After this course, you'll confidently handle date and time data in any format like a champion.\n",
    "\n",
    "### 1 Dates and Calendars\n",
    "\n",
    "Hurricanes (also known as cyclones or typhoons) hit the U.S. state of Florida several times per year. To start off this course, you'll learn how to work with date objects in Python, starting with the dates of every hurricane to hit Florida since 1950. You'll learn how Python handles dates, common date operations, and the right way to format dates to avoid confusion.\n",
    "\n",
    "- Dates in Python\n",
    "- Which day of the week?\n",
    "- How many hurricanes come early?\n",
    "- Math with dates\n",
    "- Subtracting dates\n",
    "- Counting events per calendar month\n",
    "- Putting a list of dates in order\n",
    "- Turning dates into strings\n",
    "- Printing dates in a friendly format\n",
    "- Representing dates in different ways\n",
    "\n",
    "### 2 Combining Dates and Times\n",
    "\n",
    "Bike sharing programs have swept through cities around the world -- and luckily for us, every trip gets recorded! Working with all of the comings and goings of one bike in Washington, D.C., you'll practice working with dates and times together. You'll parse dates and times from text, analyze peak trip times, calculate ride durations, and more.\n",
    "\n",
    "- Dates and times\n",
    "- Creating datetimes by hand\n",
    "- Counting events before and after noon\n",
    "- Printing and parsing datetimes\n",
    "- Turning strings into datetimes\n",
    "- Parsing pairs of strings as datetimes\n",
    "- Recreating ISO format with strftime()\n",
    "- Unix timestamps\n",
    "- Working with durations\n",
    "- Turning pairs of datetimes into durations\n",
    "- Average trip time\n",
    "- The long and the short of why time is hard\n",
    "\n",
    "### 3 Time Zones and Daylight Saving\n",
    "\n",
    "In this chapter, you'll learn to confidently tackle the time-related topic that causes people the most trouble: time zones and daylight saving. Continuing with our bike data, you'll learn how to compare clocks around the world, how to gracefully handle \"spring forward\" and \"fall back,\" and how to get up-to-date timezone data from the dateutil library.\n",
    "\n",
    "- UTC offsets\n",
    "- Creating timezone aware datetimes\n",
    "- Setting timezones\n",
    "- What time did the bike leave in UTC?\n",
    "- Time zone database\n",
    "- Putting the bike trips into the right time zone\n",
    "- What time did the bike leave? (Global edition)\n",
    "- Starting daylight saving time\n",
    "- How many hours elapsed around daylight saving?\n",
    "- March 29, throughout a decade\n",
    "- Ending daylight saving time\n",
    "- Finding ambiguous datetimes\n",
    "- Cleaning daylight saving data with fold\n",
    "\n",
    "### 4 Easy and Powerful: Dates and Times in Pandas\n",
    "\n",
    "To conclude this course, you'll apply everything you've learned about working with dates and times in standard Python to working with dates and times in Pandas. With additional information about each bike ride, such as what station it started and stopped at and whether or not the rider had a yearly membership, you'll be able to dig much more deeply into the bike trip data. In this chapter, you'll cover powerful Pandas operations, such as grouping and plotting results by time.\n",
    "\n",
    "- Reading date and time data in Pandas\n",
    "- Loading a csv file in Pandas\n",
    "- Making timedelta columns\n",
    "- Summarizing datetime data in Pandas\n",
    "- How many joyrides?\n",
    "- It's getting cold outside, W20529\n",
    "- Members vs casual riders over time\n",
    "- Combining groupby() and resample()\n",
    "- Additional datetime methods in Pandas\n",
    "- Timezones in Pandas\n",
    "- How long per weekday?\n",
    "- How long between rides?\n",
    "- Wrap-up"
   ]
  }
 ],
 "metadata": {
  "kernelspec": {
   "display_name": "Python 3",
   "language": "python",
   "name": "python3"
  },
  "language_info": {
   "codemirror_mode": {
    "name": "ipython",
    "version": 3
   },
   "file_extension": ".py",
   "mimetype": "text/x-python",
   "name": "python",
   "nbconvert_exporter": "python",
   "pygments_lexer": "ipython3",
   "version": "3.8.5"
  },
  "toc": {
   "base_numbering": 1,
   "nav_menu": {},
   "number_sections": false,
   "sideBar": true,
   "skip_h1_title": false,
   "title_cell": "Table of Contents",
   "title_sidebar": "Contents",
   "toc_cell": false,
   "toc_position": {},
   "toc_section_display": true,
   "toc_window_display": false
  },
  "varInspector": {
   "cols": {
    "lenName": 16,
    "lenType": 16,
    "lenVar": 40
   },
   "kernels_config": {
    "python": {
     "delete_cmd_postfix": "",
     "delete_cmd_prefix": "del ",
     "library": "var_list.py",
     "varRefreshCmd": "print(var_dic_list())"
    },
    "r": {
     "delete_cmd_postfix": ") ",
     "delete_cmd_prefix": "rm(",
     "library": "var_list.r",
     "varRefreshCmd": "cat(var_dic_list()) "
    }
   },
   "types_to_exclude": [
    "module",
    "function",
    "builtin_function_or_method",
    "instance",
    "_Feature"
   ],
   "window_display": false
  }
 },
 "nbformat": 4,
 "nbformat_minor": 5
}
