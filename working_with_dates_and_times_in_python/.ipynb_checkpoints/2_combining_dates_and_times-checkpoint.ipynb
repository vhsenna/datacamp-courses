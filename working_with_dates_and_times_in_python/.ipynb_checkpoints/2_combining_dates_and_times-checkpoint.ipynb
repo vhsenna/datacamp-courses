{
 "cells": [
  {
   "cell_type": "markdown",
   "id": "agricultural-emergency",
   "metadata": {},
   "source": [
    "## Creating datetimes by hand\n",
    "\n",
    "Often you create `datetime` objects based on outside data. Sometimes though, you want to create a `datetime` object from scratch.\n",
    "\n",
    "You're going to create a few different `datetime` objects from scratch to get the hang of that process. These come from the bikeshare data set that you'll use throughout the rest of the chapter.\n",
    "\n",
    "Instructions\n",
    "\n",
    "1. \n",
    "    1. Import the `datetime` class.\n",
    "    2. Create a `datetime` for October 1, 2017 at 15:26:26.\n",
    "    3. Print the results in ISO format.\n",
    "2. \n",
    "    1. Import the `datetime` class.\n",
    "    2. Create a `datetime` for December 31, 2017 at 15:19:13.\n",
    "    3. Print the results in ISO format.\n",
    "3. Create a new datetime by replacing the year in dt with 1917 (instead of 2017)"
   ]
  },
  {
   "cell_type": "code",
   "execution_count": 1,
   "id": "nonprofit-place",
   "metadata": {},
   "outputs": [
    {
     "name": "stdout",
     "output_type": "stream",
     "text": [
      "2017-10-01T15:26:26\n"
     ]
    }
   ],
   "source": [
    "# Import datetime\n",
    "from datetime import datetime\n",
    "\n",
    "# Create a datetime object\n",
    "dt = datetime(2017, 10, 1, 15, 26, 26)\n",
    "\n",
    "# Print the results in ISO 8601 format\n",
    "print(dt.isoformat())"
   ]
  },
  {
   "cell_type": "code",
   "execution_count": 2,
   "id": "independent-express",
   "metadata": {},
   "outputs": [
    {
     "name": "stdout",
     "output_type": "stream",
     "text": [
      "2017-12-31T15:19:13\n"
     ]
    }
   ],
   "source": [
    "# Import datetime\n",
    "from datetime import datetime\n",
    "\n",
    "# Create a datetime object\n",
    "dt = datetime(2017, 12, 31, 15, 19, 13)\n",
    "\n",
    "# Print the results in ISO 8601 format\n",
    "print(dt.isoformat())"
   ]
  },
  {
   "cell_type": "code",
   "execution_count": 3,
   "id": "usual-exemption",
   "metadata": {},
   "outputs": [
    {
     "name": "stdout",
     "output_type": "stream",
     "text": [
      "1917-12-31 15:19:13\n"
     ]
    }
   ],
   "source": [
    "# Replace the year with 1917\n",
    "dt_old = dt.replace(year=1917)\n",
    "\n",
    "# Print the results in ISO 8601 format\n",
    "print(dt_old)"
   ]
  },
  {
   "cell_type": "markdown",
   "id": "silver-dominican",
   "metadata": {},
   "source": [
    "## Counting events before and after noon\n",
    "\n",
    "In this chapter, you will be working with a list of all bike trips for one Capital Bikeshare bike, W20529, from October 1, 2017 to December 31, 2017. This list has been loaded as `onebike_datetimes`.\n",
    "\n",
    "Each element of the list is a dictionary with two entries: `start` is a `datetime` object corresponding to the start of a trip (when a bike is removed from the dock) and `end` is a `datetime` object corresponding to the end of a trip (when a bike is put back into a dock).\n",
    "\n",
    "You can use this data set to understand better how this bike was used. Did more trips start before noon or after noon?\n",
    "\n",
    "Instructions\n",
    "\n",
    "1. Within the `for` loop, complete the `if` statement to check if the trip started before noon.\n",
    "2. Within the `for` loop, increment `trip_counts['AM']` if the trip started before noon, and `trip_counts['PM']` if it started after noon."
   ]
  },
  {
   "cell_type": "code",
   "execution_count": 8,
   "id": "strange-catalog",
   "metadata": {},
   "outputs": [],
   "source": [
    "# Import datetime\n",
    "import datetime\n",
    "\n",
    "onebike_datetimes = [{'start': datetime.datetime(2017, 10, 1, 15, 23, 25), 'end': datetime.datetime(2017, 10, 1, 15, 26, 26)}, {'start': datetime.datetime(2017, 10, 1, 15, 42, 57), 'end': datetime.datetime(2017, 10, 1, 17, 49, 59)}, {'start': datetime.datetime(2017, 10, 2, 6, 37, 10), 'end': datetime.datetime(2017, 10, 2, 6, 42, 53)}, {'start': datetime.datetime(2017, 10, 2, 8, 56, 45), 'end': datetime.datetime(2017, 10, 2, 9, 18, 3)}, {'start': datetime.datetime(2017, 10, 2, 18, 23, 48), 'end': datetime.datetime(2017, 10, 2, 18, 45, 5)}, {'start': datetime.datetime(2017, 10, 2, 18, 48, 8), 'end': datetime.datetime(2017, 10, 2, 19, 10, 54)}, {'start': datetime.datetime(2017, 10, 2, 19, 18, 10), 'end': datetime.datetime(2017, 10, 2, 19, 31, 45)}, {'start': datetime.datetime(2017, 10, 2, 19, 37, 32), 'end': datetime.datetime(2017, 10, 2, 19, 46, 37)}, {'start': datetime.datetime(2017, 10, 3, 8, 24, 16), 'end': datetime.datetime(2017, 10, 3, 8, 32, 27)}, {'start': datetime.datetime(2017, 10, 3, 18, 17, 7), 'end': datetime.datetime(2017, 10, 3, 18, 27, 46)}, {'start': datetime.datetime(2017, 10, 3, 19, 24, 10), 'end': datetime.datetime(2017, 10, 3, 19, 52, 8)}, {'start': datetime.datetime(2017, 10, 3, 20, 17, 6), 'end': datetime.datetime(2017, 10, 3, 20, 23, 52)}, {'start': datetime.datetime(2017, 10, 3, 20, 45, 21), 'end': datetime.datetime(2017, 10, 3, 20, 57, 10)}, {'start': datetime.datetime(2017, 10, 4, 7, 4, 57), 'end': datetime.datetime(2017, 10, 4, 7, 13, 31)}, {'start': datetime.datetime(2017, 10, 4, 7, 13, 42), 'end': datetime.datetime(2017, 10, 4, 7, 21, 54)}, {'start': datetime.datetime(2017, 10, 4, 14, 22, 12), 'end': datetime.datetime(2017, 10, 4, 14, 50)}, {'start': datetime.datetime(2017, 10, 4, 15, 7, 27), 'end': datetime.datetime(2017, 10, 4, 15, 44, 49)}, {'start': datetime.datetime(2017, 10, 4, 15, 46, 41), 'end': datetime.datetime(2017, 10, 4, 16, 32, 33)}, {'start': datetime.datetime(2017, 10, 4, 16, 34, 44), 'end': datetime.datetime(2017, 10, 4, 16, 46, 59)}, {'start': datetime.datetime(2017, 10, 4, 17, 26, 6), 'end': datetime.datetime(2017, 10, 4, 17, 31, 36)}, {'start': datetime.datetime(2017, 10, 4, 17, 42, 3), 'end': datetime.datetime(2017, 10, 4, 17, 50, 41)}, {'start': datetime.datetime(2017, 10, 5, 7, 49, 2), 'end': datetime.datetime(2017, 10, 5, 8, 12, 55)}, {'start': datetime.datetime(2017, 10, 5, 8, 26, 21), 'end': datetime.datetime(2017, 10, 5, 8, 29, 45)}, {'start': datetime.datetime(2017, 10, 5, 8, 33, 27), 'end': datetime.datetime(2017, 10, 5, 8, 38, 31)}, {'start': datetime.datetime(2017, 10, 5, 16, 35, 35), 'end': datetime.datetime(2017, 10, 5, 16, 51, 52)}, {'start': datetime.datetime(2017, 10, 5, 17, 53, 31), 'end': datetime.datetime(2017, 10, 5, 18, 16, 50)}, {'start': datetime.datetime(2017, 10, 6, 8, 17, 17), 'end': datetime.datetime(2017, 10, 6, 8, 38, 1)}, {'start': datetime.datetime(2017, 10, 6, 11, 39, 40), 'end': datetime.datetime(2017, 10, 6, 11, 50, 38)}, {'start': datetime.datetime(2017, 10, 6, 12, 59, 54), 'end': datetime.datetime(2017, 10, 6, 13, 13, 14)}, {'start': datetime.datetime(2017, 10, 6, 13, 43, 5), 'end': datetime.datetime(2017, 10, 6, 14, 14, 56)}, {'start': datetime.datetime(2017, 10, 6, 14, 28, 15), 'end': datetime.datetime(2017, 10, 6, 15, 9, 26)}, {'start': datetime.datetime(2017, 10, 6, 15, 50, 10), 'end': datetime.datetime(2017, 10, 6, 16, 12, 34)}, {'start': datetime.datetime(2017, 10, 6, 16, 32, 16), 'end': datetime.datetime(2017, 10, 6, 16, 39, 31)}, {'start': datetime.datetime(2017, 10, 6, 16, 44, 8), 'end': datetime.datetime(2017, 10, 6, 16, 48, 39)}, {'start': datetime.datetime(2017, 10, 6, 16, 53, 43), 'end': datetime.datetime(2017, 10, 6, 17, 9, 3)}, {'start': datetime.datetime(2017, 10, 7, 11, 38, 55), 'end': datetime.datetime(2017, 10, 7, 11, 53, 6)}, {'start': datetime.datetime(2017, 10, 7, 14, 3, 36), 'end': datetime.datetime(2017, 10, 7, 14, 7, 5)}, {'start': datetime.datetime(2017, 10, 7, 14, 20, 3), 'end': datetime.datetime(2017, 10, 7, 14, 27, 36)}, {'start': datetime.datetime(2017, 10, 7, 14, 30, 50), 'end': datetime.datetime(2017, 10, 7, 14, 44, 51)}, {'start': datetime.datetime(2017, 10, 8, 0, 28, 26), 'end': datetime.datetime(2017, 10, 8, 0, 30, 48)}, {'start': datetime.datetime(2017, 10, 8, 11, 16, 21), 'end': datetime.datetime(2017, 10, 8, 11, 33, 24)}, {'start': datetime.datetime(2017, 10, 8, 12, 37, 3), 'end': datetime.datetime(2017, 10, 8, 13, 1, 29)}, {'start': datetime.datetime(2017, 10, 8, 13, 30, 37), 'end': datetime.datetime(2017, 10, 8, 13, 57, 53)}, {'start': datetime.datetime(2017, 10, 8, 14, 16, 40), 'end': datetime.datetime(2017, 10, 8, 15, 7, 19)}, {'start': datetime.datetime(2017, 10, 8, 15, 23, 50), 'end': datetime.datetime(2017, 10, 8, 15, 50, 1)}, {'start': datetime.datetime(2017, 10, 8, 15, 54, 12), 'end': datetime.datetime(2017, 10, 8, 16, 17, 42)}, {'start': datetime.datetime(2017, 10, 8, 16, 28, 52), 'end': datetime.datetime(2017, 10, 8, 16, 35, 18)}, {'start': datetime.datetime(2017, 10, 8, 23, 8, 14), 'end': datetime.datetime(2017, 10, 8, 23, 33, 41)}, {'start': datetime.datetime(2017, 10, 8, 23, 34, 49), 'end': datetime.datetime(2017, 10, 8, 23, 45, 11)}, {'start': datetime.datetime(2017, 10, 8, 23, 46, 47), 'end': datetime.datetime(2017, 10, 9, 0, 10, 57)}, {'start': datetime.datetime(2017, 10, 9, 0, 12, 58), 'end': datetime.datetime(2017, 10, 9, 0, 36, 40)}, {'start': datetime.datetime(2017, 10, 9, 0, 37, 2), 'end': datetime.datetime(2017, 10, 9, 0, 53, 33)}, {'start': datetime.datetime(2017, 10, 9, 1, 23, 29), 'end': datetime.datetime(2017, 10, 9, 1, 48, 13)}, {'start': datetime.datetime(2017, 10, 9, 1, 49, 25), 'end': datetime.datetime(2017, 10, 9, 2, 13, 35)}, {'start': datetime.datetime(2017, 10, 9, 2, 14, 11), 'end': datetime.datetime(2017, 10, 9, 2, 29, 40)}, {'start': datetime.datetime(2017, 10, 9, 13, 4, 32), 'end': datetime.datetime(2017, 10, 9, 13, 13, 25)}, {'start': datetime.datetime(2017, 10, 9, 14, 30, 10), 'end': datetime.datetime(2017, 10, 9, 14, 38, 55)}, {'start': datetime.datetime(2017, 10, 9, 15, 6, 47), 'end': datetime.datetime(2017, 10, 9, 15, 11, 30)}, {'start': datetime.datetime(2017, 10, 9, 16, 43, 25), 'end': datetime.datetime(2017, 10, 9, 16, 45, 38)}, {'start': datetime.datetime(2017, 10, 10, 15, 32, 58), 'end': datetime.datetime(2017, 10, 10, 15, 51, 24)}, {'start': datetime.datetime(2017, 10, 10, 16, 47, 55), 'end': datetime.datetime(2017, 10, 10, 17, 3, 47)}, {'start': datetime.datetime(2017, 10, 10, 17, 51, 5), 'end': datetime.datetime(2017, 10, 10, 18, 0, 18)}, {'start': datetime.datetime(2017, 10, 10, 18, 8, 12), 'end': datetime.datetime(2017, 10, 10, 18, 19, 11)}, {'start': datetime.datetime(2017, 10, 10, 19, 9, 35), 'end': datetime.datetime(2017, 10, 10, 19, 14, 32)}, {'start': datetime.datetime(2017, 10, 10, 19, 17, 11), 'end': datetime.datetime(2017, 10, 10, 19, 23, 8)}, {'start': datetime.datetime(2017, 10, 10, 19, 28, 11), 'end': datetime.datetime(2017, 10, 10, 19, 44, 40)}, {'start': datetime.datetime(2017, 10, 10, 19, 55, 35), 'end': datetime.datetime(2017, 10, 10, 20, 11, 54)}, {'start': datetime.datetime(2017, 10, 10, 22, 20, 43), 'end': datetime.datetime(2017, 10, 10, 22, 33, 23)}, {'start': datetime.datetime(2017, 10, 11, 4, 40, 52), 'end': datetime.datetime(2017, 10, 11, 4, 59, 22)}, {'start': datetime.datetime(2017, 10, 11, 6, 28, 58), 'end': datetime.datetime(2017, 10, 11, 6, 40, 13)}, {'start': datetime.datetime(2017, 10, 11, 16, 41, 7), 'end': datetime.datetime(2017, 10, 11, 17, 1, 14)}, {'start': datetime.datetime(2017, 10, 12, 8, 8, 30), 'end': datetime.datetime(2017, 10, 12, 8, 35, 3)}, {'start': datetime.datetime(2017, 10, 12, 8, 47, 2), 'end': datetime.datetime(2017, 10, 12, 8, 59, 50)}, {'start': datetime.datetime(2017, 10, 12, 13, 13, 39), 'end': datetime.datetime(2017, 10, 12, 13, 37, 45)}, {'start': datetime.datetime(2017, 10, 12, 13, 40, 12), 'end': datetime.datetime(2017, 10, 12, 13, 48, 17)}, {'start': datetime.datetime(2017, 10, 12, 13, 49, 56), 'end': datetime.datetime(2017, 10, 12, 13, 53, 16)}, {'start': datetime.datetime(2017, 10, 12, 14, 33, 18), 'end': datetime.datetime(2017, 10, 12, 14, 39, 57)}, {'start': datetime.datetime(2017, 10, 13, 15, 55, 39), 'end': datetime.datetime(2017, 10, 13, 15, 59, 41)}, {'start': datetime.datetime(2017, 10, 17, 17, 58, 48), 'end': datetime.datetime(2017, 10, 17, 18, 1, 38)}, {'start': datetime.datetime(2017, 10, 19, 20, 21, 45), 'end': datetime.datetime(2017, 10, 19, 20, 29, 15)}, {'start': datetime.datetime(2017, 10, 19, 21, 11, 39), 'end': datetime.datetime(2017, 10, 19, 21, 29, 37)}, {'start': datetime.datetime(2017, 10, 19, 21, 30, 1), 'end': datetime.datetime(2017, 10, 19, 21, 47, 23)}, {'start': datetime.datetime(2017, 10, 19, 21, 47, 34), 'end': datetime.datetime(2017, 10, 19, 21, 57, 7)}, {'start': datetime.datetime(2017, 10, 19, 21, 57, 24), 'end': datetime.datetime(2017, 10, 19, 22, 9, 52)}, {'start': datetime.datetime(2017, 10, 21, 12, 24, 9), 'end': datetime.datetime(2017, 10, 21, 12, 36, 24)}, {'start': datetime.datetime(2017, 10, 21, 12, 36, 37), 'end': datetime.datetime(2017, 10, 21, 12, 42, 13)}, {'start': datetime.datetime(2017, 10, 21, 13, 47, 43), 'end': datetime.datetime(2017, 10, 22, 11, 9, 36)}, {'start': datetime.datetime(2017, 10, 22, 13, 28, 53), 'end': datetime.datetime(2017, 10, 22, 13, 31, 44)}, {'start': datetime.datetime(2017, 10, 22, 13, 47, 5), 'end': datetime.datetime(2017, 10, 22, 13, 56, 33)}, {'start': datetime.datetime(2017, 10, 22, 14, 26, 41), 'end': datetime.datetime(2017, 10, 22, 14, 32, 39)}, {'start': datetime.datetime(2017, 10, 22, 14, 54, 41), 'end': datetime.datetime(2017, 10, 22, 15, 9, 58)}, {'start': datetime.datetime(2017, 10, 22, 16, 40, 29), 'end': datetime.datetime(2017, 10, 22, 16, 51, 40)}, {'start': datetime.datetime(2017, 10, 22, 17, 58, 46), 'end': datetime.datetime(2017, 10, 22, 18, 28, 37)}, {'start': datetime.datetime(2017, 10, 22, 18, 45, 16), 'end': datetime.datetime(2017, 10, 22, 18, 50, 34)}, {'start': datetime.datetime(2017, 10, 22, 18, 56, 22), 'end': datetime.datetime(2017, 10, 22, 19, 11, 10)}, {'start': datetime.datetime(2017, 10, 23, 10, 14, 8), 'end': datetime.datetime(2017, 10, 23, 10, 35, 32)}, {'start': datetime.datetime(2017, 10, 23, 11, 29, 36), 'end': datetime.datetime(2017, 10, 23, 14, 38, 34)}, {'start': datetime.datetime(2017, 10, 23, 15, 4, 52), 'end': datetime.datetime(2017, 10, 23, 15, 32, 58)}, {'start': datetime.datetime(2017, 10, 23, 15, 33, 48), 'end': datetime.datetime(2017, 10, 23, 17, 6, 47)}, {'start': datetime.datetime(2017, 10, 23, 17, 13, 16), 'end': datetime.datetime(2017, 10, 23, 19, 31, 26)}, {'start': datetime.datetime(2017, 10, 23, 19, 55, 3), 'end': datetime.datetime(2017, 10, 23, 20, 25, 53)}, {'start': datetime.datetime(2017, 10, 23, 21, 47, 54), 'end': datetime.datetime(2017, 10, 23, 22, 18, 4)}, {'start': datetime.datetime(2017, 10, 23, 22, 34, 12), 'end': datetime.datetime(2017, 10, 23, 22, 48, 42)}, {'start': datetime.datetime(2017, 10, 24, 6, 55, 1), 'end': datetime.datetime(2017, 10, 24, 7, 2, 17)}, {'start': datetime.datetime(2017, 10, 24, 14, 56, 7), 'end': datetime.datetime(2017, 10, 24, 15, 3, 16)}, {'start': datetime.datetime(2017, 10, 24, 15, 51, 36), 'end': datetime.datetime(2017, 10, 24, 15, 59, 50)}, {'start': datetime.datetime(2017, 10, 24, 16, 31, 10), 'end': datetime.datetime(2017, 10, 24, 16, 55, 9)}, {'start': datetime.datetime(2017, 10, 28, 14, 26, 14), 'end': datetime.datetime(2017, 10, 28, 14, 32, 34)}, {'start': datetime.datetime(2017, 11, 1, 9, 41, 54), 'end': datetime.datetime(2017, 11, 1, 9, 52, 23)}, {'start': datetime.datetime(2017, 11, 1, 20, 16, 11), 'end': datetime.datetime(2017, 11, 1, 20, 32, 13)}, {'start': datetime.datetime(2017, 11, 2, 19, 44, 29), 'end': datetime.datetime(2017, 11, 2, 19, 50, 56)}, {'start': datetime.datetime(2017, 11, 2, 20, 14, 37), 'end': datetime.datetime(2017, 11, 2, 20, 30, 29)}, {'start': datetime.datetime(2017, 11, 2, 21, 35, 47), 'end': datetime.datetime(2017, 11, 2, 21, 38, 57)}, {'start': datetime.datetime(2017, 11, 3, 9, 59, 27), 'end': datetime.datetime(2017, 11, 3, 10, 11, 46)}, {'start': datetime.datetime(2017, 11, 3, 10, 13, 22), 'end': datetime.datetime(2017, 11, 3, 10, 32, 2)}, {'start': datetime.datetime(2017, 11, 3, 10, 44, 25), 'end': datetime.datetime(2017, 11, 3, 10, 50, 34)}, {'start': datetime.datetime(2017, 11, 3, 16, 6, 43), 'end': datetime.datetime(2017, 11, 3, 16, 44, 38)}, {'start': datetime.datetime(2017, 11, 3, 16, 45, 54), 'end': datetime.datetime(2017, 11, 3, 17, 0, 27)}, {'start': datetime.datetime(2017, 11, 3, 17, 7, 15), 'end': datetime.datetime(2017, 11, 3, 17, 35, 5)}, {'start': datetime.datetime(2017, 11, 3, 17, 36, 5), 'end': datetime.datetime(2017, 11, 3, 17, 46, 48)}, {'start': datetime.datetime(2017, 11, 3, 17, 50, 31), 'end': datetime.datetime(2017, 11, 3, 18, 0, 3)}, {'start': datetime.datetime(2017, 11, 3, 19, 22, 56), 'end': datetime.datetime(2017, 11, 3, 19, 45, 51)}, {'start': datetime.datetime(2017, 11, 4, 13, 14, 10), 'end': datetime.datetime(2017, 11, 4, 13, 26, 15)}, {'start': datetime.datetime(2017, 11, 4, 14, 18, 37), 'end': datetime.datetime(2017, 11, 4, 14, 30, 5)}, {'start': datetime.datetime(2017, 11, 4, 14, 45, 59), 'end': datetime.datetime(2017, 11, 4, 15, 3, 20)}, {'start': datetime.datetime(2017, 11, 4, 15, 16, 3), 'end': datetime.datetime(2017, 11, 4, 15, 44, 30)}, {'start': datetime.datetime(2017, 11, 4, 16, 37, 46), 'end': datetime.datetime(2017, 11, 4, 16, 58, 22)}, {'start': datetime.datetime(2017, 11, 4, 17, 13, 19), 'end': datetime.datetime(2017, 11, 4, 17, 34, 50)}, {'start': datetime.datetime(2017, 11, 4, 18, 10, 34), 'end': datetime.datetime(2017, 11, 4, 18, 58, 44)}, {'start': datetime.datetime(2017, 11, 5, 1, 56, 50), 'end': datetime.datetime(2017, 11, 5, 1, 1, 4)}, {'start': datetime.datetime(2017, 11, 5, 8, 33, 33), 'end': datetime.datetime(2017, 11, 5, 8, 53, 46)}, {'start': datetime.datetime(2017, 11, 5, 8, 58, 8), 'end': datetime.datetime(2017, 11, 5, 9, 3, 39)}, {'start': datetime.datetime(2017, 11, 5, 11, 5, 8), 'end': datetime.datetime(2017, 11, 5, 11, 30, 5)}, {'start': datetime.datetime(2017, 11, 6, 8, 50, 18), 'end': datetime.datetime(2017, 11, 6, 8, 59, 5)}, {'start': datetime.datetime(2017, 11, 6, 9, 4, 3), 'end': datetime.datetime(2017, 11, 6, 9, 13, 47)}, {'start': datetime.datetime(2017, 11, 6, 16, 19, 36), 'end': datetime.datetime(2017, 11, 6, 17, 2, 55)}, {'start': datetime.datetime(2017, 11, 6, 17, 21, 27), 'end': datetime.datetime(2017, 11, 6, 17, 34, 6)}, {'start': datetime.datetime(2017, 11, 6, 17, 36, 1), 'end': datetime.datetime(2017, 11, 6, 17, 57, 32)}, {'start': datetime.datetime(2017, 11, 6, 17, 59, 52), 'end': datetime.datetime(2017, 11, 6, 18, 15, 8)}, {'start': datetime.datetime(2017, 11, 6, 18, 18, 36), 'end': datetime.datetime(2017, 11, 6, 18, 21, 17)}, {'start': datetime.datetime(2017, 11, 6, 19, 24, 31), 'end': datetime.datetime(2017, 11, 6, 19, 37, 57)}, {'start': datetime.datetime(2017, 11, 6, 19, 49, 16), 'end': datetime.datetime(2017, 11, 6, 20, 3, 14)}, {'start': datetime.datetime(2017, 11, 7, 7, 50, 48), 'end': datetime.datetime(2017, 11, 7, 8, 1, 32)}, {'start': datetime.datetime(2017, 11, 8, 13, 11, 51), 'end': datetime.datetime(2017, 11, 8, 13, 18, 5)}, {'start': datetime.datetime(2017, 11, 8, 21, 34, 47), 'end': datetime.datetime(2017, 11, 8, 21, 46, 5)}, {'start': datetime.datetime(2017, 11, 8, 22, 2, 30), 'end': datetime.datetime(2017, 11, 8, 22, 4, 47)}, {'start': datetime.datetime(2017, 11, 9, 7, 1, 11), 'end': datetime.datetime(2017, 11, 9, 7, 12, 10)}, {'start': datetime.datetime(2017, 11, 9, 8, 2, 2), 'end': datetime.datetime(2017, 11, 9, 8, 8, 28)}, {'start': datetime.datetime(2017, 11, 9, 8, 19, 59), 'end': datetime.datetime(2017, 11, 9, 8, 32, 24)}, {'start': datetime.datetime(2017, 11, 9, 8, 41, 31), 'end': datetime.datetime(2017, 11, 9, 8, 48, 59)}, {'start': datetime.datetime(2017, 11, 9, 9, 0, 6), 'end': datetime.datetime(2017, 11, 9, 9, 9, 24)}, {'start': datetime.datetime(2017, 11, 9, 9, 9, 37), 'end': datetime.datetime(2017, 11, 9, 9, 24, 25)}, {'start': datetime.datetime(2017, 11, 9, 13, 14, 37), 'end': datetime.datetime(2017, 11, 9, 13, 25, 39)}, {'start': datetime.datetime(2017, 11, 9, 15, 20, 7), 'end': datetime.datetime(2017, 11, 9, 15, 31, 10)}, {'start': datetime.datetime(2017, 11, 9, 18, 47, 8), 'end': datetime.datetime(2017, 11, 9, 18, 53, 10)}, {'start': datetime.datetime(2017, 11, 9, 23, 35, 2), 'end': datetime.datetime(2017, 11, 9, 23, 43, 35)}, {'start': datetime.datetime(2017, 11, 10, 7, 51, 33), 'end': datetime.datetime(2017, 11, 10, 8, 2, 28)}, {'start': datetime.datetime(2017, 11, 10, 8, 38, 28), 'end': datetime.datetime(2017, 11, 10, 8, 42, 9)}, {'start': datetime.datetime(2017, 11, 11, 18, 5, 25), 'end': datetime.datetime(2017, 11, 11, 18, 13, 14)}, {'start': datetime.datetime(2017, 11, 11, 19, 39, 12), 'end': datetime.datetime(2017, 11, 11, 19, 46, 22)}, {'start': datetime.datetime(2017, 11, 11, 21, 13, 19), 'end': datetime.datetime(2017, 11, 11, 21, 16, 31)}, {'start': datetime.datetime(2017, 11, 12, 9, 46, 19), 'end': datetime.datetime(2017, 11, 12, 9, 51, 43)}, {'start': datetime.datetime(2017, 11, 13, 13, 33, 42), 'end': datetime.datetime(2017, 11, 13, 13, 54, 15)}, {'start': datetime.datetime(2017, 11, 14, 8, 40, 29), 'end': datetime.datetime(2017, 11, 14, 8, 55, 52)}, {'start': datetime.datetime(2017, 11, 15, 6, 14, 5), 'end': datetime.datetime(2017, 11, 15, 6, 30, 6)}, {'start': datetime.datetime(2017, 11, 15, 8, 14, 59), 'end': datetime.datetime(2017, 11, 15, 8, 23, 44)}, {'start': datetime.datetime(2017, 11, 15, 10, 16, 44), 'end': datetime.datetime(2017, 11, 15, 10, 33, 41)}, {'start': datetime.datetime(2017, 11, 15, 10, 33, 58), 'end': datetime.datetime(2017, 11, 15, 10, 54, 14)}, {'start': datetime.datetime(2017, 11, 15, 11, 2, 15), 'end': datetime.datetime(2017, 11, 15, 11, 14, 42)}, {'start': datetime.datetime(2017, 11, 16, 9, 27, 41), 'end': datetime.datetime(2017, 11, 16, 9, 38, 49)}, {'start': datetime.datetime(2017, 11, 16, 9, 57, 41), 'end': datetime.datetime(2017, 11, 16, 10, 18)}, {'start': datetime.datetime(2017, 11, 16, 17, 25, 5), 'end': datetime.datetime(2017, 11, 16, 17, 44, 47)}, {'start': datetime.datetime(2017, 11, 17, 13, 45, 54), 'end': datetime.datetime(2017, 11, 17, 16, 36, 56)}, {'start': datetime.datetime(2017, 11, 17, 19, 12, 49), 'end': datetime.datetime(2017, 11, 17, 19, 31, 15)}, {'start': datetime.datetime(2017, 11, 18, 10, 49, 6), 'end': datetime.datetime(2017, 11, 18, 10, 55, 45)}, {'start': datetime.datetime(2017, 11, 18, 11, 32, 12), 'end': datetime.datetime(2017, 11, 18, 11, 44, 16)}, {'start': datetime.datetime(2017, 11, 18, 18, 9, 1), 'end': datetime.datetime(2017, 11, 18, 18, 14, 31)}, {'start': datetime.datetime(2017, 11, 18, 18, 53, 10), 'end': datetime.datetime(2017, 11, 18, 19, 1, 29)}, {'start': datetime.datetime(2017, 11, 19, 14, 15, 41), 'end': datetime.datetime(2017, 11, 19, 14, 31, 49)}, {'start': datetime.datetime(2017, 11, 20, 21, 19, 19), 'end': datetime.datetime(2017, 11, 20, 21, 41, 9)}, {'start': datetime.datetime(2017, 11, 20, 22, 39, 48), 'end': datetime.datetime(2017, 11, 20, 23, 23, 37)}, {'start': datetime.datetime(2017, 11, 21, 17, 44, 25), 'end': datetime.datetime(2017, 11, 21, 17, 51, 32)}, {'start': datetime.datetime(2017, 11, 21, 18, 20, 52), 'end': datetime.datetime(2017, 11, 21, 18, 34, 51)}, {'start': datetime.datetime(2017, 11, 21, 18, 47, 32), 'end': datetime.datetime(2017, 11, 21, 18, 51, 50)}, {'start': datetime.datetime(2017, 11, 21, 19, 7, 57), 'end': datetime.datetime(2017, 11, 21, 19, 14, 33)}, {'start': datetime.datetime(2017, 11, 21, 20, 4, 56), 'end': datetime.datetime(2017, 11, 21, 20, 8, 54)}, {'start': datetime.datetime(2017, 11, 21, 21, 55, 47), 'end': datetime.datetime(2017, 11, 21, 22, 8, 12)}, {'start': datetime.datetime(2017, 11, 23, 23, 47, 43), 'end': datetime.datetime(2017, 11, 23, 23, 57, 56)}, {'start': datetime.datetime(2017, 11, 24, 6, 41, 25), 'end': datetime.datetime(2017, 11, 24, 6, 53, 15)}, {'start': datetime.datetime(2017, 11, 24, 6, 58, 56), 'end': datetime.datetime(2017, 11, 24, 7, 33, 24)}, {'start': datetime.datetime(2017, 11, 26, 12, 25, 49), 'end': datetime.datetime(2017, 11, 26, 12, 41, 36)}, {'start': datetime.datetime(2017, 11, 27, 5, 29, 4), 'end': datetime.datetime(2017, 11, 27, 5, 54, 13)}, {'start': datetime.datetime(2017, 11, 27, 6, 6, 47), 'end': datetime.datetime(2017, 11, 27, 6, 11, 1)}, {'start': datetime.datetime(2017, 11, 27, 6, 45, 14), 'end': datetime.datetime(2017, 11, 27, 6, 55, 39)}, {'start': datetime.datetime(2017, 11, 27, 9, 39, 44), 'end': datetime.datetime(2017, 11, 27, 9, 47, 43)}, {'start': datetime.datetime(2017, 11, 27, 11, 9, 18), 'end': datetime.datetime(2017, 11, 27, 11, 20, 46)}, {'start': datetime.datetime(2017, 11, 27, 11, 31, 46), 'end': datetime.datetime(2017, 11, 27, 11, 35, 44)}, {'start': datetime.datetime(2017, 11, 27, 12, 7, 14), 'end': datetime.datetime(2017, 11, 27, 12, 12, 36)}, {'start': datetime.datetime(2017, 11, 27, 12, 21, 40), 'end': datetime.datetime(2017, 11, 27, 12, 26, 44)}, {'start': datetime.datetime(2017, 11, 27, 17, 26, 31), 'end': datetime.datetime(2017, 11, 27, 17, 36, 7)}, {'start': datetime.datetime(2017, 11, 27, 18, 11, 49), 'end': datetime.datetime(2017, 11, 27, 18, 29, 4)}, {'start': datetime.datetime(2017, 11, 27, 19, 36, 16), 'end': datetime.datetime(2017, 11, 27, 19, 47, 17)}, {'start': datetime.datetime(2017, 11, 27, 20, 12, 57), 'end': datetime.datetime(2017, 11, 27, 20, 17, 33)}, {'start': datetime.datetime(2017, 11, 28, 8, 18, 6), 'end': datetime.datetime(2017, 11, 28, 8, 41, 53)}, {'start': datetime.datetime(2017, 11, 28, 19, 17, 23), 'end': datetime.datetime(2017, 11, 28, 19, 34, 1)}, {'start': datetime.datetime(2017, 11, 28, 19, 34, 15), 'end': datetime.datetime(2017, 11, 28, 19, 46, 24)}, {'start': datetime.datetime(2017, 11, 28, 21, 27, 29), 'end': datetime.datetime(2017, 11, 28, 21, 39, 32)}, {'start': datetime.datetime(2017, 11, 29, 7, 47, 38), 'end': datetime.datetime(2017, 11, 29, 7, 51, 18)}, {'start': datetime.datetime(2017, 11, 29, 9, 50, 12), 'end': datetime.datetime(2017, 11, 29, 9, 53, 44)}, {'start': datetime.datetime(2017, 11, 29, 17, 3, 42), 'end': datetime.datetime(2017, 11, 29, 17, 16, 21)}, {'start': datetime.datetime(2017, 11, 29, 18, 19, 15), 'end': datetime.datetime(2017, 11, 29, 18, 23, 43)}, {'start': datetime.datetime(2017, 12, 1, 17, 3, 58), 'end': datetime.datetime(2017, 12, 1, 17, 10, 12)}, {'start': datetime.datetime(2017, 12, 2, 7, 55, 56), 'end': datetime.datetime(2017, 12, 2, 8, 1, 1)}, {'start': datetime.datetime(2017, 12, 2, 9, 16, 14), 'end': datetime.datetime(2017, 12, 2, 9, 21, 18)}, {'start': datetime.datetime(2017, 12, 2, 19, 48, 29), 'end': datetime.datetime(2017, 12, 2, 19, 53, 18)}, {'start': datetime.datetime(2017, 12, 3, 14, 36, 29), 'end': datetime.datetime(2017, 12, 3, 15, 20, 9)}, {'start': datetime.datetime(2017, 12, 3, 16, 4, 2), 'end': datetime.datetime(2017, 12, 3, 16, 25, 30)}, {'start': datetime.datetime(2017, 12, 3, 16, 40, 26), 'end': datetime.datetime(2017, 12, 3, 16, 43, 58)}, {'start': datetime.datetime(2017, 12, 3, 17, 20, 17), 'end': datetime.datetime(2017, 12, 3, 18, 4, 33)}, {'start': datetime.datetime(2017, 12, 4, 8, 34, 24), 'end': datetime.datetime(2017, 12, 4, 8, 51)}, {'start': datetime.datetime(2017, 12, 4, 17, 49, 26), 'end': datetime.datetime(2017, 12, 4, 17, 53, 57)}, {'start': datetime.datetime(2017, 12, 4, 18, 38, 52), 'end': datetime.datetime(2017, 12, 4, 18, 50, 33)}, {'start': datetime.datetime(2017, 12, 4, 21, 39, 20), 'end': datetime.datetime(2017, 12, 4, 21, 46, 58)}, {'start': datetime.datetime(2017, 12, 4, 21, 54, 21), 'end': datetime.datetime(2017, 12, 4, 21, 56, 17)}, {'start': datetime.datetime(2017, 12, 5, 8, 50, 50), 'end': datetime.datetime(2017, 12, 5, 8, 52, 54)}, {'start': datetime.datetime(2017, 12, 6, 8, 19, 38), 'end': datetime.datetime(2017, 12, 6, 8, 24, 14)}, {'start': datetime.datetime(2017, 12, 6, 18, 19, 19), 'end': datetime.datetime(2017, 12, 6, 18, 28, 11)}, {'start': datetime.datetime(2017, 12, 6, 18, 28, 55), 'end': datetime.datetime(2017, 12, 6, 18, 33, 12)}, {'start': datetime.datetime(2017, 12, 6, 20, 3, 29), 'end': datetime.datetime(2017, 12, 6, 20, 21, 38)}, {'start': datetime.datetime(2017, 12, 6, 20, 36, 42), 'end': datetime.datetime(2017, 12, 6, 20, 39, 57)}, {'start': datetime.datetime(2017, 12, 7, 5, 54, 51), 'end': datetime.datetime(2017, 12, 7, 6, 1, 15)}, {'start': datetime.datetime(2017, 12, 8, 16, 47, 18), 'end': datetime.datetime(2017, 12, 8, 16, 55, 49)}, {'start': datetime.datetime(2017, 12, 8, 19, 15, 2), 'end': datetime.datetime(2017, 12, 8, 19, 29, 12)}, {'start': datetime.datetime(2017, 12, 9, 22, 39, 37), 'end': datetime.datetime(2017, 12, 9, 22, 47, 19)}, {'start': datetime.datetime(2017, 12, 9, 23, 0, 10), 'end': datetime.datetime(2017, 12, 9, 23, 5, 32)}, {'start': datetime.datetime(2017, 12, 10, 0, 39, 24), 'end': datetime.datetime(2017, 12, 10, 0, 56, 2)}, {'start': datetime.datetime(2017, 12, 10, 1, 2, 42), 'end': datetime.datetime(2017, 12, 10, 1, 8, 9)}, {'start': datetime.datetime(2017, 12, 10, 1, 8, 57), 'end': datetime.datetime(2017, 12, 10, 1, 11, 30)}, {'start': datetime.datetime(2017, 12, 10, 13, 49, 9), 'end': datetime.datetime(2017, 12, 10, 13, 51, 41)}, {'start': datetime.datetime(2017, 12, 10, 15, 14, 29), 'end': datetime.datetime(2017, 12, 10, 15, 18, 19)}, {'start': datetime.datetime(2017, 12, 10, 15, 31, 7), 'end': datetime.datetime(2017, 12, 10, 15, 36, 28)}, {'start': datetime.datetime(2017, 12, 10, 16, 20, 6), 'end': datetime.datetime(2017, 12, 10, 16, 30, 31)}, {'start': datetime.datetime(2017, 12, 10, 17, 7, 54), 'end': datetime.datetime(2017, 12, 10, 17, 14, 25)}, {'start': datetime.datetime(2017, 12, 10, 17, 23, 47), 'end': datetime.datetime(2017, 12, 10, 17, 45, 25)}, {'start': datetime.datetime(2017, 12, 11, 6, 17, 6), 'end': datetime.datetime(2017, 12, 11, 6, 34, 4)}, {'start': datetime.datetime(2017, 12, 11, 9, 8, 41), 'end': datetime.datetime(2017, 12, 11, 9, 12, 21)}, {'start': datetime.datetime(2017, 12, 11, 9, 15, 41), 'end': datetime.datetime(2017, 12, 11, 9, 20, 18)}, {'start': datetime.datetime(2017, 12, 12, 8, 55, 53), 'end': datetime.datetime(2017, 12, 12, 8, 59, 34)}, {'start': datetime.datetime(2017, 12, 13, 17, 14, 56), 'end': datetime.datetime(2017, 12, 13, 17, 18, 32)}, {'start': datetime.datetime(2017, 12, 13, 18, 52, 16), 'end': datetime.datetime(2017, 12, 13, 19, 0, 45)}, {'start': datetime.datetime(2017, 12, 14, 9, 1, 10), 'end': datetime.datetime(2017, 12, 14, 9, 11, 6)}, {'start': datetime.datetime(2017, 12, 14, 9, 12, 59), 'end': datetime.datetime(2017, 12, 14, 9, 19, 6)}, {'start': datetime.datetime(2017, 12, 14, 11, 54, 33), 'end': datetime.datetime(2017, 12, 14, 12, 2)}, {'start': datetime.datetime(2017, 12, 14, 14, 40, 23), 'end': datetime.datetime(2017, 12, 14, 14, 44, 40)}, {'start': datetime.datetime(2017, 12, 14, 15, 8, 55), 'end': datetime.datetime(2017, 12, 14, 15, 26, 24)}, {'start': datetime.datetime(2017, 12, 14, 17, 46, 17), 'end': datetime.datetime(2017, 12, 14, 18, 9, 4)}, {'start': datetime.datetime(2017, 12, 15, 9, 8, 12), 'end': datetime.datetime(2017, 12, 15, 9, 23, 45)}, {'start': datetime.datetime(2017, 12, 16, 9, 33, 46), 'end': datetime.datetime(2017, 12, 16, 9, 36, 17)}, {'start': datetime.datetime(2017, 12, 16, 11, 2, 31), 'end': datetime.datetime(2017, 12, 16, 11, 5, 4)}, {'start': datetime.datetime(2017, 12, 17, 10, 9, 47), 'end': datetime.datetime(2017, 12, 17, 10, 32, 3)}, {'start': datetime.datetime(2017, 12, 18, 8, 2, 36), 'end': datetime.datetime(2017, 12, 18, 8, 7, 34)}, {'start': datetime.datetime(2017, 12, 18, 16, 3), 'end': datetime.datetime(2017, 12, 18, 16, 9, 20)}, {'start': datetime.datetime(2017, 12, 18, 16, 30, 7), 'end': datetime.datetime(2017, 12, 18, 16, 53, 12)}, {'start': datetime.datetime(2017, 12, 18, 19, 18, 23), 'end': datetime.datetime(2017, 12, 18, 19, 22, 8)}, {'start': datetime.datetime(2017, 12, 18, 20, 14, 46), 'end': datetime.datetime(2017, 12, 18, 20, 17, 47)}, {'start': datetime.datetime(2017, 12, 19, 19, 14, 8), 'end': datetime.datetime(2017, 12, 19, 19, 23, 49)}, {'start': datetime.datetime(2017, 12, 19, 19, 39, 36), 'end': datetime.datetime(2017, 12, 19, 19, 43, 46)}, {'start': datetime.datetime(2017, 12, 20, 8, 5, 14), 'end': datetime.datetime(2017, 12, 20, 8, 10, 46)}, {'start': datetime.datetime(2017, 12, 20, 8, 15, 45), 'end': datetime.datetime(2017, 12, 20, 8, 29, 50)}, {'start': datetime.datetime(2017, 12, 20, 8, 33, 32), 'end': datetime.datetime(2017, 12, 20, 8, 38, 9)}, {'start': datetime.datetime(2017, 12, 20, 13, 43, 36), 'end': datetime.datetime(2017, 12, 20, 13, 54, 39)}, {'start': datetime.datetime(2017, 12, 20, 18, 57, 53), 'end': datetime.datetime(2017, 12, 20, 19, 6, 54)}, {'start': datetime.datetime(2017, 12, 21, 7, 21, 11), 'end': datetime.datetime(2017, 12, 21, 7, 32, 3)}, {'start': datetime.datetime(2017, 12, 21, 8, 1, 58), 'end': datetime.datetime(2017, 12, 21, 8, 6, 15)}, {'start': datetime.datetime(2017, 12, 21, 13, 20, 54), 'end': datetime.datetime(2017, 12, 21, 13, 33, 49)}, {'start': datetime.datetime(2017, 12, 21, 15, 26, 8), 'end': datetime.datetime(2017, 12, 21, 15, 34, 27)}, {'start': datetime.datetime(2017, 12, 21, 18, 9, 46), 'end': datetime.datetime(2017, 12, 21, 18, 38, 50)}, {'start': datetime.datetime(2017, 12, 22, 16, 14, 21), 'end': datetime.datetime(2017, 12, 22, 16, 21, 46)}, {'start': datetime.datetime(2017, 12, 22, 16, 29, 17), 'end': datetime.datetime(2017, 12, 22, 16, 34, 14)}, {'start': datetime.datetime(2017, 12, 25, 12, 49, 51), 'end': datetime.datetime(2017, 12, 25, 13, 18, 27)}, {'start': datetime.datetime(2017, 12, 25, 13, 46, 44), 'end': datetime.datetime(2017, 12, 25, 14, 20, 50)}, {'start': datetime.datetime(2017, 12, 26, 10, 40, 16), 'end': datetime.datetime(2017, 12, 26, 10, 53, 45)}, {'start': datetime.datetime(2017, 12, 27, 16, 56, 12), 'end': datetime.datetime(2017, 12, 27, 17, 17, 39)}, {'start': datetime.datetime(2017, 12, 29, 6, 2, 34), 'end': datetime.datetime(2017, 12, 29, 6, 12, 30)}, {'start': datetime.datetime(2017, 12, 29, 12, 21, 3), 'end': datetime.datetime(2017, 12, 29, 12, 46, 16)}, {'start': datetime.datetime(2017, 12, 29, 14, 32, 55), 'end': datetime.datetime(2017, 12, 29, 14, 43, 46)}, {'start': datetime.datetime(2017, 12, 29, 15, 8, 26), 'end': datetime.datetime(2017, 12, 29, 15, 18, 51)}, {'start': datetime.datetime(2017, 12, 29, 20, 33, 34), 'end': datetime.datetime(2017, 12, 29, 20, 38, 13)}, {'start': datetime.datetime(2017, 12, 30, 13, 51, 3), 'end': datetime.datetime(2017, 12, 30, 13, 54, 33)}, {'start': datetime.datetime(2017, 12, 30, 15, 9, 3), 'end': datetime.datetime(2017, 12, 30, 15, 19, 13)}]"
   ]
  },
  {
   "cell_type": "code",
   "execution_count": 10,
   "id": "medical-syracuse",
   "metadata": {},
   "outputs": [
    {
     "name": "stdout",
     "output_type": "stream",
     "text": [
      "{'AM': 94, 'PM': 196}\n"
     ]
    }
   ],
   "source": [
    "# Create dictionary to hold results\n",
    "trip_counts = {'AM': 0, 'PM': 0}\n",
    "\n",
    "# Loop over all trips\n",
    "for trip in onebike_datetimes:\n",
    "    # Check to see if the trip starts before noon\n",
    "    if trip['start'].hour < 12:\n",
    "        # Increment the counter for before noon\n",
    "        trip_counts['AM'] += 1\n",
    "    else:\n",
    "        # Increment the counter for after noon\n",
    "        trip_counts['PM'] += 1\n",
    "\n",
    "print(trip_counts)"
   ]
  },
  {
   "cell_type": "markdown",
   "id": "abroad-petersburg",
   "metadata": {},
   "source": [
    "## Turning strings into datetimes\n",
    "\n",
    "When you download data from the Internet, dates and times usually come to you as strings. Often the first step is to turn those strings into `datetime` objects.\n",
    "\n",
    "In this exercise, you will practice this transformation.\n",
    "\n",
    "```\n",
    "Reference\n",
    "%Y          4 digit year (0000-9999)\n",
    "%m          2 digit month (1-12)\n",
    "%d          2 digit day (1-31)\n",
    "%H          2 digit hour (0-23)\n",
    "%M          2 digit minute (0-59)\n",
    "%S          2 digit second (0-59)\n",
    "```\n",
    "\n",
    "Instructions\n",
    "\n",
    "1. \n",
    "    1. Determine the format needed to convert `s` to datetime and assign it to `fmt`.\n",
    "    2. Convert the string `s` to datetime using `fmt`.\n",
    "2. \n",
    "    1. Determine the format needed to convert `s` to datetime and assign it to `fmt`.\n",
    "    2. Convert the string `s` to datetime using `fmt`.\n",
    "3. \n",
    "    1. Determine the format needed to convert `s` to datetime and assign it to `fmt`.\n",
    "    2. Convert the string `s` to datetime using `fmt`."
   ]
  },
  {
   "cell_type": "code",
   "execution_count": 11,
   "id": "satisfied-brazilian",
   "metadata": {},
   "outputs": [
    {
     "name": "stdout",
     "output_type": "stream",
     "text": [
      "2017-02-03 00:00:01\n"
     ]
    }
   ],
   "source": [
    "# Import the datetime class\n",
    "from datetime import datetime\n",
    "\n",
    "# Starting string, in YYYY-MM-DD HH:MM:SS format\n",
    "s = '2017-02-03 00:00:01'\n",
    "\n",
    "# Write a format string to parse s\n",
    "fmt = '%Y-%m-%d %H:%M:%S'\n",
    "\n",
    "# Create a datetime object d\n",
    "d = datetime.strptime(s, fmt)\n",
    "\n",
    "# Print d\n",
    "print(d)"
   ]
  },
  {
   "cell_type": "code",
   "execution_count": 12,
   "id": "nutritional-forest",
   "metadata": {},
   "outputs": [
    {
     "name": "stdout",
     "output_type": "stream",
     "text": [
      "2030-10-15 00:00:00\n"
     ]
    }
   ],
   "source": [
    "# Import the datetime class\n",
    "from datetime import datetime\n",
    "\n",
    "# Starting string, in YYYY-MM-DD format\n",
    "s = '2030-10-15'\n",
    "\n",
    "# Write a format string to parse s\n",
    "fmt = '%Y-%m-%d'\n",
    "\n",
    "# Create a datetime object d\n",
    "d = datetime.strptime(s, fmt)\n",
    "\n",
    "# Print d\n",
    "print(d)"
   ]
  },
  {
   "cell_type": "code",
   "execution_count": 14,
   "id": "embedded-hawaiian",
   "metadata": {},
   "outputs": [
    {
     "name": "stdout",
     "output_type": "stream",
     "text": [
      "1986-12-15 08:00:00\n"
     ]
    }
   ],
   "source": [
    "# Import the datetime class\n",
    "from datetime import datetime\n",
    "\n",
    "# Starting string, in MM/DD/YYYY HH:MM:SS format\n",
    "s = '12/15/1986 08:00:00'\n",
    "\n",
    "# Write a format string to parse s\n",
    "fmt = '%m/%d/%Y %H:%M:%S'\n",
    "\n",
    "# Create a datetime object d\n",
    "d = datetime.strptime(s, fmt)\n",
    "\n",
    "# Print d\n",
    "print(d)"
   ]
  },
  {
   "cell_type": "markdown",
   "id": "outer-marine",
   "metadata": {},
   "source": [
    "## Parsing pairs of strings as datetimes\n",
    "\n",
    "Up until now, you've been working with a pre-processed list of `datetimes` for W20529's trips. For this exercise, you're going to go one step back in the data cleaning pipeline and work with the strings that the data started as.\n",
    "\n",
    "Explore `onebike_datetime_strings` in the IPython shell to determine the correct format. `datetime` has already been loaded for you.\n",
    "\n",
    "```\n",
    "Reference\t\n",
    "%Y          4 digit year (0000-9999)\n",
    "%m          2 digit month (1-12)\n",
    "%d          2 digit day (1-31)\n",
    "%H          2 digit hour (0-23)\n",
    "%M          2 digit minute (0-59)\n",
    "%S          2 digit second (0-59)\n",
    "```\n",
    "\n",
    "Instructions\n",
    "\n",
    "1. Outside the `for` loop, fill out the `fmt` string with the correct parsing format for the data.\n",
    "2. Within the `for` loop, parse the `start` and `end` strings into the `trip` dictionary with `start` and `end` keys and `datetime` objects for values."
   ]
  },
  {
   "cell_type": "code",
   "execution_count": 17,
   "id": "judicial-biotechnology",
   "metadata": {},
   "outputs": [],
   "source": [
    "onebike_datetime_strings = [('2017-10-01 15:23:25', '2017-10-01 15:26:26'), ('2017-10-01 15:42:57', '2017-10-01 17:49:59'), ('2017-10-02 06:37:10', '2017-10-02 06:42:53'), ('2017-10-02 08:56:45', '2017-10-02 09:18:03'), ('2017-10-02 18:23:48', '2017-10-02 18:45:05'), ('2017-10-02 18:48:08', '2017-10-02 19:10:54'), ('2017-10-02 19:18:10', '2017-10-02 19:31:45'), ('2017-10-02 19:37:32', '2017-10-02 19:46:37'), ('2017-10-03 08:24:16', '2017-10-03 08:32:27'), ('2017-10-03 18:17:07', '2017-10-03 18:27:46'), ('2017-10-03 19:24:10', '2017-10-03 19:52:08'), ('2017-10-03 20:17:06', '2017-10-03 20:23:52'), ('2017-10-03 20:45:21', '2017-10-03 20:57:10'), ('2017-10-04 07:04:57', '2017-10-04 07:13:31'), ('2017-10-04 07:13:42', '2017-10-04 07:21:54'), ('2017-10-04 14:22:12', '2017-10-04 14:50:00'), ('2017-10-04 15:07:27', '2017-10-04 15:44:49'), ('2017-10-04 15:46:41', '2017-10-04 16:32:33'), ('2017-10-04 16:34:44', '2017-10-04 16:46:59'), ('2017-10-04 17:26:06', '2017-10-04 17:31:36'), ('2017-10-04 17:42:03', '2017-10-04 17:50:41'), ('2017-10-05 07:49:02', '2017-10-05 08:12:55'), ('2017-10-05 08:26:21', '2017-10-05 08:29:45'), ('2017-10-05 08:33:27', '2017-10-05 08:38:31'), ('2017-10-05 16:35:35', '2017-10-05 16:51:52'), ('2017-10-05 17:53:31', '2017-10-05 18:16:50'), ('2017-10-06 08:17:17', '2017-10-06 08:38:01'), ('2017-10-06 11:39:40', '2017-10-06 11:50:38'), ('2017-10-06 12:59:54', '2017-10-06 13:13:14'), ('2017-10-06 13:43:05', '2017-10-06 14:14:56'), ('2017-10-06 14:28:15', '2017-10-06 15:09:26'), ('2017-10-06 15:50:10', '2017-10-06 16:12:34'), ('2017-10-06 16:32:16', '2017-10-06 16:39:31'), ('2017-10-06 16:44:08', '2017-10-06 16:48:39'), ('2017-10-06 16:53:43', '2017-10-06 17:09:03'), ('2017-10-07 11:38:55', '2017-10-07 11:53:06'), ('2017-10-07 14:03:36', '2017-10-07 14:07:05'), ('2017-10-07 14:20:03', '2017-10-07 14:27:36'), ('2017-10-07 14:30:50', '2017-10-07 14:44:51'), ('2017-10-08 00:28:26', '2017-10-08 00:30:48'), ('2017-10-08 11:16:21', '2017-10-08 11:33:24'), ('2017-10-08 12:37:03', '2017-10-08 13:01:29'), ('2017-10-08 13:30:37', '2017-10-08 13:57:53'), ('2017-10-08 14:16:40', '2017-10-08 15:07:19'), ('2017-10-08 15:23:50', '2017-10-08 15:50:01'), ('2017-10-08 15:54:12', '2017-10-08 16:17:42'), ('2017-10-08 16:28:52', '2017-10-08 16:35:18'), ('2017-10-08 23:08:14', '2017-10-08 23:33:41'), ('2017-10-08 23:34:49', '2017-10-08 23:45:11'), ('2017-10-08 23:46:47', '2017-10-09 00:10:57'), ('2017-10-09 00:12:58', '2017-10-09 00:36:40'), ('2017-10-09 00:37:02', '2017-10-09 00:53:33'), ('2017-10-09 01:23:29', '2017-10-09 01:48:13'), ('2017-10-09 01:49:25', '2017-10-09 02:13:35'), ('2017-10-09 02:14:11', '2017-10-09 02:29:40'), ('2017-10-09 13:04:32', '2017-10-09 13:13:25'), ('2017-10-09 14:30:10', '2017-10-09 14:38:55'), ('2017-10-09 15:06:47', '2017-10-09 15:11:30'), ('2017-10-09 16:43:25', '2017-10-09 16:45:38'), ('2017-10-10 15:32:58', '2017-10-10 15:51:24'), ('2017-10-10 16:47:55', '2017-10-10 17:03:47'), ('2017-10-10 17:51:05', '2017-10-10 18:00:18'), ('2017-10-10 18:08:12', '2017-10-10 18:19:11'), ('2017-10-10 19:09:35', '2017-10-10 19:14:32'), ('2017-10-10 19:17:11', '2017-10-10 19:23:08'), ('2017-10-10 19:28:11', '2017-10-10 19:44:40'), ('2017-10-10 19:55:35', '2017-10-10 20:11:54'), ('2017-10-10 22:20:43', '2017-10-10 22:33:23'), ('2017-10-11 04:40:52', '2017-10-11 04:59:22'), ('2017-10-11 06:28:58', '2017-10-11 06:40:13'), ('2017-10-11 16:41:07', '2017-10-11 17:01:14'), ('2017-10-12 08:08:30', '2017-10-12 08:35:03'), ('2017-10-12 08:47:02', '2017-10-12 08:59:50'), ('2017-10-12 13:13:39', '2017-10-12 13:37:45'), ('2017-10-12 13:40:12', '2017-10-12 13:48:17'), ('2017-10-12 13:49:56', '2017-10-12 13:53:16'), ('2017-10-12 14:33:18', '2017-10-12 14:39:57'), ('2017-10-13 15:55:39', '2017-10-13 15:59:41'), ('2017-10-17 17:58:48', '2017-10-17 18:01:38'), ('2017-10-19 20:21:45', '2017-10-19 20:29:15'), ('2017-10-19 21:11:39', '2017-10-19 21:29:37'), ('2017-10-19 21:30:01', '2017-10-19 21:47:23'), ('2017-10-19 21:47:34', '2017-10-19 21:57:07'), ('2017-10-19 21:57:24', '2017-10-19 22:09:52'), ('2017-10-21 12:24:09', '2017-10-21 12:36:24'), ('2017-10-21 12:36:37', '2017-10-21 12:42:13'), ('2017-10-21 13:47:43', '2017-10-22 11:09:36'), ('2017-10-22 13:28:53', '2017-10-22 13:31:44'), ('2017-10-22 13:47:05', '2017-10-22 13:56:33'), ('2017-10-22 14:26:41', '2017-10-22 14:32:39'), ('2017-10-22 14:54:41', '2017-10-22 15:09:58'), ('2017-10-22 16:40:29', '2017-10-22 16:51:40'), ('2017-10-22 17:58:46', '2017-10-22 18:28:37'), ('2017-10-22 18:45:16', '2017-10-22 18:50:34'), ('2017-10-22 18:56:22', '2017-10-22 19:11:10'), ('2017-10-23 10:14:08', '2017-10-23 10:35:32'), ('2017-10-23 11:29:36', '2017-10-23 14:38:34'), ('2017-10-23 15:04:52', '2017-10-23 15:32:58'), ('2017-10-23 15:33:48', '2017-10-23 17:06:47'), ('2017-10-23 17:13:16', '2017-10-23 19:31:26'), ('2017-10-23 19:55:03', '2017-10-23 20:25:53'), ('2017-10-23 21:47:54', '2017-10-23 22:18:04'), ('2017-10-23 22:34:12', '2017-10-23 22:48:42'), ('2017-10-24 06:55:01', '2017-10-24 07:02:17'), ('2017-10-24 14:56:07', '2017-10-24 15:03:16'), ('2017-10-24 15:51:36', '2017-10-24 15:59:50'), ('2017-10-24 16:31:10', '2017-10-24 16:55:09'), ('2017-10-28 14:26:14', '2017-10-28 14:32:34'), ('2017-11-01 09:41:54', '2017-11-01 09:52:23'), ('2017-11-01 20:16:11', '2017-11-01 20:32:13'), ('2017-11-02 19:44:29', '2017-11-02 19:50:56'), ('2017-11-02 20:14:37', '2017-11-02 20:30:29'), ('2017-11-02 21:35:47', '2017-11-02 21:38:57'), ('2017-11-03 09:59:27', '2017-11-03 10:11:46'), ('2017-11-03 10:13:22', '2017-11-03 10:32:02'), ('2017-11-03 10:44:25', '2017-11-03 10:50:34'), ('2017-11-03 16:06:43', '2017-11-03 16:44:38'), ('2017-11-03 16:45:54', '2017-11-03 17:00:27'), ('2017-11-03 17:07:15', '2017-11-03 17:35:05'), ('2017-11-03 17:36:05', '2017-11-03 17:46:48'), ('2017-11-03 17:50:31', '2017-11-03 18:00:03'), ('2017-11-03 19:22:56', '2017-11-03 19:45:51'), ('2017-11-04 13:14:10', '2017-11-04 13:26:15'), ('2017-11-04 14:18:37', '2017-11-04 14:30:05'), ('2017-11-04 14:45:59', '2017-11-04 15:03:20'), ('2017-11-04 15:16:03', '2017-11-04 15:44:30'), ('2017-11-04 16:37:46', '2017-11-04 16:58:22'), ('2017-11-04 17:13:19', '2017-11-04 17:34:50'), ('2017-11-04 18:10:34', '2017-11-04 18:58:44'), ('2017-11-05 01:56:50', '2017-11-05 01:01:04'), ('2017-11-05 08:33:33', '2017-11-05 08:53:46'), ('2017-11-05 08:58:08', '2017-11-05 09:03:39'), ('2017-11-05 11:05:08', '2017-11-05 11:30:05'), ('2017-11-06 08:50:18', '2017-11-06 08:59:05'), ('2017-11-06 09:04:03', '2017-11-06 09:13:47'), ('2017-11-06 16:19:36', '2017-11-06 17:02:55'), ('2017-11-06 17:21:27', '2017-11-06 17:34:06'), ('2017-11-06 17:36:01', '2017-11-06 17:57:32'), ('2017-11-06 17:59:52', '2017-11-06 18:15:08'), ('2017-11-06 18:18:36', '2017-11-06 18:21:17'), ('2017-11-06 19:24:31', '2017-11-06 19:37:57'), ('2017-11-06 19:49:16', '2017-11-06 20:03:14'), ('2017-11-07 07:50:48', '2017-11-07 08:01:32'), ('2017-11-08 13:11:51', '2017-11-08 13:18:05'), ('2017-11-08 21:34:47', '2017-11-08 21:46:05'), ('2017-11-08 22:02:30', '2017-11-08 22:04:47'), ('2017-11-09 07:01:11', '2017-11-09 07:12:10'), ('2017-11-09 08:02:02', '2017-11-09 08:08:28'), ('2017-11-09 08:19:59', '2017-11-09 08:32:24'), ('2017-11-09 08:41:31', '2017-11-09 08:48:59'), ('2017-11-09 09:00:06', '2017-11-09 09:09:24'), ('2017-11-09 09:09:37', '2017-11-09 09:24:25'), ('2017-11-09 13:14:37', '2017-11-09 13:25:39'), ('2017-11-09 15:20:07', '2017-11-09 15:31:10'), ('2017-11-09 18:47:08', '2017-11-09 18:53:10'), ('2017-11-09 23:35:02', '2017-11-09 23:43:35'), ('2017-11-10 07:51:33', '2017-11-10 08:02:28'), ('2017-11-10 08:38:28', '2017-11-10 08:42:09'), ('2017-11-11 18:05:25', '2017-11-11 18:13:14'), ('2017-11-11 19:39:12', '2017-11-11 19:46:22'), ('2017-11-11 21:13:19', '2017-11-11 21:16:31'), ('2017-11-12 09:46:19', '2017-11-12 09:51:43'), ('2017-11-13 13:33:42', '2017-11-13 13:54:15'), ('2017-11-14 08:40:29', '2017-11-14 08:55:52'), ('2017-11-15 06:14:05', '2017-11-15 06:30:06'), ('2017-11-15 08:14:59', '2017-11-15 08:23:44'), ('2017-11-15 10:16:44', '2017-11-15 10:33:41'), ('2017-11-15 10:33:58', '2017-11-15 10:54:14'), ('2017-11-15 11:02:15', '2017-11-15 11:14:42'), ('2017-11-16 09:27:41', '2017-11-16 09:38:49'), ('2017-11-16 09:57:41', '2017-11-16 10:18:00'), ('2017-11-16 17:25:05', '2017-11-16 17:44:47'), ('2017-11-17 13:45:54', '2017-11-17 16:36:56'), ('2017-11-17 19:12:49', '2017-11-17 19:31:15'), ('2017-11-18 10:49:06', '2017-11-18 10:55:45'), ('2017-11-18 11:32:12', '2017-11-18 11:44:16'), ('2017-11-18 18:09:01', '2017-11-18 18:14:31'), ('2017-11-18 18:53:10', '2017-11-18 19:01:29'), ('2017-11-19 14:15:41', '2017-11-19 14:31:49'), ('2017-11-20 21:19:19', '2017-11-20 21:41:09'), ('2017-11-20 22:39:48', '2017-11-20 23:23:37'), ('2017-11-21 17:44:25', '2017-11-21 17:51:32'), ('2017-11-21 18:20:52', '2017-11-21 18:34:51'), ('2017-11-21 18:47:32', '2017-11-21 18:51:50'), ('2017-11-21 19:07:57', '2017-11-21 19:14:33'), ('2017-11-21 20:04:56', '2017-11-21 20:08:54'), ('2017-11-21 21:55:47', '2017-11-21 22:08:12'), ('2017-11-23 23:47:43', '2017-11-23 23:57:56'), ('2017-11-24 06:41:25', '2017-11-24 06:53:15'), ('2017-11-24 06:58:56', '2017-11-24 07:33:24'), ('2017-11-26 12:25:49', '2017-11-26 12:41:36'), ('2017-11-27 05:29:04', '2017-11-27 05:54:13'), ('2017-11-27 06:06:47', '2017-11-27 06:11:01'), ('2017-11-27 06:45:14', '2017-11-27 06:55:39'), ('2017-11-27 09:39:44', '2017-11-27 09:47:43'), ('2017-11-27 11:09:18', '2017-11-27 11:20:46'), ('2017-11-27 11:31:46', '2017-11-27 11:35:44'), ('2017-11-27 12:07:14', '2017-11-27 12:12:36'), ('2017-11-27 12:21:40', '2017-11-27 12:26:44'), ('2017-11-27 17:26:31', '2017-11-27 17:36:07'), ('2017-11-27 18:11:49', '2017-11-27 18:29:04'), ('2017-11-27 19:36:16', '2017-11-27 19:47:17'), ('2017-11-27 20:12:57', '2017-11-27 20:17:33'), ('2017-11-28 08:18:06', '2017-11-28 08:41:53'), ('2017-11-28 19:17:23', '2017-11-28 19:34:01'), ('2017-11-28 19:34:15', '2017-11-28 19:46:24'), ('2017-11-28 21:27:29', '2017-11-28 21:39:32'), ('2017-11-29 07:47:38', '2017-11-29 07:51:18'), ('2017-11-29 09:50:12', '2017-11-29 09:53:44'), ('2017-11-29 17:03:42', '2017-11-29 17:16:21'), ('2017-11-29 18:19:15', '2017-11-29 18:23:43'), ('2017-12-01 17:03:58', '2017-12-01 17:10:12'), ('2017-12-02 07:55:56', '2017-12-02 08:01:01'), ('2017-12-02 09:16:14', '2017-12-02 09:21:18'), ('2017-12-02 19:48:29', '2017-12-02 19:53:18'), ('2017-12-03 14:36:29', '2017-12-03 15:20:09'), ('2017-12-03 16:04:02', '2017-12-03 16:25:30'), ('2017-12-03 16:40:26', '2017-12-03 16:43:58'), ('2017-12-03 17:20:17', '2017-12-03 18:04:33'), ('2017-12-04 08:34:24', '2017-12-04 08:51:00'), ('2017-12-04 17:49:26', '2017-12-04 17:53:57'), ('2017-12-04 18:38:52', '2017-12-04 18:50:33'), ('2017-12-04 21:39:20', '2017-12-04 21:46:58'), ('2017-12-04 21:54:21', '2017-12-04 21:56:17'), ('2017-12-05 08:50:50', '2017-12-05 08:52:54'), ('2017-12-06 08:19:38', '2017-12-06 08:24:14'), ('2017-12-06 18:19:19', '2017-12-06 18:28:11'), ('2017-12-06 18:28:55', '2017-12-06 18:33:12'), ('2017-12-06 20:03:29', '2017-12-06 20:21:38'), ('2017-12-06 20:36:42', '2017-12-06 20:39:57'), ('2017-12-07 05:54:51', '2017-12-07 06:01:15'), ('2017-12-08 16:47:18', '2017-12-08 16:55:49'), ('2017-12-08 19:15:02', '2017-12-08 19:29:12'), ('2017-12-09 22:39:37', '2017-12-09 22:47:19'), ('2017-12-09 23:00:10', '2017-12-09 23:05:32'), ('2017-12-10 00:39:24', '2017-12-10 00:56:02'), ('2017-12-10 01:02:42', '2017-12-10 01:08:09'), ('2017-12-10 01:08:57', '2017-12-10 01:11:30'), ('2017-12-10 13:49:09', '2017-12-10 13:51:41'), ('2017-12-10 15:14:29', '2017-12-10 15:18:19'), ('2017-12-10 15:31:07', '2017-12-10 15:36:28'), ('2017-12-10 16:20:06', '2017-12-10 16:30:31'), ('2017-12-10 17:07:54', '2017-12-10 17:14:25'), ('2017-12-10 17:23:47', '2017-12-10 17:45:25'), ('2017-12-11 06:17:06', '2017-12-11 06:34:04'), ('2017-12-11 09:08:41', '2017-12-11 09:12:21'), ('2017-12-11 09:15:41', '2017-12-11 09:20:18'), ('2017-12-12 08:55:53', '2017-12-12 08:59:34'), ('2017-12-13 17:14:56', '2017-12-13 17:18:32'), ('2017-12-13 18:52:16', '2017-12-13 19:00:45'), ('2017-12-14 09:01:10', '2017-12-14 09:11:06'), ('2017-12-14 09:12:59', '2017-12-14 09:19:06'), ('2017-12-14 11:54:33', '2017-12-14 12:02:00'), ('2017-12-14 14:40:23', '2017-12-14 14:44:40'), ('2017-12-14 15:08:55', '2017-12-14 15:26:24'), ('2017-12-14 17:46:17', '2017-12-14 18:09:04'), ('2017-12-15 09:08:12', '2017-12-15 09:23:45'), ('2017-12-16 09:33:46', '2017-12-16 09:36:17'), ('2017-12-16 11:02:31', '2017-12-16 11:05:04'), ('2017-12-17 10:09:47', '2017-12-17 10:32:03'), ('2017-12-18 08:02:36', '2017-12-18 08:07:34'), ('2017-12-18 16:03:00', '2017-12-18 16:09:20'), ('2017-12-18 16:30:07', '2017-12-18 16:53:12'), ('2017-12-18 19:18:23', '2017-12-18 19:22:08'), ('2017-12-18 20:14:46', '2017-12-18 20:17:47'), ('2017-12-19 19:14:08', '2017-12-19 19:23:49'), ('2017-12-19 19:39:36', '2017-12-19 19:43:46'), ('2017-12-20 08:05:14', '2017-12-20 08:10:46'), ('2017-12-20 08:15:45', '2017-12-20 08:29:50'), ('2017-12-20 08:33:32', '2017-12-20 08:38:09'), ('2017-12-20 13:43:36', '2017-12-20 13:54:39'), ('2017-12-20 18:57:53', '2017-12-20 19:06:54'), ('2017-12-21 07:21:11', '2017-12-21 07:32:03'), ('2017-12-21 08:01:58', '2017-12-21 08:06:15'), ('2017-12-21 13:20:54', '2017-12-21 13:33:49'), ('2017-12-21 15:26:08', '2017-12-21 15:34:27'), ('2017-12-21 18:09:46', '2017-12-21 18:38:50'), ('2017-12-22 16:14:21', '2017-12-22 16:21:46'), ('2017-12-22 16:29:17', '2017-12-22 16:34:14'), ('2017-12-25 12:49:51', '2017-12-25 13:18:27'), ('2017-12-25 13:46:44', '2017-12-25 14:20:50'), ('2017-12-26 10:40:16', '2017-12-26 10:53:45'), ('2017-12-27 16:56:12', '2017-12-27 17:17:39'), ('2017-12-29 06:02:34', '2017-12-29 06:12:30'), ('2017-12-29 12:21:03', '2017-12-29 12:46:16'), ('2017-12-29 14:32:55', '2017-12-29 14:43:46'), ('2017-12-29 15:08:26', '2017-12-29 15:18:51'), ('2017-12-29 20:33:34', '2017-12-29 20:38:13'), ('2017-12-30 13:51:03', '2017-12-30 13:54:33'), ('2017-12-30 15:09:03', '2017-12-30 15:19:13')]"
   ]
  },
  {
   "cell_type": "code",
   "execution_count": 19,
   "id": "dried-poison",
   "metadata": {},
   "outputs": [],
   "source": [
    "# Write down the format string\n",
    "fmt = '%Y-%m-%d %H:%M:%S'\n",
    "\n",
    "# Initialize a list for holding the pairs of datetime objects\n",
    "onebike_datetimes = []\n",
    "\n",
    "# Loop over all trips\n",
    "for start, end in onebike_datetime_strings:\n",
    "    trip = {'start': datetime.strptime(start, fmt),\n",
    "            'end': datetime.strptime(end, fmt)}\n",
    "  \n",
    "    # Append the trip\n",
    "    onebike_datetimes.append(trip)"
   ]
  },
  {
   "cell_type": "markdown",
   "id": "olive-amazon",
   "metadata": {},
   "source": [
    "## Recreating ISO format with strftime()\n",
    "\n",
    "In the last chapter, you used `strftime()` to create strings from `date` objects. Now that you know about `datetime` objects, let's practice doing something similar.\n",
    "\n",
    "Re-create the `.isoformat()` method, using `.strftime()`, and print the first trip start in our data set.\n",
    "\n",
    "```\n",
    "Reference\t\n",
    "%Y          4 digit year (0000-9999)\n",
    "%m          2 digit month (1-12)\n",
    "%d          2 digit day (1-31)\n",
    "%H          2 digit hour (0-23)\n",
    "%M          2 digit minute (0-59)\n",
    "%S          2 digit second (0-59)\n",
    "```\n",
    "\n",
    "Instructions\n",
    "\n",
    "1. Complete `fmt` to match the format of ISO 8601.\n",
    "2. Print `first_start` with both `.isoformat()` and `.strftime()`; they should match."
   ]
  },
  {
   "cell_type": "code",
   "execution_count": 20,
   "id": "minute-thesaurus",
   "metadata": {},
   "outputs": [
    {
     "name": "stdout",
     "output_type": "stream",
     "text": [
      "2017-10-01T15:23:25\n",
      "2017-10-01T15:23:25\n"
     ]
    }
   ],
   "source": [
    "# Import datetime\n",
    "from datetime import datetime\n",
    "\n",
    "# Pull out the start of the first trip\n",
    "first_start = onebike_datetimes[0]['start']\n",
    "\n",
    "# Format to feed to strftime()\n",
    "fmt = '%Y-%m-%dT%H:%M:%S'\n",
    "\n",
    "# Print out date with .isoformat(), then with .strftime() to compare\n",
    "print(first_start.isoformat())\n",
    "print(first_start.strftime(fmt))"
   ]
  },
  {
   "cell_type": "markdown",
   "id": "buried-jacob",
   "metadata": {},
   "source": [
    "## Unix timestamps\n",
    "\n",
    "Datetimes are sometimes stored as Unix timestamps: the number of seconds since January 1, 1970. This is especially common with computer infrastructure, like the log files that websites keep when they get visitors.\n",
    "\n",
    "Instructions\n",
    "\n",
    "1. Complete the `for` loop to loop over `timestamps`.\n",
    "2. Complete the code to turn each timestamp `ts` into a `datetime`."
   ]
  },
  {
   "cell_type": "code",
   "execution_count": 21,
   "id": "unlike-demonstration",
   "metadata": {},
   "outputs": [
    {
     "name": "stdout",
     "output_type": "stream",
     "text": [
      "[datetime.datetime(2017, 12, 30, 17, 19, 13), datetime.datetime(2017, 12, 30, 17, 9, 3)]\n"
     ]
    }
   ],
   "source": [
    "# Import datetime\n",
    "from datetime import datetime\n",
    "\n",
    "# Starting timestamps\n",
    "timestamps = [1514665153, 1514664543]\n",
    "\n",
    "# Datetime objects\n",
    "dts = []\n",
    "\n",
    "# Loop\n",
    "for ts in timestamps:\n",
    "    dts.append(datetime.fromtimestamp(ts))\n",
    "\n",
    "# Print results\n",
    "print(dts)"
   ]
  },
  {
   "cell_type": "markdown",
   "id": "narrative-grounds",
   "metadata": {},
   "source": [
    "## Turning pairs of datetimes into durations\n",
    "\n",
    "When working with timestamps, we often want to know how much time has elapsed between events. Thankfully, we can use `datetime` arithmetic to ask Python to do the heavy lifting for us so we don't need to worry about day, month, or year boundaries. Let's calculate the number of seconds that the bike was out of the dock for each trip.\n",
    "\n",
    "Continuing our work from a previous coding exercise, the bike trip data has been loaded as the list `onebike_datetimes`. Each element of the list consists of two `datetime` objects, corresponding to the start and end of a trip, respectively.\n",
    "\n",
    "Instructions\n",
    "\n",
    "1. Within the loop:\n",
    "    1. Use arithmetic on the `start` and `end` elements to find the length of the trip\n",
    "    2. Save the results to `trip_duration`.\n",
    "    3. Calculate `trip_length_seconds` from `trip_duration`."
   ]
  },
  {
   "cell_type": "code",
   "execution_count": 24,
   "id": "retired-upgrade",
   "metadata": {},
   "outputs": [],
   "source": [
    "# Import datetime\n",
    "import datetime\n",
    "\n",
    "onebike_datetimes = [{'start': datetime.datetime(2017, 10, 1, 15, 23, 25), 'end': datetime.datetime(2017, 10, 1, 15, 26, 26)}, {'start': datetime.datetime(2017, 10, 1, 15, 42, 57), 'end': datetime.datetime(2017, 10, 1, 17, 49, 59)}, {'start': datetime.datetime(2017, 10, 2, 6, 37, 10), 'end': datetime.datetime(2017, 10, 2, 6, 42, 53)}, {'start': datetime.datetime(2017, 10, 2, 8, 56, 45), 'end': datetime.datetime(2017, 10, 2, 9, 18, 3)}, {'start': datetime.datetime(2017, 10, 2, 18, 23, 48), 'end': datetime.datetime(2017, 10, 2, 18, 45, 5)}, {'start': datetime.datetime(2017, 10, 2, 18, 48, 8), 'end': datetime.datetime(2017, 10, 2, 19, 10, 54)}, {'start': datetime.datetime(2017, 10, 2, 19, 18, 10), 'end': datetime.datetime(2017, 10, 2, 19, 31, 45)}, {'start': datetime.datetime(2017, 10, 2, 19, 37, 32), 'end': datetime.datetime(2017, 10, 2, 19, 46, 37)}, {'start': datetime.datetime(2017, 10, 3, 8, 24, 16), 'end': datetime.datetime(2017, 10, 3, 8, 32, 27)}, {'start': datetime.datetime(2017, 10, 3, 18, 17, 7), 'end': datetime.datetime(2017, 10, 3, 18, 27, 46)}, {'start': datetime.datetime(2017, 10, 3, 19, 24, 10), 'end': datetime.datetime(2017, 10, 3, 19, 52, 8)}, {'start': datetime.datetime(2017, 10, 3, 20, 17, 6), 'end': datetime.datetime(2017, 10, 3, 20, 23, 52)}, {'start': datetime.datetime(2017, 10, 3, 20, 45, 21), 'end': datetime.datetime(2017, 10, 3, 20, 57, 10)}, {'start': datetime.datetime(2017, 10, 4, 7, 4, 57), 'end': datetime.datetime(2017, 10, 4, 7, 13, 31)}, {'start': datetime.datetime(2017, 10, 4, 7, 13, 42), 'end': datetime.datetime(2017, 10, 4, 7, 21, 54)}, {'start': datetime.datetime(2017, 10, 4, 14, 22, 12), 'end': datetime.datetime(2017, 10, 4, 14, 50)}, {'start': datetime.datetime(2017, 10, 4, 15, 7, 27), 'end': datetime.datetime(2017, 10, 4, 15, 44, 49)}, {'start': datetime.datetime(2017, 10, 4, 15, 46, 41), 'end': datetime.datetime(2017, 10, 4, 16, 32, 33)}, {'start': datetime.datetime(2017, 10, 4, 16, 34, 44), 'end': datetime.datetime(2017, 10, 4, 16, 46, 59)}, {'start': datetime.datetime(2017, 10, 4, 17, 26, 6), 'end': datetime.datetime(2017, 10, 4, 17, 31, 36)}, {'start': datetime.datetime(2017, 10, 4, 17, 42, 3), 'end': datetime.datetime(2017, 10, 4, 17, 50, 41)}, {'start': datetime.datetime(2017, 10, 5, 7, 49, 2), 'end': datetime.datetime(2017, 10, 5, 8, 12, 55)}, {'start': datetime.datetime(2017, 10, 5, 8, 26, 21), 'end': datetime.datetime(2017, 10, 5, 8, 29, 45)}, {'start': datetime.datetime(2017, 10, 5, 8, 33, 27), 'end': datetime.datetime(2017, 10, 5, 8, 38, 31)}, {'start': datetime.datetime(2017, 10, 5, 16, 35, 35), 'end': datetime.datetime(2017, 10, 5, 16, 51, 52)}, {'start': datetime.datetime(2017, 10, 5, 17, 53, 31), 'end': datetime.datetime(2017, 10, 5, 18, 16, 50)}, {'start': datetime.datetime(2017, 10, 6, 8, 17, 17), 'end': datetime.datetime(2017, 10, 6, 8, 38, 1)}, {'start': datetime.datetime(2017, 10, 6, 11, 39, 40), 'end': datetime.datetime(2017, 10, 6, 11, 50, 38)}, {'start': datetime.datetime(2017, 10, 6, 12, 59, 54), 'end': datetime.datetime(2017, 10, 6, 13, 13, 14)}, {'start': datetime.datetime(2017, 10, 6, 13, 43, 5), 'end': datetime.datetime(2017, 10, 6, 14, 14, 56)}, {'start': datetime.datetime(2017, 10, 6, 14, 28, 15), 'end': datetime.datetime(2017, 10, 6, 15, 9, 26)}, {'start': datetime.datetime(2017, 10, 6, 15, 50, 10), 'end': datetime.datetime(2017, 10, 6, 16, 12, 34)}, {'start': datetime.datetime(2017, 10, 6, 16, 32, 16), 'end': datetime.datetime(2017, 10, 6, 16, 39, 31)}, {'start': datetime.datetime(2017, 10, 6, 16, 44, 8), 'end': datetime.datetime(2017, 10, 6, 16, 48, 39)}, {'start': datetime.datetime(2017, 10, 6, 16, 53, 43), 'end': datetime.datetime(2017, 10, 6, 17, 9, 3)}, {'start': datetime.datetime(2017, 10, 7, 11, 38, 55), 'end': datetime.datetime(2017, 10, 7, 11, 53, 6)}, {'start': datetime.datetime(2017, 10, 7, 14, 3, 36), 'end': datetime.datetime(2017, 10, 7, 14, 7, 5)}, {'start': datetime.datetime(2017, 10, 7, 14, 20, 3), 'end': datetime.datetime(2017, 10, 7, 14, 27, 36)}, {'start': datetime.datetime(2017, 10, 7, 14, 30, 50), 'end': datetime.datetime(2017, 10, 7, 14, 44, 51)}, {'start': datetime.datetime(2017, 10, 8, 0, 28, 26), 'end': datetime.datetime(2017, 10, 8, 0, 30, 48)}, {'start': datetime.datetime(2017, 10, 8, 11, 16, 21), 'end': datetime.datetime(2017, 10, 8, 11, 33, 24)}, {'start': datetime.datetime(2017, 10, 8, 12, 37, 3), 'end': datetime.datetime(2017, 10, 8, 13, 1, 29)}, {'start': datetime.datetime(2017, 10, 8, 13, 30, 37), 'end': datetime.datetime(2017, 10, 8, 13, 57, 53)}, {'start': datetime.datetime(2017, 10, 8, 14, 16, 40), 'end': datetime.datetime(2017, 10, 8, 15, 7, 19)}, {'start': datetime.datetime(2017, 10, 8, 15, 23, 50), 'end': datetime.datetime(2017, 10, 8, 15, 50, 1)}, {'start': datetime.datetime(2017, 10, 8, 15, 54, 12), 'end': datetime.datetime(2017, 10, 8, 16, 17, 42)}, {'start': datetime.datetime(2017, 10, 8, 16, 28, 52), 'end': datetime.datetime(2017, 10, 8, 16, 35, 18)}, {'start': datetime.datetime(2017, 10, 8, 23, 8, 14), 'end': datetime.datetime(2017, 10, 8, 23, 33, 41)}, {'start': datetime.datetime(2017, 10, 8, 23, 34, 49), 'end': datetime.datetime(2017, 10, 8, 23, 45, 11)}, {'start': datetime.datetime(2017, 10, 8, 23, 46, 47), 'end': datetime.datetime(2017, 10, 9, 0, 10, 57)}, {'start': datetime.datetime(2017, 10, 9, 0, 12, 58), 'end': datetime.datetime(2017, 10, 9, 0, 36, 40)}, {'start': datetime.datetime(2017, 10, 9, 0, 37, 2), 'end': datetime.datetime(2017, 10, 9, 0, 53, 33)}, {'start': datetime.datetime(2017, 10, 9, 1, 23, 29), 'end': datetime.datetime(2017, 10, 9, 1, 48, 13)}, {'start': datetime.datetime(2017, 10, 9, 1, 49, 25), 'end': datetime.datetime(2017, 10, 9, 2, 13, 35)}, {'start': datetime.datetime(2017, 10, 9, 2, 14, 11), 'end': datetime.datetime(2017, 10, 9, 2, 29, 40)}, {'start': datetime.datetime(2017, 10, 9, 13, 4, 32), 'end': datetime.datetime(2017, 10, 9, 13, 13, 25)}, {'start': datetime.datetime(2017, 10, 9, 14, 30, 10), 'end': datetime.datetime(2017, 10, 9, 14, 38, 55)}, {'start': datetime.datetime(2017, 10, 9, 15, 6, 47), 'end': datetime.datetime(2017, 10, 9, 15, 11, 30)}, {'start': datetime.datetime(2017, 10, 9, 16, 43, 25), 'end': datetime.datetime(2017, 10, 9, 16, 45, 38)}, {'start': datetime.datetime(2017, 10, 10, 15, 32, 58), 'end': datetime.datetime(2017, 10, 10, 15, 51, 24)}, {'start': datetime.datetime(2017, 10, 10, 16, 47, 55), 'end': datetime.datetime(2017, 10, 10, 17, 3, 47)}, {'start': datetime.datetime(2017, 10, 10, 17, 51, 5), 'end': datetime.datetime(2017, 10, 10, 18, 0, 18)}, {'start': datetime.datetime(2017, 10, 10, 18, 8, 12), 'end': datetime.datetime(2017, 10, 10, 18, 19, 11)}, {'start': datetime.datetime(2017, 10, 10, 19, 9, 35), 'end': datetime.datetime(2017, 10, 10, 19, 14, 32)}, {'start': datetime.datetime(2017, 10, 10, 19, 17, 11), 'end': datetime.datetime(2017, 10, 10, 19, 23, 8)}, {'start': datetime.datetime(2017, 10, 10, 19, 28, 11), 'end': datetime.datetime(2017, 10, 10, 19, 44, 40)}, {'start': datetime.datetime(2017, 10, 10, 19, 55, 35), 'end': datetime.datetime(2017, 10, 10, 20, 11, 54)}, {'start': datetime.datetime(2017, 10, 10, 22, 20, 43), 'end': datetime.datetime(2017, 10, 10, 22, 33, 23)}, {'start': datetime.datetime(2017, 10, 11, 4, 40, 52), 'end': datetime.datetime(2017, 10, 11, 4, 59, 22)}, {'start': datetime.datetime(2017, 10, 11, 6, 28, 58), 'end': datetime.datetime(2017, 10, 11, 6, 40, 13)}, {'start': datetime.datetime(2017, 10, 11, 16, 41, 7), 'end': datetime.datetime(2017, 10, 11, 17, 1, 14)}, {'start': datetime.datetime(2017, 10, 12, 8, 8, 30), 'end': datetime.datetime(2017, 10, 12, 8, 35, 3)}, {'start': datetime.datetime(2017, 10, 12, 8, 47, 2), 'end': datetime.datetime(2017, 10, 12, 8, 59, 50)}, {'start': datetime.datetime(2017, 10, 12, 13, 13, 39), 'end': datetime.datetime(2017, 10, 12, 13, 37, 45)}, {'start': datetime.datetime(2017, 10, 12, 13, 40, 12), 'end': datetime.datetime(2017, 10, 12, 13, 48, 17)}, {'start': datetime.datetime(2017, 10, 12, 13, 49, 56), 'end': datetime.datetime(2017, 10, 12, 13, 53, 16)}, {'start': datetime.datetime(2017, 10, 12, 14, 33, 18), 'end': datetime.datetime(2017, 10, 12, 14, 39, 57)}, {'start': datetime.datetime(2017, 10, 13, 15, 55, 39), 'end': datetime.datetime(2017, 10, 13, 15, 59, 41)}, {'start': datetime.datetime(2017, 10, 17, 17, 58, 48), 'end': datetime.datetime(2017, 10, 17, 18, 1, 38)}, {'start': datetime.datetime(2017, 10, 19, 20, 21, 45), 'end': datetime.datetime(2017, 10, 19, 20, 29, 15)}, {'start': datetime.datetime(2017, 10, 19, 21, 11, 39), 'end': datetime.datetime(2017, 10, 19, 21, 29, 37)}, {'start': datetime.datetime(2017, 10, 19, 21, 30, 1), 'end': datetime.datetime(2017, 10, 19, 21, 47, 23)}, {'start': datetime.datetime(2017, 10, 19, 21, 47, 34), 'end': datetime.datetime(2017, 10, 19, 21, 57, 7)}, {'start': datetime.datetime(2017, 10, 19, 21, 57, 24), 'end': datetime.datetime(2017, 10, 19, 22, 9, 52)}, {'start': datetime.datetime(2017, 10, 21, 12, 24, 9), 'end': datetime.datetime(2017, 10, 21, 12, 36, 24)}, {'start': datetime.datetime(2017, 10, 21, 12, 36, 37), 'end': datetime.datetime(2017, 10, 21, 12, 42, 13)}, {'start': datetime.datetime(2017, 10, 21, 13, 47, 43), 'end': datetime.datetime(2017, 10, 22, 11, 9, 36)}, {'start': datetime.datetime(2017, 10, 22, 13, 28, 53), 'end': datetime.datetime(2017, 10, 22, 13, 31, 44)}, {'start': datetime.datetime(2017, 10, 22, 13, 47, 5), 'end': datetime.datetime(2017, 10, 22, 13, 56, 33)}, {'start': datetime.datetime(2017, 10, 22, 14, 26, 41), 'end': datetime.datetime(2017, 10, 22, 14, 32, 39)}, {'start': datetime.datetime(2017, 10, 22, 14, 54, 41), 'end': datetime.datetime(2017, 10, 22, 15, 9, 58)}, {'start': datetime.datetime(2017, 10, 22, 16, 40, 29), 'end': datetime.datetime(2017, 10, 22, 16, 51, 40)}, {'start': datetime.datetime(2017, 10, 22, 17, 58, 46), 'end': datetime.datetime(2017, 10, 22, 18, 28, 37)}, {'start': datetime.datetime(2017, 10, 22, 18, 45, 16), 'end': datetime.datetime(2017, 10, 22, 18, 50, 34)}, {'start': datetime.datetime(2017, 10, 22, 18, 56, 22), 'end': datetime.datetime(2017, 10, 22, 19, 11, 10)}, {'start': datetime.datetime(2017, 10, 23, 10, 14, 8), 'end': datetime.datetime(2017, 10, 23, 10, 35, 32)}, {'start': datetime.datetime(2017, 10, 23, 11, 29, 36), 'end': datetime.datetime(2017, 10, 23, 14, 38, 34)}, {'start': datetime.datetime(2017, 10, 23, 15, 4, 52), 'end': datetime.datetime(2017, 10, 23, 15, 32, 58)}, {'start': datetime.datetime(2017, 10, 23, 15, 33, 48), 'end': datetime.datetime(2017, 10, 23, 17, 6, 47)}, {'start': datetime.datetime(2017, 10, 23, 17, 13, 16), 'end': datetime.datetime(2017, 10, 23, 19, 31, 26)}, {'start': datetime.datetime(2017, 10, 23, 19, 55, 3), 'end': datetime.datetime(2017, 10, 23, 20, 25, 53)}, {'start': datetime.datetime(2017, 10, 23, 21, 47, 54), 'end': datetime.datetime(2017, 10, 23, 22, 18, 4)}, {'start': datetime.datetime(2017, 10, 23, 22, 34, 12), 'end': datetime.datetime(2017, 10, 23, 22, 48, 42)}, {'start': datetime.datetime(2017, 10, 24, 6, 55, 1), 'end': datetime.datetime(2017, 10, 24, 7, 2, 17)}, {'start': datetime.datetime(2017, 10, 24, 14, 56, 7), 'end': datetime.datetime(2017, 10, 24, 15, 3, 16)}, {'start': datetime.datetime(2017, 10, 24, 15, 51, 36), 'end': datetime.datetime(2017, 10, 24, 15, 59, 50)}, {'start': datetime.datetime(2017, 10, 24, 16, 31, 10), 'end': datetime.datetime(2017, 10, 24, 16, 55, 9)}, {'start': datetime.datetime(2017, 10, 28, 14, 26, 14), 'end': datetime.datetime(2017, 10, 28, 14, 32, 34)}, {'start': datetime.datetime(2017, 11, 1, 9, 41, 54), 'end': datetime.datetime(2017, 11, 1, 9, 52, 23)}, {'start': datetime.datetime(2017, 11, 1, 20, 16, 11), 'end': datetime.datetime(2017, 11, 1, 20, 32, 13)}, {'start': datetime.datetime(2017, 11, 2, 19, 44, 29), 'end': datetime.datetime(2017, 11, 2, 19, 50, 56)}, {'start': datetime.datetime(2017, 11, 2, 20, 14, 37), 'end': datetime.datetime(2017, 11, 2, 20, 30, 29)}, {'start': datetime.datetime(2017, 11, 2, 21, 35, 47), 'end': datetime.datetime(2017, 11, 2, 21, 38, 57)}, {'start': datetime.datetime(2017, 11, 3, 9, 59, 27), 'end': datetime.datetime(2017, 11, 3, 10, 11, 46)}, {'start': datetime.datetime(2017, 11, 3, 10, 13, 22), 'end': datetime.datetime(2017, 11, 3, 10, 32, 2)}, {'start': datetime.datetime(2017, 11, 3, 10, 44, 25), 'end': datetime.datetime(2017, 11, 3, 10, 50, 34)}, {'start': datetime.datetime(2017, 11, 3, 16, 6, 43), 'end': datetime.datetime(2017, 11, 3, 16, 44, 38)}, {'start': datetime.datetime(2017, 11, 3, 16, 45, 54), 'end': datetime.datetime(2017, 11, 3, 17, 0, 27)}, {'start': datetime.datetime(2017, 11, 3, 17, 7, 15), 'end': datetime.datetime(2017, 11, 3, 17, 35, 5)}, {'start': datetime.datetime(2017, 11, 3, 17, 36, 5), 'end': datetime.datetime(2017, 11, 3, 17, 46, 48)}, {'start': datetime.datetime(2017, 11, 3, 17, 50, 31), 'end': datetime.datetime(2017, 11, 3, 18, 0, 3)}, {'start': datetime.datetime(2017, 11, 3, 19, 22, 56), 'end': datetime.datetime(2017, 11, 3, 19, 45, 51)}, {'start': datetime.datetime(2017, 11, 4, 13, 14, 10), 'end': datetime.datetime(2017, 11, 4, 13, 26, 15)}, {'start': datetime.datetime(2017, 11, 4, 14, 18, 37), 'end': datetime.datetime(2017, 11, 4, 14, 30, 5)}, {'start': datetime.datetime(2017, 11, 4, 14, 45, 59), 'end': datetime.datetime(2017, 11, 4, 15, 3, 20)}, {'start': datetime.datetime(2017, 11, 4, 15, 16, 3), 'end': datetime.datetime(2017, 11, 4, 15, 44, 30)}, {'start': datetime.datetime(2017, 11, 4, 16, 37, 46), 'end': datetime.datetime(2017, 11, 4, 16, 58, 22)}, {'start': datetime.datetime(2017, 11, 4, 17, 13, 19), 'end': datetime.datetime(2017, 11, 4, 17, 34, 50)}, {'start': datetime.datetime(2017, 11, 4, 18, 10, 34), 'end': datetime.datetime(2017, 11, 4, 18, 58, 44)}, {'start': datetime.datetime(2017, 11, 5, 1, 56, 50), 'end': datetime.datetime(2017, 11, 5, 1, 1, 4)}, {'start': datetime.datetime(2017, 11, 5, 8, 33, 33), 'end': datetime.datetime(2017, 11, 5, 8, 53, 46)}, {'start': datetime.datetime(2017, 11, 5, 8, 58, 8), 'end': datetime.datetime(2017, 11, 5, 9, 3, 39)}, {'start': datetime.datetime(2017, 11, 5, 11, 5, 8), 'end': datetime.datetime(2017, 11, 5, 11, 30, 5)}, {'start': datetime.datetime(2017, 11, 6, 8, 50, 18), 'end': datetime.datetime(2017, 11, 6, 8, 59, 5)}, {'start': datetime.datetime(2017, 11, 6, 9, 4, 3), 'end': datetime.datetime(2017, 11, 6, 9, 13, 47)}, {'start': datetime.datetime(2017, 11, 6, 16, 19, 36), 'end': datetime.datetime(2017, 11, 6, 17, 2, 55)}, {'start': datetime.datetime(2017, 11, 6, 17, 21, 27), 'end': datetime.datetime(2017, 11, 6, 17, 34, 6)}, {'start': datetime.datetime(2017, 11, 6, 17, 36, 1), 'end': datetime.datetime(2017, 11, 6, 17, 57, 32)}, {'start': datetime.datetime(2017, 11, 6, 17, 59, 52), 'end': datetime.datetime(2017, 11, 6, 18, 15, 8)}, {'start': datetime.datetime(2017, 11, 6, 18, 18, 36), 'end': datetime.datetime(2017, 11, 6, 18, 21, 17)}, {'start': datetime.datetime(2017, 11, 6, 19, 24, 31), 'end': datetime.datetime(2017, 11, 6, 19, 37, 57)}, {'start': datetime.datetime(2017, 11, 6, 19, 49, 16), 'end': datetime.datetime(2017, 11, 6, 20, 3, 14)}, {'start': datetime.datetime(2017, 11, 7, 7, 50, 48), 'end': datetime.datetime(2017, 11, 7, 8, 1, 32)}, {'start': datetime.datetime(2017, 11, 8, 13, 11, 51), 'end': datetime.datetime(2017, 11, 8, 13, 18, 5)}, {'start': datetime.datetime(2017, 11, 8, 21, 34, 47), 'end': datetime.datetime(2017, 11, 8, 21, 46, 5)}, {'start': datetime.datetime(2017, 11, 8, 22, 2, 30), 'end': datetime.datetime(2017, 11, 8, 22, 4, 47)}, {'start': datetime.datetime(2017, 11, 9, 7, 1, 11), 'end': datetime.datetime(2017, 11, 9, 7, 12, 10)}, {'start': datetime.datetime(2017, 11, 9, 8, 2, 2), 'end': datetime.datetime(2017, 11, 9, 8, 8, 28)}, {'start': datetime.datetime(2017, 11, 9, 8, 19, 59), 'end': datetime.datetime(2017, 11, 9, 8, 32, 24)}, {'start': datetime.datetime(2017, 11, 9, 8, 41, 31), 'end': datetime.datetime(2017, 11, 9, 8, 48, 59)}, {'start': datetime.datetime(2017, 11, 9, 9, 0, 6), 'end': datetime.datetime(2017, 11, 9, 9, 9, 24)}, {'start': datetime.datetime(2017, 11, 9, 9, 9, 37), 'end': datetime.datetime(2017, 11, 9, 9, 24, 25)}, {'start': datetime.datetime(2017, 11, 9, 13, 14, 37), 'end': datetime.datetime(2017, 11, 9, 13, 25, 39)}, {'start': datetime.datetime(2017, 11, 9, 15, 20, 7), 'end': datetime.datetime(2017, 11, 9, 15, 31, 10)}, {'start': datetime.datetime(2017, 11, 9, 18, 47, 8), 'end': datetime.datetime(2017, 11, 9, 18, 53, 10)}, {'start': datetime.datetime(2017, 11, 9, 23, 35, 2), 'end': datetime.datetime(2017, 11, 9, 23, 43, 35)}, {'start': datetime.datetime(2017, 11, 10, 7, 51, 33), 'end': datetime.datetime(2017, 11, 10, 8, 2, 28)}, {'start': datetime.datetime(2017, 11, 10, 8, 38, 28), 'end': datetime.datetime(2017, 11, 10, 8, 42, 9)}, {'start': datetime.datetime(2017, 11, 11, 18, 5, 25), 'end': datetime.datetime(2017, 11, 11, 18, 13, 14)}, {'start': datetime.datetime(2017, 11, 11, 19, 39, 12), 'end': datetime.datetime(2017, 11, 11, 19, 46, 22)}, {'start': datetime.datetime(2017, 11, 11, 21, 13, 19), 'end': datetime.datetime(2017, 11, 11, 21, 16, 31)}, {'start': datetime.datetime(2017, 11, 12, 9, 46, 19), 'end': datetime.datetime(2017, 11, 12, 9, 51, 43)}, {'start': datetime.datetime(2017, 11, 13, 13, 33, 42), 'end': datetime.datetime(2017, 11, 13, 13, 54, 15)}, {'start': datetime.datetime(2017, 11, 14, 8, 40, 29), 'end': datetime.datetime(2017, 11, 14, 8, 55, 52)}, {'start': datetime.datetime(2017, 11, 15, 6, 14, 5), 'end': datetime.datetime(2017, 11, 15, 6, 30, 6)}, {'start': datetime.datetime(2017, 11, 15, 8, 14, 59), 'end': datetime.datetime(2017, 11, 15, 8, 23, 44)}, {'start': datetime.datetime(2017, 11, 15, 10, 16, 44), 'end': datetime.datetime(2017, 11, 15, 10, 33, 41)}, {'start': datetime.datetime(2017, 11, 15, 10, 33, 58), 'end': datetime.datetime(2017, 11, 15, 10, 54, 14)}, {'start': datetime.datetime(2017, 11, 15, 11, 2, 15), 'end': datetime.datetime(2017, 11, 15, 11, 14, 42)}, {'start': datetime.datetime(2017, 11, 16, 9, 27, 41), 'end': datetime.datetime(2017, 11, 16, 9, 38, 49)}, {'start': datetime.datetime(2017, 11, 16, 9, 57, 41), 'end': datetime.datetime(2017, 11, 16, 10, 18)}, {'start': datetime.datetime(2017, 11, 16, 17, 25, 5), 'end': datetime.datetime(2017, 11, 16, 17, 44, 47)}, {'start': datetime.datetime(2017, 11, 17, 13, 45, 54), 'end': datetime.datetime(2017, 11, 17, 16, 36, 56)}, {'start': datetime.datetime(2017, 11, 17, 19, 12, 49), 'end': datetime.datetime(2017, 11, 17, 19, 31, 15)}, {'start': datetime.datetime(2017, 11, 18, 10, 49, 6), 'end': datetime.datetime(2017, 11, 18, 10, 55, 45)}, {'start': datetime.datetime(2017, 11, 18, 11, 32, 12), 'end': datetime.datetime(2017, 11, 18, 11, 44, 16)}, {'start': datetime.datetime(2017, 11, 18, 18, 9, 1), 'end': datetime.datetime(2017, 11, 18, 18, 14, 31)}, {'start': datetime.datetime(2017, 11, 18, 18, 53, 10), 'end': datetime.datetime(2017, 11, 18, 19, 1, 29)}, {'start': datetime.datetime(2017, 11, 19, 14, 15, 41), 'end': datetime.datetime(2017, 11, 19, 14, 31, 49)}, {'start': datetime.datetime(2017, 11, 20, 21, 19, 19), 'end': datetime.datetime(2017, 11, 20, 21, 41, 9)}, {'start': datetime.datetime(2017, 11, 20, 22, 39, 48), 'end': datetime.datetime(2017, 11, 20, 23, 23, 37)}, {'start': datetime.datetime(2017, 11, 21, 17, 44, 25), 'end': datetime.datetime(2017, 11, 21, 17, 51, 32)}, {'start': datetime.datetime(2017, 11, 21, 18, 20, 52), 'end': datetime.datetime(2017, 11, 21, 18, 34, 51)}, {'start': datetime.datetime(2017, 11, 21, 18, 47, 32), 'end': datetime.datetime(2017, 11, 21, 18, 51, 50)}, {'start': datetime.datetime(2017, 11, 21, 19, 7, 57), 'end': datetime.datetime(2017, 11, 21, 19, 14, 33)}, {'start': datetime.datetime(2017, 11, 21, 20, 4, 56), 'end': datetime.datetime(2017, 11, 21, 20, 8, 54)}, {'start': datetime.datetime(2017, 11, 21, 21, 55, 47), 'end': datetime.datetime(2017, 11, 21, 22, 8, 12)}, {'start': datetime.datetime(2017, 11, 23, 23, 47, 43), 'end': datetime.datetime(2017, 11, 23, 23, 57, 56)}, {'start': datetime.datetime(2017, 11, 24, 6, 41, 25), 'end': datetime.datetime(2017, 11, 24, 6, 53, 15)}, {'start': datetime.datetime(2017, 11, 24, 6, 58, 56), 'end': datetime.datetime(2017, 11, 24, 7, 33, 24)}, {'start': datetime.datetime(2017, 11, 26, 12, 25, 49), 'end': datetime.datetime(2017, 11, 26, 12, 41, 36)}, {'start': datetime.datetime(2017, 11, 27, 5, 29, 4), 'end': datetime.datetime(2017, 11, 27, 5, 54, 13)}, {'start': datetime.datetime(2017, 11, 27, 6, 6, 47), 'end': datetime.datetime(2017, 11, 27, 6, 11, 1)}, {'start': datetime.datetime(2017, 11, 27, 6, 45, 14), 'end': datetime.datetime(2017, 11, 27, 6, 55, 39)}, {'start': datetime.datetime(2017, 11, 27, 9, 39, 44), 'end': datetime.datetime(2017, 11, 27, 9, 47, 43)}, {'start': datetime.datetime(2017, 11, 27, 11, 9, 18), 'end': datetime.datetime(2017, 11, 27, 11, 20, 46)}, {'start': datetime.datetime(2017, 11, 27, 11, 31, 46), 'end': datetime.datetime(2017, 11, 27, 11, 35, 44)}, {'start': datetime.datetime(2017, 11, 27, 12, 7, 14), 'end': datetime.datetime(2017, 11, 27, 12, 12, 36)}, {'start': datetime.datetime(2017, 11, 27, 12, 21, 40), 'end': datetime.datetime(2017, 11, 27, 12, 26, 44)}, {'start': datetime.datetime(2017, 11, 27, 17, 26, 31), 'end': datetime.datetime(2017, 11, 27, 17, 36, 7)}, {'start': datetime.datetime(2017, 11, 27, 18, 11, 49), 'end': datetime.datetime(2017, 11, 27, 18, 29, 4)}, {'start': datetime.datetime(2017, 11, 27, 19, 36, 16), 'end': datetime.datetime(2017, 11, 27, 19, 47, 17)}, {'start': datetime.datetime(2017, 11, 27, 20, 12, 57), 'end': datetime.datetime(2017, 11, 27, 20, 17, 33)}, {'start': datetime.datetime(2017, 11, 28, 8, 18, 6), 'end': datetime.datetime(2017, 11, 28, 8, 41, 53)}, {'start': datetime.datetime(2017, 11, 28, 19, 17, 23), 'end': datetime.datetime(2017, 11, 28, 19, 34, 1)}, {'start': datetime.datetime(2017, 11, 28, 19, 34, 15), 'end': datetime.datetime(2017, 11, 28, 19, 46, 24)}, {'start': datetime.datetime(2017, 11, 28, 21, 27, 29), 'end': datetime.datetime(2017, 11, 28, 21, 39, 32)}, {'start': datetime.datetime(2017, 11, 29, 7, 47, 38), 'end': datetime.datetime(2017, 11, 29, 7, 51, 18)}, {'start': datetime.datetime(2017, 11, 29, 9, 50, 12), 'end': datetime.datetime(2017, 11, 29, 9, 53, 44)}, {'start': datetime.datetime(2017, 11, 29, 17, 3, 42), 'end': datetime.datetime(2017, 11, 29, 17, 16, 21)}, {'start': datetime.datetime(2017, 11, 29, 18, 19, 15), 'end': datetime.datetime(2017, 11, 29, 18, 23, 43)}, {'start': datetime.datetime(2017, 12, 1, 17, 3, 58), 'end': datetime.datetime(2017, 12, 1, 17, 10, 12)}, {'start': datetime.datetime(2017, 12, 2, 7, 55, 56), 'end': datetime.datetime(2017, 12, 2, 8, 1, 1)}, {'start': datetime.datetime(2017, 12, 2, 9, 16, 14), 'end': datetime.datetime(2017, 12, 2, 9, 21, 18)}, {'start': datetime.datetime(2017, 12, 2, 19, 48, 29), 'end': datetime.datetime(2017, 12, 2, 19, 53, 18)}, {'start': datetime.datetime(2017, 12, 3, 14, 36, 29), 'end': datetime.datetime(2017, 12, 3, 15, 20, 9)}, {'start': datetime.datetime(2017, 12, 3, 16, 4, 2), 'end': datetime.datetime(2017, 12, 3, 16, 25, 30)}, {'start': datetime.datetime(2017, 12, 3, 16, 40, 26), 'end': datetime.datetime(2017, 12, 3, 16, 43, 58)}, {'start': datetime.datetime(2017, 12, 3, 17, 20, 17), 'end': datetime.datetime(2017, 12, 3, 18, 4, 33)}, {'start': datetime.datetime(2017, 12, 4, 8, 34, 24), 'end': datetime.datetime(2017, 12, 4, 8, 51)}, {'start': datetime.datetime(2017, 12, 4, 17, 49, 26), 'end': datetime.datetime(2017, 12, 4, 17, 53, 57)}, {'start': datetime.datetime(2017, 12, 4, 18, 38, 52), 'end': datetime.datetime(2017, 12, 4, 18, 50, 33)}, {'start': datetime.datetime(2017, 12, 4, 21, 39, 20), 'end': datetime.datetime(2017, 12, 4, 21, 46, 58)}, {'start': datetime.datetime(2017, 12, 4, 21, 54, 21), 'end': datetime.datetime(2017, 12, 4, 21, 56, 17)}, {'start': datetime.datetime(2017, 12, 5, 8, 50, 50), 'end': datetime.datetime(2017, 12, 5, 8, 52, 54)}, {'start': datetime.datetime(2017, 12, 6, 8, 19, 38), 'end': datetime.datetime(2017, 12, 6, 8, 24, 14)}, {'start': datetime.datetime(2017, 12, 6, 18, 19, 19), 'end': datetime.datetime(2017, 12, 6, 18, 28, 11)}, {'start': datetime.datetime(2017, 12, 6, 18, 28, 55), 'end': datetime.datetime(2017, 12, 6, 18, 33, 12)}, {'start': datetime.datetime(2017, 12, 6, 20, 3, 29), 'end': datetime.datetime(2017, 12, 6, 20, 21, 38)}, {'start': datetime.datetime(2017, 12, 6, 20, 36, 42), 'end': datetime.datetime(2017, 12, 6, 20, 39, 57)}, {'start': datetime.datetime(2017, 12, 7, 5, 54, 51), 'end': datetime.datetime(2017, 12, 7, 6, 1, 15)}, {'start': datetime.datetime(2017, 12, 8, 16, 47, 18), 'end': datetime.datetime(2017, 12, 8, 16, 55, 49)}, {'start': datetime.datetime(2017, 12, 8, 19, 15, 2), 'end': datetime.datetime(2017, 12, 8, 19, 29, 12)}, {'start': datetime.datetime(2017, 12, 9, 22, 39, 37), 'end': datetime.datetime(2017, 12, 9, 22, 47, 19)}, {'start': datetime.datetime(2017, 12, 9, 23, 0, 10), 'end': datetime.datetime(2017, 12, 9, 23, 5, 32)}, {'start': datetime.datetime(2017, 12, 10, 0, 39, 24), 'end': datetime.datetime(2017, 12, 10, 0, 56, 2)}, {'start': datetime.datetime(2017, 12, 10, 1, 2, 42), 'end': datetime.datetime(2017, 12, 10, 1, 8, 9)}, {'start': datetime.datetime(2017, 12, 10, 1, 8, 57), 'end': datetime.datetime(2017, 12, 10, 1, 11, 30)}, {'start': datetime.datetime(2017, 12, 10, 13, 49, 9), 'end': datetime.datetime(2017, 12, 10, 13, 51, 41)}, {'start': datetime.datetime(2017, 12, 10, 15, 14, 29), 'end': datetime.datetime(2017, 12, 10, 15, 18, 19)}, {'start': datetime.datetime(2017, 12, 10, 15, 31, 7), 'end': datetime.datetime(2017, 12, 10, 15, 36, 28)}, {'start': datetime.datetime(2017, 12, 10, 16, 20, 6), 'end': datetime.datetime(2017, 12, 10, 16, 30, 31)}, {'start': datetime.datetime(2017, 12, 10, 17, 7, 54), 'end': datetime.datetime(2017, 12, 10, 17, 14, 25)}, {'start': datetime.datetime(2017, 12, 10, 17, 23, 47), 'end': datetime.datetime(2017, 12, 10, 17, 45, 25)}, {'start': datetime.datetime(2017, 12, 11, 6, 17, 6), 'end': datetime.datetime(2017, 12, 11, 6, 34, 4)}, {'start': datetime.datetime(2017, 12, 11, 9, 8, 41), 'end': datetime.datetime(2017, 12, 11, 9, 12, 21)}, {'start': datetime.datetime(2017, 12, 11, 9, 15, 41), 'end': datetime.datetime(2017, 12, 11, 9, 20, 18)}, {'start': datetime.datetime(2017, 12, 12, 8, 55, 53), 'end': datetime.datetime(2017, 12, 12, 8, 59, 34)}, {'start': datetime.datetime(2017, 12, 13, 17, 14, 56), 'end': datetime.datetime(2017, 12, 13, 17, 18, 32)}, {'start': datetime.datetime(2017, 12, 13, 18, 52, 16), 'end': datetime.datetime(2017, 12, 13, 19, 0, 45)}, {'start': datetime.datetime(2017, 12, 14, 9, 1, 10), 'end': datetime.datetime(2017, 12, 14, 9, 11, 6)}, {'start': datetime.datetime(2017, 12, 14, 9, 12, 59), 'end': datetime.datetime(2017, 12, 14, 9, 19, 6)}, {'start': datetime.datetime(2017, 12, 14, 11, 54, 33), 'end': datetime.datetime(2017, 12, 14, 12, 2)}, {'start': datetime.datetime(2017, 12, 14, 14, 40, 23), 'end': datetime.datetime(2017, 12, 14, 14, 44, 40)}, {'start': datetime.datetime(2017, 12, 14, 15, 8, 55), 'end': datetime.datetime(2017, 12, 14, 15, 26, 24)}, {'start': datetime.datetime(2017, 12, 14, 17, 46, 17), 'end': datetime.datetime(2017, 12, 14, 18, 9, 4)}, {'start': datetime.datetime(2017, 12, 15, 9, 8, 12), 'end': datetime.datetime(2017, 12, 15, 9, 23, 45)}, {'start': datetime.datetime(2017, 12, 16, 9, 33, 46), 'end': datetime.datetime(2017, 12, 16, 9, 36, 17)}, {'start': datetime.datetime(2017, 12, 16, 11, 2, 31), 'end': datetime.datetime(2017, 12, 16, 11, 5, 4)}, {'start': datetime.datetime(2017, 12, 17, 10, 9, 47), 'end': datetime.datetime(2017, 12, 17, 10, 32, 3)}, {'start': datetime.datetime(2017, 12, 18, 8, 2, 36), 'end': datetime.datetime(2017, 12, 18, 8, 7, 34)}, {'start': datetime.datetime(2017, 12, 18, 16, 3), 'end': datetime.datetime(2017, 12, 18, 16, 9, 20)}, {'start': datetime.datetime(2017, 12, 18, 16, 30, 7), 'end': datetime.datetime(2017, 12, 18, 16, 53, 12)}, {'start': datetime.datetime(2017, 12, 18, 19, 18, 23), 'end': datetime.datetime(2017, 12, 18, 19, 22, 8)}, {'start': datetime.datetime(2017, 12, 18, 20, 14, 46), 'end': datetime.datetime(2017, 12, 18, 20, 17, 47)}, {'start': datetime.datetime(2017, 12, 19, 19, 14, 8), 'end': datetime.datetime(2017, 12, 19, 19, 23, 49)}, {'start': datetime.datetime(2017, 12, 19, 19, 39, 36), 'end': datetime.datetime(2017, 12, 19, 19, 43, 46)}, {'start': datetime.datetime(2017, 12, 20, 8, 5, 14), 'end': datetime.datetime(2017, 12, 20, 8, 10, 46)}, {'start': datetime.datetime(2017, 12, 20, 8, 15, 45), 'end': datetime.datetime(2017, 12, 20, 8, 29, 50)}, {'start': datetime.datetime(2017, 12, 20, 8, 33, 32), 'end': datetime.datetime(2017, 12, 20, 8, 38, 9)}, {'start': datetime.datetime(2017, 12, 20, 13, 43, 36), 'end': datetime.datetime(2017, 12, 20, 13, 54, 39)}, {'start': datetime.datetime(2017, 12, 20, 18, 57, 53), 'end': datetime.datetime(2017, 12, 20, 19, 6, 54)}, {'start': datetime.datetime(2017, 12, 21, 7, 21, 11), 'end': datetime.datetime(2017, 12, 21, 7, 32, 3)}, {'start': datetime.datetime(2017, 12, 21, 8, 1, 58), 'end': datetime.datetime(2017, 12, 21, 8, 6, 15)}, {'start': datetime.datetime(2017, 12, 21, 13, 20, 54), 'end': datetime.datetime(2017, 12, 21, 13, 33, 49)}, {'start': datetime.datetime(2017, 12, 21, 15, 26, 8), 'end': datetime.datetime(2017, 12, 21, 15, 34, 27)}, {'start': datetime.datetime(2017, 12, 21, 18, 9, 46), 'end': datetime.datetime(2017, 12, 21, 18, 38, 50)}, {'start': datetime.datetime(2017, 12, 22, 16, 14, 21), 'end': datetime.datetime(2017, 12, 22, 16, 21, 46)}, {'start': datetime.datetime(2017, 12, 22, 16, 29, 17), 'end': datetime.datetime(2017, 12, 22, 16, 34, 14)}, {'start': datetime.datetime(2017, 12, 25, 12, 49, 51), 'end': datetime.datetime(2017, 12, 25, 13, 18, 27)}, {'start': datetime.datetime(2017, 12, 25, 13, 46, 44), 'end': datetime.datetime(2017, 12, 25, 14, 20, 50)}, {'start': datetime.datetime(2017, 12, 26, 10, 40, 16), 'end': datetime.datetime(2017, 12, 26, 10, 53, 45)}, {'start': datetime.datetime(2017, 12, 27, 16, 56, 12), 'end': datetime.datetime(2017, 12, 27, 17, 17, 39)}, {'start': datetime.datetime(2017, 12, 29, 6, 2, 34), 'end': datetime.datetime(2017, 12, 29, 6, 12, 30)}, {'start': datetime.datetime(2017, 12, 29, 12, 21, 3), 'end': datetime.datetime(2017, 12, 29, 12, 46, 16)}, {'start': datetime.datetime(2017, 12, 29, 14, 32, 55), 'end': datetime.datetime(2017, 12, 29, 14, 43, 46)}, {'start': datetime.datetime(2017, 12, 29, 15, 8, 26), 'end': datetime.datetime(2017, 12, 29, 15, 18, 51)}, {'start': datetime.datetime(2017, 12, 29, 20, 33, 34), 'end': datetime.datetime(2017, 12, 29, 20, 38, 13)}, {'start': datetime.datetime(2017, 12, 30, 13, 51, 3), 'end': datetime.datetime(2017, 12, 30, 13, 54, 33)}, {'start': datetime.datetime(2017, 12, 30, 15, 9, 3), 'end': datetime.datetime(2017, 12, 30, 15, 19, 13)}]"
   ]
  },
  {
   "cell_type": "code",
   "execution_count": 25,
   "id": "consolidated-award",
   "metadata": {},
   "outputs": [],
   "source": [
    "# Initialize a list for all the trip durations\n",
    "onebike_durations = []\n",
    "\n",
    "for trip in onebike_datetimes:\n",
    "    # Create a timedelta object corresponding to the length of the trip\n",
    "    trip_duration = trip['end'] - trip['start']\n",
    "\n",
    "    # Get the total elapsed seconds in trip_duration\n",
    "    trip_length_seconds = trip_duration.total_seconds()\n",
    "    \n",
    "    # Append the results to our list\n",
    "    onebike_durations.append(trip_length_seconds)"
   ]
  },
  {
   "cell_type": "markdown",
   "id": "immune-wound",
   "metadata": {},
   "source": [
    "## Average trip time\n",
    "\n",
    "W20529 took 291 trips in our data set. How long were the trips on average? We can use the built-in Python functions `sum()` and `len()` to make this calculation.\n",
    "\n",
    "Based on your last coding exercise, the data has been loaded as `onebike_durations`. Each entry is a number of seconds that the bike was out of the dock.\n",
    "\n",
    "Instructions\n",
    "\n",
    "1. Calculate `total_elapsed_time` across all trips in `onebike_durations`.\n",
    "2. Calculate `number_of_trips` for `onebike_durations`.\n",
    "3. Divide `total_elapsed_time` by `number_of_trips` to get the average trip length."
   ]
  },
  {
   "cell_type": "code",
   "execution_count": 26,
   "id": "damaged-antibody",
   "metadata": {},
   "outputs": [],
   "source": [
    "onebike_durations = [181.0, 7622.0, 343.0, 1278.0, 1277.0, 1366.0, 815.0, 545.0, 491.0, 639.0, 1678.0, 406.0, 709.0, 514.0, 492.0, 1668.0, 2242.0, 2752.0, 735.0, 330.0, 518.0, 1433.0, 204.0, 304.0, 977.0, 1399.0, 1244.0, 658.0, 800.0, 1911.0, 2471.0, 1344.0, 435.0, 271.0, 920.0, 851.0, 209.0, 453.0, 841.0, 142.0, 1023.0, 1466.0, 1636.0, 3039.0, 1571.0, 1410.0, 386.0, 1527.0, 622.0, 1450.0, 1422.0, 991.0, 1484.0, 1450.0, 929.0, 533.0, 525.0, 283.0, 133.0, 1106.0, 952.0, 553.0, 659.0, 297.0, 357.0, 989.0, 979.0, 760.0, 1110.0, 675.0, 1207.0, 1593.0, 768.0, 1446.0, 485.0, 200.0, 399.0, 242.0, 170.0, 450.0, 1078.0, 1042.0, 573.0, 748.0, 735.0, 336.0, 76913.0, 171.0, 568.0, 358.0, 917.0, 671.0, 1791.0, 318.0, 888.0, 1284.0, 11338.0, 1686.0, 5579.0, 8290.0, 1850.0, 1810.0, 870.0, 436.0, 429.0, 494.0, 1439.0, 380.0, 629.0, 962.0, 387.0, 952.0, 190.0, 739.0, 1120.0, 369.0, 2275.0, 873.0, 1670.0, 643.0, 572.0, 1375.0, 725.0, 688.0, 1041.0, 1707.0, 1236.0, 1291.0, 2890.0, -3346.0, 1213.0, 331.0, 1497.0, 527.0, 584.0, 2599.0, 759.0, 1291.0, 916.0, 161.0, 806.0, 838.0, 644.0, 374.0, 678.0, 137.0, 659.0, 386.0, 745.0, 448.0, 558.0, 888.0, 662.0, 663.0, 362.0, 513.0, 655.0, 221.0, 469.0, 430.0, 192.0, 324.0, 1233.0, 923.0, 961.0, 525.0, 1017.0, 1216.0, 747.0, 668.0, 1219.0, 1182.0, 10262.0, 1106.0, 399.0, 724.0, 330.0, 499.0, 968.0, 1310.0, 2629.0, 427.0, 839.0, 258.0, 396.0, 238.0, 745.0, 613.0, 710.0, 2068.0, 947.0, 1509.0, 254.0, 625.0, 479.0, 688.0, 238.0, 322.0, 304.0, 576.0, 1035.0, 661.0, 276.0, 1427.0, 998.0, 729.0, 723.0, 220.0, 212.0, 759.0, 268.0, 374.0, 305.0, 304.0, 289.0, 2620.0, 1288.0, 212.0, 2656.0, 996.0, 271.0, 701.0, 458.0, 116.0, 124.0, 276.0, 532.0, 257.0, 1089.0, 195.0, 384.0, 511.0, 850.0, 462.0, 322.0, 998.0, 327.0, 153.0, 152.0, 230.0, 321.0, 625.0, 391.0, 1298.0, 1018.0, 220.0, 277.0, 221.0, 216.0, 509.0, 596.0, 367.0, 447.0, 257.0, 1049.0, 1367.0, 933.0, 151.0, 153.0, 1336.0, 298.0, 380.0, 1385.0, 225.0, 181.0, 581.0, 250.0, 332.0, 845.0, 277.0, 663.0, 541.0, 652.0, 257.0, 775.0, 499.0, 1744.0, 445.0, 297.0, 1716.0, 2046.0, 809.0, 1287.0, 596.0, 1513.0, 651.0, 625.0, 279.0, 210.0, 610.0]"
   ]
  },
  {
   "cell_type": "code",
   "execution_count": 28,
   "id": "bibliographic-hometown",
   "metadata": {},
   "outputs": [
    {
     "data": {
      "text/plain": [
       "1178.9310344827586"
      ]
     },
     "execution_count": 28,
     "metadata": {},
     "output_type": "execute_result"
    }
   ],
   "source": [
    "# What was the total duration of all trips?\n",
    "total_elapsed_time = sum(onebike_durations)\n",
    "\n",
    "# What was the total number of trips?\n",
    "number_of_trips = len(onebike_durations)\n",
    "  \n",
    "# Divide the total duration by the number of trips\n",
    "total_elapsed_time / number_of_trips"
   ]
  },
  {
   "cell_type": "markdown",
   "id": "stock-buffer",
   "metadata": {},
   "source": [
    "## The long and the short of why time is hard\n",
    "\n",
    "Out of 291 trips taken by W20529, how long was the longest? How short was the shortest? Does anything look fishy?\n",
    "\n",
    "As before, data has been loaded as `onebike_durations`.\n",
    "\n",
    "Instructions\n",
    "\n",
    "1. Calculate `shortest_trip` from `onebike_durations`.\n",
    "2. Calculate `longest_trip` from `onebike_durations`.\n",
    "3. Print the results, turning `shortest_trip` and `longest_trip` into strings so they can print."
   ]
  },
  {
   "cell_type": "code",
   "execution_count": 30,
   "id": "crazy-county",
   "metadata": {},
   "outputs": [
    {
     "name": "stdout",
     "output_type": "stream",
     "text": [
      "The shortest trip was -3346.0 seconds\n",
      "The longest trip was 76913.0 seconds\n"
     ]
    }
   ],
   "source": [
    "# Calculate shortest and longest trips\n",
    "shortest_trip = min(onebike_durations)\n",
    "longest_trip = max(onebike_durations)\n",
    "\n",
    "# Print out the results\n",
    "print(f'The shortest trip was {str(shortest_trip)} seconds')\n",
    "print(f'The longest trip was {str(longest_trip)} seconds')"
   ]
  }
 ],
 "metadata": {
  "kernelspec": {
   "display_name": "Python 3",
   "language": "python",
   "name": "python3"
  },
  "language_info": {
   "codemirror_mode": {
    "name": "ipython",
    "version": 3
   },
   "file_extension": ".py",
   "mimetype": "text/x-python",
   "name": "python",
   "nbconvert_exporter": "python",
   "pygments_lexer": "ipython3",
   "version": "3.8.5"
  },
  "toc": {
   "base_numbering": 1,
   "nav_menu": {},
   "number_sections": true,
   "sideBar": true,
   "skip_h1_title": false,
   "title_cell": "Table of Contents",
   "title_sidebar": "Contents",
   "toc_cell": false,
   "toc_position": {},
   "toc_section_display": true,
   "toc_window_display": false
  },
  "varInspector": {
   "cols": {
    "lenName": 16,
    "lenType": 16,
    "lenVar": 40
   },
   "kernels_config": {
    "python": {
     "delete_cmd_postfix": "",
     "delete_cmd_prefix": "del ",
     "library": "var_list.py",
     "varRefreshCmd": "print(var_dic_list())"
    },
    "r": {
     "delete_cmd_postfix": ") ",
     "delete_cmd_prefix": "rm(",
     "library": "var_list.r",
     "varRefreshCmd": "cat(var_dic_list()) "
    }
   },
   "types_to_exclude": [
    "module",
    "function",
    "builtin_function_or_method",
    "instance",
    "_Feature"
   ],
   "window_display": false
  }
 },
 "nbformat": 4,
 "nbformat_minor": 5
}
