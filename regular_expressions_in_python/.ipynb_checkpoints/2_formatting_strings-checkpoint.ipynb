{
 "cells": [
  {
   "cell_type": "markdown",
   "id": "assumed-daily",
   "metadata": {},
   "source": [
    "## Put it in order!\n",
    "\n",
    "Your company is analyzing the best way to provide users with different online courses. Your job is to scrape Wikipedia pages searching for tools used in Data Science subfields. You'll store the tool and field name in a database. After a text analysis, you realize that the information is provided in a specific position of the text but sometimes the field name is given first and the tool after that, while in other cases it's the other way around.\n",
    "\n",
    "You decide to use positional formatting to handle these situations because it provides a way to reorder placeholders.\n",
    "\n",
    "The text of one article has already been saved in the variable `wikipedia_article`. Also, the empty list `my_list` is already defined.\n",
    "\n",
    "Instructions\n",
    "\n",
    "1. Assign the substrings going from the 4th to the 19th character inclusive, and from the 22nd to the 44th character inclusive of `wikipedia_article` to the variables `first_pos` and `second_pos`, respectively. Adjust the strings to be lowercase.\n",
    "2. Define a string with the text `\"The tool is used in\"` adding placeholders after the word `tool` and the word `in` for future positional formatting. Append it to the list `my_list`.\n",
    "3. Define a string with the text `\"The tool is used in\"` adding placeholders after the word `tool` and `in` but reorder them so the second argument passed to the method will replace the first placeholder. Append to the list `my_list`.\n",
    "4. Complete the for-loop so that it uses the `.format()` method and the variables `first_pos` and `second_pos` to print out every string in `my_list`."
   ]
  },
  {
   "cell_type": "code",
   "execution_count": 1,
   "id": "fabulous-spectacular",
   "metadata": {},
   "outputs": [],
   "source": [
    "wikipedia_article = 'In computer science, artificial intelligence (AI), sometimes called machine intelligence, is intelligence demonstrated by machines, in contrast to the natural intelligence displayed by humans and animals.'\n",
    "my_list = []"
   ]
  },
  {
   "cell_type": "code",
   "execution_count": 2,
   "id": "accepted-medication",
   "metadata": {},
   "outputs": [],
   "source": [
    "# Assign the substrings to the variables\n",
    "first_pos = wikipedia_article[3:19].lower()\n",
    "second_pos = wikipedia_article[21:44].lower()"
   ]
  },
  {
   "cell_type": "code",
   "execution_count": 3,
   "id": "third-things",
   "metadata": {},
   "outputs": [],
   "source": [
    "# Define string with placeholders \n",
    "my_list.append('The tool {} is used in {}')"
   ]
  },
  {
   "cell_type": "code",
   "execution_count": 4,
   "id": "sorted-binding",
   "metadata": {},
   "outputs": [],
   "source": [
    "# Define string with rearranged placeholders\n",
    "my_list.append('The tool {1} is used in {0}')"
   ]
  },
  {
   "cell_type": "code",
   "execution_count": 5,
   "id": "criminal-concern",
   "metadata": {},
   "outputs": [
    {
     "name": "stdout",
     "output_type": "stream",
     "text": [
      "The tool computer science is used in artificial intelligence\n",
      "The tool artificial intelligence is used in computer science\n"
     ]
    }
   ],
   "source": [
    "# Use format to print strings\n",
    "for my_string in my_list:\n",
    "    print(my_string.format(first_pos, second_pos))"
   ]
  },
  {
   "cell_type": "markdown",
   "id": "mature-robertson",
   "metadata": {},
   "source": [
    "## Calling by its name\n",
    "\n",
    "You have created your database with the tools and the different Data Science subfields they are used in. The company is considering creating courses using these tools and sending personalized emails to the users recommending the different topics. They have asked you to make this process more time-efficient. To do this, you want to create a template email with a standard message changing the different tools and corresponding field name.\n",
    "\n",
    "First, you want to try doing this with just one example as a proof of concept. You use positional formatting and named placeholders to call the variables in a dictionary.\n",
    "\n",
    "The variable `courses` containing one tool and one field name has been saved.\n",
    "\n",
    "Instructions\n",
    "\n",
    "1. Create a dictionary assigning the first and second element appearing in the list `courses` to the keys `\"field\"` and `\"tool\"` respectively.\n",
    "2. Complete the placeholders accessing inside to the elements linked with the keys `field` and `tool` in the dictionary `data`.\n",
    "3. Print out the resulting message using the `.format()` method, passing the `plan` dictionary to replace the `data` placeholders."
   ]
  },
  {
   "cell_type": "code",
   "execution_count": 6,
   "id": "offshore-thomson",
   "metadata": {},
   "outputs": [],
   "source": [
    "courses = ['artificial intelligence', 'neural networks']"
   ]
  },
  {
   "cell_type": "code",
   "execution_count": 7,
   "id": "uniform-salem",
   "metadata": {},
   "outputs": [],
   "source": [
    "# Create a dictionary\n",
    "plan = {'field': courses[0],\n",
    "        'tool': courses[1]}"
   ]
  },
  {
   "cell_type": "code",
   "execution_count": 8,
   "id": "powerful-civilization",
   "metadata": {},
   "outputs": [
    {
     "data": {
      "text/plain": [
       "'If you are interested in artificial intelligence, you can take the course related to neural networks'"
      ]
     },
     "execution_count": 8,
     "metadata": {},
     "output_type": "execute_result"
    }
   ],
   "source": [
    "# Complete the placeholders accessing elements of field and tool keys in the data dictionary\n",
    "my_message = 'If you are interested in {data[field]}, you can take the course related to {data[tool]}'\n",
    "\n",
    "# Use the plan dictionary to replace placeholders\n",
    "my_message.format(data=plan)"
   ]
  },
  {
   "cell_type": "markdown",
   "id": "hidden-multiple",
   "metadata": {},
   "source": [
    "## What day is today?\n",
    "\n",
    "It's lunch time and you are talking with some of your colleagues. They comment that they feel that every morning someone should send them a reminder of what day it is so they can check in the calendar what their assignments are for that day.\n",
    "\n",
    "You want to help out and decide to write a small script that takes the date and time of the day so that every morning, a message is sent to your colleagues. You can use the module `datetime` along with named placeholders to achieve your goal.\n",
    "\n",
    "The date should be expressed as `Month day, year`, e.g. `April 16, 2019` and the time as `hh:mm`, e.g. `16:30`.\n",
    "\n",
    "You write down some specifiers to help you: `%d` (day), `%B` (monthname), `%m` (monthnumber), `%Y` (year), `%H` (hour) and `%M` (minutes)\n",
    "\n",
    "Instructions\n",
    "\n",
    "1. Import the function `datetime` from the module `datetime`.\n",
    "2. Obtain the date of today and assign it to the variable `get_date`.\n",
    "3. Complete the string `message` by adding to the placeholders named `today` and the format specifiers to format the date as `month_name day, year` and time as `hour:minutes`.\n",
    "4. Print the message using the `.format()` method and the variable `get_date` to replace the named placeholders."
   ]
  },
  {
   "cell_type": "code",
   "execution_count": 9,
   "id": "central-tsunami",
   "metadata": {},
   "outputs": [
    {
     "name": "stdout",
     "output_type": "stream",
     "text": [
      "Good morning. Today is June 22, 2021. It's 13:27 ... time to work!\n"
     ]
    }
   ],
   "source": [
    "# Import datetime \n",
    "from datetime import datetime\n",
    "\n",
    "# Assign date to get_date\n",
    "get_date = datetime.now()\n",
    "\n",
    "# Add named placeholders with format specifiers\n",
    "message = \"Good morning. Today is {today:%B %d, %Y}. It's {today:%H:%M} ... time to work!\"\n",
    "\n",
    "# Format date\n",
    "print(message.format(today=get_date))"
   ]
  },
  {
   "cell_type": "markdown",
   "id": "postal-gather",
   "metadata": {},
   "source": [
    "## Literally formatting\n",
    "\n",
    "While analyzing the text from Wikipedia pages, you read that Python 3.6 introduced _f-strings_.\n",
    "\n",
    "You remember that you've created a website that displayed data science facts but it was too slow. You think that it could be due to the string formatting you used. Because f-strings are very fast and easy to use, you decide to rewrite that project.\n",
    "\n",
    "The variables `field1`, `field2` and `field3` containing character strings as well as the numeric variables `fact1`, `fact2`, `fact3` and `fact4` have been saved.\n",
    "\n",
    "Instructions\n",
    "\n",
    "1. Complete the f-string to include the variable `field1` with quotes and the variable `fact1` as a digit.\n",
    "2. Complete the f-string to include the variable `fact2` using exponential notation, and the variable `field2`.\n",
    "3. Complete the f-string to include `field3` together with `fact3` rounded to 2 decimals, and `fact4` rounded to one decimal."
   ]
  },
  {
   "cell_type": "code",
   "execution_count": 10,
   "id": "dietary-contract",
   "metadata": {},
   "outputs": [],
   "source": [
    "field1 = 'sexiest job'\n",
    "field2 = 'data is produced daily'\n",
    "field3 = 'Individuals'\n",
    "fact1 = 21\n",
    "fact2 = 2500000000000000000\n",
    "fact3 = 72.41415415151\n",
    "fact4 = 1.09"
   ]
  },
  {
   "cell_type": "code",
   "execution_count": 11,
   "id": "absolute-donna",
   "metadata": {},
   "outputs": [
    {
     "name": "stdout",
     "output_type": "stream",
     "text": [
      "Data science is considered 'sexiest job' in the 21st century\n"
     ]
    }
   ],
   "source": [
    "# Complete the f-string\n",
    "print(f'Data science is considered {field1!r} in the {fact1}st century')"
   ]
  },
  {
   "cell_type": "code",
   "execution_count": 12,
   "id": "acoustic-clock",
   "metadata": {},
   "outputs": [
    {
     "name": "stdout",
     "output_type": "stream",
     "text": [
      "About 2.500000e+18 of data is produced daily in the world\n"
     ]
    }
   ],
   "source": [
    "# Complete the f-string\n",
    "print(f'About {fact2:e} of {field2} in the world')"
   ]
  },
  {
   "cell_type": "code",
   "execution_count": 13,
   "id": "governing-anchor",
   "metadata": {},
   "outputs": [
    {
     "name": "stdout",
     "output_type": "stream",
     "text": [
      "Individuals create around 72.41% of the data but only 1.1% is analyzed\n"
     ]
    }
   ],
   "source": [
    "# Complete the f-string\n",
    "print(f'{field3} create around {fact3:.2f}% of the data but only {fact4:.1f}% is analyzed')"
   ]
  },
  {
   "cell_type": "markdown",
   "id": "arctic-partition",
   "metadata": {},
   "source": [
    "## Make this function\n",
    "\n",
    "Wow! You are excited to see how fast and easy f-strings worked. So you plan to rewrite some more of your old code.\n",
    "\n",
    "Now you know that _f-strings_ allow you to evaluate expressions where they appear and include function and method calls. You decide to use them in a project where you analyze 120 tweets to check if they include links to different news. In that way, you expect the code to be cleaner and more readable.\n",
    "\n",
    "The variables `number1`, `number2`, `string1`, and `list_links` have already been pre-loaded.\n",
    "\n",
    "Instructions\n",
    "\n",
    "1. Inside the f-string, include `number1`, `number2` and the result of dividing `number1` by `number2` rounded to one decimal.\n",
    "2. Inside the f-string, use `.replace()` to replace the substring `https` with an empty substring in `string1`.\n",
    "3. Inside the f-string, get `list_links` length, multiply it by 100 and divide it by 120. Round the result to two decimals."
   ]
  },
  {
   "cell_type": "code",
   "execution_count": 14,
   "id": "descending-piece",
   "metadata": {},
   "outputs": [],
   "source": [
    "number1 = 120\n",
    "number2 = 7\n",
    "string1 = 'httpswww.datacamp.com'\n",
    "list_links = ['www.news.com',\n",
    "              'www.google.com',\n",
    "              'www.yahoo.com',\n",
    "              'www.bbc.com',\n",
    "              'www.msn.com',\n",
    "              'www.facebook.com',\n",
    "              'www.news.google.com']"
   ]
  },
  {
   "cell_type": "code",
   "execution_count": 15,
   "id": "alpine-medium",
   "metadata": {},
   "outputs": [
    {
     "name": "stdout",
     "output_type": "stream",
     "text": [
      "120 tweets were downloaded in 7 minutes indicating a speed of 17.1 tweets per min\n"
     ]
    }
   ],
   "source": [
    "# Include both variables and the result of dividing them \n",
    "print(f'{number1} tweets were downloaded in {number2} minutes indicating a speed of {number1/number2:.1f} tweets per min')"
   ]
  },
  {
   "cell_type": "code",
   "execution_count": 16,
   "id": "swedish-tomato",
   "metadata": {},
   "outputs": [
    {
     "name": "stdout",
     "output_type": "stream",
     "text": [
      "www.datacamp.com\n"
     ]
    }
   ],
   "source": [
    "# Replace the substring https by an empty string\n",
    "print(f\"{string1.replace('https', '')}\")"
   ]
  },
  {
   "cell_type": "code",
   "execution_count": 17,
   "id": "active-antarctica",
   "metadata": {},
   "outputs": [
    {
     "name": "stdout",
     "output_type": "stream",
     "text": [
      "Only 5.83% of the posts contain links\n"
     ]
    }
   ],
   "source": [
    "# Divide the length of list by 120 rounded to two decimals\n",
    "print(f'Only {(len(list_links)*100)/120:.2f}% of the posts contain links')"
   ]
  },
  {
   "cell_type": "markdown",
   "id": "stuck-haven",
   "metadata": {},
   "source": [
    "## On time\n",
    "\n",
    "Lastly, you want to rewrite an old real estate prediction project. At the time, you obtained historical information about house prices and used it to make a prediction on future values.\n",
    "\n",
    "The date was in the datetime format: `datetime.datetime(1990, 3, 17)` but to print it out, you format it as `3-17-1990`. You also remember that you defined a dictionary for each neighborhood. Now, you believe that you can handle both type of data better with _f-strings_.\n",
    "\n",
    "Two dictionaries, `east` and `west`, both with the keys `date` and `price`, have already been loaded.\n",
    "\n",
    "Instructions\n",
    "\n",
    "1. Inside the f-string, access the values of the keys `price` and `date` in `east` dictionary. Format the date to `month-day-year`.\n",
    "2. Inside the f-string, access the values of the keys `price` and `date` in `west` dictionary. Format the date to `month-day-year`."
   ]
  },
  {
   "cell_type": "code",
   "execution_count": 26,
   "id": "intensive-headset",
   "metadata": {},
   "outputs": [],
   "source": [
    "import datetime\n",
    "east = {'date': datetime.datetime(2007, 4, 20, 0, 0), 'price': 1232443}\n",
    "west = {'date': datetime.datetime(2006, 5, 26, 0, 0), 'price': 1432673}"
   ]
  },
  {
   "cell_type": "code",
   "execution_count": 29,
   "id": "initial-malawi",
   "metadata": {},
   "outputs": [
    {
     "name": "stdout",
     "output_type": "stream",
     "text": [
      "The price for a house in the east neighborhood was $1232443 in 04-20-2007.\n"
     ]
    }
   ],
   "source": [
    "# Access values of date and price in east dictionary\n",
    "print(f\"The price for a house in the east neighborhood was ${east['price']} in {east['date']:%m-%d-%Y}.\")"
   ]
  },
  {
   "cell_type": "code",
   "execution_count": 30,
   "id": "normal-allergy",
   "metadata": {},
   "outputs": [
    {
     "name": "stdout",
     "output_type": "stream",
     "text": [
      "The price for a house in the west neighborhood was $1432673 in 05-26-2006.\n"
     ]
    }
   ],
   "source": [
    "# Access values of date and price in west dictionary\n",
    "print(f\"The price for a house in the west neighborhood was ${west['price']} in {west['date']:%m-%d-%Y}.\")"
   ]
  },
  {
   "cell_type": "markdown",
   "id": "wireless-likelihood",
   "metadata": {},
   "source": [
    "## Preparing a report\n",
    "\n",
    "Once again, you scraped Wikipedia pages. This time, you searched for the description of useful tools used for text mining. Your first task is to prepare a report about different tools you found. You want to format the information contained in the dataset to be printed out as: `(tool) is a (description)`.\n",
    "\n",
    "In this case, template strings are the best solution to interpolate data generated by external sources into an already created template.\n",
    "\n",
    "For this example, the variables `tool1`, `tool2` and `tool3` contain three article titles. Each variable `description1`, `description2` and `description3` contains the corresponding article description.\n",
    "\n",
    "Instructions\n",
    "\n",
    "1. First of all, import `Template` from `string` module.\n",
    "2. Complete the template using `$tool` and `$description` identifiers.\n",
    "3. "
   ]
  },
  {
   "cell_type": "code",
   "execution_count": 31,
   "id": "apparent-helena",
   "metadata": {},
   "outputs": [],
   "source": [
    "tool1 = 'Natural Language Toolkit'\n",
    "tool2 = 'TextBlob'\n",
    "tool3 = 'Gensim'\n",
    "description1 = 'suite of libraries and programs for symbolic and statistical natural language processing (NLP) for English written in the Python programming language. It was developed by Steven Bird and Edward Loper in the Department of Computer and Information Science at the University of Pennsylvania.'\n",
    "description2 = 'Python library for processing textual data. It provides a simple API for diving into common natural language processing tasks such as part-of-speech tagging, noun phrase extraction, sentiment analysis, classification, translation, and more.'\n",
    "description3 = 'robust open-source vector space modeling and topic modeling toolkit implemented in Python. It uses NumPy, SciPy and optionally Cython for performance. Gensim is specifically designed to handle large text collections, using data streaming and efficient incremental algorithms, which differentiates it from most other scientific software packages that only target batch and in-memory processing.'"
   ]
  },
  {
   "cell_type": "code",
   "execution_count": 34,
   "id": "still-facial",
   "metadata": {},
   "outputs": [
    {
     "name": "stdout",
     "output_type": "stream",
     "text": [
      "Natural Language Toolkit is a suite of libraries and programs for symbolic and statistical natural language processing (NLP) for English written in the Python programming language. It was developed by Steven Bird and Edward Loper in the Department of Computer and Information Science at the University of Pennsylvania.\n",
      "TextBlob is a Python library for processing textual data. It provides a simple API for diving into common natural language processing tasks such as part-of-speech tagging, noun phrase extraction, sentiment analysis, classification, translation, and more.\n",
      "Gensim is a robust open-source vector space modeling and topic modeling toolkit implemented in Python. It uses NumPy, SciPy and optionally Cython for performance. Gensim is specifically designed to handle large text collections, using data streaming and efficient incremental algorithms, which differentiates it from most other scientific software packages that only target batch and in-memory processing.\n"
     ]
    }
   ],
   "source": [
    "# Import Template\n",
    "from string import Template\n",
    "\n",
    "# Create a template\n",
    "wikipedia = Template('$tool is a $description')\n",
    "\n",
    "# Substitute variables in template\n",
    "print(wikipedia.substitute(tool=tool1, description=description1))\n",
    "print(wikipedia.substitute(tool=tool2, description=description2))\n",
    "print(wikipedia.substitute(tool=tool3, description=description3))"
   ]
  },
  {
   "cell_type": "markdown",
   "id": "medieval-calendar",
   "metadata": {},
   "source": [
    "## Identifying prices\n",
    "\n",
    "After you showed your report to your boss, he came up with the idea of offering courses to the company's users on some of the tools you studied. In order to make a pilot test, you will send an email offering a course about one of the tools, randomly chosen from your dataset. You also mention that the estimated fee needs to be paid on a monthly basis.\n",
    "\n",
    "For writing the email, you will use Template strings. You remember that you need to be careful when you use the dollar sign since it is used for identifiers in this case.\n",
    "\n",
    "For this example, the list `tools` contains the corresponding tool name, fee and payment type for the product offer.\n",
    "\n",
    "Instructions\n",
    "\n",
    "1. Assign the first, second, and third element of `tools` to the variables `our_tool`, `our_fee` and `our_pay` respectively.\n",
    "2. Complete the template string using `$tool`, `$fee`, and `$pay` as identifiers. Add the dollar sign before the `$fee` identifier and add the characters `ly` directly after the `$pay` identifier.\n",
    "3. Substitute identifiers with the three variables you created and print out the results."
   ]
  },
  {
   "cell_type": "code",
   "execution_count": 35,
   "id": "anticipated-difference",
   "metadata": {},
   "outputs": [],
   "source": [
    "tools = ['Natural Language Toolkit', '20', 'month']"
   ]
  },
  {
   "cell_type": "code",
   "execution_count": 37,
   "id": "expected-missouri",
   "metadata": {},
   "outputs": [
    {
     "name": "stdout",
     "output_type": "stream",
     "text": [
      "We are offering a 3-month beginner course on Natural Language Toolkit just for $ 20 monthly\n"
     ]
    }
   ],
   "source": [
    "# Import template\n",
    "from string import Template\n",
    "\n",
    "# Select variables\n",
    "our_tool = 'Natural Language Toolkit'\n",
    "our_fee = '20'\n",
    "our_pay = 'month'\n",
    "\n",
    "# Create template\n",
    "course = Template('We are offering a 3-month beginner course on $tool just for $$ $fee ${pay}ly')\n",
    "\n",
    "# Substitute identifiers with three variables\n",
    "print(course.substitute(tool=our_tool, fee=our_fee, pay=our_pay))"
   ]
  },
  {
   "cell_type": "markdown",
   "id": "indian-theta",
   "metadata": {},
   "source": [
    "## Playing safe\n",
    "\n",
    "You are in charge of a new project! Your job is to start collecting information from the company's main application users. You will make an online quiz and ask your users to voluntarily answer two questions. However, it is not mandatory for the user to answer both. You will be handling user-provided strings so you decide to use the Template method to print the input information. This allows users to double-check their answers before submitting them.\n",
    "\n",
    "The answer of one user has been stored in the dictionary `answers`.\n",
    "\n",
    "Instructions\n",
    "\n",
    "1. Complete the template string using `$answer1` and `$answer2` as identifiers.\n",
    "2. Use the method `.substitute()` to replace the identifiers with the values in `answers` in the predefined template.\n",
    "3. Use the method `.safe_substitute()` to replace the identifiers with the values in `answers` in the predefined template."
   ]
  },
  {
   "cell_type": "code",
   "execution_count": 38,
   "id": "productive-number",
   "metadata": {},
   "outputs": [],
   "source": [
    "answers = {'answer1': 'I really like the app. But there are some features that can be improved'}"
   ]
  },
  {
   "cell_type": "code",
   "execution_count": 39,
   "id": "hourly-reviewer",
   "metadata": {},
   "outputs": [
    {
     "name": "stdout",
     "output_type": "stream",
     "text": [
      "Missing information\n"
     ]
    }
   ],
   "source": [
    "# Import template\n",
    "from string import Template\n",
    "\n",
    "# Complete template string using identifiers\n",
    "the_answers = Template('Check your answer 1: $answer1, and your answer 2: $answer2')\n",
    "\n",
    "# Use substitute to replace identifiers\n",
    "try:\n",
    "    print(the_answers.substitute(answers))\n",
    "except KeyError:\n",
    "    print('Missing information')"
   ]
  },
  {
   "cell_type": "code",
   "execution_count": 40,
   "id": "norwegian-today",
   "metadata": {},
   "outputs": [
    {
     "name": "stdout",
     "output_type": "stream",
     "text": [
      "Check your answer 1: I really like the app. But there are some features that can be improved, and your answer 2: $answer2\n"
     ]
    }
   ],
   "source": [
    "# Import template\n",
    "from string import Template\n",
    "\n",
    "# Complete template string using identifiers\n",
    "the_answers = Template('Check your answer 1: $answer1, and your answer 2: $answer2')\n",
    "\n",
    "# Use safe_substitute to replace identifiers\n",
    "try:\n",
    "    print(the_answers.safe_substitute(answers))\n",
    "except KeyError:\n",
    "    print('Missing information')"
   ]
  }
 ],
 "metadata": {
  "kernelspec": {
   "display_name": "Python 3",
   "language": "python",
   "name": "python3"
  },
  "language_info": {
   "codemirror_mode": {
    "name": "ipython",
    "version": 3
   },
   "file_extension": ".py",
   "mimetype": "text/x-python",
   "name": "python",
   "nbconvert_exporter": "python",
   "pygments_lexer": "ipython3",
   "version": "3.8.5"
  },
  "toc": {
   "base_numbering": 1,
   "nav_menu": {},
   "number_sections": false,
   "sideBar": true,
   "skip_h1_title": false,
   "title_cell": "Table of Contents",
   "title_sidebar": "Contents",
   "toc_cell": false,
   "toc_position": {},
   "toc_section_display": true,
   "toc_window_display": false
  },
  "varInspector": {
   "cols": {
    "lenName": 16,
    "lenType": 16,
    "lenVar": 40
   },
   "kernels_config": {
    "python": {
     "delete_cmd_postfix": "",
     "delete_cmd_prefix": "del ",
     "library": "var_list.py",
     "varRefreshCmd": "print(var_dic_list())"
    },
    "r": {
     "delete_cmd_postfix": ") ",
     "delete_cmd_prefix": "rm(",
     "library": "var_list.r",
     "varRefreshCmd": "cat(var_dic_list()) "
    }
   },
   "types_to_exclude": [
    "module",
    "function",
    "builtin_function_or_method",
    "instance",
    "_Feature"
   ],
   "window_display": false
  }
 },
 "nbformat": 4,
 "nbformat_minor": 5
}
