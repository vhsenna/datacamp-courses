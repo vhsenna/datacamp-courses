{
 "cells": [
  {
   "cell_type": "markdown",
   "id": "breathing-feeding",
   "metadata": {},
   "source": [
    "# Regular Expressions in Python\n",
    "\n",
    "- 4 hours\n",
    "- 15 Videos\n",
    "- 54 Exercises\n",
    "\n",
    "## Course Description\n",
    "\n",
    "As a data scientist, you will encounter many situations where you will need to extract key information from huge corpora of text, clean messy data containing strings, or detect and match patterns to find useful words. All of these situations are part of text mining and are an important step before applying machine learning algorithms. This course will take you through understanding compelling concepts about string manipulation and regular expressions. You will learn how to split strings, join them back together, interpolate them, as well as detect, extract, replace, and match strings using regular expressions. On the journey to master these skills, you will work with datasets containing movie reviews or streamed tweets that can be used to determine opinion, as well as with raw text scraped from the web.\n",
    "\n",
    "### 1 Basic Concepts of String Manipulation\n",
    "\n",
    "Start your journey into the regular expression world! From slicing and concatenating, adjusting the case, removing spaces, to finding and replacing strings. You will learn how to master basic operation for string manipulation using a movie review dataset.\n",
    "\n",
    "- Introduction to string manipulation\n",
    "- First day!\n",
    "- Artificial reviews\n",
    "- Palindromes\n",
    "- String operations\n",
    "- Normalizing reviews\n",
    "- Time to join!\n",
    "- Split lines or split the line?\n",
    "- Finding and replacing\n",
    "- Finding a substring\n",
    "- Where's the word?\n",
    "- Replacing negations\n",
    "\n",
    "### 2 Formatting Strings\n",
    "\n",
    "Following your journey, you will learn the main approaches that can be used to format or interpolate strings in python using a dataset containing information scraped from the web. You will explore the advantages and disadvantages of using positional formatting, embedding expressing inside string constants, and using the Template class.\n",
    "\n",
    "- Positional formatting\n",
    "- Put it in order!\n",
    "- Calling by its name\n",
    "- What day is today?\n",
    "- Formatted string literal\n",
    "- Literally formatting\n",
    "- Make this function\n",
    "- On time\n",
    "- Template method\n",
    "- Preparing a report\n",
    "- Identifying prices\n",
    "- Playing safe\n",
    "\n",
    "### 3 Regular Expressions for Pattern Matching\n",
    "\n",
    "Time to discover the fundamental concepts of regular expressions! In this key chapter, you will learn to understand the basic concepts of regular expression syntax. Using a real dataset with tweets meant for sentiment analysis, you will learn how to apply pattern matching using normal and special characters, and greedy and lazy quantifiers.\n",
    "\n",
    "- Introduction to regular expressions\n",
    "- Are they bots?\n",
    "- Find the numbers\n",
    "- Match and split\n",
    "- Repetitions\n",
    "- Everything clean\n",
    "- Some time ago\n",
    "- Getting tokens\n",
    "- Regex metacharacters\n",
    "- Finding files\n",
    "- Give me your email\n",
    "- Invalid password\n",
    "- Greedy vs. non-greedy matching\n",
    "- Understanding the difference\n",
    "- Greedy matching\n",
    "- Lazy approach\n",
    "\n",
    "### 4 Advanced Regular Expression Concepts\n",
    "\n",
    "In the last step of your journey, you will learn more complex methods of pattern matching using parentheses to group strings together or to match the same text as matched previously. Also, you will get an idea of how you can look around expressions.\n",
    "\n",
    "- Capturing groups\n",
    "- Try another name\n",
    "- Flying home\n",
    "- Alternation and non-capturing groups\n",
    "- Love it!\n",
    "- Ugh! Not for me!\n",
    "- Backreferences\n",
    "- Parsing PDF files\n",
    "- Close the tag, please!\n",
    "- Reeepeated characters\n",
    "- Lookaround\n",
    "- Surrounding words\n",
    "- Filtering phone numbers\n",
    "- Finishing line"
   ]
  }
 ],
 "metadata": {
  "kernelspec": {
   "display_name": "Python 3",
   "language": "python",
   "name": "python3"
  },
  "language_info": {
   "codemirror_mode": {
    "name": "ipython",
    "version": 3
   },
   "file_extension": ".py",
   "mimetype": "text/x-python",
   "name": "python",
   "nbconvert_exporter": "python",
   "pygments_lexer": "ipython3",
   "version": "3.8.5"
  },
  "toc": {
   "base_numbering": 1,
   "nav_menu": {},
   "number_sections": false,
   "sideBar": true,
   "skip_h1_title": false,
   "title_cell": "Table of Contents",
   "title_sidebar": "Contents",
   "toc_cell": false,
   "toc_position": {},
   "toc_section_display": true,
   "toc_window_display": false
  },
  "varInspector": {
   "cols": {
    "lenName": 16,
    "lenType": 16,
    "lenVar": 40
   },
   "kernels_config": {
    "python": {
     "delete_cmd_postfix": "",
     "delete_cmd_prefix": "del ",
     "library": "var_list.py",
     "varRefreshCmd": "print(var_dic_list())"
    },
    "r": {
     "delete_cmd_postfix": ") ",
     "delete_cmd_prefix": "rm(",
     "library": "var_list.r",
     "varRefreshCmd": "cat(var_dic_list()) "
    }
   },
   "types_to_exclude": [
    "module",
    "function",
    "builtin_function_or_method",
    "instance",
    "_Feature"
   ],
   "window_display": false
  }
 },
 "nbformat": 4,
 "nbformat_minor": 5
}
