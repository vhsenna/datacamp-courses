{
 "cells": [
  {
   "cell_type": "markdown",
   "id": "reasonable-isaac",
   "metadata": {},
   "source": [
    "## First day!\n",
    "\n",
    "Congratulations! It's your first day as a data scientist in the company! Your first project is to build a model for predicting if a movie will get a positive or negative review.\n",
    "You need to start exploring your dataset. In order to create a function that will scan each movie review, you want to know how many characters every string has and print the result out together with a statement that indicate what the number refers to. To test if your function works correctly, you are going to start by analyzing only one example.\n",
    "\n",
    "The text of one movie review has been already saved in the variable `movie`.\n",
    "Instructions\n",
    "\n",
    "1. Find out how many characters the variable `movie` has.\n",
    "2. Convert the numeric variable `length_string` to a string representation.\n",
    "3. Concatenate the predefined variable `statement` and the variable `to_string` adding a space between them. Print out the result."
   ]
  },
  {
   "cell_type": "code",
   "execution_count": 1,
   "id": "transsexual-desert",
   "metadata": {},
   "outputs": [],
   "source": [
    "statement = \"Number of characters in this review:\"\n",
    "movie = 'fox and kelley soon become bitter rivals because the new fox books store is opening up right across the block from the small business .'"
   ]
  },
  {
   "cell_type": "code",
   "execution_count": 2,
   "id": "judicial-specification",
   "metadata": {},
   "outputs": [],
   "source": [
    "# Find characters in movie variable\n",
    "length_string = len(movie)"
   ]
  },
  {
   "cell_type": "code",
   "execution_count": 3,
   "id": "unable-dependence",
   "metadata": {},
   "outputs": [],
   "source": [
    "# Convert to string\n",
    "to_string = str(length_string)"
   ]
  },
  {
   "cell_type": "code",
   "execution_count": 4,
   "id": "lovely-tolerance",
   "metadata": {},
   "outputs": [
    {
     "name": "stdout",
     "output_type": "stream",
     "text": [
      "Number of characters in this review: 135\n"
     ]
    }
   ],
   "source": [
    "# Concatenate strings and print result\n",
    "print(statement + ' ' + to_string)"
   ]
  },
  {
   "cell_type": "markdown",
   "id": "iraqi-pastor",
   "metadata": {},
   "source": [
    "## Artificial reviews\n",
    "\n",
    "While checking out the movie reviews in your dataset, you realize that some of them show an atypical pattern. Since you should only include true reviews in your analysis, you decide to extract the suspicious ones that follow this pattern. You want to see if it is possible to artificially create reviews by using the first and last part of one example review and changing a keyword in the middle.\n",
    "\n",
    "The text of two movie reviews has been already saved in the variables `movie1` and `movie2`.\n",
    "\n",
    "_Remember:_ The 1st character of a string has index 0.\n",
    "\n",
    "Instructions\n",
    "\n",
    "1. Select the first 32 characters of the variable `movie1` and assign it to the variable `first_part`.\n",
    "2. Select the substring going from the 43rd character to the end of `movie1`. Assign it to the variable `last_part`.\n",
    "3. Select the substring going from the 33rd to the 42nd character of `movie2`. Assign it to the variable `middle_part`.\n",
    "4. Print the concatenation of the variables `first_part`, `middle_part` and `last_part` in that order. Print the variable `movie2` and compare them."
   ]
  },
  {
   "cell_type": "code",
   "execution_count": 5,
   "id": "fourth-diesel",
   "metadata": {},
   "outputs": [],
   "source": [
    "movie1 = 'the most significant tension of _election_ is the potential relationship between a teacher and his student .'\n",
    "movie2 = 'the most significant tension of _rushmore_ is the potential relationship between a teacher and his student .'"
   ]
  },
  {
   "cell_type": "code",
   "execution_count": 6,
   "id": "multiple-indicator",
   "metadata": {},
   "outputs": [],
   "source": [
    "# Select the first 32 characters of movie1\n",
    "first_part = movie1[:32]"
   ]
  },
  {
   "cell_type": "code",
   "execution_count": 7,
   "id": "center-gospel",
   "metadata": {},
   "outputs": [],
   "source": [
    "# Select from 43rd character to the end of movie1\n",
    "last_part = movie1[42:]"
   ]
  },
  {
   "cell_type": "code",
   "execution_count": 8,
   "id": "turned-flour",
   "metadata": {},
   "outputs": [],
   "source": [
    "# Select from 33rd to the 42nd character of movie2\n",
    "middle_part = movie2[32:42]"
   ]
  },
  {
   "cell_type": "code",
   "execution_count": 9,
   "id": "retained-reserve",
   "metadata": {},
   "outputs": [
    {
     "name": "stdout",
     "output_type": "stream",
     "text": [
      "the most significant tension of _rushmore_ is the potential relationship between a teacher and his student .\n",
      "the most significant tension of _rushmore_ is the potential relationship between a teacher and his student .\n"
     ]
    }
   ],
   "source": [
    "# Print concatenation and movie2 variable\n",
    "print(first_part+middle_part+last_part) \n",
    "print(movie2)"
   ]
  },
  {
   "cell_type": "markdown",
   "id": "whole-ozone",
   "metadata": {},
   "source": [
    "## Palindromes\n",
    "\n",
    "Next, you are committed to find any peculiarity in the words included in the movie review dataset. A palindrome is a sequence of characters which can be read the same backward as forward, for example: `Madam` or `No lemon, no melon`. You realize that there are some funny movie names that can have this characteristic. You want to make a list of all movie titles that are funny palindromes but you will start by analyzing one example.\n",
    "\n",
    "In python, you can also specify steps by using a third index. If you don't specify the first or second index and the third one is negative, it will return the characters jumping and backwards.\n",
    "\n",
    "The text of a movie review for one example has been already saved in the variable `movie`.\n",
    "\n",
    "Instructions\n",
    "\n",
    "1. Extract the substring from the 12th to the 30th character from the variable `movie` which corresponds to the movie title. Store it in the variable `movie_title`.\n",
    "2. Get the palindrome by reversing the string contained in `movie_title`.\n",
    "3. Complete the code to print out the `movie_title` if it is a palindrome."
   ]
  },
  {
   "cell_type": "code",
   "execution_count": 10,
   "id": "recognized-kruger",
   "metadata": {},
   "outputs": [],
   "source": [
    "movie = 'oh my God! desserts I stressed was an ugly movie'"
   ]
  },
  {
   "cell_type": "code",
   "execution_count": 11,
   "id": "industrial-mentor",
   "metadata": {},
   "outputs": [
    {
     "name": "stdout",
     "output_type": "stream",
     "text": [
      "desserts I stressed\n"
     ]
    }
   ],
   "source": [
    "# Get the word\n",
    "movie_title = movie[11:30]\n",
    "\n",
    "# Obtain the palindrome\n",
    "palindrome = movie_title[::-1]\n",
    "\n",
    "# Print the word if it's a palindrome\n",
    "if movie_title == palindrome:\n",
    "    print(movie_title)"
   ]
  },
  {
   "cell_type": "markdown",
   "id": "associate-worker",
   "metadata": {},
   "source": [
    "## Normalizing reviews\n",
    "\n",
    "It's time to extract some important words present in your movie review dataset. First, you need to normalize them and then, count their frequency. Part of the normalization implies converting all the words to lowercase, removing special characters and extracting the root of a word so you count the variants as one.\n",
    "\n",
    "So imagine you have the following reviews: `The movie surprises me very much` and `Marvel movies always surprise their audience`. If you count the word frequency, you will count `surprises` one time and `surprise` one time. However, the verb `surprise` appears in both and its frequency should be two.\n",
    "\n",
    "The text of a movie review for only one example has been already saved in the variable `movie`.\n",
    "\n",
    "Instructions\n",
    "\n",
    "1. Convert the string in the variable `movie` to lowercase. Print the result.\n",
    "2. Remove the `$` that occur at the start and at the end of the string contained in `movie_lower`. Print the results.\n",
    "3. Split the string contained in `movie_no_sign` into as many substrings as possible. Print the results.\n",
    "4. To get the root of the second word contained in `movie_split`, select all the characters except the last one."
   ]
  },
  {
   "cell_type": "code",
   "execution_count": 12,
   "id": "square-footage",
   "metadata": {},
   "outputs": [],
   "source": [
    "movie = '$I supposed that coming from MTV Films I should expect no less$'"
   ]
  },
  {
   "cell_type": "code",
   "execution_count": 13,
   "id": "facial-marketplace",
   "metadata": {},
   "outputs": [
    {
     "data": {
      "text/plain": [
       "'$i supposed that coming from mtv films i should expect no less$'"
      ]
     },
     "execution_count": 13,
     "metadata": {},
     "output_type": "execute_result"
    }
   ],
   "source": [
    "# Convert to lowercase and print the result\n",
    "movie_lower = movie.lower()\n",
    "movie_lower"
   ]
  },
  {
   "cell_type": "code",
   "execution_count": 14,
   "id": "failing-union",
   "metadata": {},
   "outputs": [
    {
     "data": {
      "text/plain": [
       "'i supposed that coming from mtv films i should expect no less'"
      ]
     },
     "execution_count": 14,
     "metadata": {},
     "output_type": "execute_result"
    }
   ],
   "source": [
    "# Remove specified character and print the result\n",
    "movie_no_sign = movie_lower.strip('$')\n",
    "movie_no_sign"
   ]
  },
  {
   "cell_type": "code",
   "execution_count": 15,
   "id": "deadly-gothic",
   "metadata": {},
   "outputs": [
    {
     "data": {
      "text/plain": [
       "['i',\n",
       " 'supposed',\n",
       " 'that',\n",
       " 'coming',\n",
       " 'from',\n",
       " 'mtv',\n",
       " 'films',\n",
       " 'i',\n",
       " 'should',\n",
       " 'expect',\n",
       " 'no',\n",
       " 'less']"
      ]
     },
     "execution_count": 15,
     "metadata": {},
     "output_type": "execute_result"
    }
   ],
   "source": [
    "# Split the string into substrings and print the result\n",
    "movie_split = movie_no_sign.split()\n",
    "movie_split"
   ]
  },
  {
   "cell_type": "code",
   "execution_count": 16,
   "id": "vocational-doctrine",
   "metadata": {},
   "outputs": [
    {
     "data": {
      "text/plain": [
       "'suppose'"
      ]
     },
     "execution_count": 16,
     "metadata": {},
     "output_type": "execute_result"
    }
   ],
   "source": [
    "# Select root word and print the result\n",
    "word_root = movie_split[1][:-1]\n",
    "word_root"
   ]
  },
  {
   "cell_type": "markdown",
   "id": "opponent-string",
   "metadata": {},
   "source": [
    "## Time to join!\n",
    "\n",
    "While normalizing your text, you noticed that one review had a particular structure. This review ends with the HTML tag `<\\i>` and it has a lot of commas in different places of the sentence. You decide to remove the tag from the end and use the strategy of splitting the string and joining it back again without the commas.\n",
    "\n",
    "The text of a movie review has been already saved in the variable `movie`.\n",
    "\n",
    "Instructions\n",
    "\n",
    "1. Remove tag `<\\i>` from the end of the string. Print the results.\n",
    "2. Split the string contained in `movie_tag` using the commas as a separating element. Print the results.\n",
    "3. Join back together the list of substring contained in `movie_no_comma` using a space as a join element. Print the results."
   ]
  },
  {
   "cell_type": "code",
   "execution_count": 17,
   "id": "rolled-avatar",
   "metadata": {},
   "outputs": [],
   "source": [
    "movie = 'the film,however,is all good<\\\\i>'"
   ]
  },
  {
   "cell_type": "code",
   "execution_count": 18,
   "id": "nonprofit-stock",
   "metadata": {},
   "outputs": [
    {
     "data": {
      "text/plain": [
       "'the film,however,is all good'"
      ]
     },
     "execution_count": 18,
     "metadata": {},
     "output_type": "execute_result"
    }
   ],
   "source": [
    "# Remove tags happening at the end and print results\n",
    "movie_tag = movie.strip('<\\i>')\n",
    "movie_tag"
   ]
  },
  {
   "cell_type": "code",
   "execution_count": 19,
   "id": "offensive-bulletin",
   "metadata": {},
   "outputs": [
    {
     "data": {
      "text/plain": [
       "['the film', 'however', 'is all good']"
      ]
     },
     "execution_count": 19,
     "metadata": {},
     "output_type": "execute_result"
    }
   ],
   "source": [
    "# Split the string using commas and print results\n",
    "movie_no_comma = movie_tag.split(\",\")\n",
    "movie_no_comma"
   ]
  },
  {
   "cell_type": "code",
   "execution_count": 20,
   "id": "ecological-transparency",
   "metadata": {},
   "outputs": [
    {
     "data": {
      "text/plain": [
       "'the film however is all good'"
      ]
     },
     "execution_count": 20,
     "metadata": {},
     "output_type": "execute_result"
    }
   ],
   "source": [
    "# Join back together and print results\n",
    "movie_join = ' '.join(movie_no_comma)\n",
    "movie_join"
   ]
  },
  {
   "cell_type": "markdown",
   "id": "handy-sixth",
   "metadata": {},
   "source": [
    "## Split lines or split the line?\n",
    "\n",
    "You are about to leave work when a colleague asks you to use your string manipulation skills to help him. You need to read strings from a file in a way that if the file contains strings on different lines, they are stored as separate elements. He also wants you to break the strings into pieces if you see that they contain commas.\n",
    "\n",
    "The text of the file has been already saved in the variable `file`.\n",
    "\n",
    "Instructions\n",
    "\n",
    "1. Split the string `file` into many substrings at line boundaries.\n",
    "2. Print out the resulting variable `file_split`.\n",
    "3. Complete the for-loop to split the strings into many substrings using commas as a separator element."
   ]
  },
  {
   "cell_type": "code",
   "execution_count": 21,
   "id": "blessed-neutral",
   "metadata": {},
   "outputs": [],
   "source": [
    "file = 'mtv films election, a high school comedy, is a current example\\nfrom there, director steven spielberg wastes no time, taking us into the water on a midnight swim'"
   ]
  },
  {
   "cell_type": "code",
   "execution_count": 22,
   "id": "advisory-timothy",
   "metadata": {},
   "outputs": [
    {
     "name": "stdout",
     "output_type": "stream",
     "text": [
      "['mtv films election', ' a high school comedy', ' is a current example']\n",
      "['from there', ' director steven spielberg wastes no time', ' taking us into the water on a midnight swim']\n"
     ]
    }
   ],
   "source": [
    "# Split string at line boundaries\n",
    "file_split = file.splitlines()\n",
    "\n",
    "# Print file_split\n",
    "file_split\n",
    "\n",
    "# Complete for-loop to split by commas\n",
    "for substring in file_split:\n",
    "    substring_split = substring.split(sep=',')\n",
    "    print(substring_split)"
   ]
  },
  {
   "cell_type": "markdown",
   "id": "disciplinary-discipline",
   "metadata": {},
   "source": [
    "## Finding a substring\n",
    "\n",
    "It's a new day at work and you need to continue cleaning your dataset for the movie prediction project. While exploring the dataset, you notice a strange pattern: there are some repeated, consecutive words occurring between the character at position 37 and the character at position 41. You decide to write a function to find out which movie reviews show this peculiarity, remembering that the ending position you specify is not inclusive. If you detect the word, you also want to change the string by replacing it with only one instance of the word.\n",
    "\n",
    "Complete the if-else statement following the instructions.\n",
    "\n",
    "The text of three movie reviews has been already saved in the variable `movies`.\n",
    "\n",
    "Instructions\n",
    "\n",
    "1. Find if the substring `actor` occurs between the characters with index `37` and `41` inclusive. If it is not detected, print the statement `Word not found`.\n",
    "2. Replace `actor actor` with the substring `actor` if `actor` occurs only two repeated times.\n",
    "3. Replace `actor actor actor` with the substring `actor` if `actor` appears three repeated times."
   ]
  },
  {
   "cell_type": "code",
   "execution_count": 23,
   "id": "arbitrary-border",
   "metadata": {},
   "outputs": [],
   "source": [
    "import pandas as pd\n",
    "\n",
    "movies = pd.Series(data={'200': \"it's clear that he's passionate about his beliefs , and that he's not just a punk looking for an excuse to beat people up .\",\n",
    "                         '201': 'I believe you I always said that the actor actor actor is amazing in every movie he has played',\n",
    "                         '202': \"it's astonishing how frightening the actor actor norton looks with a shaved head and a swastika on his chest.\"})"
   ]
  },
  {
   "cell_type": "code",
   "execution_count": 24,
   "id": "gothic-amino",
   "metadata": {},
   "outputs": [
    {
     "name": "stdout",
     "output_type": "stream",
     "text": [
      "Word not found\n",
      "I believe you I always said that the actor is amazing in every movie he has played\n",
      "it's astonishing how frightening the actor norton looks with a shaved head and a swastika on his chest.\n"
     ]
    }
   ],
   "source": [
    "for movie in movies:\n",
    "    # If actor is not found between character 37 and 41 inclusive\n",
    "    # Print word not found\n",
    "    if movie.find('actor', 37, 42) == -1:\n",
    "        print('Word not found')\n",
    "    # Count occurrences and replace two with one\n",
    "    elif movie.count('actor') == 2:  \n",
    "        print(movie.replace('actor actor', 'actor'))\n",
    "    else:\n",
    "        # Replace three occurrences with one\n",
    "        print(movie.replace('actor actor actor', 'actor'))"
   ]
  },
  {
   "cell_type": "markdown",
   "id": "broke-marking",
   "metadata": {},
   "source": [
    "## Where's the word?\n",
    "\n",
    "Before finishing cleaning your dataset, you want to check if a specific word occurs in the reviews. You noticed earlier a specific pattern in the strings. Now, you want to create a function to check if a word is present between characters with index 12, and 50, remembering that ending position is exclusive, and print out the lowest index where this word occurs. There are two methods to handle this situation. You want to see which one works best.\n",
    "\n",
    "The text of two movie reviews has been already saved in the variable `movies`.\n",
    "\n",
    "Instructions\n",
    "\n",
    "1. Find the index where `money` occurs between characters with index 12 and 50. If not found, the method should return -1.\n",
    "2. Find the index where `money` occurs between characters with index 12 and 50. If not found, it should raise an error."
   ]
  },
  {
   "cell_type": "code",
   "execution_count": 25,
   "id": "certain-rugby",
   "metadata": {},
   "outputs": [],
   "source": [
    "movies = pd.Series(data={'137': \"heck , jackie doesn't even have enough money for a haircut , looks like , much less a personal hairstylist .\",\n",
    "                         '138': \"in condor , chan plays the same character he's always played , himself , a mixture of bruce lee and tim allen , a master of both kung-fu and slapstick-fu .\"})"
   ]
  },
  {
   "cell_type": "code",
   "execution_count": 26,
   "id": "satisfied-share",
   "metadata": {},
   "outputs": [
    {
     "name": "stdout",
     "output_type": "stream",
     "text": [
      "39\n",
      "-1\n"
     ]
    }
   ],
   "source": [
    "for movie in movies:\n",
    "    # Find the first occurrence of word\n",
    "    print(movie.find('money', 12, 51))"
   ]
  },
  {
   "cell_type": "code",
   "execution_count": 28,
   "id": "narrow-quilt",
   "metadata": {},
   "outputs": [
    {
     "name": "stdout",
     "output_type": "stream",
     "text": [
      "39\n",
      "substring not found\n"
     ]
    }
   ],
   "source": [
    "for movie in movies:\n",
    "    try:\n",
    "        # Find the first occurrence of word\n",
    "        print(movie.index('money', 12, 51))\n",
    "    except ValueError:\n",
    "        print('substring not found')"
   ]
  },
  {
   "cell_type": "markdown",
   "id": "coral-sydney",
   "metadata": {},
   "source": [
    "## Replacing negations\n",
    "\n",
    "In order to keep working with your prediction project, your next task is to figure out how to handle negations that occur in your dataset. Some algorithms for prediction do not work well with negations, so a good way to handle this is to remove either `not` or `n't`, and to replace the next word by its antonym.\n",
    "\n",
    "Let's imagine that you have the string: `The movie isn't good`. You will need to remove `n't` and replace `good` for `bad`. This way, your string ends up being `The movie is bad`. You notice that in the first column of the dataset, you have a string that uses the word `isn't` followed by `important`.\n",
    "\n",
    "The text of this column has been already saved in the variable `movies` so you start working with it.\n",
    "\n",
    "Instructions\n",
    "\n",
    "1. Replace the substring `isn't` with the word `is`.\n",
    "2. Replace the substring `important` with the word `insignificant`.\n",
    "3. Print out the result contained in the variable `movies_antonym`."
   ]
  },
  {
   "cell_type": "code",
   "execution_count": 29,
   "id": "collaborative-startup",
   "metadata": {},
   "outputs": [],
   "source": [
    "movies = \"the rest of the story isn't important because all it does is serve as a mere backdrop for the two stars to share the screen .\""
   ]
  },
  {
   "cell_type": "code",
   "execution_count": 30,
   "id": "african-philadelphia",
   "metadata": {},
   "outputs": [
    {
     "data": {
      "text/plain": [
       "'the rest of the story is insignificant because all it does is serve as a mere backdrop for the two stars to share the screen .'"
      ]
     },
     "execution_count": 30,
     "metadata": {},
     "output_type": "execute_result"
    }
   ],
   "source": [
    "# Replace negations\n",
    "movies_no_negation = movies.replace(\"isn't\", 'is')\n",
    "\n",
    "# Replace important\n",
    "movies_antonym = movies_no_negation.replace('important', 'insignificant')\n",
    "\n",
    "# Print out\n",
    "movies_antonym"
   ]
  }
 ],
 "metadata": {
  "kernelspec": {
   "display_name": "Python 3",
   "language": "python",
   "name": "python3"
  },
  "language_info": {
   "codemirror_mode": {
    "name": "ipython",
    "version": 3
   },
   "file_extension": ".py",
   "mimetype": "text/x-python",
   "name": "python",
   "nbconvert_exporter": "python",
   "pygments_lexer": "ipython3",
   "version": "3.8.5"
  },
  "toc": {
   "base_numbering": 1,
   "nav_menu": {},
   "number_sections": false,
   "sideBar": true,
   "skip_h1_title": false,
   "title_cell": "Table of Contents",
   "title_sidebar": "Contents",
   "toc_cell": false,
   "toc_position": {},
   "toc_section_display": true,
   "toc_window_display": false
  },
  "varInspector": {
   "cols": {
    "lenName": 16,
    "lenType": 16,
    "lenVar": 40
   },
   "kernels_config": {
    "python": {
     "delete_cmd_postfix": "",
     "delete_cmd_prefix": "del ",
     "library": "var_list.py",
     "varRefreshCmd": "print(var_dic_list())"
    },
    "r": {
     "delete_cmd_postfix": ") ",
     "delete_cmd_prefix": "rm(",
     "library": "var_list.r",
     "varRefreshCmd": "cat(var_dic_list()) "
    }
   },
   "types_to_exclude": [
    "module",
    "function",
    "builtin_function_or_method",
    "instance",
    "_Feature"
   ],
   "window_display": false
  }
 },
 "nbformat": 4,
 "nbformat_minor": 5
}
