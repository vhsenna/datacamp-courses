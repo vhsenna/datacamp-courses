{
 "cells": [
  {
   "cell_type": "markdown",
   "id": "decent-breakdown",
   "metadata": {},
   "source": [
    "# Interactive Data Visualization with Bokeh\n",
    "\n",
    "- 4 hours\n",
    "- 17 Videos\n",
    "- 63 Exercises\n",
    "\n",
    "## Course Description\n",
    "\n",
    "Bokeh is an interactive data visualization library for Python—and other languages—that targets modern web browsers for presentation. It can create versatile, data-driven graphics and connect the full power of the entire Python data science stack to create rich, interactive visualizations.\n",
    "\n",
    "### 1 Basic plotting with Bokeh\n",
    "\n",
    "This chapter provides an introduction to basic plotting with Bokeh. You will create your first plots, learn about different data formats Bokeh understands, and make visual customizations for selections and mouse hovering.\n",
    "\n",
    "- Plotting with glyphs\n",
    "- What are glyphs?\n",
    "- A simple scatter plot\n",
    "- A scatter plot with different shapes\n",
    "- Customizing your scatter plots\n",
    "- Additional glyphs\n",
    "- Lines\n",
    "- Lines and markers\n",
    "- Patches\n",
    "- Data formats\n",
    "- Plotting data from NumPy arrays\n",
    "- Plotting data from Pandas DataFrames\n",
    "- The Bokeh ColumnDataSource\n",
    "- The Bokeh ColumnDataSource (continued)\n",
    "- Customizing glyphs\n",
    "- Selection and non-selection glyphs\n",
    "- Hover glyphs\n",
    "- Colormapping\n",
    "\n",
    "### 2 Layouts, Interactions, and Annotations\n",
    "\n",
    "Learn how to combine multiple Bokeh plots into different kinds of layouts on a page, how to easily link different plots together, and how to add annotations such as legends and hover tooltips.\n",
    "\n",
    "- Introduction to layouts\n",
    "- Creating rows of plots\n",
    "- Creating columns of plots\n",
    "- Nesting rows and columns of plots\n",
    "- Advanced layouts\n",
    "- Investigating the layout API\n",
    "- Creating gridded layouts\n",
    "- Starting tabbed layouts\n",
    "- Displaying tabbed layouts\n",
    "- Linking plots together\n",
    "- Linked axes\n",
    "- Linked brushing\n",
    "- Annotations and guides\n",
    "- How to create legends\n",
    "- Positioning and styling legends\n",
    "- Hover tooltips for exposing details\n",
    "- Adding a hover tooltip\n",
    "\n",
    "### 3 Building interactive apps with Bokeh\n",
    "\n",
    "Bokeh server applications allow you to connect all of the powerful Python libraries for data science and analytics, such as NumPy and pandas to create rich, interactive Bokeh visualizations. Learn about Bokeh's built-in widgets, how to add them to Bokeh documents alongside plots, and how to connect everything to real Python code using the Bokeh server.\n",
    "\n",
    "- Introducing the Bokeh Server\n",
    "- Understanding Bokeh apps\n",
    "- Using the current document\n",
    "- Add a single slider\n",
    "- Multiple sliders in one document\n",
    "- Connecting sliders to plots\n",
    "- Adding callbacks to sliders\n",
    "- How to combine Bokeh models into layouts\n",
    "- Learn about widget callbacks\n",
    "- Updating plots from dropdowns\n",
    "- Updating data sources from dropdown callbacks\n",
    "- Synchronize two dropdowns\n",
    "- Buttons\n",
    "- Button widgets\n",
    "- Button styles\n",
    "- Hosting applications for wider audiences"
   ]
  }
 ],
 "metadata": {
  "kernelspec": {
   "display_name": "Python 3",
   "language": "python",
   "name": "python3"
  },
  "language_info": {
   "codemirror_mode": {
    "name": "ipython",
    "version": 3
   },
   "file_extension": ".py",
   "mimetype": "text/x-python",
   "name": "python",
   "nbconvert_exporter": "python",
   "pygments_lexer": "ipython3",
   "version": "3.8.5"
  },
  "toc": {
   "base_numbering": 1,
   "nav_menu": {},
   "number_sections": false,
   "sideBar": true,
   "skip_h1_title": false,
   "title_cell": "Table of Contents",
   "title_sidebar": "Contents",
   "toc_cell": false,
   "toc_position": {},
   "toc_section_display": true,
   "toc_window_display": false
  },
  "varInspector": {
   "cols": {
    "lenName": 16,
    "lenType": 16,
    "lenVar": 40
   },
   "kernels_config": {
    "python": {
     "delete_cmd_postfix": "",
     "delete_cmd_prefix": "del ",
     "library": "var_list.py",
     "varRefreshCmd": "print(var_dic_list())"
    },
    "r": {
     "delete_cmd_postfix": ") ",
     "delete_cmd_prefix": "rm(",
     "library": "var_list.r",
     "varRefreshCmd": "cat(var_dic_list()) "
    }
   },
   "types_to_exclude": [
    "module",
    "function",
    "builtin_function_or_method",
    "instance",
    "_Feature"
   ],
   "window_display": false
  }
 },
 "nbformat": 4,
 "nbformat_minor": 5
}
