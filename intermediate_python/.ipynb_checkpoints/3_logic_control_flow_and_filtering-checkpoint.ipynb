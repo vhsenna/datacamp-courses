{
 "cells": [
  {
   "cell_type": "markdown",
   "metadata": {},
   "source": [
    "## Equality\n",
    "\n",
    "To check if two Python values, or variables, are equal you can use `==`.\n",
    "\n",
    "To check for inequality, you need `!=`. As a refresher, have a look at the following examples that all result in `True`.\n",
    "```\n",
    "2 == (1 + 1)\n",
    "\"intermediate\" != \"python\"\n",
    "True != False\n",
    "\"Python\" != \"python\"\n",
    "```\n",
    "When you write these comparisons in a script, you will need to wrap a [`print()`](https://docs.python.org/3/library/functions.html#print) function around them to see the output.\n",
    "\n",
    "Instructions\n",
    "\n",
    "1. Write code to see if `True` equals `False`.\n",
    "2. Write Python code to check if `-5 * 15` is _not_ equal to `75`.\n",
    "3. Ask Python whether the strings `\"pyscript\"` and `\"PyScript\"` are equal.\n",
    "4. What happens if you compare booleans and integers? Write code to see if `True` and `1` are equal."
   ]
  },
  {
   "cell_type": "code",
   "execution_count": 2,
   "metadata": {},
   "outputs": [
    {
     "name": "stdout",
     "output_type": "stream",
     "text": [
      "False\n",
      "True\n",
      "False\n",
      "True\n"
     ]
    }
   ],
   "source": [
    "# Comparison of booleans\n",
    "print(True == False)\n",
    "\n",
    "# Comparison of integers\n",
    "print(-5 * 15 != 75)\n",
    "\n",
    "# Comparison of strings\n",
    "print('pyscript' == 'PyScript')\n",
    "\n",
    "# Compare a boolean with an integer\n",
    "print(True == 1)"
   ]
  },
  {
   "cell_type": "markdown",
   "metadata": {},
   "source": [
    "## Greater and less than\n",
    "\n",
    "In the video, Hugo also talked about the less than and greater than signs, `<` and `>` in Python. You can combine them with an equals sign: `<=` and `>=`. Pay attention: `<=` is valid syntax, but `=<` is not.\n",
    "\n",
    "All Python expressions in the following code chunk evaluate to `True`:\n",
    "```\n",
    "3 < 4\n",
    "3 <= 4\n",
    "\"alpha\" <= \"beta\"\n",
    "```\n",
    "Remember that for string comparison, Python determines the relationship based on alphabetical order.\n",
    "\n",
    "Instructions\n",
    "\n",
    "1. Write Python expressions, wrapped in a [`print()`](https://docs.python.org/3/library/functions.html#print) function, to check whether:\n",
    "    1. `x` is greater than or equal to `-10`.\n",
    "    2. `\"test\"` is less than or equal to `y`.\n",
    "    3. `True` is greater than `False`."
   ]
  },
  {
   "cell_type": "code",
   "execution_count": 3,
   "metadata": {},
   "outputs": [
    {
     "name": "stdout",
     "output_type": "stream",
     "text": [
      "False\n",
      "True\n",
      "True\n"
     ]
    }
   ],
   "source": [
    "# Comparison of integers\n",
    "x = -3 * 6\n",
    "print(x >= -10)\n",
    "\n",
    "# Comparison of strings\n",
    "y = \"test\"\n",
    "print('test' <= y)\n",
    "\n",
    "# Comparison of booleans\n",
    "print(True > False)"
   ]
  },
  {
   "cell_type": "markdown",
   "metadata": {},
   "source": [
    "## Compare arrays\n",
    "\n",
    "Out of the box, you can also use comparison operators with Numpy arrays.\n",
    "\n",
    "Remember `areas`, the list of area measurements for different rooms in your house from _Introduction to Python_? This time there's two Numpy arrays: `my_house` and `your_house`. They both contain the areas for the kitchen, living room, bedroom and bathroom in the same order, so you can compare them.\n",
    "\n",
    "Instructions\n",
    "\n",
    "1. Using comparison operators, generate boolean arrays that answer the following questions:\n",
    "    1. Which areas in `my_house` are greater than or equal to `18`?\n",
    "    2. You can also compare two Numpy arrays element-wise. Which areas in `my_house` are smaller than the ones in `your_house`?\n",
    "    3. Make sure to wrap both commands in a [`print()`](https://docs.python.org/3/library/functions.html#print) statement so that you can inspect the output!"
   ]
  },
  {
   "cell_type": "code",
   "execution_count": 1,
   "metadata": {},
   "outputs": [
    {
     "name": "stdout",
     "output_type": "stream",
     "text": [
      "[ True  True False False]\n",
      "[False  True  True False]\n"
     ]
    }
   ],
   "source": [
    "# Create arrays\n",
    "import numpy as np\n",
    "my_house = np.array([18.0, 20.0, 10.75, 9.50])\n",
    "your_house = np.array([14.0, 24.0, 14.25, 9.0])\n",
    "\n",
    "# my_house greater than or equal to 18\n",
    "print(my_house >= 18)\n",
    "\n",
    "# my_house less than your_house\n",
    "print(my_house < your_house)"
   ]
  },
  {
   "cell_type": "markdown",
   "metadata": {},
   "source": [
    "## and, or, not (1)\n",
    "\n",
    "A boolean is either `1` or `0`, `True` or `False`. With boolean operators such as `and`, `or` and `not`, you can combine these booleans to perform more advanced queries on your data.\n",
    "\n",
    "In the sample code on the right, two variables are defined: `my_kitchen` and `your_kitchen`, representing areas.\n",
    "\n",
    "Instructions\n",
    "\n",
    "1. Write Python expressions, wrapped in a [`print()`](https://docs.python.org/3/library/functions.html#print) function, to check whether:\n",
    "    1. `my_kitchen` is bigger than 10 and smaller than 18.\n",
    "    2. `my_kitchen` is smaller than 14 or bigger than 17.\n",
    "    3. Double the area of `my_kitchen` is smaller than triple the area of `your_kitchen`."
   ]
  },
  {
   "cell_type": "code",
   "execution_count": 7,
   "metadata": {},
   "outputs": [
    {
     "name": "stdout",
     "output_type": "stream",
     "text": [
      "False\n",
      "True\n",
      "True\n"
     ]
    }
   ],
   "source": [
    "# Define variables\n",
    "my_kitchen = 18.0\n",
    "your_kitchen = 14.0\n",
    "\n",
    "# my_kitchen bigger than 10 and smaller than 18?\n",
    "print(my_kitchen > 10 and my_kitchen < 18)\n",
    "\n",
    "# my_kitchen smaller than 14 or bigger than 17?\n",
    "print(my_kitchen < 14 or my_kitchen > 17)\n",
    "\n",
    "# Double my_kitchen smaller than triple your_kitchen?\n",
    "print(2 * my_kitchen < 3 * your_kitchen)"
   ]
  },
  {
   "cell_type": "markdown",
   "metadata": {},
   "source": [
    "## and, or, not (2)\n",
    "\n",
    "To see if you completely understood the boolean operators, have a look at the following piece of Python code:\n",
    "\n",
    "```\n",
    "x = 8\n",
    "y = 9\n",
    "not(not(x < 3) and not(y > 14 or y > 10))\n",
    "```\n",
    "\n",
    "What will the result be if you execute these three commands in the IPython Shell?\n",
    "\n",
    "_NB: Notice that `not` has a higher priority than `and` and `or`, it is executed first._"
   ]
  },
  {
   "cell_type": "markdown",
   "metadata": {},
   "source": [
    "False"
   ]
  },
  {
   "cell_type": "markdown",
   "metadata": {},
   "source": [
    "## Boolean operators with Numpy\n",
    "\n",
    "Before, the operational operators like `<` and `>=` worked with Numpy arrays out of the box. Unfortunately, this is not true for the boolean operators `and`, `or`, and `not`.\n",
    "\n",
    "To use these operators with Numpy, you will need [`np.logical_and()`](http://docs.scipy.org/doc/numpy-1.10.0/reference/generated/numpy.logical_and.html), [`np.logical_or()`](http://docs.scipy.org/doc/numpy-1.10.0/reference/generated/numpy.logical_or.html) and [`np.logical_not()`](http://docs.scipy.org/doc/numpy-1.10.0/reference/generated/numpy.logical_not.html). Here's an example on the `my_house` and `your_house` arrays from before to give you an idea:\n",
    "\n",
    "```\n",
    "np.logical_and(my_house > 13, \n",
    "               your_house < 15)\n",
    "```\n",
    "\n",
    "Instructions\n",
    "\n",
    "1. Generate boolean arrays that answer the following questions:\n",
    "2. Which areas in `my_house` are greater than `18.5` or smaller than `10`?\n",
    "3. Which areas are smaller than `11` in both `my_house` and `your_house`? Make sure to wrap both commands in print() statement, so that you can inspect the output."
   ]
  },
  {
   "cell_type": "code",
   "execution_count": 8,
   "metadata": {},
   "outputs": [
    {
     "name": "stdout",
     "output_type": "stream",
     "text": [
      "[False  True False  True]\n",
      "[False False False  True]\n"
     ]
    }
   ],
   "source": [
    "# Create arrays\n",
    "my_house = np.array([18.0, 20.0, 10.75, 9.50])\n",
    "your_house = np.array([14.0, 24.0, 14.25, 9.0])\n",
    "\n",
    "# my_house greater than 18.5 or smaller than 10\n",
    "print(np.logical_or(my_house > 18.5, my_house < 10))\n",
    "\n",
    "# Both my_house and your_house smaller than 11\n",
    "print(np.logical_and(my_house < 11, your_house < 11))"
   ]
  },
  {
   "cell_type": "markdown",
   "metadata": {},
   "source": [
    "## Warmup\n",
    "\n",
    "To experiment with `if` and `else` a bit, have a look at this code sample:\n",
    "\n",
    "```\n",
    "area = 10.0\n",
    "if(area < 9) :\n",
    "    print(\"small\")\n",
    "elif(area < 12) :\n",
    "    print(\"medium\")\n",
    "else :\n",
    "    print(\"large\")\n",
    "```\n",
    "\n",
    "What will the output be if you run this piece of code in the IPython Shell?"
   ]
  },
  {
   "cell_type": "markdown",
   "metadata": {},
   "source": [
    "Medium"
   ]
  },
  {
   "cell_type": "markdown",
   "metadata": {},
   "source": [
    "## if\n",
    "\n",
    "It's time to take a closer look around in your house.\n",
    "\n",
    "Two variables are defined in the sample code: `room`, a string that tells you which room of the house we're looking at, and `area`, the area of that room.\n",
    "\n",
    "Instructions\n",
    "\n",
    "1. Examine the `if` statement that prints out `\"Looking around in the kitchen.\"` if `room` equals `\"kit\"`.\n",
    "2. Write another `if` statement that prints out `\"big place!\"` if `area` is greater than 15."
   ]
  },
  {
   "cell_type": "code",
   "execution_count": 2,
   "metadata": {},
   "outputs": [
    {
     "name": "stdout",
     "output_type": "stream",
     "text": [
      "looking around in the kitchen.\n"
     ]
    }
   ],
   "source": [
    "# Define variables\n",
    "room = 'kit'\n",
    "area = 14.0\n",
    "\n",
    "# if statement for room\n",
    "if room == 'kit':\n",
    "    print('looking around in the kitchen.')\n",
    "    \n",
    "# if statement for area\n",
    "if area > 15:\n",
    "    print('big place!')"
   ]
  },
  {
   "cell_type": "markdown",
   "metadata": {},
   "source": [
    "## Add else\n",
    "On the right, the `if` construct for `room` has been extended with an `else` statement so that \"looking around elsewhere.\" is printed if the condition `room == \"kit\"` evaluates to `False`.\n",
    "\n",
    "Can you do a similar thing to add more functionality to the `if` construct for `area`?\n",
    "\n",
    "Instructions\n",
    "\n",
    "1. Add an `else` statement to the second control structure so that \"pretty small.\" is printed out if `area > 15` evaluates to `False`."
   ]
  },
  {
   "cell_type": "code",
   "execution_count": 3,
   "metadata": {},
   "outputs": [
    {
     "name": "stdout",
     "output_type": "stream",
     "text": [
      "looking around in the kitchen.\n",
      "pretty small.\n"
     ]
    }
   ],
   "source": [
    "# Define variables\n",
    "room = 'kit'\n",
    "area = 14.0\n",
    "\n",
    "# if-else construct for room\n",
    "if room == 'kit':\n",
    "    print('looking around in the kitchen.')\n",
    "else :\n",
    "    print('looking around elsewhere.')\n",
    "    \n",
    "# if-else construct for area\n",
    "if area > 15 :\n",
    "    print('big place!')\n",
    "else:\n",
    "    print('pretty small.')"
   ]
  },
  {
   "cell_type": "markdown",
   "metadata": {},
   "source": [
    "## Customize further: elif\n",
    "\n",
    "It's also possible to have a look around in the bedroom. The sample code contains an `elif` part that checks if `room` equals \"bed\". In that case, \"looking around in the bedroom.\" is printed out.\n",
    "\n",
    "It's up to you now! Make a similar addition to the second control structure to further customize the messages for different values of `area`.\n",
    "\n",
    "Instructions\n",
    "\n",
    "1. Add an `elif` to the second control structure such that \"medium size, nice!\" is printed out if `area` is greater than `10`."
   ]
  },
  {
   "cell_type": "code",
   "execution_count": 4,
   "metadata": {},
   "outputs": [
    {
     "name": "stdout",
     "output_type": "stream",
     "text": [
      "looking around in the bedroom.\n",
      "medium size, nice!\n"
     ]
    }
   ],
   "source": [
    "# Define variables\n",
    "room = 'bed'\n",
    "area = 14.0\n",
    "\n",
    "# if-elif-else construct for room\n",
    "if room == 'kit':\n",
    "    print('looking around in the kitchen.')\n",
    "elif room == 'bed':\n",
    "    print('looking around in the bedroom.')\n",
    "else :\n",
    "    print('looking around elsewhere.')\n",
    "\n",
    "# if-elif-else construct for area\n",
    "if area > 15 :\n",
    "    print('big place!')\n",
    "elif area > 10:\n",
    "    print('medium size, nice!')\n",
    "else:\n",
    "    print('pretty small.')"
   ]
  },
  {
   "cell_type": "markdown",
   "metadata": {},
   "source": [
    "## Driving right (1)\n",
    "\n",
    "Remember that `cars` dataset, containing the cars per 1000 people (`cars_per_cap`) and whether people drive right (`drives_right`) for different countries (`country`)? Code to imports this data in CSV format into Python as a DataFrame.\n",
    "\n",
    "In the video, you saw a step-by-step approach to filter observations from a DataFrame based on boolean arrays. Let's start simple and try to find all observations in `cars` where `drives_right` is `True`.\n",
    "\n",
    "`drives_right` is a boolean column, so you'll have to extract it as a Series and then use this boolean Series to select observations from `cars`.\n",
    "\n",
    "Instructions\n",
    "\n",
    "1. Extract the `drives_right` column as a Pandas Series and store it as `dr`.\n",
    "2. Use `dr`, a boolean Series, to subset the `cars` DataFrame. Store the resulting selection in `sel`.\n",
    "3. Print `sel`, and assert that `drives_right` is `True` for all observations."
   ]
  },
  {
   "cell_type": "code",
   "execution_count": 5,
   "metadata": {},
   "outputs": [
    {
     "data": {
      "text/html": [
       "<div>\n",
       "<style scoped>\n",
       "    .dataframe tbody tr th:only-of-type {\n",
       "        vertical-align: middle;\n",
       "    }\n",
       "\n",
       "    .dataframe tbody tr th {\n",
       "        vertical-align: top;\n",
       "    }\n",
       "\n",
       "    .dataframe thead th {\n",
       "        text-align: right;\n",
       "    }\n",
       "</style>\n",
       "<table border=\"1\" class=\"dataframe\">\n",
       "  <thead>\n",
       "    <tr style=\"text-align: right;\">\n",
       "      <th></th>\n",
       "      <th>country</th>\n",
       "      <th>drives_right</th>\n",
       "      <th>cars_per_cap</th>\n",
       "    </tr>\n",
       "  </thead>\n",
       "  <tbody>\n",
       "    <tr>\n",
       "      <th>US</th>\n",
       "      <td>United States</td>\n",
       "      <td>True</td>\n",
       "      <td>809</td>\n",
       "    </tr>\n",
       "    <tr>\n",
       "      <th>RU</th>\n",
       "      <td>Russia</td>\n",
       "      <td>True</td>\n",
       "      <td>200</td>\n",
       "    </tr>\n",
       "    <tr>\n",
       "      <th>MOR</th>\n",
       "      <td>Morocco</td>\n",
       "      <td>True</td>\n",
       "      <td>70</td>\n",
       "    </tr>\n",
       "    <tr>\n",
       "      <th>EG</th>\n",
       "      <td>Egypt</td>\n",
       "      <td>True</td>\n",
       "      <td>45</td>\n",
       "    </tr>\n",
       "  </tbody>\n",
       "</table>\n",
       "</div>"
      ],
      "text/plain": [
       "           country  drives_right  cars_per_cap\n",
       "US   United States          True           809\n",
       "RU          Russia          True           200\n",
       "MOR        Morocco          True            70\n",
       "EG           Egypt          True            45"
      ]
     },
     "execution_count": 5,
     "metadata": {},
     "output_type": "execute_result"
    }
   ],
   "source": [
    "# Import cars data\n",
    "import pandas as pd\n",
    "cars = pd.read_csv('cars.csv', index_col=0)\n",
    "\n",
    "# Extract drives_right column as Series: dr\n",
    "dr = cars['drives_right']\n",
    "\n",
    "# Use dr to subset cars: sel\n",
    "sel = cars[dr]\n",
    "\n",
    "# Print sel\n",
    "sel"
   ]
  },
  {
   "cell_type": "markdown",
   "metadata": {},
   "source": [
    "## Driving right (2)\n",
    "\n",
    "The code in the previous example worked fine, but you actually unnecessarily created a new variable `dr`. You can achieve the same result without this intermediate variable. Put the code that computes `dr` straight into the square brackets that select observations from `cars`.\n",
    "\n",
    "Instructions\n",
    "\n",
    "1. Convert the code on the right to a one-liner that calculates the variable `sel` as before."
   ]
  },
  {
   "cell_type": "code",
   "execution_count": 10,
   "metadata": {},
   "outputs": [
    {
     "data": {
      "text/html": [
       "<div>\n",
       "<style scoped>\n",
       "    .dataframe tbody tr th:only-of-type {\n",
       "        vertical-align: middle;\n",
       "    }\n",
       "\n",
       "    .dataframe tbody tr th {\n",
       "        vertical-align: top;\n",
       "    }\n",
       "\n",
       "    .dataframe thead th {\n",
       "        text-align: right;\n",
       "    }\n",
       "</style>\n",
       "<table border=\"1\" class=\"dataframe\">\n",
       "  <thead>\n",
       "    <tr style=\"text-align: right;\">\n",
       "      <th></th>\n",
       "      <th>country</th>\n",
       "      <th>drives_right</th>\n",
       "      <th>cars_per_cap</th>\n",
       "    </tr>\n",
       "  </thead>\n",
       "  <tbody>\n",
       "    <tr>\n",
       "      <th>US</th>\n",
       "      <td>United States</td>\n",
       "      <td>True</td>\n",
       "      <td>809</td>\n",
       "    </tr>\n",
       "    <tr>\n",
       "      <th>RU</th>\n",
       "      <td>Russia</td>\n",
       "      <td>True</td>\n",
       "      <td>200</td>\n",
       "    </tr>\n",
       "    <tr>\n",
       "      <th>MOR</th>\n",
       "      <td>Morocco</td>\n",
       "      <td>True</td>\n",
       "      <td>70</td>\n",
       "    </tr>\n",
       "    <tr>\n",
       "      <th>EG</th>\n",
       "      <td>Egypt</td>\n",
       "      <td>True</td>\n",
       "      <td>45</td>\n",
       "    </tr>\n",
       "  </tbody>\n",
       "</table>\n",
       "</div>"
      ],
      "text/plain": [
       "           country  drives_right  cars_per_cap\n",
       "US   United States          True           809\n",
       "RU          Russia          True           200\n",
       "MOR        Morocco          True            70\n",
       "EG           Egypt          True            45"
      ]
     },
     "execution_count": 10,
     "metadata": {},
     "output_type": "execute_result"
    }
   ],
   "source": [
    "# Convert code to a one-liner\n",
    "sel = cars[cars['drives_right']]\n",
    "\n",
    "# Print sel\n",
    "sel"
   ]
  },
  {
   "cell_type": "markdown",
   "metadata": {},
   "source": [
    "## Cars per capita (1)\n",
    "\n",
    "Let's stick to the `cars` data some more. This time you want to find out which countries have a high _cars per capita_ figure. In other words, in which countries do many people have a car, or maybe multiple cars.\n",
    "\n",
    "Similar to the previous example, you'll want to build up a boolean Series, that you can then use to subset the `cars` DataFrame to select certain observations. If you want to do this in a one-liner, that's perfectly fine!\n",
    "\n",
    "Instructions\n",
    "\n",
    "1. Select the `cars_per_cap` column from `cars` as a Pandas Series and store it as `cpc`.\n",
    "2. Use `cpc` in combination with a comparison operator and `500`. You want to end up with a boolean Series that's `True` if the corresponding country has a `cars_per_cap` of more than `500` and `False` otherwise. Store this boolean Series as `many_cars`.\n",
    "3. Use `many_cars` to subset `cars`, similar to what you did before. Store the result as `car_maniac`.\n",
    "4. Print out `car_maniac` to see if you got it right."
   ]
  },
  {
   "cell_type": "code",
   "execution_count": 15,
   "metadata": {},
   "outputs": [
    {
     "data": {
      "text/html": [
       "<div>\n",
       "<style scoped>\n",
       "    .dataframe tbody tr th:only-of-type {\n",
       "        vertical-align: middle;\n",
       "    }\n",
       "\n",
       "    .dataframe tbody tr th {\n",
       "        vertical-align: top;\n",
       "    }\n",
       "\n",
       "    .dataframe thead th {\n",
       "        text-align: right;\n",
       "    }\n",
       "</style>\n",
       "<table border=\"1\" class=\"dataframe\">\n",
       "  <thead>\n",
       "    <tr style=\"text-align: right;\">\n",
       "      <th></th>\n",
       "      <th>country</th>\n",
       "      <th>drives_right</th>\n",
       "      <th>cars_per_cap</th>\n",
       "    </tr>\n",
       "  </thead>\n",
       "  <tbody>\n",
       "    <tr>\n",
       "      <th>US</th>\n",
       "      <td>United States</td>\n",
       "      <td>True</td>\n",
       "      <td>809</td>\n",
       "    </tr>\n",
       "    <tr>\n",
       "      <th>AUS</th>\n",
       "      <td>Australia</td>\n",
       "      <td>False</td>\n",
       "      <td>731</td>\n",
       "    </tr>\n",
       "    <tr>\n",
       "      <th>JPN</th>\n",
       "      <td>Japan</td>\n",
       "      <td>False</td>\n",
       "      <td>588</td>\n",
       "    </tr>\n",
       "  </tbody>\n",
       "</table>\n",
       "</div>"
      ],
      "text/plain": [
       "           country  drives_right  cars_per_cap\n",
       "US   United States          True           809\n",
       "AUS      Australia         False           731\n",
       "JPN          Japan         False           588"
      ]
     },
     "execution_count": 15,
     "metadata": {},
     "output_type": "execute_result"
    }
   ],
   "source": [
    "# Create car_maniac: observations that have a cars_per_cap over 500\n",
    "cpc = cars['cars_per_cap']\n",
    "many_cars = cpc > 500\n",
    "car_maniac = cars[many_cars]\n",
    "\n",
    "# Print car_maniac\n",
    "car_maniac"
   ]
  },
  {
   "cell_type": "markdown",
   "metadata": {},
   "source": [
    "## Cars per capita (2)\n",
    "\n",
    "Remember about [`np.logical_and()`](http://docs.scipy.org/doc/numpy-1.10.0/reference/generated/numpy.logical_and.html), [`np.logical_or()`](http://docs.scipy.org/doc/numpy-1.10.0/reference/generated/numpy.logical_or.html) and [`np.logical_not()`](http://docs.scipy.org/doc/numpy-1.10.0/reference/generated/numpy.logical_not.html), the Numpy variants of the `and`, `or` and `not` operators? You can also use them on Pandas Series to do more advanced filtering operations.\n",
    "\n",
    "Take this example that selects the observations that have a `cars_per_cap` between 10 and 80. Try out these lines of code step by step to see what's happening.\n",
    "```\n",
    "cpc = cars['cars_per_cap']\n",
    "between = np.logical_and(cpc > 10, cpc < 80)\n",
    "medium = cars[between]\n",
    "```\n",
    "Instructions\n",
    "\n",
    "1. Use the code sample above to create a DataFrame `medium`, that includes all the observations of `cars` that have a `cars_per_cap` between `100` and `500`.\n",
    "2. Print out `medium`."
   ]
  },
  {
   "cell_type": "code",
   "execution_count": 11,
   "metadata": {},
   "outputs": [
    {
     "data": {
      "text/html": [
       "<div>\n",
       "<style scoped>\n",
       "    .dataframe tbody tr th:only-of-type {\n",
       "        vertical-align: middle;\n",
       "    }\n",
       "\n",
       "    .dataframe tbody tr th {\n",
       "        vertical-align: top;\n",
       "    }\n",
       "\n",
       "    .dataframe thead th {\n",
       "        text-align: right;\n",
       "    }\n",
       "</style>\n",
       "<table border=\"1\" class=\"dataframe\">\n",
       "  <thead>\n",
       "    <tr style=\"text-align: right;\">\n",
       "      <th></th>\n",
       "      <th>country</th>\n",
       "      <th>drives_right</th>\n",
       "      <th>cars_per_cap</th>\n",
       "    </tr>\n",
       "  </thead>\n",
       "  <tbody>\n",
       "    <tr>\n",
       "      <th>RU</th>\n",
       "      <td>Russia</td>\n",
       "      <td>True</td>\n",
       "      <td>200</td>\n",
       "    </tr>\n",
       "  </tbody>\n",
       "</table>\n",
       "</div>"
      ],
      "text/plain": [
       "   country  drives_right  cars_per_cap\n",
       "RU  Russia          True           200"
      ]
     },
     "execution_count": 11,
     "metadata": {},
     "output_type": "execute_result"
    }
   ],
   "source": [
    "# Create medium: observations with cars_per_cap between 100 and 500\n",
    "cpc = cars['cars_per_cap']\n",
    "between = np.logical_and(cpc > 100, cpc < 500)\n",
    "medium = cars[between]\n",
    "\n",
    "# Print medium\n",
    "medium"
   ]
  }
 ],
 "metadata": {
  "kernelspec": {
   "display_name": "Python 3",
   "language": "python",
   "name": "python3"
  },
  "language_info": {
   "codemirror_mode": {
    "name": "ipython",
    "version": 3
   },
   "file_extension": ".py",
   "mimetype": "text/x-python",
   "name": "python",
   "nbconvert_exporter": "python",
   "pygments_lexer": "ipython3",
   "version": "3.8.5"
  },
  "toc": {
   "base_numbering": 1,
   "nav_menu": {},
   "number_sections": false,
   "sideBar": true,
   "skip_h1_title": false,
   "title_cell": "Table of Contents",
   "title_sidebar": "Contents",
   "toc_cell": false,
   "toc_position": {},
   "toc_section_display": true,
   "toc_window_display": false
  },
  "varInspector": {
   "cols": {
    "lenName": 16,
    "lenType": 16,
    "lenVar": 40
   },
   "kernels_config": {
    "python": {
     "delete_cmd_postfix": "",
     "delete_cmd_prefix": "del ",
     "library": "var_list.py",
     "varRefreshCmd": "print(var_dic_list())"
    },
    "r": {
     "delete_cmd_postfix": ") ",
     "delete_cmd_prefix": "rm(",
     "library": "var_list.r",
     "varRefreshCmd": "cat(var_dic_list()) "
    }
   },
   "types_to_exclude": [
    "module",
    "function",
    "builtin_function_or_method",
    "instance",
    "_Feature"
   ],
   "window_display": false
  }
 },
 "nbformat": 4,
 "nbformat_minor": 2
}
