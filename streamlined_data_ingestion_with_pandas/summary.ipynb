{
 "cells": [
  {
   "cell_type": "markdown",
   "id": "dietary-compensation",
   "metadata": {},
   "source": [
    "# Streamlined Data Ingestion with pandas\n",
    "\n",
    "- 4 hours\n",
    "- 16 Videos\n",
    "- 53 Exercises\n",
    "\n",
    "## Course Description\n",
    "Before you can analyze data, you first have to acquire it. This course teaches you how to build pipelines to import data kept in common storage formats. You’ll use pandas, a major Python library for analytics, to get data from a variety of sources, from spreadsheets of survey responses, to a database of public service requests, to an API for a popular review site. Along the way, you’ll learn how to fine-tune imports to get only what you need and to address issues like incorrect data types. Finally, you’ll assemble a custom dataset from a mix of sources.\n",
    "\n",
    "### 1 Importing Data from Flat Files\n",
    "\n",
    "Practice using pandas to get just the data you want from flat files, learn how to wrangle data types and handle errors, and look into some U.S. tax data along the way.\n",
    "\n",
    "- Introduction to flat files\n",
    "- Get data from CSVs\n",
    "- Get data from other flat files\n",
    "- Modifying flat file imports\n",
    "- Import a subset of columns\n",
    "- Import a file in chunks\n",
    "- Handling errors and missing data\n",
    "- Specify data types\n",
    "- Set custom NA values\n",
    "- Skip bad data\n",
    "\n",
    "### 2 Importing Data From Excel Files\n",
    "\n",
    "Automate data imports from that staple of office life, Excel files. Import part or all of a workbook and ensure boolean and datetime data are properly loaded, all while learning about how other people are learning to code.\n",
    "\n",
    "- Introduction to spreadsheets\n",
    "- Get data from a spreadsheet\n",
    "- Load a portion of a spreadsheet\n",
    "- Getting data from multiple worksheets\n",
    "- Select a single sheet\n",
    "- Select multiple sheets\n",
    "- Work with multiple spreadsheets\n",
    "- Modifying imports: true/false data\n",
    "- Set Boolean columns\n",
    "- Set custom true/false values\n",
    "- Modifying imports: parsing dates\n",
    "- Parse simple dates\n",
    "- Get datetimes from multiple columns\n",
    "- Parse non-standard date formats\n",
    "\n",
    "### 3 Importing Data from Databases\n",
    "\n",
    "Combine pandas with the powers of SQL to find out just how many problems New Yorkers have with their housing. This chapter features introductory SQL topics like WHERE clauses, aggregate functions, and basic joins.\n",
    "\n",
    "- Introduction to databases\n",
    "- Connect to a database\n",
    "- Load entire tables\n",
    "- Refining imports with SQL queries\n",
    "- Selecting columns with SQL\n",
    "- Selecting rows\n",
    "- Filtering on multiple conditions\n",
    "- More complex SQL queries\n",
    "- Getting distinct values\n",
    "- Counting in groups\n",
    "- Working with aggregate functions\n",
    "- Loading multiple tables with joins\n",
    "- Joining tables\n",
    "- Joining and filtering\n",
    "- Joining, filtering, and aggregating\n",
    "\n",
    "### 4 Importing JSON Data and Working with APIs\n",
    "\n",
    "Learn how to work with JSON data and web APIs by exploring a public dataset and getting cafe recommendations from Yelp. End by learning some techniques to combine datasets once they have been loaded into data frames.\n",
    "\n",
    "- Introduction to JSON\n",
    "- Load JSON data\n",
    "- Work with JSON orientations\n",
    "- Introduction to APIs\n",
    "- Get data from an API\n",
    "- Set API parameters\n",
    "- Set request headers\n",
    "- Working with nested JSONs\n",
    "- Flatten nested JSONs\n",
    "- Handle deeply nested data\n",
    "- Combining multiple datasets\n",
    "- Append data frames\n",
    "- Merge data frames\n",
    "- Wrap-up"
   ]
  }
 ],
 "metadata": {
  "kernelspec": {
   "display_name": "Python 3",
   "language": "python",
   "name": "python3"
  },
  "language_info": {
   "codemirror_mode": {
    "name": "ipython",
    "version": 3
   },
   "file_extension": ".py",
   "mimetype": "text/x-python",
   "name": "python",
   "nbconvert_exporter": "python",
   "pygments_lexer": "ipython3",
   "version": "3.8.5"
  },
  "toc": {
   "base_numbering": 1,
   "nav_menu": {},
   "number_sections": false,
   "sideBar": true,
   "skip_h1_title": false,
   "title_cell": "Table of Contents",
   "title_sidebar": "Contents",
   "toc_cell": false,
   "toc_position": {},
   "toc_section_display": true,
   "toc_window_display": false
  },
  "varInspector": {
   "cols": {
    "lenName": 16,
    "lenType": 16,
    "lenVar": 40
   },
   "kernels_config": {
    "python": {
     "delete_cmd_postfix": "",
     "delete_cmd_prefix": "del ",
     "library": "var_list.py",
     "varRefreshCmd": "print(var_dic_list())"
    },
    "r": {
     "delete_cmd_postfix": ") ",
     "delete_cmd_prefix": "rm(",
     "library": "var_list.r",
     "varRefreshCmd": "cat(var_dic_list()) "
    }
   },
   "types_to_exclude": [
    "module",
    "function",
    "builtin_function_or_method",
    "instance",
    "_Feature"
   ],
   "window_display": false
  }
 },
 "nbformat": 4,
 "nbformat_minor": 5
}
