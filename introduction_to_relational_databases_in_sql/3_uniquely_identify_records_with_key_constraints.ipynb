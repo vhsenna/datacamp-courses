{
 "cells": [
  {
   "cell_type": "markdown",
   "id": "saving-panic",
   "metadata": {},
   "source": [
    "## Get to know SELECT COUNT DISTINCT\n",
    "\n",
    "Your database doesn't have any defined keys so far, and you don't know which columns or combinations of columns are suited as keys.\n",
    "\n",
    "There's a simple way of finding out whether a certain column (or a combination) contains only unique values – and thus identifies the records in the table.\n",
    "\n",
    "You already know the `SELECT DISTINCT` query from the first chapter. Now you just have to wrap everything within the `COUNT()` function and PostgreSQL will return the number of unique rows for the given columns:\n",
    "\n",
    "```\n",
    "SELECT COUNT(DISTINCT(column_a, column_b, ...))\n",
    "FROM table;\n",
    "```\n",
    "\n",
    "Instructions\n",
    "\n",
    "1. First, find out the number of rows in `universities`.\n",
    "2. Then, find out how many unique values there are in the `university_city` column."
   ]
  },
  {
   "cell_type": "code",
   "execution_count": null,
   "id": "beautiful-agreement",
   "metadata": {},
   "outputs": [],
   "source": [
    "-- Count the number of rows in universities\n",
    "SELECT COUNT(*)\n",
    "FROM universities;\n",
    "\n",
    "# count\n",
    "# 11"
   ]
  },
  {
   "cell_type": "code",
   "execution_count": null,
   "id": "adjacent-intersection",
   "metadata": {},
   "outputs": [],
   "source": [
    "-- Count the number of distinct values in the university_city column\n",
    "SELECT COUNT(DISTINCT(university_city)) \n",
    "FROM universities;\n",
    "\n",
    "# count\n",
    "# 9"
   ]
  },
  {
   "cell_type": "markdown",
   "id": "informed-deadline",
   "metadata": {},
   "source": [
    "## Identify keys with SELECT COUNT DISTINCT\n",
    "\n",
    "There's a very basic way of finding out what qualifies for a key in an existing, populated table:\n",
    "\n",
    "1. Count the distinct records for all possible combinations of columns. If the resulting number `x` equals the number of all rows in the table for a combination, you have discovered a superkey.\n",
    "\n",
    "2. Then remove one column after another until you can no longer remove columns without seeing the number `x` decrease. If that is the case, you have discovered a (candidate) key.\n",
    "\n",
    "The table `professors` has 551 rows. It has only one possible candidate key, which is a combination of two attributes. You might want to try different combinations.\n",
    "\n",
    "Instructions\n",
    "\n",
    "1. Using the above steps, identify the _candidate key_ by trying out different combination of columns."
   ]
  },
  {
   "cell_type": "code",
   "execution_count": null,
   "id": "saving-thing",
   "metadata": {},
   "outputs": [],
   "source": [
    "-- Try out different combinations\n",
    "SELECT COUNT(DISTINCT(firstname, lastname)) \n",
    "FROM professors;\n",
    "\n",
    "# count\n",
    "# 551"
   ]
  },
  {
   "cell_type": "markdown",
   "id": "gentle-payment",
   "metadata": {},
   "source": [
    "## Identify the primary key\n",
    "Have a look at the example table from the previous video. As the database designer, you have to make a wise choice as to which column should be the primary key.\n",
    "\n",
    "```\n",
    "license_no           serial_no   make         model     year\n",
    "\n",
    "Texas ABC-739        A69352      Ford         Mustang   2\n",
    "Florida TVP-347      B43696      Oldsmobile   Cutlass   5\n",
    "New York MPO-22      X83554      Oldsmobile   Delta     1\n",
    "California 432-TFY   C43742      Mercedes     190-D     99\n",
    "California RSK-629   Y82935      Toyota       Camry     4\n",
    "Texas RSK-629        U028365     Jaguar       XJS       4\n",
    "```\n",
    "\n",
    "Which of the following column or column combinations could best serve as primary key?"
   ]
  },
  {
   "cell_type": "markdown",
   "id": "minor-replacement",
   "metadata": {},
   "source": [
    "PK = {license_no}."
   ]
  },
  {
   "cell_type": "markdown",
   "id": "indie-alliance",
   "metadata": {},
   "source": [
    "## ADD key CONSTRAINTs to the tables\n",
    "\n",
    "Two of the tables in your database already have well-suited candidate keys consisting of one column each: `organizations` and `universities` with the `organization` and `university_shortname` columns, respectively.\n",
    "\n",
    "In this exercise, you'll rename these columns to `id` using the `RENAME COLUMN` command and then specify primary key constraints for them. This is as straightforward as adding unique constraints (see the last exercise of Chapter 2):\n",
    "\n",
    "```\n",
    "ALTER TABLE table_name\n",
    "ADD CONSTRAINT some_name PRIMARY KEY (column_name)\n",
    "```\n",
    "\n",
    "Note that you can also specify more than one column in the brackets.\n",
    "\n",
    "Instructions\n",
    "\n",
    "1. \n",
    "    1. Rename the `organization` column to `id` in `organizations`.\n",
    "    2. Make `id` a primary key and name it `organization_pk`.\n",
    "2. \n",
    "    1. Rename the `university_shortname` column to `id` in `universities`.\n",
    "    2. Make `id` a primary key and name it `university_pk`."
   ]
  },
  {
   "cell_type": "code",
   "execution_count": null,
   "id": "elder-tragedy",
   "metadata": {},
   "outputs": [],
   "source": [
    "-- Rename the organization column to id\n",
    "ALTER TABLE organizations\n",
    "RENAME COLUMN organization TO id;\n",
    "\n",
    "-- Make id a primary key\n",
    "ALTER TABLE organizations\n",
    "ADD CONSTRAINT organization_pk PRIMARY KEY (id);"
   ]
  },
  {
   "cell_type": "code",
   "execution_count": null,
   "id": "starting-fiber",
   "metadata": {},
   "outputs": [],
   "source": [
    "-- Rename the university_shortname column to id\n",
    "ALTER TABLE universities\n",
    "RENAME COLUMN university_shortname TO id;\n",
    "\n",
    "-- Make id a primary key\n",
    "ALTER TABLE universities\n",
    "ADD CONSTRAINT university_pk PRIMARY KEY (id);"
   ]
  },
  {
   "cell_type": "markdown",
   "id": "fabulous-slovenia",
   "metadata": {},
   "source": [
    "## Add a SERIAL surrogate key\n",
    "\n",
    "Since there's no single column candidate key in `professors` (only a composite key candidate consisting of `firstname`, `lastname`), you'll add a new column `id` to that table.\n",
    "\n",
    "This column has a special data type `serial`, which turns the column into an auto-incrementing number. This means that, whenever you add a new professor to the table, it will automatically get an `id` that does not exist yet in the table: a perfect primary key!\n",
    "\n",
    "Instructions\n",
    "\n",
    "1. Add a new column `id` with data type `serial` to the `professors` table.\n",
    "2. Make `id` a primary key and name it `professors_pkey`.\n",
    "3. "
   ]
  },
  {
   "cell_type": "code",
   "execution_count": null,
   "id": "ranging-person",
   "metadata": {},
   "outputs": [],
   "source": [
    "-- Add the new column to the table\n",
    "ALTER TABLE professors \n",
    "ADD COLUMN id serial;"
   ]
  },
  {
   "cell_type": "code",
   "execution_count": null,
   "id": "former-balance",
   "metadata": {},
   "outputs": [],
   "source": [
    "-- Make id a primary key\n",
    "ALTER TABLE professors \n",
    "ADD CONSTRAINT professors_pkey PRIMARY KEY (id);"
   ]
  },
  {
   "cell_type": "code",
   "execution_count": null,
   "id": "anonymous-formula",
   "metadata": {},
   "outputs": [],
   "source": [
    "-- Have a look at the first 10 rows of professors\n",
    "SELECT *\n",
    "FROM professors\n",
    "LIMIT 10;\n",
    "\n",
    "# firstname         lastname      university_shortname   id\n",
    "# Karl              Aberer        EPF                    1\n",
    "# Reza Shokrollah   Abhari        ETH                    2\n",
    "# Georges           Abou Jaoudé   EPF                    3\n",
    "# Hugues            Abriel        UBE                    4\n",
    "# Daniel            Aebersold     UBE                    5\n",
    "# Marcelo           Aebi          ULA                    6\n",
    "# Christoph         Aebi          UBE                    7\n",
    "# Patrick           Aebischer     EPF                    8\n",
    "# Stephan           Aier          USG                    9\n",
    "# Anastasia         Ailamaki      EPF                    10"
   ]
  },
  {
   "cell_type": "markdown",
   "id": "basic-absence",
   "metadata": {},
   "source": [
    "## CONCATenate columns to a surrogate key\n",
    "\n",
    "Another strategy to add a surrogate key to an existing table is to concatenate existing columns with the `CONCAT()` function.\n",
    "\n",
    "Let's think of the following example table:\n",
    "\n",
    "```\n",
    "CREATE TABLE cars (\n",
    "    make varchar(64) NOT NULL,\n",
    "    model varchar(64) NOT NULL,\n",
    "    mpg integer NOT NULL\n",
    ")\n",
    "```\n",
    "\n",
    "The table is populated with **10** rows of _completely fictional_ data.\n",
    "\n",
    "Unfortunately, the table doesn't have a primary key yet. None of the columns consists of only unique values, so some columns can be combined to form a key.\n",
    "\n",
    "In the course of the following exercises, you will combine `make` and `model` into such a surrogate key.\n",
    "\n",
    "Instructions\n",
    "\n",
    "1. Count the number of distinct rows with a combination of the `make` and `model` columns.\n",
    "2. Add a new column `id` with the data type `varchar(128)`.\n",
    "3. Concatenate `make` and `model` into `id` using an `UPDATE table_name SET column_name = ...` query and the `CONCAT()` function.\n",
    "4. Make `id` a primary key and name it `id_pk`."
   ]
  },
  {
   "cell_type": "code",
   "execution_count": null,
   "id": "danish-retailer",
   "metadata": {},
   "outputs": [],
   "source": [
    "-- Count the number of distinct rows with columns make, model\n",
    "SELECT COUNT(DISTINCT(make, model))\n",
    "FROM cars;\n",
    "\n",
    "# count\n",
    "# 10"
   ]
  },
  {
   "cell_type": "code",
   "execution_count": null,
   "id": "lesbian-doctor",
   "metadata": {},
   "outputs": [],
   "source": [
    "-- Add the id column\n",
    "ALTER TABLE cars\n",
    "ADD COLUMN id varchar(128);"
   ]
  },
  {
   "cell_type": "code",
   "execution_count": null,
   "id": "nuclear-state",
   "metadata": {},
   "outputs": [],
   "source": [
    "-- Update id with make + model\n",
    "UPDATE cars\n",
    "SET id = CONCAT(make, model);"
   ]
  },
  {
   "cell_type": "code",
   "execution_count": null,
   "id": "standard-maximum",
   "metadata": {},
   "outputs": [],
   "source": [
    "-- Make id a primary key\n",
    "ALTER TABLE cars\n",
    "ADD CONSTRAINT id_pk PRIMARY KEY (id);\n",
    "\n",
    "-- Have a look at the table\n",
    "SELECT * FROM cars;\n",
    "\n",
    "# make         model       mpg   id\n",
    "# Subaru       Forester    24    SubaruForester\n",
    "# Opel         Astra       45    OpelAstra\n",
    "# Opel         Vectra      40    OpelVectra\n",
    "# Ford         Avenger     30    FordAvenger\n",
    "# Ford         Galaxy      30    FordGalaxy\n",
    "# Toyota       Prius       50    ToyotaPrius\n",
    "# Toyota       Speedster   30    ToyotaSpeedster\n",
    "# Toyota       Galaxy      20    ToyotaGalaxy\n",
    "# Mitsubishi   Forester    10    MitsubishiForester\n",
    "# Mitsubishi   Galaxy      30    MitsubishiGalaxy"
   ]
  },
  {
   "cell_type": "markdown",
   "id": "damaged-blast",
   "metadata": {},
   "source": [
    "## Test your knowledge before advancing\n",
    "\n",
    "Before you move on to the next chapter, let's quickly review what you've learned so far about attributes and key constraints. If you're unsure about the answer, please quickly review chapters 2 and 3, respectively.\n",
    "\n",
    "Let's think of an entity type \"student\". A student has:\n",
    "\n",
    "- a **last name** consisting of _up to 128_ characters (required),\n",
    "- a unique **social security number**, consisting only of integers, that should serve as a key,\n",
    "- a **phone number** of _fixed length 12_, consisting of numbers and characters (but some students don't have one).\n",
    "\n",
    "Instructions\n",
    "\n",
    "1. Given the above description of a student entity, create a table `students` with the correct column types.\n",
    "2. Add a `PRIMARY KEY` for the social security number `ssn`.\n",
    "\n",
    "_Note that there is no formal length requirement for the integer column. The application would have to make sure it's a correct SSN!_"
   ]
  },
  {
   "cell_type": "code",
   "execution_count": null,
   "id": "documentary-yemen",
   "metadata": {},
   "outputs": [],
   "source": [
    "-- Create the table\n",
    "CREATE TABLE students (\n",
    "    last_name varchar(128) NOT NULL,\n",
    "    ssn integer PRIMARY KEY,\n",
    "    phone_no char(12)\n",
    ");"
   ]
  }
 ],
 "metadata": {
  "kernelspec": {
   "display_name": "Python 3",
   "language": "python",
   "name": "python3"
  },
  "language_info": {
   "codemirror_mode": {
    "name": "ipython",
    "version": 3
   },
   "file_extension": ".py",
   "mimetype": "text/x-python",
   "name": "python",
   "nbconvert_exporter": "python",
   "pygments_lexer": "ipython3",
   "version": "3.8.10"
  },
  "toc": {
   "base_numbering": 1,
   "nav_menu": {},
   "number_sections": false,
   "sideBar": true,
   "skip_h1_title": false,
   "title_cell": "Table of Contents",
   "title_sidebar": "Contents",
   "toc_cell": false,
   "toc_position": {},
   "toc_section_display": true,
   "toc_window_display": false
  },
  "varInspector": {
   "cols": {
    "lenName": 16,
    "lenType": 16,
    "lenVar": 40
   },
   "kernels_config": {
    "python": {
     "delete_cmd_postfix": "",
     "delete_cmd_prefix": "del ",
     "library": "var_list.py",
     "varRefreshCmd": "print(var_dic_list())"
    },
    "r": {
     "delete_cmd_postfix": ") ",
     "delete_cmd_prefix": "rm(",
     "library": "var_list.r",
     "varRefreshCmd": "cat(var_dic_list()) "
    }
   },
   "types_to_exclude": [
    "module",
    "function",
    "builtin_function_or_method",
    "instance",
    "_Feature"
   ],
   "window_display": false
  }
 },
 "nbformat": 4,
 "nbformat_minor": 5
}
