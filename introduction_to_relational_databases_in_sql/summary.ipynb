{
 "cells": [
  {
   "cell_type": "markdown",
   "id": "numerous-appointment",
   "metadata": {},
   "source": [
    "# Introduction to Relational Databases in SQL\n",
    "\n",
    "- 4 hours\n",
    "- 13 Videos\n",
    "- 45 Exercises\n",
    "\n",
    "## Course Description\n",
    "\n",
    "You’ve already used SQL to query data from databases. But did you know that there's a lot more you can do with databases? You can model different phenomena in your data, as well as the relationships between them. This gives your data structure and consistency, which results in better data quality. In this course, you'll experience this firsthand by working with a real-life dataset that was used to investigate questionable university affiliations. Column by column, table by table, you'll get to unlock and admire the full potential of databases. You'll learn how to create tables and specify their relationships, as well as how to enforce data integrity. You'll also discover other unique features of database systems, such as constraints.\n",
    "\n",
    "### 1 Your first database\n",
    "\n",
    "In this chapter, you'll create your very first database with a set of simple SQL commands. Next, you'll migrate data from existing flat tables into that database. You'll also learn how meta-information about a database can be queried.\n",
    "\n",
    "- Introduction to relational databases\n",
    "- Attributes of relational databases\n",
    "- Query information_schema with SELECT\n",
    "- Tables: At the core of every database\n",
    "- CREATE your first few TABLEs\n",
    "- ADD a COLUMN with ALTER TABLE\n",
    "- Update your database as the structure changes\n",
    "- RENAME and DROP COLUMNs in affiliations\n",
    "- Migrate data with INSERT INTO SELECT DISTINCT\n",
    "- Delete tables with DROP TABLE\n",
    "\n",
    "### 2 Enforce data consistency with attribute constraints\n",
    "\n",
    "After building a simple database, it's now time to make use of the features. You'll specify data types in columns, enforce column uniqueness, and disallow NULL values in this chapter.\n",
    "\n",
    "- Better data quality with constraints\n",
    "- Types of database constraints\n",
    "- Conforming with data types\n",
    "- Type CASTs\n",
    "- Working with data types\n",
    "- Change types with ALTER COLUMN\n",
    "- Convert types USING a function\n",
    "- The not-null and unique constraints\n",
    "- Disallow NULL values with SET NOT NULL\n",
    "- What happens if you try to enter NULLs?\n",
    "- Make your columns UNIQUE with ADD CONSTRAINT\n",
    "\n",
    "### 3 Uniquely identify records with key constraints\n",
    "\n",
    "Now let’s get into the best practices of database engineering. It's time to add primary and foreign keys to the tables. These are two of the most important concepts in databases, and are the building blocks you’ll use to establish relationships between tables.\n",
    "\n",
    "- Keys and superkeys\n",
    "- Get to know SELECT COUNT DISTINCT\n",
    "- Identify keys with SELECT COUNT DISTINCT\n",
    "- Primary keys\n",
    "- Identify the primary key\n",
    "- ADD key CONSTRAINTs to the tables\n",
    "- Surrogate keys\n",
    "- Add a SERIAL surrogate key\n",
    "- CONCATenate columns to a surrogate key\n",
    "- Test your knowledge before advancing\n",
    "\n",
    "### 4 Glue together tables with foreign keys\n",
    "\n",
    "In the final chapter, you'll leverage foreign keys to connect tables and establish relationships that will greatly benefit your data quality. And you'll run ad hoc analyses on your new database.\n",
    "\n",
    "- Model 1:N relationships with foreign keys\n",
    "- REFERENCE a table with a FOREIGN KEY\n",
    "- Explore foreign key constraints\n",
    "- JOIN tables linked by a foreign key\n",
    "- Model more complex relationships\n",
    "- Add foreign keys to the \"affiliations\" table\n",
    "- Populate the \"professor_id\" column\n",
    "- Drop \"firstname\" and \"lastname\"\n",
    "- Referential integrity\n",
    "- Referential integrity violations\n",
    "- Change the referential integrity behavior of a key\n",
    "- Roundup\n",
    "- Count affiliations per university\n",
    "- Join all the tables together"
   ]
  }
 ],
 "metadata": {
  "kernelspec": {
   "display_name": "Python 3",
   "language": "python",
   "name": "python3"
  },
  "language_info": {
   "codemirror_mode": {
    "name": "ipython",
    "version": 3
   },
   "file_extension": ".py",
   "mimetype": "text/x-python",
   "name": "python",
   "nbconvert_exporter": "python",
   "pygments_lexer": "ipython3",
   "version": "3.8.10"
  },
  "toc": {
   "base_numbering": 1,
   "nav_menu": {},
   "number_sections": false,
   "sideBar": true,
   "skip_h1_title": false,
   "title_cell": "Table of Contents",
   "title_sidebar": "Contents",
   "toc_cell": false,
   "toc_position": {},
   "toc_section_display": true,
   "toc_window_display": false
  },
  "varInspector": {
   "cols": {
    "lenName": 16,
    "lenType": 16,
    "lenVar": 40
   },
   "kernels_config": {
    "python": {
     "delete_cmd_postfix": "",
     "delete_cmd_prefix": "del ",
     "library": "var_list.py",
     "varRefreshCmd": "print(var_dic_list())"
    },
    "r": {
     "delete_cmd_postfix": ") ",
     "delete_cmd_prefix": "rm(",
     "library": "var_list.r",
     "varRefreshCmd": "cat(var_dic_list()) "
    }
   },
   "types_to_exclude": [
    "module",
    "function",
    "builtin_function_or_method",
    "instance",
    "_Feature"
   ],
   "window_display": false
  }
 },
 "nbformat": 4,
 "nbformat_minor": 5
}
