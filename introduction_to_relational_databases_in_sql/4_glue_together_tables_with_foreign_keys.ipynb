{
 "cells": [
  {
   "cell_type": "markdown",
   "id": "large-wireless",
   "metadata": {},
   "source": [
    "## REFERENCE a table with a FOREIGN KEY\n",
    "\n",
    "In your database, you want the `professors` table to reference the `universities` table. You can do that by specifying a column in `professors` table that references a column in the `universities` table.\n",
    "\n",
    "As just shown in the video, the syntax for that looks like this:\n",
    "\n",
    "```\n",
    "ALTER TABLE a \n",
    "ADD CONSTRAINT a_fkey FOREIGN KEY (b_id) REFERENCES b (id);\n",
    "```\n",
    "\n",
    "Table a should now refer to table `b`, via `b_id`, which points to `id`. `a_fkey` is, as usual, a constraint name you can choose on your own.\n",
    "\n",
    "Pay attention to the **naming convention** employed here: Usually, a foreign key referencing another primary key with name `id` is named `x_id`, where `x` is the name of the referencing table in the singular form.\n",
    "\n",
    "Instructions\n",
    "\n",
    "1. Rename the `university_shortname` column to `university_id` in `professors`.\n",
    "2. \n",
    "    1. Add a foreign key on `university_id` column in `professors` that references the `id` column in `universities`.\n",
    "    2. Name this foreign key `professors_fkey`. "
   ]
  },
  {
   "cell_type": "code",
   "execution_count": null,
   "id": "sunset-opportunity",
   "metadata": {},
   "outputs": [],
   "source": [
    "-- Rename the university_shortname column\n",
    "ALTER TABLE professors\n",
    "RENAME COLUMN university_shortname TO university_id;"
   ]
  },
  {
   "cell_type": "code",
   "execution_count": null,
   "id": "scheduled-donor",
   "metadata": {},
   "outputs": [],
   "source": [
    "-- Add a foreign key on professors referencing universities\n",
    "ALTER TABLE professors \n",
    "ADD CONSTRAINT professors_fkey FOREIGN KEY (university_id) REFERENCES universities (id);"
   ]
  },
  {
   "cell_type": "markdown",
   "id": "activated-policy",
   "metadata": {},
   "source": [
    "## Explore foreign key constraints\n",
    "\n",
    "Foreign key constraints help you to keep order in your database mini-world. In your database, for instance, only professors belonging to Swiss universities should be allowed, as only Swiss universities are part of the `universities` table.\n",
    "\n",
    "The foreign key on `professors` referencing `universities` you just created thus makes sure that only existing universities can be specified when inserting new data. Let's test this!\n",
    "\n",
    "Instructions\n",
    "\n",
    "1. Run the sample code and have a look at the error message.\n",
    "2. What's wrong? Correct the `university_id` so that it actually reflects where Albert Einstein wrote his dissertation and became a professor – at the University of Zurich (UZH)!"
   ]
  },
  {
   "cell_type": "code",
   "execution_count": null,
   "id": "promising-amplifier",
   "metadata": {},
   "outputs": [],
   "source": [
    "-- Try to insert a new professor\n",
    "INSERT INTO professors (firstname, lastname, university_id)\n",
    "VALUES ('Albert', 'Einstein', 'MIT');\n",
    "\n",
    "# insert or update on table \"professors\" violates foreign key constraint \"professors_fkey\"\n",
    "# DETAIL:  Key (university_id)=(MIT) is not present in table \"universities\"."
   ]
  },
  {
   "cell_type": "markdown",
   "id": "labeled-stamp",
   "metadata": {},
   "source": [
    "## JOIN tables linked by a foreign key\n",
    "\n",
    "Let's join these two tables to analyze the data further!\n",
    "\n",
    "You might already know how SQL joins work from the [Intro to SQL for Data Science](https://www.datacamp.com/courses/intro-to-sql-for-data-science) course (last exercise) or from [Joining Data in PostgreSQL](https://www.datacamp.com/courses/joining-data-in-postgresql).\n",
    "\n",
    "Here's a quick recap on how joins generally work:\n",
    "\n",
    "```\n",
    "SELECT ...\n",
    "FROM table_a\n",
    "JOIN table_b\n",
    "ON ...\n",
    "WHERE ...\n",
    "```\n",
    "\n",
    "While foreign keys and primary keys are not strictly necessary for join queries, they greatly help by telling you what to expect. For instance, you can be sure that records referenced from table A will always be present in table B – so a join from table A will always find something in table B. If not, the foreign key constraint would be violated.\n",
    "\n",
    "Instructions\n",
    "\n",
    "1. `JOIN` `professors` with `universities` on `professors.university_id = universities.id`, i.e., retain all records where the foreign key of `professors` is equal to the primary key of `universities`.\n",
    "2. Filter for `university_city = 'Zurich'`."
   ]
  },
  {
   "cell_type": "code",
   "execution_count": null,
   "id": "adaptive-police",
   "metadata": {},
   "outputs": [],
   "source": [
    "-- Select all professors working for universities in the city of Zurich\n",
    "SELECT professors.lastname, universities.id, universities.university_city\n",
    "FROM professors\n",
    "JOIN universities\n",
    "ON professors.university_id = universities.id\n",
    "WHERE universities.university_city = 'Zurich';\n",
    "\n",
    "# lastname   id    university_city\n",
    "# Abhari     ETH   Zurich\n",
    "# Axhausen   ETH   Zurich\n",
    "# Baschera   ETH   Zurich\n",
    "# Basin      ETH   Zurich\n",
    "# Bechtold   ETH   Zurich\n",
    "# ..."
   ]
  },
  {
   "cell_type": "markdown",
   "id": "republican-stevens",
   "metadata": {},
   "source": [
    "## Add foreign keys to the \"affiliations\" table\n",
    "\n",
    "At the moment, the `affiliations` table has the structure {`firstname`, `lastname`, `function`, `organization`}, as you can see in the preview at the bottom right. In the next three exercises, you're going to turn this table into the form {`professor_id`, `organization_id`, `function`}, with `professor_id` and `organization_id` being foreign keys that point to the respective tables.\n",
    "\n",
    "You're going to transform the `affiliations` table _in-place_, i.e., without creating a temporary table to cache your intermediate results.\n",
    "\n",
    "Instructions\n",
    "\n",
    "1. Add a `professor_id` column with `integer` data type to `affiliations`, and declare it to be a foreign key that references the `id` column in `professors`.\n",
    "2. Rename the `organization` column in `affiliations` to `organization_id`.\n",
    "3. Add a foreign key constraint on `organization_id` so that it references the `id` column in `organizations`."
   ]
  },
  {
   "cell_type": "code",
   "execution_count": null,
   "id": "stainless-vietnam",
   "metadata": {},
   "outputs": [],
   "source": [
    "-- Add a professor_id column\n",
    "ALTER TABLE affiliations\n",
    "ADD COLUMN professor_id integer REFERENCES professors (id);"
   ]
  },
  {
   "cell_type": "code",
   "execution_count": null,
   "id": "revolutionary-tradition",
   "metadata": {},
   "outputs": [],
   "source": [
    "-- Rename the organization column to organization_id\n",
    "ALTER TABLE affiliations\n",
    "RENAME organization TO organization_id;"
   ]
  },
  {
   "cell_type": "code",
   "execution_count": null,
   "id": "becoming-newspaper",
   "metadata": {},
   "outputs": [],
   "source": [
    "-- Add a foreign key on organization_id\n",
    "ALTER TABLE affiliations\n",
    "ADD CONSTRAINT affiliations_organization_fkey FOREIGN KEY (organization_id) REFERENCES organizations (id);"
   ]
  },
  {
   "cell_type": "markdown",
   "id": "senior-grenada",
   "metadata": {},
   "source": [
    "## Populate the \"professor_id\" column\n",
    "\n",
    "Now it's time to also populate `professors_id`. You'll take the ID directly from `professors`.\n",
    "\n",
    "Here's a way to update columns of a table based on values in another table:\n",
    "\n",
    "```\n",
    "UPDATE table_a\n",
    "SET column_to_update = table_b.column_to_update_from\n",
    "FROM table_b\n",
    "WHERE condition1 AND condition2 AND ...;\n",
    "```\n",
    "\n",
    "This query does the following:\n",
    "\n",
    "1. For each row in `table_a`, find the corresponding row in `table_b` where `condition1`, `condition2`, etc., are met.\n",
    "2. Set the value of `column_to_update` to the value of `column_to_update_from` (from that corresponding row).\n",
    "\n",
    "The conditions usually compare other columns of both tables, e.g. `table_a.some_column = table_b.some_column`. Of course, this query only makes sense if there is only one matching row in `table_b`.\n",
    "\n",
    "Instructions\n",
    "\n",
    "1. First, have a look at the current state of `affiliations` by fetching 10 rows and all columns.\n",
    "2. Update the `professor_id` column with the corresponding value of the `id` column in `professors`. _\"Corresponding\" means rows in `professors` where the `firstname` and `lastname` are identical to the ones in `affiliations`._\n",
    "3. Check out the first 10 rows and all columns of `affiliations` again. Have the `professor_ids` been correctly matched?"
   ]
  },
  {
   "cell_type": "code",
   "execution_count": null,
   "id": "parallel-surgeon",
   "metadata": {},
   "outputs": [],
   "source": [
    "-- Have a look at the 10 first rows of affiliations\n",
    "SELECT *\n",
    "FROM affiliations\n",
    "LIMIT 10;\n",
    "\n",
    "# firstname         lastname      function                                            organization_id                    professor_id\n",
    "# Karl              Aberer        Chairman of L3S Advisory Board                      L3S Advisory Board                 null\n",
    "# Karl              Aberer        Member Conseil of Zeno-Karl Schindler Foundation    Zeno-Karl Schindler Foundation     null\n",
    "# Karl              Aberer        Member of Conseil Fondation IDIAP                   Fondation IDIAP                    null\n",
    "# Karl              Aberer        Panel Member                                        SNF Ambizione Program              null\n",
    "# Reza Shokrollah   Abhari        Aufsichtsratsmandat                                 PNE Wind AG                        null\n",
    "# Georges           Abou Jaoudé   Professeur invité (2 interventions d'une semaine)   Kazan Federal University, Russia   null\n",
    "# Hugues            Abriel        NA                                                  Cloetta Stiftung                   null\n",
    "# Daniel            Aebersold     NA                                                  Berner Radium-Stiftung             null\n",
    "# Daniel            Aebersold     NA                                                  Janser Krebs-Stiftung              null\n",
    "# Daniel            Aebersold     NA                                                  SWAN Isotopen AG                   null\n",
    "# ..."
   ]
  },
  {
   "cell_type": "code",
   "execution_count": null,
   "id": "challenging-season",
   "metadata": {},
   "outputs": [],
   "source": [
    "-- Set professor_id to professors.id where firstname, lastname correspond to rows in professors\n",
    "UPDATE affiliations\n",
    "SET professor_id = professors.id\n",
    "FROM professors\n",
    "WHERE affiliations.firstname = professors.firstname AND affiliations.lastname = professors.lastname;"
   ]
  },
  {
   "cell_type": "code",
   "execution_count": null,
   "id": "ultimate-evidence",
   "metadata": {},
   "outputs": [],
   "source": [
    "-- Have a look at the 10 first rows of affiliations again\n",
    "SELECT *\n",
    "FROM affiliations\n",
    "LIMIT 10;\n",
    "\n",
    "# firstname   lastname      function                                          organization_id                                                                              professor_id\n",
    "# Peter       Schneemann    NA                                                CIHA                                                                                         442\n",
    "# Heinz       Zimmermann    Mitglied des Stiftungsrates                       Stiftung zur Förderung des Schweizerischen Wirtschaftsarchivs am WWZ der Universität Basel   539\n",
    "# Heinz       Zimmermann    Mitglied des Verwaltungsrates                     Remaco AG, Basel                                                                             539\n",
    "# Heinz       Zimmermann    Mitglied des Verwaltungsrates                     Versicherung der Schweizer Ärzte, Bern                                                       539\n",
    "# Heinz       Zimmermann    Mitglied des Verwaltungsrates                     vescore Solutions, St. Gallen                                                                539\n",
    "# Heinz       Zimmermann    Verwaltungsrat inkl. Präsidium Vorsorgestiftung   Viollier AG, Allschwil                                                                       539\n",
    "# Klaus       Zuberbühler   Co-directeur                                      Tai Monkey Project (Côte d'Ivoire)                                                           541\n",
    "# Klaus       Zuberbühler   Directeur scientifique                            Budongo Conservation Field Station (Ouganda)                                                 541\n",
    "# Klaus       Zuberbühler   Enseignement                                      Université St Andrews (UK)                                                                   541\n",
    "# Klaus       Zuberbühler   Membre du conseil scientifique                    Max Planck Institute of Evolutionary Anthropology                                            541\n",
    "# ..."
   ]
  },
  {
   "cell_type": "markdown",
   "id": "standing-matter",
   "metadata": {},
   "source": [
    "## Drop \"firstname\" and \"lastname\"\n",
    "\n",
    "The `firstname` and `lastname` columns of `affiliations` were used to establish a link to the `professors` table in the last exercise – so the appropriate professor IDs could be copied over. This only worked because there is exactly one corresponding professor for each row in `affiliations`. In other words: {`firstname`, `lastname`} is a candidate key of `professors` – a unique combination of columns.\n",
    "\n",
    "It isn't one in `affiliations` though, because, as said in the video, professors can have more than one affiliation.\n",
    "\n",
    "Because `professors` are referenced by `professor_id` now, the `firstname` and `lastname` columns are no longer needed, so it's time to drop them. After all, one of the goals of a database is to reduce redundancy where possible.\n",
    "\n",
    "Instructions\n",
    "\n",
    "1. Drop the `firstname` and `lastname` columns from the `affiliations` table."
   ]
  },
  {
   "cell_type": "code",
   "execution_count": null,
   "id": "greenhouse-legend",
   "metadata": {},
   "outputs": [],
   "source": [
    "-- Drop the firstname column\n",
    "ALTER TABLE affiliations\n",
    "DROP COLUMN firstname;\n",
    "\n",
    "-- Drop the lastname column\n",
    "ALTER TABLE affiliations\n",
    "DROP COLUMN lastname;"
   ]
  },
  {
   "cell_type": "markdown",
   "id": "sharing-voltage",
   "metadata": {},
   "source": [
    "## Referential integrity violations\n",
    "\n",
    "Given the current state of your database, what happens if you execute the following SQL statement?\n",
    "\n",
    "```\n",
    "DELETE FROM universities\n",
    "WHERE id = 'EPF';\n",
    "```"
   ]
  },
  {
   "cell_type": "markdown",
   "id": "nearby-valentine",
   "metadata": {},
   "source": [
    "It fails because referential integrity from `professors` to `universities` is violated."
   ]
  },
  {
   "cell_type": "markdown",
   "id": "temporal-operator",
   "metadata": {},
   "source": [
    "## Change the referential integrity behavior of a key\n",
    "\n",
    "So far, you implemented three foreign key constraints:\n",
    "\n",
    "1. `professors.university_id` to `universities.id`\n",
    "2. `affiliations.organization_id` to `organizations.id`\n",
    "3. `affiliations.professor_id` to `professors.id`\n",
    "\n",
    "These foreign keys currently have the behavior `ON DELETE NO ACTION`. Here, you're going to change that behavior for the column referencing `organizations` from `affiliations`. If an organization is deleted, all its affiliations (by any professor) should also be deleted.\n",
    "\n",
    "Altering a key constraint doesn't work with `ALTER COLUMN`. Instead, you have to **`DROP` the key constraint** and then **`ADD` a new one** with a different `ON DELETE` behavior.\n",
    "\n",
    "For deleting constraints, though, you need to know their name. This information is also stored in `information_schema`.\n",
    "\n",
    "Instructions\n",
    "\n",
    "1. Have a look at the existing foreign key constraints by querying `table_constraints` in `information_schema`.\n",
    "2. Delete the `affiliations_organization_id_fkey` foreign key constraint in `affiliations`.\n",
    "3. Add a new foreign key to `affiliations` that `CASCADE`s deletion if a referenced record is deleted from `organizations`. Name it `affiliations_organization_id_fkey`.\n",
    "4. Run the `DELETE` and `SELECT` queries to double check that the deletion cascade actually works."
   ]
  },
  {
   "cell_type": "code",
   "execution_count": null,
   "id": "anticipated-observation",
   "metadata": {},
   "outputs": [],
   "source": [
    "-- Identify the correct constraint name\n",
    "SELECT constraint_name, table_name, constraint_type\n",
    "FROM information_schema.table_constraints\n",
    "WHERE constraint_type = 'FOREIGN KEY';\n",
    "\n",
    "# constraint_name                     table_name     constraint_type\n",
    "# affiliations_organization_id_fkey   affiliations   FOREIGN KEY\n",
    "# affiliations_professor_id_fkey      affiliations   FOREIGN KEY\n",
    "# professors_fkey                     professors     FOREIGN KEY"
   ]
  },
  {
   "cell_type": "code",
   "execution_count": null,
   "id": "satisfactory-complex",
   "metadata": {},
   "outputs": [],
   "source": [
    "-- Drop the right foreign key constraint\n",
    "ALTER TABLE affiliations\n",
    "DROP CONSTRAINT affiliations_organization_id_fkey;"
   ]
  },
  {
   "cell_type": "code",
   "execution_count": null,
   "id": "medieval-gentleman",
   "metadata": {},
   "outputs": [],
   "source": [
    "-- Add a new foreign key constraint from affiliations to organizations which cascades deletion\n",
    "ALTER TABLE affiliations\n",
    "ADD CONSTRAINT affiliations_organization_id_fkey FOREIGN KEY (organization_id) REFERENCES organizations (id) ON DELE"
   ]
  },
  {
   "cell_type": "code",
   "execution_count": null,
   "id": "italic-collaboration",
   "metadata": {},
   "outputs": [],
   "source": [
    "-- Delete an organization \n",
    "DELETE FROM organizations \n",
    "WHERE id = 'CUREM';\n",
    "\n",
    "-- Check that no more affiliations with this organization exist\n",
    "SELECT * FROM affiliations\n",
    "WHERE organization_id = 'CUREM';\n",
    "\n",
    "# function   organization_id   professor_id"
   ]
  },
  {
   "cell_type": "markdown",
   "id": "determined-binary",
   "metadata": {},
   "source": [
    "## Count affiliations per university\n",
    "\n",
    "Now that your data is ready for analysis, let's run some exemplary SQL queries on the database. You'll now use already known concepts such as grouping by columns and joining tables.\n",
    "\n",
    "In this exercise, you will find out which university has the most affiliations (through its professors). For that, you need both `affiliations` and `professors` tables, as the latter also holds the `university_id`.\n",
    "\n",
    "As a quick repetition, remember that joins have the following structure:\n",
    "\n",
    "```\n",
    "SELECT table_a.column1, table_a.column2, table_b.column1, ... \n",
    "FROM table_a\n",
    "JOIN table_b \n",
    "ON table_a.column = table_b.column\n",
    "```\n",
    "\n",
    "This results in a combination of `table_a` and `table_b`, but only with rows where `table_a.column` is equal to `table_b.column`.\n",
    "\n",
    "Instructions\n",
    "\n",
    "1. Count the number of total affiliations by university.\n",
    "2. Sort the result by that count, in descending order."
   ]
  },
  {
   "cell_type": "code",
   "execution_count": null,
   "id": "grand-shareware",
   "metadata": {},
   "outputs": [],
   "source": [
    "-- Count the total number of affiliations per university\n",
    "SELECT COUNT(*), \n",
    "       professors.university_id\n",
    "FROM affiliations\n",
    "JOIN professors\n",
    "ON affiliations.professor_id = professors.id\n",
    "-- Group by the university ids of professors\n",
    "GROUP BY professors.university_id \n",
    "ORDER BY count DESC;\n",
    "\n",
    "# count   university_id\n",
    "# 579     EPF\n",
    "# 273     USG\n",
    "# 162     UBE\n",
    "# 133     ETH\n",
    "# 75      UBA\n",
    "# 40      UFR\n",
    "# 36      UNE\n",
    "# 35      ULA\n",
    "# 33      UGE\n",
    "# 7       UZH\n",
    "# 4       USI"
   ]
  },
  {
   "cell_type": "markdown",
   "id": "grave-wales",
   "metadata": {},
   "source": [
    "## Join all the tables together\n",
    "\n",
    "In this last exercise, your task is to _find the university city of the professor with the most affiliations in the sector \"Media & communication\"._\n",
    "\n",
    "For this,\n",
    "\n",
    "- you need to join all the tables,\n",
    "- group by some column,\n",
    "- and then use selection criteria to get only the rows in the correct sector.\n",
    "\n",
    "Let's do this in three steps!\n",
    "\n",
    "Instructions\n",
    "\n",
    "1. Join all tables in the database (starting with `affiliations`, `professors`, `organizations`, and `universities`) and look at the result.\n",
    "2. \n",
    "    1. Now group the result by organization sector, professor, and university city.\n",
    "    2. Count the resulting number of rows.\n",
    "3. Only retain rows with \"Media & communication\" as organization sector, and sort the table by count, in descending order."
   ]
  },
  {
   "cell_type": "code",
   "execution_count": null,
   "id": "renewable-congo",
   "metadata": {},
   "outputs": [],
   "source": [
    "-- Join all tables\n",
    "SELECT *\n",
    "FROM affiliations\n",
    "JOIN professors\n",
    "ON affiliations.professor_id = professors.id\n",
    "JOIN organizations\n",
    "ON affiliations.organization_id = organizations.id\n",
    "JOIN universities\n",
    "ON professors.university_id = universities.id;\n",
    "\n",
    "# function                                            organization_id                        professor_id   id    firstname   lastname     university_id   id                               organization_sector    id    university     university_city\n",
    "# NA                                                  CIHA                                   442            442   Peter       Schneemann   UBE             CIHA                             Not classifiable       UBE   Uni Bern       Bern\n",
    "# Panel Member                                        SNF Ambizione Program                  1              1     Karl        Aberer       EPF             SNF Ambizione Program            Education & research   EPF   ETH Lausanne   Lausanne\n",
    "# Member of Conseil Fondation IDIAP                   Fondation IDIAP                        1              1     Karl        Aberer       EPF             Fondation IDIAP                  Education & research   EPF   ETH Lausanne   Lausanne\n",
    "# Member Conseil of Zeno-Karl Schindler Foundation    Zeno-Karl Schindler Foundation         1              1     Karl        Aberer       EPF             Zeno-Karl Schindler Foundation   Education & research   EPF   ETH Lausanne   Lausanne\n",
    "# Chairman of L3S Advisory Board                      L3S Advisory Board                     1              1     Karl        Aberer       EPF             L3S Advisory Board               Education & research   EPF   ETH Lausanne   Lausanne\n",
    "# ..."
   ]
  },
  {
   "cell_type": "code",
   "execution_count": null,
   "id": "preliminary-liability",
   "metadata": {},
   "outputs": [],
   "source": [
    "-- Group the table by organization sector, professor ID and university city\n",
    "SELECT COUNT(*),\n",
    "       organizations.organization_sector,\n",
    "       professors.id,\n",
    "       universities.university_city\n",
    "FROM affiliations\n",
    "JOIN professors\n",
    "ON affiliations.professor_id = professors.id\n",
    "JOIN organizations\n",
    "ON affiliations.organization_id = organizations.id\n",
    "JOIN universities\n",
    "ON professors.university_id = universities.id\n",
    "GROUP BY organizations.organization_sector, \n",
    "         professors.id,\n",
    "         universities.university_city;\n",
    "        \n",
    "# count   organization_sector                                          id    university_city\n",
    "# 1       Not classifiable                                             47    Basel\n",
    "# 2       Media & communication                                        361   Saint Gallen\n",
    "# 1       Education & research                                         140   Zurich\n",
    "# 2       Industry, construction & agriculture                         536   Saint Gallen\n",
    "# 1       Politics, administration, justice system & security sector   188   Lausanne\n",
    "# ..."
   ]
  },
  {
   "cell_type": "code",
   "execution_count": null,
   "id": "unable-lunch",
   "metadata": {},
   "outputs": [],
   "source": [
    "-- Filter the table and sort it\n",
    "SELECT COUNT(*),\n",
    "       organizations.organization_sector,\n",
    "       professors.id,\n",
    "       universities.university_city\n",
    "FROM affiliations\n",
    "JOIN professors\n",
    "ON affiliations.professor_id = professors.id\n",
    "JOIN organizations\n",
    "ON affiliations.organization_id = organizations.id\n",
    "JOIN universities\n",
    "ON professors.university_id = universities.id\n",
    "WHERE organizations.organization_sector = 'Media & communication'\n",
    "GROUP BY organizations.organization_sector,\n",
    "         professors.id,\n",
    "         universities.university_city\n",
    "ORDER BY count DESC;\n",
    "\n",
    "# count   organization_sector     id    university_city\n",
    "# 4       Media & communication   538   Lausanne\n",
    "# 3       Media & communication   365   Saint Gallen\n",
    "# 3       Media & communication   36    Lausanne\n",
    "# 2       Media & communication   329   Zurich\n",
    "# 2       Media & communication   523   Saint Gallen\n",
    "# ..."
   ]
  }
 ],
 "metadata": {
  "kernelspec": {
   "display_name": "Python 3",
   "language": "python",
   "name": "python3"
  },
  "language_info": {
   "codemirror_mode": {
    "name": "ipython",
    "version": 3
   },
   "file_extension": ".py",
   "mimetype": "text/x-python",
   "name": "python",
   "nbconvert_exporter": "python",
   "pygments_lexer": "ipython3",
   "version": "3.8.10"
  },
  "toc": {
   "base_numbering": 1,
   "nav_menu": {},
   "number_sections": false,
   "sideBar": true,
   "skip_h1_title": false,
   "title_cell": "Table of Contents",
   "title_sidebar": "Contents",
   "toc_cell": false,
   "toc_position": {},
   "toc_section_display": true,
   "toc_window_display": false
  },
  "varInspector": {
   "cols": {
    "lenName": 16,
    "lenType": 16,
    "lenVar": 40
   },
   "kernels_config": {
    "python": {
     "delete_cmd_postfix": "",
     "delete_cmd_prefix": "del ",
     "library": "var_list.py",
     "varRefreshCmd": "print(var_dic_list())"
    },
    "r": {
     "delete_cmd_postfix": ") ",
     "delete_cmd_prefix": "rm(",
     "library": "var_list.r",
     "varRefreshCmd": "cat(var_dic_list()) "
    }
   },
   "types_to_exclude": [
    "module",
    "function",
    "builtin_function_or_method",
    "instance",
    "_Feature"
   ],
   "window_display": false
  }
 },
 "nbformat": 4,
 "nbformat_minor": 5
}
