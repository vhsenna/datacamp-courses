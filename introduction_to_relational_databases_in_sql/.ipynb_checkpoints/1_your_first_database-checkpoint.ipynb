{
 "cells": [
  {
   "cell_type": "markdown",
   "id": "solid-bidder",
   "metadata": {},
   "source": [
    "## Attributes of relational databases\n",
    "\n",
    "In the video, we talked about some basic facts about relational databases. Which of the following statements does hold true for databases? Relational databases..."
   ]
  },
  {
   "cell_type": "markdown",
   "id": "headed-legend",
   "metadata": {},
   "source": [
    "... store different real-world entities in different tables.\n",
    "<br>... allow to establish relationships between entities.\n",
    "<br>... use constraints, keys and referential integrity in order to assure data quality."
   ]
  },
  {
   "cell_type": "markdown",
   "id": "criminal-crown",
   "metadata": {},
   "source": [
    "## Query information_schema with SELECT\n",
    "\n",
    "`information_schema` is a meta-database that holds information about your current database. `information_schema` has multiple tables you can query with the known `SELECT * FROM` syntax:\n",
    "\n",
    "- `tables`: information about all _tables_ in your current database\n",
    "- `columns`: information about all _columns_ in all of the tables in your current database\n",
    "- ...\n",
    "\n",
    "In this exercise, you'll only need information from the `'public'` schema, which is specified as the column `table_schema` of the `tables` and `columns tables`. The `'public'` schema holds information about user-defined tables and databases. The other types of `table_schema` hold system information – for this course, you're only interested in user-defined stuff.\n",
    "\n",
    "Instructions\n",
    "\n",
    "1. Get information on all table names in the current database, while limiting your query to the `'public'` `table_schema`.\n",
    "2. Now have a look at the columns in `university_professors` by selecting all entries in `information_schema.columns` that correspond to that table.\n",
    "3. How many columns does the table `university_professors` have?\n",
    "4. Finally, print the first five rows of the `university_professors` table."
   ]
  },
  {
   "cell_type": "code",
   "execution_count": null,
   "id": "million-relevance",
   "metadata": {},
   "outputs": [],
   "source": [
    "-- Query the right table in information_schema\n",
    "SELECT table_name \n",
    "FROM information_schema.tables\n",
    "-- Specify the correct table_schema value\n",
    "WHERE table_schema = 'public';\n",
    "\n",
    "# table_name\n",
    "# university_professors"
   ]
  },
  {
   "cell_type": "code",
   "execution_count": null,
   "id": "rising-battery",
   "metadata": {},
   "outputs": [],
   "source": [
    "-- Query the right table in information_schema to get columns\n",
    "SELECT column_name, data_type \n",
    "FROM information_schema.columns \n",
    "WHERE table_name = 'university_professors' AND table_schema = 'public';\n",
    "\n",
    "# column_name            data_type\n",
    "# firstname              text\n",
    "# lastname               text\n",
    "# university             text\n",
    "# university_shortname   text\n",
    "# university_city        text\n",
    "# function               text\n",
    "# organization           text\n",
    "# organization_sector    text"
   ]
  },
  {
   "cell_type": "code",
   "execution_count": null,
   "id": "special-horizontal",
   "metadata": {},
   "outputs": [],
   "source": [
    "-- Query the first five rows of our table\n",
    "SELECT * \n",
    "FROM university_professors \n",
    "LIMIT 5;\n",
    "\n",
    "# firstname         lastname   university     university_shortname   university_city   function                                           organization                     organization_sector\n",
    "# Karl              Aberer     ETH Lausanne   EPF                    Lausanne          Chairman of L3S Advisory Board                     L3S Advisory Board               Education & research\n",
    "# Karl              Aberer     ETH Lausanne   EPF                    Lausanne          Member Conseil of Zeno-Karl Schindler Foundation   Zeno-Karl Schindler Foundation   Education & research\n",
    "# Karl              Aberer     ETH Lausanne   EPF                    Lausanne          Member of Conseil Fondation IDIAP                  Fondation IDIAP                  Education & research\n",
    "# Karl              Aberer     ETH Lausanne   EPF                    Lausanne          Panel Member                                       SNF Ambizione Program            Education & research\n",
    "# Reza Shokrollah   Abhari     ETH Zürich     ETH                    Zurich            Aufsichtsratsmandat                                PNE Wind AG                      Energy, environment & mobility"
   ]
  },
  {
   "cell_type": "markdown",
   "id": "ordinary-engine",
   "metadata": {},
   "source": [
    "## CREATE your first few TABLEs\n",
    "\n",
    "You'll now start implementing a better database model. For this, you'll create tables for the `professors` and `universities` entity types. The other tables will be created for you.\n",
    "\n",
    "The syntax for creating simple tables is as follows:\n",
    "\n",
    "```\n",
    "CREATE TABLE table_name (\n",
    "    column_a data_type,\n",
    "    column_b data_type,\n",
    "    column_c data_type);\n",
    "```\n",
    "\n",
    "Attention: Table and columns names, as well as data types, don't need to be surrounded by quotation marks.\n",
    "\n",
    "Instructions\n",
    "\n",
    "1. Create a table `professors` with two `text` columns: `firstname` and `lastname`.\n",
    "2. Create a table `universities` with three `text` columns: `university_shortname`, `university`, and `university_city`."
   ]
  },
  {
   "cell_type": "code",
   "execution_count": null,
   "id": "thrown-quarterly",
   "metadata": {},
   "outputs": [],
   "source": [
    "-- Create a table for the professors entity type\n",
    "CREATE TABLE professors (\n",
    "    firstname text,\n",
    "    lastname text\n",
    ");\n",
    "\n",
    "-- Print the contents of this table\n",
    "SELECT * \n",
    "FROM professors;\n",
    "\n",
    "# firstname   lastname"
   ]
  },
  {
   "cell_type": "code",
   "execution_count": null,
   "id": "pending-moses",
   "metadata": {},
   "outputs": [],
   "source": [
    "-- Create a table for the universities entity type\n",
    "CREATE TABLE universities (\n",
    "    university_shortname text,\n",
    "    university text,\n",
    "    university_city text\n",
    ");\n",
    "\n",
    "-- Print the contents of this table\n",
    "SELECT * \n",
    "FROM universities;\n",
    "\n",
    "# university_shortname   university   university_city"
   ]
  },
  {
   "cell_type": "markdown",
   "id": "suffering-reverse",
   "metadata": {},
   "source": [
    "## ADD a COLUMN with ALTER TABLE\n",
    "\n",
    "Oops! We forgot to add the `university_shortname` column to the `professors` table. You've probably already noticed:\n",
    "\n",
    "![](https://i.imgur.com/hSPyFkP.png)\n",
    "\n",
    "In chapter 4 of this course, you'll need this column for connecting the `professors` table with the `universities` table.\n",
    "\n",
    "However, adding columns to existing tables is easy, especially if they're still empty.\n",
    "\n",
    "To add columns you can use the following SQL query:\n",
    "\n",
    "```\n",
    "ALTER TABLE table_name\n",
    "ADD COLUMN column_name data_type;\n",
    "```\n",
    "\n",
    "Instructions\n",
    "\n",
    "1. Alter `professors` to add the text column `university_shortname`."
   ]
  },
  {
   "cell_type": "code",
   "execution_count": null,
   "id": "hollywood-optimization",
   "metadata": {},
   "outputs": [],
   "source": [
    "-- Add the university_shortname column\n",
    "ALTER TABLE professors\n",
    "ADD COLUMN university_shortname text;\n",
    "\n",
    "-- Print the contents of this table\n",
    "SELECT * \n",
    "FROM professors;\n",
    "\n",
    "# firstname   lastname   university_shortname"
   ]
  },
  {
   "cell_type": "markdown",
   "id": "enclosed-viking",
   "metadata": {},
   "source": [
    "## RENAME and DROP COLUMNs in affiliations\n",
    "\n",
    "As mentioned in the video, the still empty affiliations table has some flaws. In this exercise, you'll correct them as outlined in the video.\n",
    "\n",
    "You'll use the following queries:\n",
    "\n",
    "- To rename columns:\n",
    "\n",
    "```\n",
    "ALTER TABLE table_name\n",
    "RENAME COLUMN old_name TO new_name;\n",
    "```\n",
    "\n",
    "- To delete columns:\n",
    "\n",
    "```\n",
    "ALTER TABLE table_name\n",
    "DROP COLUMN column_name;\n",
    "```\n",
    "\n",
    "Instructions\n",
    "\n",
    "1. Rename the `organisation` column to `organization` in `affiliations`.\n",
    "2. "
   ]
  },
  {
   "cell_type": "code",
   "execution_count": null,
   "id": "antique-british",
   "metadata": {},
   "outputs": [],
   "source": [
    "-- Rename the organisation column\n",
    "ALTER TABLE affiliations\n",
    "RENAME COLUMN organisation TO organization;"
   ]
  },
  {
   "cell_type": "code",
   "execution_count": null,
   "id": "verified-desperate",
   "metadata": {},
   "outputs": [],
   "source": [
    "-- Delete the university_shortname column\n",
    "ALTER TABLE affiliations\n",
    "DROP COLUMN university_shortname;"
   ]
  },
  {
   "cell_type": "markdown",
   "id": "fitted-documentary",
   "metadata": {},
   "source": [
    "## Migrate data with INSERT INTO SELECT DISTINCT\n",
    "\n",
    "Now it's finally time to migrate the data into the new tables. You'll use the following pattern:\n",
    "\n",
    "```\n",
    "INSERT INTO ... \n",
    "SELECT DISTINCT ... \n",
    "FROM ...;\n",
    "```\n",
    "\n",
    "It can be broken up into two parts:\n",
    "\n",
    "_First part:_\n",
    "\n",
    "```\n",
    "SELECT DISTINCT column_name1, column_name2, ... \n",
    "FROM table_a;\n",
    "```\n",
    "\n",
    "This selects all distinct values in table `table_a` – nothing new for you.\n",
    "\n",
    "_Second part:_\n",
    "\n",
    "```\n",
    "INSERT INTO table_b ...;\n",
    "```\n",
    "\n",
    "Take this part and append it to the first, so it inserts all distinct rows from `table_a` into `table_b`.\n",
    "\n",
    "**One last thing**: It is important that you run all of the code at the same time once you have filled out the blanks.\n",
    "\n",
    "Instructions\n",
    "\n",
    "1. \n",
    "    1. Insert all `DISTINCT` professors from `university_professors` into `professors`.\n",
    "    2. Print all the rows in `professors`.\n",
    "2. Insert all `DISTINCT` affiliations into `affiliations` from `university_professors`."
   ]
  },
  {
   "cell_type": "code",
   "execution_count": null,
   "id": "expanded-recommendation",
   "metadata": {},
   "outputs": [],
   "source": [
    "-- Insert unique professors into the new table\n",
    "INSERT INTO professors\n",
    "SELECT DISTINCT firstname, lastname, university_shortname \n",
    "FROM university_professors;\n",
    "\n",
    "-- Doublecheck the contents of professors\n",
    "SELECT * \n",
    "FROM professors;\n",
    "\n",
    "# firstname   lastname      university_shortname\n",
    "# Michel      Rappaz        EPF\n",
    "# Hilal       Lashuel       EPF\n",
    "# Jeffrey     Huang         EPF\n",
    "# Pierre      Magistretti   EPF\n",
    "# Paolo       Ienne         EPF\n",
    "# ..."
   ]
  },
  {
   "cell_type": "code",
   "execution_count": null,
   "id": "removable-aurora",
   "metadata": {},
   "outputs": [],
   "source": [
    "-- Insert unique affiliations into the new table\n",
    "INSERT INTO affiliations \n",
    "SELECT DISTINCT firstname, lastname, function, organization \n",
    "FROM university_professors;\n",
    "\n",
    "-- Doublecheck the contents of affiliations\n",
    "SELECT * \n",
    "FROM affiliations;\n",
    "\n",
    "# firstname   lastname     function                                      organization\n",
    "# Dimos       Poulikakos   VR-Mandat                                     Scrona AG\n",
    "# Francesco   Stellacci    Co-editor in Chief, Nanoscale                 Royal Chemistry Society, UK\n",
    "# Alexander   Fust         Fachexperte und Coach für Designer Startups   Creative Hub\n",
    "# Jürgen      Brugger      Proposal reviewing HEPIA                      HES Campus Biotech, Genève\n",
    "# Hervé       Bourlard     Director                                      Idiap Research Institute\n",
    "# ..."
   ]
  },
  {
   "cell_type": "markdown",
   "id": "differential-hands",
   "metadata": {},
   "source": [
    "## Delete tables with DROP TABLE\n",
    "\n",
    "Obviously, the `university_professors` table is now no longer needed and can safely be deleted.\n",
    "\n",
    "For table deletion, you can use the simple command:\n",
    "\n",
    "```\n",
    "DROP TABLE table_name;\n",
    "```\n",
    "\n",
    "Instructions\n",
    "\n",
    "1. Delete the `university_professors` table."
   ]
  },
  {
   "cell_type": "code",
   "execution_count": null,
   "id": "sustained-vision",
   "metadata": {},
   "outputs": [],
   "source": [
    "-- Delete the university_professors table\n",
    "DROP TABLE university_professors;"
   ]
  }
 ],
 "metadata": {
  "kernelspec": {
   "display_name": "Python 3",
   "language": "python",
   "name": "python3"
  },
  "language_info": {
   "codemirror_mode": {
    "name": "ipython",
    "version": 3
   },
   "file_extension": ".py",
   "mimetype": "text/x-python",
   "name": "python",
   "nbconvert_exporter": "python",
   "pygments_lexer": "ipython3",
   "version": "3.8.10"
  },
  "toc": {
   "base_numbering": 1,
   "nav_menu": {},
   "number_sections": false,
   "sideBar": true,
   "skip_h1_title": false,
   "title_cell": "Table of Contents",
   "title_sidebar": "Contents",
   "toc_cell": false,
   "toc_position": {},
   "toc_section_display": true,
   "toc_window_display": false
  },
  "varInspector": {
   "cols": {
    "lenName": 16,
    "lenType": 16,
    "lenVar": 40
   },
   "kernels_config": {
    "python": {
     "delete_cmd_postfix": "",
     "delete_cmd_prefix": "del ",
     "library": "var_list.py",
     "varRefreshCmd": "print(var_dic_list())"
    },
    "r": {
     "delete_cmd_postfix": ") ",
     "delete_cmd_prefix": "rm(",
     "library": "var_list.r",
     "varRefreshCmd": "cat(var_dic_list()) "
    }
   },
   "types_to_exclude": [
    "module",
    "function",
    "builtin_function_or_method",
    "instance",
    "_Feature"
   ],
   "window_display": false
  }
 },
 "nbformat": 4,
 "nbformat_minor": 5
}
