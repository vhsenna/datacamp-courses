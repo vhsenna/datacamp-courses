{
 "cells": [
  {
   "cell_type": "markdown",
   "id": "boring-rocket",
   "metadata": {},
   "source": [
    "## Types of database constraints\n",
    "\n",
    "Which of the following is used to enforce a database constraint?"
   ]
  },
  {
   "cell_type": "markdown",
   "id": "crazy-catalog",
   "metadata": {},
   "source": [
    "Foreign keys.\n",
    "<br>The BIGINT data type.\n",
    "<br>Primary keys."
   ]
  },
  {
   "cell_type": "markdown",
   "id": "identified-anchor",
   "metadata": {},
   "source": [
    "## Conforming with data types\n",
    "\n",
    "For demonstration purposes, I created a fictional database table that only holds three records. The columns have the data types `date`, `integer`, and `text`, respectively.\n",
    "\n",
    "```\n",
    "CREATE TABLE transactions (\n",
    "    transaction_date date, \n",
    "    amount integer,\n",
    "    fee text\n",
    ");\n",
    "```\n",
    "\n",
    "Have a look at the contents of the `transactions` table.\n",
    "\n",
    "The `transaction_date` accepts `date` values. According to the [PostgreSQL documentation](https://www.postgresql.org/docs/10/datatype-datetime.html#DATATYPE-DATETIME-INPUT), it accepts values in the form of `YYYY-MM-DD`, `DD/MM/YY`, and so forth.\n",
    "\n",
    "Both columns `amount` and `fee` appear to be numeric, however, the latter is modeled as `text` – which you will account for in the next exercise.\n",
    "\n",
    "Instructions\n",
    "\n",
    "1. Execute the given sample code.\n",
    "2. As it doesn't work, have a look at the error message and correct the statement accordingly – then execute it again."
   ]
  },
  {
   "cell_type": "code",
   "execution_count": null,
   "id": "general-tennessee",
   "metadata": {},
   "outputs": [],
   "source": [
    "-- Let's add a record to the table\n",
    "INSERT INTO transactions (transaction_date, amount, fee) \n",
    "VALUES ('2018-09-24', 5454, '30');\n",
    "\n",
    "-- Doublecheck the contents\n",
    "SELECT *\n",
    "FROM transactions;\n",
    "\n",
    "# transaction_date   amount   fee\n",
    "# 1999-01-08         500      20\n",
    "# 2001-02-20         403      15\n",
    "# 2001-03-20         3430     35\n",
    "# 2018-09-24         5454     30"
   ]
  },
  {
   "cell_type": "markdown",
   "id": "median-panel",
   "metadata": {},
   "source": [
    "## Type CASTs\n",
    "\n",
    "In the video, you saw that type casts are a possible solution for data type issues. If you know that a certain column stores numbers as `text`, you can _cast_ the column to a numeric form, i.e. to `integer`.\n",
    "\n",
    "```\n",
    "SELECT CAST(some_column AS integer)\n",
    "FROM table;\n",
    "```\n",
    "\n",
    "Now, the `some_column` column is temporarily represented as `integer` instead of `text`, meaning that you can perform numeric calculations on the column.\n",
    "\n",
    "Instructions\n",
    "\n",
    "1. Execute the given sample code.\n",
    "2. As it doesn't work, add an `integer` type cast at the right place and execute it again."
   ]
  },
  {
   "cell_type": "code",
   "execution_count": null,
   "id": "mexican-maple",
   "metadata": {},
   "outputs": [],
   "source": [
    "-- Calculate the net amount as amount + fee\n",
    "SELECT transaction_date, amount + CAST(fee AS integer) AS net_amount \n",
    "FROM transactions;\n",
    "\n",
    "# transaction_date   net_amount\n",
    "# 1999-01-08         520\n",
    "# 2001-02-20         418\n",
    "# 2001-03-20         3465\n",
    "# 1999-01-08         520\n",
    "# 2001-02-20         418\n",
    "# 2001-03-20         3465\n",
    "# 2018-09-24         5484"
   ]
  },
  {
   "cell_type": "markdown",
   "id": "verified-soundtrack",
   "metadata": {},
   "source": [
    "## Change types with ALTER COLUMN\n",
    "\n",
    "The syntax for changing the data type of a column is straightforward. The following code changes the data type of the `column_name` column in `table_name` to `varchar(10)`:\n",
    "\n",
    "```\n",
    "ALTER TABLE table_name\n",
    "ALTER COLUMN column_name\n",
    "TYPE varchar(10)\n",
    "```\n",
    "\n",
    "Now it's time to start adding constraints to your database.\n",
    "\n",
    "Instructions\n",
    "\n",
    "1. Have a look at the distinct `university_shortname` values in the `professors` table and take note of the length of the strings.\n",
    "2. Now specify a fixed-length character type with the correct length for `university_shortname`.\n",
    "3. Change the type of the `firstname` column to `varchar(64)`."
   ]
  },
  {
   "cell_type": "code",
   "execution_count": null,
   "id": "expected-excess",
   "metadata": {},
   "outputs": [],
   "source": [
    "-- Select the university_shortname column\n",
    "SELECT DISTINCT(university_shortname) \n",
    "FROM professors;\n",
    "\n",
    "# university_shortname\n",
    "# ULA\n",
    "# UNE\n",
    "# EPF\n",
    "# UBA\n",
    "# USG\n",
    "# UBE\n",
    "# UZH\n",
    "# UGE\n",
    "# UFR\n",
    "# USI\n",
    "# ETH"
   ]
  },
  {
   "cell_type": "code",
   "execution_count": null,
   "id": "bound-theorem",
   "metadata": {},
   "outputs": [],
   "source": [
    "-- Specify the correct fixed-length character type\n",
    "ALTER TABLE professors\n",
    "ALTER COLUMN university_shortname\n",
    "TYPE char(3);"
   ]
  },
  {
   "cell_type": "code",
   "execution_count": null,
   "id": "approximate-vacation",
   "metadata": {},
   "outputs": [],
   "source": [
    "-- Change the type of firstname\n",
    "ALTER TABLE professors\n",
    "ALTER COLUMN firstname\n",
    "TYPE varchar(64);"
   ]
  },
  {
   "cell_type": "markdown",
   "id": "european-admission",
   "metadata": {},
   "source": [
    "## Convert types USING a function\n",
    "\n",
    "If you don't want to reserve too much space for a certain `varchar` column, you can _truncate_ the values before converting its type.\n",
    "\n",
    "For this, you can use the following syntax:\n",
    "\n",
    "```\n",
    "ALTER TABLE table_name\n",
    "ALTER COLUMN column_name\n",
    "TYPE varchar(x)\n",
    "USING SUBSTRING(column_name FROM 1 FOR x)\n",
    "```\n",
    "\n",
    "You should read it like this: Because you want to reserve only `x` characters for `column_name`, you have to retain a `SUBSTRING` of every value, i.e. the first `x` characters of it, and throw away the rest. This way, the values will fit the `varchar(x)` requirement.\n",
    "\n",
    "Instructions\n",
    "\n",
    "1. Run the sample code as is and take note of the error.\n",
    "2. Now use `SUBSTRING()` to reduce `firstname` to 16 characters so its type can be altered to `varchar(16)`."
   ]
  },
  {
   "cell_type": "code",
   "execution_count": null,
   "id": "musical-postage",
   "metadata": {},
   "outputs": [],
   "source": [
    "-- Convert the values in firstname to a max. of 16 characters\n",
    "ALTER TABLE professors \n",
    "ALTER COLUMN firstname \n",
    "TYPE varchar(16)\n",
    "USING SUBSTRING(firstname FROM 1 FOR 16)"
   ]
  },
  {
   "cell_type": "markdown",
   "id": "cross-publisher",
   "metadata": {},
   "source": [
    "## Disallow NULL values with SET NOT NULL\n",
    "\n",
    "The `professors` table is almost ready now. However, it still allows for `NULL`s to be entered. Although some information might be missing about some professors, there's certainly columns that _always_ need to be specified.\n",
    "\n",
    "Instructions\n",
    "\n",
    "1. Add a not-null constraint for the `firstname` column.\n",
    "2. Add a not-null constraint for the `lastname` column."
   ]
  },
  {
   "cell_type": "code",
   "execution_count": null,
   "id": "false-english",
   "metadata": {},
   "outputs": [],
   "source": [
    "-- Disallow NULL values in firstname\n",
    "ALTER TABLE professors \n",
    "ALTER COLUMN firstname SET NOT NULL;"
   ]
  },
  {
   "cell_type": "code",
   "execution_count": null,
   "id": "collective-affiliate",
   "metadata": {},
   "outputs": [],
   "source": [
    "-- Disallow NULL values in lastname\n",
    "ALTER TABLE PROFESSORS\n",
    "ALTER COLUMN lastname SET NOT NULL"
   ]
  },
  {
   "cell_type": "markdown",
   "id": "noticed-therapist",
   "metadata": {},
   "source": [
    "## What happens if you try to enter NULLs?\n",
    "\n",
    "Execute the following statement:\n",
    "\n",
    "```\n",
    "INSERT INTO professors (firstname, lastname, university_shortname)\n",
    "VALUES (NULL, 'Miller', 'ETH');\n",
    "```\n",
    "\n",
    "Why does this throw an error?"
   ]
  },
  {
   "cell_type": "markdown",
   "id": "vulnerable-skiing",
   "metadata": {},
   "source": [
    "Because a database constraint is violated."
   ]
  },
  {
   "cell_type": "markdown",
   "id": "reasonable-modem",
   "metadata": {},
   "source": [
    "## Make your columns UNIQUE with ADD CONSTRAINT\n",
    "\n",
    "As seen in the video, you add the `UNIQUE` keyword after the `column_name` that should be unique. This, of course, only works for _new_ tables:\n",
    "\n",
    "```\n",
    "CREATE TABLE table_name (\n",
    "    column_name UNIQUE\n",
    ");\n",
    "```\n",
    "\n",
    "If you want to add a unique constraint to an _existing_ table, you do it like that:\n",
    "\n",
    "```\n",
    "ALTER TABLE table_name\n",
    "ADD CONSTRAINT some_name UNIQUE(column_name);\n",
    "```\n",
    "\n",
    "Note that this is different from the `ALTER COLUMN` syntax for the not-null constraint. Also, you have to give the constraint a name `some_name`.\n",
    "\n",
    "Instructions\n",
    "\n",
    "1. Add a unique constraint to the `university_shortname` column in `universities`. Give it the name `university_shortname_unq`.\n",
    "2. Add a unique constraint to the `organization column` in `organizations`. Give it the name `organization_unq`."
   ]
  },
  {
   "cell_type": "code",
   "execution_count": null,
   "id": "uniform-brave",
   "metadata": {},
   "outputs": [],
   "source": [
    "-- Make universities.university_shortname unique\n",
    "ALTER TABLE universities\n",
    "ADD CONSTRAINT university_shortname_unq UNIQUE(university_shortname);"
   ]
  },
  {
   "cell_type": "code",
   "execution_count": null,
   "id": "junior-affiliation",
   "metadata": {},
   "outputs": [],
   "source": [
    "-- Make organizations.organization unique\n",
    "ALTER TABLE organizations\n",
    "ADD CONSTRAINT organization_unq UNIQUE(organization)"
   ]
  }
 ],
 "metadata": {
  "kernelspec": {
   "display_name": "Python 3",
   "language": "python",
   "name": "python3"
  },
  "language_info": {
   "codemirror_mode": {
    "name": "ipython",
    "version": 3
   },
   "file_extension": ".py",
   "mimetype": "text/x-python",
   "name": "python",
   "nbconvert_exporter": "python",
   "pygments_lexer": "ipython3",
   "version": "3.8.10"
  },
  "toc": {
   "base_numbering": 1,
   "nav_menu": {},
   "number_sections": false,
   "sideBar": true,
   "skip_h1_title": false,
   "title_cell": "Table of Contents",
   "title_sidebar": "Contents",
   "toc_cell": false,
   "toc_position": {},
   "toc_section_display": true,
   "toc_window_display": false
  },
  "varInspector": {
   "cols": {
    "lenName": 16,
    "lenType": 16,
    "lenVar": 40
   },
   "kernels_config": {
    "python": {
     "delete_cmd_postfix": "",
     "delete_cmd_prefix": "del ",
     "library": "var_list.py",
     "varRefreshCmd": "print(var_dic_list())"
    },
    "r": {
     "delete_cmd_postfix": ") ",
     "delete_cmd_prefix": "rm(",
     "library": "var_list.r",
     "varRefreshCmd": "cat(var_dic_list()) "
    }
   },
   "types_to_exclude": [
    "module",
    "function",
    "builtin_function_or_method",
    "instance",
    "_Feature"
   ],
   "window_display": false
  }
 },
 "nbformat": 4,
 "nbformat_minor": 5
}
