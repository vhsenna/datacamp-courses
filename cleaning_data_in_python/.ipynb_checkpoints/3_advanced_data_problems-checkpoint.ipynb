{
 "cells": [
  {
   "cell_type": "markdown",
   "id": "refined-bouquet",
   "metadata": {},
   "source": [
    "## Uniform currencies\n",
    "\n",
    "In this exercise and throughout this chapter, you will be working with a retail banking dataset stored in the `banking` DataFrame. The dataset contains data on the amount of money stored in accounts, their currency, amount invested, account opening date and last transaction date that were consolidated from American and European branches.\n",
    "\n",
    "You are tasked with understanding the average account size and how investments vary by the size of account, however in order to produce this analysis accurately, you first need to unify the currency amount into dollars. The `pandas` package has been imported as `pd`, and the `banking` DataFrame is in your environment.\n",
    "\n",
    "Instructions\n",
    "\n",
    "1. Find the rows of `acct_cur` in `banking` that are equal to `'euro'` and store them in `acct_eu`.\n",
    "2. Find all the rows of `acct_amount` in `banking` that fit the `acct_eu` condition, and convert them to USD by multiplying them with `1.1`.\n",
    "3. Find all the rows of `acct_cur` in `banking` that fit the `acct_eu` condition, set them to `'dollar'`."
   ]
  },
  {
   "cell_type": "code",
   "execution_count": 1,
   "id": "diagnostic-airfare",
   "metadata": {},
   "outputs": [],
   "source": [
    "# Import pandas\n",
    "import pandas as pd\n",
    "\n",
    "# Import dataframe\n",
    "banking = pd.read_csv('banking.csv')"
   ]
  },
  {
   "cell_type": "code",
   "execution_count": 2,
   "id": "forced-detector",
   "metadata": {},
   "outputs": [],
   "source": [
    "# Find values of acct_cur that are equal to 'euro'\n",
    "acct_eu = banking['acct_cur'] == 'euro'\n",
    "\n",
    "# Convert acct_amount where it is in euro to dollars\n",
    "banking.loc[acct_eu, 'acct_amount'] = banking.loc[acct_eu, 'acct_amount'] * 1.1 \n",
    "\n",
    "# Unify acct_cur column by changing 'euro' values to 'dollar'\n",
    "banking.loc[acct_eu, 'acct_cur'] = 'dollar'\n",
    "\n",
    "# Assert that only dollar currency remains\n",
    "assert banking['acct_cur'].unique() == 'dollar'"
   ]
  },
  {
   "cell_type": "markdown",
   "id": "hispanic-income",
   "metadata": {},
   "source": [
    "## Uniform dates\n",
    "\n",
    "After having unified the currencies of your different account amounts, you want to add a temporal dimension to your analysis and see how customers have been investing their money given the size of their account over each year. The `account_opened` column represents when customers opened their accounts and is a good proxy for segmenting customer activity and investment over time.\n",
    "\n",
    "However, since this data was consolidated from multiple sources, you need to make sure that all dates are of the same format. You will do so by converting this column into a `datetime` object, while making sure that the format is inferred and potentially incorrect formats are set to missing. The `banking` DataFrame is in your environment and `pandas` was imported as `pd`.\n",
    "\n",
    "Instructions\n",
    "\n",
    "1. Print the header of `account_opened` from the `banking` DataFrame and take a look at the different results.\n",
    "2. Take a look at the output. You tried converting the values to `datetime` using the default `to_datetime()` function without changing any argument, however received the following error: `ValueError: month must be in 1..12`. Why do you think that is? The `21-14-17` entry is erroneous and leads to an error.\n",
    "3. Convert the `account_opened` column to `datetime`, while making sure the date format is inferred and that erroneous formats that raise error return a missing value.\n",
    "4. Extract the year from the amended `account_opened` column and assign it to the `acct_year` column.\n",
    "5. Print the newly created `acct_year` column."
   ]
  },
  {
   "cell_type": "code",
   "execution_count": 3,
   "id": "informed-hindu",
   "metadata": {},
   "outputs": [
    {
     "data": {
      "text/plain": [
       "0     2018\n",
       "1     2019\n",
       "2     2018\n",
       "3      NaN\n",
       "4     2018\n",
       "      ... \n",
       "95    2018\n",
       "96    2017\n",
       "97    2017\n",
       "98    2017\n",
       "99    2017\n",
       "Name: acct_year, Length: 100, dtype: object"
      ]
     },
     "execution_count": 3,
     "metadata": {},
     "output_type": "execute_result"
    }
   ],
   "source": [
    "# Print the header of account_opened\n",
    "banking['account_opened'].head()\n",
    "\n",
    "# Convert account_opened to datetime\n",
    "banking['account_opened'] = pd.to_datetime(banking['account_opened'],\n",
    "                                           # Infer datetime format\n",
    "                                           infer_datetime_format=True,\n",
    "                                           # Return missing value for error\n",
    "                                           errors='coerce')\n",
    "\n",
    "# Get year of account opened\n",
    "banking['acct_year'] = banking['account_opened'].dt.strftime('%Y')\n",
    "\n",
    "# Print acct_year\n",
    "banking['acct_year']"
   ]
  },
  {
   "cell_type": "markdown",
   "id": "detailed-lightweight",
   "metadata": {},
   "source": [
    "## Cross field or no cross field?\n",
    "\n",
    "Throughout this course, you've been immersed in a variety of data cleaning problems from range constraints, data type constraints, uniformity and more.\n",
    "\n",
    "In this lesson, you were introduced to cross field validation as a means to sanity check your data and making sure you have strong data integrity.\n",
    "\n",
    "Now, you will map different applicable concepts and techniques to their respective categories.\n",
    "\n",
    "Instructions\n",
    "\n",
    "1. Map different applicable concepts and techniques to their respective categories."
   ]
  },
  {
   "cell_type": "markdown",
   "id": "surprising-dialogue",
   "metadata": {},
   "source": [
    "- Cross field validation\n",
    "    - Row wise operations such as `.sum(axis=1)`.\n",
    "    - Confirming the Age provided by users by cross checking their birthdays.\n",
    "\n",
    "\n",
    "- Not cross field validation\n",
    "    - The use of `.astype()` method.\n",
    "    - Making sure a `subscription_date` column has no values set in the future.\n",
    "    - Making sure that a `revenue` column is a numeric column."
   ]
  },
  {
   "cell_type": "markdown",
   "id": "cordless-headquarters",
   "metadata": {},
   "source": [
    "## How's our data integrity?\n",
    "\n",
    "New data has been merged into the `banking` DataFrame that contains details on how investments in the `inv_amount` column are allocated across four different funds A, B, C and D.\n",
    "\n",
    "Furthermore, the age and birthdays of customers are now stored in the `age` and `birth_date` columns respectively.\n",
    "\n",
    "You want to understand how customers of different age groups invest. However, you want to first make sure the data you're analyzing is correct. You will do so by cross field checking values of `inv_amount` and `age` against the amount invested in different funds and customers' birthdays. Both `pandas` and `datetime` have been imported as `pd` and `dt` respectively.\n",
    "\n",
    "Instructions\n",
    "\n",
    "1. Find the rows where the sum of all rows of the `fund_columns` in `banking` are equal to the `inv_amount` column.\n",
    "2. Store the values of `banking` with consistent `inv_amount` in `consistent_inv`, and those with inconsistent ones in `inconsistent_inv`.\n",
    "3. Store today's date into `today`, and manually calculate customers' ages and store them in `ages_manual`.\n",
    "4. Find all rows of `banking` where the `age` column is equal to `ages_manual` and then filter `banking` into `consistent_ages` and `inconsistent_ages`."
   ]
  },
  {
   "cell_type": "code",
   "execution_count": 4,
   "id": "buried-agency",
   "metadata": {},
   "outputs": [
    {
     "name": "stdout",
     "output_type": "stream",
     "text": [
      "Number of inconsistent investments:  100\n"
     ]
    }
   ],
   "source": [
    "# Import datetime\n",
    "import datetime as dt\n",
    "\n",
    "# Store fund columns to sum against\n",
    "fund_columns = ['fund_A', 'fund_B', 'fund_C', 'fund_D']\n",
    "\n",
    "# Find rows where fund_columns row sum == inv_amount\n",
    "inv_equ = banking[fund_columns].sum(axis = 1) == banking['inv_amount']\n",
    "\n",
    "# Store consistent and inconsistent data\n",
    "consistent_inv = banking[inv_equ]\n",
    "inconsistent_inv = banking[~inv_equ]\n",
    "\n",
    "# Store consistent and inconsistent data\n",
    "print('Number of inconsistent investments: ', inconsistent_inv.shape[0])"
   ]
  },
  {
   "cell_type": "code",
   "execution_count": 5,
   "id": "broken-automation",
   "metadata": {},
   "outputs": [
    {
     "name": "stdout",
     "output_type": "stream",
     "text": [
      "Number of inconsistent ages:  98\n"
     ]
    }
   ],
   "source": [
    "# Convert to datetime\n",
    "banking['birth_date'] = pd.to_datetime(banking['birth_date'])\n",
    "\n",
    "# Store today's date and find ages\n",
    "today = dt.date.today()\n",
    "ages_manual = today.year - banking['birth_date'].dt.year\n",
    "\n",
    "# Find rows where age column == ages_manual\n",
    "age_equ = banking['age'] == ages_manual\n",
    "\n",
    "# Store consistent and inconsistent data\n",
    "consistent_ages = banking[age_equ]\n",
    "inconsistent_ages = banking[~age_equ]\n",
    "\n",
    "# Store consistent and inconsistent data\n",
    "print('Number of inconsistent ages: ', inconsistent_ages.shape[0])"
   ]
  },
  {
   "cell_type": "code",
   "execution_count": 6,
   "id": "correct-sheffield",
   "metadata": {},
   "outputs": [],
   "source": [
    "# 100 inconsistents ages appeared because the dataset is not from 2021"
   ]
  },
  {
   "cell_type": "markdown",
   "id": "transsexual-prime",
   "metadata": {},
   "source": [
    "## Is this missing at random?\n",
    "\n",
    "You've seen in the video exercise how there are a variety of missingness types when observing missing data. As a reminder, missingness types can be described as the following:\n",
    "\n",
    "- **Missing Completely at Random**: _No systematic relationship between a column's missing values and other or own values._\n",
    "- **Missing at Random**: _There is a systematic relationship between a column's missing values and other observed values._\n",
    "- **Missing not at Random**: _There is a systematic relationship between a column's missing values and unobserved values._\n",
    "\n",
    "You have a DataFrame containing customer satisfaction scores for a service. What type of missingness is the following?\n",
    "\n",
    "_A customer `satisfaction_score` column with missing values for highly dissatisfied customers._"
   ]
  },
  {
   "cell_type": "markdown",
   "id": "activated-ticket",
   "metadata": {},
   "source": [
    "## Missing investors\n",
    "\n",
    "Dealing with missing data is one of the most common tasks in data science. There are a variety of types of missingness, as well as a variety of types of solutions to missing data.\n",
    "\n",
    "You just received a new version of the `banking` DataFrame containing data on the amount held and invested for new and existing customers. However, there are rows with missing `inv_amount` values.\n",
    "\n",
    "You know for a fact that most customers below 25 do not have investment accounts yet, and suspect it could be driving the missingness. The `pandas`, `missingno` and `matplotlib.pyplot` packages have been imported as `pd`, `msno` and `plt` respectively. The `banking` DataFrame is in your environment.\n",
    "\n",
    "Instructions\n",
    "\n",
    "1. Print the number of missing values by column in the `banking` DataFrame.\n",
    "2. Plot and show the missingness matrix of `banking` with the `msno.matrix()` function.\n",
    "3. Isolate the values of `banking` missing values of `inv_amount` into `missing_investors` and with non-missing `inv_amount` values into `investors`.\n",
    "4. Now that you've isolated `banking` into `investors` and `missing_investors`, use the `.describe()` method on both of these DataFrames in the console to understand whether there are structural differences between them. What do you think is going on?\n",
    "5. Sort the `banking` DataFrame by the `age` column and plot the missingness matrix of `banking_sorted`."
   ]
  },
  {
   "cell_type": "code",
   "execution_count": 7,
   "id": "internal-crash",
   "metadata": {},
   "outputs": [
    {
     "name": "stdout",
     "output_type": "stream",
     "text": [
      "Unnamed: 0           0\n",
      "cust_id              0\n",
      "birth_date           0\n",
      "age                  0\n",
      "acct_amount          0\n",
      "acct_cur             0\n",
      "inv_amount          13\n",
      "fund_A               0\n",
      "fund_B               0\n",
      "fund_C               0\n",
      "fund_D               0\n",
      "account_opened       1\n",
      "last_transaction     0\n",
      "acct_year            1\n",
      "dtype: int64\n"
     ]
    },
    {
     "data": {
      "image/png": "[encoded data removed]",
      "text/plain": [
       "<Figure size 1800x720 with 2 Axes>"
      ]
     },
     "metadata": {
      "needs_background": "light"
     },
     "output_type": "display_data"
    }
   ],
   "source": [
    "# Import packages\n",
    "import missingno as msno\n",
    "import matplotlib.pyplot as plt\n",
    "\n",
    "# Print number of missing values in banking\n",
    "print(banking.isna().sum())\n",
    "\n",
    "# Visualize missingness matrix\n",
    "msno.matrix(banking)\n",
    "plt.show()"
   ]
  },
  {
   "cell_type": "code",
   "execution_count": 8,
   "id": "split-surprise",
   "metadata": {},
   "outputs": [],
   "source": [
    "# Isolate missing and non missing values of inv_amount\n",
    "missing_investors = banking[banking['inv_amount'].isna()]\n",
    "investors = banking[~banking['inv_amount'].isna()]"
   ]
  },
  {
   "cell_type": "code",
   "execution_count": 9,
   "id": "olive-frost",
   "metadata": {},
   "outputs": [
    {
     "data": {
      "text/html": [
       "<div>\n",
       "<style scoped>\n",
       "    .dataframe tbody tr th:only-of-type {\n",
       "        vertical-align: middle;\n",
       "    }\n",
       "\n",
       "    .dataframe tbody tr th {\n",
       "        vertical-align: top;\n",
       "    }\n",
       "\n",
       "    .dataframe thead th {\n",
       "        text-align: right;\n",
       "    }\n",
       "</style>\n",
       "<table border=\"1\" class=\"dataframe\">\n",
       "  <thead>\n",
       "    <tr style=\"text-align: right;\">\n",
       "      <th></th>\n",
       "      <th>Unnamed: 0</th>\n",
       "      <th>age</th>\n",
       "      <th>acct_amount</th>\n",
       "      <th>inv_amount</th>\n",
       "      <th>fund_A</th>\n",
       "      <th>fund_B</th>\n",
       "      <th>fund_C</th>\n",
       "      <th>fund_D</th>\n",
       "    </tr>\n",
       "  </thead>\n",
       "  <tbody>\n",
       "    <tr>\n",
       "      <th>count</th>\n",
       "      <td>13.000000</td>\n",
       "      <td>13.000000</td>\n",
       "      <td>13.000000</td>\n",
       "      <td>0.0</td>\n",
       "      <td>13.000000</td>\n",
       "      <td>13.000000</td>\n",
       "      <td>13.000000</td>\n",
       "      <td>13.000000</td>\n",
       "    </tr>\n",
       "    <tr>\n",
       "      <th>mean</th>\n",
       "      <td>49.538462</td>\n",
       "      <td>21.846154</td>\n",
       "      <td>79421.786615</td>\n",
       "      <td>NaN</td>\n",
       "      <td>8716.261538</td>\n",
       "      <td>14394.076923</td>\n",
       "      <td>9987.692308</td>\n",
       "      <td>13911.230769</td>\n",
       "    </tr>\n",
       "    <tr>\n",
       "      <th>std</th>\n",
       "      <td>31.902496</td>\n",
       "      <td>1.519109</td>\n",
       "      <td>29504.076217</td>\n",
       "      <td>NaN</td>\n",
       "      <td>7952.747250</td>\n",
       "      <td>13657.824738</td>\n",
       "      <td>8925.602234</td>\n",
       "      <td>10264.881540</td>\n",
       "    </tr>\n",
       "    <tr>\n",
       "      <th>min</th>\n",
       "      <td>4.000000</td>\n",
       "      <td>20.000000</td>\n",
       "      <td>19733.868000</td>\n",
       "      <td>NaN</td>\n",
       "      <td>182.000000</td>\n",
       "      <td>1050.000000</td>\n",
       "      <td>879.000000</td>\n",
       "      <td>2392.000000</td>\n",
       "    </tr>\n",
       "    <tr>\n",
       "      <th>25%</th>\n",
       "      <td>18.000000</td>\n",
       "      <td>21.000000</td>\n",
       "      <td>63182.570000</td>\n",
       "      <td>NaN</td>\n",
       "      <td>3684.000000</td>\n",
       "      <td>4387.000000</td>\n",
       "      <td>3690.000000</td>\n",
       "      <td>4317.000000</td>\n",
       "    </tr>\n",
       "    <tr>\n",
       "      <th>50%</th>\n",
       "      <td>46.000000</td>\n",
       "      <td>21.000000</td>\n",
       "      <td>88682.340000</td>\n",
       "      <td>NaN</td>\n",
       "      <td>6129.000000</td>\n",
       "      <td>12793.000000</td>\n",
       "      <td>8336.000000</td>\n",
       "      <td>10995.000000</td>\n",
       "    </tr>\n",
       "    <tr>\n",
       "      <th>75%</th>\n",
       "      <td>82.000000</td>\n",
       "      <td>23.000000</td>\n",
       "      <td>92007.120000</td>\n",
       "      <td>NaN</td>\n",
       "      <td>12158.400000</td>\n",
       "      <td>16840.000000</td>\n",
       "      <td>12612.000000</td>\n",
       "      <td>20423.000000</td>\n",
       "    </tr>\n",
       "    <tr>\n",
       "      <th>max</th>\n",
       "      <td>94.000000</td>\n",
       "      <td>25.000000</td>\n",
       "      <td>132563.200000</td>\n",
       "      <td>NaN</td>\n",
       "      <td>28722.000000</td>\n",
       "      <td>51281.000000</td>\n",
       "      <td>35725.000000</td>\n",
       "      <td>33493.000000</td>\n",
       "    </tr>\n",
       "  </tbody>\n",
       "</table>\n",
       "</div>"
      ],
      "text/plain": [
       "       Unnamed: 0        age    acct_amount  inv_amount        fund_A  \\\n",
       "count   13.000000  13.000000      13.000000         0.0     13.000000   \n",
       "mean    49.538462  21.846154   79421.786615         NaN   8716.261538   \n",
       "std     31.902496   1.519109   29504.076217         NaN   7952.747250   \n",
       "min      4.000000  20.000000   19733.868000         NaN    182.000000   \n",
       "25%     18.000000  21.000000   63182.570000         NaN   3684.000000   \n",
       "50%     46.000000  21.000000   88682.340000         NaN   6129.000000   \n",
       "75%     82.000000  23.000000   92007.120000         NaN  12158.400000   \n",
       "max     94.000000  25.000000  132563.200000         NaN  28722.000000   \n",
       "\n",
       "             fund_B        fund_C        fund_D  \n",
       "count     13.000000     13.000000     13.000000  \n",
       "mean   14394.076923   9987.692308  13911.230769  \n",
       "std    13657.824738   8925.602234  10264.881540  \n",
       "min     1050.000000    879.000000   2392.000000  \n",
       "25%     4387.000000   3690.000000   4317.000000  \n",
       "50%    12793.000000   8336.000000  10995.000000  \n",
       "75%    16840.000000  12612.000000  20423.000000  \n",
       "max    51281.000000  35725.000000  33493.000000  "
      ]
     },
     "execution_count": 9,
     "metadata": {},
     "output_type": "execute_result"
    }
   ],
   "source": [
    "missing_investors.describe()"
   ]
  },
  {
   "cell_type": "code",
   "execution_count": 10,
   "id": "roman-consultancy",
   "metadata": {},
   "outputs": [
    {
     "data": {
      "text/html": [
       "<div>\n",
       "<style scoped>\n",
       "    .dataframe tbody tr th:only-of-type {\n",
       "        vertical-align: middle;\n",
       "    }\n",
       "\n",
       "    .dataframe tbody tr th {\n",
       "        vertical-align: top;\n",
       "    }\n",
       "\n",
       "    .dataframe thead th {\n",
       "        text-align: right;\n",
       "    }\n",
       "</style>\n",
       "<table border=\"1\" class=\"dataframe\">\n",
       "  <thead>\n",
       "    <tr style=\"text-align: right;\">\n",
       "      <th></th>\n",
       "      <th>Unnamed: 0</th>\n",
       "      <th>age</th>\n",
       "      <th>acct_amount</th>\n",
       "      <th>inv_amount</th>\n",
       "      <th>fund_A</th>\n",
       "      <th>fund_B</th>\n",
       "      <th>fund_C</th>\n",
       "      <th>fund_D</th>\n",
       "    </tr>\n",
       "  </thead>\n",
       "  <tbody>\n",
       "    <tr>\n",
       "      <th>count</th>\n",
       "      <td>87.000000</td>\n",
       "      <td>87.000000</td>\n",
       "      <td>8.700000e+01</td>\n",
       "      <td>87.000000</td>\n",
       "      <td>87.000000</td>\n",
       "      <td>87.000000</td>\n",
       "      <td>87.000000</td>\n",
       "      <td>87.000000</td>\n",
       "    </tr>\n",
       "    <tr>\n",
       "      <th>mean</th>\n",
       "      <td>49.494253</td>\n",
       "      <td>42.321839</td>\n",
       "      <td>3.472103e+06</td>\n",
       "      <td>44207.783103</td>\n",
       "      <td>11886.153563</td>\n",
       "      <td>11440.486552</td>\n",
       "      <td>12187.862989</td>\n",
       "      <td>10532.259425</td>\n",
       "    </tr>\n",
       "    <tr>\n",
       "      <th>std</th>\n",
       "      <td>28.755535</td>\n",
       "      <td>11.345006</td>\n",
       "      <td>2.254256e+07</td>\n",
       "      <td>25718.889304</td>\n",
       "      <td>12952.722753</td>\n",
       "      <td>10685.686376</td>\n",
       "      <td>14717.398017</td>\n",
       "      <td>9349.201365</td>\n",
       "    </tr>\n",
       "    <tr>\n",
       "      <th>min</th>\n",
       "      <td>0.000000</td>\n",
       "      <td>21.000000</td>\n",
       "      <td>1.220984e+04</td>\n",
       "      <td>3216.720000</td>\n",
       "      <td>41.000000</td>\n",
       "      <td>312.000000</td>\n",
       "      <td>67.000000</td>\n",
       "      <td>118.000000</td>\n",
       "    </tr>\n",
       "    <tr>\n",
       "      <th>25%</th>\n",
       "      <td>25.500000</td>\n",
       "      <td>33.000000</td>\n",
       "      <td>5.875825e+04</td>\n",
       "      <td>23338.845000</td>\n",
       "      <td>2274.000000</td>\n",
       "      <td>3013.000000</td>\n",
       "      <td>1964.000000</td>\n",
       "      <td>3913.500000</td>\n",
       "    </tr>\n",
       "    <tr>\n",
       "      <th>50%</th>\n",
       "      <td>50.000000</td>\n",
       "      <td>44.000000</td>\n",
       "      <td>8.602848e+04</td>\n",
       "      <td>36572.690000</td>\n",
       "      <td>7938.000000</td>\n",
       "      <td>7892.000000</td>\n",
       "      <td>6714.000000</td>\n",
       "      <td>8322.000000</td>\n",
       "    </tr>\n",
       "    <tr>\n",
       "      <th>75%</th>\n",
       "      <td>73.500000</td>\n",
       "      <td>53.000000</td>\n",
       "      <td>9.635781e+04</td>\n",
       "      <td>64651.350000</td>\n",
       "      <td>17203.000000</td>\n",
       "      <td>17863.000000</td>\n",
       "      <td>15693.000000</td>\n",
       "      <td>13784.500000</td>\n",
       "    </tr>\n",
       "    <tr>\n",
       "      <th>max</th>\n",
       "      <td>99.000000</td>\n",
       "      <td>59.000000</td>\n",
       "      <td>1.737431e+08</td>\n",
       "      <td>93552.690000</td>\n",
       "      <td>58179.000000</td>\n",
       "      <td>48358.000000</td>\n",
       "      <td>75499.000000</td>\n",
       "      <td>51708.000000</td>\n",
       "    </tr>\n",
       "  </tbody>\n",
       "</table>\n",
       "</div>"
      ],
      "text/plain": [
       "       Unnamed: 0        age   acct_amount    inv_amount        fund_A  \\\n",
       "count   87.000000  87.000000  8.700000e+01     87.000000     87.000000   \n",
       "mean    49.494253  42.321839  3.472103e+06  44207.783103  11886.153563   \n",
       "std     28.755535  11.345006  2.254256e+07  25718.889304  12952.722753   \n",
       "min      0.000000  21.000000  1.220984e+04   3216.720000     41.000000   \n",
       "25%     25.500000  33.000000  5.875825e+04  23338.845000   2274.000000   \n",
       "50%     50.000000  44.000000  8.602848e+04  36572.690000   7938.000000   \n",
       "75%     73.500000  53.000000  9.635781e+04  64651.350000  17203.000000   \n",
       "max     99.000000  59.000000  1.737431e+08  93552.690000  58179.000000   \n",
       "\n",
       "             fund_B        fund_C        fund_D  \n",
       "count     87.000000     87.000000     87.000000  \n",
       "mean   11440.486552  12187.862989  10532.259425  \n",
       "std    10685.686376  14717.398017   9349.201365  \n",
       "min      312.000000     67.000000    118.000000  \n",
       "25%     3013.000000   1964.000000   3913.500000  \n",
       "50%     7892.000000   6714.000000   8322.000000  \n",
       "75%    17863.000000  15693.000000  13784.500000  \n",
       "max    48358.000000  75499.000000  51708.000000  "
      ]
     },
     "execution_count": 10,
     "metadata": {},
     "output_type": "execute_result"
    }
   ],
   "source": [
    "investors.describe()"
   ]
  },
  {
   "cell_type": "code",
   "execution_count": 11,
   "id": "confidential-impression",
   "metadata": {},
   "outputs": [
    {
     "data": {
      "image/png": "[encoded data removed]",
      "text/plain": [
       "<Figure size 1800x720 with 2 Axes>"
      ]
     },
     "metadata": {
      "needs_background": "light"
     },
     "output_type": "display_data"
    }
   ],
   "source": [
    "# Sort banking by age and visualize\n",
    "banking_sorted = banking.sort_values(by='age')\n",
    "msno.matrix(banking_sorted)\n",
    "plt.show()"
   ]
  },
  {
   "cell_type": "markdown",
   "id": "persistent-karma",
   "metadata": {},
   "source": [
    "## Follow the money\n",
    "\n",
    "In this exercise, you're working with another version of the `banking` DataFrame that contains missing values for both the `cust_id` column and the `acct_amount` column.\n",
    "\n",
    "You want to produce analysis on how many unique customers the bank has, the average amount held by customers and more. You know that rows with missing `cust_id` don't really help you, and that on average `acct_amount` is usually 5 times the amount of `inv_amount`.\n",
    "\n",
    "In this exercise, you will drop rows of `banking` with missing `cust_ids`, and impute missing values of `acct_amount` with some domain knowledge.\n",
    "\n",
    "Instructions\n",
    "\n",
    "1. Use `.dropna()` to drop missing values of the `cust_id` column in `banking` and store the results in `banking_fullid`.\n",
    "2. Compute the estimated `acct_amount` of `banking_fullid` knowing that `acct_amount` is usually `inv_amount * 5` and assign the results to `acct_imp`.\n",
    "3. Impute the missing values of `acct_amount` in `banking_fullid` with the newly created `acct_imp` using `.fillna()`."
   ]
  },
  {
   "cell_type": "code",
   "execution_count": 13,
   "id": "driving-appendix",
   "metadata": {},
   "outputs": [
    {
     "name": "stdout",
     "output_type": "stream",
     "text": [
      "Unnamed: 0          0\n",
      "cust_id             0\n",
      "acct_amount         0\n",
      "inv_amount          0\n",
      "account_opened      0\n",
      "last_transaction    0\n",
      "dtype: int64\n"
     ]
    }
   ],
   "source": [
    "# Import dataframe\n",
    "banking2 = pd.read_csv('banking2.csv')\n",
    "\n",
    "# Drop missing values of cust_id\n",
    "banking_fullid = banking2.dropna(subset = ['cust_id'])\n",
    "\n",
    "# Compute estimated acct_amount\n",
    "acct_imp = banking_fullid['inv_amount'] * 5\n",
    "\n",
    "# Impute missing acct_amount with corresponding acct_imp\n",
    "banking_imputed = banking_fullid.fillna({'acct_amount': acct_imp})\n",
    "\n",
    "# Print number of missing values\n",
    "print(banking_imputed.isna().sum())"
   ]
  }
 ],
 "metadata": {
  "kernelspec": {
   "display_name": "Python 3",
   "language": "python",
   "name": "python3"
  },
  "language_info": {
   "codemirror_mode": {
    "name": "ipython",
    "version": 3
   },
   "file_extension": ".py",
   "mimetype": "text/x-python",
   "name": "python",
   "nbconvert_exporter": "python",
   "pygments_lexer": "ipython3",
   "version": "3.8.5"
  },
  "toc": {
   "base_numbering": 1,
   "nav_menu": {},
   "number_sections": true,
   "sideBar": true,
   "skip_h1_title": false,
   "title_cell": "Table of Contents",
   "title_sidebar": "Contents",
   "toc_cell": false,
   "toc_position": {},
   "toc_section_display": true,
   "toc_window_display": false
  },
  "varInspector": {
   "cols": {
    "lenName": 16,
    "lenType": 16,
    "lenVar": 40
   },
   "kernels_config": {
    "python": {
     "delete_cmd_postfix": "",
     "delete_cmd_prefix": "del ",
     "library": "var_list.py",
     "varRefreshCmd": "print(var_dic_list())"
    },
    "r": {
     "delete_cmd_postfix": ") ",
     "delete_cmd_prefix": "rm(",
     "library": "var_list.r",
     "varRefreshCmd": "cat(var_dic_list()) "
    }
   },
   "types_to_exclude": [
    "module",
    "function",
    "builtin_function_or_method",
    "instance",
    "_Feature"
   ],
   "window_display": false
  }
 },
 "nbformat": 4,
 "nbformat_minor": 5
}
