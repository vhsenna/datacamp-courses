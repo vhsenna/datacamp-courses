{
 "cells": [
  {
   "cell_type": "markdown",
   "id": "vulnerable-drove",
   "metadata": {},
   "source": [
    "# Cleaning Data in Python\n",
    "\n",
    "- 4 hours\n",
    "- 13 Videos\n",
    "- 44 Exercises\n",
    "\n",
    "## Course Description\n",
    "\n",
    "It's commonly said that data scientists spend 80% of their time cleaning and manipulating data and only 20% of their time analyzing it. The time spent cleaning is vital since analyzing dirty data can lead you to draw inaccurate conclusions. Data cleaning is an essential task in data science. Without properly cleaned data, the results of any data analysis or machine learning model could be inaccurate. In this course, you will learn how to identify, diagnose, and treat a variety of data cleaning problems in Python, ranging from simple to advanced. You will deal with improper data types, check that your data is in the correct range, handle missing data, perform record linkage, and more!\n",
    "\n",
    "### 1 Common data problems\n",
    "\n",
    "In this chapter, you'll learn how to overcome some of the most common dirty data problems. You'll convert data types, apply range constraints to remove future data points, and remove duplicated data points to avoid double-counting.\n",
    "\n",
    "- Data type constraints\n",
    "- Common data types\n",
    "- Numeric data or ... ?\n",
    "- Summing strings and concatenating numbers\n",
    "- Data range constraints\n",
    "- Tire size constraints\n",
    "- Back to the future\n",
    "- Uniqueness constraints\n",
    "- How big is your subset?\n",
    "- Finding duplicates\n",
    "- Treating duplicates\n",
    "\n",
    "### 2 Text and categorical data problems\n",
    "\n",
    "Categorical and text data can often be some of the messiest parts of a dataset due to their unstructured nature. In this chapter, you’ll learn how to fix whitespace and capitalization inconsistencies in category labels, collapse multiple categories into one, and reformat strings for consistency.\n",
    "\n",
    "- Membership constraints\n",
    "- Members only\n",
    "- Finding consistency\n",
    "- Categorical variables\n",
    "- Categories of errors\n",
    "- Inconsistent categories\n",
    "- Remapping categories\n",
    "- Cleaning text data\n",
    "- Removing titles and taking names\n",
    "- Keeping it descriptive\n",
    "\n",
    "### 3 Advanced data problems\n",
    "\n",
    "In this chapter, you’ll dive into more advanced data cleaning problems, such as ensuring that weights are all written in kilograms instead of pounds. You’ll also gain invaluable skills that will help you verify that values have been added correctly and that missing values don’t negatively impact your analyses.\n",
    "\n",
    "- Uniformity\n",
    "- Ambiguous dates\n",
    "- Uniform currencies\n",
    "- Uniform dates\n",
    "- Cross field validation\n",
    "- Cross field or no cross field?\n",
    "- How's our data integrity?\n",
    "- Completeness\n",
    "- Is this missing at random?\n",
    "- Missing investors\n",
    "- Follow the money\n",
    "\n",
    "### 4 Record linkage\n",
    "\n",
    "Record linkage is a powerful technique used to merge multiple datasets together, used when values have typos or different spellings. In this chapter, you'll learn how to link records by calculating the similarity between strings—you’ll then use your new skills to join two restaurant review datasets into one clean master dataset.\n",
    "\n",
    "- Comparing strings\n",
    "- Minimum edit distance\n",
    "- The cutoff point\n",
    "- Remapping categories II\n",
    "- Generating pairs\n",
    "- To link or not to link?\n",
    "- Pairs of restaurants\n",
    "- Similar restaurants\n",
    "- Linking DataFrames\n",
    "- Getting the right index\n",
    "- Linking them together!\n",
    "- Congratulations!"
   ]
  }
 ],
 "metadata": {
  "kernelspec": {
   "display_name": "Python 3",
   "language": "python",
   "name": "python3"
  },
  "language_info": {
   "codemirror_mode": {
    "name": "ipython",
    "version": 3
   },
   "file_extension": ".py",
   "mimetype": "text/x-python",
   "name": "python",
   "nbconvert_exporter": "python",
   "pygments_lexer": "ipython3",
   "version": "3.8.5"
  },
  "toc": {
   "base_numbering": 1,
   "nav_menu": {},
   "number_sections": false,
   "sideBar": true,
   "skip_h1_title": false,
   "title_cell": "Table of Contents",
   "title_sidebar": "Contents",
   "toc_cell": false,
   "toc_position": {},
   "toc_section_display": true,
   "toc_window_display": false
  },
  "varInspector": {
   "cols": {
    "lenName": 16,
    "lenType": 16,
    "lenVar": 40
   },
   "kernels_config": {
    "python": {
     "delete_cmd_postfix": "",
     "delete_cmd_prefix": "del ",
     "library": "var_list.py",
     "varRefreshCmd": "print(var_dic_list())"
    },
    "r": {
     "delete_cmd_postfix": ") ",
     "delete_cmd_prefix": "rm(",
     "library": "var_list.r",
     "varRefreshCmd": "cat(var_dic_list()) "
    }
   },
   "types_to_exclude": [
    "module",
    "function",
    "builtin_function_or_method",
    "instance",
    "_Feature"
   ],
   "window_display": false
  }
 },
 "nbformat": 4,
 "nbformat_minor": 5
}
