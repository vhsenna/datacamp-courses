{
 "cells": [
  {
   "cell_type": "markdown",
   "id": "documentary-confidence",
   "metadata": {},
   "source": [
    "## Union\n",
    "\n",
    "You have two new tables, `economies2010` and `economies2015`, available to you. The `economies` table is also included for reference.\n",
    "\n",
    "Instructions\n",
    "\n",
    "1. Combine the two new tables into one table containing all of the fields in `economies2010`.\n",
    "2. Sort this resulting single table by country code and then by year, both in ascending order."
   ]
  },
  {
   "cell_type": "code",
   "execution_count": null,
   "id": "ordinary-hometown",
   "metadata": {},
   "outputs": [],
   "source": [
    "-- Select fields from 2010 table\n",
    "SELECT *\n",
    "-- From 2010 table\n",
    "FROM economies2010\n",
    "-- Set theory clause\n",
    "UNION\n",
    "-- Select fields from 2015 table\n",
    "SELECT *\n",
    "-- From 2015 table\n",
    "FROM economies2015\n",
    "-- Order by code and year\n",
    "ORDER BY code, year;\n",
    "\n",
    "# code   year   income_group          gross_savings\n",
    "# AFG    2010   Low income            37.133\n",
    "# AFG    2015   Low income            21.466\n",
    "# AGO    2010   Upper middle income   23.534\n",
    "# AGO    2015   Upper middle income   -0.425\n",
    "# ALB    2010   Upper middle income   20.011\n",
    "# ALB    2015   Upper middle income   13.84\n",
    "# ..."
   ]
  },
  {
   "cell_type": "markdown",
   "id": "opposite-growing",
   "metadata": {},
   "source": [
    "## Union (2)\n",
    "\n",
    "`UNION` can also be used to determine all occurrences of a field across multiple tables. Try out this exercise with no starter code.\n",
    "\n",
    "Instructions\n",
    "\n",
    "1. Determine all (non-duplicated) country codes in either the `cities` or the `currencies` table. The result should be a table with only one field called `country_code`.\n",
    "2. Sort by `country_code` in alphabetical order."
   ]
  },
  {
   "cell_type": "code",
   "execution_count": null,
   "id": "severe-stranger",
   "metadata": {},
   "outputs": [],
   "source": [
    "-- Select field\n",
    "SELECT country_code\n",
    "-- From cities\n",
    "FROM cities\n",
    "-- Set theory clause\n",
    "UNION\n",
    "-- Select field\n",
    "SELECT code\n",
    "-- From currencies\n",
    "FROM currencies\n",
    "-- Order by country_code\n",
    "ORDER BY country_code;\n",
    "\n",
    "# country_code\n",
    "# ABW\n",
    "# AFG\n",
    "# AGO\n",
    "# AIA\n",
    "# ALB\n",
    "# ..."
   ]
  },
  {
   "cell_type": "markdown",
   "id": "continuing-letter",
   "metadata": {},
   "source": [
    "## Union all\n",
    "\n",
    "As you saw, duplicates were removed from the previous two exercises by using `UNION`.\n",
    "\n",
    "To include duplicates, you can use `UNION ALL`.\n",
    "\n",
    "Instructions\n",
    "\n",
    "1. Determine all combinations (include duplicates) of country code and year that exist in either the `economies` or the `populations` tables. Order by `code` then `year`.\n",
    "2. The result of the query should only have two columns/fields. Think about how many records this query should result in.\n",
    "3. You'll use code very similar to this in your next exercise after the video. Make note of this code after completing it."
   ]
  },
  {
   "cell_type": "code",
   "execution_count": null,
   "id": "fancy-store",
   "metadata": {},
   "outputs": [],
   "source": [
    "-- Select fields\n",
    "SELECT code, year\n",
    "-- From economies\n",
    "FROM economies\n",
    "-- Set theory clause\n",
    "UNION ALL\n",
    "-- Select fields\n",
    "SELECT country_code, year\n",
    "-- From populations\n",
    "FROM populations\n",
    "-- Order by code, year\n",
    "ORDER BY code, year;\n",
    "\n",
    "# code   year\n",
    "# ABW    2010\n",
    "# ABW    2015\n",
    "# AFG    2010\n",
    "# AFG    2010\n",
    "# AFG    2015\n",
    "# ..."
   ]
  },
  {
   "cell_type": "markdown",
   "id": "micro-breath",
   "metadata": {},
   "source": [
    "## Intersect\n",
    "\n",
    "`UNION ALL` will extract all records from two tables, while `INTERSECT` will only return records that both tables have in common. In this exercise, you will create a similar query as before, however, this time you will look at the records in common for country code and year for the `economies` and `populations` tables.\n",
    "\n",
    "Note the number of records from the result of this query compared to the similar `UNION ALL` query result of 814 records.\n",
    "\n",
    "Instructions\n",
    "\n",
    "1. Use `INTERSECT` to determine the records in common for country code and year for the `economies` and `populations` tables.\n",
    "2. Again, order by `code` and then by `year`, both in ascending order."
   ]
  },
  {
   "cell_type": "code",
   "execution_count": null,
   "id": "interracial-greensboro",
   "metadata": {},
   "outputs": [],
   "source": [
    "-- Select fields\n",
    "SELECT code, year\n",
    "-- From economies\n",
    "FROM economies\n",
    "-- Set theory clause\n",
    "INTERSECT\n",
    "-- Select fields\n",
    "SELECT country_code, year\n",
    "-- From populations\n",
    "FROM populations\n",
    "-- Order by code and year\n",
    "ORDER BY code, year;\n",
    "\n",
    "# code   year\n",
    "# AFG    2010\n",
    "# AFG    2015\n",
    "# AGO    2010\n",
    "# AGO    2015\n",
    "# ALB    2010\n",
    "# ..."
   ]
  },
  {
   "cell_type": "markdown",
   "id": "toxic-domain",
   "metadata": {},
   "source": [
    "## Intersect (2)\n",
    "\n",
    "As you think about major world cities and their corresponding country, you may ask _which countries also have a city with the same name as their country name?_\n",
    "\n",
    "Instructions\n",
    "\n",
    "1. Use `INTERSECT` to answer this question with `countries` and `cities`!"
   ]
  },
  {
   "cell_type": "code",
   "execution_count": null,
   "id": "uniform-tattoo",
   "metadata": {},
   "outputs": [],
   "source": [
    "-- Select fields\n",
    "SELECT name\n",
    "-- From countries\n",
    "FROM countries\n",
    "-- Set theory clause\n",
    "INTERSECT\n",
    "-- Select fields\n",
    "SELECT name\n",
    "-- From cities\n",
    "FROM cities;\n",
    "\n",
    "# name\n",
    "# Singapore"
   ]
  },
  {
   "cell_type": "markdown",
   "id": "announced-authentication",
   "metadata": {},
   "source": [
    "## Review union and intersect\n",
    "\n",
    "Instructions \n",
    "\n",
    "1. Which of the following combinations of terms and definitions is correct?"
   ]
  },
  {
   "cell_type": "markdown",
   "id": "collective-intensity",
   "metadata": {},
   "source": [
    "`INTERSECT`: returns only records appearing in both tables."
   ]
  },
  {
   "cell_type": "markdown",
   "id": "appropriate-revision",
   "metadata": {},
   "source": [
    "## Except\n",
    "\n",
    "Get the names of cities in `cities` which are not noted as capital cities in countries as a single field result.\n",
    "\n",
    "Note that there are some countries in the world that are not included in the `countries` table, which will result in some cities not being labeled as capital cities when in fact they are.\n",
    "\n",
    "Instructions\n",
    "\n",
    "1. Order the resulting field in ascending order.\n",
    "2. Can you spot the city/cities that are actually capital cities which this query misses?"
   ]
  },
  {
   "cell_type": "code",
   "execution_count": null,
   "id": "turkish-lithuania",
   "metadata": {},
   "outputs": [],
   "source": [
    "-- Select field\n",
    "SELECT name\n",
    "-- From cities\n",
    "FROM cities\n",
    "-- Set theory clause\n",
    "EXCEPT\n",
    "-- Select field\n",
    "SELECT capital\n",
    "-- From countries\n",
    "FROM countries\n",
    "-- Order by result\n",
    "ORDER BY name;\n",
    "\n",
    "# name\n",
    "# Abidjan\n",
    "# Ahmedabad\n",
    "# Alexandria\n",
    "# Almaty\n",
    "# Auckland\n",
    "# ..."
   ]
  },
  {
   "cell_type": "markdown",
   "id": "wrong-novelty",
   "metadata": {},
   "source": [
    "## Except (2)\n",
    "\n",
    "Now you will complete the previous query in reverse!\n",
    "\n",
    "Determine the names of capital cities that are **not** listed in the `cities` table.\n",
    "\n",
    "Instructions\n",
    "\n",
    "1. Order by `capital` in ascending order.\n",
    "2. The `cities` table contains information about 236 of the world's most populous cities. The result of your query may surprise you in terms of the number of capital cities that **do not** appear in this list!"
   ]
  },
  {
   "cell_type": "code",
   "execution_count": null,
   "id": "interesting-production",
   "metadata": {},
   "outputs": [],
   "source": [
    "-- Select field\n",
    "SELECT capital\n",
    "-- From countries\n",
    "FROM countries\n",
    "-- Set theory clause\n",
    "EXCEPT\n",
    "-- Select field\n",
    "SELECT name\n",
    "-- From cities\n",
    "FROM cities\n",
    "-- Order by ascending capital\n",
    "ORDER BY capital;\n",
    "\n",
    "# capital\n",
    "# Agana\n",
    "# Amman\n",
    "# Amsterdam\n",
    "# Andorra la Vella\n",
    "# Antananarivo\n",
    "# ..."
   ]
  },
  {
   "cell_type": "markdown",
   "id": "israeli-health",
   "metadata": {},
   "source": [
    "## Semi-join\n",
    "\n",
    "You are now going to use the concept of a semi-join to identify languages spoken in the Middle East.\n",
    "\n",
    "Instructions\n",
    "\n",
    "1. Begin by selecting all country codes in the Middle East as a single field result using `SELECT`, `FROM`, and `WHERE.\n",
    "2. \n",
    "    1. Below the commented code, select only unique `languages` by name appearing in the languages table.\n",
    "    2. Order the resulting single field table by `name` in ascending order.\n",
    "3. \n",
    "    1. Combine the previous two queries into one query by adding a `WHERE IN` statement to the `SELECT DISTINCT` query to determine the unique languages spoken in the Middle East.\n",
    "    2. Order the result by `name` in ascending order."
   ]
  },
  {
   "cell_type": "code",
   "execution_count": null,
   "id": "norwegian-lying",
   "metadata": {},
   "outputs": [],
   "source": [
    "-- Select code\n",
    "SELECT code\n",
    "-- From countries\n",
    "FROM countries\n",
    "-- Where region is Middle East\n",
    "WHERE region LIKE 'Middle East';\n",
    "\n",
    "# code\n",
    "# ARE\n",
    "# ARM\n",
    "# AZE\n",
    "# BHR\n",
    "# GEO\n",
    "# ..."
   ]
  },
  {
   "cell_type": "code",
   "execution_count": null,
   "id": "opposed-convention",
   "metadata": {},
   "outputs": [],
   "source": [
    "-- Query from step 1:\n",
    "/*\n",
    "SELECT code\n",
    "FROM countries\n",
    "WHERE region = 'Middle East';\n",
    "*/\n",
    "\n",
    "-- Select field\n",
    "SELECT DISTINCT name\n",
    "-- From languages\n",
    "FROM languages\n",
    "-- Order by name\n",
    "ORDER BY name;\n",
    "\n",
    "# name\n",
    "# Afar\n",
    "# Afrikaans\n",
    "# Akyem\n",
    "# Albanian\n",
    "# Alsatian\n",
    "# ..."
   ]
  },
  {
   "cell_type": "code",
   "execution_count": null,
   "id": "chicken-shirt",
   "metadata": {},
   "outputs": [],
   "source": [
    "-- Query from step 2\n",
    "SELECT DISTINCT name\n",
    "FROM languages\n",
    "-- Where in statement\n",
    "WHERE code IN\n",
    "    -- Query from step 1\n",
    "    -- Subquery\n",
    "    (SELECT code\n",
    "    FROM countries\n",
    "    WHERE region = 'Middle East')\n",
    "-- Order by name\n",
    "ORDER BY name;\n",
    "\n",
    "# name\n",
    "# Arabic\n",
    "# Aramaic\n",
    "# Armenian\n",
    "# Azerbaijani\n",
    "# Azeri\n",
    "# ..."
   ]
  },
  {
   "cell_type": "markdown",
   "id": "certain-middle",
   "metadata": {},
   "source": [
    "## Relating semi-join to a tweaked inner join\n",
    "\n",
    "Let's revisit the code from the previous exercise, which retrieves languages spoken in the Middle East.\n",
    "\n",
    "```\n",
    "SELECT DISTINCT name\n",
    "FROM languages\n",
    "WHERE code IN\n",
    "    (SELECT code\n",
    "    FROM countries\n",
    "    WHERE region = 'Middle East')\n",
    "ORDER BY name;\n",
    "```\n",
    "\n",
    "Sometimes problems solved with semi-joins can also be solved using an inner join.\n",
    "\n",
    "```\n",
    "SELECT languages.name AS language\n",
    "FROM languages\n",
    "INNER JOIN countries\n",
    "ON languages.code = countries.code\n",
    "WHERE region = 'Middle East'\n",
    "ORDER BY language;\n",
    "```\n",
    "\n",
    "This inner join isn't quite right. What is missing from this second code block to get it to match with the correct answer produced by the first block?"
   ]
  },
  {
   "cell_type": "markdown",
   "id": "numeric-chest",
   "metadata": {},
   "source": [
    "`DISTINCT`."
   ]
  },
  {
   "cell_type": "markdown",
   "id": "handmade-honduras",
   "metadata": {},
   "source": [
    "## Diagnosing problems using anti-join\n",
    "\n",
    "Another powerful join in SQL is the anti-join. It is particularly useful in identifying which records are causing an incorrect number of records to appear in join queries.\n",
    "\n",
    "You will also see another example of a subquery here, as you saw in the first exercise on semi-joins. Your goal is to identify the currencies used in Oceanian countries!\n",
    "\n",
    "Instructions\n",
    "\n",
    "1. Begin by determining the number of countries in `countries` that are listed in Oceania using `SELECT`, `FROM`, and `WHERE`.\n",
    "2. \n",
    "    1. Complete an inner join with `countries AS c1` on the left and `currencies AS c2` on the right to get the different currencies used in the countries of Oceania.\n",
    "    2. Match `ON` the `code` field in the two tables.\n",
    "    3. Include the country `code`, country `name`, and `basic_unit AS currency`.\n",
    "    4. Observe the query result and make note of how many _different_ countries are listed here.\n",
    "3. \n",
    "    1. Note that not all countries in Oceania were listed in the resulting inner join with `currencies`. Use an anti-join to determine which countries were not included!\n",
    "    2. Use `NOT IN` and `(SELECT code FROM currencies)` as a subquery to get the country code and country name for the Oceanian countries that are not included in the `currencies` table."
   ]
  },
  {
   "cell_type": "code",
   "execution_count": null,
   "id": "cubic-damage",
   "metadata": {},
   "outputs": [],
   "source": [
    "-- Select statement\n",
    "SELECT COUNT(name)\n",
    "-- From countries\n",
    "FROM countries\n",
    "-- Where continent is Oceania\n",
    "WHERE continent LIKE 'Oceania';\n",
    "\n",
    "# count\n",
    "# 19"
   ]
  },
  {
   "cell_type": "code",
   "execution_count": null,
   "id": "increased-flight",
   "metadata": {},
   "outputs": [],
   "source": [
    "-- Select fields (with aliases)\n",
    "SELECT c1.code, name, continent, basic_unit AS currency\n",
    "-- From countries (alias as c1)\n",
    "FROM countries AS c1\n",
    "-- Join with currencies (alias as c2)\n",
    "INNER JOIN currencies AS c2\n",
    "-- Match on code\n",
    "ON c1.code = c2.code\n",
    "-- Where continent is Oceania\n",
    "WHERE c1.continent LIKE 'Oceania';\n",
    "\n",
    "# code   name               continent   currency\n",
    "# AUS    Australia          Oceania     Australian dollar\n",
    "# PYF    French Polynesia   Oceania     CFP franc\n",
    "# KIR    Kiribati           Oceania     Australian dollar\n",
    "# MHL    Marshall Islands   Oceania     United States dollar\n",
    "# NRU    Nauru              Oceania     Australian dollar\n",
    "# ..."
   ]
  },
  {
   "cell_type": "code",
   "execution_count": null,
   "id": "corporate-vessel",
   "metadata": {},
   "outputs": [],
   "source": [
    "-- Select fields\n",
    "SELECT code, name\n",
    "-- From Countries\n",
    "FROM countries\n",
    "-- Where continent is Oceania\n",
    "WHERE continent = 'Oceania'\n",
    "-- And code not in\n",
    "AND code NOT IN\n",
    "-- Subquery\n",
    "    (SELECT code\n",
    "    FROM currencies);\n",
    "    \n",
    "# code   name               continent   currency\n",
    "# AUS    Australia          Oceania     Australian dollar\n",
    "# PYF    French Polynesia   Oceania     CFP franc\n",
    "# KIR    Kiribati           Oceania     Australian dollar\n",
    "# MHL    Marshall Islands   Oceania     United States dollar\n",
    "# NRU    Nauru              Oceania     Australian dollar\n",
    "# ..."
   ]
  },
  {
   "cell_type": "markdown",
   "id": "original-speed",
   "metadata": {},
   "source": [
    "## Set theory challenge\n",
    "\n",
    "Congratulations! You've now made your way to the challenge problem for this third chapter. Your task here will be to incorporate two of `UNION`/`UNION ALL`/`INTERSECT`/`EXCEPT` to solve a challenge involving three tables.\n",
    "\n",
    "In addition, you will use a subquery as you have in the last two exercises! This will be great practice as you hop into subqueries more in Chapter 4!\n",
    "\n",
    "Instructions\n",
    "\n",
    "1. Identify the country codes that are included in either `economies` or `currencies` but not in `populations`.\n",
    "2. Use that result to determine the names of cities in the countries that match the specification in the previous instruction."
   ]
  },
  {
   "cell_type": "code",
   "execution_count": null,
   "id": "mediterranean-harvest",
   "metadata": {},
   "outputs": [],
   "source": [
    "-- Select the city name\n",
    "SELECT name\n",
    "-- Alias the table where city name resides\n",
    "FROM cities AS c1\n",
    "-- Choose only records matching the result of multiple set theory clauses\n",
    "WHERE country_code IN\n",
    "    (-- Select appropriate field from economies AS e\n",
    "    SELECT e.code\n",
    "    FROM economies AS e\n",
    "    -- Get all additional (unique) values of the field from currencies AS c2  \n",
    "    UNION\n",
    "    SELECT c2.code\n",
    "    FROM currencies AS c2\n",
    "    -- Exclude those appearing in populations AS p\n",
    "    EXCEPT\n",
    "    SELECT p.country_code\n",
    "    FROM populations AS p);\n",
    "    \n",
    "# name\n",
    "# Bucharest\n",
    "# Kaohsiung\n",
    "# New Taipei City\n",
    "# Taichung\n",
    "# Tainan\n",
    "# ..."
   ]
  }
 ],
 "metadata": {
  "kernelspec": {
   "display_name": "Python 3",
   "language": "python",
   "name": "python3"
  },
  "language_info": {
   "codemirror_mode": {
    "name": "ipython",
    "version": 3
   },
   "file_extension": ".py",
   "mimetype": "text/x-python",
   "name": "python",
   "nbconvert_exporter": "python",
   "pygments_lexer": "ipython3",
   "version": "3.8.10"
  },
  "toc": {
   "base_numbering": 1,
   "nav_menu": {},
   "number_sections": false,
   "sideBar": true,
   "skip_h1_title": false,
   "title_cell": "Table of Contents",
   "title_sidebar": "Contents",
   "toc_cell": false,
   "toc_position": {},
   "toc_section_display": true,
   "toc_window_display": false
  },
  "varInspector": {
   "cols": {
    "lenName": 16,
    "lenType": 16,
    "lenVar": 40
   },
   "kernels_config": {
    "python": {
     "delete_cmd_postfix": "",
     "delete_cmd_prefix": "del ",
     "library": "var_list.py",
     "varRefreshCmd": "print(var_dic_list())"
    },
    "r": {
     "delete_cmd_postfix": ") ",
     "delete_cmd_prefix": "rm(",
     "library": "var_list.r",
     "varRefreshCmd": "cat(var_dic_list()) "
    }
   },
   "types_to_exclude": [
    "module",
    "function",
    "builtin_function_or_method",
    "instance",
    "_Feature"
   ],
   "window_display": false
  }
 },
 "nbformat": 4,
 "nbformat_minor": 5
}
