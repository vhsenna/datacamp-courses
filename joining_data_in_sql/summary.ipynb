{
 "cells": [
  {
   "cell_type": "markdown",
   "id": "tamil-diversity",
   "metadata": {},
   "source": [
    "# Joining Data in SQL\n",
    "\n",
    "- 5 hours\n",
    "- 13 Videos\n",
    "- 53 Exercises\n",
    "\n",
    "## Course Description\n",
    "\n",
    "Now that you've learned the basics of SQL in our [Introduction to SQL](https://learn.datacamp.com/courses/introduction-to-sql) course, it's time to supercharge your queries using joins and relational set theory. In this course, you'll learn all about the power of joining tables while exploring interesting features of countries and their cities throughout the world. You will master inner and outer joins, as well as self joins, semi joins, anti joins and cross joins—fundamental tools in any PostgreSQL wizard's toolbox. Never fear set theory again after learning all about unions, intersections, and except clauses through easy-to-understand diagrams and examples. Lastly, you'll be introduced to the challenging topic of subqueries. You will be able to visually grasp these ideas by using Venn diagrams and other linking illustrations.\n",
    "\n",
    "### 1 Introduction to joins\n",
    "\n",
    "In this chapter, you'll be introduced to the concept of joining tables, and will explore the different ways you can enrich your queries using inner joins and self joins. You'll also see how to use the case statement to split up a field into different categories.\n",
    "\n",
    "- Introduction to INNER JOIN\n",
    "- Inner join\n",
    "- Inner join (2)\n",
    "- Inner join (3)\n",
    "- INNER JOIN via USING\n",
    "- Review inner join using on\n",
    "- Inner join with using\n",
    "- Self-ish joins, just in CASE\n",
    "- Self-join\n",
    "- Case when and then\n",
    "- Inner challenge\n",
    "\n",
    "### 2 Outer joins and cross joins\n",
    "\n",
    "In this chapter, you'll come to grips with different kinds of outer joins. You'll learn how to gain further insights into your data through left joins, right joins, and full joins. In addition to outer joins, you'll also work with cross joins.\n",
    "\n",
    "- LEFT and RIGHT JOINs\n",
    "- Left Join\n",
    "- Left join (2)\n",
    "- Left join (3)\n",
    "- Right join\n",
    "- FULL JOINs\n",
    "- Full join\n",
    "- Full join (2)\n",
    "- Full join (3)\n",
    "- Review outer joins\n",
    "- CROSSing the rubicon\n",
    "- A table of two cities\n",
    "- Outer challenge\n",
    "\n",
    "### 3 Set theory clauses\n",
    "\n",
    "In this chapter, you'll learn more about set theory using Venn diagrams and get an introduction to union, union all, intersect, and except clauses. You'll finish by investigating semi joins and anti joins, which provide a nice introduction to subqueries.\n",
    "\n",
    "- State of the UNION\n",
    "- Union\n",
    "- Union (2)\n",
    "- Union all\n",
    "- INTERSECTional data science\n",
    "- Intersect\n",
    "- Intersect (2)\n",
    "- Review union and intersect\n",
    "- EXCEPTional\n",
    "- Except\n",
    "- Except (2)\n",
    "- Semi-joins and Anti-joins\n",
    "- Semi-join\n",
    "- Relating semi-join to a tweaked inner join\n",
    "- Diagnosing problems using anti-join\n",
    "- Set theory challenge\n",
    "\n",
    "### 4 Subqueries\n",
    "\n",
    "In this closing chapter, you'll learn how to use nested queries and you'll use what you’ve learned in this course to solve three challenge problems.\n",
    "\n",
    "- Subqueries inside WHERE and SELECT clauses\n",
    "- Subquery inside where\n",
    "- Subquery inside where (2)\n",
    "- Subquery inside select\n",
    "- Subquery inside FROM clause\n",
    "- Subquery inside from\n",
    "- Advanced subquery\n",
    "- Subquery challenge\n",
    "- Subquery review\n",
    "- Course review\n",
    "- Final challenge\n",
    "- Final challenge (2)\n",
    "- Final challenge (3)"
   ]
  }
 ],
 "metadata": {
  "kernelspec": {
   "display_name": "Python 3",
   "language": "python",
   "name": "python3"
  },
  "language_info": {
   "codemirror_mode": {
    "name": "ipython",
    "version": 3
   },
   "file_extension": ".py",
   "mimetype": "text/x-python",
   "name": "python",
   "nbconvert_exporter": "python",
   "pygments_lexer": "ipython3",
   "version": "3.8.5"
  },
  "toc": {
   "base_numbering": 1,
   "nav_menu": {},
   "number_sections": false,
   "sideBar": true,
   "skip_h1_title": false,
   "title_cell": "Table of Contents",
   "title_sidebar": "Contents",
   "toc_cell": false,
   "toc_position": {},
   "toc_section_display": true,
   "toc_window_display": false
  },
  "varInspector": {
   "cols": {
    "lenName": 16,
    "lenType": 16,
    "lenVar": 40
   },
   "kernels_config": {
    "python": {
     "delete_cmd_postfix": "",
     "delete_cmd_prefix": "del ",
     "library": "var_list.py",
     "varRefreshCmd": "print(var_dic_list())"
    },
    "r": {
     "delete_cmd_postfix": ") ",
     "delete_cmd_prefix": "rm(",
     "library": "var_list.r",
     "varRefreshCmd": "cat(var_dic_list()) "
    }
   },
   "types_to_exclude": [
    "module",
    "function",
    "builtin_function_or_method",
    "instance",
    "_Feature"
   ],
   "window_display": false
  }
 },
 "nbformat": 4,
 "nbformat_minor": 5
}
