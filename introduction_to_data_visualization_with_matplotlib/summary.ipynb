{
 "cells": [
  {
   "cell_type": "markdown",
   "id": "finite-staff",
   "metadata": {},
   "source": [
    "# Introduction to Data Visualization with Matplotlib\n",
    "\n",
    "- 4 hours\n",
    "- 14 Videos\n",
    "- 44 Exercises\n",
    "\n",
    "## Course Description\n",
    "\n",
    "Visualizing data in plots and figures exposes the underlying patterns in the data and provides insights. Good visualizations also help you communicate your data to others, and are useful to data analysts and other consumers of the data. In this course, you will learn how to use Matplotlib, a powerful Python data visualization library. Matplotlib provides the building blocks to create rich visualizations of many different kinds of datasets. You will learn how to create visualizations for different kinds of data and how to customize, automate, and share these visualizations.\n",
    "\n",
    "### 1 Introduction to Matplotlib\n",
    "\n",
    "This chapter introduces the Matplotlib visualization library and demonstrates how to use it with data.\n",
    "\n",
    "- Introduction to data visualization with Matplotlib\n",
    "- Using the matplotlib.pyplot interface\n",
    "- Adding data to an Axes object\n",
    "- Customizing your plots\n",
    "- Customizing data appearance\n",
    "- Customizing axis labels and adding titles\n",
    "- Small multiples\n",
    "- Creating a grid of subplots\n",
    "- Creating small multiples with plt.subplots\n",
    "- Small multiples with shared y axis\n",
    "\n",
    "### 2 Plotting time-series\n",
    "\n",
    "Time series data is data that is recorded. Visualizing this type of data helps clarify trends and illuminates relationships between data.\n",
    "\n",
    "- Plotting time-series data\n",
    "- Read data with a time index\n",
    "- Plot time-series data\n",
    "- Using a time index to zoom in\n",
    "- Plotting time-series with different variables\n",
    "- Plotting two variables\n",
    "- Defining a function that plots time-series data\n",
    "- Using a plotting function\n",
    "- Annotating time-series data\n",
    "- Annotating a plot of time-series data\n",
    "- Plotting time-series: putting it all together\n",
    "\n",
    "### 3 Quantitative comparisons and statistical visualizations\n",
    "\n",
    "Visualizations can be used to compare data in a quantitative manner. This chapter explains several methods for quantitative visualizations.\n",
    "\n",
    "- Quantitative comparisons: bar-charts\n",
    "- Bar chart\n",
    "- Stacked bar chart\n",
    "- Quantitative comparisons: histograms\n",
    "- Creating histograms\n",
    "- \"Step\" histogram\n",
    "- Statistical plotting\n",
    "- Adding error-bars to a bar chart\n",
    "- Adding error-bars to a plot\n",
    "- Creating boxplots\n",
    "- Quantitative comparisons: scatter plots\n",
    "- Simple scatter plot\n",
    "- Encoding time by color\n",
    "\n",
    "### 4 Sharing visualizations with others\n",
    "\n",
    "This chapter shows you how to share your visualizations with others: how to save your figures as files, how to adjust their look and feel, and how to automate their creation based on input data.\n",
    "\n",
    "- Preparing your figures to share with others\n",
    "- Selecting a style for printing\n",
    "- Switching between styles\n",
    "- Saving your visualizations\n",
    "- Saving a file several times\n",
    "- Save a figure with different sizes\n",
    "- Automating figures from data\n",
    "- Unique values of a column\n",
    "- Automate your visualization\n",
    "- Where to go next"
   ]
  }
 ],
 "metadata": {
  "kernelspec": {
   "display_name": "Python 3",
   "language": "python",
   "name": "python3"
  },
  "language_info": {
   "codemirror_mode": {
    "name": "ipython",
    "version": 3
   },
   "file_extension": ".py",
   "mimetype": "text/x-python",
   "name": "python",
   "nbconvert_exporter": "python",
   "pygments_lexer": "ipython3",
   "version": "3.8.5"
  },
  "toc": {
   "base_numbering": 1,
   "nav_menu": {},
   "number_sections": false,
   "sideBar": true,
   "skip_h1_title": false,
   "title_cell": "Table of Contents",
   "title_sidebar": "Contents",
   "toc_cell": false,
   "toc_position": {},
   "toc_section_display": true,
   "toc_window_display": false
  },
  "varInspector": {
   "cols": {
    "lenName": 16,
    "lenType": 16,
    "lenVar": 40
   },
   "kernels_config": {
    "python": {
     "delete_cmd_postfix": "",
     "delete_cmd_prefix": "del ",
     "library": "var_list.py",
     "varRefreshCmd": "print(var_dic_list())"
    },
    "r": {
     "delete_cmd_postfix": ") ",
     "delete_cmd_prefix": "rm(",
     "library": "var_list.r",
     "varRefreshCmd": "cat(var_dic_list()) "
    }
   },
   "types_to_exclude": [
    "module",
    "function",
    "builtin_function_or_method",
    "instance",
    "_Feature"
   ],
   "window_display": false
  }
 },
 "nbformat": 4,
 "nbformat_minor": 5
}
