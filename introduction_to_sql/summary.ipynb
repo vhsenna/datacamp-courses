{
 "cells": [
  {
   "cell_type": "markdown",
   "id": "inner-radius",
   "metadata": {},
   "source": [
    "# Introduction to SQL\n",
    "\n",
    "- 4 hours\n",
    "- 1 Videos\n",
    "- 41 Exercises\n",
    "\n",
    "## Course Description\n",
    "\n",
    "The role of a data scientist is to turn raw data into actionable insights. Much of the world's raw data—from electronic medical records to customer transaction histories—lives in organized collections of tables called relational databases. To be an effective data scientist, you must know how to wrangle and extract data from these databases using a language called SQL . This course teaches syntax in SQL shared by many types of databases, such as PostgreSQL, MySQL, SQL Server, and Oracle. This course teaches you everything you need to know to begin working with databases today!\n",
    "\n",
    "### 1 Selecting columns\n",
    "\n",
    "This chapter provides a brief introduction to working with relational databases. You'll learn about their structure, how to talk about them using database lingo, and how to begin an analysis using simple SQL commands to select and summarize columns from database tables.\n",
    "\n",
    "- Welcome to the course!\n",
    "- Onboarding | Tables\n",
    "- Onboarding | Query Result\n",
    "- Onboarding | Errors\n",
    "- Onboarding | Bullet Exercises\n",
    "- Beginning your SQL journey\n",
    "- SELECTing single columns\n",
    "- SELECTing multiple columns\n",
    "- SELECT DISTINCT\n",
    "- Learning to COUNT\n",
    "- Practice with COUNT\n",
    "\n",
    "### 2 Filtering rows\n",
    "\n",
    "This chapter builds on the first by teaching you how to filter tables for rows satisfying some criteria of interest. You'll learn how to use basic comparison operators, combine multiple criteria, match patterns in text, and much more.\n",
    "\n",
    "- Filtering results\n",
    "- Simple filtering of numeric values\n",
    "- Simple filtering of text\n",
    "- WHERE AND\n",
    "- WHERE AND OR\n",
    "- WHERE AND OR (2)\n",
    "- BETWEEN\n",
    "- BETWEEN (2)\n",
    "- WHERE IN\n",
    "- Introduction to NULL and IS NULL\n",
    "- NULL and IS NULL\n",
    "- LIKE and NOT LIKE\n",
    "\n",
    "### 3 Aggregate Functions\n",
    "\n",
    "This chapter teaches you how to use aggregate functions to summarize data and gain useful insights. You'll also learn about arithmetic in SQL and how to use aliases to make your results more readable.\n",
    "\n",
    "- Aggregate functions\n",
    "- Aggregate functions practice\n",
    "- Combining aggregate functions with WHERE\n",
    "- A note on arithmetic\n",
    "- It's AS simple AS aliasing\n",
    "- Even more aliasing\n",
    "\n",
    "### 4 Sorting and grouping\n",
    "\n",
    "This chapter provides a brief introduction to sorting and grouping your results.\n",
    "\n",
    "- ORDER BY\n",
    "- Sorting single columns\n",
    "- Sorting single columns (2)\n",
    "- Sorting single columns (DESC)\n",
    "- Sorting multiple columns\n",
    "- GROUP BY\n",
    "- GROUP BY practice\n",
    "- GROUP BY practice (2)\n",
    "- HAVING a great time\n",
    "- All together now\n",
    "- All together now (2)\n",
    "- A taste of things to come"
   ]
  }
 ],
 "metadata": {
  "kernelspec": {
   "display_name": "Python 3",
   "language": "python",
   "name": "python3"
  },
  "language_info": {
   "codemirror_mode": {
    "name": "ipython",
    "version": 3
   },
   "file_extension": ".py",
   "mimetype": "text/x-python",
   "name": "python",
   "nbconvert_exporter": "python",
   "pygments_lexer": "ipython3",
   "version": "3.8.5"
  },
  "toc": {
   "base_numbering": 1,
   "nav_menu": {},
   "number_sections": false,
   "sideBar": true,
   "skip_h1_title": false,
   "title_cell": "Table of Contents",
   "title_sidebar": "Contents",
   "toc_cell": false,
   "toc_position": {},
   "toc_section_display": true,
   "toc_window_display": false
  },
  "varInspector": {
   "cols": {
    "lenName": 16,
    "lenType": 16,
    "lenVar": 40
   },
   "kernels_config": {
    "python": {
     "delete_cmd_postfix": "",
     "delete_cmd_prefix": "del ",
     "library": "var_list.py",
     "varRefreshCmd": "print(var_dic_list())"
    },
    "r": {
     "delete_cmd_postfix": ") ",
     "delete_cmd_prefix": "rm(",
     "library": "var_list.r",
     "varRefreshCmd": "cat(var_dic_list()) "
    }
   },
   "types_to_exclude": [
    "module",
    "function",
    "builtin_function_or_method",
    "instance",
    "_Feature"
   ],
   "window_display": false
  }
 },
 "nbformat": 4,
 "nbformat_minor": 5
}
