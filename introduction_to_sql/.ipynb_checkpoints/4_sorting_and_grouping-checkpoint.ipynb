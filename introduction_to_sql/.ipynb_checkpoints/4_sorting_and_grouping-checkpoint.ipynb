{
 "cells": [
  {
   "cell_type": "markdown",
   "id": "virgin-quantum",
   "metadata": {},
   "source": [
    "## ORDER BY\n",
    "\n",
    "Congratulations on making it this far! You now know how to select and filter your results.\n",
    "\n",
    "In this chapter you'll learn how to sort and group your results to gain further insight. Let's go!\n",
    "\n",
    "In SQL, the `ORDER BY` keyword is used to sort results in ascending or descending order according to the values of one or more columns.\n",
    "\n",
    "By default `ORDER BY` will sort in ascending order. If you want to sort the results in descending order, you can use the `DESC` keyword. For example,\n",
    "\n",
    "```\n",
    "SELECT title\n",
    "FROM films\n",
    "ORDER BY release_year DESC;\n",
    "```\n",
    "\n",
    "gives you the titles of films sorted by release year, from newest to oldest.\n",
    "\n",
    "Instructions\n",
    "\n",
    "1. How do you think `ORDER BY` sorts a column of text values by default?"
   ]
  },
  {
   "cell_type": "markdown",
   "id": "selected-sweden",
   "metadata": {},
   "source": [
    "Alphabetically (A-Z)."
   ]
  },
  {
   "cell_type": "markdown",
   "id": "frank-sugar",
   "metadata": {},
   "source": [
    "## Sorting single columns\n",
    "\n",
    "Now that you understand how `ORDER BY` works, give these exercises a go!\n",
    "\n",
    "Instructions\n",
    "\n",
    "1. Get the names of people from the `people` table, sorted alphabetically.\n",
    "2. Get the names of people, sorted by birth date.\n",
    "3. Get the birth date and name for every person, in order of when they were born."
   ]
  },
  {
   "cell_type": "code",
   "execution_count": null,
   "id": "cubic-answer",
   "metadata": {},
   "outputs": [],
   "source": [
    "SELECT name\n",
    "FROM people\n",
    "ORDER BY name;\n",
    "\n",
    "# name\n",
    "# 50 Cent\n",
    "# A. Michael Baldwin\n",
    "# A. Raven Cruz\n",
    "# A.J. Buckley\n",
    "# A.J. DeLucia\n",
    "# ..."
   ]
  },
  {
   "cell_type": "code",
   "execution_count": null,
   "id": "prospective-alexandria",
   "metadata": {},
   "outputs": [],
   "source": [
    "SELECT name\n",
    "FROM people\n",
    "ORDER BY birthdate;\n",
    "\n",
    "# name\n",
    "# Robert Shaw\n",
    "# Lucille La Verne\n",
    "# Mary Carr\n",
    "# D.W. Griffith\n",
    "# Finlay Currie\n",
    "# ..."
   ]
  },
  {
   "cell_type": "code",
   "execution_count": null,
   "id": "buried-spoke",
   "metadata": {},
   "outputs": [],
   "source": [
    "SELECT birthdate, name\n",
    "FROM people\n",
    "ORDER BY birthdate;\n",
    "\n",
    "# birthdate    name\n",
    "# 1837-10-10   Robert Shaw\n",
    "# 1872-11-07   Lucille La Verne\n",
    "# 1874-03-14   Mary Carr\n",
    "# 1875-01-22   D.W. Griffith\n",
    "# 1878-01-20   Finlay Currie\n",
    "# ..."
   ]
  },
  {
   "cell_type": "markdown",
   "id": "median-ecuador",
   "metadata": {},
   "source": [
    "## Sorting single columns (2)\n",
    "\n",
    "Let's get some more practice with `ORDER BY`!\n",
    "\n",
    "Instructions\n",
    "\n",
    "1. Get the title of films released in 2000 or 2012, in the order they were released.\n",
    "2. Get all details for all films except those released in 2015 and order them by duration.\n",
    "3. Get the title and gross earnings for movies which begin with the letter 'M' and order the results alphabetically."
   ]
  },
  {
   "cell_type": "code",
   "execution_count": null,
   "id": "behind-brief",
   "metadata": {},
   "outputs": [],
   "source": [
    "SELECT title\n",
    "FROM films\n",
    "WHERE release_year IN (2000, 2012)\n",
    "ORDER BY release_year;\n",
    "\n",
    "# title\n",
    "# 102 Dalmatians\n",
    "# 28 Days\n",
    "# 3 Strikes\n",
    "# Aberdeen\n",
    "# All the Pretty Horses\n",
    "# ..."
   ]
  },
  {
   "cell_type": "code",
   "execution_count": null,
   "id": "satisfactory-computer",
   "metadata": {},
   "outputs": [],
   "source": [
    "SELECT *\n",
    "FROM films\n",
    "WHERE release_year <> 2015\n",
    "ORDER BY duration;\n",
    "\n",
    "# id     title                                                  release_year   country   duration     language   certification   gross    budget\n",
    "# 2926   The Touch                                              2007           USA       7            English    null            null     13000\n",
    "# 4098   Vessel                                                 2012           USA       14           English    null            null     null\n",
    "# 2501   Wal-Mart: The High Cost of Low Price                   2005           USA       20           English    Not Rated       null     1500000\n",
    "# 566    Marilyn Hotchkiss' Ballroom Dancing and Charm School   1990           USA       34           English    null            333658   34000\n",
    "# 2829   Jesus People                                           2007           USA       35           English    null            null     null\n",
    "# ..."
   ]
  },
  {
   "cell_type": "code",
   "execution_count": null,
   "id": "future-castle",
   "metadata": {},
   "outputs": [],
   "source": [
    "SELECT title, gross\n",
    "FROM films\n",
    "WHERE title LIKE 'M%'\n",
    "ORDER BY title;\n",
    "\n",
    "# title                  gross\n",
    "# MacGruber              8460995\n",
    "# Machete                26589953\n",
    "# Machete Kills          7268659\n",
    "# Machine Gun McCain     null\n",
    "# Machine Gun Preacher   537580\n",
    "# ..."
   ]
  },
  {
   "cell_type": "markdown",
   "id": "boolean-realtor",
   "metadata": {},
   "source": [
    "## Sorting single columns (DESC)\n",
    "\n",
    "To order results in _descending_ order, you can put the keyword `DESC` after your `ORDER BY`. For example, to get all the names in the `people` table, in reverse alphabetical order:\n",
    "\n",
    "```\n",
    "SELECT name\n",
    "FROM people\n",
    "ORDER BY name DESC;\n",
    "```\n",
    "\n",
    "Now practice using `ORDER BY` with `DESC` to sort single columns in descending order!\n",
    "\n",
    "Instructions\n",
    "\n",
    "1. Get the IMDB score and film ID for every film from the reviews table, sorted from highest to lowest score.\n",
    "2. Get the title for every film, in reverse order.\n",
    "3. Get the title and duration for every film, in order of longest duration to shortest."
   ]
  },
  {
   "cell_type": "code",
   "execution_count": null,
   "id": "heavy-silicon",
   "metadata": {},
   "outputs": [],
   "source": [
    "SELECT imdb_score, film_id\n",
    "FROM reviews\n",
    "ORDER BY imdb_score DESC;\n",
    "\n",
    "# imdb_score   film_id\n",
    "# 9.5          4960\n",
    "# 9.3          742\n",
    "# 9.2          178\n",
    "# 9.1          4866\n",
    "# 9            3110\n",
    "# ..."
   ]
  },
  {
   "cell_type": "code",
   "execution_count": null,
   "id": "collective-failing",
   "metadata": {},
   "outputs": [],
   "source": [
    "SELECT title\n",
    "FROM films\n",
    "ORDER BY title DESC;\n",
    "\n",
    "# title\n",
    "# Æon Flux\n",
    "# xXx: State of the Union\n",
    "# xXx\n",
    "# eXistenZ\n",
    "# [Rec] 2\n",
    "# ..."
   ]
  },
  {
   "cell_type": "code",
   "execution_count": null,
   "id": "consistent-casting",
   "metadata": {},
   "outputs": [],
   "source": [
    "SELECT title, duration\n",
    "FROM films\n",
    "ORDER BY duration DESC;\n",
    "\n",
    "# title                                          duration\n",
    "# Destiny                                        null\n",
    "# Should've Been Romeo                           null\n",
    "# Hum To Mohabbat Karega                         null\n",
    "# Harry Potter and the Deathly Hallows: Part I   null\n",
    "# Barfi                                          null\n",
    "# ..."
   ]
  },
  {
   "cell_type": "markdown",
   "id": "timely-ebony",
   "metadata": {},
   "source": [
    "## Sorting multiple columns\n",
    "\n",
    "`ORDER BY` can also be used to sort on multiple columns. It will sort by the first column specified, then sort by the next, then the next, and so on. For example,\n",
    "\n",
    "```\n",
    "SELECT birthdate, name\n",
    "FROM people\n",
    "ORDER BY birthdate, name;\n",
    "```\n",
    "\n",
    "sorts on birth dates first (oldest to newest) and then sorts on the names in alphabetical order. **The order of columns is important!**\n",
    "\n",
    "Try using `ORDER BY` to sort multiple columns! Remember, to specify multiple columns you separate the column names with a comma.\n",
    "\n",
    "Instructions\n",
    "\n",
    "1. Get the birth date and name of people in the `people` table, in order of when they were born and alphabetically by name.\n",
    "2. Get the release year, duration, and title of films ordered by their release year and duration.\n",
    "3. Get certifications, release years, and titles of films ordered by certification (alphabetically) and release year.\n",
    "4. Get the names and birthdates of people ordered by name and birth date."
   ]
  },
  {
   "cell_type": "code",
   "execution_count": null,
   "id": "acute-noise",
   "metadata": {},
   "outputs": [],
   "source": [
    "SELECT birthdate, name\n",
    "FROM people\n",
    "ORDER BY birthdate, name;\n",
    "\n",
    "# birthdate    name\n",
    "# 1837-10-10   Robert Shaw\n",
    "# 1872-11-07   Lucille La Verne\n",
    "# 1874-03-14   Mary Carr\n",
    "# 1875-01-22   D.W. Griffith\n",
    "# 1878-01-20   Finlay Currie\n",
    "# ..."
   ]
  },
  {
   "cell_type": "code",
   "execution_count": null,
   "id": "saved-safety",
   "metadata": {},
   "outputs": [],
   "source": [
    "SELECT release_year, duration, title\n",
    "FROM films\n",
    "ORDER BY release_year, duration;\n",
    "\n",
    "# release_year   duration   title\n",
    "# 1916           123        Intolerance: Love's Struggle Throughout the Ages\n",
    "# 1920           110        Over the Hill to the Poorhouse\n",
    "# 1925           151        The Big Parade\n",
    "# 1927           145        Metropolis\n",
    "# 1929           100        The Broadway Melody\n",
    "# ..."
   ]
  },
  {
   "cell_type": "code",
   "execution_count": null,
   "id": "developing-parliament",
   "metadata": {},
   "outputs": [],
   "source": [
    "SELECT certification, release_year, title\n",
    "FROM FILMS\n",
    "ORDER BY certification, release_year;\n",
    "\n",
    "# certification   release_year   title\n",
    "# Approved        1933           She Done Him Wrong\n",
    "# Approved        1935           Top Hat\n",
    "# Approved        1936           The Charge of the Light Brigade\n",
    "# Approved        1937           Snow White and the Seven Dwarfs\n",
    "# Approved        1937           The Prisoner of Zenda\n",
    "# ..."
   ]
  },
  {
   "cell_type": "code",
   "execution_count": null,
   "id": "rational-helicopter",
   "metadata": {},
   "outputs": [],
   "source": [
    "SELECT name, birthdate\n",
    "FROM people\n",
    "ORDER BY name, birthdate;\n",
    "\n",
    "# name                 birthdate\n",
    "# 50 Cent              1975-07-06\n",
    "# A. Michael Baldwin   1963-04-04\n",
    "# A. Raven Cruz        null\n",
    "# A.J. Buckley         1978-02-09\n",
    "# A.J. DeLucia         null\n",
    "# ..."
   ]
  },
  {
   "cell_type": "markdown",
   "id": "stopped-layer",
   "metadata": {},
   "source": [
    "## GROUP BY\n",
    "\n",
    "Now you know how to sort results! Often you'll need to aggregate results. For example, you might want to count the number of male and female employees in your company. Here, what you want is to group all the males together and count them, and group all the females together and count them. In SQL, `GROUP BY` allows you to group a result by one or more columns, like so:\n",
    "\n",
    "```\n",
    "SELECT sex, count(*)\n",
    "FROM employees\n",
    "GROUP BY sex;\n",
    "```\n",
    "\n",
    "This might give, for example:\n",
    "\n",
    "```\n",
    "sex      count\n",
    "male     15\n",
    "female   19\n",
    "```\n",
    "\n",
    "Commonly, `GROUP BY` is used with _aggregate functions_ like `COUNT()` or `MAX()`. Note that `GROUP BY` always goes after the `FROM` clause!\n",
    "\n",
    "Instructions\n",
    "\n",
    "1. What is `GROUP BY` used for?"
   ]
  },
  {
   "cell_type": "markdown",
   "id": "suburban-factory",
   "metadata": {},
   "source": [
    "Performing operations by group."
   ]
  },
  {
   "cell_type": "markdown",
   "id": "coastal-seminar",
   "metadata": {},
   "source": [
    "## GROUP BY practice\n",
    "\n",
    "As you've just seen, combining aggregate functions with `GROUP BY` can yield some powerful results!\n",
    "\n",
    "A word of warning: SQL will return an error if you try to `SELECT` a field that is not in your `GROUP BY` clause without using it to calculate some kind of value about the entire group.\n",
    "\n",
    "Note that you can combine `GROUP BY` with `ORDER BY` to group your results, calculate something about them, and then order your results. For example,\n",
    "\n",
    "```\n",
    "SELECT sex, count(*)\n",
    "FROM employees\n",
    "GROUP BY sex\n",
    "ORDER BY count DESC;\n",
    "```\n",
    "\n",
    "might return something like\n",
    "\n",
    "```\n",
    "sex      count\n",
    "female   19\n",
    "male     15\n",
    "```\n",
    "\n",
    "because there are more females at our company than males. Note also that `ORDER BY` always goes after `GROUP BY`. Let's try some exercises!\n",
    "\n",
    "Instructions\n",
    "\n",
    "1. Get the release year and count of films released in each year.\n",
    "2. Get the release year and average duration of all films, grouped by release year.\n",
    "3. Get the release year and largest budget for all films, grouped by release year.\n",
    "4. Get the IMDB score and count of film reviews grouped by IMDB score in the `reviews` table."
   ]
  },
  {
   "cell_type": "code",
   "execution_count": null,
   "id": "forty-tanzania",
   "metadata": {},
   "outputs": [],
   "source": [
    "SELECT release_year, COUNT(*)\n",
    "FROM films\n",
    "GROUP BY release_year;\n",
    "\n",
    "# release_year   count\n",
    "# 1954           5\n",
    "# 1988           31\n",
    "# 1959           3\n",
    "# 1964           10\n",
    "# 1969           10\n",
    "# ..."
   ]
  },
  {
   "cell_type": "code",
   "execution_count": null,
   "id": "adult-process",
   "metadata": {},
   "outputs": [],
   "source": [
    "SELECT release_year, AVG(duration)\n",
    "FROM films\n",
    "GROUP BY release_year;\n",
    "\n",
    "# release_year   avg\n",
    "# 1954           140.6000000000000000\n",
    "# 1988           107.0000000000000000\n",
    "# 1959           136.6666666666666667\n",
    "# 1964           119.4000000000000000\n",
    "# 1969           126.0000000000000000\n",
    "# ..."
   ]
  },
  {
   "cell_type": "code",
   "execution_count": null,
   "id": "north-moderator",
   "metadata": {},
   "outputs": [],
   "source": [
    "SELECT release_year, MAX(budget)\n",
    "FROM films\n",
    "GROUP BY release_year;\n",
    "\n",
    "# release_year   max\n",
    "# 1954           5000000\n",
    "# 1988           1100000000\n",
    "# 1959           5000000\n",
    "# 1964           19000000\n",
    "# 1969           20000000\n",
    "# ..."
   ]
  },
  {
   "cell_type": "code",
   "execution_count": null,
   "id": "otherwise-classics",
   "metadata": {},
   "outputs": [],
   "source": [
    "SELECT imdb_score, COUNT(*)\n",
    "FROM reviews\n",
    "GROUP BY imdb_score;\n",
    "\n",
    "# imdb_score   count\n",
    "# 5.7          117\n",
    "# 8.7          11\n",
    "# 9            2\n",
    "# 9.1          1\n",
    "# 8.3          37\n",
    "# ..."
   ]
  },
  {
   "cell_type": "markdown",
   "id": "typical-carbon",
   "metadata": {},
   "source": [
    "## GROUP BY practice (2)\n",
    "\n",
    "Now practice your new skills by combining `GROUP BY` and `ORDER BY` with some more aggregate functions!\n",
    "\n",
    "Make sure to always put the `ORDER BY` clause at the end of your query. You can't sort values that you haven't calculated yet!\n",
    "\n",
    "Instructions\n",
    "\n",
    "1. Get the release year and lowest gross earnings per release year.\n",
    "2. Get the language and total gross amount films in each language made.\n",
    "3. Get the country and total budget spent making movies in each country.\n",
    "4. Get the release year, country, and highest budget spent making a film for each year, for each country. Sort your results by release year and country.\n",
    "5. Get the country, release year, and lowest amount grossed per release year per country. Order your results by country and release year."
   ]
  },
  {
   "cell_type": "code",
   "execution_count": null,
   "id": "conventional-disaster",
   "metadata": {},
   "outputs": [],
   "source": [
    "SELECT release_year, MIN(gross)\n",
    "FROM films\n",
    "GROUP BY release_year;\n",
    "\n",
    "# release_year   min\n",
    "# 1954           269061\n",
    "# 1988           439162\n",
    "# 1959           25000000\n",
    "# 1964           12438\n",
    "# 1969           26893\n",
    "# ..."
   ]
  },
  {
   "cell_type": "code",
   "execution_count": null,
   "id": "grateful-corpus",
   "metadata": {},
   "outputs": [],
   "source": [
    "SELECT language, SUM(gross)\n",
    "FROM films\n",
    "GROUP BY language;\n",
    "\n",
    "# language   sum\n",
    "# Danish     2403857\n",
    "# Greek      110197\n",
    "# Dzongkha   505295\n",
    "# None       2601847\n",
    "# null       4319281\n",
    "# ..."
   ]
  },
  {
   "cell_type": "code",
   "execution_count": null,
   "id": "portuguese-attendance",
   "metadata": {},
   "outputs": [],
   "source": [
    "SELECT country, SUM(budget)\n",
    "FROM films\n",
    "GROUP BY country;\n",
    "\n",
    "# country        sum\n",
    "# null           3500000\n",
    "# Soviet Union   1000000\n",
    "# Indonesia      1100000\n",
    "# Italy          261350000\n",
    "# Cameroon       null\n",
    "# ..."
   ]
  },
  {
   "cell_type": "code",
   "execution_count": null,
   "id": "streaming-bubble",
   "metadata": {},
   "outputs": [],
   "source": [
    "SELECT release_year, country, MAX(budget)\n",
    "FROM films\n",
    "GROUP BY release_year, country\n",
    "ORDER BY release_year, country;\n",
    "\n",
    "# release_year   country   max\n",
    "# 1916           USA       385907\n",
    "# 1920           USA       100000\n",
    "# 1925           USA       245000\n",
    "# 1927           Germany   6000000\n",
    "# 1929           Germany   null\n",
    "# ..."
   ]
  },
  {
   "cell_type": "code",
   "execution_count": null,
   "id": "hollow-intention",
   "metadata": {},
   "outputs": [],
   "source": [
    "SELECT country, release_year, MIN(gross)\n",
    "FROM films\n",
    "GROUP BY country, release_year\n",
    "ORDER BY country, release_year;\n",
    "\n",
    "# country       release_year   min\n",
    "# Afghanistan   2003           1127331\n",
    "# Argentina     2000           1221261\n",
    "# Argentina     2004           304124\n",
    "# Argentina     2009           20167424\n",
    "# Aruba         1998           10076136\n",
    "# ..."
   ]
  },
  {
   "cell_type": "markdown",
   "id": "level-papua",
   "metadata": {},
   "source": [
    "## HAVING a great time\n",
    "\n",
    "In SQL, aggregate functions can't be used in `WHERE` clauses. For example, the following query is invalid:\n",
    "\n",
    "```\n",
    "SELECT release_year\n",
    "FROM films\n",
    "GROUP BY release_year\n",
    "WHERE COUNT(title) > 10;\n",
    "```\n",
    "\n",
    "This means that if you want to filter based on the result of an aggregate function, you need another way! That's where the HAVING clause comes in. For example,\n",
    "\n",
    "```\n",
    "SELECT release_year\n",
    "FROM films\n",
    "GROUP BY release_year\n",
    "HAVING COUNT(title) > 10;\n",
    "```\n",
    "\n",
    "shows only those years in which more than 10 films were released.\n",
    "\n",
    "Instructions\n",
    "\n",
    "1. In how many different years were more than 200 movies released?"
   ]
  },
  {
   "cell_type": "code",
   "execution_count": null,
   "id": "unlike-shame",
   "metadata": {},
   "outputs": [],
   "source": [
    "SELECT release_year\n",
    "FROM films\n",
    "GROUP BY release_year\n",
    "HAVING COUNT(title) > 200;\n",
    "\n",
    "# release_year\n",
    "# 2008\n",
    "# 2009\n",
    "# 2005\n",
    "# 2013\n",
    "# 2015\n",
    "# 2002\n",
    "# 2004\n",
    "# 2014\n",
    "# 2010\n",
    "# 2011\n",
    "# 2007\n",
    "# 2006\n",
    "# 2012"
   ]
  },
  {
   "cell_type": "markdown",
   "id": "hazardous-outside",
   "metadata": {},
   "source": [
    "## All together now\n",
    "\n",
    "Time to practice using `ORDER BY`, `GROUP BY` and `HAVING` together.\n",
    "\n",
    "Now you're going to write a query that returns the average budget and average gross earnings for films in each year after 1990, if the average budget is greater than $60 million.\n",
    "\n",
    "This is going to be a big query, but you can handle it!\n",
    "\n",
    "Instructions\n",
    "\n",
    "1. Get the release year, budget and gross earnings for each film in the films table.\n",
    "2. Modify your query so that only records with a `release_year` after 1990 are included.\n",
    "3. Remove the budget and gross columns, and group your results by release year.\n",
    "4. Modify your query to include the average budget and average gross earnings for the results you have so far. Alias the average budget as `avg_budget`; alias the average gross earnings as `avg_gross`.\n",
    "5. Modify your query so that only years with an average budget of greater than $60 million are included.\n",
    "6. Finally, modify your query to order the results from highest average gross earnings to lowest."
   ]
  },
  {
   "cell_type": "code",
   "execution_count": null,
   "id": "nonprofit-violence",
   "metadata": {},
   "outputs": [],
   "source": [
    "SELECT release_year, budget, gross\n",
    "FROM films;"
   ]
  },
  {
   "cell_type": "code",
   "execution_count": null,
   "id": "breeding-essex",
   "metadata": {},
   "outputs": [],
   "source": [
    "SELECT release_year, budget, gross\n",
    "FROM films\n",
    "WHERE release_year > 1990;"
   ]
  },
  {
   "cell_type": "code",
   "execution_count": null,
   "id": "liable-friend",
   "metadata": {},
   "outputs": [],
   "source": [
    "SELECT release_year\n",
    "FROM films\n",
    "WHERE release_year > 1990\n",
    "GROUP BY release_year;"
   ]
  },
  {
   "cell_type": "code",
   "execution_count": null,
   "id": "sorted-secret",
   "metadata": {},
   "outputs": [],
   "source": [
    "SELECT release_year,\n",
    "       AVG(budget) AS avg_budget,\n",
    "       AVG(gross) AS avg_gross\n",
    "FROM films\n",
    "WHERE release_year > 1990\n",
    "GROUP BY release_year;"
   ]
  },
  {
   "cell_type": "code",
   "execution_count": null,
   "id": "coated-supply",
   "metadata": {},
   "outputs": [],
   "source": [
    "SELECT release_year, \n",
    "       AVG(budget) AS avg_budget,\n",
    "       AVG(gross) AS avg_gross\n",
    "FROM films\n",
    "WHERE release_year > 1990\n",
    "GROUP BY release_year\n",
    "HAVING AVG(budget) > 60000000;"
   ]
  },
  {
   "cell_type": "code",
   "execution_count": null,
   "id": "tough-rehabilitation",
   "metadata": {},
   "outputs": [],
   "source": [
    "SELECT release_year, \n",
    "       AVG(budget) AS avg_budget, \n",
    "       AVG(gross) AS avg_gross\n",
    "FROM films\n",
    "WHERE release_year > 1990\n",
    "GROUP BY release_year\n",
    "HAVING AVG(budget) > 60000000\n",
    "ORDER BY AVG(gross) DESC;\n",
    "\n",
    "# release_year   avg_budget              avg_gross\n",
    "# 2005           70323938.231527093596   41159143.290640394089\n",
    "# 2006           93968929.577464788732   39237855.953703703704"
   ]
  },
  {
   "cell_type": "markdown",
   "id": "rough-flower",
   "metadata": {},
   "source": [
    "## All together now (2)\n",
    "\n",
    "Great work! Now try another large query. This time, all in one go!\n",
    "\n",
    "Remember, if you only want to return a certain number of results, you can use the `LIMIT` keyword to limit the number of rows returned\n",
    "\n",
    "Instructions\n",
    "\n",
    "1. Get the country, average budget, and average gross take of countries that have made more than 10 films. Order the result by country name, and limit the number of results displayed to 5. You should alias the averages as `avg_budget` and `avg_gross` respectively."
   ]
  },
  {
   "cell_type": "code",
   "execution_count": null,
   "id": "amateur-bacon",
   "metadata": {},
   "outputs": [],
   "source": [
    "-- select country, average budget, and average gross\n",
    "SELECT country,\n",
    "       AVG(budget) AS avg_budget,\n",
    "       AVG(GROSS) AS avg_gross\n",
    "-- from the films table\n",
    "FROM films\n",
    "-- group by country \n",
    "GROUP BY country\n",
    "-- where the country has more than 10 titles\n",
    "HAVING COUNT(country) > 10\n",
    "-- order by country\n",
    "ORDER BY country\n",
    "-- limit to only show 5 results\n",
    "LIMIT 5;\n",
    "\n",
    "# country     avg_budget              avg_gross\n",
    "# Australia   31172110.460000000000   40205909.571428571429\n",
    "# Canada      14798458.715596330275   22432066.680555555556\n",
    "# China       62219000.000000000000   14143040.736842105263\n",
    "# Denmark     13922222.222222222222   1418469.111111111111\n",
    "# France      30672034.615384615385   16350593.578512396694"
   ]
  },
  {
   "cell_type": "markdown",
   "id": "mathematical-inquiry",
   "metadata": {},
   "source": [
    "## A taste of things to come\n",
    "\n",
    "Congrats on making it to the end of the course! By now you should have a good understanding of the basics of SQL.\n",
    "\n",
    "There's one more concept we're going to introduce. You may have noticed that all your results so far have been from just one table, e.g. `films` or `people`.\n",
    "\n",
    "In the real world however, you will often want to query multiple tables. For example, what if you want to see the IMDB score for a particular movie?\n",
    "\n",
    "In this case, you'd want to get the ID of the movie from the `films` table and then use it to get IMDB information from the `reviews` table. In SQL, this concept is known as a **join**, and a basic join is shown in the editor to the right.\n",
    "\n",
    "The query in the editor gets the IMDB score for the film _To Kill a Mockingbird_! Cool right?\n",
    "\n",
    "As you can see, joins are incredibly useful and important to understand for anyone using SQL.\n",
    "\n",
    "We have a whole follow-up course dedicated to them called [Joining Data in PostgreSQL](https://www.datacamp.com/courses/joining-data-in-postgresql) for you to hone your database skills further!\n",
    "\n",
    "Instructions\n",
    "\n",
    "1. Submit the code in the editor and inspect the results.\n",
    "2. What is the IMDB score for the film _To Kill a Mockingbird_?"
   ]
  },
  {
   "cell_type": "code",
   "execution_count": null,
   "id": "underlying-netherlands",
   "metadata": {},
   "outputs": [],
   "source": [
    "SELECT title, imdb_score\n",
    "FROM films\n",
    "JOIN reviews\n",
    "ON films.id = reviews.film_id\n",
    "WHERE title = 'To Kill a Mockingbird';\n",
    "\n",
    "# title                   imdb_score\n",
    "# To Kill a Mockingbird   8.4"
   ]
  }
 ],
 "metadata": {
  "kernelspec": {
   "display_name": "Python 3",
   "language": "python",
   "name": "python3"
  },
  "language_info": {
   "codemirror_mode": {
    "name": "ipython",
    "version": 3
   },
   "file_extension": ".py",
   "mimetype": "text/x-python",
   "name": "python",
   "nbconvert_exporter": "python",
   "pygments_lexer": "ipython3",
   "version": "3.8.5"
  },
  "toc": {
   "base_numbering": 1,
   "nav_menu": {},
   "number_sections": false,
   "sideBar": true,
   "skip_h1_title": false,
   "title_cell": "Table of Contents",
   "title_sidebar": "Contents",
   "toc_cell": false,
   "toc_position": {},
   "toc_section_display": true,
   "toc_window_display": false
  },
  "varInspector": {
   "cols": {
    "lenName": 16,
    "lenType": 16,
    "lenVar": 40
   },
   "kernels_config": {
    "python": {
     "delete_cmd_postfix": "",
     "delete_cmd_prefix": "del ",
     "library": "var_list.py",
     "varRefreshCmd": "print(var_dic_list())"
    },
    "r": {
     "delete_cmd_postfix": ") ",
     "delete_cmd_prefix": "rm(",
     "library": "var_list.r",
     "varRefreshCmd": "cat(var_dic_list()) "
    }
   },
   "types_to_exclude": [
    "module",
    "function",
    "builtin_function_or_method",
    "instance",
    "_Feature"
   ],
   "window_display": false
  }
 },
 "nbformat": 4,
 "nbformat_minor": 5
}
