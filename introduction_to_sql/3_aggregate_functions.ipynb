{
 "cells": [
  {
   "cell_type": "markdown",
   "id": "palestinian-adoption",
   "metadata": {},
   "source": [
    "## Aggregate functions\n",
    "\n",
    "Often, you will want to perform some calculation on the data in a database. SQL provides a few functions, called _aggregate functions_, to help you out with this.\n",
    "\n",
    "For example,\n",
    "\n",
    "```\n",
    "SELECT AVG(budget)\n",
    "FROM films;\n",
    "```\n",
    "\n",
    "gives you the average value from the `budget` column of the `films` table. Similarly, the `MAX` function returns the highest budget:\n",
    "\n",
    "```\n",
    "SELECT MAX(budget)\n",
    "FROM films;\n",
    "```\n",
    "\n",
    "The `SUM` function returns the result of adding up the numeric values in a column:\n",
    "\n",
    "```\n",
    "SELECT SUM(budget)\n",
    "FROM films;\n",
    "```\n",
    "\n",
    "You can probably guess what the `MIN` function does! Now it's your turn to try out some SQL functions.\n",
    "\n",
    "Instructions\n",
    "\n",
    "1. Use the `SUM` function to get the total duration of all films.\n",
    "2. Get the average duration of all films.\n",
    "3. Get the duration of the shortest film.\n",
    "4. Get the duration of the longest film."
   ]
  },
  {
   "cell_type": "code",
   "execution_count": null,
   "id": "adjustable-philippines",
   "metadata": {},
   "outputs": [],
   "source": [
    "SELECT SUM(duration)\n",
    "FROM films;\n",
    "\n",
    "# sum\n",
    "# 534882"
   ]
  },
  {
   "cell_type": "code",
   "execution_count": null,
   "id": "reflected-shark",
   "metadata": {},
   "outputs": [],
   "source": [
    "SELECT AVG(duration)\n",
    "FROM films;\n",
    "\n",
    "# avg\n",
    "# 107.9479313824419778"
   ]
  },
  {
   "cell_type": "code",
   "execution_count": null,
   "id": "amazing-albuquerque",
   "metadata": {},
   "outputs": [],
   "source": [
    "SELECT MIN(duration)\n",
    "FROM films;\n",
    "\n",
    "# min\n",
    "# 7"
   ]
  },
  {
   "cell_type": "code",
   "execution_count": null,
   "id": "independent-public",
   "metadata": {},
   "outputs": [],
   "source": [
    "SELECT MAX(duration)\n",
    "FROM films;\n",
    "\n",
    "# max\n",
    "# 334"
   ]
  },
  {
   "cell_type": "markdown",
   "id": "ultimate-patrol",
   "metadata": {},
   "source": [
    "## Aggregate functions practice\n",
    "\n",
    "Good work. Aggregate functions are important to understand, so let's get some more practice!\n",
    "\n",
    "Instructions\n",
    "\n",
    "1. Use the `SUM` function to get the total amount grossed by all films.\n",
    "2. Get the average amount grossed by all films.\n",
    "3. Get the amount grossed by the worst performing film.\n",
    "4. Get the amount grossed by the best performing film."
   ]
  },
  {
   "cell_type": "code",
   "execution_count": null,
   "id": "pressed-bacteria",
   "metadata": {},
   "outputs": [],
   "source": [
    "SELECT SUM(gross)\n",
    "FROM films;\n",
    "\n",
    "# sum\n",
    "# 202515840134"
   ]
  },
  {
   "cell_type": "code",
   "execution_count": null,
   "id": "isolated-electronics",
   "metadata": {},
   "outputs": [],
   "source": [
    "SELECT AVG(gross)\n",
    "FROM films;\n",
    "\n",
    "# avg\n",
    "# 48705108.257335257335"
   ]
  },
  {
   "cell_type": "code",
   "execution_count": null,
   "id": "ruled-insertion",
   "metadata": {},
   "outputs": [],
   "source": [
    "SELECT MIN(gross)\n",
    "FROM films;\n",
    "\n",
    "# min\n",
    "# 162"
   ]
  },
  {
   "cell_type": "code",
   "execution_count": null,
   "id": "disciplinary-bleeding",
   "metadata": {},
   "outputs": [],
   "source": [
    "SELECT MAX(gross)\n",
    "FROM films;\n",
    "\n",
    "# max\n",
    "# 936627416"
   ]
  },
  {
   "cell_type": "markdown",
   "id": "technical-correspondence",
   "metadata": {},
   "source": [
    "## Combining aggregate functions with WHERE\n",
    "\n",
    "Aggregate functions can be combined with the `WHERE` clause to gain further insights from your data.\n",
    "\n",
    "For example, to get the total budget of movies made in the year 2010 or later:\n",
    "\n",
    "```\n",
    "SELECT SUM(budget)\n",
    "FROM films\n",
    "WHERE release_year >= 2010;\n",
    "```\n",
    "\n",
    "Now it's your turn!\n",
    "\n",
    "Instructions\n",
    "\n",
    "1. Use the `SUM` function to get the total amount grossed by all films made in the year 2000 or later.\n",
    "2. Get the average amount grossed by all films whose titles start with the letter 'A'.\n",
    "3. Get the amount grossed by the worst performing film in 1994.\n",
    "4. Get the amount grossed by the best performing film between 2000 and 2012, inclusive."
   ]
  },
  {
   "cell_type": "code",
   "execution_count": null,
   "id": "usual-arcade",
   "metadata": {},
   "outputs": [],
   "source": [
    "SELECT SUM(gross)\n",
    "FROM films\n",
    "WHERE release_year >= 2000;\n",
    "\n",
    "# sum\n",
    "# 150900926358"
   ]
  },
  {
   "cell_type": "code",
   "execution_count": null,
   "id": "sunrise-performer",
   "metadata": {},
   "outputs": [],
   "source": [
    "SELECT AVG(gross)\n",
    "FROM films\n",
    "WHERE title LIKE 'A%';\n",
    "\n",
    "# avg\n",
    "# 47893236.422480620155"
   ]
  },
  {
   "cell_type": "code",
   "execution_count": null,
   "id": "rental-exhibit",
   "metadata": {},
   "outputs": [],
   "source": [
    "SELECT MIN(gross)\n",
    "FROM films\n",
    "WHERE release_year = 1994;\n",
    "\n",
    "# min\n",
    "# 125169"
   ]
  },
  {
   "cell_type": "code",
   "execution_count": null,
   "id": "demonstrated-scout",
   "metadata": {},
   "outputs": [],
   "source": [
    "SELECT MAX(gross)\n",
    "FROM films\n",
    "WHERE release_year BETWEEN 2000 AND 2012;\n",
    "\n",
    "# max\n",
    "# 760505847"
   ]
  },
  {
   "cell_type": "markdown",
   "id": "damaged-rainbow",
   "metadata": {},
   "source": [
    "## A note on arithmetic\n",
    "\n",
    "In addition to using aggregate functions, you can perform basic arithmetic with symbols like `+`, `-`, `*`, and `/`.\n",
    "\n",
    "So, for example, this gives a result of `12`:\n",
    "\n",
    "```\n",
    "SELECT (4 * 3);\n",
    "```\n",
    "\n",
    "However, the following gives a result of `1`:\n",
    "\n",
    "```\n",
    "SELECT (4 / 3);\n",
    "```\n",
    "\n",
    "What's going on here?\n",
    "\n",
    "SQL assumes that if you divide an integer by an integer, you want to get an integer back. So be careful when dividing!\n",
    "\n",
    "If you want more precision when dividing, you can add decimal places to your numbers. For example,\n",
    "\n",
    "```\n",
    "SELECT (4.0 / 3.0) AS result;\n",
    "```\n",
    "\n",
    "gives you the result you would expect: `1.333`.\n",
    "\n",
    "Instructions\n",
    "\n",
    "1. What is the result of `SELECT (10 / 3);`?"
   ]
  },
  {
   "cell_type": "code",
   "execution_count": null,
   "id": "demonstrated-integer",
   "metadata": {},
   "outputs": [],
   "source": [
    "SELECT (10 / 3);\n",
    "\n",
    "# ?column?\n",
    "# 3"
   ]
  },
  {
   "cell_type": "markdown",
   "id": "portable-outreach",
   "metadata": {},
   "source": [
    "## It's AS simple AS aliasing\n",
    "\n",
    "You may have noticed in the first exercise of this chapter that the column name of your result was just the name of the function you used. For example,\n",
    "\n",
    "```\n",
    "SELECT MAX(budget)\n",
    "FROM films;\n",
    "```\n",
    "\n",
    "gives you a result with one column, named `max`. But what if you use two functions like this?\n",
    "\n",
    "```\n",
    "SELECT MAX(budget), MAX(duration)\n",
    "FROM films;\n",
    "```\n",
    "\n",
    "Well, then you'd have two columns named `max`, which isn't very useful!\n",
    "\n",
    "To avoid situations like this, SQL allows you to do something called _aliasing_. Aliasing simply means you assign a temporary name to something. To alias, you use the `AS` keyword, which you've already seen earlier in this course.\n",
    "\n",
    "For example, in the above example we could use aliases to make the result clearer:\n",
    "\n",
    "```\n",
    "SELECT MAX(budget) AS max_budget,\n",
    "       MAX(duration) AS max_duration\n",
    "FROM films;\n",
    "```\n",
    "\n",
    "Aliases are helpful for making results more readable!\n",
    "\n",
    "Instructions\n",
    "1. Get the title and net profit (the amount a film grossed, minus its budget) for all films. Alias the net profit as `net_profit`.\n",
    "2. Get the title and duration in hours for all films. The duration is in minutes, so you'll need to divide by 60.0 to get the duration in hours. Alias the duration in hours as `duration_hours`.\n",
    "3. Get the average duration in hours for all films, aliased as `avg_duration_hours`."
   ]
  },
  {
   "cell_type": "code",
   "execution_count": null,
   "id": "spread-second",
   "metadata": {},
   "outputs": [],
   "source": [
    "SELECT title, \n",
    "       gross - budget AS net_profit\n",
    "FROM films;\n",
    "\n",
    "# title                                              net_profit\n",
    "# Intolerance: Love's Struggle Throughout the Ages   null\n",
    "# Over the Hill to the Poorhouse                     2900000\n",
    "# The Big Parade                                     null\n",
    "# Metropolis                                         -5973565\n",
    "# Pandora's Box                                      null\n",
    "# ..."
   ]
  },
  {
   "cell_type": "code",
   "execution_count": null,
   "id": "nasty-nudist",
   "metadata": {},
   "outputs": [],
   "source": [
    "SELECT title,\n",
    "       duration / 60.0 AS duration_hours\n",
    "FROM films;\n",
    "\n",
    "# title                                              duration_hours\n",
    "# Intolerance: Love's Struggle Throughout the Ages   2.0500000000000000\n",
    "# Over the Hill to the Poorhouse                     1.8333333333333333\n",
    "# The Big Parade                                     2.5166666666666667\n",
    "# Metropolis                                         2.4166666666666667\n",
    "# Pandora's Box                                      1.8333333333333333\n",
    "# ..."
   ]
  },
  {
   "cell_type": "code",
   "execution_count": null,
   "id": "electric-purple",
   "metadata": {},
   "outputs": [],
   "source": [
    "SELECT AVG(duration) / 60.0 AS avg_duration_hours\n",
    "FROM films;\n",
    "\n",
    "# avg_duration_hours\n",
    "# 1.7991321897073663"
   ]
  },
  {
   "cell_type": "markdown",
   "id": "personal-station",
   "metadata": {},
   "source": [
    "## Even more aliasing\n",
    "\n",
    "Let's practice your newfound aliasing skills some more before moving on!\n",
    "\n",
    "**Recall:** SQL assumes that if you divide an integer by an integer, you want to get an integer back.\n",
    "\n",
    "This means that the following will erroneously result in `400.0`:\n",
    "\n",
    "```\n",
    "SELECT 45 / 10 * 100.0;\n",
    "```\n",
    "\n",
    "This is because `45 / 10` evaluates to an integer (`4`), and not a decimal number like we would expect.\n",
    "\n",
    "So when you're dividing make sure at least one of your numbers has a decimal place:\n",
    "\n",
    "```\n",
    "SELECT 45 * 100.0 / 10;\n",
    "```\n",
    "\n",
    "The above now gives the correct answer of `450.0` since the numerator (`45 * 100.0`) of the division is now a decimal!\n",
    "\n",
    "Instructions\n",
    "1. Get the percentage of `people` who are no longer alive. Alias the result as `percentage_dead`. Remember to use `100.0` and not `100`!\n",
    "2. Get the number of years between the newest film and oldest film. Alias the result as `difference`.\n",
    "3. Get the number of decades the `films` table covers. Alias the result as `number_of_decades`. The top half of your fraction should be enclosed in parentheses."
   ]
  },
  {
   "cell_type": "code",
   "execution_count": null,
   "id": "verbal-copying",
   "metadata": {},
   "outputs": [],
   "source": [
    "-- get the count(deathdate) and multiply by 100.0\n",
    "-- then divide by count(*) \n",
    "SELECT COUNT(deathdate) * 100.0 / COUNT(*) AS percentage_dead\n",
    "FROM people;\n",
    "\n",
    "# percentage_dead\n",
    "# 9.3723949029415267"
   ]
  },
  {
   "cell_type": "code",
   "execution_count": null,
   "id": "protective-investigation",
   "metadata": {},
   "outputs": [],
   "source": [
    "SELECT MAX(release_year) - MIN(release_year) AS difference\n",
    "FROM films;\n",
    "\n",
    "# difference\n",
    "# 100"
   ]
  },
  {
   "cell_type": "code",
   "execution_count": null,
   "id": "danish-inspection",
   "metadata": {},
   "outputs": [],
   "source": [
    "SELECT (MAX(release_year) - MIN(release_year)) / 10.0\n",
    "AS number_of_decades\n",
    "FROM films;\n",
    "\n",
    "# number_of_decades\n",
    "# 10.0000000000000000"
   ]
  }
 ],
 "metadata": {
  "kernelspec": {
   "display_name": "Python 3",
   "language": "python",
   "name": "python3"
  },
  "language_info": {
   "codemirror_mode": {
    "name": "ipython",
    "version": 3
   },
   "file_extension": ".py",
   "mimetype": "text/x-python",
   "name": "python",
   "nbconvert_exporter": "python",
   "pygments_lexer": "ipython3",
   "version": "3.8.5"
  },
  "toc": {
   "base_numbering": 1,
   "nav_menu": {},
   "number_sections": false,
   "sideBar": true,
   "skip_h1_title": false,
   "title_cell": "Table of Contents",
   "title_sidebar": "Contents",
   "toc_cell": false,
   "toc_position": {},
   "toc_section_display": true,
   "toc_window_display": false
  },
  "varInspector": {
   "cols": {
    "lenName": 16,
    "lenType": 16,
    "lenVar": 40
   },
   "kernels_config": {
    "python": {
     "delete_cmd_postfix": "",
     "delete_cmd_prefix": "del ",
     "library": "var_list.py",
     "varRefreshCmd": "print(var_dic_list())"
    },
    "r": {
     "delete_cmd_postfix": ") ",
     "delete_cmd_prefix": "rm(",
     "library": "var_list.r",
     "varRefreshCmd": "cat(var_dic_list()) "
    }
   },
   "types_to_exclude": [
    "module",
    "function",
    "builtin_function_or_method",
    "instance",
    "_Feature"
   ],
   "window_display": false
  }
 },
 "nbformat": 4,
 "nbformat_minor": 5
}
